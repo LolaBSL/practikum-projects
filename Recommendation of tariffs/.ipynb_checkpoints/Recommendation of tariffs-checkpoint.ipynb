{
 "cells": [
  {
   "cell_type": "markdown",
   "metadata": {},
   "source": [
    "# Рекомендация тарифов"
   ]
  },
  {
   "cell_type": "markdown",
   "metadata": {},
   "source": [
    "В вашем распоряжении данные о поведении клиентов, которые уже перешли на эти тарифы (из проекта курса «Статистический анализ данных»). Нужно построить модель для задачи классификации, которая выберет подходящий тариф. Предобработка данных не понадобится — вы её уже сделали.\n",
    "\n",
    "Постройте модель с максимально большим значением *accuracy*. Чтобы сдать проект успешно, нужно довести долю правильных ответов по крайней мере до 0.75. Проверьте *accuracy* на тестовой выборке самостоятельно."
   ]
  },
  {
   "cell_type": "markdown",
   "metadata": {},
   "source": [
    "## Откройте и изучите файл"
   ]
  },
  {
   "cell_type": "code",
   "execution_count": 1,
   "metadata": {},
   "outputs": [],
   "source": [
    "import pandas as pd\n",
    "from sklearn.tree import DecisionTreeClassifier\n",
    "from sklearn.ensemble import RandomForestClassifier\n",
    "from sklearn.linear_model import LinearRegression\n",
    "from sklearn.model_selection import train_test_split\n",
    "from sklearn.metrics import mean_squared_error\n",
    "from sklearn.metrics import accuracy_score\n",
    "from joblib import dump\n",
    "from sklearn.linear_model import LogisticRegression \n",
    "import numpy as np\n",
    "from sklearn.dummy import DummyClassifier"
   ]
  },
  {
   "cell_type": "code",
   "execution_count": 2,
   "metadata": {},
   "outputs": [
    {
     "data": {
      "text/html": [
       "<div>\n",
       "<style scoped>\n",
       "    .dataframe tbody tr th:only-of-type {\n",
       "        vertical-align: middle;\n",
       "    }\n",
       "\n",
       "    .dataframe tbody tr th {\n",
       "        vertical-align: top;\n",
       "    }\n",
       "\n",
       "    .dataframe thead th {\n",
       "        text-align: right;\n",
       "    }\n",
       "</style>\n",
       "<table border=\"1\" class=\"dataframe\">\n",
       "  <thead>\n",
       "    <tr style=\"text-align: right;\">\n",
       "      <th></th>\n",
       "      <th>calls</th>\n",
       "      <th>minutes</th>\n",
       "      <th>messages</th>\n",
       "      <th>mb_used</th>\n",
       "      <th>is_ultra</th>\n",
       "    </tr>\n",
       "  </thead>\n",
       "  <tbody>\n",
       "    <tr>\n",
       "      <th>0</th>\n",
       "      <td>40.0</td>\n",
       "      <td>311.90</td>\n",
       "      <td>83.0</td>\n",
       "      <td>19915.42</td>\n",
       "      <td>0</td>\n",
       "    </tr>\n",
       "    <tr>\n",
       "      <th>1</th>\n",
       "      <td>85.0</td>\n",
       "      <td>516.75</td>\n",
       "      <td>56.0</td>\n",
       "      <td>22696.96</td>\n",
       "      <td>0</td>\n",
       "    </tr>\n",
       "    <tr>\n",
       "      <th>2</th>\n",
       "      <td>77.0</td>\n",
       "      <td>467.66</td>\n",
       "      <td>86.0</td>\n",
       "      <td>21060.45</td>\n",
       "      <td>0</td>\n",
       "    </tr>\n",
       "    <tr>\n",
       "      <th>3</th>\n",
       "      <td>106.0</td>\n",
       "      <td>745.53</td>\n",
       "      <td>81.0</td>\n",
       "      <td>8437.39</td>\n",
       "      <td>1</td>\n",
       "    </tr>\n",
       "    <tr>\n",
       "      <th>4</th>\n",
       "      <td>66.0</td>\n",
       "      <td>418.74</td>\n",
       "      <td>1.0</td>\n",
       "      <td>14502.75</td>\n",
       "      <td>0</td>\n",
       "    </tr>\n",
       "    <tr>\n",
       "      <th>...</th>\n",
       "      <td>...</td>\n",
       "      <td>...</td>\n",
       "      <td>...</td>\n",
       "      <td>...</td>\n",
       "      <td>...</td>\n",
       "    </tr>\n",
       "    <tr>\n",
       "      <th>3209</th>\n",
       "      <td>122.0</td>\n",
       "      <td>910.98</td>\n",
       "      <td>20.0</td>\n",
       "      <td>35124.90</td>\n",
       "      <td>1</td>\n",
       "    </tr>\n",
       "    <tr>\n",
       "      <th>3210</th>\n",
       "      <td>25.0</td>\n",
       "      <td>190.36</td>\n",
       "      <td>0.0</td>\n",
       "      <td>3275.61</td>\n",
       "      <td>0</td>\n",
       "    </tr>\n",
       "    <tr>\n",
       "      <th>3211</th>\n",
       "      <td>97.0</td>\n",
       "      <td>634.44</td>\n",
       "      <td>70.0</td>\n",
       "      <td>13974.06</td>\n",
       "      <td>0</td>\n",
       "    </tr>\n",
       "    <tr>\n",
       "      <th>3212</th>\n",
       "      <td>64.0</td>\n",
       "      <td>462.32</td>\n",
       "      <td>90.0</td>\n",
       "      <td>31239.78</td>\n",
       "      <td>0</td>\n",
       "    </tr>\n",
       "    <tr>\n",
       "      <th>3213</th>\n",
       "      <td>80.0</td>\n",
       "      <td>566.09</td>\n",
       "      <td>6.0</td>\n",
       "      <td>29480.52</td>\n",
       "      <td>1</td>\n",
       "    </tr>\n",
       "  </tbody>\n",
       "</table>\n",
       "<p>3214 rows × 5 columns</p>\n",
       "</div>"
      ],
      "text/plain": [
       "      calls  minutes  messages   mb_used  is_ultra\n",
       "0      40.0   311.90      83.0  19915.42         0\n",
       "1      85.0   516.75      56.0  22696.96         0\n",
       "2      77.0   467.66      86.0  21060.45         0\n",
       "3     106.0   745.53      81.0   8437.39         1\n",
       "4      66.0   418.74       1.0  14502.75         0\n",
       "...     ...      ...       ...       ...       ...\n",
       "3209  122.0   910.98      20.0  35124.90         1\n",
       "3210   25.0   190.36       0.0   3275.61         0\n",
       "3211   97.0   634.44      70.0  13974.06         0\n",
       "3212   64.0   462.32      90.0  31239.78         0\n",
       "3213   80.0   566.09       6.0  29480.52         1\n",
       "\n",
       "[3214 rows x 5 columns]"
      ]
     },
     "metadata": {},
     "output_type": "display_data"
    }
   ],
   "source": [
    "df = pd.read_csv('/datasets/users_behavior.csv')\n",
    "display(df)"
   ]
  },
  {
   "cell_type": "code",
   "execution_count": 3,
   "metadata": {},
   "outputs": [
    {
     "name": "stdout",
     "output_type": "stream",
     "text": [
      "<class 'pandas.core.frame.DataFrame'>\n",
      "RangeIndex: 3214 entries, 0 to 3213\n",
      "Data columns (total 5 columns):\n",
      " #   Column    Non-Null Count  Dtype  \n",
      "---  ------    --------------  -----  \n",
      " 0   calls     3214 non-null   float64\n",
      " 1   minutes   3214 non-null   float64\n",
      " 2   messages  3214 non-null   float64\n",
      " 3   mb_used   3214 non-null   float64\n",
      " 4   is_ultra  3214 non-null   int64  \n",
      "dtypes: float64(4), int64(1)\n",
      "memory usage: 125.7 KB\n"
     ]
    }
   ],
   "source": [
    "df.info()"
   ]
  },
  {
   "cell_type": "markdown",
   "metadata": {},
   "source": [
    "В нашем датафрейме достаточное кол-во данных. ***Признаками*** у нас являются столбцы с данными:\n",
    "- Кол-во звонков\n",
    "- Минуты\n",
    "- Сообщения\n",
    "- Кол-во мб \n",
    "\n",
    "А ***целевым признаком*** является: \n",
    "- Тариф\n",
    "\n",
    "Соответственно нам необходимо на основании признаков предсказать какой тариф подойдет пользователям (целевой признак)."
   ]
  },
  {
   "cell_type": "markdown",
   "metadata": {},
   "source": [
    "## Разбейте данные на выборки"
   ]
  },
  {
   "cell_type": "code",
   "execution_count": 4,
   "metadata": {},
   "outputs": [
    {
     "name": "stdout",
     "output_type": "stream",
     "text": [
      "(3214, 4) (2056, 4) (643, 4) (515, 4)\n",
      "(3214,) (2056,) (643,) (515,)\n"
     ]
    }
   ],
   "source": [
    "features = df.drop(['is_ultra'], axis=1)\n",
    "target = df['is_ultra']\n",
    "features_train,  features_test, target_train, target_test = train_test_split(features, target, \n",
    "                                                                              test_size=0.2, random_state=12345)\n",
    "features_train,  features_valid, target_train, target_valid = train_test_split(features_train, target_train, \n",
    "                                                                             test_size=0.2, random_state=12345)\n",
    "print(features.shape, features_train.shape, features_test.shape, features_valid.shape)\n",
    "print(target.shape, target_train.shape, target_test.shape, target_valid.shape)"
   ]
  },
  {
   "cell_type": "markdown",
   "metadata": {},
   "source": [
    "Разбиваем данные на тестовую, обучающую и валидационную. в пропорции 3:1:1"
   ]
  },
  {
   "cell_type": "markdown",
   "metadata": {},
   "source": [
    "## Исследуйте модели"
   ]
  },
  {
   "cell_type": "markdown",
   "metadata": {},
   "source": [
    "### Модель: Дерево решений"
   ]
  },
  {
   "cell_type": "code",
   "execution_count": 5,
   "metadata": {},
   "outputs": [
    {
     "name": "stdout",
     "output_type": "stream",
     "text": [
      "Accuracy лучшей модели: 0.7650485436893204 Глубина дерева: 9\n"
     ]
    }
   ],
   "source": [
    "best_model = None\n",
    "best_result = 0\n",
    "for depth in range(1, 10):\n",
    "    model = DecisionTreeClassifier(random_state=12345, max_depth=depth)\n",
    "    model.fit(features_train, target_train)\n",
    "    predictions = model.predict(features_valid)\n",
    "    result = accuracy_score(target_valid, predictions)\n",
    "    if result > best_result:\n",
    "        best_model = model\n",
    "        best_result = result\n",
    "        \n",
    "print(\"Accuracy лучшей модели:\", best_result, \"Глубина дерева:\", depth)"
   ]
  },
  {
   "cell_type": "markdown",
   "metadata": {},
   "source": [
    "Модель Дерево решений с глубиной дерева 9 имеет неплохую обучаемость на валидационной выборке в 0,76."
   ]
  },
  {
   "cell_type": "code",
   "execution_count": 6,
   "metadata": {},
   "outputs": [
    {
     "name": "stdout",
     "output_type": "stream",
     "text": [
      "Accuracy лучшей модели: 0.7747572815533981 Глубина дерева: 9\n"
     ]
    }
   ],
   "source": [
    "best_model = None\n",
    "best_result = 0\n",
    "for depth in range(1, 10):\n",
    "    model = DecisionTreeClassifier(random_state=12345, criterion='entropy', max_depth=depth)\n",
    "    model.fit(features_train, target_train)\n",
    "    predictions = model.predict(features_valid)\n",
    "    result = accuracy_score(target_valid, predictions)\n",
    "    if result > best_result:\n",
    "        best_model = model\n",
    "        best_result = result\n",
    "        \n",
    "print(\"Accuracy лучшей модели:\", best_result, \"Глубина дерева:\", depth)"
   ]
  },
  {
   "cell_type": "markdown",
   "metadata": {},
   "source": [
    "### Модель: Случайный лес"
   ]
  },
  {
   "cell_type": "code",
   "execution_count": 7,
   "metadata": {},
   "outputs": [
    {
     "name": "stdout",
     "output_type": "stream",
     "text": [
      "Accuracy наилучшей модели на валидационной выборке: 0.7844660194174757 Количество деревьев: 91\n"
     ]
    }
   ],
   "source": [
    "best_model = None\n",
    "best_result = 0\n",
    "for est in range(1, 100, 10):\n",
    "    model = RandomForestClassifier(random_state=12345, n_estimators=est) \n",
    "    model.fit(features_train, target_train) \n",
    "    result = model.score(features_valid, target_valid)\n",
    "    if result > best_result:\n",
    "        best_model = model\n",
    "        best_result = result\n",
    "print(\"Accuracy наилучшей модели на валидационной выборке:\", best_result, \"Количество деревьев:\", est)"
   ]
  },
  {
   "cell_type": "markdown",
   "metadata": {},
   "source": [
    "Модель Случайный лес с количеством деревьев 91 имеет лучшую обучаемость на валидационной выборке в 0,78.\n"
   ]
  },
  {
   "cell_type": "code",
   "execution_count": 8,
   "metadata": {},
   "outputs": [
    {
     "name": "stdout",
     "output_type": "stream",
     "text": [
      "Accuracy наилучшей модели на валидационной выборке: 0.7805825242718447 Количество деревьев: 91\n"
     ]
    }
   ],
   "source": [
    "best_model = None\n",
    "best_result = 0\n",
    "for est in range(1, 100, 10):\n",
    "    model = RandomForestClassifier(random_state=12345, criterion='entropy', n_estimators=est) \n",
    "    model.fit(features_train, target_train) \n",
    "    result = model.score(features_valid, target_valid)\n",
    "    if result > best_result:\n",
    "        best_model = model\n",
    "        best_result = result\n",
    "print(\"Accuracy наилучшей модели на валидационной выборке:\", best_result, \"Количество деревьев:\", est)"
   ]
  },
  {
   "cell_type": "markdown",
   "metadata": {},
   "source": [
    "С критерием Энтропия результат совсем ненамного , но хуже"
   ]
  },
  {
   "cell_type": "markdown",
   "metadata": {},
   "source": [
    "### Модель: Логистическая регрессия"
   ]
  },
  {
   "cell_type": "code",
   "execution_count": 9,
   "metadata": {},
   "outputs": [
    {
     "name": "stdout",
     "output_type": "stream",
     "text": [
      "0.7165048543689321\n"
     ]
    }
   ],
   "source": [
    "model = LogisticRegression(random_state=12345, solver='lbfgs', max_iter=1000)\n",
    "model.fit(features_train, target_train) \n",
    "model.predict(features_valid)\n",
    "print(model.score(features_valid, target_valid))"
   ]
  },
  {
   "cell_type": "code",
   "execution_count": 10,
   "metadata": {},
   "outputs": [
    {
     "name": "stdout",
     "output_type": "stream",
     "text": [
      "0.7165048543689321\n"
     ]
    },
    {
     "name": "stderr",
     "output_type": "stream",
     "text": [
      "/opt/conda/lib/python3.9/site-packages/scipy/optimize/_linesearch.py:456: LineSearchWarning: The line search algorithm did not converge\n",
      "  warn('The line search algorithm did not converge', LineSearchWarning)\n",
      "/opt/conda/lib/python3.9/site-packages/scipy/optimize/_linesearch.py:305: LineSearchWarning: The line search algorithm did not converge\n",
      "  warn('The line search algorithm did not converge', LineSearchWarning)\n"
     ]
    }
   ],
   "source": [
    "model = LogisticRegression(random_state=12345, solver='newton-cg', max_iter=1000)\n",
    "model.fit(features_train, target_train) \n",
    "model.predict(features_valid)\n",
    "print(model.score(features_valid, target_valid))"
   ]
  },
  {
   "cell_type": "code",
   "execution_count": 11,
   "metadata": {},
   "outputs": [
    {
     "name": "stdout",
     "output_type": "stream",
     "text": [
      "0.683495145631068\n"
     ]
    },
    {
     "name": "stderr",
     "output_type": "stream",
     "text": [
      "/opt/conda/lib/python3.9/site-packages/sklearn/linear_model/_sag.py:328: ConvergenceWarning: The max_iter was reached which means the coef_ did not converge\n",
      "  warnings.warn(\"The max_iter was reached which means \"\n"
     ]
    }
   ],
   "source": [
    "model = LogisticRegression(random_state=12345, solver='sag', max_iter=1000)\n",
    "model.fit(features_train, target_train) \n",
    "model.predict(features_valid)\n",
    "print(model.score(features_valid, target_valid))"
   ]
  },
  {
   "cell_type": "code",
   "execution_count": 12,
   "metadata": {},
   "outputs": [
    {
     "name": "stdout",
     "output_type": "stream",
     "text": [
      "0.6796116504854369\n"
     ]
    },
    {
     "name": "stderr",
     "output_type": "stream",
     "text": [
      "/opt/conda/lib/python3.9/site-packages/sklearn/linear_model/_sag.py:328: ConvergenceWarning: The max_iter was reached which means the coef_ did not converge\n",
      "  warnings.warn(\"The max_iter was reached which means \"\n"
     ]
    }
   ],
   "source": [
    "model = LogisticRegression(random_state=12345, solver='saga', max_iter=1000)\n",
    "model.fit(features_train, target_train) \n",
    "model.predict(features_valid)\n",
    "print(model.score(features_valid, target_valid))"
   ]
  },
  {
   "cell_type": "markdown",
   "metadata": {},
   "source": [
    "Модель Логистическая регрессия имеет худшую обучаемость на валидационной выборке в 0,71."
   ]
  },
  {
   "cell_type": "markdown",
   "metadata": {},
   "source": [
    "## Проверьте модель на тестовой выборке"
   ]
  },
  {
   "cell_type": "markdown",
   "metadata": {},
   "source": [
    "Объединяем обучающие и валидационные данные для обучения на тест"
   ]
  },
  {
   "cell_type": "code",
   "execution_count": 13,
   "metadata": {},
   "outputs": [
    {
     "name": "stdout",
     "output_type": "stream",
     "text": [
      "(2571, 4)\n"
     ]
    },
    {
     "data": {
      "text/plain": [
       "(2571, 1)"
      ]
     },
     "execution_count": 13,
     "metadata": {},
     "output_type": "execute_result"
    }
   ],
   "source": [
    "features_train_test = pd.DataFrame(features_valid.append(features_train, \n",
    "                  ignore_index = True))\n",
    "target_train_test = pd.DataFrame(target_valid.append(target_train, \n",
    "                  ignore_index = True))\n",
    "print(features_train_test.shape)\n",
    "target_train_test.shape"
   ]
  },
  {
   "cell_type": "code",
   "execution_count": 24,
   "metadata": {},
   "outputs": [
    {
     "name": "stderr",
     "output_type": "stream",
     "text": [
      "/tmp/ipykernel_48/3882401320.py:2: DataConversionWarning: A column-vector y was passed when a 1d array was expected. Please change the shape of y to (n_samples,), for example using ravel().\n",
      "  model.fit(features_train_test, target_train_test)\n"
     ]
    },
    {
     "name": "stdout",
     "output_type": "stream",
     "text": [
      "Accuracy: 0.7822706065318819\n"
     ]
    }
   ],
   "source": [
    "model = RandomForestClassifier(random_state=12345, n_estimators=91)\n",
    "model.fit(features_train_test, target_train_test) \n",
    "predictions = model.predict(features_test)\n",
    "accuracy = accuracy_score(target_test, predictions)\n",
    "\n",
    "print(\"Accuracy:\", accuracy)\n"
   ]
  },
  {
   "cell_type": "markdown",
   "metadata": {},
   "source": [
    "Как мы видим модель Случайный лес показывает отличный результат на тестовой выборке"
   ]
  },
  {
   "cell_type": "markdown",
   "metadata": {},
   "source": [
    "## (бонус) Проверьте модели на адекватность"
   ]
  },
  {
   "cell_type": "code",
   "execution_count": 23,
   "metadata": {},
   "outputs": [
    {
     "name": "stderr",
     "output_type": "stream",
     "text": [
      "/tmp/ipykernel_48/2727482594.py:2: DataConversionWarning: A column-vector y was passed when a 1d array was expected. Please change the shape of y to (n_samples,), for example using ravel().\n",
      "  model.fit(features_train_test, target_train_test)\n"
     ]
    },
    {
     "data": {
      "text/plain": [
       "0.7822706065318819"
      ]
     },
     "execution_count": 23,
     "metadata": {},
     "output_type": "execute_result"
    }
   ],
   "source": [
    "model = RandomForestClassifier(random_state=12345, n_estimators=91)\n",
    "model.fit(features_train_test, target_train_test) \n",
    "model.score(features_test, target_test)"
   ]
  },
  {
   "cell_type": "code",
   "execution_count": 22,
   "metadata": {},
   "outputs": [
    {
     "data": {
      "text/plain": [
       "0.6951788491446346"
      ]
     },
     "execution_count": 22,
     "metadata": {},
     "output_type": "execute_result"
    }
   ],
   "source": [
    "clf = DummyClassifier(strategy='most_frequent', random_state=0)\n",
    "clf.fit(features_train_test, target_train_test)\n",
    "DummyClassifier(random_state=0, strategy='most_frequent')\n",
    "clf.score(features_test, target_test)\n"
   ]
  }
 ],
 "metadata": {
  "ExecuteTimeLog": [
   {
    "duration": 46,
    "start_time": "2022-11-19T17:11:01.333Z"
   },
   {
    "duration": 1047,
    "start_time": "2022-11-19T17:11:21.305Z"
   },
   {
    "duration": 135,
    "start_time": "2022-11-19T17:11:22.354Z"
   },
   {
    "duration": 12,
    "start_time": "2022-11-19T17:27:01.830Z"
   },
   {
    "duration": 67,
    "start_time": "2022-11-19T17:39:08.480Z"
   },
   {
    "duration": 6,
    "start_time": "2022-11-19T17:39:18.591Z"
   },
   {
    "duration": 11,
    "start_time": "2022-11-19T18:05:12.353Z"
   },
   {
    "duration": 1076,
    "start_time": "2022-11-19T18:05:28.875Z"
   },
   {
    "duration": 48,
    "start_time": "2022-11-19T18:05:29.953Z"
   },
   {
    "duration": 11,
    "start_time": "2022-11-19T18:05:30.003Z"
   },
   {
    "duration": 9,
    "start_time": "2022-11-19T18:05:30.015Z"
   },
   {
    "duration": 124,
    "start_time": "2022-11-19T18:05:30.025Z"
   },
   {
    "duration": 2,
    "start_time": "2022-11-19T18:05:38.954Z"
   },
   {
    "duration": 38,
    "start_time": "2022-11-19T18:05:40.412Z"
   },
   {
    "duration": 10,
    "start_time": "2022-11-19T18:05:42.451Z"
   },
   {
    "duration": 6,
    "start_time": "2022-11-19T18:05:45.172Z"
   },
   {
    "duration": 10,
    "start_time": "2022-11-19T18:05:47.175Z"
   },
   {
    "duration": 4,
    "start_time": "2022-11-19T18:06:03.879Z"
   },
   {
    "duration": 1043,
    "start_time": "2022-11-19T18:06:10.925Z"
   },
   {
    "duration": 47,
    "start_time": "2022-11-19T18:06:11.970Z"
   },
   {
    "duration": 9,
    "start_time": "2022-11-19T18:06:12.018Z"
   },
   {
    "duration": 8,
    "start_time": "2022-11-19T18:06:12.029Z"
   },
   {
    "duration": 113,
    "start_time": "2022-11-19T18:06:12.038Z"
   },
   {
    "duration": 3,
    "start_time": "2022-11-19T18:06:51.867Z"
   },
   {
    "duration": 14,
    "start_time": "2022-11-19T18:06:56.064Z"
   },
   {
    "duration": 2,
    "start_time": "2022-11-19T18:07:14.103Z"
   },
   {
    "duration": 17,
    "start_time": "2022-11-19T18:07:17.489Z"
   },
   {
    "duration": 14,
    "start_time": "2022-11-19T18:07:47.542Z"
   },
   {
    "duration": 1032,
    "start_time": "2022-11-19T18:20:50.914Z"
   },
   {
    "duration": 48,
    "start_time": "2022-11-19T18:20:51.948Z"
   },
   {
    "duration": 11,
    "start_time": "2022-11-19T18:20:51.998Z"
   },
   {
    "duration": 38,
    "start_time": "2022-11-19T18:20:52.011Z"
   },
   {
    "duration": 127,
    "start_time": "2022-11-19T18:20:52.051Z"
   },
   {
    "duration": 16,
    "start_time": "2022-11-19T18:21:30.379Z"
   },
   {
    "duration": 36,
    "start_time": "2022-11-19T18:24:01.989Z"
   },
   {
    "duration": 73,
    "start_time": "2022-11-20T15:41:09.635Z"
   },
   {
    "duration": 1113,
    "start_time": "2022-11-20T15:41:17.987Z"
   },
   {
    "duration": 151,
    "start_time": "2022-11-20T15:41:19.103Z"
   },
   {
    "duration": 16,
    "start_time": "2022-11-20T15:41:19.256Z"
   },
   {
    "duration": 9,
    "start_time": "2022-11-20T15:41:19.274Z"
   },
   {
    "duration": 85,
    "start_time": "2022-11-20T15:41:19.285Z"
   },
   {
    "duration": 80,
    "start_time": "2022-11-20T15:45:20.982Z"
   },
   {
    "duration": 76,
    "start_time": "2022-11-20T15:45:54.404Z"
   },
   {
    "duration": 100,
    "start_time": "2022-11-20T15:47:44.736Z"
   },
   {
    "duration": 3,
    "start_time": "2022-11-20T15:47:51.570Z"
   },
   {
    "duration": 9,
    "start_time": "2022-11-20T15:47:55.544Z"
   },
   {
    "duration": 3,
    "start_time": "2022-11-20T15:48:16.781Z"
   },
   {
    "duration": 23,
    "start_time": "2022-11-20T15:48:19.879Z"
   },
   {
    "duration": 4,
    "start_time": "2022-11-20T15:48:40.794Z"
   },
   {
    "duration": 6,
    "start_time": "2022-11-20T15:48:44.248Z"
   },
   {
    "duration": 98,
    "start_time": "2022-11-20T15:48:46.540Z"
   },
   {
    "duration": 17,
    "start_time": "2022-11-20T15:48:48.690Z"
   },
   {
    "duration": 5,
    "start_time": "2022-11-20T15:50:16.897Z"
   },
   {
    "duration": 307,
    "start_time": "2022-11-20T15:50:19.695Z"
   },
   {
    "duration": 320,
    "start_time": "2022-11-20T15:50:38.875Z"
   },
   {
    "duration": 290,
    "start_time": "2022-11-20T15:51:11.746Z"
   },
   {
    "duration": 4,
    "start_time": "2022-11-20T15:52:25.970Z"
   },
   {
    "duration": 1107,
    "start_time": "2022-11-20T15:52:29.339Z"
   },
   {
    "duration": 1048,
    "start_time": "2022-11-20T15:54:17.805Z"
   },
   {
    "duration": 583,
    "start_time": "2022-11-20T15:55:49.335Z"
   },
   {
    "duration": 6,
    "start_time": "2022-11-20T16:12:03.025Z"
   },
   {
    "duration": 12,
    "start_time": "2022-11-20T16:12:59.320Z"
   },
   {
    "duration": 11,
    "start_time": "2022-11-20T16:13:06.285Z"
   },
   {
    "duration": 12,
    "start_time": "2022-11-20T16:13:27.423Z"
   },
   {
    "duration": 14,
    "start_time": "2022-11-20T16:13:29.106Z"
   },
   {
    "duration": 6,
    "start_time": "2022-11-20T16:15:52.771Z"
   },
   {
    "duration": 6,
    "start_time": "2022-11-20T16:16:23.475Z"
   },
   {
    "duration": 78,
    "start_time": "2022-11-20T16:16:26.796Z"
   },
   {
    "duration": 266,
    "start_time": "2022-11-20T16:16:28.738Z"
   },
   {
    "duration": 661,
    "start_time": "2022-11-20T16:16:30.658Z"
   },
   {
    "duration": 57,
    "start_time": "2022-11-20T16:17:20.803Z"
   },
   {
    "duration": 94,
    "start_time": "2022-11-20T16:18:22.848Z"
   },
   {
    "duration": 117,
    "start_time": "2022-11-20T16:18:26.576Z"
   },
   {
    "duration": 29,
    "start_time": "2022-11-20T19:57:25.826Z"
   },
   {
    "duration": 27,
    "start_time": "2022-11-20T19:57:47.238Z"
   },
   {
    "duration": 41,
    "start_time": "2022-11-20T20:02:01.409Z"
   },
   {
    "duration": 30,
    "start_time": "2022-11-20T20:02:17.487Z"
   },
   {
    "duration": 29,
    "start_time": "2022-11-20T20:21:11.888Z"
   },
   {
    "duration": 46,
    "start_time": "2022-11-21T17:44:27.911Z"
   },
   {
    "duration": 7,
    "start_time": "2022-11-21T17:45:02.013Z"
   },
   {
    "duration": 1078,
    "start_time": "2022-11-21T17:45:12.007Z"
   },
   {
    "duration": 132,
    "start_time": "2022-11-21T17:45:13.087Z"
   },
   {
    "duration": 13,
    "start_time": "2022-11-21T17:45:13.220Z"
   },
   {
    "duration": 10,
    "start_time": "2022-11-21T17:45:13.234Z"
   },
   {
    "duration": 69,
    "start_time": "2022-11-21T17:45:13.246Z"
   },
   {
    "duration": 276,
    "start_time": "2022-11-21T17:45:13.317Z"
   },
   {
    "duration": 92,
    "start_time": "2022-11-21T17:45:13.595Z"
   },
   {
    "duration": 33,
    "start_time": "2022-11-21T17:45:13.688Z"
   },
   {
    "duration": 32,
    "start_time": "2022-11-21T17:45:24.872Z"
   },
   {
    "duration": 27,
    "start_time": "2022-11-21T17:45:30.488Z"
   },
   {
    "duration": 105,
    "start_time": "2022-11-21T18:41:35.866Z"
   },
   {
    "duration": 13,
    "start_time": "2022-11-21T18:41:45.424Z"
   },
   {
    "duration": 8,
    "start_time": "2022-11-21T18:41:49.536Z"
   },
   {
    "duration": 8,
    "start_time": "2022-11-21T18:42:24.412Z"
   },
   {
    "duration": 36,
    "start_time": "2022-11-21T18:45:59.496Z"
   },
   {
    "duration": 30,
    "start_time": "2022-11-21T18:49:30.077Z"
   },
   {
    "duration": 58,
    "start_time": "2022-11-22T10:58:33.536Z"
   },
   {
    "duration": 1102,
    "start_time": "2022-11-22T10:58:41.635Z"
   },
   {
    "duration": 101,
    "start_time": "2022-11-22T10:58:42.739Z"
   },
   {
    "duration": 14,
    "start_time": "2022-11-22T10:58:42.841Z"
   },
   {
    "duration": 14,
    "start_time": "2022-11-22T10:58:42.858Z"
   },
   {
    "duration": 96,
    "start_time": "2022-11-22T10:58:42.874Z"
   },
   {
    "duration": 66,
    "start_time": "2022-11-22T10:58:42.972Z"
   },
   {
    "duration": 297,
    "start_time": "2022-11-22T10:58:43.039Z"
   },
   {
    "duration": 49,
    "start_time": "2022-11-22T10:58:43.337Z"
   },
   {
    "duration": 35,
    "start_time": "2022-11-22T10:58:43.387Z"
   },
   {
    "duration": 29,
    "start_time": "2022-11-22T10:58:43.424Z"
   },
   {
    "duration": 69,
    "start_time": "2022-11-22T11:03:37.417Z"
   },
   {
    "duration": 59,
    "start_time": "2022-11-22T11:03:46.753Z"
   },
   {
    "duration": 63,
    "start_time": "2022-11-22T11:03:49.510Z"
   },
   {
    "duration": 83,
    "start_time": "2022-11-22T11:06:53.940Z"
   },
   {
    "duration": 1798,
    "start_time": "2022-11-22T11:07:00.512Z"
   },
   {
    "duration": 67,
    "start_time": "2022-11-22T11:07:35.460Z"
   },
   {
    "duration": 2147,
    "start_time": "2022-11-22T11:07:45.075Z"
   },
   {
    "duration": 115,
    "start_time": "2022-11-22T11:20:10.311Z"
   },
   {
    "duration": 120,
    "start_time": "2022-11-22T11:20:19.492Z"
   },
   {
    "duration": 71,
    "start_time": "2022-11-22T11:20:25.337Z"
   },
   {
    "duration": 115,
    "start_time": "2022-11-22T11:20:29.531Z"
   },
   {
    "duration": 123,
    "start_time": "2022-11-22T11:20:32.664Z"
   },
   {
    "duration": 36,
    "start_time": "2022-11-22T11:20:36.360Z"
   },
   {
    "duration": 104,
    "start_time": "2022-11-22T11:20:41.796Z"
   },
   {
    "duration": 176,
    "start_time": "2022-11-22T11:21:11.227Z"
   },
   {
    "duration": 210,
    "start_time": "2022-11-22T11:21:56.105Z"
   },
   {
    "duration": 116,
    "start_time": "2022-11-22T11:23:32.267Z"
   },
   {
    "duration": 173,
    "start_time": "2022-11-22T11:23:43.150Z"
   },
   {
    "duration": 172,
    "start_time": "2022-11-22T11:23:51.162Z"
   },
   {
    "duration": 211,
    "start_time": "2022-11-22T11:23:57.551Z"
   },
   {
    "duration": 222,
    "start_time": "2022-11-22T11:24:12.547Z"
   },
   {
    "duration": 110,
    "start_time": "2022-11-22T11:25:45.348Z"
   },
   {
    "duration": 53,
    "start_time": "2022-11-22T11:25:56.463Z"
   },
   {
    "duration": 9,
    "start_time": "2022-11-22T11:26:31.463Z"
   },
   {
    "duration": 10,
    "start_time": "2022-11-22T11:26:45.315Z"
   },
   {
    "duration": 27,
    "start_time": "2022-11-22T11:48:14.574Z"
   },
   {
    "duration": 20,
    "start_time": "2022-11-22T11:49:05.001Z"
   },
   {
    "duration": 29,
    "start_time": "2022-11-22T11:49:25.144Z"
   },
   {
    "duration": 30,
    "start_time": "2022-11-22T11:50:17.380Z"
   },
   {
    "duration": 29,
    "start_time": "2022-11-22T11:50:37.995Z"
   },
   {
    "duration": 27,
    "start_time": "2022-11-22T11:50:48.607Z"
   },
   {
    "duration": 49,
    "start_time": "2022-11-22T11:51:03.175Z"
   },
   {
    "duration": 359,
    "start_time": "2022-11-22T11:51:29.487Z"
   },
   {
    "duration": 13,
    "start_time": "2022-11-22T11:52:33.495Z"
   },
   {
    "duration": 16,
    "start_time": "2022-11-22T11:55:00.290Z"
   },
   {
    "duration": 21,
    "start_time": "2022-11-22T11:55:14.376Z"
   },
   {
    "duration": 14,
    "start_time": "2022-11-22T11:55:55.080Z"
   },
   {
    "duration": 14,
    "start_time": "2022-11-22T11:56:04.380Z"
   },
   {
    "duration": 9,
    "start_time": "2022-11-22T11:56:25.216Z"
   },
   {
    "duration": 10,
    "start_time": "2022-11-22T11:56:31.668Z"
   },
   {
    "duration": 10,
    "start_time": "2022-11-22T11:56:52.707Z"
   },
   {
    "duration": 8,
    "start_time": "2022-11-22T11:57:16.631Z"
   },
   {
    "duration": 8,
    "start_time": "2022-11-22T11:57:31.780Z"
   },
   {
    "duration": 7,
    "start_time": "2022-11-22T11:57:41.091Z"
   },
   {
    "duration": 14,
    "start_time": "2022-11-22T11:57:57.623Z"
   },
   {
    "duration": 8,
    "start_time": "2022-11-22T12:01:13.438Z"
   },
   {
    "duration": 16,
    "start_time": "2022-11-22T12:01:16.248Z"
   },
   {
    "duration": 3,
    "start_time": "2022-11-22T12:01:33.286Z"
   },
   {
    "duration": 8,
    "start_time": "2022-11-22T12:01:39.102Z"
   },
   {
    "duration": 15,
    "start_time": "2022-11-22T12:01:40.707Z"
   },
   {
    "duration": 12,
    "start_time": "2022-11-22T12:02:08.662Z"
   },
   {
    "duration": 11,
    "start_time": "2022-11-22T12:02:17.192Z"
   },
   {
    "duration": 9,
    "start_time": "2022-11-22T12:02:21.190Z"
   },
   {
    "duration": 10,
    "start_time": "2022-11-22T12:02:32.581Z"
   },
   {
    "duration": 10,
    "start_time": "2022-11-22T12:17:50.870Z"
   },
   {
    "duration": 10,
    "start_time": "2022-11-22T12:18:21.663Z"
   },
   {
    "duration": 7,
    "start_time": "2022-11-22T12:18:53.017Z"
   },
   {
    "duration": 436,
    "start_time": "2022-11-22T12:19:03.120Z"
   },
   {
    "duration": 4,
    "start_time": "2022-11-22T12:21:52.484Z"
   },
   {
    "duration": 90,
    "start_time": "2022-11-22T12:23:01.574Z"
   },
   {
    "duration": 54,
    "start_time": "2022-11-22T17:48:55.383Z"
   },
   {
    "duration": 7,
    "start_time": "2022-11-22T17:52:18.175Z"
   },
   {
    "duration": 1311,
    "start_time": "2022-11-22T17:52:27.688Z"
   },
   {
    "duration": 144,
    "start_time": "2022-11-22T17:52:29.002Z"
   },
   {
    "duration": 17,
    "start_time": "2022-11-22T17:52:29.148Z"
   },
   {
    "duration": 43,
    "start_time": "2022-11-22T17:52:29.169Z"
   },
   {
    "duration": 79,
    "start_time": "2022-11-22T17:52:29.215Z"
   },
   {
    "duration": 80,
    "start_time": "2022-11-22T17:52:29.296Z"
   },
   {
    "duration": 2213,
    "start_time": "2022-11-22T17:52:29.378Z"
   },
   {
    "duration": 2621,
    "start_time": "2022-11-22T17:52:31.593Z"
   },
   {
    "duration": 52,
    "start_time": "2022-11-22T17:52:34.216Z"
   },
   {
    "duration": 146,
    "start_time": "2022-11-22T17:52:34.272Z"
   },
   {
    "duration": 262,
    "start_time": "2022-11-22T17:52:34.420Z"
   },
   {
    "duration": 291,
    "start_time": "2022-11-22T17:52:34.685Z"
   },
   {
    "duration": 9,
    "start_time": "2022-11-22T17:52:34.983Z"
   },
   {
    "duration": 550,
    "start_time": "2022-11-22T17:52:34.994Z"
   },
   {
    "duration": 92,
    "start_time": "2022-11-22T17:52:35.546Z"
   },
   {
    "duration": 0,
    "start_time": "2022-11-22T17:52:35.640Z"
   },
   {
    "duration": 640,
    "start_time": "2022-11-22T18:04:56.751Z"
   },
   {
    "duration": 597,
    "start_time": "2022-11-22T18:05:11.149Z"
   },
   {
    "duration": 563,
    "start_time": "2022-11-22T18:07:02.525Z"
   },
   {
    "duration": 54,
    "start_time": "2022-11-22T18:14:45.149Z"
   },
   {
    "duration": 8,
    "start_time": "2022-11-22T18:14:49.061Z"
   },
   {
    "duration": 470,
    "start_time": "2022-11-22T18:16:14.025Z"
   },
   {
    "duration": 7,
    "start_time": "2022-11-22T18:16:18.265Z"
   },
   {
    "duration": 448,
    "start_time": "2022-11-22T18:16:35.241Z"
   },
   {
    "duration": 460,
    "start_time": "2022-11-22T18:22:17.935Z"
   }
  ],
  "kernelspec": {
   "display_name": "Python 3 (ipykernel)",
   "language": "python",
   "name": "python3"
  },
  "language_info": {
   "codemirror_mode": {
    "name": "ipython",
    "version": 3
   },
   "file_extension": ".py",
   "mimetype": "text/x-python",
   "name": "python",
   "nbconvert_exporter": "python",
   "pygments_lexer": "ipython3",
   "version": "3.9.16"
  },
  "toc": {
   "base_numbering": 1,
   "nav_menu": {},
   "number_sections": true,
   "sideBar": true,
   "skip_h1_title": true,
   "title_cell": "Table of Contents",
   "title_sidebar": "Contents",
   "toc_cell": false,
   "toc_position": {},
   "toc_section_display": true,
   "toc_window_display": false
  }
 },
 "nbformat": 4,
 "nbformat_minor": 2
}
