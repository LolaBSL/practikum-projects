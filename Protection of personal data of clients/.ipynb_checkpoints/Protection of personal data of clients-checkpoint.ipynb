{
 "cells": [
  {
   "cell_type": "markdown",
   "metadata": {
    "toc": true
   },
   "source": [
    "<h1>Содержание<span class=\"tocSkip\"></span></h1>\n",
    "<div class=\"toc\"><ul class=\"toc-item\"><li><span><a href=\"#Загрузка-данных\" data-toc-modified-id=\"Загрузка-данных-1\"><span class=\"toc-item-num\">1&nbsp;&nbsp;</span>Загрузка данных</a></span><ul class=\"toc-item\"><li><span><a href=\"#Предобработка-данных\" data-toc-modified-id=\"Предобработка-данных-1.1\"><span class=\"toc-item-num\">1.1&nbsp;&nbsp;</span>Предобработка данных</a></span></li><li><span><a href=\"#Анализ-данных\" data-toc-modified-id=\"Анализ-данных-1.2\"><span class=\"toc-item-num\">1.2&nbsp;&nbsp;</span>Анализ данных</a></span></li></ul></li><li><span><a href=\"#Умножение-матриц\" data-toc-modified-id=\"Умножение-матриц-2\"><span class=\"toc-item-num\">2&nbsp;&nbsp;</span>Умножение матриц</a></span></li><li><span><a href=\"#Алгоритм-преобразования\" data-toc-modified-id=\"Алгоритм-преобразования-3\"><span class=\"toc-item-num\">3&nbsp;&nbsp;</span>Алгоритм преобразования</a></span></li><li><span><a href=\"#Проверка-алгоритма\" data-toc-modified-id=\"Проверка-алгоритма-4\"><span class=\"toc-item-num\">4&nbsp;&nbsp;</span>Проверка алгоритма</a></span><ul class=\"toc-item\"><li><span><a href=\"#Функция-для-кодирования\" data-toc-modified-id=\"Функция-для-кодирования-4.1\"><span class=\"toc-item-num\">4.1&nbsp;&nbsp;</span>Функция для кодирования</a></span></li><li><span><a href=\"#Обучение-на-изначальных-данных\" data-toc-modified-id=\"Обучение-на-изначальных-данных-4.2\"><span class=\"toc-item-num\">4.2&nbsp;&nbsp;</span>Обучение на изначальных данных</a></span></li><li><span><a href=\"#Обучение-на-измененных-данных\" data-toc-modified-id=\"Обучение-на-измененных-данных-4.3\"><span class=\"toc-item-num\">4.3&nbsp;&nbsp;</span>Обучение на измененных данных</a></span></li></ul></li><li><span><a href=\"#Вывод\" data-toc-modified-id=\"Вывод-5\"><span class=\"toc-item-num\">5&nbsp;&nbsp;</span>Вывод</a></span></li><li><span><a href=\"#Чек-лист-проверки\" data-toc-modified-id=\"Чек-лист-проверки-6\"><span class=\"toc-item-num\">6&nbsp;&nbsp;</span>Чек-лист проверки</a></span></li></ul></div>"
   ]
  },
  {
   "cell_type": "markdown",
   "metadata": {},
   "source": [
    "# Защита персональных данных клиентов"
   ]
  },
  {
   "cell_type": "markdown",
   "metadata": {},
   "source": [
    "**Задача:**\n",
    "\n",
    "Защитить данные клиентов страховой компании «Хоть потоп». \n",
    "\n",
    "Разработать такой метод преобразования данных, чтобы по ним было сложно восстановить персональную информацию. \n",
    "\n",
    "Обосновать корректность его работы.\n"
   ]
  },
  {
   "cell_type": "markdown",
   "metadata": {},
   "source": [
    "## Загрузка данных"
   ]
  },
  {
   "cell_type": "code",
   "execution_count": 1,
   "metadata": {},
   "outputs": [],
   "source": [
    "import pandas as pd\n",
    "import matplotlib.pyplot as plt\n",
    "import numpy as np\n",
    "from numpy.linalg import inv\n",
    "from scipy import stats as st\n",
    "from sklearn.model_selection import train_test_split\n",
    "from sklearn.linear_model import LinearRegression\n",
    "from sklearn.metrics import r2_score"
   ]
  },
  {
   "cell_type": "code",
   "execution_count": 2,
   "metadata": {},
   "outputs": [],
   "source": [
    "data = pd.read_csv('/datasets/insurance.csv')"
   ]
  },
  {
   "cell_type": "code",
   "execution_count": 3,
   "metadata": {
    "scrolled": false
   },
   "outputs": [
    {
     "data": {
      "text/html": [
       "<div>\n",
       "<style scoped>\n",
       "    .dataframe tbody tr th:only-of-type {\n",
       "        vertical-align: middle;\n",
       "    }\n",
       "\n",
       "    .dataframe tbody tr th {\n",
       "        vertical-align: top;\n",
       "    }\n",
       "\n",
       "    .dataframe thead th {\n",
       "        text-align: right;\n",
       "    }\n",
       "</style>\n",
       "<table border=\"1\" class=\"dataframe\">\n",
       "  <thead>\n",
       "    <tr style=\"text-align: right;\">\n",
       "      <th></th>\n",
       "      <th>Пол</th>\n",
       "      <th>Возраст</th>\n",
       "      <th>Зарплата</th>\n",
       "      <th>Члены семьи</th>\n",
       "      <th>Страховые выплаты</th>\n",
       "    </tr>\n",
       "  </thead>\n",
       "  <tbody>\n",
       "    <tr>\n",
       "      <th>0</th>\n",
       "      <td>1</td>\n",
       "      <td>41.0</td>\n",
       "      <td>49600.0</td>\n",
       "      <td>1</td>\n",
       "      <td>0</td>\n",
       "    </tr>\n",
       "    <tr>\n",
       "      <th>1</th>\n",
       "      <td>0</td>\n",
       "      <td>46.0</td>\n",
       "      <td>38000.0</td>\n",
       "      <td>1</td>\n",
       "      <td>1</td>\n",
       "    </tr>\n",
       "    <tr>\n",
       "      <th>2</th>\n",
       "      <td>0</td>\n",
       "      <td>29.0</td>\n",
       "      <td>21000.0</td>\n",
       "      <td>0</td>\n",
       "      <td>0</td>\n",
       "    </tr>\n",
       "    <tr>\n",
       "      <th>3</th>\n",
       "      <td>0</td>\n",
       "      <td>21.0</td>\n",
       "      <td>41700.0</td>\n",
       "      <td>2</td>\n",
       "      <td>0</td>\n",
       "    </tr>\n",
       "    <tr>\n",
       "      <th>4</th>\n",
       "      <td>1</td>\n",
       "      <td>28.0</td>\n",
       "      <td>26100.0</td>\n",
       "      <td>0</td>\n",
       "      <td>0</td>\n",
       "    </tr>\n",
       "  </tbody>\n",
       "</table>\n",
       "</div>"
      ],
      "text/plain": [
       "   Пол  Возраст  Зарплата  Члены семьи  Страховые выплаты\n",
       "0    1     41.0   49600.0            1                  0\n",
       "1    0     46.0   38000.0            1                  1\n",
       "2    0     29.0   21000.0            0                  0\n",
       "3    0     21.0   41700.0            2                  0\n",
       "4    1     28.0   26100.0            0                  0"
      ]
     },
     "metadata": {},
     "output_type": "display_data"
    },
    {
     "name": "stdout",
     "output_type": "stream",
     "text": [
      "----------------------------------------------------------------------------------------------------\n",
      "Информация о данных:\n",
      "\n",
      "<class 'pandas.core.frame.DataFrame'>\n",
      "RangeIndex: 5000 entries, 0 to 4999\n",
      "Data columns (total 5 columns):\n",
      " #   Column             Non-Null Count  Dtype  \n",
      "---  ------             --------------  -----  \n",
      " 0   Пол                5000 non-null   int64  \n",
      " 1   Возраст            5000 non-null   float64\n",
      " 2   Зарплата           5000 non-null   float64\n",
      " 3   Члены семьи        5000 non-null   int64  \n",
      " 4   Страховые выплаты  5000 non-null   int64  \n",
      "dtypes: float64(2), int64(3)\n",
      "memory usage: 195.4 KB\n",
      "None\n",
      "----------------------------------------------------------------------------------------------------\n",
      "Дубликаты: 153\n",
      "----------------------------------------------------------------------------------------------------\n",
      "Разброс данных:\n"
     ]
    },
    {
     "data": {
      "text/html": [
       "<div>\n",
       "<style scoped>\n",
       "    .dataframe tbody tr th:only-of-type {\n",
       "        vertical-align: middle;\n",
       "    }\n",
       "\n",
       "    .dataframe tbody tr th {\n",
       "        vertical-align: top;\n",
       "    }\n",
       "\n",
       "    .dataframe thead th {\n",
       "        text-align: right;\n",
       "    }\n",
       "</style>\n",
       "<table border=\"1\" class=\"dataframe\">\n",
       "  <thead>\n",
       "    <tr style=\"text-align: right;\">\n",
       "      <th></th>\n",
       "      <th>Пол</th>\n",
       "      <th>Возраст</th>\n",
       "      <th>Зарплата</th>\n",
       "      <th>Члены семьи</th>\n",
       "      <th>Страховые выплаты</th>\n",
       "    </tr>\n",
       "  </thead>\n",
       "  <tbody>\n",
       "    <tr>\n",
       "      <th>count</th>\n",
       "      <td>5000.000000</td>\n",
       "      <td>5000.000000</td>\n",
       "      <td>5000.000000</td>\n",
       "      <td>5000.000000</td>\n",
       "      <td>5000.000000</td>\n",
       "    </tr>\n",
       "    <tr>\n",
       "      <th>mean</th>\n",
       "      <td>0.499000</td>\n",
       "      <td>30.952800</td>\n",
       "      <td>39916.360000</td>\n",
       "      <td>1.194200</td>\n",
       "      <td>0.148000</td>\n",
       "    </tr>\n",
       "    <tr>\n",
       "      <th>std</th>\n",
       "      <td>0.500049</td>\n",
       "      <td>8.440807</td>\n",
       "      <td>9900.083569</td>\n",
       "      <td>1.091387</td>\n",
       "      <td>0.463183</td>\n",
       "    </tr>\n",
       "    <tr>\n",
       "      <th>min</th>\n",
       "      <td>0.000000</td>\n",
       "      <td>18.000000</td>\n",
       "      <td>5300.000000</td>\n",
       "      <td>0.000000</td>\n",
       "      <td>0.000000</td>\n",
       "    </tr>\n",
       "    <tr>\n",
       "      <th>25%</th>\n",
       "      <td>0.000000</td>\n",
       "      <td>24.000000</td>\n",
       "      <td>33300.000000</td>\n",
       "      <td>0.000000</td>\n",
       "      <td>0.000000</td>\n",
       "    </tr>\n",
       "    <tr>\n",
       "      <th>50%</th>\n",
       "      <td>0.000000</td>\n",
       "      <td>30.000000</td>\n",
       "      <td>40200.000000</td>\n",
       "      <td>1.000000</td>\n",
       "      <td>0.000000</td>\n",
       "    </tr>\n",
       "    <tr>\n",
       "      <th>75%</th>\n",
       "      <td>1.000000</td>\n",
       "      <td>37.000000</td>\n",
       "      <td>46600.000000</td>\n",
       "      <td>2.000000</td>\n",
       "      <td>0.000000</td>\n",
       "    </tr>\n",
       "    <tr>\n",
       "      <th>max</th>\n",
       "      <td>1.000000</td>\n",
       "      <td>65.000000</td>\n",
       "      <td>79000.000000</td>\n",
       "      <td>6.000000</td>\n",
       "      <td>5.000000</td>\n",
       "    </tr>\n",
       "  </tbody>\n",
       "</table>\n",
       "</div>"
      ],
      "text/plain": [
       "               Пол      Возраст      Зарплата  Члены семьи  Страховые выплаты\n",
       "count  5000.000000  5000.000000   5000.000000  5000.000000        5000.000000\n",
       "mean      0.499000    30.952800  39916.360000     1.194200           0.148000\n",
       "std       0.500049     8.440807   9900.083569     1.091387           0.463183\n",
       "min       0.000000    18.000000   5300.000000     0.000000           0.000000\n",
       "25%       0.000000    24.000000  33300.000000     0.000000           0.000000\n",
       "50%       0.000000    30.000000  40200.000000     1.000000           0.000000\n",
       "75%       1.000000    37.000000  46600.000000     2.000000           0.000000\n",
       "max       1.000000    65.000000  79000.000000     6.000000           5.000000"
      ]
     },
     "metadata": {},
     "output_type": "display_data"
    },
    {
     "name": "stdout",
     "output_type": "stream",
     "text": [
      "----------------------------------------------------------------------------------------------------\n",
      "Разброс данных в графиках:\n"
     ]
    },
    {
     "data": {
      "image/png": "[encoded data removed]",
      "text/plain": [
       "<Figure size 864x504 with 6 Axes>"
      ]
     },
     "metadata": {
      "needs_background": "light"
     },
     "output_type": "display_data"
    },
    {
     "name": "stdout",
     "output_type": "stream",
     "text": [
      "----------------------------------------------------------------------------------------------------\n"
     ]
    }
   ],
   "source": [
    "display(data.head())\n",
    "print('-' * 100)\n",
    "print('Информация о данных:')\n",
    "print()\n",
    "print(data.info())\n",
    "print('-' * 100)\n",
    "print('Дубликаты:', data.duplicated().sum())\n",
    "print('-' * 100)\n",
    "print('Разброс данных:')\n",
    "display(data.describe())\n",
    "print('-' * 100)\n",
    "print('Разброс данных в графиках:')\n",
    "data.hist(figsize=(12,7))\n",
    "plt.show()\n",
    "print('-' * 100)"
   ]
  },
  {
   "cell_type": "markdown",
   "metadata": {},
   "source": [
    "\n",
    "Привести в целые числа столбцы Возраст и Зарплата.\n",
    "\n",
    "Проверить дубликаты.\n",
    "\n",
    "Проверить распределение данных по отношению к целевому признаку.\n",
    "\n",
    "Проверить корреляцию признаков по отношению кк целевому признаку."
   ]
  },
  {
   "cell_type": "markdown",
   "metadata": {},
   "source": [
    "### Предобработка данных"
   ]
  },
  {
   "cell_type": "code",
   "execution_count": 4,
   "metadata": {},
   "outputs": [
    {
     "name": "stdout",
     "output_type": "stream",
     "text": [
      "<class 'pandas.core.frame.DataFrame'>\n",
      "RangeIndex: 5000 entries, 0 to 4999\n",
      "Data columns (total 5 columns):\n",
      " #   Column             Non-Null Count  Dtype\n",
      "---  ------             --------------  -----\n",
      " 0   Пол                5000 non-null   int64\n",
      " 1   Возраст            5000 non-null   int64\n",
      " 2   Зарплата           5000 non-null   int64\n",
      " 3   Члены семьи        5000 non-null   int64\n",
      " 4   Страховые выплаты  5000 non-null   int64\n",
      "dtypes: int64(5)\n",
      "memory usage: 195.4 KB\n"
     ]
    }
   ],
   "source": [
    "data['Возраст'] = data['Возраст'].astype('int')\n",
    "data['Зарплата'] = data['Зарплата'].astype('int')\n",
    "data.info()"
   ]
  },
  {
   "cell_type": "code",
   "execution_count": 5,
   "metadata": {},
   "outputs": [
    {
     "name": "stdout",
     "output_type": "stream",
     "text": [
      "Доля дубликатов: 3%\n"
     ]
    }
   ],
   "source": [
    "print(f'Доля дубликатов: {data.duplicated().sum() / data.shape[0]:.0%}')"
   ]
  },
  {
   "cell_type": "markdown",
   "metadata": {},
   "source": [
    "Т.к у нас нет уникальных значений для каждого клиента, а доля дубликатов составляет 3%, то данные дубликаты нельзя считать просто совпадением."
   ]
  },
  {
   "cell_type": "code",
   "execution_count": 6,
   "metadata": {},
   "outputs": [
    {
     "name": "stdout",
     "output_type": "stream",
     "text": [
      "Дубликаты: 0\n"
     ]
    }
   ],
   "source": [
    "data = data.drop_duplicates()\n",
    "print('Дубликаты:', data.duplicated().sum())"
   ]
  },
  {
   "cell_type": "markdown",
   "metadata": {},
   "source": [
    "### Анализ данных"
   ]
  },
  {
   "cell_type": "code",
   "execution_count": 7,
   "metadata": {},
   "outputs": [
    {
     "data": {
      "image/png": "[encoded data removed]",
      "text/plain": [
       "<Figure size 1224x360 with 4 Axes>"
      ]
     },
     "metadata": {},
     "output_type": "display_data"
    }
   ],
   "source": [
    "data_fresh = data.copy()\n",
    "data_columns = data_fresh.columns[0:4]\n",
    "colors = ['#4F6272', '#B7C3F3', '#DD7596', '#8EB897', '#472a3f']\n",
    "fig, axs = plt.subplots(1, 4, figsize=(17, 5))\n",
    "fig.suptitle('Распределение данных к целевому признаку')\n",
    "for i in range(4):\n",
    "    df_i = (data_fresh.groupby(data_columns[i])['Страховые выплаты'].count().\n",
    "             reset_index().\n",
    "             sort_values(by='Страховые выплаты', ascending = False, ignore_index = True).\n",
    "             head(5))\n",
    "    axs[i].pie(df_i['Страховые выплаты'], labels = df_i[data_columns[i]], autopct='%1.1f%%', colors=colors)\n",
    "    axs[i].set_title(data_fresh.columns[i].split('_')[0].upper())\n",
    "plt.show()"
   ]
  },
  {
   "cell_type": "code",
   "execution_count": 8,
   "metadata": {},
   "outputs": [],
   "source": [
    "def corr (data):\n",
    "    np.random.seed(19680801)\n",
    "    N =  data.shape[0]\n",
    "    colors  = np.random.rand(N)\n",
    "    product = data['Страховые выплаты']\n",
    "    f1 = data['Возраст']\n",
    "    f2 = data['Зарплата']\n",
    "    f3 = data['Члены семьи']\n",
    "    fig, (ax1, ax2, ax3) = plt.subplots(nrows=1, ncols=3, figsize=(17,5))\n",
    "    fig.suptitle('Корреляция')\n",
    "    ax1.scatter(product, f1, c =colors, alpha = 0.5)\n",
    "    ax1.set_xlabel('Страховые выплаты')\n",
    "    ax1.set_ylabel('Возраст')\n",
    "    ax2.scatter(product, f2, c =colors, alpha = 0.5)\n",
    "    ax2.set_xlabel('Страховые выплаты')\n",
    "    ax2.set_ylabel('Зарплата')\n",
    "    ax3.scatter(product, f3, c =colors, alpha = 0.5)\n",
    "    ax3.set_xlabel('Страховые выплаты')\n",
    "    ax3.set_ylabel('Члены семьи')\n",
    "    print(data.drop(['Пол'], axis = 1).corr(method='spearman'))\n"
   ]
  },
  {
   "cell_type": "code",
   "execution_count": 9,
   "metadata": {},
   "outputs": [
    {
     "name": "stdout",
     "output_type": "stream",
     "text": [
      "                    Возраст  Зарплата  Члены семьи  Страховые выплаты\n",
      "Возраст            1.000000 -0.018972    -0.003414           0.555655\n",
      "Зарплата          -0.018972  1.000000    -0.027361          -0.003878\n",
      "Члены семьи       -0.003414 -0.027361     1.000000          -0.032201\n",
      "Страховые выплаты  0.555655 -0.003878    -0.032201           1.000000\n"
     ]
    },
    {
     "data": {
      "image/png": "[encoded data removed]",
      "text/plain": [
       "<Figure size 1224x360 with 3 Axes>"
      ]
     },
     "metadata": {
      "needs_background": "light"
     },
     "output_type": "display_data"
    }
   ],
   "source": [
    "corr(data)"
   ]
  },
  {
   "cell_type": "markdown",
   "metadata": {},
   "source": [
    "**Корреляция страховых выплат к полу**"
   ]
  },
  {
   "cell_type": "markdown",
   "metadata": {},
   "source": [
    "Проверка гипотезы:  Страховые выплаты полу 0 и полу 1 не различаются соответственно данный признак не влияет на целевой:\n",
    "\n",
    "```\n",
    "H_0: Страховые выплаты полу 0 = Страховые выплаты полу 1`\n",
    "H_a: Страховые выплаты полу 0 ≠ Страховые выплаты полу 1`\n",
    "alpha = 0.05\n",
    "```"
   ]
  },
  {
   "cell_type": "code",
   "execution_count": 10,
   "metadata": {},
   "outputs": [
    {
     "name": "stdout",
     "output_type": "stream",
     "text": [
      "0.4208255605438147\n",
      "Не получилось отвергнуть нулевую гипотезу\n"
     ]
    }
   ],
   "source": [
    "gender_0 = data[data['Пол']==0]['Страховые выплаты'].array\n",
    "gender_1 = data[data['Пол']==1]['Страховые выплаты'].array\n",
    "results = st.ttest_ind(gender_0, gender_1, equal_var = True)\n",
    "alpha = .05\n",
    "print(results.pvalue)\n",
    "if results.pvalue < alpha:\n",
    "    print(\"Отвергаем нулевую гипотезу\")\n",
    "else:\n",
    "    print(\"Не получилось отвергнуть нулевую гипотезу\") \n",
    "        "
   ]
  },
  {
   "cell_type": "markdown",
   "metadata": {},
   "source": [
    "## Умножение матриц"
   ]
  },
  {
   "cell_type": "markdown",
   "metadata": {},
   "source": [
    "Ответим на вопрос и обоснуем решение. \n",
    "\n",
    " Признаки умножают на обратимую матрицу. Изменится ли качество линейной регрессии? (Её можно обучить заново.)\n",
    " \n",
    " a. Изменится. Приведите примеры матриц.\n",
    " \n",
    " b. Не изменится. Укажите, как связаны параметры линейной регрессии в исходной задаче и в преобразованной."
   ]
  },
  {
   "cell_type": "markdown",
   "metadata": {},
   "source": [
    "Обозначения:\n",
    "\n",
    "- $X$ — матрица признаков (нулевой столбец состоит из единиц)\n",
    "\n",
    "- $y$ — вектор целевого признака\n",
    "\n",
    "- $P$ — матрица, на которую умножаются признаки\n",
    "\n",
    "- $w$ — вектор весов линейной регрессии (нулевой элемент равен сдвигу)"
   ]
  },
  {
   "cell_type": "markdown",
   "metadata": {},
   "source": [
    "Предсказания:\n",
    "\n",
    "$$\n",
    "a = Xw\n",
    "$$\n",
    "\n",
    "Задача обучения:\n",
    "\n",
    "$$\n",
    "w = \\arg\\min_w MSE(Xw, y)\n",
    "$$\n",
    "\n",
    "Формула обучения:\n",
    "\n",
    "$$\n",
    "w = (X^T X)^{-1} X^T y\n",
    "$$"
   ]
  },
  {
   "cell_type": "markdown",
   "metadata": {},
   "source": [
    "**Ответ:** Не изменится\n",
    "\n",
    "\n",
    "**Обоснование:** Предположим что обратимая матрица это $P$, тогда \n",
    "\n",
    "$$ Xw = a ⟹ P X w = P a⟹P^{-1} P X w =P^{-1} P a⟹X w = a $$\n"
   ]
  },
  {
   "cell_type": "markdown",
   "metadata": {},
   "source": [
    "$$\n",
    "a = Xw = XEw = XPP^{-1}w = (XP)P^{-1}w = (XP)w'\n",
    "$$\n",
    "\n",
    "$$\n",
    "w' = ((XP)^T XP)^{-1} (XP)^T y\n",
    "$$\n",
    "$$\n",
    "w' = (P^T (X^T X) P)^{-1} (XP)^T y\n",
    "$$\n",
    "$$\n",
    "w' = (P^T (X^T X) P)^{-1} P^T X^T y\n",
    "$$\n",
    "$$\n",
    "w' = P^{-1}(X^TX)^{-1}(P^T)^{-1}P^TX^Ty\n",
    "$$\n",
    "$$\n",
    "w' = P^{-1}(X^TX)^{-1}X^Ty\n",
    "$$\n",
    "$$\n",
    "w' = P^{-1}w\n",
    "$$"
   ]
  },
  {
   "cell_type": "markdown",
   "metadata": {},
   "source": [
    "## Алгоритм преобразования"
   ]
  },
  {
   "cell_type": "markdown",
   "metadata": {},
   "source": [
    "**Алгоритм**\n",
    "\n",
    "1. Создаем обратимую матрицу случайным образом;\n",
    "2. Проверяем матрицу на обратимость;\n",
    "3. Умножаем признаки (преобразованные в матрицу) на обратимую матрицу;\n",
    "4. Применяем на обучении."
   ]
  },
  {
   "cell_type": "raw",
   "metadata": {},
   "source": [
    "**Обоснование**\n",
    "# не действительно, исправлено выше.\n",
    "\n",
    "$$\n",
    "a = Xw = XEw = XPP^{-1}w = (XP)P^{-1}w = (XP)w'\n",
    "$$\n",
    "\n",
    "$$\n",
    "w' = ((XP)^T XP)^{-1} (XP)^T y\n",
    "$$\n",
    "$$\n",
    "w' = (P^T (X^T X) P)^{-1} (XP)^T y\n",
    "$$\n",
    "$$\n",
    "w' = (P^T(X^TX)P)^{-1} X^TP^Ty\n",
    "$$\n",
    "$$\n",
    "w' = (P^T)^{-1}((X^TX)P)^{-1}X^TP^Ty\n",
    "$$\n",
    "$$\n",
    "w' = ((X^TX)P)^{-1}X^Ty\n",
    "$$\n",
    "$$\n",
    "w' = (X^TX)^{-1}P^{-1}X^Ty\n",
    "$$\n",
    "$$\n",
    "w' = P^{-1}(X^TX)^{-1}X^Ty\n",
    "$$\n",
    "$$\n",
    "w' = P^{-1}w\n",
    "$$"
   ]
  },
  {
   "cell_type": "markdown",
   "metadata": {},
   "source": [
    "## Проверка алгоритма"
   ]
  },
  {
   "cell_type": "markdown",
   "metadata": {},
   "source": [
    "### Функция для кодирования"
   ]
  },
  {
   "cell_type": "markdown",
   "metadata": {},
   "source": [
    "Создаем функцию в которой случайную матрицу в размерности согласно количеству признаков проверяем на обратимость.\n",
    "И умножаем ее на наши признаки."
   ]
  },
  {
   "cell_type": "code",
   "execution_count": 11,
   "metadata": {},
   "outputs": [],
   "source": [
    "def code(features):\n",
    "    code_features = features\n",
    "    n = features.shape[1]\n",
    "    matrix = np.random.randint(10, size=(n, n))\n",
    "    reversible = np.linalg.det(matrix)\n",
    "    if reversible == 0:\n",
    "        matrix = np.random.randint(10, size=(n, n))\n",
    "    else:\n",
    "        matrix\n",
    "    return code_features @ matrix"
   ]
  },
  {
   "cell_type": "markdown",
   "metadata": {},
   "source": [
    "### Обучение на изначальных данных"
   ]
  },
  {
   "cell_type": "code",
   "execution_count": 12,
   "metadata": {},
   "outputs": [
    {
     "name": "stdout",
     "output_type": "stream",
     "text": [
      "(3635, 4) (1212, 4) (3635,) (1212,)\n"
     ]
    }
   ],
   "source": [
    "features = data.drop(['Страховые выплаты'], axis=1)\n",
    "target = data['Страховые выплаты']\n",
    "ft, ftest, tt, ttest = train_test_split(features, target, test_size=0.25, random_state=12345)\n",
    "print(ft.shape, ftest.shape, tt.shape, ttest.shape)"
   ]
  },
  {
   "cell_type": "code",
   "execution_count": 13,
   "metadata": {},
   "outputs": [
    {
     "name": "stdout",
     "output_type": "stream",
     "text": [
      "R2 = 0.4231\n"
     ]
    }
   ],
   "source": [
    "model = LinearRegression()\n",
    "model.fit(ft, tt)\n",
    "predictions = model.predict(ftest)\n",
    "print(f'R2 = {r2_score(ttest, predictions):.4f}')"
   ]
  },
  {
   "cell_type": "markdown",
   "metadata": {},
   "source": [
    "### Обучение на измененных данных"
   ]
  },
  {
   "cell_type": "code",
   "execution_count": 14,
   "metadata": {},
   "outputs": [
    {
     "name": "stdout",
     "output_type": "stream",
     "text": [
      "(3635, 4) (1212, 4) (3635, 1) (1212, 1)\n"
     ]
    }
   ],
   "source": [
    "code_features = code(np.matrix(data.drop(['Страховые выплаты'], axis=1)))\n",
    "code_target = np.matrix(data['Страховые выплаты'])\n",
    "cft, cftest, ctt, cttest = train_test_split(code_features, code_target.T, test_size=0.25, random_state=12345)\n",
    "print(cft.shape, cftest.shape, ctt.shape, cttest.shape)"
   ]
  },
  {
   "cell_type": "code",
   "execution_count": 15,
   "metadata": {},
   "outputs": [
    {
     "name": "stdout",
     "output_type": "stream",
     "text": [
      "R2 = 0.4231\n"
     ]
    }
   ],
   "source": [
    "model = LinearRegression()\n",
    "model.fit(cft, ctt)\n",
    "code_predictions = model.predict(cftest)\n",
    "print(f'R2 = {r2_score(cttest, code_predictions):.4f}')"
   ]
  },
  {
   "cell_type": "code",
   "execution_count": 16,
   "metadata": {},
   "outputs": [
    {
     "name": "stdout",
     "output_type": "stream",
     "text": [
      "Метод кодирования не меняет качество обучения\n"
     ]
    }
   ],
   "source": [
    "if r2_score(ttest, predictions) - r2_score(cttest, code_predictions) < 0.1:\n",
    "    print('Метод кодирования не меняет качество обучения')\n",
    "else:\n",
    "    print('Данный метод меняет качество обучения')"
   ]
  },
  {
   "cell_type": "markdown",
   "metadata": {},
   "source": [
    "## Вывод"
   ]
  },
  {
   "cell_type": "markdown",
   "metadata": {},
   "source": [
    "Как мы видим качество обучения не теряется соответсвенно выбранный метод кодирования подходит."
   ]
  }
 ],
 "metadata": {
  "ExecuteTimeLog": [
   {
    "duration": 409,
    "start_time": "2023-01-25T08:05:47.234Z"
   },
   {
    "duration": 88,
    "start_time": "2023-01-25T08:06:06.546Z"
   },
   {
    "duration": 15,
    "start_time": "2023-01-25T08:06:18.882Z"
   },
   {
    "duration": 8,
    "start_time": "2023-01-25T08:06:40.841Z"
   },
   {
    "duration": 19,
    "start_time": "2023-01-25T08:12:15.565Z"
   },
   {
    "duration": 15,
    "start_time": "2023-01-25T08:12:22.495Z"
   },
   {
    "duration": 22,
    "start_time": "2023-01-25T08:13:14.687Z"
   },
   {
    "duration": 53,
    "start_time": "2023-01-25T08:19:46.165Z"
   },
   {
    "duration": 1695,
    "start_time": "2023-01-25T08:20:18.278Z"
   },
   {
    "duration": 3,
    "start_time": "2023-01-25T08:20:33.001Z"
   },
   {
    "duration": 28,
    "start_time": "2023-01-25T08:20:33.840Z"
   },
   {
    "duration": 1291,
    "start_time": "2023-01-25T08:20:34.485Z"
   },
   {
    "duration": 580,
    "start_time": "2023-01-25T08:20:45.271Z"
   },
   {
    "duration": 461,
    "start_time": "2023-01-25T08:20:58.323Z"
   },
   {
    "duration": 533,
    "start_time": "2023-01-25T08:21:05.691Z"
   },
   {
    "duration": 535,
    "start_time": "2023-01-25T08:21:13.421Z"
   },
   {
    "duration": 530,
    "start_time": "2023-01-25T08:21:21.478Z"
   },
   {
    "duration": 538,
    "start_time": "2023-01-25T08:32:39.163Z"
   },
   {
    "duration": 704,
    "start_time": "2023-01-25T08:33:29.944Z"
   },
   {
    "duration": 638,
    "start_time": "2023-01-25T08:33:54.512Z"
   },
   {
    "duration": 609,
    "start_time": "2023-01-25T08:34:29.159Z"
   },
   {
    "duration": 507,
    "start_time": "2023-01-25T08:34:46.168Z"
   },
   {
    "duration": 3,
    "start_time": "2023-01-25T08:43:52.065Z"
   },
   {
    "duration": 9,
    "start_time": "2023-01-25T09:11:39.203Z"
   },
   {
    "duration": 6,
    "start_time": "2023-01-25T09:11:51.287Z"
   },
   {
    "duration": 6,
    "start_time": "2023-01-25T09:13:38.293Z"
   },
   {
    "duration": 7,
    "start_time": "2023-01-25T09:14:03.035Z"
   },
   {
    "duration": 4,
    "start_time": "2023-01-25T09:14:09.035Z"
   },
   {
    "duration": 9,
    "start_time": "2023-01-25T09:14:26.923Z"
   },
   {
    "duration": 8,
    "start_time": "2023-01-25T09:14:33.172Z"
   },
   {
    "duration": 10,
    "start_time": "2023-01-25T09:14:52.620Z"
   },
   {
    "duration": 9,
    "start_time": "2023-01-25T09:14:54.827Z"
   },
   {
    "duration": 8,
    "start_time": "2023-01-25T09:15:12.222Z"
   },
   {
    "duration": 9,
    "start_time": "2023-01-25T09:15:16.039Z"
   },
   {
    "duration": 4,
    "start_time": "2023-01-25T09:15:36.207Z"
   },
   {
    "duration": 7,
    "start_time": "2023-01-25T09:15:53.312Z"
   },
   {
    "duration": 5,
    "start_time": "2023-01-25T09:16:11.007Z"
   },
   {
    "duration": 888,
    "start_time": "2023-01-27T18:04:56.086Z"
   },
   {
    "duration": 122,
    "start_time": "2023-01-27T18:04:57.533Z"
   },
   {
    "duration": 9,
    "start_time": "2023-01-27T18:05:12.422Z"
   },
   {
    "duration": 2,
    "start_time": "2023-01-27T18:13:53.064Z"
   },
   {
    "duration": 45,
    "start_time": "2023-01-27T18:17:45.968Z"
   },
   {
    "duration": 9,
    "start_time": "2023-01-27T18:17:58.815Z"
   },
   {
    "duration": 9,
    "start_time": "2023-01-27T18:18:35.417Z"
   },
   {
    "duration": 9,
    "start_time": "2023-01-27T18:18:49.824Z"
   },
   {
    "duration": 2,
    "start_time": "2023-01-27T18:19:08.164Z"
   },
   {
    "duration": 11,
    "start_time": "2023-01-27T18:19:10.804Z"
   },
   {
    "duration": 670,
    "start_time": "2023-01-27T18:19:20.781Z"
   },
   {
    "duration": 30,
    "start_time": "2023-01-27T18:19:21.454Z"
   },
   {
    "duration": 607,
    "start_time": "2023-01-27T18:19:21.485Z"
   },
   {
    "duration": 5,
    "start_time": "2023-01-27T18:19:22.094Z"
   },
   {
    "duration": 108,
    "start_time": "2023-01-27T18:19:22.101Z"
   },
   {
    "duration": 81,
    "start_time": "2023-01-27T18:30:25.776Z"
   },
   {
    "duration": 10,
    "start_time": "2023-01-27T18:31:20.297Z"
   },
   {
    "duration": 68,
    "start_time": "2023-01-27T18:32:24.901Z"
   },
   {
    "duration": 76,
    "start_time": "2023-01-27T18:32:36.988Z"
   },
   {
    "duration": 74,
    "start_time": "2023-01-27T18:33:41.986Z"
   },
   {
    "duration": 53,
    "start_time": "2023-01-27T20:45:21.179Z"
   },
   {
    "duration": 885,
    "start_time": "2023-01-27T20:45:25.050Z"
   },
   {
    "duration": 103,
    "start_time": "2023-01-27T20:45:25.939Z"
   },
   {
    "duration": 707,
    "start_time": "2023-01-27T20:45:26.181Z"
   },
   {
    "duration": 7,
    "start_time": "2023-01-27T20:45:27.856Z"
   },
   {
    "duration": 5,
    "start_time": "2023-01-27T20:45:28.417Z"
   },
   {
    "duration": 11,
    "start_time": "2023-01-27T20:45:42.596Z"
   },
   {
    "duration": 12,
    "start_time": "2023-01-27T20:45:52.081Z"
   },
   {
    "duration": 623,
    "start_time": "2023-01-27T20:54:03.190Z"
   },
   {
    "duration": 474,
    "start_time": "2023-01-27T20:54:12.130Z"
   },
   {
    "duration": 9,
    "start_time": "2023-01-27T20:57:19.008Z"
   },
   {
    "duration": 456,
    "start_time": "2023-01-27T20:57:46.622Z"
   },
   {
    "duration": 9,
    "start_time": "2023-01-27T20:57:57.604Z"
   },
   {
    "duration": 277,
    "start_time": "2023-01-27T20:57:58.860Z"
   },
   {
    "duration": 10,
    "start_time": "2023-01-27T20:58:07.436Z"
   },
   {
    "duration": 570,
    "start_time": "2023-01-27T20:58:09.369Z"
   },
   {
    "duration": 9,
    "start_time": "2023-01-27T21:00:42.391Z"
   },
   {
    "duration": 541,
    "start_time": "2023-01-27T21:00:43.767Z"
   },
   {
    "duration": 17,
    "start_time": "2023-01-27T21:02:56.535Z"
   },
   {
    "duration": 753,
    "start_time": "2023-01-27T21:02:57.925Z"
   },
   {
    "duration": 80,
    "start_time": "2023-01-28T13:27:16.515Z"
   },
   {
    "duration": 83,
    "start_time": "2023-01-28T13:27:28.160Z"
   },
   {
    "duration": 47,
    "start_time": "2023-01-28T13:27:48.248Z"
   },
   {
    "duration": 877,
    "start_time": "2023-01-28T13:27:56.048Z"
   },
   {
    "duration": 88,
    "start_time": "2023-01-28T13:27:56.927Z"
   },
   {
    "duration": 634,
    "start_time": "2023-01-28T13:27:57.017Z"
   },
   {
    "duration": 6,
    "start_time": "2023-01-28T13:27:57.653Z"
   },
   {
    "duration": 466,
    "start_time": "2023-01-28T13:27:57.660Z"
   },
   {
    "duration": 6,
    "start_time": "2023-01-28T13:27:58.128Z"
   },
   {
    "duration": 485,
    "start_time": "2023-01-28T13:27:58.136Z"
   },
   {
    "duration": 518,
    "start_time": "2023-01-28T13:28:21.412Z"
   },
   {
    "duration": 63,
    "start_time": "2023-01-28T20:53:58.426Z"
   },
   {
    "duration": 93,
    "start_time": "2023-01-28T20:54:05.575Z"
   },
   {
    "duration": 78,
    "start_time": "2023-01-28T20:54:19.657Z"
   },
   {
    "duration": 93,
    "start_time": "2023-01-28T21:34:38.912Z"
   },
   {
    "duration": 94,
    "start_time": "2023-01-28T21:34:44.500Z"
   },
   {
    "duration": 78,
    "start_time": "2023-01-28T21:34:52.996Z"
   },
   {
    "duration": 81,
    "start_time": "2023-01-28T21:35:16.233Z"
   },
   {
    "duration": 4,
    "start_time": "2023-01-28T21:35:38.471Z"
   },
   {
    "duration": 4,
    "start_time": "2023-01-28T21:40:32.654Z"
   },
   {
    "duration": 14,
    "start_time": "2023-01-28T21:40:39.828Z"
   },
   {
    "duration": 67,
    "start_time": "2023-01-28T22:09:35.870Z"
   },
   {
    "duration": 747,
    "start_time": "2023-01-28T22:10:32.249Z"
   },
   {
    "duration": 3,
    "start_time": "2023-01-28T22:10:38.539Z"
   },
   {
    "duration": 6,
    "start_time": "2023-01-28T22:10:38.976Z"
   },
   {
    "duration": 8,
    "start_time": "2023-01-28T22:11:16.029Z"
   },
   {
    "duration": 3,
    "start_time": "2023-01-28T22:15:11.800Z"
   },
   {
    "duration": 4,
    "start_time": "2023-01-28T22:15:27.953Z"
   },
   {
    "duration": 47,
    "start_time": "2023-01-28T22:15:40.051Z"
   },
   {
    "duration": 18,
    "start_time": "2023-01-28T22:15:49.943Z"
   },
   {
    "duration": 8,
    "start_time": "2023-01-28T22:16:09.850Z"
   },
   {
    "duration": 8,
    "start_time": "2023-01-28T22:16:28.098Z"
   },
   {
    "duration": 22,
    "start_time": "2023-01-28T22:18:46.967Z"
   },
   {
    "duration": 4,
    "start_time": "2023-01-28T22:21:12.487Z"
   },
   {
    "duration": 97,
    "start_time": "2023-01-28T22:21:17.825Z"
   },
   {
    "duration": 4,
    "start_time": "2023-01-28T22:21:44.477Z"
   },
   {
    "duration": 94,
    "start_time": "2023-01-28T22:21:48.508Z"
   },
   {
    "duration": 3,
    "start_time": "2023-01-28T22:24:54.912Z"
   },
   {
    "duration": 82,
    "start_time": "2023-01-28T22:24:58.141Z"
   },
   {
    "duration": 4,
    "start_time": "2023-01-28T22:25:54.810Z"
   },
   {
    "duration": 102,
    "start_time": "2023-01-28T22:25:58.094Z"
   },
   {
    "duration": 4,
    "start_time": "2023-01-28T22:26:07.908Z"
   },
   {
    "duration": 95,
    "start_time": "2023-01-28T22:26:10.511Z"
   },
   {
    "duration": 7,
    "start_time": "2023-01-28T22:26:38.257Z"
   },
   {
    "duration": 82,
    "start_time": "2023-01-28T22:26:57.601Z"
   },
   {
    "duration": 5,
    "start_time": "2023-01-28T22:30:10.498Z"
   },
   {
    "duration": 7,
    "start_time": "2023-01-28T22:30:13.063Z"
   },
   {
    "duration": 11,
    "start_time": "2023-01-28T22:30:22.935Z"
   },
   {
    "duration": 946,
    "start_time": "2023-01-28T22:30:29.878Z"
   },
   {
    "duration": 4,
    "start_time": "2023-01-28T22:30:56.159Z"
   },
   {
    "duration": 95,
    "start_time": "2023-01-28T22:30:58.785Z"
   },
   {
    "duration": 4,
    "start_time": "2023-01-28T22:31:22.511Z"
   },
   {
    "duration": 14,
    "start_time": "2023-01-28T22:31:24.887Z"
   },
   {
    "duration": 3,
    "start_time": "2023-01-28T22:31:44.257Z"
   },
   {
    "duration": 98,
    "start_time": "2023-01-28T22:31:47.492Z"
   },
   {
    "duration": 5,
    "start_time": "2023-01-28T23:02:59.058Z"
   },
   {
    "duration": 125,
    "start_time": "2023-01-28T23:03:01.677Z"
   },
   {
    "duration": 159,
    "start_time": "2023-01-28T23:03:19.102Z"
   },
   {
    "duration": 4,
    "start_time": "2023-01-28T23:04:53.665Z"
   },
   {
    "duration": 104,
    "start_time": "2023-01-28T23:04:58.120Z"
   },
   {
    "duration": 4,
    "start_time": "2023-01-28T23:05:17.594Z"
   },
   {
    "duration": 107,
    "start_time": "2023-01-28T23:05:19.959Z"
   },
   {
    "duration": 5,
    "start_time": "2023-01-28T23:05:54.549Z"
   },
   {
    "duration": 97,
    "start_time": "2023-01-28T23:05:56.845Z"
   },
   {
    "duration": 5,
    "start_time": "2023-01-28T23:08:21.730Z"
   },
   {
    "duration": 6,
    "start_time": "2023-01-28T23:08:27.834Z"
   },
   {
    "duration": 105,
    "start_time": "2023-01-28T23:08:30.192Z"
   },
   {
    "duration": 87,
    "start_time": "2023-01-28T23:09:14.839Z"
   },
   {
    "duration": 4,
    "start_time": "2023-01-28T23:09:25.384Z"
   },
   {
    "duration": 106,
    "start_time": "2023-01-28T23:09:27.916Z"
   },
   {
    "duration": 90,
    "start_time": "2023-01-28T23:11:34.829Z"
   },
   {
    "duration": 5,
    "start_time": "2023-01-28T23:13:36.239Z"
   },
   {
    "duration": 83,
    "start_time": "2023-01-28T23:13:40.700Z"
   },
   {
    "duration": 4,
    "start_time": "2023-01-28T23:14:17.220Z"
   },
   {
    "duration": 19,
    "start_time": "2023-01-28T23:14:19.351Z"
   },
   {
    "duration": 4,
    "start_time": "2023-01-28T23:14:32.818Z"
   },
   {
    "duration": 17,
    "start_time": "2023-01-28T23:14:40.145Z"
   },
   {
    "duration": 4,
    "start_time": "2023-01-28T23:14:51.020Z"
   },
   {
    "duration": 24,
    "start_time": "2023-01-28T23:14:53.259Z"
   },
   {
    "duration": 19,
    "start_time": "2023-01-28T23:15:10.969Z"
   },
   {
    "duration": 4,
    "start_time": "2023-01-28T23:15:40.628Z"
   },
   {
    "duration": 16,
    "start_time": "2023-01-28T23:15:43.679Z"
   },
   {
    "duration": 4,
    "start_time": "2023-01-28T23:18:58.821Z"
   },
   {
    "duration": 15,
    "start_time": "2023-01-28T23:19:01.576Z"
   },
   {
    "duration": 4,
    "start_time": "2023-01-28T23:19:21.203Z"
   },
   {
    "duration": 21,
    "start_time": "2023-01-28T23:19:22.918Z"
   },
   {
    "duration": 6,
    "start_time": "2023-01-28T23:19:33.126Z"
   },
   {
    "duration": 20,
    "start_time": "2023-01-28T23:19:47.590Z"
   },
   {
    "duration": 4,
    "start_time": "2023-01-28T23:19:59.809Z"
   },
   {
    "duration": 16,
    "start_time": "2023-01-28T23:20:02.180Z"
   },
   {
    "duration": 17,
    "start_time": "2023-01-28T23:20:15.087Z"
   },
   {
    "duration": 18,
    "start_time": "2023-01-28T23:22:26.193Z"
   },
   {
    "duration": 16,
    "start_time": "2023-01-28T23:22:39.055Z"
   },
   {
    "duration": 17,
    "start_time": "2023-01-28T23:23:16.100Z"
   },
   {
    "duration": 16,
    "start_time": "2023-01-28T23:23:22.551Z"
   },
   {
    "duration": 12,
    "start_time": "2023-01-28T23:23:27.280Z"
   },
   {
    "duration": 7,
    "start_time": "2023-01-28T23:23:42.786Z"
   },
   {
    "duration": 6,
    "start_time": "2023-01-28T23:24:05.317Z"
   },
   {
    "duration": 5,
    "start_time": "2023-01-28T23:33:13.468Z"
   },
   {
    "duration": 104,
    "start_time": "2023-01-28T23:33:49.357Z"
   },
   {
    "duration": 72,
    "start_time": "2023-01-28T23:34:10.988Z"
   },
   {
    "duration": 64,
    "start_time": "2023-01-28T23:34:15.202Z"
   },
   {
    "duration": 75,
    "start_time": "2023-01-28T23:34:37.429Z"
   },
   {
    "duration": 5,
    "start_time": "2023-01-28T23:35:03.830Z"
   },
   {
    "duration": 8,
    "start_time": "2023-01-28T23:35:16.851Z"
   },
   {
    "duration": 6,
    "start_time": "2023-01-28T23:35:23.618Z"
   },
   {
    "duration": 8,
    "start_time": "2023-01-28T23:35:25.525Z"
   },
   {
    "duration": 46,
    "start_time": "2023-01-29T11:26:07.902Z"
   },
   {
    "duration": 1476,
    "start_time": "2023-01-29T11:26:17.853Z"
   },
   {
    "duration": 87,
    "start_time": "2023-01-29T11:26:19.332Z"
   },
   {
    "duration": 537,
    "start_time": "2023-01-29T11:26:19.420Z"
   },
   {
    "duration": 5,
    "start_time": "2023-01-29T11:26:19.959Z"
   },
   {
    "duration": 114,
    "start_time": "2023-01-29T11:26:19.966Z"
   },
   {
    "duration": 0,
    "start_time": "2023-01-29T11:26:20.082Z"
   },
   {
    "duration": 0,
    "start_time": "2023-01-29T11:26:20.083Z"
   },
   {
    "duration": 0,
    "start_time": "2023-01-29T11:26:20.084Z"
   },
   {
    "duration": 0,
    "start_time": "2023-01-29T11:26:20.085Z"
   },
   {
    "duration": 0,
    "start_time": "2023-01-29T11:26:20.086Z"
   },
   {
    "duration": 0,
    "start_time": "2023-01-29T11:26:20.087Z"
   },
   {
    "duration": 0,
    "start_time": "2023-01-29T11:26:20.088Z"
   },
   {
    "duration": 0,
    "start_time": "2023-01-29T11:26:20.089Z"
   },
   {
    "duration": 1288,
    "start_time": "2023-01-29T11:27:57.891Z"
   },
   {
    "duration": 1310,
    "start_time": "2023-01-29T11:28:10.075Z"
   },
   {
    "duration": 1503,
    "start_time": "2023-01-29T11:28:29.613Z"
   },
   {
    "duration": 1335,
    "start_time": "2023-01-29T11:28:37.392Z"
   },
   {
    "duration": 1536,
    "start_time": "2023-01-29T11:28:44.632Z"
   },
   {
    "duration": 1598,
    "start_time": "2023-01-29T11:28:50.391Z"
   },
   {
    "duration": 1665,
    "start_time": "2023-01-29T11:28:55.177Z"
   },
   {
    "duration": 11,
    "start_time": "2023-01-29T11:31:08.067Z"
   },
   {
    "duration": 4,
    "start_time": "2023-01-29T11:31:51.229Z"
   },
   {
    "duration": 4,
    "start_time": "2023-01-29T11:32:14.186Z"
   },
   {
    "duration": 15,
    "start_time": "2023-01-29T11:32:24.950Z"
   },
   {
    "duration": 1471,
    "start_time": "2023-01-29T11:32:32.332Z"
   },
   {
    "duration": 33,
    "start_time": "2023-01-29T11:32:33.806Z"
   },
   {
    "duration": 796,
    "start_time": "2023-01-29T11:32:33.841Z"
   },
   {
    "duration": 6,
    "start_time": "2023-01-29T11:32:34.648Z"
   },
   {
    "duration": 1817,
    "start_time": "2023-01-29T11:32:34.656Z"
   },
   {
    "duration": 19,
    "start_time": "2023-01-29T11:32:36.475Z"
   },
   {
    "duration": 523,
    "start_time": "2023-01-29T11:32:36.496Z"
   },
   {
    "duration": 113,
    "start_time": "2023-01-29T11:32:37.021Z"
   },
   {
    "duration": 505,
    "start_time": "2023-01-29T11:32:37.136Z"
   },
   {
    "duration": 9,
    "start_time": "2023-01-29T11:32:37.643Z"
   },
   {
    "duration": 12,
    "start_time": "2023-01-29T11:32:37.654Z"
   },
   {
    "duration": 107,
    "start_time": "2023-01-29T11:32:37.668Z"
   },
   {
    "duration": 0,
    "start_time": "2023-01-29T11:32:37.777Z"
   },
   {
    "duration": 0,
    "start_time": "2023-01-29T11:32:37.778Z"
   },
   {
    "duration": 10,
    "start_time": "2023-01-29T11:33:18.437Z"
   },
   {
    "duration": 11,
    "start_time": "2023-01-29T11:33:20.690Z"
   },
   {
    "duration": 7,
    "start_time": "2023-01-29T11:33:23.365Z"
   },
   {
    "duration": 7,
    "start_time": "2023-01-29T11:33:24.039Z"
   },
   {
    "duration": 1375,
    "start_time": "2023-01-29T11:33:29.523Z"
   },
   {
    "duration": 29,
    "start_time": "2023-01-29T11:33:30.900Z"
   },
   {
    "duration": 561,
    "start_time": "2023-01-29T11:33:30.931Z"
   },
   {
    "duration": 7,
    "start_time": "2023-01-29T11:33:31.494Z"
   },
   {
    "duration": 1623,
    "start_time": "2023-01-29T11:33:31.502Z"
   },
   {
    "duration": 14,
    "start_time": "2023-01-29T11:33:33.127Z"
   },
   {
    "duration": 616,
    "start_time": "2023-01-29T11:33:33.143Z"
   },
   {
    "duration": 119,
    "start_time": "2023-01-29T11:33:33.761Z"
   },
   {
    "duration": 440,
    "start_time": "2023-01-29T11:33:33.881Z"
   },
   {
    "duration": 3,
    "start_time": "2023-01-29T11:33:34.324Z"
   },
   {
    "duration": 20,
    "start_time": "2023-01-29T11:33:34.329Z"
   },
   {
    "duration": 9,
    "start_time": "2023-01-29T11:33:34.350Z"
   },
   {
    "duration": 6,
    "start_time": "2023-01-29T11:33:34.361Z"
   },
   {
    "duration": 7,
    "start_time": "2023-01-29T11:33:34.369Z"
   },
   {
    "duration": 1477,
    "start_time": "2023-01-29T11:33:39.969Z"
   },
   {
    "duration": 90,
    "start_time": "2023-01-29T11:34:44.595Z"
   },
   {
    "duration": 8,
    "start_time": "2023-01-29T11:34:50.583Z"
   },
   {
    "duration": 6,
    "start_time": "2023-01-29T11:34:59.082Z"
   },
   {
    "duration": 100,
    "start_time": "2023-01-29T11:36:46.457Z"
   },
   {
    "duration": 5,
    "start_time": "2023-01-29T11:37:13.148Z"
   },
   {
    "duration": 8,
    "start_time": "2023-01-29T11:37:38.127Z"
   },
   {
    "duration": 71,
    "start_time": "2023-01-29T11:38:00.501Z"
   },
   {
    "duration": 79,
    "start_time": "2023-01-29T11:38:05.416Z"
   },
   {
    "duration": 7,
    "start_time": "2023-01-29T11:38:09.487Z"
   },
   {
    "duration": 672,
    "start_time": "2023-01-29T11:38:26.752Z"
   },
   {
    "duration": 1325,
    "start_time": "2023-01-29T11:38:39.781Z"
   },
   {
    "duration": 28,
    "start_time": "2023-01-29T11:38:41.108Z"
   },
   {
    "duration": 547,
    "start_time": "2023-01-29T11:38:41.137Z"
   },
   {
    "duration": 5,
    "start_time": "2023-01-29T11:38:41.686Z"
   },
   {
    "duration": 8,
    "start_time": "2023-01-29T11:38:41.693Z"
   },
   {
    "duration": 1577,
    "start_time": "2023-01-29T11:38:41.703Z"
   },
   {
    "duration": 12,
    "start_time": "2023-01-29T11:38:43.282Z"
   },
   {
    "duration": 520,
    "start_time": "2023-01-29T11:38:43.295Z"
   },
   {
    "duration": 111,
    "start_time": "2023-01-29T11:38:43.817Z"
   },
   {
    "duration": 460,
    "start_time": "2023-01-29T11:38:43.930Z"
   },
   {
    "duration": 3,
    "start_time": "2023-01-29T11:38:44.392Z"
   },
   {
    "duration": 11,
    "start_time": "2023-01-29T11:38:44.396Z"
   },
   {
    "duration": 10,
    "start_time": "2023-01-29T11:38:44.408Z"
   },
   {
    "duration": 29,
    "start_time": "2023-01-29T11:38:44.420Z"
   },
   {
    "duration": 5,
    "start_time": "2023-01-29T11:38:44.451Z"
   },
   {
    "duration": 4,
    "start_time": "2023-01-29T11:42:14.949Z"
   },
   {
    "duration": 492,
    "start_time": "2023-01-29T11:42:55.396Z"
   },
   {
    "duration": 514,
    "start_time": "2023-01-29T11:43:55.753Z"
   },
   {
    "duration": 467,
    "start_time": "2023-01-29T11:44:12.237Z"
   },
   {
    "duration": 105,
    "start_time": "2023-01-29T11:45:16.049Z"
   },
   {
    "duration": 463,
    "start_time": "2023-01-29T11:45:17.629Z"
   },
   {
    "duration": 65,
    "start_time": "2023-01-29T11:51:28.026Z"
   },
   {
    "duration": 5,
    "start_time": "2023-01-29T11:51:42.268Z"
   },
   {
    "duration": 5,
    "start_time": "2023-01-29T11:55:49.147Z"
   },
   {
    "duration": 4,
    "start_time": "2023-01-29T11:55:57.990Z"
   },
   {
    "duration": 5,
    "start_time": "2023-01-29T11:56:23.725Z"
   },
   {
    "duration": 1351,
    "start_time": "2023-01-29T11:56:47.523Z"
   },
   {
    "duration": 28,
    "start_time": "2023-01-29T11:56:48.876Z"
   },
   {
    "duration": 553,
    "start_time": "2023-01-29T11:56:48.906Z"
   },
   {
    "duration": 5,
    "start_time": "2023-01-29T11:56:49.460Z"
   },
   {
    "duration": 7,
    "start_time": "2023-01-29T11:56:49.467Z"
   },
   {
    "duration": 11,
    "start_time": "2023-01-29T11:56:49.476Z"
   },
   {
    "duration": 11,
    "start_time": "2023-01-29T11:56:49.488Z"
   },
   {
    "duration": 444,
    "start_time": "2023-01-29T11:56:49.500Z"
   },
   {
    "duration": 4,
    "start_time": "2023-01-29T11:56:49.949Z"
   },
   {
    "duration": 10,
    "start_time": "2023-01-29T11:56:49.954Z"
   },
   {
    "duration": 8,
    "start_time": "2023-01-29T11:56:49.965Z"
   },
   {
    "duration": 7,
    "start_time": "2023-01-29T11:56:49.974Z"
   },
   {
    "duration": 6,
    "start_time": "2023-01-29T11:56:49.982Z"
   },
   {
    "duration": 5,
    "start_time": "2023-01-29T11:56:49.990Z"
   },
   {
    "duration": 2269,
    "start_time": "2023-01-29T13:26:40.948Z"
   },
   {
    "duration": 27,
    "start_time": "2023-01-29T13:26:43.218Z"
   },
   {
    "duration": 624,
    "start_time": "2023-01-29T13:27:06.652Z"
   },
   {
    "duration": 5,
    "start_time": "2023-01-29T13:27:12.668Z"
   },
   {
    "duration": 7,
    "start_time": "2023-01-29T13:27:13.152Z"
   },
   {
    "duration": 11,
    "start_time": "2023-01-29T13:27:13.293Z"
   },
   {
    "duration": 7,
    "start_time": "2023-01-29T13:27:13.448Z"
   },
   {
    "duration": 432,
    "start_time": "2023-01-29T13:27:14.293Z"
   },
   {
    "duration": 4,
    "start_time": "2023-01-29T13:30:14.078Z"
   },
   {
    "duration": 8,
    "start_time": "2023-01-29T13:30:33.167Z"
   },
   {
    "duration": 10,
    "start_time": "2023-01-29T13:30:33.621Z"
   },
   {
    "duration": 8,
    "start_time": "2023-01-29T13:30:34.849Z"
   },
   {
    "duration": 6,
    "start_time": "2023-01-29T13:30:35.158Z"
   },
   {
    "duration": 5,
    "start_time": "2023-01-29T13:30:36.055Z"
   },
   {
    "duration": 16,
    "start_time": "2023-01-29T15:53:50.201Z"
   },
   {
    "duration": 41,
    "start_time": "2023-01-29T15:53:51.126Z"
   },
   {
    "duration": 1516,
    "start_time": "2023-01-29T15:53:57.810Z"
   },
   {
    "duration": 82,
    "start_time": "2023-01-29T15:53:59.328Z"
   },
   {
    "duration": 617,
    "start_time": "2023-01-29T15:53:59.412Z"
   },
   {
    "duration": 6,
    "start_time": "2023-01-29T15:54:00.031Z"
   },
   {
    "duration": 29,
    "start_time": "2023-01-29T15:54:00.038Z"
   },
   {
    "duration": 41,
    "start_time": "2023-01-29T15:54:00.069Z"
   },
   {
    "duration": 15,
    "start_time": "2023-01-29T15:54:00.112Z"
   },
   {
    "duration": 537,
    "start_time": "2023-01-29T15:54:00.129Z"
   },
   {
    "duration": 5,
    "start_time": "2023-01-29T15:54:00.668Z"
   },
   {
    "duration": 66,
    "start_time": "2023-01-29T15:54:00.676Z"
   },
   {
    "duration": 65,
    "start_time": "2023-01-29T15:54:00.744Z"
   },
   {
    "duration": 27,
    "start_time": "2023-01-29T15:54:00.811Z"
   },
   {
    "duration": 48,
    "start_time": "2023-01-29T15:54:00.840Z"
   },
   {
    "duration": 28,
    "start_time": "2023-01-29T15:54:00.890Z"
   },
   {
    "duration": 8,
    "start_time": "2023-01-29T16:02:53.445Z"
   },
   {
    "duration": 19340,
    "start_time": "2023-01-29T16:02:55.655Z"
   },
   {
    "duration": 8,
    "start_time": "2023-01-29T16:03:31.034Z"
   },
   {
    "duration": 52198,
    "start_time": "2023-01-29T16:03:32.171Z"
   },
   {
    "duration": 110,
    "start_time": "2023-01-29T16:16:42.947Z"
   },
   {
    "duration": 144,
    "start_time": "2023-01-29T16:16:59.917Z"
   },
   {
    "duration": 17676,
    "start_time": "2023-01-29T16:17:13.793Z"
   },
   {
    "duration": 20911,
    "start_time": "2023-01-29T16:18:50.392Z"
   },
   {
    "duration": 106,
    "start_time": "2023-01-29T16:21:36.180Z"
   },
   {
    "duration": 122,
    "start_time": "2023-01-29T16:22:02.001Z"
   },
   {
    "duration": 107,
    "start_time": "2023-01-29T16:22:23.066Z"
   },
   {
    "duration": 4,
    "start_time": "2023-01-29T16:22:32.439Z"
   },
   {
    "duration": 1316,
    "start_time": "2023-01-29T16:23:17.595Z"
   },
   {
    "duration": 24,
    "start_time": "2023-01-29T16:23:18.914Z"
   },
   {
    "duration": 562,
    "start_time": "2023-01-29T16:23:18.940Z"
   },
   {
    "duration": 6,
    "start_time": "2023-01-29T16:23:19.504Z"
   },
   {
    "duration": 12,
    "start_time": "2023-01-29T16:23:19.512Z"
   },
   {
    "duration": 16,
    "start_time": "2023-01-29T16:23:19.525Z"
   },
   {
    "duration": 3,
    "start_time": "2023-01-29T16:23:19.543Z"
   },
   {
    "duration": 7,
    "start_time": "2023-01-29T16:23:19.548Z"
   },
   {
    "duration": 46076,
    "start_time": "2023-01-29T16:23:19.556Z"
   },
   {
    "duration": 3,
    "start_time": "2023-01-29T16:24:05.634Z"
   },
   {
    "duration": 31,
    "start_time": "2023-01-29T16:24:05.639Z"
   },
   {
    "duration": 45,
    "start_time": "2023-01-29T16:24:05.672Z"
   },
   {
    "duration": 30,
    "start_time": "2023-01-29T16:24:05.719Z"
   },
   {
    "duration": 37,
    "start_time": "2023-01-29T16:24:05.752Z"
   },
   {
    "duration": 45,
    "start_time": "2023-01-29T16:24:05.791Z"
   },
   {
    "duration": 5,
    "start_time": "2023-01-29T16:33:28.530Z"
   },
   {
    "duration": 18,
    "start_time": "2023-01-29T16:35:42.237Z"
   },
   {
    "duration": 14,
    "start_time": "2023-01-29T16:35:59.624Z"
   },
   {
    "duration": 131,
    "start_time": "2023-01-29T16:36:14.223Z"
   },
   {
    "duration": 13,
    "start_time": "2023-01-29T16:36:24.344Z"
   },
   {
    "duration": 127,
    "start_time": "2023-01-29T16:36:28.725Z"
   },
   {
    "duration": 135,
    "start_time": "2023-01-29T16:40:12.812Z"
   },
   {
    "duration": 250,
    "start_time": "2023-01-29T16:40:19.103Z"
   },
   {
    "duration": 146,
    "start_time": "2023-01-29T17:43:18.011Z"
   },
   {
    "duration": 52,
    "start_time": "2023-01-29T17:43:53.940Z"
   },
   {
    "duration": 39509,
    "start_time": "2023-01-29T17:43:58.880Z"
   },
   {
    "duration": 80834,
    "start_time": "2023-01-29T17:46:14.917Z"
   },
   {
    "duration": 32819,
    "start_time": "2023-01-29T17:49:03.546Z"
   },
   {
    "duration": 24,
    "start_time": "2023-01-29T17:49:46.992Z"
   },
   {
    "duration": 119,
    "start_time": "2023-01-29T17:50:16.060Z"
   },
   {
    "duration": 8,
    "start_time": "2023-01-29T17:55:03.271Z"
   },
   {
    "duration": 454,
    "start_time": "2023-01-29T17:55:05.134Z"
   },
   {
    "duration": 10,
    "start_time": "2023-01-29T17:55:46.363Z"
   },
   {
    "duration": 371,
    "start_time": "2023-01-29T17:55:47.598Z"
   },
   {
    "duration": 8,
    "start_time": "2023-01-29T17:56:47.119Z"
   },
   {
    "duration": 355,
    "start_time": "2023-01-29T17:56:48.461Z"
   },
   {
    "duration": 7,
    "start_time": "2023-01-29T17:57:42.768Z"
   },
   {
    "duration": 369,
    "start_time": "2023-01-29T17:57:43.336Z"
   },
   {
    "duration": 9,
    "start_time": "2023-01-29T17:58:35.159Z"
   },
   {
    "duration": 384,
    "start_time": "2023-01-29T17:58:35.664Z"
   },
   {
    "duration": 7,
    "start_time": "2023-01-29T18:02:06.024Z"
   },
   {
    "duration": 401,
    "start_time": "2023-01-29T18:02:07.031Z"
   },
   {
    "duration": 7,
    "start_time": "2023-01-29T18:02:29.737Z"
   },
   {
    "duration": 377,
    "start_time": "2023-01-29T18:02:30.710Z"
   },
   {
    "duration": 8,
    "start_time": "2023-01-29T18:02:42.531Z"
   },
   {
    "duration": 328,
    "start_time": "2023-01-29T18:02:43.081Z"
   },
   {
    "duration": 10,
    "start_time": "2023-01-29T18:03:12.046Z"
   },
   {
    "duration": 346,
    "start_time": "2023-01-29T18:03:12.499Z"
   },
   {
    "duration": 6,
    "start_time": "2023-01-29T18:03:24.882Z"
   },
   {
    "duration": 340,
    "start_time": "2023-01-29T18:03:25.365Z"
   },
   {
    "duration": 14,
    "start_time": "2023-01-29T18:04:30.457Z"
   },
   {
    "duration": 16402,
    "start_time": "2023-01-29T18:04:30.874Z"
   },
   {
    "duration": 7,
    "start_time": "2023-01-29T18:05:06.807Z"
   },
   {
    "duration": 19566,
    "start_time": "2023-01-29T18:05:07.184Z"
   },
   {
    "duration": 7,
    "start_time": "2023-01-29T18:06:05.395Z"
   },
   {
    "duration": 77605,
    "start_time": "2023-01-29T18:06:05.858Z"
   },
   {
    "duration": 6,
    "start_time": "2023-01-29T18:14:59.940Z"
   },
   {
    "duration": 6,
    "start_time": "2023-01-29T18:16:05.902Z"
   },
   {
    "duration": 18,
    "start_time": "2023-01-29T18:16:06.846Z"
   },
   {
    "duration": 4,
    "start_time": "2023-01-29T18:16:24.185Z"
   },
   {
    "duration": 4,
    "start_time": "2023-01-29T18:16:54.079Z"
   },
   {
    "duration": 8,
    "start_time": "2023-01-29T18:17:46.069Z"
   },
   {
    "duration": 16,
    "start_time": "2023-01-29T18:17:46.945Z"
   },
   {
    "duration": 6,
    "start_time": "2023-01-29T18:17:55.800Z"
   },
   {
    "duration": 339,
    "start_time": "2023-01-29T18:17:56.242Z"
   },
   {
    "duration": 12,
    "start_time": "2023-01-29T18:18:12.665Z"
   },
   {
    "duration": 7,
    "start_time": "2023-01-29T18:18:53.110Z"
   },
   {
    "duration": 6,
    "start_time": "2023-01-29T18:19:18.855Z"
   },
   {
    "duration": 9,
    "start_time": "2023-01-29T18:19:43.913Z"
   },
   {
    "duration": 2271,
    "start_time": "2023-01-29T18:19:44.284Z"
   },
   {
    "duration": 6,
    "start_time": "2023-01-29T18:21:21.715Z"
   },
   {
    "duration": 341,
    "start_time": "2023-01-29T18:21:22.136Z"
   },
   {
    "duration": 7,
    "start_time": "2023-01-29T18:27:12.953Z"
   },
   {
    "duration": 6,
    "start_time": "2023-01-29T18:27:27.328Z"
   },
   {
    "duration": 447,
    "start_time": "2023-01-29T18:27:27.915Z"
   },
   {
    "duration": 295,
    "start_time": "2023-01-29T18:45:16.420Z"
   },
   {
    "duration": 4,
    "start_time": "2023-01-29T18:45:23.600Z"
   },
   {
    "duration": 302,
    "start_time": "2023-01-29T18:45:25.478Z"
   },
   {
    "duration": 8,
    "start_time": "2023-01-29T18:46:33.747Z"
   },
   {
    "duration": 21,
    "start_time": "2023-01-29T18:47:06.473Z"
   },
   {
    "duration": 15,
    "start_time": "2023-01-29T18:47:10.662Z"
   },
   {
    "duration": 669,
    "start_time": "2023-01-29T18:49:32.670Z"
   },
   {
    "duration": 0,
    "start_time": "2023-01-29T18:50:59.153Z"
   },
   {
    "duration": 7760,
    "start_time": "2023-01-29T18:51:00.542Z"
   },
   {
    "duration": 266100,
    "start_time": "2023-01-29T18:51:18.340Z"
   },
   {
    "duration": 95,
    "start_time": "2023-01-29T18:56:08.324Z"
   },
   {
    "duration": 271,
    "start_time": "2023-01-29T18:56:28.728Z"
   },
   {
    "duration": 406,
    "start_time": "2023-01-29T18:56:39.770Z"
   },
   {
    "duration": 5,
    "start_time": "2023-01-29T18:57:35.743Z"
   },
   {
    "duration": 294,
    "start_time": "2023-01-29T18:57:36.592Z"
   },
   {
    "duration": 5,
    "start_time": "2023-01-29T18:57:58.602Z"
   },
   {
    "duration": 302,
    "start_time": "2023-01-29T18:57:59.070Z"
   },
   {
    "duration": 5,
    "start_time": "2023-01-29T18:58:41.118Z"
   },
   {
    "duration": 306,
    "start_time": "2023-01-29T18:58:41.631Z"
   },
   {
    "duration": 5,
    "start_time": "2023-01-29T18:59:03.806Z"
   },
   {
    "duration": 295,
    "start_time": "2023-01-29T18:59:04.188Z"
   },
   {
    "duration": 6,
    "start_time": "2023-01-29T18:59:45.378Z"
   },
   {
    "duration": 278,
    "start_time": "2023-01-29T18:59:46.689Z"
   },
   {
    "duration": 7,
    "start_time": "2023-01-29T18:59:53.883Z"
   },
   {
    "duration": 291,
    "start_time": "2023-01-29T18:59:54.195Z"
   },
   {
    "duration": 5,
    "start_time": "2023-01-29T19:00:01.009Z"
   },
   {
    "duration": 310,
    "start_time": "2023-01-29T19:00:01.439Z"
   },
   {
    "duration": 8,
    "start_time": "2023-01-29T19:00:18.733Z"
   },
   {
    "duration": 6,
    "start_time": "2023-01-29T19:00:46.252Z"
   },
   {
    "duration": 300,
    "start_time": "2023-01-29T19:00:46.960Z"
   },
   {
    "duration": 6,
    "start_time": "2023-01-29T19:00:59.945Z"
   },
   {
    "duration": 337,
    "start_time": "2023-01-29T19:01:00.562Z"
   },
   {
    "duration": 6,
    "start_time": "2023-01-29T19:01:16.192Z"
   },
   {
    "duration": 405,
    "start_time": "2023-01-29T19:01:16.744Z"
   },
   {
    "duration": 6,
    "start_time": "2023-01-29T19:03:11.573Z"
   },
   {
    "duration": 377,
    "start_time": "2023-01-29T19:03:11.971Z"
   },
   {
    "duration": 5,
    "start_time": "2023-01-29T19:03:30.721Z"
   },
   {
    "duration": 518,
    "start_time": "2023-01-29T19:03:31.135Z"
   },
   {
    "duration": 6,
    "start_time": "2023-01-29T19:03:39.890Z"
   },
   {
    "duration": 510,
    "start_time": "2023-01-29T19:03:40.215Z"
   },
   {
    "duration": 8,
    "start_time": "2023-01-29T19:03:46.378Z"
   },
   {
    "duration": 560,
    "start_time": "2023-01-29T19:03:46.739Z"
   },
   {
    "duration": 5,
    "start_time": "2023-01-29T19:03:55.105Z"
   },
   {
    "duration": 519,
    "start_time": "2023-01-29T19:03:55.441Z"
   },
   {
    "duration": 7,
    "start_time": "2023-01-29T19:04:01.498Z"
   },
   {
    "duration": 440,
    "start_time": "2023-01-29T19:04:01.833Z"
   },
   {
    "duration": 5,
    "start_time": "2023-01-29T19:05:10.057Z"
   },
   {
    "duration": 455,
    "start_time": "2023-01-29T19:05:10.476Z"
   },
   {
    "duration": 6,
    "start_time": "2023-01-29T19:05:16.510Z"
   },
   {
    "duration": 474,
    "start_time": "2023-01-29T19:05:16.880Z"
   },
   {
    "duration": 5,
    "start_time": "2023-01-29T19:05:24.570Z"
   },
   {
    "duration": 450,
    "start_time": "2023-01-29T19:05:24.934Z"
   },
   {
    "duration": 4,
    "start_time": "2023-01-29T19:05:37.028Z"
   },
   {
    "duration": 466,
    "start_time": "2023-01-29T19:05:37.506Z"
   },
   {
    "duration": 5,
    "start_time": "2023-01-29T19:13:33.705Z"
   },
   {
    "duration": 429,
    "start_time": "2023-01-29T19:13:34.083Z"
   },
   {
    "duration": 7,
    "start_time": "2023-01-29T19:13:44.077Z"
   },
   {
    "duration": 416,
    "start_time": "2023-01-29T19:13:44.550Z"
   },
   {
    "duration": 6,
    "start_time": "2023-01-29T19:15:04.966Z"
   },
   {
    "duration": 655,
    "start_time": "2023-01-29T19:15:05.309Z"
   },
   {
    "duration": 403,
    "start_time": "2023-01-29T20:03:27.832Z"
   },
   {
    "duration": 332,
    "start_time": "2023-01-29T20:04:24.680Z"
   },
   {
    "duration": 355,
    "start_time": "2023-01-29T20:04:41.625Z"
   },
   {
    "duration": 295,
    "start_time": "2023-01-29T20:07:04.894Z"
   },
   {
    "duration": 312,
    "start_time": "2023-01-29T20:08:23.713Z"
   },
   {
    "duration": 254,
    "start_time": "2023-01-29T20:08:37.942Z"
   },
   {
    "duration": 285,
    "start_time": "2023-01-29T20:09:08.069Z"
   },
   {
    "duration": 271,
    "start_time": "2023-01-29T20:22:35.583Z"
   },
   {
    "duration": 250,
    "start_time": "2023-01-29T20:23:50.613Z"
   },
   {
    "duration": 255,
    "start_time": "2023-01-29T20:25:02.034Z"
   },
   {
    "duration": 260,
    "start_time": "2023-01-29T20:25:17.942Z"
   },
   {
    "duration": 5,
    "start_time": "2023-01-29T20:53:29.871Z"
   },
   {
    "duration": 264,
    "start_time": "2023-01-29T20:53:35.003Z"
   },
   {
    "duration": 5,
    "start_time": "2023-01-29T20:55:28.428Z"
   },
   {
    "duration": 258,
    "start_time": "2023-01-29T20:55:35.415Z"
   },
   {
    "duration": 48,
    "start_time": "2023-01-30T07:50:22.654Z"
   },
   {
    "duration": 5,
    "start_time": "2023-01-30T07:50:42.608Z"
   },
   {
    "duration": 1456,
    "start_time": "2023-01-30T07:50:46.361Z"
   },
   {
    "duration": 90,
    "start_time": "2023-01-30T07:50:47.818Z"
   },
   {
    "duration": 1347,
    "start_time": "2023-01-30T07:51:08.045Z"
   },
   {
    "duration": 30,
    "start_time": "2023-01-30T07:51:09.394Z"
   },
   {
    "duration": 103590,
    "start_time": "2023-01-30T07:51:09.426Z"
   },
   {
    "duration": 7,
    "start_time": "2023-01-30T07:52:53.019Z"
   },
   {
    "duration": 7,
    "start_time": "2023-01-30T07:52:53.028Z"
   },
   {
    "duration": 13,
    "start_time": "2023-01-30T07:52:53.037Z"
   },
   {
    "duration": 44,
    "start_time": "2023-01-30T07:52:53.052Z"
   },
   {
    "duration": 6,
    "start_time": "2023-01-30T07:52:53.098Z"
   },
   {
    "duration": 422,
    "start_time": "2023-01-30T07:52:53.105Z"
   },
   {
    "duration": 0,
    "start_time": "2023-01-30T07:52:53.529Z"
   },
   {
    "duration": 0,
    "start_time": "2023-01-30T07:52:53.531Z"
   },
   {
    "duration": 0,
    "start_time": "2023-01-30T07:52:53.532Z"
   },
   {
    "duration": 0,
    "start_time": "2023-01-30T07:52:53.534Z"
   },
   {
    "duration": 0,
    "start_time": "2023-01-30T07:52:53.535Z"
   },
   {
    "duration": 0,
    "start_time": "2023-01-30T07:52:53.536Z"
   },
   {
    "duration": 0,
    "start_time": "2023-01-30T07:52:53.537Z"
   },
   {
    "duration": 0,
    "start_time": "2023-01-30T07:52:53.538Z"
   },
   {
    "duration": 0,
    "start_time": "2023-01-30T07:52:53.540Z"
   },
   {
    "duration": 3,
    "start_time": "2023-01-30T07:58:35.164Z"
   },
   {
    "duration": 29,
    "start_time": "2023-01-30T07:58:35.589Z"
   },
   {
    "duration": 111633,
    "start_time": "2023-01-30T07:58:36.914Z"
   },
   {
    "duration": 0,
    "start_time": "2023-01-30T08:04:31.128Z"
   },
   {
    "duration": 102,
    "start_time": "2023-01-30T08:04:34.833Z"
   },
   {
    "duration": 223,
    "start_time": "2023-01-30T08:06:13.471Z"
   },
   {
    "duration": 367,
    "start_time": "2023-01-30T08:07:19.383Z"
   },
   {
    "duration": 11,
    "start_time": "2023-01-30T08:08:26.549Z"
   },
   {
    "duration": 10,
    "start_time": "2023-01-30T08:08:37.830Z"
   },
   {
    "duration": 80,
    "start_time": "2023-01-30T08:09:49.517Z"
   },
   {
    "duration": 12,
    "start_time": "2023-01-30T08:10:36.898Z"
   },
   {
    "duration": 10,
    "start_time": "2023-01-30T08:10:56.124Z"
   },
   {
    "duration": 9,
    "start_time": "2023-01-30T08:11:02.410Z"
   },
   {
    "duration": 9,
    "start_time": "2023-01-30T08:11:05.372Z"
   },
   {
    "duration": 32,
    "start_time": "2023-01-30T08:11:29.568Z"
   },
   {
    "duration": 12,
    "start_time": "2023-01-30T08:11:53.917Z"
   },
   {
    "duration": 10,
    "start_time": "2023-01-30T08:12:15.895Z"
   },
   {
    "duration": 10,
    "start_time": "2023-01-30T08:12:38.920Z"
   },
   {
    "duration": 11,
    "start_time": "2023-01-30T08:13:06.231Z"
   },
   {
    "duration": 1255,
    "start_time": "2023-01-30T08:16:10.213Z"
   },
   {
    "duration": 29,
    "start_time": "2023-01-30T08:16:11.470Z"
   },
   {
    "duration": 111724,
    "start_time": "2023-01-30T08:16:11.501Z"
   },
   {
    "duration": 7,
    "start_time": "2023-01-30T08:18:03.228Z"
   },
   {
    "duration": 137,
    "start_time": "2023-01-30T08:18:03.237Z"
   },
   {
    "duration": 112,
    "start_time": "2023-01-30T08:18:03.375Z"
   },
   {
    "duration": 0,
    "start_time": "2023-01-30T08:18:03.493Z"
   },
   {
    "duration": 0,
    "start_time": "2023-01-30T08:18:03.494Z"
   },
   {
    "duration": 0,
    "start_time": "2023-01-30T08:18:03.495Z"
   },
   {
    "duration": 0,
    "start_time": "2023-01-30T08:18:03.496Z"
   },
   {
    "duration": 0,
    "start_time": "2023-01-30T08:18:03.497Z"
   },
   {
    "duration": 0,
    "start_time": "2023-01-30T08:18:03.499Z"
   },
   {
    "duration": 0,
    "start_time": "2023-01-30T08:18:03.500Z"
   },
   {
    "duration": 0,
    "start_time": "2023-01-30T08:18:03.501Z"
   },
   {
    "duration": 0,
    "start_time": "2023-01-30T08:18:03.502Z"
   },
   {
    "duration": 0,
    "start_time": "2023-01-30T08:18:03.503Z"
   },
   {
    "duration": 0,
    "start_time": "2023-01-30T08:18:03.504Z"
   },
   {
    "duration": 0,
    "start_time": "2023-01-30T08:18:03.505Z"
   },
   {
    "duration": 0,
    "start_time": "2023-01-30T08:18:03.506Z"
   },
   {
    "duration": 0,
    "start_time": "2023-01-30T08:18:03.507Z"
   },
   {
    "duration": 0,
    "start_time": "2023-01-30T08:18:03.508Z"
   },
   {
    "duration": 4,
    "start_time": "2023-01-30T08:23:02.751Z"
   },
   {
    "duration": 10,
    "start_time": "2023-01-30T08:23:31.003Z"
   },
   {
    "duration": 10,
    "start_time": "2023-01-30T08:23:55.674Z"
   },
   {
    "duration": 121,
    "start_time": "2023-01-30T08:25:23.881Z"
   },
   {
    "duration": 118,
    "start_time": "2023-01-30T08:25:42.543Z"
   },
   {
    "duration": 121,
    "start_time": "2023-01-30T08:25:58.962Z"
   },
   {
    "duration": 116,
    "start_time": "2023-01-30T08:27:09.560Z"
   },
   {
    "duration": 244,
    "start_time": "2023-01-30T08:27:23.764Z"
   },
   {
    "duration": 701,
    "start_time": "2023-01-30T08:27:37.364Z"
   },
   {
    "duration": 53,
    "start_time": "2023-01-30T08:28:06.390Z"
   },
   {
    "duration": 13,
    "start_time": "2023-01-30T08:28:10.025Z"
   },
   {
    "duration": 5,
    "start_time": "2023-01-30T08:28:10.845Z"
   },
   {
    "duration": 672,
    "start_time": "2023-01-30T08:28:12.195Z"
   },
   {
    "duration": 557,
    "start_time": "2023-01-30T08:28:47.570Z"
   },
   {
    "duration": 67,
    "start_time": "2023-01-30T14:11:42.908Z"
   },
   {
    "duration": 1503,
    "start_time": "2023-01-30T14:11:49.065Z"
   },
   {
    "duration": 92,
    "start_time": "2023-01-30T14:11:50.570Z"
   },
   {
    "duration": 592,
    "start_time": "2023-01-30T14:11:50.664Z"
   },
   {
    "duration": 13,
    "start_time": "2023-01-30T14:11:51.259Z"
   },
   {
    "duration": 7,
    "start_time": "2023-01-30T14:11:51.273Z"
   },
   {
    "duration": 121,
    "start_time": "2023-01-30T14:11:51.281Z"
   },
   {
    "duration": 0,
    "start_time": "2023-01-30T14:11:51.405Z"
   },
   {
    "duration": 0,
    "start_time": "2023-01-30T14:11:51.406Z"
   },
   {
    "duration": 0,
    "start_time": "2023-01-30T14:11:51.408Z"
   },
   {
    "duration": 0,
    "start_time": "2023-01-30T14:11:51.409Z"
   },
   {
    "duration": 0,
    "start_time": "2023-01-30T14:11:51.411Z"
   },
   {
    "duration": 0,
    "start_time": "2023-01-30T14:11:51.412Z"
   },
   {
    "duration": 0,
    "start_time": "2023-01-30T14:11:51.413Z"
   },
   {
    "duration": 0,
    "start_time": "2023-01-30T14:11:51.414Z"
   },
   {
    "duration": 0,
    "start_time": "2023-01-30T14:11:51.415Z"
   },
   {
    "duration": 0,
    "start_time": "2023-01-30T14:11:51.416Z"
   },
   {
    "duration": 0,
    "start_time": "2023-01-30T14:11:51.420Z"
   },
   {
    "duration": 0,
    "start_time": "2023-01-30T14:11:51.421Z"
   },
   {
    "duration": 0,
    "start_time": "2023-01-30T14:11:51.422Z"
   },
   {
    "duration": 0,
    "start_time": "2023-01-30T14:11:51.423Z"
   },
   {
    "duration": 0,
    "start_time": "2023-01-30T14:11:51.424Z"
   },
   {
    "duration": 0,
    "start_time": "2023-01-30T14:11:51.449Z"
   },
   {
    "duration": 254,
    "start_time": "2023-01-30T14:12:29.811Z"
   },
   {
    "duration": 217,
    "start_time": "2023-01-30T14:12:38.377Z"
   },
   {
    "duration": 49,
    "start_time": "2023-01-30T20:04:13.155Z"
   },
   {
    "duration": 1611,
    "start_time": "2023-01-30T20:04:21.870Z"
   },
   {
    "duration": 86,
    "start_time": "2023-01-30T20:04:23.483Z"
   },
   {
    "duration": 612,
    "start_time": "2023-01-30T20:04:23.571Z"
   },
   {
    "duration": 14,
    "start_time": "2023-01-30T20:04:24.185Z"
   },
   {
    "duration": 10,
    "start_time": "2023-01-30T20:04:24.200Z"
   },
   {
    "duration": 232,
    "start_time": "2023-01-30T20:04:24.211Z"
   },
   {
    "duration": 747,
    "start_time": "2023-01-30T20:04:24.452Z"
   },
   {
    "duration": 121,
    "start_time": "2023-01-30T20:04:25.200Z"
   },
   {
    "duration": 0,
    "start_time": "2023-01-30T20:04:25.323Z"
   },
   {
    "duration": 0,
    "start_time": "2023-01-30T20:04:25.324Z"
   },
   {
    "duration": 0,
    "start_time": "2023-01-30T20:04:25.325Z"
   },
   {
    "duration": 0,
    "start_time": "2023-01-30T20:04:25.326Z"
   },
   {
    "duration": 0,
    "start_time": "2023-01-30T20:04:25.328Z"
   },
   {
    "duration": 0,
    "start_time": "2023-01-30T20:04:25.330Z"
   },
   {
    "duration": 0,
    "start_time": "2023-01-30T20:04:25.331Z"
   },
   {
    "duration": 0,
    "start_time": "2023-01-30T20:04:25.332Z"
   },
   {
    "duration": 0,
    "start_time": "2023-01-30T20:04:25.333Z"
   },
   {
    "duration": 0,
    "start_time": "2023-01-30T20:04:25.353Z"
   },
   {
    "duration": 0,
    "start_time": "2023-01-30T20:04:25.355Z"
   },
   {
    "duration": 0,
    "start_time": "2023-01-30T20:04:25.356Z"
   },
   {
    "duration": 0,
    "start_time": "2023-01-30T20:04:25.357Z"
   },
   {
    "duration": 10,
    "start_time": "2023-01-30T20:04:54.205Z"
   },
   {
    "duration": 14,
    "start_time": "2023-01-30T20:05:05.099Z"
   },
   {
    "duration": 4,
    "start_time": "2023-01-30T20:05:19.049Z"
   },
   {
    "duration": 4,
    "start_time": "2023-01-30T20:05:26.318Z"
   },
   {
    "duration": 5,
    "start_time": "2023-01-30T20:05:34.546Z"
   },
   {
    "duration": 5,
    "start_time": "2023-01-30T20:06:03.499Z"
   },
   {
    "duration": 5,
    "start_time": "2023-01-30T20:06:07.772Z"
   },
   {
    "duration": 16,
    "start_time": "2023-01-30T20:06:16.951Z"
   },
   {
    "duration": 5,
    "start_time": "2023-01-30T20:06:54.643Z"
   },
   {
    "duration": 21,
    "start_time": "2023-01-30T20:07:05.920Z"
   },
   {
    "duration": 139,
    "start_time": "2023-01-30T20:07:11.630Z"
   },
   {
    "duration": 9,
    "start_time": "2023-01-30T20:07:19.172Z"
   },
   {
    "duration": 9,
    "start_time": "2023-01-30T20:07:28.205Z"
   },
   {
    "duration": 77,
    "start_time": "2023-01-30T20:07:47.896Z"
   },
   {
    "duration": 187,
    "start_time": "2023-01-30T20:07:58.238Z"
   },
   {
    "duration": 181,
    "start_time": "2023-01-30T20:09:32.738Z"
   },
   {
    "duration": 186,
    "start_time": "2023-01-30T20:09:39.690Z"
   },
   {
    "duration": 10817,
    "start_time": "2023-01-30T20:23:36.565Z"
   },
   {
    "duration": 215,
    "start_time": "2023-01-30T20:24:18.558Z"
   },
   {
    "duration": 416,
    "start_time": "2023-01-30T20:24:41.348Z"
   },
   {
    "duration": 463,
    "start_time": "2023-01-30T20:24:56.720Z"
   },
   {
    "duration": 591,
    "start_time": "2023-01-30T20:26:05.271Z"
   },
   {
    "duration": 459,
    "start_time": "2023-01-30T20:26:08.992Z"
   },
   {
    "duration": 10950,
    "start_time": "2023-01-30T20:27:22.839Z"
   },
   {
    "duration": 225,
    "start_time": "2023-01-30T20:29:45.735Z"
   },
   {
    "duration": 245,
    "start_time": "2023-01-30T20:30:30.510Z"
   },
   {
    "duration": 323,
    "start_time": "2023-01-30T20:30:35.663Z"
   },
   {
    "duration": 301,
    "start_time": "2023-01-30T20:30:49.063Z"
   },
   {
    "duration": 319,
    "start_time": "2023-01-30T20:31:13.592Z"
   },
   {
    "duration": 306,
    "start_time": "2023-01-30T20:31:29.149Z"
   },
   {
    "duration": 304,
    "start_time": "2023-01-30T20:31:35.733Z"
   },
   {
    "duration": 321,
    "start_time": "2023-01-30T20:32:05.680Z"
   },
   {
    "duration": 320,
    "start_time": "2023-01-30T20:32:52.155Z"
   },
   {
    "duration": 5,
    "start_time": "2023-01-30T20:33:00.164Z"
   },
   {
    "duration": 587,
    "start_time": "2023-01-30T20:33:06.427Z"
   },
   {
    "duration": 326,
    "start_time": "2023-01-30T20:33:26.410Z"
   },
   {
    "duration": 307,
    "start_time": "2023-01-30T20:33:35.933Z"
   },
   {
    "duration": 320,
    "start_time": "2023-01-30T20:34:19.759Z"
   },
   {
    "duration": 354,
    "start_time": "2023-01-30T20:34:43.390Z"
   },
   {
    "duration": 376,
    "start_time": "2023-01-30T20:34:55.016Z"
   },
   {
    "duration": 329,
    "start_time": "2023-01-30T20:35:39.068Z"
   },
   {
    "duration": 313,
    "start_time": "2023-01-30T20:36:45.342Z"
   },
   {
    "duration": 488,
    "start_time": "2023-01-30T20:41:20.086Z"
   },
   {
    "duration": 331,
    "start_time": "2023-01-30T20:42:51.740Z"
   },
   {
    "duration": 330,
    "start_time": "2023-01-30T20:43:20.095Z"
   },
   {
    "duration": 342,
    "start_time": "2023-01-30T20:47:07.240Z"
   },
   {
    "duration": 329,
    "start_time": "2023-01-30T20:47:13.524Z"
   },
   {
    "duration": 353,
    "start_time": "2023-01-30T20:57:21.342Z"
   },
   {
    "duration": 17,
    "start_time": "2023-01-30T21:16:14.632Z"
   },
   {
    "duration": 11,
    "start_time": "2023-01-30T21:17:55.835Z"
   },
   {
    "duration": 48,
    "start_time": "2023-01-30T21:18:15.692Z"
   },
   {
    "duration": 3,
    "start_time": "2023-01-30T21:18:21.529Z"
   },
   {
    "duration": 8,
    "start_time": "2023-01-30T21:19:12.440Z"
   },
   {
    "duration": 47,
    "start_time": "2023-01-30T21:21:47.267Z"
   },
   {
    "duration": 52,
    "start_time": "2023-01-30T21:21:50.050Z"
   },
   {
    "duration": 41,
    "start_time": "2023-01-30T21:21:55.910Z"
   },
   {
    "duration": 4,
    "start_time": "2023-01-30T21:22:07.746Z"
   },
   {
    "duration": 7,
    "start_time": "2023-01-30T21:23:24.044Z"
   },
   {
    "duration": 55,
    "start_time": "2023-01-30T21:24:06.124Z"
   },
   {
    "duration": 7,
    "start_time": "2023-01-30T21:24:11.069Z"
   },
   {
    "duration": 4,
    "start_time": "2023-01-30T21:24:49.392Z"
   },
   {
    "duration": 4,
    "start_time": "2023-01-30T21:25:04.316Z"
   },
   {
    "duration": 8,
    "start_time": "2023-01-30T21:25:05.444Z"
   },
   {
    "duration": 8,
    "start_time": "2023-01-30T21:25:40.884Z"
   },
   {
    "duration": 6,
    "start_time": "2023-01-30T21:25:42.980Z"
   },
   {
    "duration": 483,
    "start_time": "2023-01-30T21:25:43.395Z"
   },
   {
    "duration": 3,
    "start_time": "2023-01-30T21:26:04.488Z"
   },
   {
    "duration": 7,
    "start_time": "2023-01-30T21:26:05.833Z"
   },
   {
    "duration": 17,
    "start_time": "2023-01-30T21:26:17.750Z"
   },
   {
    "duration": 7,
    "start_time": "2023-01-30T21:26:18.778Z"
   },
   {
    "duration": 4,
    "start_time": "2023-01-30T21:26:36.309Z"
   },
   {
    "duration": 7,
    "start_time": "2023-01-30T21:26:37.239Z"
   },
   {
    "duration": 4,
    "start_time": "2023-01-30T21:26:45.699Z"
   },
   {
    "duration": 26,
    "start_time": "2023-01-30T21:26:46.452Z"
   },
   {
    "duration": 4,
    "start_time": "2023-01-30T21:27:05.143Z"
   },
   {
    "duration": 9,
    "start_time": "2023-01-30T21:27:05.618Z"
   },
   {
    "duration": 4,
    "start_time": "2023-01-30T21:27:45.680Z"
   },
   {
    "duration": 21,
    "start_time": "2023-01-30T21:27:46.141Z"
   },
   {
    "duration": 5,
    "start_time": "2023-01-30T21:27:51.543Z"
   },
   {
    "duration": 6,
    "start_time": "2023-01-30T21:27:51.979Z"
   },
   {
    "duration": 6,
    "start_time": "2023-01-30T21:39:34.825Z"
   },
   {
    "duration": 7,
    "start_time": "2023-01-30T21:40:08.900Z"
   },
   {
    "duration": 7,
    "start_time": "2023-01-30T21:40:28.262Z"
   },
   {
    "duration": 4,
    "start_time": "2023-01-30T21:41:23.579Z"
   },
   {
    "duration": 9,
    "start_time": "2023-01-30T21:41:24.246Z"
   },
   {
    "duration": 10,
    "start_time": "2023-01-30T22:01:58.900Z"
   },
   {
    "duration": 10,
    "start_time": "2023-01-30T22:02:03.763Z"
   },
   {
    "duration": 10,
    "start_time": "2023-01-30T22:02:04.436Z"
   },
   {
    "duration": 6,
    "start_time": "2023-01-30T22:02:11.259Z"
   },
   {
    "duration": 7,
    "start_time": "2023-01-30T22:02:12.036Z"
   },
   {
    "duration": 6,
    "start_time": "2023-01-30T22:03:39.580Z"
   },
   {
    "duration": 5,
    "start_time": "2023-01-30T22:04:26.267Z"
   },
   {
    "duration": 390,
    "start_time": "2023-01-30T22:04:26.802Z"
   },
   {
    "duration": 5,
    "start_time": "2023-01-30T22:04:38.415Z"
   },
   {
    "duration": 389,
    "start_time": "2023-01-30T22:04:38.905Z"
   },
   {
    "duration": 4,
    "start_time": "2023-01-30T22:04:52.900Z"
   },
   {
    "duration": 339,
    "start_time": "2023-01-30T22:04:53.333Z"
   },
   {
    "duration": 5,
    "start_time": "2023-01-30T22:05:00.262Z"
   },
   {
    "duration": 358,
    "start_time": "2023-01-30T22:05:01.034Z"
   },
   {
    "duration": 5,
    "start_time": "2023-01-30T22:05:12.475Z"
   },
   {
    "duration": 354,
    "start_time": "2023-01-30T22:05:12.909Z"
   },
   {
    "duration": 5,
    "start_time": "2023-01-30T22:05:21.428Z"
   },
   {
    "duration": 338,
    "start_time": "2023-01-30T22:05:21.756Z"
   },
   {
    "duration": 298,
    "start_time": "2023-01-30T22:05:36.421Z"
   },
   {
    "duration": 5,
    "start_time": "2023-01-30T22:05:36.868Z"
   },
   {
    "duration": 292,
    "start_time": "2023-01-30T22:05:46.802Z"
   },
   {
    "duration": 5,
    "start_time": "2023-01-30T22:08:46.405Z"
   },
   {
    "duration": 12,
    "start_time": "2023-01-30T22:08:47.172Z"
   },
   {
    "duration": 6,
    "start_time": "2023-01-30T22:09:06.473Z"
   },
   {
    "duration": 269,
    "start_time": "2023-01-30T22:09:07.936Z"
   },
   {
    "duration": 5,
    "start_time": "2023-01-30T22:09:18.637Z"
   },
   {
    "duration": 249,
    "start_time": "2023-01-30T22:09:19.138Z"
   },
   {
    "duration": 203,
    "start_time": "2023-01-30T22:10:03.056Z"
   },
   {
    "duration": 245,
    "start_time": "2023-01-30T22:10:03.596Z"
   },
   {
    "duration": 46,
    "start_time": "2023-01-30T22:10:22.905Z"
   },
   {
    "duration": 256,
    "start_time": "2023-01-30T22:10:23.317Z"
   },
   {
    "duration": 48,
    "start_time": "2023-01-30T22:10:38.680Z"
   },
   {
    "duration": 243,
    "start_time": "2023-01-30T22:10:39.219Z"
   },
   {
    "duration": 5,
    "start_time": "2023-01-30T22:10:55.939Z"
   },
   {
    "duration": 343,
    "start_time": "2023-01-30T22:10:56.416Z"
   },
   {
    "duration": 45,
    "start_time": "2023-01-30T22:11:54.881Z"
   },
   {
    "duration": 363,
    "start_time": "2023-01-30T22:11:55.270Z"
   },
   {
    "duration": 6,
    "start_time": "2023-01-30T22:12:02.812Z"
   },
   {
    "duration": 245,
    "start_time": "2023-01-30T22:12:03.245Z"
   },
   {
    "duration": 5,
    "start_time": "2023-01-30T22:12:40.506Z"
   },
   {
    "duration": 260,
    "start_time": "2023-01-30T22:12:40.944Z"
   },
   {
    "duration": 6,
    "start_time": "2023-01-30T22:12:43.039Z"
   },
   {
    "duration": 256,
    "start_time": "2023-01-30T22:12:44.143Z"
   },
   {
    "duration": 6,
    "start_time": "2023-01-30T22:13:00.280Z"
   },
   {
    "duration": 444,
    "start_time": "2023-01-30T22:13:00.706Z"
   },
   {
    "duration": 6,
    "start_time": "2023-01-30T22:13:15.628Z"
   },
   {
    "duration": 675,
    "start_time": "2023-01-30T22:13:16.013Z"
   },
   {
    "duration": 7,
    "start_time": "2023-01-30T22:13:37.275Z"
   },
   {
    "duration": 9,
    "start_time": "2023-01-30T22:13:47.621Z"
   },
   {
    "duration": 8,
    "start_time": "2023-01-30T22:14:31.099Z"
   },
   {
    "duration": 7,
    "start_time": "2023-01-30T22:19:22.027Z"
   },
   {
    "duration": 7,
    "start_time": "2023-01-30T22:19:29.400Z"
   },
   {
    "duration": 3,
    "start_time": "2023-01-30T22:20:29.617Z"
   },
   {
    "duration": 1246,
    "start_time": "2023-01-30T22:42:00.378Z"
   },
   {
    "duration": 24,
    "start_time": "2023-01-30T22:42:01.626Z"
   },
   {
    "duration": 549,
    "start_time": "2023-01-30T22:42:01.652Z"
   },
   {
    "duration": 13,
    "start_time": "2023-01-30T22:42:02.203Z"
   },
   {
    "duration": 17,
    "start_time": "2023-01-30T22:42:02.217Z"
   },
   {
    "duration": 30,
    "start_time": "2023-01-30T22:42:02.236Z"
   },
   {
    "duration": 306,
    "start_time": "2023-01-30T22:42:02.267Z"
   },
   {
    "duration": 86,
    "start_time": "2023-01-30T22:42:02.574Z"
   },
   {
    "duration": 372,
    "start_time": "2023-01-30T22:42:02.662Z"
   },
   {
    "duration": 0,
    "start_time": "2023-01-30T22:42:03.036Z"
   },
   {
    "duration": 0,
    "start_time": "2023-01-30T22:42:03.038Z"
   },
   {
    "duration": 0,
    "start_time": "2023-01-30T22:42:03.039Z"
   },
   {
    "duration": 0,
    "start_time": "2023-01-30T22:42:03.041Z"
   },
   {
    "duration": 0,
    "start_time": "2023-01-30T22:42:03.053Z"
   },
   {
    "duration": 0,
    "start_time": "2023-01-30T22:42:03.055Z"
   },
   {
    "duration": 0,
    "start_time": "2023-01-30T22:42:03.056Z"
   },
   {
    "duration": 2523,
    "start_time": "2023-01-31T04:45:29.102Z"
   },
   {
    "duration": 91,
    "start_time": "2023-01-31T04:45:31.628Z"
   },
   {
    "duration": 590,
    "start_time": "2023-01-31T04:45:31.721Z"
   },
   {
    "duration": 12,
    "start_time": "2023-01-31T04:45:33.261Z"
   },
   {
    "duration": 5,
    "start_time": "2023-01-31T04:45:33.947Z"
   },
   {
    "duration": 8,
    "start_time": "2023-01-31T04:45:35.149Z"
   },
   {
    "duration": 317,
    "start_time": "2023-01-31T04:45:35.834Z"
   },
   {
    "duration": 80,
    "start_time": "2023-01-31T04:45:39.426Z"
   },
   {
    "duration": 361,
    "start_time": "2023-01-31T04:45:43.159Z"
   },
   {
    "duration": 10,
    "start_time": "2023-01-31T04:46:10.976Z"
   },
   {
    "duration": 8,
    "start_time": "2023-01-31T04:46:18.698Z"
   },
   {
    "duration": 16,
    "start_time": "2023-01-31T04:48:54.580Z"
   },
   {
    "duration": 13,
    "start_time": "2023-01-31T04:49:04.752Z"
   },
   {
    "duration": 13,
    "start_time": "2023-01-31T04:50:50.850Z"
   },
   {
    "duration": 10,
    "start_time": "2023-01-31T04:51:10.542Z"
   },
   {
    "duration": 11,
    "start_time": "2023-01-31T04:51:18.607Z"
   },
   {
    "duration": 10,
    "start_time": "2023-01-31T04:53:09.185Z"
   },
   {
    "duration": 11,
    "start_time": "2023-01-31T04:53:34.036Z"
   },
   {
    "duration": 10,
    "start_time": "2023-01-31T08:21:27.281Z"
   },
   {
    "duration": 44,
    "start_time": "2023-01-31T08:21:27.771Z"
   },
   {
    "duration": 1652,
    "start_time": "2023-01-31T08:21:36.611Z"
   },
   {
    "duration": 87,
    "start_time": "2023-01-31T08:21:38.267Z"
   },
   {
    "duration": 723,
    "start_time": "2023-01-31T08:21:38.356Z"
   },
   {
    "duration": 14,
    "start_time": "2023-01-31T08:21:39.082Z"
   },
   {
    "duration": 15,
    "start_time": "2023-01-31T08:21:39.098Z"
   },
   {
    "duration": 15,
    "start_time": "2023-01-31T08:21:39.116Z"
   },
   {
    "duration": 351,
    "start_time": "2023-01-31T08:21:39.132Z"
   },
   {
    "duration": 90,
    "start_time": "2023-01-31T08:21:39.485Z"
   },
   {
    "duration": 28,
    "start_time": "2023-01-31T08:21:39.579Z"
   },
   {
    "duration": 8,
    "start_time": "2023-01-31T08:21:39.611Z"
   },
   {
    "duration": 20,
    "start_time": "2023-01-31T08:21:39.620Z"
   },
   {
    "duration": 36,
    "start_time": "2023-01-31T08:21:39.642Z"
   },
   {
    "duration": 8,
    "start_time": "2023-01-31T08:21:39.680Z"
   },
   {
    "duration": 6,
    "start_time": "2023-01-31T08:21:39.690Z"
   },
   {
    "duration": 17,
    "start_time": "2023-01-31T08:21:39.698Z"
   },
   {
    "duration": 12,
    "start_time": "2023-01-31T08:21:39.717Z"
   },
   {
    "duration": 13,
    "start_time": "2023-01-31T08:22:05.329Z"
   },
   {
    "duration": 372,
    "start_time": "2023-01-31T08:23:02.239Z"
   },
   {
    "duration": 6,
    "start_time": "2023-01-31T08:23:05.168Z"
   },
   {
    "duration": 299,
    "start_time": "2023-01-31T08:23:05.642Z"
   },
   {
    "duration": 5,
    "start_time": "2023-01-31T08:23:40.862Z"
   },
   {
    "duration": 534,
    "start_time": "2023-01-31T08:23:41.912Z"
   },
   {
    "duration": 1244,
    "start_time": "2023-01-31T08:39:08.059Z"
   },
   {
    "duration": 26,
    "start_time": "2023-01-31T08:39:09.305Z"
   },
   {
    "duration": 632,
    "start_time": "2023-01-31T08:39:09.332Z"
   },
   {
    "duration": 12,
    "start_time": "2023-01-31T08:39:09.966Z"
   },
   {
    "duration": 6,
    "start_time": "2023-01-31T08:39:09.979Z"
   },
   {
    "duration": 9,
    "start_time": "2023-01-31T08:39:09.986Z"
   },
   {
    "duration": 328,
    "start_time": "2023-01-31T08:39:09.996Z"
   },
   {
    "duration": 79,
    "start_time": "2023-01-31T08:39:10.326Z"
   },
   {
    "duration": 520,
    "start_time": "2023-01-31T08:39:10.407Z"
   },
   {
    "duration": 8,
    "start_time": "2023-01-31T08:39:10.930Z"
   },
   {
    "duration": 29,
    "start_time": "2023-01-31T08:39:10.939Z"
   },
   {
    "duration": 23,
    "start_time": "2023-01-31T08:39:10.970Z"
   },
   {
    "duration": 32,
    "start_time": "2023-01-31T08:39:10.995Z"
   },
   {
    "duration": 41,
    "start_time": "2023-01-31T08:39:11.030Z"
   },
   {
    "duration": 35,
    "start_time": "2023-01-31T08:39:11.073Z"
   },
   {
    "duration": 20,
    "start_time": "2023-01-31T08:39:11.110Z"
   }
  ],
  "kernelspec": {
   "display_name": "Python 3 (ipykernel)",
   "language": "python",
   "name": "python3"
  },
  "language_info": {
   "codemirror_mode": {
    "name": "ipython",
    "version": 3
   },
   "file_extension": ".py",
   "mimetype": "text/x-python",
   "name": "python",
   "nbconvert_exporter": "python",
   "pygments_lexer": "ipython3",
   "version": "3.9.16"
  },
  "toc": {
   "base_numbering": 1,
   "nav_menu": {},
   "number_sections": true,
   "sideBar": true,
   "skip_h1_title": true,
   "title_cell": "Содержание",
   "title_sidebar": "Contents",
   "toc_cell": true,
   "toc_position": {
    "height": "calc(100% - 180px)",
    "left": "10px",
    "top": "150px",
    "width": "165px"
   },
   "toc_section_display": true,
   "toc_window_display": true
  }
 },
 "nbformat": 4,
 "nbformat_minor": 2
}
