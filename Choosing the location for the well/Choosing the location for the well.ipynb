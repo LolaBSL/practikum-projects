{
 "cells": [
  {
   "cell_type": "markdown",
   "metadata": {},
   "source": [
    "# Выбор локации для скважины"
   ]
  },
  {
   "cell_type": "markdown",
   "metadata": {},
   "source": [
    "Для добывающей компании «ГлавРосГосНефть». Необходимо выявить регион с наиболее прибыльными месторождениями.\n",
    "\n",
    "Предоставлены пробы нефти в трёх регионах: в каждом 10 000 месторождений, где измерили качество нефти и объём её запасов. Необходимо построить модель машинного обучения, которая поможет определить регион, где добыча принесёт наибольшую прибыль. Проанализировать возможную прибыль и риски.\n",
    "\n",
    "**Шаги для выбора локации:**\n",
    "\n",
    "- В избранном регионе найти месторождения, для каждого определить значения признаков;\n",
    "- Построить модель и оценить объём запасов;\n",
    "- Выбирать месторождения с самым высокими оценками значений. Количество месторождений 200 скважин бюджет компании 10 млрд.руб.;\n",
    "- Прибыль будет равна суммарной прибыли отобранных месторождений."
   ]
  },
  {
   "cell_type": "markdown",
   "metadata": {},
   "source": [
    "# Загрузка и подготовка данных"
   ]
  },
  {
   "cell_type": "code",
   "execution_count": 1,
   "metadata": {},
   "outputs": [],
   "source": [
    "import pandas as pd\n",
    "import matplotlib.pyplot as plt\n",
    "import numpy as np\n",
    "import seaborn as sns\n",
    "from scipy import stats as st\n",
    "from sklearn.linear_model import LinearRegression\n",
    "from sklearn.metrics import confusion_matrix\n",
    "from sklearn.metrics import mean_squared_error\n",
    "from sklearn.model_selection import train_test_split\n",
    "from sklearn.preprocessing import StandardScaler\n",
    "from sklearn.utils import shuffle"
   ]
  },
  {
   "cell_type": "code",
   "execution_count": 2,
   "metadata": {},
   "outputs": [],
   "source": [
    "data_0 = pd.read_csv('/Users/evgen/OneDrive/Рабочий стол/Моя новая профессия/Проекты/Выбор локации для скважины/geo_data_0.csv')\n",
    "data_1 = pd.read_csv('/Users/evgen/OneDrive/Рабочий стол/Моя новая профессия/Проекты/Выбор локации для скважины/geo_data_1.csv')\n",
    "data_2 = pd.read_csv('/Users/evgen/OneDrive/Рабочий стол/Моя новая профессия/Проекты/Выбор локации для скважины/geo_data_2.csv')"
   ]
  },
  {
   "cell_type": "code",
   "execution_count": 3,
   "metadata": {},
   "outputs": [
    {
     "name": "stdout",
     "output_type": "stream",
     "text": [
      "Таблица\n",
      "\n"
     ]
    },
    {
     "data": {
      "text/html": [
       "<div>\n",
       "<style scoped>\n",
       "    .dataframe tbody tr th:only-of-type {\n",
       "        vertical-align: middle;\n",
       "    }\n",
       "\n",
       "    .dataframe tbody tr th {\n",
       "        vertical-align: top;\n",
       "    }\n",
       "\n",
       "    .dataframe thead th {\n",
       "        text-align: right;\n",
       "    }\n",
       "</style>\n",
       "<table border=\"1\" class=\"dataframe\">\n",
       "  <thead>\n",
       "    <tr style=\"text-align: right;\">\n",
       "      <th></th>\n",
       "      <th>id</th>\n",
       "      <th>f0</th>\n",
       "      <th>f1</th>\n",
       "      <th>f2</th>\n",
       "      <th>product</th>\n",
       "    </tr>\n",
       "  </thead>\n",
       "  <tbody>\n",
       "    <tr>\n",
       "      <th>0</th>\n",
       "      <td>txEyH</td>\n",
       "      <td>0.705745</td>\n",
       "      <td>-0.497823</td>\n",
       "      <td>1.221170</td>\n",
       "      <td>105.280062</td>\n",
       "    </tr>\n",
       "    <tr>\n",
       "      <th>1</th>\n",
       "      <td>2acmU</td>\n",
       "      <td>1.334711</td>\n",
       "      <td>-0.340164</td>\n",
       "      <td>4.365080</td>\n",
       "      <td>73.037750</td>\n",
       "    </tr>\n",
       "    <tr>\n",
       "      <th>2</th>\n",
       "      <td>409Wp</td>\n",
       "      <td>1.022732</td>\n",
       "      <td>0.151990</td>\n",
       "      <td>1.419926</td>\n",
       "      <td>85.265647</td>\n",
       "    </tr>\n",
       "    <tr>\n",
       "      <th>3</th>\n",
       "      <td>iJLyR</td>\n",
       "      <td>-0.032172</td>\n",
       "      <td>0.139033</td>\n",
       "      <td>2.978566</td>\n",
       "      <td>168.620776</td>\n",
       "    </tr>\n",
       "    <tr>\n",
       "      <th>4</th>\n",
       "      <td>Xdl7t</td>\n",
       "      <td>1.988431</td>\n",
       "      <td>0.155413</td>\n",
       "      <td>4.751769</td>\n",
       "      <td>154.036647</td>\n",
       "    </tr>\n",
       "  </tbody>\n",
       "</table>\n",
       "</div>"
      ],
      "text/plain": [
       "      id        f0        f1        f2     product\n",
       "0  txEyH  0.705745 -0.497823  1.221170  105.280062\n",
       "1  2acmU  1.334711 -0.340164  4.365080   73.037750\n",
       "2  409Wp  1.022732  0.151990  1.419926   85.265647\n",
       "3  iJLyR -0.032172  0.139033  2.978566  168.620776\n",
       "4  Xdl7t  1.988431  0.155413  4.751769  154.036647"
      ]
     },
     "metadata": {},
     "output_type": "display_data"
    },
    {
     "name": "stdout",
     "output_type": "stream",
     "text": [
      "\n",
      "Информация о таблице\n",
      "<class 'pandas.core.frame.DataFrame'>\n",
      "RangeIndex: 100000 entries, 0 to 99999\n",
      "Data columns (total 5 columns):\n",
      " #   Column   Non-Null Count   Dtype  \n",
      "---  ------   --------------   -----  \n",
      " 0   id       100000 non-null  object \n",
      " 1   f0       100000 non-null  float64\n",
      " 2   f1       100000 non-null  float64\n",
      " 3   f2       100000 non-null  float64\n",
      " 4   product  100000 non-null  float64\n",
      "dtypes: float64(4), object(1)\n",
      "memory usage: 3.8+ MB\n",
      "None\n",
      "\n",
      "Дубликаты\n"
     ]
    },
    {
     "data": {
      "text/plain": [
       "0"
      ]
     },
     "metadata": {},
     "output_type": "display_data"
    },
    {
     "name": "stdout",
     "output_type": "stream",
     "text": [
      "\n",
      "Разброс данных\n"
     ]
    },
    {
     "data": {
      "text/html": [
       "<div>\n",
       "<style scoped>\n",
       "    .dataframe tbody tr th:only-of-type {\n",
       "        vertical-align: middle;\n",
       "    }\n",
       "\n",
       "    .dataframe tbody tr th {\n",
       "        vertical-align: top;\n",
       "    }\n",
       "\n",
       "    .dataframe thead th {\n",
       "        text-align: right;\n",
       "    }\n",
       "</style>\n",
       "<table border=\"1\" class=\"dataframe\">\n",
       "  <thead>\n",
       "    <tr style=\"text-align: right;\">\n",
       "      <th></th>\n",
       "      <th>f0</th>\n",
       "      <th>f1</th>\n",
       "      <th>f2</th>\n",
       "      <th>product</th>\n",
       "    </tr>\n",
       "  </thead>\n",
       "  <tbody>\n",
       "    <tr>\n",
       "      <th>count</th>\n",
       "      <td>100000.000000</td>\n",
       "      <td>100000.000000</td>\n",
       "      <td>100000.000000</td>\n",
       "      <td>100000.000000</td>\n",
       "    </tr>\n",
       "    <tr>\n",
       "      <th>mean</th>\n",
       "      <td>0.500419</td>\n",
       "      <td>0.250143</td>\n",
       "      <td>2.502647</td>\n",
       "      <td>92.500000</td>\n",
       "    </tr>\n",
       "    <tr>\n",
       "      <th>std</th>\n",
       "      <td>0.871832</td>\n",
       "      <td>0.504433</td>\n",
       "      <td>3.248248</td>\n",
       "      <td>44.288691</td>\n",
       "    </tr>\n",
       "    <tr>\n",
       "      <th>min</th>\n",
       "      <td>-1.408605</td>\n",
       "      <td>-0.848218</td>\n",
       "      <td>-12.088328</td>\n",
       "      <td>0.000000</td>\n",
       "    </tr>\n",
       "    <tr>\n",
       "      <th>25%</th>\n",
       "      <td>-0.072580</td>\n",
       "      <td>-0.200881</td>\n",
       "      <td>0.287748</td>\n",
       "      <td>56.497507</td>\n",
       "    </tr>\n",
       "    <tr>\n",
       "      <th>50%</th>\n",
       "      <td>0.502360</td>\n",
       "      <td>0.250252</td>\n",
       "      <td>2.515969</td>\n",
       "      <td>91.849972</td>\n",
       "    </tr>\n",
       "    <tr>\n",
       "      <th>75%</th>\n",
       "      <td>1.073581</td>\n",
       "      <td>0.700646</td>\n",
       "      <td>4.715088</td>\n",
       "      <td>128.564089</td>\n",
       "    </tr>\n",
       "    <tr>\n",
       "      <th>max</th>\n",
       "      <td>2.362331</td>\n",
       "      <td>1.343769</td>\n",
       "      <td>16.003790</td>\n",
       "      <td>185.364347</td>\n",
       "    </tr>\n",
       "  </tbody>\n",
       "</table>\n",
       "</div>"
      ],
      "text/plain": [
       "                  f0             f1             f2        product\n",
       "count  100000.000000  100000.000000  100000.000000  100000.000000\n",
       "mean        0.500419       0.250143       2.502647      92.500000\n",
       "std         0.871832       0.504433       3.248248      44.288691\n",
       "min        -1.408605      -0.848218     -12.088328       0.000000\n",
       "25%        -0.072580      -0.200881       0.287748      56.497507\n",
       "50%         0.502360       0.250252       2.515969      91.849972\n",
       "75%         1.073581       0.700646       4.715088     128.564089\n",
       "max         2.362331       1.343769      16.003790     185.364347"
      ]
     },
     "metadata": {},
     "output_type": "display_data"
    },
    {
     "name": "stdout",
     "output_type": "stream",
     "text": [
      "\n",
      "Гистограммы\n"
     ]
    },
    {
     "data": {
      "image/png": "[encoded data removed]",
      "text/plain": [
       "<Figure size 700x500 with 4 Axes>"
      ]
     },
     "metadata": {},
     "output_type": "display_data"
    },
    {
     "name": "stdout",
     "output_type": "stream",
     "text": [
      "Таблица\n",
      "\n"
     ]
    },
    {
     "data": {
      "text/html": [
       "<div>\n",
       "<style scoped>\n",
       "    .dataframe tbody tr th:only-of-type {\n",
       "        vertical-align: middle;\n",
       "    }\n",
       "\n",
       "    .dataframe tbody tr th {\n",
       "        vertical-align: top;\n",
       "    }\n",
       "\n",
       "    .dataframe thead th {\n",
       "        text-align: right;\n",
       "    }\n",
       "</style>\n",
       "<table border=\"1\" class=\"dataframe\">\n",
       "  <thead>\n",
       "    <tr style=\"text-align: right;\">\n",
       "      <th></th>\n",
       "      <th>id</th>\n",
       "      <th>f0</th>\n",
       "      <th>f1</th>\n",
       "      <th>f2</th>\n",
       "      <th>product</th>\n",
       "    </tr>\n",
       "  </thead>\n",
       "  <tbody>\n",
       "    <tr>\n",
       "      <th>0</th>\n",
       "      <td>kBEdx</td>\n",
       "      <td>-15.001348</td>\n",
       "      <td>-8.276000</td>\n",
       "      <td>-0.005876</td>\n",
       "      <td>3.179103</td>\n",
       "    </tr>\n",
       "    <tr>\n",
       "      <th>1</th>\n",
       "      <td>62mP7</td>\n",
       "      <td>14.272088</td>\n",
       "      <td>-3.475083</td>\n",
       "      <td>0.999183</td>\n",
       "      <td>26.953261</td>\n",
       "    </tr>\n",
       "    <tr>\n",
       "      <th>2</th>\n",
       "      <td>vyE1P</td>\n",
       "      <td>6.263187</td>\n",
       "      <td>-5.948386</td>\n",
       "      <td>5.001160</td>\n",
       "      <td>134.766305</td>\n",
       "    </tr>\n",
       "    <tr>\n",
       "      <th>3</th>\n",
       "      <td>KcrkZ</td>\n",
       "      <td>-13.081196</td>\n",
       "      <td>-11.506057</td>\n",
       "      <td>4.999415</td>\n",
       "      <td>137.945408</td>\n",
       "    </tr>\n",
       "    <tr>\n",
       "      <th>4</th>\n",
       "      <td>AHL4O</td>\n",
       "      <td>12.702195</td>\n",
       "      <td>-8.147433</td>\n",
       "      <td>5.004363</td>\n",
       "      <td>134.766305</td>\n",
       "    </tr>\n",
       "  </tbody>\n",
       "</table>\n",
       "</div>"
      ],
      "text/plain": [
       "      id         f0         f1        f2     product\n",
       "0  kBEdx -15.001348  -8.276000 -0.005876    3.179103\n",
       "1  62mP7  14.272088  -3.475083  0.999183   26.953261\n",
       "2  vyE1P   6.263187  -5.948386  5.001160  134.766305\n",
       "3  KcrkZ -13.081196 -11.506057  4.999415  137.945408\n",
       "4  AHL4O  12.702195  -8.147433  5.004363  134.766305"
      ]
     },
     "metadata": {},
     "output_type": "display_data"
    },
    {
     "name": "stdout",
     "output_type": "stream",
     "text": [
      "\n",
      "Информация о таблице\n",
      "<class 'pandas.core.frame.DataFrame'>\n",
      "RangeIndex: 100000 entries, 0 to 99999\n",
      "Data columns (total 5 columns):\n",
      " #   Column   Non-Null Count   Dtype  \n",
      "---  ------   --------------   -----  \n",
      " 0   id       100000 non-null  object \n",
      " 1   f0       100000 non-null  float64\n",
      " 2   f1       100000 non-null  float64\n",
      " 3   f2       100000 non-null  float64\n",
      " 4   product  100000 non-null  float64\n",
      "dtypes: float64(4), object(1)\n",
      "memory usage: 3.8+ MB\n",
      "None\n",
      "\n",
      "Дубликаты\n"
     ]
    },
    {
     "data": {
      "text/plain": [
       "0"
      ]
     },
     "metadata": {},
     "output_type": "display_data"
    },
    {
     "name": "stdout",
     "output_type": "stream",
     "text": [
      "\n",
      "Разброс данных\n"
     ]
    },
    {
     "data": {
      "text/html": [
       "<div>\n",
       "<style scoped>\n",
       "    .dataframe tbody tr th:only-of-type {\n",
       "        vertical-align: middle;\n",
       "    }\n",
       "\n",
       "    .dataframe tbody tr th {\n",
       "        vertical-align: top;\n",
       "    }\n",
       "\n",
       "    .dataframe thead th {\n",
       "        text-align: right;\n",
       "    }\n",
       "</style>\n",
       "<table border=\"1\" class=\"dataframe\">\n",
       "  <thead>\n",
       "    <tr style=\"text-align: right;\">\n",
       "      <th></th>\n",
       "      <th>f0</th>\n",
       "      <th>f1</th>\n",
       "      <th>f2</th>\n",
       "      <th>product</th>\n",
       "    </tr>\n",
       "  </thead>\n",
       "  <tbody>\n",
       "    <tr>\n",
       "      <th>count</th>\n",
       "      <td>100000.000000</td>\n",
       "      <td>100000.000000</td>\n",
       "      <td>100000.000000</td>\n",
       "      <td>100000.000000</td>\n",
       "    </tr>\n",
       "    <tr>\n",
       "      <th>mean</th>\n",
       "      <td>1.141296</td>\n",
       "      <td>-4.796579</td>\n",
       "      <td>2.494541</td>\n",
       "      <td>68.825000</td>\n",
       "    </tr>\n",
       "    <tr>\n",
       "      <th>std</th>\n",
       "      <td>8.965932</td>\n",
       "      <td>5.119872</td>\n",
       "      <td>1.703572</td>\n",
       "      <td>45.944423</td>\n",
       "    </tr>\n",
       "    <tr>\n",
       "      <th>min</th>\n",
       "      <td>-31.609576</td>\n",
       "      <td>-26.358598</td>\n",
       "      <td>-0.018144</td>\n",
       "      <td>0.000000</td>\n",
       "    </tr>\n",
       "    <tr>\n",
       "      <th>25%</th>\n",
       "      <td>-6.298551</td>\n",
       "      <td>-8.267985</td>\n",
       "      <td>1.000021</td>\n",
       "      <td>26.953261</td>\n",
       "    </tr>\n",
       "    <tr>\n",
       "      <th>50%</th>\n",
       "      <td>1.153055</td>\n",
       "      <td>-4.813172</td>\n",
       "      <td>2.011479</td>\n",
       "      <td>57.085625</td>\n",
       "    </tr>\n",
       "    <tr>\n",
       "      <th>75%</th>\n",
       "      <td>8.621015</td>\n",
       "      <td>-1.332816</td>\n",
       "      <td>3.999904</td>\n",
       "      <td>107.813044</td>\n",
       "    </tr>\n",
       "    <tr>\n",
       "      <th>max</th>\n",
       "      <td>29.421755</td>\n",
       "      <td>18.734063</td>\n",
       "      <td>5.019721</td>\n",
       "      <td>137.945408</td>\n",
       "    </tr>\n",
       "  </tbody>\n",
       "</table>\n",
       "</div>"
      ],
      "text/plain": [
       "                  f0             f1             f2        product\n",
       "count  100000.000000  100000.000000  100000.000000  100000.000000\n",
       "mean        1.141296      -4.796579       2.494541      68.825000\n",
       "std         8.965932       5.119872       1.703572      45.944423\n",
       "min       -31.609576     -26.358598      -0.018144       0.000000\n",
       "25%        -6.298551      -8.267985       1.000021      26.953261\n",
       "50%         1.153055      -4.813172       2.011479      57.085625\n",
       "75%         8.621015      -1.332816       3.999904     107.813044\n",
       "max        29.421755      18.734063       5.019721     137.945408"
      ]
     },
     "metadata": {},
     "output_type": "display_data"
    },
    {
     "name": "stdout",
     "output_type": "stream",
     "text": [
      "\n",
      "Гистограммы\n"
     ]
    },
    {
     "data": {
      "image/png": "[encoded data removed]",
      "text/plain": [
       "<Figure size 700x500 with 4 Axes>"
      ]
     },
     "metadata": {},
     "output_type": "display_data"
    },
    {
     "name": "stdout",
     "output_type": "stream",
     "text": [
      "Таблица\n",
      "\n"
     ]
    },
    {
     "data": {
      "text/html": [
       "<div>\n",
       "<style scoped>\n",
       "    .dataframe tbody tr th:only-of-type {\n",
       "        vertical-align: middle;\n",
       "    }\n",
       "\n",
       "    .dataframe tbody tr th {\n",
       "        vertical-align: top;\n",
       "    }\n",
       "\n",
       "    .dataframe thead th {\n",
       "        text-align: right;\n",
       "    }\n",
       "</style>\n",
       "<table border=\"1\" class=\"dataframe\">\n",
       "  <thead>\n",
       "    <tr style=\"text-align: right;\">\n",
       "      <th></th>\n",
       "      <th>id</th>\n",
       "      <th>f0</th>\n",
       "      <th>f1</th>\n",
       "      <th>f2</th>\n",
       "      <th>product</th>\n",
       "    </tr>\n",
       "  </thead>\n",
       "  <tbody>\n",
       "    <tr>\n",
       "      <th>0</th>\n",
       "      <td>fwXo0</td>\n",
       "      <td>-1.146987</td>\n",
       "      <td>0.963328</td>\n",
       "      <td>-0.828965</td>\n",
       "      <td>27.758673</td>\n",
       "    </tr>\n",
       "    <tr>\n",
       "      <th>1</th>\n",
       "      <td>WJtFt</td>\n",
       "      <td>0.262778</td>\n",
       "      <td>0.269839</td>\n",
       "      <td>-2.530187</td>\n",
       "      <td>56.069697</td>\n",
       "    </tr>\n",
       "    <tr>\n",
       "      <th>2</th>\n",
       "      <td>ovLUW</td>\n",
       "      <td>0.194587</td>\n",
       "      <td>0.289035</td>\n",
       "      <td>-5.586433</td>\n",
       "      <td>62.871910</td>\n",
       "    </tr>\n",
       "    <tr>\n",
       "      <th>3</th>\n",
       "      <td>q6cA6</td>\n",
       "      <td>2.236060</td>\n",
       "      <td>-0.553760</td>\n",
       "      <td>0.930038</td>\n",
       "      <td>114.572842</td>\n",
       "    </tr>\n",
       "    <tr>\n",
       "      <th>4</th>\n",
       "      <td>WPMUX</td>\n",
       "      <td>-0.515993</td>\n",
       "      <td>1.716266</td>\n",
       "      <td>5.899011</td>\n",
       "      <td>149.600746</td>\n",
       "    </tr>\n",
       "  </tbody>\n",
       "</table>\n",
       "</div>"
      ],
      "text/plain": [
       "      id        f0        f1        f2     product\n",
       "0  fwXo0 -1.146987  0.963328 -0.828965   27.758673\n",
       "1  WJtFt  0.262778  0.269839 -2.530187   56.069697\n",
       "2  ovLUW  0.194587  0.289035 -5.586433   62.871910\n",
       "3  q6cA6  2.236060 -0.553760  0.930038  114.572842\n",
       "4  WPMUX -0.515993  1.716266  5.899011  149.600746"
      ]
     },
     "metadata": {},
     "output_type": "display_data"
    },
    {
     "name": "stdout",
     "output_type": "stream",
     "text": [
      "\n",
      "Информация о таблице\n",
      "<class 'pandas.core.frame.DataFrame'>\n",
      "RangeIndex: 100000 entries, 0 to 99999\n",
      "Data columns (total 5 columns):\n",
      " #   Column   Non-Null Count   Dtype  \n",
      "---  ------   --------------   -----  \n",
      " 0   id       100000 non-null  object \n",
      " 1   f0       100000 non-null  float64\n",
      " 2   f1       100000 non-null  float64\n",
      " 3   f2       100000 non-null  float64\n",
      " 4   product  100000 non-null  float64\n",
      "dtypes: float64(4), object(1)\n",
      "memory usage: 3.8+ MB\n",
      "None\n",
      "\n",
      "Дубликаты\n"
     ]
    },
    {
     "data": {
      "text/plain": [
       "0"
      ]
     },
     "metadata": {},
     "output_type": "display_data"
    },
    {
     "name": "stdout",
     "output_type": "stream",
     "text": [
      "\n",
      "Разброс данных\n"
     ]
    },
    {
     "data": {
      "text/html": [
       "<div>\n",
       "<style scoped>\n",
       "    .dataframe tbody tr th:only-of-type {\n",
       "        vertical-align: middle;\n",
       "    }\n",
       "\n",
       "    .dataframe tbody tr th {\n",
       "        vertical-align: top;\n",
       "    }\n",
       "\n",
       "    .dataframe thead th {\n",
       "        text-align: right;\n",
       "    }\n",
       "</style>\n",
       "<table border=\"1\" class=\"dataframe\">\n",
       "  <thead>\n",
       "    <tr style=\"text-align: right;\">\n",
       "      <th></th>\n",
       "      <th>f0</th>\n",
       "      <th>f1</th>\n",
       "      <th>f2</th>\n",
       "      <th>product</th>\n",
       "    </tr>\n",
       "  </thead>\n",
       "  <tbody>\n",
       "    <tr>\n",
       "      <th>count</th>\n",
       "      <td>100000.000000</td>\n",
       "      <td>100000.000000</td>\n",
       "      <td>100000.000000</td>\n",
       "      <td>100000.000000</td>\n",
       "    </tr>\n",
       "    <tr>\n",
       "      <th>mean</th>\n",
       "      <td>0.002023</td>\n",
       "      <td>-0.002081</td>\n",
       "      <td>2.495128</td>\n",
       "      <td>95.000000</td>\n",
       "    </tr>\n",
       "    <tr>\n",
       "      <th>std</th>\n",
       "      <td>1.732045</td>\n",
       "      <td>1.730417</td>\n",
       "      <td>3.473445</td>\n",
       "      <td>44.749921</td>\n",
       "    </tr>\n",
       "    <tr>\n",
       "      <th>min</th>\n",
       "      <td>-8.760004</td>\n",
       "      <td>-7.084020</td>\n",
       "      <td>-11.970335</td>\n",
       "      <td>0.000000</td>\n",
       "    </tr>\n",
       "    <tr>\n",
       "      <th>25%</th>\n",
       "      <td>-1.162288</td>\n",
       "      <td>-1.174820</td>\n",
       "      <td>0.130359</td>\n",
       "      <td>59.450441</td>\n",
       "    </tr>\n",
       "    <tr>\n",
       "      <th>50%</th>\n",
       "      <td>0.009424</td>\n",
       "      <td>-0.009482</td>\n",
       "      <td>2.484236</td>\n",
       "      <td>94.925613</td>\n",
       "    </tr>\n",
       "    <tr>\n",
       "      <th>75%</th>\n",
       "      <td>1.158535</td>\n",
       "      <td>1.163678</td>\n",
       "      <td>4.858794</td>\n",
       "      <td>130.595027</td>\n",
       "    </tr>\n",
       "    <tr>\n",
       "      <th>max</th>\n",
       "      <td>7.238262</td>\n",
       "      <td>7.844801</td>\n",
       "      <td>16.739402</td>\n",
       "      <td>190.029838</td>\n",
       "    </tr>\n",
       "  </tbody>\n",
       "</table>\n",
       "</div>"
      ],
      "text/plain": [
       "                  f0             f1             f2        product\n",
       "count  100000.000000  100000.000000  100000.000000  100000.000000\n",
       "mean        0.002023      -0.002081       2.495128      95.000000\n",
       "std         1.732045       1.730417       3.473445      44.749921\n",
       "min        -8.760004      -7.084020     -11.970335       0.000000\n",
       "25%        -1.162288      -1.174820       0.130359      59.450441\n",
       "50%         0.009424      -0.009482       2.484236      94.925613\n",
       "75%         1.158535       1.163678       4.858794     130.595027\n",
       "max         7.238262       7.844801      16.739402     190.029838"
      ]
     },
     "metadata": {},
     "output_type": "display_data"
    },
    {
     "name": "stdout",
     "output_type": "stream",
     "text": [
      "\n",
      "Гистограммы\n"
     ]
    },
    {
     "data": {
      "image/png": "[encoded data removed]",
      "text/plain": [
       "<Figure size 700x500 with 4 Axes>"
      ]
     },
     "metadata": {},
     "output_type": "display_data"
    }
   ],
   "source": [
    "data = [data_0, data_1, data_2]\n",
    "for i in data:\n",
    "    print('Таблица')\n",
    "    print()\n",
    "    display(i.head())\n",
    "    print()\n",
    "    print('Информация о таблице')\n",
    "    print(i.info())\n",
    "    print()\n",
    "    print('Дубликаты')\n",
    "    display(i.duplicated().sum())\n",
    "    print()\n",
    "    print('Разброс данных')\n",
    "    display(i.describe())\n",
    "    print()\n",
    "    print('Гистограммы')\n",
    "    i.hist(figsize=(7,5))\n",
    "    plt.show()"
   ]
  },
  {
   "cell_type": "markdown",
   "metadata": {},
   "source": [
    "**Проверка id на дубликаты**"
   ]
  },
  {
   "cell_type": "code",
   "execution_count": 4,
   "metadata": {},
   "outputs": [
    {
     "name": "stdout",
     "output_type": "stream",
     "text": [
      "10\n",
      "4\n",
      "4\n"
     ]
    }
   ],
   "source": [
    "print(data_0['id'].duplicated().sum())\n",
    "print(data_1['id'].duplicated().sum())\n",
    "print(data_2['id'].duplicated().sum())"
   ]
  },
  {
   "cell_type": "markdown",
   "metadata": {},
   "source": [
    "**Удаление дубликатов id**"
   ]
  },
  {
   "cell_type": "code",
   "execution_count": 5,
   "metadata": {},
   "outputs": [],
   "source": [
    "data_0 = data_0.drop_duplicates(['id']).reset_index(drop=True)\n",
    "data_1 = data_1.drop_duplicates(['id']).reset_index(drop=True)\n",
    "data_2 = data_2.drop_duplicates(['id']).reset_index(drop=True)"
   ]
  },
  {
   "cell_type": "code",
   "execution_count": 6,
   "metadata": {},
   "outputs": [
    {
     "name": "stdout",
     "output_type": "stream",
     "text": [
      "0\n",
      "0\n",
      "0\n"
     ]
    }
   ],
   "source": [
    "print(data_0['id'].duplicated().sum())\n",
    "print(data_1['id'].duplicated().sum())\n",
    "print(data_2['id'].duplicated().sum())"
   ]
  },
  {
   "cell_type": "markdown",
   "metadata": {},
   "source": [
    "**Столбец id удаляем** за ненадобностью\n",
    "\n",
    "**Проверка data_1 на выбросы и дубликаты**"
   ]
  },
  {
   "cell_type": "code",
   "execution_count": 7,
   "metadata": {},
   "outputs": [
    {
     "data": {
      "text/plain": [
       "53.906522     8472\n",
       "26.953261     8468\n",
       "84.038886     8430\n",
       "57.085625     8389\n",
       "3.179103      8337\n",
       "80.859783     8320\n",
       "30.132364     8306\n",
       "110.992147    8303\n",
       "134.766305    8303\n",
       "0.000000      8235\n",
       "137.945408    8233\n",
       "107.813044    8200\n",
       "Name: product, dtype: int64"
      ]
     },
     "execution_count": 7,
     "metadata": {},
     "output_type": "execute_result"
    }
   ],
   "source": [
    "data_1['product'].sort_values(ascending=False).value_counts()"
   ]
  },
  {
   "cell_type": "code",
   "execution_count": 8,
   "metadata": {},
   "outputs": [
    {
     "data": {
      "text/plain": [
       "0"
      ]
     },
     "execution_count": 8,
     "metadata": {},
     "output_type": "execute_result"
    }
   ],
   "source": [
    "data_1['f2'].duplicated().sum()"
   ]
  },
  {
   "cell_type": "code",
   "execution_count": 9,
   "metadata": {},
   "outputs": [
    {
     "data": {
      "text/plain": [
       "3.996243    1\n",
       "0.001432    1\n",
       "2.009050    1\n",
       "1.003986    1\n",
       "1.004504    1\n",
       "           ..\n",
       "3.004506    1\n",
       "5.002315    1\n",
       "4.008079    1\n",
       "1.991458    1\n",
       "4.992682    1\n",
       "Name: f2, Length: 99996, dtype: int64"
      ]
     },
     "execution_count": 9,
     "metadata": {},
     "output_type": "execute_result"
    }
   ],
   "source": [
    "data_1['f2'].value_counts().sort_values(ascending=False)"
   ]
  },
  {
   "cell_type": "code",
   "execution_count": 10,
   "metadata": {},
   "outputs": [
    {
     "data": {
      "text/html": [
       "<div>\n",
       "<style scoped>\n",
       "    .dataframe tbody tr th:only-of-type {\n",
       "        vertical-align: middle;\n",
       "    }\n",
       "\n",
       "    .dataframe tbody tr th {\n",
       "        vertical-align: top;\n",
       "    }\n",
       "\n",
       "    .dataframe thead th {\n",
       "        text-align: right;\n",
       "    }\n",
       "</style>\n",
       "<table border=\"1\" class=\"dataframe\">\n",
       "  <thead>\n",
       "    <tr style=\"text-align: right;\">\n",
       "      <th></th>\n",
       "      <th>f1</th>\n",
       "    </tr>\n",
       "    <tr>\n",
       "      <th>f0</th>\n",
       "      <th></th>\n",
       "    </tr>\n",
       "  </thead>\n",
       "  <tbody>\n",
       "    <tr>\n",
       "      <th>-31.609576</th>\n",
       "      <td>1</td>\n",
       "    </tr>\n",
       "    <tr>\n",
       "      <th>6.493946</th>\n",
       "      <td>1</td>\n",
       "    </tr>\n",
       "    <tr>\n",
       "      <th>6.499142</th>\n",
       "      <td>1</td>\n",
       "    </tr>\n",
       "    <tr>\n",
       "      <th>6.498912</th>\n",
       "      <td>1</td>\n",
       "    </tr>\n",
       "    <tr>\n",
       "      <th>6.498774</th>\n",
       "      <td>1</td>\n",
       "    </tr>\n",
       "    <tr>\n",
       "      <th>...</th>\n",
       "      <td>...</td>\n",
       "    </tr>\n",
       "    <tr>\n",
       "      <th>-4.250678</th>\n",
       "      <td>1</td>\n",
       "    </tr>\n",
       "    <tr>\n",
       "      <th>-4.250823</th>\n",
       "      <td>1</td>\n",
       "    </tr>\n",
       "    <tr>\n",
       "      <th>-4.250840</th>\n",
       "      <td>1</td>\n",
       "    </tr>\n",
       "    <tr>\n",
       "      <th>-4.251093</th>\n",
       "      <td>1</td>\n",
       "    </tr>\n",
       "    <tr>\n",
       "      <th>29.421755</th>\n",
       "      <td>1</td>\n",
       "    </tr>\n",
       "  </tbody>\n",
       "</table>\n",
       "<p>99996 rows × 1 columns</p>\n",
       "</div>"
      ],
      "text/plain": [
       "            f1\n",
       "f0            \n",
       "-31.609576   1\n",
       " 6.493946    1\n",
       " 6.499142    1\n",
       " 6.498912    1\n",
       " 6.498774    1\n",
       "...         ..\n",
       "-4.250678    1\n",
       "-4.250823    1\n",
       "-4.250840    1\n",
       "-4.251093    1\n",
       " 29.421755   1\n",
       "\n",
       "[99996 rows x 1 columns]"
      ]
     },
     "execution_count": 10,
     "metadata": {},
     "output_type": "execute_result"
    }
   ],
   "source": [
    "data_1.pivot_table(index='f0', values='f1', aggfunc='count').sort_values(by='f1', ascending=False)"
   ]
  },
  {
   "cell_type": "markdown",
   "metadata": {},
   "source": [
    "В таблице data_1 были дубликаты в столбце id, удалили.\n",
    "Также есть дубликаты в product. Однако по остальным столбцам дубликатов нет. Поэтому будем считать данные верными."
   ]
  },
  {
   "cell_type": "code",
   "execution_count": 11,
   "metadata": {},
   "outputs": [
    {
     "data": {
      "text/plain": [
       "0.000000      1\n",
       "123.818275    1\n",
       "44.968612     1\n",
       "29.949892     1\n",
       "109.071637    1\n",
       "             ..\n",
       "7.017207      1\n",
       "93.003728     1\n",
       "55.819558     1\n",
       "63.978856     1\n",
       "49.640390     1\n",
       "Name: product, Length: 99996, dtype: int64"
      ]
     },
     "execution_count": 11,
     "metadata": {},
     "output_type": "execute_result"
    }
   ],
   "source": [
    "data_2['product'].value_counts().sort_values(ascending=False)"
   ]
  },
  {
   "cell_type": "code",
   "execution_count": 12,
   "metadata": {},
   "outputs": [],
   "source": [
    "data_0 = data_0.drop(['id'], axis=1)\n",
    "data_1 = data_1.drop(['id'], axis=1)\n",
    "data_2 = data_2.drop(['id'], axis=1)"
   ]
  },
  {
   "cell_type": "code",
   "execution_count": 13,
   "metadata": {},
   "outputs": [],
   "source": [
    "def corr (data):\n",
    "    product = data['product']\n",
    "    f0 = data['f0']\n",
    "    f1 = data['f1']\n",
    "    f2 = data['f2']\n",
    "    fig, (ax1, ax2, ax3) = plt.subplots(nrows=1, ncols=3, figsize=(15,5))\n",
    "    fig.suptitle('Корреляция')\n",
    "    ax1.scatter(product, f0)\n",
    "    ax1.set_xlabel('Кол-во продукта')\n",
    "    ax1.set_ylabel('F0')\n",
    "    ax2.scatter(product, f1)\n",
    "    ax2.set_xlabel('Кол-во продукта')\n",
    "    ax2.set_ylabel('F1')\n",
    "    ax3.scatter(product, f2)\n",
    "    ax3.set_xlabel('Кол-во продукта')\n",
    "    ax3.set_ylabel('F2')\n",
    "    print('Корреляция кол-ва продукта c f0', data['f0'].corr(data['product']))\n",
    "    print('Корреляция кол-ва продукта c f1', data['f1'].corr(data['product']))\n",
    "    print('Корреляция кол-ва продукта c f2', data['f2'].corr(data['product']))"
   ]
  },
  {
   "cell_type": "code",
   "execution_count": 14,
   "metadata": {},
   "outputs": [
    {
     "name": "stdout",
     "output_type": "stream",
     "text": [
      "Корреляция кол-ва продукта c f0 0.14350354470629628\n",
      "Корреляция кол-ва продукта c f1 -0.19235060940995086\n",
      "Корреляция кол-ва продукта c f2 0.48363098276108935\n"
     ]
    },
    {
     "data": {
      "image/png": "[encoded data removed]",
      "text/plain": [
       "<Figure size 1500x500 with 3 Axes>"
      ]
     },
     "metadata": {},
     "output_type": "display_data"
    }
   ],
   "source": [
    "corr(data_0)"
   ]
  },
  {
   "cell_type": "code",
   "execution_count": 15,
   "metadata": {},
   "outputs": [
    {
     "name": "stdout",
     "output_type": "stream",
     "text": [
      "Корреляция кол-ва продукта c f0 -0.030522920755862017\n",
      "Корреляция кол-ва продукта c f1 -0.010153692790654685\n",
      "Корреляция кол-ва продукта c f2 0.9993969736591202\n"
     ]
    },
    {
     "data": {
      "image/png": "[encoded data removed]",
      "text/plain": [
       "<Figure size 1500x500 with 3 Axes>"
      ]
     },
     "metadata": {},
     "output_type": "display_data"
    }
   ],
   "source": [
    "corr(data_1)"
   ]
  },
  {
   "cell_type": "code",
   "execution_count": 16,
   "metadata": {},
   "outputs": [
    {
     "name": "stdout",
     "output_type": "stream",
     "text": [
      "Корреляция кол-ва продукта c f0 -0.0019776582424404945\n",
      "Корреляция кол-ва продукта c f1 -0.0010545826382116219\n",
      "Корреляция кол-ва продукта c f2 0.4458669943489581\n"
     ]
    },
    {
     "data": {
      "image/png": "[encoded data removed]",
      "text/plain": [
       "<Figure size 1500x500 with 3 Axes>"
      ]
     },
     "metadata": {},
     "output_type": "display_data"
    }
   ],
   "source": [
    "corr(data_2)"
   ]
  },
  {
   "cell_type": "markdown",
   "metadata": {},
   "source": [
    "### Вывод\n",
    "**Целевой признак** product\n",
    "\n",
    "**Признаки** f0, f1, f2\n",
    "\n",
    "Удалили дубликаты\n",
    "\n",
    "Столбец id удален за ненадобностью\n",
    "\n",
    "Как мы видим на целевой признак во всех трех регионах имеет признак F2."
   ]
  },
  {
   "cell_type": "markdown",
   "metadata": {},
   "source": [
    "# Обучение и проверка модели"
   ]
  },
  {
   "cell_type": "markdown",
   "metadata": {},
   "source": [
    "## Разделение на выборки\n"
   ]
  },
  {
   "cell_type": "code",
   "execution_count": 17,
   "metadata": {},
   "outputs": [
    {
     "name": "stdout",
     "output_type": "stream",
     "text": [
      "(74992, 3) (24998, 3) (74992,) (24998,)\n",
      "(74997, 3) (24999, 3) (74997,) (24999,)\n",
      "(74997, 3) (24999, 3) (74997,) (24999,)\n"
     ]
    }
   ],
   "source": [
    "features_0 = data_0.drop(['product'], axis=1)\n",
    "target_0 = data_0['product']\n",
    "ft_0, fv_0, tt_0, tv_0 = train_test_split(features_0, target_0, test_size=0.25, random_state=12345)\n",
    "print(ft_0.shape, fv_0.shape, tt_0.shape, tv_0.shape)\n",
    "\n",
    "features_1 = data_1.drop(['product'], axis=1)\n",
    "target_1 = data_1['product']\n",
    "ft_1, fv_1, tt_1, tv_1 = train_test_split(features_1, target_1, test_size=0.25, random_state=12345)\n",
    "print(ft_1.shape, fv_1.shape, tt_1.shape, tv_1.shape)\n",
    "\n",
    "features_2 = data_2.drop(['product'], axis=1)\n",
    "target_2 = data_2['product']\n",
    "ft_2, fv_2, tt_2, tv_2 = train_test_split(features_2, target_2, test_size=0.25, random_state=12345)\n",
    "print(ft_2.shape, fv_2.shape, tt_2.shape, tv_2.shape)"
   ]
  },
  {
   "cell_type": "markdown",
   "metadata": {},
   "source": [
    "## Обучание на линейной регрессии"
   ]
  },
  {
   "cell_type": "code",
   "execution_count": 18,
   "metadata": {},
   "outputs": [
    {
     "name": "stdout",
     "output_type": "stream",
     "text": [
      "Средний запас предсказанного сырья: 92.79;  RMSE: 37.85\n",
      "Средний запас предсказанного сырья: 69.18;  RMSE: 0.89\n",
      "Средний запас предсказанного сырья: 94.87;  RMSE: 40.08\n"
     ]
    }
   ],
   "source": [
    "model_0 = LinearRegression()\n",
    "model_0.fit(ft_0, tt_0)\n",
    "predictions_0 = model_0.predict(fv_0)\n",
    "rmse_0 = mean_squared_error(tv_0, predictions_0) ** 0.5\n",
    "print(f'Средний запас предсказанного сырья: {predictions_0.mean():.2f};  RMSE: {rmse_0:.2f}')\n",
    "\n",
    "model_1 = LinearRegression()\n",
    "model_1.fit(ft_1, tt_1)\n",
    "predictions_1 = model_1.predict(fv_1)\n",
    "rmse_1 = mean_squared_error(tv_1, predictions_1) ** 0.5\n",
    "print(f'Средний запас предсказанного сырья: {predictions_1.mean():.2f};  RMSE: {rmse_1:.2f}')\n",
    "\n",
    "model_2 = LinearRegression()\n",
    "model_2.fit(ft_2, tt_2)\n",
    "predictions_2 = model_2.predict(fv_2)\n",
    "rmse_2 = mean_squared_error(tv_2, predictions_2) ** 0.5\n",
    "print(f'Средний запас предсказанного сырья: {predictions_2.mean():.2f};  RMSE: {rmse_2:.2f}')"
   ]
  },
  {
   "cell_type": "markdown",
   "metadata": {},
   "source": [
    "### Вывод\n",
    "Лучшие показатели у региона 0 и региона 2. Регион 1 имеет худший результат."
   ]
  },
  {
   "cell_type": "markdown",
   "metadata": {},
   "source": [
    "# Подготовка к расчёту прибыли"
   ]
  },
  {
   "cell_type": "markdown",
   "metadata": {},
   "source": [
    "## Константы для расчетов"
   ]
  },
  {
   "cell_type": "code",
   "execution_count": 19,
   "metadata": {},
   "outputs": [],
   "source": [
    "BARR_PRICE = 450_000\n",
    "BUDGET = 10_000_000_000\n",
    "LOT_OIL_WELL = 200\n",
    "RESEARCH_LOT_OIL_WELL = 500\n",
    "\n",
    "predicted_0 = pd.Series(predictions_0, index = tv_0.index)\n",
    "\n",
    "predicted_1 = pd.Series(predictions_1, index = tv_1.index)\n",
    "\n",
    "predicted_2 = pd.Series(predictions_2, index = tv_2.index)\n"
   ]
  },
  {
   "cell_type": "code",
   "execution_count": 20,
   "metadata": {},
   "outputs": [
    {
     "data": {
      "text/plain": [
       "49466    103.950372\n",
       "55493     73.687869\n",
       "11689    101.015288\n",
       "13769     94.048415\n",
       "72389     87.559552\n",
       "dtype: float64"
      ]
     },
     "execution_count": 20,
     "metadata": {},
     "output_type": "execute_result"
    }
   ],
   "source": [
    "predicted_0.head()"
   ]
  },
  {
   "cell_type": "markdown",
   "metadata": {},
   "source": [
    "## Расчет минимального кол-ва единиц баррелей"
   ]
  },
  {
   "cell_type": "code",
   "execution_count": 21,
   "metadata": {},
   "outputs": [
    {
     "name": "stdout",
     "output_type": "stream",
     "text": [
      "Минимальное кол-во: 111.11 ед.барр.\n"
     ]
    }
   ],
   "source": [
    "minimal_barr = (2 * BUDGET - BUDGET) / BARR_PRICE / LOT_OIL_WELL\n",
    "print(f'Минимальное кол-во: {minimal_barr:.2f} ед.барр.')\n"
   ]
  },
  {
   "cell_type": "markdown",
   "metadata": {},
   "source": [
    "Минимальное количество продукта необходимого для безубыточной разработки 111 ед. баррелей.\n",
    "\n",
    "Стоит отметить что средние запасы по регионам ниже особенно в Регионе 1."
   ]
  },
  {
   "cell_type": "markdown",
   "metadata": {},
   "source": [
    "## Функция для расчета прибыли"
   ]
  },
  {
   "cell_type": "code",
   "execution_count": 22,
   "metadata": {},
   "outputs": [
    {
     "name": "stdout",
     "output_type": "stream",
     "text": [
      "Прибыль в регионе 0: 3_365_187_238 руб.\n",
      "Прибыль в регионе 1: 2_415_086_697 руб.\n",
      "Прибыль в регионе 2: 2_501_283_853 руб.\n"
     ]
    }
   ],
   "source": [
    "def profit(predicted, target, count):\n",
    "    predicted = predicted.sort_values(ascending=False)\n",
    "    top_oil = predicted[:count]\n",
    "    target = target.sort_values(ascending=False)\n",
    "    target = pd.Series(target, index=top_oil.index)\n",
    "    sum_target = sum(target) * BARR_PRICE\n",
    "    return sum_target - BUDGET\n",
    "    \n",
    "print(f'Прибыль в регионе 0: {profit(predicted_0, tv_0, LOT_OIL_WELL):_.0f} руб.')\n",
    "print(f'Прибыль в регионе 1: {profit(predicted_1, tv_1, LOT_OIL_WELL):_.0f} руб.')    \n",
    "print(f'Прибыль в регионе 2: {profit(predicted_2, tv_2, LOT_OIL_WELL):_.0f} руб.')    "
   ]
  },
  {
   "cell_type": "markdown",
   "metadata": {},
   "source": [
    "# Расчёт прибыли и рисков "
   ]
  },
  {
   "cell_type": "markdown",
   "metadata": {},
   "source": [
    "## Функция для расчета прибыли и рисков"
   ]
  },
  {
   "cell_type": "code",
   "execution_count": 25,
   "metadata": {},
   "outputs": [],
   "source": [
    "def bootstrap (predicted, target):\n",
    "    values = []\n",
    "    state = np.random.RandomState(12345)\n",
    "    for i in range(1000):\n",
    "        subsample = predicted.sample(RESEARCH_LOT_OIL_WELL, replace=True, random_state=state)\n",
    "        values.append(profit(subsample, target, LOT_OIL_WELL))\n",
    "    values = pd.Series(values)\n",
    "    lower = values.quantile(0.025)\n",
    "    upper = values.quantile(0.975)\n",
    "    (print(f'Средняя прибыль по региону: {values.mean():_.0f} руб.'),\n",
    "     print(f'Доверительный интервал: {lower:_.0f} руб. - {upper:_.0f} руб.'),\n",
    "     print(f'Процент риска: {(values < 0).mean():.2%}'))\n",
    "    plt.title('График прибыли')\n",
    "    plt.grid()\n",
    "    plt.hist(values, label='Прибыль')\n",
    "    plt.axvline(lower, color = 'r', label = 'Нижняя граница')\n",
    "    plt.axvline(upper, color = 'b', label = 'Верхняя граница')\n",
    "    plt.legend()\n",
    "    plt.show()"
   ]
  },
  {
   "cell_type": "markdown",
   "metadata": {},
   "source": [
    "## Расчеты"
   ]
  },
  {
   "cell_type": "code",
   "execution_count": 26,
   "metadata": {},
   "outputs": [
    {
     "name": "stdout",
     "output_type": "stream",
     "text": [
      "Регион 0\n",
      "Средняя прибыль по региону: 380_613_470 руб.\n",
      "Доверительный интервал: -142_942_740 руб. - 890_976_834 руб.\n",
      "Процент риска: 7.70%\n"
     ]
    },
    {
     "data": {
      "image/png": "[encoded data removed]",
      "text/plain": [
       "<Figure size 640x480 with 1 Axes>"
      ]
     },
     "metadata": {},
     "output_type": "display_data"
    },
    {
     "name": "stdout",
     "output_type": "stream",
     "text": [
      "None\n",
      "Регион 1\n",
      "Средняя прибыль по региону: 478_484_940 руб.\n",
      "Доверительный интервал: 89_525_125 руб. - 866_604_745 руб.\n",
      "Процент риска: 1.20%\n"
     ]
    },
    {
     "data": {
      "image/png": "[encoded data removed]",
      "text/plain": [
       "<Figure size 640x480 with 1 Axes>"
      ]
     },
     "metadata": {},
     "output_type": "display_data"
    },
    {
     "name": "stdout",
     "output_type": "stream",
     "text": [
      "None\n",
      "Регион 2\n",
      "Средняя прибыль по региону: 330_546_258 руб.\n",
      "Доверительный интервал: -190_365_734 руб. - 840_467_404 руб.\n",
      "Процент риска: 11.30%\n"
     ]
    },
    {
     "data": {
      "image/png": "[encoded data removed]",
      "text/plain": [
       "<Figure size 640x480 with 1 Axes>"
      ]
     },
     "metadata": {},
     "output_type": "display_data"
    },
    {
     "name": "stdout",
     "output_type": "stream",
     "text": [
      "None\n"
     ]
    }
   ],
   "source": [
    "print('Регион 0')\n",
    "print(bootstrap(predicted_0, tv_0))\n",
    "print('Регион 1')\n",
    "print(bootstrap(predicted_1, tv_1))\n",
    "print('Регион 2')\n",
    "print(bootstrap(predicted_2, tv_2))"
   ]
  },
  {
   "cell_type": "markdown",
   "metadata": {},
   "source": [
    "# Вывод"
   ]
  },
  {
   "cell_type": "markdown",
   "metadata": {},
   "source": [
    "Сделан анализ и предобработка данных для корректной работы модели предсказаний.\n",
    "\n",
    "Выявлено значительное влияние на предсказание выработки продукта признак ***F2***.\n",
    "\n",
    "Минимальное кол-во ед.баррелей необходимых для прибыльности ***111,11 ед.барр.***\n",
    "\n",
    "По итогам предсказаний выяснили следующее:\n",
    "\n",
    "***Средний объем запасов по регионам:***\n",
    "- Регион 0: ***92.79***\n",
    "- Регион 1: ***69.18***\n",
    "- Регион 2: ***94.87***\n",
    "\n",
    "***Средняя прибыль по регионам и процент риска:***\n",
    "\n",
    "- Регион 0: ***380_613_470 руб.;  7.70%***\n",
    "- Регион 1: ***478_484_940 руб.;  1.20%***\n",
    "- Регион 2: ***330_546_258 руб.;  11.30%***\n",
    "\n",
    "\n",
    "Минимальное кол-во ед.баррелей необходимых для прибыльности ***111,11 ед.барр.***\n",
    "\n",
    "***С учетом высоких рисков на других регионах в разработку лучше брать Регион 1.***"
   ]
  },
  {
   "cell_type": "code",
   "execution_count": null,
   "metadata": {},
   "outputs": [],
   "source": []
  }
 ],
 "metadata": {
  "ExecuteTimeLog": [
   {
    "duration": 44,
    "start_time": "2022-12-20T18:30:55.029Z"
   },
   {
    "duration": 340,
    "start_time": "2022-12-20T18:30:57.974Z"
   },
   {
    "duration": 379,
    "start_time": "2022-12-20T18:30:58.587Z"
   },
   {
    "duration": 2,
    "start_time": "2022-12-20T18:31:02.403Z"
   },
   {
    "duration": 125,
    "start_time": "2022-12-20T18:31:03.603Z"
   },
   {
    "duration": 138,
    "start_time": "2022-12-20T18:31:09.009Z"
   },
   {
    "duration": 490,
    "start_time": "2022-12-20T18:31:38.606Z"
   },
   {
    "duration": 3,
    "start_time": "2022-12-20T18:32:11.156Z"
   },
   {
    "duration": 14,
    "start_time": "2022-12-20T18:32:15.576Z"
   },
   {
    "duration": 11,
    "start_time": "2022-12-20T18:32:50.560Z"
   },
   {
    "duration": 29,
    "start_time": "2022-12-20T18:33:31.355Z"
   },
   {
    "duration": 39,
    "start_time": "2022-12-20T18:33:40.892Z"
   },
   {
    "duration": 37,
    "start_time": "2022-12-20T18:37:08.227Z"
   },
   {
    "duration": 13,
    "start_time": "2022-12-20T18:37:33.972Z"
   },
   {
    "duration": 38,
    "start_time": "2022-12-20T18:37:44.515Z"
   },
   {
    "duration": 41,
    "start_time": "2022-12-20T18:37:53.177Z"
   },
   {
    "duration": 60,
    "start_time": "2022-12-20T18:39:01.260Z"
   },
   {
    "duration": 1593,
    "start_time": "2022-12-20T18:40:38.081Z"
   },
   {
    "duration": 1136,
    "start_time": "2022-12-20T18:40:59.153Z"
   },
   {
    "duration": 371,
    "start_time": "2022-12-20T18:41:17.024Z"
   },
   {
    "duration": 802,
    "start_time": "2022-12-20T18:43:46.985Z"
   },
   {
    "duration": 395,
    "start_time": "2022-12-20T18:43:47.995Z"
   },
   {
    "duration": 1138,
    "start_time": "2022-12-20T18:43:51.299Z"
   },
   {
    "duration": 1132,
    "start_time": "2022-12-20T18:47:38.023Z"
   },
   {
    "duration": 1184,
    "start_time": "2022-12-20T18:48:20.192Z"
   },
   {
    "duration": 1256,
    "start_time": "2022-12-20T18:48:46.576Z"
   },
   {
    "duration": 50,
    "start_time": "2022-12-21T09:22:22.740Z"
   },
   {
    "duration": 1613,
    "start_time": "2022-12-21T09:22:28.701Z"
   },
   {
    "duration": 2065,
    "start_time": "2022-12-21T09:22:30.316Z"
   },
   {
    "duration": 1339,
    "start_time": "2022-12-21T09:22:32.382Z"
   },
   {
    "duration": 1305,
    "start_time": "2022-12-21T09:52:55.544Z"
   },
   {
    "duration": 84,
    "start_time": "2022-12-21T09:53:16.856Z"
   },
   {
    "duration": 131,
    "start_time": "2022-12-21T09:53:22.609Z"
   },
   {
    "duration": 1412,
    "start_time": "2022-12-21T09:53:28.346Z"
   },
   {
    "duration": 11,
    "start_time": "2022-12-21T09:53:49.200Z"
   },
   {
    "duration": 1275,
    "start_time": "2022-12-21T09:53:52.965Z"
   },
   {
    "duration": 267,
    "start_time": "2022-12-21T09:54:46.412Z"
   },
   {
    "duration": 11,
    "start_time": "2022-12-21T09:55:36.349Z"
   },
   {
    "duration": 185,
    "start_time": "2022-12-21T09:55:41.022Z"
   },
   {
    "duration": 161,
    "start_time": "2022-12-21T09:56:29.386Z"
   },
   {
    "duration": 172,
    "start_time": "2022-12-21T09:56:48.425Z"
   },
   {
    "duration": 165,
    "start_time": "2022-12-21T09:56:54.269Z"
   },
   {
    "duration": 181,
    "start_time": "2022-12-21T09:57:03.780Z"
   },
   {
    "duration": 17,
    "start_time": "2022-12-21T09:57:50.578Z"
   },
   {
    "duration": 978,
    "start_time": "2022-12-21T09:58:08.476Z"
   },
   {
    "duration": 16,
    "start_time": "2022-12-21T09:58:15.671Z"
   },
   {
    "duration": 29,
    "start_time": "2022-12-21T09:58:29.872Z"
   },
   {
    "duration": 15,
    "start_time": "2022-12-21T09:58:36.129Z"
   },
   {
    "duration": 24,
    "start_time": "2022-12-21T09:59:03.182Z"
   },
   {
    "duration": 16,
    "start_time": "2022-12-21T09:59:12.671Z"
   },
   {
    "duration": 25,
    "start_time": "2022-12-21T09:59:37.549Z"
   },
   {
    "duration": 40,
    "start_time": "2022-12-21T09:59:55.804Z"
   },
   {
    "duration": 16,
    "start_time": "2022-12-21T09:59:58.508Z"
   },
   {
    "duration": 37,
    "start_time": "2022-12-21T10:00:11.774Z"
   },
   {
    "duration": 17,
    "start_time": "2022-12-21T10:00:15.552Z"
   },
   {
    "duration": 1447,
    "start_time": "2022-12-21T10:00:22.151Z"
   },
   {
    "duration": 389,
    "start_time": "2022-12-21T10:00:23.601Z"
   },
   {
    "duration": 1447,
    "start_time": "2022-12-21T10:00:23.992Z"
   },
   {
    "duration": 183,
    "start_time": "2022-12-21T10:00:25.442Z"
   },
   {
    "duration": 27,
    "start_time": "2022-12-21T10:00:25.628Z"
   },
   {
    "duration": 59,
    "start_time": "2022-12-21T10:00:25.657Z"
   },
   {
    "duration": 19,
    "start_time": "2022-12-21T10:00:25.719Z"
   },
   {
    "duration": 43,
    "start_time": "2022-12-21T10:12:35.038Z"
   },
   {
    "duration": 13,
    "start_time": "2022-12-21T10:12:42.163Z"
   },
   {
    "duration": 28,
    "start_time": "2022-12-21T10:12:52.308Z"
   },
   {
    "duration": 15,
    "start_time": "2022-12-21T10:12:55.174Z"
   },
   {
    "duration": 17,
    "start_time": "2022-12-21T10:13:01.924Z"
   },
   {
    "duration": 1909,
    "start_time": "2022-12-21T10:13:42.400Z"
   },
   {
    "duration": 1379,
    "start_time": "2022-12-21T10:13:47.441Z"
   },
   {
    "duration": 1721,
    "start_time": "2022-12-21T10:13:57.685Z"
   },
   {
    "duration": 1391,
    "start_time": "2022-12-21T10:14:09.627Z"
   },
   {
    "duration": 381,
    "start_time": "2022-12-21T10:14:36.605Z"
   },
   {
    "duration": 9,
    "start_time": "2022-12-21T10:15:34.518Z"
   },
   {
    "duration": 15,
    "start_time": "2022-12-21T10:17:09.711Z"
   },
   {
    "duration": 16,
    "start_time": "2022-12-21T10:17:21.877Z"
   },
   {
    "duration": 17,
    "start_time": "2022-12-21T10:17:34.068Z"
   },
   {
    "duration": 1455,
    "start_time": "2022-12-21T17:13:43.142Z"
   },
   {
    "duration": 1751,
    "start_time": "2022-12-21T17:13:44.599Z"
   },
   {
    "duration": 1259,
    "start_time": "2022-12-21T17:13:46.352Z"
   },
   {
    "duration": 134,
    "start_time": "2022-12-21T17:13:47.613Z"
   },
   {
    "duration": 15,
    "start_time": "2022-12-21T17:13:47.749Z"
   },
   {
    "duration": 79,
    "start_time": "2022-12-21T17:13:47.766Z"
   },
   {
    "duration": 34,
    "start_time": "2022-12-21T17:13:47.847Z"
   },
   {
    "duration": 355,
    "start_time": "2022-12-21T17:13:47.883Z"
   },
   {
    "duration": 8,
    "start_time": "2022-12-21T17:18:19.369Z"
   },
   {
    "duration": 26,
    "start_time": "2022-12-21T17:18:37.052Z"
   },
   {
    "duration": 14,
    "start_time": "2022-12-21T17:21:21.162Z"
   },
   {
    "duration": 321,
    "start_time": "2022-12-21T17:21:23.232Z"
   },
   {
    "duration": 24,
    "start_time": "2022-12-21T17:21:24.161Z"
   },
   {
    "duration": 25,
    "start_time": "2022-12-21T17:21:47.664Z"
   },
   {
    "duration": 5,
    "start_time": "2022-12-21T17:44:55.384Z"
   },
   {
    "duration": 35,
    "start_time": "2022-12-21T17:49:20.466Z"
   },
   {
    "duration": 52,
    "start_time": "2022-12-21T17:50:24.341Z"
   },
   {
    "duration": 128,
    "start_time": "2022-12-21T17:53:40.196Z"
   },
   {
    "duration": 29,
    "start_time": "2022-12-21T17:54:52.167Z"
   },
   {
    "duration": 29,
    "start_time": "2022-12-21T17:55:14.135Z"
   },
   {
    "duration": 51,
    "start_time": "2022-12-21T17:55:43.534Z"
   },
   {
    "duration": 29,
    "start_time": "2022-12-21T17:55:44.335Z"
   },
   {
    "duration": 11,
    "start_time": "2022-12-21T17:56:24.535Z"
   },
   {
    "duration": 24,
    "start_time": "2022-12-21T17:56:32.794Z"
   },
   {
    "duration": 12,
    "start_time": "2022-12-21T17:56:35.637Z"
   },
   {
    "duration": 24,
    "start_time": "2022-12-21T17:56:58.133Z"
   },
   {
    "duration": 31,
    "start_time": "2022-12-21T17:57:08.669Z"
   },
   {
    "duration": 5,
    "start_time": "2022-12-21T18:02:00.995Z"
   },
   {
    "duration": 54,
    "start_time": "2022-12-21T18:02:02.905Z"
   },
   {
    "duration": 12,
    "start_time": "2022-12-21T18:02:05.049Z"
   },
   {
    "duration": 15,
    "start_time": "2022-12-21T18:02:23.056Z"
   },
   {
    "duration": 13,
    "start_time": "2022-12-21T18:02:34.248Z"
   },
   {
    "duration": 15,
    "start_time": "2022-12-21T18:02:34.712Z"
   },
   {
    "duration": 43,
    "start_time": "2022-12-21T18:02:37.596Z"
   },
   {
    "duration": 11,
    "start_time": "2022-12-21T18:02:39.248Z"
   },
   {
    "duration": 20,
    "start_time": "2022-12-21T18:03:18.769Z"
   },
   {
    "duration": 11,
    "start_time": "2022-12-21T18:03:45.652Z"
   },
   {
    "duration": 46,
    "start_time": "2022-12-21T18:04:32.255Z"
   },
   {
    "duration": 1271,
    "start_time": "2022-12-21T18:04:43.897Z"
   },
   {
    "duration": 370,
    "start_time": "2022-12-21T18:04:45.170Z"
   },
   {
    "duration": 1374,
    "start_time": "2022-12-21T18:04:45.542Z"
   },
   {
    "duration": 158,
    "start_time": "2022-12-21T18:04:46.918Z"
   },
   {
    "duration": 16,
    "start_time": "2022-12-21T18:04:47.078Z"
   },
   {
    "duration": 33,
    "start_time": "2022-12-21T18:04:47.096Z"
   },
   {
    "duration": 12,
    "start_time": "2022-12-21T18:04:47.131Z"
   },
   {
    "duration": 346,
    "start_time": "2022-12-21T18:04:47.144Z"
   },
   {
    "duration": 25,
    "start_time": "2022-12-21T18:04:47.492Z"
   },
   {
    "duration": 15,
    "start_time": "2022-12-21T18:04:47.519Z"
   },
   {
    "duration": 45,
    "start_time": "2022-12-21T18:04:47.535Z"
   },
   {
    "duration": 28,
    "start_time": "2022-12-21T18:04:47.582Z"
   },
   {
    "duration": 107,
    "start_time": "2022-12-21T18:10:37.155Z"
   },
   {
    "duration": 10,
    "start_time": "2022-12-21T18:10:55.760Z"
   },
   {
    "duration": 17,
    "start_time": "2022-12-21T18:11:42.824Z"
   },
   {
    "duration": 1295,
    "start_time": "2022-12-21T18:11:58.767Z"
   },
   {
    "duration": 339,
    "start_time": "2022-12-21T18:12:00.065Z"
   },
   {
    "duration": 1353,
    "start_time": "2022-12-21T18:12:00.406Z"
   },
   {
    "duration": 170,
    "start_time": "2022-12-21T18:12:01.761Z"
   },
   {
    "duration": 16,
    "start_time": "2022-12-21T18:12:01.932Z"
   },
   {
    "duration": 55,
    "start_time": "2022-12-21T18:12:01.950Z"
   },
   {
    "duration": 13,
    "start_time": "2022-12-21T18:12:02.007Z"
   },
   {
    "duration": 378,
    "start_time": "2022-12-21T18:12:02.022Z"
   },
   {
    "duration": 47,
    "start_time": "2022-12-21T18:12:02.401Z"
   },
   {
    "duration": 2,
    "start_time": "2022-12-21T18:12:02.451Z"
   },
   {
    "duration": 72,
    "start_time": "2022-12-21T18:12:02.455Z"
   },
   {
    "duration": 153,
    "start_time": "2022-12-21T18:12:02.529Z"
   },
   {
    "duration": 10,
    "start_time": "2022-12-21T18:12:19.095Z"
   },
   {
    "duration": 11,
    "start_time": "2022-12-21T18:12:28.818Z"
   },
   {
    "duration": 28,
    "start_time": "2022-12-21T18:12:36.949Z"
   },
   {
    "duration": 51,
    "start_time": "2022-12-21T18:12:41.270Z"
   },
   {
    "duration": 37,
    "start_time": "2022-12-21T18:12:44.397Z"
   },
   {
    "duration": 10,
    "start_time": "2022-12-21T18:12:54.600Z"
   },
   {
    "duration": 42,
    "start_time": "2022-12-21T18:12:55.752Z"
   },
   {
    "duration": 32,
    "start_time": "2022-12-21T18:12:56.624Z"
   },
   {
    "duration": 1396,
    "start_time": "2022-12-21T18:14:05.017Z"
   },
   {
    "duration": 348,
    "start_time": "2022-12-21T18:14:06.415Z"
   },
   {
    "duration": 1322,
    "start_time": "2022-12-21T18:14:06.764Z"
   },
   {
    "duration": 143,
    "start_time": "2022-12-21T18:14:08.088Z"
   },
   {
    "duration": 17,
    "start_time": "2022-12-21T18:14:08.233Z"
   },
   {
    "duration": 58,
    "start_time": "2022-12-21T18:14:08.252Z"
   },
   {
    "duration": 13,
    "start_time": "2022-12-21T18:14:08.312Z"
   },
   {
    "duration": 332,
    "start_time": "2022-12-21T18:14:08.326Z"
   },
   {
    "duration": 26,
    "start_time": "2022-12-21T18:14:08.660Z"
   },
   {
    "duration": 2,
    "start_time": "2022-12-21T18:14:08.689Z"
   },
   {
    "duration": 84,
    "start_time": "2022-12-21T18:14:08.693Z"
   },
   {
    "duration": 140,
    "start_time": "2022-12-21T18:14:08.779Z"
   },
   {
    "duration": 10,
    "start_time": "2022-12-21T18:14:23.577Z"
   },
   {
    "duration": 11,
    "start_time": "2022-12-21T18:14:40.772Z"
   },
   {
    "duration": 24,
    "start_time": "2022-12-21T18:15:47.770Z"
   },
   {
    "duration": 10,
    "start_time": "2022-12-21T18:15:56.922Z"
   },
   {
    "duration": 38,
    "start_time": "2022-12-21T18:15:57.598Z"
   },
   {
    "duration": 28,
    "start_time": "2022-12-21T18:15:58.854Z"
   },
   {
    "duration": 1361,
    "start_time": "2022-12-21T18:16:26.917Z"
   },
   {
    "duration": 331,
    "start_time": "2022-12-21T18:16:28.280Z"
   },
   {
    "duration": 1334,
    "start_time": "2022-12-21T18:16:28.612Z"
   },
   {
    "duration": 174,
    "start_time": "2022-12-21T18:16:29.948Z"
   },
   {
    "duration": 17,
    "start_time": "2022-12-21T18:16:30.124Z"
   },
   {
    "duration": 64,
    "start_time": "2022-12-21T18:16:30.143Z"
   },
   {
    "duration": 31,
    "start_time": "2022-12-21T18:16:30.208Z"
   },
   {
    "duration": 372,
    "start_time": "2022-12-21T18:16:30.240Z"
   },
   {
    "duration": 2,
    "start_time": "2022-12-21T18:16:30.613Z"
   },
   {
    "duration": 32,
    "start_time": "2022-12-21T18:16:30.626Z"
   },
   {
    "duration": 106,
    "start_time": "2022-12-21T18:16:30.659Z"
   },
   {
    "duration": 164,
    "start_time": "2022-12-21T18:16:30.767Z"
   },
   {
    "duration": 11,
    "start_time": "2022-12-21T18:17:24.604Z"
   },
   {
    "duration": 27,
    "start_time": "2022-12-21T18:17:33.148Z"
   },
   {
    "duration": 52,
    "start_time": "2022-12-21T18:17:38.772Z"
   },
   {
    "duration": 35,
    "start_time": "2022-12-21T18:17:39.572Z"
   },
   {
    "duration": 1384,
    "start_time": "2022-12-21T18:17:47.914Z"
   },
   {
    "duration": 335,
    "start_time": "2022-12-21T18:17:49.300Z"
   },
   {
    "duration": 1359,
    "start_time": "2022-12-21T18:17:49.637Z"
   },
   {
    "duration": 147,
    "start_time": "2022-12-21T18:17:50.998Z"
   },
   {
    "duration": 16,
    "start_time": "2022-12-21T18:17:51.147Z"
   },
   {
    "duration": 57,
    "start_time": "2022-12-21T18:17:51.164Z"
   },
   {
    "duration": 20,
    "start_time": "2022-12-21T18:17:51.223Z"
   },
   {
    "duration": 358,
    "start_time": "2022-12-21T18:17:51.244Z"
   },
   {
    "duration": 44,
    "start_time": "2022-12-21T18:17:51.603Z"
   },
   {
    "duration": 3,
    "start_time": "2022-12-21T18:17:51.649Z"
   },
   {
    "duration": 74,
    "start_time": "2022-12-21T18:17:51.653Z"
   },
   {
    "duration": 142,
    "start_time": "2022-12-21T18:17:51.728Z"
   },
   {
    "duration": 11,
    "start_time": "2022-12-21T18:19:14.680Z"
   },
   {
    "duration": 40,
    "start_time": "2022-12-21T18:19:16.184Z"
   },
   {
    "duration": 26,
    "start_time": "2022-12-21T18:19:17.299Z"
   },
   {
    "duration": 4,
    "start_time": "2022-12-21T18:21:37.745Z"
   },
   {
    "duration": 1409,
    "start_time": "2022-12-21T18:21:50.569Z"
   },
   {
    "duration": 364,
    "start_time": "2022-12-21T18:21:51.980Z"
   },
   {
    "duration": 1407,
    "start_time": "2022-12-21T18:21:52.345Z"
   },
   {
    "duration": 172,
    "start_time": "2022-12-21T18:21:53.754Z"
   },
   {
    "duration": 17,
    "start_time": "2022-12-21T18:21:53.927Z"
   },
   {
    "duration": 27,
    "start_time": "2022-12-21T18:21:53.946Z"
   },
   {
    "duration": 12,
    "start_time": "2022-12-21T18:21:53.975Z"
   },
   {
    "duration": 394,
    "start_time": "2022-12-21T18:21:53.988Z"
   },
   {
    "duration": 3,
    "start_time": "2022-12-21T18:21:54.384Z"
   },
   {
    "duration": 13,
    "start_time": "2022-12-21T18:21:54.390Z"
   },
   {
    "duration": 60,
    "start_time": "2022-12-21T18:21:54.404Z"
   },
   {
    "duration": 35,
    "start_time": "2022-12-21T18:21:54.466Z"
   },
   {
    "duration": 68,
    "start_time": "2022-12-21T18:21:54.502Z"
   },
   {
    "duration": 2,
    "start_time": "2022-12-21T18:23:04.857Z"
   },
   {
    "duration": 15,
    "start_time": "2022-12-21T18:27:11.607Z"
   },
   {
    "duration": 79,
    "start_time": "2022-12-21T18:43:50.108Z"
   },
   {
    "duration": 0,
    "start_time": "2022-12-21T18:43:50.189Z"
   },
   {
    "duration": 0,
    "start_time": "2022-12-21T18:43:50.191Z"
   },
   {
    "duration": 0,
    "start_time": "2022-12-21T18:43:50.192Z"
   },
   {
    "duration": 0,
    "start_time": "2022-12-21T18:43:50.193Z"
   },
   {
    "duration": 0,
    "start_time": "2022-12-21T18:43:50.194Z"
   },
   {
    "duration": 0,
    "start_time": "2022-12-21T18:43:50.195Z"
   },
   {
    "duration": 0,
    "start_time": "2022-12-21T18:43:50.197Z"
   },
   {
    "duration": 0,
    "start_time": "2022-12-21T18:43:50.197Z"
   },
   {
    "duration": 0,
    "start_time": "2022-12-21T18:43:50.198Z"
   },
   {
    "duration": 0,
    "start_time": "2022-12-21T18:43:50.200Z"
   },
   {
    "duration": 0,
    "start_time": "2022-12-21T18:43:50.201Z"
   },
   {
    "duration": 0,
    "start_time": "2022-12-21T18:43:50.202Z"
   },
   {
    "duration": 1306,
    "start_time": "2022-12-21T18:46:19.896Z"
   },
   {
    "duration": 334,
    "start_time": "2022-12-21T18:46:21.203Z"
   },
   {
    "duration": 1260,
    "start_time": "2022-12-21T18:46:22.475Z"
   },
   {
    "duration": 146,
    "start_time": "2022-12-21T18:46:23.737Z"
   },
   {
    "duration": 20,
    "start_time": "2022-12-21T18:46:26.148Z"
   },
   {
    "duration": 22,
    "start_time": "2022-12-21T18:46:26.797Z"
   },
   {
    "duration": 14,
    "start_time": "2022-12-21T18:46:27.493Z"
   },
   {
    "duration": 339,
    "start_time": "2022-12-21T18:46:29.162Z"
   },
   {
    "duration": 2,
    "start_time": "2022-12-21T18:46:30.879Z"
   },
   {
    "duration": 12,
    "start_time": "2022-12-21T18:46:31.364Z"
   },
   {
    "duration": 41,
    "start_time": "2022-12-21T18:46:33.449Z"
   },
   {
    "duration": 32,
    "start_time": "2022-12-21T18:46:34.319Z"
   },
   {
    "duration": 107,
    "start_time": "2022-12-21T18:46:36.096Z"
   },
   {
    "duration": 17,
    "start_time": "2022-12-21T18:46:45.310Z"
   },
   {
    "duration": 37,
    "start_time": "2022-12-21T19:20:27.405Z"
   },
   {
    "duration": 68,
    "start_time": "2022-12-21T19:20:53.466Z"
   },
   {
    "duration": 54,
    "start_time": "2022-12-21T19:21:04.478Z"
   },
   {
    "duration": 174,
    "start_time": "2022-12-21T19:21:57.262Z"
   },
   {
    "duration": 227,
    "start_time": "2022-12-21T19:31:15.917Z"
   },
   {
    "duration": 40,
    "start_time": "2022-12-21T19:32:04.698Z"
   },
   {
    "duration": 138,
    "start_time": "2022-12-21T19:32:11.519Z"
   },
   {
    "duration": 11,
    "start_time": "2022-12-21T19:38:44.156Z"
   },
   {
    "duration": 7,
    "start_time": "2022-12-21T19:39:43.788Z"
   },
   {
    "duration": 63,
    "start_time": "2022-12-22T18:37:57.154Z"
   },
   {
    "duration": 1703,
    "start_time": "2022-12-22T18:38:09.397Z"
   },
   {
    "duration": 839,
    "start_time": "2022-12-22T18:38:11.103Z"
   },
   {
    "duration": 1554,
    "start_time": "2022-12-22T18:38:11.945Z"
   },
   {
    "duration": 238,
    "start_time": "2022-12-22T18:38:13.503Z"
   },
   {
    "duration": 27,
    "start_time": "2022-12-22T18:38:13.742Z"
   },
   {
    "duration": 85,
    "start_time": "2022-12-22T18:38:13.772Z"
   },
   {
    "duration": 16,
    "start_time": "2022-12-22T18:38:13.859Z"
   },
   {
    "duration": 451,
    "start_time": "2022-12-22T18:38:13.877Z"
   },
   {
    "duration": 7,
    "start_time": "2022-12-22T18:38:14.329Z"
   },
   {
    "duration": 14,
    "start_time": "2022-12-22T18:38:14.339Z"
   },
   {
    "duration": 17,
    "start_time": "2022-12-22T18:38:14.356Z"
   },
   {
    "duration": 88,
    "start_time": "2022-12-22T18:38:14.375Z"
   },
   {
    "duration": 51,
    "start_time": "2022-12-22T18:38:14.465Z"
   },
   {
    "duration": 359,
    "start_time": "2022-12-22T18:38:14.518Z"
   },
   {
    "duration": 38,
    "start_time": "2022-12-22T19:17:37.648Z"
   },
   {
    "duration": 28,
    "start_time": "2022-12-22T19:17:38.184Z"
   },
   {
    "duration": 90,
    "start_time": "2022-12-22T19:17:38.831Z"
   },
   {
    "duration": 188,
    "start_time": "2022-12-22T19:17:51.432Z"
   },
   {
    "duration": 8,
    "start_time": "2022-12-22T19:18:41.528Z"
   },
   {
    "duration": 5,
    "start_time": "2022-12-22T19:19:00.828Z"
   },
   {
    "duration": 396,
    "start_time": "2022-12-22T19:19:01.468Z"
   },
   {
    "duration": 1319,
    "start_time": "2022-12-22T19:19:02.715Z"
   },
   {
    "duration": 138,
    "start_time": "2022-12-22T19:19:38.728Z"
   },
   {
    "duration": 17,
    "start_time": "2022-12-22T19:19:39.535Z"
   },
   {
    "duration": 26,
    "start_time": "2022-12-22T19:19:40.435Z"
   },
   {
    "duration": 15,
    "start_time": "2022-12-22T19:19:41.130Z"
   },
   {
    "duration": 486,
    "start_time": "2022-12-22T19:19:41.992Z"
   },
   {
    "duration": 5,
    "start_time": "2022-12-22T19:19:42.893Z"
   },
   {
    "duration": 7,
    "start_time": "2022-12-22T19:19:44.569Z"
   },
   {
    "duration": 9,
    "start_time": "2022-12-22T19:20:45.061Z"
   },
   {
    "duration": 7,
    "start_time": "2022-12-22T19:20:59.346Z"
   },
   {
    "duration": 17,
    "start_time": "2022-12-22T19:21:19.054Z"
   },
   {
    "duration": 15,
    "start_time": "2022-12-22T19:27:00.591Z"
   },
   {
    "duration": 17,
    "start_time": "2022-12-22T19:28:38.699Z"
   },
   {
    "duration": 13,
    "start_time": "2022-12-22T19:28:56.128Z"
   },
   {
    "duration": 159,
    "start_time": "2022-12-22T19:29:29.260Z"
   },
   {
    "duration": 198,
    "start_time": "2022-12-22T19:29:56.240Z"
   },
   {
    "duration": 135,
    "start_time": "2022-12-22T19:30:03.735Z"
   },
   {
    "duration": 38,
    "start_time": "2022-12-22T19:30:27.358Z"
   },
   {
    "duration": 40,
    "start_time": "2022-12-22T20:07:35.323Z"
   },
   {
    "duration": 40,
    "start_time": "2022-12-22T20:07:59.123Z"
   },
   {
    "duration": 42,
    "start_time": "2022-12-22T20:08:12.655Z"
   },
   {
    "duration": 55,
    "start_time": "2022-12-22T20:08:24.320Z"
   },
   {
    "duration": 62,
    "start_time": "2022-12-22T20:08:29.786Z"
   },
   {
    "duration": 44,
    "start_time": "2022-12-22T20:08:33.246Z"
   },
   {
    "duration": 42,
    "start_time": "2022-12-22T20:08:37.320Z"
   },
   {
    "duration": 16,
    "start_time": "2022-12-22T20:09:29.851Z"
   },
   {
    "duration": 1782,
    "start_time": "2022-12-23T09:00:03.380Z"
   },
   {
    "duration": 778,
    "start_time": "2022-12-23T09:00:05.165Z"
   },
   {
    "duration": 1537,
    "start_time": "2022-12-23T09:00:05.945Z"
   },
   {
    "duration": 183,
    "start_time": "2022-12-23T09:00:07.485Z"
   },
   {
    "duration": 26,
    "start_time": "2022-12-23T09:00:07.670Z"
   },
   {
    "duration": 47,
    "start_time": "2022-12-23T09:00:07.698Z"
   },
   {
    "duration": 30,
    "start_time": "2022-12-23T09:00:07.746Z"
   },
   {
    "duration": 397,
    "start_time": "2022-12-23T09:00:07.778Z"
   },
   {
    "duration": 5,
    "start_time": "2022-12-23T09:00:08.177Z"
   },
   {
    "duration": 7,
    "start_time": "2022-12-23T09:00:08.196Z"
   },
   {
    "duration": 16,
    "start_time": "2022-12-23T09:00:08.205Z"
   },
   {
    "duration": 47,
    "start_time": "2022-12-23T09:00:08.223Z"
   },
   {
    "duration": 35,
    "start_time": "2022-12-23T09:00:08.272Z"
   },
   {
    "duration": 2,
    "start_time": "2022-12-23T09:00:08.309Z"
   },
   {
    "duration": 51,
    "start_time": "2022-12-23T09:00:08.312Z"
   },
   {
    "duration": 54,
    "start_time": "2022-12-23T09:00:08.365Z"
   },
   {
    "duration": 32,
    "start_time": "2022-12-23T09:00:08.421Z"
   },
   {
    "duration": 341,
    "start_time": "2022-12-23T09:00:08.455Z"
   },
   {
    "duration": 118,
    "start_time": "2022-12-23T09:12:32.481Z"
   },
   {
    "duration": 45,
    "start_time": "2022-12-23T09:13:16.461Z"
   },
   {
    "duration": 381,
    "start_time": "2022-12-23T09:27:16.144Z"
   },
   {
    "duration": 382,
    "start_time": "2022-12-23T09:27:22.014Z"
   },
   {
    "duration": 379,
    "start_time": "2022-12-23T09:27:31.803Z"
   },
   {
    "duration": 1331,
    "start_time": "2022-12-23T09:27:33.189Z"
   },
   {
    "duration": 3,
    "start_time": "2022-12-23T09:38:49.765Z"
   },
   {
    "duration": 114,
    "start_time": "2022-12-23T10:11:45.024Z"
   },
   {
    "duration": 5,
    "start_time": "2022-12-23T10:12:01.424Z"
   },
   {
    "duration": 10,
    "start_time": "2022-12-23T10:12:11.280Z"
   },
   {
    "duration": 11,
    "start_time": "2022-12-23T10:12:19.637Z"
   },
   {
    "duration": 5,
    "start_time": "2022-12-23T10:15:48.897Z"
   },
   {
    "duration": 1369,
    "start_time": "2022-12-23T10:15:53.827Z"
   },
   {
    "duration": 378,
    "start_time": "2022-12-23T10:15:55.198Z"
   },
   {
    "duration": 1515,
    "start_time": "2022-12-23T10:15:55.578Z"
   },
   {
    "duration": 159,
    "start_time": "2022-12-23T10:15:57.096Z"
   },
   {
    "duration": 17,
    "start_time": "2022-12-23T10:15:57.256Z"
   },
   {
    "duration": 35,
    "start_time": "2022-12-23T10:15:57.274Z"
   },
   {
    "duration": 11,
    "start_time": "2022-12-23T10:15:57.310Z"
   },
   {
    "duration": 386,
    "start_time": "2022-12-23T10:15:57.323Z"
   },
   {
    "duration": 5,
    "start_time": "2022-12-23T10:15:57.710Z"
   },
   {
    "duration": 14,
    "start_time": "2022-12-23T10:15:57.717Z"
   },
   {
    "duration": 20,
    "start_time": "2022-12-23T10:15:57.733Z"
   },
   {
    "duration": 59,
    "start_time": "2022-12-23T10:15:57.755Z"
   },
   {
    "duration": 14,
    "start_time": "2022-12-23T10:15:57.815Z"
   },
   {
    "duration": 2,
    "start_time": "2022-12-23T10:15:57.831Z"
   },
   {
    "duration": 16,
    "start_time": "2022-12-23T10:15:57.834Z"
   },
   {
    "duration": 54,
    "start_time": "2022-12-23T10:15:57.852Z"
   },
   {
    "duration": 36,
    "start_time": "2022-12-23T10:15:57.908Z"
   },
   {
    "duration": 153,
    "start_time": "2022-12-23T10:15:57.947Z"
   },
   {
    "duration": 3,
    "start_time": "2022-12-23T10:15:58.102Z"
   },
   {
    "duration": 276,
    "start_time": "2022-12-23T10:15:58.106Z"
   },
   {
    "duration": 5,
    "start_time": "2022-12-23T10:16:46.351Z"
   },
   {
    "duration": 9,
    "start_time": "2022-12-23T10:16:53.416Z"
   },
   {
    "duration": 3,
    "start_time": "2022-12-23T10:18:08.618Z"
   },
   {
    "duration": 10,
    "start_time": "2022-12-23T10:18:09.885Z"
   },
   {
    "duration": 8,
    "start_time": "2022-12-23T10:18:16.056Z"
   },
   {
    "duration": 7,
    "start_time": "2022-12-23T10:18:39.268Z"
   },
   {
    "duration": 5,
    "start_time": "2022-12-23T10:20:09.431Z"
   },
   {
    "duration": 8,
    "start_time": "2022-12-23T10:20:12.037Z"
   },
   {
    "duration": 9,
    "start_time": "2022-12-23T10:20:42.174Z"
   },
   {
    "duration": 1217,
    "start_time": "2022-12-23T10:24:40.384Z"
   },
   {
    "duration": 1268,
    "start_time": "2022-12-23T10:34:36.836Z"
   },
   {
    "duration": 1302,
    "start_time": "2022-12-23T10:36:05.929Z"
   },
   {
    "duration": 1230,
    "start_time": "2022-12-23T10:36:24.369Z"
   },
   {
    "duration": 1207,
    "start_time": "2022-12-23T10:36:27.244Z"
   },
   {
    "duration": 3766,
    "start_time": "2022-12-23T10:36:50.599Z"
   },
   {
    "duration": 3,
    "start_time": "2022-12-23T10:38:25.791Z"
   },
   {
    "duration": 2705,
    "start_time": "2022-12-23T10:45:08.914Z"
   },
   {
    "duration": 744,
    "start_time": "2022-12-23T10:45:23.344Z"
   },
   {
    "duration": 1549,
    "start_time": "2022-12-23T17:07:06.511Z"
   },
   {
    "duration": 1536,
    "start_time": "2022-12-23T17:07:08.062Z"
   },
   {
    "duration": 1362,
    "start_time": "2022-12-23T17:07:09.600Z"
   },
   {
    "duration": 170,
    "start_time": "2022-12-23T17:07:10.963Z"
   },
   {
    "duration": 18,
    "start_time": "2022-12-23T17:07:11.135Z"
   },
   {
    "duration": 64,
    "start_time": "2022-12-23T17:07:11.155Z"
   },
   {
    "duration": 14,
    "start_time": "2022-12-23T17:07:11.221Z"
   },
   {
    "duration": 375,
    "start_time": "2022-12-23T17:07:11.236Z"
   },
   {
    "duration": 11,
    "start_time": "2022-12-23T17:07:11.612Z"
   },
   {
    "duration": 27,
    "start_time": "2022-12-23T17:07:11.624Z"
   },
   {
    "duration": 38,
    "start_time": "2022-12-23T17:07:11.654Z"
   },
   {
    "duration": 48,
    "start_time": "2022-12-23T17:07:11.693Z"
   },
   {
    "duration": 15,
    "start_time": "2022-12-23T17:07:11.742Z"
   },
   {
    "duration": 12,
    "start_time": "2022-12-23T17:07:11.759Z"
   },
   {
    "duration": 32,
    "start_time": "2022-12-23T17:07:11.772Z"
   },
   {
    "duration": 58,
    "start_time": "2022-12-23T17:07:11.805Z"
   },
   {
    "duration": 34,
    "start_time": "2022-12-23T17:07:11.865Z"
   },
   {
    "duration": 235,
    "start_time": "2022-12-23T17:07:11.901Z"
   },
   {
    "duration": 5,
    "start_time": "2022-12-23T17:07:12.223Z"
   },
   {
    "duration": 98,
    "start_time": "2022-12-23T17:07:12.230Z"
   },
   {
    "duration": 749,
    "start_time": "2022-12-23T17:07:12.330Z"
   },
   {
    "duration": 2,
    "start_time": "2022-12-23T17:07:13.081Z"
   },
   {
    "duration": 3,
    "start_time": "2022-12-23T17:15:00.085Z"
   },
   {
    "duration": 3,
    "start_time": "2022-12-23T17:15:08.318Z"
   },
   {
    "duration": 4,
    "start_time": "2022-12-23T18:16:55.424Z"
   },
   {
    "duration": 4,
    "start_time": "2022-12-23T18:17:55.415Z"
   },
   {
    "duration": 5,
    "start_time": "2022-12-23T18:17:56.724Z"
   },
   {
    "duration": 4,
    "start_time": "2022-12-23T18:18:09.360Z"
   },
   {
    "duration": 4,
    "start_time": "2022-12-23T18:18:12.136Z"
   },
   {
    "duration": 6,
    "start_time": "2022-12-23T18:25:17.179Z"
   },
   {
    "duration": 3,
    "start_time": "2022-12-23T18:25:34.765Z"
   },
   {
    "duration": 4,
    "start_time": "2022-12-23T18:25:37.420Z"
   },
   {
    "duration": 4,
    "start_time": "2022-12-23T18:25:50.275Z"
   },
   {
    "duration": 4,
    "start_time": "2022-12-23T18:26:05.542Z"
   },
   {
    "duration": 3,
    "start_time": "2022-12-23T18:36:46.160Z"
   },
   {
    "duration": 4,
    "start_time": "2022-12-23T18:37:07.233Z"
   },
   {
    "duration": 4,
    "start_time": "2022-12-23T18:37:12.274Z"
   },
   {
    "duration": 11,
    "start_time": "2022-12-23T18:37:20.631Z"
   },
   {
    "duration": 5,
    "start_time": "2022-12-23T18:37:28.384Z"
   },
   {
    "duration": 10,
    "start_time": "2022-12-23T18:37:33.429Z"
   },
   {
    "duration": 4,
    "start_time": "2022-12-23T18:37:38.144Z"
   },
   {
    "duration": 5,
    "start_time": "2022-12-23T18:37:42.620Z"
   },
   {
    "duration": 5,
    "start_time": "2022-12-23T18:37:45.715Z"
   },
   {
    "duration": 4,
    "start_time": "2022-12-23T18:37:50.439Z"
   },
   {
    "duration": 5,
    "start_time": "2022-12-23T18:38:42.639Z"
   },
   {
    "duration": 5,
    "start_time": "2022-12-23T18:38:49.454Z"
   },
   {
    "duration": 86,
    "start_time": "2022-12-23T18:38:52.922Z"
   },
   {
    "duration": 5,
    "start_time": "2022-12-23T18:39:05.439Z"
   },
   {
    "duration": 4,
    "start_time": "2022-12-23T18:39:09.866Z"
   },
   {
    "duration": 4,
    "start_time": "2022-12-23T18:39:13.276Z"
   },
   {
    "duration": 5,
    "start_time": "2022-12-23T18:43:42.668Z"
   },
   {
    "duration": 7,
    "start_time": "2022-12-23T18:43:44.943Z"
   },
   {
    "duration": 4,
    "start_time": "2022-12-23T18:45:14.719Z"
   },
   {
    "duration": 13,
    "start_time": "2022-12-23T18:45:38.018Z"
   },
   {
    "duration": 1292,
    "start_time": "2022-12-23T19:31:33.252Z"
   },
   {
    "duration": 7,
    "start_time": "2022-12-23T19:31:57.572Z"
   },
   {
    "duration": 12,
    "start_time": "2022-12-23T19:32:01.945Z"
   },
   {
    "duration": 4,
    "start_time": "2022-12-23T20:52:01.221Z"
   },
   {
    "duration": 3,
    "start_time": "2022-12-23T20:52:25.763Z"
   },
   {
    "duration": 922,
    "start_time": "2022-12-23T21:14:38.183Z"
   },
   {
    "duration": 7,
    "start_time": "2022-12-23T21:31:54.465Z"
   },
   {
    "duration": 108,
    "start_time": "2022-12-23T21:39:41.664Z"
   },
   {
    "duration": 3,
    "start_time": "2022-12-23T21:40:05.889Z"
   },
   {
    "duration": 7,
    "start_time": "2022-12-23T21:40:05.893Z"
   },
   {
    "duration": 13,
    "start_time": "2022-12-23T21:40:06.207Z"
   },
   {
    "duration": 1361,
    "start_time": "2022-12-23T21:40:13.915Z"
   },
   {
    "duration": 416,
    "start_time": "2022-12-23T21:40:15.278Z"
   },
   {
    "duration": 1311,
    "start_time": "2022-12-23T21:40:15.695Z"
   },
   {
    "duration": 145,
    "start_time": "2022-12-23T21:40:17.008Z"
   },
   {
    "duration": 16,
    "start_time": "2022-12-23T21:40:17.154Z"
   },
   {
    "duration": 41,
    "start_time": "2022-12-23T21:40:17.172Z"
   },
   {
    "duration": 12,
    "start_time": "2022-12-23T21:40:17.215Z"
   },
   {
    "duration": 356,
    "start_time": "2022-12-23T21:40:17.228Z"
   },
   {
    "duration": 4,
    "start_time": "2022-12-23T21:40:17.586Z"
   },
   {
    "duration": 40,
    "start_time": "2022-12-23T21:40:17.592Z"
   },
   {
    "duration": 26,
    "start_time": "2022-12-23T21:40:17.633Z"
   },
   {
    "duration": 46,
    "start_time": "2022-12-23T21:40:17.660Z"
   },
   {
    "duration": 14,
    "start_time": "2022-12-23T21:40:17.707Z"
   },
   {
    "duration": 14,
    "start_time": "2022-12-23T21:40:17.722Z"
   },
   {
    "duration": 24,
    "start_time": "2022-12-23T21:40:17.737Z"
   },
   {
    "duration": 59,
    "start_time": "2022-12-23T21:40:17.763Z"
   },
   {
    "duration": 31,
    "start_time": "2022-12-23T21:40:17.823Z"
   },
   {
    "duration": 174,
    "start_time": "2022-12-23T21:40:17.856Z"
   },
   {
    "duration": 192,
    "start_time": "2022-12-23T21:40:18.031Z"
   },
   {
    "duration": 19,
    "start_time": "2022-12-23T21:40:18.225Z"
   },
   {
    "duration": 114,
    "start_time": "2022-12-23T21:40:18.245Z"
   },
   {
    "duration": 0,
    "start_time": "2022-12-23T21:40:18.360Z"
   },
   {
    "duration": 0,
    "start_time": "2022-12-23T21:40:18.362Z"
   },
   {
    "duration": 0,
    "start_time": "2022-12-23T21:40:18.363Z"
   },
   {
    "duration": 10,
    "start_time": "2022-12-23T22:13:45.439Z"
   },
   {
    "duration": 1353,
    "start_time": "2022-12-23T22:13:51.998Z"
   },
   {
    "duration": 333,
    "start_time": "2022-12-23T22:13:53.353Z"
   },
   {
    "duration": 1357,
    "start_time": "2022-12-23T22:13:53.687Z"
   },
   {
    "duration": 148,
    "start_time": "2022-12-23T22:13:55.045Z"
   },
   {
    "duration": 15,
    "start_time": "2022-12-23T22:13:55.195Z"
   },
   {
    "duration": 22,
    "start_time": "2022-12-23T22:13:55.222Z"
   },
   {
    "duration": 11,
    "start_time": "2022-12-23T22:13:55.246Z"
   },
   {
    "duration": 372,
    "start_time": "2022-12-23T22:13:55.258Z"
   },
   {
    "duration": 6,
    "start_time": "2022-12-23T22:13:55.632Z"
   },
   {
    "duration": 7,
    "start_time": "2022-12-23T22:13:55.639Z"
   },
   {
    "duration": 14,
    "start_time": "2022-12-23T22:13:55.648Z"
   },
   {
    "duration": 71,
    "start_time": "2022-12-23T22:13:55.664Z"
   },
   {
    "duration": 13,
    "start_time": "2022-12-23T22:13:55.737Z"
   },
   {
    "duration": 2,
    "start_time": "2022-12-23T22:13:55.752Z"
   },
   {
    "duration": 16,
    "start_time": "2022-12-23T22:13:55.755Z"
   },
   {
    "duration": 59,
    "start_time": "2022-12-23T22:13:55.772Z"
   },
   {
    "duration": 34,
    "start_time": "2022-12-23T22:13:55.833Z"
   },
   {
    "duration": 67,
    "start_time": "2022-12-23T22:13:55.870Z"
   },
   {
    "duration": 4,
    "start_time": "2022-12-23T22:13:56.022Z"
   },
   {
    "duration": 96,
    "start_time": "2022-12-23T22:13:56.027Z"
   },
   {
    "duration": 110,
    "start_time": "2022-12-23T22:13:56.125Z"
   },
   {
    "duration": 0,
    "start_time": "2022-12-23T22:13:56.237Z"
   },
   {
    "duration": 0,
    "start_time": "2022-12-23T22:13:56.237Z"
   },
   {
    "duration": 0,
    "start_time": "2022-12-23T22:13:56.239Z"
   },
   {
    "duration": 14,
    "start_time": "2022-12-23T22:27:10.313Z"
   },
   {
    "duration": 7,
    "start_time": "2022-12-23T22:27:27.128Z"
   },
   {
    "duration": 7,
    "start_time": "2022-12-23T22:27:45.524Z"
   },
   {
    "duration": 8,
    "start_time": "2022-12-23T22:28:19.442Z"
   },
   {
    "duration": 14,
    "start_time": "2022-12-23T22:28:54.353Z"
   },
   {
    "duration": 10,
    "start_time": "2022-12-23T22:36:09.488Z"
   },
   {
    "duration": 10,
    "start_time": "2022-12-23T22:36:31.920Z"
   },
   {
    "duration": 28,
    "start_time": "2022-12-23T22:37:01.377Z"
   },
   {
    "duration": 24,
    "start_time": "2022-12-23T22:37:24.569Z"
   },
   {
    "duration": 11,
    "start_time": "2022-12-23T22:48:44.006Z"
   },
   {
    "duration": 3,
    "start_time": "2022-12-23T22:49:26.512Z"
   },
   {
    "duration": 25,
    "start_time": "2022-12-23T22:49:37.160Z"
   },
   {
    "duration": 24,
    "start_time": "2022-12-23T22:49:56.760Z"
   },
   {
    "duration": 17,
    "start_time": "2022-12-23T22:50:54.116Z"
   },
   {
    "duration": 11,
    "start_time": "2022-12-23T22:50:58.762Z"
   },
   {
    "duration": 489,
    "start_time": "2022-12-23T22:51:03.707Z"
   },
   {
    "duration": 16,
    "start_time": "2022-12-23T22:52:28.404Z"
   },
   {
    "duration": 14,
    "start_time": "2022-12-23T22:53:31.646Z"
   },
   {
    "duration": 417,
    "start_time": "2022-12-23T22:53:45.134Z"
   },
   {
    "duration": 440,
    "start_time": "2022-12-23T22:53:55.641Z"
   },
   {
    "duration": 495,
    "start_time": "2022-12-23T22:54:04.054Z"
   },
   {
    "duration": 479,
    "start_time": "2022-12-23T22:55:53.755Z"
   },
   {
    "duration": 73,
    "start_time": "2022-12-23T22:56:52.253Z"
   },
   {
    "duration": 399,
    "start_time": "2022-12-23T23:01:28.756Z"
   },
   {
    "duration": 431,
    "start_time": "2022-12-23T23:01:35.301Z"
   },
   {
    "duration": 4,
    "start_time": "2022-12-23T23:01:41.274Z"
   },
   {
    "duration": 445,
    "start_time": "2022-12-23T23:01:57.158Z"
   },
   {
    "duration": 423,
    "start_time": "2022-12-23T23:02:01.967Z"
   },
   {
    "duration": 405,
    "start_time": "2022-12-23T23:02:06.697Z"
   },
   {
    "duration": 411,
    "start_time": "2022-12-23T23:02:16.506Z"
   },
   {
    "duration": 421,
    "start_time": "2022-12-23T23:02:32.856Z"
   },
   {
    "duration": 414,
    "start_time": "2022-12-23T23:02:36.555Z"
   },
   {
    "duration": 425,
    "start_time": "2022-12-23T23:02:40.325Z"
   },
   {
    "duration": 451,
    "start_time": "2022-12-23T23:02:48.775Z"
   },
   {
    "duration": 441,
    "start_time": "2022-12-23T23:02:56.781Z"
   },
   {
    "duration": 413,
    "start_time": "2022-12-23T23:03:01.078Z"
   },
   {
    "duration": 468,
    "start_time": "2022-12-23T23:03:31.234Z"
   },
   {
    "duration": 421,
    "start_time": "2022-12-23T23:05:18.348Z"
   },
   {
    "duration": 435,
    "start_time": "2022-12-23T23:05:47.811Z"
   },
   {
    "duration": 415,
    "start_time": "2022-12-23T23:06:06.221Z"
   },
   {
    "duration": 412,
    "start_time": "2022-12-23T23:06:26.759Z"
   },
   {
    "duration": 427,
    "start_time": "2022-12-23T23:07:00.847Z"
   },
   {
    "duration": 418,
    "start_time": "2022-12-23T23:07:07.431Z"
   },
   {
    "duration": 414,
    "start_time": "2022-12-23T23:08:28.855Z"
   },
   {
    "duration": 398,
    "start_time": "2022-12-23T23:08:33.529Z"
   },
   {
    "duration": 410,
    "start_time": "2022-12-23T23:08:39.954Z"
   },
   {
    "duration": 1301,
    "start_time": "2022-12-23T23:08:57.448Z"
   },
   {
    "duration": 352,
    "start_time": "2022-12-23T23:08:58.751Z"
   },
   {
    "duration": 1278,
    "start_time": "2022-12-23T23:08:59.104Z"
   },
   {
    "duration": 167,
    "start_time": "2022-12-23T23:09:00.383Z"
   },
   {
    "duration": 18,
    "start_time": "2022-12-23T23:09:00.552Z"
   },
   {
    "duration": 45,
    "start_time": "2022-12-23T23:09:00.571Z"
   },
   {
    "duration": 14,
    "start_time": "2022-12-23T23:09:00.618Z"
   },
   {
    "duration": 332,
    "start_time": "2022-12-23T23:09:00.633Z"
   },
   {
    "duration": 4,
    "start_time": "2022-12-23T23:09:00.967Z"
   },
   {
    "duration": 32,
    "start_time": "2022-12-23T23:09:00.973Z"
   },
   {
    "duration": 23,
    "start_time": "2022-12-23T23:09:01.006Z"
   },
   {
    "duration": 52,
    "start_time": "2022-12-23T23:09:01.030Z"
   },
   {
    "duration": 14,
    "start_time": "2022-12-23T23:09:01.083Z"
   },
   {
    "duration": 3,
    "start_time": "2022-12-23T23:09:01.098Z"
   },
   {
    "duration": 31,
    "start_time": "2022-12-23T23:09:01.102Z"
   },
   {
    "duration": 48,
    "start_time": "2022-12-23T23:09:01.135Z"
   },
   {
    "duration": 29,
    "start_time": "2022-12-23T23:09:01.185Z"
   },
   {
    "duration": 209,
    "start_time": "2022-12-23T23:09:01.216Z"
   },
   {
    "duration": 97,
    "start_time": "2022-12-23T23:09:01.427Z"
   },
   {
    "duration": 97,
    "start_time": "2022-12-23T23:09:01.525Z"
   },
   {
    "duration": 14,
    "start_time": "2022-12-23T23:09:01.623Z"
   },
   {
    "duration": 514,
    "start_time": "2022-12-23T23:09:01.639Z"
   },
   {
    "duration": 0,
    "start_time": "2022-12-23T23:09:02.154Z"
   },
   {
    "duration": 0,
    "start_time": "2022-12-23T23:09:02.156Z"
   },
   {
    "duration": 0,
    "start_time": "2022-12-23T23:09:02.157Z"
   },
   {
    "duration": 817,
    "start_time": "2022-12-23T23:09:48.162Z"
   },
   {
    "duration": 1225,
    "start_time": "2022-12-23T23:10:15.311Z"
   },
   {
    "duration": 1248,
    "start_time": "2022-12-23T23:10:42.307Z"
   },
   {
    "duration": 1295,
    "start_time": "2022-12-23T23:11:02.886Z"
   },
   {
    "duration": 13,
    "start_time": "2022-12-23T23:20:48.120Z"
   },
   {
    "duration": 18,
    "start_time": "2022-12-23T23:21:08.561Z"
   },
   {
    "duration": 1233,
    "start_time": "2022-12-23T23:21:37.373Z"
   },
   {
    "duration": 12,
    "start_time": "2022-12-23T23:24:55.623Z"
   },
   {
    "duration": 126,
    "start_time": "2022-12-23T23:25:23.858Z"
   },
   {
    "duration": 1218,
    "start_time": "2022-12-23T23:25:38.947Z"
   },
   {
    "duration": 78,
    "start_time": "2022-12-23T23:26:48.700Z"
   },
   {
    "duration": 1215,
    "start_time": "2022-12-23T23:26:57.532Z"
   },
   {
    "duration": 1275,
    "start_time": "2022-12-23T23:28:34.003Z"
   },
   {
    "duration": 60,
    "start_time": "2022-12-25T11:12:58.954Z"
   },
   {
    "duration": 1542,
    "start_time": "2022-12-25T11:13:04.686Z"
   },
   {
    "duration": 775,
    "start_time": "2022-12-25T11:13:06.231Z"
   },
   {
    "duration": 1358,
    "start_time": "2022-12-25T11:13:07.008Z"
   },
   {
    "duration": 144,
    "start_time": "2022-12-25T11:13:08.369Z"
   },
   {
    "duration": 15,
    "start_time": "2022-12-25T11:13:08.516Z"
   },
   {
    "duration": 31,
    "start_time": "2022-12-25T11:13:08.532Z"
   },
   {
    "duration": 12,
    "start_time": "2022-12-25T11:13:08.565Z"
   },
   {
    "duration": 369,
    "start_time": "2022-12-25T11:13:08.578Z"
   },
   {
    "duration": 5,
    "start_time": "2022-12-25T11:13:08.948Z"
   },
   {
    "duration": 23,
    "start_time": "2022-12-25T11:13:08.956Z"
   },
   {
    "duration": 16,
    "start_time": "2022-12-25T11:13:08.980Z"
   },
   {
    "duration": 58,
    "start_time": "2022-12-25T11:13:08.998Z"
   },
   {
    "duration": 15,
    "start_time": "2022-12-25T11:13:09.058Z"
   },
   {
    "duration": 2,
    "start_time": "2022-12-25T11:13:09.075Z"
   },
   {
    "duration": 37,
    "start_time": "2022-12-25T11:13:09.079Z"
   },
   {
    "duration": 40,
    "start_time": "2022-12-25T11:13:09.117Z"
   },
   {
    "duration": 32,
    "start_time": "2022-12-25T11:13:09.158Z"
   },
   {
    "duration": 334,
    "start_time": "2022-12-25T11:13:09.191Z"
   },
   {
    "duration": 92,
    "start_time": "2022-12-25T11:13:09.527Z"
   },
   {
    "duration": 96,
    "start_time": "2022-12-25T11:13:09.621Z"
   },
   {
    "duration": 15,
    "start_time": "2022-12-25T11:13:09.719Z"
   },
   {
    "duration": 1357,
    "start_time": "2022-12-25T11:13:09.735Z"
   },
   {
    "duration": 1345,
    "start_time": "2022-12-25T11:13:29.870Z"
   },
   {
    "duration": 1356,
    "start_time": "2022-12-25T11:13:52.482Z"
   },
   {
    "duration": 1329,
    "start_time": "2022-12-25T11:14:08.150Z"
   },
   {
    "duration": 1505,
    "start_time": "2022-12-25T11:14:15.734Z"
   },
   {
    "duration": 1300,
    "start_time": "2022-12-25T11:17:22.509Z"
   },
   {
    "duration": 1318,
    "start_time": "2022-12-25T11:17:44.332Z"
   },
   {
    "duration": 572,
    "start_time": "2022-12-25T11:21:38.437Z"
   },
   {
    "duration": 1325,
    "start_time": "2022-12-25T11:21:53.933Z"
   },
   {
    "duration": 1427,
    "start_time": "2022-12-25T11:22:32.938Z"
   },
   {
    "duration": 1418,
    "start_time": "2022-12-25T11:23:11.544Z"
   },
   {
    "duration": 1381,
    "start_time": "2022-12-25T11:24:01.863Z"
   },
   {
    "duration": 1344,
    "start_time": "2022-12-25T11:24:18.149Z"
   },
   {
    "duration": 380,
    "start_time": "2022-12-25T11:24:19.495Z"
   },
   {
    "duration": 1334,
    "start_time": "2022-12-25T11:24:19.876Z"
   },
   {
    "duration": 148,
    "start_time": "2022-12-25T11:24:21.212Z"
   },
   {
    "duration": 14,
    "start_time": "2022-12-25T11:24:21.361Z"
   },
   {
    "duration": 39,
    "start_time": "2022-12-25T11:24:21.377Z"
   },
   {
    "duration": 13,
    "start_time": "2022-12-25T11:24:21.417Z"
   },
   {
    "duration": 346,
    "start_time": "2022-12-25T11:24:21.431Z"
   },
   {
    "duration": 5,
    "start_time": "2022-12-25T11:24:21.778Z"
   },
   {
    "duration": 11,
    "start_time": "2022-12-25T11:24:21.785Z"
   },
   {
    "duration": 28,
    "start_time": "2022-12-25T11:24:21.797Z"
   },
   {
    "duration": 41,
    "start_time": "2022-12-25T11:24:21.827Z"
   },
   {
    "duration": 15,
    "start_time": "2022-12-25T11:24:21.870Z"
   },
   {
    "duration": 2,
    "start_time": "2022-12-25T11:24:21.886Z"
   },
   {
    "duration": 36,
    "start_time": "2022-12-25T11:24:21.889Z"
   },
   {
    "duration": 38,
    "start_time": "2022-12-25T11:24:21.926Z"
   },
   {
    "duration": 29,
    "start_time": "2022-12-25T11:24:21.966Z"
   },
   {
    "duration": 227,
    "start_time": "2022-12-25T11:24:21.997Z"
   },
   {
    "duration": 6,
    "start_time": "2022-12-25T11:24:22.316Z"
   },
   {
    "duration": 97,
    "start_time": "2022-12-25T11:24:22.325Z"
   },
   {
    "duration": 22,
    "start_time": "2022-12-25T11:24:22.424Z"
   },
   {
    "duration": 1378,
    "start_time": "2022-12-25T11:24:22.447Z"
   },
   {
    "duration": 54,
    "start_time": "2022-12-25T14:32:39.909Z"
   },
   {
    "duration": 1822,
    "start_time": "2022-12-25T14:32:46.301Z"
   },
   {
    "duration": 785,
    "start_time": "2022-12-25T14:32:48.126Z"
   },
   {
    "duration": 1540,
    "start_time": "2022-12-25T14:32:48.913Z"
   },
   {
    "duration": 183,
    "start_time": "2022-12-25T14:32:50.456Z"
   },
   {
    "duration": 20,
    "start_time": "2022-12-25T14:32:50.642Z"
   },
   {
    "duration": 27,
    "start_time": "2022-12-25T14:32:50.665Z"
   },
   {
    "duration": 32,
    "start_time": "2022-12-25T14:32:50.694Z"
   },
   {
    "duration": 400,
    "start_time": "2022-12-25T14:32:50.728Z"
   },
   {
    "duration": 6,
    "start_time": "2022-12-25T14:32:51.130Z"
   },
   {
    "duration": 7,
    "start_time": "2022-12-25T14:32:51.138Z"
   },
   {
    "duration": 16,
    "start_time": "2022-12-25T14:32:51.147Z"
   },
   {
    "duration": 93,
    "start_time": "2022-12-25T14:32:51.165Z"
   },
   {
    "duration": 22,
    "start_time": "2022-12-25T14:32:51.260Z"
   },
   {
    "duration": 2,
    "start_time": "2022-12-25T14:32:51.285Z"
   },
   {
    "duration": 38,
    "start_time": "2022-12-25T14:32:51.290Z"
   },
   {
    "duration": 46,
    "start_time": "2022-12-25T14:32:51.331Z"
   },
   {
    "duration": 68,
    "start_time": "2022-12-25T14:32:51.380Z"
   },
   {
    "duration": 173,
    "start_time": "2022-12-25T14:32:51.451Z"
   },
   {
    "duration": 8,
    "start_time": "2022-12-25T14:32:51.627Z"
   },
   {
    "duration": 80,
    "start_time": "2022-12-25T14:32:51.638Z"
   },
   {
    "duration": 97,
    "start_time": "2022-12-25T14:32:51.721Z"
   },
   {
    "duration": 277,
    "start_time": "2022-12-25T14:32:51.820Z"
   },
   {
    "duration": 1382,
    "start_time": "2022-12-25T14:33:09.904Z"
   },
   {
    "duration": 1418,
    "start_time": "2022-12-25T14:33:23.280Z"
   },
   {
    "duration": 1575,
    "start_time": "2022-12-25T14:33:35.514Z"
   },
   {
    "duration": 1567,
    "start_time": "2022-12-25T14:33:47.330Z"
   },
   {
    "duration": 7,
    "start_time": "2022-12-25T14:34:37.922Z"
   },
   {
    "duration": 7,
    "start_time": "2022-12-25T14:34:49.022Z"
   },
   {
    "duration": 7,
    "start_time": "2022-12-25T14:36:57.684Z"
   },
   {
    "duration": 7,
    "start_time": "2022-12-25T14:37:06.678Z"
   },
   {
    "duration": 8,
    "start_time": "2022-12-25T14:37:22.274Z"
   },
   {
    "duration": 598,
    "start_time": "2022-12-25T14:37:33.532Z"
   },
   {
    "duration": 16,
    "start_time": "2022-12-25T14:38:06.362Z"
   },
   {
    "duration": 2003,
    "start_time": "2022-12-25T14:38:32.336Z"
   },
   {
    "duration": 1596,
    "start_time": "2022-12-25T14:38:41.007Z"
   },
   {
    "duration": 1755,
    "start_time": "2022-12-25T14:38:55.114Z"
   },
   {
    "duration": 1696,
    "start_time": "2022-12-25T14:39:16.301Z"
   },
   {
    "duration": 1538,
    "start_time": "2022-12-25T14:39:24.338Z"
   },
   {
    "duration": 65,
    "start_time": "2022-12-25T14:39:30.668Z"
   },
   {
    "duration": 1709,
    "start_time": "2022-12-25T14:39:37.182Z"
   },
   {
    "duration": 1486,
    "start_time": "2022-12-25T14:39:59.401Z"
   },
   {
    "duration": 1635,
    "start_time": "2022-12-25T14:40:07.210Z"
   },
   {
    "duration": 2084,
    "start_time": "2022-12-25T14:40:17.169Z"
   },
   {
    "duration": 1683,
    "start_time": "2022-12-25T17:15:46.591Z"
   },
   {
    "duration": 832,
    "start_time": "2022-12-25T17:15:48.276Z"
   },
   {
    "duration": 1603,
    "start_time": "2022-12-25T17:15:49.109Z"
   },
   {
    "duration": 194,
    "start_time": "2022-12-25T17:15:50.714Z"
   },
   {
    "duration": 18,
    "start_time": "2022-12-25T17:15:50.910Z"
   },
   {
    "duration": 86,
    "start_time": "2022-12-25T17:15:50.935Z"
   },
   {
    "duration": 46,
    "start_time": "2022-12-25T17:15:51.023Z"
   },
   {
    "duration": 426,
    "start_time": "2022-12-25T17:15:51.071Z"
   },
   {
    "duration": 5,
    "start_time": "2022-12-25T17:15:51.499Z"
   },
   {
    "duration": 14,
    "start_time": "2022-12-25T17:15:51.507Z"
   },
   {
    "duration": 61,
    "start_time": "2022-12-25T17:15:51.523Z"
   },
   {
    "duration": 47,
    "start_time": "2022-12-25T17:15:51.586Z"
   },
   {
    "duration": 24,
    "start_time": "2022-12-25T17:15:51.634Z"
   },
   {
    "duration": 3,
    "start_time": "2022-12-25T17:15:51.660Z"
   },
   {
    "duration": 48,
    "start_time": "2022-12-25T17:15:51.664Z"
   },
   {
    "duration": 55,
    "start_time": "2022-12-25T17:15:51.714Z"
   },
   {
    "duration": 31,
    "start_time": "2022-12-25T17:15:51.770Z"
   },
   {
    "duration": 252,
    "start_time": "2022-12-25T17:15:51.803Z"
   },
   {
    "duration": 86,
    "start_time": "2022-12-25T17:15:52.057Z"
   },
   {
    "duration": 35,
    "start_time": "2022-12-25T17:15:52.234Z"
   },
   {
    "duration": 32,
    "start_time": "2022-12-25T17:15:52.271Z"
   },
   {
    "duration": 1528,
    "start_time": "2022-12-25T17:15:52.305Z"
   },
   {
    "duration": 125,
    "start_time": "2022-12-25T17:15:53.835Z"
   },
   {
    "duration": 1433,
    "start_time": "2022-12-25T17:16:36.819Z"
   },
   {
    "duration": 1495,
    "start_time": "2022-12-25T17:17:59.655Z"
   },
   {
    "duration": 49,
    "start_time": "2022-12-25T17:26:59.468Z"
   },
   {
    "duration": 6,
    "start_time": "2022-12-25T17:27:22.009Z"
   },
   {
    "duration": 517,
    "start_time": "2022-12-25T17:28:11.018Z"
   },
   {
    "duration": 4,
    "start_time": "2022-12-25T17:28:21.179Z"
   },
   {
    "duration": 1466,
    "start_time": "2022-12-25T17:28:37.761Z"
   },
   {
    "duration": 5,
    "start_time": "2022-12-25T17:28:57.050Z"
   },
   {
    "duration": 1438,
    "start_time": "2022-12-25T17:28:59.524Z"
   },
   {
    "duration": 9,
    "start_time": "2022-12-25T17:29:31.937Z"
   },
   {
    "duration": 1483,
    "start_time": "2022-12-25T17:29:32.864Z"
   },
   {
    "duration": 5,
    "start_time": "2022-12-25T17:29:40.574Z"
   },
   {
    "duration": 1485,
    "start_time": "2022-12-25T17:29:42.828Z"
   },
   {
    "duration": 1509,
    "start_time": "2022-12-25T17:30:06.530Z"
   },
   {
    "duration": 552,
    "start_time": "2022-12-25T17:30:56.026Z"
   },
   {
    "duration": 6,
    "start_time": "2022-12-25T17:31:30.129Z"
   },
   {
    "duration": 6,
    "start_time": "2022-12-25T17:31:34.379Z"
   },
   {
    "duration": 17,
    "start_time": "2022-12-25T17:31:38.470Z"
   },
   {
    "duration": 48,
    "start_time": "2022-12-25T17:31:46.277Z"
   },
   {
    "duration": 57,
    "start_time": "2022-12-25T17:32:21.214Z"
   },
   {
    "duration": 5,
    "start_time": "2022-12-25T17:32:28.863Z"
   },
   {
    "duration": 441,
    "start_time": "2022-12-25T17:32:29.460Z"
   },
   {
    "duration": 1464,
    "start_time": "2022-12-25T17:32:30.018Z"
   },
   {
    "duration": 197,
    "start_time": "2022-12-25T17:32:31.484Z"
   },
   {
    "duration": 19,
    "start_time": "2022-12-25T17:32:31.683Z"
   },
   {
    "duration": 26,
    "start_time": "2022-12-25T17:32:32.268Z"
   },
   {
    "duration": 17,
    "start_time": "2022-12-25T17:32:33.056Z"
   },
   {
    "duration": 506,
    "start_time": "2022-12-25T17:32:34.312Z"
   },
   {
    "duration": 6,
    "start_time": "2022-12-25T17:32:35.360Z"
   },
   {
    "duration": 9,
    "start_time": "2022-12-25T17:32:36.001Z"
   },
   {
    "duration": 15,
    "start_time": "2022-12-25T17:32:37.362Z"
   },
   {
    "duration": 45,
    "start_time": "2022-12-25T17:32:38.367Z"
   },
   {
    "duration": 15,
    "start_time": "2022-12-25T17:32:40.015Z"
   },
   {
    "duration": 2,
    "start_time": "2022-12-25T17:32:41.297Z"
   },
   {
    "duration": 16,
    "start_time": "2022-12-25T17:32:41.982Z"
   },
   {
    "duration": 58,
    "start_time": "2022-12-25T17:32:44.831Z"
   },
   {
    "duration": 32,
    "start_time": "2022-12-25T17:32:47.818Z"
   },
   {
    "duration": 115,
    "start_time": "2022-12-25T17:32:50.547Z"
   },
   {
    "duration": 4,
    "start_time": "2022-12-25T17:32:59.880Z"
   },
   {
    "duration": 4,
    "start_time": "2022-12-25T17:33:00.980Z"
   },
   {
    "duration": 19,
    "start_time": "2022-12-25T17:33:02.611Z"
   },
   {
    "duration": 5,
    "start_time": "2022-12-25T17:33:04.327Z"
   },
   {
    "duration": 1477,
    "start_time": "2022-12-25T17:33:05.112Z"
   },
   {
    "duration": 1451,
    "start_time": "2022-12-25T17:33:09.100Z"
   },
   {
    "duration": 5,
    "start_time": "2022-12-25T17:33:33.405Z"
   },
   {
    "duration": 478,
    "start_time": "2022-12-25T17:33:36.895Z"
   },
   {
    "duration": 5,
    "start_time": "2022-12-25T17:33:42.364Z"
   },
   {
    "duration": 1474,
    "start_time": "2022-12-25T17:33:42.920Z"
   },
   {
    "duration": 19,
    "start_time": "2022-12-25T17:35:54.384Z"
   },
   {
    "duration": 5,
    "start_time": "2022-12-25T17:36:13.597Z"
   },
   {
    "duration": 1468,
    "start_time": "2022-12-25T17:36:14.753Z"
   },
   {
    "duration": 20,
    "start_time": "2022-12-25T17:36:29.415Z"
   },
   {
    "duration": 4,
    "start_time": "2022-12-25T17:36:30.059Z"
   },
   {
    "duration": 1403,
    "start_time": "2022-12-25T17:36:30.661Z"
   },
   {
    "duration": 22,
    "start_time": "2022-12-25T17:36:35.823Z"
   },
   {
    "duration": 5,
    "start_time": "2022-12-25T17:37:13.887Z"
   },
   {
    "duration": 1534,
    "start_time": "2022-12-25T17:37:14.529Z"
   },
   {
    "duration": 23,
    "start_time": "2022-12-25T17:37:19.446Z"
   },
   {
    "duration": 6,
    "start_time": "2022-12-25T17:37:20.059Z"
   },
   {
    "duration": 1582,
    "start_time": "2022-12-25T17:37:21.083Z"
   },
   {
    "duration": 7,
    "start_time": "2022-12-25T17:38:10.405Z"
   },
   {
    "duration": 1594,
    "start_time": "2022-12-25T17:38:12.019Z"
   },
   {
    "duration": 5,
    "start_time": "2022-12-25T17:39:01.650Z"
   },
   {
    "duration": 14,
    "start_time": "2022-12-25T17:39:03.796Z"
   },
   {
    "duration": 4,
    "start_time": "2022-12-25T17:39:14.768Z"
   },
   {
    "duration": 1475,
    "start_time": "2022-12-25T17:39:15.958Z"
   },
   {
    "duration": 6,
    "start_time": "2022-12-25T17:39:37.746Z"
   },
   {
    "duration": 1447,
    "start_time": "2022-12-25T17:39:38.698Z"
   },
   {
    "duration": 5,
    "start_time": "2022-12-25T17:39:58.723Z"
   },
   {
    "duration": 23,
    "start_time": "2022-12-25T17:40:04.034Z"
   },
   {
    "duration": 15,
    "start_time": "2022-12-25T17:40:34.998Z"
   },
   {
    "duration": 4,
    "start_time": "2022-12-25T17:40:38.092Z"
   },
   {
    "duration": 1482,
    "start_time": "2022-12-25T17:40:38.628Z"
   },
   {
    "duration": 17,
    "start_time": "2022-12-25T17:41:34.657Z"
   },
   {
    "duration": 80,
    "start_time": "2022-12-25T17:41:54.981Z"
   },
   {
    "duration": 538,
    "start_time": "2022-12-25T17:42:11.353Z"
   },
   {
    "duration": 440,
    "start_time": "2022-12-25T17:42:53.459Z"
   },
   {
    "duration": 50,
    "start_time": "2022-12-25T17:43:38.547Z"
   },
   {
    "duration": 16,
    "start_time": "2022-12-25T17:43:51.779Z"
   },
   {
    "duration": 1835,
    "start_time": "2022-12-25T17:44:17.228Z"
   },
   {
    "duration": 1683,
    "start_time": "2022-12-25T17:44:30.163Z"
   },
   {
    "duration": 1653,
    "start_time": "2022-12-25T17:44:42.735Z"
   },
   {
    "duration": 1499,
    "start_time": "2022-12-25T17:45:23.434Z"
   },
   {
    "duration": 1433,
    "start_time": "2022-12-25T17:45:37.884Z"
   },
   {
    "duration": 1491,
    "start_time": "2022-12-25T17:45:39.863Z"
   },
   {
    "duration": 1574,
    "start_time": "2022-12-25T17:45:59.594Z"
   },
   {
    "duration": 1513,
    "start_time": "2022-12-25T17:46:08.973Z"
   },
   {
    "duration": 1515,
    "start_time": "2022-12-25T17:46:25.010Z"
   },
   {
    "duration": 1480,
    "start_time": "2022-12-25T18:05:11.722Z"
   },
   {
    "duration": 1983,
    "start_time": "2022-12-25T18:05:13.205Z"
   },
   {
    "duration": 1394,
    "start_time": "2022-12-25T18:05:15.190Z"
   },
   {
    "duration": 170,
    "start_time": "2022-12-25T18:05:16.585Z"
   },
   {
    "duration": 24,
    "start_time": "2022-12-25T18:05:16.757Z"
   },
   {
    "duration": 36,
    "start_time": "2022-12-25T18:05:16.783Z"
   },
   {
    "duration": 14,
    "start_time": "2022-12-25T18:05:16.821Z"
   },
   {
    "duration": 361,
    "start_time": "2022-12-25T18:05:16.837Z"
   },
   {
    "duration": 5,
    "start_time": "2022-12-25T18:05:17.199Z"
   },
   {
    "duration": 12,
    "start_time": "2022-12-25T18:05:17.206Z"
   },
   {
    "duration": 33,
    "start_time": "2022-12-25T18:05:17.220Z"
   },
   {
    "duration": 52,
    "start_time": "2022-12-25T18:05:17.255Z"
   },
   {
    "duration": 15,
    "start_time": "2022-12-25T18:05:17.309Z"
   },
   {
    "duration": 2,
    "start_time": "2022-12-25T18:05:17.327Z"
   },
   {
    "duration": 27,
    "start_time": "2022-12-25T18:05:17.331Z"
   },
   {
    "duration": 53,
    "start_time": "2022-12-25T18:05:17.359Z"
   },
   {
    "duration": 32,
    "start_time": "2022-12-25T18:05:17.414Z"
   },
   {
    "duration": 335,
    "start_time": "2022-12-25T18:05:17.447Z"
   },
   {
    "duration": 93,
    "start_time": "2022-12-25T18:05:17.785Z"
   },
   {
    "duration": 3,
    "start_time": "2022-12-25T18:05:17.880Z"
   },
   {
    "duration": 30,
    "start_time": "2022-12-25T18:05:17.884Z"
   },
   {
    "duration": 4,
    "start_time": "2022-12-25T18:05:17.916Z"
   },
   {
    "duration": 1467,
    "start_time": "2022-12-25T18:05:17.922Z"
   },
   {
    "duration": 1458,
    "start_time": "2022-12-25T18:05:19.390Z"
   },
   {
    "duration": 5,
    "start_time": "2022-12-25T18:05:44.232Z"
   },
   {
    "duration": 1325,
    "start_time": "2022-12-25T18:05:46.204Z"
   },
   {
    "duration": 1295,
    "start_time": "2022-12-25T18:06:33.862Z"
   },
   {
    "duration": 1441,
    "start_time": "2022-12-25T18:07:18.533Z"
   },
   {
    "duration": 1316,
    "start_time": "2022-12-25T18:07:57.551Z"
   },
   {
    "duration": 5,
    "start_time": "2022-12-25T18:11:43.539Z"
   },
   {
    "duration": 1545,
    "start_time": "2022-12-25T18:11:44.459Z"
   },
   {
    "duration": 106,
    "start_time": "2022-12-25T18:11:59.893Z"
   },
   {
    "duration": 19,
    "start_time": "2022-12-25T18:12:09.858Z"
   },
   {
    "duration": 6,
    "start_time": "2022-12-25T18:12:12.351Z"
   },
   {
    "duration": 16,
    "start_time": "2022-12-25T18:12:14.058Z"
   },
   {
    "duration": 5,
    "start_time": "2022-12-25T18:12:23.167Z"
   },
   {
    "duration": 1308,
    "start_time": "2022-12-25T18:12:23.874Z"
   },
   {
    "duration": 13,
    "start_time": "2022-12-25T18:12:47.284Z"
   },
   {
    "duration": 4,
    "start_time": "2022-12-25T18:12:48.413Z"
   },
   {
    "duration": 1312,
    "start_time": "2022-12-25T18:12:49.106Z"
   },
   {
    "duration": 1654,
    "start_time": "2022-12-25T18:54:20.687Z"
   },
   {
    "duration": 1461,
    "start_time": "2022-12-25T18:54:22.343Z"
   },
   {
    "duration": 1571,
    "start_time": "2022-12-25T18:54:23.806Z"
   },
   {
    "duration": 168,
    "start_time": "2022-12-25T18:54:25.379Z"
   },
   {
    "duration": 18,
    "start_time": "2022-12-25T18:54:25.549Z"
   },
   {
    "duration": 43,
    "start_time": "2022-12-25T18:54:25.569Z"
   },
   {
    "duration": 21,
    "start_time": "2022-12-25T18:54:25.614Z"
   },
   {
    "duration": 377,
    "start_time": "2022-12-25T18:54:25.636Z"
   },
   {
    "duration": 8,
    "start_time": "2022-12-25T18:54:26.015Z"
   },
   {
    "duration": 6,
    "start_time": "2022-12-25T18:54:26.025Z"
   },
   {
    "duration": 16,
    "start_time": "2022-12-25T18:54:26.033Z"
   },
   {
    "duration": 75,
    "start_time": "2022-12-25T18:54:26.050Z"
   },
   {
    "duration": 15,
    "start_time": "2022-12-25T18:54:26.127Z"
   },
   {
    "duration": 3,
    "start_time": "2022-12-25T18:54:26.144Z"
   },
   {
    "duration": 18,
    "start_time": "2022-12-25T18:54:26.148Z"
   },
   {
    "duration": 61,
    "start_time": "2022-12-25T18:54:26.168Z"
   },
   {
    "duration": 32,
    "start_time": "2022-12-25T18:54:26.231Z"
   },
   {
    "duration": 358,
    "start_time": "2022-12-25T18:54:26.265Z"
   },
   {
    "duration": 6,
    "start_time": "2022-12-25T18:54:26.626Z"
   },
   {
    "duration": 95,
    "start_time": "2022-12-25T18:54:26.634Z"
   },
   {
    "duration": 16,
    "start_time": "2022-12-25T18:54:26.731Z"
   },
   {
    "duration": 4,
    "start_time": "2022-12-25T18:54:26.749Z"
   },
   {
    "duration": 1388,
    "start_time": "2022-12-25T18:54:26.755Z"
   },
   {
    "duration": 1380,
    "start_time": "2022-12-25T18:54:28.144Z"
   },
   {
    "duration": 18,
    "start_time": "2022-12-25T18:55:01.585Z"
   },
   {
    "duration": 5,
    "start_time": "2022-12-25T18:55:04.808Z"
   },
   {
    "duration": 1372,
    "start_time": "2022-12-25T18:55:06.448Z"
   },
   {
    "duration": 1515,
    "start_time": "2022-12-25T18:55:20.303Z"
   },
   {
    "duration": 14,
    "start_time": "2022-12-25T18:55:52.942Z"
   },
   {
    "duration": 5,
    "start_time": "2022-12-25T18:55:55.194Z"
   },
   {
    "duration": 1305,
    "start_time": "2022-12-25T18:56:01.788Z"
   },
   {
    "duration": 15,
    "start_time": "2022-12-25T18:56:13.712Z"
   },
   {
    "duration": 5,
    "start_time": "2022-12-25T18:56:15.119Z"
   },
   {
    "duration": 1293,
    "start_time": "2022-12-25T18:56:15.931Z"
   },
   {
    "duration": 1356,
    "start_time": "2022-12-25T18:59:48.768Z"
   },
   {
    "duration": 5,
    "start_time": "2022-12-25T19:00:08.883Z"
   },
   {
    "duration": 1300,
    "start_time": "2022-12-25T19:00:10.148Z"
   },
   {
    "duration": 5,
    "start_time": "2022-12-25T19:00:20.800Z"
   },
   {
    "duration": 1265,
    "start_time": "2022-12-25T19:00:22.546Z"
   },
   {
    "duration": 4,
    "start_time": "2022-12-25T19:00:28.300Z"
   },
   {
    "duration": 1381,
    "start_time": "2022-12-25T19:00:33.425Z"
   },
   {
    "duration": 4,
    "start_time": "2022-12-25T19:00:43.152Z"
   },
   {
    "duration": 626,
    "start_time": "2022-12-25T19:00:44.128Z"
   },
   {
    "duration": 5,
    "start_time": "2022-12-25T19:00:48.757Z"
   },
   {
    "duration": 1286,
    "start_time": "2022-12-25T19:00:49.674Z"
   },
   {
    "duration": 4,
    "start_time": "2022-12-25T19:00:55.511Z"
   },
   {
    "duration": 4,
    "start_time": "2022-12-25T19:01:47.202Z"
   },
   {
    "duration": 1333,
    "start_time": "2022-12-25T19:01:48.203Z"
   },
   {
    "duration": 5,
    "start_time": "2022-12-25T19:01:53.844Z"
   },
   {
    "duration": 1389,
    "start_time": "2022-12-25T19:01:54.712Z"
   },
   {
    "duration": 4,
    "start_time": "2022-12-25T19:02:01.634Z"
   },
   {
    "duration": 1356,
    "start_time": "2022-12-25T19:02:02.547Z"
   },
   {
    "duration": 6,
    "start_time": "2022-12-25T19:03:47.937Z"
   },
   {
    "duration": 5,
    "start_time": "2022-12-25T19:04:00.891Z"
   },
   {
    "duration": 1315,
    "start_time": "2022-12-25T19:04:02.468Z"
   },
   {
    "duration": 4,
    "start_time": "2022-12-25T19:04:16.508Z"
   },
   {
    "duration": 1362,
    "start_time": "2022-12-25T19:04:17.770Z"
   },
   {
    "duration": 70,
    "start_time": "2022-12-25T19:10:15.515Z"
   },
   {
    "duration": 79,
    "start_time": "2022-12-25T19:10:33.465Z"
   },
   {
    "duration": 5,
    "start_time": "2022-12-25T19:11:01.114Z"
   },
   {
    "duration": 1331,
    "start_time": "2022-12-25T19:11:02.122Z"
   },
   {
    "duration": 5,
    "start_time": "2022-12-25T19:11:16.861Z"
   },
   {
    "duration": 1305,
    "start_time": "2022-12-25T19:11:17.498Z"
   },
   {
    "duration": 4,
    "start_time": "2022-12-25T19:11:30.106Z"
   },
   {
    "duration": 1370,
    "start_time": "2022-12-25T19:11:30.935Z"
   },
   {
    "duration": 5,
    "start_time": "2022-12-25T19:11:44.265Z"
   },
   {
    "duration": 1396,
    "start_time": "2022-12-25T19:11:45.003Z"
   },
   {
    "duration": 38,
    "start_time": "2022-12-25T19:12:27.505Z"
   },
   {
    "duration": 27,
    "start_time": "2022-12-25T19:12:32.060Z"
   },
   {
    "duration": 82,
    "start_time": "2022-12-25T19:12:35.748Z"
   },
   {
    "duration": 14,
    "start_time": "2022-12-25T19:13:14.469Z"
   },
   {
    "duration": 6,
    "start_time": "2022-12-25T19:14:49.345Z"
   },
   {
    "duration": 4,
    "start_time": "2022-12-25T19:14:50.141Z"
   },
   {
    "duration": 6,
    "start_time": "2022-12-25T19:14:51.053Z"
   },
   {
    "duration": 8,
    "start_time": "2022-12-25T19:14:51.626Z"
   },
   {
    "duration": 14,
    "start_time": "2022-12-25T19:14:52.789Z"
   },
   {
    "duration": 16,
    "start_time": "2022-12-25T19:14:53.246Z"
   },
   {
    "duration": 2,
    "start_time": "2022-12-25T19:14:53.778Z"
   },
   {
    "duration": 18,
    "start_time": "2022-12-25T19:14:54.520Z"
   },
   {
    "duration": 36,
    "start_time": "2022-12-25T19:15:00.020Z"
   },
   {
    "duration": 24,
    "start_time": "2022-12-25T19:15:02.311Z"
   },
   {
    "duration": 147,
    "start_time": "2022-12-25T19:15:03.581Z"
   },
   {
    "duration": 4,
    "start_time": "2022-12-25T19:15:06.424Z"
   },
   {
    "duration": 3,
    "start_time": "2022-12-25T19:15:07.397Z"
   },
   {
    "duration": 13,
    "start_time": "2022-12-25T19:15:08.269Z"
   },
   {
    "duration": 5,
    "start_time": "2022-12-25T19:15:09.894Z"
   },
   {
    "duration": 1404,
    "start_time": "2022-12-25T19:15:10.583Z"
   },
   {
    "duration": 1357,
    "start_time": "2022-12-25T19:15:38.149Z"
   },
   {
    "duration": 400,
    "start_time": "2022-12-25T19:15:39.508Z"
   },
   {
    "duration": 1450,
    "start_time": "2022-12-25T19:15:39.910Z"
   },
   {
    "duration": 191,
    "start_time": "2022-12-25T19:15:41.362Z"
   },
   {
    "duration": 20,
    "start_time": "2022-12-25T19:15:41.555Z"
   },
   {
    "duration": 46,
    "start_time": "2022-12-25T19:15:41.576Z"
   },
   {
    "duration": 20,
    "start_time": "2022-12-25T19:15:41.624Z"
   },
   {
    "duration": 403,
    "start_time": "2022-12-25T19:15:41.646Z"
   },
   {
    "duration": 6,
    "start_time": "2022-12-25T19:15:42.050Z"
   },
   {
    "duration": 7,
    "start_time": "2022-12-25T19:15:42.058Z"
   },
   {
    "duration": 17,
    "start_time": "2022-12-25T19:15:42.067Z"
   },
   {
    "duration": 66,
    "start_time": "2022-12-25T19:15:42.086Z"
   },
   {
    "duration": 14,
    "start_time": "2022-12-25T19:15:42.154Z"
   },
   {
    "duration": 2,
    "start_time": "2022-12-25T19:15:42.170Z"
   },
   {
    "duration": 14,
    "start_time": "2022-12-25T19:15:42.173Z"
   },
   {
    "duration": 60,
    "start_time": "2022-12-25T19:15:42.190Z"
   },
   {
    "duration": 32,
    "start_time": "2022-12-25T19:15:42.252Z"
   },
   {
    "duration": 143,
    "start_time": "2022-12-25T19:15:42.285Z"
   },
   {
    "duration": 6,
    "start_time": "2022-12-25T19:15:42.431Z"
   },
   {
    "duration": 187,
    "start_time": "2022-12-25T19:15:42.439Z"
   },
   {
    "duration": 34,
    "start_time": "2022-12-25T19:15:42.628Z"
   },
   {
    "duration": 14,
    "start_time": "2022-12-25T19:15:42.663Z"
   },
   {
    "duration": 1337,
    "start_time": "2022-12-25T19:15:42.678Z"
   },
   {
    "duration": 1496,
    "start_time": "2022-12-25T19:15:44.017Z"
   },
   {
    "duration": 5,
    "start_time": "2022-12-25T19:17:37.773Z"
   },
   {
    "duration": 1471,
    "start_time": "2022-12-25T19:17:38.474Z"
   },
   {
    "duration": 119,
    "start_time": "2022-12-25T19:20:35.042Z"
   },
   {
    "duration": 4,
    "start_time": "2022-12-25T19:20:37.766Z"
   },
   {
    "duration": 4,
    "start_time": "2022-12-25T19:20:38.316Z"
   },
   {
    "duration": 13,
    "start_time": "2022-12-25T19:20:49.944Z"
   },
   {
    "duration": 15,
    "start_time": "2022-12-25T19:21:24.728Z"
   },
   {
    "duration": 4,
    "start_time": "2022-12-25T19:21:48.127Z"
   },
   {
    "duration": 1393,
    "start_time": "2022-12-25T19:21:48.834Z"
   },
   {
    "duration": 17,
    "start_time": "2022-12-25T19:28:12.292Z"
   },
   {
    "duration": 6,
    "start_time": "2022-12-25T19:28:36.431Z"
   },
   {
    "duration": 985,
    "start_time": "2022-12-25T19:28:37.264Z"
   },
   {
    "duration": 15,
    "start_time": "2022-12-25T19:31:11.877Z"
   },
   {
    "duration": 14,
    "start_time": "2022-12-25T19:32:29.314Z"
   },
   {
    "duration": 12,
    "start_time": "2022-12-25T19:32:37.050Z"
   },
   {
    "duration": 5,
    "start_time": "2022-12-25T19:32:41.061Z"
   },
   {
    "duration": 966,
    "start_time": "2022-12-25T19:32:41.837Z"
   },
   {
    "duration": 5,
    "start_time": "2022-12-25T19:33:12.211Z"
   },
   {
    "duration": 5,
    "start_time": "2022-12-25T19:33:20.158Z"
   },
   {
    "duration": 4,
    "start_time": "2022-12-25T19:33:36.232Z"
   },
   {
    "duration": 4,
    "start_time": "2022-12-25T19:33:59.038Z"
   },
   {
    "duration": 7,
    "start_time": "2022-12-25T19:34:00.333Z"
   },
   {
    "duration": 11,
    "start_time": "2022-12-25T19:34:07.420Z"
   },
   {
    "duration": 5,
    "start_time": "2022-12-25T19:34:12.108Z"
   },
   {
    "duration": 10,
    "start_time": "2022-12-25T19:34:22.420Z"
   },
   {
    "duration": 6,
    "start_time": "2022-12-25T19:34:22.862Z"
   },
   {
    "duration": 3,
    "start_time": "2022-12-25T19:34:23.891Z"
   },
   {
    "duration": 3,
    "start_time": "2022-12-25T19:34:24.542Z"
   },
   {
    "duration": 12,
    "start_time": "2022-12-25T19:34:25.195Z"
   },
   {
    "duration": 4,
    "start_time": "2022-12-25T19:34:27.275Z"
   },
   {
    "duration": 942,
    "start_time": "2022-12-25T19:34:28.145Z"
   },
   {
    "duration": 25,
    "start_time": "2022-12-25T19:35:43.170Z"
   },
   {
    "duration": 16,
    "start_time": "2022-12-25T19:35:44.138Z"
   },
   {
    "duration": 7,
    "start_time": "2022-12-25T19:35:46.416Z"
   },
   {
    "duration": 1004,
    "start_time": "2022-12-25T19:35:47.140Z"
   },
   {
    "duration": 4,
    "start_time": "2022-12-25T19:36:05.999Z"
   },
   {
    "duration": 14,
    "start_time": "2022-12-25T19:36:06.653Z"
   },
   {
    "duration": 14,
    "start_time": "2022-12-25T19:37:20.541Z"
   },
   {
    "duration": 5,
    "start_time": "2022-12-25T19:37:22.858Z"
   },
   {
    "duration": 24,
    "start_time": "2022-12-25T19:37:23.314Z"
   },
   {
    "duration": 14,
    "start_time": "2022-12-25T19:44:19.447Z"
   },
   {
    "duration": 5,
    "start_time": "2022-12-25T19:44:22.217Z"
   },
   {
    "duration": 15,
    "start_time": "2022-12-25T19:44:22.601Z"
   },
   {
    "duration": 4,
    "start_time": "2022-12-25T19:44:38.899Z"
   },
   {
    "duration": 5,
    "start_time": "2022-12-25T19:44:39.499Z"
   },
   {
    "duration": 16,
    "start_time": "2022-12-25T19:45:36.695Z"
   },
   {
    "duration": 6,
    "start_time": "2022-12-25T19:45:39.636Z"
   },
   {
    "duration": 54,
    "start_time": "2022-12-25T19:45:40.162Z"
   },
   {
    "duration": 14,
    "start_time": "2022-12-25T19:45:48.689Z"
   },
   {
    "duration": 16,
    "start_time": "2022-12-25T19:46:26.527Z"
   },
   {
    "duration": 1473,
    "start_time": "2022-12-25T19:46:32.787Z"
   },
   {
    "duration": 410,
    "start_time": "2022-12-25T19:46:34.262Z"
   },
   {
    "duration": 1522,
    "start_time": "2022-12-25T19:46:34.673Z"
   },
   {
    "duration": 193,
    "start_time": "2022-12-25T19:46:36.197Z"
   },
   {
    "duration": 18,
    "start_time": "2022-12-25T19:46:36.391Z"
   },
   {
    "duration": 40,
    "start_time": "2022-12-25T19:46:36.411Z"
   },
   {
    "duration": 24,
    "start_time": "2022-12-25T19:46:36.452Z"
   },
   {
    "duration": 400,
    "start_time": "2022-12-25T19:46:36.478Z"
   },
   {
    "duration": 5,
    "start_time": "2022-12-25T19:46:36.880Z"
   },
   {
    "duration": 7,
    "start_time": "2022-12-25T19:46:36.888Z"
   },
   {
    "duration": 40,
    "start_time": "2022-12-25T19:46:36.897Z"
   },
   {
    "duration": 60,
    "start_time": "2022-12-25T19:46:36.938Z"
   },
   {
    "duration": 34,
    "start_time": "2022-12-25T19:46:37.000Z"
   },
   {
    "duration": 7,
    "start_time": "2022-12-25T19:46:37.037Z"
   },
   {
    "duration": 20,
    "start_time": "2022-12-25T19:46:37.046Z"
   },
   {
    "duration": 73,
    "start_time": "2022-12-25T19:46:37.068Z"
   },
   {
    "duration": 33,
    "start_time": "2022-12-25T19:46:37.143Z"
   },
   {
    "duration": 259,
    "start_time": "2022-12-25T19:46:37.177Z"
   },
   {
    "duration": 11,
    "start_time": "2022-12-25T19:46:37.440Z"
   },
   {
    "duration": 34,
    "start_time": "2022-12-25T19:46:37.525Z"
   },
   {
    "duration": 150,
    "start_time": "2022-12-25T19:46:37.561Z"
   },
   {
    "duration": 0,
    "start_time": "2022-12-25T19:46:37.712Z"
   },
   {
    "duration": 0,
    "start_time": "2022-12-25T19:46:37.713Z"
   },
   {
    "duration": 0,
    "start_time": "2022-12-25T19:46:37.722Z"
   },
   {
    "duration": 0,
    "start_time": "2022-12-25T19:46:37.723Z"
   },
   {
    "duration": 5,
    "start_time": "2022-12-25T19:47:08.321Z"
   },
   {
    "duration": 14,
    "start_time": "2022-12-25T19:47:09.694Z"
   },
   {
    "duration": 3,
    "start_time": "2022-12-25T19:47:10.713Z"
   },
   {
    "duration": 4,
    "start_time": "2022-12-25T19:47:12.110Z"
   },
   {
    "duration": 14,
    "start_time": "2022-12-25T19:47:13.364Z"
   },
   {
    "duration": 4,
    "start_time": "2022-12-25T19:49:30.437Z"
   },
   {
    "duration": 32,
    "start_time": "2022-12-25T19:49:31.149Z"
   },
   {
    "duration": 14,
    "start_time": "2022-12-25T19:50:33.683Z"
   },
   {
    "duration": 5,
    "start_time": "2022-12-25T19:50:42.778Z"
   },
   {
    "duration": 1093,
    "start_time": "2022-12-25T19:50:44.952Z"
   },
   {
    "duration": 10,
    "start_time": "2022-12-25T19:51:13.492Z"
   },
   {
    "duration": 5,
    "start_time": "2022-12-25T19:51:17.285Z"
   },
   {
    "duration": 18,
    "start_time": "2022-12-25T19:51:28.049Z"
   },
   {
    "duration": 5,
    "start_time": "2022-12-25T19:51:39.795Z"
   },
   {
    "duration": 1103,
    "start_time": "2022-12-25T19:51:41.385Z"
   },
   {
    "duration": 17,
    "start_time": "2022-12-25T19:52:40.540Z"
   },
   {
    "duration": 17,
    "start_time": "2022-12-25T19:52:48.868Z"
   },
   {
    "duration": 18,
    "start_time": "2022-12-25T19:52:56.989Z"
   },
   {
    "duration": 14,
    "start_time": "2022-12-25T19:53:04.531Z"
   },
   {
    "duration": 4,
    "start_time": "2022-12-25T19:53:08.351Z"
   },
   {
    "duration": 1078,
    "start_time": "2022-12-25T19:53:09.472Z"
   },
   {
    "duration": 4,
    "start_time": "2022-12-25T19:54:41.211Z"
   },
   {
    "duration": 6,
    "start_time": "2022-12-25T19:54:42.184Z"
   },
   {
    "duration": 4,
    "start_time": "2022-12-25T19:54:43.238Z"
   },
   {
    "duration": 17,
    "start_time": "2022-12-25T19:54:44.042Z"
   },
   {
    "duration": 4,
    "start_time": "2022-12-25T19:54:48.904Z"
   },
   {
    "duration": 1145,
    "start_time": "2022-12-25T19:54:49.642Z"
   },
   {
    "duration": 5,
    "start_time": "2022-12-25T19:55:06.073Z"
   },
   {
    "duration": 400,
    "start_time": "2022-12-25T19:55:07.340Z"
   },
   {
    "duration": 5,
    "start_time": "2022-12-25T19:55:21.079Z"
   },
   {
    "duration": 1101,
    "start_time": "2022-12-25T19:55:21.660Z"
   },
   {
    "duration": 4,
    "start_time": "2022-12-25T19:55:29.492Z"
   },
   {
    "duration": 1142,
    "start_time": "2022-12-25T19:55:30.635Z"
   },
   {
    "duration": 4,
    "start_time": "2022-12-25T19:55:51.508Z"
   },
   {
    "duration": 1096,
    "start_time": "2022-12-25T19:55:52.646Z"
   },
   {
    "duration": 7,
    "start_time": "2022-12-25T20:00:38.343Z"
   },
   {
    "duration": 10,
    "start_time": "2022-12-25T20:00:40.443Z"
   },
   {
    "duration": 18,
    "start_time": "2022-12-25T20:01:57.740Z"
   },
   {
    "duration": 16,
    "start_time": "2022-12-25T20:03:54.841Z"
   },
   {
    "duration": 15,
    "start_time": "2022-12-25T20:03:57.968Z"
   },
   {
    "duration": 1363,
    "start_time": "2022-12-25T20:04:03.679Z"
   },
   {
    "duration": 346,
    "start_time": "2022-12-25T20:04:05.044Z"
   },
   {
    "duration": 1350,
    "start_time": "2022-12-25T20:04:05.392Z"
   },
   {
    "duration": 18,
    "start_time": "2022-12-25T20:04:06.744Z"
   },
   {
    "duration": 48,
    "start_time": "2022-12-25T20:04:06.764Z"
   },
   {
    "duration": 37,
    "start_time": "2022-12-25T20:04:06.814Z"
   },
   {
    "duration": 354,
    "start_time": "2022-12-25T20:04:06.852Z"
   },
   {
    "duration": 18,
    "start_time": "2022-12-25T20:04:07.207Z"
   },
   {
    "duration": 15,
    "start_time": "2022-12-25T20:04:07.227Z"
   },
   {
    "duration": 46,
    "start_time": "2022-12-25T20:04:07.244Z"
   },
   {
    "duration": 34,
    "start_time": "2022-12-25T20:04:07.291Z"
   },
   {
    "duration": 8,
    "start_time": "2022-12-25T20:04:07.327Z"
   },
   {
    "duration": 60,
    "start_time": "2022-12-25T20:04:07.337Z"
   },
   {
    "duration": 33,
    "start_time": "2022-12-25T20:04:07.399Z"
   },
   {
    "duration": 191,
    "start_time": "2022-12-25T20:04:07.434Z"
   },
   {
    "duration": 5,
    "start_time": "2022-12-25T20:04:07.627Z"
   },
   {
    "duration": 96,
    "start_time": "2022-12-25T20:04:07.634Z"
   },
   {
    "duration": 5,
    "start_time": "2022-12-25T20:04:07.732Z"
   },
   {
    "duration": 13,
    "start_time": "2022-12-25T20:04:07.739Z"
   },
   {
    "duration": 4,
    "start_time": "2022-12-25T20:04:07.754Z"
   },
   {
    "duration": 1040,
    "start_time": "2022-12-25T20:04:07.759Z"
   },
   {
    "duration": 530,
    "start_time": "2022-12-25T20:09:29.128Z"
   },
   {
    "duration": 477,
    "start_time": "2022-12-25T20:09:54.208Z"
   },
   {
    "duration": 435,
    "start_time": "2022-12-25T20:09:59.896Z"
   },
   {
    "duration": 28,
    "start_time": "2022-12-25T20:13:37.414Z"
   },
   {
    "duration": 137,
    "start_time": "2022-12-25T20:13:44.493Z"
   },
   {
    "duration": 138,
    "start_time": "2022-12-25T20:14:02.435Z"
   },
   {
    "duration": 194,
    "start_time": "2022-12-25T20:14:44.904Z"
   },
   {
    "duration": 391,
    "start_time": "2022-12-25T20:14:57.673Z"
   },
   {
    "duration": 244,
    "start_time": "2022-12-25T20:15:04.539Z"
   },
   {
    "duration": 148,
    "start_time": "2022-12-25T20:15:32.468Z"
   },
   {
    "duration": 176,
    "start_time": "2022-12-25T20:15:37.006Z"
   },
   {
    "duration": 138,
    "start_time": "2022-12-25T20:15:53.537Z"
   },
   {
    "duration": 11,
    "start_time": "2022-12-25T20:17:47.529Z"
   },
   {
    "duration": 6,
    "start_time": "2022-12-25T20:18:40.736Z"
   },
   {
    "duration": 4,
    "start_time": "2022-12-25T20:18:53.364Z"
   },
   {
    "duration": 5,
    "start_time": "2022-12-25T20:19:10.676Z"
   },
   {
    "duration": 6,
    "start_time": "2022-12-25T20:19:13.937Z"
   },
   {
    "duration": 7,
    "start_time": "2022-12-25T20:19:28.419Z"
   },
   {
    "duration": 8,
    "start_time": "2022-12-25T20:19:29.187Z"
   },
   {
    "duration": 5,
    "start_time": "2022-12-25T20:19:58.522Z"
   },
   {
    "duration": 6,
    "start_time": "2022-12-25T20:19:59.163Z"
   },
   {
    "duration": 3,
    "start_time": "2022-12-25T20:19:59.642Z"
   },
   {
    "duration": 14,
    "start_time": "2022-12-25T20:20:00.343Z"
   },
   {
    "duration": 5,
    "start_time": "2022-12-25T20:20:02.189Z"
   },
   {
    "duration": 1201,
    "start_time": "2022-12-25T20:20:02.759Z"
   },
   {
    "duration": 4,
    "start_time": "2022-12-25T20:22:28.853Z"
   },
   {
    "duration": 4,
    "start_time": "2022-12-25T20:29:44.960Z"
   },
   {
    "duration": 12,
    "start_time": "2022-12-25T20:30:15.750Z"
   },
   {
    "duration": 25,
    "start_time": "2022-12-25T20:30:50.585Z"
   },
   {
    "duration": 30,
    "start_time": "2022-12-25T20:31:04.789Z"
   },
   {
    "duration": 29,
    "start_time": "2022-12-25T20:31:14.503Z"
   },
   {
    "duration": 33,
    "start_time": "2022-12-25T20:31:44.252Z"
   },
   {
    "duration": 14,
    "start_time": "2022-12-25T20:32:23.862Z"
   },
   {
    "duration": 10,
    "start_time": "2022-12-25T20:32:34.704Z"
   },
   {
    "duration": 40,
    "start_time": "2022-12-25T20:32:47.917Z"
   },
   {
    "duration": 3,
    "start_time": "2022-12-25T20:32:48.383Z"
   },
   {
    "duration": 32,
    "start_time": "2022-12-25T20:33:15.419Z"
   },
   {
    "duration": 19,
    "start_time": "2022-12-25T20:33:19.543Z"
   },
   {
    "duration": 36,
    "start_time": "2022-12-25T20:33:22.894Z"
   },
   {
    "duration": 6,
    "start_time": "2022-12-25T20:33:24.339Z"
   },
   {
    "duration": 4,
    "start_time": "2022-12-25T20:33:24.912Z"
   },
   {
    "duration": 4,
    "start_time": "2022-12-25T20:33:27.506Z"
   },
   {
    "duration": 6,
    "start_time": "2022-12-25T20:33:28.238Z"
   },
   {
    "duration": 4,
    "start_time": "2022-12-25T20:33:29.457Z"
   },
   {
    "duration": 17,
    "start_time": "2022-12-25T20:33:31.040Z"
   },
   {
    "duration": 5,
    "start_time": "2022-12-25T20:33:33.762Z"
   },
   {
    "duration": 1091,
    "start_time": "2022-12-25T20:33:38.593Z"
   },
   {
    "duration": 1088,
    "start_time": "2022-12-25T20:38:15.371Z"
   },
   {
    "duration": 1080,
    "start_time": "2022-12-25T20:38:22.338Z"
   },
   {
    "duration": 1787,
    "start_time": "2022-12-26T15:24:54.133Z"
   },
   {
    "duration": 1538,
    "start_time": "2022-12-26T15:24:55.922Z"
   },
   {
    "duration": 1311,
    "start_time": "2022-12-26T15:24:57.462Z"
   },
   {
    "duration": 19,
    "start_time": "2022-12-26T15:24:58.776Z"
   },
   {
    "duration": 40,
    "start_time": "2022-12-26T15:24:58.797Z"
   },
   {
    "duration": 14,
    "start_time": "2022-12-26T15:24:58.838Z"
   },
   {
    "duration": 348,
    "start_time": "2022-12-26T15:24:58.853Z"
   },
   {
    "duration": 147,
    "start_time": "2022-12-26T15:24:59.202Z"
   },
   {
    "duration": 322,
    "start_time": "2022-12-26T15:24:59.351Z"
   },
   {
    "duration": 13,
    "start_time": "2022-12-26T15:24:59.675Z"
   },
   {
    "duration": 7,
    "start_time": "2022-12-26T15:24:59.689Z"
   },
   {
    "duration": 38,
    "start_time": "2022-12-26T15:24:59.698Z"
   },
   {
    "duration": 42,
    "start_time": "2022-12-26T15:24:59.738Z"
   },
   {
    "duration": 15,
    "start_time": "2022-12-26T15:24:59.782Z"
   },
   {
    "duration": 27,
    "start_time": "2022-12-26T15:24:59.799Z"
   },
   {
    "duration": 59,
    "start_time": "2022-12-26T15:24:59.828Z"
   },
   {
    "duration": 2,
    "start_time": "2022-12-26T15:24:59.889Z"
   },
   {
    "duration": 37,
    "start_time": "2022-12-26T15:24:59.892Z"
   },
   {
    "duration": 209,
    "start_time": "2022-12-26T15:24:59.931Z"
   },
   {
    "duration": 8,
    "start_time": "2022-12-26T15:25:00.227Z"
   },
   {
    "duration": 102,
    "start_time": "2022-12-26T15:25:00.237Z"
   },
   {
    "duration": 47,
    "start_time": "2022-12-26T15:25:00.340Z"
   },
   {
    "duration": 12,
    "start_time": "2022-12-26T15:25:00.389Z"
   },
   {
    "duration": 9,
    "start_time": "2022-12-26T15:25:00.403Z"
   },
   {
    "duration": 36,
    "start_time": "2022-12-26T15:25:00.414Z"
   },
   {
    "duration": 15,
    "start_time": "2022-12-26T15:25:00.452Z"
   },
   {
    "duration": 985,
    "start_time": "2022-12-26T15:25:00.469Z"
   },
   {
    "duration": 1515,
    "start_time": "2022-12-26T17:33:32.987Z"
   },
   {
    "duration": 4,
    "start_time": "2022-12-26T17:33:36.772Z"
   },
   {
    "duration": 101,
    "start_time": "2022-12-26T17:36:08.601Z"
   },
   {
    "duration": 1819,
    "start_time": "2022-12-26T17:36:11.972Z"
   },
   {
    "duration": 1332,
    "start_time": "2022-12-26T17:36:13.793Z"
   },
   {
    "duration": 1298,
    "start_time": "2022-12-26T17:36:34.321Z"
   },
   {
    "duration": 1390,
    "start_time": "2022-12-26T17:36:56.193Z"
   },
   {
    "duration": 134,
    "start_time": "2022-12-26T18:11:45.337Z"
   },
   {
    "duration": 131,
    "start_time": "2022-12-26T18:12:03.046Z"
   },
   {
    "duration": 125,
    "start_time": "2022-12-26T18:12:11.701Z"
   },
   {
    "duration": 134,
    "start_time": "2022-12-26T18:13:41.367Z"
   },
   {
    "duration": 139,
    "start_time": "2022-12-26T18:14:18.121Z"
   },
   {
    "duration": 335,
    "start_time": "2022-12-26T18:14:31.819Z"
   },
   {
    "duration": 152,
    "start_time": "2022-12-26T18:14:56.853Z"
   },
   {
    "duration": 132,
    "start_time": "2022-12-26T18:15:19.499Z"
   },
   {
    "duration": 422,
    "start_time": "2022-12-26T18:15:31.263Z"
   },
   {
    "duration": 153,
    "start_time": "2022-12-26T18:20:32.864Z"
   },
   {
    "duration": 336,
    "start_time": "2022-12-26T18:20:33.934Z"
   },
   {
    "duration": 16,
    "start_time": "2022-12-26T18:28:28.507Z"
   },
   {
    "duration": 3,
    "start_time": "2022-12-26T18:44:56.331Z"
   },
   {
    "duration": 3,
    "start_time": "2022-12-26T18:46:33.293Z"
   },
   {
    "duration": 774,
    "start_time": "2022-12-26T18:46:48.004Z"
   },
   {
    "duration": 81,
    "start_time": "2022-12-26T18:47:15.103Z"
   },
   {
    "duration": 87,
    "start_time": "2022-12-26T18:47:30.688Z"
   },
   {
    "duration": 84,
    "start_time": "2022-12-26T18:47:33.124Z"
   },
   {
    "duration": 77,
    "start_time": "2022-12-26T18:47:40.694Z"
   },
   {
    "duration": 3,
    "start_time": "2022-12-26T18:47:46.714Z"
   },
   {
    "duration": 784,
    "start_time": "2022-12-26T18:47:48.685Z"
   },
   {
    "duration": 4,
    "start_time": "2022-12-26T18:48:20.807Z"
   },
   {
    "duration": 768,
    "start_time": "2022-12-26T18:48:22.637Z"
   },
   {
    "duration": 4,
    "start_time": "2022-12-26T18:58:05.945Z"
   },
   {
    "duration": 836,
    "start_time": "2022-12-26T18:58:07.810Z"
   },
   {
    "duration": 4,
    "start_time": "2022-12-26T18:58:16.243Z"
   },
   {
    "duration": 926,
    "start_time": "2022-12-26T18:58:17.590Z"
   },
   {
    "duration": 5,
    "start_time": "2022-12-26T19:06:19.276Z"
   },
   {
    "duration": 478,
    "start_time": "2022-12-26T19:06:20.789Z"
   },
   {
    "duration": 4,
    "start_time": "2022-12-26T19:08:36.620Z"
   },
   {
    "duration": 16,
    "start_time": "2022-12-26T19:08:38.480Z"
   },
   {
    "duration": 4,
    "start_time": "2022-12-26T19:08:51.996Z"
   },
   {
    "duration": 901,
    "start_time": "2022-12-26T19:08:52.659Z"
   },
   {
    "duration": 3,
    "start_time": "2022-12-26T19:09:02.460Z"
   },
   {
    "duration": 154,
    "start_time": "2022-12-26T19:09:02.946Z"
   },
   {
    "duration": 4,
    "start_time": "2022-12-26T19:10:12.121Z"
   },
   {
    "duration": 163,
    "start_time": "2022-12-26T19:10:12.609Z"
   },
   {
    "duration": 4,
    "start_time": "2022-12-26T19:11:01.261Z"
   },
   {
    "duration": 150,
    "start_time": "2022-12-26T19:11:02.739Z"
   },
   {
    "duration": 4,
    "start_time": "2022-12-26T19:13:05.735Z"
   },
   {
    "duration": 152,
    "start_time": "2022-12-26T19:13:06.369Z"
   },
   {
    "duration": 4,
    "start_time": "2022-12-26T19:13:16.694Z"
   },
   {
    "duration": 260,
    "start_time": "2022-12-26T19:13:17.163Z"
   },
   {
    "duration": 4,
    "start_time": "2022-12-26T19:14:01.008Z"
   },
   {
    "duration": 154,
    "start_time": "2022-12-26T19:14:01.666Z"
   },
   {
    "duration": 4,
    "start_time": "2022-12-26T19:14:20.423Z"
   },
   {
    "duration": 459,
    "start_time": "2022-12-26T19:14:22.261Z"
   },
   {
    "duration": 5,
    "start_time": "2022-12-26T19:24:48.568Z"
   },
   {
    "duration": 209,
    "start_time": "2022-12-26T19:24:50.826Z"
   },
   {
    "duration": 4,
    "start_time": "2022-12-26T19:26:58.760Z"
   },
   {
    "duration": 185,
    "start_time": "2022-12-26T19:27:00.962Z"
   },
   {
    "duration": 5,
    "start_time": "2022-12-26T19:27:38.631Z"
   },
   {
    "duration": 357,
    "start_time": "2022-12-26T19:27:39.297Z"
   },
   {
    "duration": 4,
    "start_time": "2022-12-26T19:28:10.110Z"
   },
   {
    "duration": 656,
    "start_time": "2022-12-26T19:28:11.635Z"
   },
   {
    "duration": 4,
    "start_time": "2022-12-26T19:29:09.807Z"
   },
   {
    "duration": 818,
    "start_time": "2022-12-26T19:29:10.285Z"
   },
   {
    "duration": 4,
    "start_time": "2022-12-26T19:29:17.326Z"
   },
   {
    "duration": 779,
    "start_time": "2022-12-26T19:29:17.831Z"
   },
   {
    "duration": 4,
    "start_time": "2022-12-26T19:29:24.770Z"
   },
   {
    "duration": 690,
    "start_time": "2022-12-26T19:29:25.090Z"
   },
   {
    "duration": 4,
    "start_time": "2022-12-26T19:29:32.998Z"
   },
   {
    "duration": 707,
    "start_time": "2022-12-26T19:29:33.520Z"
   },
   {
    "duration": 4,
    "start_time": "2022-12-26T19:29:39.504Z"
   },
   {
    "duration": 759,
    "start_time": "2022-12-26T19:29:40.002Z"
   },
   {
    "duration": 5,
    "start_time": "2022-12-26T19:29:50.577Z"
   },
   {
    "duration": 675,
    "start_time": "2022-12-26T19:29:50.958Z"
   },
   {
    "duration": 5,
    "start_time": "2022-12-26T19:30:02.845Z"
   },
   {
    "duration": 777,
    "start_time": "2022-12-26T19:30:03.243Z"
   },
   {
    "duration": 4,
    "start_time": "2022-12-26T19:30:09.258Z"
   },
   {
    "duration": 718,
    "start_time": "2022-12-26T19:30:09.736Z"
   },
   {
    "duration": 4,
    "start_time": "2022-12-26T19:30:15.059Z"
   },
   {
    "duration": 704,
    "start_time": "2022-12-26T19:30:15.392Z"
   },
   {
    "duration": 4,
    "start_time": "2022-12-26T19:30:36.986Z"
   },
   {
    "duration": 661,
    "start_time": "2022-12-26T19:30:37.311Z"
   },
   {
    "duration": 5,
    "start_time": "2022-12-26T19:30:45.307Z"
   },
   {
    "duration": 678,
    "start_time": "2022-12-26T19:30:47.232Z"
   },
   {
    "duration": 5,
    "start_time": "2022-12-26T19:31:26.940Z"
   },
   {
    "duration": 695,
    "start_time": "2022-12-26T19:31:28.660Z"
   },
   {
    "duration": 4,
    "start_time": "2022-12-26T19:33:04.316Z"
   },
   {
    "duration": 240,
    "start_time": "2022-12-26T19:33:04.816Z"
   },
   {
    "duration": 4,
    "start_time": "2022-12-26T19:33:24.842Z"
   },
   {
    "duration": 6,
    "start_time": "2022-12-26T19:33:29.446Z"
   },
   {
    "duration": 856,
    "start_time": "2022-12-26T19:33:29.800Z"
   },
   {
    "duration": 4,
    "start_time": "2022-12-26T19:37:04.054Z"
   },
   {
    "duration": 274,
    "start_time": "2022-12-26T19:37:04.537Z"
   },
   {
    "duration": 5,
    "start_time": "2022-12-26T19:37:26.460Z"
   },
   {
    "duration": 254,
    "start_time": "2022-12-26T19:37:26.878Z"
   },
   {
    "duration": 4,
    "start_time": "2022-12-26T19:38:24.483Z"
   },
   {
    "duration": 224,
    "start_time": "2022-12-26T19:38:24.986Z"
   },
   {
    "duration": 4,
    "start_time": "2022-12-26T19:38:35.675Z"
   },
   {
    "duration": 227,
    "start_time": "2022-12-26T19:38:36.125Z"
   },
   {
    "duration": 5,
    "start_time": "2022-12-26T19:38:46.707Z"
   },
   {
    "duration": 232,
    "start_time": "2022-12-26T19:38:47.072Z"
   },
   {
    "duration": 5,
    "start_time": "2022-12-26T19:39:17.669Z"
   },
   {
    "duration": 320,
    "start_time": "2022-12-26T19:39:18.093Z"
   },
   {
    "duration": 4,
    "start_time": "2022-12-26T19:39:54.106Z"
   },
   {
    "duration": 253,
    "start_time": "2022-12-26T19:39:54.507Z"
   },
   {
    "duration": 5,
    "start_time": "2022-12-26T19:40:05.401Z"
   },
   {
    "duration": 229,
    "start_time": "2022-12-26T19:40:05.876Z"
   },
   {
    "duration": 4,
    "start_time": "2022-12-26T19:40:32.484Z"
   },
   {
    "duration": 707,
    "start_time": "2022-12-26T19:40:32.852Z"
   },
   {
    "duration": 4,
    "start_time": "2022-12-26T19:41:15.078Z"
   },
   {
    "duration": 419,
    "start_time": "2022-12-26T19:41:15.452Z"
   },
   {
    "duration": 5,
    "start_time": "2022-12-26T19:41:48.511Z"
   },
   {
    "duration": 5,
    "start_time": "2022-12-26T19:41:54.608Z"
   },
   {
    "duration": 703,
    "start_time": "2022-12-26T19:41:54.955Z"
   },
   {
    "duration": 5,
    "start_time": "2022-12-26T19:42:35.416Z"
   },
   {
    "duration": 712,
    "start_time": "2022-12-26T19:42:35.777Z"
   },
   {
    "duration": 2276,
    "start_time": "2022-12-26T19:44:32.276Z"
   },
   {
    "duration": 716,
    "start_time": "2022-12-26T19:44:52.590Z"
   },
   {
    "duration": 746,
    "start_time": "2022-12-26T19:44:55.433Z"
   },
   {
    "duration": 717,
    "start_time": "2022-12-26T19:45:01.380Z"
   },
   {
    "duration": 48,
    "start_time": "2022-12-26T19:48:58.636Z"
   },
   {
    "duration": 2480,
    "start_time": "2022-12-26T19:49:06.913Z"
   },
   {
    "duration": 2317,
    "start_time": "2022-12-26T19:49:27.190Z"
   },
   {
    "duration": 2339,
    "start_time": "2022-12-26T19:50:30.286Z"
   },
   {
    "duration": 2,
    "start_time": "2022-12-26T19:50:44.705Z"
   },
   {
    "duration": 5,
    "start_time": "2022-12-26T19:52:13.144Z"
   },
   {
    "duration": 819,
    "start_time": "2022-12-26T19:52:13.963Z"
   },
   {
    "duration": 5,
    "start_time": "2022-12-26T19:52:27.462Z"
   },
   {
    "duration": 714,
    "start_time": "2022-12-26T19:52:28.043Z"
   },
   {
    "duration": 719,
    "start_time": "2022-12-26T19:52:33.021Z"
   },
   {
    "duration": 712,
    "start_time": "2022-12-26T19:52:35.321Z"
   },
   {
    "duration": 22,
    "start_time": "2022-12-26T20:00:06.357Z"
   },
   {
    "duration": 44,
    "start_time": "2022-12-26T20:00:41.958Z"
   },
   {
    "duration": 35,
    "start_time": "2022-12-26T20:00:44.032Z"
   },
   {
    "duration": 36,
    "start_time": "2022-12-26T20:01:04.805Z"
   },
   {
    "duration": 46,
    "start_time": "2022-12-26T20:01:37.665Z"
   },
   {
    "duration": 43,
    "start_time": "2022-12-26T20:01:41.106Z"
   },
   {
    "duration": 34,
    "start_time": "2022-12-26T20:01:41.518Z"
   },
   {
    "duration": 66,
    "start_time": "2022-12-26T20:01:58.871Z"
   },
   {
    "duration": 32,
    "start_time": "2022-12-26T20:01:59.256Z"
   },
   {
    "duration": 9,
    "start_time": "2022-12-26T20:15:50.963Z"
   },
   {
    "duration": 1281,
    "start_time": "2022-12-26T20:16:00.464Z"
   },
   {
    "duration": 395,
    "start_time": "2022-12-26T20:16:01.747Z"
   },
   {
    "duration": 1349,
    "start_time": "2022-12-26T20:16:02.144Z"
   },
   {
    "duration": 43,
    "start_time": "2022-12-26T20:16:03.495Z"
   },
   {
    "duration": 89,
    "start_time": "2022-12-26T20:16:03.539Z"
   },
   {
    "duration": 37,
    "start_time": "2022-12-26T20:16:03.631Z"
   },
   {
    "duration": 14,
    "start_time": "2022-12-26T20:16:03.669Z"
   },
   {
    "duration": 16,
    "start_time": "2022-12-26T20:16:03.684Z"
   },
   {
    "duration": 25,
    "start_time": "2022-12-26T20:16:03.701Z"
   },
   {
    "duration": 43,
    "start_time": "2022-12-26T20:16:03.729Z"
   },
   {
    "duration": 13,
    "start_time": "2022-12-26T20:16:03.773Z"
   },
   {
    "duration": 31,
    "start_time": "2022-12-26T20:16:03.788Z"
   },
   {
    "duration": 6,
    "start_time": "2022-12-26T20:16:03.820Z"
   },
   {
    "duration": 10,
    "start_time": "2022-12-26T20:16:03.828Z"
   },
   {
    "duration": 766,
    "start_time": "2022-12-26T20:16:03.839Z"
   },
   {
    "duration": 773,
    "start_time": "2022-12-26T20:16:04.607Z"
   },
   {
    "duration": 727,
    "start_time": "2022-12-26T20:16:05.381Z"
   },
   {
    "duration": 39,
    "start_time": "2022-12-26T20:16:06.112Z"
   },
   {
    "duration": 2,
    "start_time": "2022-12-26T20:16:06.152Z"
   },
   {
    "duration": 36,
    "start_time": "2022-12-26T20:16:06.155Z"
   },
   {
    "duration": 225,
    "start_time": "2022-12-26T20:16:06.192Z"
   },
   {
    "duration": 95,
    "start_time": "2022-12-26T20:16:06.419Z"
   },
   {
    "duration": 121,
    "start_time": "2022-12-26T20:16:06.516Z"
   },
   {
    "duration": 12,
    "start_time": "2022-12-26T20:16:06.638Z"
   },
   {
    "duration": 8,
    "start_time": "2022-12-26T20:16:06.652Z"
   },
   {
    "duration": 111,
    "start_time": "2022-12-26T20:16:06.662Z"
   },
   {
    "duration": 0,
    "start_time": "2022-12-26T20:16:06.775Z"
   },
   {
    "duration": 0,
    "start_time": "2022-12-26T20:16:06.776Z"
   },
   {
    "duration": 0,
    "start_time": "2022-12-26T20:16:06.777Z"
   },
   {
    "duration": 10,
    "start_time": "2022-12-26T20:29:09.299Z"
   },
   {
    "duration": 3,
    "start_time": "2022-12-26T20:29:23.255Z"
   },
   {
    "duration": 338,
    "start_time": "2022-12-26T20:29:25.609Z"
   },
   {
    "duration": 1350,
    "start_time": "2022-12-26T20:29:26.321Z"
   },
   {
    "duration": 42,
    "start_time": "2022-12-26T20:29:28.892Z"
   },
   {
    "duration": 60,
    "start_time": "2022-12-26T20:29:29.784Z"
   },
   {
    "duration": 35,
    "start_time": "2022-12-26T20:29:30.747Z"
   },
   {
    "duration": 12,
    "start_time": "2022-12-26T20:29:35.445Z"
   },
   {
    "duration": 7,
    "start_time": "2022-12-26T20:29:36.513Z"
   },
   {
    "duration": 15,
    "start_time": "2022-12-26T20:29:36.934Z"
   },
   {
    "duration": 40,
    "start_time": "2022-12-26T20:29:37.677Z"
   },
   {
    "duration": 17,
    "start_time": "2022-12-26T20:29:40.200Z"
   },
   {
    "duration": 12,
    "start_time": "2022-12-26T20:29:40.885Z"
   },
   {
    "duration": 3,
    "start_time": "2022-12-26T20:29:41.700Z"
   },
   {
    "duration": 5,
    "start_time": "2022-12-26T20:29:42.385Z"
   },
   {
    "duration": 732,
    "start_time": "2022-12-26T20:29:43.381Z"
   },
   {
    "duration": 740,
    "start_time": "2022-12-26T20:29:44.680Z"
   },
   {
    "duration": 733,
    "start_time": "2022-12-26T20:29:45.707Z"
   },
   {
    "duration": 29,
    "start_time": "2022-12-26T20:29:54.050Z"
   },
   {
    "duration": 2,
    "start_time": "2022-12-26T20:29:54.852Z"
   },
   {
    "duration": 26,
    "start_time": "2022-12-26T20:29:56.568Z"
   },
   {
    "duration": 71,
    "start_time": "2022-12-26T20:30:00.353Z"
   },
   {
    "duration": 6,
    "start_time": "2022-12-26T20:30:01.919Z"
   },
   {
    "duration": 5,
    "start_time": "2022-12-26T20:30:02.928Z"
   },
   {
    "duration": 3,
    "start_time": "2022-12-26T20:30:11.500Z"
   },
   {
    "duration": 5,
    "start_time": "2022-12-26T20:30:14.480Z"
   },
   {
    "duration": 4,
    "start_time": "2022-12-26T20:31:56.000Z"
   },
   {
    "duration": 6,
    "start_time": "2022-12-26T20:31:57.464Z"
   },
   {
    "duration": 3,
    "start_time": "2022-12-26T20:31:59.003Z"
   },
   {
    "duration": 12,
    "start_time": "2022-12-26T20:32:01.704Z"
   },
   {
    "duration": 5,
    "start_time": "2022-12-26T20:32:05.821Z"
   },
   {
    "duration": 1045,
    "start_time": "2022-12-26T20:32:08.543Z"
   },
   {
    "duration": 3,
    "start_time": "2022-12-26T20:33:20.782Z"
   },
   {
    "duration": 3,
    "start_time": "2022-12-26T20:33:26.407Z"
   },
   {
    "duration": 11,
    "start_time": "2022-12-26T20:33:28.980Z"
   },
   {
    "duration": 5,
    "start_time": "2022-12-26T20:33:37.086Z"
   },
   {
    "duration": 1083,
    "start_time": "2022-12-26T20:33:39.948Z"
   },
   {
    "duration": 2,
    "start_time": "2022-12-26T20:35:31.898Z"
   },
   {
    "duration": 81,
    "start_time": "2022-12-26T20:35:34.938Z"
   },
   {
    "duration": 5,
    "start_time": "2022-12-26T20:35:38.951Z"
   },
   {
    "duration": 5,
    "start_time": "2022-12-26T20:35:40.271Z"
   },
   {
    "duration": 3,
    "start_time": "2022-12-26T20:35:42.698Z"
   },
   {
    "duration": 5,
    "start_time": "2022-12-26T20:35:44.342Z"
   },
   {
    "duration": 13,
    "start_time": "2022-12-26T20:35:49.297Z"
   },
   {
    "duration": 4,
    "start_time": "2022-12-26T20:35:51.134Z"
   },
   {
    "duration": 1018,
    "start_time": "2022-12-26T20:35:53.091Z"
   },
   {
    "duration": 1318,
    "start_time": "2022-12-26T20:36:05.448Z"
   },
   {
    "duration": 359,
    "start_time": "2022-12-26T20:36:06.768Z"
   },
   {
    "duration": 1361,
    "start_time": "2022-12-26T20:36:07.129Z"
   },
   {
    "duration": 43,
    "start_time": "2022-12-26T20:36:08.492Z"
   },
   {
    "duration": 85,
    "start_time": "2022-12-26T20:36:08.536Z"
   },
   {
    "duration": 36,
    "start_time": "2022-12-26T20:36:08.623Z"
   },
   {
    "duration": 13,
    "start_time": "2022-12-26T20:36:08.661Z"
   },
   {
    "duration": 6,
    "start_time": "2022-12-26T20:36:08.676Z"
   },
   {
    "duration": 44,
    "start_time": "2022-12-26T20:36:08.683Z"
   },
   {
    "duration": 44,
    "start_time": "2022-12-26T20:36:08.729Z"
   },
   {
    "duration": 16,
    "start_time": "2022-12-26T20:36:08.774Z"
   },
   {
    "duration": 38,
    "start_time": "2022-12-26T20:36:08.791Z"
   },
   {
    "duration": 6,
    "start_time": "2022-12-26T20:36:08.830Z"
   },
   {
    "duration": 6,
    "start_time": "2022-12-26T20:36:08.837Z"
   },
   {
    "duration": 721,
    "start_time": "2022-12-26T20:36:08.844Z"
   },
   {
    "duration": 771,
    "start_time": "2022-12-26T20:36:09.567Z"
   },
   {
    "duration": 753,
    "start_time": "2022-12-26T20:36:10.339Z"
   },
   {
    "duration": 44,
    "start_time": "2022-12-26T20:36:11.094Z"
   },
   {
    "duration": 2,
    "start_time": "2022-12-26T20:36:11.139Z"
   },
   {
    "duration": 8,
    "start_time": "2022-12-26T20:36:11.143Z"
   },
   {
    "duration": 110,
    "start_time": "2022-12-26T20:36:11.152Z"
   },
   {
    "duration": 0,
    "start_time": "2022-12-26T20:36:11.263Z"
   },
   {
    "duration": 0,
    "start_time": "2022-12-26T20:36:11.264Z"
   },
   {
    "duration": 0,
    "start_time": "2022-12-26T20:36:11.266Z"
   },
   {
    "duration": 0,
    "start_time": "2022-12-26T20:36:11.266Z"
   },
   {
    "duration": 0,
    "start_time": "2022-12-26T20:36:11.268Z"
   },
   {
    "duration": 1,
    "start_time": "2022-12-26T20:36:11.268Z"
   },
   {
    "duration": 0,
    "start_time": "2022-12-26T20:36:11.269Z"
   },
   {
    "duration": 0,
    "start_time": "2022-12-26T20:36:11.270Z"
   },
   {
    "duration": 11,
    "start_time": "2022-12-26T20:36:33.830Z"
   },
   {
    "duration": 47,
    "start_time": "2022-12-26T20:36:48.472Z"
   },
   {
    "duration": 3,
    "start_time": "2022-12-26T20:36:52.242Z"
   },
   {
    "duration": 4,
    "start_time": "2022-12-26T20:36:54.672Z"
   },
   {
    "duration": 12,
    "start_time": "2022-12-26T20:36:55.973Z"
   },
   {
    "duration": 4,
    "start_time": "2022-12-26T20:36:58.245Z"
   },
   {
    "duration": 1006,
    "start_time": "2022-12-26T20:37:00.644Z"
   },
   {
    "duration": 1357,
    "start_time": "2022-12-26T20:37:17.991Z"
   },
   {
    "duration": 341,
    "start_time": "2022-12-26T20:37:19.350Z"
   },
   {
    "duration": 1382,
    "start_time": "2022-12-26T20:37:19.692Z"
   },
   {
    "duration": 49,
    "start_time": "2022-12-26T20:37:21.076Z"
   },
   {
    "duration": 67,
    "start_time": "2022-12-26T20:37:21.127Z"
   },
   {
    "duration": 43,
    "start_time": "2022-12-26T20:37:21.196Z"
   },
   {
    "duration": 13,
    "start_time": "2022-12-26T20:37:21.241Z"
   },
   {
    "duration": 7,
    "start_time": "2022-12-26T20:37:21.255Z"
   },
   {
    "duration": 18,
    "start_time": "2022-12-26T20:37:21.263Z"
   },
   {
    "duration": 68,
    "start_time": "2022-12-26T20:37:21.283Z"
   },
   {
    "duration": 15,
    "start_time": "2022-12-26T20:37:21.353Z"
   },
   {
    "duration": 10,
    "start_time": "2022-12-26T20:37:21.370Z"
   },
   {
    "duration": 15,
    "start_time": "2022-12-26T20:37:21.382Z"
   },
   {
    "duration": 8,
    "start_time": "2022-12-26T20:37:21.399Z"
   },
   {
    "duration": 727,
    "start_time": "2022-12-26T20:37:21.413Z"
   },
   {
    "duration": 758,
    "start_time": "2022-12-26T20:37:22.141Z"
   },
   {
    "duration": 750,
    "start_time": "2022-12-26T20:37:22.901Z"
   },
   {
    "duration": 41,
    "start_time": "2022-12-26T20:37:23.653Z"
   },
   {
    "duration": 3,
    "start_time": "2022-12-26T20:37:23.695Z"
   },
   {
    "duration": 2,
    "start_time": "2022-12-26T20:37:23.712Z"
   },
   {
    "duration": 200,
    "start_time": "2022-12-26T20:37:23.716Z"
   },
   {
    "duration": 96,
    "start_time": "2022-12-26T20:37:23.919Z"
   },
   {
    "duration": 7,
    "start_time": "2022-12-26T20:37:24.017Z"
   },
   {
    "duration": 7,
    "start_time": "2022-12-26T20:37:24.026Z"
   },
   {
    "duration": 78,
    "start_time": "2022-12-26T20:37:24.035Z"
   },
   {
    "duration": 4,
    "start_time": "2022-12-26T20:37:24.115Z"
   },
   {
    "duration": 23,
    "start_time": "2022-12-26T20:37:24.121Z"
   },
   {
    "duration": 4,
    "start_time": "2022-12-26T20:37:24.147Z"
   },
   {
    "duration": 1018,
    "start_time": "2022-12-26T20:37:24.153Z"
   },
   {
    "duration": 4,
    "start_time": "2022-12-26T20:41:25.808Z"
   },
   {
    "duration": 5,
    "start_time": "2022-12-26T20:41:52.247Z"
   },
   {
    "duration": 1000,
    "start_time": "2022-12-26T20:41:54.870Z"
   },
   {
    "duration": 109,
    "start_time": "2022-12-26T20:48:48.773Z"
   },
   {
    "duration": 16,
    "start_time": "2022-12-26T20:49:05.098Z"
   },
   {
    "duration": 11,
    "start_time": "2022-12-26T20:49:17.681Z"
   },
   {
    "duration": 6,
    "start_time": "2022-12-26T20:49:20.084Z"
   },
   {
    "duration": 992,
    "start_time": "2022-12-26T20:49:23.314Z"
   },
   {
    "duration": 4,
    "start_time": "2022-12-26T20:49:51.120Z"
   },
   {
    "duration": 1001,
    "start_time": "2022-12-26T20:49:53.730Z"
   },
   {
    "duration": 1283,
    "start_time": "2022-12-26T20:51:27.945Z"
   },
   {
    "duration": 345,
    "start_time": "2022-12-26T20:51:29.230Z"
   },
   {
    "duration": 1445,
    "start_time": "2022-12-26T20:51:29.577Z"
   },
   {
    "duration": 41,
    "start_time": "2022-12-26T20:51:31.025Z"
   },
   {
    "duration": 89,
    "start_time": "2022-12-26T20:51:31.068Z"
   },
   {
    "duration": 36,
    "start_time": "2022-12-26T20:51:31.159Z"
   },
   {
    "duration": 27,
    "start_time": "2022-12-26T20:51:31.197Z"
   },
   {
    "duration": 17,
    "start_time": "2022-12-26T20:51:31.226Z"
   },
   {
    "duration": 18,
    "start_time": "2022-12-26T20:51:31.245Z"
   },
   {
    "duration": 52,
    "start_time": "2022-12-26T20:51:31.267Z"
   },
   {
    "duration": 16,
    "start_time": "2022-12-26T20:51:31.320Z"
   },
   {
    "duration": 10,
    "start_time": "2022-12-26T20:51:31.337Z"
   },
   {
    "duration": 15,
    "start_time": "2022-12-26T20:51:31.349Z"
   },
   {
    "duration": 36,
    "start_time": "2022-12-26T20:51:31.365Z"
   },
   {
    "duration": 716,
    "start_time": "2022-12-26T20:51:31.403Z"
   },
   {
    "duration": 765,
    "start_time": "2022-12-26T20:51:32.121Z"
   },
   {
    "duration": 746,
    "start_time": "2022-12-26T20:51:32.887Z"
   },
   {
    "duration": 49,
    "start_time": "2022-12-26T20:51:33.635Z"
   },
   {
    "duration": 2,
    "start_time": "2022-12-26T20:51:33.686Z"
   },
   {
    "duration": 18,
    "start_time": "2022-12-26T20:51:33.689Z"
   },
   {
    "duration": 208,
    "start_time": "2022-12-26T20:51:33.709Z"
   },
   {
    "duration": 97,
    "start_time": "2022-12-26T20:51:33.919Z"
   },
   {
    "duration": 96,
    "start_time": "2022-12-26T20:51:34.018Z"
   },
   {
    "duration": 4,
    "start_time": "2022-12-26T20:51:34.115Z"
   },
   {
    "duration": 60,
    "start_time": "2022-12-26T20:51:34.121Z"
   },
   {
    "duration": 27,
    "start_time": "2022-12-26T20:51:34.183Z"
   },
   {
    "duration": 14,
    "start_time": "2022-12-26T20:51:34.212Z"
   },
   {
    "duration": 4,
    "start_time": "2022-12-26T20:51:34.229Z"
   },
   {
    "duration": 1055,
    "start_time": "2022-12-26T20:51:34.234Z"
   },
   {
    "duration": 4,
    "start_time": "2022-12-26T20:53:21.113Z"
   },
   {
    "duration": 5,
    "start_time": "2022-12-26T20:56:16.434Z"
   },
   {
    "duration": 1031,
    "start_time": "2022-12-26T20:56:19.252Z"
   },
   {
    "duration": 4,
    "start_time": "2022-12-26T20:57:22.178Z"
   },
   {
    "duration": 999,
    "start_time": "2022-12-26T20:57:24.574Z"
   },
   {
    "duration": 4,
    "start_time": "2022-12-26T20:57:32.889Z"
   },
   {
    "duration": 431,
    "start_time": "2022-12-26T20:57:35.580Z"
   },
   {
    "duration": 4,
    "start_time": "2022-12-26T20:57:41.179Z"
   },
   {
    "duration": 1079,
    "start_time": "2022-12-26T20:57:43.570Z"
   },
   {
    "duration": 4,
    "start_time": "2022-12-26T20:57:48.905Z"
   },
   {
    "duration": 985,
    "start_time": "2022-12-26T20:57:50.948Z"
   },
   {
    "duration": 4,
    "start_time": "2022-12-26T20:58:09.627Z"
   },
   {
    "duration": 337,
    "start_time": "2022-12-26T20:58:11.302Z"
   },
   {
    "duration": 4,
    "start_time": "2022-12-26T20:58:18.739Z"
   },
   {
    "duration": 338,
    "start_time": "2022-12-26T20:58:20.649Z"
   },
   {
    "duration": 5,
    "start_time": "2022-12-26T20:58:35.396Z"
   },
   {
    "duration": 364,
    "start_time": "2022-12-26T20:58:37.190Z"
   },
   {
    "duration": 4,
    "start_time": "2022-12-26T20:59:07.560Z"
   },
   {
    "duration": 1041,
    "start_time": "2022-12-26T20:59:09.613Z"
   },
   {
    "duration": 5,
    "start_time": "2022-12-26T20:59:23.474Z"
   },
   {
    "duration": 336,
    "start_time": "2022-12-26T20:59:25.845Z"
   },
   {
    "duration": 5,
    "start_time": "2022-12-26T20:59:31.935Z"
   },
   {
    "duration": 1012,
    "start_time": "2022-12-26T20:59:35.622Z"
   },
   {
    "duration": 5,
    "start_time": "2022-12-26T20:59:48.602Z"
   },
   {
    "duration": 1000,
    "start_time": "2022-12-26T20:59:50.442Z"
   },
   {
    "duration": 12,
    "start_time": "2022-12-26T21:00:33.007Z"
   },
   {
    "duration": 12,
    "start_time": "2022-12-26T21:00:49.817Z"
   },
   {
    "duration": 12,
    "start_time": "2022-12-26T21:01:16.303Z"
   },
   {
    "duration": 4,
    "start_time": "2022-12-26T21:01:28.251Z"
   },
   {
    "duration": 1077,
    "start_time": "2022-12-26T21:01:29.924Z"
   },
   {
    "duration": 11,
    "start_time": "2022-12-26T21:01:58.855Z"
   },
   {
    "duration": 4,
    "start_time": "2022-12-26T21:02:01.627Z"
   },
   {
    "duration": 4,
    "start_time": "2022-12-26T21:02:03.413Z"
   },
   {
    "duration": 1030,
    "start_time": "2022-12-26T21:02:05.029Z"
   },
   {
    "duration": 15,
    "start_time": "2022-12-26T21:11:30.005Z"
   },
   {
    "duration": 20,
    "start_time": "2022-12-26T21:11:40.046Z"
   },
   {
    "duration": 28,
    "start_time": "2022-12-26T21:11:54.195Z"
   },
   {
    "duration": 4,
    "start_time": "2022-12-26T21:12:48.545Z"
   },
   {
    "duration": 14,
    "start_time": "2022-12-26T21:12:51.327Z"
   },
   {
    "duration": 4,
    "start_time": "2022-12-26T21:14:11.753Z"
   },
   {
    "duration": 5,
    "start_time": "2022-12-26T21:14:14.270Z"
   },
   {
    "duration": 14,
    "start_time": "2022-12-26T21:14:16.563Z"
   },
   {
    "duration": 6770,
    "start_time": "2022-12-26T21:14:49.955Z"
   },
   {
    "duration": 1425,
    "start_time": "2022-12-26T21:15:03.377Z"
   },
   {
    "duration": 342,
    "start_time": "2022-12-26T21:15:04.804Z"
   },
   {
    "duration": 1368,
    "start_time": "2022-12-26T21:15:05.150Z"
   },
   {
    "duration": 40,
    "start_time": "2022-12-26T21:15:06.520Z"
   },
   {
    "duration": 81,
    "start_time": "2022-12-26T21:15:06.561Z"
   },
   {
    "duration": 34,
    "start_time": "2022-12-26T21:15:06.643Z"
   },
   {
    "duration": 13,
    "start_time": "2022-12-26T21:15:06.678Z"
   },
   {
    "duration": 25,
    "start_time": "2022-12-26T21:15:06.693Z"
   },
   {
    "duration": 31,
    "start_time": "2022-12-26T21:15:06.720Z"
   },
   {
    "duration": 65,
    "start_time": "2022-12-26T21:15:06.753Z"
   },
   {
    "duration": 15,
    "start_time": "2022-12-26T21:15:06.820Z"
   },
   {
    "duration": 13,
    "start_time": "2022-12-26T21:15:06.836Z"
   },
   {
    "duration": 11,
    "start_time": "2022-12-26T21:15:06.851Z"
   },
   {
    "duration": 25,
    "start_time": "2022-12-26T21:15:06.864Z"
   },
   {
    "duration": 750,
    "start_time": "2022-12-26T21:15:06.891Z"
   },
   {
    "duration": 750,
    "start_time": "2022-12-26T21:15:07.642Z"
   },
   {
    "duration": 726,
    "start_time": "2022-12-26T21:15:08.394Z"
   },
   {
    "duration": 42,
    "start_time": "2022-12-26T21:15:09.122Z"
   },
   {
    "duration": 2,
    "start_time": "2022-12-26T21:15:09.166Z"
   },
   {
    "duration": 6,
    "start_time": "2022-12-26T21:15:09.170Z"
   },
   {
    "duration": 140,
    "start_time": "2022-12-26T21:15:09.177Z"
   },
   {
    "duration": 96,
    "start_time": "2022-12-26T21:15:09.318Z"
   },
   {
    "duration": 102,
    "start_time": "2022-12-26T21:15:09.416Z"
   },
   {
    "duration": 7,
    "start_time": "2022-12-26T21:15:09.520Z"
   },
   {
    "duration": 7,
    "start_time": "2022-12-26T21:15:09.529Z"
   },
   {
    "duration": 5,
    "start_time": "2022-12-26T21:15:09.537Z"
   },
   {
    "duration": 20,
    "start_time": "2022-12-26T21:15:09.543Z"
   },
   {
    "duration": 4,
    "start_time": "2022-12-26T21:15:09.565Z"
   },
   {
    "duration": 6707,
    "start_time": "2022-12-26T21:15:09.571Z"
   },
   {
    "duration": 20,
    "start_time": "2022-12-26T21:18:17.914Z"
   },
   {
    "duration": 5,
    "start_time": "2022-12-26T21:18:21.508Z"
   },
   {
    "duration": 6749,
    "start_time": "2022-12-26T21:18:23.738Z"
   },
   {
    "duration": 21,
    "start_time": "2022-12-26T21:21:17.777Z"
   },
   {
    "duration": 23,
    "start_time": "2022-12-26T21:22:58.152Z"
   },
   {
    "duration": 4,
    "start_time": "2022-12-26T21:23:01.672Z"
   },
   {
    "duration": 8286,
    "start_time": "2022-12-26T21:23:04.057Z"
   },
   {
    "duration": 0,
    "start_time": "2022-12-26T21:55:49.686Z"
   },
   {
    "duration": 1325,
    "start_time": "2022-12-26T21:55:49.794Z"
   },
   {
    "duration": 330,
    "start_time": "2022-12-26T21:55:51.121Z"
   },
   {
    "duration": 1342,
    "start_time": "2022-12-26T21:55:51.452Z"
   },
   {
    "duration": 47,
    "start_time": "2022-12-26T21:55:52.796Z"
   },
   {
    "duration": 78,
    "start_time": "2022-12-26T21:55:52.845Z"
   },
   {
    "duration": 36,
    "start_time": "2022-12-26T21:55:52.925Z"
   },
   {
    "duration": 13,
    "start_time": "2022-12-26T21:55:52.962Z"
   },
   {
    "duration": 6,
    "start_time": "2022-12-26T21:55:52.976Z"
   },
   {
    "duration": 42,
    "start_time": "2022-12-26T21:55:52.983Z"
   },
   {
    "duration": 43,
    "start_time": "2022-12-26T21:55:53.028Z"
   },
   {
    "duration": 15,
    "start_time": "2022-12-26T21:55:53.072Z"
   },
   {
    "duration": 24,
    "start_time": "2022-12-26T21:55:53.089Z"
   },
   {
    "duration": 7,
    "start_time": "2022-12-26T21:55:53.115Z"
   },
   {
    "duration": 12,
    "start_time": "2022-12-26T21:55:53.123Z"
   },
   {
    "duration": 721,
    "start_time": "2022-12-26T21:55:53.136Z"
   },
   {
    "duration": 756,
    "start_time": "2022-12-26T21:55:53.859Z"
   },
   {
    "duration": 730,
    "start_time": "2022-12-26T21:55:54.617Z"
   },
   {
    "duration": 39,
    "start_time": "2022-12-26T21:55:55.348Z"
   },
   {
    "duration": 2,
    "start_time": "2022-12-26T21:55:55.389Z"
   },
   {
    "duration": 20,
    "start_time": "2022-12-26T21:55:55.393Z"
   },
   {
    "duration": 202,
    "start_time": "2022-12-26T21:55:55.414Z"
   },
   {
    "duration": 96,
    "start_time": "2022-12-26T21:55:55.618Z"
   },
   {
    "duration": 5,
    "start_time": "2022-12-26T21:55:55.716Z"
   },
   {
    "duration": 5,
    "start_time": "2022-12-26T21:55:55.722Z"
   },
   {
    "duration": 8,
    "start_time": "2022-12-26T21:55:55.729Z"
   },
   {
    "duration": 3,
    "start_time": "2022-12-26T21:55:55.814Z"
   },
   {
    "duration": 21,
    "start_time": "2022-12-26T21:55:55.819Z"
   },
   {
    "duration": 3,
    "start_time": "2022-12-26T21:55:55.843Z"
   },
   {
    "duration": 8238,
    "start_time": "2022-12-26T21:55:55.848Z"
   },
   {
    "duration": 23,
    "start_time": "2022-12-26T21:56:40.947Z"
   },
   {
    "duration": 2,
    "start_time": "2022-12-26T22:01:59.741Z"
   },
   {
    "duration": 3,
    "start_time": "2022-12-26T22:02:02.306Z"
   },
   {
    "duration": 4,
    "start_time": "2022-12-26T22:02:20.223Z"
   },
   {
    "duration": 4,
    "start_time": "2022-12-26T22:02:23.675Z"
   },
   {
    "duration": 3,
    "start_time": "2022-12-26T22:02:26.367Z"
   },
   {
    "duration": 3,
    "start_time": "2022-12-26T22:02:38.783Z"
   },
   {
    "duration": 88,
    "start_time": "2022-12-26T22:06:05.435Z"
   },
   {
    "duration": 214,
    "start_time": "2022-12-26T22:06:34.508Z"
   },
   {
    "duration": 32,
    "start_time": "2022-12-26T22:06:46.592Z"
   },
   {
    "duration": 97,
    "start_time": "2022-12-26T22:07:01.022Z"
   },
   {
    "duration": 4,
    "start_time": "2022-12-26T22:14:04.745Z"
   },
   {
    "duration": 8514,
    "start_time": "2022-12-26T22:14:07.986Z"
   },
   {
    "duration": 4,
    "start_time": "2022-12-26T22:18:01.056Z"
   },
   {
    "duration": 3379,
    "start_time": "2022-12-26T22:18:03.763Z"
   },
   {
    "duration": 4,
    "start_time": "2022-12-26T22:18:55.393Z"
   },
   {
    "duration": 3177,
    "start_time": "2022-12-26T22:18:57.894Z"
   },
   {
    "duration": 5,
    "start_time": "2022-12-26T22:19:25.609Z"
   },
   {
    "duration": 3177,
    "start_time": "2022-12-26T22:19:27.206Z"
   },
   {
    "duration": 5,
    "start_time": "2022-12-26T22:19:50.012Z"
   },
   {
    "duration": 3267,
    "start_time": "2022-12-26T22:19:52.563Z"
   },
   {
    "duration": 4,
    "start_time": "2022-12-26T22:20:13.391Z"
   },
   {
    "duration": 8608,
    "start_time": "2022-12-26T22:20:15.065Z"
   },
   {
    "duration": 5,
    "start_time": "2022-12-26T22:23:40.705Z"
   },
   {
    "duration": 8784,
    "start_time": "2022-12-26T22:23:45.833Z"
   },
   {
    "duration": 4,
    "start_time": "2022-12-26T22:24:27.329Z"
   },
   {
    "duration": 8682,
    "start_time": "2022-12-26T22:24:30.078Z"
   },
   {
    "duration": 4,
    "start_time": "2022-12-26T22:24:42.300Z"
   },
   {
    "duration": 8741,
    "start_time": "2022-12-26T22:24:44.613Z"
   },
   {
    "duration": 4,
    "start_time": "2022-12-26T22:25:32.993Z"
   },
   {
    "duration": 8651,
    "start_time": "2022-12-26T22:25:35.073Z"
   },
   {
    "duration": 5,
    "start_time": "2022-12-26T22:28:30.782Z"
   },
   {
    "duration": 3196,
    "start_time": "2022-12-26T22:28:32.342Z"
   },
   {
    "duration": 5,
    "start_time": "2022-12-26T22:28:59.566Z"
   },
   {
    "duration": 4,
    "start_time": "2022-12-26T22:29:02.265Z"
   },
   {
    "duration": 3168,
    "start_time": "2022-12-26T22:29:05.112Z"
   },
   {
    "duration": 6,
    "start_time": "2022-12-26T22:29:19.220Z"
   },
   {
    "duration": 4,
    "start_time": "2022-12-26T22:29:20.341Z"
   },
   {
    "duration": 8609,
    "start_time": "2022-12-26T22:29:22.228Z"
   },
   {
    "duration": 5,
    "start_time": "2022-12-26T22:30:19.611Z"
   },
   {
    "duration": 8555,
    "start_time": "2022-12-26T22:30:21.965Z"
   },
   {
    "duration": 5,
    "start_time": "2022-12-26T22:30:52.065Z"
   },
   {
    "duration": 8677,
    "start_time": "2022-12-26T22:30:54.694Z"
   },
   {
    "duration": 4,
    "start_time": "2022-12-26T22:31:09.793Z"
   },
   {
    "duration": 8637,
    "start_time": "2022-12-26T22:31:12.320Z"
   },
   {
    "duration": 5,
    "start_time": "2022-12-26T22:31:28.589Z"
   },
   {
    "duration": 8620,
    "start_time": "2022-12-26T22:31:34.069Z"
   },
   {
    "duration": 5,
    "start_time": "2022-12-26T22:32:33.930Z"
   },
   {
    "duration": 8637,
    "start_time": "2022-12-26T22:32:35.950Z"
   },
   {
    "duration": 5,
    "start_time": "2022-12-26T22:33:16.408Z"
   },
   {
    "duration": 8902,
    "start_time": "2022-12-26T22:33:18.636Z"
   },
   {
    "duration": 5,
    "start_time": "2022-12-26T22:33:54.068Z"
   },
   {
    "duration": 4,
    "start_time": "2022-12-26T22:34:35.493Z"
   },
   {
    "duration": 8665,
    "start_time": "2022-12-26T22:34:38.409Z"
   },
   {
    "duration": 4,
    "start_time": "2022-12-26T22:40:00.681Z"
   },
   {
    "duration": 8544,
    "start_time": "2022-12-26T22:40:03.293Z"
   },
   {
    "duration": 4,
    "start_time": "2022-12-26T22:40:18.546Z"
   },
   {
    "duration": 8535,
    "start_time": "2022-12-26T22:40:21.334Z"
   },
   {
    "duration": 4,
    "start_time": "2022-12-26T22:40:47.059Z"
   },
   {
    "duration": 8739,
    "start_time": "2022-12-26T22:40:49.163Z"
   },
   {
    "duration": 4,
    "start_time": "2022-12-26T22:41:36.592Z"
   },
   {
    "duration": 5,
    "start_time": "2022-12-26T22:43:43.699Z"
   },
   {
    "duration": 3189,
    "start_time": "2022-12-26T22:43:47.212Z"
   },
   {
    "duration": 5,
    "start_time": "2022-12-26T22:44:09.628Z"
   },
   {
    "duration": 5,
    "start_time": "2022-12-26T22:44:21.208Z"
   },
   {
    "duration": 8616,
    "start_time": "2022-12-26T22:44:24.456Z"
   },
   {
    "duration": 4,
    "start_time": "2022-12-26T22:45:29.923Z"
   },
   {
    "duration": 8605,
    "start_time": "2022-12-26T22:45:32.208Z"
   },
   {
    "duration": 6,
    "start_time": "2022-12-26T22:46:07.098Z"
   },
   {
    "duration": 8695,
    "start_time": "2022-12-26T22:46:09.786Z"
   },
   {
    "duration": 76,
    "start_time": "2022-12-26T22:46:43.910Z"
   },
   {
    "duration": 4,
    "start_time": "2022-12-26T22:46:47.372Z"
   },
   {
    "duration": 3236,
    "start_time": "2022-12-26T22:46:50.630Z"
   },
   {
    "duration": 5,
    "start_time": "2022-12-26T22:47:08.133Z"
   },
   {
    "duration": 5,
    "start_time": "2022-12-26T22:50:30.168Z"
   },
   {
    "duration": 8691,
    "start_time": "2022-12-26T22:50:32.924Z"
   },
   {
    "duration": 5,
    "start_time": "2022-12-26T22:51:29.075Z"
   },
   {
    "duration": 8758,
    "start_time": "2022-12-26T22:51:31.300Z"
   },
   {
    "duration": 5,
    "start_time": "2022-12-26T22:51:52.687Z"
   },
   {
    "duration": 8732,
    "start_time": "2022-12-26T22:51:54.876Z"
   },
   {
    "duration": 73,
    "start_time": "2022-12-26T22:52:08.338Z"
   },
   {
    "duration": 145,
    "start_time": "2022-12-26T22:55:27.335Z"
   },
   {
    "duration": 5,
    "start_time": "2022-12-26T22:56:44.564Z"
   },
   {
    "duration": 3042,
    "start_time": "2022-12-26T22:56:47.028Z"
   },
   {
    "duration": 5,
    "start_time": "2022-12-26T22:57:14.990Z"
   },
   {
    "duration": 8725,
    "start_time": "2022-12-26T22:57:17.331Z"
   },
   {
    "duration": 4,
    "start_time": "2022-12-26T22:59:12.346Z"
   },
   {
    "duration": 8693,
    "start_time": "2022-12-26T22:59:15.810Z"
   },
   {
    "duration": 6,
    "start_time": "2022-12-26T22:59:51.532Z"
   },
   {
    "duration": 3157,
    "start_time": "2022-12-26T22:59:53.934Z"
   },
   {
    "duration": 5,
    "start_time": "2022-12-26T23:01:05.008Z"
   },
   {
    "duration": 8685,
    "start_time": "2022-12-26T23:01:07.030Z"
   },
   {
    "duration": 1328,
    "start_time": "2022-12-26T23:07:25.792Z"
   },
   {
    "duration": 336,
    "start_time": "2022-12-26T23:07:27.121Z"
   },
   {
    "duration": 1314,
    "start_time": "2022-12-26T23:07:27.459Z"
   },
   {
    "duration": 47,
    "start_time": "2022-12-26T23:07:28.775Z"
   },
   {
    "duration": 67,
    "start_time": "2022-12-26T23:07:28.823Z"
   },
   {
    "duration": 47,
    "start_time": "2022-12-26T23:07:28.891Z"
   },
   {
    "duration": 13,
    "start_time": "2022-12-26T23:07:28.940Z"
   },
   {
    "duration": 6,
    "start_time": "2022-12-26T23:07:28.954Z"
   },
   {
    "duration": 15,
    "start_time": "2022-12-26T23:07:28.961Z"
   },
   {
    "duration": 68,
    "start_time": "2022-12-26T23:07:28.978Z"
   },
   {
    "duration": 16,
    "start_time": "2022-12-26T23:07:29.048Z"
   },
   {
    "duration": 9,
    "start_time": "2022-12-26T23:07:29.065Z"
   },
   {
    "duration": 11,
    "start_time": "2022-12-26T23:07:29.075Z"
   },
   {
    "duration": 8,
    "start_time": "2022-12-26T23:07:29.087Z"
   },
   {
    "duration": 720,
    "start_time": "2022-12-26T23:07:29.097Z"
   },
   {
    "duration": 734,
    "start_time": "2022-12-26T23:07:29.818Z"
   },
   {
    "duration": 733,
    "start_time": "2022-12-26T23:07:30.553Z"
   },
   {
    "duration": 47,
    "start_time": "2022-12-26T23:07:31.288Z"
   },
   {
    "duration": 2,
    "start_time": "2022-12-26T23:07:31.337Z"
   },
   {
    "duration": 19,
    "start_time": "2022-12-26T23:07:31.341Z"
   },
   {
    "duration": 154,
    "start_time": "2022-12-26T23:07:31.362Z"
   },
   {
    "duration": 94,
    "start_time": "2022-12-26T23:07:31.518Z"
   },
   {
    "duration": 100,
    "start_time": "2022-12-26T23:07:31.614Z"
   },
   {
    "duration": 6,
    "start_time": "2022-12-26T23:07:31.715Z"
   },
   {
    "duration": 23,
    "start_time": "2022-12-26T23:07:31.722Z"
   },
   {
    "duration": 6,
    "start_time": "2022-12-26T23:07:31.746Z"
   },
   {
    "duration": 8643,
    "start_time": "2022-12-26T23:07:31.754Z"
   },
   {
    "duration": 1694,
    "start_time": "2022-12-27T22:51:01.965Z"
   },
   {
    "duration": 1562,
    "start_time": "2022-12-27T22:51:03.661Z"
   },
   {
    "duration": 1391,
    "start_time": "2022-12-27T22:51:05.224Z"
   },
   {
    "duration": 43,
    "start_time": "2022-12-27T22:51:06.617Z"
   },
   {
    "duration": 85,
    "start_time": "2022-12-27T22:51:06.662Z"
   },
   {
    "duration": 36,
    "start_time": "2022-12-27T22:51:06.749Z"
   },
   {
    "duration": 32,
    "start_time": "2022-12-27T22:51:06.787Z"
   },
   {
    "duration": 17,
    "start_time": "2022-12-27T22:51:06.820Z"
   },
   {
    "duration": 48,
    "start_time": "2022-12-27T22:51:06.839Z"
   },
   {
    "duration": 74,
    "start_time": "2022-12-27T22:51:06.890Z"
   },
   {
    "duration": 19,
    "start_time": "2022-12-27T22:51:06.966Z"
   },
   {
    "duration": 10,
    "start_time": "2022-12-27T22:51:06.987Z"
   },
   {
    "duration": 17,
    "start_time": "2022-12-27T22:51:06.999Z"
   },
   {
    "duration": 29,
    "start_time": "2022-12-27T22:51:07.018Z"
   },
   {
    "duration": 738,
    "start_time": "2022-12-27T22:51:07.049Z"
   },
   {
    "duration": 773,
    "start_time": "2022-12-27T22:51:07.789Z"
   },
   {
    "duration": 757,
    "start_time": "2022-12-27T22:51:08.564Z"
   },
   {
    "duration": 42,
    "start_time": "2022-12-27T22:51:09.323Z"
   },
   {
    "duration": 3,
    "start_time": "2022-12-27T22:51:09.366Z"
   },
   {
    "duration": 6,
    "start_time": "2022-12-27T22:51:09.371Z"
   },
   {
    "duration": 241,
    "start_time": "2022-12-27T22:51:09.378Z"
   },
   {
    "duration": 4,
    "start_time": "2022-12-27T22:51:09.621Z"
   },
   {
    "duration": 105,
    "start_time": "2022-12-27T22:51:09.714Z"
   },
   {
    "duration": 7,
    "start_time": "2022-12-27T22:51:09.821Z"
   },
   {
    "duration": 31,
    "start_time": "2022-12-27T22:51:09.830Z"
   },
   {
    "duration": 5,
    "start_time": "2022-12-27T22:51:09.863Z"
   },
   {
    "duration": 8930,
    "start_time": "2022-12-27T22:51:09.870Z"
   },
   {
    "duration": 14,
    "start_time": "2022-12-27T22:53:16.969Z"
   },
   {
    "duration": 14,
    "start_time": "2022-12-27T22:53:56.106Z"
   },
   {
    "duration": 22,
    "start_time": "2022-12-27T22:54:21.421Z"
   },
   {
    "duration": 11,
    "start_time": "2022-12-28T09:23:20.254Z"
   },
   {
    "duration": 63,
    "start_time": "2022-12-28T09:23:22.895Z"
   },
   {
    "duration": 1506,
    "start_time": "2022-12-28T09:23:28.215Z"
   },
   {
    "duration": 728,
    "start_time": "2022-12-28T09:23:29.723Z"
   },
   {
    "duration": 1356,
    "start_time": "2022-12-28T09:23:30.453Z"
   },
   {
    "duration": 43,
    "start_time": "2022-12-28T09:23:31.811Z"
   },
   {
    "duration": 89,
    "start_time": "2022-12-28T09:23:31.855Z"
   },
   {
    "duration": 31,
    "start_time": "2022-12-28T09:23:31.946Z"
   },
   {
    "duration": 22,
    "start_time": "2022-12-28T09:23:31.979Z"
   },
   {
    "duration": 7,
    "start_time": "2022-12-28T09:23:32.002Z"
   },
   {
    "duration": 36,
    "start_time": "2022-12-28T09:23:32.010Z"
   },
   {
    "duration": 42,
    "start_time": "2022-12-28T09:23:32.048Z"
   },
   {
    "duration": 15,
    "start_time": "2022-12-28T09:23:32.092Z"
   },
   {
    "duration": 22,
    "start_time": "2022-12-28T09:23:32.109Z"
   },
   {
    "duration": 24,
    "start_time": "2022-12-28T09:23:32.133Z"
   },
   {
    "duration": 19,
    "start_time": "2022-12-28T09:23:32.159Z"
   },
   {
    "duration": 740,
    "start_time": "2022-12-28T09:23:32.180Z"
   },
   {
    "duration": 732,
    "start_time": "2022-12-28T09:23:32.921Z"
   },
   {
    "duration": 721,
    "start_time": "2022-12-28T09:23:33.654Z"
   },
   {
    "duration": 49,
    "start_time": "2022-12-28T09:23:34.377Z"
   },
   {
    "duration": 3,
    "start_time": "2022-12-28T09:23:34.428Z"
   },
   {
    "duration": 6,
    "start_time": "2022-12-28T09:23:34.433Z"
   },
   {
    "duration": 188,
    "start_time": "2022-12-28T09:23:34.441Z"
   },
   {
    "duration": 92,
    "start_time": "2022-12-28T09:23:34.631Z"
   },
   {
    "duration": 104,
    "start_time": "2022-12-28T09:23:34.725Z"
   },
   {
    "duration": 5,
    "start_time": "2022-12-28T09:23:34.831Z"
   },
   {
    "duration": 22,
    "start_time": "2022-12-28T09:23:34.837Z"
   },
   {
    "duration": 5,
    "start_time": "2022-12-28T09:23:34.861Z"
   },
   {
    "duration": 8769,
    "start_time": "2022-12-28T09:23:34.867Z"
   },
   {
    "duration": 5,
    "start_time": "2022-12-28T09:59:34.557Z"
   },
   {
    "duration": 9164,
    "start_time": "2022-12-28T09:59:38.964Z"
   },
   {
    "duration": 5,
    "start_time": "2022-12-28T10:00:28.445Z"
   },
   {
    "duration": 9092,
    "start_time": "2022-12-28T10:00:31.969Z"
   },
   {
    "duration": 5,
    "start_time": "2022-12-28T10:00:55.032Z"
   },
   {
    "duration": 9354,
    "start_time": "2022-12-28T10:00:58.100Z"
   },
   {
    "duration": 4,
    "start_time": "2022-12-28T10:01:38.055Z"
   },
   {
    "duration": 9295,
    "start_time": "2022-12-28T10:01:41.306Z"
   }
  ],
  "kernelspec": {
   "display_name": "Python 3 (ipykernel)",
   "language": "python",
   "name": "python3"
  },
  "language_info": {
   "codemirror_mode": {
    "name": "ipython",
    "version": 3
   },
   "file_extension": ".py",
   "mimetype": "text/x-python",
   "name": "python",
   "nbconvert_exporter": "python",
   "pygments_lexer": "ipython3",
   "version": "3.9.16"
  },
  "toc": {
   "base_numbering": 1,
   "nav_menu": {},
   "number_sections": true,
   "sideBar": true,
   "skip_h1_title": true,
   "title_cell": "Table of Contents",
   "title_sidebar": "Contents",
   "toc_cell": false,
   "toc_position": {
    "height": "calc(100% - 180px)",
    "left": "10px",
    "top": "150px",
    "width": "165px"
   },
   "toc_section_display": true,
   "toc_window_display": true
  }
 },
 "nbformat": 4,
 "nbformat_minor": 2
}
