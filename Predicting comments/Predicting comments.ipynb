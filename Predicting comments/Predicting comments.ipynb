{
 "cells": [
  {
   "cell_type": "markdown",
   "metadata": {},
   "source": [
    "# Проект для «Викишоп»"
   ]
  },
  {
   "cell_type": "markdown",
   "metadata": {},
   "source": [
    "Для нового сервиса интернет-магазина «Викишоп». Теперь пользователи могут редактировать и дополнять описания товаров, как в вики-сообществах. То есть клиенты предлагают свои правки и комментируют изменения других. \n",
    "\n",
    "***Цель:*** создать инструмент, который будет искать токсичные комментарии и отправлять их на модерацию. \n",
    "\n",
    "***Задача:*** Обучить модель классифицировать комментарии на позитивные и негативные. В распоряжении набор данных с разметкой о токсичности правок.\n",
    "Метрика качества *F1* не меньше 0.75. \n"
   ]
  },
  {
   "cell_type": "markdown",
   "metadata": {},
   "source": [
    "## Загрузка данных"
   ]
  },
  {
   "cell_type": "code",
   "execution_count": 1,
   "metadata": {},
   "outputs": [],
   "source": [
    "import pandas as pd\n",
    "import matplotlib.pyplot as plt\n",
    "import numpy as np\n",
    "from catboost import CatBoostClassifier\n",
    "import nltk\n",
    "from nltk.corpus import stopwords\n",
    "from nltk.tokenize import word_tokenize\n",
    "from pymorphy2 import MorphAnalyzer\n",
    "import re\n",
    "from sklearn.feature_extraction.text import TfidfVectorizer\n",
    "from sklearn.linear_model import LogisticRegression\n",
    "from sklearn.metrics import f1_score\n",
    "from sklearn.model_selection import cross_val_score\n",
    "from sklearn.model_selection import GridSearchCV\n",
    "from sklearn.model_selection import train_test_split\n",
    "from sklearn.pipeline import Pipeline, make_pipeline\n",
    "from sklearn.utils import shuffle\n",
    "import spacy\n",
    "from tqdm.notebook import tqdm\n",
    "tqdm.pandas()"
   ]
  },
  {
   "cell_type": "code",
   "execution_count": 2,
   "metadata": {},
   "outputs": [
    {
     "data": {
      "text/html": [
       "<div>\n",
       "<style scoped>\n",
       "    .dataframe tbody tr th:only-of-type {\n",
       "        vertical-align: middle;\n",
       "    }\n",
       "\n",
       "    .dataframe tbody tr th {\n",
       "        vertical-align: top;\n",
       "    }\n",
       "\n",
       "    .dataframe thead th {\n",
       "        text-align: right;\n",
       "    }\n",
       "</style>\n",
       "<table border=\"1\" class=\"dataframe\">\n",
       "  <thead>\n",
       "    <tr style=\"text-align: right;\">\n",
       "      <th></th>\n",
       "      <th>Unnamed: 0</th>\n",
       "      <th>text</th>\n",
       "      <th>toxic</th>\n",
       "    </tr>\n",
       "  </thead>\n",
       "  <tbody>\n",
       "    <tr>\n",
       "      <th>0</th>\n",
       "      <td>0</td>\n",
       "      <td>Explanation\\nWhy the edits made under my usern...</td>\n",
       "      <td>0</td>\n",
       "    </tr>\n",
       "    <tr>\n",
       "      <th>1</th>\n",
       "      <td>1</td>\n",
       "      <td>D'aww! He matches this background colour I'm s...</td>\n",
       "      <td>0</td>\n",
       "    </tr>\n",
       "    <tr>\n",
       "      <th>2</th>\n",
       "      <td>2</td>\n",
       "      <td>Hey man, I'm really not trying to edit war. It...</td>\n",
       "      <td>0</td>\n",
       "    </tr>\n",
       "    <tr>\n",
       "      <th>3</th>\n",
       "      <td>3</td>\n",
       "      <td>\"\\nMore\\nI can't make any real suggestions on ...</td>\n",
       "      <td>0</td>\n",
       "    </tr>\n",
       "    <tr>\n",
       "      <th>4</th>\n",
       "      <td>4</td>\n",
       "      <td>You, sir, are my hero. Any chance you remember...</td>\n",
       "      <td>0</td>\n",
       "    </tr>\n",
       "  </tbody>\n",
       "</table>\n",
       "</div>"
      ],
      "text/plain": [
       "   Unnamed: 0                                               text  toxic\n",
       "0           0  Explanation\\nWhy the edits made under my usern...      0\n",
       "1           1  D'aww! He matches this background colour I'm s...      0\n",
       "2           2  Hey man, I'm really not trying to edit war. It...      0\n",
       "3           3  \"\\nMore\\nI can't make any real suggestions on ...      0\n",
       "4           4  You, sir, are my hero. Any chance you remember...      0"
      ]
     },
     "metadata": {},
     "output_type": "display_data"
    },
    {
     "name": "stdout",
     "output_type": "stream",
     "text": [
      "<class 'pandas.core.frame.DataFrame'>\n",
      "RangeIndex: 159292 entries, 0 to 159291\n",
      "Data columns (total 3 columns):\n",
      " #   Column      Non-Null Count   Dtype \n",
      "---  ------      --------------   ----- \n",
      " 0   Unnamed: 0  159292 non-null  int64 \n",
      " 1   text        159292 non-null  object\n",
      " 2   toxic       159292 non-null  int64 \n",
      "dtypes: int64(2), object(1)\n",
      "memory usage: 3.6+ MB\n",
      "\n",
      "Дубликаты: 0\n"
     ]
    }
   ],
   "source": [
    "data = pd.read_csv('/datasets/toxic_comments.csv')\n",
    "display(data.head())\n",
    "data.info()\n",
    "print()\n",
    "print('Дубликаты:', data.duplicated().sum())"
   ]
  },
  {
   "cell_type": "code",
   "execution_count": 3,
   "metadata": {},
   "outputs": [
    {
     "data": {
      "image/png": "[encoded data removed]",
      "text/plain": [
       "<Figure size 720x360 with 1 Axes>"
      ]
     },
     "metadata": {
      "needs_background": "light"
     },
     "output_type": "display_data"
    }
   ],
   "source": [
    "data['toxic'].value_counts().plot(kind='bar', grid=True, figsize=(10,5))\n",
    "plt.title('Распределение токсичных комментариев')\n",
    "plt.show()"
   ]
  },
  {
   "cell_type": "markdown",
   "metadata": {},
   "source": [
    "## Предобработка данных"
   ]
  },
  {
   "cell_type": "code",
   "execution_count": 4,
   "metadata": {
    "scrolled": false
   },
   "outputs": [
    {
     "data": {
      "text/html": [
       "<div>\n",
       "<style scoped>\n",
       "    .dataframe tbody tr th:only-of-type {\n",
       "        vertical-align: middle;\n",
       "    }\n",
       "\n",
       "    .dataframe tbody tr th {\n",
       "        vertical-align: top;\n",
       "    }\n",
       "\n",
       "    .dataframe thead th {\n",
       "        text-align: right;\n",
       "    }\n",
       "</style>\n",
       "<table border=\"1\" class=\"dataframe\">\n",
       "  <thead>\n",
       "    <tr style=\"text-align: right;\">\n",
       "      <th></th>\n",
       "      <th>text</th>\n",
       "      <th>toxic</th>\n",
       "    </tr>\n",
       "  </thead>\n",
       "  <tbody>\n",
       "    <tr>\n",
       "      <th>0</th>\n",
       "      <td>Explanation\\nWhy the edits made under my usern...</td>\n",
       "      <td>0</td>\n",
       "    </tr>\n",
       "    <tr>\n",
       "      <th>1</th>\n",
       "      <td>D'aww! He matches this background colour I'm s...</td>\n",
       "      <td>0</td>\n",
       "    </tr>\n",
       "    <tr>\n",
       "      <th>2</th>\n",
       "      <td>Hey man, I'm really not trying to edit war. It...</td>\n",
       "      <td>0</td>\n",
       "    </tr>\n",
       "    <tr>\n",
       "      <th>3</th>\n",
       "      <td>\"\\nMore\\nI can't make any real suggestions on ...</td>\n",
       "      <td>0</td>\n",
       "    </tr>\n",
       "    <tr>\n",
       "      <th>4</th>\n",
       "      <td>You, sir, are my hero. Any chance you remember...</td>\n",
       "      <td>0</td>\n",
       "    </tr>\n",
       "    <tr>\n",
       "      <th>5</th>\n",
       "      <td>\"\\n\\nCongratulations from me as well, use the ...</td>\n",
       "      <td>0</td>\n",
       "    </tr>\n",
       "    <tr>\n",
       "      <th>6</th>\n",
       "      <td>COCKSUCKER BEFORE YOU PISS AROUND ON MY WORK</td>\n",
       "      <td>1</td>\n",
       "    </tr>\n",
       "    <tr>\n",
       "      <th>7</th>\n",
       "      <td>Your vandalism to the Matt Shirvington article...</td>\n",
       "      <td>0</td>\n",
       "    </tr>\n",
       "    <tr>\n",
       "      <th>8</th>\n",
       "      <td>Sorry if the word 'nonsense' was offensive to ...</td>\n",
       "      <td>0</td>\n",
       "    </tr>\n",
       "    <tr>\n",
       "      <th>9</th>\n",
       "      <td>alignment on this subject and which are contra...</td>\n",
       "      <td>0</td>\n",
       "    </tr>\n",
       "  </tbody>\n",
       "</table>\n",
       "</div>"
      ],
      "text/plain": [
       "                                                text  toxic\n",
       "0  Explanation\\nWhy the edits made under my usern...      0\n",
       "1  D'aww! He matches this background colour I'm s...      0\n",
       "2  Hey man, I'm really not trying to edit war. It...      0\n",
       "3  \"\\nMore\\nI can't make any real suggestions on ...      0\n",
       "4  You, sir, are my hero. Any chance you remember...      0\n",
       "5  \"\\n\\nCongratulations from me as well, use the ...      0\n",
       "6       COCKSUCKER BEFORE YOU PISS AROUND ON MY WORK      1\n",
       "7  Your vandalism to the Matt Shirvington article...      0\n",
       "8  Sorry if the word 'nonsense' was offensive to ...      0\n",
       "9  alignment on this subject and which are contra...      0"
      ]
     },
     "execution_count": 4,
     "metadata": {},
     "output_type": "execute_result"
    }
   ],
   "source": [
    "data = data.drop(['Unnamed: 0'], axis=1)\n",
    "data.head(10)"
   ]
  },
  {
   "cell_type": "markdown",
   "metadata": {},
   "source": [
    "### Очистка текста"
   ]
  },
  {
   "cell_type": "code",
   "execution_count": 5,
   "metadata": {},
   "outputs": [],
   "source": [
    "def clean(text):\n",
    "    text = re.sub(r'[^a-zA-Z]', ' ', text)\n",
    "    text = text.lower()\n",
    "    return ' '.join(text.split())"
   ]
  },
  {
   "cell_type": "code",
   "execution_count": 6,
   "metadata": {},
   "outputs": [
    {
     "data": {
      "text/html": [
       "<div>\n",
       "<style scoped>\n",
       "    .dataframe tbody tr th:only-of-type {\n",
       "        vertical-align: middle;\n",
       "    }\n",
       "\n",
       "    .dataframe tbody tr th {\n",
       "        vertical-align: top;\n",
       "    }\n",
       "\n",
       "    .dataframe thead th {\n",
       "        text-align: right;\n",
       "    }\n",
       "</style>\n",
       "<table border=\"1\" class=\"dataframe\">\n",
       "  <thead>\n",
       "    <tr style=\"text-align: right;\">\n",
       "      <th></th>\n",
       "      <th>text</th>\n",
       "      <th>toxic</th>\n",
       "      <th>new_text</th>\n",
       "    </tr>\n",
       "  </thead>\n",
       "  <tbody>\n",
       "    <tr>\n",
       "      <th>0</th>\n",
       "      <td>Explanation\\nWhy the edits made under my usern...</td>\n",
       "      <td>0</td>\n",
       "      <td>explanation why the edits made under my userna...</td>\n",
       "    </tr>\n",
       "    <tr>\n",
       "      <th>1</th>\n",
       "      <td>D'aww! He matches this background colour I'm s...</td>\n",
       "      <td>0</td>\n",
       "      <td>d aww he matches this background colour i m se...</td>\n",
       "    </tr>\n",
       "    <tr>\n",
       "      <th>2</th>\n",
       "      <td>Hey man, I'm really not trying to edit war. It...</td>\n",
       "      <td>0</td>\n",
       "      <td>hey man i m really not trying to edit war it s...</td>\n",
       "    </tr>\n",
       "    <tr>\n",
       "      <th>3</th>\n",
       "      <td>\"\\nMore\\nI can't make any real suggestions on ...</td>\n",
       "      <td>0</td>\n",
       "      <td>more i can t make any real suggestions on impr...</td>\n",
       "    </tr>\n",
       "    <tr>\n",
       "      <th>4</th>\n",
       "      <td>You, sir, are my hero. Any chance you remember...</td>\n",
       "      <td>0</td>\n",
       "      <td>you sir are my hero any chance you remember wh...</td>\n",
       "    </tr>\n",
       "    <tr>\n",
       "      <th>5</th>\n",
       "      <td>\"\\n\\nCongratulations from me as well, use the ...</td>\n",
       "      <td>0</td>\n",
       "      <td>congratulations from me as well use the tools ...</td>\n",
       "    </tr>\n",
       "    <tr>\n",
       "      <th>6</th>\n",
       "      <td>COCKSUCKER BEFORE YOU PISS AROUND ON MY WORK</td>\n",
       "      <td>1</td>\n",
       "      <td>cocksucker before you piss around on my work</td>\n",
       "    </tr>\n",
       "    <tr>\n",
       "      <th>7</th>\n",
       "      <td>Your vandalism to the Matt Shirvington article...</td>\n",
       "      <td>0</td>\n",
       "      <td>your vandalism to the matt shirvington article...</td>\n",
       "    </tr>\n",
       "    <tr>\n",
       "      <th>8</th>\n",
       "      <td>Sorry if the word 'nonsense' was offensive to ...</td>\n",
       "      <td>0</td>\n",
       "      <td>sorry if the word nonsense was offensive to yo...</td>\n",
       "    </tr>\n",
       "    <tr>\n",
       "      <th>9</th>\n",
       "      <td>alignment on this subject and which are contra...</td>\n",
       "      <td>0</td>\n",
       "      <td>alignment on this subject and which are contra...</td>\n",
       "    </tr>\n",
       "  </tbody>\n",
       "</table>\n",
       "</div>"
      ],
      "text/plain": [
       "                                                text  toxic  \\\n",
       "0  Explanation\\nWhy the edits made under my usern...      0   \n",
       "1  D'aww! He matches this background colour I'm s...      0   \n",
       "2  Hey man, I'm really not trying to edit war. It...      0   \n",
       "3  \"\\nMore\\nI can't make any real suggestions on ...      0   \n",
       "4  You, sir, are my hero. Any chance you remember...      0   \n",
       "5  \"\\n\\nCongratulations from me as well, use the ...      0   \n",
       "6       COCKSUCKER BEFORE YOU PISS AROUND ON MY WORK      1   \n",
       "7  Your vandalism to the Matt Shirvington article...      0   \n",
       "8  Sorry if the word 'nonsense' was offensive to ...      0   \n",
       "9  alignment on this subject and which are contra...      0   \n",
       "\n",
       "                                            new_text  \n",
       "0  explanation why the edits made under my userna...  \n",
       "1  d aww he matches this background colour i m se...  \n",
       "2  hey man i m really not trying to edit war it s...  \n",
       "3  more i can t make any real suggestions on impr...  \n",
       "4  you sir are my hero any chance you remember wh...  \n",
       "5  congratulations from me as well use the tools ...  \n",
       "6       cocksucker before you piss around on my work  \n",
       "7  your vandalism to the matt shirvington article...  \n",
       "8  sorry if the word nonsense was offensive to yo...  \n",
       "9  alignment on this subject and which are contra...  "
      ]
     },
     "execution_count": 6,
     "metadata": {},
     "output_type": "execute_result"
    }
   ],
   "source": [
    "data['new_text'] = data['text'].apply(clean)\n",
    "data.head(10)"
   ]
  },
  {
   "cell_type": "markdown",
   "metadata": {},
   "source": [
    "### Лемматизация"
   ]
  },
  {
   "cell_type": "code",
   "execution_count": 7,
   "metadata": {},
   "outputs": [],
   "source": [
    "nlp = spacy.load('en_core_web_sm', disable=['parser', 'ner'])\n",
    "\n",
    "\n",
    "def spacy(text):\n",
    "    doc = nlp(text)\n",
    "    return \" \".join([token.lemma_ for token in doc])"
   ]
  },
  {
   "cell_type": "code",
   "execution_count": 8,
   "metadata": {},
   "outputs": [
    {
     "data": {
      "application/vnd.jupyter.widget-view+json": {
       "model_id": "ef47d9c49fdf4e53a4452bf94190958e",
       "version_major": 2,
       "version_minor": 0
      },
      "text/plain": [
       "  0%|          | 0/159292 [00:00<?, ?it/s]"
      ]
     },
     "metadata": {},
     "output_type": "display_data"
    }
   ],
   "source": [
    "data['lemm_text'] = data['new_text'].progress_apply(spacy)"
   ]
  },
  {
   "cell_type": "code",
   "execution_count": 9,
   "metadata": {
    "scrolled": true
   },
   "outputs": [
    {
     "data": {
      "text/html": [
       "<div>\n",
       "<style scoped>\n",
       "    .dataframe tbody tr th:only-of-type {\n",
       "        vertical-align: middle;\n",
       "    }\n",
       "\n",
       "    .dataframe tbody tr th {\n",
       "        vertical-align: top;\n",
       "    }\n",
       "\n",
       "    .dataframe thead th {\n",
       "        text-align: right;\n",
       "    }\n",
       "</style>\n",
       "<table border=\"1\" class=\"dataframe\">\n",
       "  <thead>\n",
       "    <tr style=\"text-align: right;\">\n",
       "      <th></th>\n",
       "      <th>text</th>\n",
       "      <th>toxic</th>\n",
       "      <th>new_text</th>\n",
       "      <th>lemm_text</th>\n",
       "    </tr>\n",
       "  </thead>\n",
       "  <tbody>\n",
       "    <tr>\n",
       "      <th>0</th>\n",
       "      <td>Explanation\\nWhy the edits made under my usern...</td>\n",
       "      <td>0</td>\n",
       "      <td>explanation why the edits made under my userna...</td>\n",
       "      <td>explanation why the edit make under my usernam...</td>\n",
       "    </tr>\n",
       "    <tr>\n",
       "      <th>1</th>\n",
       "      <td>D'aww! He matches this background colour I'm s...</td>\n",
       "      <td>0</td>\n",
       "      <td>d aww he matches this background colour i m se...</td>\n",
       "      <td>d aww he match this background colour I m seem...</td>\n",
       "    </tr>\n",
       "    <tr>\n",
       "      <th>2</th>\n",
       "      <td>Hey man, I'm really not trying to edit war. It...</td>\n",
       "      <td>0</td>\n",
       "      <td>hey man i m really not trying to edit war it s...</td>\n",
       "      <td>hey man I m really not try to edit war it s ju...</td>\n",
       "    </tr>\n",
       "    <tr>\n",
       "      <th>3</th>\n",
       "      <td>\"\\nMore\\nI can't make any real suggestions on ...</td>\n",
       "      <td>0</td>\n",
       "      <td>more i can t make any real suggestions on impr...</td>\n",
       "      <td>more I can t make any real suggestion on impro...</td>\n",
       "    </tr>\n",
       "    <tr>\n",
       "      <th>4</th>\n",
       "      <td>You, sir, are my hero. Any chance you remember...</td>\n",
       "      <td>0</td>\n",
       "      <td>you sir are my hero any chance you remember wh...</td>\n",
       "      <td>you sir be my hero any chance you remember wha...</td>\n",
       "    </tr>\n",
       "  </tbody>\n",
       "</table>\n",
       "</div>"
      ],
      "text/plain": [
       "                                                text  toxic  \\\n",
       "0  Explanation\\nWhy the edits made under my usern...      0   \n",
       "1  D'aww! He matches this background colour I'm s...      0   \n",
       "2  Hey man, I'm really not trying to edit war. It...      0   \n",
       "3  \"\\nMore\\nI can't make any real suggestions on ...      0   \n",
       "4  You, sir, are my hero. Any chance you remember...      0   \n",
       "\n",
       "                                            new_text  \\\n",
       "0  explanation why the edits made under my userna...   \n",
       "1  d aww he matches this background colour i m se...   \n",
       "2  hey man i m really not trying to edit war it s...   \n",
       "3  more i can t make any real suggestions on impr...   \n",
       "4  you sir are my hero any chance you remember wh...   \n",
       "\n",
       "                                           lemm_text  \n",
       "0  explanation why the edit make under my usernam...  \n",
       "1  d aww he match this background colour I m seem...  \n",
       "2  hey man I m really not try to edit war it s ju...  \n",
       "3  more I can t make any real suggestion on impro...  \n",
       "4  you sir be my hero any chance you remember wha...  "
      ]
     },
     "execution_count": 9,
     "metadata": {},
     "output_type": "execute_result"
    }
   ],
   "source": [
    "data.head()"
   ]
  },
  {
   "cell_type": "markdown",
   "metadata": {},
   "source": [
    "### Разделение на выборки"
   ]
  },
  {
   "cell_type": "code",
   "execution_count": 10,
   "metadata": {},
   "outputs": [],
   "source": [
    "train, test = train_test_split(data, test_size=0.1, random_state=12345)"
   ]
  },
  {
   "cell_type": "code",
   "execution_count": 11,
   "metadata": {},
   "outputs": [
    {
     "name": "stdout",
     "output_type": "stream",
     "text": [
      "(143362,) (143362,) (15930,) (15930,)\n"
     ]
    }
   ],
   "source": [
    "features_train = train['lemm_text']\n",
    "target_train = train['toxic']\n",
    "features_test = test['lemm_text']\n",
    "target_test = test['toxic']\n",
    "print(features_train.shape, target_train.shape, features_test.shape, target_test.shape)"
   ]
  },
  {
   "cell_type": "markdown",
   "metadata": {},
   "source": [
    "### Балансировка"
   ]
  },
  {
   "cell_type": "code",
   "execution_count": 12,
   "metadata": {
    "scrolled": true
   },
   "outputs": [
    {
     "data": {
      "text/plain": [
       "0    0.898388\n",
       "1    0.101612\n",
       "Name: toxic, dtype: float64"
      ]
     },
     "metadata": {},
     "output_type": "display_data"
    },
    {
     "data": {
      "image/png": "[encoded data removed]",
      "text/plain": [
       "<Figure size 360x216 with 1 Axes>"
      ]
     },
     "metadata": {
      "needs_background": "light"
     },
     "output_type": "display_data"
    }
   ],
   "source": [
    "class_frequency = data['toxic'].value_counts(normalize=True)\n",
    "display(class_frequency)\n",
    "class_frequency.plot(kind='bar', grid=True, figsize=(5,3));\n",
    "plt.title('Распределение токсичных комментариев');"
   ]
  },
  {
   "cell_type": "markdown",
   "metadata": {},
   "source": [
    "## Обучение"
   ]
  },
  {
   "cell_type": "code",
   "execution_count": 13,
   "metadata": {
    "scrolled": true
   },
   "outputs": [
    {
     "name": "stderr",
     "output_type": "stream",
     "text": [
      "[nltk_data] Downloading package stopwords to /home/jovyan/nltk_data...\n",
      "[nltk_data]   Package stopwords is already up-to-date!\n"
     ]
    }
   ],
   "source": [
    "nltk.download('stopwords')\n",
    "stopwords = set(stopwords.words('english'))"
   ]
  },
  {
   "cell_type": "markdown",
   "metadata": {},
   "source": [
    "### Логистическая регрессия"
   ]
  },
  {
   "cell_type": "code",
   "execution_count": 14,
   "metadata": {},
   "outputs": [],
   "source": [
    "steps = [('vect', TfidfVectorizer(stop_words=stopwords)), ('lg', LogisticRegression(random_state=12345))]\n",
    "pipeline = Pipeline(steps)\n",
    "param = {'lg__C':[5,15]}"
   ]
  },
  {
   "cell_type": "code",
   "execution_count": 15,
   "metadata": {},
   "outputs": [],
   "source": [
    "grid = GridSearchCV(pipeline, param_grid=param, cv=3, scoring='f1')"
   ]
  },
  {
   "cell_type": "code",
   "execution_count": 16,
   "metadata": {},
   "outputs": [
    {
     "name": "stderr",
     "output_type": "stream",
     "text": [
      "/opt/conda/lib/python3.9/site-packages/sklearn/linear_model/_logistic.py:763: ConvergenceWarning: lbfgs failed to converge (status=1):\n",
      "STOP: TOTAL NO. of ITERATIONS REACHED LIMIT.\n",
      "\n",
      "Increase the number of iterations (max_iter) or scale the data as shown in:\n",
      "    https://scikit-learn.org/stable/modules/preprocessing.html\n",
      "Please also refer to the documentation for alternative solver options:\n",
      "    https://scikit-learn.org/stable/modules/linear_model.html#logistic-regression\n",
      "  n_iter_i = _check_optimize_result(\n",
      "/opt/conda/lib/python3.9/site-packages/sklearn/linear_model/_logistic.py:763: ConvergenceWarning: lbfgs failed to converge (status=1):\n",
      "STOP: TOTAL NO. of ITERATIONS REACHED LIMIT.\n",
      "\n",
      "Increase the number of iterations (max_iter) or scale the data as shown in:\n",
      "    https://scikit-learn.org/stable/modules/preprocessing.html\n",
      "Please also refer to the documentation for alternative solver options:\n",
      "    https://scikit-learn.org/stable/modules/linear_model.html#logistic-regression\n",
      "  n_iter_i = _check_optimize_result(\n",
      "/opt/conda/lib/python3.9/site-packages/sklearn/linear_model/_logistic.py:763: ConvergenceWarning: lbfgs failed to converge (status=1):\n",
      "STOP: TOTAL NO. of ITERATIONS REACHED LIMIT.\n",
      "\n",
      "Increase the number of iterations (max_iter) or scale the data as shown in:\n",
      "    https://scikit-learn.org/stable/modules/preprocessing.html\n",
      "Please also refer to the documentation for alternative solver options:\n",
      "    https://scikit-learn.org/stable/modules/linear_model.html#logistic-regression\n",
      "  n_iter_i = _check_optimize_result(\n",
      "/opt/conda/lib/python3.9/site-packages/sklearn/linear_model/_logistic.py:763: ConvergenceWarning: lbfgs failed to converge (status=1):\n",
      "STOP: TOTAL NO. of ITERATIONS REACHED LIMIT.\n",
      "\n",
      "Increase the number of iterations (max_iter) or scale the data as shown in:\n",
      "    https://scikit-learn.org/stable/modules/preprocessing.html\n",
      "Please also refer to the documentation for alternative solver options:\n",
      "    https://scikit-learn.org/stable/modules/linear_model.html#logistic-regression\n",
      "  n_iter_i = _check_optimize_result(\n",
      "/opt/conda/lib/python3.9/site-packages/sklearn/linear_model/_logistic.py:763: ConvergenceWarning: lbfgs failed to converge (status=1):\n",
      "STOP: TOTAL NO. of ITERATIONS REACHED LIMIT.\n",
      "\n",
      "Increase the number of iterations (max_iter) or scale the data as shown in:\n",
      "    https://scikit-learn.org/stable/modules/preprocessing.html\n",
      "Please also refer to the documentation for alternative solver options:\n",
      "    https://scikit-learn.org/stable/modules/linear_model.html#logistic-regression\n",
      "  n_iter_i = _check_optimize_result(\n",
      "/opt/conda/lib/python3.9/site-packages/sklearn/linear_model/_logistic.py:763: ConvergenceWarning: lbfgs failed to converge (status=1):\n",
      "STOP: TOTAL NO. of ITERATIONS REACHED LIMIT.\n",
      "\n",
      "Increase the number of iterations (max_iter) or scale the data as shown in:\n",
      "    https://scikit-learn.org/stable/modules/preprocessing.html\n",
      "Please also refer to the documentation for alternative solver options:\n",
      "    https://scikit-learn.org/stable/modules/linear_model.html#logistic-regression\n",
      "  n_iter_i = _check_optimize_result(\n"
     ]
    },
    {
     "name": "stdout",
     "output_type": "stream",
     "text": [
      "Лучшие гиперпараметры: {'lg__C': 15}\n",
      "Лучшая оценка: 0.7730276733770672\n"
     ]
    },
    {
     "name": "stderr",
     "output_type": "stream",
     "text": [
      "/opt/conda/lib/python3.9/site-packages/sklearn/linear_model/_logistic.py:763: ConvergenceWarning: lbfgs failed to converge (status=1):\n",
      "STOP: TOTAL NO. of ITERATIONS REACHED LIMIT.\n",
      "\n",
      "Increase the number of iterations (max_iter) or scale the data as shown in:\n",
      "    https://scikit-learn.org/stable/modules/preprocessing.html\n",
      "Please also refer to the documentation for alternative solver options:\n",
      "    https://scikit-learn.org/stable/modules/linear_model.html#logistic-regression\n",
      "  n_iter_i = _check_optimize_result(\n"
     ]
    }
   ],
   "source": [
    "model_grid = grid.fit(features_train, target_train)\n",
    "print('Лучшие гиперпараметры: '+str(model_grid.best_params_))\n",
    "print('Лучшая оценка: '+str(model_grid.best_score_))"
   ]
  },
  {
   "cell_type": "code",
   "execution_count": 17,
   "metadata": {},
   "outputs": [
    {
     "name": "stderr",
     "output_type": "stream",
     "text": [
      "/opt/conda/lib/python3.9/site-packages/sklearn/linear_model/_logistic.py:763: ConvergenceWarning: lbfgs failed to converge (status=1):\n",
      "STOP: TOTAL NO. of ITERATIONS REACHED LIMIT.\n",
      "\n",
      "Increase the number of iterations (max_iter) or scale the data as shown in:\n",
      "    https://scikit-learn.org/stable/modules/preprocessing.html\n",
      "Please also refer to the documentation for alternative solver options:\n",
      "    https://scikit-learn.org/stable/modules/linear_model.html#logistic-regression\n",
      "  n_iter_i = _check_optimize_result(\n",
      "/opt/conda/lib/python3.9/site-packages/sklearn/linear_model/_logistic.py:763: ConvergenceWarning: lbfgs failed to converge (status=1):\n",
      "STOP: TOTAL NO. of ITERATIONS REACHED LIMIT.\n",
      "\n",
      "Increase the number of iterations (max_iter) or scale the data as shown in:\n",
      "    https://scikit-learn.org/stable/modules/preprocessing.html\n",
      "Please also refer to the documentation for alternative solver options:\n",
      "    https://scikit-learn.org/stable/modules/linear_model.html#logistic-regression\n",
      "  n_iter_i = _check_optimize_result(\n",
      "/opt/conda/lib/python3.9/site-packages/sklearn/linear_model/_logistic.py:763: ConvergenceWarning: lbfgs failed to converge (status=1):\n",
      "STOP: TOTAL NO. of ITERATIONS REACHED LIMIT.\n",
      "\n",
      "Increase the number of iterations (max_iter) or scale the data as shown in:\n",
      "    https://scikit-learn.org/stable/modules/preprocessing.html\n",
      "Please also refer to the documentation for alternative solver options:\n",
      "    https://scikit-learn.org/stable/modules/linear_model.html#logistic-regression\n",
      "  n_iter_i = _check_optimize_result(\n"
     ]
    },
    {
     "name": "stdout",
     "output_type": "stream",
     "text": [
      "Логистическая регрессия F1: 0.77\n"
     ]
    }
   ],
   "source": [
    "steps = [('vect', TfidfVectorizer(stop_words=stopwords)), ('lg', LogisticRegression(random_state=12345, C=15.0))]\n",
    "pipeline = Pipeline(steps)\n",
    "result = cross_val_score(pipeline, features_train, target_train, cv=3, scoring='f1').mean()\n",
    "print(f'Логистическая регрессия F1: {result:.2f}')"
   ]
  },
  {
   "cell_type": "markdown",
   "metadata": {},
   "source": [
    "### CatBoost"
   ]
  },
  {
   "cell_type": "code",
   "execution_count": 18,
   "metadata": {},
   "outputs": [
    {
     "name": "stdout",
     "output_type": "stream",
     "text": [
      "Learning rate set to 0.136328\n",
      "0:\tlearn: 0.5593058\ttotal: 2.37s\tremaining: 19m 43s\n",
      "1:\tlearn: 0.4634752\ttotal: 4.19s\tremaining: 17m 23s\n",
      "2:\tlearn: 0.3949774\ttotal: 6.08s\tremaining: 16m 47s\n",
      "3:\tlearn: 0.3478167\ttotal: 7.91s\tremaining: 16m 20s\n",
      "4:\tlearn: 0.3145006\ttotal: 9.67s\tremaining: 15m 57s\n",
      "5:\tlearn: 0.2911598\ttotal: 11.5s\tremaining: 15m 42s\n",
      "6:\tlearn: 0.2732864\ttotal: 13.2s\tremaining: 15m 31s\n",
      "7:\tlearn: 0.2600239\ttotal: 15s\tremaining: 15m 24s\n",
      "8:\tlearn: 0.2497578\ttotal: 16.9s\tremaining: 15m 22s\n",
      "9:\tlearn: 0.2413636\ttotal: 18.7s\tremaining: 15m 15s\n",
      "10:\tlearn: 0.2351309\ttotal: 20.4s\tremaining: 15m 9s\n",
      "11:\tlearn: 0.2283119\ttotal: 22.2s\tremaining: 15m 3s\n",
      "12:\tlearn: 0.2242891\ttotal: 24s\tremaining: 14m 58s\n",
      "13:\tlearn: 0.2210024\ttotal: 25.8s\tremaining: 14m 54s\n",
      "14:\tlearn: 0.2176586\ttotal: 27.6s\tremaining: 14m 53s\n",
      "15:\tlearn: 0.2149339\ttotal: 29.4s\tremaining: 14m 49s\n",
      "16:\tlearn: 0.2127489\ttotal: 31.1s\tremaining: 14m 44s\n",
      "17:\tlearn: 0.2107913\ttotal: 32.9s\tremaining: 14m 40s\n",
      "18:\tlearn: 0.2081053\ttotal: 34.7s\tremaining: 14m 37s\n",
      "19:\tlearn: 0.2059356\ttotal: 36.6s\tremaining: 14m 37s\n",
      "20:\tlearn: 0.2041886\ttotal: 38.3s\tremaining: 14m 34s\n",
      "21:\tlearn: 0.2024399\ttotal: 40s\tremaining: 14m 30s\n",
      "22:\tlearn: 0.2010681\ttotal: 41.8s\tremaining: 14m 27s\n",
      "23:\tlearn: 0.1997985\ttotal: 43.5s\tremaining: 14m 23s\n",
      "24:\tlearn: 0.1983779\ttotal: 45.4s\tremaining: 14m 21s\n",
      "25:\tlearn: 0.1969480\ttotal: 47.1s\tremaining: 14m 19s\n",
      "26:\tlearn: 0.1956369\ttotal: 48.9s\tremaining: 14m 16s\n",
      "27:\tlearn: 0.1944123\ttotal: 50.6s\tremaining: 14m 13s\n",
      "28:\tlearn: 0.1933381\ttotal: 52.3s\tremaining: 14m 10s\n",
      "29:\tlearn: 0.1924382\ttotal: 54.1s\tremaining: 14m 7s\n",
      "30:\tlearn: 0.1914071\ttotal: 55.8s\tremaining: 14m 4s\n",
      "31:\tlearn: 0.1904943\ttotal: 57.7s\tremaining: 14m 3s\n",
      "32:\tlearn: 0.1896406\ttotal: 59.4s\tremaining: 14m\n",
      "33:\tlearn: 0.1887026\ttotal: 1m 1s\tremaining: 13m 56s\n",
      "34:\tlearn: 0.1870743\ttotal: 1m 2s\tremaining: 13m 54s\n",
      "35:\tlearn: 0.1858643\ttotal: 1m 4s\tremaining: 13m 52s\n",
      "36:\tlearn: 0.1850009\ttotal: 1m 6s\tremaining: 13m 50s\n",
      "37:\tlearn: 0.1842352\ttotal: 1m 8s\tremaining: 13m 47s\n",
      "38:\tlearn: 0.1832470\ttotal: 1m 9s\tremaining: 13m 45s\n",
      "39:\tlearn: 0.1826438\ttotal: 1m 11s\tremaining: 13m 42s\n",
      "40:\tlearn: 0.1818471\ttotal: 1m 13s\tremaining: 13m 40s\n",
      "41:\tlearn: 0.1804983\ttotal: 1m 15s\tremaining: 13m 38s\n",
      "42:\tlearn: 0.1795654\ttotal: 1m 16s\tremaining: 13m 37s\n",
      "43:\tlearn: 0.1790364\ttotal: 1m 18s\tremaining: 13m 34s\n",
      "44:\tlearn: 0.1783129\ttotal: 1m 20s\tremaining: 13m 31s\n",
      "45:\tlearn: 0.1774966\ttotal: 1m 21s\tremaining: 13m 28s\n",
      "46:\tlearn: 0.1768314\ttotal: 1m 23s\tremaining: 13m 26s\n",
      "47:\tlearn: 0.1759620\ttotal: 1m 25s\tremaining: 13m 23s\n",
      "48:\tlearn: 0.1753327\ttotal: 1m 27s\tremaining: 13m 21s\n",
      "49:\tlearn: 0.1746390\ttotal: 1m 28s\tremaining: 13m 19s\n",
      "50:\tlearn: 0.1740941\ttotal: 1m 30s\tremaining: 13m 17s\n",
      "51:\tlearn: 0.1735536\ttotal: 1m 32s\tremaining: 13m 15s\n",
      "52:\tlearn: 0.1729617\ttotal: 1m 34s\tremaining: 13m 13s\n",
      "53:\tlearn: 0.1723141\ttotal: 1m 35s\tremaining: 13m 11s\n",
      "54:\tlearn: 0.1717841\ttotal: 1m 37s\tremaining: 13m 9s\n",
      "55:\tlearn: 0.1712827\ttotal: 1m 39s\tremaining: 13m 7s\n",
      "56:\tlearn: 0.1708517\ttotal: 1m 41s\tremaining: 13m 4s\n",
      "57:\tlearn: 0.1704016\ttotal: 1m 42s\tremaining: 13m 2s\n",
      "58:\tlearn: 0.1698949\ttotal: 1m 44s\tremaining: 13m\n",
      "59:\tlearn: 0.1691474\ttotal: 1m 46s\tremaining: 12m 59s\n",
      "60:\tlearn: 0.1686005\ttotal: 1m 48s\tremaining: 12m 58s\n",
      "61:\tlearn: 0.1681589\ttotal: 1m 49s\tremaining: 12m 55s\n",
      "62:\tlearn: 0.1675948\ttotal: 1m 51s\tremaining: 12m 53s\n",
      "63:\tlearn: 0.1670675\ttotal: 1m 53s\tremaining: 12m 51s\n",
      "64:\tlearn: 0.1666440\ttotal: 1m 54s\tremaining: 12m 49s\n",
      "65:\tlearn: 0.1659531\ttotal: 1m 56s\tremaining: 12m 48s\n",
      "66:\tlearn: 0.1654053\ttotal: 1m 58s\tremaining: 12m 46s\n",
      "67:\tlearn: 0.1649863\ttotal: 2m\tremaining: 12m 44s\n",
      "68:\tlearn: 0.1646209\ttotal: 2m 2s\tremaining: 12m 42s\n",
      "69:\tlearn: 0.1643002\ttotal: 2m 3s\tremaining: 12m 40s\n",
      "70:\tlearn: 0.1638229\ttotal: 2m 5s\tremaining: 12m 37s\n",
      "71:\tlearn: 0.1632363\ttotal: 2m 7s\tremaining: 12m 36s\n",
      "72:\tlearn: 0.1629437\ttotal: 2m 9s\tremaining: 12m 34s\n",
      "73:\tlearn: 0.1625845\ttotal: 2m 10s\tremaining: 12m 32s\n",
      "74:\tlearn: 0.1619840\ttotal: 2m 12s\tremaining: 12m 31s\n",
      "75:\tlearn: 0.1615758\ttotal: 2m 14s\tremaining: 12m 28s\n",
      "76:\tlearn: 0.1610069\ttotal: 2m 16s\tremaining: 12m 27s\n",
      "77:\tlearn: 0.1605962\ttotal: 2m 17s\tremaining: 12m 25s\n",
      "78:\tlearn: 0.1603094\ttotal: 2m 19s\tremaining: 12m 23s\n",
      "79:\tlearn: 0.1599496\ttotal: 2m 21s\tremaining: 12m 20s\n",
      "80:\tlearn: 0.1596118\ttotal: 2m 22s\tremaining: 12m 18s\n",
      "81:\tlearn: 0.1592860\ttotal: 2m 24s\tremaining: 12m 16s\n",
      "82:\tlearn: 0.1587477\ttotal: 2m 26s\tremaining: 12m 14s\n",
      "83:\tlearn: 0.1584471\ttotal: 2m 27s\tremaining: 12m 12s\n",
      "84:\tlearn: 0.1580494\ttotal: 2m 29s\tremaining: 12m 10s\n",
      "85:\tlearn: 0.1577844\ttotal: 2m 31s\tremaining: 12m 7s\n",
      "86:\tlearn: 0.1573003\ttotal: 2m 32s\tremaining: 12m 5s\n",
      "87:\tlearn: 0.1569583\ttotal: 2m 34s\tremaining: 12m 3s\n",
      "88:\tlearn: 0.1563706\ttotal: 2m 36s\tremaining: 12m 1s\n",
      "89:\tlearn: 0.1560831\ttotal: 2m 37s\tremaining: 11m 59s\n",
      "90:\tlearn: 0.1557593\ttotal: 2m 39s\tremaining: 11m 57s\n",
      "91:\tlearn: 0.1555042\ttotal: 2m 41s\tremaining: 11m 55s\n",
      "92:\tlearn: 0.1551485\ttotal: 2m 43s\tremaining: 11m 53s\n",
      "93:\tlearn: 0.1548537\ttotal: 2m 44s\tremaining: 11m 51s\n",
      "94:\tlearn: 0.1545221\ttotal: 2m 46s\tremaining: 11m 50s\n",
      "95:\tlearn: 0.1540124\ttotal: 2m 48s\tremaining: 11m 48s\n",
      "96:\tlearn: 0.1536727\ttotal: 2m 50s\tremaining: 11m 46s\n",
      "97:\tlearn: 0.1533880\ttotal: 2m 51s\tremaining: 11m 45s\n",
      "98:\tlearn: 0.1531284\ttotal: 2m 53s\tremaining: 11m 43s\n",
      "99:\tlearn: 0.1527868\ttotal: 2m 55s\tremaining: 11m 41s\n",
      "100:\tlearn: 0.1524397\ttotal: 2m 57s\tremaining: 11m 39s\n",
      "101:\tlearn: 0.1521345\ttotal: 2m 58s\tremaining: 11m 37s\n",
      "102:\tlearn: 0.1519248\ttotal: 3m\tremaining: 11m 34s\n",
      "103:\tlearn: 0.1514262\ttotal: 3m 2s\tremaining: 11m 33s\n",
      "104:\tlearn: 0.1511412\ttotal: 3m 3s\tremaining: 11m 31s\n",
      "105:\tlearn: 0.1508375\ttotal: 3m 5s\tremaining: 11m 29s\n",
      "106:\tlearn: 0.1505909\ttotal: 3m 7s\tremaining: 11m 27s\n",
      "107:\tlearn: 0.1503593\ttotal: 3m 8s\tremaining: 11m 24s\n",
      "108:\tlearn: 0.1498648\ttotal: 3m 10s\tremaining: 11m 22s\n",
      "109:\tlearn: 0.1495617\ttotal: 3m 12s\tremaining: 11m 21s\n",
      "110:\tlearn: 0.1490603\ttotal: 3m 13s\tremaining: 11m 19s\n",
      "111:\tlearn: 0.1487561\ttotal: 3m 15s\tremaining: 11m 18s\n",
      "112:\tlearn: 0.1485376\ttotal: 3m 17s\tremaining: 11m 16s\n",
      "113:\tlearn: 0.1481558\ttotal: 3m 19s\tremaining: 11m 14s\n",
      "114:\tlearn: 0.1479451\ttotal: 3m 21s\tremaining: 11m 13s\n",
      "115:\tlearn: 0.1476766\ttotal: 3m 22s\tremaining: 11m 11s\n",
      "116:\tlearn: 0.1474282\ttotal: 3m 24s\tremaining: 11m 9s\n",
      "117:\tlearn: 0.1471485\ttotal: 3m 26s\tremaining: 11m 7s\n",
      "118:\tlearn: 0.1469362\ttotal: 3m 27s\tremaining: 11m 5s\n",
      "119:\tlearn: 0.1467313\ttotal: 3m 29s\tremaining: 11m 3s\n",
      "120:\tlearn: 0.1465316\ttotal: 3m 31s\tremaining: 11m 1s\n",
      "121:\tlearn: 0.1462624\ttotal: 3m 33s\tremaining: 11m\n",
      "122:\tlearn: 0.1459871\ttotal: 3m 34s\tremaining: 10m 58s\n",
      "123:\tlearn: 0.1457493\ttotal: 3m 36s\tremaining: 10m 56s\n",
      "124:\tlearn: 0.1454904\ttotal: 3m 38s\tremaining: 10m 54s\n",
      "125:\tlearn: 0.1453215\ttotal: 3m 39s\tremaining: 10m 51s\n",
      "126:\tlearn: 0.1450777\ttotal: 3m 41s\tremaining: 10m 49s\n",
      "127:\tlearn: 0.1448234\ttotal: 3m 43s\tremaining: 10m 48s\n",
      "128:\tlearn: 0.1446383\ttotal: 3m 44s\tremaining: 10m 46s\n",
      "129:\tlearn: 0.1442596\ttotal: 3m 46s\tremaining: 10m 44s\n",
      "130:\tlearn: 0.1441259\ttotal: 3m 48s\tremaining: 10m 42s\n",
      "131:\tlearn: 0.1438835\ttotal: 3m 49s\tremaining: 10m 40s\n",
      "132:\tlearn: 0.1435934\ttotal: 3m 51s\tremaining: 10m 38s\n",
      "133:\tlearn: 0.1434587\ttotal: 3m 53s\tremaining: 10m 36s\n",
      "134:\tlearn: 0.1433028\ttotal: 3m 54s\tremaining: 10m 34s\n",
      "135:\tlearn: 0.1430852\ttotal: 3m 56s\tremaining: 10m 33s\n",
      "136:\tlearn: 0.1427889\ttotal: 3m 58s\tremaining: 10m 31s\n",
      "137:\tlearn: 0.1425271\ttotal: 4m\tremaining: 10m 29s\n",
      "138:\tlearn: 0.1423474\ttotal: 4m 1s\tremaining: 10m 27s\n",
      "139:\tlearn: 0.1420062\ttotal: 4m 3s\tremaining: 10m 26s\n",
      "140:\tlearn: 0.1416755\ttotal: 4m 5s\tremaining: 10m 24s\n",
      "141:\tlearn: 0.1415033\ttotal: 4m 6s\tremaining: 10m 22s\n",
      "142:\tlearn: 0.1413076\ttotal: 4m 8s\tremaining: 10m 20s\n",
      "143:\tlearn: 0.1410120\ttotal: 4m 10s\tremaining: 10m 18s\n",
      "144:\tlearn: 0.1408722\ttotal: 4m 11s\tremaining: 10m 16s\n",
      "145:\tlearn: 0.1406521\ttotal: 4m 13s\tremaining: 10m 14s\n",
      "146:\tlearn: 0.1404136\ttotal: 4m 15s\tremaining: 10m 13s\n",
      "147:\tlearn: 0.1402139\ttotal: 4m 17s\tremaining: 10m 11s\n",
      "148:\tlearn: 0.1399683\ttotal: 4m 18s\tremaining: 10m 9s\n",
      "149:\tlearn: 0.1398232\ttotal: 4m 20s\tremaining: 10m 7s\n",
      "150:\tlearn: 0.1396756\ttotal: 4m 22s\tremaining: 10m 5s\n",
      "151:\tlearn: 0.1393489\ttotal: 4m 23s\tremaining: 10m 3s\n",
      "152:\tlearn: 0.1390998\ttotal: 4m 25s\tremaining: 10m 2s\n",
      "153:\tlearn: 0.1388672\ttotal: 4m 27s\tremaining: 10m\n",
      "154:\tlearn: 0.1386585\ttotal: 4m 29s\tremaining: 9m 58s\n",
      "155:\tlearn: 0.1385298\ttotal: 4m 30s\tremaining: 9m 56s\n",
      "156:\tlearn: 0.1384206\ttotal: 4m 32s\tremaining: 9m 54s\n",
      "157:\tlearn: 0.1382027\ttotal: 4m 33s\tremaining: 9m 52s\n",
      "158:\tlearn: 0.1380259\ttotal: 4m 35s\tremaining: 9m 51s\n",
      "159:\tlearn: 0.1378292\ttotal: 4m 37s\tremaining: 9m 49s\n",
      "160:\tlearn: 0.1377056\ttotal: 4m 39s\tremaining: 9m 47s\n",
      "161:\tlearn: 0.1375593\ttotal: 4m 40s\tremaining: 9m 45s\n",
      "162:\tlearn: 0.1374540\ttotal: 4m 42s\tremaining: 9m 43s\n",
      "163:\tlearn: 0.1372747\ttotal: 4m 44s\tremaining: 9m 42s\n",
      "164:\tlearn: 0.1371028\ttotal: 4m 45s\tremaining: 9m 40s\n",
      "165:\tlearn: 0.1369314\ttotal: 4m 47s\tremaining: 9m 38s\n",
      "166:\tlearn: 0.1367527\ttotal: 4m 49s\tremaining: 9m 36s\n",
      "167:\tlearn: 0.1365269\ttotal: 4m 51s\tremaining: 9m 35s\n",
      "168:\tlearn: 0.1363046\ttotal: 4m 52s\tremaining: 9m 33s\n",
      "169:\tlearn: 0.1361032\ttotal: 4m 54s\tremaining: 9m 31s\n",
      "170:\tlearn: 0.1357732\ttotal: 4m 56s\tremaining: 9m 30s\n",
      "171:\tlearn: 0.1356805\ttotal: 4m 57s\tremaining: 9m 28s\n",
      "172:\tlearn: 0.1355697\ttotal: 4m 59s\tremaining: 9m 26s\n",
      "173:\tlearn: 0.1353638\ttotal: 5m 1s\tremaining: 9m 24s\n",
      "174:\tlearn: 0.1352196\ttotal: 5m 3s\tremaining: 9m 22s\n",
      "175:\tlearn: 0.1349435\ttotal: 5m 4s\tremaining: 9m 21s\n",
      "176:\tlearn: 0.1348371\ttotal: 5m 6s\tremaining: 9m 19s\n",
      "177:\tlearn: 0.1347215\ttotal: 5m 8s\tremaining: 9m 17s\n",
      "178:\tlearn: 0.1344854\ttotal: 5m 9s\tremaining: 9m 15s\n",
      "179:\tlearn: 0.1343928\ttotal: 5m 11s\tremaining: 9m 13s\n",
      "180:\tlearn: 0.1341749\ttotal: 5m 13s\tremaining: 9m 11s\n",
      "181:\tlearn: 0.1339664\ttotal: 5m 14s\tremaining: 9m 9s\n",
      "182:\tlearn: 0.1338082\ttotal: 5m 16s\tremaining: 9m 8s\n",
      "183:\tlearn: 0.1335980\ttotal: 5m 18s\tremaining: 9m 6s\n",
      "184:\tlearn: 0.1333639\ttotal: 5m 20s\tremaining: 9m 4s\n",
      "185:\tlearn: 0.1332646\ttotal: 5m 21s\tremaining: 9m 3s\n",
      "186:\tlearn: 0.1331707\ttotal: 5m 23s\tremaining: 9m 1s\n",
      "187:\tlearn: 0.1330646\ttotal: 5m 24s\tremaining: 8m 59s\n",
      "188:\tlearn: 0.1328384\ttotal: 5m 26s\tremaining: 8m 57s\n",
      "189:\tlearn: 0.1327429\ttotal: 5m 28s\tremaining: 8m 56s\n",
      "190:\tlearn: 0.1325717\ttotal: 5m 30s\tremaining: 8m 54s\n",
      "191:\tlearn: 0.1324406\ttotal: 5m 31s\tremaining: 8m 52s\n",
      "192:\tlearn: 0.1322912\ttotal: 5m 33s\tremaining: 8m 50s\n",
      "193:\tlearn: 0.1322016\ttotal: 5m 35s\tremaining: 8m 48s\n",
      "194:\tlearn: 0.1321165\ttotal: 5m 36s\tremaining: 8m 46s\n",
      "195:\tlearn: 0.1319121\ttotal: 5m 38s\tremaining: 8m 45s\n",
      "196:\tlearn: 0.1316825\ttotal: 5m 40s\tremaining: 8m 43s\n",
      "197:\tlearn: 0.1315331\ttotal: 5m 42s\tremaining: 8m 41s\n",
      "198:\tlearn: 0.1313728\ttotal: 5m 43s\tremaining: 8m 39s\n",
      "199:\tlearn: 0.1312430\ttotal: 5m 45s\tremaining: 8m 38s\n",
      "200:\tlearn: 0.1311647\ttotal: 5m 46s\tremaining: 8m 36s\n",
      "201:\tlearn: 0.1310863\ttotal: 5m 48s\tremaining: 8m 34s\n",
      "202:\tlearn: 0.1309680\ttotal: 5m 50s\tremaining: 8m 32s\n",
      "203:\tlearn: 0.1307128\ttotal: 5m 51s\tremaining: 8m 30s\n",
      "204:\tlearn: 0.1306255\ttotal: 5m 53s\tremaining: 8m 28s\n",
      "205:\tlearn: 0.1305003\ttotal: 5m 55s\tremaining: 8m 26s\n",
      "206:\tlearn: 0.1303830\ttotal: 5m 56s\tremaining: 8m 25s\n",
      "207:\tlearn: 0.1301042\ttotal: 5m 58s\tremaining: 8m 23s\n",
      "208:\tlearn: 0.1300342\ttotal: 6m\tremaining: 8m 21s\n",
      "209:\tlearn: 0.1299630\ttotal: 6m 1s\tremaining: 8m 19s\n",
      "210:\tlearn: 0.1298053\ttotal: 6m 3s\tremaining: 8m 17s\n",
      "211:\tlearn: 0.1297136\ttotal: 6m 5s\tremaining: 8m 15s\n",
      "212:\tlearn: 0.1295454\ttotal: 6m 6s\tremaining: 8m 14s\n",
      "213:\tlearn: 0.1293984\ttotal: 6m 8s\tremaining: 8m 12s\n",
      "214:\tlearn: 0.1292300\ttotal: 6m 10s\tremaining: 8m 10s\n",
      "215:\tlearn: 0.1291010\ttotal: 6m 11s\tremaining: 8m 8s\n",
      "216:\tlearn: 0.1287776\ttotal: 6m 13s\tremaining: 8m 7s\n",
      "217:\tlearn: 0.1285258\ttotal: 6m 15s\tremaining: 8m 5s\n",
      "218:\tlearn: 0.1283903\ttotal: 6m 17s\tremaining: 8m 3s\n",
      "219:\tlearn: 0.1282339\ttotal: 6m 18s\tremaining: 8m 2s\n",
      "220:\tlearn: 0.1281497\ttotal: 6m 20s\tremaining: 8m\n",
      "221:\tlearn: 0.1280565\ttotal: 6m 22s\tremaining: 7m 58s\n",
      "222:\tlearn: 0.1279160\ttotal: 6m 23s\tremaining: 7m 56s\n",
      "223:\tlearn: 0.1278009\ttotal: 6m 25s\tremaining: 7m 54s\n",
      "224:\tlearn: 0.1275900\ttotal: 6m 27s\tremaining: 7m 53s\n",
      "225:\tlearn: 0.1275201\ttotal: 6m 28s\tremaining: 7m 51s\n",
      "226:\tlearn: 0.1274085\ttotal: 6m 30s\tremaining: 7m 49s\n",
      "227:\tlearn: 0.1271574\ttotal: 6m 32s\tremaining: 7m 47s\n",
      "228:\tlearn: 0.1270176\ttotal: 6m 33s\tremaining: 7m 46s\n",
      "229:\tlearn: 0.1268400\ttotal: 6m 35s\tremaining: 7m 44s\n",
      "230:\tlearn: 0.1267694\ttotal: 6m 37s\tremaining: 7m 42s\n",
      "231:\tlearn: 0.1266023\ttotal: 6m 39s\tremaining: 7m 40s\n",
      "232:\tlearn: 0.1263785\ttotal: 6m 40s\tremaining: 7m 39s\n",
      "233:\tlearn: 0.1262985\ttotal: 6m 42s\tremaining: 7m 37s\n",
      "234:\tlearn: 0.1262197\ttotal: 6m 44s\tremaining: 7m 35s\n",
      "235:\tlearn: 0.1260472\ttotal: 6m 46s\tremaining: 7m 34s\n",
      "236:\tlearn: 0.1258441\ttotal: 6m 47s\tremaining: 7m 32s\n",
      "237:\tlearn: 0.1257690\ttotal: 6m 49s\tremaining: 7m 30s\n",
      "238:\tlearn: 0.1256243\ttotal: 6m 51s\tremaining: 7m 29s\n",
      "239:\tlearn: 0.1255162\ttotal: 6m 52s\tremaining: 7m 27s\n",
      "240:\tlearn: 0.1254156\ttotal: 6m 54s\tremaining: 7m 25s\n",
      "241:\tlearn: 0.1252809\ttotal: 6m 56s\tremaining: 7m 24s\n",
      "242:\tlearn: 0.1251508\ttotal: 6m 58s\tremaining: 7m 22s\n",
      "243:\tlearn: 0.1249747\ttotal: 7m\tremaining: 7m 20s\n",
      "244:\tlearn: 0.1249028\ttotal: 7m 1s\tremaining: 7m 18s\n",
      "245:\tlearn: 0.1247677\ttotal: 7m 3s\tremaining: 7m 17s\n",
      "246:\tlearn: 0.1246274\ttotal: 7m 5s\tremaining: 7m 15s\n",
      "247:\tlearn: 0.1245629\ttotal: 7m 6s\tremaining: 7m 13s\n",
      "248:\tlearn: 0.1244986\ttotal: 7m 8s\tremaining: 7m 11s\n",
      "249:\tlearn: 0.1244094\ttotal: 7m 9s\tremaining: 7m 9s\n",
      "250:\tlearn: 0.1243481\ttotal: 7m 11s\tremaining: 7m 8s\n",
      "251:\tlearn: 0.1242250\ttotal: 7m 13s\tremaining: 7m 6s\n",
      "252:\tlearn: 0.1240687\ttotal: 7m 14s\tremaining: 7m 4s\n",
      "253:\tlearn: 0.1239768\ttotal: 7m 16s\tremaining: 7m 2s\n",
      "254:\tlearn: 0.1237681\ttotal: 7m 18s\tremaining: 7m 1s\n",
      "255:\tlearn: 0.1236399\ttotal: 7m 19s\tremaining: 6m 59s\n",
      "256:\tlearn: 0.1234785\ttotal: 7m 21s\tremaining: 6m 57s\n",
      "257:\tlearn: 0.1234227\ttotal: 7m 23s\tremaining: 6m 55s\n",
      "258:\tlearn: 0.1233617\ttotal: 7m 25s\tremaining: 6m 54s\n",
      "259:\tlearn: 0.1232937\ttotal: 7m 26s\tremaining: 6m 52s\n",
      "260:\tlearn: 0.1232346\ttotal: 7m 28s\tremaining: 6m 50s\n",
      "261:\tlearn: 0.1231757\ttotal: 7m 30s\tremaining: 6m 48s\n",
      "262:\tlearn: 0.1230572\ttotal: 7m 31s\tremaining: 6m 47s\n",
      "263:\tlearn: 0.1229233\ttotal: 7m 33s\tremaining: 6m 45s\n",
      "264:\tlearn: 0.1228357\ttotal: 7m 35s\tremaining: 6m 43s\n",
      "265:\tlearn: 0.1226409\ttotal: 7m 36s\tremaining: 6m 42s\n",
      "266:\tlearn: 0.1225847\ttotal: 7m 38s\tremaining: 6m 40s\n",
      "267:\tlearn: 0.1225279\ttotal: 7m 40s\tremaining: 6m 38s\n",
      "268:\tlearn: 0.1224691\ttotal: 7m 41s\tremaining: 6m 36s\n",
      "269:\tlearn: 0.1223146\ttotal: 7m 43s\tremaining: 6m 34s\n",
      "270:\tlearn: 0.1222611\ttotal: 7m 45s\tremaining: 6m 33s\n",
      "271:\tlearn: 0.1221866\ttotal: 7m 46s\tremaining: 6m 31s\n",
      "272:\tlearn: 0.1219919\ttotal: 7m 48s\tremaining: 6m 29s\n",
      "273:\tlearn: 0.1218567\ttotal: 7m 50s\tremaining: 6m 27s\n",
      "274:\tlearn: 0.1218033\ttotal: 7m 51s\tremaining: 6m 26s\n",
      "275:\tlearn: 0.1217327\ttotal: 7m 53s\tremaining: 6m 24s\n",
      "276:\tlearn: 0.1216096\ttotal: 7m 55s\tremaining: 6m 22s\n",
      "277:\tlearn: 0.1215496\ttotal: 7m 56s\tremaining: 6m 20s\n",
      "278:\tlearn: 0.1214938\ttotal: 7m 58s\tremaining: 6m 19s\n",
      "279:\tlearn: 0.1213537\ttotal: 8m\tremaining: 6m 17s\n",
      "280:\tlearn: 0.1212137\ttotal: 8m 1s\tremaining: 6m 15s\n",
      "281:\tlearn: 0.1210684\ttotal: 8m 3s\tremaining: 6m 13s\n",
      "282:\tlearn: 0.1210143\ttotal: 8m 5s\tremaining: 6m 12s\n",
      "283:\tlearn: 0.1208849\ttotal: 8m 7s\tremaining: 6m 10s\n",
      "284:\tlearn: 0.1208324\ttotal: 8m 8s\tremaining: 6m 8s\n",
      "285:\tlearn: 0.1206652\ttotal: 8m 10s\tremaining: 6m 6s\n",
      "286:\tlearn: 0.1205345\ttotal: 8m 11s\tremaining: 6m 5s\n",
      "287:\tlearn: 0.1204825\ttotal: 8m 13s\tremaining: 6m 3s\n",
      "288:\tlearn: 0.1204290\ttotal: 8m 15s\tremaining: 6m 1s\n",
      "289:\tlearn: 0.1203449\ttotal: 8m 16s\tremaining: 5m 59s\n",
      "290:\tlearn: 0.1202948\ttotal: 8m 18s\tremaining: 5m 57s\n",
      "291:\tlearn: 0.1202291\ttotal: 8m 20s\tremaining: 5m 56s\n",
      "292:\tlearn: 0.1201784\ttotal: 8m 21s\tremaining: 5m 54s\n",
      "293:\tlearn: 0.1201314\ttotal: 8m 23s\tremaining: 5m 52s\n",
      "294:\tlearn: 0.1199838\ttotal: 8m 25s\tremaining: 5m 50s\n",
      "295:\tlearn: 0.1198172\ttotal: 8m 26s\tremaining: 5m 49s\n",
      "296:\tlearn: 0.1197017\ttotal: 8m 28s\tremaining: 5m 47s\n",
      "297:\tlearn: 0.1195661\ttotal: 8m 30s\tremaining: 5m 45s\n",
      "298:\tlearn: 0.1195183\ttotal: 8m 31s\tremaining: 5m 44s\n",
      "299:\tlearn: 0.1194605\ttotal: 8m 33s\tremaining: 5m 42s\n",
      "300:\tlearn: 0.1194092\ttotal: 8m 34s\tremaining: 5m 40s\n",
      "301:\tlearn: 0.1193590\ttotal: 8m 36s\tremaining: 5m 38s\n",
      "302:\tlearn: 0.1193137\ttotal: 8m 38s\tremaining: 5m 37s\n",
      "303:\tlearn: 0.1191460\ttotal: 8m 40s\tremaining: 5m 35s\n",
      "304:\tlearn: 0.1190925\ttotal: 8m 41s\tremaining: 5m 33s\n",
      "305:\tlearn: 0.1190122\ttotal: 8m 43s\tremaining: 5m 31s\n",
      "306:\tlearn: 0.1189555\ttotal: 8m 45s\tremaining: 5m 30s\n",
      "307:\tlearn: 0.1189086\ttotal: 8m 46s\tremaining: 5m 28s\n",
      "308:\tlearn: 0.1187533\ttotal: 8m 48s\tremaining: 5m 26s\n",
      "309:\tlearn: 0.1185924\ttotal: 8m 50s\tremaining: 5m 24s\n",
      "310:\tlearn: 0.1185453\ttotal: 8m 51s\tremaining: 5m 23s\n",
      "311:\tlearn: 0.1185003\ttotal: 8m 53s\tremaining: 5m 21s\n",
      "312:\tlearn: 0.1183493\ttotal: 8m 55s\tremaining: 5m 19s\n",
      "313:\tlearn: 0.1182470\ttotal: 8m 56s\tremaining: 5m 18s\n",
      "314:\tlearn: 0.1182027\ttotal: 8m 58s\tremaining: 5m 16s\n",
      "315:\tlearn: 0.1181440\ttotal: 9m\tremaining: 5m 14s\n",
      "316:\tlearn: 0.1180995\ttotal: 9m 1s\tremaining: 5m 12s\n",
      "317:\tlearn: 0.1180152\ttotal: 9m 3s\tremaining: 5m 10s\n",
      "318:\tlearn: 0.1179694\ttotal: 9m 4s\tremaining: 5m 9s\n",
      "319:\tlearn: 0.1179262\ttotal: 9m 6s\tremaining: 5m 7s\n",
      "320:\tlearn: 0.1177894\ttotal: 9m 8s\tremaining: 5m 5s\n",
      "321:\tlearn: 0.1177266\ttotal: 9m 10s\tremaining: 5m 4s\n",
      "322:\tlearn: 0.1176820\ttotal: 9m 11s\tremaining: 5m 2s\n",
      "323:\tlearn: 0.1176403\ttotal: 9m 13s\tremaining: 5m\n",
      "324:\tlearn: 0.1175816\ttotal: 9m 15s\tremaining: 4m 58s\n",
      "325:\tlearn: 0.1175431\ttotal: 9m 16s\tremaining: 4m 57s\n",
      "326:\tlearn: 0.1174202\ttotal: 9m 18s\tremaining: 4m 55s\n",
      "327:\tlearn: 0.1173708\ttotal: 9m 20s\tremaining: 4m 53s\n",
      "328:\tlearn: 0.1173202\ttotal: 9m 21s\tremaining: 4m 51s\n",
      "329:\tlearn: 0.1172229\ttotal: 9m 23s\tremaining: 4m 50s\n",
      "330:\tlearn: 0.1171407\ttotal: 9m 25s\tremaining: 4m 48s\n",
      "331:\tlearn: 0.1170367\ttotal: 9m 26s\tremaining: 4m 46s\n",
      "332:\tlearn: 0.1169791\ttotal: 9m 28s\tremaining: 4m 45s\n",
      "333:\tlearn: 0.1168494\ttotal: 9m 30s\tremaining: 4m 43s\n",
      "334:\tlearn: 0.1166594\ttotal: 9m 32s\tremaining: 4m 41s\n",
      "335:\tlearn: 0.1165723\ttotal: 9m 33s\tremaining: 4m 40s\n",
      "336:\tlearn: 0.1164743\ttotal: 9m 35s\tremaining: 4m 38s\n",
      "337:\tlearn: 0.1164291\ttotal: 9m 36s\tremaining: 4m 36s\n",
      "338:\tlearn: 0.1163182\ttotal: 9m 38s\tremaining: 4m 34s\n",
      "339:\tlearn: 0.1162169\ttotal: 9m 40s\tremaining: 4m 33s\n",
      "340:\tlearn: 0.1160890\ttotal: 9m 41s\tremaining: 4m 31s\n",
      "341:\tlearn: 0.1160432\ttotal: 9m 43s\tremaining: 4m 29s\n",
      "342:\tlearn: 0.1159235\ttotal: 9m 45s\tremaining: 4m 27s\n",
      "343:\tlearn: 0.1158644\ttotal: 9m 46s\tremaining: 4m 26s\n",
      "344:\tlearn: 0.1158194\ttotal: 9m 48s\tremaining: 4m 24s\n",
      "345:\tlearn: 0.1157622\ttotal: 9m 49s\tremaining: 4m 22s\n",
      "346:\tlearn: 0.1155582\ttotal: 9m 51s\tremaining: 4m 20s\n",
      "347:\tlearn: 0.1154444\ttotal: 9m 53s\tremaining: 4m 19s\n",
      "348:\tlearn: 0.1153354\ttotal: 9m 54s\tremaining: 4m 17s\n",
      "349:\tlearn: 0.1152885\ttotal: 9m 56s\tremaining: 4m 15s\n",
      "350:\tlearn: 0.1152313\ttotal: 9m 57s\tremaining: 4m 13s\n",
      "351:\tlearn: 0.1151208\ttotal: 9m 59s\tremaining: 4m 12s\n",
      "352:\tlearn: 0.1150782\ttotal: 10m 1s\tremaining: 4m 10s\n",
      "353:\tlearn: 0.1149300\ttotal: 10m 2s\tremaining: 4m 8s\n",
      "354:\tlearn: 0.1148504\ttotal: 10m 4s\tremaining: 4m 6s\n",
      "355:\tlearn: 0.1146938\ttotal: 10m 6s\tremaining: 4m 5s\n",
      "356:\tlearn: 0.1145453\ttotal: 10m 7s\tremaining: 4m 3s\n",
      "357:\tlearn: 0.1144495\ttotal: 10m 9s\tremaining: 4m 1s\n",
      "358:\tlearn: 0.1144083\ttotal: 10m 11s\tremaining: 3m 59s\n",
      "359:\tlearn: 0.1143498\ttotal: 10m 12s\tremaining: 3m 58s\n",
      "360:\tlearn: 0.1142822\ttotal: 10m 14s\tremaining: 3m 56s\n",
      "361:\tlearn: 0.1141627\ttotal: 10m 15s\tremaining: 3m 54s\n",
      "362:\tlearn: 0.1140566\ttotal: 10m 17s\tremaining: 3m 52s\n",
      "363:\tlearn: 0.1140163\ttotal: 10m 18s\tremaining: 3m 51s\n",
      "364:\tlearn: 0.1139754\ttotal: 10m 20s\tremaining: 3m 49s\n",
      "365:\tlearn: 0.1138904\ttotal: 10m 21s\tremaining: 3m 47s\n",
      "366:\tlearn: 0.1138392\ttotal: 10m 23s\tremaining: 3m 45s\n",
      "367:\tlearn: 0.1137502\ttotal: 10m 25s\tremaining: 3m 44s\n",
      "368:\tlearn: 0.1137085\ttotal: 10m 26s\tremaining: 3m 42s\n",
      "369:\tlearn: 0.1136140\ttotal: 10m 28s\tremaining: 3m 40s\n",
      "370:\tlearn: 0.1135720\ttotal: 10m 29s\tremaining: 3m 38s\n",
      "371:\tlearn: 0.1135236\ttotal: 10m 31s\tremaining: 3m 37s\n",
      "372:\tlearn: 0.1134026\ttotal: 10m 32s\tremaining: 3m 35s\n",
      "373:\tlearn: 0.1133642\ttotal: 10m 34s\tremaining: 3m 33s\n",
      "374:\tlearn: 0.1132545\ttotal: 10m 36s\tremaining: 3m 32s\n",
      "375:\tlearn: 0.1131744\ttotal: 10m 37s\tremaining: 3m 30s\n",
      "376:\tlearn: 0.1131231\ttotal: 10m 39s\tremaining: 3m 28s\n",
      "377:\tlearn: 0.1129494\ttotal: 10m 40s\tremaining: 3m 26s\n",
      "378:\tlearn: 0.1128748\ttotal: 10m 42s\tremaining: 3m 25s\n",
      "379:\tlearn: 0.1127674\ttotal: 10m 44s\tremaining: 3m 23s\n",
      "380:\tlearn: 0.1126491\ttotal: 10m 45s\tremaining: 3m 21s\n",
      "381:\tlearn: 0.1126072\ttotal: 10m 47s\tremaining: 3m 19s\n",
      "382:\tlearn: 0.1124868\ttotal: 10m 49s\tremaining: 3m 18s\n",
      "383:\tlearn: 0.1124460\ttotal: 10m 50s\tremaining: 3m 16s\n",
      "384:\tlearn: 0.1123942\ttotal: 10m 52s\tremaining: 3m 14s\n",
      "385:\tlearn: 0.1123579\ttotal: 10m 53s\tremaining: 3m 13s\n",
      "386:\tlearn: 0.1122684\ttotal: 10m 55s\tremaining: 3m 11s\n",
      "387:\tlearn: 0.1121406\ttotal: 10m 57s\tremaining: 3m 9s\n",
      "388:\tlearn: 0.1121024\ttotal: 10m 58s\tremaining: 3m 8s\n",
      "389:\tlearn: 0.1119908\ttotal: 11m\tremaining: 3m 6s\n",
      "390:\tlearn: 0.1119418\ttotal: 11m 1s\tremaining: 3m 4s\n",
      "391:\tlearn: 0.1119038\ttotal: 11m 3s\tremaining: 3m 2s\n",
      "392:\tlearn: 0.1118669\ttotal: 11m 5s\tremaining: 3m 1s\n",
      "393:\tlearn: 0.1117194\ttotal: 11m 6s\tremaining: 2m 59s\n",
      "394:\tlearn: 0.1116819\ttotal: 11m 8s\tremaining: 2m 57s\n",
      "395:\tlearn: 0.1115883\ttotal: 11m 9s\tremaining: 2m 55s\n",
      "396:\tlearn: 0.1115114\ttotal: 11m 11s\tremaining: 2m 54s\n",
      "397:\tlearn: 0.1113750\ttotal: 11m 13s\tremaining: 2m 52s\n",
      "398:\tlearn: 0.1112914\ttotal: 11m 14s\tremaining: 2m 50s\n",
      "399:\tlearn: 0.1111968\ttotal: 11m 16s\tremaining: 2m 49s\n",
      "400:\tlearn: 0.1111593\ttotal: 11m 17s\tremaining: 2m 47s\n",
      "401:\tlearn: 0.1111220\ttotal: 11m 19s\tremaining: 2m 45s\n",
      "402:\tlearn: 0.1110424\ttotal: 11m 20s\tremaining: 2m 43s\n",
      "403:\tlearn: 0.1109997\ttotal: 11m 22s\tremaining: 2m 42s\n",
      "404:\tlearn: 0.1109632\ttotal: 11m 24s\tremaining: 2m 40s\n",
      "405:\tlearn: 0.1109206\ttotal: 11m 25s\tremaining: 2m 38s\n",
      "406:\tlearn: 0.1108863\ttotal: 11m 27s\tremaining: 2m 37s\n",
      "407:\tlearn: 0.1108467\ttotal: 11m 28s\tremaining: 2m 35s\n",
      "408:\tlearn: 0.1108099\ttotal: 11m 30s\tremaining: 2m 33s\n",
      "409:\tlearn: 0.1107656\ttotal: 11m 31s\tremaining: 2m 31s\n",
      "410:\tlearn: 0.1106487\ttotal: 11m 33s\tremaining: 2m 30s\n",
      "411:\tlearn: 0.1105398\ttotal: 11m 35s\tremaining: 2m 28s\n",
      "412:\tlearn: 0.1105005\ttotal: 11m 36s\tremaining: 2m 26s\n",
      "413:\tlearn: 0.1104417\ttotal: 11m 38s\tremaining: 2m 25s\n",
      "414:\tlearn: 0.1103303\ttotal: 11m 39s\tremaining: 2m 23s\n",
      "415:\tlearn: 0.1102502\ttotal: 11m 41s\tremaining: 2m 21s\n",
      "416:\tlearn: 0.1102138\ttotal: 11m 43s\tremaining: 2m 19s\n",
      "417:\tlearn: 0.1101801\ttotal: 11m 44s\tremaining: 2m 18s\n",
      "418:\tlearn: 0.1100573\ttotal: 11m 46s\tremaining: 2m 16s\n",
      "419:\tlearn: 0.1100069\ttotal: 11m 48s\tremaining: 2m 14s\n",
      "420:\tlearn: 0.1099751\ttotal: 11m 50s\tremaining: 2m 13s\n",
      "421:\tlearn: 0.1099446\ttotal: 11m 51s\tremaining: 2m 11s\n",
      "422:\tlearn: 0.1099110\ttotal: 11m 53s\tremaining: 2m 9s\n",
      "423:\tlearn: 0.1098527\ttotal: 11m 54s\tremaining: 2m 8s\n",
      "424:\tlearn: 0.1097744\ttotal: 11m 56s\tremaining: 2m 6s\n",
      "425:\tlearn: 0.1096810\ttotal: 11m 57s\tremaining: 2m 4s\n",
      "426:\tlearn: 0.1095705\ttotal: 11m 59s\tremaining: 2m 3s\n",
      "427:\tlearn: 0.1095389\ttotal: 12m 1s\tremaining: 2m 1s\n",
      "428:\tlearn: 0.1095049\ttotal: 12m 2s\tremaining: 1m 59s\n",
      "429:\tlearn: 0.1094026\ttotal: 12m 4s\tremaining: 1m 57s\n",
      "430:\tlearn: 0.1093609\ttotal: 12m 5s\tremaining: 1m 56s\n",
      "431:\tlearn: 0.1092705\ttotal: 12m 7s\tremaining: 1m 54s\n",
      "432:\tlearn: 0.1091833\ttotal: 12m 9s\tremaining: 1m 52s\n",
      "433:\tlearn: 0.1090636\ttotal: 12m 10s\tremaining: 1m 51s\n",
      "434:\tlearn: 0.1090229\ttotal: 12m 12s\tremaining: 1m 49s\n",
      "435:\tlearn: 0.1089896\ttotal: 12m 13s\tremaining: 1m 47s\n",
      "436:\tlearn: 0.1088858\ttotal: 12m 15s\tremaining: 1m 46s\n",
      "437:\tlearn: 0.1088531\ttotal: 12m 17s\tremaining: 1m 44s\n",
      "438:\tlearn: 0.1087254\ttotal: 12m 18s\tremaining: 1m 42s\n",
      "439:\tlearn: 0.1086238\ttotal: 12m 20s\tremaining: 1m 40s\n",
      "440:\tlearn: 0.1085828\ttotal: 12m 21s\tremaining: 1m 39s\n",
      "441:\tlearn: 0.1085074\ttotal: 12m 23s\tremaining: 1m 37s\n",
      "442:\tlearn: 0.1084372\ttotal: 12m 24s\tremaining: 1m 35s\n",
      "443:\tlearn: 0.1084035\ttotal: 12m 26s\tremaining: 1m 34s\n",
      "444:\tlearn: 0.1083089\ttotal: 12m 28s\tremaining: 1m 32s\n",
      "445:\tlearn: 0.1082374\ttotal: 12m 29s\tremaining: 1m 30s\n",
      "446:\tlearn: 0.1082047\ttotal: 12m 31s\tremaining: 1m 29s\n",
      "447:\tlearn: 0.1081000\ttotal: 12m 33s\tremaining: 1m 27s\n",
      "448:\tlearn: 0.1080132\ttotal: 12m 34s\tremaining: 1m 25s\n",
      "449:\tlearn: 0.1079787\ttotal: 12m 36s\tremaining: 1m 24s\n",
      "450:\tlearn: 0.1079109\ttotal: 12m 38s\tremaining: 1m 22s\n",
      "451:\tlearn: 0.1078788\ttotal: 12m 39s\tremaining: 1m 20s\n",
      "452:\tlearn: 0.1078317\ttotal: 12m 41s\tremaining: 1m 18s\n",
      "453:\tlearn: 0.1077524\ttotal: 12m 42s\tremaining: 1m 17s\n",
      "454:\tlearn: 0.1077220\ttotal: 12m 44s\tremaining: 1m 15s\n",
      "455:\tlearn: 0.1076913\ttotal: 12m 45s\tremaining: 1m 13s\n",
      "456:\tlearn: 0.1076488\ttotal: 12m 47s\tremaining: 1m 12s\n",
      "457:\tlearn: 0.1076136\ttotal: 12m 48s\tremaining: 1m 10s\n",
      "458:\tlearn: 0.1075428\ttotal: 12m 50s\tremaining: 1m 8s\n",
      "459:\tlearn: 0.1074600\ttotal: 12m 51s\tremaining: 1m 7s\n",
      "460:\tlearn: 0.1073969\ttotal: 12m 53s\tremaining: 1m 5s\n",
      "461:\tlearn: 0.1073689\ttotal: 12m 55s\tremaining: 1m 3s\n",
      "462:\tlearn: 0.1072684\ttotal: 12m 56s\tremaining: 1m 2s\n",
      "463:\tlearn: 0.1071693\ttotal: 12m 58s\tremaining: 1m\n",
      "464:\tlearn: 0.1071315\ttotal: 13m\tremaining: 58.7s\n",
      "465:\tlearn: 0.1070615\ttotal: 13m 1s\tremaining: 57s\n",
      "466:\tlearn: 0.1069815\ttotal: 13m 3s\tremaining: 55.4s\n",
      "467:\tlearn: 0.1069108\ttotal: 13m 4s\tremaining: 53.7s\n",
      "468:\tlearn: 0.1067698\ttotal: 13m 6s\tremaining: 52s\n",
      "469:\tlearn: 0.1067362\ttotal: 13m 8s\tremaining: 50.3s\n",
      "470:\tlearn: 0.1066927\ttotal: 13m 9s\tremaining: 48.6s\n",
      "471:\tlearn: 0.1065861\ttotal: 13m 11s\tremaining: 46.9s\n",
      "472:\tlearn: 0.1065556\ttotal: 13m 12s\tremaining: 45.3s\n",
      "473:\tlearn: 0.1063896\ttotal: 13m 14s\tremaining: 43.6s\n",
      "474:\tlearn: 0.1062768\ttotal: 13m 16s\tremaining: 41.9s\n",
      "475:\tlearn: 0.1062437\ttotal: 13m 18s\tremaining: 40.2s\n",
      "476:\tlearn: 0.1062129\ttotal: 13m 19s\tremaining: 38.6s\n",
      "477:\tlearn: 0.1061324\ttotal: 13m 21s\tremaining: 36.9s\n",
      "478:\tlearn: 0.1060276\ttotal: 13m 22s\tremaining: 35.2s\n",
      "479:\tlearn: 0.1059518\ttotal: 13m 24s\tremaining: 33.5s\n",
      "480:\tlearn: 0.1058825\ttotal: 13m 26s\tremaining: 31.9s\n",
      "481:\tlearn: 0.1057934\ttotal: 13m 28s\tremaining: 30.2s\n",
      "482:\tlearn: 0.1056945\ttotal: 13m 29s\tremaining: 28.5s\n",
      "483:\tlearn: 0.1056630\ttotal: 13m 31s\tremaining: 26.8s\n",
      "484:\tlearn: 0.1055714\ttotal: 13m 33s\tremaining: 25.1s\n",
      "485:\tlearn: 0.1055446\ttotal: 13m 34s\tremaining: 23.5s\n",
      "486:\tlearn: 0.1054718\ttotal: 13m 36s\tremaining: 21.8s\n",
      "487:\tlearn: 0.1054316\ttotal: 13m 37s\tremaining: 20.1s\n",
      "488:\tlearn: 0.1053516\ttotal: 13m 39s\tremaining: 18.4s\n",
      "489:\tlearn: 0.1053155\ttotal: 13m 41s\tremaining: 16.8s\n",
      "490:\tlearn: 0.1052857\ttotal: 13m 42s\tremaining: 15.1s\n",
      "491:\tlearn: 0.1051946\ttotal: 13m 44s\tremaining: 13.4s\n",
      "492:\tlearn: 0.1050957\ttotal: 13m 45s\tremaining: 11.7s\n",
      "493:\tlearn: 0.1049819\ttotal: 13m 47s\tremaining: 10.1s\n",
      "494:\tlearn: 0.1048831\ttotal: 13m 49s\tremaining: 8.38s\n",
      "495:\tlearn: 0.1048025\ttotal: 13m 51s\tremaining: 6.7s\n",
      "496:\tlearn: 0.1046605\ttotal: 13m 52s\tremaining: 5.03s\n",
      "497:\tlearn: 0.1045888\ttotal: 13m 54s\tremaining: 3.35s\n",
      "498:\tlearn: 0.1045594\ttotal: 13m 56s\tremaining: 1.68s\n",
      "499:\tlearn: 0.1045138\ttotal: 13m 57s\tremaining: 0us\n",
      "Learning rate set to 0.136328\n",
      "0:\tlearn: 0.5585783\ttotal: 2.39s\tremaining: 19m 54s\n",
      "1:\tlearn: 0.4636592\ttotal: 4.22s\tremaining: 17m 31s\n",
      "2:\tlearn: 0.3974418\ttotal: 6.04s\tremaining: 16m 40s\n",
      "3:\tlearn: 0.3522167\ttotal: 7.95s\tremaining: 16m 25s\n",
      "4:\tlearn: 0.3188030\ttotal: 9.68s\tremaining: 15m 58s\n",
      "5:\tlearn: 0.2941935\ttotal: 11.4s\tremaining: 15m 38s\n",
      "6:\tlearn: 0.2763814\ttotal: 13.1s\tremaining: 15m 23s\n",
      "7:\tlearn: 0.2612111\ttotal: 14.9s\tremaining: 15m 13s\n",
      "8:\tlearn: 0.2511008\ttotal: 16.7s\tremaining: 15m 9s\n",
      "9:\tlearn: 0.2428751\ttotal: 18.4s\tremaining: 15m 2s\n",
      "10:\tlearn: 0.2365804\ttotal: 20.1s\tremaining: 14m 54s\n",
      "11:\tlearn: 0.2313469\ttotal: 21.8s\tremaining: 14m 48s\n",
      "12:\tlearn: 0.2271430\ttotal: 23.6s\tremaining: 14m 44s\n",
      "13:\tlearn: 0.2229816\ttotal: 25.4s\tremaining: 14m 42s\n",
      "14:\tlearn: 0.2198546\ttotal: 27.3s\tremaining: 14m 43s\n",
      "15:\tlearn: 0.2170321\ttotal: 29.2s\tremaining: 14m 43s\n",
      "16:\tlearn: 0.2145694\ttotal: 31s\tremaining: 14m 40s\n",
      "17:\tlearn: 0.2124622\ttotal: 32.8s\tremaining: 14m 38s\n",
      "18:\tlearn: 0.2100243\ttotal: 34.6s\tremaining: 14m 36s\n",
      "19:\tlearn: 0.2081040\ttotal: 36.4s\tremaining: 14m 34s\n",
      "20:\tlearn: 0.2065354\ttotal: 38.3s\tremaining: 14m 32s\n",
      "21:\tlearn: 0.2049176\ttotal: 40s\tremaining: 14m 28s\n",
      "22:\tlearn: 0.2035713\ttotal: 41.7s\tremaining: 14m 23s\n",
      "23:\tlearn: 0.2019293\ttotal: 43.4s\tremaining: 14m 20s\n",
      "24:\tlearn: 0.2003356\ttotal: 45.1s\tremaining: 14m 16s\n",
      "25:\tlearn: 0.1990961\ttotal: 46.9s\tremaining: 14m 14s\n",
      "26:\tlearn: 0.1979067\ttotal: 48.6s\tremaining: 14m 11s\n",
      "27:\tlearn: 0.1967009\ttotal: 50.2s\tremaining: 14m 6s\n",
      "28:\tlearn: 0.1957235\ttotal: 51.9s\tremaining: 14m 2s\n",
      "29:\tlearn: 0.1944949\ttotal: 53.5s\tremaining: 13m 58s\n",
      "30:\tlearn: 0.1929991\ttotal: 55.2s\tremaining: 13m 55s\n",
      "31:\tlearn: 0.1919107\ttotal: 57s\tremaining: 13m 53s\n",
      "32:\tlearn: 0.1908647\ttotal: 58.7s\tremaining: 13m 50s\n",
      "33:\tlearn: 0.1900446\ttotal: 1m\tremaining: 13m 46s\n",
      "34:\tlearn: 0.1891098\ttotal: 1m 2s\tremaining: 13m 44s\n",
      "35:\tlearn: 0.1882637\ttotal: 1m 3s\tremaining: 13m 41s\n",
      "36:\tlearn: 0.1874392\ttotal: 1m 5s\tremaining: 13m 38s\n",
      "37:\tlearn: 0.1864858\ttotal: 1m 7s\tremaining: 13m 36s\n",
      "38:\tlearn: 0.1852782\ttotal: 1m 8s\tremaining: 13m 33s\n",
      "39:\tlearn: 0.1843834\ttotal: 1m 10s\tremaining: 13m 30s\n",
      "40:\tlearn: 0.1834980\ttotal: 1m 12s\tremaining: 13m 27s\n",
      "41:\tlearn: 0.1825221\ttotal: 1m 13s\tremaining: 13m 24s\n",
      "42:\tlearn: 0.1816150\ttotal: 1m 15s\tremaining: 13m 22s\n",
      "43:\tlearn: 0.1810065\ttotal: 1m 17s\tremaining: 13m 20s\n",
      "44:\tlearn: 0.1804043\ttotal: 1m 18s\tremaining: 13m 17s\n",
      "45:\tlearn: 0.1798335\ttotal: 1m 20s\tremaining: 13m 14s\n",
      "46:\tlearn: 0.1791628\ttotal: 1m 22s\tremaining: 13m 11s\n",
      "47:\tlearn: 0.1785550\ttotal: 1m 23s\tremaining: 13m 8s\n",
      "48:\tlearn: 0.1777201\ttotal: 1m 25s\tremaining: 13m 5s\n",
      "49:\tlearn: 0.1771886\ttotal: 1m 27s\tremaining: 13m 3s\n",
      "50:\tlearn: 0.1765602\ttotal: 1m 28s\tremaining: 13m 2s\n",
      "51:\tlearn: 0.1760085\ttotal: 1m 30s\tremaining: 13m 1s\n",
      "52:\tlearn: 0.1753966\ttotal: 1m 32s\tremaining: 12m 58s\n",
      "53:\tlearn: 0.1746764\ttotal: 1m 34s\tremaining: 12m 57s\n",
      "54:\tlearn: 0.1741720\ttotal: 1m 35s\tremaining: 12m 54s\n",
      "55:\tlearn: 0.1735488\ttotal: 1m 37s\tremaining: 12m 53s\n",
      "56:\tlearn: 0.1730199\ttotal: 1m 39s\tremaining: 12m 51s\n",
      "57:\tlearn: 0.1725610\ttotal: 1m 40s\tremaining: 12m 48s\n",
      "58:\tlearn: 0.1719250\ttotal: 1m 42s\tremaining: 12m 45s\n",
      "59:\tlearn: 0.1712932\ttotal: 1m 44s\tremaining: 12m 43s\n",
      "60:\tlearn: 0.1708245\ttotal: 1m 45s\tremaining: 12m 41s\n",
      "61:\tlearn: 0.1703181\ttotal: 1m 47s\tremaining: 12m 40s\n",
      "62:\tlearn: 0.1698776\ttotal: 1m 49s\tremaining: 12m 37s\n",
      "63:\tlearn: 0.1692604\ttotal: 1m 50s\tremaining: 12m 35s\n",
      "64:\tlearn: 0.1688180\ttotal: 1m 52s\tremaining: 12m 32s\n",
      "65:\tlearn: 0.1684109\ttotal: 1m 54s\tremaining: 12m 30s\n",
      "66:\tlearn: 0.1679794\ttotal: 1m 55s\tremaining: 12m 27s\n",
      "67:\tlearn: 0.1674941\ttotal: 1m 57s\tremaining: 12m 25s\n",
      "68:\tlearn: 0.1671307\ttotal: 1m 59s\tremaining: 12m 24s\n",
      "69:\tlearn: 0.1666439\ttotal: 2m\tremaining: 12m 22s\n",
      "70:\tlearn: 0.1662582\ttotal: 2m 2s\tremaining: 12m 20s\n",
      "71:\tlearn: 0.1658944\ttotal: 2m 4s\tremaining: 12m 18s\n",
      "72:\tlearn: 0.1655214\ttotal: 2m 5s\tremaining: 12m 16s\n",
      "73:\tlearn: 0.1650177\ttotal: 2m 7s\tremaining: 12m 14s\n",
      "74:\tlearn: 0.1643070\ttotal: 2m 9s\tremaining: 12m 12s\n",
      "75:\tlearn: 0.1639048\ttotal: 2m 10s\tremaining: 12m 10s\n",
      "76:\tlearn: 0.1635066\ttotal: 2m 12s\tremaining: 12m 7s\n",
      "77:\tlearn: 0.1631945\ttotal: 2m 14s\tremaining: 12m 5s\n",
      "78:\tlearn: 0.1627968\ttotal: 2m 15s\tremaining: 12m 3s\n",
      "79:\tlearn: 0.1624610\ttotal: 2m 17s\tremaining: 12m 2s\n",
      "80:\tlearn: 0.1621124\ttotal: 2m 19s\tremaining: 12m\n",
      "81:\tlearn: 0.1616775\ttotal: 2m 21s\tremaining: 11m 59s\n",
      "82:\tlearn: 0.1613872\ttotal: 2m 22s\tremaining: 11m 56s\n",
      "83:\tlearn: 0.1610519\ttotal: 2m 24s\tremaining: 11m 54s\n",
      "84:\tlearn: 0.1605828\ttotal: 2m 26s\tremaining: 11m 53s\n",
      "85:\tlearn: 0.1602574\ttotal: 2m 27s\tremaining: 11m 52s\n",
      "86:\tlearn: 0.1599544\ttotal: 2m 29s\tremaining: 11m 50s\n",
      "87:\tlearn: 0.1593068\ttotal: 2m 31s\tremaining: 11m 48s\n",
      "88:\tlearn: 0.1587840\ttotal: 2m 33s\tremaining: 11m 47s\n",
      "89:\tlearn: 0.1584924\ttotal: 2m 34s\tremaining: 11m 45s\n",
      "90:\tlearn: 0.1581294\ttotal: 2m 36s\tremaining: 11m 43s\n",
      "91:\tlearn: 0.1577115\ttotal: 2m 38s\tremaining: 11m 42s\n",
      "92:\tlearn: 0.1572736\ttotal: 2m 39s\tremaining: 11m 40s\n",
      "93:\tlearn: 0.1568248\ttotal: 2m 41s\tremaining: 11m 37s\n",
      "94:\tlearn: 0.1565249\ttotal: 2m 43s\tremaining: 11m 35s\n",
      "95:\tlearn: 0.1560833\ttotal: 2m 44s\tremaining: 11m 33s\n",
      "96:\tlearn: 0.1556450\ttotal: 2m 46s\tremaining: 11m 32s\n",
      "97:\tlearn: 0.1553815\ttotal: 2m 48s\tremaining: 11m 30s\n",
      "98:\tlearn: 0.1549429\ttotal: 2m 49s\tremaining: 11m 28s\n",
      "99:\tlearn: 0.1546981\ttotal: 2m 51s\tremaining: 11m 26s\n",
      "100:\tlearn: 0.1543047\ttotal: 2m 53s\tremaining: 11m 23s\n",
      "101:\tlearn: 0.1538984\ttotal: 2m 54s\tremaining: 11m 21s\n",
      "102:\tlearn: 0.1535518\ttotal: 2m 56s\tremaining: 11m 20s\n",
      "103:\tlearn: 0.1532450\ttotal: 2m 58s\tremaining: 11m 18s\n",
      "104:\tlearn: 0.1528807\ttotal: 2m 59s\tremaining: 11m 16s\n",
      "105:\tlearn: 0.1526099\ttotal: 3m 1s\tremaining: 11m 13s\n",
      "106:\tlearn: 0.1523369\ttotal: 3m 2s\tremaining: 11m 11s\n",
      "107:\tlearn: 0.1520620\ttotal: 3m 4s\tremaining: 11m 9s\n",
      "108:\tlearn: 0.1518483\ttotal: 3m 6s\tremaining: 11m 7s\n",
      "109:\tlearn: 0.1515895\ttotal: 3m 8s\tremaining: 11m 6s\n",
      "110:\tlearn: 0.1513035\ttotal: 3m 9s\tremaining: 11m 5s\n",
      "111:\tlearn: 0.1510230\ttotal: 3m 11s\tremaining: 11m 2s\n",
      "112:\tlearn: 0.1507214\ttotal: 3m 13s\tremaining: 11m 1s\n",
      "113:\tlearn: 0.1503420\ttotal: 3m 14s\tremaining: 10m 59s\n",
      "114:\tlearn: 0.1500859\ttotal: 3m 16s\tremaining: 10m 57s\n",
      "115:\tlearn: 0.1497761\ttotal: 3m 17s\tremaining: 10m 55s\n",
      "116:\tlearn: 0.1495622\ttotal: 3m 19s\tremaining: 10m 53s\n",
      "117:\tlearn: 0.1492798\ttotal: 3m 21s\tremaining: 10m 51s\n",
      "118:\tlearn: 0.1488398\ttotal: 3m 22s\tremaining: 10m 48s\n",
      "119:\tlearn: 0.1485110\ttotal: 3m 24s\tremaining: 10m 47s\n",
      "120:\tlearn: 0.1482234\ttotal: 3m 26s\tremaining: 10m 46s\n",
      "121:\tlearn: 0.1478742\ttotal: 3m 28s\tremaining: 10m 44s\n",
      "122:\tlearn: 0.1476185\ttotal: 3m 30s\tremaining: 10m 43s\n",
      "123:\tlearn: 0.1473279\ttotal: 3m 32s\tremaining: 10m 42s\n",
      "124:\tlearn: 0.1470297\ttotal: 3m 33s\tremaining: 10m 41s\n",
      "125:\tlearn: 0.1468334\ttotal: 3m 35s\tremaining: 10m 40s\n",
      "126:\tlearn: 0.1465826\ttotal: 3m 37s\tremaining: 10m 38s\n",
      "127:\tlearn: 0.1463930\ttotal: 3m 39s\tremaining: 10m 37s\n",
      "128:\tlearn: 0.1461305\ttotal: 3m 41s\tremaining: 10m 35s\n",
      "129:\tlearn: 0.1456885\ttotal: 3m 42s\tremaining: 10m 34s\n",
      "130:\tlearn: 0.1454363\ttotal: 3m 44s\tremaining: 10m 32s\n",
      "131:\tlearn: 0.1452126\ttotal: 3m 46s\tremaining: 10m 31s\n",
      "132:\tlearn: 0.1450156\ttotal: 3m 48s\tremaining: 10m 29s\n",
      "133:\tlearn: 0.1447706\ttotal: 3m 50s\tremaining: 10m 28s\n",
      "134:\tlearn: 0.1445267\ttotal: 3m 51s\tremaining: 10m 26s\n",
      "135:\tlearn: 0.1442960\ttotal: 3m 53s\tremaining: 10m 25s\n",
      "136:\tlearn: 0.1441060\ttotal: 3m 55s\tremaining: 10m 23s\n",
      "137:\tlearn: 0.1439574\ttotal: 3m 57s\tremaining: 10m 21s\n",
      "138:\tlearn: 0.1436438\ttotal: 3m 58s\tremaining: 10m 20s\n",
      "139:\tlearn: 0.1434185\ttotal: 4m\tremaining: 10m 18s\n",
      "140:\tlearn: 0.1432154\ttotal: 4m 2s\tremaining: 10m 17s\n",
      "141:\tlearn: 0.1430103\ttotal: 4m 4s\tremaining: 10m 16s\n",
      "142:\tlearn: 0.1427644\ttotal: 4m 6s\tremaining: 10m 14s\n",
      "143:\tlearn: 0.1425685\ttotal: 4m 8s\tremaining: 10m 14s\n",
      "144:\tlearn: 0.1423776\ttotal: 4m 10s\tremaining: 10m 12s\n",
      "145:\tlearn: 0.1422080\ttotal: 4m 12s\tremaining: 10m 11s\n",
      "146:\tlearn: 0.1419261\ttotal: 4m 13s\tremaining: 10m 9s\n",
      "147:\tlearn: 0.1415325\ttotal: 4m 15s\tremaining: 10m 8s\n",
      "148:\tlearn: 0.1411201\ttotal: 4m 17s\tremaining: 10m 7s\n",
      "149:\tlearn: 0.1410012\ttotal: 4m 19s\tremaining: 10m 5s\n",
      "150:\tlearn: 0.1408794\ttotal: 4m 21s\tremaining: 10m 3s\n",
      "151:\tlearn: 0.1406241\ttotal: 4m 22s\tremaining: 10m 1s\n",
      "152:\tlearn: 0.1403376\ttotal: 4m 24s\tremaining: 10m\n",
      "153:\tlearn: 0.1400801\ttotal: 4m 26s\tremaining: 9m 59s\n",
      "154:\tlearn: 0.1398998\ttotal: 4m 28s\tremaining: 9m 57s\n",
      "155:\tlearn: 0.1396877\ttotal: 4m 30s\tremaining: 9m 56s\n",
      "156:\tlearn: 0.1394120\ttotal: 4m 32s\tremaining: 9m 55s\n",
      "157:\tlearn: 0.1392757\ttotal: 4m 34s\tremaining: 9m 53s\n",
      "158:\tlearn: 0.1389853\ttotal: 4m 36s\tremaining: 9m 52s\n",
      "159:\tlearn: 0.1388636\ttotal: 4m 37s\tremaining: 9m 50s\n",
      "160:\tlearn: 0.1387019\ttotal: 4m 39s\tremaining: 9m 48s\n",
      "161:\tlearn: 0.1385269\ttotal: 4m 41s\tremaining: 9m 46s\n",
      "162:\tlearn: 0.1383415\ttotal: 4m 43s\tremaining: 9m 45s\n",
      "163:\tlearn: 0.1380924\ttotal: 4m 44s\tremaining: 9m 43s\n",
      "164:\tlearn: 0.1379374\ttotal: 4m 46s\tremaining: 9m 42s\n",
      "165:\tlearn: 0.1375409\ttotal: 4m 48s\tremaining: 9m 40s\n",
      "166:\tlearn: 0.1372315\ttotal: 4m 50s\tremaining: 9m 39s\n",
      "167:\tlearn: 0.1371240\ttotal: 4m 52s\tremaining: 9m 37s\n",
      "168:\tlearn: 0.1369207\ttotal: 4m 54s\tremaining: 9m 35s\n",
      "169:\tlearn: 0.1367734\ttotal: 4m 55s\tremaining: 9m 34s\n",
      "170:\tlearn: 0.1366367\ttotal: 4m 57s\tremaining: 9m 32s\n",
      "171:\tlearn: 0.1364470\ttotal: 4m 59s\tremaining: 9m 30s\n",
      "172:\tlearn: 0.1362663\ttotal: 5m 1s\tremaining: 9m 29s\n",
      "173:\tlearn: 0.1361622\ttotal: 5m 2s\tremaining: 9m 27s\n",
      "174:\tlearn: 0.1360654\ttotal: 5m 4s\tremaining: 9m 25s\n",
      "175:\tlearn: 0.1359181\ttotal: 5m 6s\tremaining: 9m 23s\n",
      "176:\tlearn: 0.1357995\ttotal: 5m 8s\tremaining: 9m 22s\n",
      "177:\tlearn: 0.1356927\ttotal: 5m 9s\tremaining: 9m 20s\n",
      "178:\tlearn: 0.1355187\ttotal: 5m 11s\tremaining: 9m 18s\n",
      "179:\tlearn: 0.1352656\ttotal: 5m 13s\tremaining: 9m 17s\n",
      "180:\tlearn: 0.1350157\ttotal: 5m 15s\tremaining: 9m 15s\n",
      "181:\tlearn: 0.1348496\ttotal: 5m 17s\tremaining: 9m 14s\n",
      "182:\tlearn: 0.1346651\ttotal: 5m 19s\tremaining: 9m 12s\n",
      "183:\tlearn: 0.1345725\ttotal: 5m 20s\tremaining: 9m 11s\n",
      "184:\tlearn: 0.1343321\ttotal: 5m 22s\tremaining: 9m 9s\n",
      "185:\tlearn: 0.1341196\ttotal: 5m 24s\tremaining: 9m 8s\n",
      "186:\tlearn: 0.1339958\ttotal: 5m 26s\tremaining: 9m 6s\n",
      "187:\tlearn: 0.1338803\ttotal: 5m 28s\tremaining: 9m 4s\n",
      "188:\tlearn: 0.1336324\ttotal: 5m 30s\tremaining: 9m 3s\n",
      "189:\tlearn: 0.1335413\ttotal: 5m 32s\tremaining: 9m 1s\n",
      "190:\tlearn: 0.1334508\ttotal: 5m 33s\tremaining: 9m\n",
      "191:\tlearn: 0.1333288\ttotal: 5m 35s\tremaining: 8m 58s\n",
      "192:\tlearn: 0.1330909\ttotal: 5m 37s\tremaining: 8m 57s\n",
      "193:\tlearn: 0.1329272\ttotal: 5m 39s\tremaining: 8m 55s\n",
      "194:\tlearn: 0.1328298\ttotal: 5m 41s\tremaining: 8m 53s\n",
      "195:\tlearn: 0.1326078\ttotal: 5m 42s\tremaining: 8m 51s\n",
      "196:\tlearn: 0.1324095\ttotal: 5m 44s\tremaining: 8m 50s\n",
      "197:\tlearn: 0.1323015\ttotal: 5m 46s\tremaining: 8m 48s\n",
      "198:\tlearn: 0.1322042\ttotal: 5m 48s\tremaining: 8m 46s\n",
      "199:\tlearn: 0.1319441\ttotal: 5m 49s\tremaining: 8m 44s\n",
      "200:\tlearn: 0.1317962\ttotal: 5m 51s\tremaining: 8m 43s\n",
      "201:\tlearn: 0.1317106\ttotal: 5m 53s\tremaining: 8m 41s\n",
      "202:\tlearn: 0.1315185\ttotal: 5m 55s\tremaining: 8m 39s\n",
      "203:\tlearn: 0.1314027\ttotal: 5m 56s\tremaining: 8m 37s\n",
      "204:\tlearn: 0.1312073\ttotal: 5m 58s\tremaining: 8m 36s\n",
      "205:\tlearn: 0.1310971\ttotal: 6m\tremaining: 8m 34s\n",
      "206:\tlearn: 0.1309756\ttotal: 6m 2s\tremaining: 8m 32s\n",
      "207:\tlearn: 0.1308165\ttotal: 6m 4s\tremaining: 8m 31s\n",
      "208:\tlearn: 0.1305565\ttotal: 6m 6s\tremaining: 8m 29s\n",
      "209:\tlearn: 0.1304786\ttotal: 6m 7s\tremaining: 8m 27s\n",
      "210:\tlearn: 0.1303905\ttotal: 6m 9s\tremaining: 8m 26s\n",
      "211:\tlearn: 0.1303101\ttotal: 6m 11s\tremaining: 8m 24s\n",
      "212:\tlearn: 0.1301853\ttotal: 6m 12s\tremaining: 8m 22s\n",
      "213:\tlearn: 0.1299083\ttotal: 6m 14s\tremaining: 8m 20s\n",
      "214:\tlearn: 0.1297716\ttotal: 6m 16s\tremaining: 8m 19s\n",
      "215:\tlearn: 0.1296380\ttotal: 6m 18s\tremaining: 8m 17s\n",
      "216:\tlearn: 0.1295685\ttotal: 6m 20s\tremaining: 8m 16s\n",
      "217:\tlearn: 0.1294954\ttotal: 6m 22s\tremaining: 8m 14s\n",
      "218:\tlearn: 0.1294138\ttotal: 6m 23s\tremaining: 8m 12s\n",
      "219:\tlearn: 0.1293380\ttotal: 6m 25s\tremaining: 8m 10s\n",
      "220:\tlearn: 0.1292333\ttotal: 6m 27s\tremaining: 8m 9s\n",
      "221:\tlearn: 0.1291595\ttotal: 6m 29s\tremaining: 8m 7s\n",
      "222:\tlearn: 0.1289927\ttotal: 6m 31s\tremaining: 8m 6s\n",
      "223:\tlearn: 0.1289162\ttotal: 6m 33s\tremaining: 8m 4s\n",
      "224:\tlearn: 0.1287318\ttotal: 6m 34s\tremaining: 8m 2s\n",
      "225:\tlearn: 0.1285467\ttotal: 6m 36s\tremaining: 8m 1s\n",
      "226:\tlearn: 0.1284124\ttotal: 6m 38s\tremaining: 7m 59s\n",
      "227:\tlearn: 0.1281559\ttotal: 6m 40s\tremaining: 7m 57s\n",
      "228:\tlearn: 0.1280046\ttotal: 6m 42s\tremaining: 7m 56s\n",
      "229:\tlearn: 0.1278120\ttotal: 6m 44s\tremaining: 7m 54s\n",
      "230:\tlearn: 0.1277125\ttotal: 6m 45s\tremaining: 7m 52s\n",
      "231:\tlearn: 0.1275596\ttotal: 6m 47s\tremaining: 7m 51s\n",
      "232:\tlearn: 0.1274148\ttotal: 6m 49s\tremaining: 7m 49s\n",
      "233:\tlearn: 0.1273391\ttotal: 6m 51s\tremaining: 7m 47s\n",
      "234:\tlearn: 0.1271975\ttotal: 6m 52s\tremaining: 7m 45s\n",
      "235:\tlearn: 0.1269947\ttotal: 6m 54s\tremaining: 7m 43s\n",
      "236:\tlearn: 0.1269045\ttotal: 6m 56s\tremaining: 7m 42s\n",
      "237:\tlearn: 0.1267830\ttotal: 6m 58s\tremaining: 7m 40s\n",
      "238:\tlearn: 0.1266200\ttotal: 7m\tremaining: 7m 38s\n",
      "239:\tlearn: 0.1265475\ttotal: 7m 2s\tremaining: 7m 37s\n",
      "240:\tlearn: 0.1264342\ttotal: 7m 3s\tremaining: 7m 35s\n",
      "241:\tlearn: 0.1263507\ttotal: 7m 5s\tremaining: 7m 33s\n",
      "242:\tlearn: 0.1262823\ttotal: 7m 7s\tremaining: 7m 31s\n",
      "243:\tlearn: 0.1260940\ttotal: 7m 9s\tremaining: 7m 30s\n",
      "244:\tlearn: 0.1260177\ttotal: 7m 10s\tremaining: 7m 28s\n",
      "245:\tlearn: 0.1258965\ttotal: 7m 12s\tremaining: 7m 26s\n",
      "246:\tlearn: 0.1257900\ttotal: 7m 14s\tremaining: 7m 24s\n",
      "247:\tlearn: 0.1256237\ttotal: 7m 16s\tremaining: 7m 23s\n",
      "248:\tlearn: 0.1254406\ttotal: 7m 18s\tremaining: 7m 21s\n",
      "249:\tlearn: 0.1253315\ttotal: 7m 19s\tremaining: 7m 19s\n",
      "250:\tlearn: 0.1252145\ttotal: 7m 21s\tremaining: 7m 18s\n",
      "251:\tlearn: 0.1251366\ttotal: 7m 23s\tremaining: 7m 16s\n",
      "252:\tlearn: 0.1249917\ttotal: 7m 25s\tremaining: 7m 14s\n",
      "253:\tlearn: 0.1249320\ttotal: 7m 27s\tremaining: 7m 13s\n",
      "254:\tlearn: 0.1248728\ttotal: 7m 29s\tremaining: 7m 11s\n",
      "255:\tlearn: 0.1248130\ttotal: 7m 31s\tremaining: 7m 9s\n",
      "256:\tlearn: 0.1246727\ttotal: 7m 32s\tremaining: 7m 8s\n",
      "257:\tlearn: 0.1245137\ttotal: 7m 34s\tremaining: 7m 6s\n",
      "258:\tlearn: 0.1243889\ttotal: 7m 36s\tremaining: 7m 4s\n",
      "259:\tlearn: 0.1242845\ttotal: 7m 38s\tremaining: 7m 3s\n",
      "260:\tlearn: 0.1242256\ttotal: 7m 40s\tremaining: 7m 1s\n",
      "261:\tlearn: 0.1240670\ttotal: 7m 41s\tremaining: 6m 59s\n",
      "262:\tlearn: 0.1238728\ttotal: 7m 43s\tremaining: 6m 57s\n",
      "263:\tlearn: 0.1238097\ttotal: 7m 45s\tremaining: 6m 56s\n",
      "264:\tlearn: 0.1237539\ttotal: 7m 47s\tremaining: 6m 54s\n",
      "265:\tlearn: 0.1235566\ttotal: 7m 49s\tremaining: 6m 52s\n",
      "266:\tlearn: 0.1234008\ttotal: 7m 50s\tremaining: 6m 50s\n",
      "267:\tlearn: 0.1233071\ttotal: 7m 52s\tremaining: 6m 49s\n",
      "268:\tlearn: 0.1232096\ttotal: 7m 54s\tremaining: 6m 47s\n",
      "269:\tlearn: 0.1230637\ttotal: 7m 56s\tremaining: 6m 45s\n",
      "270:\tlearn: 0.1229537\ttotal: 7m 57s\tremaining: 6m 43s\n",
      "271:\tlearn: 0.1227914\ttotal: 7m 59s\tremaining: 6m 42s\n",
      "272:\tlearn: 0.1227146\ttotal: 8m 1s\tremaining: 6m 40s\n",
      "273:\tlearn: 0.1226538\ttotal: 8m 2s\tremaining: 6m 38s\n",
      "274:\tlearn: 0.1225690\ttotal: 8m 4s\tremaining: 6m 36s\n",
      "275:\tlearn: 0.1224014\ttotal: 8m 6s\tremaining: 6m 34s\n",
      "276:\tlearn: 0.1223462\ttotal: 8m 8s\tremaining: 6m 33s\n",
      "277:\tlearn: 0.1222159\ttotal: 8m 10s\tremaining: 6m 31s\n",
      "278:\tlearn: 0.1221609\ttotal: 8m 11s\tremaining: 6m 29s\n",
      "279:\tlearn: 0.1220542\ttotal: 8m 13s\tremaining: 6m 27s\n",
      "280:\tlearn: 0.1219844\ttotal: 8m 15s\tremaining: 6m 26s\n",
      "281:\tlearn: 0.1219303\ttotal: 8m 17s\tremaining: 6m 24s\n",
      "282:\tlearn: 0.1218734\ttotal: 8m 19s\tremaining: 6m 22s\n",
      "283:\tlearn: 0.1218060\ttotal: 8m 20s\tremaining: 6m 20s\n",
      "284:\tlearn: 0.1217402\ttotal: 8m 22s\tremaining: 6m 19s\n",
      "285:\tlearn: 0.1215430\ttotal: 8m 24s\tremaining: 6m 17s\n",
      "286:\tlearn: 0.1214872\ttotal: 8m 26s\tremaining: 6m 15s\n",
      "287:\tlearn: 0.1214345\ttotal: 8m 28s\tremaining: 6m 14s\n",
      "288:\tlearn: 0.1212670\ttotal: 8m 30s\tremaining: 6m 12s\n",
      "289:\tlearn: 0.1211747\ttotal: 8m 31s\tremaining: 6m 10s\n",
      "290:\tlearn: 0.1211197\ttotal: 8m 33s\tremaining: 6m 8s\n",
      "291:\tlearn: 0.1209783\ttotal: 8m 35s\tremaining: 6m 7s\n",
      "292:\tlearn: 0.1208969\ttotal: 8m 37s\tremaining: 6m 5s\n",
      "293:\tlearn: 0.1208059\ttotal: 8m 38s\tremaining: 6m 3s\n",
      "294:\tlearn: 0.1206825\ttotal: 8m 40s\tremaining: 6m 1s\n",
      "295:\tlearn: 0.1206299\ttotal: 8m 42s\tremaining: 6m\n",
      "296:\tlearn: 0.1205367\ttotal: 8m 44s\tremaining: 5m 58s\n",
      "297:\tlearn: 0.1204856\ttotal: 8m 45s\tremaining: 5m 56s\n",
      "298:\tlearn: 0.1203752\ttotal: 8m 47s\tremaining: 5m 54s\n",
      "299:\tlearn: 0.1203223\ttotal: 8m 49s\tremaining: 5m 52s\n",
      "300:\tlearn: 0.1202709\ttotal: 8m 51s\tremaining: 5m 51s\n",
      "301:\tlearn: 0.1202197\ttotal: 8m 52s\tremaining: 5m 49s\n",
      "302:\tlearn: 0.1201356\ttotal: 8m 54s\tremaining: 5m 47s\n",
      "303:\tlearn: 0.1200880\ttotal: 8m 56s\tremaining: 5m 45s\n",
      "304:\tlearn: 0.1199611\ttotal: 8m 58s\tremaining: 5m 44s\n",
      "305:\tlearn: 0.1197966\ttotal: 8m 59s\tremaining: 5m 42s\n",
      "306:\tlearn: 0.1197275\ttotal: 9m 1s\tremaining: 5m 40s\n",
      "307:\tlearn: 0.1196543\ttotal: 9m 3s\tremaining: 5m 38s\n",
      "308:\tlearn: 0.1196056\ttotal: 9m 5s\tremaining: 5m 36s\n",
      "309:\tlearn: 0.1194923\ttotal: 9m 7s\tremaining: 5m 35s\n",
      "310:\tlearn: 0.1193446\ttotal: 9m 8s\tremaining: 5m 33s\n",
      "311:\tlearn: 0.1192082\ttotal: 9m 10s\tremaining: 5m 31s\n",
      "312:\tlearn: 0.1191600\ttotal: 9m 12s\tremaining: 5m 29s\n",
      "313:\tlearn: 0.1189569\ttotal: 9m 14s\tremaining: 5m 28s\n",
      "314:\tlearn: 0.1188053\ttotal: 9m 16s\tremaining: 5m 26s\n",
      "315:\tlearn: 0.1187602\ttotal: 9m 17s\tremaining: 5m 24s\n",
      "316:\tlearn: 0.1186568\ttotal: 9m 19s\tremaining: 5m 23s\n",
      "317:\tlearn: 0.1185527\ttotal: 9m 21s\tremaining: 5m 21s\n",
      "318:\tlearn: 0.1184879\ttotal: 9m 23s\tremaining: 5m 19s\n",
      "319:\tlearn: 0.1184405\ttotal: 9m 24s\tremaining: 5m 17s\n",
      "320:\tlearn: 0.1183882\ttotal: 9m 26s\tremaining: 5m 16s\n",
      "321:\tlearn: 0.1183327\ttotal: 9m 28s\tremaining: 5m 14s\n",
      "322:\tlearn: 0.1182732\ttotal: 9m 30s\tremaining: 5m 12s\n",
      "323:\tlearn: 0.1182263\ttotal: 9m 32s\tremaining: 5m 10s\n",
      "324:\tlearn: 0.1181814\ttotal: 9m 34s\tremaining: 5m 9s\n",
      "325:\tlearn: 0.1180962\ttotal: 9m 36s\tremaining: 5m 7s\n",
      "326:\tlearn: 0.1180508\ttotal: 9m 37s\tremaining: 5m 5s\n",
      "327:\tlearn: 0.1179256\ttotal: 9m 39s\tremaining: 5m 3s\n",
      "328:\tlearn: 0.1178329\ttotal: 9m 41s\tremaining: 5m 2s\n",
      "329:\tlearn: 0.1176923\ttotal: 9m 43s\tremaining: 5m\n",
      "330:\tlearn: 0.1176502\ttotal: 9m 45s\tremaining: 4m 58s\n",
      "331:\tlearn: 0.1175884\ttotal: 9m 46s\tremaining: 4m 56s\n",
      "332:\tlearn: 0.1174854\ttotal: 9m 48s\tremaining: 4m 55s\n",
      "333:\tlearn: 0.1173718\ttotal: 9m 50s\tremaining: 4m 53s\n",
      "334:\tlearn: 0.1173282\ttotal: 9m 52s\tremaining: 4m 51s\n",
      "335:\tlearn: 0.1172796\ttotal: 9m 53s\tremaining: 4m 49s\n",
      "336:\tlearn: 0.1172203\ttotal: 9m 55s\tremaining: 4m 48s\n",
      "337:\tlearn: 0.1170756\ttotal: 9m 57s\tremaining: 4m 46s\n",
      "338:\tlearn: 0.1169281\ttotal: 9m 59s\tremaining: 4m 44s\n",
      "339:\tlearn: 0.1168756\ttotal: 10m\tremaining: 4m 42s\n",
      "340:\tlearn: 0.1167740\ttotal: 10m 2s\tremaining: 4m 41s\n",
      "341:\tlearn: 0.1166269\ttotal: 10m 4s\tremaining: 4m 39s\n",
      "342:\tlearn: 0.1165241\ttotal: 10m 6s\tremaining: 4m 37s\n",
      "343:\tlearn: 0.1164712\ttotal: 10m 8s\tremaining: 4m 35s\n",
      "344:\tlearn: 0.1164283\ttotal: 10m 10s\tremaining: 4m 34s\n",
      "345:\tlearn: 0.1163865\ttotal: 10m 11s\tremaining: 4m 32s\n",
      "346:\tlearn: 0.1161950\ttotal: 10m 13s\tremaining: 4m 30s\n",
      "347:\tlearn: 0.1161534\ttotal: 10m 15s\tremaining: 4m 28s\n",
      "348:\tlearn: 0.1160772\ttotal: 10m 17s\tremaining: 4m 27s\n",
      "349:\tlearn: 0.1159829\ttotal: 10m 19s\tremaining: 4m 25s\n",
      "350:\tlearn: 0.1159125\ttotal: 10m 20s\tremaining: 4m 23s\n",
      "351:\tlearn: 0.1157701\ttotal: 10m 22s\tremaining: 4m 21s\n",
      "352:\tlearn: 0.1156265\ttotal: 10m 24s\tremaining: 4m 20s\n",
      "353:\tlearn: 0.1155632\ttotal: 10m 26s\tremaining: 4m 18s\n",
      "354:\tlearn: 0.1154972\ttotal: 10m 28s\tremaining: 4m 16s\n",
      "355:\tlearn: 0.1154446\ttotal: 10m 30s\tremaining: 4m 14s\n",
      "356:\tlearn: 0.1153931\ttotal: 10m 32s\tremaining: 4m 13s\n",
      "357:\tlearn: 0.1152460\ttotal: 10m 33s\tremaining: 4m 11s\n",
      "358:\tlearn: 0.1151351\ttotal: 10m 35s\tremaining: 4m 9s\n",
      "359:\tlearn: 0.1150189\ttotal: 10m 37s\tremaining: 4m 8s\n",
      "360:\tlearn: 0.1149563\ttotal: 10m 39s\tremaining: 4m 6s\n",
      "361:\tlearn: 0.1149110\ttotal: 10m 41s\tremaining: 4m 4s\n",
      "362:\tlearn: 0.1148716\ttotal: 10m 43s\tremaining: 4m 2s\n",
      "363:\tlearn: 0.1147187\ttotal: 10m 44s\tremaining: 4m\n",
      "364:\tlearn: 0.1145949\ttotal: 10m 46s\tremaining: 3m 59s\n",
      "365:\tlearn: 0.1145547\ttotal: 10m 48s\tremaining: 3m 57s\n",
      "366:\tlearn: 0.1144166\ttotal: 10m 50s\tremaining: 3m 55s\n",
      "367:\tlearn: 0.1143753\ttotal: 10m 51s\tremaining: 3m 53s\n",
      "368:\tlearn: 0.1143367\ttotal: 10m 53s\tremaining: 3m 52s\n",
      "369:\tlearn: 0.1142153\ttotal: 10m 55s\tremaining: 3m 50s\n",
      "370:\tlearn: 0.1141776\ttotal: 10m 57s\tremaining: 3m 48s\n",
      "371:\tlearn: 0.1140792\ttotal: 10m 59s\tremaining: 3m 46s\n",
      "372:\tlearn: 0.1140319\ttotal: 11m\tremaining: 3m 44s\n",
      "373:\tlearn: 0.1139935\ttotal: 11m 2s\tremaining: 3m 43s\n",
      "374:\tlearn: 0.1139108\ttotal: 11m 4s\tremaining: 3m 41s\n",
      "375:\tlearn: 0.1138096\ttotal: 11m 6s\tremaining: 3m 39s\n",
      "376:\tlearn: 0.1137600\ttotal: 11m 7s\tremaining: 3m 37s\n",
      "377:\tlearn: 0.1137208\ttotal: 11m 9s\tremaining: 3m 36s\n",
      "378:\tlearn: 0.1136303\ttotal: 11m 11s\tremaining: 3m 34s\n",
      "379:\tlearn: 0.1135880\ttotal: 11m 12s\tremaining: 3m 32s\n",
      "380:\tlearn: 0.1134561\ttotal: 11m 14s\tremaining: 3m 30s\n",
      "381:\tlearn: 0.1134176\ttotal: 11m 16s\tremaining: 3m 28s\n",
      "382:\tlearn: 0.1133313\ttotal: 11m 18s\tremaining: 3m 27s\n",
      "383:\tlearn: 0.1132917\ttotal: 11m 20s\tremaining: 3m 25s\n",
      "384:\tlearn: 0.1131478\ttotal: 11m 22s\tremaining: 3m 23s\n",
      "385:\tlearn: 0.1130479\ttotal: 11m 24s\tremaining: 3m 22s\n",
      "386:\tlearn: 0.1129827\ttotal: 11m 26s\tremaining: 3m 20s\n",
      "387:\tlearn: 0.1128997\ttotal: 11m 28s\tremaining: 3m 18s\n",
      "388:\tlearn: 0.1128529\ttotal: 11m 30s\tremaining: 3m 17s\n",
      "389:\tlearn: 0.1127794\ttotal: 11m 32s\tremaining: 3m 15s\n",
      "390:\tlearn: 0.1127401\ttotal: 11m 33s\tremaining: 3m 13s\n",
      "391:\tlearn: 0.1126299\ttotal: 11m 35s\tremaining: 3m 11s\n",
      "392:\tlearn: 0.1125057\ttotal: 11m 37s\tremaining: 3m 9s\n",
      "393:\tlearn: 0.1124699\ttotal: 11m 39s\tremaining: 3m 8s\n",
      "394:\tlearn: 0.1124325\ttotal: 11m 41s\tremaining: 3m 6s\n",
      "395:\tlearn: 0.1123058\ttotal: 11m 42s\tremaining: 3m 4s\n",
      "396:\tlearn: 0.1122290\ttotal: 11m 44s\tremaining: 3m 2s\n",
      "397:\tlearn: 0.1121639\ttotal: 11m 46s\tremaining: 3m 1s\n",
      "398:\tlearn: 0.1120597\ttotal: 11m 48s\tremaining: 2m 59s\n",
      "399:\tlearn: 0.1119367\ttotal: 11m 49s\tremaining: 2m 57s\n",
      "400:\tlearn: 0.1118738\ttotal: 11m 51s\tremaining: 2m 55s\n",
      "401:\tlearn: 0.1117238\ttotal: 11m 53s\tremaining: 2m 53s\n",
      "402:\tlearn: 0.1116304\ttotal: 11m 55s\tremaining: 2m 52s\n",
      "403:\tlearn: 0.1115903\ttotal: 11m 56s\tremaining: 2m 50s\n",
      "404:\tlearn: 0.1114894\ttotal: 11m 58s\tremaining: 2m 48s\n",
      "405:\tlearn: 0.1114545\ttotal: 12m\tremaining: 2m 46s\n",
      "406:\tlearn: 0.1114147\ttotal: 12m 1s\tremaining: 2m 44s\n",
      "407:\tlearn: 0.1113568\ttotal: 12m 3s\tremaining: 2m 43s\n",
      "408:\tlearn: 0.1113065\ttotal: 12m 5s\tremaining: 2m 41s\n",
      "409:\tlearn: 0.1112192\ttotal: 12m 7s\tremaining: 2m 39s\n",
      "410:\tlearn: 0.1111680\ttotal: 12m 8s\tremaining: 2m 37s\n",
      "411:\tlearn: 0.1110109\ttotal: 12m 10s\tremaining: 2m 36s\n",
      "412:\tlearn: 0.1109206\ttotal: 12m 12s\tremaining: 2m 34s\n",
      "413:\tlearn: 0.1108088\ttotal: 12m 13s\tremaining: 2m 32s\n",
      "414:\tlearn: 0.1106791\ttotal: 12m 15s\tremaining: 2m 30s\n",
      "415:\tlearn: 0.1106336\ttotal: 12m 17s\tremaining: 2m 28s\n",
      "416:\tlearn: 0.1104857\ttotal: 12m 19s\tremaining: 2m 27s\n",
      "417:\tlearn: 0.1104100\ttotal: 12m 20s\tremaining: 2m 25s\n",
      "418:\tlearn: 0.1103728\ttotal: 12m 22s\tremaining: 2m 23s\n",
      "419:\tlearn: 0.1102661\ttotal: 12m 24s\tremaining: 2m 21s\n",
      "420:\tlearn: 0.1102162\ttotal: 12m 25s\tremaining: 2m 19s\n",
      "421:\tlearn: 0.1100991\ttotal: 12m 27s\tremaining: 2m 18s\n",
      "422:\tlearn: 0.1099888\ttotal: 12m 29s\tremaining: 2m 16s\n",
      "423:\tlearn: 0.1099117\ttotal: 12m 31s\tremaining: 2m 14s\n",
      "424:\tlearn: 0.1097561\ttotal: 12m 33s\tremaining: 2m 12s\n",
      "425:\tlearn: 0.1097202\ttotal: 12m 35s\tremaining: 2m 11s\n",
      "426:\tlearn: 0.1096758\ttotal: 12m 36s\tremaining: 2m 9s\n",
      "427:\tlearn: 0.1096407\ttotal: 12m 38s\tremaining: 2m 7s\n",
      "428:\tlearn: 0.1095239\ttotal: 12m 40s\tremaining: 2m 5s\n",
      "429:\tlearn: 0.1094865\ttotal: 12m 42s\tremaining: 2m 4s\n",
      "430:\tlearn: 0.1093288\ttotal: 12m 43s\tremaining: 2m 2s\n",
      "431:\tlearn: 0.1092960\ttotal: 12m 45s\tremaining: 2m\n",
      "432:\tlearn: 0.1092013\ttotal: 12m 47s\tremaining: 1m 58s\n",
      "433:\tlearn: 0.1091576\ttotal: 12m 49s\tremaining: 1m 56s\n",
      "434:\tlearn: 0.1090690\ttotal: 12m 50s\tremaining: 1m 55s\n",
      "435:\tlearn: 0.1090183\ttotal: 12m 52s\tremaining: 1m 53s\n",
      "436:\tlearn: 0.1089855\ttotal: 12m 54s\tremaining: 1m 51s\n",
      "437:\tlearn: 0.1089505\ttotal: 12m 56s\tremaining: 1m 49s\n",
      "438:\tlearn: 0.1089065\ttotal: 12m 57s\tremaining: 1m 48s\n",
      "439:\tlearn: 0.1088025\ttotal: 12m 59s\tremaining: 1m 46s\n",
      "440:\tlearn: 0.1087697\ttotal: 13m 1s\tremaining: 1m 44s\n",
      "441:\tlearn: 0.1086528\ttotal: 13m 3s\tremaining: 1m 42s\n",
      "442:\tlearn: 0.1086195\ttotal: 13m 4s\tremaining: 1m 41s\n",
      "443:\tlearn: 0.1085846\ttotal: 13m 6s\tremaining: 1m 39s\n",
      "444:\tlearn: 0.1085512\ttotal: 13m 8s\tremaining: 1m 37s\n",
      "445:\tlearn: 0.1085192\ttotal: 13m 10s\tremaining: 1m 35s\n",
      "446:\tlearn: 0.1084734\ttotal: 13m 11s\tremaining: 1m 33s\n",
      "447:\tlearn: 0.1083842\ttotal: 13m 13s\tremaining: 1m 32s\n",
      "448:\tlearn: 0.1082866\ttotal: 13m 15s\tremaining: 1m 30s\n",
      "449:\tlearn: 0.1082342\ttotal: 13m 17s\tremaining: 1m 28s\n",
      "450:\tlearn: 0.1082022\ttotal: 13m 19s\tremaining: 1m 26s\n",
      "451:\tlearn: 0.1081330\ttotal: 13m 20s\tremaining: 1m 25s\n",
      "452:\tlearn: 0.1080216\ttotal: 13m 22s\tremaining: 1m 23s\n",
      "453:\tlearn: 0.1079883\ttotal: 13m 24s\tremaining: 1m 21s\n",
      "454:\tlearn: 0.1079077\ttotal: 13m 26s\tremaining: 1m 19s\n",
      "455:\tlearn: 0.1078123\ttotal: 13m 28s\tremaining: 1m 18s\n",
      "456:\tlearn: 0.1076754\ttotal: 13m 30s\tremaining: 1m 16s\n",
      "457:\tlearn: 0.1076464\ttotal: 13m 32s\tremaining: 1m 14s\n",
      "458:\tlearn: 0.1075337\ttotal: 13m 33s\tremaining: 1m 12s\n",
      "459:\tlearn: 0.1074918\ttotal: 13m 35s\tremaining: 1m 10s\n",
      "460:\tlearn: 0.1073928\ttotal: 13m 37s\tremaining: 1m 9s\n",
      "461:\tlearn: 0.1073515\ttotal: 13m 39s\tremaining: 1m 7s\n",
      "462:\tlearn: 0.1073135\ttotal: 13m 40s\tremaining: 1m 5s\n",
      "463:\tlearn: 0.1072681\ttotal: 13m 42s\tremaining: 1m 3s\n",
      "464:\tlearn: 0.1071381\ttotal: 13m 44s\tremaining: 1m 2s\n",
      "465:\tlearn: 0.1070800\ttotal: 13m 46s\tremaining: 1m\n",
      "466:\tlearn: 0.1069938\ttotal: 13m 48s\tremaining: 58.5s\n",
      "467:\tlearn: 0.1069624\ttotal: 13m 49s\tremaining: 56.7s\n",
      "468:\tlearn: 0.1069117\ttotal: 13m 51s\tremaining: 54.9s\n",
      "469:\tlearn: 0.1068522\ttotal: 13m 53s\tremaining: 53.2s\n",
      "470:\tlearn: 0.1067806\ttotal: 13m 54s\tremaining: 51.4s\n",
      "471:\tlearn: 0.1067308\ttotal: 13m 56s\tremaining: 49.6s\n",
      "472:\tlearn: 0.1066970\ttotal: 13m 58s\tremaining: 47.9s\n",
      "473:\tlearn: 0.1066660\ttotal: 14m\tremaining: 46.1s\n",
      "474:\tlearn: 0.1065557\ttotal: 14m 1s\tremaining: 44.3s\n",
      "475:\tlearn: 0.1064233\ttotal: 14m 3s\tremaining: 42.5s\n",
      "476:\tlearn: 0.1063877\ttotal: 14m 5s\tremaining: 40.8s\n",
      "477:\tlearn: 0.1063428\ttotal: 14m 7s\tremaining: 39s\n",
      "478:\tlearn: 0.1063024\ttotal: 14m 9s\tremaining: 37.2s\n",
      "479:\tlearn: 0.1062728\ttotal: 14m 10s\tremaining: 35.5s\n",
      "480:\tlearn: 0.1061650\ttotal: 14m 12s\tremaining: 33.7s\n",
      "481:\tlearn: 0.1061369\ttotal: 14m 14s\tremaining: 31.9s\n",
      "482:\tlearn: 0.1061081\ttotal: 14m 16s\tremaining: 30.1s\n",
      "483:\tlearn: 0.1060219\ttotal: 14m 18s\tremaining: 28.4s\n",
      "484:\tlearn: 0.1059393\ttotal: 14m 19s\tremaining: 26.6s\n",
      "485:\tlearn: 0.1059036\ttotal: 14m 21s\tremaining: 24.8s\n",
      "486:\tlearn: 0.1058268\ttotal: 14m 23s\tremaining: 23s\n",
      "487:\tlearn: 0.1057861\ttotal: 14m 25s\tremaining: 21.3s\n",
      "488:\tlearn: 0.1056645\ttotal: 14m 27s\tremaining: 19.5s\n",
      "489:\tlearn: 0.1055814\ttotal: 14m 29s\tremaining: 17.7s\n",
      "490:\tlearn: 0.1055519\ttotal: 14m 30s\tremaining: 16s\n",
      "491:\tlearn: 0.1054590\ttotal: 14m 32s\tremaining: 14.2s\n",
      "492:\tlearn: 0.1054058\ttotal: 14m 34s\tremaining: 12.4s\n",
      "493:\tlearn: 0.1053436\ttotal: 14m 36s\tremaining: 10.6s\n",
      "494:\tlearn: 0.1052725\ttotal: 14m 37s\tremaining: 8.87s\n",
      "495:\tlearn: 0.1051858\ttotal: 14m 39s\tremaining: 7.09s\n",
      "496:\tlearn: 0.1051162\ttotal: 14m 41s\tremaining: 5.32s\n",
      "497:\tlearn: 0.1050767\ttotal: 14m 43s\tremaining: 3.55s\n",
      "498:\tlearn: 0.1049896\ttotal: 14m 44s\tremaining: 1.77s\n",
      "499:\tlearn: 0.1049599\ttotal: 14m 46s\tremaining: 0us\n",
      "Learning rate set to 0.136328\n",
      "0:\tlearn: 0.5599053\ttotal: 2.58s\tremaining: 21m 26s\n",
      "1:\tlearn: 0.4688888\ttotal: 4.63s\tremaining: 19m 14s\n",
      "2:\tlearn: 0.4001668\ttotal: 6.85s\tremaining: 18m 54s\n",
      "3:\tlearn: 0.3504823\ttotal: 9.04s\tremaining: 18m 41s\n",
      "4:\tlearn: 0.3182147\ttotal: 11s\tremaining: 18m 10s\n",
      "5:\tlearn: 0.2935205\ttotal: 13s\tremaining: 17m 47s\n",
      "6:\tlearn: 0.2741523\ttotal: 15s\tremaining: 17m 36s\n",
      "7:\tlearn: 0.2609844\ttotal: 17s\tremaining: 17m 26s\n",
      "8:\tlearn: 0.2511783\ttotal: 18.9s\tremaining: 17m 9s\n",
      "9:\tlearn: 0.2429275\ttotal: 20.8s\tremaining: 16m 57s\n",
      "10:\tlearn: 0.2363885\ttotal: 22.6s\tremaining: 16m 45s\n",
      "11:\tlearn: 0.2314177\ttotal: 24.5s\tremaining: 16m 35s\n",
      "12:\tlearn: 0.2270488\ttotal: 26.5s\tremaining: 16m 34s\n",
      "13:\tlearn: 0.2234822\ttotal: 28.4s\tremaining: 16m 25s\n",
      "14:\tlearn: 0.2205356\ttotal: 30.3s\tremaining: 16m 20s\n",
      "15:\tlearn: 0.2165392\ttotal: 32.2s\tremaining: 16m 14s\n",
      "16:\tlearn: 0.2139466\ttotal: 34.1s\tremaining: 16m 7s\n",
      "17:\tlearn: 0.2111238\ttotal: 36.1s\tremaining: 16m 7s\n",
      "18:\tlearn: 0.2092196\ttotal: 38.1s\tremaining: 16m 4s\n",
      "19:\tlearn: 0.2074656\ttotal: 39.9s\tremaining: 15m 58s\n",
      "20:\tlearn: 0.2057492\ttotal: 41.8s\tremaining: 15m 52s\n",
      "21:\tlearn: 0.2041634\ttotal: 43.6s\tremaining: 15m 47s\n",
      "22:\tlearn: 0.2027517\ttotal: 45.3s\tremaining: 15m 39s\n",
      "23:\tlearn: 0.2006424\ttotal: 47.3s\tremaining: 15m 37s\n",
      "24:\tlearn: 0.1994467\ttotal: 49s\tremaining: 15m 31s\n",
      "25:\tlearn: 0.1977402\ttotal: 50.9s\tremaining: 15m 27s\n",
      "26:\tlearn: 0.1963332\ttotal: 52.8s\tremaining: 15m 25s\n",
      "27:\tlearn: 0.1950896\ttotal: 54.7s\tremaining: 15m 22s\n",
      "28:\tlearn: 0.1939984\ttotal: 56.7s\tremaining: 15m 21s\n",
      "29:\tlearn: 0.1926919\ttotal: 58.5s\tremaining: 15m 16s\n",
      "30:\tlearn: 0.1913082\ttotal: 1m\tremaining: 15m 12s\n",
      "31:\tlearn: 0.1903924\ttotal: 1m 2s\tremaining: 15m 9s\n",
      "32:\tlearn: 0.1894574\ttotal: 1m 4s\tremaining: 15m 6s\n",
      "33:\tlearn: 0.1886422\ttotal: 1m 6s\tremaining: 15m 5s\n",
      "34:\tlearn: 0.1875505\ttotal: 1m 8s\tremaining: 15m 4s\n",
      "35:\tlearn: 0.1862358\ttotal: 1m 9s\tremaining: 15m\n",
      "36:\tlearn: 0.1850677\ttotal: 1m 11s\tremaining: 14m 57s\n",
      "37:\tlearn: 0.1842447\ttotal: 1m 13s\tremaining: 14m 54s\n",
      "38:\tlearn: 0.1835719\ttotal: 1m 15s\tremaining: 14m 51s\n",
      "39:\tlearn: 0.1824444\ttotal: 1m 17s\tremaining: 14m 49s\n",
      "40:\tlearn: 0.1816317\ttotal: 1m 19s\tremaining: 14m 45s\n",
      "41:\tlearn: 0.1809350\ttotal: 1m 20s\tremaining: 14m 42s\n",
      "42:\tlearn: 0.1801015\ttotal: 1m 22s\tremaining: 14m 39s\n",
      "43:\tlearn: 0.1793779\ttotal: 1m 24s\tremaining: 14m 35s\n",
      "44:\tlearn: 0.1786954\ttotal: 1m 26s\tremaining: 14m 33s\n",
      "45:\tlearn: 0.1780054\ttotal: 1m 28s\tremaining: 14m 30s\n",
      "46:\tlearn: 0.1772058\ttotal: 1m 29s\tremaining: 14m 27s\n",
      "47:\tlearn: 0.1763692\ttotal: 1m 31s\tremaining: 14m 24s\n",
      "48:\tlearn: 0.1758146\ttotal: 1m 33s\tremaining: 14m 20s\n",
      "49:\tlearn: 0.1751448\ttotal: 1m 35s\tremaining: 14m 18s\n",
      "50:\tlearn: 0.1745719\ttotal: 1m 37s\tremaining: 14m 16s\n",
      "51:\tlearn: 0.1740057\ttotal: 1m 39s\tremaining: 14m 12s\n",
      "52:\tlearn: 0.1735064\ttotal: 1m 40s\tremaining: 14m 10s\n",
      "53:\tlearn: 0.1726364\ttotal: 1m 42s\tremaining: 14m 7s\n",
      "54:\tlearn: 0.1720133\ttotal: 1m 44s\tremaining: 14m 4s\n",
      "55:\tlearn: 0.1715106\ttotal: 1m 46s\tremaining: 14m 3s\n",
      "56:\tlearn: 0.1710567\ttotal: 1m 48s\tremaining: 14m 1s\n",
      "57:\tlearn: 0.1706008\ttotal: 1m 50s\tremaining: 13m 58s\n",
      "58:\tlearn: 0.1702057\ttotal: 1m 51s\tremaining: 13m 55s\n",
      "59:\tlearn: 0.1696737\ttotal: 1m 53s\tremaining: 13m 52s\n",
      "60:\tlearn: 0.1691856\ttotal: 1m 55s\tremaining: 13m 50s\n",
      "61:\tlearn: 0.1687892\ttotal: 1m 57s\tremaining: 13m 48s\n",
      "62:\tlearn: 0.1682909\ttotal: 1m 59s\tremaining: 13m 45s\n",
      "63:\tlearn: 0.1678560\ttotal: 2m\tremaining: 13m 43s\n",
      "64:\tlearn: 0.1673837\ttotal: 2m 2s\tremaining: 13m 41s\n",
      "65:\tlearn: 0.1669572\ttotal: 2m 4s\tremaining: 13m 39s\n",
      "66:\tlearn: 0.1665840\ttotal: 2m 6s\tremaining: 13m 37s\n",
      "67:\tlearn: 0.1661617\ttotal: 2m 8s\tremaining: 13m 35s\n",
      "68:\tlearn: 0.1657971\ttotal: 2m 10s\tremaining: 13m 34s\n",
      "69:\tlearn: 0.1654161\ttotal: 2m 12s\tremaining: 13m 31s\n",
      "70:\tlearn: 0.1651121\ttotal: 2m 13s\tremaining: 13m 28s\n",
      "71:\tlearn: 0.1647211\ttotal: 2m 15s\tremaining: 13m 25s\n",
      "72:\tlearn: 0.1642080\ttotal: 2m 17s\tremaining: 13m 23s\n",
      "73:\tlearn: 0.1638582\ttotal: 2m 19s\tremaining: 13m 20s\n",
      "74:\tlearn: 0.1635552\ttotal: 2m 20s\tremaining: 13m 18s\n",
      "75:\tlearn: 0.1630747\ttotal: 2m 22s\tremaining: 13m 15s\n",
      "76:\tlearn: 0.1624229\ttotal: 2m 24s\tremaining: 13m 13s\n",
      "77:\tlearn: 0.1621181\ttotal: 2m 26s\tremaining: 13m 11s\n",
      "78:\tlearn: 0.1616553\ttotal: 2m 28s\tremaining: 13m 9s\n",
      "79:\tlearn: 0.1611103\ttotal: 2m 29s\tremaining: 13m 6s\n",
      "80:\tlearn: 0.1607063\ttotal: 2m 31s\tremaining: 13m 4s\n",
      "81:\tlearn: 0.1603532\ttotal: 2m 33s\tremaining: 13m 1s\n",
      "82:\tlearn: 0.1595899\ttotal: 2m 35s\tremaining: 13m\n",
      "83:\tlearn: 0.1591757\ttotal: 2m 37s\tremaining: 12m 57s\n",
      "84:\tlearn: 0.1588701\ttotal: 2m 38s\tremaining: 12m 55s\n",
      "85:\tlearn: 0.1585194\ttotal: 2m 40s\tremaining: 12m 52s\n",
      "86:\tlearn: 0.1580439\ttotal: 2m 42s\tremaining: 12m 50s\n",
      "87:\tlearn: 0.1577455\ttotal: 2m 44s\tremaining: 12m 48s\n",
      "88:\tlearn: 0.1574496\ttotal: 2m 45s\tremaining: 12m 45s\n",
      "89:\tlearn: 0.1570671\ttotal: 2m 47s\tremaining: 12m 42s\n",
      "90:\tlearn: 0.1566951\ttotal: 2m 49s\tremaining: 12m 40s\n",
      "91:\tlearn: 0.1563447\ttotal: 2m 51s\tremaining: 12m 38s\n",
      "92:\tlearn: 0.1560601\ttotal: 2m 52s\tremaining: 12m 35s\n",
      "93:\tlearn: 0.1557879\ttotal: 2m 54s\tremaining: 12m 33s\n",
      "94:\tlearn: 0.1555161\ttotal: 2m 56s\tremaining: 12m 32s\n",
      "95:\tlearn: 0.1552554\ttotal: 2m 58s\tremaining: 12m 29s\n",
      "96:\tlearn: 0.1549381\ttotal: 3m\tremaining: 12m 27s\n",
      "97:\tlearn: 0.1545971\ttotal: 3m 1s\tremaining: 12m 25s\n",
      "98:\tlearn: 0.1540844\ttotal: 3m 3s\tremaining: 12m 24s\n",
      "99:\tlearn: 0.1538249\ttotal: 3m 5s\tremaining: 12m 22s\n",
      "100:\tlearn: 0.1534801\ttotal: 3m 7s\tremaining: 12m 21s\n",
      "101:\tlearn: 0.1530868\ttotal: 3m 9s\tremaining: 12m 19s\n",
      "102:\tlearn: 0.1526225\ttotal: 3m 11s\tremaining: 12m 17s\n",
      "103:\tlearn: 0.1523105\ttotal: 3m 13s\tremaining: 12m 14s\n",
      "104:\tlearn: 0.1520813\ttotal: 3m 14s\tremaining: 12m 12s\n",
      "105:\tlearn: 0.1517455\ttotal: 3m 16s\tremaining: 12m 10s\n",
      "106:\tlearn: 0.1514114\ttotal: 3m 18s\tremaining: 12m 8s\n",
      "107:\tlearn: 0.1510088\ttotal: 3m 20s\tremaining: 12m 6s\n",
      "108:\tlearn: 0.1508306\ttotal: 3m 21s\tremaining: 12m 3s\n",
      "109:\tlearn: 0.1505028\ttotal: 3m 23s\tremaining: 12m 1s\n",
      "110:\tlearn: 0.1502709\ttotal: 3m 25s\tremaining: 11m 59s\n",
      "111:\tlearn: 0.1499884\ttotal: 3m 27s\tremaining: 11m 57s\n",
      "112:\tlearn: 0.1496581\ttotal: 3m 28s\tremaining: 11m 55s\n",
      "113:\tlearn: 0.1494533\ttotal: 3m 30s\tremaining: 11m 53s\n",
      "114:\tlearn: 0.1491840\ttotal: 3m 32s\tremaining: 11m 50s\n",
      "115:\tlearn: 0.1489492\ttotal: 3m 34s\tremaining: 11m 48s\n",
      "116:\tlearn: 0.1486119\ttotal: 3m 35s\tremaining: 11m 46s\n",
      "117:\tlearn: 0.1484359\ttotal: 3m 37s\tremaining: 11m 44s\n",
      "118:\tlearn: 0.1481453\ttotal: 3m 39s\tremaining: 11m 42s\n",
      "119:\tlearn: 0.1477589\ttotal: 3m 41s\tremaining: 11m 40s\n",
      "120:\tlearn: 0.1475449\ttotal: 3m 42s\tremaining: 11m 38s\n",
      "121:\tlearn: 0.1473528\ttotal: 3m 44s\tremaining: 11m 35s\n",
      "122:\tlearn: 0.1470706\ttotal: 3m 46s\tremaining: 11m 34s\n",
      "123:\tlearn: 0.1467750\ttotal: 3m 48s\tremaining: 11m 32s\n",
      "124:\tlearn: 0.1465562\ttotal: 3m 50s\tremaining: 11m 30s\n",
      "125:\tlearn: 0.1463487\ttotal: 3m 51s\tremaining: 11m 27s\n",
      "126:\tlearn: 0.1460783\ttotal: 3m 53s\tremaining: 11m 25s\n",
      "127:\tlearn: 0.1458527\ttotal: 3m 55s\tremaining: 11m 24s\n",
      "128:\tlearn: 0.1455995\ttotal: 3m 57s\tremaining: 11m 22s\n",
      "129:\tlearn: 0.1452962\ttotal: 3m 59s\tremaining: 11m 20s\n",
      "130:\tlearn: 0.1451283\ttotal: 4m\tremaining: 11m 18s\n",
      "131:\tlearn: 0.1449902\ttotal: 4m 2s\tremaining: 11m 16s\n",
      "132:\tlearn: 0.1448005\ttotal: 4m 4s\tremaining: 11m 13s\n",
      "133:\tlearn: 0.1443240\ttotal: 4m 6s\tremaining: 11m 12s\n",
      "134:\tlearn: 0.1441092\ttotal: 4m 7s\tremaining: 11m 10s\n",
      "135:\tlearn: 0.1438894\ttotal: 4m 9s\tremaining: 11m 8s\n",
      "136:\tlearn: 0.1435838\ttotal: 4m 11s\tremaining: 11m 6s\n",
      "137:\tlearn: 0.1433146\ttotal: 4m 13s\tremaining: 11m 4s\n",
      "138:\tlearn: 0.1430343\ttotal: 4m 15s\tremaining: 11m 2s\n",
      "139:\tlearn: 0.1428038\ttotal: 4m 16s\tremaining: 11m\n",
      "140:\tlearn: 0.1424312\ttotal: 4m 18s\tremaining: 10m 58s\n",
      "141:\tlearn: 0.1422035\ttotal: 4m 20s\tremaining: 10m 56s\n",
      "142:\tlearn: 0.1420459\ttotal: 4m 21s\tremaining: 10m 54s\n",
      "143:\tlearn: 0.1417463\ttotal: 4m 23s\tremaining: 10m 51s\n",
      "144:\tlearn: 0.1416181\ttotal: 4m 25s\tremaining: 10m 49s\n",
      "145:\tlearn: 0.1414895\ttotal: 4m 27s\tremaining: 10m 48s\n",
      "146:\tlearn: 0.1413261\ttotal: 4m 29s\tremaining: 10m 46s\n",
      "147:\tlearn: 0.1411342\ttotal: 4m 30s\tremaining: 10m 44s\n",
      "148:\tlearn: 0.1409276\ttotal: 4m 32s\tremaining: 10m 42s\n",
      "149:\tlearn: 0.1406872\ttotal: 4m 34s\tremaining: 10m 40s\n",
      "150:\tlearn: 0.1404251\ttotal: 4m 36s\tremaining: 10m 38s\n",
      "151:\tlearn: 0.1402643\ttotal: 4m 37s\tremaining: 10m 36s\n",
      "152:\tlearn: 0.1400308\ttotal: 4m 39s\tremaining: 10m 34s\n",
      "153:\tlearn: 0.1397131\ttotal: 4m 41s\tremaining: 10m 32s\n",
      "154:\tlearn: 0.1395484\ttotal: 4m 43s\tremaining: 10m 30s\n",
      "155:\tlearn: 0.1394241\ttotal: 4m 44s\tremaining: 10m 27s\n",
      "156:\tlearn: 0.1392075\ttotal: 4m 46s\tremaining: 10m 25s\n",
      "157:\tlearn: 0.1389903\ttotal: 4m 48s\tremaining: 10m 24s\n",
      "158:\tlearn: 0.1387948\ttotal: 4m 50s\tremaining: 10m 22s\n",
      "159:\tlearn: 0.1386860\ttotal: 4m 51s\tremaining: 10m 20s\n",
      "160:\tlearn: 0.1384662\ttotal: 4m 53s\tremaining: 10m 18s\n",
      "161:\tlearn: 0.1382899\ttotal: 4m 55s\tremaining: 10m 16s\n",
      "162:\tlearn: 0.1381072\ttotal: 4m 57s\tremaining: 10m 14s\n",
      "163:\tlearn: 0.1379465\ttotal: 4m 58s\tremaining: 10m 12s\n",
      "164:\tlearn: 0.1377706\ttotal: 5m\tremaining: 10m 10s\n",
      "165:\tlearn: 0.1375810\ttotal: 5m 2s\tremaining: 10m 8s\n",
      "166:\tlearn: 0.1374427\ttotal: 5m 4s\tremaining: 10m 6s\n",
      "167:\tlearn: 0.1371815\ttotal: 5m 6s\tremaining: 10m 5s\n",
      "168:\tlearn: 0.1369911\ttotal: 5m 8s\tremaining: 10m 3s\n",
      "169:\tlearn: 0.1368099\ttotal: 5m 9s\tremaining: 10m 1s\n",
      "170:\tlearn: 0.1366356\ttotal: 5m 11s\tremaining: 9m 59s\n",
      "171:\tlearn: 0.1364741\ttotal: 5m 13s\tremaining: 9m 57s\n",
      "172:\tlearn: 0.1363567\ttotal: 5m 15s\tremaining: 9m 55s\n",
      "173:\tlearn: 0.1362595\ttotal: 5m 16s\tremaining: 9m 53s\n",
      "174:\tlearn: 0.1361270\ttotal: 5m 18s\tremaining: 9m 51s\n",
      "175:\tlearn: 0.1359920\ttotal: 5m 20s\tremaining: 9m 49s\n",
      "176:\tlearn: 0.1357920\ttotal: 5m 21s\tremaining: 9m 47s\n",
      "177:\tlearn: 0.1355387\ttotal: 5m 23s\tremaining: 9m 45s\n",
      "178:\tlearn: 0.1353544\ttotal: 5m 25s\tremaining: 9m 43s\n",
      "179:\tlearn: 0.1352515\ttotal: 5m 27s\tremaining: 9m 41s\n",
      "180:\tlearn: 0.1350506\ttotal: 5m 28s\tremaining: 9m 39s\n",
      "181:\tlearn: 0.1348753\ttotal: 5m 30s\tremaining: 9m 37s\n",
      "182:\tlearn: 0.1347626\ttotal: 5m 32s\tremaining: 9m 35s\n",
      "183:\tlearn: 0.1346377\ttotal: 5m 34s\tremaining: 9m 33s\n",
      "184:\tlearn: 0.1345505\ttotal: 5m 35s\tremaining: 9m 31s\n",
      "185:\tlearn: 0.1344531\ttotal: 5m 37s\tremaining: 9m 30s\n",
      "186:\tlearn: 0.1342658\ttotal: 5m 39s\tremaining: 9m 28s\n",
      "187:\tlearn: 0.1341801\ttotal: 5m 41s\tremaining: 9m 25s\n",
      "188:\tlearn: 0.1340962\ttotal: 5m 42s\tremaining: 9m 24s\n",
      "189:\tlearn: 0.1339136\ttotal: 5m 44s\tremaining: 9m 22s\n",
      "190:\tlearn: 0.1337571\ttotal: 5m 46s\tremaining: 9m 20s\n",
      "191:\tlearn: 0.1335444\ttotal: 5m 48s\tremaining: 9m 18s\n",
      "192:\tlearn: 0.1333896\ttotal: 5m 50s\tremaining: 9m 16s\n",
      "193:\tlearn: 0.1331221\ttotal: 5m 51s\tremaining: 9m 14s\n",
      "194:\tlearn: 0.1329361\ttotal: 5m 53s\tremaining: 9m 13s\n",
      "195:\tlearn: 0.1328506\ttotal: 5m 55s\tremaining: 9m 11s\n",
      "196:\tlearn: 0.1326758\ttotal: 5m 57s\tremaining: 9m 9s\n",
      "197:\tlearn: 0.1324653\ttotal: 5m 59s\tremaining: 9m 7s\n",
      "198:\tlearn: 0.1323771\ttotal: 6m 1s\tremaining: 9m 6s\n",
      "199:\tlearn: 0.1323026\ttotal: 6m 2s\tremaining: 9m 4s\n",
      "200:\tlearn: 0.1320878\ttotal: 6m 4s\tremaining: 9m 2s\n",
      "201:\tlearn: 0.1318012\ttotal: 6m 6s\tremaining: 9m 1s\n",
      "202:\tlearn: 0.1315662\ttotal: 6m 8s\tremaining: 8m 59s\n",
      "203:\tlearn: 0.1314838\ttotal: 6m 10s\tremaining: 8m 57s\n",
      "204:\tlearn: 0.1314133\ttotal: 6m 12s\tremaining: 8m 55s\n",
      "205:\tlearn: 0.1312281\ttotal: 6m 14s\tremaining: 8m 54s\n",
      "206:\tlearn: 0.1310992\ttotal: 6m 16s\tremaining: 8m 52s\n",
      "207:\tlearn: 0.1309806\ttotal: 6m 17s\tremaining: 8m 50s\n",
      "208:\tlearn: 0.1308295\ttotal: 6m 19s\tremaining: 8m 48s\n",
      "209:\tlearn: 0.1306792\ttotal: 6m 21s\tremaining: 8m 46s\n",
      "210:\tlearn: 0.1305504\ttotal: 6m 23s\tremaining: 8m 45s\n",
      "211:\tlearn: 0.1304088\ttotal: 6m 25s\tremaining: 8m 43s\n",
      "212:\tlearn: 0.1303299\ttotal: 6m 27s\tremaining: 8m 41s\n",
      "213:\tlearn: 0.1302220\ttotal: 6m 28s\tremaining: 8m 39s\n",
      "214:\tlearn: 0.1300952\ttotal: 6m 30s\tremaining: 8m 38s\n",
      "215:\tlearn: 0.1299334\ttotal: 6m 32s\tremaining: 8m 36s\n",
      "216:\tlearn: 0.1297899\ttotal: 6m 34s\tremaining: 8m 34s\n",
      "217:\tlearn: 0.1296254\ttotal: 6m 36s\tremaining: 8m 33s\n",
      "218:\tlearn: 0.1294432\ttotal: 6m 38s\tremaining: 8m 31s\n",
      "219:\tlearn: 0.1293094\ttotal: 6m 40s\tremaining: 8m 29s\n",
      "220:\tlearn: 0.1291072\ttotal: 6m 42s\tremaining: 8m 27s\n",
      "221:\tlearn: 0.1289894\ttotal: 6m 43s\tremaining: 8m 25s\n",
      "222:\tlearn: 0.1288614\ttotal: 6m 45s\tremaining: 8m 23s\n",
      "223:\tlearn: 0.1287757\ttotal: 6m 47s\tremaining: 8m 22s\n",
      "224:\tlearn: 0.1286464\ttotal: 6m 49s\tremaining: 8m 20s\n",
      "225:\tlearn: 0.1285348\ttotal: 6m 51s\tremaining: 8m 18s\n",
      "226:\tlearn: 0.1283819\ttotal: 6m 52s\tremaining: 8m 16s\n",
      "227:\tlearn: 0.1282901\ttotal: 6m 54s\tremaining: 8m 14s\n",
      "228:\tlearn: 0.1281203\ttotal: 6m 56s\tremaining: 8m 13s\n",
      "229:\tlearn: 0.1279879\ttotal: 6m 58s\tremaining: 8m 11s\n",
      "230:\tlearn: 0.1279174\ttotal: 7m\tremaining: 8m 9s\n",
      "231:\tlearn: 0.1277507\ttotal: 7m 1s\tremaining: 8m 7s\n",
      "232:\tlearn: 0.1276188\ttotal: 7m 3s\tremaining: 8m 5s\n",
      "233:\tlearn: 0.1274864\ttotal: 7m 5s\tremaining: 8m 3s\n",
      "234:\tlearn: 0.1273297\ttotal: 7m 7s\tremaining: 8m 2s\n",
      "235:\tlearn: 0.1272572\ttotal: 7m 9s\tremaining: 8m\n",
      "236:\tlearn: 0.1271120\ttotal: 7m 11s\tremaining: 7m 58s\n",
      "237:\tlearn: 0.1270355\ttotal: 7m 12s\tremaining: 7m 56s\n",
      "238:\tlearn: 0.1268917\ttotal: 7m 14s\tremaining: 7m 54s\n",
      "239:\tlearn: 0.1267183\ttotal: 7m 16s\tremaining: 7m 52s\n",
      "240:\tlearn: 0.1266211\ttotal: 7m 18s\tremaining: 7m 51s\n",
      "241:\tlearn: 0.1264605\ttotal: 7m 20s\tremaining: 7m 49s\n",
      "242:\tlearn: 0.1263788\ttotal: 7m 21s\tremaining: 7m 47s\n",
      "243:\tlearn: 0.1263100\ttotal: 7m 23s\tremaining: 7m 45s\n",
      "244:\tlearn: 0.1262463\ttotal: 7m 25s\tremaining: 7m 43s\n",
      "245:\tlearn: 0.1261826\ttotal: 7m 27s\tremaining: 7m 41s\n",
      "246:\tlearn: 0.1261079\ttotal: 7m 28s\tremaining: 7m 39s\n",
      "247:\tlearn: 0.1259849\ttotal: 7m 30s\tremaining: 7m 37s\n",
      "248:\tlearn: 0.1258496\ttotal: 7m 32s\tremaining: 7m 35s\n",
      "249:\tlearn: 0.1257421\ttotal: 7m 34s\tremaining: 7m 34s\n",
      "250:\tlearn: 0.1256028\ttotal: 7m 35s\tremaining: 7m 32s\n",
      "251:\tlearn: 0.1254400\ttotal: 7m 37s\tremaining: 7m 30s\n",
      "252:\tlearn: 0.1253800\ttotal: 7m 39s\tremaining: 7m 28s\n",
      "253:\tlearn: 0.1252281\ttotal: 7m 41s\tremaining: 7m 26s\n",
      "254:\tlearn: 0.1250733\ttotal: 7m 43s\tremaining: 7m 25s\n",
      "255:\tlearn: 0.1249820\ttotal: 7m 44s\tremaining: 7m 23s\n",
      "256:\tlearn: 0.1248546\ttotal: 7m 46s\tremaining: 7m 21s\n",
      "257:\tlearn: 0.1247368\ttotal: 7m 48s\tremaining: 7m 19s\n",
      "258:\tlearn: 0.1246416\ttotal: 7m 50s\tremaining: 7m 17s\n",
      "259:\tlearn: 0.1245772\ttotal: 7m 51s\tremaining: 7m 15s\n",
      "260:\tlearn: 0.1245113\ttotal: 7m 53s\tremaining: 7m 13s\n",
      "261:\tlearn: 0.1244419\ttotal: 7m 55s\tremaining: 7m 11s\n",
      "262:\tlearn: 0.1243553\ttotal: 7m 57s\tremaining: 7m 10s\n",
      "263:\tlearn: 0.1242656\ttotal: 7m 59s\tremaining: 7m 8s\n",
      "264:\tlearn: 0.1241892\ttotal: 8m 1s\tremaining: 7m 6s\n",
      "265:\tlearn: 0.1241315\ttotal: 8m 2s\tremaining: 7m 4s\n",
      "266:\tlearn: 0.1240795\ttotal: 8m 4s\tremaining: 7m 2s\n",
      "267:\tlearn: 0.1239487\ttotal: 8m 6s\tremaining: 7m 1s\n",
      "268:\tlearn: 0.1238888\ttotal: 8m 8s\tremaining: 6m 59s\n",
      "269:\tlearn: 0.1238177\ttotal: 8m 10s\tremaining: 6m 57s\n",
      "270:\tlearn: 0.1236762\ttotal: 8m 12s\tremaining: 6m 55s\n",
      "271:\tlearn: 0.1235455\ttotal: 8m 13s\tremaining: 6m 54s\n",
      "272:\tlearn: 0.1234836\ttotal: 8m 15s\tremaining: 6m 52s\n",
      "273:\tlearn: 0.1232920\ttotal: 8m 17s\tremaining: 6m 50s\n",
      "274:\tlearn: 0.1231873\ttotal: 8m 19s\tremaining: 6m 48s\n",
      "275:\tlearn: 0.1231312\ttotal: 8m 21s\tremaining: 6m 46s\n",
      "276:\tlearn: 0.1230645\ttotal: 8m 23s\tremaining: 6m 45s\n",
      "277:\tlearn: 0.1229534\ttotal: 8m 24s\tremaining: 6m 43s\n",
      "278:\tlearn: 0.1227661\ttotal: 8m 26s\tremaining: 6m 41s\n",
      "279:\tlearn: 0.1227079\ttotal: 8m 28s\tremaining: 6m 39s\n",
      "280:\tlearn: 0.1226027\ttotal: 8m 30s\tremaining: 6m 37s\n",
      "281:\tlearn: 0.1225430\ttotal: 8m 31s\tremaining: 6m 35s\n",
      "282:\tlearn: 0.1223937\ttotal: 8m 33s\tremaining: 6m 34s\n",
      "283:\tlearn: 0.1223288\ttotal: 8m 35s\tremaining: 6m 32s\n",
      "284:\tlearn: 0.1222755\ttotal: 8m 37s\tremaining: 6m 30s\n",
      "285:\tlearn: 0.1221755\ttotal: 8m 39s\tremaining: 6m 28s\n",
      "286:\tlearn: 0.1221213\ttotal: 8m 40s\tremaining: 6m 26s\n",
      "287:\tlearn: 0.1220664\ttotal: 8m 42s\tremaining: 6m 24s\n",
      "288:\tlearn: 0.1219271\ttotal: 8m 44s\tremaining: 6m 22s\n",
      "289:\tlearn: 0.1218732\ttotal: 8m 46s\tremaining: 6m 21s\n",
      "290:\tlearn: 0.1217673\ttotal: 8m 48s\tremaining: 6m 19s\n",
      "291:\tlearn: 0.1216286\ttotal: 8m 50s\tremaining: 6m 17s\n",
      "292:\tlearn: 0.1215800\ttotal: 8m 51s\tremaining: 6m 15s\n",
      "293:\tlearn: 0.1214252\ttotal: 8m 53s\tremaining: 6m 13s\n",
      "294:\tlearn: 0.1213553\ttotal: 8m 55s\tremaining: 6m 12s\n",
      "295:\tlearn: 0.1213063\ttotal: 8m 57s\tremaining: 6m 10s\n",
      "296:\tlearn: 0.1212575\ttotal: 8m 59s\tremaining: 6m 8s\n",
      "297:\tlearn: 0.1212010\ttotal: 9m 1s\tremaining: 6m 6s\n",
      "298:\tlearn: 0.1209966\ttotal: 9m 3s\tremaining: 6m 5s\n",
      "299:\tlearn: 0.1209345\ttotal: 9m 5s\tremaining: 6m 3s\n",
      "300:\tlearn: 0.1208859\ttotal: 9m 6s\tremaining: 6m 1s\n",
      "301:\tlearn: 0.1206111\ttotal: 9m 8s\tremaining: 5m 59s\n",
      "302:\tlearn: 0.1204969\ttotal: 9m 10s\tremaining: 5m 58s\n",
      "303:\tlearn: 0.1203548\ttotal: 9m 12s\tremaining: 5m 56s\n",
      "304:\tlearn: 0.1202459\ttotal: 9m 14s\tremaining: 5m 54s\n",
      "305:\tlearn: 0.1201304\ttotal: 9m 16s\tremaining: 5m 52s\n",
      "306:\tlearn: 0.1199894\ttotal: 9m 18s\tremaining: 5m 50s\n",
      "307:\tlearn: 0.1199211\ttotal: 9m 20s\tremaining: 5m 49s\n",
      "308:\tlearn: 0.1197958\ttotal: 9m 21s\tremaining: 5m 47s\n",
      "309:\tlearn: 0.1196761\ttotal: 9m 23s\tremaining: 5m 45s\n",
      "310:\tlearn: 0.1195853\ttotal: 9m 25s\tremaining: 5m 43s\n",
      "311:\tlearn: 0.1194515\ttotal: 9m 27s\tremaining: 5m 41s\n",
      "312:\tlearn: 0.1194043\ttotal: 9m 29s\tremaining: 5m 40s\n",
      "313:\tlearn: 0.1193597\ttotal: 9m 31s\tremaining: 5m 38s\n",
      "314:\tlearn: 0.1191610\ttotal: 9m 33s\tremaining: 5m 36s\n",
      "315:\tlearn: 0.1190549\ttotal: 9m 34s\tremaining: 5m 34s\n",
      "316:\tlearn: 0.1189635\ttotal: 9m 36s\tremaining: 5m 32s\n",
      "317:\tlearn: 0.1189076\ttotal: 9m 38s\tremaining: 5m 31s\n",
      "318:\tlearn: 0.1188603\ttotal: 9m 40s\tremaining: 5m 29s\n",
      "319:\tlearn: 0.1188148\ttotal: 9m 42s\tremaining: 5m 27s\n",
      "320:\tlearn: 0.1187297\ttotal: 9m 43s\tremaining: 5m 25s\n",
      "321:\tlearn: 0.1186731\ttotal: 9m 45s\tremaining: 5m 23s\n",
      "322:\tlearn: 0.1186272\ttotal: 9m 47s\tremaining: 5m 21s\n",
      "323:\tlearn: 0.1184964\ttotal: 9m 49s\tremaining: 5m 20s\n",
      "324:\tlearn: 0.1184471\ttotal: 9m 50s\tremaining: 5m 18s\n",
      "325:\tlearn: 0.1184027\ttotal: 9m 52s\tremaining: 5m 16s\n",
      "326:\tlearn: 0.1182997\ttotal: 9m 54s\tremaining: 5m 14s\n",
      "327:\tlearn: 0.1182351\ttotal: 9m 56s\tremaining: 5m 12s\n",
      "328:\tlearn: 0.1181896\ttotal: 9m 58s\tremaining: 5m 11s\n",
      "329:\tlearn: 0.1180908\ttotal: 10m\tremaining: 5m 9s\n",
      "330:\tlearn: 0.1179013\ttotal: 10m 2s\tremaining: 5m 7s\n",
      "331:\tlearn: 0.1178385\ttotal: 10m 4s\tremaining: 5m 5s\n",
      "332:\tlearn: 0.1177922\ttotal: 10m 6s\tremaining: 5m 4s\n",
      "333:\tlearn: 0.1177501\ttotal: 10m 8s\tremaining: 5m 2s\n",
      "334:\tlearn: 0.1177106\ttotal: 10m 10s\tremaining: 5m\n",
      "335:\tlearn: 0.1174851\ttotal: 10m 12s\tremaining: 4m 58s\n",
      "336:\tlearn: 0.1174442\ttotal: 10m 14s\tremaining: 4m 57s\n",
      "337:\tlearn: 0.1173964\ttotal: 10m 16s\tremaining: 4m 55s\n",
      "338:\tlearn: 0.1173516\ttotal: 10m 17s\tremaining: 4m 53s\n",
      "339:\tlearn: 0.1173115\ttotal: 10m 19s\tremaining: 4m 51s\n",
      "340:\tlearn: 0.1172713\ttotal: 10m 21s\tremaining: 4m 49s\n",
      "341:\tlearn: 0.1172294\ttotal: 10m 23s\tremaining: 4m 47s\n",
      "342:\tlearn: 0.1171425\ttotal: 10m 25s\tremaining: 4m 46s\n",
      "343:\tlearn: 0.1170835\ttotal: 10m 27s\tremaining: 4m 44s\n",
      "344:\tlearn: 0.1169552\ttotal: 10m 29s\tremaining: 4m 42s\n",
      "345:\tlearn: 0.1168964\ttotal: 10m 30s\tremaining: 4m 40s\n",
      "346:\tlearn: 0.1167829\ttotal: 10m 32s\tremaining: 4m 39s\n",
      "347:\tlearn: 0.1166773\ttotal: 10m 34s\tremaining: 4m 37s\n",
      "348:\tlearn: 0.1166282\ttotal: 10m 36s\tremaining: 4m 35s\n",
      "349:\tlearn: 0.1164947\ttotal: 10m 38s\tremaining: 4m 33s\n",
      "350:\tlearn: 0.1164364\ttotal: 10m 40s\tremaining: 4m 31s\n",
      "351:\tlearn: 0.1163846\ttotal: 10m 42s\tremaining: 4m 30s\n",
      "352:\tlearn: 0.1162902\ttotal: 10m 44s\tremaining: 4m 28s\n",
      "353:\tlearn: 0.1162518\ttotal: 10m 46s\tremaining: 4m 26s\n",
      "354:\tlearn: 0.1161871\ttotal: 10m 48s\tremaining: 4m 24s\n",
      "355:\tlearn: 0.1160707\ttotal: 10m 50s\tremaining: 4m 22s\n",
      "356:\tlearn: 0.1159140\ttotal: 10m 52s\tremaining: 4m 21s\n",
      "357:\tlearn: 0.1158678\ttotal: 10m 54s\tremaining: 4m 19s\n",
      "358:\tlearn: 0.1157427\ttotal: 10m 56s\tremaining: 4m 17s\n",
      "359:\tlearn: 0.1156169\ttotal: 10m 58s\tremaining: 4m 15s\n",
      "360:\tlearn: 0.1155188\ttotal: 10m 59s\tremaining: 4m 14s\n",
      "361:\tlearn: 0.1154257\ttotal: 11m 1s\tremaining: 4m 12s\n",
      "362:\tlearn: 0.1153856\ttotal: 11m 3s\tremaining: 4m 10s\n",
      "363:\tlearn: 0.1153466\ttotal: 11m 5s\tremaining: 4m 8s\n",
      "364:\tlearn: 0.1152400\ttotal: 11m 7s\tremaining: 4m 6s\n",
      "365:\tlearn: 0.1151304\ttotal: 11m 9s\tremaining: 4m 5s\n",
      "366:\tlearn: 0.1149928\ttotal: 11m 11s\tremaining: 4m 3s\n",
      "367:\tlearn: 0.1149555\ttotal: 11m 13s\tremaining: 4m 1s\n",
      "368:\tlearn: 0.1149170\ttotal: 11m 15s\tremaining: 3m 59s\n",
      "369:\tlearn: 0.1148439\ttotal: 11m 17s\tremaining: 3m 57s\n",
      "370:\tlearn: 0.1147886\ttotal: 11m 19s\tremaining: 3m 56s\n",
      "371:\tlearn: 0.1147455\ttotal: 11m 20s\tremaining: 3m 54s\n",
      "372:\tlearn: 0.1146843\ttotal: 11m 22s\tremaining: 3m 52s\n",
      "373:\tlearn: 0.1146056\ttotal: 11m 24s\tremaining: 3m 50s\n",
      "374:\tlearn: 0.1144636\ttotal: 11m 26s\tremaining: 3m 48s\n",
      "375:\tlearn: 0.1143243\ttotal: 11m 28s\tremaining: 3m 47s\n",
      "376:\tlearn: 0.1142859\ttotal: 11m 30s\tremaining: 3m 45s\n",
      "377:\tlearn: 0.1142000\ttotal: 11m 32s\tremaining: 3m 43s\n",
      "378:\tlearn: 0.1141606\ttotal: 11m 33s\tremaining: 3m 41s\n",
      "379:\tlearn: 0.1141214\ttotal: 11m 35s\tremaining: 3m 39s\n",
      "380:\tlearn: 0.1140195\ttotal: 11m 37s\tremaining: 3m 37s\n",
      "381:\tlearn: 0.1137817\ttotal: 11m 39s\tremaining: 3m 36s\n",
      "382:\tlearn: 0.1136896\ttotal: 11m 41s\tremaining: 3m 34s\n",
      "383:\tlearn: 0.1135802\ttotal: 11m 43s\tremaining: 3m 32s\n",
      "384:\tlearn: 0.1134993\ttotal: 11m 44s\tremaining: 3m 30s\n",
      "385:\tlearn: 0.1134496\ttotal: 11m 46s\tremaining: 3m 28s\n",
      "386:\tlearn: 0.1133588\ttotal: 11m 48s\tremaining: 3m 26s\n",
      "387:\tlearn: 0.1133227\ttotal: 11m 50s\tremaining: 3m 25s\n",
      "388:\tlearn: 0.1132474\ttotal: 11m 51s\tremaining: 3m 23s\n",
      "389:\tlearn: 0.1132089\ttotal: 11m 53s\tremaining: 3m 21s\n",
      "390:\tlearn: 0.1131733\ttotal: 11m 55s\tremaining: 3m 19s\n",
      "391:\tlearn: 0.1131220\ttotal: 11m 57s\tremaining: 3m 17s\n",
      "392:\tlearn: 0.1130267\ttotal: 11m 59s\tremaining: 3m 15s\n",
      "393:\tlearn: 0.1129900\ttotal: 12m\tremaining: 3m 13s\n",
      "394:\tlearn: 0.1129492\ttotal: 12m 2s\tremaining: 3m 12s\n",
      "395:\tlearn: 0.1129169\ttotal: 12m 4s\tremaining: 3m 10s\n",
      "396:\tlearn: 0.1128306\ttotal: 12m 6s\tremaining: 3m 8s\n",
      "397:\tlearn: 0.1127911\ttotal: 12m 8s\tremaining: 3m 6s\n",
      "398:\tlearn: 0.1126586\ttotal: 12m 9s\tremaining: 3m 4s\n",
      "399:\tlearn: 0.1126137\ttotal: 12m 11s\tremaining: 3m 2s\n",
      "400:\tlearn: 0.1125171\ttotal: 12m 13s\tremaining: 3m 1s\n",
      "401:\tlearn: 0.1124200\ttotal: 12m 15s\tremaining: 2m 59s\n",
      "402:\tlearn: 0.1123699\ttotal: 12m 16s\tremaining: 2m 57s\n",
      "403:\tlearn: 0.1123335\ttotal: 12m 18s\tremaining: 2m 55s\n",
      "404:\tlearn: 0.1122306\ttotal: 12m 20s\tremaining: 2m 53s\n",
      "405:\tlearn: 0.1121941\ttotal: 12m 21s\tremaining: 2m 51s\n",
      "406:\tlearn: 0.1120700\ttotal: 12m 23s\tremaining: 2m 49s\n",
      "407:\tlearn: 0.1119574\ttotal: 12m 25s\tremaining: 2m 48s\n",
      "408:\tlearn: 0.1118215\ttotal: 12m 27s\tremaining: 2m 46s\n",
      "409:\tlearn: 0.1117745\ttotal: 12m 28s\tremaining: 2m 44s\n",
      "410:\tlearn: 0.1116787\ttotal: 12m 30s\tremaining: 2m 42s\n",
      "411:\tlearn: 0.1116456\ttotal: 12m 32s\tremaining: 2m 40s\n",
      "412:\tlearn: 0.1115659\ttotal: 12m 34s\tremaining: 2m 38s\n",
      "413:\tlearn: 0.1115141\ttotal: 12m 35s\tremaining: 2m 37s\n",
      "414:\tlearn: 0.1114381\ttotal: 12m 37s\tremaining: 2m 35s\n",
      "415:\tlearn: 0.1114051\ttotal: 12m 39s\tremaining: 2m 33s\n",
      "416:\tlearn: 0.1113294\ttotal: 12m 41s\tremaining: 2m 31s\n",
      "417:\tlearn: 0.1112811\ttotal: 12m 42s\tremaining: 2m 29s\n",
      "418:\tlearn: 0.1112440\ttotal: 12m 44s\tremaining: 2m 27s\n",
      "419:\tlearn: 0.1111589\ttotal: 12m 46s\tremaining: 2m 25s\n",
      "420:\tlearn: 0.1110623\ttotal: 12m 48s\tremaining: 2m 24s\n",
      "421:\tlearn: 0.1110220\ttotal: 12m 49s\tremaining: 2m 22s\n",
      "422:\tlearn: 0.1109892\ttotal: 12m 51s\tremaining: 2m 20s\n",
      "423:\tlearn: 0.1109079\ttotal: 12m 53s\tremaining: 2m 18s\n",
      "424:\tlearn: 0.1108175\ttotal: 12m 55s\tremaining: 2m 16s\n",
      "425:\tlearn: 0.1107639\ttotal: 12m 56s\tremaining: 2m 14s\n",
      "426:\tlearn: 0.1106983\ttotal: 12m 58s\tremaining: 2m 13s\n",
      "427:\tlearn: 0.1106092\ttotal: 13m\tremaining: 2m 11s\n",
      "428:\tlearn: 0.1105489\ttotal: 13m 2s\tremaining: 2m 9s\n",
      "429:\tlearn: 0.1104439\ttotal: 13m 4s\tremaining: 2m 7s\n",
      "430:\tlearn: 0.1104117\ttotal: 13m 6s\tremaining: 2m 5s\n",
      "431:\tlearn: 0.1103637\ttotal: 13m 7s\tremaining: 2m 4s\n",
      "432:\tlearn: 0.1103214\ttotal: 13m 9s\tremaining: 2m 2s\n",
      "433:\tlearn: 0.1102524\ttotal: 13m 11s\tremaining: 2m\n",
      "434:\tlearn: 0.1102215\ttotal: 13m 13s\tremaining: 1m 58s\n",
      "435:\tlearn: 0.1101843\ttotal: 13m 14s\tremaining: 1m 56s\n",
      "436:\tlearn: 0.1100876\ttotal: 13m 16s\tremaining: 1m 54s\n",
      "437:\tlearn: 0.1100176\ttotal: 13m 18s\tremaining: 1m 53s\n",
      "438:\tlearn: 0.1099080\ttotal: 13m 20s\tremaining: 1m 51s\n",
      "439:\tlearn: 0.1098376\ttotal: 13m 21s\tremaining: 1m 49s\n",
      "440:\tlearn: 0.1097572\ttotal: 13m 23s\tremaining: 1m 47s\n",
      "441:\tlearn: 0.1097255\ttotal: 13m 25s\tremaining: 1m 45s\n",
      "442:\tlearn: 0.1096751\ttotal: 13m 27s\tremaining: 1m 43s\n",
      "443:\tlearn: 0.1096447\ttotal: 13m 28s\tremaining: 1m 42s\n",
      "444:\tlearn: 0.1096019\ttotal: 13m 30s\tremaining: 1m 40s\n",
      "445:\tlearn: 0.1094850\ttotal: 13m 32s\tremaining: 1m 38s\n",
      "446:\tlearn: 0.1094067\ttotal: 13m 33s\tremaining: 1m 36s\n",
      "447:\tlearn: 0.1092592\ttotal: 13m 35s\tremaining: 1m 34s\n",
      "448:\tlearn: 0.1092275\ttotal: 13m 37s\tremaining: 1m 32s\n",
      "449:\tlearn: 0.1091795\ttotal: 13m 39s\tremaining: 1m 31s\n",
      "450:\tlearn: 0.1091494\ttotal: 13m 41s\tremaining: 1m 29s\n",
      "451:\tlearn: 0.1090827\ttotal: 13m 42s\tremaining: 1m 27s\n",
      "452:\tlearn: 0.1089956\ttotal: 13m 44s\tremaining: 1m 25s\n",
      "453:\tlearn: 0.1088336\ttotal: 13m 46s\tremaining: 1m 23s\n",
      "454:\tlearn: 0.1087925\ttotal: 13m 48s\tremaining: 1m 21s\n",
      "455:\tlearn: 0.1087585\ttotal: 13m 49s\tremaining: 1m 20s\n",
      "456:\tlearn: 0.1086911\ttotal: 13m 51s\tremaining: 1m 18s\n",
      "457:\tlearn: 0.1086328\ttotal: 13m 53s\tremaining: 1m 16s\n",
      "458:\tlearn: 0.1085217\ttotal: 13m 55s\tremaining: 1m 14s\n",
      "459:\tlearn: 0.1084467\ttotal: 13m 56s\tremaining: 1m 12s\n",
      "460:\tlearn: 0.1083397\ttotal: 13m 58s\tremaining: 1m 10s\n",
      "461:\tlearn: 0.1083072\ttotal: 14m\tremaining: 1m 9s\n",
      "462:\tlearn: 0.1082752\ttotal: 14m 2s\tremaining: 1m 7s\n",
      "463:\tlearn: 0.1081765\ttotal: 14m 4s\tremaining: 1m 5s\n",
      "464:\tlearn: 0.1081321\ttotal: 14m 5s\tremaining: 1m 3s\n",
      "465:\tlearn: 0.1080471\ttotal: 14m 7s\tremaining: 1m 1s\n",
      "466:\tlearn: 0.1080201\ttotal: 14m 9s\tremaining: 1m\n",
      "467:\tlearn: 0.1079900\ttotal: 14m 11s\tremaining: 58.2s\n",
      "468:\tlearn: 0.1079557\ttotal: 14m 12s\tremaining: 56.4s\n",
      "469:\tlearn: 0.1077961\ttotal: 14m 14s\tremaining: 54.6s\n",
      "470:\tlearn: 0.1077671\ttotal: 14m 16s\tremaining: 52.7s\n",
      "471:\tlearn: 0.1076924\ttotal: 14m 18s\tremaining: 50.9s\n",
      "472:\tlearn: 0.1076113\ttotal: 14m 19s\tremaining: 49.1s\n",
      "473:\tlearn: 0.1075789\ttotal: 14m 21s\tremaining: 47.3s\n",
      "474:\tlearn: 0.1074835\ttotal: 14m 23s\tremaining: 45.4s\n",
      "475:\tlearn: 0.1073743\ttotal: 14m 25s\tremaining: 43.6s\n",
      "476:\tlearn: 0.1072965\ttotal: 14m 26s\tremaining: 41.8s\n",
      "477:\tlearn: 0.1072658\ttotal: 14m 28s\tremaining: 40s\n",
      "478:\tlearn: 0.1071950\ttotal: 14m 30s\tremaining: 38.2s\n",
      "479:\tlearn: 0.1071512\ttotal: 14m 32s\tremaining: 36.3s\n",
      "480:\tlearn: 0.1071106\ttotal: 14m 34s\tremaining: 34.5s\n",
      "481:\tlearn: 0.1070256\ttotal: 14m 36s\tremaining: 32.7s\n",
      "482:\tlearn: 0.1069633\ttotal: 14m 37s\tremaining: 30.9s\n",
      "483:\tlearn: 0.1068984\ttotal: 14m 39s\tremaining: 29.1s\n",
      "484:\tlearn: 0.1068663\ttotal: 14m 41s\tremaining: 27.3s\n",
      "485:\tlearn: 0.1068052\ttotal: 14m 43s\tremaining: 25.4s\n",
      "486:\tlearn: 0.1067618\ttotal: 14m 44s\tremaining: 23.6s\n",
      "487:\tlearn: 0.1066791\ttotal: 14m 46s\tremaining: 21.8s\n",
      "488:\tlearn: 0.1066439\ttotal: 14m 48s\tremaining: 20s\n",
      "489:\tlearn: 0.1065651\ttotal: 14m 50s\tremaining: 18.2s\n",
      "490:\tlearn: 0.1064688\ttotal: 14m 52s\tremaining: 16.4s\n",
      "491:\tlearn: 0.1064384\ttotal: 14m 54s\tremaining: 14.5s\n",
      "492:\tlearn: 0.1064096\ttotal: 14m 55s\tremaining: 12.7s\n",
      "493:\tlearn: 0.1063683\ttotal: 14m 57s\tremaining: 10.9s\n",
      "494:\tlearn: 0.1063393\ttotal: 14m 59s\tremaining: 9.08s\n",
      "495:\tlearn: 0.1062809\ttotal: 15m 1s\tremaining: 7.27s\n",
      "496:\tlearn: 0.1061680\ttotal: 15m 3s\tremaining: 5.45s\n",
      "497:\tlearn: 0.1061305\ttotal: 15m 5s\tremaining: 3.63s\n",
      "498:\tlearn: 0.1060308\ttotal: 15m 7s\tremaining: 1.82s\n",
      "499:\tlearn: 0.1060000\ttotal: 15m 9s\tremaining: 0us\n",
      "CatBoost F1: 0.75\n"
     ]
    }
   ],
   "source": [
    "steps = [('vect', TfidfVectorizer(stop_words=stopwords)), ('cat', CatBoostClassifier(iterations=500))]\n",
    "pipeline = Pipeline(steps)\n",
    "result_cat = cross_val_score(pipeline, features_train, target_train, cv=3, scoring = 'f1').mean()\n",
    "print(f'CatBoost F1: {result_cat:.2f}')"
   ]
  },
  {
   "cell_type": "markdown",
   "metadata": {},
   "source": [
    "Уменьшила итерацию, т.к слишком долго учится. На 1000 итерации показатель F1 0.72. На 500 итерации показатель F1 0.75"
   ]
  },
  {
   "cell_type": "markdown",
   "metadata": {},
   "source": [
    "## Тестирование"
   ]
  },
  {
   "cell_type": "code",
   "execution_count": 20,
   "metadata": {},
   "outputs": [
    {
     "name": "stdout",
     "output_type": "stream",
     "text": [
      "Тест F1: 0.79\n"
     ]
    },
    {
     "name": "stderr",
     "output_type": "stream",
     "text": [
      "/opt/conda/lib/python3.9/site-packages/sklearn/linear_model/_logistic.py:763: ConvergenceWarning: lbfgs failed to converge (status=1):\n",
      "STOP: TOTAL NO. of ITERATIONS REACHED LIMIT.\n",
      "\n",
      "Increase the number of iterations (max_iter) or scale the data as shown in:\n",
      "    https://scikit-learn.org/stable/modules/preprocessing.html\n",
      "Please also refer to the documentation for alternative solver options:\n",
      "    https://scikit-learn.org/stable/modules/linear_model.html#logistic-regression\n",
      "  n_iter_i = _check_optimize_result(\n"
     ]
    }
   ],
   "source": [
    "count_tf_idf = TfidfVectorizer(stop_words=stopwords)\n",
    "tf_idf_ft = count_tf_idf.fit_transform(features_train)\n",
    "tf_idf_ftest = count_tf_idf.transform(features_test)\n",
    "model_test = LogisticRegression(random_state=12345, C=15.0)\n",
    "model_test.fit(tf_idf_ft, target_train)\n",
    "predict = model_test.predict(tf_idf_ftest)\n",
    "result_test = f1_score(target_test, predict)\n",
    "print(f'Тест F1: {result_test:.2f}')"
   ]
  },
  {
   "cell_type": "code",
   "execution_count": null,
   "metadata": {},
   "outputs": [],
   "source": [
    "model = CatBoostClassifier(iterations=500, verbose=100, text_features = ['lemm_text'])\n",
    "model_test_cat.fit()"
   ]
  },
  {
   "cell_type": "markdown",
   "metadata": {},
   "source": [
    "На тесте F1 0.79 задача выполнена."
   ]
  },
  {
   "cell_type": "markdown",
   "metadata": {},
   "source": [
    "## Выводы"
   ]
  },
  {
   "cell_type": "markdown",
   "metadata": {},
   "source": [
    "Для выполнения данного проекта были проделаны следующие шаги:\n",
    "1. Загрузка данных и первичный просмотр данных\n",
    "2. Очистка текста от лишних символов и приведение в единый регистр\n",
    "3. Лемматизация (приведение слов в исходное состояние)\n",
    "4. Разделение на выборки 1/3 \n",
    "5. Проведена балансировка целевого признака\n",
    "6. Векторизация текста\n",
    "7. Обучение моделей:\n",
    "    - Логистическая регрессия показатели F1 - 0.77\n",
    "    - CatBoost показатели F1 - 0.75\n",
    "    \n",
    "8. Сделан выбор в пользу лучшего показателя\n",
    "9. Тестирование показатель F1 - 0.79\n"
   ]
  }
 ],
 "metadata": {
  "ExecuteTimeLog": [
   {
    "duration": 2835,
    "start_time": "2023-03-02T09:45:02.563Z"
   },
   {
    "duration": 2296,
    "start_time": "2023-03-02T09:45:49.212Z"
   },
   {
    "duration": 21,
    "start_time": "2023-03-02T09:46:03.186Z"
   },
   {
    "duration": 163,
    "start_time": "2023-03-02T09:46:14.522Z"
   },
   {
    "duration": 22,
    "start_time": "2023-03-02T09:59:09.574Z"
   },
   {
    "duration": 150,
    "start_time": "2023-03-02T09:59:54.614Z"
   },
   {
    "duration": 17,
    "start_time": "2023-03-02T10:00:05.803Z"
   },
   {
    "duration": 14,
    "start_time": "2023-03-02T10:00:24.392Z"
   },
   {
    "duration": 1953,
    "start_time": "2023-03-02T10:03:39.282Z"
   },
   {
    "duration": 3,
    "start_time": "2023-03-02T10:04:31.711Z"
   },
   {
    "duration": 3,
    "start_time": "2023-03-02T10:04:35.694Z"
   },
   {
    "duration": 52,
    "start_time": "2023-03-02T10:04:44.643Z"
   },
   {
    "duration": 6,
    "start_time": "2023-03-02T10:05:06.703Z"
   },
   {
    "duration": 2572,
    "start_time": "2023-03-02T10:05:16.328Z"
   },
   {
    "duration": 2247,
    "start_time": "2023-03-02T10:05:18.902Z"
   },
   {
    "duration": 19,
    "start_time": "2023-03-02T10:05:21.151Z"
   },
   {
    "duration": 164,
    "start_time": "2023-03-02T10:05:21.172Z"
   },
   {
    "duration": 1997,
    "start_time": "2023-03-02T10:05:21.338Z"
   },
   {
    "duration": 23,
    "start_time": "2023-03-02T10:05:23.337Z"
   },
   {
    "duration": 190,
    "start_time": "2023-03-02T10:05:23.362Z"
   },
   {
    "duration": 11,
    "start_time": "2023-03-02T10:08:46.230Z"
   },
   {
    "duration": 1696180,
    "start_time": "2023-03-02T10:08:52.397Z"
   },
   {
    "duration": 0,
    "start_time": "2023-03-02T10:37:08.579Z"
   },
   {
    "duration": 0,
    "start_time": "2023-03-02T10:37:08.580Z"
   },
   {
    "duration": 2567,
    "start_time": "2023-03-02T10:37:16.466Z"
   },
   {
    "duration": 829,
    "start_time": "2023-03-02T10:37:19.035Z"
   },
   {
    "duration": 20,
    "start_time": "2023-03-02T10:37:19.866Z"
   },
   {
    "duration": 250,
    "start_time": "2023-03-02T10:37:19.887Z"
   },
   {
    "duration": 187,
    "start_time": "2023-03-02T10:37:20.139Z"
   },
   {
    "duration": 2066,
    "start_time": "2023-03-02T10:37:20.328Z"
   },
   {
    "duration": 22,
    "start_time": "2023-03-02T10:37:22.396Z"
   },
   {
    "duration": 12319,
    "start_time": "2023-03-02T10:37:22.420Z"
   },
   {
    "duration": 0,
    "start_time": "2023-03-02T10:37:34.748Z"
   },
   {
    "duration": 224,
    "start_time": "2023-03-02T10:37:38.257Z"
   },
   {
    "duration": 45,
    "start_time": "2023-03-02T17:01:19.244Z"
   },
   {
    "duration": 3118,
    "start_time": "2023-03-02T17:01:22.695Z"
   },
   {
    "duration": 2754,
    "start_time": "2023-03-02T17:01:25.815Z"
   },
   {
    "duration": 2574,
    "start_time": "2023-03-02T17:01:35.606Z"
   },
   {
    "duration": 1060,
    "start_time": "2023-03-02T17:01:38.182Z"
   },
   {
    "duration": 20,
    "start_time": "2023-03-02T17:01:39.244Z"
   },
   {
    "duration": 152,
    "start_time": "2023-03-02T17:01:39.266Z"
   },
   {
    "duration": 1891,
    "start_time": "2023-03-02T17:01:39.420Z"
   },
   {
    "duration": 26,
    "start_time": "2023-03-02T17:01:41.312Z"
   },
   {
    "duration": 167,
    "start_time": "2023-03-02T17:03:04.036Z"
   },
   {
    "duration": 956,
    "start_time": "2023-03-02T17:04:42.716Z"
   },
   {
    "duration": 1013,
    "start_time": "2023-03-02T17:05:05.663Z"
   },
   {
    "duration": 944,
    "start_time": "2023-03-02T17:05:14.762Z"
   },
   {
    "duration": 1052,
    "start_time": "2023-03-02T17:05:22.361Z"
   },
   {
    "duration": 13,
    "start_time": "2023-03-02T17:18:21.868Z"
   },
   {
    "duration": 71,
    "start_time": "2023-03-02T17:19:46.859Z"
   },
   {
    "duration": 186,
    "start_time": "2023-03-02T17:19:51.187Z"
   },
   {
    "duration": 245,
    "start_time": "2023-03-02T17:20:14.507Z"
   },
   {
    "duration": 10170,
    "start_time": "2023-03-02T17:21:17.701Z"
   },
   {
    "duration": 4,
    "start_time": "2023-03-02T17:21:53.397Z"
   },
   {
    "duration": 31,
    "start_time": "2023-03-02T17:36:43.468Z"
   },
   {
    "duration": 16,
    "start_time": "2023-03-02T17:37:07.013Z"
   },
   {
    "duration": 16,
    "start_time": "2023-03-02T17:37:24.997Z"
   },
   {
    "duration": 4,
    "start_time": "2023-03-02T17:37:33.044Z"
   },
   {
    "duration": 17,
    "start_time": "2023-03-02T17:37:35.942Z"
   },
   {
    "duration": 88,
    "start_time": "2023-03-02T17:37:53.909Z"
   },
   {
    "duration": 389,
    "start_time": "2023-03-02T17:37:56.909Z"
   },
   {
    "duration": 24,
    "start_time": "2023-03-02T17:38:40.295Z"
   },
   {
    "duration": 3922,
    "start_time": "2023-03-02T17:39:15.699Z"
   },
   {
    "duration": 1334,
    "start_time": "2023-03-02T17:39:19.623Z"
   },
   {
    "duration": 193,
    "start_time": "2023-03-02T17:39:20.958Z"
   },
   {
    "duration": 18,
    "start_time": "2023-03-02T17:39:21.153Z"
   },
   {
    "duration": 367,
    "start_time": "2023-03-02T17:39:21.173Z"
   },
   {
    "duration": 2,
    "start_time": "2023-03-02T17:39:21.542Z"
   },
   {
    "duration": 6,
    "start_time": "2023-03-02T17:39:21.546Z"
   },
   {
    "duration": 8,
    "start_time": "2023-03-02T17:39:21.553Z"
   },
   {
    "duration": 7,
    "start_time": "2023-03-02T17:39:21.563Z"
   },
   {
    "duration": 205,
    "start_time": "2023-03-02T17:40:05.046Z"
   },
   {
    "duration": 5,
    "start_time": "2023-03-02T17:40:58.630Z"
   },
   {
    "duration": 107,
    "start_time": "2023-03-02T17:41:04.676Z"
   },
   {
    "duration": 14,
    "start_time": "2023-03-02T17:41:17.289Z"
   },
   {
    "duration": 28,
    "start_time": "2023-03-02T17:41:18.536Z"
   },
   {
    "duration": 2643,
    "start_time": "2023-03-02T17:41:30.199Z"
   },
   {
    "duration": 1044,
    "start_time": "2023-03-02T17:41:32.844Z"
   },
   {
    "duration": 170,
    "start_time": "2023-03-02T17:41:33.889Z"
   },
   {
    "duration": 19,
    "start_time": "2023-03-02T17:41:34.061Z"
   },
   {
    "duration": 473,
    "start_time": "2023-03-02T17:41:34.083Z"
   },
   {
    "duration": 213,
    "start_time": "2023-03-02T17:41:34.559Z"
   },
   {
    "duration": 0,
    "start_time": "2023-03-02T17:41:34.773Z"
   },
   {
    "duration": 0,
    "start_time": "2023-03-02T17:41:34.775Z"
   },
   {
    "duration": 0,
    "start_time": "2023-03-02T17:41:34.776Z"
   },
   {
    "duration": 0,
    "start_time": "2023-03-02T17:41:34.776Z"
   },
   {
    "duration": 3724,
    "start_time": "2023-03-02T17:42:33.749Z"
   },
   {
    "duration": 3652,
    "start_time": "2023-03-02T17:42:43.303Z"
   },
   {
    "duration": 11,
    "start_time": "2023-03-02T17:42:56.099Z"
   },
   {
    "duration": 22,
    "start_time": "2023-03-02T17:43:03.946Z"
   },
   {
    "duration": 2967,
    "start_time": "2023-03-02T17:43:13.844Z"
   },
   {
    "duration": 1119,
    "start_time": "2023-03-02T17:43:16.813Z"
   },
   {
    "duration": 194,
    "start_time": "2023-03-02T17:43:17.935Z"
   },
   {
    "duration": 20,
    "start_time": "2023-03-02T17:43:18.132Z"
   },
   {
    "duration": 392,
    "start_time": "2023-03-02T17:43:18.154Z"
   },
   {
    "duration": 3696,
    "start_time": "2023-03-02T17:43:18.549Z"
   },
   {
    "duration": 11,
    "start_time": "2023-03-02T17:43:22.248Z"
   },
   {
    "duration": 6,
    "start_time": "2023-03-02T17:43:22.260Z"
   },
   {
    "duration": 5,
    "start_time": "2023-03-02T17:43:22.267Z"
   },
   {
    "duration": 5,
    "start_time": "2023-03-02T17:43:22.275Z"
   },
   {
    "duration": 5,
    "start_time": "2023-03-02T17:43:22.282Z"
   },
   {
    "duration": 2639,
    "start_time": "2023-03-02T17:47:39.686Z"
   },
   {
    "duration": 1012,
    "start_time": "2023-03-02T17:47:42.327Z"
   },
   {
    "duration": 166,
    "start_time": "2023-03-02T17:47:43.341Z"
   },
   {
    "duration": 20,
    "start_time": "2023-03-02T17:47:43.509Z"
   },
   {
    "duration": 160,
    "start_time": "2023-03-02T17:51:10.680Z"
   },
   {
    "duration": 13,
    "start_time": "2023-03-02T17:51:23.667Z"
   },
   {
    "duration": 34,
    "start_time": "2023-03-02T17:51:34.380Z"
   },
   {
    "duration": 200745,
    "start_time": "2023-03-02T17:54:29.848Z"
   },
   {
    "duration": 2818,
    "start_time": "2023-03-02T18:03:13.035Z"
   },
   {
    "duration": 48,
    "start_time": "2023-03-02T18:04:49.494Z"
   },
   {
    "duration": 3779,
    "start_time": "2023-03-02T18:05:08.389Z"
   },
   {
    "duration": 122,
    "start_time": "2023-03-02T18:05:12.171Z"
   },
   {
    "duration": 2700,
    "start_time": "2023-03-02T18:05:25.697Z"
   },
   {
    "duration": 2578,
    "start_time": "2023-03-02T18:05:28.399Z"
   },
   {
    "duration": 176,
    "start_time": "2023-03-02T18:05:30.978Z"
   },
   {
    "duration": 19,
    "start_time": "2023-03-02T18:05:31.156Z"
   },
   {
    "duration": 2978,
    "start_time": "2023-03-02T18:05:31.177Z"
   },
   {
    "duration": 0,
    "start_time": "2023-03-02T18:05:34.156Z"
   },
   {
    "duration": 48,
    "start_time": "2023-03-02T18:26:20.129Z"
   },
   {
    "duration": 4060,
    "start_time": "2023-03-02T18:26:27.951Z"
   },
   {
    "duration": 2626,
    "start_time": "2023-03-02T18:26:32.013Z"
   },
   {
    "duration": 217,
    "start_time": "2023-03-02T18:26:34.643Z"
   },
   {
    "duration": 21,
    "start_time": "2023-03-02T18:26:34.863Z"
   },
   {
    "duration": 2899,
    "start_time": "2023-03-02T18:26:34.885Z"
   },
   {
    "duration": 0,
    "start_time": "2023-03-02T18:26:37.786Z"
   },
   {
    "duration": 818,
    "start_time": "2023-03-02T18:38:28.661Z"
   },
   {
    "duration": 103718,
    "start_time": "2023-03-02T18:58:00.324Z"
   },
   {
    "duration": 21,
    "start_time": "2023-03-02T19:00:09.543Z"
   },
   {
    "duration": 6,
    "start_time": "2023-03-02T19:06:04.260Z"
   },
   {
    "duration": 754,
    "start_time": "2023-03-02T19:06:35.132Z"
   },
   {
    "duration": 70258,
    "start_time": "2023-03-02T19:06:44.679Z"
   },
   {
    "duration": 2637,
    "start_time": "2023-03-02T19:08:05.721Z"
   },
   {
    "duration": 1085,
    "start_time": "2023-03-02T19:08:08.360Z"
   },
   {
    "duration": 181,
    "start_time": "2023-03-02T19:08:09.446Z"
   },
   {
    "duration": 20,
    "start_time": "2023-03-02T19:08:09.629Z"
   },
   {
    "duration": 92497,
    "start_time": "2023-03-02T19:08:09.651Z"
   },
   {
    "duration": 21,
    "start_time": "2023-03-02T19:09:42.150Z"
   },
   {
    "duration": 4,
    "start_time": "2023-03-02T19:09:42.173Z"
   },
   {
    "duration": 19066,
    "start_time": "2023-03-02T19:26:31.668Z"
   },
   {
    "duration": 915,
    "start_time": "2023-03-02T19:30:03.599Z"
   },
   {
    "duration": 5,
    "start_time": "2023-03-02T19:30:09.290Z"
   },
   {
    "duration": 716,
    "start_time": "2023-03-02T19:38:55.148Z"
   },
   {
    "duration": 114883,
    "start_time": "2023-03-02T19:39:16.135Z"
   },
   {
    "duration": 20,
    "start_time": "2023-03-02T19:42:23.136Z"
   },
   {
    "duration": 830,
    "start_time": "2023-03-02T19:44:25.706Z"
   },
   {
    "duration": 2217,
    "start_time": "2023-03-02T19:53:02.616Z"
   },
   {
    "duration": 3898,
    "start_time": "2023-03-02T19:53:13.396Z"
   },
   {
    "duration": 4509,
    "start_time": "2023-03-02T20:00:18.110Z"
   },
   {
    "duration": 18,
    "start_time": "2023-03-02T20:00:41.675Z"
   },
   {
    "duration": 53,
    "start_time": "2023-03-02T20:01:32.751Z"
   },
   {
    "duration": 12,
    "start_time": "2023-03-02T20:01:42.455Z"
   },
   {
    "duration": 29,
    "start_time": "2023-03-02T20:01:51.167Z"
   },
   {
    "duration": 71660,
    "start_time": "2023-03-02T20:03:01.150Z"
   },
   {
    "duration": 81,
    "start_time": "2023-03-02T20:05:17.471Z"
   },
   {
    "duration": 89,
    "start_time": "2023-03-02T20:05:23.532Z"
   },
   {
    "duration": 19,
    "start_time": "2023-03-02T20:06:50.737Z"
   },
   {
    "duration": 2843,
    "start_time": "2023-03-02T20:07:01.918Z"
   },
   {
    "duration": 1182,
    "start_time": "2023-03-02T20:07:04.763Z"
   },
   {
    "duration": 165,
    "start_time": "2023-03-02T20:07:05.947Z"
   },
   {
    "duration": 19,
    "start_time": "2023-03-02T20:07:06.114Z"
   },
   {
    "duration": 3803,
    "start_time": "2023-03-02T20:07:06.135Z"
   },
   {
    "duration": 46,
    "start_time": "2023-03-02T20:07:09.940Z"
   },
   {
    "duration": 64902,
    "start_time": "2023-03-02T20:07:09.988Z"
   },
   {
    "duration": 51,
    "start_time": "2023-03-02T20:08:14.891Z"
   },
   {
    "duration": 4,
    "start_time": "2023-03-02T20:08:14.944Z"
   },
   {
    "duration": 2937,
    "start_time": "2023-03-03T08:32:08.535Z"
   },
   {
    "duration": 2433,
    "start_time": "2023-03-03T08:32:11.474Z"
   },
   {
    "duration": 164,
    "start_time": "2023-03-03T08:32:13.914Z"
   },
   {
    "duration": 16,
    "start_time": "2023-03-03T08:32:14.080Z"
   },
   {
    "duration": 4147,
    "start_time": "2023-03-03T08:32:14.098Z"
   },
   {
    "duration": 40,
    "start_time": "2023-03-03T08:32:18.247Z"
   },
   {
    "duration": 63089,
    "start_time": "2023-03-03T08:32:18.289Z"
   },
   {
    "duration": 42,
    "start_time": "2023-03-03T08:33:21.380Z"
   },
   {
    "duration": 1742,
    "start_time": "2023-03-03T08:39:21.155Z"
   },
   {
    "duration": 284,
    "start_time": "2023-03-03T09:08:08.614Z"
   },
   {
    "duration": 12,
    "start_time": "2023-03-03T09:08:23.352Z"
   },
   {
    "duration": 4,
    "start_time": "2023-03-03T09:08:41.477Z"
   },
   {
    "duration": 14,
    "start_time": "2023-03-03T09:08:45.333Z"
   },
   {
    "duration": 277,
    "start_time": "2023-03-03T09:12:27.952Z"
   },
   {
    "duration": 2565,
    "start_time": "2023-03-03T09:12:39.173Z"
   },
   {
    "duration": 955,
    "start_time": "2023-03-03T09:12:41.740Z"
   },
   {
    "duration": 162,
    "start_time": "2023-03-03T09:12:42.697Z"
   },
   {
    "duration": 16,
    "start_time": "2023-03-03T09:12:42.861Z"
   },
   {
    "duration": 3885,
    "start_time": "2023-03-03T09:12:42.878Z"
   },
   {
    "duration": 41,
    "start_time": "2023-03-03T09:12:46.765Z"
   },
   {
    "duration": 65269,
    "start_time": "2023-03-03T09:12:46.815Z"
   },
   {
    "duration": 42,
    "start_time": "2023-03-03T09:13:52.086Z"
   },
   {
    "duration": 1800,
    "start_time": "2023-03-03T09:13:52.130Z"
   },
   {
    "duration": 311,
    "start_time": "2023-03-03T09:13:53.931Z"
   },
   {
    "duration": 12,
    "start_time": "2023-03-03T09:14:42.330Z"
   },
   {
    "duration": 12,
    "start_time": "2023-03-03T09:15:55.823Z"
   },
   {
    "duration": 12,
    "start_time": "2023-03-03T09:16:35.859Z"
   },
   {
    "duration": 13,
    "start_time": "2023-03-03T09:16:45.594Z"
   },
   {
    "duration": 2747,
    "start_time": "2023-03-03T09:16:58.709Z"
   },
   {
    "duration": 1014,
    "start_time": "2023-03-03T09:17:01.458Z"
   },
   {
    "duration": 167,
    "start_time": "2023-03-03T09:17:02.474Z"
   },
   {
    "duration": 17,
    "start_time": "2023-03-03T09:17:02.643Z"
   },
   {
    "duration": 3912,
    "start_time": "2023-03-03T09:17:02.662Z"
   },
   {
    "duration": 48,
    "start_time": "2023-03-03T09:17:06.576Z"
   },
   {
    "duration": 61843,
    "start_time": "2023-03-03T09:17:06.626Z"
   },
   {
    "duration": 49,
    "start_time": "2023-03-03T09:18:08.471Z"
   },
   {
    "duration": 1774,
    "start_time": "2023-03-03T09:18:08.522Z"
   },
   {
    "duration": 170,
    "start_time": "2023-03-03T09:18:10.298Z"
   },
   {
    "duration": 0,
    "start_time": "2023-03-03T09:18:10.469Z"
   },
   {
    "duration": 11,
    "start_time": "2023-03-03T09:31:42.221Z"
   },
   {
    "duration": 11,
    "start_time": "2023-03-03T09:31:43.747Z"
   },
   {
    "duration": 2733,
    "start_time": "2023-03-03T09:32:14.318Z"
   },
   {
    "duration": 979,
    "start_time": "2023-03-03T09:32:17.052Z"
   },
   {
    "duration": 167,
    "start_time": "2023-03-03T09:32:18.032Z"
   },
   {
    "duration": 21,
    "start_time": "2023-03-03T09:32:18.201Z"
   },
   {
    "duration": 3773,
    "start_time": "2023-03-03T09:32:18.223Z"
   },
   {
    "duration": 45,
    "start_time": "2023-03-03T09:32:21.998Z"
   },
   {
    "duration": 64080,
    "start_time": "2023-03-03T09:32:22.045Z"
   },
   {
    "duration": 57,
    "start_time": "2023-03-03T09:33:26.130Z"
   },
   {
    "duration": 1812,
    "start_time": "2023-03-03T09:33:26.189Z"
   },
   {
    "duration": 167,
    "start_time": "2023-03-03T09:33:28.002Z"
   },
   {
    "duration": 0,
    "start_time": "2023-03-03T09:33:28.171Z"
   },
   {
    "duration": 214,
    "start_time": "2023-03-03T09:37:19.403Z"
   },
   {
    "duration": 104,
    "start_time": "2023-03-03T09:46:40.369Z"
   },
   {
    "duration": 27,
    "start_time": "2023-03-03T09:46:59.835Z"
   },
   {
    "duration": 917256,
    "start_time": "2023-03-03T09:47:34.067Z"
   },
   {
    "duration": 10148,
    "start_time": "2023-03-03T10:04:03.408Z"
   },
   {
    "duration": 6506,
    "start_time": "2023-03-03T10:04:22.074Z"
   },
   {
    "duration": 6546,
    "start_time": "2023-03-03T10:04:36.774Z"
   },
   {
    "duration": 11,
    "start_time": "2023-03-03T10:10:30.770Z"
   },
   {
    "duration": 24048,
    "start_time": "2023-03-03T10:10:41.998Z"
   },
   {
    "duration": 3076,
    "start_time": "2023-03-03T10:12:12.216Z"
   },
   {
    "duration": 2491,
    "start_time": "2023-03-03T10:12:15.294Z"
   },
   {
    "duration": 172,
    "start_time": "2023-03-03T10:12:17.787Z"
   },
   {
    "duration": 18,
    "start_time": "2023-03-03T10:12:17.961Z"
   },
   {
    "duration": 3874,
    "start_time": "2023-03-03T10:12:17.981Z"
   },
   {
    "duration": 49,
    "start_time": "2023-03-03T10:12:21.857Z"
   },
   {
    "duration": 64720,
    "start_time": "2023-03-03T10:12:21.915Z"
   },
   {
    "duration": 44,
    "start_time": "2023-03-03T10:13:26.637Z"
   },
   {
    "duration": 1799,
    "start_time": "2023-03-03T10:13:26.683Z"
   },
   {
    "duration": 8,
    "start_time": "2023-03-03T10:13:28.485Z"
   },
   {
    "duration": 10,
    "start_time": "2023-03-03T10:13:28.495Z"
   },
   {
    "duration": 377,
    "start_time": "2023-03-03T10:22:25.865Z"
   },
   {
    "duration": 34,
    "start_time": "2023-03-03T10:22:37.099Z"
   },
   {
    "duration": 3,
    "start_time": "2023-03-03T10:22:55.429Z"
   },
   {
    "duration": 1427,
    "start_time": "2023-03-03T10:23:44.237Z"
   },
   {
    "duration": 3,
    "start_time": "2023-03-03T10:24:08.002Z"
   },
   {
    "duration": 3192,
    "start_time": "2023-03-04T07:09:41.884Z"
   },
   {
    "duration": 2604,
    "start_time": "2023-03-04T07:09:45.079Z"
   },
   {
    "duration": 173,
    "start_time": "2023-03-04T07:09:47.685Z"
   },
   {
    "duration": 18,
    "start_time": "2023-03-04T07:09:47.861Z"
   },
   {
    "duration": 4195,
    "start_time": "2023-03-04T07:09:47.881Z"
   },
   {
    "duration": 44,
    "start_time": "2023-03-04T07:09:52.078Z"
   },
   {
    "duration": 71393,
    "start_time": "2023-03-04T07:09:52.125Z"
   },
   {
    "duration": 46,
    "start_time": "2023-03-04T07:11:03.520Z"
   },
   {
    "duration": 14,
    "start_time": "2023-03-04T07:11:03.569Z"
   },
   {
    "duration": 2972,
    "start_time": "2023-03-04T10:25:39.759Z"
   },
   {
    "duration": 2430,
    "start_time": "2023-03-04T10:25:42.733Z"
   },
   {
    "duration": 168,
    "start_time": "2023-03-04T10:25:45.164Z"
   },
   {
    "duration": 19,
    "start_time": "2023-03-04T10:25:45.334Z"
   },
   {
    "duration": 3993,
    "start_time": "2023-03-04T10:25:45.355Z"
   },
   {
    "duration": 42,
    "start_time": "2023-03-04T10:25:49.350Z"
   },
   {
    "duration": 63149,
    "start_time": "2023-03-04T10:25:49.403Z"
   },
   {
    "duration": 36,
    "start_time": "2023-03-04T10:26:52.554Z"
   },
   {
    "duration": 13,
    "start_time": "2023-03-04T10:26:52.592Z"
   },
   {
    "duration": 5088067,
    "start_time": "2023-03-04T10:26:52.607Z"
   },
   {
    "duration": 2,
    "start_time": "2023-03-04T11:51:40.676Z"
   },
   {
    "duration": 8,
    "start_time": "2023-03-04T12:16:32.388Z"
   },
   {
    "duration": 3199,
    "start_time": "2023-03-06T17:30:50.104Z"
   },
   {
    "duration": 2630,
    "start_time": "2023-03-06T17:30:53.306Z"
   },
   {
    "duration": 176,
    "start_time": "2023-03-06T17:30:55.938Z"
   },
   {
    "duration": 25,
    "start_time": "2023-03-06T17:30:56.116Z"
   },
   {
    "duration": 3263,
    "start_time": "2023-03-06T17:30:56.143Z"
   },
   {
    "duration": 3,
    "start_time": "2023-03-06T19:53:32.719Z"
   },
   {
    "duration": 162,
    "start_time": "2023-03-06T19:53:33.457Z"
   },
   {
    "duration": 13,
    "start_time": "2023-03-06T19:54:06.423Z"
   },
   {
    "duration": 426119,
    "start_time": "2023-03-06T19:54:13.623Z"
   },
   {
    "duration": 11,
    "start_time": "2023-03-06T20:01:48.145Z"
   },
   {
    "duration": 6334982,
    "start_time": "2023-03-06T20:02:05.045Z"
   },
   {
    "duration": 2874,
    "start_time": "2023-03-06T21:48:05.947Z"
   },
   {
    "duration": 1221,
    "start_time": "2023-03-06T21:48:10.670Z"
   },
   {
    "duration": 149,
    "start_time": "2023-03-06T21:48:13.430Z"
   },
   {
    "duration": 19,
    "start_time": "2023-03-06T21:48:15.614Z"
   },
   {
    "duration": 2128,
    "start_time": "2023-03-06T21:48:34.131Z"
   },
   {
    "duration": 83095,
    "start_time": "2023-03-06T21:49:04.097Z"
   },
   {
    "duration": 81,
    "start_time": "2023-03-06T21:50:42.063Z"
   },
   {
    "duration": 3695,
    "start_time": "2023-03-06T21:51:07.935Z"
   },
   {
    "duration": 3966,
    "start_time": "2023-03-06T21:51:33.874Z"
   },
   {
    "duration": 39,
    "start_time": "2023-03-06T21:51:51.359Z"
   },
   {
    "duration": 31,
    "start_time": "2023-03-06T21:52:53.522Z"
   },
   {
    "duration": 46,
    "start_time": "2023-03-06T21:55:14.283Z"
   },
   {
    "duration": 2815,
    "start_time": "2023-03-06T21:55:26.283Z"
   },
   {
    "duration": 2515,
    "start_time": "2023-03-06T21:55:29.100Z"
   },
   {
    "duration": 156,
    "start_time": "2023-03-06T21:55:31.617Z"
   },
   {
    "duration": 19,
    "start_time": "2023-03-06T21:55:31.774Z"
   },
   {
    "duration": 2059,
    "start_time": "2023-03-06T21:55:31.795Z"
   },
   {
    "duration": 4,
    "start_time": "2023-03-06T21:55:33.856Z"
   },
   {
    "duration": 8,
    "start_time": "2023-03-06T21:55:33.861Z"
   },
   {
    "duration": 7,
    "start_time": "2023-03-06T21:55:33.871Z"
   },
   {
    "duration": 11,
    "start_time": "2023-03-06T21:55:33.880Z"
   },
   {
    "duration": 12,
    "start_time": "2023-03-06T21:55:33.893Z"
   },
   {
    "duration": 82939,
    "start_time": "2023-03-06T21:55:33.906Z"
   },
   {
    "duration": 88,
    "start_time": "2023-03-06T21:56:56.847Z"
   },
   {
    "duration": 3889,
    "start_time": "2023-03-06T21:56:56.937Z"
   },
   {
    "duration": 35,
    "start_time": "2023-03-06T21:57:00.830Z"
   },
   {
    "duration": 2695,
    "start_time": "2023-03-06T21:58:55.789Z"
   },
   {
    "duration": 2469,
    "start_time": "2023-03-06T21:58:58.486Z"
   },
   {
    "duration": 167,
    "start_time": "2023-03-06T21:59:00.957Z"
   },
   {
    "duration": 21,
    "start_time": "2023-03-06T21:59:01.125Z"
   },
   {
    "duration": 2068,
    "start_time": "2023-03-06T21:59:01.148Z"
   },
   {
    "duration": 7,
    "start_time": "2023-03-06T21:59:03.218Z"
   },
   {
    "duration": 18,
    "start_time": "2023-03-06T21:59:03.230Z"
   },
   {
    "duration": 14,
    "start_time": "2023-03-06T21:59:03.249Z"
   },
   {
    "duration": 7,
    "start_time": "2023-03-06T21:59:03.264Z"
   },
   {
    "duration": 9,
    "start_time": "2023-03-06T21:59:03.273Z"
   },
   {
    "duration": 83803,
    "start_time": "2023-03-06T21:59:03.283Z"
   },
   {
    "duration": 88,
    "start_time": "2023-03-06T22:00:27.087Z"
   },
   {
    "duration": 3853,
    "start_time": "2023-03-06T22:00:27.176Z"
   },
   {
    "duration": 33,
    "start_time": "2023-03-06T22:00:31.031Z"
   },
   {
    "duration": 2742,
    "start_time": "2023-03-06T22:03:43.351Z"
   },
   {
    "duration": 2542,
    "start_time": "2023-03-06T22:03:46.095Z"
   },
   {
    "duration": 162,
    "start_time": "2023-03-06T22:03:48.639Z"
   },
   {
    "duration": 19,
    "start_time": "2023-03-06T22:03:48.803Z"
   },
   {
    "duration": 2074,
    "start_time": "2023-03-06T22:03:48.832Z"
   },
   {
    "duration": 6,
    "start_time": "2023-03-06T22:03:50.908Z"
   },
   {
    "duration": 8,
    "start_time": "2023-03-06T22:03:50.915Z"
   },
   {
    "duration": 14,
    "start_time": "2023-03-06T22:03:50.924Z"
   },
   {
    "duration": 5,
    "start_time": "2023-03-06T22:03:50.939Z"
   },
   {
    "duration": 5,
    "start_time": "2023-03-06T22:03:50.945Z"
   },
   {
    "duration": 83128,
    "start_time": "2023-03-06T22:03:50.951Z"
   },
   {
    "duration": 88,
    "start_time": "2023-03-06T22:05:14.081Z"
   },
   {
    "duration": 3882,
    "start_time": "2023-03-06T22:05:14.171Z"
   },
   {
    "duration": 35,
    "start_time": "2023-03-06T22:05:18.055Z"
   },
   {
    "duration": 46,
    "start_time": "2023-03-06T22:08:54.005Z"
   },
   {
    "duration": 2739,
    "start_time": "2023-03-06T22:09:05.941Z"
   },
   {
    "duration": 2469,
    "start_time": "2023-03-06T22:09:08.681Z"
   },
   {
    "duration": 165,
    "start_time": "2023-03-06T22:09:11.151Z"
   },
   {
    "duration": 27,
    "start_time": "2023-03-06T22:09:11.318Z"
   },
   {
    "duration": 2017,
    "start_time": "2023-03-06T22:09:11.347Z"
   },
   {
    "duration": 8,
    "start_time": "2023-03-06T22:09:13.366Z"
   },
   {
    "duration": 11,
    "start_time": "2023-03-06T22:09:13.375Z"
   },
   {
    "duration": 8,
    "start_time": "2023-03-06T22:09:13.387Z"
   },
   {
    "duration": 5,
    "start_time": "2023-03-06T22:09:13.396Z"
   },
   {
    "duration": 4,
    "start_time": "2023-03-06T22:09:13.403Z"
   },
   {
    "duration": 82075,
    "start_time": "2023-03-06T22:09:13.409Z"
   },
   {
    "duration": 88,
    "start_time": "2023-03-06T22:10:35.486Z"
   },
   {
    "duration": 3948,
    "start_time": "2023-03-06T22:10:35.576Z"
   },
   {
    "duration": 36,
    "start_time": "2023-03-06T22:10:39.526Z"
   },
   {
    "duration": 4,
    "start_time": "2023-03-06T22:10:39.564Z"
   },
   {
    "duration": 5,
    "start_time": "2023-03-06T22:10:39.570Z"
   },
   {
    "duration": 5,
    "start_time": "2023-03-06T22:11:01.675Z"
   },
   {
    "duration": 2746,
    "start_time": "2023-03-06T22:14:35.119Z"
   },
   {
    "duration": 2484,
    "start_time": "2023-03-06T22:14:37.867Z"
   },
   {
    "duration": 157,
    "start_time": "2023-03-06T22:14:40.353Z"
   },
   {
    "duration": 22,
    "start_time": "2023-03-06T22:14:40.512Z"
   },
   {
    "duration": 2060,
    "start_time": "2023-03-06T22:14:40.536Z"
   },
   {
    "duration": 7,
    "start_time": "2023-03-06T22:14:42.598Z"
   },
   {
    "duration": 13,
    "start_time": "2023-03-06T22:14:42.607Z"
   },
   {
    "duration": 7,
    "start_time": "2023-03-06T22:14:42.621Z"
   },
   {
    "duration": 9,
    "start_time": "2023-03-06T22:14:42.630Z"
   },
   {
    "duration": 6,
    "start_time": "2023-03-06T22:14:42.641Z"
   },
   {
    "duration": 82118,
    "start_time": "2023-03-06T22:14:42.648Z"
   },
   {
    "duration": 93,
    "start_time": "2023-03-06T22:16:04.768Z"
   },
   {
    "duration": 3944,
    "start_time": "2023-03-06T22:16:04.863Z"
   },
   {
    "duration": 30,
    "start_time": "2023-03-06T22:16:08.809Z"
   },
   {
    "duration": 7,
    "start_time": "2023-03-06T22:16:08.841Z"
   },
   {
    "duration": 47,
    "start_time": "2023-03-06T22:25:38.643Z"
   },
   {
    "duration": 2639,
    "start_time": "2023-03-06T22:25:45.051Z"
   },
   {
    "duration": 2465,
    "start_time": "2023-03-06T22:25:47.691Z"
   },
   {
    "duration": 167,
    "start_time": "2023-03-06T22:25:50.158Z"
   },
   {
    "duration": 18,
    "start_time": "2023-03-06T22:25:50.330Z"
   },
   {
    "duration": 2041,
    "start_time": "2023-03-06T22:25:50.349Z"
   },
   {
    "duration": 6,
    "start_time": "2023-03-06T22:25:52.391Z"
   },
   {
    "duration": 6,
    "start_time": "2023-03-06T22:25:52.398Z"
   },
   {
    "duration": 5,
    "start_time": "2023-03-06T22:25:52.405Z"
   },
   {
    "duration": 7,
    "start_time": "2023-03-06T22:25:52.412Z"
   },
   {
    "duration": 16,
    "start_time": "2023-03-06T22:25:52.421Z"
   },
   {
    "duration": 81701,
    "start_time": "2023-03-06T22:25:52.439Z"
   },
   {
    "duration": 80,
    "start_time": "2023-03-06T22:27:14.143Z"
   },
   {
    "duration": 3885,
    "start_time": "2023-03-06T22:27:14.231Z"
   },
   {
    "duration": 29,
    "start_time": "2023-03-06T22:27:18.117Z"
   },
   {
    "duration": 6,
    "start_time": "2023-03-06T22:27:18.148Z"
   },
   {
    "duration": 5,
    "start_time": "2023-03-06T22:27:18.155Z"
   },
   {
    "duration": 287,
    "start_time": "2023-03-06T22:28:08.645Z"
   },
   {
    "duration": 6544,
    "start_time": "2023-03-06T22:28:16.803Z"
   },
   {
    "duration": 5,
    "start_time": "2023-03-06T22:28:40.836Z"
   },
   {
    "duration": 5,
    "start_time": "2023-03-06T22:28:47.008Z"
   },
   {
    "duration": 3,
    "start_time": "2023-03-06T22:29:54.460Z"
   },
   {
    "duration": 4,
    "start_time": "2023-03-06T22:29:59.051Z"
   },
   {
    "duration": 4,
    "start_time": "2023-03-06T22:30:03.430Z"
   },
   {
    "duration": 48,
    "start_time": "2023-03-06T22:41:52.727Z"
   },
   {
    "duration": 4,
    "start_time": "2023-03-06T22:44:00.199Z"
   },
   {
    "duration": 13,
    "start_time": "2023-03-06T22:44:40.006Z"
   },
   {
    "duration": 11,
    "start_time": "2023-03-06T22:44:56.382Z"
   },
   {
    "duration": 13,
    "start_time": "2023-03-06T22:45:23.857Z"
   },
   {
    "duration": 4,
    "start_time": "2023-03-06T22:46:00.298Z"
   },
   {
    "duration": 16,
    "start_time": "2023-03-06T22:46:06.531Z"
   },
   {
    "duration": 2526,
    "start_time": "2023-03-06T22:46:25.097Z"
   },
   {
    "duration": 1035,
    "start_time": "2023-03-06T22:46:27.625Z"
   },
   {
    "duration": 158,
    "start_time": "2023-03-06T22:46:28.662Z"
   },
   {
    "duration": 18,
    "start_time": "2023-03-06T22:46:28.822Z"
   },
   {
    "duration": 2059,
    "start_time": "2023-03-06T22:46:28.842Z"
   },
   {
    "duration": 20,
    "start_time": "2023-03-06T22:46:30.903Z"
   },
   {
    "duration": 17,
    "start_time": "2023-03-06T22:46:30.925Z"
   },
   {
    "duration": 18,
    "start_time": "2023-03-06T22:46:30.944Z"
   },
   {
    "duration": 29,
    "start_time": "2023-03-06T22:46:30.963Z"
   },
   {
    "duration": 20,
    "start_time": "2023-03-06T22:46:30.994Z"
   },
   {
    "duration": 81421,
    "start_time": "2023-03-06T22:46:31.015Z"
   },
   {
    "duration": 76,
    "start_time": "2023-03-06T22:47:52.438Z"
   },
   {
    "duration": 3910,
    "start_time": "2023-03-06T22:47:52.515Z"
   },
   {
    "duration": 31,
    "start_time": "2023-03-06T22:47:56.427Z"
   },
   {
    "duration": 8,
    "start_time": "2023-03-06T22:47:56.460Z"
   },
   {
    "duration": 83,
    "start_time": "2023-03-06T22:47:56.470Z"
   },
   {
    "duration": 4,
    "start_time": "2023-03-06T22:47:56.557Z"
   },
   {
    "duration": 511,
    "start_time": "2023-03-06T22:47:56.563Z"
   },
   {
    "duration": 0,
    "start_time": "2023-03-06T22:47:57.075Z"
   },
   {
    "duration": 6265,
    "start_time": "2023-03-06T22:49:17.722Z"
   },
   {
    "duration": 4,
    "start_time": "2023-03-06T22:51:14.449Z"
   },
   {
    "duration": 45379,
    "start_time": "2023-03-06T22:51:53.058Z"
   },
   {
    "duration": 129785,
    "start_time": "2023-03-06T22:58:18.960Z"
   },
   {
    "duration": 123015,
    "start_time": "2023-03-06T23:01:11.022Z"
   },
   {
    "duration": 3246,
    "start_time": "2023-03-07T09:00:52.310Z"
   },
   {
    "duration": 3,
    "start_time": "2023-03-07T09:02:58.202Z"
   },
   {
    "duration": 2669,
    "start_time": "2023-03-07T09:02:58.692Z"
   },
   {
    "duration": 162,
    "start_time": "2023-03-07T09:03:01.363Z"
   },
   {
    "duration": 18,
    "start_time": "2023-03-07T09:03:01.527Z"
   },
   {
    "duration": 1998,
    "start_time": "2023-03-07T09:03:01.547Z"
   },
   {
    "duration": 10,
    "start_time": "2023-03-07T09:03:03.547Z"
   },
   {
    "duration": 16,
    "start_time": "2023-03-07T09:03:03.558Z"
   },
   {
    "duration": 15,
    "start_time": "2023-03-07T09:03:03.576Z"
   },
   {
    "duration": 20,
    "start_time": "2023-03-07T09:03:03.593Z"
   },
   {
    "duration": 20,
    "start_time": "2023-03-07T09:03:03.614Z"
   },
   {
    "duration": 89766,
    "start_time": "2023-03-07T09:03:03.794Z"
   },
   {
    "duration": 81,
    "start_time": "2023-03-07T09:04:33.562Z"
   },
   {
    "duration": 4208,
    "start_time": "2023-03-07T09:04:33.645Z"
   },
   {
    "duration": 30,
    "start_time": "2023-03-07T09:04:37.855Z"
   },
   {
    "duration": 8,
    "start_time": "2023-03-07T09:04:37.887Z"
   },
   {
    "duration": 50,
    "start_time": "2023-03-07T09:05:13.249Z"
   },
   {
    "duration": 2742,
    "start_time": "2023-03-07T09:05:19.989Z"
   },
   {
    "duration": 2696,
    "start_time": "2023-03-07T09:05:22.737Z"
   },
   {
    "duration": 167,
    "start_time": "2023-03-07T09:05:25.435Z"
   },
   {
    "duration": 18,
    "start_time": "2023-03-07T09:05:25.603Z"
   },
   {
    "duration": 2073,
    "start_time": "2023-03-07T09:05:25.631Z"
   },
   {
    "duration": 5,
    "start_time": "2023-03-07T09:05:27.706Z"
   },
   {
    "duration": 8,
    "start_time": "2023-03-07T09:05:27.712Z"
   },
   {
    "duration": 16,
    "start_time": "2023-03-07T09:05:27.722Z"
   },
   {
    "duration": 8,
    "start_time": "2023-03-07T09:05:27.740Z"
   },
   {
    "duration": 11,
    "start_time": "2023-03-07T09:05:27.749Z"
   },
   {
    "duration": 90345,
    "start_time": "2023-03-07T09:05:27.761Z"
   },
   {
    "duration": 90,
    "start_time": "2023-03-07T09:06:58.109Z"
   },
   {
    "duration": 4232,
    "start_time": "2023-03-07T09:06:58.201Z"
   },
   {
    "duration": 27,
    "start_time": "2023-03-07T09:07:02.435Z"
   },
   {
    "duration": 31,
    "start_time": "2023-03-07T09:07:02.463Z"
   },
   {
    "duration": 3241,
    "start_time": "2023-03-07T09:08:09.507Z"
   },
   {
    "duration": 2666,
    "start_time": "2023-03-07T09:08:12.750Z"
   },
   {
    "duration": 177,
    "start_time": "2023-03-07T09:08:15.418Z"
   },
   {
    "duration": 17,
    "start_time": "2023-03-07T09:08:15.597Z"
   },
   {
    "duration": 2070,
    "start_time": "2023-03-07T09:08:15.616Z"
   },
   {
    "duration": 23,
    "start_time": "2023-03-07T09:08:17.688Z"
   },
   {
    "duration": 37,
    "start_time": "2023-03-07T09:08:17.712Z"
   },
   {
    "duration": 27,
    "start_time": "2023-03-07T09:08:17.751Z"
   },
   {
    "duration": 8,
    "start_time": "2023-03-07T09:08:17.779Z"
   },
   {
    "duration": 8,
    "start_time": "2023-03-07T09:08:17.789Z"
   },
   {
    "duration": 96952,
    "start_time": "2023-03-07T09:08:17.799Z"
   },
   {
    "duration": 83,
    "start_time": "2023-03-07T09:09:54.753Z"
   },
   {
    "duration": 4649,
    "start_time": "2023-03-07T09:09:54.838Z"
   },
   {
    "duration": 29,
    "start_time": "2023-03-07T09:09:59.488Z"
   },
   {
    "duration": 17,
    "start_time": "2023-03-07T09:09:59.519Z"
   },
   {
    "duration": 83,
    "start_time": "2023-03-07T09:09:59.537Z"
   },
   {
    "duration": 0,
    "start_time": "2023-03-07T09:09:59.621Z"
   },
   {
    "duration": 0,
    "start_time": "2023-03-07T09:09:59.623Z"
   },
   {
    "duration": 0,
    "start_time": "2023-03-07T09:09:59.623Z"
   },
   {
    "duration": 0,
    "start_time": "2023-03-07T09:09:59.624Z"
   },
   {
    "duration": 0,
    "start_time": "2023-03-07T09:09:59.632Z"
   },
   {
    "duration": 172,
    "start_time": "2023-03-07T09:10:38.090Z"
   },
   {
    "duration": 12,
    "start_time": "2023-03-07T09:11:25.604Z"
   },
   {
    "duration": 119,
    "start_time": "2023-03-07T09:11:32.350Z"
   },
   {
    "duration": 6,
    "start_time": "2023-03-07T09:11:47.194Z"
   },
   {
    "duration": 5,
    "start_time": "2023-03-07T09:12:17.219Z"
   },
   {
    "duration": 5,
    "start_time": "2023-03-07T09:12:25.742Z"
   },
   {
    "duration": 114,
    "start_time": "2023-03-07T09:12:50.514Z"
   },
   {
    "duration": 12,
    "start_time": "2023-03-07T09:12:59.624Z"
   },
   {
    "duration": 2720,
    "start_time": "2023-03-07T09:13:10.633Z"
   },
   {
    "duration": 1082,
    "start_time": "2023-03-07T09:13:13.355Z"
   },
   {
    "duration": 174,
    "start_time": "2023-03-07T09:13:14.439Z"
   },
   {
    "duration": 23,
    "start_time": "2023-03-07T09:13:14.615Z"
   },
   {
    "duration": 2062,
    "start_time": "2023-03-07T09:13:14.640Z"
   },
   {
    "duration": 9,
    "start_time": "2023-03-07T09:13:16.704Z"
   },
   {
    "duration": 15,
    "start_time": "2023-03-07T09:13:16.715Z"
   },
   {
    "duration": 16,
    "start_time": "2023-03-07T09:13:16.731Z"
   },
   {
    "duration": 8,
    "start_time": "2023-03-07T09:13:16.749Z"
   },
   {
    "duration": 15,
    "start_time": "2023-03-07T09:13:16.759Z"
   },
   {
    "duration": 89772,
    "start_time": "2023-03-07T09:13:16.776Z"
   },
   {
    "duration": 90,
    "start_time": "2023-03-07T09:14:46.550Z"
   },
   {
    "duration": 4310,
    "start_time": "2023-03-07T09:14:46.642Z"
   },
   {
    "duration": 28,
    "start_time": "2023-03-07T09:14:50.955Z"
   },
   {
    "duration": 23,
    "start_time": "2023-03-07T09:14:50.984Z"
   },
   {
    "duration": 303,
    "start_time": "2023-03-07T09:14:51.009Z"
   },
   {
    "duration": 0,
    "start_time": "2023-03-07T09:14:51.313Z"
   },
   {
    "duration": 1,
    "start_time": "2023-03-07T09:14:51.314Z"
   },
   {
    "duration": 0,
    "start_time": "2023-03-07T09:14:51.316Z"
   },
   {
    "duration": 0,
    "start_time": "2023-03-07T09:14:51.317Z"
   },
   {
    "duration": 0,
    "start_time": "2023-03-07T09:14:51.318Z"
   },
   {
    "duration": 103,
    "start_time": "2023-03-07T09:17:40.723Z"
   },
   {
    "duration": 36,
    "start_time": "2023-03-07T09:17:49.525Z"
   },
   {
    "duration": 859,
    "start_time": "2023-03-07T09:19:10.801Z"
   },
   {
    "duration": 40,
    "start_time": "2023-03-07T09:19:14.587Z"
   },
   {
    "duration": 23,
    "start_time": "2023-03-07T09:19:31.514Z"
   },
   {
    "duration": 4,
    "start_time": "2023-03-07T09:19:32.106Z"
   },
   {
    "duration": 278,
    "start_time": "2023-03-07T09:19:32.890Z"
   },
   {
    "duration": 2665,
    "start_time": "2023-03-07T09:19:53.395Z"
   },
   {
    "duration": 1115,
    "start_time": "2023-03-07T09:19:56.062Z"
   },
   {
    "duration": 182,
    "start_time": "2023-03-07T09:19:57.179Z"
   },
   {
    "duration": 18,
    "start_time": "2023-03-07T09:19:57.363Z"
   },
   {
    "duration": 2043,
    "start_time": "2023-03-07T09:19:57.383Z"
   },
   {
    "duration": 8,
    "start_time": "2023-03-07T09:19:59.430Z"
   },
   {
    "duration": 10,
    "start_time": "2023-03-07T09:19:59.439Z"
   },
   {
    "duration": 5,
    "start_time": "2023-03-07T09:19:59.451Z"
   },
   {
    "duration": 14,
    "start_time": "2023-03-07T09:19:59.457Z"
   },
   {
    "duration": 15,
    "start_time": "2023-03-07T09:19:59.473Z"
   },
   {
    "duration": 90243,
    "start_time": "2023-03-07T09:19:59.490Z"
   },
   {
    "duration": 75,
    "start_time": "2023-03-07T09:21:29.734Z"
   },
   {
    "duration": 4107,
    "start_time": "2023-03-07T09:21:29.811Z"
   },
   {
    "duration": 28,
    "start_time": "2023-03-07T09:21:33.921Z"
   },
   {
    "duration": 6,
    "start_time": "2023-03-07T09:21:33.951Z"
   },
   {
    "duration": 4,
    "start_time": "2023-03-07T09:21:33.959Z"
   },
   {
    "duration": 5,
    "start_time": "2023-03-07T09:21:33.964Z"
   },
   {
    "duration": 74,
    "start_time": "2023-03-07T09:21:33.970Z"
   },
   {
    "duration": 3,
    "start_time": "2023-03-07T09:21:34.046Z"
   },
   {
    "duration": 7222,
    "start_time": "2023-03-07T09:21:34.050Z"
   },
   {
    "duration": 127868,
    "start_time": "2023-03-07T09:21:41.273Z"
   },
   {
    "duration": 10,
    "start_time": "2023-03-07T09:34:45.778Z"
   },
   {
    "duration": 8,
    "start_time": "2023-03-07T09:35:08.386Z"
   },
   {
    "duration": 49,
    "start_time": "2023-03-07T10:14:51.018Z"
   },
   {
    "duration": 4,
    "start_time": "2023-03-07T10:14:52.769Z"
   },
   {
    "duration": 2930,
    "start_time": "2023-03-07T10:14:58.945Z"
   },
   {
    "duration": 3139,
    "start_time": "2023-03-07T10:15:01.877Z"
   },
   {
    "duration": 166,
    "start_time": "2023-03-07T10:15:05.018Z"
   },
   {
    "duration": 17,
    "start_time": "2023-03-07T10:15:05.186Z"
   },
   {
    "duration": 2020,
    "start_time": "2023-03-07T10:15:05.205Z"
   },
   {
    "duration": 5,
    "start_time": "2023-03-07T10:15:07.231Z"
   },
   {
    "duration": 11,
    "start_time": "2023-03-07T10:15:07.237Z"
   },
   {
    "duration": 12,
    "start_time": "2023-03-07T10:15:07.249Z"
   },
   {
    "duration": 12,
    "start_time": "2023-03-07T10:15:07.263Z"
   },
   {
    "duration": 7,
    "start_time": "2023-03-07T10:15:07.277Z"
   },
   {
    "duration": 88405,
    "start_time": "2023-03-07T10:15:07.286Z"
   },
   {
    "duration": 91,
    "start_time": "2023-03-07T10:16:35.693Z"
   },
   {
    "duration": 4210,
    "start_time": "2023-03-07T10:16:35.786Z"
   },
   {
    "duration": 34,
    "start_time": "2023-03-07T10:16:39.998Z"
   },
   {
    "duration": 24,
    "start_time": "2023-03-07T10:16:40.034Z"
   },
   {
    "duration": 24,
    "start_time": "2023-03-07T10:16:40.060Z"
   },
   {
    "duration": 20,
    "start_time": "2023-03-07T10:16:40.086Z"
   },
   {
    "duration": 132,
    "start_time": "2023-03-07T10:16:40.108Z"
   },
   {
    "duration": 50,
    "start_time": "2023-03-07T10:16:40.242Z"
   },
   {
    "duration": 4,
    "start_time": "2023-03-07T10:16:40.294Z"
   },
   {
    "duration": 31,
    "start_time": "2023-03-07T10:16:40.299Z"
   },
   {
    "duration": 179,
    "start_time": "2023-03-07T10:16:40.331Z"
   },
   {
    "duration": 0,
    "start_time": "2023-03-07T10:16:40.512Z"
   },
   {
    "duration": 0,
    "start_time": "2023-03-07T10:16:40.514Z"
   },
   {
    "duration": 0,
    "start_time": "2023-03-07T10:16:40.515Z"
   },
   {
    "duration": 38,
    "start_time": "2023-03-07T10:21:54.002Z"
   },
   {
    "duration": 4,
    "start_time": "2023-03-07T10:22:41.004Z"
   },
   {
    "duration": 30,
    "start_time": "2023-03-07T10:22:48.377Z"
   },
   {
    "duration": 7406,
    "start_time": "2023-03-07T10:22:54.176Z"
   },
   {
    "duration": 13,
    "start_time": "2023-03-07T10:23:34.042Z"
   },
   {
    "duration": 13,
    "start_time": "2023-03-07T10:23:41.731Z"
   },
   {
    "duration": 3086,
    "start_time": "2023-03-07T10:23:58.924Z"
   },
   {
    "duration": 2276,
    "start_time": "2023-03-07T10:24:02.012Z"
   },
   {
    "duration": 177,
    "start_time": "2023-03-07T10:24:04.291Z"
   },
   {
    "duration": 19,
    "start_time": "2023-03-07T10:24:04.470Z"
   },
   {
    "duration": 2083,
    "start_time": "2023-03-07T10:24:04.492Z"
   },
   {
    "duration": 5,
    "start_time": "2023-03-07T10:24:06.577Z"
   },
   {
    "duration": 23,
    "start_time": "2023-03-07T10:24:06.584Z"
   },
   {
    "duration": 7,
    "start_time": "2023-03-07T10:24:06.609Z"
   },
   {
    "duration": 16,
    "start_time": "2023-03-07T10:24:06.617Z"
   },
   {
    "duration": 11,
    "start_time": "2023-03-07T10:24:06.635Z"
   },
   {
    "duration": 89794,
    "start_time": "2023-03-07T10:24:06.647Z"
   },
   {
    "duration": 81,
    "start_time": "2023-03-07T10:25:36.443Z"
   },
   {
    "duration": 4339,
    "start_time": "2023-03-07T10:25:36.531Z"
   },
   {
    "duration": 29,
    "start_time": "2023-03-07T10:25:40.873Z"
   },
   {
    "duration": 10,
    "start_time": "2023-03-07T10:25:40.903Z"
   },
   {
    "duration": 15,
    "start_time": "2023-03-07T10:25:40.915Z"
   },
   {
    "duration": 2,
    "start_time": "2023-03-07T10:25:40.932Z"
   },
   {
    "duration": 124,
    "start_time": "2023-03-07T10:25:40.935Z"
   },
   {
    "duration": 59,
    "start_time": "2023-03-07T10:25:41.061Z"
   },
   {
    "duration": 4,
    "start_time": "2023-03-07T10:25:41.131Z"
   },
   {
    "duration": 16,
    "start_time": "2023-03-07T10:25:41.136Z"
   },
   {
    "duration": 35,
    "start_time": "2023-03-07T10:25:41.153Z"
   },
   {
    "duration": 1663,
    "start_time": "2023-03-07T10:25:41.191Z"
   },
   {
    "duration": 182,
    "start_time": "2023-03-07T10:25:42.856Z"
   },
   {
    "duration": 0,
    "start_time": "2023-03-07T10:25:43.041Z"
   },
   {
    "duration": 55735,
    "start_time": "2023-03-07T10:28:17.198Z"
   },
   {
    "duration": 3311,
    "start_time": "2023-03-07T16:50:53.800Z"
   },
   {
    "duration": 2905,
    "start_time": "2023-03-07T16:50:57.113Z"
   },
   {
    "duration": 203,
    "start_time": "2023-03-07T16:51:00.020Z"
   },
   {
    "duration": 18,
    "start_time": "2023-03-07T16:51:00.225Z"
   },
   {
    "duration": 4941,
    "start_time": "2023-03-07T16:51:00.245Z"
   },
   {
    "duration": 28,
    "start_time": "2023-03-07T16:51:14.133Z"
   },
   {
    "duration": 187,
    "start_time": "2023-03-07T16:51:40.793Z"
   },
   {
    "duration": 76349,
    "start_time": "2023-03-07T16:51:54.301Z"
   },
   {
    "duration": 2784,
    "start_time": "2023-03-07T17:41:34.678Z"
   },
   {
    "duration": 1218,
    "start_time": "2023-03-07T17:41:37.464Z"
   },
   {
    "duration": 182,
    "start_time": "2023-03-07T17:41:38.684Z"
   },
   {
    "duration": 17,
    "start_time": "2023-03-07T17:41:39.300Z"
   },
   {
    "duration": 1734,
    "start_time": "2023-03-07T17:42:22.104Z"
   },
   {
    "duration": 1238,
    "start_time": "2023-03-07T17:42:25.241Z"
   },
   {
    "duration": 197,
    "start_time": "2023-03-07T17:42:26.481Z"
   },
   {
    "duration": 18,
    "start_time": "2023-03-07T17:42:34.464Z"
   },
   {
    "duration": 4318,
    "start_time": "2023-03-07T17:42:37.355Z"
   },
   {
    "duration": 30,
    "start_time": "2023-03-07T17:42:41.675Z"
   },
   {
    "duration": 3,
    "start_time": "2023-03-07T17:45:29.389Z"
   },
   {
    "duration": 49018,
    "start_time": "2023-03-07T17:46:10.051Z"
   },
   {
    "duration": 8,
    "start_time": "2023-03-07T17:47:14.168Z"
   },
   {
    "duration": 4,
    "start_time": "2023-03-07T17:47:48.409Z"
   },
   {
    "duration": 479,
    "start_time": "2023-03-07T17:48:11.107Z"
   },
   {
    "duration": 14,
    "start_time": "2023-03-07T18:33:32.544Z"
   },
   {
    "duration": 4,
    "start_time": "2023-03-07T19:04:22.155Z"
   },
   {
    "duration": 358,
    "start_time": "2023-03-07T19:04:36.925Z"
   },
   {
    "duration": 50,
    "start_time": "2023-03-07T19:05:00.397Z"
   },
   {
    "duration": 23,
    "start_time": "2023-03-07T19:05:07.185Z"
   },
   {
    "duration": 1460,
    "start_time": "2023-03-07T19:10:13.605Z"
   },
   {
    "duration": 1776,
    "start_time": "2023-03-07T19:10:38.554Z"
   },
   {
    "duration": 1508,
    "start_time": "2023-03-07T19:10:40.332Z"
   },
   {
    "duration": 200,
    "start_time": "2023-03-07T19:10:41.842Z"
   },
   {
    "duration": 35,
    "start_time": "2023-03-07T19:10:42.044Z"
   },
   {
    "duration": 5568,
    "start_time": "2023-03-07T19:10:44.552Z"
   },
   {
    "duration": 31,
    "start_time": "2023-03-07T19:10:50.122Z"
   },
   {
    "duration": 22,
    "start_time": "2023-03-07T19:10:50.155Z"
   },
   {
    "duration": 56214,
    "start_time": "2023-03-07T19:10:50.183Z"
   },
   {
    "duration": 9,
    "start_time": "2023-03-07T19:11:46.399Z"
   },
   {
    "duration": 3,
    "start_time": "2023-03-07T20:02:11.994Z"
   },
   {
    "duration": 531,
    "start_time": "2023-03-07T20:02:14.621Z"
   },
   {
    "duration": 7,
    "start_time": "2023-03-07T20:02:26.172Z"
   },
   {
    "duration": 13,
    "start_time": "2023-03-07T20:02:33.226Z"
   },
   {
    "duration": 4,
    "start_time": "2023-03-07T20:02:42.997Z"
   },
   {
    "duration": 4276,
    "start_time": "2023-03-07T20:03:29.700Z"
   },
   {
    "duration": 338,
    "start_time": "2023-03-07T20:07:47.426Z"
   },
   {
    "duration": 4,
    "start_time": "2023-03-07T20:08:03.102Z"
   },
   {
    "duration": 78,
    "start_time": "2023-03-07T20:08:06.811Z"
   },
   {
    "duration": 614,
    "start_time": "2023-03-07T20:08:37.298Z"
   },
   {
    "duration": 487,
    "start_time": "2023-03-07T20:08:50.325Z"
   },
   {
    "duration": 142086,
    "start_time": "2023-03-07T20:09:19.713Z"
   },
   {
    "duration": 4522,
    "start_time": "2023-03-07T20:12:11.334Z"
   },
   {
    "duration": 1269,
    "start_time": "2023-03-07T20:12:15.858Z"
   },
   {
    "duration": 196,
    "start_time": "2023-03-07T20:12:17.129Z"
   },
   {
    "duration": 20,
    "start_time": "2023-03-07T20:12:17.327Z"
   },
   {
    "duration": 4850,
    "start_time": "2023-03-07T20:12:20.006Z"
   },
   {
    "duration": 41,
    "start_time": "2023-03-07T20:12:24.858Z"
   },
   {
    "duration": 583,
    "start_time": "2023-03-07T20:12:28.687Z"
   },
   {
    "duration": 4149,
    "start_time": "2023-03-07T20:29:46.904Z"
   },
   {
    "duration": 528,
    "start_time": "2023-03-07T20:30:18.118Z"
   },
   {
    "duration": 469,
    "start_time": "2023-03-07T20:30:31.827Z"
   },
   {
    "duration": 19,
    "start_time": "2023-03-07T20:30:33.632Z"
   },
   {
    "duration": 4801,
    "start_time": "2023-03-07T20:31:20.397Z"
   },
   {
    "duration": 2958,
    "start_time": "2023-03-07T20:31:25.200Z"
   },
   {
    "duration": 212,
    "start_time": "2023-03-07T20:31:28.159Z"
   },
   {
    "duration": 29,
    "start_time": "2023-03-07T20:31:28.373Z"
   },
   {
    "duration": 4890,
    "start_time": "2023-03-07T20:31:28.405Z"
   },
   {
    "duration": 33,
    "start_time": "2023-03-07T20:31:33.297Z"
   },
   {
    "duration": 7,
    "start_time": "2023-03-07T20:31:33.331Z"
   },
   {
    "duration": 6,
    "start_time": "2023-03-07T20:31:33.340Z"
   },
   {
    "duration": 7,
    "start_time": "2023-03-07T20:31:33.348Z"
   },
   {
    "duration": 642,
    "start_time": "2023-03-07T20:31:33.357Z"
   },
   {
    "duration": 563,
    "start_time": "2023-03-07T20:31:34.001Z"
   },
   {
    "duration": 1090992,
    "start_time": "2023-03-07T20:31:34.566Z"
   },
   {
    "duration": 2,
    "start_time": "2023-03-07T20:49:45.560Z"
   },
   {
    "duration": 7,
    "start_time": "2023-03-07T20:49:45.576Z"
   },
   {
    "duration": 4,
    "start_time": "2023-03-07T20:49:45.589Z"
   },
   {
    "duration": 4,
    "start_time": "2023-03-07T20:49:45.595Z"
   },
   {
    "duration": 4,
    "start_time": "2023-03-07T20:49:45.601Z"
   },
   {
    "duration": 5,
    "start_time": "2023-03-07T20:49:45.606Z"
   },
   {
    "duration": 5,
    "start_time": "2023-03-07T20:49:45.612Z"
   },
   {
    "duration": 4,
    "start_time": "2023-03-07T20:49:45.619Z"
   },
   {
    "duration": 5,
    "start_time": "2023-03-07T20:49:45.625Z"
   },
   {
    "duration": 5,
    "start_time": "2023-03-07T20:49:45.632Z"
   },
   {
    "duration": 5,
    "start_time": "2023-03-07T20:49:45.639Z"
   },
   {
    "duration": 7,
    "start_time": "2023-03-07T20:49:45.646Z"
   },
   {
    "duration": 29,
    "start_time": "2023-03-07T20:49:45.654Z"
   },
   {
    "duration": 7,
    "start_time": "2023-03-07T20:49:45.686Z"
   },
   {
    "duration": 11,
    "start_time": "2023-03-07T20:49:45.695Z"
   },
   {
    "duration": 9,
    "start_time": "2023-03-07T20:52:12.578Z"
   },
   {
    "duration": 420,
    "start_time": "2023-03-07T20:52:47.951Z"
   },
   {
    "duration": 4439,
    "start_time": "2023-03-07T20:53:05.601Z"
   },
   {
    "duration": 597,
    "start_time": "2023-03-07T20:53:16.232Z"
   },
   {
    "duration": 489,
    "start_time": "2023-03-07T20:53:16.830Z"
   },
   {
    "duration": 1079923,
    "start_time": "2023-03-07T20:53:17.321Z"
   },
   {
    "duration": 6,
    "start_time": "2023-03-07T21:11:17.246Z"
   },
   {
    "duration": 4,
    "start_time": "2023-03-07T21:11:17.254Z"
   },
   {
    "duration": 7,
    "start_time": "2023-03-07T21:11:17.260Z"
   },
   {
    "duration": 2,
    "start_time": "2023-03-07T21:11:17.274Z"
   },
   {
    "duration": 5,
    "start_time": "2023-03-07T21:11:17.277Z"
   },
   {
    "duration": 8,
    "start_time": "2023-03-07T21:11:17.284Z"
   },
   {
    "duration": 5,
    "start_time": "2023-03-07T21:11:17.293Z"
   },
   {
    "duration": 6,
    "start_time": "2023-03-07T21:11:17.300Z"
   },
   {
    "duration": 4,
    "start_time": "2023-03-07T21:11:17.307Z"
   },
   {
    "duration": 5,
    "start_time": "2023-03-07T21:11:17.313Z"
   },
   {
    "duration": 10,
    "start_time": "2023-03-07T21:11:17.320Z"
   },
   {
    "duration": 8,
    "start_time": "2023-03-07T21:11:17.331Z"
   },
   {
    "duration": 8,
    "start_time": "2023-03-07T21:11:17.340Z"
   },
   {
    "duration": 5,
    "start_time": "2023-03-07T21:11:17.350Z"
   },
   {
    "duration": 17,
    "start_time": "2023-03-07T21:11:17.356Z"
   },
   {
    "duration": 15,
    "start_time": "2023-03-07T21:11:17.375Z"
   },
   {
    "duration": 13,
    "start_time": "2023-03-07T21:12:48.532Z"
   },
   {
    "duration": 7160,
    "start_time": "2023-03-07T21:18:10.343Z"
   },
   {
    "duration": 101,
    "start_time": "2023-03-07T21:19:13.849Z"
   },
   {
    "duration": 76,
    "start_time": "2023-03-07T21:19:29.160Z"
   },
   {
    "duration": 3,
    "start_time": "2023-03-07T21:19:33.339Z"
   },
   {
    "duration": 4,
    "start_time": "2023-03-07T21:19:39.299Z"
   },
   {
    "duration": 37,
    "start_time": "2023-03-07T21:19:46.214Z"
   },
   {
    "duration": 357,
    "start_time": "2023-03-07T21:19:51.028Z"
   },
   {
    "duration": 43,
    "start_time": "2023-03-07T21:20:24.046Z"
   },
   {
    "duration": 6,
    "start_time": "2023-03-07T21:20:44.616Z"
   },
   {
    "duration": 5,
    "start_time": "2023-03-07T21:21:55.262Z"
   },
   {
    "duration": 1026,
    "start_time": "2023-03-07T21:22:10.584Z"
   },
   {
    "duration": 83,
    "start_time": "2023-03-07T21:22:22.945Z"
   },
   {
    "duration": 22,
    "start_time": "2023-03-07T21:22:24.009Z"
   },
   {
    "duration": 6,
    "start_time": "2023-03-07T21:22:24.757Z"
   },
   {
    "duration": 36,
    "start_time": "2023-03-07T21:22:25.399Z"
   },
   {
    "duration": 25,
    "start_time": "2023-03-07T21:22:26.893Z"
   },
   {
    "duration": 4,
    "start_time": "2023-03-07T21:22:46.639Z"
   },
   {
    "duration": 5,
    "start_time": "2023-03-07T21:22:47.256Z"
   },
   {
    "duration": 20,
    "start_time": "2023-03-07T21:22:47.767Z"
   },
   {
    "duration": 16,
    "start_time": "2023-03-07T21:22:50.092Z"
   },
   {
    "duration": 15,
    "start_time": "2023-03-07T21:23:29.574Z"
   },
   {
    "duration": 18,
    "start_time": "2023-03-07T21:23:32.031Z"
   },
   {
    "duration": 16,
    "start_time": "2023-03-07T21:23:33.603Z"
   },
   {
    "duration": 54,
    "start_time": "2023-03-07T21:23:45.443Z"
   },
   {
    "duration": 23,
    "start_time": "2023-03-07T21:23:45.932Z"
   },
   {
    "duration": 4,
    "start_time": "2023-03-07T21:23:47.366Z"
   },
   {
    "duration": 19,
    "start_time": "2023-03-07T21:23:47.828Z"
   },
   {
    "duration": 16,
    "start_time": "2023-03-07T21:23:48.852Z"
   },
   {
    "duration": 557,
    "start_time": "2023-03-07T21:24:10.676Z"
   },
   {
    "duration": 575,
    "start_time": "2023-03-07T21:26:11.573Z"
   },
   {
    "duration": 4467,
    "start_time": "2023-03-07T21:29:28.052Z"
   },
   {
    "duration": 1182,
    "start_time": "2023-03-07T21:29:32.521Z"
   },
   {
    "duration": 174,
    "start_time": "2023-03-07T21:29:33.705Z"
   },
   {
    "duration": 19,
    "start_time": "2023-03-07T21:29:33.882Z"
   },
   {
    "duration": 4200,
    "start_time": "2023-03-07T21:29:33.902Z"
   },
   {
    "duration": 30,
    "start_time": "2023-03-07T21:29:38.104Z"
   },
   {
    "duration": 542,
    "start_time": "2023-03-07T21:29:38.136Z"
   },
   {
    "duration": 591590,
    "start_time": "2023-03-07T21:29:38.680Z"
   },
   {
    "duration": 0,
    "start_time": "2023-03-07T21:39:30.272Z"
   },
   {
    "duration": 0,
    "start_time": "2023-03-07T21:39:30.273Z"
   },
   {
    "duration": 0,
    "start_time": "2023-03-07T21:39:30.274Z"
   },
   {
    "duration": 0,
    "start_time": "2023-03-07T21:39:30.276Z"
   },
   {
    "duration": 0,
    "start_time": "2023-03-07T21:39:30.276Z"
   },
   {
    "duration": 0,
    "start_time": "2023-03-07T21:39:30.278Z"
   },
   {
    "duration": 0,
    "start_time": "2023-03-07T21:39:30.279Z"
   },
   {
    "duration": 0,
    "start_time": "2023-03-07T21:39:30.280Z"
   },
   {
    "duration": 0,
    "start_time": "2023-03-07T21:39:30.281Z"
   },
   {
    "duration": 0,
    "start_time": "2023-03-07T21:39:30.282Z"
   },
   {
    "duration": 0,
    "start_time": "2023-03-07T21:39:30.283Z"
   },
   {
    "duration": 1005245,
    "start_time": "2023-03-07T21:39:34.836Z"
   },
   {
    "duration": 11,
    "start_time": "2023-03-07T21:58:01.993Z"
   },
   {
    "duration": 7105,
    "start_time": "2023-03-07T21:58:08.463Z"
   },
   {
    "duration": 4,
    "start_time": "2023-03-07T21:58:16.801Z"
   },
   {
    "duration": 20,
    "start_time": "2023-03-07T21:58:25.299Z"
   },
   {
    "duration": 5,
    "start_time": "2023-03-07T21:58:31.675Z"
   },
   {
    "duration": 94,
    "start_time": "2023-03-07T21:59:03.513Z"
   },
   {
    "duration": 20,
    "start_time": "2023-03-07T22:00:16.233Z"
   },
   {
    "duration": 6974,
    "start_time": "2023-03-07T22:00:29.396Z"
   },
   {
    "duration": 3,
    "start_time": "2023-03-07T22:01:45.627Z"
   },
   {
    "duration": 103,
    "start_time": "2023-03-07T22:01:49.452Z"
   },
   {
    "duration": 5,
    "start_time": "2023-03-07T22:01:52.888Z"
   },
   {
    "duration": 48,
    "start_time": "2023-03-07T22:02:05.313Z"
   },
   {
    "duration": 5,
    "start_time": "2023-03-07T22:02:19.045Z"
   },
   {
    "duration": 55,
    "start_time": "2023-03-07T22:02:24.489Z"
   },
   {
    "duration": 582,
    "start_time": "2023-03-07T22:02:36.139Z"
   },
   {
    "duration": 51,
    "start_time": "2023-03-07T22:02:40.634Z"
   },
   {
    "duration": 5,
    "start_time": "2023-03-07T22:03:50.876Z"
   },
   {
    "duration": 62,
    "start_time": "2023-03-07T22:03:51.639Z"
   },
   {
    "duration": 4,
    "start_time": "2023-03-07T22:04:05.352Z"
   },
   {
    "duration": 5,
    "start_time": "2023-03-07T22:04:10.995Z"
   },
   {
    "duration": 59,
    "start_time": "2023-03-07T22:04:12.672Z"
   },
   {
    "duration": 4,
    "start_time": "2023-03-07T22:04:37.442Z"
   },
   {
    "duration": 51,
    "start_time": "2023-03-07T22:04:39.944Z"
   },
   {
    "duration": 64,
    "start_time": "2023-03-07T22:05:48.573Z"
   },
   {
    "duration": 15,
    "start_time": "2023-03-07T22:05:49.127Z"
   },
   {
    "duration": 4,
    "start_time": "2023-03-07T22:05:53.132Z"
   },
   {
    "duration": 35,
    "start_time": "2023-03-07T22:05:57.644Z"
   },
   {
    "duration": 27,
    "start_time": "2023-03-07T22:06:35.397Z"
   },
   {
    "duration": 27,
    "start_time": "2023-03-07T22:06:47.438Z"
   },
   {
    "duration": 28,
    "start_time": "2023-03-07T22:07:13.284Z"
   },
   {
    "duration": 4,
    "start_time": "2023-03-07T22:07:27.143Z"
   },
   {
    "duration": 5,
    "start_time": "2023-03-07T22:07:33.197Z"
   },
   {
    "duration": 4,
    "start_time": "2023-03-07T22:07:53.517Z"
   },
   {
    "duration": 6,
    "start_time": "2023-03-07T22:10:13.654Z"
   },
   {
    "duration": 5,
    "start_time": "2023-03-07T22:10:34.752Z"
   },
   {
    "duration": 37,
    "start_time": "2023-03-07T22:10:54.365Z"
   },
   {
    "duration": 1372,
    "start_time": "2023-03-07T22:11:17.348Z"
   },
   {
    "duration": 4,
    "start_time": "2023-03-07T22:11:21.269Z"
   },
   {
    "duration": 4,
    "start_time": "2023-03-07T22:11:23.026Z"
   },
   {
    "duration": 56305,
    "start_time": "2023-03-07T22:11:26.470Z"
   },
   {
    "duration": 21,
    "start_time": "2023-03-07T22:21:27.820Z"
   },
   {
    "duration": 26,
    "start_time": "2023-03-07T22:23:57.745Z"
   },
   {
    "duration": 3,
    "start_time": "2023-03-07T22:24:03.239Z"
   },
   {
    "duration": 36,
    "start_time": "2023-03-07T22:25:09.567Z"
   },
   {
    "duration": 5147,
    "start_time": "2023-03-08T06:43:11.903Z"
   },
   {
    "duration": 2673,
    "start_time": "2023-03-08T06:43:17.053Z"
   },
   {
    "duration": 175,
    "start_time": "2023-03-08T06:43:19.728Z"
   },
   {
    "duration": 18,
    "start_time": "2023-03-08T06:43:19.905Z"
   },
   {
    "duration": 3835,
    "start_time": "2023-03-08T06:43:19.932Z"
   },
   {
    "duration": 30,
    "start_time": "2023-03-08T06:43:23.769Z"
   },
   {
    "duration": 685,
    "start_time": "2023-03-08T06:43:23.801Z"
   },
   {
    "duration": 1032925,
    "start_time": "2023-03-08T06:43:24.487Z"
   },
   {
    "duration": 9,
    "start_time": "2023-03-08T07:00:37.414Z"
   },
   {
    "duration": 123,
    "start_time": "2023-03-08T07:00:37.424Z"
   },
   {
    "duration": 13,
    "start_time": "2023-03-08T07:00:37.548Z"
   },
   {
    "duration": 136,
    "start_time": "2023-03-08T07:00:37.563Z"
   },
   {
    "duration": 4,
    "start_time": "2023-03-08T07:00:37.701Z"
   },
   {
    "duration": 66,
    "start_time": "2023-03-08T07:00:37.707Z"
   },
   {
    "duration": 1753,
    "start_time": "2023-03-08T07:00:37.775Z"
   },
   {
    "duration": 17,
    "start_time": "2023-03-08T07:00:39.530Z"
   },
   {
    "duration": 29,
    "start_time": "2023-03-08T07:00:39.552Z"
   },
   {
    "duration": 88356,
    "start_time": "2023-03-08T07:00:39.583Z"
   },
   {
    "duration": 424,
    "start_time": "2023-03-08T07:02:07.946Z"
   },
   {
    "duration": 47,
    "start_time": "2023-03-08T07:11:33.428Z"
   },
   {
    "duration": 41,
    "start_time": "2023-03-08T07:11:41.856Z"
   },
   {
    "duration": 1689178,
    "start_time": "2023-03-08T07:12:03.192Z"
   },
   {
    "duration": 4,
    "start_time": "2023-03-08T07:40:55.358Z"
   },
   {
    "duration": 70,
    "start_time": "2023-03-08T07:41:04.976Z"
   },
   {
    "duration": 40958,
    "start_time": "2023-03-08T07:41:16.374Z"
   },
   {
    "duration": 48,
    "start_time": "2023-03-08T07:43:31.236Z"
   },
   {
    "duration": 19,
    "start_time": "2023-03-08T07:44:02.564Z"
   },
   {
    "duration": 383,
    "start_time": "2023-03-08T07:44:11.643Z"
   },
   {
    "duration": 744110,
    "start_time": "2023-03-08T07:48:13.245Z"
   },
   {
    "duration": 59,
    "start_time": "2023-03-08T08:01:00.956Z"
   },
   {
    "duration": 71,
    "start_time": "2023-03-08T08:01:12.201Z"
   },
   {
    "duration": 59,
    "start_time": "2023-03-08T08:01:22.406Z"
   },
   {
    "duration": 55,
    "start_time": "2023-03-08T08:01:27.895Z"
   },
   {
    "duration": 124,
    "start_time": "2023-03-08T08:01:43.075Z"
   },
   {
    "duration": 4254,
    "start_time": "2023-03-08T08:02:47.922Z"
   },
   {
    "duration": 1053,
    "start_time": "2023-03-08T08:02:52.178Z"
   },
   {
    "duration": 178,
    "start_time": "2023-03-08T08:02:53.233Z"
   },
   {
    "duration": 28,
    "start_time": "2023-03-08T08:02:53.413Z"
   },
   {
    "duration": 3750,
    "start_time": "2023-03-08T08:02:53.443Z"
   },
   {
    "duration": 41,
    "start_time": "2023-03-08T08:02:57.195Z"
   },
   {
    "duration": 503,
    "start_time": "2023-03-08T08:02:57.238Z"
   },
   {
    "duration": 996979,
    "start_time": "2023-03-08T08:02:57.743Z"
   },
   {
    "duration": 15,
    "start_time": "2023-03-08T08:19:34.724Z"
   },
   {
    "duration": 112,
    "start_time": "2023-03-08T08:19:34.740Z"
   },
   {
    "duration": 5,
    "start_time": "2023-03-08T08:19:34.854Z"
   },
   {
    "duration": 128,
    "start_time": "2023-03-08T08:19:34.860Z"
   },
   {
    "duration": 4,
    "start_time": "2023-03-08T08:19:34.990Z"
   },
   {
    "duration": 84,
    "start_time": "2023-03-08T08:19:34.997Z"
   },
   {
    "duration": 2036,
    "start_time": "2023-03-08T08:19:35.082Z"
   },
   {
    "duration": 5,
    "start_time": "2023-03-08T08:19:37.119Z"
   },
   {
    "duration": 29,
    "start_time": "2023-03-08T08:19:37.136Z"
   },
   {
    "duration": 76968,
    "start_time": "2023-03-08T08:19:37.166Z"
   },
   {
    "duration": 1701320,
    "start_time": "2023-03-08T08:20:54.141Z"
   },
   {
    "duration": 748769,
    "start_time": "2023-03-08T08:49:15.462Z"
   },
   {
    "duration": 4322,
    "start_time": "2023-03-09T09:01:10.985Z"
   },
   {
    "duration": 3272,
    "start_time": "2023-03-09T09:01:15.309Z"
   },
   {
    "duration": 636,
    "start_time": "2023-03-09T09:01:18.583Z"
   },
   {
    "duration": 154,
    "start_time": "2023-03-09T09:01:38.560Z"
   },
   {
    "duration": 19411,
    "start_time": "2023-03-09T09:02:55.535Z"
   },
   {
    "duration": 114,
    "start_time": "2023-03-09T09:03:21.607Z"
   },
   {
    "duration": 114,
    "start_time": "2023-03-09T09:03:44.107Z"
   },
   {
    "duration": 97,
    "start_time": "2023-03-09T09:03:55.008Z"
   },
   {
    "duration": 112,
    "start_time": "2023-03-09T09:04:34.203Z"
   },
   {
    "duration": 103,
    "start_time": "2023-03-09T09:04:40.267Z"
   },
   {
    "duration": 114,
    "start_time": "2023-03-09T09:04:46.507Z"
   },
   {
    "duration": 830,
    "start_time": "2023-03-09T09:04:50.213Z"
   },
   {
    "duration": 16,
    "start_time": "2023-03-09T09:05:24.409Z"
   },
   {
    "duration": 3,
    "start_time": "2023-03-09T09:18:19.191Z"
   },
   {
    "duration": 4487,
    "start_time": "2023-03-09T09:18:48.862Z"
   },
   {
    "duration": 4185,
    "start_time": "2023-03-09T09:19:01.522Z"
   },
   {
    "duration": 4196,
    "start_time": "2023-03-09T09:20:00.175Z"
   },
   {
    "duration": 954,
    "start_time": "2023-03-09T09:20:04.374Z"
   },
   {
    "duration": 145,
    "start_time": "2023-03-09T09:20:05.329Z"
   },
   {
    "duration": 24,
    "start_time": "2023-03-09T09:20:05.477Z"
   },
   {
    "duration": 7,
    "start_time": "2023-03-09T09:20:05.503Z"
   },
   {
    "duration": 4171,
    "start_time": "2023-03-09T09:20:05.511Z"
   },
   {
    "duration": 504,
    "start_time": "2023-03-09T09:20:09.683Z"
   },
   {
    "duration": 401,
    "start_time": "2023-03-09T09:20:10.188Z"
   },
   {
    "duration": 8,
    "start_time": "2023-03-09T09:20:10.590Z"
   },
   {
    "duration": 56,
    "start_time": "2023-03-09T09:20:10.601Z"
   },
   {
    "duration": 882,
    "start_time": "2023-03-09T09:20:10.659Z"
   },
   {
    "duration": 0,
    "start_time": "2023-03-09T09:20:11.543Z"
   },
   {
    "duration": 0,
    "start_time": "2023-03-09T09:20:11.544Z"
   },
   {
    "duration": 0,
    "start_time": "2023-03-09T09:20:11.545Z"
   },
   {
    "duration": 0,
    "start_time": "2023-03-09T09:20:11.546Z"
   },
   {
    "duration": 0,
    "start_time": "2023-03-09T09:20:11.550Z"
   },
   {
    "duration": 0,
    "start_time": "2023-03-09T09:20:11.551Z"
   },
   {
    "duration": 0,
    "start_time": "2023-03-09T09:20:11.553Z"
   },
   {
    "duration": 0,
    "start_time": "2023-03-09T09:20:11.554Z"
   },
   {
    "duration": 6,
    "start_time": "2023-03-09T09:20:43.928Z"
   },
   {
    "duration": 3981,
    "start_time": "2023-03-09T09:21:04.435Z"
   },
   {
    "duration": 963,
    "start_time": "2023-03-09T09:21:08.418Z"
   },
   {
    "duration": 146,
    "start_time": "2023-03-09T09:21:09.382Z"
   },
   {
    "duration": 22,
    "start_time": "2023-03-09T09:21:12.478Z"
   },
   {
    "duration": 3,
    "start_time": "2023-03-09T09:21:15.657Z"
   },
   {
    "duration": 3995,
    "start_time": "2023-03-09T09:21:16.410Z"
   },
   {
    "duration": 481,
    "start_time": "2023-03-09T09:21:27.309Z"
   },
   {
    "duration": 1047820,
    "start_time": "2023-03-09T09:21:28.761Z"
   },
   {
    "duration": 10,
    "start_time": "2023-03-09T09:39:18.401Z"
   },
   {
    "duration": 103,
    "start_time": "2023-03-09T09:39:33.255Z"
   },
   {
    "duration": 5,
    "start_time": "2023-03-09T09:39:41.364Z"
   },
   {
    "duration": 128,
    "start_time": "2023-03-09T09:39:48.403Z"
   },
   {
    "duration": 6,
    "start_time": "2023-03-09T09:43:09.430Z"
   },
   {
    "duration": 352,
    "start_time": "2023-03-09T09:51:36.187Z"
   },
   {
    "duration": 23,
    "start_time": "2023-03-09T09:52:38.667Z"
   },
   {
    "duration": 10063,
    "start_time": "2023-03-09T09:52:56.842Z"
   },
   {
    "duration": 68,
    "start_time": "2023-03-09T09:53:15.513Z"
   },
   {
    "duration": 25,
    "start_time": "2023-03-09T09:53:27.607Z"
   },
   {
    "duration": 59072,
    "start_time": "2023-03-09T09:54:47.070Z"
   },
   {
    "duration": 73,
    "start_time": "2023-03-09T09:55:49.919Z"
   },
   {
    "duration": 28,
    "start_time": "2023-03-09T09:56:16.872Z"
   },
   {
    "duration": 5,
    "start_time": "2023-03-09T09:57:56.966Z"
   },
   {
    "duration": 10635,
    "start_time": "2023-03-09T15:04:40.199Z"
   },
   {
    "duration": 36815,
    "start_time": "2023-03-09T15:04:50.835Z"
   },
   {
    "duration": 12941,
    "start_time": "2023-03-09T15:05:27.652Z"
   },
   {
    "duration": 3726,
    "start_time": "2023-03-09T15:05:40.596Z"
   },
   {
    "duration": 143,
    "start_time": "2023-03-09T15:05:44.324Z"
   },
   {
    "duration": 15,
    "start_time": "2023-03-09T15:05:44.468Z"
   },
   {
    "duration": 4,
    "start_time": "2023-03-09T15:05:44.484Z"
   },
   {
    "duration": 4236,
    "start_time": "2023-03-09T15:05:44.489Z"
   },
   {
    "duration": 634,
    "start_time": "2023-03-09T15:05:48.726Z"
   },
   {
    "duration": 915204,
    "start_time": "2023-03-09T15:05:49.362Z"
   },
   {
    "duration": 8,
    "start_time": "2023-03-09T15:21:04.567Z"
   },
   {
    "duration": 44,
    "start_time": "2023-03-09T15:21:04.576Z"
   },
   {
    "duration": 3,
    "start_time": "2023-03-09T15:21:04.622Z"
   },
   {
    "duration": 109,
    "start_time": "2023-03-09T15:21:04.627Z"
   },
   {
    "duration": 4,
    "start_time": "2023-03-09T15:21:04.737Z"
   },
   {
    "duration": 43,
    "start_time": "2023-03-09T15:21:04.742Z"
   },
   {
    "duration": 0,
    "start_time": "2023-03-09T15:21:04.786Z"
   },
   {
    "duration": 0,
    "start_time": "2023-03-09T15:21:04.787Z"
   },
   {
    "duration": 0,
    "start_time": "2023-03-09T15:21:04.788Z"
   },
   {
    "duration": 0,
    "start_time": "2023-03-09T15:21:04.789Z"
   },
   {
    "duration": 5,
    "start_time": "2023-03-09T16:49:48.410Z"
   },
   {
    "duration": 187,
    "start_time": "2023-03-09T16:50:08.199Z"
   },
   {
    "duration": 5,
    "start_time": "2023-03-09T16:51:10.231Z"
   },
   {
    "duration": 3,
    "start_time": "2023-03-09T16:51:10.932Z"
   },
   {
    "duration": 426,
    "start_time": "2023-03-09T17:04:28.206Z"
   },
   {
    "duration": 73,
    "start_time": "2023-03-09T17:04:31.631Z"
   },
   {
    "duration": 14,
    "start_time": "2023-03-09T17:21:49.555Z"
   },
   {
    "duration": 56,
    "start_time": "2023-03-09T17:23:30.646Z"
   },
   {
    "duration": 23,
    "start_time": "2023-03-09T17:24:15.296Z"
   },
   {
    "duration": 52,
    "start_time": "2023-03-09T17:24:27.578Z"
   },
   {
    "duration": 3,
    "start_time": "2023-03-09T17:28:43.811Z"
   },
   {
    "duration": 2,
    "start_time": "2023-03-09T17:28:45.028Z"
   },
   {
    "duration": 66,
    "start_time": "2023-03-09T17:28:45.735Z"
   },
   {
    "duration": 4,
    "start_time": "2023-03-09T17:29:04.482Z"
   },
   {
    "duration": 3,
    "start_time": "2023-03-09T17:29:05.270Z"
   },
   {
    "duration": 264541,
    "start_time": "2023-03-09T17:29:05.822Z"
   },
   {
    "duration": 3,
    "start_time": "2023-03-09T17:35:03.793Z"
   },
   {
    "duration": 142879,
    "start_time": "2023-03-09T17:40:49.064Z"
   },
   {
    "duration": 127701,
    "start_time": "2023-03-09T17:44:02.461Z"
   },
   {
    "duration": 5066752,
    "start_time": "2023-03-09T17:47:37.311Z"
   },
   {
    "duration": 45447,
    "start_time": "2023-03-09T19:15:44.609Z"
   },
   {
    "duration": 386655,
    "start_time": "2023-03-09T19:48:10.364Z"
   },
   {
    "duration": 5113,
    "start_time": "2023-03-09T19:58:10.896Z"
   },
   {
    "duration": 1252,
    "start_time": "2023-03-09T19:58:16.011Z"
   },
   {
    "duration": 151,
    "start_time": "2023-03-09T19:58:17.265Z"
   },
   {
    "duration": 21,
    "start_time": "2023-03-09T19:58:17.418Z"
   },
   {
    "duration": 16,
    "start_time": "2023-03-09T19:58:17.440Z"
   },
   {
    "duration": 4476,
    "start_time": "2023-03-09T19:58:17.457Z"
   },
   {
    "duration": 592,
    "start_time": "2023-03-09T19:58:21.935Z"
   },
   {
    "duration": 1002899,
    "start_time": "2023-03-09T19:58:22.528Z"
   },
   {
    "duration": 11,
    "start_time": "2023-03-09T20:15:05.429Z"
   },
   {
    "duration": 49,
    "start_time": "2023-03-09T20:15:05.458Z"
   },
   {
    "duration": 5,
    "start_time": "2023-03-09T20:15:05.509Z"
   },
   {
    "duration": 130,
    "start_time": "2023-03-09T20:15:05.517Z"
   },
   {
    "duration": 262,
    "start_time": "2023-03-09T20:15:05.649Z"
   },
   {
    "duration": 4,
    "start_time": "2023-03-09T20:15:05.913Z"
   },
   {
    "duration": 18,
    "start_time": "2023-03-09T20:15:05.919Z"
   },
   {
    "duration": 221618,
    "start_time": "2023-03-09T20:15:05.939Z"
   },
   {
    "duration": 91208,
    "start_time": "2023-03-09T20:18:47.561Z"
   },
   {
    "duration": 4302872,
    "start_time": "2023-03-09T20:20:18.770Z"
   },
   {
    "duration": 0,
    "start_time": "2023-03-09T21:32:01.645Z"
   },
   {
    "duration": 0,
    "start_time": "2023-03-09T21:32:01.646Z"
   },
   {
    "duration": 105294,
    "start_time": "2023-03-09T21:32:08.230Z"
   },
   {
    "duration": 2579270,
    "start_time": "2023-03-09T21:33:55.772Z"
   },
   {
    "duration": 42402,
    "start_time": "2023-03-09T22:17:57.661Z"
   },
   {
    "duration": 6166,
    "start_time": "2023-03-10T17:17:25.809Z"
   },
   {
    "duration": 4049,
    "start_time": "2023-03-10T17:17:31.977Z"
   },
   {
    "duration": 153,
    "start_time": "2023-03-10T17:17:36.028Z"
   },
   {
    "duration": 21,
    "start_time": "2023-03-10T17:17:36.183Z"
   },
   {
    "duration": 4,
    "start_time": "2023-03-10T17:17:36.206Z"
   },
   {
    "duration": 4297,
    "start_time": "2023-03-10T17:17:36.212Z"
   },
   {
    "duration": 693,
    "start_time": "2023-03-10T17:17:40.511Z"
   },
   {
    "duration": 1021410,
    "start_time": "2023-03-10T17:17:41.206Z"
   },
   {
    "duration": 8,
    "start_time": "2023-03-10T17:34:42.617Z"
   },
   {
    "duration": 80,
    "start_time": "2023-03-10T17:34:42.627Z"
   },
   {
    "duration": 4,
    "start_time": "2023-03-10T17:34:42.708Z"
   },
   {
    "duration": 115,
    "start_time": "2023-03-10T17:34:42.714Z"
   },
   {
    "duration": 236,
    "start_time": "2023-03-10T17:34:42.831Z"
   },
   {
    "duration": 15,
    "start_time": "2023-03-10T17:34:43.069Z"
   },
   {
    "duration": 4,
    "start_time": "2023-03-10T17:34:43.086Z"
   },
   {
    "duration": 349805,
    "start_time": "2023-03-10T17:34:43.091Z"
   },
   {
    "duration": 156521,
    "start_time": "2023-03-10T17:40:32.898Z"
   },
   {
    "duration": 2732410,
    "start_time": "2023-03-10T17:43:09.420Z"
   },
   {
    "duration": 63962,
    "start_time": "2023-03-10T18:28:41.837Z"
   },
   {
    "duration": 460,
    "start_time": "2023-03-10T18:29:45.802Z"
   },
   {
    "duration": 395011,
    "start_time": "2023-03-10T19:21:35.922Z"
   },
   {
    "duration": 67,
    "start_time": "2023-03-10T19:30:42.028Z"
   },
   {
    "duration": 556,
    "start_time": "2023-03-10T19:31:06.957Z"
   }
  ],
  "kernelspec": {
   "display_name": "Python 3 (ipykernel)",
   "language": "python",
   "name": "python3"
  },
  "language_info": {
   "codemirror_mode": {
    "name": "ipython",
    "version": 3
   },
   "file_extension": ".py",
   "mimetype": "text/x-python",
   "name": "python",
   "nbconvert_exporter": "python",
   "pygments_lexer": "ipython3",
   "version": "3.9.16"
  },
  "toc": {
   "base_numbering": 1,
   "nav_menu": {},
   "number_sections": true,
   "sideBar": true,
   "skip_h1_title": true,
   "title_cell": "Содержание",
   "title_sidebar": "Contents",
   "toc_cell": true,
   "toc_position": {
    "height": "calc(100% - 180px)",
    "left": "10px",
    "top": "150px",
    "width": "200.387px"
   },
   "toc_section_display": true,
   "toc_window_display": true
  }
 },
 "nbformat": 4,
 "nbformat_minor": 2
}
