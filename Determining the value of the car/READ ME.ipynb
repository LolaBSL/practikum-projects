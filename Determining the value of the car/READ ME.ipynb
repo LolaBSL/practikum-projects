{
 "cells": [
  {
   "cell_type": "markdown",
   "id": "b12ee221",
   "metadata": {},
   "source": [
    "# Исследование объявлений о продаже квартир"
   ]
  },
  {
   "cell_type": "markdown",
   "id": "c73c5622",
   "metadata": {},
   "source": [
    "В вашем распоряжении данные сервиса Яндекс.Недвижимость — архив объявлений о продаже квартир в Санкт-Петербурге и соседних населённых пунктов за несколько лет. Нужно научиться определять рыночную стоимость объектов недвижимости. Ваша задача — установить параметры. Это позволит построить автоматизированную систему: она отследит аномалии и мошенническую деятельность. \n",
    "\n",
    "По каждой квартире на продажу доступны два вида данных. Первые вписаны пользователем, вторые — получены автоматически на основе картографических данных. Например, расстояние до центра, аэропорта, ближайшего парка и водоёма. "
   ]
  },
  {
   "cell_type": "markdown",
   "id": "2a86255a",
   "metadata": {},
   "source": [
    "- import pandas as pd\n",
    "- import numpy as np\n",
    "- import seaborn as sns\n",
    "- from sklearn.dummy import DummyRegressor\n",
    "- from sklearn.ensemble import RandomForestRegressor\n",
    "- from sklearn.linear_model import LinearRegression\n",
    "- from sklearn.metrics import fbeta_score, make_scorer\n",
    "- from sklearn.metrics import mean_absolute_error\n",
    "- from sklearn.model_selection import GridSearchCV, cross_val_score\n",
    "- from sklearn.model_selection import cross_val_score\n",
    "- from sklearn.pipeline import Pipeline\n",
    "- from sklearn.tree import DecisionTreeRegressor"
   ]
  },
  {
   "cell_type": "code",
   "execution_count": null,
   "id": "d421286d",
   "metadata": {},
   "outputs": [],
   "source": []
  }
 ],
 "metadata": {
  "kernelspec": {
   "display_name": "Python 3 (ipykernel)",
   "language": "python",
   "name": "python3"
  },
  "language_info": {
   "codemirror_mode": {
    "name": "ipython",
    "version": 3
   },
   "file_extension": ".py",
   "mimetype": "text/x-python",
   "name": "python",
   "nbconvert_exporter": "python",
   "pygments_lexer": "ipython3",
   "version": "3.9.16"
  }
 },
 "nbformat": 4,
 "nbformat_minor": 5
}
