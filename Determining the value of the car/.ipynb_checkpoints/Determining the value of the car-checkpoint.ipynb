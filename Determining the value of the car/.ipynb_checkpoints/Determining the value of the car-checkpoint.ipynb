{
 "cells": [
  {
   "cell_type": "markdown",
   "metadata": {},
   "source": [
    "# Определение стоимости автомобилей"
   ]
  },
  {
   "cell_type": "markdown",
   "metadata": {},
   "source": [
    "Для сервиса по продаже автомобилей с пробегом «Не бит, не крашен», который разрабатывает приложение для привлечения новых клиентов. В нём можно быстро узнать рыночную стоимость своего автомобиля. В распоряжении исторические данные: технические характеристики, комплектации и цены автомобилей. \n",
    "\n",
    "***Задача:*** Построить модель для определения стоимости. \n",
    "\n",
    "***Важно:***\n",
    "\n",
    "- качество предсказания;\n",
    "- скорость предсказания;\n",
    "- время обучения."
   ]
  },
  {
   "cell_type": "markdown",
   "metadata": {},
   "source": [
    "## Загрузка данных\n"
   ]
  },
  {
   "cell_type": "code",
   "execution_count": 1,
   "metadata": {},
   "outputs": [],
   "source": [
    "import pandas as pd\n",
    "import matplotlib.pyplot as plt\n",
    "from sklearn.linear_model import LinearRegression\n",
    "from sklearn.model_selection import train_test_split\n",
    "from sklearn.model_selection import cross_val_score\n",
    "from sklearn.metrics import mean_squared_error\n",
    "from sklearn.pipeline import Pipeline\n",
    "from sklearn.preprocessing import OneHotEncoder\n",
    "from sklearn.preprocessing import OrdinalEncoder\n",
    "from sklearn.preprocessing import StandardScaler\n",
    "from sklearn.svm import SVC\n",
    "from catboost import CatBoostRegressor\n",
    "import lightgbm as lgb\n",
    "import lightgbm as lgm\n",
    "from time import time "
   ]
  },
  {
   "cell_type": "code",
   "execution_count": 2,
   "metadata": {},
   "outputs": [],
   "source": [
    "data = pd.read_csv('/datasets/autos.csv')"
   ]
  },
  {
   "cell_type": "code",
   "execution_count": 3,
   "metadata": {
    "collapsed": true
   },
   "outputs": [
    {
     "data": {
      "text/html": [
       "<div>\n",
       "<style scoped>\n",
       "    .dataframe tbody tr th:only-of-type {\n",
       "        vertical-align: middle;\n",
       "    }\n",
       "\n",
       "    .dataframe tbody tr th {\n",
       "        vertical-align: top;\n",
       "    }\n",
       "\n",
       "    .dataframe thead th {\n",
       "        text-align: right;\n",
       "    }\n",
       "</style>\n",
       "<table border=\"1\" class=\"dataframe\">\n",
       "  <thead>\n",
       "    <tr style=\"text-align: right;\">\n",
       "      <th></th>\n",
       "      <th>DateCrawled</th>\n",
       "      <th>Price</th>\n",
       "      <th>VehicleType</th>\n",
       "      <th>RegistrationYear</th>\n",
       "      <th>Gearbox</th>\n",
       "      <th>Power</th>\n",
       "      <th>Model</th>\n",
       "      <th>Kilometer</th>\n",
       "      <th>RegistrationMonth</th>\n",
       "      <th>FuelType</th>\n",
       "      <th>Brand</th>\n",
       "      <th>Repaired</th>\n",
       "      <th>DateCreated</th>\n",
       "      <th>NumberOfPictures</th>\n",
       "      <th>PostalCode</th>\n",
       "      <th>LastSeen</th>\n",
       "    </tr>\n",
       "  </thead>\n",
       "  <tbody>\n",
       "    <tr>\n",
       "      <th>0</th>\n",
       "      <td>2016-03-24 11:52:17</td>\n",
       "      <td>480</td>\n",
       "      <td>NaN</td>\n",
       "      <td>1993</td>\n",
       "      <td>manual</td>\n",
       "      <td>0</td>\n",
       "      <td>golf</td>\n",
       "      <td>150000</td>\n",
       "      <td>0</td>\n",
       "      <td>petrol</td>\n",
       "      <td>volkswagen</td>\n",
       "      <td>NaN</td>\n",
       "      <td>2016-03-24 00:00:00</td>\n",
       "      <td>0</td>\n",
       "      <td>70435</td>\n",
       "      <td>2016-04-07 03:16:57</td>\n",
       "    </tr>\n",
       "    <tr>\n",
       "      <th>1</th>\n",
       "      <td>2016-03-24 10:58:45</td>\n",
       "      <td>18300</td>\n",
       "      <td>coupe</td>\n",
       "      <td>2011</td>\n",
       "      <td>manual</td>\n",
       "      <td>190</td>\n",
       "      <td>NaN</td>\n",
       "      <td>125000</td>\n",
       "      <td>5</td>\n",
       "      <td>gasoline</td>\n",
       "      <td>audi</td>\n",
       "      <td>yes</td>\n",
       "      <td>2016-03-24 00:00:00</td>\n",
       "      <td>0</td>\n",
       "      <td>66954</td>\n",
       "      <td>2016-04-07 01:46:50</td>\n",
       "    </tr>\n",
       "    <tr>\n",
       "      <th>2</th>\n",
       "      <td>2016-03-14 12:52:21</td>\n",
       "      <td>9800</td>\n",
       "      <td>suv</td>\n",
       "      <td>2004</td>\n",
       "      <td>auto</td>\n",
       "      <td>163</td>\n",
       "      <td>grand</td>\n",
       "      <td>125000</td>\n",
       "      <td>8</td>\n",
       "      <td>gasoline</td>\n",
       "      <td>jeep</td>\n",
       "      <td>NaN</td>\n",
       "      <td>2016-03-14 00:00:00</td>\n",
       "      <td>0</td>\n",
       "      <td>90480</td>\n",
       "      <td>2016-04-05 12:47:46</td>\n",
       "    </tr>\n",
       "    <tr>\n",
       "      <th>3</th>\n",
       "      <td>2016-03-17 16:54:04</td>\n",
       "      <td>1500</td>\n",
       "      <td>small</td>\n",
       "      <td>2001</td>\n",
       "      <td>manual</td>\n",
       "      <td>75</td>\n",
       "      <td>golf</td>\n",
       "      <td>150000</td>\n",
       "      <td>6</td>\n",
       "      <td>petrol</td>\n",
       "      <td>volkswagen</td>\n",
       "      <td>no</td>\n",
       "      <td>2016-03-17 00:00:00</td>\n",
       "      <td>0</td>\n",
       "      <td>91074</td>\n",
       "      <td>2016-03-17 17:40:17</td>\n",
       "    </tr>\n",
       "    <tr>\n",
       "      <th>4</th>\n",
       "      <td>2016-03-31 17:25:20</td>\n",
       "      <td>3600</td>\n",
       "      <td>small</td>\n",
       "      <td>2008</td>\n",
       "      <td>manual</td>\n",
       "      <td>69</td>\n",
       "      <td>fabia</td>\n",
       "      <td>90000</td>\n",
       "      <td>7</td>\n",
       "      <td>gasoline</td>\n",
       "      <td>skoda</td>\n",
       "      <td>no</td>\n",
       "      <td>2016-03-31 00:00:00</td>\n",
       "      <td>0</td>\n",
       "      <td>60437</td>\n",
       "      <td>2016-04-06 10:17:21</td>\n",
       "    </tr>\n",
       "  </tbody>\n",
       "</table>\n",
       "</div>"
      ],
      "text/plain": [
       "           DateCrawled  Price VehicleType  RegistrationYear Gearbox  Power  \\\n",
       "0  2016-03-24 11:52:17    480         NaN              1993  manual      0   \n",
       "1  2016-03-24 10:58:45  18300       coupe              2011  manual    190   \n",
       "2  2016-03-14 12:52:21   9800         suv              2004    auto    163   \n",
       "3  2016-03-17 16:54:04   1500       small              2001  manual     75   \n",
       "4  2016-03-31 17:25:20   3600       small              2008  manual     69   \n",
       "\n",
       "   Model  Kilometer  RegistrationMonth  FuelType       Brand Repaired  \\\n",
       "0   golf     150000                  0    petrol  volkswagen      NaN   \n",
       "1    NaN     125000                  5  gasoline        audi      yes   \n",
       "2  grand     125000                  8  gasoline        jeep      NaN   \n",
       "3   golf     150000                  6    petrol  volkswagen       no   \n",
       "4  fabia      90000                  7  gasoline       skoda       no   \n",
       "\n",
       "           DateCreated  NumberOfPictures  PostalCode             LastSeen  \n",
       "0  2016-03-24 00:00:00                 0       70435  2016-04-07 03:16:57  \n",
       "1  2016-03-24 00:00:00                 0       66954  2016-04-07 01:46:50  \n",
       "2  2016-03-14 00:00:00                 0       90480  2016-04-05 12:47:46  \n",
       "3  2016-03-17 00:00:00                 0       91074  2016-03-17 17:40:17  \n",
       "4  2016-03-31 00:00:00                 0       60437  2016-04-06 10:17:21  "
      ]
     },
     "metadata": {},
     "output_type": "display_data"
    },
    {
     "name": "stdout",
     "output_type": "stream",
     "text": [
      "----------------------------------------------------------------------------------------------------\n",
      "Информация о данных:\n",
      "\n",
      "<class 'pandas.core.frame.DataFrame'>\n",
      "RangeIndex: 354369 entries, 0 to 354368\n",
      "Data columns (total 16 columns):\n",
      " #   Column             Non-Null Count   Dtype \n",
      "---  ------             --------------   ----- \n",
      " 0   DateCrawled        354369 non-null  object\n",
      " 1   Price              354369 non-null  int64 \n",
      " 2   VehicleType        316879 non-null  object\n",
      " 3   RegistrationYear   354369 non-null  int64 \n",
      " 4   Gearbox            334536 non-null  object\n",
      " 5   Power              354369 non-null  int64 \n",
      " 6   Model              334664 non-null  object\n",
      " 7   Kilometer          354369 non-null  int64 \n",
      " 8   RegistrationMonth  354369 non-null  int64 \n",
      " 9   FuelType           321474 non-null  object\n",
      " 10  Brand              354369 non-null  object\n",
      " 11  Repaired           283215 non-null  object\n",
      " 12  DateCreated        354369 non-null  object\n",
      " 13  NumberOfPictures   354369 non-null  int64 \n",
      " 14  PostalCode         354369 non-null  int64 \n",
      " 15  LastSeen           354369 non-null  object\n",
      "dtypes: int64(7), object(9)\n",
      "memory usage: 43.3+ MB\n",
      "----------------------------------------------------------------------------------------------------\n",
      "Дубликаты: 4\n",
      "----------------------------------------------------------------------------------------------------\n",
      "Разброс данных:\n"
     ]
    },
    {
     "data": {
      "text/html": [
       "<div>\n",
       "<style scoped>\n",
       "    .dataframe tbody tr th:only-of-type {\n",
       "        vertical-align: middle;\n",
       "    }\n",
       "\n",
       "    .dataframe tbody tr th {\n",
       "        vertical-align: top;\n",
       "    }\n",
       "\n",
       "    .dataframe thead th {\n",
       "        text-align: right;\n",
       "    }\n",
       "</style>\n",
       "<table border=\"1\" class=\"dataframe\">\n",
       "  <thead>\n",
       "    <tr style=\"text-align: right;\">\n",
       "      <th></th>\n",
       "      <th>Price</th>\n",
       "      <th>RegistrationYear</th>\n",
       "      <th>Power</th>\n",
       "      <th>Kilometer</th>\n",
       "      <th>RegistrationMonth</th>\n",
       "      <th>NumberOfPictures</th>\n",
       "      <th>PostalCode</th>\n",
       "    </tr>\n",
       "  </thead>\n",
       "  <tbody>\n",
       "    <tr>\n",
       "      <th>count</th>\n",
       "      <td>354369.000000</td>\n",
       "      <td>354369.000000</td>\n",
       "      <td>354369.000000</td>\n",
       "      <td>354369.000000</td>\n",
       "      <td>354369.000000</td>\n",
       "      <td>354369.0</td>\n",
       "      <td>354369.000000</td>\n",
       "    </tr>\n",
       "    <tr>\n",
       "      <th>mean</th>\n",
       "      <td>4416.656776</td>\n",
       "      <td>2004.234448</td>\n",
       "      <td>110.094337</td>\n",
       "      <td>128211.172535</td>\n",
       "      <td>5.714645</td>\n",
       "      <td>0.0</td>\n",
       "      <td>50508.689087</td>\n",
       "    </tr>\n",
       "    <tr>\n",
       "      <th>std</th>\n",
       "      <td>4514.158514</td>\n",
       "      <td>90.227958</td>\n",
       "      <td>189.850405</td>\n",
       "      <td>37905.341530</td>\n",
       "      <td>3.726421</td>\n",
       "      <td>0.0</td>\n",
       "      <td>25783.096248</td>\n",
       "    </tr>\n",
       "    <tr>\n",
       "      <th>min</th>\n",
       "      <td>0.000000</td>\n",
       "      <td>1000.000000</td>\n",
       "      <td>0.000000</td>\n",
       "      <td>5000.000000</td>\n",
       "      <td>0.000000</td>\n",
       "      <td>0.0</td>\n",
       "      <td>1067.000000</td>\n",
       "    </tr>\n",
       "    <tr>\n",
       "      <th>25%</th>\n",
       "      <td>1050.000000</td>\n",
       "      <td>1999.000000</td>\n",
       "      <td>69.000000</td>\n",
       "      <td>125000.000000</td>\n",
       "      <td>3.000000</td>\n",
       "      <td>0.0</td>\n",
       "      <td>30165.000000</td>\n",
       "    </tr>\n",
       "    <tr>\n",
       "      <th>50%</th>\n",
       "      <td>2700.000000</td>\n",
       "      <td>2003.000000</td>\n",
       "      <td>105.000000</td>\n",
       "      <td>150000.000000</td>\n",
       "      <td>6.000000</td>\n",
       "      <td>0.0</td>\n",
       "      <td>49413.000000</td>\n",
       "    </tr>\n",
       "    <tr>\n",
       "      <th>75%</th>\n",
       "      <td>6400.000000</td>\n",
       "      <td>2008.000000</td>\n",
       "      <td>143.000000</td>\n",
       "      <td>150000.000000</td>\n",
       "      <td>9.000000</td>\n",
       "      <td>0.0</td>\n",
       "      <td>71083.000000</td>\n",
       "    </tr>\n",
       "    <tr>\n",
       "      <th>max</th>\n",
       "      <td>20000.000000</td>\n",
       "      <td>9999.000000</td>\n",
       "      <td>20000.000000</td>\n",
       "      <td>150000.000000</td>\n",
       "      <td>12.000000</td>\n",
       "      <td>0.0</td>\n",
       "      <td>99998.000000</td>\n",
       "    </tr>\n",
       "  </tbody>\n",
       "</table>\n",
       "</div>"
      ],
      "text/plain": [
       "               Price  RegistrationYear          Power      Kilometer  \\\n",
       "count  354369.000000     354369.000000  354369.000000  354369.000000   \n",
       "mean     4416.656776       2004.234448     110.094337  128211.172535   \n",
       "std      4514.158514         90.227958     189.850405   37905.341530   \n",
       "min         0.000000       1000.000000       0.000000    5000.000000   \n",
       "25%      1050.000000       1999.000000      69.000000  125000.000000   \n",
       "50%      2700.000000       2003.000000     105.000000  150000.000000   \n",
       "75%      6400.000000       2008.000000     143.000000  150000.000000   \n",
       "max     20000.000000       9999.000000   20000.000000  150000.000000   \n",
       "\n",
       "       RegistrationMonth  NumberOfPictures     PostalCode  \n",
       "count      354369.000000          354369.0  354369.000000  \n",
       "mean            5.714645               0.0   50508.689087  \n",
       "std             3.726421               0.0   25783.096248  \n",
       "min             0.000000               0.0    1067.000000  \n",
       "25%             3.000000               0.0   30165.000000  \n",
       "50%             6.000000               0.0   49413.000000  \n",
       "75%             9.000000               0.0   71083.000000  \n",
       "max            12.000000               0.0   99998.000000  "
      ]
     },
     "metadata": {},
     "output_type": "display_data"
    },
    {
     "name": "stdout",
     "output_type": "stream",
     "text": [
      "----------------------------------------------------------------------------------------------------\n",
      "Разброс данных в графиках:\n"
     ]
    },
    {
     "data": {
      "image/png": "[encoded data removed]",
      "text/plain": [
       "<Figure size 864x504 with 9 Axes>"
      ]
     },
     "metadata": {
      "needs_background": "light"
     },
     "output_type": "display_data"
    },
    {
     "name": "stdout",
     "output_type": "stream",
     "text": [
      "----------------------------------------------------------------------------------------------------\n"
     ]
    }
   ],
   "source": [
    "display(data.head())\n",
    "print('-' * 100)\n",
    "print('Информация о данных:')\n",
    "print()\n",
    "data.info()\n",
    "print('-' * 100)\n",
    "print('Дубликаты:', data.duplicated().sum())\n",
    "print('-' * 100)\n",
    "print('Разброс данных:')\n",
    "display(data.describe())\n",
    "print('-' * 100)\n",
    "print('Разброс данных в графиках:')\n",
    "data.hist(bins=20, figsize=(12,7))\n",
    "plt.show()\n",
    "print('-' * 100)\n"
   ]
  },
  {
   "cell_type": "markdown",
   "metadata": {},
   "source": [
    "### Предобработка данных"
   ]
  },
  {
   "cell_type": "markdown",
   "metadata": {},
   "source": [
    "1. Переименовать названия колонок\n",
    "\n",
    "2. Удалить: date_crawled, number_of_pictures, postal_code, last_seen, registration_month\n",
    "\n",
    "3. Перевести в формат даты: date_created, registration_year\n",
    "\n",
    "\n",
    "4. Пропуски: vehicle_type, gear_box, model, fuel_type, repaired\n",
    "\n",
    "5. 4 дубликата удалить\n",
    "\n",
    "6. Проверить на аномалии: kilometer, price, power, registration_year\n"
   ]
  },
  {
   "cell_type": "markdown",
   "metadata": {},
   "source": [
    "#### Переименование колонок"
   ]
  },
  {
   "cell_type": "code",
   "execution_count": 4,
   "metadata": {},
   "outputs": [
    {
     "data": {
      "text/plain": [
       "Index(['datecrawled', 'price', 'vehicletype', 'registrationyear', 'gearbox',\n",
       "       'power', 'model', 'kilometer', 'registrationmonth', 'fueltype', 'brand',\n",
       "       'repaired', 'datecreated', 'numberofpictures', 'postalcode',\n",
       "       'lastseen'],\n",
       "      dtype='object')"
      ]
     },
     "execution_count": 4,
     "metadata": {},
     "output_type": "execute_result"
    }
   ],
   "source": [
    "data.columns = data.columns.str.lower()\n",
    "data.columns"
   ]
  },
  {
   "cell_type": "code",
   "execution_count": 5,
   "metadata": {},
   "outputs": [],
   "source": [
    "data = data.rename( \n",
    " columns={ \n",
    "'datecrawled':'date_crawled',\n",
    "'vehicletype':'vehicle_type',\n",
    "'gearbox':'gear_box',\n",
    "'registrationyear':'registration_year',\n",
    "'registrationmonth':'registration_month',\n",
    "'fueltype':'fuel_type',\n",
    "'datecreated':'date_created',\n",
    "'numberofpictures':'number_of_pictures',\n",
    "'postalcode':'postal_code',\n",
    "'lastseen':'last_seen'\n",
    "} \n",
    ")"
   ]
  },
  {
   "cell_type": "markdown",
   "metadata": {},
   "source": [
    "#### Удаление дубликатов"
   ]
  },
  {
   "cell_type": "code",
   "execution_count": 6,
   "metadata": {
    "scrolled": true
   },
   "outputs": [
    {
     "name": "stdout",
     "output_type": "stream",
     "text": [
      "Дубликаты: 0\n"
     ]
    }
   ],
   "source": [
    "data = data.drop_duplicates().reset_index(drop=True)\n",
    "print('Дубликаты:', data.duplicated().sum())"
   ]
  },
  {
   "cell_type": "markdown",
   "metadata": {},
   "source": [
    "#### Замена формата date_created"
   ]
  },
  {
   "cell_type": "code",
   "execution_count": 7,
   "metadata": {},
   "outputs": [],
   "source": [
    "data['date_created'] = pd.to_datetime(data['date_created'], format='%Y-%m-%d %H:%M:%S')"
   ]
  },
  {
   "cell_type": "markdown",
   "metadata": {},
   "source": [
    "#### Удаление неинформативных данных"
   ]
  },
  {
   "cell_type": "code",
   "execution_count": 8,
   "metadata": {},
   "outputs": [],
   "source": [
    "data = data.drop(['date_crawled'], axis=1)\n",
    "data = data.drop(['number_of_pictures'], axis=1)\n",
    "data = data.drop(['postal_code'], axis=1)\n",
    "data = data.drop(['last_seen'], axis=1)\n",
    "data = data.drop(['registration_month'], axis=1)"
   ]
  },
  {
   "cell_type": "markdown",
   "metadata": {},
   "source": [
    "- date_crawled - дата скачивания анкеты из базы\n",
    "- number_of_pictures - кол-во фото \n",
    "- last_seen - дата последней активации пользователя\n",
    "\n",
    "Эти данные никоем образом не влияют на стоимость авто, т.к первые три не связаны с автомобилем.\n",
    "\n",
    "- postal_code - почтовый индекс\n",
    "Также напрямую не влияет на стоимость автомобиля.\n",
    "\n",
    "- registration_month - месяц регистрации \n",
    "Не имеет сильного и даже среднего влияния на стоимость авто\n",
    "\n",
    "\n",
    "\n"
   ]
  },
  {
   "cell_type": "markdown",
   "metadata": {},
   "source": [
    "#### Заполнение пропусков"
   ]
  },
  {
   "cell_type": "markdown",
   "metadata": {},
   "source": [
    "В признаке Ремонт есть пропуски, логично предположить что ремонта не было."
   ]
  },
  {
   "cell_type": "code",
   "execution_count": 9,
   "metadata": {},
   "outputs": [
    {
     "data": {
      "text/html": [
       "<div>\n",
       "<style scoped>\n",
       "    .dataframe tbody tr th:only-of-type {\n",
       "        vertical-align: middle;\n",
       "    }\n",
       "\n",
       "    .dataframe tbody tr th {\n",
       "        vertical-align: top;\n",
       "    }\n",
       "\n",
       "    .dataframe thead th {\n",
       "        text-align: right;\n",
       "    }\n",
       "</style>\n",
       "<table border=\"1\" class=\"dataframe\">\n",
       "  <thead>\n",
       "    <tr style=\"text-align: right;\">\n",
       "      <th></th>\n",
       "      <th>price</th>\n",
       "    </tr>\n",
       "    <tr>\n",
       "      <th>repaired</th>\n",
       "      <th></th>\n",
       "    </tr>\n",
       "  </thead>\n",
       "  <tbody>\n",
       "    <tr>\n",
       "      <th>no</th>\n",
       "      <td>3690</td>\n",
       "    </tr>\n",
       "    <tr>\n",
       "      <th>yes</th>\n",
       "      <td>900</td>\n",
       "    </tr>\n",
       "  </tbody>\n",
       "</table>\n",
       "</div>"
      ],
      "text/plain": [
       "          price\n",
       "repaired       \n",
       "no         3690\n",
       "yes         900"
      ]
     },
     "metadata": {},
     "output_type": "display_data"
    },
    {
     "data": {
      "image/png": "[encoded data removed]",
      "text/plain": [
       "<Figure size 432x288 with 1 Axes>"
      ]
     },
     "metadata": {
      "needs_background": "light"
     },
     "output_type": "display_data"
    },
    {
     "data": {
      "image/png": "[encoded data removed]",
      "text/plain": [
       "<Figure size 432x288 with 1 Axes>"
      ]
     },
     "metadata": {
      "needs_background": "light"
     },
     "output_type": "display_data"
    },
    {
     "data": {
      "image/png": "[encoded data removed]",
      "text/plain": [
       "<Figure size 432x288 with 1 Axes>"
      ]
     },
     "metadata": {
      "needs_background": "light"
     },
     "output_type": "display_data"
    },
    {
     "data": {
      "image/png": "[encoded data removed]",
      "text/plain": [
       "<Figure size 432x288 with 1 Axes>"
      ]
     },
     "metadata": {
      "needs_background": "light"
     },
     "output_type": "display_data"
    }
   ],
   "source": [
    "display(data.pivot_table(index='repaired', values='price', aggfunc='median'))\n",
    "data['price'].hist()\n",
    "plt.show()\n",
    "data.query('repaired ==\"yes\"')['price'].hist()\n",
    "plt.show()\n",
    "data.query('repaired ==\"no\"')['price'].hist()\n",
    "plt.show()\n",
    "data.query('repaired.isna()')['price'].hist()\n",
    "plt.show()"
   ]
  },
  {
   "cell_type": "code",
   "execution_count": 10,
   "metadata": {},
   "outputs": [
    {
     "name": "stdout",
     "output_type": "stream",
     "text": [
      "price                    0\n",
      "vehicle_type         37490\n",
      "registration_year        0\n",
      "gear_box             19833\n",
      "power                    0\n",
      "model                19705\n",
      "kilometer                0\n",
      "fuel_type            32895\n",
      "brand                    0\n",
      "repaired                 0\n",
      "date_created             0\n",
      "dtype: int64\n"
     ]
    }
   ],
   "source": [
    "data['repaired'] = data['repaired'].fillna('no')\n",
    "print(data.isna().sum())"
   ]
  },
  {
   "cell_type": "markdown",
   "metadata": {},
   "source": [
    "Пропуски в признаках model, vehicle_type, gear_box, fuel_type заполняем с помощью с признаков brand и model.\n",
    "Самое частовстречаемое значение в конкретном бренде авто и модели соответсвенно.\n"
   ]
  },
  {
   "cell_type": "code",
   "execution_count": 11,
   "metadata": {
    "scrolled": false
   },
   "outputs": [],
   "source": [
    "for t in data['brand'].unique():\n",
    "    try:\n",
    "        data.loc[(data['brand'] == t) & (data['model'].isna()), 'model'] = \\\n",
    "        data.loc[(data['brand'] == t), 'model'].mode()[0]\n",
    "    except:\n",
    "        data.loc[(data['brand'] == t) & (data['model'].isna()), 'model'] = 'unckown'"
   ]
  },
  {
   "cell_type": "code",
   "execution_count": 12,
   "metadata": {},
   "outputs": [],
   "source": [
    "for t in data['model'].unique():\n",
    "    try:\n",
    "        data.loc[(data['model'] == t) & (data['vehicle_type'].isna()), 'vehicle_type'] = \\\n",
    "        data.loc[(data['model'] == t), 'vehicle_type'].mode()[0]\n",
    "    except:\n",
    "        data.loc[(data['model'] == t) & (data['vehicle_type'].isna()), 'vehicle_type'] = 'unckown'\n"
   ]
  },
  {
   "cell_type": "code",
   "execution_count": 13,
   "metadata": {},
   "outputs": [],
   "source": [
    "for t in data['model'].unique():\n",
    "    try:\n",
    "        data.loc[(data['model'] == t) & (data['gear_box'].isna()), 'gear_box'] = \\\n",
    "        data.loc[(data['model'] == t), 'gear_box'].mode()[0]\n",
    "    except:\n",
    "        data.loc[(data['model'] == t) & (data['gear_box'].isna()), 'gear_box'] = 'unckown'\n"
   ]
  },
  {
   "cell_type": "code",
   "execution_count": 14,
   "metadata": {},
   "outputs": [],
   "source": [
    "for t in data['model'].unique():\n",
    "    try:\n",
    "        data.loc[(data['model'] == t) & (data['fuel_type'].isna()), 'fuel_type'] = \\\n",
    "        data.loc[(data['model'] == t), 'fuel_type'].mode()[0]\n",
    "    except:\n",
    "        data.loc[(data['model'] == t) & (data['fuel_type'].isna()), 'fuel_type'] = 'unckown'\n"
   ]
  },
  {
   "cell_type": "code",
   "execution_count": 15,
   "metadata": {},
   "outputs": [
    {
     "name": "stdout",
     "output_type": "stream",
     "text": [
      "price                0\n",
      "vehicle_type         0\n",
      "registration_year    0\n",
      "gear_box             0\n",
      "power                0\n",
      "model                0\n",
      "kilometer            0\n",
      "fuel_type            0\n",
      "brand                0\n",
      "repaired             0\n",
      "date_created         0\n",
      "dtype: int64\n"
     ]
    }
   ],
   "source": [
    "print(data.isna().sum())"
   ]
  },
  {
   "cell_type": "markdown",
   "metadata": {},
   "source": [
    "## Исследование данных"
   ]
  },
  {
   "cell_type": "markdown",
   "metadata": {},
   "source": [
    "### Возраст авто"
   ]
  },
  {
   "cell_type": "code",
   "execution_count": 16,
   "metadata": {
    "collapsed": true
   },
   "outputs": [
    {
     "name": "stdout",
     "output_type": "stream",
     "text": [
      "['2016-03-24T00:00:00.000000000' '2016-03-14T00:00:00.000000000'\n",
      " '2016-03-17T00:00:00.000000000' '2016-03-31T00:00:00.000000000'\n",
      " '2016-04-04T00:00:00.000000000' '2016-04-01T00:00:00.000000000'\n",
      " '2016-03-21T00:00:00.000000000' '2016-03-26T00:00:00.000000000'\n",
      " '2016-04-07T00:00:00.000000000' '2016-03-15T00:00:00.000000000'\n",
      " '2016-03-11T00:00:00.000000000' '2016-03-20T00:00:00.000000000'\n",
      " '2016-03-23T00:00:00.000000000' '2016-03-27T00:00:00.000000000'\n",
      " '2016-03-12T00:00:00.000000000' '2016-03-13T00:00:00.000000000'\n",
      " '2016-03-18T00:00:00.000000000' '2016-03-10T00:00:00.000000000'\n",
      " '2016-03-07T00:00:00.000000000' '2016-03-09T00:00:00.000000000'\n",
      " '2016-03-08T00:00:00.000000000' '2016-04-03T00:00:00.000000000'\n",
      " '2016-03-29T00:00:00.000000000' '2016-03-25T00:00:00.000000000'\n",
      " '2016-03-28T00:00:00.000000000' '2016-03-30T00:00:00.000000000'\n",
      " '2016-03-22T00:00:00.000000000' '2016-02-09T00:00:00.000000000'\n",
      " '2016-03-05T00:00:00.000000000' '2016-04-02T00:00:00.000000000'\n",
      " '2016-03-16T00:00:00.000000000' '2016-03-19T00:00:00.000000000'\n",
      " '2016-04-05T00:00:00.000000000' '2016-03-06T00:00:00.000000000'\n",
      " '2016-02-12T00:00:00.000000000' '2016-03-03T00:00:00.000000000'\n",
      " '2016-03-01T00:00:00.000000000' '2016-03-04T00:00:00.000000000'\n",
      " '2016-04-06T00:00:00.000000000' '2016-02-15T00:00:00.000000000'\n",
      " '2016-02-24T00:00:00.000000000' '2016-02-27T00:00:00.000000000'\n",
      " '2015-03-20T00:00:00.000000000' '2016-02-28T00:00:00.000000000'\n",
      " '2016-02-17T00:00:00.000000000' '2016-01-27T00:00:00.000000000'\n",
      " '2016-02-20T00:00:00.000000000' '2016-02-29T00:00:00.000000000'\n",
      " '2016-02-10T00:00:00.000000000' '2016-02-23T00:00:00.000000000'\n",
      " '2016-02-21T00:00:00.000000000' '2015-11-02T00:00:00.000000000'\n",
      " '2016-02-19T00:00:00.000000000' '2016-02-26T00:00:00.000000000'\n",
      " '2016-02-11T00:00:00.000000000' '2016-01-10T00:00:00.000000000'\n",
      " '2016-02-06T00:00:00.000000000' '2016-02-18T00:00:00.000000000'\n",
      " '2016-01-29T00:00:00.000000000' '2016-03-02T00:00:00.000000000'\n",
      " '2015-12-06T00:00:00.000000000' '2016-01-24T00:00:00.000000000'\n",
      " '2016-01-30T00:00:00.000000000' '2016-02-02T00:00:00.000000000'\n",
      " '2016-02-16T00:00:00.000000000' '2016-02-13T00:00:00.000000000'\n",
      " '2016-02-05T00:00:00.000000000' '2016-02-22T00:00:00.000000000'\n",
      " '2015-11-17T00:00:00.000000000' '2014-03-10T00:00:00.000000000'\n",
      " '2016-02-07T00:00:00.000000000' '2016-01-23T00:00:00.000000000'\n",
      " '2016-02-25T00:00:00.000000000' '2016-02-14T00:00:00.000000000'\n",
      " '2016-01-02T00:00:00.000000000' '2015-09-04T00:00:00.000000000'\n",
      " '2015-11-12T00:00:00.000000000' '2015-12-27T00:00:00.000000000'\n",
      " '2015-11-24T00:00:00.000000000' '2016-01-20T00:00:00.000000000'\n",
      " '2016-02-03T00:00:00.000000000' '2015-12-05T00:00:00.000000000'\n",
      " '2015-08-07T00:00:00.000000000' '2016-01-28T00:00:00.000000000'\n",
      " '2016-01-31T00:00:00.000000000' '2016-02-08T00:00:00.000000000'\n",
      " '2016-01-07T00:00:00.000000000' '2016-01-22T00:00:00.000000000'\n",
      " '2016-01-18T00:00:00.000000000' '2016-01-08T00:00:00.000000000'\n",
      " '2015-11-23T00:00:00.000000000' '2016-01-13T00:00:00.000000000'\n",
      " '2016-01-17T00:00:00.000000000' '2016-01-15T00:00:00.000000000'\n",
      " '2015-11-08T00:00:00.000000000' '2016-01-26T00:00:00.000000000'\n",
      " '2016-02-04T00:00:00.000000000' '2016-01-25T00:00:00.000000000'\n",
      " '2016-01-16T00:00:00.000000000' '2015-08-10T00:00:00.000000000'\n",
      " '2016-01-03T00:00:00.000000000' '2016-01-19T00:00:00.000000000'\n",
      " '2015-12-30T00:00:00.000000000' '2016-02-01T00:00:00.000000000'\n",
      " '2015-12-17T00:00:00.000000000' '2015-11-10T00:00:00.000000000'\n",
      " '2016-01-06T00:00:00.000000000' '2015-09-09T00:00:00.000000000'\n",
      " '2015-06-18T00:00:00.000000000']\n",
      "[24490, 22727, 22109, 20123, 19900, 19762, 19611, 19091, 17899, 17183, 15391, 14666, 14503, 10835, 10764, 10441, 9909, 9607, 9599, 7178, 4841, 4131, 3959, 3438, 3002, 2806, 2762, 2537, 1318, 1302, 942, 756, 667, 588, 538, 430, 399, 333, 316, 285, 283, 263, 213, 188, 175, 173, 173, 169, 167, 143, 118, 113, 108, 101, 99, 82, 64, 57, 46, 41, 37, 32, 27, 26, 25, 25, 18, 17, 15, 14, 13, 12, 11, 11, 9, 8, 7, 7, 5, 5, 5, 4, 4, 4, 4, 4, 4, 3, 3, 3, 3, 3, 3, 3, 3, 3, 3, 2, 2, 2, 2, 2, 2, 2, 2, 2, 2, 2, 2, 2, 2, 1, 1, 1, 1, 1, 1, 1, 1, 1, 1, 1, 1, 1, 1, 1, 1, 1, 1, 1, 1, 1, 1, 1, 1, 1, 1, 1, 1, 1, 1, 1, 1, 1, 1, 1, 1, 1, 1, 1, 1]\n"
     ]
    }
   ],
   "source": [
    "print(data['date_created'].unique())\n",
    "print(data['registration_year'].value_counts().tolist())"
   ]
  },
  {
   "cell_type": "code",
   "execution_count": 17,
   "metadata": {},
   "outputs": [
    {
     "data": {
      "text/plain": [
       "array([   23,     5,    12,    15,     8,    21,    36,     2,    18,\n",
       "          11,   106,     0,     9,     7,    14,    -2,    19,    26,\n",
       "          -1,    35,    13,    22,    25,    32,    10,    17,     4,\n",
       "           6,    16,    24,     3,    20,    31,    27,     1,    34,\n",
       "          40,    33,    43,   905,    47,    45,    29,    30,    28,\n",
       "          46,    51,    71,    91,    42,    37,    61,    38,    44,\n",
       "          48,    39,    55,    56,    50,    41,    53,    52, -2984,\n",
       "          62,    58,    49,    57, -7983,    60, -1184,  1016,    75,\n",
       "       -6872,   516,  -184, -2084,    54,    87,    59,    76,  -984,\n",
       "         -50,    67,    -3,    79,    65,   216,    63,   782, -5984,\n",
       "       -3284, -6984,  -884, -3984, -3884, -3895,    83,   616,    66,\n",
       "       -1984,    68,    64,   816, -6484,    84,   761, -1684, -1784,\n",
       "       -2784,    74, -4984,    81,    80, -4484,    93,  -274,  -484,\n",
       "          86,  1015, -7434,    72,    73,    82,    78,   328,  -784,\n",
       "         763,    88,    97, -3539, -3584,   416,  -206,   977, -7980,\n",
       "         716, -6439,    85,   101, -2484,    96,   414, -5784, -7213,\n",
       "          69,    89, -5084, -6184,    70, -5484, -1484])"
      ]
     },
     "execution_count": 17,
     "metadata": {},
     "output_type": "execute_result"
    }
   ],
   "source": [
    "data['date_created'] = pd.DatetimeIndex(data['date_created']).year\n",
    "data['age_car'] = data['date_created'] - data['registration_year']\n",
    "data['age_car'].unique()"
   ]
  },
  {
   "cell_type": "code",
   "execution_count": 18,
   "metadata": {},
   "outputs": [
    {
     "data": {
      "text/html": [
       "<div>\n",
       "<style scoped>\n",
       "    .dataframe tbody tr th:only-of-type {\n",
       "        vertical-align: middle;\n",
       "    }\n",
       "\n",
       "    .dataframe tbody tr th {\n",
       "        vertical-align: top;\n",
       "    }\n",
       "\n",
       "    .dataframe thead th {\n",
       "        text-align: right;\n",
       "    }\n",
       "</style>\n",
       "<table border=\"1\" class=\"dataframe\">\n",
       "  <thead>\n",
       "    <tr style=\"text-align: right;\">\n",
       "      <th></th>\n",
       "      <th>price</th>\n",
       "      <th>vehicle_type</th>\n",
       "      <th>registration_year</th>\n",
       "      <th>gear_box</th>\n",
       "      <th>power</th>\n",
       "      <th>model</th>\n",
       "      <th>kilometer</th>\n",
       "      <th>fuel_type</th>\n",
       "      <th>brand</th>\n",
       "      <th>repaired</th>\n",
       "      <th>date_created</th>\n",
       "      <th>age_car</th>\n",
       "    </tr>\n",
       "  </thead>\n",
       "  <tbody>\n",
       "    <tr>\n",
       "      <th>0</th>\n",
       "      <td>480</td>\n",
       "      <td>sedan</td>\n",
       "      <td>1993</td>\n",
       "      <td>manual</td>\n",
       "      <td>0</td>\n",
       "      <td>golf</td>\n",
       "      <td>150000</td>\n",
       "      <td>petrol</td>\n",
       "      <td>volkswagen</td>\n",
       "      <td>no</td>\n",
       "      <td>2016</td>\n",
       "      <td>23</td>\n",
       "    </tr>\n",
       "    <tr>\n",
       "      <th>1</th>\n",
       "      <td>18300</td>\n",
       "      <td>coupe</td>\n",
       "      <td>2011</td>\n",
       "      <td>manual</td>\n",
       "      <td>190</td>\n",
       "      <td>a4</td>\n",
       "      <td>125000</td>\n",
       "      <td>gasoline</td>\n",
       "      <td>audi</td>\n",
       "      <td>yes</td>\n",
       "      <td>2016</td>\n",
       "      <td>5</td>\n",
       "    </tr>\n",
       "    <tr>\n",
       "      <th>2</th>\n",
       "      <td>9800</td>\n",
       "      <td>suv</td>\n",
       "      <td>2004</td>\n",
       "      <td>auto</td>\n",
       "      <td>163</td>\n",
       "      <td>grand</td>\n",
       "      <td>125000</td>\n",
       "      <td>gasoline</td>\n",
       "      <td>jeep</td>\n",
       "      <td>no</td>\n",
       "      <td>2016</td>\n",
       "      <td>12</td>\n",
       "    </tr>\n",
       "    <tr>\n",
       "      <th>3</th>\n",
       "      <td>1500</td>\n",
       "      <td>small</td>\n",
       "      <td>2001</td>\n",
       "      <td>manual</td>\n",
       "      <td>75</td>\n",
       "      <td>golf</td>\n",
       "      <td>150000</td>\n",
       "      <td>petrol</td>\n",
       "      <td>volkswagen</td>\n",
       "      <td>no</td>\n",
       "      <td>2016</td>\n",
       "      <td>15</td>\n",
       "    </tr>\n",
       "    <tr>\n",
       "      <th>4</th>\n",
       "      <td>3600</td>\n",
       "      <td>small</td>\n",
       "      <td>2008</td>\n",
       "      <td>manual</td>\n",
       "      <td>69</td>\n",
       "      <td>fabia</td>\n",
       "      <td>90000</td>\n",
       "      <td>gasoline</td>\n",
       "      <td>skoda</td>\n",
       "      <td>no</td>\n",
       "      <td>2016</td>\n",
       "      <td>8</td>\n",
       "    </tr>\n",
       "    <tr>\n",
       "      <th>...</th>\n",
       "      <td>...</td>\n",
       "      <td>...</td>\n",
       "      <td>...</td>\n",
       "      <td>...</td>\n",
       "      <td>...</td>\n",
       "      <td>...</td>\n",
       "      <td>...</td>\n",
       "      <td>...</td>\n",
       "      <td>...</td>\n",
       "      <td>...</td>\n",
       "      <td>...</td>\n",
       "      <td>...</td>\n",
       "    </tr>\n",
       "    <tr>\n",
       "      <th>354360</th>\n",
       "      <td>0</td>\n",
       "      <td>sedan</td>\n",
       "      <td>2005</td>\n",
       "      <td>manual</td>\n",
       "      <td>0</td>\n",
       "      <td>colt</td>\n",
       "      <td>150000</td>\n",
       "      <td>petrol</td>\n",
       "      <td>mitsubishi</td>\n",
       "      <td>yes</td>\n",
       "      <td>2016</td>\n",
       "      <td>11</td>\n",
       "    </tr>\n",
       "    <tr>\n",
       "      <th>354361</th>\n",
       "      <td>2200</td>\n",
       "      <td>sedan</td>\n",
       "      <td>2005</td>\n",
       "      <td>manual</td>\n",
       "      <td>0</td>\n",
       "      <td>unckown</td>\n",
       "      <td>20000</td>\n",
       "      <td>petrol</td>\n",
       "      <td>sonstige_autos</td>\n",
       "      <td>no</td>\n",
       "      <td>2016</td>\n",
       "      <td>11</td>\n",
       "    </tr>\n",
       "    <tr>\n",
       "      <th>354362</th>\n",
       "      <td>1199</td>\n",
       "      <td>convertible</td>\n",
       "      <td>2000</td>\n",
       "      <td>auto</td>\n",
       "      <td>101</td>\n",
       "      <td>fortwo</td>\n",
       "      <td>125000</td>\n",
       "      <td>petrol</td>\n",
       "      <td>smart</td>\n",
       "      <td>no</td>\n",
       "      <td>2016</td>\n",
       "      <td>16</td>\n",
       "    </tr>\n",
       "    <tr>\n",
       "      <th>354363</th>\n",
       "      <td>9200</td>\n",
       "      <td>bus</td>\n",
       "      <td>1996</td>\n",
       "      <td>manual</td>\n",
       "      <td>102</td>\n",
       "      <td>transporter</td>\n",
       "      <td>150000</td>\n",
       "      <td>gasoline</td>\n",
       "      <td>volkswagen</td>\n",
       "      <td>no</td>\n",
       "      <td>2016</td>\n",
       "      <td>20</td>\n",
       "    </tr>\n",
       "    <tr>\n",
       "      <th>354364</th>\n",
       "      <td>3400</td>\n",
       "      <td>wagon</td>\n",
       "      <td>2002</td>\n",
       "      <td>manual</td>\n",
       "      <td>100</td>\n",
       "      <td>golf</td>\n",
       "      <td>150000</td>\n",
       "      <td>gasoline</td>\n",
       "      <td>volkswagen</td>\n",
       "      <td>no</td>\n",
       "      <td>2016</td>\n",
       "      <td>14</td>\n",
       "    </tr>\n",
       "  </tbody>\n",
       "</table>\n",
       "<p>338822 rows × 12 columns</p>\n",
       "</div>"
      ],
      "text/plain": [
       "        price vehicle_type  registration_year gear_box  power        model  \\\n",
       "0         480        sedan               1993   manual      0         golf   \n",
       "1       18300        coupe               2011   manual    190           a4   \n",
       "2        9800          suv               2004     auto    163        grand   \n",
       "3        1500        small               2001   manual     75         golf   \n",
       "4        3600        small               2008   manual     69        fabia   \n",
       "...       ...          ...                ...      ...    ...          ...   \n",
       "354360      0        sedan               2005   manual      0         colt   \n",
       "354361   2200        sedan               2005   manual      0      unckown   \n",
       "354362   1199  convertible               2000     auto    101       fortwo   \n",
       "354363   9200          bus               1996   manual    102  transporter   \n",
       "354364   3400        wagon               2002   manual    100         golf   \n",
       "\n",
       "        kilometer fuel_type           brand repaired  date_created  age_car  \n",
       "0          150000    petrol      volkswagen       no          2016       23  \n",
       "1          125000  gasoline            audi      yes          2016        5  \n",
       "2          125000  gasoline            jeep       no          2016       12  \n",
       "3          150000    petrol      volkswagen       no          2016       15  \n",
       "4           90000  gasoline           skoda       no          2016        8  \n",
       "...           ...       ...             ...      ...           ...      ...  \n",
       "354360     150000    petrol      mitsubishi      yes          2016       11  \n",
       "354361      20000    petrol  sonstige_autos       no          2016       11  \n",
       "354362     125000    petrol           smart       no          2016       16  \n",
       "354363     150000  gasoline      volkswagen       no          2016       20  \n",
       "354364     150000  gasoline      volkswagen       no          2016       14  \n",
       "\n",
       "[338822 rows x 12 columns]"
      ]
     },
     "execution_count": 18,
     "metadata": {},
     "output_type": "execute_result"
    }
   ],
   "source": [
    "data = data.query('-1 < age_car < 50 ')\n",
    "data"
   ]
  },
  {
   "cell_type": "markdown",
   "metadata": {},
   "source": [
    "### Стоимость автомобиля"
   ]
  },
  {
   "cell_type": "code",
   "execution_count": 19,
   "metadata": {},
   "outputs": [
    {
     "name": "stdout",
     "output_type": "stream",
     "text": [
      "150000    227411\n",
      "125000     35008\n",
      "100000     14300\n",
      "90000      11150\n",
      "80000       9719\n",
      "70000       8319\n",
      "60000       7234\n",
      "50000       6018\n",
      "5000        5702\n",
      "40000       4787\n",
      "30000       4283\n",
      "20000       3782\n",
      "10000       1109\n",
      "Name: kilometer, dtype: int64\n",
      "[23  5 12 15  8 21 36  2 18 11  0  9  7 14 19 26 35 13 22 25 32 10 17  4\n",
      "  6 16 24  3 20 31 27  1 34 40 33 43 47 45 29 30 28 46 42 37 38 44 48 39\n",
      " 41 49]\n"
     ]
    },
    {
     "data": {
      "text/plain": [
       "<AxesSubplot:xlabel='kilometer'>"
      ]
     },
     "execution_count": 19,
     "metadata": {},
     "output_type": "execute_result"
    },
    {
     "data": {
      "image/png": "[encoded data removed]",
      "text/plain": [
       "<Figure size 432x288 with 1 Axes>"
      ]
     },
     "metadata": {
      "needs_background": "light"
     },
     "output_type": "display_data"
    }
   ],
   "source": [
    "print(data['kilometer'].value_counts())\n",
    "print(data['age_car'].unique())\n",
    "data.groupby('kilometer')['age_car'].median().plot(kind='bar');"
   ]
  },
  {
   "cell_type": "code",
   "execution_count": 20,
   "metadata": {},
   "outputs": [
    {
     "data": {
      "text/html": [
       "<div>\n",
       "<style scoped>\n",
       "    .dataframe tbody tr th:only-of-type {\n",
       "        vertical-align: middle;\n",
       "    }\n",
       "\n",
       "    .dataframe tbody tr th {\n",
       "        vertical-align: top;\n",
       "    }\n",
       "\n",
       "    .dataframe thead th {\n",
       "        text-align: right;\n",
       "    }\n",
       "</style>\n",
       "<table border=\"1\" class=\"dataframe\">\n",
       "  <thead>\n",
       "    <tr style=\"text-align: right;\">\n",
       "      <th></th>\n",
       "      <th>price</th>\n",
       "      <th>vehicle_type</th>\n",
       "      <th>registration_year</th>\n",
       "      <th>gear_box</th>\n",
       "      <th>power</th>\n",
       "      <th>model</th>\n",
       "      <th>kilometer</th>\n",
       "      <th>fuel_type</th>\n",
       "      <th>brand</th>\n",
       "      <th>repaired</th>\n",
       "      <th>date_created</th>\n",
       "      <th>age_car</th>\n",
       "    </tr>\n",
       "  </thead>\n",
       "  <tbody>\n",
       "    <tr>\n",
       "      <th>28</th>\n",
       "      <td>1990</td>\n",
       "      <td>bus</td>\n",
       "      <td>1981</td>\n",
       "      <td>manual</td>\n",
       "      <td>50</td>\n",
       "      <td>transporter</td>\n",
       "      <td>5000</td>\n",
       "      <td>petrol</td>\n",
       "      <td>volkswagen</td>\n",
       "      <td>no</td>\n",
       "      <td>2016</td>\n",
       "      <td>35</td>\n",
       "    </tr>\n",
       "    <tr>\n",
       "      <th>52</th>\n",
       "      <td>1400</td>\n",
       "      <td>sedan</td>\n",
       "      <td>2016</td>\n",
       "      <td>manual</td>\n",
       "      <td>55</td>\n",
       "      <td>other</td>\n",
       "      <td>5000</td>\n",
       "      <td>petrol</td>\n",
       "      <td>hyundai</td>\n",
       "      <td>no</td>\n",
       "      <td>2016</td>\n",
       "      <td>0</td>\n",
       "    </tr>\n",
       "    <tr>\n",
       "      <th>115</th>\n",
       "      <td>0</td>\n",
       "      <td>small</td>\n",
       "      <td>1999</td>\n",
       "      <td>manual</td>\n",
       "      <td>0</td>\n",
       "      <td>golf</td>\n",
       "      <td>5000</td>\n",
       "      <td>petrol</td>\n",
       "      <td>volkswagen</td>\n",
       "      <td>no</td>\n",
       "      <td>2016</td>\n",
       "      <td>17</td>\n",
       "    </tr>\n",
       "    <tr>\n",
       "      <th>154</th>\n",
       "      <td>0</td>\n",
       "      <td>sedan</td>\n",
       "      <td>2006</td>\n",
       "      <td>manual</td>\n",
       "      <td>0</td>\n",
       "      <td>other</td>\n",
       "      <td>5000</td>\n",
       "      <td>petrol</td>\n",
       "      <td>fiat</td>\n",
       "      <td>no</td>\n",
       "      <td>2016</td>\n",
       "      <td>10</td>\n",
       "    </tr>\n",
       "    <tr>\n",
       "      <th>157</th>\n",
       "      <td>7500</td>\n",
       "      <td>suv</td>\n",
       "      <td>2007</td>\n",
       "      <td>auto</td>\n",
       "      <td>194</td>\n",
       "      <td>sorento</td>\n",
       "      <td>5000</td>\n",
       "      <td>petrol</td>\n",
       "      <td>kia</td>\n",
       "      <td>no</td>\n",
       "      <td>2016</td>\n",
       "      <td>9</td>\n",
       "    </tr>\n",
       "    <tr>\n",
       "      <th>...</th>\n",
       "      <td>...</td>\n",
       "      <td>...</td>\n",
       "      <td>...</td>\n",
       "      <td>...</td>\n",
       "      <td>...</td>\n",
       "      <td>...</td>\n",
       "      <td>...</td>\n",
       "      <td>...</td>\n",
       "      <td>...</td>\n",
       "      <td>...</td>\n",
       "      <td>...</td>\n",
       "      <td>...</td>\n",
       "    </tr>\n",
       "    <tr>\n",
       "      <th>353664</th>\n",
       "      <td>550</td>\n",
       "      <td>sedan</td>\n",
       "      <td>1990</td>\n",
       "      <td>manual</td>\n",
       "      <td>0</td>\n",
       "      <td>80</td>\n",
       "      <td>5000</td>\n",
       "      <td>petrol</td>\n",
       "      <td>audi</td>\n",
       "      <td>no</td>\n",
       "      <td>2016</td>\n",
       "      <td>26</td>\n",
       "    </tr>\n",
       "    <tr>\n",
       "      <th>353803</th>\n",
       "      <td>2499</td>\n",
       "      <td>wagon</td>\n",
       "      <td>2002</td>\n",
       "      <td>auto</td>\n",
       "      <td>150</td>\n",
       "      <td>a6</td>\n",
       "      <td>5000</td>\n",
       "      <td>gasoline</td>\n",
       "      <td>audi</td>\n",
       "      <td>yes</td>\n",
       "      <td>2016</td>\n",
       "      <td>14</td>\n",
       "    </tr>\n",
       "    <tr>\n",
       "      <th>353861</th>\n",
       "      <td>15500</td>\n",
       "      <td>coupe</td>\n",
       "      <td>1973</td>\n",
       "      <td>manual</td>\n",
       "      <td>0</td>\n",
       "      <td>other</td>\n",
       "      <td>5000</td>\n",
       "      <td>petrol</td>\n",
       "      <td>ford</td>\n",
       "      <td>no</td>\n",
       "      <td>2016</td>\n",
       "      <td>43</td>\n",
       "    </tr>\n",
       "    <tr>\n",
       "      <th>354075</th>\n",
       "      <td>10985</td>\n",
       "      <td>small</td>\n",
       "      <td>2015</td>\n",
       "      <td>manual</td>\n",
       "      <td>82</td>\n",
       "      <td>1_reihe</td>\n",
       "      <td>5000</td>\n",
       "      <td>petrol</td>\n",
       "      <td>peugeot</td>\n",
       "      <td>no</td>\n",
       "      <td>2016</td>\n",
       "      <td>1</td>\n",
       "    </tr>\n",
       "    <tr>\n",
       "      <th>354154</th>\n",
       "      <td>0</td>\n",
       "      <td>small</td>\n",
       "      <td>2000</td>\n",
       "      <td>manual</td>\n",
       "      <td>55</td>\n",
       "      <td>punto</td>\n",
       "      <td>5000</td>\n",
       "      <td>petrol</td>\n",
       "      <td>fiat</td>\n",
       "      <td>yes</td>\n",
       "      <td>2016</td>\n",
       "      <td>16</td>\n",
       "    </tr>\n",
       "  </tbody>\n",
       "</table>\n",
       "<p>5702 rows × 12 columns</p>\n",
       "</div>"
      ],
      "text/plain": [
       "        price vehicle_type  registration_year gear_box  power        model  \\\n",
       "28       1990          bus               1981   manual     50  transporter   \n",
       "52       1400        sedan               2016   manual     55        other   \n",
       "115         0        small               1999   manual      0         golf   \n",
       "154         0        sedan               2006   manual      0        other   \n",
       "157      7500          suv               2007     auto    194      sorento   \n",
       "...       ...          ...                ...      ...    ...          ...   \n",
       "353664    550        sedan               1990   manual      0           80   \n",
       "353803   2499        wagon               2002     auto    150           a6   \n",
       "353861  15500        coupe               1973   manual      0        other   \n",
       "354075  10985        small               2015   manual     82      1_reihe   \n",
       "354154      0        small               2000   manual     55        punto   \n",
       "\n",
       "        kilometer fuel_type       brand repaired  date_created  age_car  \n",
       "28           5000    petrol  volkswagen       no          2016       35  \n",
       "52           5000    petrol     hyundai       no          2016        0  \n",
       "115          5000    petrol  volkswagen       no          2016       17  \n",
       "154          5000    petrol        fiat       no          2016       10  \n",
       "157          5000    petrol         kia       no          2016        9  \n",
       "...           ...       ...         ...      ...           ...      ...  \n",
       "353664       5000    petrol        audi       no          2016       26  \n",
       "353803       5000  gasoline        audi      yes          2016       14  \n",
       "353861       5000    petrol        ford       no          2016       43  \n",
       "354075       5000    petrol     peugeot       no          2016        1  \n",
       "354154       5000    petrol        fiat      yes          2016       16  \n",
       "\n",
       "[5702 rows x 12 columns]"
      ]
     },
     "execution_count": 20,
     "metadata": {},
     "output_type": "execute_result"
    }
   ],
   "source": [
    "data.query('kilometer < 10000')"
   ]
  },
  {
   "cell_type": "markdown",
   "metadata": {},
   "source": [
    "### Мощность автомобиля"
   ]
  },
  {
   "cell_type": "code",
   "execution_count": 21,
   "metadata": {},
   "outputs": [
    {
     "name": "stdout",
     "output_type": "stream",
     "text": [
      "0        36008\n",
      "75       22786\n",
      "60       15145\n",
      "150      14141\n",
      "101      12730\n",
      "         ...  \n",
      "1115         1\n",
      "10317        1\n",
      "7512         1\n",
      "6018         1\n",
      "1548         1\n",
      "Name: power, Length: 697, dtype: int64\n"
     ]
    },
    {
     "data": {
      "text/plain": [
       "<AxesSubplot:>"
      ]
     },
     "execution_count": 21,
     "metadata": {},
     "output_type": "execute_result"
    },
    {
     "data": {
      "image/png": "[encoded data removed]",
      "text/plain": [
       "<Figure size 432x288 with 1 Axes>"
      ]
     },
     "metadata": {
      "needs_background": "light"
     },
     "output_type": "display_data"
    }
   ],
   "source": [
    "print(data['power'].value_counts())\n",
    "data['power'].hist(bins=20, range=(45,500))"
   ]
  },
  {
   "cell_type": "code",
   "execution_count": 22,
   "metadata": {},
   "outputs": [
    {
     "name": "stdout",
     "output_type": "stream",
     "text": [
      "<class 'pandas.core.frame.DataFrame'>\n",
      "Int64Index: 302624 entries, 1 to 354364\n",
      "Data columns (total 12 columns):\n",
      " #   Column             Non-Null Count   Dtype \n",
      "---  ------             --------------   ----- \n",
      " 0   price              302624 non-null  int64 \n",
      " 1   vehicle_type       302624 non-null  object\n",
      " 2   registration_year  302624 non-null  int64 \n",
      " 3   gear_box           302624 non-null  object\n",
      " 4   power              302624 non-null  int64 \n",
      " 5   model              302624 non-null  object\n",
      " 6   kilometer          302624 non-null  int64 \n",
      " 7   fuel_type          302624 non-null  object\n",
      " 8   brand              302624 non-null  object\n",
      " 9   repaired           302624 non-null  object\n",
      " 10  date_created       302624 non-null  int64 \n",
      " 11  age_car            302624 non-null  int64 \n",
      "dtypes: int64(6), object(6)\n",
      "memory usage: 30.0+ MB\n"
     ]
    }
   ],
   "source": [
    "data = data.query('0 < power < 1500')\n",
    "data.info()"
   ]
  },
  {
   "cell_type": "markdown",
   "metadata": {},
   "source": [
    "### Пробег автомобиля"
   ]
  },
  {
   "cell_type": "code",
   "execution_count": 23,
   "metadata": {},
   "outputs": [
    {
     "name": "stdout",
     "output_type": "stream",
     "text": [
      "0        6382\n",
      "500      4472\n",
      "1500     4432\n",
      "1200     3736\n",
      "2500     3703\n",
      "         ... \n",
      "10898       1\n",
      "4898        1\n",
      "3991        1\n",
      "11923       1\n",
      "8188        1\n",
      "Name: price, Length: 3590, dtype: int64\n"
     ]
    },
    {
     "data": {
      "text/plain": [
       "<AxesSubplot:>"
      ]
     },
     "execution_count": 23,
     "metadata": {},
     "output_type": "execute_result"
    },
    {
     "data": {
      "image/png": "[encoded data removed]",
      "text/plain": [
       "<Figure size 432x288 with 1 Axes>"
      ]
     },
     "metadata": {
      "needs_background": "light"
     },
     "output_type": "display_data"
    }
   ],
   "source": [
    "print(data['price'].value_counts())\n",
    "data['price'].hist(bins=20, range=(500,200000))"
   ]
  },
  {
   "cell_type": "code",
   "execution_count": 24,
   "metadata": {},
   "outputs": [
    {
     "name": "stdout",
     "output_type": "stream",
     "text": [
      "<class 'pandas.core.frame.DataFrame'>\n",
      "Int64Index: 296242 entries, 1 to 354364\n",
      "Data columns (total 12 columns):\n",
      " #   Column             Non-Null Count   Dtype \n",
      "---  ------             --------------   ----- \n",
      " 0   price              296242 non-null  int64 \n",
      " 1   vehicle_type       296242 non-null  object\n",
      " 2   registration_year  296242 non-null  int64 \n",
      " 3   gear_box           296242 non-null  object\n",
      " 4   power              296242 non-null  int64 \n",
      " 5   model              296242 non-null  object\n",
      " 6   kilometer          296242 non-null  int64 \n",
      " 7   fuel_type          296242 non-null  object\n",
      " 8   brand              296242 non-null  object\n",
      " 9   repaired           296242 non-null  object\n",
      " 10  date_created       296242 non-null  int64 \n",
      " 11  age_car            296242 non-null  int64 \n",
      "dtypes: int64(6), object(6)\n",
      "memory usage: 29.4+ MB\n"
     ]
    }
   ],
   "source": [
    "data = data.query('0 < price')\n",
    "data.info()"
   ]
  },
  {
   "cell_type": "markdown",
   "metadata": {},
   "source": [
    "## Разделение на выборки, стандартизация и масштабирование"
   ]
  },
  {
   "cell_type": "code",
   "execution_count": 25,
   "metadata": {},
   "outputs": [
    {
     "name": "stdout",
     "output_type": "stream",
     "text": [
      "(222181, 11) (74061, 11) (222181,) (74061,)\n"
     ]
    }
   ],
   "source": [
    "features = data.drop(['price'], axis=1)\n",
    "target = data['price']\n",
    "ft, ftest, tt, ttest = train_test_split(features, target, test_size=0.25, random_state=12345)\n",
    "print(ft.shape, ftest.shape, tt.shape, ttest.shape)"
   ]
  },
  {
   "cell_type": "code",
   "execution_count": 26,
   "metadata": {},
   "outputs": [
    {
     "data": {
      "text/plain": [
       "Index(['registration_year', 'power', 'kilometer', 'date_created', 'age_car'], dtype='object')"
      ]
     },
     "execution_count": 26,
     "metadata": {},
     "output_type": "execute_result"
    }
   ],
   "source": [
    "ft.select_dtypes(exclude='object').columns"
   ]
  },
  {
   "cell_type": "code",
   "execution_count": 27,
   "metadata": {},
   "outputs": [],
   "source": [
    "cat = list(ft.select_dtypes('object').columns)\n",
    "\n",
    "enc = OneHotEncoder(handle_unknown='error', drop='first')\n",
    "features_train_ohe = enc.fit_transform(ft[cat])\n",
    "features_test_ohe = enc.transform(ftest[cat])\n",
    "\n",
    "ft_num = ft.select_dtypes(exclude='object')\n",
    "ftest_num = ftest.select_dtypes(exclude='object')\n",
    "\n",
    "ft_ohe = pd.concat([ft_num, pd.DataFrame(features_train_ohe.toarray(), index=ft.index)], axis=1)\n",
    "ftest_ohe = pd.concat([ftest_num, pd.DataFrame(features_test_ohe.toarray(), index=ftest.index)], axis=1)"
   ]
  },
  {
   "cell_type": "code",
   "execution_count": 28,
   "metadata": {},
   "outputs": [
    {
     "data": {
      "text/html": [
       "<div>\n",
       "<style scoped>\n",
       "    .dataframe tbody tr th:only-of-type {\n",
       "        vertical-align: middle;\n",
       "    }\n",
       "\n",
       "    .dataframe tbody tr th {\n",
       "        vertical-align: top;\n",
       "    }\n",
       "\n",
       "    .dataframe thead th {\n",
       "        text-align: right;\n",
       "    }\n",
       "</style>\n",
       "<table border=\"1\" class=\"dataframe\">\n",
       "  <thead>\n",
       "    <tr style=\"text-align: right;\">\n",
       "      <th></th>\n",
       "      <th>registration_year</th>\n",
       "      <th>power</th>\n",
       "      <th>kilometer</th>\n",
       "      <th>date_created</th>\n",
       "      <th>age_car</th>\n",
       "      <th>0</th>\n",
       "      <th>1</th>\n",
       "      <th>2</th>\n",
       "      <th>3</th>\n",
       "      <th>4</th>\n",
       "      <th>...</th>\n",
       "      <th>293</th>\n",
       "      <th>294</th>\n",
       "      <th>295</th>\n",
       "      <th>296</th>\n",
       "      <th>297</th>\n",
       "      <th>298</th>\n",
       "      <th>299</th>\n",
       "      <th>300</th>\n",
       "      <th>301</th>\n",
       "      <th>302</th>\n",
       "    </tr>\n",
       "  </thead>\n",
       "  <tbody>\n",
       "    <tr>\n",
       "      <th>255536</th>\n",
       "      <td>2002</td>\n",
       "      <td>101</td>\n",
       "      <td>150000</td>\n",
       "      <td>2016</td>\n",
       "      <td>14</td>\n",
       "      <td>0.0</td>\n",
       "      <td>0.0</td>\n",
       "      <td>0.0</td>\n",
       "      <td>0.0</td>\n",
       "      <td>0.0</td>\n",
       "      <td>...</td>\n",
       "      <td>0.0</td>\n",
       "      <td>0.0</td>\n",
       "      <td>0.0</td>\n",
       "      <td>0.0</td>\n",
       "      <td>0.0</td>\n",
       "      <td>0.0</td>\n",
       "      <td>0.0</td>\n",
       "      <td>0.0</td>\n",
       "      <td>0.0</td>\n",
       "      <td>0.0</td>\n",
       "    </tr>\n",
       "    <tr>\n",
       "      <th>345173</th>\n",
       "      <td>2003</td>\n",
       "      <td>75</td>\n",
       "      <td>150000</td>\n",
       "      <td>2016</td>\n",
       "      <td>13</td>\n",
       "      <td>0.0</td>\n",
       "      <td>0.0</td>\n",
       "      <td>0.0</td>\n",
       "      <td>0.0</td>\n",
       "      <td>1.0</td>\n",
       "      <td>...</td>\n",
       "      <td>0.0</td>\n",
       "      <td>0.0</td>\n",
       "      <td>0.0</td>\n",
       "      <td>0.0</td>\n",
       "      <td>0.0</td>\n",
       "      <td>0.0</td>\n",
       "      <td>0.0</td>\n",
       "      <td>0.0</td>\n",
       "      <td>0.0</td>\n",
       "      <td>0.0</td>\n",
       "    </tr>\n",
       "    <tr>\n",
       "      <th>270462</th>\n",
       "      <td>2010</td>\n",
       "      <td>116</td>\n",
       "      <td>40000</td>\n",
       "      <td>2016</td>\n",
       "      <td>6</td>\n",
       "      <td>0.0</td>\n",
       "      <td>0.0</td>\n",
       "      <td>0.0</td>\n",
       "      <td>1.0</td>\n",
       "      <td>0.0</td>\n",
       "      <td>...</td>\n",
       "      <td>0.0</td>\n",
       "      <td>0.0</td>\n",
       "      <td>0.0</td>\n",
       "      <td>0.0</td>\n",
       "      <td>0.0</td>\n",
       "      <td>0.0</td>\n",
       "      <td>0.0</td>\n",
       "      <td>0.0</td>\n",
       "      <td>0.0</td>\n",
       "      <td>0.0</td>\n",
       "    </tr>\n",
       "    <tr>\n",
       "      <th>213128</th>\n",
       "      <td>2008</td>\n",
       "      <td>143</td>\n",
       "      <td>150000</td>\n",
       "      <td>2016</td>\n",
       "      <td>8</td>\n",
       "      <td>0.0</td>\n",
       "      <td>0.0</td>\n",
       "      <td>0.0</td>\n",
       "      <td>0.0</td>\n",
       "      <td>0.0</td>\n",
       "      <td>...</td>\n",
       "      <td>0.0</td>\n",
       "      <td>0.0</td>\n",
       "      <td>0.0</td>\n",
       "      <td>0.0</td>\n",
       "      <td>0.0</td>\n",
       "      <td>0.0</td>\n",
       "      <td>0.0</td>\n",
       "      <td>0.0</td>\n",
       "      <td>0.0</td>\n",
       "      <td>0.0</td>\n",
       "    </tr>\n",
       "    <tr>\n",
       "      <th>244664</th>\n",
       "      <td>2005</td>\n",
       "      <td>95</td>\n",
       "      <td>125000</td>\n",
       "      <td>2016</td>\n",
       "      <td>11</td>\n",
       "      <td>0.0</td>\n",
       "      <td>0.0</td>\n",
       "      <td>0.0</td>\n",
       "      <td>1.0</td>\n",
       "      <td>0.0</td>\n",
       "      <td>...</td>\n",
       "      <td>0.0</td>\n",
       "      <td>0.0</td>\n",
       "      <td>0.0</td>\n",
       "      <td>0.0</td>\n",
       "      <td>0.0</td>\n",
       "      <td>0.0</td>\n",
       "      <td>0.0</td>\n",
       "      <td>0.0</td>\n",
       "      <td>0.0</td>\n",
       "      <td>0.0</td>\n",
       "    </tr>\n",
       "    <tr>\n",
       "      <th>...</th>\n",
       "      <td>...</td>\n",
       "      <td>...</td>\n",
       "      <td>...</td>\n",
       "      <td>...</td>\n",
       "      <td>...</td>\n",
       "      <td>...</td>\n",
       "      <td>...</td>\n",
       "      <td>...</td>\n",
       "      <td>...</td>\n",
       "      <td>...</td>\n",
       "      <td>...</td>\n",
       "      <td>...</td>\n",
       "      <td>...</td>\n",
       "      <td>...</td>\n",
       "      <td>...</td>\n",
       "      <td>...</td>\n",
       "      <td>...</td>\n",
       "      <td>...</td>\n",
       "      <td>...</td>\n",
       "      <td>...</td>\n",
       "      <td>...</td>\n",
       "    </tr>\n",
       "    <tr>\n",
       "      <th>189989</th>\n",
       "      <td>2006</td>\n",
       "      <td>109</td>\n",
       "      <td>150000</td>\n",
       "      <td>2016</td>\n",
       "      <td>10</td>\n",
       "      <td>0.0</td>\n",
       "      <td>0.0</td>\n",
       "      <td>0.0</td>\n",
       "      <td>0.0</td>\n",
       "      <td>1.0</td>\n",
       "      <td>...</td>\n",
       "      <td>0.0</td>\n",
       "      <td>0.0</td>\n",
       "      <td>0.0</td>\n",
       "      <td>0.0</td>\n",
       "      <td>0.0</td>\n",
       "      <td>0.0</td>\n",
       "      <td>0.0</td>\n",
       "      <td>0.0</td>\n",
       "      <td>0.0</td>\n",
       "      <td>0.0</td>\n",
       "    </tr>\n",
       "    <tr>\n",
       "      <th>57393</th>\n",
       "      <td>2012</td>\n",
       "      <td>170</td>\n",
       "      <td>100000</td>\n",
       "      <td>2016</td>\n",
       "      <td>4</td>\n",
       "      <td>0.0</td>\n",
       "      <td>0.0</td>\n",
       "      <td>0.0</td>\n",
       "      <td>0.0</td>\n",
       "      <td>0.0</td>\n",
       "      <td>...</td>\n",
       "      <td>0.0</td>\n",
       "      <td>0.0</td>\n",
       "      <td>0.0</td>\n",
       "      <td>0.0</td>\n",
       "      <td>0.0</td>\n",
       "      <td>0.0</td>\n",
       "      <td>0.0</td>\n",
       "      <td>1.0</td>\n",
       "      <td>0.0</td>\n",
       "      <td>0.0</td>\n",
       "    </tr>\n",
       "    <tr>\n",
       "      <th>103334</th>\n",
       "      <td>2004</td>\n",
       "      <td>195</td>\n",
       "      <td>150000</td>\n",
       "      <td>2016</td>\n",
       "      <td>12</td>\n",
       "      <td>0.0</td>\n",
       "      <td>0.0</td>\n",
       "      <td>0.0</td>\n",
       "      <td>0.0</td>\n",
       "      <td>0.0</td>\n",
       "      <td>...</td>\n",
       "      <td>0.0</td>\n",
       "      <td>0.0</td>\n",
       "      <td>0.0</td>\n",
       "      <td>0.0</td>\n",
       "      <td>0.0</td>\n",
       "      <td>0.0</td>\n",
       "      <td>0.0</td>\n",
       "      <td>0.0</td>\n",
       "      <td>0.0</td>\n",
       "      <td>0.0</td>\n",
       "    </tr>\n",
       "    <tr>\n",
       "      <th>92489</th>\n",
       "      <td>2011</td>\n",
       "      <td>245</td>\n",
       "      <td>150000</td>\n",
       "      <td>2016</td>\n",
       "      <td>5</td>\n",
       "      <td>0.0</td>\n",
       "      <td>0.0</td>\n",
       "      <td>0.0</td>\n",
       "      <td>1.0</td>\n",
       "      <td>0.0</td>\n",
       "      <td>...</td>\n",
       "      <td>0.0</td>\n",
       "      <td>0.0</td>\n",
       "      <td>0.0</td>\n",
       "      <td>0.0</td>\n",
       "      <td>0.0</td>\n",
       "      <td>0.0</td>\n",
       "      <td>0.0</td>\n",
       "      <td>0.0</td>\n",
       "      <td>0.0</td>\n",
       "      <td>0.0</td>\n",
       "    </tr>\n",
       "    <tr>\n",
       "      <th>260171</th>\n",
       "      <td>1997</td>\n",
       "      <td>90</td>\n",
       "      <td>150000</td>\n",
       "      <td>2016</td>\n",
       "      <td>19</td>\n",
       "      <td>0.0</td>\n",
       "      <td>0.0</td>\n",
       "      <td>0.0</td>\n",
       "      <td>0.0</td>\n",
       "      <td>0.0</td>\n",
       "      <td>...</td>\n",
       "      <td>0.0</td>\n",
       "      <td>0.0</td>\n",
       "      <td>0.0</td>\n",
       "      <td>0.0</td>\n",
       "      <td>0.0</td>\n",
       "      <td>0.0</td>\n",
       "      <td>0.0</td>\n",
       "      <td>0.0</td>\n",
       "      <td>0.0</td>\n",
       "      <td>1.0</td>\n",
       "    </tr>\n",
       "  </tbody>\n",
       "</table>\n",
       "<p>222181 rows × 308 columns</p>\n",
       "</div>"
      ],
      "text/plain": [
       "        registration_year  power  kilometer  date_created  age_car    0    1  \\\n",
       "255536               2002    101     150000          2016       14  0.0  0.0   \n",
       "345173               2003     75     150000          2016       13  0.0  0.0   \n",
       "270462               2010    116      40000          2016        6  0.0  0.0   \n",
       "213128               2008    143     150000          2016        8  0.0  0.0   \n",
       "244664               2005     95     125000          2016       11  0.0  0.0   \n",
       "...                   ...    ...        ...           ...      ...  ...  ...   \n",
       "189989               2006    109     150000          2016       10  0.0  0.0   \n",
       "57393                2012    170     100000          2016        4  0.0  0.0   \n",
       "103334               2004    195     150000          2016       12  0.0  0.0   \n",
       "92489                2011    245     150000          2016        5  0.0  0.0   \n",
       "260171               1997     90     150000          2016       19  0.0  0.0   \n",
       "\n",
       "          2    3    4  ...  293  294  295  296  297  298  299  300  301  302  \n",
       "255536  0.0  0.0  0.0  ...  0.0  0.0  0.0  0.0  0.0  0.0  0.0  0.0  0.0  0.0  \n",
       "345173  0.0  0.0  1.0  ...  0.0  0.0  0.0  0.0  0.0  0.0  0.0  0.0  0.0  0.0  \n",
       "270462  0.0  1.0  0.0  ...  0.0  0.0  0.0  0.0  0.0  0.0  0.0  0.0  0.0  0.0  \n",
       "213128  0.0  0.0  0.0  ...  0.0  0.0  0.0  0.0  0.0  0.0  0.0  0.0  0.0  0.0  \n",
       "244664  0.0  1.0  0.0  ...  0.0  0.0  0.0  0.0  0.0  0.0  0.0  0.0  0.0  0.0  \n",
       "...     ...  ...  ...  ...  ...  ...  ...  ...  ...  ...  ...  ...  ...  ...  \n",
       "189989  0.0  0.0  1.0  ...  0.0  0.0  0.0  0.0  0.0  0.0  0.0  0.0  0.0  0.0  \n",
       "57393   0.0  0.0  0.0  ...  0.0  0.0  0.0  0.0  0.0  0.0  0.0  1.0  0.0  0.0  \n",
       "103334  0.0  0.0  0.0  ...  0.0  0.0  0.0  0.0  0.0  0.0  0.0  0.0  0.0  0.0  \n",
       "92489   0.0  1.0  0.0  ...  0.0  0.0  0.0  0.0  0.0  0.0  0.0  0.0  0.0  0.0  \n",
       "260171  0.0  0.0  0.0  ...  0.0  0.0  0.0  0.0  0.0  0.0  0.0  0.0  0.0  1.0  \n",
       "\n",
       "[222181 rows x 308 columns]"
      ]
     },
     "execution_count": 28,
     "metadata": {},
     "output_type": "execute_result"
    }
   ],
   "source": [
    "ft_ohe"
   ]
  },
  {
   "cell_type": "markdown",
   "metadata": {},
   "source": [
    "## Анализ моделей"
   ]
  },
  {
   "cell_type": "markdown",
   "metadata": {},
   "source": [
    "### Линейная регрессия"
   ]
  },
  {
   "cell_type": "code",
   "execution_count": 30,
   "metadata": {},
   "outputs": [
    {
     "name": "stdout",
     "output_type": "stream",
     "text": [
      "CPU times: user 13.4 s, sys: 10.1 s, total: 23.5 s\n",
      "Wall time: 23.5 s\n"
     ]
    },
    {
     "data": {
      "text/plain": [
       "LinearRegression()"
      ]
     },
     "execution_count": 30,
     "metadata": {},
     "output_type": "execute_result"
    }
   ],
   "source": [
    "%%time\n",
    "model = LinearRegression()\n",
    "model.fit(ft_ohe, tt)"
   ]
  },
  {
   "cell_type": "code",
   "execution_count": 31,
   "metadata": {},
   "outputs": [
    {
     "name": "stdout",
     "output_type": "stream",
     "text": [
      "2665.5296387514413\n",
      "CPU times: user 245 ms, sys: 264 ms, total: 509 ms\n",
      "Wall time: 587 ms\n"
     ]
    }
   ],
   "source": [
    "%%time\n",
    "predictions = model.predict(ft_ohe)\n",
    "print(mean_squared_error(tt, predictions)**0.5)"
   ]
  },
  {
   "cell_type": "code",
   "execution_count": 32,
   "metadata": {},
   "outputs": [
    {
     "name": "stdout",
     "output_type": "stream",
     "text": [
      "RMSE LinearRegression: 2670.24\n",
      "CPU times: user 55 s, sys: 45.9 s, total: 1min 40s\n",
      "Wall time: 1min 41s\n"
     ]
    }
   ],
   "source": [
    "%%time\n",
    "result = cross_val_score(model, ft_ohe, tt, cv=5, scoring = 'neg_root_mean_squared_error').mean() * -1\n",
    "print(f'RMSE LinearRegression: {result:.2f}')"
   ]
  },
  {
   "cell_type": "markdown",
   "metadata": {},
   "source": [
    "### LightGBM "
   ]
  },
  {
   "cell_type": "markdown",
   "metadata": {},
   "source": [
    "Чтобы код выполнялся быстро не использовала Грид серч, а рандомно ставила гиперпараметры. Могу исправить если не подходит."
   ]
  },
  {
   "cell_type": "code",
   "execution_count": 33,
   "metadata": {},
   "outputs": [
    {
     "name": "stdout",
     "output_type": "stream",
     "text": [
      "(222181, 11) (74061, 11)\n"
     ]
    }
   ],
   "source": [
    "encoder = OrdinalEncoder(handle_unknown='use_encoded_value', unknown_value=-1)\n",
    "encoder.fit(ft)\n",
    "ft_ordinal = encoder.transform(ft)\n",
    "ftest_ordinal = encoder.transform(ftest)\n",
    "ft_ordinal = pd.DataFrame(encoder.transform(ft), columns=ft.columns)\n",
    "ftest_ordinal = pd.DataFrame(encoder.transform(ftest), columns=ftest.columns)\n",
    "print(ft_ordinal.shape, ftest_ordinal.shape)"
   ]
  },
  {
   "cell_type": "code",
   "execution_count": 34,
   "metadata": {
    "scrolled": true
   },
   "outputs": [
    {
     "name": "stdout",
     "output_type": "stream",
     "text": [
      "RMSE LGBMRegressor: 1691.31\n",
      "CPU times: user 13min 42s, sys: 13.8 s, total: 13min 56s\n",
      "Wall time: 14min 2s\n"
     ]
    }
   ],
   "source": [
    "%%time\n",
    "model_l = lgb.LGBMRegressor()\n",
    "result_l = cross_val_score(model_l, ft_ordinal, tt, cv=5, scoring = 'neg_root_mean_squared_error').mean() * -1\n",
    "print(f'RMSE LGBMRegressor: {result_l:.2f}')"
   ]
  },
  {
   "cell_type": "code",
   "execution_count": 35,
   "metadata": {},
   "outputs": [
    {
     "name": "stdout",
     "output_type": "stream",
     "text": [
      "RMSE LGBMRegressor: 2877.10\n",
      "CPU times: user 16.6 s, sys: 0 ns, total: 16.6 s\n",
      "Wall time: 16.7 s\n"
     ]
    }
   ],
   "source": [
    "%%time\n",
    "model_l = lgb.LGBMRegressor(num_leaves= 10, learning_rate=0.01, max_depth=10, n_estimators=100)\n",
    "result_l = cross_val_score(model_l, ft_ordinal, tt, cv=5, scoring = 'neg_root_mean_squared_error').mean() * -1\n",
    "print(f'RMSE LGBMRegressor: {result_l:.2f}')"
   ]
  },
  {
   "cell_type": "code",
   "execution_count": 36,
   "metadata": {},
   "outputs": [
    {
     "name": "stdout",
     "output_type": "stream",
     "text": [
      "RMSE LGBMRegressor: 2436.72\n",
      "CPU times: user 31.7 s, sys: 0 ns, total: 31.7 s\n",
      "Wall time: 31.9 s\n"
     ]
    }
   ],
   "source": [
    "%%time\n",
    "model_l = lgb.LGBMRegressor(num_leaves= 15, learning_rate=0.01, max_depth=15, n_estimators=150)\n",
    "result_l = cross_val_score(model_l, ft_ordinal, tt, cv=5, scoring = 'neg_root_mean_squared_error').mean() * -1\n",
    "print(f'RMSE LGBMRegressor: {result_l:.2f}')"
   ]
  },
  {
   "cell_type": "code",
   "execution_count": 37,
   "metadata": {
    "scrolled": true
   },
   "outputs": [
    {
     "name": "stdout",
     "output_type": "stream",
     "text": [
      "RMSE LGBMRegressor: 1991.33\n",
      "CPU times: user 6min 17s, sys: 4.24 s, total: 6min 21s\n",
      "Wall time: 6min 24s\n"
     ]
    }
   ],
   "source": [
    "%%time\n",
    "model_l = lgb.LGBMRegressor(num_leaves= 31, learning_rate=0.01, max_depth=15, n_estimators=250)\n",
    "result_l = cross_val_score(model_l, ft_ordinal, tt, cv=5, scoring = 'neg_root_mean_squared_error').mean() * -1\n",
    "print(f'RMSE LGBMRegressor: {result_l:.2f}')"
   ]
  },
  {
   "cell_type": "code",
   "execution_count": 38,
   "metadata": {},
   "outputs": [
    {
     "name": "stdout",
     "output_type": "stream",
     "text": [
      "CPU times: user 14.5 s, sys: 0 ns, total: 14.5 s\n",
      "Wall time: 14.5 s\n"
     ]
    },
    {
     "data": {
      "text/plain": [
       "LGBMRegressor(learning_rate=0.01, max_depth=15, n_estimators=250)"
      ]
     },
     "execution_count": 38,
     "metadata": {},
     "output_type": "execute_result"
    }
   ],
   "source": [
    "%%time\n",
    "model_l = lgb.LGBMRegressor(num_leaves= 31, learning_rate=0.01, max_depth=15, n_estimators=250)\n",
    "model_l.fit(ft_ordinal, tt)"
   ]
  },
  {
   "cell_type": "code",
   "execution_count": 39,
   "metadata": {},
   "outputs": [
    {
     "name": "stdout",
     "output_type": "stream",
     "text": [
      "1984.614033140769\n",
      "CPU times: user 3.57 s, sys: 0 ns, total: 3.57 s\n",
      "Wall time: 3.6 s\n"
     ]
    }
   ],
   "source": [
    "%%time\n",
    "predictions_l = model_l.predict(ft_ordinal)\n",
    "print(mean_squared_error(tt, predictions_l)**0.5)"
   ]
  },
  {
   "cell_type": "markdown",
   "metadata": {},
   "source": [
    "### CatBoost"
   ]
  },
  {
   "cell_type": "code",
   "execution_count": 40,
   "metadata": {
    "collapsed": true
   },
   "outputs": [
    {
     "name": "stdout",
     "output_type": "stream",
     "text": [
      "[CV] START .....................................................................\n"
     ]
    },
    {
     "name": "stderr",
     "output_type": "stream",
     "text": [
      "[Parallel(n_jobs=1)]: Using backend SequentialBackend with 1 concurrent workers.\n"
     ]
    },
    {
     "name": "stdout",
     "output_type": "stream",
     "text": [
      "Learning rate set to 0.343487\n",
      "0:\tlearn: 3632.4213211\ttotal: 90.8ms\tremaining: 18.1s\n",
      "1:\tlearn: 3010.8074029\ttotal: 115ms\tremaining: 11.4s\n",
      "2:\tlearn: 2641.4511820\ttotal: 138ms\tremaining: 9.07s\n",
      "3:\tlearn: 2429.3148524\ttotal: 160ms\tremaining: 7.85s\n",
      "4:\tlearn: 2292.4619460\ttotal: 182ms\tremaining: 7.08s\n",
      "5:\tlearn: 2194.6608716\ttotal: 205ms\tremaining: 6.63s\n",
      "6:\tlearn: 2129.4369693\ttotal: 225ms\tremaining: 6.21s\n",
      "7:\tlearn: 2072.2018007\ttotal: 248ms\tremaining: 5.96s\n",
      "8:\tlearn: 2039.9631879\ttotal: 268ms\tremaining: 5.68s\n",
      "9:\tlearn: 2003.9038029\ttotal: 289ms\tremaining: 5.49s\n",
      "10:\tlearn: 1978.5875088\ttotal: 310ms\tremaining: 5.32s\n",
      "11:\tlearn: 1960.7722963\ttotal: 329ms\tremaining: 5.16s\n",
      "12:\tlearn: 1946.1377985\ttotal: 351ms\tremaining: 5.05s\n",
      "13:\tlearn: 1934.1751786\ttotal: 372ms\tremaining: 4.94s\n",
      "14:\tlearn: 1922.0161703\ttotal: 392ms\tremaining: 4.83s\n",
      "15:\tlearn: 1909.5745933\ttotal: 411ms\tremaining: 4.73s\n",
      "16:\tlearn: 1891.1811909\ttotal: 434ms\tremaining: 4.67s\n",
      "17:\tlearn: 1881.8947856\ttotal: 456ms\tremaining: 4.61s\n",
      "18:\tlearn: 1875.0794601\ttotal: 478ms\tremaining: 4.55s\n",
      "19:\tlearn: 1868.3901509\ttotal: 501ms\tremaining: 4.5s\n",
      "20:\tlearn: 1859.0441232\ttotal: 526ms\tremaining: 4.49s\n",
      "21:\tlearn: 1852.6165912\ttotal: 548ms\tremaining: 4.43s\n",
      "22:\tlearn: 1843.8076661\ttotal: 570ms\tremaining: 4.39s\n",
      "23:\tlearn: 1838.0650208\ttotal: 592ms\tremaining: 4.34s\n",
      "24:\tlearn: 1830.7761599\ttotal: 618ms\tremaining: 4.33s\n",
      "25:\tlearn: 1826.3504299\ttotal: 648ms\tremaining: 4.34s\n",
      "26:\tlearn: 1818.3664506\ttotal: 671ms\tremaining: 4.3s\n",
      "27:\tlearn: 1811.4604578\ttotal: 695ms\tremaining: 4.27s\n",
      "28:\tlearn: 1805.5371172\ttotal: 720ms\tremaining: 4.24s\n",
      "29:\tlearn: 1799.2388508\ttotal: 743ms\tremaining: 4.21s\n",
      "30:\tlearn: 1796.6474692\ttotal: 765ms\tremaining: 4.17s\n",
      "31:\tlearn: 1790.9644788\ttotal: 787ms\tremaining: 4.13s\n",
      "32:\tlearn: 1787.7817242\ttotal: 811ms\tremaining: 4.1s\n",
      "33:\tlearn: 1782.8468643\ttotal: 831ms\tremaining: 4.06s\n",
      "34:\tlearn: 1778.7073604\ttotal: 853ms\tremaining: 4.02s\n",
      "35:\tlearn: 1776.2501699\ttotal: 873ms\tremaining: 3.98s\n",
      "36:\tlearn: 1773.8450198\ttotal: 894ms\tremaining: 3.94s\n",
      "37:\tlearn: 1770.4982349\ttotal: 916ms\tremaining: 3.9s\n",
      "38:\tlearn: 1767.0266570\ttotal: 938ms\tremaining: 3.87s\n",
      "39:\tlearn: 1763.9560859\ttotal: 961ms\tremaining: 3.84s\n",
      "40:\tlearn: 1760.1598027\ttotal: 986ms\tremaining: 3.83s\n",
      "41:\tlearn: 1756.7072540\ttotal: 1.01s\tremaining: 3.79s\n",
      "42:\tlearn: 1754.8305108\ttotal: 1.03s\tremaining: 3.76s\n",
      "43:\tlearn: 1752.8013664\ttotal: 1.05s\tremaining: 3.73s\n",
      "44:\tlearn: 1749.6420680\ttotal: 1.07s\tremaining: 3.7s\n",
      "45:\tlearn: 1746.2693353\ttotal: 1.1s\tremaining: 3.68s\n",
      "46:\tlearn: 1743.9918425\ttotal: 1.12s\tremaining: 3.65s\n",
      "47:\tlearn: 1740.8399014\ttotal: 1.14s\tremaining: 3.62s\n",
      "48:\tlearn: 1738.3376690\ttotal: 1.17s\tremaining: 3.6s\n",
      "49:\tlearn: 1736.1059361\ttotal: 1.19s\tremaining: 3.56s\n",
      "50:\tlearn: 1733.9504452\ttotal: 1.22s\tremaining: 3.55s\n",
      "51:\tlearn: 1731.4807623\ttotal: 1.24s\tremaining: 3.52s\n",
      "52:\tlearn: 1728.4476107\ttotal: 1.26s\tremaining: 3.5s\n",
      "53:\tlearn: 1726.8116563\ttotal: 1.28s\tremaining: 3.47s\n",
      "54:\tlearn: 1724.8898835\ttotal: 1.31s\tremaining: 3.45s\n",
      "55:\tlearn: 1722.9009697\ttotal: 1.33s\tremaining: 3.43s\n",
      "56:\tlearn: 1720.6107619\ttotal: 1.36s\tremaining: 3.4s\n",
      "57:\tlearn: 1718.6399989\ttotal: 1.38s\tremaining: 3.38s\n",
      "58:\tlearn: 1717.2039999\ttotal: 1.4s\tremaining: 3.35s\n",
      "59:\tlearn: 1715.9830648\ttotal: 1.42s\tremaining: 3.32s\n",
      "60:\tlearn: 1713.0351319\ttotal: 1.44s\tremaining: 3.29s\n",
      "61:\tlearn: 1710.8930064\ttotal: 1.47s\tremaining: 3.26s\n",
      "62:\tlearn: 1709.2111499\ttotal: 1.49s\tremaining: 3.23s\n",
      "63:\tlearn: 1707.6290667\ttotal: 1.51s\tremaining: 3.21s\n",
      "64:\tlearn: 1705.5980700\ttotal: 1.53s\tremaining: 3.18s\n",
      "65:\tlearn: 1703.4920727\ttotal: 1.55s\tremaining: 3.16s\n",
      "66:\tlearn: 1701.9510835\ttotal: 1.57s\tremaining: 3.13s\n",
      "67:\tlearn: 1699.4154994\ttotal: 1.6s\tremaining: 3.1s\n",
      "68:\tlearn: 1697.4008524\ttotal: 1.62s\tremaining: 3.07s\n",
      "69:\tlearn: 1695.9939812\ttotal: 1.64s\tremaining: 3.05s\n",
      "70:\tlearn: 1694.1771727\ttotal: 1.66s\tremaining: 3.02s\n",
      "71:\tlearn: 1692.5391871\ttotal: 1.68s\tremaining: 3s\n",
      "72:\tlearn: 1690.8164076\ttotal: 1.7s\tremaining: 2.96s\n",
      "73:\tlearn: 1689.2009246\ttotal: 1.72s\tremaining: 2.94s\n",
      "74:\tlearn: 1687.5973915\ttotal: 1.75s\tremaining: 2.91s\n",
      "75:\tlearn: 1686.6117139\ttotal: 1.77s\tremaining: 2.88s\n",
      "76:\tlearn: 1684.0619009\ttotal: 1.79s\tremaining: 2.86s\n",
      "77:\tlearn: 1681.9042939\ttotal: 1.81s\tremaining: 2.83s\n",
      "78:\tlearn: 1679.9792794\ttotal: 1.83s\tremaining: 2.81s\n",
      "79:\tlearn: 1678.4109930\ttotal: 1.86s\tremaining: 2.78s\n",
      "80:\tlearn: 1677.5425782\ttotal: 1.88s\tremaining: 2.76s\n",
      "81:\tlearn: 1676.4687904\ttotal: 1.9s\tremaining: 2.73s\n",
      "82:\tlearn: 1675.6183094\ttotal: 1.92s\tremaining: 2.71s\n",
      "83:\tlearn: 1673.9160662\ttotal: 1.94s\tremaining: 2.68s\n",
      "84:\tlearn: 1672.9906842\ttotal: 1.97s\tremaining: 2.66s\n",
      "85:\tlearn: 1671.4970832\ttotal: 1.99s\tremaining: 2.63s\n",
      "86:\tlearn: 1670.5746676\ttotal: 2.01s\tremaining: 2.61s\n",
      "87:\tlearn: 1669.6131203\ttotal: 2.03s\tremaining: 2.58s\n",
      "88:\tlearn: 1668.4353764\ttotal: 2.05s\tremaining: 2.56s\n",
      "89:\tlearn: 1667.0325237\ttotal: 2.08s\tremaining: 2.54s\n",
      "90:\tlearn: 1665.9051479\ttotal: 2.1s\tremaining: 2.52s\n",
      "91:\tlearn: 1664.5367469\ttotal: 2.12s\tremaining: 2.49s\n",
      "92:\tlearn: 1663.6393295\ttotal: 2.14s\tremaining: 2.46s\n",
      "93:\tlearn: 1662.1888295\ttotal: 2.16s\tremaining: 2.44s\n",
      "94:\tlearn: 1660.6372782\ttotal: 2.19s\tremaining: 2.42s\n",
      "95:\tlearn: 1658.5838559\ttotal: 2.21s\tremaining: 2.39s\n",
      "96:\tlearn: 1657.9809435\ttotal: 2.23s\tremaining: 2.37s\n",
      "97:\tlearn: 1656.6956651\ttotal: 2.25s\tremaining: 2.34s\n",
      "98:\tlearn: 1655.3553062\ttotal: 2.27s\tremaining: 2.32s\n",
      "99:\tlearn: 1654.5662001\ttotal: 2.29s\tremaining: 2.29s\n",
      "100:\tlearn: 1653.0758230\ttotal: 2.31s\tremaining: 2.27s\n",
      "101:\tlearn: 1652.1727801\ttotal: 2.33s\tremaining: 2.24s\n",
      "102:\tlearn: 1651.2367979\ttotal: 2.36s\tremaining: 2.22s\n",
      "103:\tlearn: 1650.2965533\ttotal: 2.38s\tremaining: 2.2s\n",
      "104:\tlearn: 1649.0885315\ttotal: 2.4s\tremaining: 2.17s\n",
      "105:\tlearn: 1647.5099606\ttotal: 2.42s\tremaining: 2.15s\n",
      "106:\tlearn: 1646.3952175\ttotal: 2.45s\tremaining: 2.13s\n",
      "107:\tlearn: 1644.8487437\ttotal: 2.47s\tremaining: 2.1s\n",
      "108:\tlearn: 1643.3072961\ttotal: 2.5s\tremaining: 2.08s\n",
      "109:\tlearn: 1642.1606397\ttotal: 2.52s\tremaining: 2.06s\n",
      "110:\tlearn: 1641.3373626\ttotal: 2.54s\tremaining: 2.04s\n",
      "111:\tlearn: 1639.3634725\ttotal: 2.56s\tremaining: 2.01s\n",
      "112:\tlearn: 1638.2215811\ttotal: 2.58s\tremaining: 1.99s\n",
      "113:\tlearn: 1636.7210093\ttotal: 2.61s\tremaining: 1.97s\n",
      "114:\tlearn: 1635.7960125\ttotal: 2.63s\tremaining: 1.95s\n",
      "115:\tlearn: 1634.6937491\ttotal: 2.66s\tremaining: 1.92s\n",
      "116:\tlearn: 1633.3156494\ttotal: 2.68s\tremaining: 1.9s\n",
      "117:\tlearn: 1631.9418198\ttotal: 2.7s\tremaining: 1.88s\n",
      "118:\tlearn: 1631.0209643\ttotal: 2.72s\tremaining: 1.85s\n",
      "119:\tlearn: 1630.5109096\ttotal: 2.74s\tremaining: 1.83s\n",
      "120:\tlearn: 1629.3513929\ttotal: 2.76s\tremaining: 1.8s\n",
      "121:\tlearn: 1628.9555660\ttotal: 2.78s\tremaining: 1.78s\n",
      "122:\tlearn: 1627.7782518\ttotal: 2.81s\tremaining: 1.76s\n",
      "123:\tlearn: 1626.6284064\ttotal: 2.83s\tremaining: 1.74s\n",
      "124:\tlearn: 1625.6406296\ttotal: 2.85s\tremaining: 1.71s\n",
      "125:\tlearn: 1624.9052621\ttotal: 2.87s\tremaining: 1.69s\n",
      "126:\tlearn: 1624.3062571\ttotal: 2.89s\tremaining: 1.66s\n",
      "127:\tlearn: 1623.3305979\ttotal: 2.92s\tremaining: 1.64s\n",
      "128:\tlearn: 1622.0641373\ttotal: 2.94s\tremaining: 1.62s\n",
      "129:\tlearn: 1620.8518465\ttotal: 2.96s\tremaining: 1.59s\n",
      "130:\tlearn: 1619.7363697\ttotal: 2.99s\tremaining: 1.57s\n",
      "131:\tlearn: 1618.5815395\ttotal: 3.01s\tremaining: 1.55s\n",
      "132:\tlearn: 1617.8704769\ttotal: 3.03s\tremaining: 1.53s\n",
      "133:\tlearn: 1617.2660679\ttotal: 3.05s\tremaining: 1.5s\n",
      "134:\tlearn: 1616.4634093\ttotal: 3.08s\tremaining: 1.48s\n",
      "135:\tlearn: 1615.1856746\ttotal: 3.1s\tremaining: 1.46s\n",
      "136:\tlearn: 1614.2869080\ttotal: 3.13s\tremaining: 1.44s\n",
      "137:\tlearn: 1613.0146676\ttotal: 3.15s\tremaining: 1.41s\n",
      "138:\tlearn: 1611.7482433\ttotal: 3.17s\tremaining: 1.39s\n",
      "139:\tlearn: 1610.8812231\ttotal: 3.19s\tremaining: 1.37s\n",
      "140:\tlearn: 1610.1834208\ttotal: 3.22s\tremaining: 1.35s\n",
      "141:\tlearn: 1609.4657957\ttotal: 3.24s\tremaining: 1.32s\n",
      "142:\tlearn: 1608.2749692\ttotal: 3.26s\tremaining: 1.3s\n",
      "143:\tlearn: 1607.7857590\ttotal: 3.28s\tremaining: 1.27s\n",
      "144:\tlearn: 1607.2057452\ttotal: 3.3s\tremaining: 1.25s\n",
      "145:\tlearn: 1606.8076902\ttotal: 3.32s\tremaining: 1.23s\n",
      "146:\tlearn: 1605.9428123\ttotal: 3.34s\tremaining: 1.21s\n",
      "147:\tlearn: 1605.0043552\ttotal: 3.37s\tremaining: 1.18s\n",
      "148:\tlearn: 1604.4486501\ttotal: 3.39s\tremaining: 1.16s\n",
      "149:\tlearn: 1603.4166164\ttotal: 3.41s\tremaining: 1.14s\n",
      "150:\tlearn: 1602.5102439\ttotal: 3.43s\tremaining: 1.11s\n",
      "151:\tlearn: 1601.8833107\ttotal: 3.46s\tremaining: 1.09s\n",
      "152:\tlearn: 1601.2770570\ttotal: 3.48s\tremaining: 1.07s\n",
      "153:\tlearn: 1600.8823647\ttotal: 3.5s\tremaining: 1.04s\n",
      "154:\tlearn: 1600.3391939\ttotal: 3.52s\tremaining: 1.02s\n",
      "155:\tlearn: 1599.6016974\ttotal: 3.54s\tremaining: 999ms\n",
      "156:\tlearn: 1598.6997326\ttotal: 3.56s\tremaining: 976ms\n",
      "157:\tlearn: 1597.5410430\ttotal: 3.59s\tremaining: 953ms\n",
      "158:\tlearn: 1596.5598842\ttotal: 3.61s\tremaining: 931ms\n",
      "159:\tlearn: 1596.1945225\ttotal: 3.63s\tremaining: 908ms\n",
      "160:\tlearn: 1595.2773167\ttotal: 3.65s\tremaining: 885ms\n",
      "161:\tlearn: 1594.4601426\ttotal: 3.67s\tremaining: 862ms\n",
      "162:\tlearn: 1594.0488676\ttotal: 3.69s\tremaining: 839ms\n",
      "163:\tlearn: 1593.1812663\ttotal: 3.72s\tremaining: 816ms\n",
      "164:\tlearn: 1592.2398426\ttotal: 3.74s\tremaining: 794ms\n",
      "165:\tlearn: 1591.3711508\ttotal: 3.76s\tremaining: 771ms\n",
      "166:\tlearn: 1590.8618499\ttotal: 3.79s\tremaining: 748ms\n",
      "167:\tlearn: 1590.2527972\ttotal: 3.81s\tremaining: 725ms\n",
      "168:\tlearn: 1589.4365268\ttotal: 3.83s\tremaining: 702ms\n",
      "169:\tlearn: 1588.6136447\ttotal: 3.85s\tremaining: 680ms\n",
      "170:\tlearn: 1587.9702069\ttotal: 3.87s\tremaining: 657ms\n",
      "171:\tlearn: 1587.2297206\ttotal: 3.89s\tremaining: 634ms\n",
      "172:\tlearn: 1586.7731575\ttotal: 3.92s\tremaining: 611ms\n",
      "173:\tlearn: 1586.3346739\ttotal: 3.94s\tremaining: 588ms\n",
      "174:\tlearn: 1585.5293453\ttotal: 3.96s\tremaining: 565ms\n",
      "175:\tlearn: 1584.3604314\ttotal: 3.98s\tremaining: 543ms\n",
      "176:\tlearn: 1584.1425543\ttotal: 4s\tremaining: 520ms\n",
      "177:\tlearn: 1583.5247245\ttotal: 4.02s\tremaining: 497ms\n",
      "178:\tlearn: 1582.6691223\ttotal: 4.04s\tremaining: 475ms\n",
      "179:\tlearn: 1582.2776566\ttotal: 4.07s\tremaining: 452ms\n",
      "180:\tlearn: 1581.1028256\ttotal: 4.09s\tremaining: 429ms\n",
      "181:\tlearn: 1580.5787038\ttotal: 4.11s\tremaining: 406ms\n",
      "182:\tlearn: 1579.6922693\ttotal: 4.13s\tremaining: 384ms\n",
      "183:\tlearn: 1579.2471544\ttotal: 4.15s\tremaining: 361ms\n",
      "184:\tlearn: 1578.6639122\ttotal: 4.18s\tremaining: 339ms\n",
      "185:\tlearn: 1577.8914629\ttotal: 4.2s\tremaining: 316ms\n",
      "186:\tlearn: 1577.2965580\ttotal: 4.22s\tremaining: 294ms\n",
      "187:\tlearn: 1577.0117112\ttotal: 4.25s\tremaining: 271ms\n",
      "188:\tlearn: 1576.3507026\ttotal: 4.27s\tremaining: 249ms\n",
      "189:\tlearn: 1575.8626911\ttotal: 4.3s\tremaining: 226ms\n",
      "190:\tlearn: 1575.1787843\ttotal: 4.32s\tremaining: 204ms\n",
      "191:\tlearn: 1574.7626012\ttotal: 4.34s\tremaining: 181ms\n",
      "192:\tlearn: 1573.9600761\ttotal: 4.37s\tremaining: 158ms\n",
      "193:\tlearn: 1573.3806955\ttotal: 4.39s\tremaining: 136ms\n",
      "194:\tlearn: 1572.7926306\ttotal: 4.41s\tremaining: 113ms\n",
      "195:\tlearn: 1572.1269536\ttotal: 4.43s\tremaining: 90.5ms\n",
      "196:\tlearn: 1571.3248749\ttotal: 4.46s\tremaining: 67.9ms\n",
      "197:\tlearn: 1570.6066914\ttotal: 4.48s\tremaining: 45.2ms\n",
      "198:\tlearn: 1569.6043870\ttotal: 4.5s\tremaining: 22.6ms\n",
      "199:\tlearn: 1569.1061990\ttotal: 4.52s\tremaining: 0us\n",
      "[CV] END ............................ score: (test=-1614.561) total time=   5.6s\n",
      "[CV] START .....................................................................\n",
      "Learning rate set to 0.343487\n"
     ]
    },
    {
     "name": "stderr",
     "output_type": "stream",
     "text": [
      "[Parallel(n_jobs=1)]: Done   1 out of   1 | elapsed:    5.6s remaining:    0.0s\n"
     ]
    },
    {
     "name": "stdout",
     "output_type": "stream",
     "text": [
      "0:\tlearn: 3624.6574026\ttotal: 21.8ms\tremaining: 4.35s\n",
      "1:\tlearn: 3024.5314310\ttotal: 44.9ms\tremaining: 4.45s\n",
      "2:\tlearn: 2643.7923845\ttotal: 68ms\tremaining: 4.46s\n",
      "3:\tlearn: 2431.0234635\ttotal: 89.2ms\tremaining: 4.37s\n",
      "4:\tlearn: 2294.2696952\ttotal: 110ms\tremaining: 4.3s\n",
      "5:\tlearn: 2199.8794370\ttotal: 132ms\tremaining: 4.27s\n",
      "6:\tlearn: 2133.8979388\ttotal: 154ms\tremaining: 4.25s\n",
      "7:\tlearn: 2091.0384331\ttotal: 175ms\tremaining: 4.19s\n",
      "8:\tlearn: 2050.5710067\ttotal: 196ms\tremaining: 4.16s\n",
      "9:\tlearn: 2021.2524237\ttotal: 216ms\tremaining: 4.11s\n",
      "10:\tlearn: 1991.6448441\ttotal: 239ms\tremaining: 4.11s\n",
      "11:\tlearn: 1968.3842349\ttotal: 263ms\tremaining: 4.12s\n",
      "12:\tlearn: 1950.1143817\ttotal: 285ms\tremaining: 4.1s\n",
      "13:\tlearn: 1933.4757888\ttotal: 307ms\tremaining: 4.08s\n",
      "14:\tlearn: 1913.5856379\ttotal: 330ms\tremaining: 4.07s\n",
      "15:\tlearn: 1906.1921207\ttotal: 351ms\tremaining: 4.03s\n",
      "16:\tlearn: 1889.4159144\ttotal: 374ms\tremaining: 4.02s\n",
      "17:\tlearn: 1881.7322011\ttotal: 396ms\tremaining: 4s\n",
      "18:\tlearn: 1874.5032841\ttotal: 418ms\tremaining: 3.98s\n",
      "19:\tlearn: 1867.3273865\ttotal: 441ms\tremaining: 3.97s\n",
      "20:\tlearn: 1859.6943001\ttotal: 463ms\tremaining: 3.95s\n",
      "21:\tlearn: 1851.3027727\ttotal: 487ms\tremaining: 3.94s\n",
      "22:\tlearn: 1844.7266365\ttotal: 511ms\tremaining: 3.93s\n",
      "23:\tlearn: 1831.9605853\ttotal: 535ms\tremaining: 3.92s\n",
      "24:\tlearn: 1824.9169882\ttotal: 557ms\tremaining: 3.9s\n",
      "25:\tlearn: 1817.6298759\ttotal: 579ms\tremaining: 3.87s\n",
      "26:\tlearn: 1811.0540916\ttotal: 603ms\tremaining: 3.86s\n",
      "27:\tlearn: 1804.0517126\ttotal: 624ms\tremaining: 3.84s\n",
      "28:\tlearn: 1798.1695034\ttotal: 649ms\tremaining: 3.83s\n",
      "29:\tlearn: 1791.9893458\ttotal: 671ms\tremaining: 3.8s\n",
      "30:\tlearn: 1788.9409557\ttotal: 691ms\tremaining: 3.77s\n",
      "31:\tlearn: 1783.9738183\ttotal: 713ms\tremaining: 3.75s\n",
      "32:\tlearn: 1780.6920980\ttotal: 734ms\tremaining: 3.71s\n",
      "33:\tlearn: 1777.6047814\ttotal: 757ms\tremaining: 3.7s\n",
      "34:\tlearn: 1774.1751664\ttotal: 778ms\tremaining: 3.67s\n",
      "35:\tlearn: 1770.8698903\ttotal: 798ms\tremaining: 3.64s\n",
      "36:\tlearn: 1767.6276902\ttotal: 821ms\tremaining: 3.62s\n",
      "37:\tlearn: 1764.5561252\ttotal: 844ms\tremaining: 3.6s\n",
      "38:\tlearn: 1760.8014337\ttotal: 869ms\tremaining: 3.58s\n",
      "39:\tlearn: 1758.2763798\ttotal: 891ms\tremaining: 3.56s\n",
      "40:\tlearn: 1754.6569960\ttotal: 920ms\tremaining: 3.57s\n",
      "41:\tlearn: 1750.6725968\ttotal: 944ms\tremaining: 3.55s\n",
      "42:\tlearn: 1746.1483532\ttotal: 973ms\tremaining: 3.55s\n",
      "43:\tlearn: 1744.1437205\ttotal: 997ms\tremaining: 3.54s\n",
      "44:\tlearn: 1740.8108078\ttotal: 1.02s\tremaining: 3.52s\n",
      "45:\tlearn: 1736.2080543\ttotal: 1.05s\tremaining: 3.5s\n",
      "46:\tlearn: 1733.4357599\ttotal: 1.07s\tremaining: 3.48s\n",
      "47:\tlearn: 1731.6007875\ttotal: 1.09s\tremaining: 3.46s\n",
      "48:\tlearn: 1730.1631293\ttotal: 1.11s\tremaining: 3.43s\n",
      "49:\tlearn: 1728.0216745\ttotal: 1.14s\tremaining: 3.4s\n",
      "50:\tlearn: 1724.4948165\ttotal: 1.16s\tremaining: 3.39s\n",
      "51:\tlearn: 1722.6298995\ttotal: 1.19s\tremaining: 3.37s\n",
      "52:\tlearn: 1720.2662245\ttotal: 1.21s\tremaining: 3.35s\n",
      "53:\tlearn: 1717.4975224\ttotal: 1.23s\tremaining: 3.33s\n",
      "54:\tlearn: 1715.5228880\ttotal: 1.26s\tremaining: 3.32s\n",
      "55:\tlearn: 1714.0960821\ttotal: 1.28s\tremaining: 3.3s\n",
      "56:\tlearn: 1712.0183986\ttotal: 1.31s\tremaining: 3.28s\n",
      "57:\tlearn: 1709.4371135\ttotal: 1.33s\tremaining: 3.26s\n",
      "58:\tlearn: 1708.0522203\ttotal: 1.35s\tremaining: 3.23s\n",
      "59:\tlearn: 1706.0733059\ttotal: 1.38s\tremaining: 3.21s\n",
      "60:\tlearn: 1704.8204892\ttotal: 1.4s\tremaining: 3.19s\n",
      "61:\tlearn: 1702.4751001\ttotal: 1.42s\tremaining: 3.17s\n",
      "62:\tlearn: 1699.7550224\ttotal: 1.45s\tremaining: 3.15s\n",
      "63:\tlearn: 1697.8122346\ttotal: 1.47s\tremaining: 3.13s\n",
      "64:\tlearn: 1695.8460710\ttotal: 1.5s\tremaining: 3.11s\n",
      "65:\tlearn: 1693.9449261\ttotal: 1.52s\tremaining: 3.09s\n",
      "66:\tlearn: 1692.2667056\ttotal: 1.54s\tremaining: 3.06s\n",
      "67:\tlearn: 1691.1007793\ttotal: 1.56s\tremaining: 3.04s\n",
      "68:\tlearn: 1689.6097453\ttotal: 1.59s\tremaining: 3.01s\n",
      "69:\tlearn: 1687.4543333\ttotal: 1.61s\tremaining: 2.99s\n",
      "70:\tlearn: 1685.8736289\ttotal: 1.63s\tremaining: 2.97s\n",
      "71:\tlearn: 1684.1020875\ttotal: 1.66s\tremaining: 2.94s\n",
      "72:\tlearn: 1682.8451977\ttotal: 1.68s\tremaining: 2.92s\n",
      "73:\tlearn: 1679.8275675\ttotal: 1.7s\tremaining: 2.9s\n",
      "74:\tlearn: 1678.4485212\ttotal: 1.72s\tremaining: 2.87s\n",
      "75:\tlearn: 1676.4549106\ttotal: 1.75s\tremaining: 2.85s\n",
      "76:\tlearn: 1675.1289178\ttotal: 1.77s\tremaining: 2.82s\n",
      "77:\tlearn: 1673.7546168\ttotal: 1.79s\tremaining: 2.8s\n",
      "78:\tlearn: 1671.8798664\ttotal: 1.81s\tremaining: 2.77s\n",
      "79:\tlearn: 1669.8746548\ttotal: 1.83s\tremaining: 2.75s\n",
      "80:\tlearn: 1668.8227166\ttotal: 1.86s\tremaining: 2.73s\n",
      "81:\tlearn: 1666.6393141\ttotal: 1.88s\tremaining: 2.71s\n",
      "82:\tlearn: 1664.4234841\ttotal: 1.91s\tremaining: 2.69s\n",
      "83:\tlearn: 1662.4469569\ttotal: 1.93s\tremaining: 2.67s\n",
      "84:\tlearn: 1660.7221023\ttotal: 1.95s\tremaining: 2.64s\n",
      "85:\tlearn: 1659.1833035\ttotal: 1.98s\tremaining: 2.62s\n",
      "86:\tlearn: 1658.0342288\ttotal: 2s\tremaining: 2.6s\n",
      "87:\tlearn: 1656.9809266\ttotal: 2.02s\tremaining: 2.57s\n",
      "88:\tlearn: 1656.2470920\ttotal: 2.04s\tremaining: 2.54s\n",
      "89:\tlearn: 1654.9927299\ttotal: 2.06s\tremaining: 2.52s\n",
      "90:\tlearn: 1653.9586710\ttotal: 2.08s\tremaining: 2.5s\n",
      "91:\tlearn: 1652.4754141\ttotal: 2.11s\tremaining: 2.47s\n",
      "92:\tlearn: 1651.2489874\ttotal: 2.13s\tremaining: 2.45s\n",
      "93:\tlearn: 1649.8353367\ttotal: 2.15s\tremaining: 2.43s\n",
      "94:\tlearn: 1648.8742004\ttotal: 2.17s\tremaining: 2.4s\n",
      "95:\tlearn: 1648.0251543\ttotal: 2.19s\tremaining: 2.38s\n",
      "96:\tlearn: 1647.0349511\ttotal: 2.21s\tremaining: 2.35s\n",
      "97:\tlearn: 1645.6759838\ttotal: 2.24s\tremaining: 2.33s\n",
      "98:\tlearn: 1644.4632465\ttotal: 2.26s\tremaining: 2.31s\n",
      "99:\tlearn: 1643.5687193\ttotal: 2.28s\tremaining: 2.28s\n",
      "100:\tlearn: 1641.5624841\ttotal: 2.31s\tremaining: 2.26s\n",
      "101:\tlearn: 1640.7119621\ttotal: 2.33s\tremaining: 2.24s\n",
      "102:\tlearn: 1639.9822798\ttotal: 2.35s\tremaining: 2.21s\n",
      "103:\tlearn: 1639.2233960\ttotal: 2.37s\tremaining: 2.19s\n",
      "104:\tlearn: 1638.2730153\ttotal: 2.39s\tremaining: 2.16s\n",
      "105:\tlearn: 1637.4340448\ttotal: 2.41s\tremaining: 2.14s\n",
      "106:\tlearn: 1636.6644896\ttotal: 2.44s\tremaining: 2.12s\n",
      "107:\tlearn: 1634.4469801\ttotal: 2.46s\tremaining: 2.09s\n",
      "108:\tlearn: 1633.3280459\ttotal: 2.48s\tremaining: 2.08s\n",
      "109:\tlearn: 1632.7280232\ttotal: 2.51s\tremaining: 2.05s\n",
      "110:\tlearn: 1630.7625419\ttotal: 2.54s\tremaining: 2.03s\n",
      "111:\tlearn: 1629.6486175\ttotal: 2.56s\tremaining: 2.01s\n",
      "112:\tlearn: 1629.0346561\ttotal: 2.58s\tremaining: 1.99s\n",
      "113:\tlearn: 1627.1232618\ttotal: 2.6s\tremaining: 1.96s\n",
      "114:\tlearn: 1626.5182315\ttotal: 2.62s\tremaining: 1.94s\n",
      "115:\tlearn: 1625.5088228\ttotal: 2.64s\tremaining: 1.91s\n",
      "116:\tlearn: 1624.0800842\ttotal: 2.66s\tremaining: 1.89s\n",
      "117:\tlearn: 1622.9111921\ttotal: 2.69s\tremaining: 1.87s\n",
      "118:\tlearn: 1621.9496336\ttotal: 2.71s\tremaining: 1.84s\n",
      "119:\tlearn: 1620.5960572\ttotal: 2.73s\tremaining: 1.82s\n",
      "120:\tlearn: 1619.7910820\ttotal: 2.75s\tremaining: 1.79s\n",
      "121:\tlearn: 1618.7395755\ttotal: 2.77s\tremaining: 1.77s\n",
      "122:\tlearn: 1617.0962068\ttotal: 2.79s\tremaining: 1.75s\n",
      "123:\tlearn: 1615.8014282\ttotal: 2.82s\tremaining: 1.73s\n",
      "124:\tlearn: 1614.8410162\ttotal: 2.84s\tremaining: 1.7s\n",
      "125:\tlearn: 1613.5639451\ttotal: 2.86s\tremaining: 1.68s\n",
      "126:\tlearn: 1612.8494387\ttotal: 2.88s\tremaining: 1.66s\n",
      "127:\tlearn: 1611.5848641\ttotal: 2.9s\tremaining: 1.63s\n",
      "128:\tlearn: 1610.9333241\ttotal: 2.93s\tremaining: 1.61s\n",
      "129:\tlearn: 1610.0707973\ttotal: 2.95s\tremaining: 1.59s\n",
      "130:\tlearn: 1609.1699354\ttotal: 2.97s\tremaining: 1.56s\n",
      "131:\tlearn: 1608.4691822\ttotal: 3s\tremaining: 1.54s\n",
      "132:\tlearn: 1607.6128032\ttotal: 3.02s\tremaining: 1.52s\n",
      "133:\tlearn: 1606.6333880\ttotal: 3.04s\tremaining: 1.5s\n",
      "134:\tlearn: 1605.6697300\ttotal: 3.06s\tremaining: 1.47s\n",
      "135:\tlearn: 1604.8234294\ttotal: 3.08s\tremaining: 1.45s\n",
      "136:\tlearn: 1603.8972662\ttotal: 3.1s\tremaining: 1.43s\n",
      "137:\tlearn: 1603.1382462\ttotal: 3.12s\tremaining: 1.4s\n",
      "138:\tlearn: 1602.5291340\ttotal: 3.14s\tremaining: 1.38s\n",
      "139:\tlearn: 1602.1414296\ttotal: 3.16s\tremaining: 1.36s\n",
      "140:\tlearn: 1601.5142600\ttotal: 3.19s\tremaining: 1.33s\n",
      "141:\tlearn: 1600.0412241\ttotal: 3.21s\tremaining: 1.31s\n",
      "142:\tlearn: 1599.3297448\ttotal: 3.23s\tremaining: 1.29s\n",
      "143:\tlearn: 1598.7739450\ttotal: 3.25s\tremaining: 1.26s\n",
      "144:\tlearn: 1597.9882583\ttotal: 3.28s\tremaining: 1.24s\n",
      "145:\tlearn: 1597.1397918\ttotal: 3.3s\tremaining: 1.22s\n",
      "146:\tlearn: 1596.0651051\ttotal: 3.32s\tremaining: 1.2s\n",
      "147:\tlearn: 1595.1087455\ttotal: 3.34s\tremaining: 1.17s\n",
      "148:\tlearn: 1594.7093886\ttotal: 3.37s\tremaining: 1.15s\n",
      "149:\tlearn: 1593.8599962\ttotal: 3.39s\tremaining: 1.13s\n",
      "150:\tlearn: 1593.1765892\ttotal: 3.42s\tremaining: 1.11s\n",
      "151:\tlearn: 1592.0346959\ttotal: 3.45s\tremaining: 1.09s\n",
      "152:\tlearn: 1591.5872209\ttotal: 3.48s\tremaining: 1.07s\n",
      "153:\tlearn: 1591.0362318\ttotal: 3.51s\tremaining: 1.05s\n",
      "154:\tlearn: 1590.2813730\ttotal: 3.54s\tremaining: 1.03s\n",
      "155:\tlearn: 1589.5075323\ttotal: 3.57s\tremaining: 1.01s\n",
      "156:\tlearn: 1588.6836518\ttotal: 3.6s\tremaining: 985ms\n",
      "157:\tlearn: 1588.0623557\ttotal: 3.62s\tremaining: 963ms\n",
      "158:\tlearn: 1587.2791170\ttotal: 3.65s\tremaining: 941ms\n",
      "159:\tlearn: 1586.5749187\ttotal: 3.67s\tremaining: 918ms\n",
      "160:\tlearn: 1585.9220768\ttotal: 3.69s\tremaining: 895ms\n",
      "161:\tlearn: 1584.6621114\ttotal: 3.72s\tremaining: 872ms\n",
      "162:\tlearn: 1584.0734313\ttotal: 3.74s\tremaining: 849ms\n",
      "163:\tlearn: 1583.0985743\ttotal: 3.76s\tremaining: 826ms\n",
      "164:\tlearn: 1582.2919758\ttotal: 3.78s\tremaining: 803ms\n",
      "165:\tlearn: 1581.4863281\ttotal: 3.81s\tremaining: 781ms\n",
      "166:\tlearn: 1580.7417868\ttotal: 3.83s\tremaining: 758ms\n",
      "167:\tlearn: 1580.2556442\ttotal: 3.86s\tremaining: 735ms\n",
      "168:\tlearn: 1579.7129164\ttotal: 3.88s\tremaining: 712ms\n",
      "169:\tlearn: 1579.3800768\ttotal: 3.9s\tremaining: 689ms\n",
      "170:\tlearn: 1578.7236020\ttotal: 3.92s\tremaining: 666ms\n",
      "171:\tlearn: 1578.0690280\ttotal: 3.95s\tremaining: 643ms\n",
      "172:\tlearn: 1577.4238632\ttotal: 3.97s\tremaining: 620ms\n",
      "173:\tlearn: 1576.7718060\ttotal: 4s\tremaining: 597ms\n",
      "174:\tlearn: 1576.0434355\ttotal: 4.02s\tremaining: 574ms\n",
      "175:\tlearn: 1575.5767266\ttotal: 4.04s\tremaining: 551ms\n",
      "176:\tlearn: 1574.9946219\ttotal: 4.06s\tremaining: 528ms\n",
      "177:\tlearn: 1574.0251939\ttotal: 4.08s\tremaining: 505ms\n",
      "178:\tlearn: 1573.3001832\ttotal: 4.1s\tremaining: 482ms\n",
      "179:\tlearn: 1572.5494865\ttotal: 4.13s\tremaining: 458ms\n",
      "180:\tlearn: 1571.6560640\ttotal: 4.15s\tremaining: 436ms\n",
      "181:\tlearn: 1570.6142704\ttotal: 4.17s\tremaining: 413ms\n",
      "182:\tlearn: 1570.1960925\ttotal: 4.2s\tremaining: 390ms\n",
      "183:\tlearn: 1569.7114106\ttotal: 4.22s\tremaining: 367ms\n",
      "184:\tlearn: 1569.0699414\ttotal: 4.24s\tremaining: 344ms\n",
      "185:\tlearn: 1568.5485502\ttotal: 4.26s\tremaining: 321ms\n",
      "186:\tlearn: 1567.6873342\ttotal: 4.29s\tremaining: 298ms\n",
      "187:\tlearn: 1567.2263079\ttotal: 4.31s\tremaining: 275ms\n",
      "188:\tlearn: 1566.5617664\ttotal: 4.33s\tremaining: 252ms\n",
      "189:\tlearn: 1565.9581872\ttotal: 4.36s\tremaining: 229ms\n",
      "190:\tlearn: 1565.4959201\ttotal: 4.38s\tremaining: 206ms\n",
      "191:\tlearn: 1564.8032562\ttotal: 4.41s\tremaining: 184ms\n",
      "192:\tlearn: 1564.0274811\ttotal: 4.43s\tremaining: 161ms\n",
      "193:\tlearn: 1563.4953989\ttotal: 4.45s\tremaining: 138ms\n",
      "194:\tlearn: 1562.8314311\ttotal: 4.47s\tremaining: 115ms\n",
      "195:\tlearn: 1562.5346750\ttotal: 4.49s\tremaining: 91.7ms\n",
      "196:\tlearn: 1561.9756096\ttotal: 4.52s\tremaining: 68.8ms\n",
      "197:\tlearn: 1561.2474462\ttotal: 4.54s\tremaining: 45.9ms\n",
      "198:\tlearn: 1560.0973465\ttotal: 4.57s\tremaining: 23ms\n",
      "199:\tlearn: 1559.5285383\ttotal: 4.59s\tremaining: 0us\n",
      "[CV] END ............................ score: (test=-1656.190) total time=   5.2s\n",
      "[CV] START .....................................................................\n",
      "Learning rate set to 0.343487\n"
     ]
    },
    {
     "name": "stderr",
     "output_type": "stream",
     "text": [
      "[Parallel(n_jobs=1)]: Done   2 out of   2 | elapsed:   10.8s remaining:    0.0s\n"
     ]
    },
    {
     "name": "stdout",
     "output_type": "stream",
     "text": [
      "0:\tlearn: 3641.3487675\ttotal: 22.5ms\tremaining: 4.48s\n",
      "1:\tlearn: 3021.7240350\ttotal: 46.2ms\tremaining: 4.58s\n",
      "2:\tlearn: 2658.1084770\ttotal: 70.1ms\tremaining: 4.6s\n",
      "3:\tlearn: 2442.6176205\ttotal: 91.5ms\tremaining: 4.49s\n",
      "4:\tlearn: 2295.5962927\ttotal: 113ms\tremaining: 4.42s\n",
      "5:\tlearn: 2205.1770110\ttotal: 135ms\tremaining: 4.36s\n",
      "6:\tlearn: 2140.5446061\ttotal: 156ms\tremaining: 4.31s\n",
      "7:\tlearn: 2100.7159711\ttotal: 177ms\tremaining: 4.25s\n",
      "8:\tlearn: 2064.7128995\ttotal: 198ms\tremaining: 4.2s\n",
      "9:\tlearn: 2041.3301994\ttotal: 218ms\tremaining: 4.14s\n",
      "10:\tlearn: 2011.0668033\ttotal: 240ms\tremaining: 4.12s\n",
      "11:\tlearn: 1992.9742649\ttotal: 261ms\tremaining: 4.08s\n",
      "12:\tlearn: 1956.0408654\ttotal: 285ms\tremaining: 4.11s\n",
      "13:\tlearn: 1942.1789903\ttotal: 306ms\tremaining: 4.06s\n",
      "14:\tlearn: 1927.1121384\ttotal: 325ms\tremaining: 4.01s\n",
      "15:\tlearn: 1917.5166554\ttotal: 345ms\tremaining: 3.97s\n",
      "16:\tlearn: 1901.6269625\ttotal: 366ms\tremaining: 3.94s\n",
      "17:\tlearn: 1891.5362385\ttotal: 386ms\tremaining: 3.9s\n",
      "18:\tlearn: 1876.3030976\ttotal: 409ms\tremaining: 3.9s\n",
      "19:\tlearn: 1863.8488503\ttotal: 429ms\tremaining: 3.86s\n",
      "20:\tlearn: 1854.1394214\ttotal: 449ms\tremaining: 3.83s\n",
      "21:\tlearn: 1846.3304394\ttotal: 472ms\tremaining: 3.82s\n",
      "22:\tlearn: 1839.7900768\ttotal: 492ms\tremaining: 3.79s\n",
      "23:\tlearn: 1835.3238434\ttotal: 514ms\tremaining: 3.77s\n",
      "24:\tlearn: 1830.7921203\ttotal: 534ms\tremaining: 3.74s\n",
      "25:\tlearn: 1827.7194355\ttotal: 554ms\tremaining: 3.71s\n",
      "26:\tlearn: 1821.8189623\ttotal: 576ms\tremaining: 3.69s\n",
      "27:\tlearn: 1815.4313354\ttotal: 597ms\tremaining: 3.67s\n",
      "28:\tlearn: 1809.2715417\ttotal: 620ms\tremaining: 3.65s\n",
      "29:\tlearn: 1806.4243540\ttotal: 642ms\tremaining: 3.64s\n",
      "30:\tlearn: 1801.0159127\ttotal: 663ms\tremaining: 3.62s\n",
      "31:\tlearn: 1796.3946668\ttotal: 684ms\tremaining: 3.59s\n",
      "32:\tlearn: 1791.4262352\ttotal: 708ms\tremaining: 3.58s\n",
      "33:\tlearn: 1787.7557388\ttotal: 729ms\tremaining: 3.56s\n",
      "34:\tlearn: 1781.1891446\ttotal: 752ms\tremaining: 3.54s\n",
      "35:\tlearn: 1777.1619573\ttotal: 771ms\tremaining: 3.51s\n",
      "36:\tlearn: 1774.6856899\ttotal: 792ms\tremaining: 3.49s\n",
      "37:\tlearn: 1770.4520973\ttotal: 814ms\tremaining: 3.47s\n",
      "38:\tlearn: 1768.4416425\ttotal: 836ms\tremaining: 3.45s\n",
      "39:\tlearn: 1765.1468906\ttotal: 869ms\tremaining: 3.47s\n",
      "40:\tlearn: 1761.0971143\ttotal: 891ms\tremaining: 3.45s\n",
      "41:\tlearn: 1756.0431211\ttotal: 913ms\tremaining: 3.43s\n",
      "42:\tlearn: 1753.1271253\ttotal: 933ms\tremaining: 3.41s\n",
      "43:\tlearn: 1751.2445935\ttotal: 953ms\tremaining: 3.38s\n",
      "44:\tlearn: 1746.2558865\ttotal: 972ms\tremaining: 3.35s\n",
      "45:\tlearn: 1743.4590781\ttotal: 993ms\tremaining: 3.32s\n",
      "46:\tlearn: 1740.2599572\ttotal: 1.01s\tremaining: 3.31s\n",
      "47:\tlearn: 1738.0280220\ttotal: 1.03s\tremaining: 3.28s\n",
      "48:\tlearn: 1734.2049086\ttotal: 1.06s\tremaining: 3.26s\n",
      "49:\tlearn: 1731.6967981\ttotal: 1.08s\tremaining: 3.23s\n",
      "50:\tlearn: 1729.3841600\ttotal: 1.1s\tremaining: 3.21s\n",
      "51:\tlearn: 1726.5393092\ttotal: 1.12s\tremaining: 3.19s\n",
      "52:\tlearn: 1723.7599030\ttotal: 1.15s\tremaining: 3.18s\n",
      "53:\tlearn: 1721.7071073\ttotal: 1.17s\tremaining: 3.16s\n",
      "54:\tlearn: 1719.8066499\ttotal: 1.19s\tremaining: 3.13s\n",
      "55:\tlearn: 1718.3982859\ttotal: 1.21s\tremaining: 3.11s\n",
      "56:\tlearn: 1714.8856406\ttotal: 1.23s\tremaining: 3.08s\n",
      "57:\tlearn: 1713.0373415\ttotal: 1.25s\tremaining: 3.06s\n",
      "58:\tlearn: 1710.4313346\ttotal: 1.27s\tremaining: 3.05s\n",
      "59:\tlearn: 1708.4335316\ttotal: 1.3s\tremaining: 3.03s\n",
      "60:\tlearn: 1706.9673646\ttotal: 1.32s\tremaining: 3.01s\n",
      "61:\tlearn: 1705.5465068\ttotal: 1.34s\tremaining: 2.99s\n",
      "62:\tlearn: 1703.5503725\ttotal: 1.37s\tremaining: 2.97s\n",
      "63:\tlearn: 1701.2941263\ttotal: 1.39s\tremaining: 2.95s\n",
      "64:\tlearn: 1698.6182012\ttotal: 1.41s\tremaining: 2.94s\n",
      "65:\tlearn: 1697.2295052\ttotal: 1.43s\tremaining: 2.91s\n",
      "66:\tlearn: 1694.6986562\ttotal: 1.46s\tremaining: 2.9s\n",
      "67:\tlearn: 1693.0776532\ttotal: 1.48s\tremaining: 2.88s\n",
      "68:\tlearn: 1691.2238310\ttotal: 1.51s\tremaining: 2.86s\n",
      "69:\tlearn: 1688.9642941\ttotal: 1.53s\tremaining: 2.84s\n",
      "70:\tlearn: 1687.7512913\ttotal: 1.55s\tremaining: 2.81s\n",
      "71:\tlearn: 1686.4949621\ttotal: 1.57s\tremaining: 2.79s\n",
      "72:\tlearn: 1685.2821544\ttotal: 1.59s\tremaining: 2.77s\n",
      "73:\tlearn: 1683.6075314\ttotal: 1.61s\tremaining: 2.75s\n",
      "74:\tlearn: 1681.5085226\ttotal: 1.64s\tremaining: 2.73s\n",
      "75:\tlearn: 1679.5035025\ttotal: 1.66s\tremaining: 2.7s\n",
      "76:\tlearn: 1677.9363966\ttotal: 1.68s\tremaining: 2.68s\n",
      "77:\tlearn: 1675.6068991\ttotal: 1.7s\tremaining: 2.65s\n",
      "78:\tlearn: 1674.3469191\ttotal: 1.72s\tremaining: 2.63s\n",
      "79:\tlearn: 1673.1709236\ttotal: 1.74s\tremaining: 2.61s\n",
      "80:\tlearn: 1670.6672199\ttotal: 1.76s\tremaining: 2.59s\n",
      "81:\tlearn: 1669.8052048\ttotal: 1.78s\tremaining: 2.57s\n",
      "82:\tlearn: 1668.7344076\ttotal: 1.8s\tremaining: 2.54s\n",
      "83:\tlearn: 1666.6180384\ttotal: 1.83s\tremaining: 2.52s\n",
      "84:\tlearn: 1665.4730635\ttotal: 1.85s\tremaining: 2.5s\n",
      "85:\tlearn: 1664.4784081\ttotal: 1.87s\tremaining: 2.48s\n",
      "86:\tlearn: 1663.1227416\ttotal: 1.89s\tremaining: 2.46s\n",
      "87:\tlearn: 1662.1332315\ttotal: 1.92s\tremaining: 2.44s\n",
      "88:\tlearn: 1661.2139570\ttotal: 1.94s\tremaining: 2.42s\n",
      "89:\tlearn: 1660.1393378\ttotal: 1.96s\tremaining: 2.39s\n",
      "90:\tlearn: 1658.6010937\ttotal: 1.98s\tremaining: 2.37s\n",
      "91:\tlearn: 1657.7139918\ttotal: 2s\tremaining: 2.35s\n",
      "92:\tlearn: 1656.4731510\ttotal: 2.02s\tremaining: 2.32s\n",
      "93:\tlearn: 1655.6042508\ttotal: 2.04s\tremaining: 2.3s\n",
      "94:\tlearn: 1654.7249290\ttotal: 2.06s\tremaining: 2.28s\n",
      "95:\tlearn: 1653.9177522\ttotal: 2.08s\tremaining: 2.26s\n",
      "96:\tlearn: 1652.3895599\ttotal: 2.1s\tremaining: 2.23s\n",
      "97:\tlearn: 1650.9548282\ttotal: 2.13s\tremaining: 2.21s\n",
      "98:\tlearn: 1649.4865984\ttotal: 2.15s\tremaining: 2.19s\n",
      "99:\tlearn: 1648.6720416\ttotal: 2.17s\tremaining: 2.17s\n",
      "100:\tlearn: 1647.8385123\ttotal: 2.19s\tremaining: 2.15s\n",
      "101:\tlearn: 1645.9703616\ttotal: 2.21s\tremaining: 2.13s\n",
      "102:\tlearn: 1644.7538671\ttotal: 2.24s\tremaining: 2.11s\n",
      "103:\tlearn: 1643.3523970\ttotal: 2.26s\tremaining: 2.09s\n",
      "104:\tlearn: 1641.1435801\ttotal: 2.29s\tremaining: 2.07s\n",
      "105:\tlearn: 1639.8112551\ttotal: 2.31s\tremaining: 2.05s\n",
      "106:\tlearn: 1639.0584980\ttotal: 2.33s\tremaining: 2.03s\n",
      "107:\tlearn: 1637.5794261\ttotal: 2.35s\tremaining: 2s\n",
      "108:\tlearn: 1636.3888396\ttotal: 2.37s\tremaining: 1.98s\n",
      "109:\tlearn: 1635.3777546\ttotal: 2.4s\tremaining: 1.96s\n",
      "110:\tlearn: 1634.6153453\ttotal: 2.42s\tremaining: 1.94s\n",
      "111:\tlearn: 1633.6668131\ttotal: 2.44s\tremaining: 1.92s\n",
      "112:\tlearn: 1632.6661552\ttotal: 2.46s\tremaining: 1.89s\n",
      "113:\tlearn: 1631.7715746\ttotal: 2.48s\tremaining: 1.87s\n",
      "114:\tlearn: 1630.8502362\ttotal: 2.5s\tremaining: 1.85s\n",
      "115:\tlearn: 1630.0238867\ttotal: 2.52s\tremaining: 1.83s\n",
      "116:\tlearn: 1629.1306053\ttotal: 2.54s\tremaining: 1.8s\n",
      "117:\tlearn: 1628.5632703\ttotal: 2.56s\tremaining: 1.78s\n",
      "118:\tlearn: 1627.2981288\ttotal: 2.58s\tremaining: 1.76s\n",
      "119:\tlearn: 1626.3553470\ttotal: 2.61s\tremaining: 1.74s\n",
      "120:\tlearn: 1625.2418396\ttotal: 2.63s\tremaining: 1.72s\n",
      "121:\tlearn: 1624.2434097\ttotal: 2.65s\tremaining: 1.69s\n",
      "122:\tlearn: 1622.5756120\ttotal: 2.67s\tremaining: 1.67s\n",
      "123:\tlearn: 1621.4337936\ttotal: 2.69s\tremaining: 1.65s\n",
      "124:\tlearn: 1620.2555169\ttotal: 2.72s\tremaining: 1.63s\n",
      "125:\tlearn: 1619.0642083\ttotal: 2.74s\tremaining: 1.61s\n",
      "126:\tlearn: 1618.4602038\ttotal: 2.76s\tremaining: 1.59s\n",
      "127:\tlearn: 1617.4067226\ttotal: 2.78s\tremaining: 1.56s\n",
      "128:\tlearn: 1616.5858175\ttotal: 2.8s\tremaining: 1.54s\n",
      "129:\tlearn: 1616.0822003\ttotal: 2.82s\tremaining: 1.52s\n",
      "130:\tlearn: 1615.0660154\ttotal: 2.85s\tremaining: 1.5s\n",
      "131:\tlearn: 1614.1961384\ttotal: 2.87s\tremaining: 1.48s\n",
      "132:\tlearn: 1613.4627649\ttotal: 2.89s\tremaining: 1.46s\n",
      "133:\tlearn: 1612.6942940\ttotal: 2.91s\tremaining: 1.44s\n",
      "134:\tlearn: 1612.1888868\ttotal: 2.94s\tremaining: 1.41s\n",
      "135:\tlearn: 1611.5206081\ttotal: 2.96s\tremaining: 1.39s\n",
      "136:\tlearn: 1610.9358350\ttotal: 2.98s\tremaining: 1.37s\n",
      "137:\tlearn: 1610.3419487\ttotal: 3s\tremaining: 1.35s\n",
      "138:\tlearn: 1609.7311834\ttotal: 3.02s\tremaining: 1.33s\n",
      "139:\tlearn: 1608.2561222\ttotal: 3.05s\tremaining: 1.31s\n",
      "140:\tlearn: 1607.8239774\ttotal: 3.07s\tremaining: 1.28s\n",
      "141:\tlearn: 1606.9491570\ttotal: 3.09s\tremaining: 1.26s\n",
      "142:\tlearn: 1606.3125012\ttotal: 3.12s\tremaining: 1.24s\n",
      "143:\tlearn: 1605.8274949\ttotal: 3.14s\tremaining: 1.22s\n",
      "144:\tlearn: 1604.9643945\ttotal: 3.16s\tremaining: 1.2s\n",
      "145:\tlearn: 1604.5413346\ttotal: 3.18s\tremaining: 1.18s\n",
      "146:\tlearn: 1603.5159975\ttotal: 3.21s\tremaining: 1.16s\n",
      "147:\tlearn: 1602.7729820\ttotal: 3.23s\tremaining: 1.13s\n",
      "148:\tlearn: 1601.6921173\ttotal: 3.25s\tremaining: 1.11s\n",
      "149:\tlearn: 1600.8108264\ttotal: 3.27s\tremaining: 1.09s\n",
      "150:\tlearn: 1599.8252436\ttotal: 3.3s\tremaining: 1.07s\n",
      "151:\tlearn: 1599.1309994\ttotal: 3.32s\tremaining: 1.05s\n",
      "152:\tlearn: 1598.2700793\ttotal: 3.35s\tremaining: 1.03s\n",
      "153:\tlearn: 1597.3248745\ttotal: 3.37s\tremaining: 1.01s\n",
      "154:\tlearn: 1596.6935345\ttotal: 3.39s\tremaining: 985ms\n",
      "155:\tlearn: 1595.8629014\ttotal: 3.42s\tremaining: 964ms\n",
      "156:\tlearn: 1595.4520963\ttotal: 3.44s\tremaining: 942ms\n",
      "157:\tlearn: 1594.6110391\ttotal: 3.46s\tremaining: 920ms\n",
      "158:\tlearn: 1593.8206603\ttotal: 3.48s\tremaining: 898ms\n",
      "159:\tlearn: 1593.1770188\ttotal: 3.5s\tremaining: 875ms\n",
      "160:\tlearn: 1592.5573625\ttotal: 3.52s\tremaining: 853ms\n",
      "161:\tlearn: 1591.8121328\ttotal: 3.55s\tremaining: 832ms\n",
      "162:\tlearn: 1591.2969823\ttotal: 3.57s\tremaining: 810ms\n",
      "163:\tlearn: 1591.0091971\ttotal: 3.59s\tremaining: 787ms\n",
      "164:\tlearn: 1590.3296920\ttotal: 3.61s\tremaining: 765ms\n",
      "165:\tlearn: 1589.7698453\ttotal: 3.63s\tremaining: 743ms\n",
      "166:\tlearn: 1589.2316085\ttotal: 3.65s\tremaining: 722ms\n",
      "167:\tlearn: 1588.7121427\ttotal: 3.67s\tremaining: 700ms\n",
      "168:\tlearn: 1588.2710461\ttotal: 3.69s\tremaining: 678ms\n",
      "169:\tlearn: 1587.1548200\ttotal: 3.72s\tremaining: 656ms\n",
      "170:\tlearn: 1586.1267829\ttotal: 3.74s\tremaining: 634ms\n",
      "171:\tlearn: 1585.3755895\ttotal: 3.76s\tremaining: 612ms\n",
      "172:\tlearn: 1584.8258022\ttotal: 3.78s\tremaining: 590ms\n",
      "173:\tlearn: 1584.1003677\ttotal: 3.8s\tremaining: 568ms\n",
      "174:\tlearn: 1583.4486064\ttotal: 3.82s\tremaining: 546ms\n",
      "175:\tlearn: 1582.6630661\ttotal: 3.85s\tremaining: 525ms\n",
      "176:\tlearn: 1582.0203821\ttotal: 3.87s\tremaining: 503ms\n",
      "177:\tlearn: 1581.2136721\ttotal: 3.89s\tremaining: 481ms\n",
      "178:\tlearn: 1580.7881288\ttotal: 3.92s\tremaining: 459ms\n",
      "179:\tlearn: 1579.8319718\ttotal: 3.94s\tremaining: 438ms\n",
      "180:\tlearn: 1579.2682863\ttotal: 3.96s\tremaining: 416ms\n",
      "181:\tlearn: 1578.6523224\ttotal: 3.98s\tremaining: 394ms\n",
      "182:\tlearn: 1577.9860550\ttotal: 4s\tremaining: 372ms\n",
      "183:\tlearn: 1577.5212329\ttotal: 4.02s\tremaining: 350ms\n",
      "184:\tlearn: 1577.1297041\ttotal: 4.04s\tremaining: 328ms\n",
      "185:\tlearn: 1576.4987024\ttotal: 4.06s\tremaining: 306ms\n",
      "186:\tlearn: 1575.8098102\ttotal: 4.08s\tremaining: 284ms\n",
      "187:\tlearn: 1575.3207993\ttotal: 4.1s\tremaining: 262ms\n",
      "188:\tlearn: 1574.5978587\ttotal: 4.13s\tremaining: 240ms\n",
      "189:\tlearn: 1574.0424462\ttotal: 4.15s\tremaining: 218ms\n",
      "190:\tlearn: 1573.4188412\ttotal: 4.17s\tremaining: 197ms\n",
      "191:\tlearn: 1572.8755760\ttotal: 4.2s\tremaining: 175ms\n",
      "192:\tlearn: 1572.2493833\ttotal: 4.22s\tremaining: 153ms\n",
      "193:\tlearn: 1571.7067490\ttotal: 4.25s\tremaining: 131ms\n",
      "194:\tlearn: 1570.9875259\ttotal: 4.27s\tremaining: 110ms\n",
      "195:\tlearn: 1570.4839583\ttotal: 4.3s\tremaining: 87.7ms\n",
      "196:\tlearn: 1569.8837204\ttotal: 4.32s\tremaining: 65.8ms\n",
      "197:\tlearn: 1569.1474653\ttotal: 4.35s\tremaining: 43.9ms\n",
      "198:\tlearn: 1568.4958118\ttotal: 4.37s\tremaining: 22ms\n",
      "199:\tlearn: 1567.8164826\ttotal: 4.39s\tremaining: 0us\n",
      "[CV] END ............................ score: (test=-1627.218) total time=   5.1s\n",
      "[CV] START .....................................................................\n",
      "Learning rate set to 0.343487\n"
     ]
    },
    {
     "name": "stderr",
     "output_type": "stream",
     "text": [
      "[Parallel(n_jobs=1)]: Done   3 out of   3 | elapsed:   15.9s remaining:    0.0s\n"
     ]
    },
    {
     "name": "stdout",
     "output_type": "stream",
     "text": [
      "0:\tlearn: 3634.6342476\ttotal: 21.4ms\tremaining: 4.25s\n",
      "1:\tlearn: 3015.7595575\ttotal: 42.4ms\tremaining: 4.2s\n",
      "2:\tlearn: 2650.6257234\ttotal: 63.6ms\tremaining: 4.18s\n",
      "3:\tlearn: 2438.0897147\ttotal: 84.8ms\tremaining: 4.16s\n",
      "4:\tlearn: 2300.6951006\ttotal: 105ms\tremaining: 4.11s\n",
      "5:\tlearn: 2213.2284344\ttotal: 125ms\tremaining: 4.05s\n",
      "6:\tlearn: 2133.8251426\ttotal: 147ms\tremaining: 4.06s\n",
      "7:\tlearn: 2086.5633831\ttotal: 168ms\tremaining: 4.03s\n",
      "8:\tlearn: 2049.7333958\ttotal: 189ms\tremaining: 4s\n",
      "9:\tlearn: 2018.4220332\ttotal: 209ms\tremaining: 3.97s\n",
      "10:\tlearn: 1996.0001691\ttotal: 230ms\tremaining: 3.95s\n",
      "11:\tlearn: 1979.6725352\ttotal: 251ms\tremaining: 3.92s\n",
      "12:\tlearn: 1965.5181310\ttotal: 271ms\tremaining: 3.89s\n",
      "13:\tlearn: 1945.4884355\ttotal: 291ms\tremaining: 3.86s\n",
      "14:\tlearn: 1929.7789888\ttotal: 314ms\tremaining: 3.87s\n",
      "15:\tlearn: 1911.2760754\ttotal: 339ms\tremaining: 3.9s\n",
      "16:\tlearn: 1900.8181627\ttotal: 360ms\tremaining: 3.87s\n",
      "17:\tlearn: 1883.6397851\ttotal: 381ms\tremaining: 3.86s\n",
      "18:\tlearn: 1876.2136668\ttotal: 402ms\tremaining: 3.83s\n",
      "19:\tlearn: 1867.8448092\ttotal: 425ms\tremaining: 3.82s\n",
      "20:\tlearn: 1862.3707922\ttotal: 448ms\tremaining: 3.82s\n",
      "21:\tlearn: 1856.0270514\ttotal: 473ms\tremaining: 3.83s\n",
      "22:\tlearn: 1848.7309337\ttotal: 495ms\tremaining: 3.81s\n",
      "23:\tlearn: 1841.6281755\ttotal: 515ms\tremaining: 3.77s\n",
      "24:\tlearn: 1833.8200794\ttotal: 535ms\tremaining: 3.74s\n",
      "25:\tlearn: 1826.6234047\ttotal: 558ms\tremaining: 3.73s\n",
      "26:\tlearn: 1819.6777511\ttotal: 583ms\tremaining: 3.73s\n",
      "27:\tlearn: 1815.4669053\ttotal: 602ms\tremaining: 3.7s\n",
      "28:\tlearn: 1806.6860929\ttotal: 628ms\tremaining: 3.7s\n",
      "29:\tlearn: 1799.9160558\ttotal: 655ms\tremaining: 3.71s\n",
      "30:\tlearn: 1795.5469971\ttotal: 680ms\tremaining: 3.71s\n",
      "31:\tlearn: 1793.2502733\ttotal: 700ms\tremaining: 3.67s\n",
      "32:\tlearn: 1789.3811487\ttotal: 720ms\tremaining: 3.65s\n",
      "33:\tlearn: 1785.6785283\ttotal: 740ms\tremaining: 3.61s\n",
      "34:\tlearn: 1781.8723610\ttotal: 762ms\tremaining: 3.59s\n",
      "35:\tlearn: 1778.4398471\ttotal: 782ms\tremaining: 3.56s\n",
      "36:\tlearn: 1774.7814626\ttotal: 802ms\tremaining: 3.53s\n",
      "37:\tlearn: 1772.2032921\ttotal: 821ms\tremaining: 3.5s\n",
      "38:\tlearn: 1768.3818862\ttotal: 849ms\tremaining: 3.5s\n",
      "39:\tlearn: 1765.0086942\ttotal: 871ms\tremaining: 3.48s\n",
      "40:\tlearn: 1761.8329724\ttotal: 892ms\tremaining: 3.46s\n",
      "41:\tlearn: 1759.3619833\ttotal: 911ms\tremaining: 3.43s\n",
      "42:\tlearn: 1755.3959675\ttotal: 932ms\tremaining: 3.4s\n",
      "43:\tlearn: 1753.9236100\ttotal: 952ms\tremaining: 3.37s\n",
      "44:\tlearn: 1749.2100550\ttotal: 979ms\tremaining: 3.37s\n",
      "45:\tlearn: 1746.6432970\ttotal: 999ms\tremaining: 3.34s\n",
      "46:\tlearn: 1744.1236192\ttotal: 1.02s\tremaining: 3.32s\n",
      "47:\tlearn: 1740.3133581\ttotal: 1.04s\tremaining: 3.3s\n",
      "48:\tlearn: 1737.3097537\ttotal: 1.06s\tremaining: 3.28s\n",
      "49:\tlearn: 1734.8931446\ttotal: 1.08s\tremaining: 3.25s\n",
      "50:\tlearn: 1731.2672032\ttotal: 1.11s\tremaining: 3.23s\n",
      "51:\tlearn: 1729.8964037\ttotal: 1.13s\tremaining: 3.21s\n",
      "52:\tlearn: 1728.3593605\ttotal: 1.15s\tremaining: 3.18s\n",
      "53:\tlearn: 1726.4660747\ttotal: 1.17s\tremaining: 3.16s\n",
      "54:\tlearn: 1724.0966382\ttotal: 1.19s\tremaining: 3.14s\n",
      "55:\tlearn: 1720.8288696\ttotal: 1.21s\tremaining: 3.12s\n",
      "56:\tlearn: 1718.9378876\ttotal: 1.24s\tremaining: 3.11s\n",
      "57:\tlearn: 1717.2256372\ttotal: 1.26s\tremaining: 3.09s\n",
      "58:\tlearn: 1715.2205145\ttotal: 1.28s\tremaining: 3.07s\n",
      "59:\tlearn: 1711.3136505\ttotal: 1.31s\tremaining: 3.05s\n",
      "60:\tlearn: 1709.9132157\ttotal: 1.33s\tremaining: 3.02s\n",
      "61:\tlearn: 1708.0226236\ttotal: 1.35s\tremaining: 3s\n",
      "62:\tlearn: 1705.6272974\ttotal: 1.37s\tremaining: 2.98s\n",
      "63:\tlearn: 1704.0382140\ttotal: 1.39s\tremaining: 2.96s\n",
      "64:\tlearn: 1701.8836689\ttotal: 1.41s\tremaining: 2.94s\n",
      "65:\tlearn: 1699.9790714\ttotal: 1.44s\tremaining: 2.92s\n",
      "66:\tlearn: 1698.3571504\ttotal: 1.46s\tremaining: 2.9s\n",
      "67:\tlearn: 1696.3841488\ttotal: 1.48s\tremaining: 2.87s\n",
      "68:\tlearn: 1694.2258984\ttotal: 1.5s\tremaining: 2.85s\n",
      "69:\tlearn: 1692.6507091\ttotal: 1.53s\tremaining: 2.83s\n",
      "70:\tlearn: 1691.2343301\ttotal: 1.55s\tremaining: 2.81s\n",
      "71:\tlearn: 1689.3601898\ttotal: 1.57s\tremaining: 2.79s\n",
      "72:\tlearn: 1687.5382276\ttotal: 1.59s\tremaining: 2.77s\n",
      "73:\tlearn: 1685.7469882\ttotal: 1.61s\tremaining: 2.74s\n",
      "74:\tlearn: 1684.7805127\ttotal: 1.63s\tremaining: 2.72s\n",
      "75:\tlearn: 1683.1704328\ttotal: 1.65s\tremaining: 2.7s\n",
      "76:\tlearn: 1681.5197388\ttotal: 1.68s\tremaining: 2.68s\n",
      "77:\tlearn: 1679.7343843\ttotal: 1.7s\tremaining: 2.66s\n",
      "78:\tlearn: 1678.0154342\ttotal: 1.72s\tremaining: 2.64s\n",
      "79:\tlearn: 1676.9731315\ttotal: 1.74s\tremaining: 2.62s\n",
      "80:\tlearn: 1675.2384188\ttotal: 1.76s\tremaining: 2.59s\n",
      "81:\tlearn: 1673.9380786\ttotal: 1.79s\tremaining: 2.57s\n",
      "82:\tlearn: 1671.6172846\ttotal: 1.81s\tremaining: 2.55s\n",
      "83:\tlearn: 1670.0049646\ttotal: 1.83s\tremaining: 2.53s\n",
      "84:\tlearn: 1668.4663712\ttotal: 1.86s\tremaining: 2.51s\n",
      "85:\tlearn: 1667.3136595\ttotal: 1.88s\tremaining: 2.49s\n",
      "86:\tlearn: 1666.6286415\ttotal: 1.9s\tremaining: 2.46s\n",
      "87:\tlearn: 1665.6835879\ttotal: 1.92s\tremaining: 2.44s\n",
      "88:\tlearn: 1664.3674298\ttotal: 1.94s\tremaining: 2.42s\n",
      "89:\tlearn: 1663.3099870\ttotal: 1.96s\tremaining: 2.4s\n",
      "90:\tlearn: 1662.0940418\ttotal: 1.99s\tremaining: 2.38s\n",
      "91:\tlearn: 1660.4281660\ttotal: 2.01s\tremaining: 2.35s\n",
      "92:\tlearn: 1659.2271182\ttotal: 2.03s\tremaining: 2.34s\n",
      "93:\tlearn: 1657.8875472\ttotal: 2.05s\tremaining: 2.32s\n",
      "94:\tlearn: 1656.1236165\ttotal: 2.08s\tremaining: 2.3s\n",
      "95:\tlearn: 1655.1729392\ttotal: 2.1s\tremaining: 2.27s\n",
      "96:\tlearn: 1653.8960899\ttotal: 2.12s\tremaining: 2.25s\n",
      "97:\tlearn: 1652.5404671\ttotal: 2.15s\tremaining: 2.23s\n",
      "98:\tlearn: 1649.9295197\ttotal: 2.17s\tremaining: 2.21s\n",
      "99:\tlearn: 1648.9464393\ttotal: 2.19s\tremaining: 2.19s\n",
      "100:\tlearn: 1647.7871102\ttotal: 2.21s\tremaining: 2.17s\n",
      "101:\tlearn: 1646.2512884\ttotal: 2.23s\tremaining: 2.15s\n",
      "102:\tlearn: 1644.2043126\ttotal: 2.25s\tremaining: 2.12s\n",
      "103:\tlearn: 1642.5304281\ttotal: 2.28s\tremaining: 2.1s\n",
      "104:\tlearn: 1640.9991669\ttotal: 2.3s\tremaining: 2.08s\n",
      "105:\tlearn: 1639.1534499\ttotal: 2.32s\tremaining: 2.06s\n",
      "106:\tlearn: 1638.5123113\ttotal: 2.34s\tremaining: 2.04s\n",
      "107:\tlearn: 1637.1938234\ttotal: 2.37s\tremaining: 2.02s\n",
      "108:\tlearn: 1636.4578695\ttotal: 2.39s\tremaining: 1.99s\n",
      "109:\tlearn: 1635.6666111\ttotal: 2.41s\tremaining: 1.97s\n",
      "110:\tlearn: 1634.5602757\ttotal: 2.44s\tremaining: 1.95s\n",
      "111:\tlearn: 1633.1595487\ttotal: 2.46s\tremaining: 1.93s\n",
      "112:\tlearn: 1632.0987252\ttotal: 2.48s\tremaining: 1.91s\n",
      "113:\tlearn: 1631.0377020\ttotal: 2.51s\tremaining: 1.89s\n",
      "114:\tlearn: 1630.6194761\ttotal: 2.53s\tremaining: 1.87s\n",
      "115:\tlearn: 1630.0248503\ttotal: 2.55s\tremaining: 1.85s\n",
      "116:\tlearn: 1629.0431272\ttotal: 2.57s\tremaining: 1.82s\n",
      "117:\tlearn: 1628.4562214\ttotal: 2.59s\tremaining: 1.8s\n",
      "118:\tlearn: 1627.5634966\ttotal: 2.61s\tremaining: 1.78s\n",
      "119:\tlearn: 1626.5624386\ttotal: 2.63s\tremaining: 1.75s\n",
      "120:\tlearn: 1625.7679358\ttotal: 2.65s\tremaining: 1.73s\n",
      "121:\tlearn: 1625.0625247\ttotal: 2.67s\tremaining: 1.71s\n",
      "122:\tlearn: 1623.8577815\ttotal: 2.7s\tremaining: 1.69s\n",
      "123:\tlearn: 1622.6709454\ttotal: 2.72s\tremaining: 1.67s\n",
      "124:\tlearn: 1622.0394799\ttotal: 2.75s\tremaining: 1.65s\n",
      "125:\tlearn: 1620.9872533\ttotal: 2.77s\tremaining: 1.63s\n",
      "126:\tlearn: 1620.3275671\ttotal: 2.79s\tremaining: 1.6s\n",
      "127:\tlearn: 1619.4593537\ttotal: 2.81s\tremaining: 1.58s\n",
      "128:\tlearn: 1618.4135327\ttotal: 2.84s\tremaining: 1.56s\n",
      "129:\tlearn: 1617.6224817\ttotal: 2.86s\tremaining: 1.54s\n",
      "130:\tlearn: 1617.0035812\ttotal: 2.88s\tremaining: 1.52s\n",
      "131:\tlearn: 1616.0404206\ttotal: 2.9s\tremaining: 1.5s\n",
      "132:\tlearn: 1615.0658991\ttotal: 2.93s\tremaining: 1.47s\n",
      "133:\tlearn: 1613.6342644\ttotal: 2.95s\tremaining: 1.45s\n",
      "134:\tlearn: 1612.2950467\ttotal: 2.98s\tremaining: 1.43s\n",
      "135:\tlearn: 1611.4397658\ttotal: 3s\tremaining: 1.41s\n",
      "136:\tlearn: 1610.8101065\ttotal: 3.02s\tremaining: 1.39s\n",
      "137:\tlearn: 1609.7268480\ttotal: 3.04s\tremaining: 1.37s\n",
      "138:\tlearn: 1608.4702362\ttotal: 3.06s\tremaining: 1.34s\n",
      "139:\tlearn: 1607.8548108\ttotal: 3.08s\tremaining: 1.32s\n",
      "140:\tlearn: 1606.9092930\ttotal: 3.11s\tremaining: 1.3s\n",
      "141:\tlearn: 1606.4123128\ttotal: 3.14s\tremaining: 1.28s\n",
      "142:\tlearn: 1605.9392664\ttotal: 3.16s\tremaining: 1.26s\n",
      "143:\tlearn: 1605.0790627\ttotal: 3.19s\tremaining: 1.24s\n",
      "144:\tlearn: 1604.1980195\ttotal: 3.22s\tremaining: 1.22s\n",
      "145:\tlearn: 1603.8481445\ttotal: 3.24s\tremaining: 1.2s\n",
      "146:\tlearn: 1603.0508828\ttotal: 3.27s\tremaining: 1.18s\n",
      "147:\tlearn: 1602.2929772\ttotal: 3.29s\tremaining: 1.16s\n",
      "148:\tlearn: 1601.4129811\ttotal: 3.32s\tremaining: 1.14s\n",
      "149:\tlearn: 1600.7449532\ttotal: 3.34s\tremaining: 1.11s\n",
      "150:\tlearn: 1600.0519083\ttotal: 3.37s\tremaining: 1.09s\n",
      "151:\tlearn: 1599.1227283\ttotal: 3.39s\tremaining: 1.07s\n",
      "152:\tlearn: 1598.1038872\ttotal: 3.41s\tremaining: 1.05s\n",
      "153:\tlearn: 1597.1802474\ttotal: 3.44s\tremaining: 1.03s\n",
      "154:\tlearn: 1596.4938511\ttotal: 3.46s\tremaining: 1s\n",
      "155:\tlearn: 1595.7420500\ttotal: 3.48s\tremaining: 981ms\n",
      "156:\tlearn: 1595.1502294\ttotal: 3.5s\tremaining: 959ms\n",
      "157:\tlearn: 1594.0522995\ttotal: 3.52s\tremaining: 936ms\n",
      "158:\tlearn: 1593.4583765\ttotal: 3.54s\tremaining: 914ms\n",
      "159:\tlearn: 1592.5780202\ttotal: 3.57s\tremaining: 892ms\n",
      "160:\tlearn: 1592.0499181\ttotal: 3.59s\tremaining: 869ms\n",
      "161:\tlearn: 1591.3396689\ttotal: 3.61s\tremaining: 847ms\n",
      "162:\tlearn: 1590.6878059\ttotal: 3.63s\tremaining: 824ms\n",
      "163:\tlearn: 1589.7200267\ttotal: 3.65s\tremaining: 802ms\n",
      "164:\tlearn: 1588.8221908\ttotal: 3.68s\tremaining: 780ms\n",
      "165:\tlearn: 1588.1441183\ttotal: 3.7s\tremaining: 758ms\n",
      "166:\tlearn: 1587.3625698\ttotal: 3.72s\tremaining: 735ms\n",
      "167:\tlearn: 1586.7752930\ttotal: 3.74s\tremaining: 713ms\n",
      "168:\tlearn: 1586.2195927\ttotal: 3.76s\tremaining: 690ms\n",
      "169:\tlearn: 1585.7431648\ttotal: 3.78s\tremaining: 668ms\n",
      "170:\tlearn: 1584.8278011\ttotal: 3.81s\tremaining: 645ms\n",
      "171:\tlearn: 1584.3792058\ttotal: 3.83s\tremaining: 624ms\n",
      "172:\tlearn: 1583.9042131\ttotal: 3.86s\tremaining: 602ms\n",
      "173:\tlearn: 1583.3746078\ttotal: 3.88s\tremaining: 579ms\n",
      "174:\tlearn: 1582.7275187\ttotal: 3.9s\tremaining: 557ms\n",
      "175:\tlearn: 1582.1227360\ttotal: 3.92s\tremaining: 534ms\n",
      "176:\tlearn: 1581.4229966\ttotal: 3.94s\tremaining: 512ms\n",
      "177:\tlearn: 1580.8324173\ttotal: 3.96s\tremaining: 490ms\n",
      "178:\tlearn: 1580.1555801\ttotal: 3.99s\tremaining: 468ms\n",
      "179:\tlearn: 1578.9877876\ttotal: 4.01s\tremaining: 445ms\n",
      "180:\tlearn: 1578.4199796\ttotal: 4.03s\tremaining: 423ms\n",
      "181:\tlearn: 1577.6677371\ttotal: 4.05s\tremaining: 401ms\n",
      "182:\tlearn: 1577.1308206\ttotal: 4.07s\tremaining: 378ms\n",
      "183:\tlearn: 1576.6116901\ttotal: 4.09s\tremaining: 356ms\n",
      "184:\tlearn: 1575.8508838\ttotal: 4.12s\tremaining: 334ms\n",
      "185:\tlearn: 1575.2193473\ttotal: 4.14s\tremaining: 312ms\n",
      "186:\tlearn: 1574.5318897\ttotal: 4.16s\tremaining: 289ms\n",
      "187:\tlearn: 1574.0044913\ttotal: 4.18s\tremaining: 267ms\n",
      "188:\tlearn: 1573.1481617\ttotal: 4.21s\tremaining: 245ms\n",
      "189:\tlearn: 1572.7354458\ttotal: 4.23s\tremaining: 223ms\n",
      "190:\tlearn: 1572.4344147\ttotal: 4.25s\tremaining: 200ms\n",
      "191:\tlearn: 1571.6015597\ttotal: 4.27s\tremaining: 178ms\n",
      "192:\tlearn: 1570.9531405\ttotal: 4.3s\tremaining: 156ms\n",
      "193:\tlearn: 1570.1344214\ttotal: 4.32s\tremaining: 134ms\n",
      "194:\tlearn: 1569.7564903\ttotal: 4.34s\tremaining: 111ms\n",
      "195:\tlearn: 1569.1281363\ttotal: 4.37s\tremaining: 89.1ms\n",
      "196:\tlearn: 1568.5232044\ttotal: 4.39s\tremaining: 66.8ms\n",
      "197:\tlearn: 1567.9658463\ttotal: 4.41s\tremaining: 44.5ms\n",
      "198:\tlearn: 1567.4026712\ttotal: 4.43s\tremaining: 22.3ms\n",
      "199:\tlearn: 1566.6765345\ttotal: 4.45s\tremaining: 0us\n",
      "[CV] END ............................ score: (test=-1630.011) total time=   5.1s\n",
      "[CV] START .....................................................................\n",
      "Learning rate set to 0.343487\n"
     ]
    },
    {
     "name": "stderr",
     "output_type": "stream",
     "text": [
      "[Parallel(n_jobs=1)]: Done   4 out of   4 | elapsed:   21.0s remaining:    0.0s\n"
     ]
    },
    {
     "name": "stdout",
     "output_type": "stream",
     "text": [
      "0:\tlearn: 3631.2175966\ttotal: 26.7ms\tremaining: 5.32s\n",
      "1:\tlearn: 3011.4626717\ttotal: 48.7ms\tremaining: 4.83s\n",
      "2:\tlearn: 2650.7144897\ttotal: 72.2ms\tremaining: 4.74s\n",
      "3:\tlearn: 2438.4905473\ttotal: 94.4ms\tremaining: 4.63s\n",
      "4:\tlearn: 2307.1339169\ttotal: 116ms\tremaining: 4.51s\n",
      "5:\tlearn: 2209.9346211\ttotal: 138ms\tremaining: 4.46s\n",
      "6:\tlearn: 2141.3496299\ttotal: 160ms\tremaining: 4.41s\n",
      "7:\tlearn: 2099.7643472\ttotal: 182ms\tremaining: 4.36s\n",
      "8:\tlearn: 2057.4776663\ttotal: 203ms\tremaining: 4.3s\n",
      "9:\tlearn: 2024.9336503\ttotal: 226ms\tremaining: 4.3s\n",
      "10:\tlearn: 1992.4914699\ttotal: 249ms\tremaining: 4.28s\n",
      "11:\tlearn: 1967.8460304\ttotal: 271ms\tremaining: 4.25s\n",
      "12:\tlearn: 1952.2522405\ttotal: 294ms\tremaining: 4.23s\n",
      "13:\tlearn: 1940.4837599\ttotal: 314ms\tremaining: 4.17s\n",
      "14:\tlearn: 1929.5799308\ttotal: 334ms\tremaining: 4.12s\n",
      "15:\tlearn: 1917.9412077\ttotal: 356ms\tremaining: 4.09s\n",
      "16:\tlearn: 1909.3238829\ttotal: 379ms\tremaining: 4.08s\n",
      "17:\tlearn: 1889.8169168\ttotal: 403ms\tremaining: 4.07s\n",
      "18:\tlearn: 1879.3848698\ttotal: 423ms\tremaining: 4.03s\n",
      "19:\tlearn: 1866.6251743\ttotal: 446ms\tremaining: 4.01s\n",
      "20:\tlearn: 1854.7368121\ttotal: 467ms\tremaining: 3.98s\n",
      "21:\tlearn: 1846.9884103\ttotal: 490ms\tremaining: 3.97s\n",
      "22:\tlearn: 1842.1236649\ttotal: 512ms\tremaining: 3.94s\n",
      "23:\tlearn: 1836.3351323\ttotal: 531ms\tremaining: 3.9s\n",
      "24:\tlearn: 1829.6267824\ttotal: 553ms\tremaining: 3.87s\n",
      "25:\tlearn: 1822.7710494\ttotal: 581ms\tremaining: 3.89s\n",
      "26:\tlearn: 1818.7412169\ttotal: 602ms\tremaining: 3.85s\n",
      "27:\tlearn: 1812.8464959\ttotal: 622ms\tremaining: 3.82s\n",
      "28:\tlearn: 1808.4866529\ttotal: 645ms\tremaining: 3.8s\n",
      "29:\tlearn: 1802.9584148\ttotal: 668ms\tremaining: 3.78s\n",
      "30:\tlearn: 1799.4693507\ttotal: 688ms\tremaining: 3.75s\n",
      "31:\tlearn: 1796.6023381\ttotal: 709ms\tremaining: 3.72s\n",
      "32:\tlearn: 1790.3898768\ttotal: 733ms\tremaining: 3.71s\n",
      "33:\tlearn: 1786.2450803\ttotal: 756ms\tremaining: 3.69s\n",
      "34:\tlearn: 1782.8898965\ttotal: 778ms\tremaining: 3.67s\n",
      "35:\tlearn: 1778.9973175\ttotal: 799ms\tremaining: 3.64s\n",
      "36:\tlearn: 1773.8491387\ttotal: 820ms\tremaining: 3.61s\n",
      "37:\tlearn: 1771.5926444\ttotal: 840ms\tremaining: 3.58s\n",
      "38:\tlearn: 1768.6921264\ttotal: 861ms\tremaining: 3.56s\n",
      "39:\tlearn: 1765.2124466\ttotal: 887ms\tremaining: 3.55s\n",
      "40:\tlearn: 1761.3577501\ttotal: 907ms\tremaining: 3.52s\n",
      "41:\tlearn: 1758.5687956\ttotal: 928ms\tremaining: 3.49s\n",
      "42:\tlearn: 1755.6406419\ttotal: 950ms\tremaining: 3.47s\n",
      "43:\tlearn: 1750.4665586\ttotal: 974ms\tremaining: 3.45s\n",
      "44:\tlearn: 1748.8389596\ttotal: 996ms\tremaining: 3.43s\n",
      "45:\tlearn: 1745.6154124\ttotal: 1.02s\tremaining: 3.42s\n",
      "46:\tlearn: 1743.1769645\ttotal: 1.04s\tremaining: 3.4s\n",
      "47:\tlearn: 1740.9850114\ttotal: 1.07s\tremaining: 3.38s\n",
      "48:\tlearn: 1739.3073716\ttotal: 1.09s\tremaining: 3.35s\n",
      "49:\tlearn: 1737.7641985\ttotal: 1.1s\tremaining: 3.31s\n",
      "50:\tlearn: 1734.9093964\ttotal: 1.13s\tremaining: 3.29s\n",
      "51:\tlearn: 1731.2540706\ttotal: 1.15s\tremaining: 3.27s\n",
      "52:\tlearn: 1728.8142140\ttotal: 1.17s\tremaining: 3.25s\n",
      "53:\tlearn: 1726.1528316\ttotal: 1.2s\tremaining: 3.25s\n",
      "54:\tlearn: 1724.0664490\ttotal: 1.23s\tremaining: 3.24s\n",
      "55:\tlearn: 1721.9673079\ttotal: 1.25s\tremaining: 3.22s\n",
      "56:\tlearn: 1720.1879144\ttotal: 1.27s\tremaining: 3.2s\n",
      "57:\tlearn: 1718.1722738\ttotal: 1.3s\tremaining: 3.18s\n",
      "58:\tlearn: 1715.3510691\ttotal: 1.32s\tremaining: 3.15s\n",
      "59:\tlearn: 1713.6347795\ttotal: 1.34s\tremaining: 3.13s\n",
      "60:\tlearn: 1711.8550418\ttotal: 1.36s\tremaining: 3.11s\n",
      "61:\tlearn: 1710.5722744\ttotal: 1.38s\tremaining: 3.08s\n",
      "62:\tlearn: 1709.0819417\ttotal: 1.4s\tremaining: 3.05s\n",
      "63:\tlearn: 1707.4852779\ttotal: 1.43s\tremaining: 3.03s\n",
      "64:\tlearn: 1705.9903875\ttotal: 1.45s\tremaining: 3.01s\n",
      "65:\tlearn: 1704.4962829\ttotal: 1.47s\tremaining: 2.98s\n",
      "66:\tlearn: 1702.8000811\ttotal: 1.49s\tremaining: 2.96s\n",
      "67:\tlearn: 1701.3344739\ttotal: 1.51s\tremaining: 2.94s\n",
      "68:\tlearn: 1698.6063944\ttotal: 1.54s\tremaining: 2.92s\n",
      "69:\tlearn: 1696.2587512\ttotal: 1.56s\tremaining: 2.9s\n",
      "70:\tlearn: 1694.6349559\ttotal: 1.58s\tremaining: 2.88s\n",
      "71:\tlearn: 1692.1539785\ttotal: 1.6s\tremaining: 2.85s\n",
      "72:\tlearn: 1690.8575695\ttotal: 1.63s\tremaining: 2.83s\n",
      "73:\tlearn: 1689.1336064\ttotal: 1.65s\tremaining: 2.81s\n",
      "74:\tlearn: 1687.6915075\ttotal: 1.67s\tremaining: 2.79s\n",
      "75:\tlearn: 1686.5219865\ttotal: 1.69s\tremaining: 2.76s\n",
      "76:\tlearn: 1684.2442252\ttotal: 1.71s\tremaining: 2.74s\n",
      "77:\tlearn: 1682.5483576\ttotal: 1.74s\tremaining: 2.72s\n",
      "78:\tlearn: 1680.3773650\ttotal: 1.76s\tremaining: 2.7s\n",
      "79:\tlearn: 1679.2506945\ttotal: 1.79s\tremaining: 2.68s\n",
      "80:\tlearn: 1677.6766622\ttotal: 1.81s\tremaining: 2.66s\n",
      "81:\tlearn: 1674.6255309\ttotal: 1.83s\tremaining: 2.64s\n",
      "82:\tlearn: 1672.8685673\ttotal: 1.86s\tremaining: 2.62s\n",
      "83:\tlearn: 1671.3687285\ttotal: 1.88s\tremaining: 2.59s\n",
      "84:\tlearn: 1670.0616513\ttotal: 1.9s\tremaining: 2.57s\n",
      "85:\tlearn: 1668.5348337\ttotal: 1.92s\tremaining: 2.55s\n",
      "86:\tlearn: 1666.9604672\ttotal: 1.94s\tremaining: 2.52s\n",
      "87:\tlearn: 1665.3506675\ttotal: 1.97s\tremaining: 2.5s\n",
      "88:\tlearn: 1663.7948215\ttotal: 1.99s\tremaining: 2.48s\n",
      "89:\tlearn: 1662.6767740\ttotal: 2.01s\tremaining: 2.46s\n",
      "90:\tlearn: 1661.5384861\ttotal: 2.04s\tremaining: 2.44s\n",
      "91:\tlearn: 1660.2484643\ttotal: 2.06s\tremaining: 2.42s\n",
      "92:\tlearn: 1659.2415505\ttotal: 2.08s\tremaining: 2.39s\n",
      "93:\tlearn: 1657.5107823\ttotal: 2.1s\tremaining: 2.37s\n",
      "94:\tlearn: 1656.6522679\ttotal: 2.13s\tremaining: 2.35s\n",
      "95:\tlearn: 1655.7015448\ttotal: 2.15s\tremaining: 2.33s\n",
      "96:\tlearn: 1654.6910394\ttotal: 2.17s\tremaining: 2.3s\n",
      "97:\tlearn: 1653.3144157\ttotal: 2.19s\tremaining: 2.28s\n",
      "98:\tlearn: 1652.3304934\ttotal: 2.22s\tremaining: 2.26s\n",
      "99:\tlearn: 1650.9341159\ttotal: 2.24s\tremaining: 2.24s\n",
      "100:\tlearn: 1649.6886754\ttotal: 2.27s\tremaining: 2.22s\n",
      "101:\tlearn: 1648.4283581\ttotal: 2.29s\tremaining: 2.2s\n",
      "102:\tlearn: 1646.9278901\ttotal: 2.31s\tremaining: 2.18s\n",
      "103:\tlearn: 1645.9172294\ttotal: 2.33s\tremaining: 2.15s\n",
      "104:\tlearn: 1644.7756023\ttotal: 2.36s\tremaining: 2.13s\n",
      "105:\tlearn: 1643.6640388\ttotal: 2.38s\tremaining: 2.11s\n",
      "106:\tlearn: 1642.6080187\ttotal: 2.4s\tremaining: 2.09s\n",
      "107:\tlearn: 1641.8939726\ttotal: 2.43s\tremaining: 2.07s\n",
      "108:\tlearn: 1640.8710776\ttotal: 2.45s\tremaining: 2.04s\n",
      "109:\tlearn: 1639.4662633\ttotal: 2.47s\tremaining: 2.02s\n",
      "110:\tlearn: 1638.6754490\ttotal: 2.49s\tremaining: 2s\n",
      "111:\tlearn: 1637.2348663\ttotal: 2.52s\tremaining: 1.98s\n",
      "112:\tlearn: 1636.3133256\ttotal: 2.54s\tremaining: 1.95s\n",
      "113:\tlearn: 1635.1146041\ttotal: 2.56s\tremaining: 1.93s\n",
      "114:\tlearn: 1633.7192234\ttotal: 2.58s\tremaining: 1.91s\n",
      "115:\tlearn: 1632.3730680\ttotal: 2.61s\tremaining: 1.89s\n",
      "116:\tlearn: 1631.7279239\ttotal: 2.63s\tremaining: 1.86s\n",
      "117:\tlearn: 1629.8662118\ttotal: 2.65s\tremaining: 1.84s\n",
      "118:\tlearn: 1628.4372816\ttotal: 2.67s\tremaining: 1.82s\n",
      "119:\tlearn: 1626.7206494\ttotal: 2.7s\tremaining: 1.8s\n",
      "120:\tlearn: 1625.5502020\ttotal: 2.72s\tremaining: 1.77s\n",
      "121:\tlearn: 1624.2504112\ttotal: 2.75s\tremaining: 1.76s\n",
      "122:\tlearn: 1622.6139818\ttotal: 2.77s\tremaining: 1.74s\n",
      "123:\tlearn: 1621.2190014\ttotal: 2.8s\tremaining: 1.71s\n",
      "124:\tlearn: 1620.5539952\ttotal: 2.82s\tremaining: 1.69s\n",
      "125:\tlearn: 1619.7302320\ttotal: 2.85s\tremaining: 1.67s\n",
      "126:\tlearn: 1618.9192518\ttotal: 2.87s\tremaining: 1.65s\n",
      "127:\tlearn: 1617.9420027\ttotal: 2.89s\tremaining: 1.63s\n",
      "128:\tlearn: 1617.0375661\ttotal: 2.92s\tremaining: 1.61s\n",
      "129:\tlearn: 1615.8194374\ttotal: 2.94s\tremaining: 1.58s\n",
      "130:\tlearn: 1615.2528399\ttotal: 2.97s\tremaining: 1.56s\n",
      "131:\tlearn: 1614.6410502\ttotal: 2.99s\tremaining: 1.54s\n",
      "132:\tlearn: 1613.4137581\ttotal: 3.01s\tremaining: 1.52s\n",
      "133:\tlearn: 1612.5481728\ttotal: 3.03s\tremaining: 1.49s\n",
      "134:\tlearn: 1611.7851465\ttotal: 3.06s\tremaining: 1.47s\n",
      "135:\tlearn: 1610.8953488\ttotal: 3.09s\tremaining: 1.45s\n",
      "136:\tlearn: 1610.2438845\ttotal: 3.11s\tremaining: 1.43s\n",
      "137:\tlearn: 1609.5185576\ttotal: 3.14s\tremaining: 1.41s\n",
      "138:\tlearn: 1608.9258265\ttotal: 3.16s\tremaining: 1.39s\n",
      "139:\tlearn: 1608.5456403\ttotal: 3.18s\tremaining: 1.36s\n",
      "140:\tlearn: 1607.8815845\ttotal: 3.21s\tremaining: 1.34s\n",
      "141:\tlearn: 1607.1925033\ttotal: 3.24s\tremaining: 1.32s\n",
      "142:\tlearn: 1606.8223127\ttotal: 3.26s\tremaining: 1.3s\n",
      "143:\tlearn: 1606.1018661\ttotal: 3.29s\tremaining: 1.28s\n",
      "144:\tlearn: 1605.3235889\ttotal: 3.33s\tremaining: 1.26s\n",
      "145:\tlearn: 1604.6779683\ttotal: 3.36s\tremaining: 1.24s\n",
      "146:\tlearn: 1603.6015110\ttotal: 3.38s\tremaining: 1.22s\n",
      "147:\tlearn: 1602.8812572\ttotal: 3.41s\tremaining: 1.2s\n",
      "148:\tlearn: 1602.1323697\ttotal: 3.43s\tremaining: 1.17s\n",
      "149:\tlearn: 1601.5373370\ttotal: 3.45s\tremaining: 1.15s\n",
      "150:\tlearn: 1601.1103840\ttotal: 3.47s\tremaining: 1.13s\n",
      "151:\tlearn: 1599.8095310\ttotal: 3.49s\tremaining: 1.1s\n",
      "152:\tlearn: 1598.7716317\ttotal: 3.51s\tremaining: 1.08s\n",
      "153:\tlearn: 1597.8656736\ttotal: 3.54s\tremaining: 1.06s\n",
      "154:\tlearn: 1597.2461729\ttotal: 3.56s\tremaining: 1.03s\n",
      "155:\tlearn: 1596.3425168\ttotal: 3.58s\tremaining: 1.01s\n",
      "156:\tlearn: 1596.0558556\ttotal: 3.6s\tremaining: 986ms\n",
      "157:\tlearn: 1595.4144943\ttotal: 3.62s\tremaining: 963ms\n",
      "158:\tlearn: 1594.5712652\ttotal: 3.64s\tremaining: 940ms\n",
      "159:\tlearn: 1593.1526512\ttotal: 3.66s\tremaining: 916ms\n",
      "160:\tlearn: 1592.4609121\ttotal: 3.69s\tremaining: 893ms\n",
      "161:\tlearn: 1591.6576217\ttotal: 3.71s\tremaining: 870ms\n",
      "162:\tlearn: 1590.9923769\ttotal: 3.73s\tremaining: 846ms\n",
      "163:\tlearn: 1590.4287455\ttotal: 3.75s\tremaining: 823ms\n",
      "164:\tlearn: 1589.6582737\ttotal: 3.77s\tremaining: 800ms\n",
      "165:\tlearn: 1589.0686735\ttotal: 3.79s\tremaining: 777ms\n",
      "166:\tlearn: 1588.3550873\ttotal: 3.81s\tremaining: 754ms\n",
      "167:\tlearn: 1587.5609377\ttotal: 3.84s\tremaining: 731ms\n",
      "168:\tlearn: 1586.4657330\ttotal: 3.86s\tremaining: 708ms\n",
      "169:\tlearn: 1585.7418172\ttotal: 3.88s\tremaining: 685ms\n",
      "170:\tlearn: 1585.0438856\ttotal: 3.91s\tremaining: 662ms\n",
      "171:\tlearn: 1584.6447232\ttotal: 3.93s\tremaining: 640ms\n",
      "172:\tlearn: 1583.8988889\ttotal: 3.95s\tremaining: 617ms\n",
      "173:\tlearn: 1583.3215299\ttotal: 3.98s\tremaining: 594ms\n",
      "174:\tlearn: 1582.6681497\ttotal: 4s\tremaining: 571ms\n",
      "175:\tlearn: 1581.8083292\ttotal: 4.02s\tremaining: 548ms\n",
      "176:\tlearn: 1581.1543531\ttotal: 4.04s\tremaining: 525ms\n",
      "177:\tlearn: 1580.6312647\ttotal: 4.06s\tremaining: 502ms\n",
      "178:\tlearn: 1580.0250153\ttotal: 4.09s\tremaining: 480ms\n",
      "179:\tlearn: 1579.1199436\ttotal: 4.11s\tremaining: 457ms\n",
      "180:\tlearn: 1578.2285657\ttotal: 4.13s\tremaining: 434ms\n",
      "181:\tlearn: 1577.4125995\ttotal: 4.16s\tremaining: 411ms\n",
      "182:\tlearn: 1576.5949487\ttotal: 4.18s\tremaining: 388ms\n",
      "183:\tlearn: 1576.1319381\ttotal: 4.2s\tremaining: 365ms\n",
      "184:\tlearn: 1575.6339109\ttotal: 4.22s\tremaining: 343ms\n",
      "185:\tlearn: 1575.1730003\ttotal: 4.25s\tremaining: 320ms\n",
      "186:\tlearn: 1574.2729813\ttotal: 4.28s\tremaining: 297ms\n",
      "187:\tlearn: 1573.5196521\ttotal: 4.3s\tremaining: 274ms\n",
      "188:\tlearn: 1572.9544466\ttotal: 4.32s\tremaining: 252ms\n",
      "189:\tlearn: 1572.3929050\ttotal: 4.34s\tremaining: 229ms\n",
      "190:\tlearn: 1571.8391625\ttotal: 4.36s\tremaining: 206ms\n",
      "191:\tlearn: 1571.3231006\ttotal: 4.38s\tremaining: 183ms\n",
      "192:\tlearn: 1570.5329030\ttotal: 4.41s\tremaining: 160ms\n",
      "193:\tlearn: 1570.1564859\ttotal: 4.43s\tremaining: 137ms\n",
      "194:\tlearn: 1569.6435916\ttotal: 4.45s\tremaining: 114ms\n",
      "195:\tlearn: 1569.2696841\ttotal: 4.47s\tremaining: 91.2ms\n",
      "196:\tlearn: 1568.6817276\ttotal: 4.49s\tremaining: 68.3ms\n",
      "197:\tlearn: 1568.3413188\ttotal: 4.51s\tremaining: 45.6ms\n",
      "198:\tlearn: 1567.9131683\ttotal: 4.53s\tremaining: 22.8ms\n",
      "199:\tlearn: 1567.2340080\ttotal: 4.55s\tremaining: 0us\n",
      "[CV] END ............................ score: (test=-1641.720) total time=   5.1s\n",
      "RMSE CatBoost: 1633.94\n",
      "CPU times: user 23.3 s, sys: 234 ms, total: 23.5 s\n",
      "Wall time: 26.1 s\n"
     ]
    },
    {
     "name": "stderr",
     "output_type": "stream",
     "text": [
      "[Parallel(n_jobs=1)]: Done   5 out of   5 | elapsed:   26.1s remaining:    0.0s\n",
      "[Parallel(n_jobs=1)]: Done   5 out of   5 | elapsed:   26.1s finished\n"
     ]
    }
   ],
   "source": [
    "%%time\n",
    "model_cat = CatBoostRegressor(n_estimators = 200, loss_function = 'RMSE', eval_metric = 'RMSE')\n",
    "result_cat = cross_val_score(model_cat, ft_ordinal, tt, cv=5, scoring = 'neg_root_mean_squared_error', verbose=10).mean() * -1\n",
    "print(f'RMSE CatBoost: {result_cat:.2f}')"
   ]
  },
  {
   "cell_type": "code",
   "execution_count": 41,
   "metadata": {
    "collapsed": true
   },
   "outputs": [
    {
     "name": "stdout",
     "output_type": "stream",
     "text": [
      "Learning rate set to 0.355813\n",
      "0:\tlearn: 3596.6841680\ttotal: 31.2ms\tremaining: 6.21s\n",
      "1:\tlearn: 2976.7608507\ttotal: 60.4ms\tremaining: 5.98s\n",
      "2:\tlearn: 2630.7353661\ttotal: 87.4ms\tremaining: 5.74s\n",
      "3:\tlearn: 2424.0939684\ttotal: 114ms\tremaining: 5.59s\n",
      "4:\tlearn: 2278.8644821\ttotal: 142ms\tremaining: 5.56s\n",
      "5:\tlearn: 2184.7340043\ttotal: 169ms\tremaining: 5.46s\n",
      "6:\tlearn: 2128.9314104\ttotal: 196ms\tremaining: 5.41s\n",
      "7:\tlearn: 2085.8911409\ttotal: 223ms\tremaining: 5.35s\n",
      "8:\tlearn: 2058.0671528\ttotal: 249ms\tremaining: 5.28s\n",
      "9:\tlearn: 2012.3108683\ttotal: 281ms\tremaining: 5.35s\n",
      "10:\tlearn: 1991.3225591\ttotal: 309ms\tremaining: 5.32s\n",
      "11:\tlearn: 1972.9080368\ttotal: 341ms\tremaining: 5.34s\n",
      "12:\tlearn: 1954.1615165\ttotal: 372ms\tremaining: 5.35s\n",
      "13:\tlearn: 1929.7530491\ttotal: 406ms\tremaining: 5.4s\n",
      "14:\tlearn: 1917.3804163\ttotal: 439ms\tremaining: 5.42s\n",
      "15:\tlearn: 1904.8287294\ttotal: 467ms\tremaining: 5.38s\n",
      "16:\tlearn: 1894.1085867\ttotal: 495ms\tremaining: 5.32s\n",
      "17:\tlearn: 1887.5618887\ttotal: 523ms\tremaining: 5.29s\n",
      "18:\tlearn: 1877.7524566\ttotal: 551ms\tremaining: 5.24s\n",
      "19:\tlearn: 1872.1174949\ttotal: 577ms\tremaining: 5.19s\n",
      "20:\tlearn: 1856.9368839\ttotal: 604ms\tremaining: 5.15s\n",
      "21:\tlearn: 1846.3852663\ttotal: 634ms\tremaining: 5.13s\n",
      "22:\tlearn: 1841.4363972\ttotal: 661ms\tremaining: 5.08s\n",
      "23:\tlearn: 1833.8755742\ttotal: 686ms\tremaining: 5.03s\n",
      "24:\tlearn: 1829.0574756\ttotal: 719ms\tremaining: 5.03s\n",
      "25:\tlearn: 1824.6514613\ttotal: 747ms\tremaining: 5s\n",
      "26:\tlearn: 1818.6285071\ttotal: 775ms\tremaining: 4.96s\n",
      "27:\tlearn: 1814.5480158\ttotal: 799ms\tremaining: 4.91s\n",
      "28:\tlearn: 1806.2115660\ttotal: 825ms\tremaining: 4.87s\n",
      "29:\tlearn: 1800.9363078\ttotal: 854ms\tremaining: 4.84s\n",
      "30:\tlearn: 1795.1971238\ttotal: 880ms\tremaining: 4.8s\n",
      "31:\tlearn: 1792.8338647\ttotal: 910ms\tremaining: 4.78s\n",
      "32:\tlearn: 1786.4687512\ttotal: 937ms\tremaining: 4.74s\n",
      "33:\tlearn: 1781.4637380\ttotal: 965ms\tremaining: 4.71s\n",
      "34:\tlearn: 1777.6195303\ttotal: 994ms\tremaining: 4.69s\n",
      "35:\tlearn: 1773.0855692\ttotal: 1.02s\tremaining: 4.67s\n",
      "36:\tlearn: 1769.2429090\ttotal: 1.05s\tremaining: 4.65s\n",
      "37:\tlearn: 1765.7704815\ttotal: 1.09s\tremaining: 4.64s\n",
      "38:\tlearn: 1764.0574393\ttotal: 1.12s\tremaining: 4.63s\n",
      "39:\tlearn: 1761.0774280\ttotal: 1.15s\tremaining: 4.59s\n",
      "40:\tlearn: 1758.4955745\ttotal: 1.18s\tremaining: 4.56s\n",
      "41:\tlearn: 1754.6985677\ttotal: 1.21s\tremaining: 4.53s\n",
      "42:\tlearn: 1752.4278502\ttotal: 1.23s\tremaining: 4.5s\n",
      "43:\tlearn: 1749.3908932\ttotal: 1.26s\tremaining: 4.46s\n",
      "44:\tlearn: 1746.4816709\ttotal: 1.29s\tremaining: 4.43s\n",
      "45:\tlearn: 1744.6259336\ttotal: 1.31s\tremaining: 4.39s\n",
      "46:\tlearn: 1741.9335156\ttotal: 1.34s\tremaining: 4.36s\n",
      "47:\tlearn: 1738.1495749\ttotal: 1.37s\tremaining: 4.34s\n",
      "48:\tlearn: 1736.5168143\ttotal: 1.4s\tremaining: 4.31s\n",
      "49:\tlearn: 1733.2613933\ttotal: 1.43s\tremaining: 4.28s\n",
      "50:\tlearn: 1730.6381938\ttotal: 1.45s\tremaining: 4.25s\n",
      "51:\tlearn: 1726.1331137\ttotal: 1.48s\tremaining: 4.22s\n",
      "52:\tlearn: 1722.3393149\ttotal: 1.51s\tremaining: 4.2s\n",
      "53:\tlearn: 1719.8643586\ttotal: 1.54s\tremaining: 4.16s\n",
      "54:\tlearn: 1717.3573231\ttotal: 1.57s\tremaining: 4.13s\n",
      "55:\tlearn: 1714.4093197\ttotal: 1.6s\tremaining: 4.12s\n",
      "56:\tlearn: 1712.8364002\ttotal: 1.63s\tremaining: 4.09s\n",
      "57:\tlearn: 1710.4137299\ttotal: 1.66s\tremaining: 4.06s\n",
      "58:\tlearn: 1709.0387869\ttotal: 1.69s\tremaining: 4.03s\n",
      "59:\tlearn: 1707.2698438\ttotal: 1.72s\tremaining: 4.01s\n",
      "60:\tlearn: 1705.4737987\ttotal: 1.75s\tremaining: 3.98s\n",
      "61:\tlearn: 1703.1947469\ttotal: 1.77s\tremaining: 3.95s\n",
      "62:\tlearn: 1701.0084474\ttotal: 1.8s\tremaining: 3.93s\n",
      "63:\tlearn: 1699.9149291\ttotal: 1.83s\tremaining: 3.89s\n",
      "64:\tlearn: 1697.8367531\ttotal: 1.86s\tremaining: 3.86s\n",
      "65:\tlearn: 1695.8322551\ttotal: 1.89s\tremaining: 3.83s\n",
      "66:\tlearn: 1694.4431393\ttotal: 1.91s\tremaining: 3.8s\n",
      "67:\tlearn: 1692.5095490\ttotal: 1.94s\tremaining: 3.77s\n",
      "68:\tlearn: 1689.8927623\ttotal: 1.97s\tremaining: 3.75s\n",
      "69:\tlearn: 1688.3145256\ttotal: 2s\tremaining: 3.72s\n",
      "70:\tlearn: 1686.7873986\ttotal: 2.03s\tremaining: 3.68s\n",
      "71:\tlearn: 1684.9989671\ttotal: 2.06s\tremaining: 3.65s\n",
      "72:\tlearn: 1683.1804030\ttotal: 2.08s\tremaining: 3.62s\n",
      "73:\tlearn: 1681.7501381\ttotal: 2.11s\tremaining: 3.6s\n",
      "74:\tlearn: 1680.3530198\ttotal: 2.15s\tremaining: 3.58s\n",
      "75:\tlearn: 1678.3426159\ttotal: 2.18s\tremaining: 3.55s\n",
      "76:\tlearn: 1676.6690425\ttotal: 2.21s\tremaining: 3.53s\n",
      "77:\tlearn: 1675.3464401\ttotal: 2.23s\tremaining: 3.5s\n",
      "78:\tlearn: 1674.5955799\ttotal: 2.26s\tremaining: 3.46s\n",
      "79:\tlearn: 1673.1452674\ttotal: 2.29s\tremaining: 3.44s\n",
      "80:\tlearn: 1671.9204335\ttotal: 2.32s\tremaining: 3.41s\n",
      "81:\tlearn: 1670.7321142\ttotal: 2.35s\tremaining: 3.38s\n",
      "82:\tlearn: 1668.9261584\ttotal: 2.38s\tremaining: 3.35s\n",
      "83:\tlearn: 1667.6357074\ttotal: 2.4s\tremaining: 3.32s\n",
      "84:\tlearn: 1666.2382064\ttotal: 2.44s\tremaining: 3.29s\n",
      "85:\tlearn: 1664.7561164\ttotal: 2.46s\tremaining: 3.26s\n",
      "86:\tlearn: 1663.4007251\ttotal: 2.49s\tremaining: 3.24s\n",
      "87:\tlearn: 1662.6081571\ttotal: 2.52s\tremaining: 3.21s\n",
      "88:\tlearn: 1661.5416285\ttotal: 2.55s\tremaining: 3.18s\n",
      "89:\tlearn: 1660.0365171\ttotal: 2.58s\tremaining: 3.15s\n",
      "90:\tlearn: 1658.9891091\ttotal: 2.61s\tremaining: 3.12s\n",
      "91:\tlearn: 1657.8682773\ttotal: 2.63s\tremaining: 3.09s\n",
      "92:\tlearn: 1656.8691322\ttotal: 2.66s\tremaining: 3.06s\n",
      "93:\tlearn: 1655.6157125\ttotal: 2.69s\tremaining: 3.03s\n",
      "94:\tlearn: 1653.6598275\ttotal: 2.71s\tremaining: 3s\n",
      "95:\tlearn: 1652.5077444\ttotal: 2.74s\tremaining: 2.97s\n",
      "96:\tlearn: 1651.3008642\ttotal: 2.77s\tremaining: 2.94s\n",
      "97:\tlearn: 1649.8439957\ttotal: 2.8s\tremaining: 2.91s\n",
      "98:\tlearn: 1648.2413675\ttotal: 2.83s\tremaining: 2.88s\n",
      "99:\tlearn: 1647.1501810\ttotal: 2.85s\tremaining: 2.85s\n",
      "100:\tlearn: 1645.9662413\ttotal: 2.88s\tremaining: 2.82s\n",
      "101:\tlearn: 1644.7651268\ttotal: 2.91s\tremaining: 2.79s\n",
      "102:\tlearn: 1643.1117322\ttotal: 2.94s\tremaining: 2.77s\n",
      "103:\tlearn: 1641.5659077\ttotal: 2.97s\tremaining: 2.74s\n",
      "104:\tlearn: 1640.6080792\ttotal: 3s\tremaining: 2.71s\n",
      "105:\tlearn: 1639.8053513\ttotal: 3.04s\tremaining: 2.69s\n",
      "106:\tlearn: 1638.8543841\ttotal: 3.07s\tremaining: 2.67s\n",
      "107:\tlearn: 1637.9135591\ttotal: 3.11s\tremaining: 2.65s\n",
      "108:\tlearn: 1636.9558930\ttotal: 3.14s\tremaining: 2.62s\n",
      "109:\tlearn: 1635.9429098\ttotal: 3.17s\tremaining: 2.6s\n",
      "110:\tlearn: 1634.6925200\ttotal: 3.21s\tremaining: 2.57s\n",
      "111:\tlearn: 1633.7576834\ttotal: 3.25s\tremaining: 2.55s\n",
      "112:\tlearn: 1632.7286579\ttotal: 3.28s\tremaining: 2.53s\n",
      "113:\tlearn: 1631.9413342\ttotal: 3.31s\tremaining: 2.5s\n",
      "114:\tlearn: 1630.7487831\ttotal: 3.34s\tremaining: 2.47s\n",
      "115:\tlearn: 1630.0708014\ttotal: 3.37s\tremaining: 2.44s\n",
      "116:\tlearn: 1629.4738218\ttotal: 3.39s\tremaining: 2.41s\n",
      "117:\tlearn: 1628.3293784\ttotal: 3.42s\tremaining: 2.38s\n",
      "118:\tlearn: 1627.8076086\ttotal: 3.44s\tremaining: 2.34s\n",
      "119:\tlearn: 1627.2749040\ttotal: 3.47s\tremaining: 2.31s\n",
      "120:\tlearn: 1626.4716372\ttotal: 3.5s\tremaining: 2.28s\n",
      "121:\tlearn: 1625.8186737\ttotal: 3.52s\tremaining: 2.25s\n",
      "122:\tlearn: 1625.3140097\ttotal: 3.55s\tremaining: 2.22s\n",
      "123:\tlearn: 1624.4322716\ttotal: 3.57s\tremaining: 2.19s\n",
      "124:\tlearn: 1623.4518650\ttotal: 3.6s\tremaining: 2.16s\n",
      "125:\tlearn: 1622.7120896\ttotal: 3.63s\tremaining: 2.13s\n",
      "126:\tlearn: 1622.2231657\ttotal: 3.66s\tremaining: 2.1s\n",
      "127:\tlearn: 1621.6420826\ttotal: 3.68s\tremaining: 2.07s\n",
      "128:\tlearn: 1620.9298288\ttotal: 3.71s\tremaining: 2.04s\n",
      "129:\tlearn: 1620.5042650\ttotal: 3.73s\tremaining: 2.01s\n",
      "130:\tlearn: 1619.8080836\ttotal: 3.76s\tremaining: 1.98s\n",
      "131:\tlearn: 1619.3869887\ttotal: 3.79s\tremaining: 1.95s\n",
      "132:\tlearn: 1618.5972741\ttotal: 3.81s\tremaining: 1.92s\n",
      "133:\tlearn: 1617.6188877\ttotal: 3.84s\tremaining: 1.89s\n",
      "134:\tlearn: 1616.4871838\ttotal: 3.87s\tremaining: 1.86s\n",
      "135:\tlearn: 1615.7808614\ttotal: 3.9s\tremaining: 1.83s\n",
      "136:\tlearn: 1614.6028803\ttotal: 3.93s\tremaining: 1.8s\n",
      "137:\tlearn: 1613.6315365\ttotal: 3.95s\tremaining: 1.78s\n",
      "138:\tlearn: 1612.9769347\ttotal: 3.98s\tremaining: 1.75s\n",
      "139:\tlearn: 1612.0969252\ttotal: 4.01s\tremaining: 1.72s\n",
      "140:\tlearn: 1611.1316459\ttotal: 4.04s\tremaining: 1.69s\n",
      "141:\tlearn: 1610.2673076\ttotal: 4.07s\tremaining: 1.66s\n",
      "142:\tlearn: 1609.5227496\ttotal: 4.1s\tremaining: 1.63s\n",
      "143:\tlearn: 1608.9616864\ttotal: 4.13s\tremaining: 1.61s\n",
      "144:\tlearn: 1608.1203734\ttotal: 4.16s\tremaining: 1.58s\n",
      "145:\tlearn: 1607.6341719\ttotal: 4.19s\tremaining: 1.55s\n",
      "146:\tlearn: 1606.5654328\ttotal: 4.21s\tremaining: 1.52s\n",
      "147:\tlearn: 1605.9283535\ttotal: 4.24s\tremaining: 1.49s\n",
      "148:\tlearn: 1605.0327395\ttotal: 4.27s\tremaining: 1.46s\n",
      "149:\tlearn: 1604.4093804\ttotal: 4.29s\tremaining: 1.43s\n",
      "150:\tlearn: 1604.0118753\ttotal: 4.32s\tremaining: 1.4s\n",
      "151:\tlearn: 1603.3256995\ttotal: 4.35s\tremaining: 1.37s\n",
      "152:\tlearn: 1602.5105869\ttotal: 4.38s\tremaining: 1.34s\n",
      "153:\tlearn: 1601.7608882\ttotal: 4.4s\tremaining: 1.31s\n",
      "154:\tlearn: 1601.2129906\ttotal: 4.43s\tremaining: 1.28s\n",
      "155:\tlearn: 1600.2973506\ttotal: 4.45s\tremaining: 1.26s\n",
      "156:\tlearn: 1599.7627516\ttotal: 4.48s\tremaining: 1.23s\n",
      "157:\tlearn: 1598.2759063\ttotal: 4.51s\tremaining: 1.2s\n",
      "158:\tlearn: 1597.7694293\ttotal: 4.55s\tremaining: 1.17s\n",
      "159:\tlearn: 1596.8804486\ttotal: 4.58s\tremaining: 1.14s\n",
      "160:\tlearn: 1596.3020993\ttotal: 4.6s\tremaining: 1.11s\n",
      "161:\tlearn: 1595.8606219\ttotal: 4.63s\tremaining: 1.09s\n",
      "162:\tlearn: 1595.4776958\ttotal: 4.65s\tremaining: 1.06s\n",
      "163:\tlearn: 1594.7914160\ttotal: 4.68s\tremaining: 1.03s\n",
      "164:\tlearn: 1594.1488822\ttotal: 4.71s\tremaining: 999ms\n",
      "165:\tlearn: 1593.4930119\ttotal: 4.74s\tremaining: 971ms\n",
      "166:\tlearn: 1592.8202273\ttotal: 4.76s\tremaining: 942ms\n",
      "167:\tlearn: 1592.1322320\ttotal: 4.79s\tremaining: 912ms\n",
      "168:\tlearn: 1591.0611663\ttotal: 4.82s\tremaining: 884ms\n",
      "169:\tlearn: 1590.3087651\ttotal: 4.84s\tremaining: 855ms\n",
      "170:\tlearn: 1589.8426314\ttotal: 4.87s\tremaining: 826ms\n",
      "171:\tlearn: 1589.3101082\ttotal: 4.9s\tremaining: 798ms\n",
      "172:\tlearn: 1588.6909107\ttotal: 4.93s\tremaining: 769ms\n",
      "173:\tlearn: 1587.6476846\ttotal: 4.95s\tremaining: 740ms\n",
      "174:\tlearn: 1587.2180040\ttotal: 4.99s\tremaining: 713ms\n",
      "175:\tlearn: 1586.6859645\ttotal: 5.02s\tremaining: 685ms\n",
      "176:\tlearn: 1586.0599260\ttotal: 5.04s\tremaining: 656ms\n",
      "177:\tlearn: 1585.5641421\ttotal: 5.07s\tremaining: 627ms\n",
      "178:\tlearn: 1585.0503273\ttotal: 5.1s\tremaining: 598ms\n",
      "179:\tlearn: 1584.6441516\ttotal: 5.13s\tremaining: 570ms\n",
      "180:\tlearn: 1583.6671344\ttotal: 5.15s\tremaining: 541ms\n",
      "181:\tlearn: 1583.1665444\ttotal: 5.18s\tremaining: 512ms\n",
      "182:\tlearn: 1582.5550994\ttotal: 5.2s\tremaining: 484ms\n",
      "183:\tlearn: 1581.9228977\ttotal: 5.23s\tremaining: 455ms\n",
      "184:\tlearn: 1581.6781094\ttotal: 5.25s\tremaining: 426ms\n",
      "185:\tlearn: 1581.3043340\ttotal: 5.29s\tremaining: 398ms\n",
      "186:\tlearn: 1580.4471646\ttotal: 5.32s\tremaining: 370ms\n",
      "187:\tlearn: 1579.4086403\ttotal: 5.34s\tremaining: 341ms\n",
      "188:\tlearn: 1578.7998442\ttotal: 5.37s\tremaining: 313ms\n",
      "189:\tlearn: 1578.2309492\ttotal: 5.4s\tremaining: 284ms\n",
      "190:\tlearn: 1577.6950226\ttotal: 5.42s\tremaining: 256ms\n",
      "191:\tlearn: 1577.4278386\ttotal: 5.45s\tremaining: 227ms\n",
      "192:\tlearn: 1576.7857106\ttotal: 5.47s\tremaining: 199ms\n",
      "193:\tlearn: 1575.9011021\ttotal: 5.5s\tremaining: 170ms\n",
      "194:\tlearn: 1575.4770965\ttotal: 5.53s\tremaining: 142ms\n",
      "195:\tlearn: 1574.8448560\ttotal: 5.56s\tremaining: 113ms\n",
      "196:\tlearn: 1573.8356333\ttotal: 5.59s\tremaining: 85.1ms\n",
      "197:\tlearn: 1573.0665521\ttotal: 5.61s\tremaining: 56.7ms\n",
      "198:\tlearn: 1572.6639644\ttotal: 5.64s\tremaining: 28.4ms\n",
      "199:\tlearn: 1572.0422834\ttotal: 5.67s\tremaining: 0us\n",
      "CPU times: user 5.76 s, sys: 98.7 ms, total: 5.86 s\n",
      "Wall time: 6.26 s\n"
     ]
    },
    {
     "data": {
      "text/plain": [
       "<catboost.core.CatBoostRegressor at 0x7f88f0a21670>"
      ]
     },
     "execution_count": 41,
     "metadata": {},
     "output_type": "execute_result"
    }
   ],
   "source": [
    "%%time\n",
    "model_cat = CatBoostRegressor(n_estimators = 200, loss_function = 'RMSE', eval_metric = 'RMSE')\n",
    "model_cat.fit(ft_ordinal, tt)"
   ]
  },
  {
   "cell_type": "code",
   "execution_count": 42,
   "metadata": {},
   "outputs": [
    {
     "name": "stdout",
     "output_type": "stream",
     "text": [
      "1572.042283405506\n",
      "CPU times: user 91.8 ms, sys: 218 µs, total: 92.1 ms\n",
      "Wall time: 90.5 ms\n"
     ]
    }
   ],
   "source": [
    "%%time\n",
    "predictions_cat = model_cat.predict(ft_ordinal)\n",
    "print(mean_squared_error(tt, predictions_cat)**0.5)"
   ]
  },
  {
   "cell_type": "markdown",
   "metadata": {},
   "source": [
    "\n",
    "* Линейная регрессия:\n",
    "\n",
    "RMSE: 2665.52 Время обучения: 22 сек. Время предсказания: 414 м.сек.\n",
    "\n",
    "* LightGBM:\n",
    "\n",
    "RMSE: 1991.33 Время обучения: 13.3 сек. Время предсказания: 3.62 сек.\n",
    "\n",
    "* CatBoost:\n",
    "\n",
    "RMSE: 1633.94 Время обучения: 6.22 сек. Время предсказания: 74.3 м.сек."
   ]
  },
  {
   "cell_type": "markdown",
   "metadata": {},
   "source": [
    "## Тестирование модели"
   ]
  },
  {
   "cell_type": "code",
   "execution_count": 43,
   "metadata": {
    "collapsed": true
   },
   "outputs": [
    {
     "name": "stdout",
     "output_type": "stream",
     "text": [
      "Learning rate set to 0.355813\n",
      "0:\tlearn: 3610.6057662\ttotal: 36.9ms\tremaining: 7.34s\n",
      "10:\tlearn: 1973.6023262\ttotal: 314ms\tremaining: 5.4s\n",
      "20:\tlearn: 1846.0779741\ttotal: 585ms\tremaining: 4.99s\n",
      "30:\tlearn: 1789.0252816\ttotal: 857ms\tremaining: 4.67s\n",
      "40:\tlearn: 1750.5370978\ttotal: 1.15s\tremaining: 4.48s\n",
      "50:\tlearn: 1726.1121646\ttotal: 1.45s\tremaining: 4.22s\n",
      "60:\tlearn: 1704.2994398\ttotal: 1.72s\tremaining: 3.91s\n",
      "70:\tlearn: 1685.9390482\ttotal: 2s\tremaining: 3.63s\n",
      "80:\tlearn: 1671.6073096\ttotal: 2.28s\tremaining: 3.35s\n",
      "90:\tlearn: 1656.9188967\ttotal: 2.56s\tremaining: 3.07s\n",
      "100:\tlearn: 1643.8498890\ttotal: 2.83s\tremaining: 2.78s\n",
      "110:\tlearn: 1634.4125871\ttotal: 3.13s\tremaining: 2.51s\n",
      "120:\tlearn: 1625.7645429\ttotal: 3.4s\tremaining: 2.22s\n",
      "130:\tlearn: 1617.5338264\ttotal: 3.68s\tremaining: 1.94s\n",
      "140:\tlearn: 1609.1224034\ttotal: 3.96s\tremaining: 1.66s\n",
      "150:\tlearn: 1601.9698966\ttotal: 4.23s\tremaining: 1.37s\n",
      "160:\tlearn: 1596.1903277\ttotal: 4.48s\tremaining: 1.08s\n",
      "170:\tlearn: 1590.1774292\ttotal: 4.75s\tremaining: 806ms\n",
      "180:\tlearn: 1583.0819578\ttotal: 5.02s\tremaining: 527ms\n",
      "190:\tlearn: 1577.8600260\ttotal: 5.28s\tremaining: 249ms\n",
      "199:\tlearn: 1572.7413962\ttotal: 5.55s\tremaining: 0us\n",
      "CPU times: user 6.69 s, sys: 64.2 ms, total: 6.76 s\n",
      "Wall time: 7.18 s\n"
     ]
    },
    {
     "data": {
      "text/plain": [
       "<catboost.core.CatBoostRegressor at 0x7f89845201c0>"
      ]
     },
     "execution_count": 43,
     "metadata": {},
     "output_type": "execute_result"
    }
   ],
   "source": [
    "%%time\n",
    "model_cat = CatBoostRegressor(n_estimators = 200, loss_function = 'RMSE', eval_metric = 'RMSE')\n",
    "model_cat.fit(ft_ohe, tt, verbose=10)"
   ]
  },
  {
   "cell_type": "code",
   "execution_count": 44,
   "metadata": {},
   "outputs": [
    {
     "name": "stdout",
     "output_type": "stream",
     "text": [
      "RMSE CatBoost: 1623.40\n",
      "CPU times: user 72.1 ms, sys: 0 ns, total: 72.1 ms\n",
      "Wall time: 70.2 ms\n"
     ]
    }
   ],
   "source": [
    "%%time\n",
    "predicted_cat = model_cat.predict(ftest_ohe)\n",
    "rmse = (mean_squared_error(ttest, predicted_cat, squared= False))\n",
    "print(f'RMSE CatBoost: {rmse:.2f}')"
   ]
  },
  {
   "cell_type": "markdown",
   "metadata": {},
   "source": [
    "На тесте мы видим RMSE: 1623.40 Время обучения: 7.19 сек. Время предсказания: 56.1 м.сек.\n"
   ]
  },
  {
   "cell_type": "markdown",
   "metadata": {},
   "source": [
    "Для выполнения данного проекта были выполнены следующие шаги:\n",
    "\n",
    "* Проведена предобработка данных:\n",
    "  - Названия столбцов приведены в читабельный вид\n",
    "  - Выявлены и удалены дубликаты\n",
    "  - Выполнены замены форматов\n",
    "  - Удалены неинформативные данные такие как дата выгрузки данных и месяц регистрации авто\n",
    "  - Выявлены и заполнены пропуски максимально реальными данными\n",
    "* Исследованы данные:\n",
    "  - Выявлены и устранены аномалии в возрасте авто\n",
    "  - Выявлены и устранены аномалии в стоимости авто\n",
    "  - Выявлены и устранены аномалии в мощности авто\n",
    "  - Выявлены и устранены аномалии в пробеге авто\n",
    "* Разделение на выборки обучающая и тестовая с последующим кодированием\n",
    "* Анализ моделей:\n",
    "  - Линейная регрессия Время обучения:   Время Предсказания:   RMSE:\n",
    "  - LightGBM Время обучения:   Время Предсказания:   RMSE:\n",
    "  - CatBoost Время обучения:   Время Предсказания:   RMSE:\n",
    "* Тестирование модели Время обучения: 7.19 сек.   Время Предсказания: 56.1 м.сек.   RMSE: 1623.40"
   ]
  }
 ],
 "metadata": {
  "ExecuteTimeLog": [
   {
    "duration": 420,
    "start_time": "2023-02-08T09:58:33.837Z"
   },
   {
    "duration": 1045,
    "start_time": "2023-02-08T09:59:08.444Z"
   },
   {
    "duration": 801,
    "start_time": "2023-02-08T09:59:12.165Z"
   },
   {
    "duration": 837,
    "start_time": "2023-02-08T10:01:00.802Z"
   },
   {
    "duration": 1810,
    "start_time": "2023-02-08T10:01:05.696Z"
   },
   {
    "duration": 2,
    "start_time": "2023-02-08T10:01:37.207Z"
   },
   {
    "duration": 1433,
    "start_time": "2023-02-08T10:01:39.154Z"
   },
   {
    "duration": 1375,
    "start_time": "2023-02-08T10:03:17.815Z"
   },
   {
    "duration": 627,
    "start_time": "2023-02-08T10:03:58.799Z"
   },
   {
    "duration": 793,
    "start_time": "2023-02-08T10:03:59.428Z"
   },
   {
    "duration": 1484,
    "start_time": "2023-02-08T10:04:00.223Z"
   },
   {
    "duration": 59,
    "start_time": "2023-02-08T11:14:48.575Z"
   },
   {
    "duration": 153,
    "start_time": "2023-02-08T11:15:17.060Z"
   },
   {
    "duration": 132,
    "start_time": "2023-02-08T11:15:25.223Z"
   },
   {
    "duration": 202,
    "start_time": "2023-02-08T11:15:37.014Z"
   },
   {
    "duration": 12,
    "start_time": "2023-02-08T11:15:37.493Z"
   },
   {
    "duration": 11,
    "start_time": "2023-02-08T11:15:59.963Z"
   },
   {
    "duration": 10,
    "start_time": "2023-02-08T11:16:00.532Z"
   },
   {
    "duration": 651,
    "start_time": "2023-02-08T11:16:05.432Z"
   },
   {
    "duration": 840,
    "start_time": "2023-02-08T11:16:06.085Z"
   },
   {
    "duration": 1539,
    "start_time": "2023-02-08T11:16:06.927Z"
   },
   {
    "duration": 282,
    "start_time": "2023-02-08T11:16:08.468Z"
   },
   {
    "duration": 94,
    "start_time": "2023-02-08T11:16:08.751Z"
   },
   {
    "duration": 22,
    "start_time": "2023-02-08T11:17:17.085Z"
   },
   {
    "duration": 50,
    "start_time": "2023-02-08T11:18:07.152Z"
   },
   {
    "duration": 47,
    "start_time": "2023-02-08T11:18:12.701Z"
   },
   {
    "duration": 48,
    "start_time": "2023-02-08T11:18:26.087Z"
   },
   {
    "duration": 369,
    "start_time": "2023-02-08T11:24:23.076Z"
   },
   {
    "duration": 543,
    "start_time": "2023-02-08T11:24:44.399Z"
   },
   {
    "duration": 1968,
    "start_time": "2023-02-08T11:25:19.138Z"
   },
   {
    "duration": 1332,
    "start_time": "2023-02-08T11:26:42.351Z"
   },
   {
    "duration": 1367,
    "start_time": "2023-02-08T11:27:20.073Z"
   },
   {
    "duration": 682,
    "start_time": "2023-02-08T11:27:28.277Z"
   },
   {
    "duration": 799,
    "start_time": "2023-02-08T11:27:28.961Z"
   },
   {
    "duration": 1489,
    "start_time": "2023-02-08T11:27:29.762Z"
   },
   {
    "duration": 0,
    "start_time": "2023-02-08T11:27:31.254Z"
   },
   {
    "duration": 0,
    "start_time": "2023-02-08T11:27:31.256Z"
   },
   {
    "duration": 0,
    "start_time": "2023-02-08T11:27:31.258Z"
   },
   {
    "duration": 0,
    "start_time": "2023-02-08T11:27:31.260Z"
   },
   {
    "duration": 26,
    "start_time": "2023-02-08T11:31:56.684Z"
   },
   {
    "duration": 1603,
    "start_time": "2023-02-08T11:40:52.666Z"
   },
   {
    "duration": 587,
    "start_time": "2023-02-08T11:41:06.257Z"
   },
   {
    "duration": 829,
    "start_time": "2023-02-08T11:41:06.846Z"
   },
   {
    "duration": 1602,
    "start_time": "2023-02-08T11:41:07.677Z"
   },
   {
    "duration": 943,
    "start_time": "2023-02-08T11:41:09.281Z"
   },
   {
    "duration": 242,
    "start_time": "2023-02-08T11:41:10.226Z"
   },
   {
    "duration": 92,
    "start_time": "2023-02-08T11:41:10.470Z"
   },
   {
    "duration": 43,
    "start_time": "2023-02-08T11:41:10.564Z"
   },
   {
    "duration": 6,
    "start_time": "2023-02-08T11:41:10.608Z"
   },
   {
    "duration": 1945,
    "start_time": "2023-02-08T11:41:31.258Z"
   },
   {
    "duration": 639,
    "start_time": "2023-02-08T11:41:43.300Z"
   },
   {
    "duration": 893,
    "start_time": "2023-02-08T11:41:43.942Z"
   },
   {
    "duration": 1523,
    "start_time": "2023-02-08T11:41:44.837Z"
   },
   {
    "duration": 937,
    "start_time": "2023-02-08T11:41:46.361Z"
   },
   {
    "duration": 257,
    "start_time": "2023-02-08T11:41:47.300Z"
   },
   {
    "duration": 89,
    "start_time": "2023-02-08T11:41:47.559Z"
   },
   {
    "duration": 45,
    "start_time": "2023-02-08T11:41:47.650Z"
   },
   {
    "duration": 5,
    "start_time": "2023-02-08T11:41:47.697Z"
   },
   {
    "duration": 63,
    "start_time": "2023-02-10T10:11:15.860Z"
   },
   {
    "duration": 955,
    "start_time": "2023-02-10T10:11:22.805Z"
   },
   {
    "duration": 4181,
    "start_time": "2023-02-10T10:11:23.762Z"
   },
   {
    "duration": 1805,
    "start_time": "2023-02-10T10:11:27.945Z"
   },
   {
    "duration": 1107,
    "start_time": "2023-02-10T10:11:29.752Z"
   },
   {
    "duration": 341,
    "start_time": "2023-02-10T10:11:30.862Z"
   },
   {
    "duration": 125,
    "start_time": "2023-02-10T10:11:31.205Z"
   },
   {
    "duration": 58,
    "start_time": "2023-02-10T10:11:31.333Z"
   },
   {
    "duration": 41,
    "start_time": "2023-02-10T10:11:31.393Z"
   },
   {
    "duration": 102,
    "start_time": "2023-02-10T10:11:31.439Z"
   },
   {
    "duration": 620,
    "start_time": "2023-02-10T10:12:24.067Z"
   },
   {
    "duration": 853,
    "start_time": "2023-02-10T10:13:17.589Z"
   },
   {
    "duration": 872,
    "start_time": "2023-02-10T10:14:04.748Z"
   },
   {
    "duration": 1120,
    "start_time": "2023-02-10T10:14:12.094Z"
   },
   {
    "duration": 623,
    "start_time": "2023-02-10T10:14:27.015Z"
   },
   {
    "duration": 689,
    "start_time": "2023-02-10T10:14:45.029Z"
   },
   {
    "duration": 922,
    "start_time": "2023-02-10T10:14:45.720Z"
   },
   {
    "duration": 1786,
    "start_time": "2023-02-10T10:14:46.646Z"
   },
   {
    "duration": 1042,
    "start_time": "2023-02-10T10:14:48.436Z"
   },
   {
    "duration": 322,
    "start_time": "2023-02-10T10:14:49.480Z"
   },
   {
    "duration": 95,
    "start_time": "2023-02-10T10:14:49.806Z"
   },
   {
    "duration": 43,
    "start_time": "2023-02-10T10:14:49.903Z"
   },
   {
    "duration": 9,
    "start_time": "2023-02-10T10:14:49.948Z"
   },
   {
    "duration": 722,
    "start_time": "2023-02-10T10:14:49.959Z"
   },
   {
    "duration": 846,
    "start_time": "2023-02-10T10:15:03.479Z"
   },
   {
    "duration": 913,
    "start_time": "2023-02-10T10:20:07.809Z"
   },
   {
    "duration": 1256,
    "start_time": "2023-02-10T10:21:29.176Z"
   },
   {
    "duration": 14,
    "start_time": "2023-02-10T10:53:10.189Z"
   },
   {
    "duration": 4,
    "start_time": "2023-02-10T10:53:20.120Z"
   },
   {
    "duration": 14,
    "start_time": "2023-02-10T10:53:25.789Z"
   },
   {
    "duration": 97,
    "start_time": "2023-02-10T10:58:31.024Z"
   },
   {
    "duration": 123,
    "start_time": "2023-02-10T10:58:44.949Z"
   },
   {
    "duration": 66,
    "start_time": "2023-02-10T10:59:16.217Z"
   },
   {
    "duration": 41,
    "start_time": "2023-02-10T10:59:24.817Z"
   },
   {
    "duration": 27,
    "start_time": "2023-02-10T10:59:30.990Z"
   },
   {
    "duration": 19,
    "start_time": "2023-02-10T11:02:29.317Z"
   },
   {
    "duration": 45,
    "start_time": "2023-02-13T17:48:34.673Z"
   },
   {
    "duration": 772,
    "start_time": "2023-02-13T17:48:39.723Z"
   },
   {
    "duration": 981,
    "start_time": "2023-02-13T17:48:40.497Z"
   },
   {
    "duration": 1480,
    "start_time": "2023-02-13T17:48:41.479Z"
   },
   {
    "duration": 5,
    "start_time": "2023-02-13T17:48:42.962Z"
   },
   {
    "duration": 71,
    "start_time": "2023-02-13T17:48:42.968Z"
   },
   {
    "duration": 845,
    "start_time": "2023-02-13T17:48:43.041Z"
   },
   {
    "duration": 721,
    "start_time": "2023-02-13T17:48:43.887Z"
   },
   {
    "duration": 0,
    "start_time": "2023-02-13T17:48:44.610Z"
   },
   {
    "duration": 0,
    "start_time": "2023-02-13T17:48:44.612Z"
   },
   {
    "duration": 0,
    "start_time": "2023-02-13T17:48:44.613Z"
   },
   {
    "duration": 673,
    "start_time": "2023-02-13T17:49:18.068Z"
   },
   {
    "duration": 237,
    "start_time": "2023-02-13T17:50:12.934Z"
   },
   {
    "duration": 28,
    "start_time": "2023-02-13T17:50:28.216Z"
   },
   {
    "duration": 555,
    "start_time": "2023-02-13T17:50:38.287Z"
   },
   {
    "duration": 694,
    "start_time": "2023-02-13T17:50:38.845Z"
   },
   {
    "duration": 1472,
    "start_time": "2023-02-13T17:50:39.540Z"
   },
   {
    "duration": 4,
    "start_time": "2023-02-13T17:50:41.014Z"
   },
   {
    "duration": 77,
    "start_time": "2023-02-13T17:50:41.020Z"
   },
   {
    "duration": 848,
    "start_time": "2023-02-13T17:50:41.098Z"
   },
   {
    "duration": 215,
    "start_time": "2023-02-13T17:50:41.948Z"
   },
   {
    "duration": 86,
    "start_time": "2023-02-13T17:50:42.164Z"
   },
   {
    "duration": 29,
    "start_time": "2023-02-13T17:50:42.252Z"
   },
   {
    "duration": 3,
    "start_time": "2023-02-13T17:50:42.283Z"
   },
   {
    "duration": 23,
    "start_time": "2023-02-13T18:21:52.848Z"
   },
   {
    "duration": 31,
    "start_time": "2023-02-13T18:21:54.660Z"
   },
   {
    "duration": 74,
    "start_time": "2023-02-13T18:22:05.550Z"
   },
   {
    "duration": 14,
    "start_time": "2023-02-13T18:56:30.676Z"
   },
   {
    "duration": 64,
    "start_time": "2023-02-13T18:56:37.355Z"
   },
   {
    "duration": 67,
    "start_time": "2023-02-13T19:39:54.617Z"
   },
   {
    "duration": 24,
    "start_time": "2023-02-13T19:41:03.349Z"
   },
   {
    "duration": 88,
    "start_time": "2023-02-13T19:41:10.166Z"
   },
   {
    "duration": 77,
    "start_time": "2023-02-13T19:44:23.754Z"
   },
   {
    "duration": 18,
    "start_time": "2023-02-13T19:45:15.291Z"
   },
   {
    "duration": 19,
    "start_time": "2023-02-13T19:45:35.691Z"
   },
   {
    "duration": 31,
    "start_time": "2023-02-13T19:46:03.381Z"
   },
   {
    "duration": 58,
    "start_time": "2023-02-13T19:46:33.924Z"
   },
   {
    "duration": 20,
    "start_time": "2023-02-13T19:49:03.815Z"
   },
   {
    "duration": 61,
    "start_time": "2023-02-13T20:12:35.627Z"
   },
   {
    "duration": 92,
    "start_time": "2023-02-13T20:13:24.935Z"
   },
   {
    "duration": 21,
    "start_time": "2023-02-13T20:13:34.765Z"
   },
   {
    "duration": 120,
    "start_time": "2023-02-13T20:13:46.776Z"
   },
   {
    "duration": 45,
    "start_time": "2023-02-13T20:15:37.950Z"
   },
   {
    "duration": 10,
    "start_time": "2023-02-13T20:18:25.052Z"
   },
   {
    "duration": 39,
    "start_time": "2023-02-13T20:18:30.455Z"
   },
   {
    "duration": 32,
    "start_time": "2023-02-13T20:18:37.936Z"
   },
   {
    "duration": 17,
    "start_time": "2023-02-13T20:18:55.487Z"
   },
   {
    "duration": 934,
    "start_time": "2023-02-14T09:07:14.670Z"
   },
   {
    "duration": 3493,
    "start_time": "2023-02-14T09:07:15.609Z"
   },
   {
    "duration": 1649,
    "start_time": "2023-02-14T09:07:19.104Z"
   },
   {
    "duration": 5,
    "start_time": "2023-02-14T09:07:20.755Z"
   },
   {
    "duration": 77,
    "start_time": "2023-02-14T09:07:20.763Z"
   },
   {
    "duration": 1078,
    "start_time": "2023-02-14T09:07:20.842Z"
   },
   {
    "duration": 278,
    "start_time": "2023-02-14T09:07:21.923Z"
   },
   {
    "duration": 30,
    "start_time": "2023-02-14T09:07:22.209Z"
   },
   {
    "duration": 84,
    "start_time": "2023-02-14T09:07:22.241Z"
   },
   {
    "duration": 120,
    "start_time": "2023-02-14T09:07:22.328Z"
   },
   {
    "duration": 20,
    "start_time": "2023-02-14T09:07:22.450Z"
   },
   {
    "duration": 77,
    "start_time": "2023-02-14T09:07:22.473Z"
   },
   {
    "duration": 22,
    "start_time": "2023-02-14T09:07:22.552Z"
   },
   {
    "duration": 62,
    "start_time": "2023-02-14T09:07:22.576Z"
   },
   {
    "duration": 81,
    "start_time": "2023-02-14T09:10:10.475Z"
   },
   {
    "duration": 36,
    "start_time": "2023-02-14T09:10:15.389Z"
   },
   {
    "duration": 32,
    "start_time": "2023-02-14T09:11:35.204Z"
   },
   {
    "duration": 21,
    "start_time": "2023-02-14T09:24:52.846Z"
   },
   {
    "duration": 34,
    "start_time": "2023-02-14T09:25:24.453Z"
   },
   {
    "duration": 26,
    "start_time": "2023-02-14T09:27:20.704Z"
   },
   {
    "duration": 13,
    "start_time": "2023-02-14T09:28:52.736Z"
   },
   {
    "duration": 42,
    "start_time": "2023-02-14T09:28:57.729Z"
   },
   {
    "duration": 9,
    "start_time": "2023-02-14T09:30:34.225Z"
   },
   {
    "duration": 39,
    "start_time": "2023-02-14T09:30:39.526Z"
   },
   {
    "duration": 56,
    "start_time": "2023-02-14T09:34:54.723Z"
   },
   {
    "duration": 39,
    "start_time": "2023-02-14T09:38:01.644Z"
   },
   {
    "duration": 24,
    "start_time": "2023-02-14T09:38:22.660Z"
   },
   {
    "duration": 16,
    "start_time": "2023-02-14T09:39:02.378Z"
   },
   {
    "duration": 97,
    "start_time": "2023-02-14T09:39:25.997Z"
   },
   {
    "duration": 85,
    "start_time": "2023-02-14T09:39:41.278Z"
   },
   {
    "duration": 10,
    "start_time": "2023-02-14T09:39:44.390Z"
   },
   {
    "duration": 7,
    "start_time": "2023-02-14T09:39:48.316Z"
   },
   {
    "duration": 17,
    "start_time": "2023-02-14T09:39:51.457Z"
   },
   {
    "duration": 108,
    "start_time": "2023-02-14T09:40:06.363Z"
   },
   {
    "duration": 34,
    "start_time": "2023-02-14T09:41:12.043Z"
   },
   {
    "duration": 43,
    "start_time": "2023-02-14T09:41:27.171Z"
   },
   {
    "duration": 49,
    "start_time": "2023-02-14T09:41:52.241Z"
   },
   {
    "duration": 52,
    "start_time": "2023-02-14T09:42:07.265Z"
   },
   {
    "duration": 40,
    "start_time": "2023-02-14T09:50:08.079Z"
   },
   {
    "duration": 30,
    "start_time": "2023-02-14T09:50:40.351Z"
   },
   {
    "duration": 33,
    "start_time": "2023-02-14T09:50:47.731Z"
   },
   {
    "duration": 34,
    "start_time": "2023-02-14T09:50:51.763Z"
   },
   {
    "duration": 57,
    "start_time": "2023-02-14T09:51:24.360Z"
   },
   {
    "duration": 116,
    "start_time": "2023-02-14T10:46:40.405Z"
   },
   {
    "duration": 81,
    "start_time": "2023-02-14T10:46:51.703Z"
   },
   {
    "duration": 103,
    "start_time": "2023-02-14T10:46:57.826Z"
   },
   {
    "duration": 211,
    "start_time": "2023-02-14T10:47:01.387Z"
   },
   {
    "duration": 93,
    "start_time": "2023-02-14T10:51:46.294Z"
   },
   {
    "duration": 133,
    "start_time": "2023-02-14T10:51:48.861Z"
   },
   {
    "duration": 163,
    "start_time": "2023-02-14T10:51:58.356Z"
   },
   {
    "duration": 150,
    "start_time": "2023-02-14T10:52:04.904Z"
   },
   {
    "duration": 147,
    "start_time": "2023-02-14T10:52:14.237Z"
   },
   {
    "duration": 138,
    "start_time": "2023-02-14T10:52:17.398Z"
   },
   {
    "duration": 144,
    "start_time": "2023-02-14T10:52:21.256Z"
   },
   {
    "duration": 137,
    "start_time": "2023-02-14T10:52:25.753Z"
   },
   {
    "duration": 150,
    "start_time": "2023-02-14T10:52:36.857Z"
   },
   {
    "duration": 808,
    "start_time": "2023-02-14T18:47:50.082Z"
   },
   {
    "duration": 2780,
    "start_time": "2023-02-14T18:47:50.892Z"
   },
   {
    "duration": 1537,
    "start_time": "2023-02-14T18:47:53.674Z"
   },
   {
    "duration": 4,
    "start_time": "2023-02-14T18:47:55.213Z"
   },
   {
    "duration": 73,
    "start_time": "2023-02-14T18:47:55.219Z"
   },
   {
    "duration": 937,
    "start_time": "2023-02-14T18:47:55.293Z"
   },
   {
    "duration": 249,
    "start_time": "2023-02-14T18:47:56.231Z"
   },
   {
    "duration": 28,
    "start_time": "2023-02-14T18:47:56.482Z"
   },
   {
    "duration": 98,
    "start_time": "2023-02-14T18:47:56.513Z"
   },
   {
    "duration": 85,
    "start_time": "2023-02-14T18:47:56.613Z"
   },
   {
    "duration": 20,
    "start_time": "2023-02-14T18:47:56.699Z"
   },
   {
    "duration": 67,
    "start_time": "2023-02-14T18:47:56.720Z"
   },
   {
    "duration": 21,
    "start_time": "2023-02-14T18:47:56.788Z"
   },
   {
    "duration": 40,
    "start_time": "2023-02-14T18:47:56.810Z"
   },
   {
    "duration": 54,
    "start_time": "2023-02-14T18:47:56.851Z"
   },
   {
    "duration": 138,
    "start_time": "2023-02-14T18:47:56.906Z"
   },
   {
    "duration": 52,
    "start_time": "2023-02-14T18:50:09.524Z"
   },
   {
    "duration": 4,
    "start_time": "2023-02-14T18:52:00.856Z"
   },
   {
    "duration": 100,
    "start_time": "2023-02-14T18:56:13.418Z"
   },
   {
    "duration": 74,
    "start_time": "2023-02-14T18:56:55.467Z"
   },
   {
    "duration": 43,
    "start_time": "2023-02-14T18:57:00.351Z"
   },
   {
    "duration": 39,
    "start_time": "2023-02-14T18:57:10.889Z"
   },
   {
    "duration": 30,
    "start_time": "2023-02-14T18:57:18.620Z"
   },
   {
    "duration": 36,
    "start_time": "2023-02-14T18:57:53.052Z"
   },
   {
    "duration": 23,
    "start_time": "2023-02-14T18:59:41.157Z"
   },
   {
    "duration": 36,
    "start_time": "2023-02-14T19:00:05.192Z"
   },
   {
    "duration": 13,
    "start_time": "2023-02-14T19:00:22.235Z"
   },
   {
    "duration": 18,
    "start_time": "2023-02-14T19:00:25.346Z"
   },
   {
    "duration": 13,
    "start_time": "2023-02-14T19:00:25.869Z"
   },
   {
    "duration": 9,
    "start_time": "2023-02-14T19:00:35.829Z"
   },
   {
    "duration": 16,
    "start_time": "2023-02-14T19:00:40.402Z"
   },
   {
    "duration": 20,
    "start_time": "2023-02-14T19:00:44.782Z"
   },
   {
    "duration": 20,
    "start_time": "2023-02-14T19:00:56.542Z"
   },
   {
    "duration": 20,
    "start_time": "2023-02-14T19:01:04.059Z"
   },
   {
    "duration": 20,
    "start_time": "2023-02-14T19:01:15.954Z"
   },
   {
    "duration": 624,
    "start_time": "2023-02-14T19:01:25.083Z"
   },
   {
    "duration": 789,
    "start_time": "2023-02-14T19:01:25.709Z"
   },
   {
    "duration": 1588,
    "start_time": "2023-02-14T19:01:26.500Z"
   },
   {
    "duration": 6,
    "start_time": "2023-02-14T19:01:28.089Z"
   },
   {
    "duration": 63,
    "start_time": "2023-02-14T19:01:28.097Z"
   },
   {
    "duration": 990,
    "start_time": "2023-02-14T19:01:28.162Z"
   },
   {
    "duration": 233,
    "start_time": "2023-02-14T19:01:29.154Z"
   },
   {
    "duration": 25,
    "start_time": "2023-02-14T19:01:29.388Z"
   },
   {
    "duration": 75,
    "start_time": "2023-02-14T19:01:29.415Z"
   },
   {
    "duration": 102,
    "start_time": "2023-02-14T19:01:29.492Z"
   },
   {
    "duration": 20,
    "start_time": "2023-02-14T19:01:29.595Z"
   },
   {
    "duration": 67,
    "start_time": "2023-02-14T19:01:29.617Z"
   },
   {
    "duration": 23,
    "start_time": "2023-02-14T19:01:29.686Z"
   },
   {
    "duration": 46,
    "start_time": "2023-02-14T19:01:29.711Z"
   },
   {
    "duration": 29,
    "start_time": "2023-02-14T19:01:29.758Z"
   },
   {
    "duration": 45,
    "start_time": "2023-02-14T19:01:41.472Z"
   },
   {
    "duration": 14,
    "start_time": "2023-02-14T19:01:43.726Z"
   },
   {
    "duration": 158,
    "start_time": "2023-02-14T19:01:53.752Z"
   },
   {
    "duration": 377,
    "start_time": "2023-02-14T19:02:06.274Z"
   },
   {
    "duration": 362,
    "start_time": "2023-02-14T19:02:23.480Z"
   },
   {
    "duration": 72,
    "start_time": "2023-02-14T19:22:23.182Z"
   },
   {
    "duration": 646,
    "start_time": "2023-02-14T19:22:28.258Z"
   },
   {
    "duration": 746,
    "start_time": "2023-02-14T19:22:28.906Z"
   },
   {
    "duration": 1547,
    "start_time": "2023-02-14T19:22:29.654Z"
   },
   {
    "duration": 5,
    "start_time": "2023-02-14T19:22:31.202Z"
   },
   {
    "duration": 75,
    "start_time": "2023-02-14T19:22:31.209Z"
   },
   {
    "duration": 930,
    "start_time": "2023-02-14T19:22:31.286Z"
   },
   {
    "duration": 219,
    "start_time": "2023-02-14T19:22:32.218Z"
   },
   {
    "duration": 53,
    "start_time": "2023-02-14T19:22:32.439Z"
   },
   {
    "duration": 63,
    "start_time": "2023-02-14T19:22:32.494Z"
   },
   {
    "duration": 94,
    "start_time": "2023-02-14T19:22:32.558Z"
   },
   {
    "duration": 19,
    "start_time": "2023-02-14T19:22:32.654Z"
   },
   {
    "duration": 73,
    "start_time": "2023-02-14T19:22:32.681Z"
   },
   {
    "duration": 21,
    "start_time": "2023-02-14T19:22:32.756Z"
   },
   {
    "duration": 53,
    "start_time": "2023-02-14T19:22:32.779Z"
   },
   {
    "duration": 348,
    "start_time": "2023-02-14T19:22:32.833Z"
   },
   {
    "duration": 88,
    "start_time": "2023-02-14T19:48:53.893Z"
   },
   {
    "duration": 595,
    "start_time": "2023-02-14T19:49:12.745Z"
   },
   {
    "duration": 758,
    "start_time": "2023-02-14T19:49:13.342Z"
   },
   {
    "duration": 1515,
    "start_time": "2023-02-14T19:49:14.101Z"
   },
   {
    "duration": 5,
    "start_time": "2023-02-14T19:49:15.618Z"
   },
   {
    "duration": 71,
    "start_time": "2023-02-14T19:49:15.625Z"
   },
   {
    "duration": 935,
    "start_time": "2023-02-14T19:49:15.698Z"
   },
   {
    "duration": 219,
    "start_time": "2023-02-14T19:49:16.634Z"
   },
   {
    "duration": 47,
    "start_time": "2023-02-14T19:49:16.855Z"
   },
   {
    "duration": 65,
    "start_time": "2023-02-14T19:49:16.904Z"
   },
   {
    "duration": 83,
    "start_time": "2023-02-14T19:49:16.982Z"
   },
   {
    "duration": 28,
    "start_time": "2023-02-14T19:49:17.066Z"
   },
   {
    "duration": 48,
    "start_time": "2023-02-14T19:49:17.096Z"
   },
   {
    "duration": 103,
    "start_time": "2023-02-14T19:49:17.146Z"
   },
   {
    "duration": 0,
    "start_time": "2023-02-14T19:49:17.251Z"
   },
   {
    "duration": 0,
    "start_time": "2023-02-14T19:49:17.253Z"
   },
   {
    "duration": 32,
    "start_time": "2023-02-14T19:49:28.627Z"
   },
   {
    "duration": 335,
    "start_time": "2023-02-14T19:55:43.415Z"
   },
   {
    "duration": 350,
    "start_time": "2023-02-14T19:55:57.299Z"
   },
   {
    "duration": 301,
    "start_time": "2023-02-14T19:56:03.716Z"
   },
   {
    "duration": 306,
    "start_time": "2023-02-14T19:56:08.888Z"
   },
   {
    "duration": 282,
    "start_time": "2023-02-14T19:57:04.044Z"
   },
   {
    "duration": 299,
    "start_time": "2023-02-14T19:57:17.666Z"
   },
   {
    "duration": 27351,
    "start_time": "2023-02-14T20:03:40.799Z"
   },
   {
    "duration": 2,
    "start_time": "2023-02-14T20:04:14.202Z"
   },
   {
    "duration": 79,
    "start_time": "2023-02-14T20:08:31.356Z"
   },
   {
    "duration": 78,
    "start_time": "2023-02-14T20:08:44.299Z"
   },
   {
    "duration": 89,
    "start_time": "2023-02-14T20:08:49.521Z"
   },
   {
    "duration": 5792,
    "start_time": "2023-02-14T20:18:36.392Z"
   },
   {
    "duration": 25,
    "start_time": "2023-02-14T20:21:32.989Z"
   },
   {
    "duration": 1811,
    "start_time": "2023-02-14T20:21:38.122Z"
   },
   {
    "duration": 81,
    "start_time": "2023-02-14T20:21:45.387Z"
   },
   {
    "duration": 84,
    "start_time": "2023-02-14T20:22:06.292Z"
   },
   {
    "duration": 951,
    "start_time": "2023-02-14T20:22:20.938Z"
   },
   {
    "duration": 77,
    "start_time": "2023-02-14T20:22:33.202Z"
   },
   {
    "duration": 550,
    "start_time": "2023-02-14T20:22:39.330Z"
   },
   {
    "duration": 763,
    "start_time": "2023-02-14T20:22:39.882Z"
   },
   {
    "duration": 1503,
    "start_time": "2023-02-14T20:22:40.646Z"
   },
   {
    "duration": 5,
    "start_time": "2023-02-14T20:22:42.151Z"
   },
   {
    "duration": 73,
    "start_time": "2023-02-14T20:22:42.158Z"
   },
   {
    "duration": 1009,
    "start_time": "2023-02-14T20:22:42.233Z"
   },
   {
    "duration": 240,
    "start_time": "2023-02-14T20:22:43.243Z"
   },
   {
    "duration": 46,
    "start_time": "2023-02-14T20:22:43.485Z"
   },
   {
    "duration": 97,
    "start_time": "2023-02-14T20:22:43.533Z"
   },
   {
    "duration": 100,
    "start_time": "2023-02-14T20:22:43.632Z"
   },
   {
    "duration": 20,
    "start_time": "2023-02-14T20:22:43.734Z"
   },
   {
    "duration": 80,
    "start_time": "2023-02-14T20:22:43.755Z"
   },
   {
    "duration": 35,
    "start_time": "2023-02-14T20:22:43.837Z"
   },
   {
    "duration": 1853,
    "start_time": "2023-02-14T20:22:43.873Z"
   },
   {
    "duration": 71,
    "start_time": "2023-02-14T20:22:45.727Z"
   },
   {
    "duration": 90,
    "start_time": "2023-02-14T20:22:45.800Z"
   },
   {
    "duration": 297,
    "start_time": "2023-02-14T20:22:45.892Z"
   },
   {
    "duration": 933,
    "start_time": "2023-02-14T20:27:52.645Z"
   },
   {
    "duration": 613,
    "start_time": "2023-02-14T20:28:15.704Z"
   },
   {
    "duration": 737,
    "start_time": "2023-02-14T20:28:16.319Z"
   },
   {
    "duration": 1472,
    "start_time": "2023-02-14T20:28:17.057Z"
   },
   {
    "duration": 5,
    "start_time": "2023-02-14T20:28:18.531Z"
   },
   {
    "duration": 75,
    "start_time": "2023-02-14T20:28:18.537Z"
   },
   {
    "duration": 882,
    "start_time": "2023-02-14T20:28:18.614Z"
   },
   {
    "duration": 225,
    "start_time": "2023-02-14T20:28:19.498Z"
   },
   {
    "duration": 42,
    "start_time": "2023-02-14T20:28:19.724Z"
   },
   {
    "duration": 73,
    "start_time": "2023-02-14T20:28:19.768Z"
   },
   {
    "duration": 84,
    "start_time": "2023-02-14T20:28:19.844Z"
   },
   {
    "duration": 17,
    "start_time": "2023-02-14T20:28:19.929Z"
   },
   {
    "duration": 58,
    "start_time": "2023-02-14T20:28:19.948Z"
   },
   {
    "duration": 37,
    "start_time": "2023-02-14T20:28:20.008Z"
   },
   {
    "duration": 1898,
    "start_time": "2023-02-14T20:28:20.047Z"
   },
   {
    "duration": 68,
    "start_time": "2023-02-14T20:28:21.946Z"
   },
   {
    "duration": 107,
    "start_time": "2023-02-14T20:28:22.015Z"
   },
   {
    "duration": 283,
    "start_time": "2023-02-14T20:28:22.124Z"
   },
   {
    "duration": 2285,
    "start_time": "2023-02-14T20:29:40.078Z"
   },
   {
    "duration": 131,
    "start_time": "2023-02-14T20:31:29.357Z"
   },
   {
    "duration": 61,
    "start_time": "2023-02-14T20:31:37.094Z"
   },
   {
    "duration": 21,
    "start_time": "2023-02-14T20:32:59.100Z"
   },
   {
    "duration": 23,
    "start_time": "2023-02-14T20:33:14.741Z"
   },
   {
    "duration": 21,
    "start_time": "2023-02-14T20:33:22.163Z"
   },
   {
    "duration": 988,
    "start_time": "2023-02-14T20:33:31.300Z"
   },
   {
    "duration": 579,
    "start_time": "2023-02-14T20:33:52.526Z"
   },
   {
    "duration": 767,
    "start_time": "2023-02-14T20:33:53.107Z"
   },
   {
    "duration": 1521,
    "start_time": "2023-02-14T20:33:53.876Z"
   },
   {
    "duration": 5,
    "start_time": "2023-02-14T20:33:55.399Z"
   },
   {
    "duration": 76,
    "start_time": "2023-02-14T20:33:55.406Z"
   },
   {
    "duration": 971,
    "start_time": "2023-02-14T20:33:55.483Z"
   },
   {
    "duration": 223,
    "start_time": "2023-02-14T20:33:56.455Z"
   },
   {
    "duration": 44,
    "start_time": "2023-02-14T20:33:56.681Z"
   },
   {
    "duration": 80,
    "start_time": "2023-02-14T20:33:56.727Z"
   },
   {
    "duration": 98,
    "start_time": "2023-02-14T20:33:56.810Z"
   },
   {
    "duration": 20,
    "start_time": "2023-02-14T20:33:56.910Z"
   },
   {
    "duration": 66,
    "start_time": "2023-02-14T20:33:56.932Z"
   },
   {
    "duration": 22,
    "start_time": "2023-02-14T20:33:57.000Z"
   },
   {
    "duration": 1004,
    "start_time": "2023-02-14T20:33:57.024Z"
   },
   {
    "duration": 0,
    "start_time": "2023-02-14T20:33:58.030Z"
   },
   {
    "duration": 0,
    "start_time": "2023-02-14T20:33:58.031Z"
   },
   {
    "duration": 0,
    "start_time": "2023-02-14T20:33:58.032Z"
   },
   {
    "duration": 20,
    "start_time": "2023-02-14T20:34:12.088Z"
   },
   {
    "duration": 23,
    "start_time": "2023-02-14T20:34:50.477Z"
   },
   {
    "duration": 20,
    "start_time": "2023-02-14T20:35:17.757Z"
   },
   {
    "duration": 865,
    "start_time": "2023-02-14T20:35:28.133Z"
   },
   {
    "duration": 862,
    "start_time": "2023-02-14T20:37:41.000Z"
   },
   {
    "duration": 873,
    "start_time": "2023-02-14T20:37:46.414Z"
   },
   {
    "duration": 21,
    "start_time": "2023-02-14T20:37:48.725Z"
   },
   {
    "duration": 32,
    "start_time": "2023-02-14T20:38:04.895Z"
   },
   {
    "duration": 31,
    "start_time": "2023-02-14T20:38:25.232Z"
   },
   {
    "duration": 28,
    "start_time": "2023-02-14T20:38:37.836Z"
   },
   {
    "duration": 15,
    "start_time": "2023-02-14T20:38:46.735Z"
   },
   {
    "duration": 14,
    "start_time": "2023-02-14T20:38:51.589Z"
   },
   {
    "duration": 31,
    "start_time": "2023-02-14T20:39:28.366Z"
   },
   {
    "duration": 31,
    "start_time": "2023-02-14T20:39:40.079Z"
   },
   {
    "duration": 959,
    "start_time": "2023-02-14T20:39:47.317Z"
   },
   {
    "duration": 20,
    "start_time": "2023-02-14T20:40:04.778Z"
   },
   {
    "duration": 898,
    "start_time": "2023-02-14T20:40:05.490Z"
   },
   {
    "duration": 607,
    "start_time": "2023-02-14T20:40:12.467Z"
   },
   {
    "duration": 759,
    "start_time": "2023-02-14T20:40:13.077Z"
   },
   {
    "duration": 1468,
    "start_time": "2023-02-14T20:40:13.838Z"
   },
   {
    "duration": 5,
    "start_time": "2023-02-14T20:40:15.307Z"
   },
   {
    "duration": 71,
    "start_time": "2023-02-14T20:40:15.314Z"
   },
   {
    "duration": 920,
    "start_time": "2023-02-14T20:40:15.386Z"
   },
   {
    "duration": 221,
    "start_time": "2023-02-14T20:40:16.308Z"
   },
   {
    "duration": 52,
    "start_time": "2023-02-14T20:40:16.530Z"
   },
   {
    "duration": 67,
    "start_time": "2023-02-14T20:40:16.584Z"
   },
   {
    "duration": 115,
    "start_time": "2023-02-14T20:40:16.653Z"
   },
   {
    "duration": 23,
    "start_time": "2023-02-14T20:40:16.771Z"
   },
   {
    "duration": 40,
    "start_time": "2023-02-14T20:40:16.796Z"
   },
   {
    "duration": 23,
    "start_time": "2023-02-14T20:40:16.838Z"
   },
   {
    "duration": 976,
    "start_time": "2023-02-14T20:40:16.864Z"
   },
   {
    "duration": 0,
    "start_time": "2023-02-14T20:40:17.842Z"
   },
   {
    "duration": 0,
    "start_time": "2023-02-14T20:40:17.843Z"
   },
   {
    "duration": 0,
    "start_time": "2023-02-14T20:40:17.844Z"
   },
   {
    "duration": 16,
    "start_time": "2023-02-14T20:40:44.076Z"
   },
   {
    "duration": 30,
    "start_time": "2023-02-14T20:40:45.185Z"
   },
   {
    "duration": 21,
    "start_time": "2023-02-14T20:40:47.456Z"
   },
   {
    "duration": 859,
    "start_time": "2023-02-14T20:40:48.264Z"
   },
   {
    "duration": 1747,
    "start_time": "2023-02-14T20:41:44.183Z"
   },
   {
    "duration": 63,
    "start_time": "2023-02-14T20:41:48.748Z"
   },
   {
    "duration": 639,
    "start_time": "2023-02-14T20:41:56.751Z"
   },
   {
    "duration": 745,
    "start_time": "2023-02-14T20:41:57.392Z"
   },
   {
    "duration": 1471,
    "start_time": "2023-02-14T20:41:58.139Z"
   },
   {
    "duration": 5,
    "start_time": "2023-02-14T20:41:59.612Z"
   },
   {
    "duration": 68,
    "start_time": "2023-02-14T20:41:59.618Z"
   },
   {
    "duration": 910,
    "start_time": "2023-02-14T20:41:59.688Z"
   },
   {
    "duration": 230,
    "start_time": "2023-02-14T20:42:00.600Z"
   },
   {
    "duration": 46,
    "start_time": "2023-02-14T20:42:00.832Z"
   },
   {
    "duration": 74,
    "start_time": "2023-02-14T20:42:00.880Z"
   },
   {
    "duration": 102,
    "start_time": "2023-02-14T20:42:00.956Z"
   },
   {
    "duration": 22,
    "start_time": "2023-02-14T20:42:01.060Z"
   },
   {
    "duration": 64,
    "start_time": "2023-02-14T20:42:01.084Z"
   },
   {
    "duration": 22,
    "start_time": "2023-02-14T20:42:01.150Z"
   },
   {
    "duration": 1820,
    "start_time": "2023-02-14T20:42:01.174Z"
   },
   {
    "duration": 67,
    "start_time": "2023-02-14T20:42:02.996Z"
   },
   {
    "duration": 94,
    "start_time": "2023-02-14T20:42:03.065Z"
   },
   {
    "duration": 304,
    "start_time": "2023-02-14T20:42:03.161Z"
   },
   {
    "duration": 1786,
    "start_time": "2023-02-14T20:43:23.974Z"
   },
   {
    "duration": 64,
    "start_time": "2023-02-14T20:43:31.983Z"
   },
   {
    "duration": 1794,
    "start_time": "2023-02-14T20:43:42.136Z"
   },
   {
    "duration": 66,
    "start_time": "2023-02-14T20:43:43.932Z"
   },
   {
    "duration": 638,
    "start_time": "2023-02-14T20:43:49.661Z"
   },
   {
    "duration": 778,
    "start_time": "2023-02-14T20:43:50.301Z"
   },
   {
    "duration": 1511,
    "start_time": "2023-02-14T20:43:51.081Z"
   },
   {
    "duration": 5,
    "start_time": "2023-02-14T20:43:52.594Z"
   },
   {
    "duration": 63,
    "start_time": "2023-02-14T20:43:52.600Z"
   },
   {
    "duration": 961,
    "start_time": "2023-02-14T20:43:52.665Z"
   },
   {
    "duration": 227,
    "start_time": "2023-02-14T20:43:53.627Z"
   },
   {
    "duration": 50,
    "start_time": "2023-02-14T20:43:53.855Z"
   },
   {
    "duration": 61,
    "start_time": "2023-02-14T20:43:53.907Z"
   },
   {
    "duration": 96,
    "start_time": "2023-02-14T20:43:53.971Z"
   },
   {
    "duration": 27,
    "start_time": "2023-02-14T20:43:54.068Z"
   },
   {
    "duration": 42,
    "start_time": "2023-02-14T20:43:54.097Z"
   },
   {
    "duration": 23,
    "start_time": "2023-02-14T20:43:54.140Z"
   },
   {
    "duration": 1878,
    "start_time": "2023-02-14T20:43:54.165Z"
   },
   {
    "duration": 74,
    "start_time": "2023-02-14T20:43:56.045Z"
   },
   {
    "duration": 95,
    "start_time": "2023-02-14T20:43:56.121Z"
   },
   {
    "duration": 3,
    "start_time": "2023-02-14T20:43:56.218Z"
   },
   {
    "duration": 994,
    "start_time": "2023-02-14T20:44:33.259Z"
   },
   {
    "duration": 44,
    "start_time": "2023-02-14T20:44:59.310Z"
   },
   {
    "duration": 43,
    "start_time": "2023-02-14T20:45:08.719Z"
   },
   {
    "duration": 10432,
    "start_time": "2023-02-14T20:46:37.047Z"
   },
   {
    "duration": 67,
    "start_time": "2023-02-14T20:46:53.782Z"
   },
   {
    "duration": 1864,
    "start_time": "2023-02-14T20:47:08.972Z"
   },
   {
    "duration": 66,
    "start_time": "2023-02-14T20:47:12.712Z"
   },
   {
    "duration": 645,
    "start_time": "2023-02-14T20:47:28.756Z"
   },
   {
    "duration": 759,
    "start_time": "2023-02-14T20:47:29.403Z"
   },
   {
    "duration": 1542,
    "start_time": "2023-02-14T20:47:30.163Z"
   },
   {
    "duration": 5,
    "start_time": "2023-02-14T20:47:31.707Z"
   },
   {
    "duration": 80,
    "start_time": "2023-02-14T20:47:31.714Z"
   },
   {
    "duration": 953,
    "start_time": "2023-02-14T20:47:31.795Z"
   },
   {
    "duration": 226,
    "start_time": "2023-02-14T20:47:32.750Z"
   },
   {
    "duration": 50,
    "start_time": "2023-02-14T20:47:32.978Z"
   },
   {
    "duration": 79,
    "start_time": "2023-02-14T20:47:33.030Z"
   },
   {
    "duration": 101,
    "start_time": "2023-02-14T20:47:33.112Z"
   },
   {
    "duration": 14,
    "start_time": "2023-02-14T20:47:33.215Z"
   },
   {
    "duration": 35,
    "start_time": "2023-02-14T20:47:33.230Z"
   },
   {
    "duration": 26,
    "start_time": "2023-02-14T20:47:33.284Z"
   },
   {
    "duration": 1961,
    "start_time": "2023-02-14T20:47:33.312Z"
   },
   {
    "duration": 86,
    "start_time": "2023-02-14T20:47:35.275Z"
   },
   {
    "duration": 91,
    "start_time": "2023-02-14T20:47:35.363Z"
   },
   {
    "duration": 2,
    "start_time": "2023-02-14T20:47:35.456Z"
   },
   {
    "duration": 86,
    "start_time": "2023-02-14T21:35:55.347Z"
   },
   {
    "duration": 2676,
    "start_time": "2023-02-14T21:35:59.009Z"
   },
   {
    "duration": 63,
    "start_time": "2023-02-14T21:36:04.136Z"
   },
   {
    "duration": 571,
    "start_time": "2023-02-14T21:36:12.500Z"
   },
   {
    "duration": 748,
    "start_time": "2023-02-14T21:36:13.073Z"
   },
   {
    "duration": 1453,
    "start_time": "2023-02-14T21:36:13.823Z"
   },
   {
    "duration": 6,
    "start_time": "2023-02-14T21:36:15.277Z"
   },
   {
    "duration": 74,
    "start_time": "2023-02-14T21:36:15.284Z"
   },
   {
    "duration": 934,
    "start_time": "2023-02-14T21:36:15.359Z"
   },
   {
    "duration": 233,
    "start_time": "2023-02-14T21:36:16.294Z"
   },
   {
    "duration": 42,
    "start_time": "2023-02-14T21:36:16.529Z"
   },
   {
    "duration": 71,
    "start_time": "2023-02-14T21:36:16.573Z"
   },
   {
    "duration": 90,
    "start_time": "2023-02-14T21:36:16.646Z"
   },
   {
    "duration": 14,
    "start_time": "2023-02-14T21:36:16.737Z"
   },
   {
    "duration": 45,
    "start_time": "2023-02-14T21:36:16.753Z"
   },
   {
    "duration": 41,
    "start_time": "2023-02-14T21:36:16.800Z"
   },
   {
    "duration": 2441,
    "start_time": "2023-02-14T21:36:16.842Z"
   },
   {
    "duration": 66,
    "start_time": "2023-02-14T21:36:19.285Z"
   },
   {
    "duration": 96,
    "start_time": "2023-02-14T21:36:19.352Z"
   },
   {
    "duration": 2,
    "start_time": "2023-02-14T21:36:19.450Z"
   },
   {
    "duration": 2502,
    "start_time": "2023-02-14T21:37:18.210Z"
   },
   {
    "duration": 65,
    "start_time": "2023-02-14T21:37:21.890Z"
   },
   {
    "duration": 639,
    "start_time": "2023-02-14T21:38:40.975Z"
   },
   {
    "duration": 730,
    "start_time": "2023-02-14T21:38:41.616Z"
   },
   {
    "duration": 1502,
    "start_time": "2023-02-14T21:38:42.347Z"
   },
   {
    "duration": 5,
    "start_time": "2023-02-14T21:38:43.851Z"
   },
   {
    "duration": 68,
    "start_time": "2023-02-14T21:38:43.857Z"
   },
   {
    "duration": 915,
    "start_time": "2023-02-14T21:38:43.927Z"
   },
   {
    "duration": 214,
    "start_time": "2023-02-14T21:38:44.844Z"
   },
   {
    "duration": 50,
    "start_time": "2023-02-14T21:38:45.059Z"
   },
   {
    "duration": 70,
    "start_time": "2023-02-14T21:38:45.111Z"
   },
   {
    "duration": 78,
    "start_time": "2023-02-14T21:38:45.183Z"
   },
   {
    "duration": 24,
    "start_time": "2023-02-14T21:38:45.262Z"
   },
   {
    "duration": 32,
    "start_time": "2023-02-14T21:38:45.287Z"
   },
   {
    "duration": 20,
    "start_time": "2023-02-14T21:38:45.321Z"
   },
   {
    "duration": 2539,
    "start_time": "2023-02-14T21:38:45.343Z"
   },
   {
    "duration": 79,
    "start_time": "2023-02-14T21:38:47.883Z"
   },
   {
    "duration": 96,
    "start_time": "2023-02-14T21:38:47.964Z"
   },
   {
    "duration": 2,
    "start_time": "2023-02-14T21:38:48.061Z"
   },
   {
    "duration": 2461,
    "start_time": "2023-02-14T21:39:01.305Z"
   },
   {
    "duration": 66,
    "start_time": "2023-02-14T21:39:04.981Z"
   },
   {
    "duration": 1287,
    "start_time": "2023-02-14T21:39:13.772Z"
   },
   {
    "duration": 31,
    "start_time": "2023-02-14T21:41:53.406Z"
   },
   {
    "duration": 1246,
    "start_time": "2023-02-14T21:42:01.463Z"
   },
   {
    "duration": 42,
    "start_time": "2023-02-14T21:42:23.357Z"
   },
   {
    "duration": 29,
    "start_time": "2023-02-14T21:42:55.187Z"
   },
   {
    "duration": 580,
    "start_time": "2023-02-14T21:43:33.729Z"
   },
   {
    "duration": 769,
    "start_time": "2023-02-14T21:43:34.311Z"
   },
   {
    "duration": 1558,
    "start_time": "2023-02-14T21:43:35.082Z"
   },
   {
    "duration": 6,
    "start_time": "2023-02-14T21:43:36.643Z"
   },
   {
    "duration": 77,
    "start_time": "2023-02-14T21:43:36.650Z"
   },
   {
    "duration": 1270,
    "start_time": "2023-02-14T21:43:36.729Z"
   },
   {
    "duration": 0,
    "start_time": "2023-02-14T21:43:38.001Z"
   },
   {
    "duration": 0,
    "start_time": "2023-02-14T21:43:38.003Z"
   },
   {
    "duration": 0,
    "start_time": "2023-02-14T21:43:38.004Z"
   },
   {
    "duration": 0,
    "start_time": "2023-02-14T21:43:38.006Z"
   },
   {
    "duration": 0,
    "start_time": "2023-02-14T21:43:38.007Z"
   },
   {
    "duration": 0,
    "start_time": "2023-02-14T21:43:38.008Z"
   },
   {
    "duration": 0,
    "start_time": "2023-02-14T21:43:38.010Z"
   },
   {
    "duration": 0,
    "start_time": "2023-02-14T21:43:38.011Z"
   },
   {
    "duration": 1,
    "start_time": "2023-02-14T21:43:38.012Z"
   },
   {
    "duration": 1,
    "start_time": "2023-02-14T21:43:38.013Z"
   },
   {
    "duration": 0,
    "start_time": "2023-02-14T21:43:38.014Z"
   },
   {
    "duration": 0,
    "start_time": "2023-02-14T21:43:38.015Z"
   },
   {
    "duration": 0,
    "start_time": "2023-02-14T21:43:38.016Z"
   },
   {
    "duration": 856,
    "start_time": "2023-02-14T21:44:18.458Z"
   },
   {
    "duration": 879,
    "start_time": "2023-02-14T21:44:32.577Z"
   },
   {
    "duration": 877,
    "start_time": "2023-02-14T21:44:37.331Z"
   },
   {
    "duration": 587,
    "start_time": "2023-02-14T21:45:40.746Z"
   },
   {
    "duration": 730,
    "start_time": "2023-02-14T21:45:41.335Z"
   },
   {
    "duration": 1474,
    "start_time": "2023-02-14T21:45:42.067Z"
   },
   {
    "duration": 4,
    "start_time": "2023-02-14T21:45:43.543Z"
   },
   {
    "duration": 84,
    "start_time": "2023-02-14T21:45:43.549Z"
   },
   {
    "duration": 935,
    "start_time": "2023-02-14T21:45:43.635Z"
   },
   {
    "duration": 0,
    "start_time": "2023-02-14T21:45:44.572Z"
   },
   {
    "duration": 0,
    "start_time": "2023-02-14T21:45:44.573Z"
   },
   {
    "duration": 0,
    "start_time": "2023-02-14T21:45:44.574Z"
   },
   {
    "duration": 0,
    "start_time": "2023-02-14T21:45:44.575Z"
   },
   {
    "duration": 0,
    "start_time": "2023-02-14T21:45:44.581Z"
   },
   {
    "duration": 0,
    "start_time": "2023-02-14T21:45:44.582Z"
   },
   {
    "duration": 0,
    "start_time": "2023-02-14T21:45:44.583Z"
   },
   {
    "duration": 0,
    "start_time": "2023-02-14T21:45:44.584Z"
   },
   {
    "duration": 0,
    "start_time": "2023-02-14T21:45:44.585Z"
   },
   {
    "duration": 0,
    "start_time": "2023-02-14T21:45:44.586Z"
   },
   {
    "duration": 0,
    "start_time": "2023-02-14T21:45:44.587Z"
   },
   {
    "duration": 0,
    "start_time": "2023-02-14T21:45:44.588Z"
   },
   {
    "duration": 0,
    "start_time": "2023-02-14T21:45:44.589Z"
   },
   {
    "duration": 29,
    "start_time": "2023-02-14T21:46:13.727Z"
   },
   {
    "duration": 1484,
    "start_time": "2023-02-14T21:47:23.145Z"
   },
   {
    "duration": 10821,
    "start_time": "2023-02-14T21:47:32.544Z"
   },
   {
    "duration": 10724,
    "start_time": "2023-02-14T21:48:03.302Z"
   },
   {
    "duration": 15099,
    "start_time": "2023-02-14T21:48:55.488Z"
   },
   {
    "duration": 599,
    "start_time": "2023-02-14T21:49:38.804Z"
   },
   {
    "duration": 776,
    "start_time": "2023-02-14T21:49:39.405Z"
   },
   {
    "duration": 1529,
    "start_time": "2023-02-14T21:49:40.182Z"
   },
   {
    "duration": 4,
    "start_time": "2023-02-14T21:49:41.713Z"
   },
   {
    "duration": 70,
    "start_time": "2023-02-14T21:49:41.719Z"
   },
   {
    "duration": 104,
    "start_time": "2023-02-14T21:49:41.791Z"
   },
   {
    "duration": 33,
    "start_time": "2023-02-14T21:49:41.896Z"
   },
   {
    "duration": 16087,
    "start_time": "2023-02-14T21:49:41.931Z"
   },
   {
    "duration": 2,
    "start_time": "2023-02-14T21:49:58.019Z"
   },
   {
    "duration": 929,
    "start_time": "2023-02-14T21:49:58.023Z"
   },
   {
    "duration": 219,
    "start_time": "2023-02-14T21:49:58.953Z"
   },
   {
    "duration": 49,
    "start_time": "2023-02-14T21:49:59.173Z"
   },
   {
    "duration": 75,
    "start_time": "2023-02-14T21:49:59.223Z"
   },
   {
    "duration": 87,
    "start_time": "2023-02-14T21:49:59.300Z"
   },
   {
    "duration": 14,
    "start_time": "2023-02-14T21:49:59.389Z"
   },
   {
    "duration": 33,
    "start_time": "2023-02-14T21:49:59.404Z"
   },
   {
    "duration": 20,
    "start_time": "2023-02-14T21:49:59.439Z"
   },
   {
    "duration": 107,
    "start_time": "2023-02-14T21:49:59.482Z"
   },
   {
    "duration": 0,
    "start_time": "2023-02-14T21:49:59.590Z"
   },
   {
    "duration": 0,
    "start_time": "2023-02-14T21:49:59.591Z"
   },
   {
    "duration": 0,
    "start_time": "2023-02-14T21:49:59.592Z"
   },
   {
    "duration": 0,
    "start_time": "2023-02-14T21:49:59.593Z"
   },
   {
    "duration": 53,
    "start_time": "2023-02-14T22:02:12.170Z"
   },
   {
    "duration": 947,
    "start_time": "2023-02-14T22:02:34.122Z"
   },
   {
    "duration": 1762,
    "start_time": "2023-02-14T22:02:43.868Z"
   },
   {
    "duration": 32,
    "start_time": "2023-02-14T22:02:58.728Z"
   },
   {
    "duration": 16314,
    "start_time": "2023-02-14T22:03:09.633Z"
   },
   {
    "duration": 650,
    "start_time": "2023-02-14T22:03:55.050Z"
   },
   {
    "duration": 859,
    "start_time": "2023-02-14T22:03:55.702Z"
   },
   {
    "duration": 1604,
    "start_time": "2023-02-14T22:03:56.563Z"
   },
   {
    "duration": 11,
    "start_time": "2023-02-14T22:03:58.170Z"
   },
   {
    "duration": 61,
    "start_time": "2023-02-14T22:03:58.183Z"
   },
   {
    "duration": 117,
    "start_time": "2023-02-14T22:03:58.246Z"
   },
   {
    "duration": 38,
    "start_time": "2023-02-14T22:03:58.365Z"
   },
   {
    "duration": 1790,
    "start_time": "2023-02-14T22:03:58.405Z"
   },
   {
    "duration": 32,
    "start_time": "2023-02-14T22:04:00.197Z"
   },
   {
    "duration": 15888,
    "start_time": "2023-02-14T22:04:00.232Z"
   },
   {
    "duration": 968,
    "start_time": "2023-02-14T22:04:16.122Z"
   },
   {
    "duration": 228,
    "start_time": "2023-02-14T22:04:17.092Z"
   },
   {
    "duration": 46,
    "start_time": "2023-02-14T22:04:17.322Z"
   },
   {
    "duration": 79,
    "start_time": "2023-02-14T22:04:17.370Z"
   },
   {
    "duration": 99,
    "start_time": "2023-02-14T22:04:17.451Z"
   },
   {
    "duration": 13,
    "start_time": "2023-02-14T22:04:17.552Z"
   },
   {
    "duration": 53,
    "start_time": "2023-02-14T22:04:17.567Z"
   },
   {
    "duration": 35,
    "start_time": "2023-02-14T22:04:17.621Z"
   },
   {
    "duration": 127,
    "start_time": "2023-02-14T22:04:17.658Z"
   },
   {
    "duration": 0,
    "start_time": "2023-02-14T22:04:17.786Z"
   },
   {
    "duration": 0,
    "start_time": "2023-02-14T22:04:17.787Z"
   },
   {
    "duration": 0,
    "start_time": "2023-02-14T22:04:17.788Z"
   },
   {
    "duration": 0,
    "start_time": "2023-02-14T22:04:17.789Z"
   },
   {
    "duration": 1865,
    "start_time": "2023-02-14T22:05:09.365Z"
   },
   {
    "duration": 32,
    "start_time": "2023-02-14T22:05:19.123Z"
   },
   {
    "duration": 79,
    "start_time": "2023-02-14T22:05:24.997Z"
   },
   {
    "duration": 695,
    "start_time": "2023-02-14T22:07:40.418Z"
   },
   {
    "duration": 764,
    "start_time": "2023-02-14T22:07:41.115Z"
   },
   {
    "duration": 1474,
    "start_time": "2023-02-14T22:07:41.880Z"
   },
   {
    "duration": 5,
    "start_time": "2023-02-14T22:07:43.356Z"
   },
   {
    "duration": 68,
    "start_time": "2023-02-14T22:07:43.363Z"
   },
   {
    "duration": 102,
    "start_time": "2023-02-14T22:07:43.433Z"
   },
   {
    "duration": 72,
    "start_time": "2023-02-14T22:07:43.537Z"
   },
   {
    "duration": 1728,
    "start_time": "2023-02-14T22:07:43.611Z"
   },
   {
    "duration": 30,
    "start_time": "2023-02-14T22:07:45.341Z"
   },
   {
    "duration": 15365,
    "start_time": "2023-02-14T22:07:45.381Z"
   },
   {
    "duration": 940,
    "start_time": "2023-02-14T22:08:00.747Z"
   },
   {
    "duration": 219,
    "start_time": "2023-02-14T22:08:01.688Z"
   },
   {
    "duration": 43,
    "start_time": "2023-02-14T22:08:01.909Z"
   },
   {
    "duration": 76,
    "start_time": "2023-02-14T22:08:01.954Z"
   },
   {
    "duration": 89,
    "start_time": "2023-02-14T22:08:02.032Z"
   },
   {
    "duration": 14,
    "start_time": "2023-02-14T22:08:02.123Z"
   },
   {
    "duration": 45,
    "start_time": "2023-02-14T22:08:02.139Z"
   },
   {
    "duration": 21,
    "start_time": "2023-02-14T22:08:02.186Z"
   },
   {
    "duration": 110,
    "start_time": "2023-02-14T22:08:02.209Z"
   },
   {
    "duration": 0,
    "start_time": "2023-02-14T22:08:02.321Z"
   },
   {
    "duration": 0,
    "start_time": "2023-02-14T22:08:02.323Z"
   },
   {
    "duration": 0,
    "start_time": "2023-02-14T22:08:02.324Z"
   },
   {
    "duration": 0,
    "start_time": "2023-02-14T22:08:02.326Z"
   },
   {
    "duration": 42,
    "start_time": "2023-02-14T22:08:42.445Z"
   },
   {
    "duration": 24,
    "start_time": "2023-02-14T22:08:53.496Z"
   },
   {
    "duration": 32,
    "start_time": "2023-02-14T22:09:02.784Z"
   },
   {
    "duration": 83,
    "start_time": "2023-02-14T22:09:18.186Z"
   },
   {
    "duration": 78,
    "start_time": "2023-02-14T22:09:33.208Z"
   },
   {
    "duration": 50,
    "start_time": "2023-02-14T22:10:22.663Z"
   },
   {
    "duration": 2148,
    "start_time": "2023-02-14T22:10:25.072Z"
   },
   {
    "duration": 32,
    "start_time": "2023-02-14T22:10:35.418Z"
   },
   {
    "duration": 1016,
    "start_time": "2023-02-14T22:11:00.113Z"
   },
   {
    "duration": 607,
    "start_time": "2023-02-14T22:12:05.144Z"
   },
   {
    "duration": 841,
    "start_time": "2023-02-14T22:12:05.752Z"
   },
   {
    "duration": 1530,
    "start_time": "2023-02-14T22:12:06.594Z"
   },
   {
    "duration": 5,
    "start_time": "2023-02-14T22:12:08.126Z"
   },
   {
    "duration": 74,
    "start_time": "2023-02-14T22:12:08.132Z"
   },
   {
    "duration": 107,
    "start_time": "2023-02-14T22:12:08.208Z"
   },
   {
    "duration": 32,
    "start_time": "2023-02-14T22:12:08.317Z"
   },
   {
    "duration": 974,
    "start_time": "2023-02-14T22:12:08.351Z"
   },
   {
    "duration": 0,
    "start_time": "2023-02-14T22:12:09.327Z"
   },
   {
    "duration": 0,
    "start_time": "2023-02-14T22:12:09.328Z"
   },
   {
    "duration": 0,
    "start_time": "2023-02-14T22:12:09.329Z"
   },
   {
    "duration": 0,
    "start_time": "2023-02-14T22:12:09.330Z"
   },
   {
    "duration": 0,
    "start_time": "2023-02-14T22:12:09.330Z"
   },
   {
    "duration": 0,
    "start_time": "2023-02-14T22:12:09.331Z"
   },
   {
    "duration": 0,
    "start_time": "2023-02-14T22:12:09.332Z"
   },
   {
    "duration": 0,
    "start_time": "2023-02-14T22:12:09.333Z"
   },
   {
    "duration": 0,
    "start_time": "2023-02-14T22:12:09.334Z"
   },
   {
    "duration": 0,
    "start_time": "2023-02-14T22:12:09.335Z"
   },
   {
    "duration": 0,
    "start_time": "2023-02-14T22:12:09.335Z"
   },
   {
    "duration": 0,
    "start_time": "2023-02-14T22:12:09.336Z"
   },
   {
    "duration": 0,
    "start_time": "2023-02-14T22:12:09.337Z"
   },
   {
    "duration": 0,
    "start_time": "2023-02-14T22:12:09.338Z"
   },
   {
    "duration": 588,
    "start_time": "2023-02-14T22:13:36.898Z"
   },
   {
    "duration": 776,
    "start_time": "2023-02-14T22:13:37.488Z"
   },
   {
    "duration": 1505,
    "start_time": "2023-02-14T22:13:38.266Z"
   },
   {
    "duration": 9,
    "start_time": "2023-02-14T22:13:39.773Z"
   },
   {
    "duration": 75,
    "start_time": "2023-02-14T22:13:39.784Z"
   },
   {
    "duration": 95,
    "start_time": "2023-02-14T22:13:39.861Z"
   },
   {
    "duration": 37,
    "start_time": "2023-02-14T22:13:39.957Z"
   },
   {
    "duration": 975,
    "start_time": "2023-02-14T22:13:39.996Z"
   },
   {
    "duration": 0,
    "start_time": "2023-02-14T22:13:40.973Z"
   },
   {
    "duration": 0,
    "start_time": "2023-02-14T22:13:40.974Z"
   },
   {
    "duration": 0,
    "start_time": "2023-02-14T22:13:40.981Z"
   },
   {
    "duration": 0,
    "start_time": "2023-02-14T22:13:40.982Z"
   },
   {
    "duration": 0,
    "start_time": "2023-02-14T22:13:40.983Z"
   },
   {
    "duration": 0,
    "start_time": "2023-02-14T22:13:40.984Z"
   },
   {
    "duration": 0,
    "start_time": "2023-02-14T22:13:40.985Z"
   },
   {
    "duration": 0,
    "start_time": "2023-02-14T22:13:40.986Z"
   },
   {
    "duration": 0,
    "start_time": "2023-02-14T22:13:40.987Z"
   },
   {
    "duration": 0,
    "start_time": "2023-02-14T22:13:40.988Z"
   },
   {
    "duration": 0,
    "start_time": "2023-02-14T22:13:40.990Z"
   },
   {
    "duration": 0,
    "start_time": "2023-02-14T22:13:40.991Z"
   },
   {
    "duration": 0,
    "start_time": "2023-02-14T22:13:40.991Z"
   },
   {
    "duration": 0,
    "start_time": "2023-02-14T22:13:40.992Z"
   },
   {
    "duration": 50,
    "start_time": "2023-02-14T22:14:10.235Z"
   },
   {
    "duration": 49,
    "start_time": "2023-02-14T22:14:20.018Z"
   },
   {
    "duration": 66,
    "start_time": "2023-02-14T22:14:32.680Z"
   },
   {
    "duration": 66,
    "start_time": "2023-02-14T22:15:16.117Z"
   },
   {
    "duration": 580,
    "start_time": "2023-02-14T22:15:27.291Z"
   },
   {
    "duration": 753,
    "start_time": "2023-02-14T22:15:27.873Z"
   },
   {
    "duration": 1476,
    "start_time": "2023-02-14T22:15:28.628Z"
   },
   {
    "duration": 5,
    "start_time": "2023-02-14T22:15:30.106Z"
   },
   {
    "duration": 75,
    "start_time": "2023-02-14T22:15:30.112Z"
   },
   {
    "duration": 105,
    "start_time": "2023-02-14T22:15:30.189Z"
   },
   {
    "duration": 72,
    "start_time": "2023-02-14T22:15:30.296Z"
   },
   {
    "duration": 980,
    "start_time": "2023-02-14T22:15:30.381Z"
   },
   {
    "duration": 1,
    "start_time": "2023-02-14T22:15:31.362Z"
   },
   {
    "duration": 0,
    "start_time": "2023-02-14T22:15:31.364Z"
   },
   {
    "duration": 0,
    "start_time": "2023-02-14T22:15:31.365Z"
   },
   {
    "duration": 0,
    "start_time": "2023-02-14T22:15:31.366Z"
   },
   {
    "duration": 0,
    "start_time": "2023-02-14T22:15:31.367Z"
   },
   {
    "duration": 0,
    "start_time": "2023-02-14T22:15:31.368Z"
   },
   {
    "duration": 0,
    "start_time": "2023-02-14T22:15:31.381Z"
   },
   {
    "duration": 0,
    "start_time": "2023-02-14T22:15:31.382Z"
   },
   {
    "duration": 0,
    "start_time": "2023-02-14T22:15:31.383Z"
   },
   {
    "duration": 0,
    "start_time": "2023-02-14T22:15:31.384Z"
   },
   {
    "duration": 0,
    "start_time": "2023-02-14T22:15:31.386Z"
   },
   {
    "duration": 0,
    "start_time": "2023-02-14T22:15:31.387Z"
   },
   {
    "duration": 0,
    "start_time": "2023-02-14T22:15:31.388Z"
   },
   {
    "duration": 0,
    "start_time": "2023-02-14T22:15:31.389Z"
   },
   {
    "duration": 24,
    "start_time": "2023-02-14T22:16:15.295Z"
   },
   {
    "duration": 40,
    "start_time": "2023-02-14T22:16:28.529Z"
   },
   {
    "duration": 657,
    "start_time": "2023-02-14T22:17:00.152Z"
   },
   {
    "duration": 776,
    "start_time": "2023-02-14T22:17:00.811Z"
   },
   {
    "duration": 1475,
    "start_time": "2023-02-14T22:17:01.589Z"
   },
   {
    "duration": 5,
    "start_time": "2023-02-14T22:17:03.066Z"
   },
   {
    "duration": 62,
    "start_time": "2023-02-14T22:17:03.082Z"
   },
   {
    "duration": 103,
    "start_time": "2023-02-14T22:17:03.146Z"
   },
   {
    "duration": 74,
    "start_time": "2023-02-14T22:17:03.251Z"
   },
   {
    "duration": 116,
    "start_time": "2023-02-14T22:17:03.327Z"
   },
   {
    "duration": 0,
    "start_time": "2023-02-14T22:17:03.445Z"
   },
   {
    "duration": 0,
    "start_time": "2023-02-14T22:17:03.447Z"
   },
   {
    "duration": 0,
    "start_time": "2023-02-14T22:17:03.448Z"
   },
   {
    "duration": 0,
    "start_time": "2023-02-14T22:17:03.449Z"
   },
   {
    "duration": 0,
    "start_time": "2023-02-14T22:17:03.450Z"
   },
   {
    "duration": 0,
    "start_time": "2023-02-14T22:17:03.451Z"
   },
   {
    "duration": 0,
    "start_time": "2023-02-14T22:17:03.452Z"
   },
   {
    "duration": 0,
    "start_time": "2023-02-14T22:17:03.453Z"
   },
   {
    "duration": 0,
    "start_time": "2023-02-14T22:17:03.454Z"
   },
   {
    "duration": 0,
    "start_time": "2023-02-14T22:17:03.455Z"
   },
   {
    "duration": 0,
    "start_time": "2023-02-14T22:17:03.457Z"
   },
   {
    "duration": 0,
    "start_time": "2023-02-14T22:17:03.457Z"
   },
   {
    "duration": 0,
    "start_time": "2023-02-14T22:17:03.459Z"
   },
   {
    "duration": 0,
    "start_time": "2023-02-14T22:17:03.482Z"
   },
   {
    "duration": 559,
    "start_time": "2023-02-14T22:18:14.920Z"
   },
   {
    "duration": 754,
    "start_time": "2023-02-14T22:18:15.481Z"
   },
   {
    "duration": 1524,
    "start_time": "2023-02-14T22:18:16.237Z"
   },
   {
    "duration": 5,
    "start_time": "2023-02-14T22:18:17.762Z"
   },
   {
    "duration": 68,
    "start_time": "2023-02-14T22:18:17.769Z"
   },
   {
    "duration": 97,
    "start_time": "2023-02-14T22:18:17.839Z"
   },
   {
    "duration": 77,
    "start_time": "2023-02-14T22:18:17.938Z"
   },
   {
    "duration": 938,
    "start_time": "2023-02-14T22:18:18.017Z"
   },
   {
    "duration": 0,
    "start_time": "2023-02-14T22:18:18.957Z"
   },
   {
    "duration": 0,
    "start_time": "2023-02-14T22:18:18.958Z"
   },
   {
    "duration": 0,
    "start_time": "2023-02-14T22:18:18.959Z"
   },
   {
    "duration": 0,
    "start_time": "2023-02-14T22:18:18.960Z"
   },
   {
    "duration": 0,
    "start_time": "2023-02-14T22:18:18.961Z"
   },
   {
    "duration": 0,
    "start_time": "2023-02-14T22:18:18.961Z"
   },
   {
    "duration": 0,
    "start_time": "2023-02-14T22:18:18.962Z"
   },
   {
    "duration": 0,
    "start_time": "2023-02-14T22:18:18.963Z"
   },
   {
    "duration": 0,
    "start_time": "2023-02-14T22:18:18.964Z"
   },
   {
    "duration": 0,
    "start_time": "2023-02-14T22:18:18.965Z"
   },
   {
    "duration": 0,
    "start_time": "2023-02-14T22:18:18.966Z"
   },
   {
    "duration": 0,
    "start_time": "2023-02-14T22:18:18.966Z"
   },
   {
    "duration": 0,
    "start_time": "2023-02-14T22:18:18.981Z"
   },
   {
    "duration": 0,
    "start_time": "2023-02-14T22:18:18.982Z"
   },
   {
    "duration": 1695,
    "start_time": "2023-02-14T22:18:58.066Z"
   },
   {
    "duration": 101,
    "start_time": "2023-02-14T22:19:30.515Z"
   },
   {
    "duration": 12,
    "start_time": "2023-02-14T22:20:04.684Z"
   },
   {
    "duration": 22,
    "start_time": "2023-02-14T22:20:45.788Z"
   },
   {
    "duration": 23,
    "start_time": "2023-02-14T22:21:06.773Z"
   },
   {
    "duration": 19,
    "start_time": "2023-02-14T22:21:21.117Z"
   },
   {
    "duration": 778,
    "start_time": "2023-02-15T08:51:37.369Z"
   },
   {
    "duration": 1051,
    "start_time": "2023-02-15T08:51:38.149Z"
   },
   {
    "duration": 1503,
    "start_time": "2023-02-15T08:51:39.202Z"
   },
   {
    "duration": 4,
    "start_time": "2023-02-15T08:51:40.706Z"
   },
   {
    "duration": 71,
    "start_time": "2023-02-15T08:51:40.712Z"
   },
   {
    "duration": 132,
    "start_time": "2023-02-15T08:51:40.785Z"
   },
   {
    "duration": 102,
    "start_time": "2023-02-15T08:51:40.919Z"
   },
   {
    "duration": 2165,
    "start_time": "2023-02-15T08:51:41.023Z"
   },
   {
    "duration": 36,
    "start_time": "2023-02-15T08:51:43.190Z"
   },
   {
    "duration": 23,
    "start_time": "2023-02-15T08:51:43.227Z"
   },
   {
    "duration": 8,
    "start_time": "2023-02-15T08:51:43.252Z"
   },
   {
    "duration": 1098,
    "start_time": "2023-02-15T08:51:43.262Z"
   },
   {
    "duration": 252,
    "start_time": "2023-02-15T08:51:44.362Z"
   },
   {
    "duration": 43,
    "start_time": "2023-02-15T08:51:44.616Z"
   },
   {
    "duration": 98,
    "start_time": "2023-02-15T08:51:44.661Z"
   },
   {
    "duration": 2,
    "start_time": "2023-02-15T08:51:44.761Z"
   },
   {
    "duration": 41,
    "start_time": "2023-02-15T08:51:44.765Z"
   },
   {
    "duration": 5,
    "start_time": "2023-02-15T08:51:44.808Z"
   },
   {
    "duration": 4,
    "start_time": "2023-02-15T08:51:44.815Z"
   },
   {
    "duration": 5,
    "start_time": "2023-02-15T08:51:44.821Z"
   },
   {
    "duration": 3,
    "start_time": "2023-02-15T08:51:44.828Z"
   },
   {
    "duration": 4,
    "start_time": "2023-02-15T08:51:44.833Z"
   },
   {
    "duration": 609,
    "start_time": "2023-02-15T09:16:10.987Z"
   },
   {
    "duration": 753,
    "start_time": "2023-02-15T09:16:11.598Z"
   },
   {
    "duration": 1528,
    "start_time": "2023-02-15T09:16:12.352Z"
   },
   {
    "duration": 12,
    "start_time": "2023-02-15T09:16:13.882Z"
   },
   {
    "duration": 60,
    "start_time": "2023-02-15T09:16:13.896Z"
   },
   {
    "duration": 1021,
    "start_time": "2023-02-15T09:16:13.958Z"
   },
   {
    "duration": 239,
    "start_time": "2023-02-15T09:16:14.981Z"
   },
   {
    "duration": 43,
    "start_time": "2023-02-15T09:16:15.222Z"
   },
   {
    "duration": 143,
    "start_time": "2023-02-15T09:16:15.266Z"
   },
   {
    "duration": 86,
    "start_time": "2023-02-15T09:16:15.411Z"
   },
   {
    "duration": 2074,
    "start_time": "2023-02-15T09:16:15.499Z"
   },
   {
    "duration": 77,
    "start_time": "2023-02-15T09:16:17.575Z"
   },
   {
    "duration": 93,
    "start_time": "2023-02-15T09:16:17.653Z"
   },
   {
    "duration": 2,
    "start_time": "2023-02-15T09:16:17.749Z"
   },
   {
    "duration": 5,
    "start_time": "2023-02-15T09:16:17.753Z"
   },
   {
    "duration": 1096,
    "start_time": "2023-02-15T09:20:34.616Z"
   },
   {
    "duration": 632,
    "start_time": "2023-02-15T09:21:18.991Z"
   },
   {
    "duration": 787,
    "start_time": "2023-02-15T09:21:19.625Z"
   },
   {
    "duration": 1555,
    "start_time": "2023-02-15T09:21:20.414Z"
   },
   {
    "duration": 5,
    "start_time": "2023-02-15T09:21:21.971Z"
   },
   {
    "duration": 68,
    "start_time": "2023-02-15T09:21:21.978Z"
   },
   {
    "duration": 918,
    "start_time": "2023-02-15T09:21:22.048Z"
   },
   {
    "duration": 215,
    "start_time": "2023-02-15T09:21:22.968Z"
   },
   {
    "duration": 40,
    "start_time": "2023-02-15T09:21:23.184Z"
   },
   {
    "duration": 111,
    "start_time": "2023-02-15T09:21:23.225Z"
   },
   {
    "duration": 85,
    "start_time": "2023-02-15T09:21:23.338Z"
   },
   {
    "duration": 1137,
    "start_time": "2023-02-15T09:21:23.424Z"
   },
   {
    "duration": 0,
    "start_time": "2023-02-15T09:21:24.563Z"
   },
   {
    "duration": 0,
    "start_time": "2023-02-15T09:21:24.564Z"
   },
   {
    "duration": 0,
    "start_time": "2023-02-15T09:21:24.565Z"
   },
   {
    "duration": 0,
    "start_time": "2023-02-15T09:21:24.566Z"
   },
   {
    "duration": 56,
    "start_time": "2023-02-15T09:22:42.426Z"
   },
   {
    "duration": 2064,
    "start_time": "2023-02-15T09:22:58.098Z"
   },
   {
    "duration": 1982,
    "start_time": "2023-02-15T09:24:45.209Z"
   },
   {
    "duration": 79,
    "start_time": "2023-02-15T09:25:08.681Z"
   },
   {
    "duration": 12584,
    "start_time": "2023-02-15T09:26:05.003Z"
   },
   {
    "duration": 80,
    "start_time": "2023-02-15T09:26:17.589Z"
   },
   {
    "duration": 12336,
    "start_time": "2023-02-15T09:27:47.015Z"
   },
   {
    "duration": 12540,
    "start_time": "2023-02-15T09:28:16.628Z"
   },
   {
    "duration": 86,
    "start_time": "2023-02-15T09:28:29.170Z"
   },
   {
    "duration": 4,
    "start_time": "2023-02-15T09:59:40.665Z"
   },
   {
    "duration": 641,
    "start_time": "2023-02-15T10:03:15.270Z"
   },
   {
    "duration": 764,
    "start_time": "2023-02-15T10:03:15.913Z"
   },
   {
    "duration": 1554,
    "start_time": "2023-02-15T10:03:16.678Z"
   },
   {
    "duration": 5,
    "start_time": "2023-02-15T10:03:18.234Z"
   },
   {
    "duration": 75,
    "start_time": "2023-02-15T10:03:18.241Z"
   },
   {
    "duration": 8,
    "start_time": "2023-02-15T10:03:18.318Z"
   },
   {
    "duration": 997,
    "start_time": "2023-02-15T10:03:18.328Z"
   },
   {
    "duration": 218,
    "start_time": "2023-02-15T10:03:19.327Z"
   },
   {
    "duration": 95,
    "start_time": "2023-02-15T10:03:19.547Z"
   },
   {
    "duration": 106,
    "start_time": "2023-02-15T10:03:19.645Z"
   },
   {
    "duration": 2007,
    "start_time": "2023-02-15T10:03:19.752Z"
   },
   {
    "duration": 12433,
    "start_time": "2023-02-15T10:03:21.761Z"
   },
   {
    "duration": 12670,
    "start_time": "2023-02-15T10:03:34.196Z"
   },
   {
    "duration": 12403,
    "start_time": "2023-02-15T10:03:46.867Z"
   },
   {
    "duration": 78,
    "start_time": "2023-02-15T10:03:59.272Z"
   },
   {
    "duration": 3,
    "start_time": "2023-02-15T10:03:59.352Z"
   },
   {
    "duration": 18,
    "start_time": "2023-02-15T10:04:14.032Z"
   },
   {
    "duration": 770,
    "start_time": "2023-02-15T10:06:33.511Z"
   },
   {
    "duration": 922,
    "start_time": "2023-02-15T10:06:34.283Z"
   },
   {
    "duration": 1799,
    "start_time": "2023-02-15T10:06:35.207Z"
   },
   {
    "duration": 5,
    "start_time": "2023-02-15T10:06:37.008Z"
   },
   {
    "duration": 62,
    "start_time": "2023-02-15T10:06:37.015Z"
   },
   {
    "duration": 986,
    "start_time": "2023-02-15T10:06:37.093Z"
   },
   {
    "duration": 75,
    "start_time": "2023-02-15T10:06:38.081Z"
   },
   {
    "duration": 128,
    "start_time": "2023-02-15T10:06:38.157Z"
   },
   {
    "duration": 108,
    "start_time": "2023-02-15T10:06:38.287Z"
   },
   {
    "duration": 2028,
    "start_time": "2023-02-15T10:06:38.396Z"
   },
   {
    "duration": 12544,
    "start_time": "2023-02-15T10:06:40.426Z"
   },
   {
    "duration": 12928,
    "start_time": "2023-02-15T10:06:52.972Z"
   },
   {
    "duration": 12707,
    "start_time": "2023-02-15T10:07:05.901Z"
   },
   {
    "duration": 84,
    "start_time": "2023-02-15T10:07:18.611Z"
   },
   {
    "duration": 17,
    "start_time": "2023-02-15T10:26:44.183Z"
   },
   {
    "duration": 5,
    "start_time": "2023-02-15T10:26:49.048Z"
   },
   {
    "duration": 418,
    "start_time": "2023-02-15T10:27:09.367Z"
   },
   {
    "duration": 6,
    "start_time": "2023-02-15T10:27:10.152Z"
   },
   {
    "duration": 49,
    "start_time": "2023-02-15T10:27:35.641Z"
   },
   {
    "duration": 6,
    "start_time": "2023-02-15T10:27:36.328Z"
   },
   {
    "duration": 50,
    "start_time": "2023-02-15T10:27:59.173Z"
   },
   {
    "duration": 88,
    "start_time": "2023-02-15T10:28:12.242Z"
   },
   {
    "duration": 30,
    "start_time": "2023-02-15T10:28:17.922Z"
   },
   {
    "duration": 6,
    "start_time": "2023-02-15T10:28:30.350Z"
   },
   {
    "duration": 42,
    "start_time": "2023-02-15T10:28:37.435Z"
   },
   {
    "duration": 29,
    "start_time": "2023-02-15T10:28:42.876Z"
   },
   {
    "duration": 45,
    "start_time": "2023-02-15T10:29:48.928Z"
   },
   {
    "duration": 43,
    "start_time": "2023-02-15T10:29:50.482Z"
   },
   {
    "duration": 30,
    "start_time": "2023-02-15T10:29:55.485Z"
   },
   {
    "duration": 595,
    "start_time": "2023-02-15T18:09:31.620Z"
   },
   {
    "duration": 756,
    "start_time": "2023-02-15T18:09:32.217Z"
   },
   {
    "duration": 1591,
    "start_time": "2023-02-15T18:09:32.975Z"
   },
   {
    "duration": 5,
    "start_time": "2023-02-15T18:09:34.568Z"
   },
   {
    "duration": 69,
    "start_time": "2023-02-15T18:09:34.574Z"
   },
   {
    "duration": 930,
    "start_time": "2023-02-15T18:09:34.644Z"
   },
   {
    "duration": 71,
    "start_time": "2023-02-15T18:09:35.575Z"
   },
   {
    "duration": 121,
    "start_time": "2023-02-15T18:09:35.647Z"
   },
   {
    "duration": 104,
    "start_time": "2023-02-15T18:09:35.770Z"
   },
   {
    "duration": 1944,
    "start_time": "2023-02-15T18:09:35.877Z"
   },
   {
    "duration": 11990,
    "start_time": "2023-02-15T18:09:37.823Z"
   },
   {
    "duration": 12168,
    "start_time": "2023-02-15T18:09:49.814Z"
   },
   {
    "duration": 12012,
    "start_time": "2023-02-15T18:10:01.984Z"
   },
   {
    "duration": 98,
    "start_time": "2023-02-15T18:10:13.999Z"
   },
   {
    "duration": 454,
    "start_time": "2023-02-15T18:10:14.099Z"
   },
   {
    "duration": 0,
    "start_time": "2023-02-15T18:10:14.554Z"
   },
   {
    "duration": 343,
    "start_time": "2023-02-15T18:17:50.214Z"
   },
   {
    "duration": 715,
    "start_time": "2023-02-15T18:17:53.750Z"
   },
   {
    "duration": 684,
    "start_time": "2023-02-15T18:17:59.217Z"
   },
   {
    "duration": 3,
    "start_time": "2023-02-15T18:25:35.179Z"
   },
   {
    "duration": 16,
    "start_time": "2023-02-15T18:26:18.817Z"
   },
   {
    "duration": 5,
    "start_time": "2023-02-15T18:26:19.627Z"
   },
   {
    "duration": 11,
    "start_time": "2023-02-15T18:26:28.118Z"
   },
   {
    "duration": 16,
    "start_time": "2023-02-15T18:27:35.261Z"
   },
   {
    "duration": 446,
    "start_time": "2023-02-15T18:28:31.508Z"
   },
   {
    "duration": 5,
    "start_time": "2023-02-15T18:28:33.042Z"
   },
   {
    "duration": 546,
    "start_time": "2023-02-15T18:29:40.275Z"
   },
   {
    "duration": 6,
    "start_time": "2023-02-15T18:30:08.825Z"
   },
   {
    "duration": 193,
    "start_time": "2023-02-15T18:35:40.698Z"
   },
   {
    "duration": 690,
    "start_time": "2023-02-15T18:35:44.262Z"
   },
   {
    "duration": 995,
    "start_time": "2023-02-15T18:36:02.941Z"
   },
   {
    "duration": 33,
    "start_time": "2023-02-15T18:37:14.793Z"
   },
   {
    "duration": 634,
    "start_time": "2023-02-15T18:37:32.082Z"
   },
   {
    "duration": 778,
    "start_time": "2023-02-15T18:37:32.718Z"
   },
   {
    "duration": 1584,
    "start_time": "2023-02-15T18:37:33.498Z"
   },
   {
    "duration": 11,
    "start_time": "2023-02-15T18:37:35.085Z"
   },
   {
    "duration": 62,
    "start_time": "2023-02-15T18:37:35.097Z"
   },
   {
    "duration": 930,
    "start_time": "2023-02-15T18:37:35.161Z"
   },
   {
    "duration": 70,
    "start_time": "2023-02-15T18:37:36.093Z"
   },
   {
    "duration": 127,
    "start_time": "2023-02-15T18:37:36.164Z"
   },
   {
    "duration": 107,
    "start_time": "2023-02-15T18:37:36.293Z"
   },
   {
    "duration": 2157,
    "start_time": "2023-02-15T18:37:36.402Z"
   },
   {
    "duration": 12425,
    "start_time": "2023-02-15T18:37:38.562Z"
   },
   {
    "duration": 12488,
    "start_time": "2023-02-15T18:37:50.989Z"
   },
   {
    "duration": 12364,
    "start_time": "2023-02-15T18:38:03.479Z"
   },
   {
    "duration": 78,
    "start_time": "2023-02-15T18:38:15.844Z"
   },
   {
    "duration": 6,
    "start_time": "2023-02-15T18:38:15.924Z"
   },
   {
    "duration": 48,
    "start_time": "2023-02-15T18:38:15.931Z"
   },
   {
    "duration": 3,
    "start_time": "2023-02-15T18:38:15.981Z"
   },
   {
    "duration": 28,
    "start_time": "2023-02-15T18:41:28.511Z"
   },
   {
    "duration": 33,
    "start_time": "2023-02-15T18:41:32.726Z"
   },
   {
    "duration": 5,
    "start_time": "2023-02-15T18:41:53.044Z"
   },
   {
    "duration": 599,
    "start_time": "2023-02-15T18:41:59.618Z"
   },
   {
    "duration": 788,
    "start_time": "2023-02-15T18:42:00.219Z"
   },
   {
    "duration": 1559,
    "start_time": "2023-02-15T18:42:01.008Z"
   },
   {
    "duration": 4,
    "start_time": "2023-02-15T18:42:02.569Z"
   },
   {
    "duration": 74,
    "start_time": "2023-02-15T18:42:02.575Z"
   },
   {
    "duration": 896,
    "start_time": "2023-02-15T18:42:02.651Z"
   },
   {
    "duration": 74,
    "start_time": "2023-02-15T18:42:03.549Z"
   },
   {
    "duration": 120,
    "start_time": "2023-02-15T18:42:03.625Z"
   },
   {
    "duration": 96,
    "start_time": "2023-02-15T18:42:03.747Z"
   },
   {
    "duration": 2088,
    "start_time": "2023-02-15T18:42:03.844Z"
   },
   {
    "duration": 12287,
    "start_time": "2023-02-15T18:42:05.933Z"
   },
   {
    "duration": 12432,
    "start_time": "2023-02-15T18:42:18.222Z"
   },
   {
    "duration": 12313,
    "start_time": "2023-02-15T18:42:30.655Z"
   },
   {
    "duration": 76,
    "start_time": "2023-02-15T18:42:42.971Z"
   },
   {
    "duration": 6,
    "start_time": "2023-02-15T18:42:43.049Z"
   },
   {
    "duration": 52,
    "start_time": "2023-02-15T18:42:43.056Z"
   },
   {
    "duration": 2,
    "start_time": "2023-02-15T18:42:43.110Z"
   },
   {
    "duration": 35,
    "start_time": "2023-02-15T18:44:15.994Z"
   },
   {
    "duration": 5,
    "start_time": "2023-02-15T18:44:38.919Z"
   },
   {
    "duration": 6,
    "start_time": "2023-02-15T18:45:02.782Z"
   },
   {
    "duration": 7,
    "start_time": "2023-02-15T18:45:09.743Z"
   },
   {
    "duration": 79,
    "start_time": "2023-02-15T18:45:29.951Z"
   },
   {
    "duration": 6,
    "start_time": "2023-02-15T18:45:30.511Z"
   },
   {
    "duration": 35,
    "start_time": "2023-02-15T18:45:31.078Z"
   },
   {
    "duration": 629,
    "start_time": "2023-02-15T18:45:44.537Z"
   },
   {
    "duration": 776,
    "start_time": "2023-02-15T18:45:45.168Z"
   },
   {
    "duration": 1501,
    "start_time": "2023-02-15T18:45:45.946Z"
   },
   {
    "duration": 4,
    "start_time": "2023-02-15T18:45:47.449Z"
   },
   {
    "duration": 67,
    "start_time": "2023-02-15T18:45:47.456Z"
   },
   {
    "duration": 888,
    "start_time": "2023-02-15T18:45:47.525Z"
   },
   {
    "duration": 65,
    "start_time": "2023-02-15T18:45:48.414Z"
   },
   {
    "duration": 124,
    "start_time": "2023-02-15T18:45:48.481Z"
   },
   {
    "duration": 102,
    "start_time": "2023-02-15T18:45:48.607Z"
   },
   {
    "duration": 1944,
    "start_time": "2023-02-15T18:45:48.711Z"
   },
   {
    "duration": 12334,
    "start_time": "2023-02-15T18:45:50.657Z"
   },
   {
    "duration": 12588,
    "start_time": "2023-02-15T18:46:02.993Z"
   },
   {
    "duration": 12308,
    "start_time": "2023-02-15T18:46:15.583Z"
   },
   {
    "duration": 99,
    "start_time": "2023-02-15T18:46:27.895Z"
   },
   {
    "duration": 6,
    "start_time": "2023-02-15T18:46:27.996Z"
   },
   {
    "duration": 39,
    "start_time": "2023-02-15T18:46:28.004Z"
   },
   {
    "duration": 619,
    "start_time": "2023-02-15T18:47:00.958Z"
   },
   {
    "duration": 768,
    "start_time": "2023-02-15T18:47:01.579Z"
   },
   {
    "duration": 1521,
    "start_time": "2023-02-15T18:47:02.349Z"
   },
   {
    "duration": 5,
    "start_time": "2023-02-15T18:47:03.871Z"
   },
   {
    "duration": 68,
    "start_time": "2023-02-15T18:47:03.878Z"
   },
   {
    "duration": 973,
    "start_time": "2023-02-15T18:47:03.947Z"
   },
   {
    "duration": 122,
    "start_time": "2023-02-15T18:47:04.922Z"
   },
   {
    "duration": 123,
    "start_time": "2023-02-15T18:47:05.046Z"
   },
   {
    "duration": 2043,
    "start_time": "2023-02-15T18:47:05.170Z"
   },
   {
    "duration": 12241,
    "start_time": "2023-02-15T18:47:07.215Z"
   },
   {
    "duration": 12549,
    "start_time": "2023-02-15T18:47:19.458Z"
   },
   {
    "duration": 12475,
    "start_time": "2023-02-15T18:47:32.009Z"
   },
   {
    "duration": 85,
    "start_time": "2023-02-15T18:47:44.486Z"
   },
   {
    "duration": 5,
    "start_time": "2023-02-15T18:47:44.573Z"
   },
   {
    "duration": 115,
    "start_time": "2023-02-15T18:47:44.580Z"
   },
   {
    "duration": 555,
    "start_time": "2023-02-15T19:14:23.353Z"
   },
   {
    "duration": 878,
    "start_time": "2023-02-15T19:14:23.910Z"
   },
   {
    "duration": 1531,
    "start_time": "2023-02-15T19:14:24.790Z"
   },
   {
    "duration": 4,
    "start_time": "2023-02-15T19:14:26.323Z"
   },
   {
    "duration": 99,
    "start_time": "2023-02-15T19:14:26.329Z"
   },
   {
    "duration": 935,
    "start_time": "2023-02-15T19:14:26.429Z"
   },
   {
    "duration": 79,
    "start_time": "2023-02-15T19:14:27.365Z"
   },
   {
    "duration": 126,
    "start_time": "2023-02-15T19:14:27.446Z"
   },
   {
    "duration": 109,
    "start_time": "2023-02-15T19:14:27.573Z"
   },
   {
    "duration": 1934,
    "start_time": "2023-02-15T19:14:27.684Z"
   },
   {
    "duration": 12116,
    "start_time": "2023-02-15T19:14:29.620Z"
   },
   {
    "duration": 12128,
    "start_time": "2023-02-15T19:14:41.737Z"
   },
   {
    "duration": 12181,
    "start_time": "2023-02-15T19:14:53.866Z"
   },
   {
    "duration": 81,
    "start_time": "2023-02-15T19:15:06.050Z"
   },
   {
    "duration": 16,
    "start_time": "2023-02-15T19:15:06.133Z"
   },
   {
    "duration": 50,
    "start_time": "2023-02-15T19:15:06.151Z"
   },
   {
    "duration": 558,
    "start_time": "2023-02-15T19:21:16.238Z"
   },
   {
    "duration": 765,
    "start_time": "2023-02-15T19:21:16.797Z"
   },
   {
    "duration": 1539,
    "start_time": "2023-02-15T19:21:17.563Z"
   },
   {
    "duration": 5,
    "start_time": "2023-02-15T19:21:19.104Z"
   },
   {
    "duration": 91,
    "start_time": "2023-02-15T19:21:19.111Z"
   },
   {
    "duration": 934,
    "start_time": "2023-02-15T19:21:19.204Z"
   },
   {
    "duration": 78,
    "start_time": "2023-02-15T19:21:20.140Z"
   },
   {
    "duration": 152,
    "start_time": "2023-02-15T19:21:20.219Z"
   },
   {
    "duration": 100,
    "start_time": "2023-02-15T19:21:20.373Z"
   },
   {
    "duration": 1962,
    "start_time": "2023-02-15T19:21:20.476Z"
   },
   {
    "duration": 12171,
    "start_time": "2023-02-15T19:21:22.440Z"
   },
   {
    "duration": 12116,
    "start_time": "2023-02-15T19:21:34.613Z"
   },
   {
    "duration": 12020,
    "start_time": "2023-02-15T19:21:46.731Z"
   },
   {
    "duration": 75,
    "start_time": "2023-02-15T19:21:58.753Z"
   },
   {
    "duration": 61,
    "start_time": "2023-02-15T19:21:58.830Z"
   },
   {
    "duration": 6,
    "start_time": "2023-02-15T19:31:12.430Z"
   },
   {
    "duration": 7,
    "start_time": "2023-02-15T19:31:24.890Z"
   },
   {
    "duration": 114,
    "start_time": "2023-02-15T19:32:26.376Z"
   },
   {
    "duration": 6,
    "start_time": "2023-02-15T19:32:37.899Z"
   },
   {
    "duration": 6,
    "start_time": "2023-02-15T19:32:49.943Z"
   },
   {
    "duration": 73,
    "start_time": "2023-02-15T19:33:48.840Z"
   },
   {
    "duration": 71,
    "start_time": "2023-02-15T20:02:03.011Z"
   },
   {
    "duration": 22,
    "start_time": "2023-02-15T20:02:07.243Z"
   },
   {
    "duration": 16,
    "start_time": "2023-02-15T20:02:51.175Z"
   },
   {
    "duration": 37,
    "start_time": "2023-02-15T20:03:19.500Z"
   },
   {
    "duration": 138,
    "start_time": "2023-02-15T20:03:31.380Z"
   },
   {
    "duration": 633,
    "start_time": "2023-02-15T20:03:39.007Z"
   },
   {
    "duration": 798,
    "start_time": "2023-02-15T20:03:39.642Z"
   },
   {
    "duration": 1485,
    "start_time": "2023-02-15T20:03:40.442Z"
   },
   {
    "duration": 6,
    "start_time": "2023-02-15T20:03:41.929Z"
   },
   {
    "duration": 91,
    "start_time": "2023-02-15T20:03:41.936Z"
   },
   {
    "duration": 910,
    "start_time": "2023-02-15T20:03:42.029Z"
   },
   {
    "duration": 73,
    "start_time": "2023-02-15T20:03:42.941Z"
   },
   {
    "duration": 148,
    "start_time": "2023-02-15T20:03:43.016Z"
   },
   {
    "duration": 105,
    "start_time": "2023-02-15T20:03:43.165Z"
   },
   {
    "duration": 2032,
    "start_time": "2023-02-15T20:03:43.272Z"
   },
   {
    "duration": 11780,
    "start_time": "2023-02-15T20:03:45.306Z"
   },
   {
    "duration": 12014,
    "start_time": "2023-02-15T20:03:57.087Z"
   },
   {
    "duration": 12024,
    "start_time": "2023-02-15T20:04:09.102Z"
   },
   {
    "duration": 75,
    "start_time": "2023-02-15T20:04:21.127Z"
   },
   {
    "duration": 143,
    "start_time": "2023-02-15T20:04:21.203Z"
   },
   {
    "duration": 15,
    "start_time": "2023-02-15T20:04:21.348Z"
   },
   {
    "duration": 174,
    "start_time": "2023-02-15T20:04:30.145Z"
   },
   {
    "duration": 35,
    "start_time": "2023-02-15T20:04:45.089Z"
   },
   {
    "duration": 8,
    "start_time": "2023-02-15T20:05:27.734Z"
   },
   {
    "duration": 68,
    "start_time": "2023-02-15T20:06:15.758Z"
   },
   {
    "duration": 42,
    "start_time": "2023-02-15T20:06:29.789Z"
   },
   {
    "duration": 38,
    "start_time": "2023-02-15T20:06:32.107Z"
   },
   {
    "duration": 32,
    "start_time": "2023-02-15T20:07:46.572Z"
   },
   {
    "duration": 34,
    "start_time": "2023-02-15T20:07:58.794Z"
   },
   {
    "duration": 38,
    "start_time": "2023-02-15T20:14:57.926Z"
   },
   {
    "duration": 36,
    "start_time": "2023-02-15T20:15:02.779Z"
   },
   {
    "duration": 24,
    "start_time": "2023-02-15T20:15:20.100Z"
   },
   {
    "duration": 19,
    "start_time": "2023-02-15T20:15:25.113Z"
   },
   {
    "duration": 630,
    "start_time": "2023-02-15T20:15:58.976Z"
   },
   {
    "duration": 786,
    "start_time": "2023-02-15T20:15:59.608Z"
   },
   {
    "duration": 1550,
    "start_time": "2023-02-15T20:16:00.395Z"
   },
   {
    "duration": 5,
    "start_time": "2023-02-15T20:16:01.947Z"
   },
   {
    "duration": 98,
    "start_time": "2023-02-15T20:16:01.953Z"
   },
   {
    "duration": 965,
    "start_time": "2023-02-15T20:16:02.052Z"
   },
   {
    "duration": 80,
    "start_time": "2023-02-15T20:16:03.019Z"
   },
   {
    "duration": 146,
    "start_time": "2023-02-15T20:16:03.101Z"
   },
   {
    "duration": 101,
    "start_time": "2023-02-15T20:16:03.249Z"
   },
   {
    "duration": 1979,
    "start_time": "2023-02-15T20:16:03.352Z"
   },
   {
    "duration": 11743,
    "start_time": "2023-02-15T20:16:05.333Z"
   },
   {
    "duration": 12139,
    "start_time": "2023-02-15T20:16:17.078Z"
   },
   {
    "duration": 12022,
    "start_time": "2023-02-15T20:16:29.218Z"
   },
   {
    "duration": 79,
    "start_time": "2023-02-15T20:16:41.242Z"
   },
   {
    "duration": 123,
    "start_time": "2023-02-15T20:16:41.323Z"
   },
   {
    "duration": 1,
    "start_time": "2023-02-15T20:16:41.448Z"
   },
   {
    "duration": 0,
    "start_time": "2023-02-15T20:16:41.450Z"
   },
   {
    "duration": 0,
    "start_time": "2023-02-15T20:16:41.451Z"
   },
   {
    "duration": 32,
    "start_time": "2023-02-15T20:27:06.807Z"
   },
   {
    "duration": 51,
    "start_time": "2023-02-15T20:27:15.439Z"
   },
   {
    "duration": 59,
    "start_time": "2023-02-15T20:27:20.303Z"
   },
   {
    "duration": 14,
    "start_time": "2023-02-15T20:27:46.976Z"
   },
   {
    "duration": 115,
    "start_time": "2023-02-15T20:28:17.888Z"
   },
   {
    "duration": 155,
    "start_time": "2023-02-15T20:28:41.400Z"
   },
   {
    "duration": 158,
    "start_time": "2023-02-15T20:29:37.570Z"
   },
   {
    "duration": 182,
    "start_time": "2023-02-15T20:30:44.289Z"
   },
   {
    "duration": 97,
    "start_time": "2023-02-15T20:31:51.173Z"
   },
   {
    "duration": 91,
    "start_time": "2023-02-15T20:32:01.689Z"
   },
   {
    "duration": 16,
    "start_time": "2023-02-15T20:32:23.996Z"
   },
   {
    "duration": 11,
    "start_time": "2023-02-15T20:32:25.990Z"
   },
   {
    "duration": 25,
    "start_time": "2023-02-15T20:32:32.569Z"
   },
   {
    "duration": 17,
    "start_time": "2023-02-15T20:32:52.777Z"
   },
   {
    "duration": 23,
    "start_time": "2023-02-15T20:33:12.908Z"
   },
   {
    "duration": 8,
    "start_time": "2023-02-15T20:35:46.669Z"
   },
   {
    "duration": 8068,
    "start_time": "2023-02-15T20:36:51.632Z"
   },
   {
    "duration": 13,
    "start_time": "2023-02-15T20:50:55.511Z"
   },
   {
    "duration": 6,
    "start_time": "2023-02-15T20:51:08.657Z"
   },
   {
    "duration": 8,
    "start_time": "2023-02-15T20:51:18.704Z"
   },
   {
    "duration": 28,
    "start_time": "2023-02-15T20:51:49.132Z"
   },
   {
    "duration": 7,
    "start_time": "2023-02-15T20:51:59.422Z"
   },
   {
    "duration": 142,
    "start_time": "2023-02-15T20:53:37.454Z"
   },
   {
    "duration": 160,
    "start_time": "2023-02-15T20:54:09.825Z"
   },
   {
    "duration": 45,
    "start_time": "2023-02-15T20:54:44.359Z"
   },
   {
    "duration": 57,
    "start_time": "2023-02-15T20:55:14.164Z"
   },
   {
    "duration": 128,
    "start_time": "2023-02-15T20:55:17.421Z"
   },
   {
    "duration": 136,
    "start_time": "2023-02-15T20:55:34.805Z"
   },
   {
    "duration": 138,
    "start_time": "2023-02-15T21:14:18.479Z"
   },
   {
    "duration": 141,
    "start_time": "2023-02-15T21:15:19.139Z"
   },
   {
    "duration": 132,
    "start_time": "2023-02-15T21:15:50.895Z"
   },
   {
    "duration": 126,
    "start_time": "2023-02-15T21:15:59.872Z"
   },
   {
    "duration": 18,
    "start_time": "2023-02-15T21:25:26.355Z"
   },
   {
    "duration": 24,
    "start_time": "2023-02-15T21:26:19.841Z"
   },
   {
    "duration": 106,
    "start_time": "2023-02-15T21:26:32.562Z"
   },
   {
    "duration": 96,
    "start_time": "2023-02-15T21:44:57.448Z"
   },
   {
    "duration": 93,
    "start_time": "2023-02-15T21:45:10.618Z"
   },
   {
    "duration": 90,
    "start_time": "2023-02-15T21:45:14.405Z"
   },
   {
    "duration": 90,
    "start_time": "2023-02-15T21:45:17.668Z"
   },
   {
    "duration": 606,
    "start_time": "2023-02-15T21:45:23.526Z"
   },
   {
    "duration": 782,
    "start_time": "2023-02-15T21:45:24.133Z"
   },
   {
    "duration": 1497,
    "start_time": "2023-02-15T21:45:24.917Z"
   },
   {
    "duration": 5,
    "start_time": "2023-02-15T21:45:26.416Z"
   },
   {
    "duration": 78,
    "start_time": "2023-02-15T21:45:26.423Z"
   },
   {
    "duration": 951,
    "start_time": "2023-02-15T21:45:26.502Z"
   },
   {
    "duration": 76,
    "start_time": "2023-02-15T21:45:27.455Z"
   },
   {
    "duration": 141,
    "start_time": "2023-02-15T21:45:27.533Z"
   },
   {
    "duration": 98,
    "start_time": "2023-02-15T21:45:27.676Z"
   },
   {
    "duration": 1989,
    "start_time": "2023-02-15T21:45:27.776Z"
   },
   {
    "duration": 12230,
    "start_time": "2023-02-15T21:45:29.766Z"
   },
   {
    "duration": 12258,
    "start_time": "2023-02-15T21:45:41.997Z"
   },
   {
    "duration": 11920,
    "start_time": "2023-02-15T21:45:54.256Z"
   },
   {
    "duration": 80,
    "start_time": "2023-02-15T21:46:06.178Z"
   },
   {
    "duration": 45,
    "start_time": "2023-02-15T21:46:06.259Z"
   },
   {
    "duration": 37,
    "start_time": "2023-02-15T21:46:06.306Z"
   },
   {
    "duration": 69,
    "start_time": "2023-02-15T21:46:06.344Z"
   },
   {
    "duration": 174,
    "start_time": "2023-02-15T21:46:06.414Z"
   },
   {
    "duration": 22,
    "start_time": "2023-02-15T21:46:06.594Z"
   },
   {
    "duration": 156,
    "start_time": "2023-02-15T21:46:06.617Z"
   },
   {
    "duration": 96,
    "start_time": "2023-02-15T21:46:06.775Z"
   },
   {
    "duration": 146,
    "start_time": "2023-02-15T21:48:08.645Z"
   },
   {
    "duration": 159,
    "start_time": "2023-02-15T21:48:56.267Z"
   },
   {
    "duration": 146,
    "start_time": "2023-02-15T21:49:01.231Z"
   },
   {
    "duration": 161,
    "start_time": "2023-02-15T21:49:13.067Z"
   },
   {
    "duration": 153,
    "start_time": "2023-02-15T21:49:16.537Z"
   },
   {
    "duration": 153,
    "start_time": "2023-02-15T21:49:21.284Z"
   },
   {
    "duration": 134,
    "start_time": "2023-02-15T21:49:26.938Z"
   },
   {
    "duration": 230,
    "start_time": "2023-02-15T21:49:37.484Z"
   },
   {
    "duration": 135,
    "start_time": "2023-02-15T21:49:46.045Z"
   },
   {
    "duration": 137,
    "start_time": "2023-02-15T21:49:53.207Z"
   },
   {
    "duration": 147,
    "start_time": "2023-02-15T21:49:58.157Z"
   },
   {
    "duration": 160,
    "start_time": "2023-02-15T21:50:39.202Z"
   },
   {
    "duration": 139,
    "start_time": "2023-02-15T21:50:45.038Z"
   },
   {
    "duration": 818,
    "start_time": "2023-02-16T19:28:20.109Z"
   },
   {
    "duration": 983,
    "start_time": "2023-02-16T19:28:20.929Z"
   },
   {
    "duration": 1579,
    "start_time": "2023-02-16T19:28:21.914Z"
   },
   {
    "duration": 5,
    "start_time": "2023-02-16T19:28:23.496Z"
   },
   {
    "duration": 70,
    "start_time": "2023-02-16T19:28:23.503Z"
   },
   {
    "duration": 887,
    "start_time": "2023-02-16T19:28:23.575Z"
   },
   {
    "duration": 72,
    "start_time": "2023-02-16T19:28:24.464Z"
   },
   {
    "duration": 141,
    "start_time": "2023-02-16T19:28:24.538Z"
   },
   {
    "duration": 91,
    "start_time": "2023-02-16T19:28:24.681Z"
   },
   {
    "duration": 2024,
    "start_time": "2023-02-16T19:28:24.776Z"
   },
   {
    "duration": 12656,
    "start_time": "2023-02-16T19:28:26.802Z"
   },
   {
    "duration": 12942,
    "start_time": "2023-02-16T19:28:39.459Z"
   },
   {
    "duration": 12864,
    "start_time": "2023-02-16T19:28:52.403Z"
   },
   {
    "duration": 68,
    "start_time": "2023-02-16T19:29:05.268Z"
   },
   {
    "duration": 34,
    "start_time": "2023-02-16T19:29:05.338Z"
   },
   {
    "duration": 54,
    "start_time": "2023-02-16T19:29:05.374Z"
   },
   {
    "duration": 55,
    "start_time": "2023-02-16T19:29:05.429Z"
   },
   {
    "duration": 196,
    "start_time": "2023-02-16T19:29:05.485Z"
   },
   {
    "duration": 24,
    "start_time": "2023-02-16T19:29:05.682Z"
   },
   {
    "duration": 162,
    "start_time": "2023-02-16T19:29:05.708Z"
   },
   {
    "duration": 92,
    "start_time": "2023-02-16T19:29:05.872Z"
   },
   {
    "duration": 188,
    "start_time": "2023-02-16T19:29:05.966Z"
   },
   {
    "duration": 163,
    "start_time": "2023-02-16T19:44:35.811Z"
   },
   {
    "duration": 84,
    "start_time": "2023-02-16T19:45:12.811Z"
   },
   {
    "duration": 168,
    "start_time": "2023-02-16T19:48:37.659Z"
   },
   {
    "duration": 92,
    "start_time": "2023-02-16T20:11:53.382Z"
   },
   {
    "duration": 802,
    "start_time": "2023-02-16T20:12:12.622Z"
   },
   {
    "duration": 112,
    "start_time": "2023-02-16T20:12:20.334Z"
   },
   {
    "duration": 57,
    "start_time": "2023-02-16T22:17:48.262Z"
   },
   {
    "duration": 3,
    "start_time": "2023-02-16T22:18:11.246Z"
   },
   {
    "duration": 22,
    "start_time": "2023-02-16T22:18:17.749Z"
   },
   {
    "duration": 3,
    "start_time": "2023-02-16T22:18:32.023Z"
   },
   {
    "duration": 4515,
    "start_time": "2023-02-16T22:18:37.844Z"
   },
   {
    "duration": 122,
    "start_time": "2023-02-16T22:18:49.629Z"
   },
   {
    "duration": 45,
    "start_time": "2023-02-17T09:56:38.412Z"
   },
   {
    "duration": 1442,
    "start_time": "2023-02-17T09:56:43.553Z"
   },
   {
    "duration": 1031,
    "start_time": "2023-02-17T09:56:44.997Z"
   },
   {
    "duration": 1534,
    "start_time": "2023-02-17T09:56:46.030Z"
   },
   {
    "duration": 4,
    "start_time": "2023-02-17T09:56:47.566Z"
   },
   {
    "duration": 65,
    "start_time": "2023-02-17T09:56:47.572Z"
   },
   {
    "duration": 917,
    "start_time": "2023-02-17T09:56:47.639Z"
   },
   {
    "duration": 79,
    "start_time": "2023-02-17T09:56:48.557Z"
   },
   {
    "duration": 133,
    "start_time": "2023-02-17T09:56:48.638Z"
   },
   {
    "duration": 128,
    "start_time": "2023-02-17T09:56:48.773Z"
   },
   {
    "duration": 0,
    "start_time": "2023-02-17T09:56:48.903Z"
   },
   {
    "duration": 0,
    "start_time": "2023-02-17T09:56:48.904Z"
   },
   {
    "duration": 0,
    "start_time": "2023-02-17T09:56:48.905Z"
   },
   {
    "duration": 0,
    "start_time": "2023-02-17T09:56:48.906Z"
   },
   {
    "duration": 0,
    "start_time": "2023-02-17T09:56:48.907Z"
   },
   {
    "duration": 0,
    "start_time": "2023-02-17T09:56:48.908Z"
   },
   {
    "duration": 0,
    "start_time": "2023-02-17T09:56:48.909Z"
   },
   {
    "duration": 0,
    "start_time": "2023-02-17T09:56:48.910Z"
   },
   {
    "duration": 0,
    "start_time": "2023-02-17T09:56:48.926Z"
   },
   {
    "duration": 0,
    "start_time": "2023-02-17T09:56:48.928Z"
   },
   {
    "duration": 0,
    "start_time": "2023-02-17T09:56:48.929Z"
   },
   {
    "duration": 0,
    "start_time": "2023-02-17T09:56:48.931Z"
   },
   {
    "duration": 0,
    "start_time": "2023-02-17T09:56:48.932Z"
   },
   {
    "duration": 0,
    "start_time": "2023-02-17T09:56:48.933Z"
   },
   {
    "duration": 0,
    "start_time": "2023-02-17T09:56:48.934Z"
   },
   {
    "duration": 0,
    "start_time": "2023-02-17T09:56:48.935Z"
   },
   {
    "duration": 0,
    "start_time": "2023-02-17T09:56:48.936Z"
   },
   {
    "duration": 0,
    "start_time": "2023-02-17T09:56:48.937Z"
   },
   {
    "duration": 44,
    "start_time": "2023-02-17T10:59:57.234Z"
   },
   {
    "duration": 27,
    "start_time": "2023-02-17T11:00:46.687Z"
   },
   {
    "duration": 56,
    "start_time": "2023-02-17T11:01:02.956Z"
   },
   {
    "duration": 41,
    "start_time": "2023-02-17T11:01:16.930Z"
   },
   {
    "duration": 70,
    "start_time": "2023-02-17T11:02:50.155Z"
   },
   {
    "duration": 71,
    "start_time": "2023-02-17T11:02:59.508Z"
   },
   {
    "duration": 70,
    "start_time": "2023-02-17T11:03:15.946Z"
   },
   {
    "duration": 73,
    "start_time": "2023-02-17T11:03:27.287Z"
   },
   {
    "duration": 65,
    "start_time": "2023-02-17T11:03:57.602Z"
   },
   {
    "duration": 74,
    "start_time": "2023-02-17T11:04:28.233Z"
   },
   {
    "duration": 60,
    "start_time": "2023-02-17T11:04:33.995Z"
   },
   {
    "duration": 402,
    "start_time": "2023-02-17T11:09:13.417Z"
   },
   {
    "duration": 31617,
    "start_time": "2023-02-17T11:09:34.036Z"
   },
   {
    "duration": 88,
    "start_time": "2023-02-17T11:10:12.312Z"
   },
   {
    "duration": 202,
    "start_time": "2023-02-17T11:11:09.972Z"
   },
   {
    "duration": 265,
    "start_time": "2023-02-17T11:11:41.853Z"
   },
   {
    "duration": 325,
    "start_time": "2023-02-17T11:11:55.410Z"
   },
   {
    "duration": 489,
    "start_time": "2023-02-17T11:12:12.935Z"
   },
   {
    "duration": 579,
    "start_time": "2023-02-17T11:12:20.410Z"
   },
   {
    "duration": 728,
    "start_time": "2023-02-17T11:12:58.205Z"
   },
   {
    "duration": 48,
    "start_time": "2023-02-18T11:05:07.081Z"
   },
   {
    "duration": 1536,
    "start_time": "2023-02-18T11:05:13.440Z"
   },
   {
    "duration": 1029,
    "start_time": "2023-02-18T11:05:14.978Z"
   },
   {
    "duration": 1512,
    "start_time": "2023-02-18T11:05:16.009Z"
   },
   {
    "duration": 4,
    "start_time": "2023-02-18T11:05:17.524Z"
   },
   {
    "duration": 71,
    "start_time": "2023-02-18T11:05:17.530Z"
   },
   {
    "duration": 924,
    "start_time": "2023-02-18T11:05:17.603Z"
   },
   {
    "duration": 78,
    "start_time": "2023-02-18T11:05:18.529Z"
   },
   {
    "duration": 133,
    "start_time": "2023-02-18T11:05:18.608Z"
   },
   {
    "duration": 727,
    "start_time": "2023-02-18T11:05:18.742Z"
   },
   {
    "duration": 97,
    "start_time": "2023-02-18T11:05:19.472Z"
   },
   {
    "duration": 1826,
    "start_time": "2023-02-18T11:05:19.570Z"
   },
   {
    "duration": 11039,
    "start_time": "2023-02-18T11:05:21.398Z"
   },
   {
    "duration": 11664,
    "start_time": "2023-02-18T11:05:32.438Z"
   },
   {
    "duration": 11792,
    "start_time": "2023-02-18T11:05:44.104Z"
   },
   {
    "duration": 62,
    "start_time": "2023-02-18T11:05:55.898Z"
   },
   {
    "duration": 46,
    "start_time": "2023-02-18T11:05:55.961Z"
   },
   {
    "duration": 35,
    "start_time": "2023-02-18T11:05:56.009Z"
   },
   {
    "duration": 71,
    "start_time": "2023-02-18T11:05:56.046Z"
   },
   {
    "duration": 197,
    "start_time": "2023-02-18T11:05:56.118Z"
   },
   {
    "duration": 23,
    "start_time": "2023-02-18T11:05:56.317Z"
   },
   {
    "duration": 167,
    "start_time": "2023-02-18T11:05:56.342Z"
   },
   {
    "duration": 80,
    "start_time": "2023-02-18T11:05:56.511Z"
   },
   {
    "duration": 166,
    "start_time": "2023-02-18T11:05:56.599Z"
   },
   {
    "duration": 89,
    "start_time": "2023-02-18T11:05:56.766Z"
   },
   {
    "duration": 87,
    "start_time": "2023-02-18T11:05:56.857Z"
   },
   {
    "duration": 4272,
    "start_time": "2023-02-18T11:05:56.945Z"
   },
   {
    "duration": 107,
    "start_time": "2023-02-18T11:06:01.219Z"
   },
   {
    "duration": 80,
    "start_time": "2023-02-18T11:08:52.937Z"
   },
   {
    "duration": 1232,
    "start_time": "2023-02-18T11:08:59.637Z"
   },
   {
    "duration": 784,
    "start_time": "2023-02-18T11:09:00.871Z"
   },
   {
    "duration": 1463,
    "start_time": "2023-02-18T11:09:01.657Z"
   },
   {
    "duration": 4,
    "start_time": "2023-02-18T11:09:03.122Z"
   },
   {
    "duration": 73,
    "start_time": "2023-02-18T11:09:03.128Z"
   },
   {
    "duration": 999,
    "start_time": "2023-02-18T11:09:03.202Z"
   },
   {
    "duration": 71,
    "start_time": "2023-02-18T11:09:04.202Z"
   },
   {
    "duration": 147,
    "start_time": "2023-02-18T11:09:04.275Z"
   },
   {
    "duration": 738,
    "start_time": "2023-02-18T11:09:04.424Z"
   },
   {
    "duration": 87,
    "start_time": "2023-02-18T11:09:05.165Z"
   },
   {
    "duration": 1833,
    "start_time": "2023-02-18T11:09:05.254Z"
   },
   {
    "duration": 11212,
    "start_time": "2023-02-18T11:09:07.089Z"
   },
   {
    "duration": 10909,
    "start_time": "2023-02-18T11:09:18.303Z"
   },
   {
    "duration": 11147,
    "start_time": "2023-02-18T11:09:29.214Z"
   },
   {
    "duration": 73,
    "start_time": "2023-02-18T11:09:40.363Z"
   },
   {
    "duration": 39,
    "start_time": "2023-02-18T11:09:40.437Z"
   },
   {
    "duration": 45,
    "start_time": "2023-02-18T11:09:40.478Z"
   },
   {
    "duration": 57,
    "start_time": "2023-02-18T11:09:40.525Z"
   },
   {
    "duration": 199,
    "start_time": "2023-02-18T11:09:40.584Z"
   },
   {
    "duration": 31,
    "start_time": "2023-02-18T11:09:40.785Z"
   },
   {
    "duration": 164,
    "start_time": "2023-02-18T11:09:40.817Z"
   },
   {
    "duration": 87,
    "start_time": "2023-02-18T11:09:40.983Z"
   },
   {
    "duration": 161,
    "start_time": "2023-02-18T11:09:41.071Z"
   },
   {
    "duration": 89,
    "start_time": "2023-02-18T11:09:41.233Z"
   },
   {
    "duration": 85,
    "start_time": "2023-02-18T11:09:41.324Z"
   },
   {
    "duration": 4243,
    "start_time": "2023-02-18T11:09:41.411Z"
   },
   {
    "duration": 113,
    "start_time": "2023-02-18T11:09:45.656Z"
   },
   {
    "duration": 29,
    "start_time": "2023-02-18T11:20:06.697Z"
   },
   {
    "duration": 33,
    "start_time": "2023-02-18T11:20:11.956Z"
   },
   {
    "duration": 8,
    "start_time": "2023-02-18T11:20:28.036Z"
   },
   {
    "duration": 1304,
    "start_time": "2023-02-18T11:24:23.756Z"
   },
   {
    "duration": 789,
    "start_time": "2023-02-18T11:24:25.062Z"
   },
   {
    "duration": 1653,
    "start_time": "2023-02-18T11:24:25.853Z"
   },
   {
    "duration": 5,
    "start_time": "2023-02-18T11:24:27.508Z"
   },
   {
    "duration": 68,
    "start_time": "2023-02-18T11:24:27.514Z"
   },
   {
    "duration": 976,
    "start_time": "2023-02-18T11:24:27.584Z"
   },
   {
    "duration": 71,
    "start_time": "2023-02-18T11:24:28.562Z"
   },
   {
    "duration": 139,
    "start_time": "2023-02-18T11:24:28.634Z"
   },
   {
    "duration": 703,
    "start_time": "2023-02-18T11:24:28.775Z"
   },
   {
    "duration": 81,
    "start_time": "2023-02-18T11:24:29.480Z"
   },
   {
    "duration": 1973,
    "start_time": "2023-02-18T11:24:29.563Z"
   },
   {
    "duration": 11302,
    "start_time": "2023-02-18T11:24:31.537Z"
   },
   {
    "duration": 11948,
    "start_time": "2023-02-18T11:24:42.841Z"
   },
   {
    "duration": 11329,
    "start_time": "2023-02-18T11:24:54.791Z"
   },
   {
    "duration": 63,
    "start_time": "2023-02-18T11:25:06.122Z"
   },
   {
    "duration": 19,
    "start_time": "2023-02-18T11:25:06.186Z"
   },
   {
    "duration": 37,
    "start_time": "2023-02-18T11:25:06.207Z"
   },
   {
    "duration": 76,
    "start_time": "2023-02-18T11:25:06.246Z"
   },
   {
    "duration": 211,
    "start_time": "2023-02-18T11:25:06.325Z"
   },
   {
    "duration": 24,
    "start_time": "2023-02-18T11:25:06.537Z"
   },
   {
    "duration": 165,
    "start_time": "2023-02-18T11:25:06.563Z"
   },
   {
    "duration": 87,
    "start_time": "2023-02-18T11:25:06.729Z"
   },
   {
    "duration": 162,
    "start_time": "2023-02-18T11:25:06.818Z"
   },
   {
    "duration": 87,
    "start_time": "2023-02-18T11:25:06.981Z"
   },
   {
    "duration": 103,
    "start_time": "2023-02-18T11:25:07.070Z"
   },
   {
    "duration": 3825,
    "start_time": "2023-02-18T11:25:07.175Z"
   },
   {
    "duration": 112,
    "start_time": "2023-02-18T11:25:11.002Z"
   },
   {
    "duration": 24,
    "start_time": "2023-02-18T11:35:49.665Z"
   },
   {
    "duration": 10,
    "start_time": "2023-02-18T12:29:24.469Z"
   },
   {
    "duration": 4,
    "start_time": "2023-02-18T14:13:59.466Z"
   },
   {
    "duration": 242,
    "start_time": "2023-02-18T14:16:43.797Z"
   },
   {
    "duration": 26,
    "start_time": "2023-02-18T14:17:10.133Z"
   },
   {
    "duration": 88,
    "start_time": "2023-02-18T14:17:16.273Z"
   },
   {
    "duration": 2975,
    "start_time": "2023-02-18T14:17:24.842Z"
   },
   {
    "duration": 3,
    "start_time": "2023-02-18T14:38:06.074Z"
   },
   {
    "duration": 24,
    "start_time": "2023-02-18T14:39:53.249Z"
   },
   {
    "duration": 14,
    "start_time": "2023-02-18T14:39:57.080Z"
   },
   {
    "duration": 48834,
    "start_time": "2023-02-18T14:41:59.227Z"
   },
   {
    "duration": 229959,
    "start_time": "2023-02-18T14:42:49.848Z"
   },
   {
    "duration": 270939,
    "start_time": "2023-02-18T14:50:04.577Z"
   },
   {
    "duration": 1464,
    "start_time": "2023-02-18T17:35:14.759Z"
   },
   {
    "duration": 2942,
    "start_time": "2023-02-18T17:35:16.225Z"
   },
   {
    "duration": 1495,
    "start_time": "2023-02-18T17:35:19.169Z"
   },
   {
    "duration": 5,
    "start_time": "2023-02-18T17:35:20.666Z"
   },
   {
    "duration": 69,
    "start_time": "2023-02-18T17:35:20.672Z"
   },
   {
    "duration": 929,
    "start_time": "2023-02-18T17:35:20.743Z"
   },
   {
    "duration": 78,
    "start_time": "2023-02-18T17:35:21.674Z"
   },
   {
    "duration": 131,
    "start_time": "2023-02-18T17:35:21.754Z"
   },
   {
    "duration": 716,
    "start_time": "2023-02-18T17:35:21.887Z"
   },
   {
    "duration": 101,
    "start_time": "2023-02-18T17:35:22.606Z"
   },
   {
    "duration": 1991,
    "start_time": "2023-02-18T17:35:22.708Z"
   },
   {
    "duration": 12927,
    "start_time": "2023-02-18T17:35:24.700Z"
   },
   {
    "duration": 12741,
    "start_time": "2023-02-18T17:35:37.629Z"
   },
   {
    "duration": 12743,
    "start_time": "2023-02-18T17:35:50.372Z"
   },
   {
    "duration": 96,
    "start_time": "2023-02-18T17:36:03.117Z"
   },
   {
    "duration": 9,
    "start_time": "2023-02-18T17:36:03.215Z"
   },
   {
    "duration": 38,
    "start_time": "2023-02-18T17:36:03.225Z"
   },
   {
    "duration": 69,
    "start_time": "2023-02-18T17:36:03.264Z"
   },
   {
    "duration": 187,
    "start_time": "2023-02-18T17:36:03.335Z"
   },
   {
    "duration": 22,
    "start_time": "2023-02-18T17:36:03.524Z"
   },
   {
    "duration": 160,
    "start_time": "2023-02-18T17:36:03.548Z"
   },
   {
    "duration": 104,
    "start_time": "2023-02-18T17:36:03.709Z"
   },
   {
    "duration": 167,
    "start_time": "2023-02-18T17:36:03.814Z"
   },
   {
    "duration": 111,
    "start_time": "2023-02-18T17:36:03.983Z"
   },
   {
    "duration": 81,
    "start_time": "2023-02-18T17:36:04.096Z"
   },
   {
    "duration": 4257,
    "start_time": "2023-02-18T17:36:04.179Z"
   },
   {
    "duration": 114,
    "start_time": "2023-02-18T17:36:08.438Z"
   },
   {
    "duration": 2,
    "start_time": "2023-02-18T17:36:08.555Z"
   },
   {
    "duration": 100347,
    "start_time": "2023-02-18T17:36:08.559Z"
   },
   {
    "duration": 8,
    "start_time": "2023-02-18T17:37:48.908Z"
   },
   {
    "duration": 283,
    "start_time": "2023-02-18T17:37:48.917Z"
   },
   {
    "duration": 101724,
    "start_time": "2023-02-18T17:50:25.981Z"
   },
   {
    "duration": 103418,
    "start_time": "2023-02-18T17:58:47.886Z"
   },
   {
    "duration": 5,
    "start_time": "2023-02-18T18:00:58.212Z"
   },
   {
    "duration": 114687,
    "start_time": "2023-02-18T18:01:27.419Z"
   },
   {
    "duration": 118669,
    "start_time": "2023-02-18T18:03:37.334Z"
   },
   {
    "duration": 4,
    "start_time": "2023-02-18T18:05:49.212Z"
   },
   {
    "duration": 7,
    "start_time": "2023-02-18T18:05:56.744Z"
   },
   {
    "duration": 5,
    "start_time": "2023-02-18T18:05:58.794Z"
   },
   {
    "duration": 3,
    "start_time": "2023-02-18T18:06:15.586Z"
   },
   {
    "duration": 8,
    "start_time": "2023-02-18T18:06:52.372Z"
   },
   {
    "duration": 4,
    "start_time": "2023-02-18T18:39:30.914Z"
   },
   {
    "duration": 3,
    "start_time": "2023-02-18T18:39:36.102Z"
   },
   {
    "duration": 7187,
    "start_time": "2023-02-18T18:41:33.851Z"
   },
   {
    "duration": 1442,
    "start_time": "2023-02-18T18:52:26.776Z"
   },
   {
    "duration": 774,
    "start_time": "2023-02-18T18:52:28.220Z"
   },
   {
    "duration": 1538,
    "start_time": "2023-02-18T18:52:28.996Z"
   },
   {
    "duration": 5,
    "start_time": "2023-02-18T18:52:30.536Z"
   },
   {
    "duration": 80,
    "start_time": "2023-02-18T18:52:30.544Z"
   },
   {
    "duration": 1016,
    "start_time": "2023-02-18T18:52:30.626Z"
   },
   {
    "duration": 76,
    "start_time": "2023-02-18T18:52:31.643Z"
   },
   {
    "duration": 144,
    "start_time": "2023-02-18T18:52:31.721Z"
   },
   {
    "duration": 750,
    "start_time": "2023-02-18T18:52:31.867Z"
   },
   {
    "duration": 108,
    "start_time": "2023-02-18T18:52:32.619Z"
   },
   {
    "duration": 2079,
    "start_time": "2023-02-18T18:52:32.728Z"
   },
   {
    "duration": 12751,
    "start_time": "2023-02-18T18:52:34.809Z"
   },
   {
    "duration": 13028,
    "start_time": "2023-02-18T18:52:47.562Z"
   },
   {
    "duration": 12903,
    "start_time": "2023-02-18T18:53:00.592Z"
   },
   {
    "duration": 84,
    "start_time": "2023-02-18T18:53:13.497Z"
   },
   {
    "duration": 21,
    "start_time": "2023-02-18T18:53:13.583Z"
   },
   {
    "duration": 35,
    "start_time": "2023-02-18T18:53:13.605Z"
   },
   {
    "duration": 64,
    "start_time": "2023-02-18T18:53:13.642Z"
   },
   {
    "duration": 193,
    "start_time": "2023-02-18T18:53:13.708Z"
   },
   {
    "duration": 25,
    "start_time": "2023-02-18T18:53:13.903Z"
   },
   {
    "duration": 161,
    "start_time": "2023-02-18T18:53:13.929Z"
   },
   {
    "duration": 95,
    "start_time": "2023-02-18T18:53:14.091Z"
   },
   {
    "duration": 185,
    "start_time": "2023-02-18T18:53:14.187Z"
   },
   {
    "duration": 110,
    "start_time": "2023-02-18T18:53:14.374Z"
   },
   {
    "duration": 82,
    "start_time": "2023-02-18T18:53:14.486Z"
   },
   {
    "duration": 3455,
    "start_time": "2023-02-18T18:53:14.570Z"
   },
   {
    "duration": 7,
    "start_time": "2023-02-18T18:53:18.027Z"
   },
   {
    "duration": 2,
    "start_time": "2023-02-18T18:53:18.035Z"
   },
   {
    "duration": 1324,
    "start_time": "2023-02-18T19:03:54.151Z"
   },
   {
    "duration": 2852,
    "start_time": "2023-02-18T19:03:55.477Z"
   },
   {
    "duration": 1457,
    "start_time": "2023-02-18T19:03:58.331Z"
   },
   {
    "duration": 13,
    "start_time": "2023-02-18T19:03:59.791Z"
   },
   {
    "duration": 57,
    "start_time": "2023-02-18T19:03:59.805Z"
   },
   {
    "duration": 951,
    "start_time": "2023-02-18T19:03:59.864Z"
   },
   {
    "duration": 73,
    "start_time": "2023-02-18T19:04:00.816Z"
   },
   {
    "duration": 140,
    "start_time": "2023-02-18T19:04:00.891Z"
   },
   {
    "duration": 747,
    "start_time": "2023-02-18T19:04:01.032Z"
   },
   {
    "duration": 105,
    "start_time": "2023-02-18T19:04:01.782Z"
   },
   {
    "duration": 2033,
    "start_time": "2023-02-18T19:04:01.888Z"
   },
   {
    "duration": 12461,
    "start_time": "2023-02-18T19:04:03.923Z"
   },
   {
    "duration": 12672,
    "start_time": "2023-02-18T19:04:16.386Z"
   },
   {
    "duration": 12646,
    "start_time": "2023-02-18T19:04:29.059Z"
   },
   {
    "duration": 80,
    "start_time": "2023-02-18T19:04:41.707Z"
   },
   {
    "duration": 20,
    "start_time": "2023-02-18T19:04:41.789Z"
   },
   {
    "duration": 34,
    "start_time": "2023-02-18T19:04:41.811Z"
   },
   {
    "duration": 73,
    "start_time": "2023-02-18T19:04:41.847Z"
   },
   {
    "duration": 195,
    "start_time": "2023-02-18T19:04:41.922Z"
   },
   {
    "duration": 24,
    "start_time": "2023-02-18T19:04:42.119Z"
   },
   {
    "duration": 160,
    "start_time": "2023-02-18T19:04:42.145Z"
   },
   {
    "duration": 96,
    "start_time": "2023-02-18T19:04:42.307Z"
   },
   {
    "duration": 168,
    "start_time": "2023-02-18T19:04:42.405Z"
   },
   {
    "duration": 105,
    "start_time": "2023-02-18T19:04:42.574Z"
   },
   {
    "duration": 80,
    "start_time": "2023-02-18T19:04:42.680Z"
   },
   {
    "duration": 3417,
    "start_time": "2023-02-18T19:04:42.762Z"
   },
   {
    "duration": 7,
    "start_time": "2023-02-18T19:04:46.181Z"
   },
   {
    "duration": 2,
    "start_time": "2023-02-18T19:04:46.190Z"
   },
   {
    "duration": 115,
    "start_time": "2023-02-18T19:18:35.764Z"
   },
   {
    "duration": 1332,
    "start_time": "2023-02-18T19:19:01.798Z"
   },
   {
    "duration": 3032,
    "start_time": "2023-02-18T19:19:03.132Z"
   },
   {
    "duration": 1513,
    "start_time": "2023-02-18T19:19:06.165Z"
   },
   {
    "duration": 5,
    "start_time": "2023-02-18T19:19:07.680Z"
   },
   {
    "duration": 70,
    "start_time": "2023-02-18T19:19:07.687Z"
   },
   {
    "duration": 909,
    "start_time": "2023-02-18T19:19:07.759Z"
   },
   {
    "duration": 81,
    "start_time": "2023-02-18T19:19:08.670Z"
   },
   {
    "duration": 144,
    "start_time": "2023-02-18T19:19:08.753Z"
   },
   {
    "duration": 742,
    "start_time": "2023-02-18T19:19:08.899Z"
   },
   {
    "duration": 107,
    "start_time": "2023-02-18T19:19:09.644Z"
   },
   {
    "duration": 2024,
    "start_time": "2023-02-18T19:19:09.753Z"
   },
   {
    "duration": 12656,
    "start_time": "2023-02-18T19:19:11.779Z"
   },
   {
    "duration": 12751,
    "start_time": "2023-02-18T19:19:24.437Z"
   },
   {
    "duration": 12445,
    "start_time": "2023-02-18T19:19:37.189Z"
   },
   {
    "duration": 86,
    "start_time": "2023-02-18T19:19:49.636Z"
   },
   {
    "duration": 11,
    "start_time": "2023-02-18T19:19:49.723Z"
   },
   {
    "duration": 36,
    "start_time": "2023-02-18T19:19:49.735Z"
   },
   {
    "duration": 77,
    "start_time": "2023-02-18T19:19:49.772Z"
   },
   {
    "duration": 188,
    "start_time": "2023-02-18T19:19:49.850Z"
   },
   {
    "duration": 23,
    "start_time": "2023-02-18T19:19:50.039Z"
   },
   {
    "duration": 158,
    "start_time": "2023-02-18T19:19:50.064Z"
   },
   {
    "duration": 118,
    "start_time": "2023-02-18T19:19:50.224Z"
   },
   {
    "duration": 168,
    "start_time": "2023-02-18T19:19:50.343Z"
   },
   {
    "duration": 103,
    "start_time": "2023-02-18T19:19:50.513Z"
   },
   {
    "duration": 78,
    "start_time": "2023-02-18T19:19:50.618Z"
   },
   {
    "duration": 3739,
    "start_time": "2023-02-18T19:19:50.704Z"
   },
   {
    "duration": 7,
    "start_time": "2023-02-18T19:19:54.445Z"
   },
   {
    "duration": 2,
    "start_time": "2023-02-18T19:19:54.455Z"
   },
   {
    "duration": 193,
    "start_time": "2023-02-18T19:20:15.066Z"
   },
   {
    "duration": 8,
    "start_time": "2023-02-18T19:21:06.689Z"
   },
   {
    "duration": 1362,
    "start_time": "2023-02-18T19:21:24.803Z"
   },
   {
    "duration": 2815,
    "start_time": "2023-02-18T19:21:26.167Z"
   },
   {
    "duration": 1539,
    "start_time": "2023-02-18T19:21:28.984Z"
   },
   {
    "duration": 6,
    "start_time": "2023-02-18T19:21:30.525Z"
   },
   {
    "duration": 76,
    "start_time": "2023-02-18T19:21:30.533Z"
   },
   {
    "duration": 971,
    "start_time": "2023-02-18T19:21:30.611Z"
   },
   {
    "duration": 78,
    "start_time": "2023-02-18T19:21:31.583Z"
   },
   {
    "duration": 148,
    "start_time": "2023-02-18T19:21:31.663Z"
   },
   {
    "duration": 742,
    "start_time": "2023-02-18T19:21:31.813Z"
   },
   {
    "duration": 102,
    "start_time": "2023-02-18T19:21:32.558Z"
   },
   {
    "duration": 2045,
    "start_time": "2023-02-18T19:21:32.662Z"
   },
   {
    "duration": 12737,
    "start_time": "2023-02-18T19:21:34.709Z"
   },
   {
    "duration": 12845,
    "start_time": "2023-02-18T19:21:47.447Z"
   },
   {
    "duration": 12974,
    "start_time": "2023-02-18T19:22:00.294Z"
   },
   {
    "duration": 86,
    "start_time": "2023-02-18T19:22:13.270Z"
   },
   {
    "duration": 12,
    "start_time": "2023-02-18T19:22:13.359Z"
   },
   {
    "duration": 53,
    "start_time": "2023-02-18T19:22:13.373Z"
   },
   {
    "duration": 52,
    "start_time": "2023-02-18T19:22:13.427Z"
   },
   {
    "duration": 191,
    "start_time": "2023-02-18T19:22:13.481Z"
   },
   {
    "duration": 32,
    "start_time": "2023-02-18T19:22:13.673Z"
   },
   {
    "duration": 147,
    "start_time": "2023-02-18T19:22:13.706Z"
   },
   {
    "duration": 108,
    "start_time": "2023-02-18T19:22:13.854Z"
   },
   {
    "duration": 156,
    "start_time": "2023-02-18T19:22:13.963Z"
   },
   {
    "duration": 104,
    "start_time": "2023-02-18T19:22:14.121Z"
   },
   {
    "duration": 80,
    "start_time": "2023-02-18T19:22:14.227Z"
   },
   {
    "duration": 3700,
    "start_time": "2023-02-18T19:22:14.308Z"
   },
   {
    "duration": 8,
    "start_time": "2023-02-18T19:22:18.010Z"
   },
   {
    "duration": 2,
    "start_time": "2023-02-18T19:22:18.020Z"
   },
   {
    "duration": 4,
    "start_time": "2023-02-18T19:22:18.024Z"
   },
   {
    "duration": 118,
    "start_time": "2023-02-18T19:22:18.030Z"
   },
   {
    "duration": 0,
    "start_time": "2023-02-18T19:22:18.149Z"
   },
   {
    "duration": 0,
    "start_time": "2023-02-18T19:22:18.151Z"
   },
   {
    "duration": 197,
    "start_time": "2023-02-18T19:23:01.389Z"
   },
   {
    "duration": 1615,
    "start_time": "2023-02-18T19:25:29.075Z"
   },
   {
    "duration": 199,
    "start_time": "2023-02-18T19:25:43.169Z"
   },
   {
    "duration": 1313,
    "start_time": "2023-02-18T19:26:15.750Z"
   },
   {
    "duration": 808,
    "start_time": "2023-02-18T19:26:17.065Z"
   },
   {
    "duration": 1503,
    "start_time": "2023-02-18T19:26:17.875Z"
   },
   {
    "duration": 5,
    "start_time": "2023-02-18T19:26:19.379Z"
   },
   {
    "duration": 69,
    "start_time": "2023-02-18T19:26:19.387Z"
   },
   {
    "duration": 924,
    "start_time": "2023-02-18T19:26:19.457Z"
   },
   {
    "duration": 75,
    "start_time": "2023-02-18T19:26:20.383Z"
   },
   {
    "duration": 148,
    "start_time": "2023-02-18T19:26:20.460Z"
   },
   {
    "duration": 737,
    "start_time": "2023-02-18T19:26:20.609Z"
   },
   {
    "duration": 118,
    "start_time": "2023-02-18T19:26:21.348Z"
   },
   {
    "duration": 2024,
    "start_time": "2023-02-18T19:26:21.468Z"
   },
   {
    "duration": 12400,
    "start_time": "2023-02-18T19:26:23.493Z"
   },
   {
    "duration": 12564,
    "start_time": "2023-02-18T19:26:35.895Z"
   },
   {
    "duration": 12457,
    "start_time": "2023-02-18T19:26:48.462Z"
   },
   {
    "duration": 83,
    "start_time": "2023-02-18T19:27:00.921Z"
   },
   {
    "duration": 11,
    "start_time": "2023-02-18T19:27:01.005Z"
   },
   {
    "duration": 36,
    "start_time": "2023-02-18T19:27:01.017Z"
   },
   {
    "duration": 81,
    "start_time": "2023-02-18T19:27:01.054Z"
   },
   {
    "duration": 204,
    "start_time": "2023-02-18T19:27:01.137Z"
   },
   {
    "duration": 22,
    "start_time": "2023-02-18T19:27:01.343Z"
   },
   {
    "duration": 160,
    "start_time": "2023-02-18T19:27:01.367Z"
   },
   {
    "duration": 98,
    "start_time": "2023-02-18T19:27:01.529Z"
   },
   {
    "duration": 170,
    "start_time": "2023-02-18T19:27:01.629Z"
   },
   {
    "duration": 104,
    "start_time": "2023-02-18T19:27:01.800Z"
   },
   {
    "duration": 77,
    "start_time": "2023-02-18T19:27:01.905Z"
   },
   {
    "duration": 28,
    "start_time": "2023-02-18T19:27:01.984Z"
   },
   {
    "duration": 1293,
    "start_time": "2023-02-18T19:27:02.014Z"
   },
   {
    "duration": 0,
    "start_time": "2023-02-18T19:27:03.309Z"
   },
   {
    "duration": 0,
    "start_time": "2023-02-18T19:27:03.310Z"
   },
   {
    "duration": 0,
    "start_time": "2023-02-18T19:27:03.312Z"
   },
   {
    "duration": 0,
    "start_time": "2023-02-18T19:27:03.312Z"
   },
   {
    "duration": 0,
    "start_time": "2023-02-18T19:27:03.313Z"
   },
   {
    "duration": 0,
    "start_time": "2023-02-18T19:27:03.315Z"
   },
   {
    "duration": 1119,
    "start_time": "2023-02-18T19:27:41.507Z"
   },
   {
    "duration": 3345,
    "start_time": "2023-02-18T19:28:15.047Z"
   },
   {
    "duration": 17,
    "start_time": "2023-02-18T19:28:19.753Z"
   },
   {
    "duration": 92,
    "start_time": "2023-02-18T19:28:32.631Z"
   },
   {
    "duration": 372,
    "start_time": "2023-02-18T19:28:54.082Z"
   },
   {
    "duration": 79253,
    "start_time": "2023-02-18T19:29:11.152Z"
   },
   {
    "duration": 8256,
    "start_time": "2023-02-18T19:34:57.443Z"
   },
   {
    "duration": 11290,
    "start_time": "2023-02-18T19:35:35.268Z"
   },
   {
    "duration": 4,
    "start_time": "2023-02-18T19:36:47.304Z"
   },
   {
    "duration": 11494,
    "start_time": "2023-02-18T19:36:52.339Z"
   },
   {
    "duration": 11157,
    "start_time": "2023-02-18T20:05:18.452Z"
   },
   {
    "duration": 77076,
    "start_time": "2023-02-18T20:54:23.641Z"
   },
   {
    "duration": 35395,
    "start_time": "2023-02-18T20:55:55.809Z"
   },
   {
    "duration": 34236,
    "start_time": "2023-02-18T20:57:42.078Z"
   },
   {
    "duration": 35609,
    "start_time": "2023-02-18T20:58:41.596Z"
   },
   {
    "duration": 26581,
    "start_time": "2023-02-18T20:59:19.032Z"
   },
   {
    "duration": 37563,
    "start_time": "2023-02-18T21:00:19.252Z"
   },
   {
    "duration": 29745,
    "start_time": "2023-02-18T21:01:02.168Z"
   },
   {
    "duration": 37797,
    "start_time": "2023-02-18T21:01:31.915Z"
   },
   {
    "duration": 77309,
    "start_time": "2023-02-18T21:04:15.599Z"
   },
   {
    "duration": 106,
    "start_time": "2023-02-18T21:07:21.421Z"
   },
   {
    "duration": 4,
    "start_time": "2023-02-18T21:08:54.265Z"
   },
   {
    "duration": 31942,
    "start_time": "2023-02-18T21:10:26.339Z"
   },
   {
    "duration": 31325,
    "start_time": "2023-02-18T21:11:05.111Z"
   },
   {
    "duration": 48242,
    "start_time": "2023-02-18T21:12:16.363Z"
   },
   {
    "duration": 31489,
    "start_time": "2023-02-18T21:13:04.607Z"
   },
   {
    "duration": 60114,
    "start_time": "2023-02-18T21:13:36.098Z"
   },
   {
    "duration": 68449,
    "start_time": "2023-02-18T21:14:52.777Z"
   },
   {
    "duration": 69730,
    "start_time": "2023-02-18T21:17:10.603Z"
   },
   {
    "duration": 31109,
    "start_time": "2023-02-18T21:18:20.334Z"
   },
   {
    "duration": 31265,
    "start_time": "2023-02-18T21:20:52.369Z"
   },
   {
    "duration": 7349,
    "start_time": "2023-02-18T21:22:14.253Z"
   },
   {
    "duration": 7376,
    "start_time": "2023-02-18T21:22:29.437Z"
   },
   {
    "duration": 7345,
    "start_time": "2023-02-18T21:22:49.223Z"
   },
   {
    "duration": 1368,
    "start_time": "2023-02-18T21:23:50.798Z"
   },
   {
    "duration": 778,
    "start_time": "2023-02-18T21:23:52.170Z"
   },
   {
    "duration": 1564,
    "start_time": "2023-02-18T21:23:52.950Z"
   },
   {
    "duration": 4,
    "start_time": "2023-02-18T21:23:54.516Z"
   },
   {
    "duration": 68,
    "start_time": "2023-02-18T21:23:54.522Z"
   },
   {
    "duration": 950,
    "start_time": "2023-02-18T21:23:54.603Z"
   },
   {
    "duration": 74,
    "start_time": "2023-02-18T21:23:55.555Z"
   },
   {
    "duration": 139,
    "start_time": "2023-02-18T21:23:55.631Z"
   },
   {
    "duration": 632,
    "start_time": "2023-02-18T21:23:55.772Z"
   },
   {
    "duration": 99,
    "start_time": "2023-02-18T21:23:56.405Z"
   },
   {
    "duration": 2007,
    "start_time": "2023-02-18T21:23:56.506Z"
   },
   {
    "duration": 12184,
    "start_time": "2023-02-18T21:23:58.515Z"
   },
   {
    "duration": 12029,
    "start_time": "2023-02-18T21:24:23.051Z"
   },
   {
    "duration": 86,
    "start_time": "2023-02-18T21:24:35.082Z"
   },
   {
    "duration": 12,
    "start_time": "2023-02-18T21:24:35.170Z"
   },
   {
    "duration": 50,
    "start_time": "2023-02-18T21:24:35.183Z"
   },
   {
    "duration": 53,
    "start_time": "2023-02-18T21:24:35.234Z"
   },
   {
    "duration": 209,
    "start_time": "2023-02-18T21:24:35.289Z"
   },
   {
    "duration": 24,
    "start_time": "2023-02-18T21:24:35.503Z"
   },
   {
    "duration": 165,
    "start_time": "2023-02-18T21:24:35.529Z"
   },
   {
    "duration": 100,
    "start_time": "2023-02-18T21:24:35.696Z"
   },
   {
    "duration": 166,
    "start_time": "2023-02-18T21:24:35.803Z"
   },
   {
    "duration": 99,
    "start_time": "2023-02-18T21:24:35.970Z"
   },
   {
    "duration": 89,
    "start_time": "2023-02-18T21:24:36.070Z"
   },
   {
    "duration": 10,
    "start_time": "2023-02-18T21:24:36.160Z"
   },
   {
    "duration": 4238,
    "start_time": "2023-02-18T21:24:36.172Z"
   },
   {
    "duration": 99,
    "start_time": "2023-02-18T21:24:40.412Z"
   },
   {
    "duration": 77200,
    "start_time": "2023-02-18T21:24:40.513Z"
   },
   {
    "duration": 36811,
    "start_time": "2023-02-18T21:25:57.804Z"
   },
   {
    "duration": 27299,
    "start_time": "2023-02-18T21:26:34.617Z"
   },
   {
    "duration": 37095,
    "start_time": "2023-02-18T21:27:01.918Z"
   },
   {
    "duration": 65393,
    "start_time": "2023-02-18T21:27:39.015Z"
   },
   {
    "duration": 31581,
    "start_time": "2023-02-18T21:28:44.410Z"
   },
   {
    "duration": 7210,
    "start_time": "2023-02-18T21:29:15.993Z"
   },
   {
    "duration": 55,
    "start_time": "2023-02-20T20:21:46.157Z"
   },
   {
    "duration": 1604,
    "start_time": "2023-02-20T20:21:48.779Z"
   },
   {
    "duration": 3226,
    "start_time": "2023-02-20T20:21:50.385Z"
   },
   {
    "duration": 1700,
    "start_time": "2023-02-20T20:21:53.613Z"
   },
   {
    "duration": 100,
    "start_time": "2023-02-21T09:51:10.734Z"
   },
   {
    "duration": 1484,
    "start_time": "2023-02-21T09:51:17.329Z"
   },
   {
    "duration": 1174,
    "start_time": "2023-02-21T09:51:18.815Z"
   },
   {
    "duration": 1665,
    "start_time": "2023-02-21T09:51:19.996Z"
   },
   {
    "duration": 5,
    "start_time": "2023-02-21T09:51:21.663Z"
   },
   {
    "duration": 73,
    "start_time": "2023-02-21T09:51:21.669Z"
   },
   {
    "duration": 976,
    "start_time": "2023-02-21T09:51:21.744Z"
   },
   {
    "duration": 79,
    "start_time": "2023-02-21T09:51:22.721Z"
   },
   {
    "duration": 140,
    "start_time": "2023-02-21T09:51:22.802Z"
   },
   {
    "duration": 702,
    "start_time": "2023-02-21T09:51:22.944Z"
   },
   {
    "duration": 90,
    "start_time": "2023-02-21T09:51:23.648Z"
   },
   {
    "duration": 1997,
    "start_time": "2023-02-21T09:51:23.739Z"
   },
   {
    "duration": 11695,
    "start_time": "2023-02-21T09:51:25.738Z"
   },
   {
    "duration": 11795,
    "start_time": "2023-02-21T09:51:37.435Z"
   },
   {
    "duration": 11881,
    "start_time": "2023-02-21T09:51:49.232Z"
   },
   {
    "duration": 72,
    "start_time": "2023-02-21T09:52:01.115Z"
   },
   {
    "duration": 52,
    "start_time": "2023-02-21T09:52:01.190Z"
   },
   {
    "duration": 37,
    "start_time": "2023-02-21T09:52:01.244Z"
   },
   {
    "duration": 50,
    "start_time": "2023-02-21T09:52:01.282Z"
   },
   {
    "duration": 192,
    "start_time": "2023-02-21T09:52:01.334Z"
   },
   {
    "duration": 31,
    "start_time": "2023-02-21T09:52:01.527Z"
   },
   {
    "duration": 217,
    "start_time": "2023-02-21T09:52:01.560Z"
   },
   {
    "duration": 89,
    "start_time": "2023-02-21T09:52:01.779Z"
   },
   {
    "duration": 181,
    "start_time": "2023-02-21T09:52:01.870Z"
   },
   {
    "duration": 111,
    "start_time": "2023-02-21T09:52:02.053Z"
   },
   {
    "duration": 101,
    "start_time": "2023-02-21T09:52:02.166Z"
   },
   {
    "duration": 23,
    "start_time": "2023-02-21T09:52:02.270Z"
   },
   {
    "duration": 4009,
    "start_time": "2023-02-21T09:52:02.295Z"
   },
   {
    "duration": 154,
    "start_time": "2023-02-21T09:52:06.307Z"
   },
   {
    "duration": 201150,
    "start_time": "2023-02-21T09:52:06.462Z"
   },
   {
    "duration": 213421,
    "start_time": "2023-02-21T09:55:27.687Z"
   },
   {
    "duration": 154195,
    "start_time": "2023-02-21T09:59:01.110Z"
   },
   {
    "duration": 280319,
    "start_time": "2023-02-21T10:01:35.306Z"
   },
   {
    "duration": 1655964,
    "start_time": "2023-02-21T10:06:15.627Z"
   },
   {
    "duration": 34572,
    "start_time": "2023-02-21T10:33:51.593Z"
   },
   {
    "duration": 8041,
    "start_time": "2023-02-21T10:34:26.167Z"
   },
   {
    "duration": 5,
    "start_time": "2023-02-21T14:06:39.838Z"
   },
   {
    "duration": 4,
    "start_time": "2023-02-21T14:06:57.317Z"
   },
   {
    "duration": 4,
    "start_time": "2023-02-21T14:06:59.413Z"
   },
   {
    "duration": 4,
    "start_time": "2023-02-21T14:29:49.500Z"
   },
   {
    "duration": 114,
    "start_time": "2023-02-21T14:30:58.532Z"
   },
   {
    "duration": 13,
    "start_time": "2023-02-21T14:31:08.836Z"
   },
   {
    "duration": 12,
    "start_time": "2023-02-21T14:32:41.505Z"
   },
   {
    "duration": 24,
    "start_time": "2023-02-21T14:34:38.677Z"
   },
   {
    "duration": 1747,
    "start_time": "2023-02-21T18:17:02.316Z"
   },
   {
    "duration": 1307,
    "start_time": "2023-02-21T18:17:04.065Z"
   },
   {
    "duration": 1894,
    "start_time": "2023-02-21T18:17:05.374Z"
   },
   {
    "duration": 5,
    "start_time": "2023-02-21T18:17:07.270Z"
   },
   {
    "duration": 135,
    "start_time": "2023-02-21T18:17:07.277Z"
   },
   {
    "duration": 1079,
    "start_time": "2023-02-21T18:17:07.420Z"
   },
   {
    "duration": 96,
    "start_time": "2023-02-21T18:17:08.511Z"
   },
   {
    "duration": 157,
    "start_time": "2023-02-21T18:17:08.616Z"
   },
   {
    "duration": 856,
    "start_time": "2023-02-21T18:17:08.775Z"
   },
   {
    "duration": 106,
    "start_time": "2023-02-21T18:17:09.635Z"
   },
   {
    "duration": 2205,
    "start_time": "2023-02-21T18:17:09.743Z"
   },
   {
    "duration": 13857,
    "start_time": "2023-02-21T18:17:11.950Z"
   },
   {
    "duration": 13133,
    "start_time": "2023-02-21T18:17:25.812Z"
   },
   {
    "duration": 13060,
    "start_time": "2023-02-21T18:17:38.947Z"
   },
   {
    "duration": 83,
    "start_time": "2023-02-21T18:17:52.008Z"
   },
   {
    "duration": 13,
    "start_time": "2023-02-21T18:17:52.092Z"
   },
   {
    "duration": 60,
    "start_time": "2023-02-21T18:17:52.107Z"
   },
   {
    "duration": 58,
    "start_time": "2023-02-21T18:17:52.169Z"
   },
   {
    "duration": 173,
    "start_time": "2023-02-21T18:17:52.232Z"
   },
   {
    "duration": 27,
    "start_time": "2023-02-21T18:17:52.408Z"
   },
   {
    "duration": 158,
    "start_time": "2023-02-21T18:17:52.436Z"
   },
   {
    "duration": 92,
    "start_time": "2023-02-21T18:17:52.605Z"
   },
   {
    "duration": 164,
    "start_time": "2023-02-21T18:17:52.709Z"
   },
   {
    "duration": 99,
    "start_time": "2023-02-21T18:17:52.875Z"
   },
   {
    "duration": 111,
    "start_time": "2023-02-21T18:17:52.978Z"
   },
   {
    "duration": 10,
    "start_time": "2023-02-21T18:17:53.091Z"
   },
   {
    "duration": 2990,
    "start_time": "2023-02-21T18:17:53.103Z"
   },
   {
    "duration": 116,
    "start_time": "2023-02-21T18:17:56.095Z"
   },
   {
    "duration": 395371,
    "start_time": "2023-02-21T18:17:56.222Z"
   },
   {
    "duration": 0,
    "start_time": "2023-02-21T18:24:31.859Z"
   },
   {
    "duration": 0,
    "start_time": "2023-02-21T18:24:31.860Z"
   },
   {
    "duration": 0,
    "start_time": "2023-02-21T18:24:31.862Z"
   },
   {
    "duration": 0,
    "start_time": "2023-02-21T18:24:31.863Z"
   },
   {
    "duration": 0,
    "start_time": "2023-02-21T18:24:31.865Z"
   },
   {
    "duration": 0,
    "start_time": "2023-02-21T18:24:31.866Z"
   },
   {
    "duration": 0,
    "start_time": "2023-02-21T18:24:31.868Z"
   },
   {
    "duration": 839,
    "start_time": "2023-02-21T18:29:03.508Z"
   },
   {
    "duration": 822,
    "start_time": "2023-02-21T18:29:11.412Z"
   },
   {
    "duration": 507,
    "start_time": "2023-02-21T18:30:48.468Z"
   },
   {
    "duration": 1065,
    "start_time": "2023-02-21T18:32:18.781Z"
   },
   {
    "duration": 1032,
    "start_time": "2023-02-21T18:33:05.865Z"
   },
   {
    "duration": 18,
    "start_time": "2023-02-21T18:33:54.093Z"
   },
   {
    "duration": 77349,
    "start_time": "2023-02-21T18:34:03.677Z"
   },
   {
    "duration": 45142,
    "start_time": "2023-02-21T18:50:39.467Z"
   },
   {
    "duration": 112,
    "start_time": "2023-02-21T18:51:24.611Z"
   },
   {
    "duration": 285099,
    "start_time": "2023-02-21T18:53:12.305Z"
   },
   {
    "duration": 119915,
    "start_time": "2023-02-21T18:57:57.409Z"
   },
   {
    "duration": 9,
    "start_time": "2023-02-21T19:03:20.480Z"
   },
   {
    "duration": 607440,
    "start_time": "2023-02-21T19:04:05.174Z"
   },
   {
    "duration": 516156,
    "start_time": "2023-02-21T19:14:19.755Z"
   },
   {
    "duration": 1261234,
    "start_time": "2023-02-21T19:29:37.376Z"
   },
   {
    "duration": 30402,
    "start_time": "2023-02-21T20:08:36.527Z"
   },
   {
    "duration": 17,
    "start_time": "2023-02-21T20:11:32.445Z"
   },
   {
    "duration": 92,
    "start_time": "2023-02-21T20:11:41.033Z"
   },
   {
    "duration": 96,
    "start_time": "2023-02-21T20:11:45.405Z"
   },
   {
    "duration": 19,
    "start_time": "2023-02-21T20:12:16.783Z"
   },
   {
    "duration": 4,
    "start_time": "2023-02-21T20:12:25.051Z"
   },
   {
    "duration": 9,
    "start_time": "2023-02-21T20:12:34.069Z"
   },
   {
    "duration": 18,
    "start_time": "2023-02-21T20:12:40.008Z"
   },
   {
    "duration": 22,
    "start_time": "2023-02-21T20:12:47.642Z"
   },
   {
    "duration": 82,
    "start_time": "2023-02-21T20:12:52.715Z"
   },
   {
    "duration": 87,
    "start_time": "2023-02-21T20:13:02.810Z"
   },
   {
    "duration": 390,
    "start_time": "2023-02-21T20:15:04.018Z"
   },
   {
    "duration": 3,
    "start_time": "2023-02-21T20:15:34.354Z"
   },
   {
    "duration": 1405,
    "start_time": "2023-02-21T20:22:51.809Z"
   },
   {
    "duration": 1321,
    "start_time": "2023-02-21T20:22:53.222Z"
   },
   {
    "duration": 1757,
    "start_time": "2023-02-21T20:22:54.544Z"
   },
   {
    "duration": 13,
    "start_time": "2023-02-21T20:22:56.310Z"
   },
   {
    "duration": 75,
    "start_time": "2023-02-21T20:22:56.328Z"
   },
   {
    "duration": 976,
    "start_time": "2023-02-21T20:22:56.405Z"
   },
   {
    "duration": 82,
    "start_time": "2023-02-21T20:22:57.387Z"
   },
   {
    "duration": 152,
    "start_time": "2023-02-21T20:22:57.471Z"
   },
   {
    "duration": 680,
    "start_time": "2023-02-21T20:22:57.624Z"
   },
   {
    "duration": 93,
    "start_time": "2023-02-21T20:22:58.312Z"
   },
   {
    "duration": 2069,
    "start_time": "2023-02-21T20:22:58.412Z"
   },
   {
    "duration": 12714,
    "start_time": "2023-02-21T20:23:00.483Z"
   },
   {
    "duration": 13231,
    "start_time": "2023-02-21T20:23:13.198Z"
   },
   {
    "duration": 13250,
    "start_time": "2023-02-21T20:23:26.432Z"
   },
   {
    "duration": 84,
    "start_time": "2023-02-21T20:23:39.683Z"
   },
   {
    "duration": 22,
    "start_time": "2023-02-21T20:23:39.768Z"
   },
   {
    "duration": 42,
    "start_time": "2023-02-21T20:23:39.798Z"
   },
   {
    "duration": 55,
    "start_time": "2023-02-21T20:23:39.842Z"
   },
   {
    "duration": 207,
    "start_time": "2023-02-21T20:23:39.899Z"
   },
   {
    "duration": 34,
    "start_time": "2023-02-21T20:23:40.111Z"
   },
   {
    "duration": 183,
    "start_time": "2023-02-21T20:23:40.147Z"
   },
   {
    "duration": 112,
    "start_time": "2023-02-21T20:23:40.338Z"
   },
   {
    "duration": 203,
    "start_time": "2023-02-21T20:23:40.452Z"
   },
   {
    "duration": 118,
    "start_time": "2023-02-21T20:23:40.656Z"
   },
   {
    "duration": 93,
    "start_time": "2023-02-21T20:23:40.776Z"
   },
   {
    "duration": 17,
    "start_time": "2023-02-21T20:23:40.871Z"
   },
   {
    "duration": 3920,
    "start_time": "2023-02-21T20:23:40.889Z"
   },
   {
    "duration": 110,
    "start_time": "2023-02-21T20:23:44.818Z"
   },
   {
    "duration": 4,
    "start_time": "2023-02-21T20:23:44.930Z"
   },
   {
    "duration": 92188,
    "start_time": "2023-02-21T20:23:44.935Z"
   },
   {
    "duration": 481,
    "start_time": "2023-02-21T20:25:17.127Z"
   },
   {
    "duration": 365402,
    "start_time": "2023-02-21T20:25:17.613Z"
   },
   {
    "duration": 1120,
    "start_time": "2023-02-21T20:31:23.022Z"
   },
   {
    "duration": 1610962,
    "start_time": "2023-02-21T20:31:24.143Z"
   },
   {
    "duration": 486487,
    "start_time": "2023-02-21T20:58:15.107Z"
   },
   {
    "duration": 1165731,
    "start_time": "2023-02-21T21:06:21.602Z"
   },
   {
    "duration": 3028960,
    "start_time": "2023-02-21T21:25:47.334Z"
   },
   {
    "duration": 554925,
    "start_time": "2023-02-21T22:16:16.296Z"
   },
   {
    "duration": 209,
    "start_time": "2023-02-21T22:25:31.223Z"
   },
   {
    "duration": 33022,
    "start_time": "2023-02-21T22:25:31.434Z"
   },
   {
    "duration": 7273,
    "start_time": "2023-02-21T22:26:04.458Z"
   },
   {
    "duration": 89,
    "start_time": "2023-02-21T22:26:11.732Z"
   },
   {
    "duration": 8525,
    "start_time": "2023-02-21T22:26:11.822Z"
   },
   {
    "duration": 88,
    "start_time": "2023-02-21T22:26:20.348Z"
   },
   {
    "duration": 1569,
    "start_time": "2023-02-22T04:57:49.417Z"
   },
   {
    "duration": 1136,
    "start_time": "2023-02-22T04:57:50.988Z"
   },
   {
    "duration": 1716,
    "start_time": "2023-02-22T04:57:52.126Z"
   },
   {
    "duration": 7,
    "start_time": "2023-02-22T04:57:53.845Z"
   },
   {
    "duration": 70,
    "start_time": "2023-02-22T04:57:53.854Z"
   },
   {
    "duration": 977,
    "start_time": "2023-02-22T04:57:53.927Z"
   },
   {
    "duration": 85,
    "start_time": "2023-02-22T04:57:54.906Z"
   },
   {
    "duration": 158,
    "start_time": "2023-02-22T04:57:54.993Z"
   },
   {
    "duration": 760,
    "start_time": "2023-02-22T04:57:55.153Z"
   },
   {
    "duration": 110,
    "start_time": "2023-02-22T04:57:55.916Z"
   },
   {
    "duration": 1933,
    "start_time": "2023-02-22T04:57:56.028Z"
   },
   {
    "duration": 11356,
    "start_time": "2023-02-22T04:57:57.963Z"
   },
   {
    "duration": 11141,
    "start_time": "2023-02-22T04:58:09.320Z"
   },
   {
    "duration": 10827,
    "start_time": "2023-02-22T04:58:20.463Z"
   },
   {
    "duration": 63,
    "start_time": "2023-02-22T04:58:31.292Z"
   },
   {
    "duration": 19,
    "start_time": "2023-02-22T04:58:31.356Z"
   },
   {
    "duration": 36,
    "start_time": "2023-02-22T04:58:31.385Z"
   },
   {
    "duration": 64,
    "start_time": "2023-02-22T04:58:31.422Z"
   },
   {
    "duration": 206,
    "start_time": "2023-02-22T04:58:31.488Z"
   },
   {
    "duration": 27,
    "start_time": "2023-02-22T04:58:31.696Z"
   },
   {
    "duration": 168,
    "start_time": "2023-02-22T04:58:31.724Z"
   },
   {
    "duration": 77,
    "start_time": "2023-02-22T04:58:31.894Z"
   },
   {
    "duration": 184,
    "start_time": "2023-02-22T04:58:31.972Z"
   },
   {
    "duration": 104,
    "start_time": "2023-02-22T04:58:32.158Z"
   },
   {
    "duration": 87,
    "start_time": "2023-02-22T04:58:32.265Z"
   },
   {
    "duration": 10,
    "start_time": "2023-02-22T04:58:32.353Z"
   },
   {
    "duration": 3003,
    "start_time": "2023-02-22T04:58:32.364Z"
   },
   {
    "duration": 107,
    "start_time": "2023-02-22T04:58:35.370Z"
   },
   {
    "duration": 11,
    "start_time": "2023-02-22T04:58:35.478Z"
   },
   {
    "duration": 36903,
    "start_time": "2023-02-22T04:58:35.491Z"
   },
   {
    "duration": 592,
    "start_time": "2023-02-22T04:59:12.396Z"
   },
   {
    "duration": 187295,
    "start_time": "2023-02-22T04:59:12.992Z"
   },
   {
    "duration": 1019,
    "start_time": "2023-02-22T05:02:20.289Z"
   },
   {
    "duration": 1691208,
    "start_time": "2023-02-22T05:02:21.310Z"
   },
   {
    "duration": 660700,
    "start_time": "2023-02-22T05:30:32.587Z"
   },
   {
    "duration": 1254108,
    "start_time": "2023-02-22T05:41:33.289Z"
   },
   {
    "duration": 70305,
    "start_time": "2023-02-22T06:02:27.399Z"
   },
   {
    "duration": 13291,
    "start_time": "2023-02-22T06:03:37.706Z"
   },
   {
    "duration": 194,
    "start_time": "2023-02-22T06:03:50.999Z"
   },
   {
    "duration": 26422,
    "start_time": "2023-02-22T06:03:51.195Z"
   },
   {
    "duration": 6229,
    "start_time": "2023-02-22T06:04:17.618Z"
   },
   {
    "duration": 78,
    "start_time": "2023-02-22T06:04:23.848Z"
   },
   {
    "duration": 7196,
    "start_time": "2023-02-22T06:04:23.928Z"
   },
   {
    "duration": 97,
    "start_time": "2023-02-22T06:04:31.125Z"
   },
   {
    "duration": 3624,
    "start_time": "2023-02-22T10:14:01.488Z"
   },
   {
    "duration": 60,
    "start_time": "2023-02-22T10:16:15.792Z"
   },
   {
    "duration": 423,
    "start_time": "2023-02-22T10:19:26.664Z"
   },
   {
    "duration": 22174,
    "start_time": "2023-02-22T10:19:37.319Z"
   },
   {
    "duration": 418,
    "start_time": "2023-02-22T10:20:08.677Z"
   },
   {
    "duration": 88984,
    "start_time": "2023-02-22T10:20:09.911Z"
   },
   {
    "duration": 1323,
    "start_time": "2023-02-22T10:31:50.127Z"
   },
   {
    "duration": 1047,
    "start_time": "2023-02-22T10:31:51.452Z"
   },
   {
    "duration": 1616,
    "start_time": "2023-02-22T10:31:52.501Z"
   },
   {
    "duration": 6,
    "start_time": "2023-02-22T10:31:54.119Z"
   },
   {
    "duration": 70,
    "start_time": "2023-02-22T10:31:54.128Z"
   },
   {
    "duration": 932,
    "start_time": "2023-02-22T10:31:54.200Z"
   },
   {
    "duration": 80,
    "start_time": "2023-02-22T10:31:55.134Z"
   },
   {
    "duration": 141,
    "start_time": "2023-02-22T10:31:55.216Z"
   },
   {
    "duration": 715,
    "start_time": "2023-02-22T10:31:55.359Z"
   },
   {
    "duration": 84,
    "start_time": "2023-02-22T10:31:56.076Z"
   },
   {
    "duration": 1910,
    "start_time": "2023-02-22T10:31:56.162Z"
   },
   {
    "duration": 10879,
    "start_time": "2023-02-22T10:31:58.074Z"
   },
   {
    "duration": 11131,
    "start_time": "2023-02-22T10:32:08.955Z"
   },
   {
    "duration": 11592,
    "start_time": "2023-02-22T10:32:20.089Z"
   },
   {
    "duration": 65,
    "start_time": "2023-02-22T10:32:31.683Z"
   },
   {
    "duration": 53,
    "start_time": "2023-02-22T10:32:31.750Z"
   },
   {
    "duration": 56,
    "start_time": "2023-02-22T10:32:31.805Z"
   },
   {
    "duration": 56,
    "start_time": "2023-02-22T10:32:31.863Z"
   },
   {
    "duration": 206,
    "start_time": "2023-02-22T10:32:31.921Z"
   },
   {
    "duration": 24,
    "start_time": "2023-02-22T10:32:32.129Z"
   },
   {
    "duration": 166,
    "start_time": "2023-02-22T10:32:32.154Z"
   },
   {
    "duration": 82,
    "start_time": "2023-02-22T10:32:32.321Z"
   },
   {
    "duration": 160,
    "start_time": "2023-02-22T10:32:32.404Z"
   },
   {
    "duration": 89,
    "start_time": "2023-02-22T10:32:32.565Z"
   },
   {
    "duration": 92,
    "start_time": "2023-02-22T10:32:32.656Z"
   },
   {
    "duration": 11,
    "start_time": "2023-02-22T10:32:32.749Z"
   },
   {
    "duration": 3332,
    "start_time": "2023-02-22T10:32:32.762Z"
   },
   {
    "duration": 103,
    "start_time": "2023-02-22T10:32:36.096Z"
   },
   {
    "duration": 4,
    "start_time": "2023-02-22T10:32:36.200Z"
   },
   {
    "duration": 23488,
    "start_time": "2023-02-22T10:32:36.206Z"
   },
   {
    "duration": 593,
    "start_time": "2023-02-22T10:32:59.696Z"
   },
   {
    "duration": 101302,
    "start_time": "2023-02-22T10:33:00.290Z"
   },
   {
    "duration": 990,
    "start_time": "2023-02-22T10:34:41.594Z"
   },
   {
    "duration": 842419,
    "start_time": "2023-02-22T10:34:42.586Z"
   },
   {
    "duration": 16779,
    "start_time": "2023-02-22T10:48:45.006Z"
   },
   {
    "duration": 31915,
    "start_time": "2023-02-22T10:49:01.788Z"
   },
   {
    "duration": 384283,
    "start_time": "2023-02-22T10:49:33.704Z"
   },
   {
    "duration": 14508,
    "start_time": "2023-02-22T10:55:57.988Z"
   },
   {
    "duration": 3602,
    "start_time": "2023-02-22T10:56:12.498Z"
   },
   {
    "duration": 26132,
    "start_time": "2023-02-22T10:56:16.101Z"
   },
   {
    "duration": 6268,
    "start_time": "2023-02-22T10:56:42.236Z"
   },
   {
    "duration": 94,
    "start_time": "2023-02-22T10:56:48.506Z"
   },
   {
    "duration": 7182,
    "start_time": "2023-02-22T10:56:48.602Z"
   },
   {
    "duration": 73,
    "start_time": "2023-02-22T10:56:55.786Z"
   }
  ],
  "kernelspec": {
   "display_name": "Python 3 (ipykernel)",
   "language": "python",
   "name": "python3"
  },
  "language_info": {
   "codemirror_mode": {
    "name": "ipython",
    "version": 3
   },
   "file_extension": ".py",
   "mimetype": "text/x-python",
   "name": "python",
   "nbconvert_exporter": "python",
   "pygments_lexer": "ipython3",
   "version": "3.9.16"
  },
  "toc": {
   "base_numbering": 1,
   "nav_menu": {},
   "number_sections": true,
   "sideBar": true,
   "skip_h1_title": true,
   "title_cell": "Table of Contents",
   "title_sidebar": "Contents",
   "toc_cell": false,
   "toc_position": {},
   "toc_section_display": true,
   "toc_window_display": true
  }
 },
 "nbformat": 4,
 "nbformat_minor": 2
}
