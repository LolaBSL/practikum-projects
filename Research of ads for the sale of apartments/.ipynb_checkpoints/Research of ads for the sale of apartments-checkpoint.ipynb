{
 "cells": [
  {
   "cell_type": "markdown",
   "metadata": {},
   "source": [
    "# Исследование объявлений о продаже квартир\n",
    "\n",
    "В вашем распоряжении данные сервиса Яндекс.Недвижимость — архив объявлений о продаже квартир в Санкт-Петербурге и соседних населённых пунктов за несколько лет. Нужно научиться определять рыночную стоимость объектов недвижимости. Ваша задача — установить параметры. Это позволит построить автоматизированную систему: она отследит аномалии и мошенническую деятельность. \n",
    "\n",
    "По каждой квартире на продажу доступны два вида данных. Первые вписаны пользователем, вторые — получены автоматически на основе картографических данных. Например, расстояние до центра, аэропорта, ближайшего парка и водоёма. "
   ]
  },
  {
   "cell_type": "markdown",
   "metadata": {},
   "source": [
    "### Изучение данных "
   ]
  },
  {
   "cell_type": "code",
   "execution_count": 1,
   "metadata": {},
   "outputs": [],
   "source": [
    "import pandas as pd\n",
    "import math\n",
    "from collections import OrderedDict"
   ]
  },
  {
   "cell_type": "code",
   "execution_count": 2,
   "metadata": {
    "scrolled": false
   },
   "outputs": [
    {
     "name": "stdout",
     "output_type": "stream",
     "text": [
      "<class 'pandas.core.frame.DataFrame'>\n",
      "RangeIndex: 23699 entries, 0 to 23698\n",
      "Data columns (total 22 columns):\n",
      " #   Column                Non-Null Count  Dtype  \n",
      "---  ------                --------------  -----  \n",
      " 0   total_images          23699 non-null  int64  \n",
      " 1   last_price            23699 non-null  float64\n",
      " 2   total_area            23699 non-null  float64\n",
      " 3   first_day_exposition  23699 non-null  object \n",
      " 4   rooms                 23699 non-null  int64  \n",
      " 5   ceiling_height        14504 non-null  float64\n",
      " 6   floors_total          23613 non-null  float64\n",
      " 7   living_area           21796 non-null  float64\n",
      " 8   floor                 23699 non-null  int64  \n",
      " 9   is_apartment          2775 non-null   object \n",
      " 10  studio                23699 non-null  bool   \n",
      " 11  open_plan             23699 non-null  bool   \n",
      " 12  kitchen_area          21421 non-null  float64\n",
      " 13  balcony               12180 non-null  float64\n",
      " 14  locality_name         23650 non-null  object \n",
      " 15  airports_nearest      18157 non-null  float64\n",
      " 16  cityCenters_nearest   18180 non-null  float64\n",
      " 17  parks_around3000      18181 non-null  float64\n",
      " 18  parks_nearest         8079 non-null   float64\n",
      " 19  ponds_around3000      18181 non-null  float64\n",
      " 20  ponds_nearest         9110 non-null   float64\n",
      " 21  days_exposition       20518 non-null  float64\n",
      "dtypes: bool(2), float64(14), int64(3), object(3)\n",
      "memory usage: 3.7+ MB\n"
     ]
    }
   ],
   "source": [
    "data = pd.read_csv('/datasets/real_estate_data.csv', sep='\\t')\n",
    "data.info()\n",
    "old_data = data # для дальнейшего сравнения оставшихся данных"
   ]
  },
  {
   "cell_type": "code",
   "execution_count": 3,
   "metadata": {},
   "outputs": [
    {
     "data": {
      "text/html": [
       "<div>\n",
       "<style scoped>\n",
       "    .dataframe tbody tr th:only-of-type {\n",
       "        vertical-align: middle;\n",
       "    }\n",
       "\n",
       "    .dataframe tbody tr th {\n",
       "        vertical-align: top;\n",
       "    }\n",
       "\n",
       "    .dataframe thead th {\n",
       "        text-align: right;\n",
       "    }\n",
       "</style>\n",
       "<table border=\"1\" class=\"dataframe\">\n",
       "  <thead>\n",
       "    <tr style=\"text-align: right;\">\n",
       "      <th></th>\n",
       "      <th>total_images</th>\n",
       "      <th>last_price</th>\n",
       "      <th>total_area</th>\n",
       "      <th>first_day_exposition</th>\n",
       "      <th>rooms</th>\n",
       "      <th>ceiling_height</th>\n",
       "      <th>floors_total</th>\n",
       "      <th>living_area</th>\n",
       "      <th>floor</th>\n",
       "      <th>is_apartment</th>\n",
       "      <th>...</th>\n",
       "      <th>kitchen_area</th>\n",
       "      <th>balcony</th>\n",
       "      <th>locality_name</th>\n",
       "      <th>airports_nearest</th>\n",
       "      <th>cityCenters_nearest</th>\n",
       "      <th>parks_around3000</th>\n",
       "      <th>parks_nearest</th>\n",
       "      <th>ponds_around3000</th>\n",
       "      <th>ponds_nearest</th>\n",
       "      <th>days_exposition</th>\n",
       "    </tr>\n",
       "  </thead>\n",
       "  <tbody>\n",
       "    <tr>\n",
       "      <th>0</th>\n",
       "      <td>20</td>\n",
       "      <td>13000000.0</td>\n",
       "      <td>108.00</td>\n",
       "      <td>2019-03-07T00:00:00</td>\n",
       "      <td>3</td>\n",
       "      <td>2.70</td>\n",
       "      <td>16.0</td>\n",
       "      <td>51.0</td>\n",
       "      <td>8</td>\n",
       "      <td>NaN</td>\n",
       "      <td>...</td>\n",
       "      <td>25.00</td>\n",
       "      <td>NaN</td>\n",
       "      <td>Санкт-Петербург</td>\n",
       "      <td>18863.0</td>\n",
       "      <td>16028.0</td>\n",
       "      <td>1.0</td>\n",
       "      <td>482.0</td>\n",
       "      <td>2.0</td>\n",
       "      <td>755.0</td>\n",
       "      <td>NaN</td>\n",
       "    </tr>\n",
       "    <tr>\n",
       "      <th>1</th>\n",
       "      <td>7</td>\n",
       "      <td>3350000.0</td>\n",
       "      <td>40.40</td>\n",
       "      <td>2018-12-04T00:00:00</td>\n",
       "      <td>1</td>\n",
       "      <td>NaN</td>\n",
       "      <td>11.0</td>\n",
       "      <td>18.6</td>\n",
       "      <td>1</td>\n",
       "      <td>NaN</td>\n",
       "      <td>...</td>\n",
       "      <td>11.00</td>\n",
       "      <td>2.0</td>\n",
       "      <td>посёлок Шушары</td>\n",
       "      <td>12817.0</td>\n",
       "      <td>18603.0</td>\n",
       "      <td>0.0</td>\n",
       "      <td>NaN</td>\n",
       "      <td>0.0</td>\n",
       "      <td>NaN</td>\n",
       "      <td>81.0</td>\n",
       "    </tr>\n",
       "    <tr>\n",
       "      <th>2</th>\n",
       "      <td>10</td>\n",
       "      <td>5196000.0</td>\n",
       "      <td>56.00</td>\n",
       "      <td>2015-08-20T00:00:00</td>\n",
       "      <td>2</td>\n",
       "      <td>NaN</td>\n",
       "      <td>5.0</td>\n",
       "      <td>34.3</td>\n",
       "      <td>4</td>\n",
       "      <td>NaN</td>\n",
       "      <td>...</td>\n",
       "      <td>8.30</td>\n",
       "      <td>0.0</td>\n",
       "      <td>Санкт-Петербург</td>\n",
       "      <td>21741.0</td>\n",
       "      <td>13933.0</td>\n",
       "      <td>1.0</td>\n",
       "      <td>90.0</td>\n",
       "      <td>2.0</td>\n",
       "      <td>574.0</td>\n",
       "      <td>558.0</td>\n",
       "    </tr>\n",
       "    <tr>\n",
       "      <th>3</th>\n",
       "      <td>0</td>\n",
       "      <td>64900000.0</td>\n",
       "      <td>159.00</td>\n",
       "      <td>2015-07-24T00:00:00</td>\n",
       "      <td>3</td>\n",
       "      <td>NaN</td>\n",
       "      <td>14.0</td>\n",
       "      <td>NaN</td>\n",
       "      <td>9</td>\n",
       "      <td>NaN</td>\n",
       "      <td>...</td>\n",
       "      <td>NaN</td>\n",
       "      <td>0.0</td>\n",
       "      <td>Санкт-Петербург</td>\n",
       "      <td>28098.0</td>\n",
       "      <td>6800.0</td>\n",
       "      <td>2.0</td>\n",
       "      <td>84.0</td>\n",
       "      <td>3.0</td>\n",
       "      <td>234.0</td>\n",
       "      <td>424.0</td>\n",
       "    </tr>\n",
       "    <tr>\n",
       "      <th>4</th>\n",
       "      <td>2</td>\n",
       "      <td>10000000.0</td>\n",
       "      <td>100.00</td>\n",
       "      <td>2018-06-19T00:00:00</td>\n",
       "      <td>2</td>\n",
       "      <td>3.03</td>\n",
       "      <td>14.0</td>\n",
       "      <td>32.0</td>\n",
       "      <td>13</td>\n",
       "      <td>NaN</td>\n",
       "      <td>...</td>\n",
       "      <td>41.00</td>\n",
       "      <td>NaN</td>\n",
       "      <td>Санкт-Петербург</td>\n",
       "      <td>31856.0</td>\n",
       "      <td>8098.0</td>\n",
       "      <td>2.0</td>\n",
       "      <td>112.0</td>\n",
       "      <td>1.0</td>\n",
       "      <td>48.0</td>\n",
       "      <td>121.0</td>\n",
       "    </tr>\n",
       "    <tr>\n",
       "      <th>...</th>\n",
       "      <td>...</td>\n",
       "      <td>...</td>\n",
       "      <td>...</td>\n",
       "      <td>...</td>\n",
       "      <td>...</td>\n",
       "      <td>...</td>\n",
       "      <td>...</td>\n",
       "      <td>...</td>\n",
       "      <td>...</td>\n",
       "      <td>...</td>\n",
       "      <td>...</td>\n",
       "      <td>...</td>\n",
       "      <td>...</td>\n",
       "      <td>...</td>\n",
       "      <td>...</td>\n",
       "      <td>...</td>\n",
       "      <td>...</td>\n",
       "      <td>...</td>\n",
       "      <td>...</td>\n",
       "      <td>...</td>\n",
       "      <td>...</td>\n",
       "    </tr>\n",
       "    <tr>\n",
       "      <th>23694</th>\n",
       "      <td>9</td>\n",
       "      <td>9700000.0</td>\n",
       "      <td>133.81</td>\n",
       "      <td>2017-03-21T00:00:00</td>\n",
       "      <td>3</td>\n",
       "      <td>3.70</td>\n",
       "      <td>5.0</td>\n",
       "      <td>73.3</td>\n",
       "      <td>3</td>\n",
       "      <td>NaN</td>\n",
       "      <td>...</td>\n",
       "      <td>13.83</td>\n",
       "      <td>NaN</td>\n",
       "      <td>Санкт-Петербург</td>\n",
       "      <td>24665.0</td>\n",
       "      <td>4232.0</td>\n",
       "      <td>1.0</td>\n",
       "      <td>796.0</td>\n",
       "      <td>3.0</td>\n",
       "      <td>381.0</td>\n",
       "      <td>NaN</td>\n",
       "    </tr>\n",
       "    <tr>\n",
       "      <th>23695</th>\n",
       "      <td>14</td>\n",
       "      <td>3100000.0</td>\n",
       "      <td>59.00</td>\n",
       "      <td>2018-01-15T00:00:00</td>\n",
       "      <td>3</td>\n",
       "      <td>NaN</td>\n",
       "      <td>5.0</td>\n",
       "      <td>38.0</td>\n",
       "      <td>4</td>\n",
       "      <td>NaN</td>\n",
       "      <td>...</td>\n",
       "      <td>8.50</td>\n",
       "      <td>NaN</td>\n",
       "      <td>Тосно</td>\n",
       "      <td>NaN</td>\n",
       "      <td>NaN</td>\n",
       "      <td>NaN</td>\n",
       "      <td>NaN</td>\n",
       "      <td>NaN</td>\n",
       "      <td>NaN</td>\n",
       "      <td>45.0</td>\n",
       "    </tr>\n",
       "    <tr>\n",
       "      <th>23696</th>\n",
       "      <td>18</td>\n",
       "      <td>2500000.0</td>\n",
       "      <td>56.70</td>\n",
       "      <td>2018-02-11T00:00:00</td>\n",
       "      <td>2</td>\n",
       "      <td>NaN</td>\n",
       "      <td>3.0</td>\n",
       "      <td>29.7</td>\n",
       "      <td>1</td>\n",
       "      <td>NaN</td>\n",
       "      <td>...</td>\n",
       "      <td>NaN</td>\n",
       "      <td>NaN</td>\n",
       "      <td>село Рождествено</td>\n",
       "      <td>NaN</td>\n",
       "      <td>NaN</td>\n",
       "      <td>NaN</td>\n",
       "      <td>NaN</td>\n",
       "      <td>NaN</td>\n",
       "      <td>NaN</td>\n",
       "      <td>NaN</td>\n",
       "    </tr>\n",
       "    <tr>\n",
       "      <th>23697</th>\n",
       "      <td>13</td>\n",
       "      <td>11475000.0</td>\n",
       "      <td>76.75</td>\n",
       "      <td>2017-03-28T00:00:00</td>\n",
       "      <td>2</td>\n",
       "      <td>3.00</td>\n",
       "      <td>17.0</td>\n",
       "      <td>NaN</td>\n",
       "      <td>12</td>\n",
       "      <td>NaN</td>\n",
       "      <td>...</td>\n",
       "      <td>23.30</td>\n",
       "      <td>2.0</td>\n",
       "      <td>Санкт-Петербург</td>\n",
       "      <td>39140.0</td>\n",
       "      <td>10364.0</td>\n",
       "      <td>2.0</td>\n",
       "      <td>173.0</td>\n",
       "      <td>3.0</td>\n",
       "      <td>196.0</td>\n",
       "      <td>602.0</td>\n",
       "    </tr>\n",
       "    <tr>\n",
       "      <th>23698</th>\n",
       "      <td>4</td>\n",
       "      <td>1350000.0</td>\n",
       "      <td>32.30</td>\n",
       "      <td>2017-07-21T00:00:00</td>\n",
       "      <td>1</td>\n",
       "      <td>2.50</td>\n",
       "      <td>5.0</td>\n",
       "      <td>12.3</td>\n",
       "      <td>1</td>\n",
       "      <td>NaN</td>\n",
       "      <td>...</td>\n",
       "      <td>9.00</td>\n",
       "      <td>NaN</td>\n",
       "      <td>поселок Новый Учхоз</td>\n",
       "      <td>NaN</td>\n",
       "      <td>NaN</td>\n",
       "      <td>NaN</td>\n",
       "      <td>NaN</td>\n",
       "      <td>NaN</td>\n",
       "      <td>NaN</td>\n",
       "      <td>NaN</td>\n",
       "    </tr>\n",
       "  </tbody>\n",
       "</table>\n",
       "<p>23699 rows × 22 columns</p>\n",
       "</div>"
      ],
      "text/plain": [
       "       total_images  last_price  total_area first_day_exposition  rooms  \\\n",
       "0                20  13000000.0      108.00  2019-03-07T00:00:00      3   \n",
       "1                 7   3350000.0       40.40  2018-12-04T00:00:00      1   \n",
       "2                10   5196000.0       56.00  2015-08-20T00:00:00      2   \n",
       "3                 0  64900000.0      159.00  2015-07-24T00:00:00      3   \n",
       "4                 2  10000000.0      100.00  2018-06-19T00:00:00      2   \n",
       "...             ...         ...         ...                  ...    ...   \n",
       "23694             9   9700000.0      133.81  2017-03-21T00:00:00      3   \n",
       "23695            14   3100000.0       59.00  2018-01-15T00:00:00      3   \n",
       "23696            18   2500000.0       56.70  2018-02-11T00:00:00      2   \n",
       "23697            13  11475000.0       76.75  2017-03-28T00:00:00      2   \n",
       "23698             4   1350000.0       32.30  2017-07-21T00:00:00      1   \n",
       "\n",
       "       ceiling_height  floors_total  living_area  floor is_apartment  ...  \\\n",
       "0                2.70          16.0         51.0      8          NaN  ...   \n",
       "1                 NaN          11.0         18.6      1          NaN  ...   \n",
       "2                 NaN           5.0         34.3      4          NaN  ...   \n",
       "3                 NaN          14.0          NaN      9          NaN  ...   \n",
       "4                3.03          14.0         32.0     13          NaN  ...   \n",
       "...               ...           ...          ...    ...          ...  ...   \n",
       "23694            3.70           5.0         73.3      3          NaN  ...   \n",
       "23695             NaN           5.0         38.0      4          NaN  ...   \n",
       "23696             NaN           3.0         29.7      1          NaN  ...   \n",
       "23697            3.00          17.0          NaN     12          NaN  ...   \n",
       "23698            2.50           5.0         12.3      1          NaN  ...   \n",
       "\n",
       "       kitchen_area  balcony        locality_name  airports_nearest  \\\n",
       "0             25.00      NaN      Санкт-Петербург           18863.0   \n",
       "1             11.00      2.0       посёлок Шушары           12817.0   \n",
       "2              8.30      0.0      Санкт-Петербург           21741.0   \n",
       "3               NaN      0.0      Санкт-Петербург           28098.0   \n",
       "4             41.00      NaN      Санкт-Петербург           31856.0   \n",
       "...             ...      ...                  ...               ...   \n",
       "23694         13.83      NaN      Санкт-Петербург           24665.0   \n",
       "23695          8.50      NaN                Тосно               NaN   \n",
       "23696           NaN      NaN     село Рождествено               NaN   \n",
       "23697         23.30      2.0      Санкт-Петербург           39140.0   \n",
       "23698          9.00      NaN  поселок Новый Учхоз               NaN   \n",
       "\n",
       "      cityCenters_nearest  parks_around3000  parks_nearest  ponds_around3000  \\\n",
       "0                 16028.0               1.0          482.0               2.0   \n",
       "1                 18603.0               0.0            NaN               0.0   \n",
       "2                 13933.0               1.0           90.0               2.0   \n",
       "3                  6800.0               2.0           84.0               3.0   \n",
       "4                  8098.0               2.0          112.0               1.0   \n",
       "...                   ...               ...            ...               ...   \n",
       "23694              4232.0               1.0          796.0               3.0   \n",
       "23695                 NaN               NaN            NaN               NaN   \n",
       "23696                 NaN               NaN            NaN               NaN   \n",
       "23697             10364.0               2.0          173.0               3.0   \n",
       "23698                 NaN               NaN            NaN               NaN   \n",
       "\n",
       "       ponds_nearest  days_exposition  \n",
       "0              755.0              NaN  \n",
       "1                NaN             81.0  \n",
       "2              574.0            558.0  \n",
       "3              234.0            424.0  \n",
       "4               48.0            121.0  \n",
       "...              ...              ...  \n",
       "23694          381.0              NaN  \n",
       "23695            NaN             45.0  \n",
       "23696            NaN              NaN  \n",
       "23697          196.0            602.0  \n",
       "23698            NaN              NaN  \n",
       "\n",
       "[23699 rows x 22 columns]"
      ]
     },
     "metadata": {},
     "output_type": "display_data"
    }
   ],
   "source": [
    "display(data)"
   ]
  },
  {
   "cell_type": "code",
   "execution_count": 4,
   "metadata": {},
   "outputs": [
    {
     "data": {
      "image/png": "[encoded data removed]",
      "text/plain": [
       "<Figure size 1080x1440 with 20 Axes>"
      ]
     },
     "metadata": {
      "needs_background": "light"
     },
     "output_type": "display_data"
    }
   ],
   "source": [
    "import matplotlib.pyplot as plt\n",
    "data.hist(figsize=(15,20));"
   ]
  },
  {
   "cell_type": "markdown",
   "metadata": {},
   "source": [
    "**В файле есть недостатки**\n",
    "\n",
    "*Названия столбцов*\n",
    "\n",
    "*Пропуски:*\n",
    "- высота потолков\n",
    "- этажей всего\n",
    "- жилая площадь\n",
    "- площадь кухни\n",
    "- апартаметы\n",
    "- балконы\n",
    "- наименование населенного пункта\n",
    "- расстояние до аэропорта\n",
    "- расстояние до центра\n",
    "- парки на расстоянии 3 км\n",
    "- расстояние до парка\n",
    "- водоемы на растоянии 3 км\n",
    "- расстояние до водоема\n",
    "- кол-во дней провисевшее объявление\n",
    "\n",
    "*Формат:*\n",
    "- день подачи объявления\n",
    "- этажей всего\n",
    "- апартаменты\n",
    "- балконы\n",
    "- кол-во дней провисевшее объявление\n",
    "\n",
    "*Дубликаты:*\n",
    "Проверить навазние населенных пунктов\n",
    "\n",
    "*Странные значения:*\n",
    "Проверить высоту потолков"
   ]
  },
  {
   "cell_type": "markdown",
   "metadata": {},
   "source": [
    "### Предобработка данных"
   ]
  },
  {
   "cell_type": "code",
   "execution_count": 5,
   "metadata": {},
   "outputs": [
    {
     "name": "stdout",
     "output_type": "stream",
     "text": [
      "       total_images  last_price  total_area first_day_exposition  rooms  \\\n",
      "23689            13   3550000.0       35.30  2018-02-28T00:00:00      1   \n",
      "23690             3   5500000.0       52.00  2018-07-19T00:00:00      2   \n",
      "23691            11   9470000.0       72.90  2016-10-13T00:00:00      2   \n",
      "23692             2   1350000.0       30.00  2017-07-07T00:00:00      1   \n",
      "23693             9   4600000.0       62.40  2016-08-05T00:00:00      3   \n",
      "23694             9   9700000.0      133.81  2017-03-21T00:00:00      3   \n",
      "23695            14   3100000.0       59.00  2018-01-15T00:00:00      3   \n",
      "23696            18   2500000.0       56.70  2018-02-11T00:00:00      2   \n",
      "23697            13  11475000.0       76.75  2017-03-28T00:00:00      2   \n",
      "23698             4   1350000.0       32.30  2017-07-21T00:00:00      1   \n",
      "\n",
      "       ceiling_height  floors_total  living_area  floor is_apartment  ...  \\\n",
      "23689            2.86          15.0         16.3      4          NaN  ...   \n",
      "23690             NaN           5.0         31.0      2          NaN  ...   \n",
      "23691            2.75          25.0         40.3      7          NaN  ...   \n",
      "23692             NaN           5.0         17.5      4          NaN  ...   \n",
      "23693            2.60           9.0         40.0      8          NaN  ...   \n",
      "23694            3.70           5.0         73.3      3          NaN  ...   \n",
      "23695             NaN           5.0         38.0      4          NaN  ...   \n",
      "23696             NaN           3.0         29.7      1          NaN  ...   \n",
      "23697            3.00          17.0          NaN     12          NaN  ...   \n",
      "23698            2.50           5.0         12.3      1          NaN  ...   \n",
      "\n",
      "       kitchen_area  balcony        locality_name  airports_nearest  \\\n",
      "23689          9.10      2.0      Санкт-Петербург           17284.0   \n",
      "23690          6.00      NaN      Санкт-Петербург           20151.0   \n",
      "23691         10.60      1.0      Санкт-Петербург           19424.0   \n",
      "23692          6.00      NaN               Тихвин               NaN   \n",
      "23693          8.00      0.0             Петергоф           45602.0   \n",
      "23694         13.83      NaN      Санкт-Петербург           24665.0   \n",
      "23695          8.50      NaN                Тосно               NaN   \n",
      "23696           NaN      NaN     село Рождествено               NaN   \n",
      "23697         23.30      2.0      Санкт-Петербург           39140.0   \n",
      "23698          9.00      NaN  поселок Новый Учхоз               NaN   \n",
      "\n",
      "      city_centers_nearest  parks_around_3000  parks_nearest  \\\n",
      "23689              16081.0                1.0          353.0   \n",
      "23690               6263.0                1.0          300.0   \n",
      "23691               4489.0                0.0            NaN   \n",
      "23692                  NaN                NaN            NaN   \n",
      "23693              34104.0                1.0          352.0   \n",
      "23694               4232.0                1.0          796.0   \n",
      "23695                  NaN                NaN            NaN   \n",
      "23696                  NaN                NaN            NaN   \n",
      "23697              10364.0                2.0          173.0   \n",
      "23698                  NaN                NaN            NaN   \n",
      "\n",
      "       ponds_around_3000  ponds_nearest  days_exposition  \n",
      "23689                2.0          652.0             29.0  \n",
      "23690                0.0            NaN             15.0  \n",
      "23691                1.0          806.0            519.0  \n",
      "23692                NaN            NaN            413.0  \n",
      "23693                1.0          675.0            239.0  \n",
      "23694                3.0          381.0              NaN  \n",
      "23695                NaN            NaN             45.0  \n",
      "23696                NaN            NaN              NaN  \n",
      "23697                3.0          196.0            602.0  \n",
      "23698                NaN            NaN              NaN  \n",
      "\n",
      "[10 rows x 22 columns]\n"
     ]
    }
   ],
   "source": [
    "data = data.rename(columns= {'cityCenters_nearest' : 'city_centers_nearest', 'parks_around3000' : 'parks_around_3000',\n",
    "                             'ponds_around3000' : 'ponds_around_3000'}) #переименовываем столбец в одну стилистику с остальными\n",
    "display(data.tail(10))"
   ]
  },
  {
   "cell_type": "code",
   "execution_count": 6,
   "metadata": {},
   "outputs": [
    {
     "name": "stdout",
     "output_type": "stream",
     "text": [
      "0   2019-03-07\n",
      "1   2018-12-04\n",
      "2   2015-08-20\n",
      "3   2015-07-24\n",
      "4   2018-06-19\n",
      "Name: first_day_exposition, dtype: datetime64[ns]\n"
     ]
    }
   ],
   "source": [
    "data['first_day_exposition'] = pd.to_datetime(data['first_day_exposition'], format='%Y-%m-%dT%H:%M:%S')\n",
    "#приводим в читабельным вид дату\n",
    "print(data['first_day_exposition'].head())"
   ]
  },
  {
   "cell_type": "code",
   "execution_count": 7,
   "metadata": {},
   "outputs": [
    {
     "name": "stdout",
     "output_type": "stream",
     "text": [
      "total_images                0\n",
      "last_price                  0\n",
      "total_area                  0\n",
      "first_day_exposition        0\n",
      "rooms                       0\n",
      "ceiling_height           9195\n",
      "floors_total               86\n",
      "living_area              1903\n",
      "floor                       0\n",
      "is_apartment            20924\n",
      "studio                      0\n",
      "open_plan                   0\n",
      "kitchen_area             2278\n",
      "balcony                 11519\n",
      "locality_name              49\n",
      "airports_nearest         5542\n",
      "city_centers_nearest     5519\n",
      "parks_around_3000        5518\n",
      "parks_nearest           15620\n",
      "ponds_around_3000        5518\n",
      "ponds_nearest           14589\n",
      "days_exposition          3181\n",
      "dtype: int64\n"
     ]
    }
   ],
   "source": [
    "print(data.isna().sum()) #считаем пропуски"
   ]
  },
  {
   "cell_type": "code",
   "execution_count": 8,
   "metadata": {},
   "outputs": [
    {
     "name": "stdout",
     "output_type": "stream",
     "text": [
      "[nan False True]\n",
      "[nan  2.  0.  1.  5.  4.  3.]\n"
     ]
    }
   ],
   "source": [
    "print(data['is_apartment'].unique())\n",
    "data['is_apartment'] = data['is_apartment'].fillna(False) # если клиент не отметил что у него апартаменты\n",
    "# то скорее всего у него не апартаметы, соотвественно все пропуски заменяет на False\n",
    "print(data['balcony'].unique())\n",
    "data['balcony'] = data['balcony'].fillna(0).astype(int) # тоже самое с балконами, пропуски меняем на 0"
   ]
  },
  {
   "cell_type": "code",
   "execution_count": 9,
   "metadata": {},
   "outputs": [
    {
     "name": "stdout",
     "output_type": "stream",
     "text": [
      "total_images                0\n",
      "last_price                  0\n",
      "total_area                  0\n",
      "first_day_exposition        0\n",
      "rooms                       0\n",
      "ceiling_height           9195\n",
      "floors_total               86\n",
      "living_area              1903\n",
      "floor                       0\n",
      "is_apartment                0\n",
      "studio                      0\n",
      "open_plan                   0\n",
      "kitchen_area             2278\n",
      "balcony                     0\n",
      "locality_name              49\n",
      "airports_nearest         5542\n",
      "city_centers_nearest     5519\n",
      "parks_around_3000        5518\n",
      "parks_nearest           15620\n",
      "ponds_around_3000        5518\n",
      "ponds_nearest           14589\n",
      "days_exposition          3181\n",
      "dtype: int64\n"
     ]
    }
   ],
   "source": [
    "print(data.isna().sum()) "
   ]
  },
  {
   "cell_type": "code",
   "execution_count": 10,
   "metadata": {},
   "outputs": [
    {
     "name": "stdout",
     "output_type": "stream",
     "text": [
      "[16. 11.  5. 14. 12. 26. 24. 27.  9.  6. 17. 25.  3. 23. 19. 18.  4. 22.\n",
      "  8.  2. 10.  7. 13. 15. nan 20. 28. 36. 21. 35. 34. 60.  1. 29. 33. 52.\n",
      " 37.]\n"
     ]
    }
   ],
   "source": [
    "print(data['floors_total'].unique())"
   ]
  },
  {
   "cell_type": "code",
   "execution_count": 11,
   "metadata": {},
   "outputs": [
    {
     "name": "stdout",
     "output_type": "stream",
     "text": [
      "       total_images  last_price  total_area first_day_exposition  rooms  \\\n",
      "457               4   9788348.0       70.80           2015-08-01      2   \n",
      "2392              7   5395770.0       53.00           2017-06-29      2   \n",
      "2846              4   2325000.0       27.80           2016-09-21      1   \n",
      "3031              9   6400000.0       56.70           2018-03-27      2   \n",
      "3438             10   4100000.0       38.00           2018-04-14      1   \n",
      "4617              4   4275062.0       61.20           2017-04-27      2   \n",
      "4848             15  13000000.0       98.00           2017-02-08      3   \n",
      "5146             10   3085024.0       33.33           2018-10-06      1   \n",
      "5187              5   3300000.0       25.40           2018-11-02      0   \n",
      "5784              4   4262941.0       59.90           2017-04-02      2   \n",
      "5958              1   3200000.0       30.30           2018-09-07      0   \n",
      "6030              3  10900000.0      116.23           2017-05-05      4   \n",
      "7922              3   5426412.0       50.11           2016-06-08      2   \n",
      "8478             19  13500000.0       77.80           2019-04-17      2   \n",
      "9023              5   2900000.0       35.10           2018-07-18      1   \n",
      "10013             4   4558637.0       64.40           2016-09-21      2   \n",
      "10027             4   4650259.0       67.50           2017-04-01      2   \n",
      "10058             9   3350000.0       25.00           2018-09-10      1   \n",
      "10531             3   6595420.0       61.80           2016-05-21      2   \n",
      "10983             6   4670000.0       37.80           2019-03-13      1   \n",
      "11129            10   3128418.0       34.53           2018-10-01      1   \n",
      "13438             4   4403541.0       65.30           2016-09-21      2   \n",
      "13622             3   7650000.0       88.84           2016-05-21      3   \n",
      "14094             5   3290000.0       33.00           2018-02-01      1   \n",
      "14264            13  14000000.0       94.00           2019-01-23      6   \n",
      "14526             1   5595000.0       52.47           2016-03-23      2   \n",
      "16591             8   4500000.0       37.60           2018-07-10      1   \n",
      "16850             4   6188957.0       90.20           2016-09-21      3   \n",
      "17498             4   4252249.0       60.20           2017-04-01      2   \n",
      "19452             5   9500000.0       76.80           2019-04-11      3   \n",
      "20146            16   3850000.0       36.00           2018-10-12      1   \n",
      "20738             5   4480000.0       54.22           2018-02-01      2   \n",
      "21273             3   6300000.0       70.02           2015-03-28      2   \n",
      "21651             4   7143060.0       44.70           2019-01-11      1   \n",
      "21753             7   6800000.0       57.00           2017-05-01      2   \n",
      "22656             4   4574160.0       64.50           2017-04-02      2   \n",
      "23590             0  21187872.0      123.30           2017-04-25      3   \n",
      "\n",
      "       ceiling_height  floors_total  living_area  floor  is_apartment  ...  \\\n",
      "457               NaN             9        38.40     12         False  ...   \n",
      "2392              NaN             9        29.00     22         False  ...   \n",
      "2846              NaN             9        19.40     15         False  ...   \n",
      "3031              NaN             9        32.00     12         False  ...   \n",
      "3438              NaN             9        19.00     12         False  ...   \n",
      "4617              NaN             9        32.00     12         False  ...   \n",
      "4848              NaN             9          NaN     18         False  ...   \n",
      "5146              NaN             9        11.00     12         False  ...   \n",
      "5187              NaN             9          NaN     15         False  ...   \n",
      "5784              NaN             9        31.70     18         False  ...   \n",
      "5958              NaN             9          NaN     13         False  ...   \n",
      "6030              NaN             9          NaN     24         False  ...   \n",
      "7922              NaN             9        26.94     24         False  ...   \n",
      "8478             2.80             9        39.41     21         False  ...   \n",
      "9023              NaN             9          NaN     11         False  ...   \n",
      "10013             NaN             9        31.70     19         False  ...   \n",
      "10027             NaN             9        31.30     20         False  ...   \n",
      "10058            2.65             9        17.00     21         False  ...   \n",
      "10531             NaN             9        30.01     12         False  ...   \n",
      "10983             NaN             9        16.90     14         False  ...   \n",
      "11129             NaN             9        11.00     13         False  ...   \n",
      "13438             NaN             9        31.60     11         False  ...   \n",
      "13622             NaN             9        49.87     21         False  ...   \n",
      "14094             NaN             9          NaN     17         False  ...   \n",
      "14264            2.65             9        51.00     23         False  ...   \n",
      "14526             NaN             9          NaN     10         False  ...   \n",
      "16591             NaN             9        17.50     11         False  ...   \n",
      "16850             NaN             9        47.70     14         False  ...   \n",
      "17498             NaN             9        31.80     13         False  ...   \n",
      "19452             NaN             9          NaN     10         False  ...   \n",
      "20146             NaN             9        19.00     15         False  ...   \n",
      "20738             NaN             9          NaN     10         False  ...   \n",
      "21273             NaN             9        34.87     19         False  ...   \n",
      "21651            3.00             9        13.79     19         False  ...   \n",
      "21753             NaN             9          NaN     21         False  ...   \n",
      "22656             NaN             9        31.70     20         False  ...   \n",
      "23590             NaN             9        50.40     18         False  ...   \n",
      "\n",
      "       kitchen_area  balcony                locality_name  airports_nearest  \\\n",
      "457           10.63        0              Санкт-Петербург           37364.0   \n",
      "2392           9.00        0              Санкт-Петербург           43074.0   \n",
      "2846            NaN        0              Санкт-Петербург           22041.0   \n",
      "3031          12.00        0                      Кудрово               NaN   \n",
      "3438          10.30        0                      Кудрово               NaN   \n",
      "4617          12.20        0              Санкт-Петербург           22041.0   \n",
      "4848            NaN        0              Санкт-Петербург           37625.0   \n",
      "5146            NaN        0              Санкт-Петербург           47303.0   \n",
      "5187            NaN        0               посёлок Мурино               NaN   \n",
      "5784          11.90        0              Санкт-Петербург           22041.0   \n",
      "5958            NaN        0              Санкт-Петербург           22735.0   \n",
      "6030            NaN        0              Санкт-Петербург           35234.0   \n",
      "7922          11.13        0              Санкт-Петербург            7050.0   \n",
      "8478          13.27        2              Санкт-Петербург           12838.0   \n",
      "9023            NaN        0  городской посёлок Новоселье               NaN   \n",
      "10013         14.40        0              Санкт-Петербург           22041.0   \n",
      "10027         14.40        0              Санкт-Петербург           22041.0   \n",
      "10058          3.50        0               посёлок Шушары               NaN   \n",
      "10531         10.08        0              Санкт-Петербург            7050.0   \n",
      "10983          9.50        0              Санкт-Петербург           23982.0   \n",
      "11129           NaN        0              Санкт-Петербург           47303.0   \n",
      "13438         12.20        0              Санкт-Петербург           22041.0   \n",
      "13622          9.76        0              Санкт-Петербург           35234.0   \n",
      "14094           NaN        0      деревня Новое Девяткино               NaN   \n",
      "14264         16.30        0              Санкт-Петербург           51333.0   \n",
      "14526           NaN        0              Санкт-Петербург            7050.0   \n",
      "16591         11.00        0              Санкт-Петербург           37625.0   \n",
      "16850         16.70        0              Санкт-Петербург           22041.0   \n",
      "17498         12.10        0              Санкт-Петербург           22041.0   \n",
      "19452           NaN        0              Санкт-Петербург           36628.0   \n",
      "20146          8.50        0             посёлок Стрельна           28276.0   \n",
      "20738           NaN        0               посёлок Мурино               NaN   \n",
      "21273         10.13        0              Санкт-Петербург           35234.0   \n",
      "21651           NaN        0              Санкт-Петербург            9222.0   \n",
      "21753           NaN        0              Санкт-Петербург           17618.0   \n",
      "22656         14.40        0              Санкт-Петербург           22041.0   \n",
      "23590         23.60        0              Санкт-Петербург           19095.0   \n",
      "\n",
      "      city_centers_nearest  parks_around_3000  parks_nearest  \\\n",
      "457                 8322.0                2.0          309.0   \n",
      "2392               10820.0                0.0            NaN   \n",
      "2846               17369.0                0.0            NaN   \n",
      "3031                   NaN                NaN            NaN   \n",
      "3438                   NaN                NaN            NaN   \n",
      "4617               17369.0                0.0            NaN   \n",
      "4848               14153.0                0.0            NaN   \n",
      "5146               25865.0                1.0          400.0   \n",
      "5187                   NaN                NaN            NaN   \n",
      "5784               17369.0                0.0            NaN   \n",
      "5958               11618.0                1.0          835.0   \n",
      "6030               14674.0                0.0            NaN   \n",
      "7922               13266.0                1.0          868.0   \n",
      "8478               11477.0                1.0          593.0   \n",
      "9023                   NaN                NaN            NaN   \n",
      "10013              17369.0                0.0            NaN   \n",
      "10027              17369.0                0.0            NaN   \n",
      "10058                  NaN                NaN            NaN   \n",
      "10531              13266.0                1.0          868.0   \n",
      "10983              11634.0                0.0            NaN   \n",
      "11129              25865.0                1.0          400.0   \n",
      "13438              17369.0                0.0            NaN   \n",
      "13622              14674.0                0.0            NaN   \n",
      "14094                  NaN                NaN            NaN   \n",
      "14264              13056.0                0.0            NaN   \n",
      "14526              13266.0                1.0          868.0   \n",
      "16591              14153.0                0.0            NaN   \n",
      "16850              17369.0                0.0            NaN   \n",
      "17498              17369.0                0.0            NaN   \n",
      "19452              14780.0                0.0            NaN   \n",
      "20146              23454.0                0.0            NaN   \n",
      "20738                  NaN                NaN            NaN   \n",
      "21273              14674.0                0.0            NaN   \n",
      "21651              11340.0                0.0            NaN   \n",
      "21753              14600.0                2.0          104.0   \n",
      "22656              17369.0                0.0            NaN   \n",
      "23590               4529.0                0.0            NaN   \n",
      "\n",
      "       ponds_around_3000  ponds_nearest  days_exposition  \n",
      "457                  2.0          706.0            727.0  \n",
      "2392                 0.0            NaN             48.0  \n",
      "2846                 1.0          374.0            307.0  \n",
      "3031                 NaN            NaN            231.0  \n",
      "3438                 NaN            NaN             95.0  \n",
      "4617                 1.0          374.0             72.0  \n",
      "4848                 0.0            NaN             29.0  \n",
      "5146                 1.0          492.0            140.0  \n",
      "5187                 NaN            NaN              3.0  \n",
      "5784                 1.0          374.0            127.0  \n",
      "5958                 1.0          652.0             68.0  \n",
      "6030                 1.0          844.0             83.0  \n",
      "7922                 0.0            NaN             14.0  \n",
      "8478                 1.0          130.0              NaN  \n",
      "9023                 NaN            NaN             26.0  \n",
      "10013                1.0          374.0            320.0  \n",
      "10027                1.0          374.0            116.0  \n",
      "10058                NaN            NaN             23.0  \n",
      "10531                0.0            NaN            112.0  \n",
      "10983                0.0            NaN              NaN  \n",
      "11129                1.0          492.0            145.0  \n",
      "13438                1.0          374.0            320.0  \n",
      "13622                1.0          844.0             42.0  \n",
      "14094                NaN            NaN            440.0  \n",
      "14264                0.0            NaN              NaN  \n",
      "14526                0.0            NaN             90.0  \n",
      "16591                0.0            NaN              8.0  \n",
      "16850                1.0          374.0            320.0  \n",
      "17498                1.0          374.0            128.0  \n",
      "19452                0.0            NaN              NaN  \n",
      "20146                0.0            NaN            183.0  \n",
      "20738                NaN            NaN             42.0  \n",
      "21273                1.0          844.0            516.0  \n",
      "21651                0.0            NaN              NaN  \n",
      "21753                0.0            NaN             36.0  \n",
      "22656                1.0          374.0            127.0  \n",
      "23590                0.0            NaN            104.0  \n",
      "\n",
      "[37 rows x 22 columns]\n"
     ]
    }
   ],
   "source": [
    "data['floors_total'] = data['floors_total'].fillna(data['floors_total'].median()) # пропуски заменяем медианным значением\n",
    "data['floors_total'] = data['floors_total'].astype(int) # меняем тип данных на целое число, т.к не бывает дробных этажей\n",
    "print(data.query('floors_total < floor')) # проверяем нет ли этажей квартиры выше чем домов\n",
    "data.loc[(data['floors_total'] < data['floor']), 'floors_total'] = data['floor'] # меняем на этаж \n"
   ]
  },
  {
   "cell_type": "code",
   "execution_count": 12,
   "metadata": {},
   "outputs": [
    {
     "name": "stdout",
     "output_type": "stream",
     "text": [
      "total_images                0\n",
      "last_price                  0\n",
      "total_area                  0\n",
      "first_day_exposition        0\n",
      "rooms                       0\n",
      "ceiling_height           9160\n",
      "floors_total                0\n",
      "living_area              1898\n",
      "floor                       0\n",
      "is_apartment                0\n",
      "studio                      0\n",
      "open_plan                   0\n",
      "kitchen_area             2269\n",
      "balcony                     0\n",
      "locality_name               0\n",
      "airports_nearest         5534\n",
      "city_centers_nearest     5511\n",
      "parks_around_3000        5510\n",
      "parks_nearest           15586\n",
      "ponds_around_3000        5510\n",
      "ponds_nearest           14565\n",
      "days_exposition          3180\n",
      "dtype: int64\n"
     ]
    }
   ],
   "source": [
    "data = data.dropna(subset=['locality_name']) # т.к здесь всего 49 пропусков проще всего будет удалить их, т.к на анализ\n",
    "# не повлияет\n",
    "print(data.isna().sum())"
   ]
  },
  {
   "cell_type": "code",
   "execution_count": 13,
   "metadata": {},
   "outputs": [
    {
     "data": {
      "text/plain": [
       "23650"
      ]
     },
     "execution_count": 13,
     "metadata": {},
     "output_type": "execute_result"
    }
   ],
   "source": [
    "data.shape[0]"
   ]
  },
  {
   "cell_type": "code",
   "execution_count": 14,
   "metadata": {},
   "outputs": [
    {
     "name": "stdout",
     "output_type": "stream",
     "text": [
      "[  1.     1.2    1.75   2.     2.2    2.25   2.3    2.34   2.4    2.45\n",
      "   2.46   2.47   2.48   2.49   2.5    2.51   2.52   2.53   2.54   2.55\n",
      "   2.56   2.57   2.58   2.59   2.6    2.61   2.62   2.63   2.64   2.65\n",
      "   2.66   2.67   2.68   2.69   2.7    2.71   2.72   2.73   2.74   2.75\n",
      "   2.76   2.77   2.78   2.79   2.8    2.81   2.82   2.83   2.84   2.85\n",
      "   2.86   2.87   2.88   2.89   2.9    2.91   2.92   2.93   2.94   2.95\n",
      "   2.96   2.97   2.98   2.99   3.     3.01   3.02   3.03   3.04   3.05\n",
      "   3.06   3.07   3.08   3.09   3.1    3.11   3.12   3.13   3.14   3.15\n",
      "   3.16   3.17   3.18   3.2    3.21   3.22   3.23   3.24   3.25   3.26\n",
      "   3.27   3.28   3.29   3.3    3.31   3.32   3.33   3.34   3.35   3.36\n",
      "   3.37   3.38   3.39   3.4    3.42   3.43   3.44   3.45   3.46   3.47\n",
      "   3.48   3.49   3.5    3.51   3.52   3.53   3.54   3.55   3.56   3.57\n",
      "   3.58   3.59   3.6    3.62   3.63   3.65   3.66   3.67   3.68   3.69\n",
      "   3.7    3.75   3.76   3.78   3.8    3.82   3.83   3.84   3.85   3.86\n",
      "   3.87   3.88   3.9    3.93   3.95   3.98   4.     4.06   4.1    4.14\n",
      "   4.15   4.19   4.2    4.25   4.3    4.37   4.4    4.45   4.5    4.65\n",
      "   4.7    4.8    4.9    5.     5.2    5.3    5.5    5.6    5.8    6.\n",
      "   8.     8.3   10.3   14.    20.    22.6   24.    25.    26.    27.\n",
      "  27.5   32.   100.      nan]\n"
     ]
    }
   ],
   "source": [
    "print(data['ceiling_height'].sort_values().unique())"
   ]
  },
  {
   "cell_type": "code",
   "execution_count": 15,
   "metadata": {},
   "outputs": [
    {
     "name": "stdout",
     "output_type": "stream",
     "text": [
      "[5.8  5.6  5.5  5.3  5.2  5.   4.9  4.8  4.7  4.65 4.5  4.45 4.4  4.37\n",
      " 4.3  4.25 4.2  4.19 4.15 4.14 4.1  4.06 4.   3.98 3.95 3.93 3.9  3.88\n",
      " 3.87 3.86 3.85 3.84 3.83 3.82 3.8  3.78 3.76 3.75 3.7  3.69 3.68 3.67\n",
      " 3.66 3.65 3.63 3.62 3.6  3.59 3.58 3.57 3.56 3.55 3.54 3.53 3.52 3.51\n",
      " 3.5  3.49 3.48 3.47 3.46 3.45 3.44 3.43 3.42 3.4  3.39 3.38 3.37 3.36\n",
      " 3.35 3.34 3.33 3.32 3.31 3.3  3.29 3.28 3.27 3.26 3.25 3.24 3.23 3.22\n",
      " 3.21 3.2  3.18 3.17 3.16 3.15 3.14 3.13 3.12 3.11 3.1  3.09 3.08 3.07\n",
      " 3.06 3.05 3.04 3.03 3.02 3.01 3.   2.99 2.98 2.97 2.96 2.95 2.94 2.93\n",
      " 2.92 2.91 2.9  2.89 2.88 2.87 2.86 2.85 2.84 2.83 2.82 2.81 2.8  2.79\n",
      " 2.78 2.77 2.76 2.75 2.74 2.73 2.72 2.71 2.7  2.69 2.68 2.67 2.66 2.65\n",
      " 2.64 2.63 2.62 2.61 2.6  2.59 2.58 2.57 2.56 2.55 2.54 2.53 2.52 2.51\n",
      " 2.5  2.49 2.48 2.47 2.46 2.45 2.4  2.34 2.3  2.26 2.25]\n"
     ]
    }
   ],
   "source": [
    "data['ceiling_height'] = data['ceiling_height'].fillna(data['ceiling_height'].median()) # пропущенные значения меняем на медиану\n",
    "# т.к среднее не подойдет из-за вброса\n",
    "data.loc[(data['ceiling_height'] > 10), 'ceiling_height'] = data['ceiling_height'] /10 # некоторые данные записаны неверно такие\n",
    "# как 25, 32 метра, поэтому делим их на 10 и получаем стандартные потолки\n",
    "data = data.query('ceiling_height > 2.2 and ceiling_height < 6') # делаем срез и убираем слишком\n",
    "# маленькие и слишком большие потолки\n",
    "print(data['ceiling_height'].sort_values(ascending=False).unique())"
   ]
  },
  {
   "cell_type": "code",
   "execution_count": 16,
   "metadata": {},
   "outputs": [
    {
     "name": "stdout",
     "output_type": "stream",
     "text": [
      "total_images                0\n",
      "last_price                  0\n",
      "total_area                  0\n",
      "first_day_exposition        0\n",
      "rooms                       0\n",
      "ceiling_height              0\n",
      "floors_total                0\n",
      "living_area              1896\n",
      "floor                       0\n",
      "is_apartment                0\n",
      "studio                      0\n",
      "open_plan                   0\n",
      "kitchen_area             2265\n",
      "balcony                     0\n",
      "locality_name               0\n",
      "airports_nearest         5523\n",
      "city_centers_nearest     5500\n",
      "parks_around_3000        5499\n",
      "parks_nearest           15570\n",
      "ponds_around_3000        5499\n",
      "ponds_nearest           14549\n",
      "days_exposition          3176\n",
      "dtype: int64\n"
     ]
    }
   ],
   "source": [
    "print(data.isna().sum())"
   ]
  },
  {
   "cell_type": "code",
   "execution_count": 17,
   "metadata": {},
   "outputs": [
    {
     "name": "stdout",
     "output_type": "stream",
     "text": [
      "Доля жилой площади: 57.2%\n",
      "Доля площади кухни 17.4%\n"
     ]
    }
   ],
   "source": [
    "area = data.loc[:,['living_area','kitchen_area', 'total_area']] # создаем переменную и добавляем туда столбцы с данными по площади\n",
    "area = area.dropna(subset=['living_area','kitchen_area']) # удаляем оттуда пропущенные значения для чистоты полученных данных\n",
    "ratio_living = sum(area['living_area']) / sum(area['total_area']) # вычисляем долю жилой площади от общей\n",
    "ratio_kitchen = sum(area['kitchen_area']) / sum(area['total_area']) # вычисляем долю площади кухни от общей\n",
    "print(f'Доля жилой площади: {ratio_living:.1%}\\nДоля площади кухни {ratio_kitchen:.1%}')"
   ]
  },
  {
   "cell_type": "code",
   "execution_count": 18,
   "metadata": {},
   "outputs": [
    {
     "name": "stdout",
     "output_type": "stream",
     "text": [
      "total_images                0\n",
      "last_price                  0\n",
      "total_area                  0\n",
      "first_day_exposition        0\n",
      "rooms                       0\n",
      "ceiling_height              0\n",
      "floors_total                0\n",
      "living_area                 0\n",
      "floor                       0\n",
      "is_apartment                0\n",
      "studio                      0\n",
      "open_plan                   0\n",
      "kitchen_area                0\n",
      "balcony                     0\n",
      "locality_name               0\n",
      "airports_nearest         5523\n",
      "city_centers_nearest     5500\n",
      "parks_around_3000        5499\n",
      "parks_nearest           15570\n",
      "ponds_around_3000        5499\n",
      "ponds_nearest           14549\n",
      "days_exposition          3176\n",
      "dtype: int64\n"
     ]
    }
   ],
   "source": [
    "for i in data['total_area'].unique(): # проходим по уникальным значениям\n",
    "    data.loc[(data['total_area'] == i) & (data['living_area'].isna()), 'living_area'] = \\\n",
    "    data['total_area'] * ratio_living # и заполняем пропуски в living_area согласно доли от total_area высчитанное ранее \n",
    "    data.loc[(data['total_area'] == i) & (data['kitchen_area'].isna()), 'kitchen_area'] = \\\n",
    "    data['total_area'] * ratio_kitchen # тоже самое заполняем пропуски в living_area согласно доли от total_area высчитанное ранее\n",
    "\n",
    "data['living_area'] = data['living_area'].round(2) # округляем до двух чисел после запятой\n",
    "data['kitchen_area'] = data['kitchen_area'].round(2)\n",
    "print(data.isna().sum())"
   ]
  },
  {
   "cell_type": "code",
   "execution_count": 19,
   "metadata": {},
   "outputs": [
    {
     "data": {
      "text/plain": [
       "array(['Бокситогорск', 'Волосово', 'Волхов', 'Всеволожск', 'Выборг',\n",
       "       'Высоцк', 'Гатчина', 'Зеленогорск', 'Ивангород', 'Каменногорск',\n",
       "       'Кингисепп', 'Кириши', 'Кировск', 'Колпино', 'Коммунар',\n",
       "       'Красное Село', 'Кронштадт', 'Кудрово', 'Лодейное Поле',\n",
       "       'Ломоносов', 'Луга', 'Любань', 'Мурино', 'Никольское',\n",
       "       'Новая Ладога', 'Отрадное', 'Павловск', 'Петергоф', 'Пикалёво',\n",
       "       'Подпорожье', 'Приморск', 'Приозерск', 'Пушкин', 'Санкт-Петербург',\n",
       "       'Светогорск', 'Сертолово', 'Сестрорецк', 'Сланцы', 'Сосновый Бор',\n",
       "       'Сясьстрой', 'Тихвин', 'Тосно', 'Шлиссельбург',\n",
       "       'городской посёлок Большая Ижора', 'городской посёлок Будогощь',\n",
       "       'городской посёлок Важины', 'городской посёлок Виллози',\n",
       "       'городской посёлок Вознесенье', 'городской посёлок Вырица',\n",
       "       'городской посёлок Красный Бор', 'городской посёлок Кузнечное',\n",
       "       'городской посёлок Кузьмоловский', 'городской посёлок Лебяжье',\n",
       "       'городской посёлок Лесогорский', 'городской посёлок Мга',\n",
       "       'городской посёлок Назия', 'городской посёлок Новоселье',\n",
       "       'городской посёлок Павлово', 'городской посёлок Рощино',\n",
       "       'городской посёлок Рябово', 'городской посёлок Свирьстрой',\n",
       "       'городской посёлок Сиверский', 'городской посёлок Советский',\n",
       "       'городской посёлок Тайцы', 'городской посёлок Токсово',\n",
       "       'городской посёлок Ульяновка', 'городской посёлок Форносово',\n",
       "       'городской посёлок Фёдоровское', 'городской посёлок Янино-1',\n",
       "       'городской посёлок имени Морозова',\n",
       "       'городской посёлок имени Свердлова', 'деревня Агалатово',\n",
       "       'деревня Аро', 'деревня Батово', 'деревня Бегуницы',\n",
       "       'деревня Белогорка', 'деревня Большая Вруда',\n",
       "       'деревня Большая Пустомержа', 'деревня Большие Колпаны',\n",
       "       'деревня Большое Рейзино', 'деревня Большой Сабск', 'деревня Бор',\n",
       "       'деревня Борисова Грива', 'деревня Ваганово', 'деревня Вартемяги',\n",
       "       'деревня Вахнова Кара', 'деревня Выскатка', 'деревня Гарболово',\n",
       "       'деревня Глинка', 'деревня Горбунки', 'деревня Гостилицы',\n",
       "       'деревня Заклинье', 'деревня Заневка', 'деревня Зимитицы',\n",
       "       'деревня Извара', 'деревня Иссад', 'деревня Калитино',\n",
       "       'деревня Кальтино', 'деревня Камышовка', 'деревня Каськово',\n",
       "       'деревня Келози', 'деревня Кипень', 'деревня Кисельня',\n",
       "       'деревня Колтуши', 'деревня Коркино', 'деревня Котлы',\n",
       "       'деревня Кривко', 'деревня Кудрово', 'деревня Кузьмолово',\n",
       "       'деревня Курковицы', 'деревня Куровицы', 'деревня Куттузи',\n",
       "       'деревня Лаврики', 'деревня Лаголово', 'деревня Лампово',\n",
       "       'деревня Лесколово', 'деревня Лопухинка', 'деревня Лупполово',\n",
       "       'деревня Малая Романовка', 'деревня Малое Верево',\n",
       "       'деревня Малое Карлино', 'деревня Малые Колпаны',\n",
       "       'деревня Мануйлово', 'деревня Меньково', 'деревня Мины',\n",
       "       'деревня Мистолово', 'деревня Ненимяки', 'деревня Нижние Осельки',\n",
       "       'деревня Нижняя', 'деревня Низино', 'деревня Новое Девяткино',\n",
       "       'деревня Новолисино', 'деревня Нурма', 'деревня Оржицы',\n",
       "       'деревня Парицы', 'деревня Пельгора', 'деревня Пеники',\n",
       "       'деревня Пижма', 'деревня Пикколово', 'деревня Пудомяги',\n",
       "       'деревня Пустынка', 'деревня Пчева', 'деревня Рабитицы',\n",
       "       'деревня Разбегаево', 'деревня Раздолье', 'деревня Разметелево',\n",
       "       'деревня Рапполово', 'деревня Реброво', 'деревня Русско',\n",
       "       'деревня Сижно', 'деревня Снегирёвка', 'деревня Старая',\n",
       "       'деревня Старая Пустошь', 'деревня Старое Хинколово',\n",
       "       'деревня Старополье', 'деревня Старосиверская',\n",
       "       'деревня Старые Бегуницы', 'деревня Суоранда',\n",
       "       'деревня Сяськелево', 'деревня Тарасово', 'деревня Терпилицы',\n",
       "       'деревня Тихковицы', 'деревня Тойворово', 'деревня Торосово',\n",
       "       'деревня Торошковичи', 'деревня Трубников Бор',\n",
       "       'деревня Фалилеево', 'деревня Фёдоровское', 'деревня Хапо-Ое',\n",
       "       'деревня Хязельки', 'деревня Чудской Бор', 'деревня Шпаньково',\n",
       "       'деревня Щеглово', 'деревня Юкки', 'деревня Ялгино',\n",
       "       'деревня Яльгелево', 'деревня Ям-Тесово',\n",
       "       'коттеджный посёлок Кивеннапа Север', 'коттеджный посёлок Лесное',\n",
       "       'коттеджный посёлок Счастье', 'посёлок Александровская',\n",
       "       'посёлок Алексеевка', 'посёлок Аннино', 'посёлок Барышево',\n",
       "       'посёлок Белоостров', 'посёлок Бугры', 'посёлок Возрождение',\n",
       "       'посёлок Войсковицы', 'посёлок Войскорово', 'посёлок Володарское',\n",
       "       'посёлок Высокоключевой', 'посёлок Гаврилово', 'посёлок Гарболово',\n",
       "       'посёлок Гладкое', 'посёлок Глажево', 'посёлок Глебычево',\n",
       "       'посёлок Гончарово', 'посёлок Громово', 'посёлок Дзержинского',\n",
       "       'посёлок Дружноселье', 'посёлок Елизаветино', 'посёлок Жилгородок',\n",
       "       'посёлок Жилпосёлок', 'посёлок Житково', 'посёлок Заводской',\n",
       "       'посёлок Запорожское', 'посёлок Зимитицы', 'посёлок Ильичёво',\n",
       "       'посёлок Калитино', 'посёлок Каложицы', 'посёлок Кикерино',\n",
       "       'посёлок Кингисеппский', 'посёлок Кирпичное', 'посёлок Кобралово',\n",
       "       'посёлок Кобринское', 'посёлок Коммунары', 'посёлок Коробицыно',\n",
       "       'посёлок Котельский', 'посёлок Красная Долина',\n",
       "       'посёлок Красносельское', 'посёлок Левашово', 'посёлок Ленинское',\n",
       "       'посёлок Лесное', 'посёлок Лисий Нос', 'посёлок Лукаши',\n",
       "       'посёлок Любань', 'посёлок Мельниково', 'посёлок Металлострой',\n",
       "       'посёлок Мичуринское', 'посёлок Молодцово', 'посёлок Молодёжное',\n",
       "       'посёлок Мурино', 'посёлок Мыза-Ивановка', 'посёлок Новогорелово',\n",
       "       'посёлок Новый Свет', 'посёлок Новый Учхоз', 'посёлок Оредеж',\n",
       "       'посёлок Пансионат Зелёный Бор', 'посёлок Парголово',\n",
       "       'посёлок Первомайское', 'посёлок Перово', 'посёлок Песочный',\n",
       "       'посёлок Петро-Славянка', 'посёлок Петровское',\n",
       "       'посёлок Платформа 69-й километр', 'посёлок Плодовое',\n",
       "       'посёлок Плоское', 'посёлок Победа', 'посёлок Поляны',\n",
       "       'посёлок Понтонный', 'посёлок Почап', 'посёлок Починок',\n",
       "       'посёлок Пригородный', 'посёлок Пудость', 'посёлок Пушное',\n",
       "       'посёлок Пчевжа', 'посёлок Рабитицы', 'посёлок Репино',\n",
       "       'посёлок Романовка', 'посёлок Ромашки', 'посёлок Ропша',\n",
       "       'посёлок Рябово', 'посёлок Сапёрное', 'посёлок Сапёрный',\n",
       "       'посёлок Севастьяново', 'посёлок Селезнёво', 'посёлок Сельцо',\n",
       "       'посёлок Семиозерье', 'посёлок Семрино', 'посёлок Серебрянский',\n",
       "       'посёлок Совхозный', 'посёлок Сосново', 'посёлок Старая Малукса',\n",
       "       'посёлок Стеклянный', 'посёлок Стрельна', 'посёлок Суйда',\n",
       "       'посёлок Сумино', 'посёлок Суходолье', 'посёлок Тельмана',\n",
       "       'посёлок Терволово', 'посёлок Торковичи', 'посёлок Торфяное',\n",
       "       'посёлок Тёсово-4', 'посёлок Углово', 'посёлок Усть-Ижора',\n",
       "       'посёлок Усть-Луга', 'посёлок Ушаки', 'посёлок Форт Красная Горка',\n",
       "       'посёлок Цвелодубово', 'посёлок Цвылёво', 'посёлок Шугозеро',\n",
       "       'посёлок Шушары', 'посёлок Щеглово',\n",
       "       'посёлок городского типа Большая Ижора',\n",
       "       'посёлок городского типа Вырица',\n",
       "       'посёлок городского типа Дружная Горка',\n",
       "       'посёлок городского типа Дубровка',\n",
       "       'посёлок городского типа Ефимовский',\n",
       "       'посёлок городского типа Кондратьево',\n",
       "       'посёлок городского типа Красный Бор',\n",
       "       'посёлок городского типа Кузьмоловский',\n",
       "       'посёлок городского типа Лебяжье',\n",
       "       'посёлок городского типа Лесогорский',\n",
       "       'посёлок городского типа Назия',\n",
       "       'посёлок городского типа Никольский',\n",
       "       'посёлок городского типа Приладожский',\n",
       "       'посёлок городского типа Рахья', 'посёлок городского типа Рощино',\n",
       "       'посёлок городского типа Рябово',\n",
       "       'посёлок городского типа Синявино',\n",
       "       'посёлок городского типа Советский',\n",
       "       'посёлок городского типа Токсово',\n",
       "       'посёлок городского типа Форносово',\n",
       "       'посёлок городского типа имени Свердлова',\n",
       "       'посёлок станции Вещево', 'посёлок станции Громово',\n",
       "       'посёлок станции Корнево', 'посёлок станции Лужайка',\n",
       "       'посёлок станции Приветнинское', 'посёлок станции Свирь',\n",
       "       'садовое товарищество Лесная Поляна',\n",
       "       'садовое товарищество Новая Ропша',\n",
       "       'садовое товарищество Приладожский', 'садовое товарищество Рахья',\n",
       "       'садовое товарищество Садко', 'село Копорье', 'село Никольское',\n",
       "       'село Павлово', 'село Паша', 'село Путилово', 'село Рождествено',\n",
       "       'село Русско-Высоцкое', 'село Старая Ладога', 'село Шум'],\n",
       "      dtype=object)"
      ]
     },
     "execution_count": 19,
     "metadata": {},
     "output_type": "execute_result"
    }
   ],
   "source": [
    "name_dict = {'городской поселок' : 'городской посёлок', 'коттеджный поселок' : 'коттеджный посёлок', 'поселок' : 'посёлок',\n",
    "            'поселок городского типа' : 'городской посёлок', 'посёлок городского типа' : 'городской посёлок', \n",
    "            'посёлок при железнодорожной станции' : 'посёлок станции', 'поселок станции' : 'посёлок станции',\n",
    "            'садоводческое некоммерческое товарищество' : 'садовое товарищество', \n",
    "             'городской посёлок городского типа' : 'городской посёлок', \n",
    "            'городской городской городской городской городской посёлок Рябово' : 'городской посёлок Рябово',\n",
    "            'городской городской городской городской посёлок Рябово' : 'городской посёлок Рябово'}\n",
    "# создаем словарь для переименования неявных дубликатов\n",
    "data['locality_name'] = data['locality_name'].replace(name_dict, regex=True) # делаем замену неявных дубликатов, используя наш словарь\n",
    "data['locality_name'].sort_values().unique()"
   ]
  },
  {
   "cell_type": "code",
   "execution_count": 20,
   "metadata": {},
   "outputs": [
    {
     "data": {
      "image/png": "[encoded data removed]",
      "text/plain": [
       "<Figure size 432x288 with 1 Axes>"
      ]
     },
     "metadata": {
      "needs_background": "light"
     },
     "output_type": "display_data"
    },
    {
     "name": "stdout",
     "output_type": "stream",
     "text": [
      "count    2.343200e+04\n",
      "mean     5.895137e+06\n",
      "std      4.552000e+06\n",
      "min      4.300000e+05\n",
      "25%      3.400000e+06\n",
      "50%      4.600000e+06\n",
      "75%      6.700000e+06\n",
      "max      3.999000e+07\n",
      "Name: last_price, dtype: float64\n",
      "430000.0\n",
      "39990000.0\n"
     ]
    },
    {
     "data": {
      "image/png": "[encoded data removed]",
      "text/plain": [
       "<Figure size 432x288 with 1 Axes>"
      ]
     },
     "metadata": {
      "needs_background": "light"
     },
     "output_type": "display_data"
    },
    {
     "data": {
      "text/plain": [
       "23432"
      ]
     },
     "execution_count": 20,
     "metadata": {},
     "output_type": "execute_result"
    }
   ],
   "source": [
    "data.boxplot(column='last_price')\n",
    "plt.show()\n",
    "data = data.query('12190 < last_price < 40000000') # убираем аномалии\n",
    "print(data['last_price'].describe())\n",
    "print(data['last_price'].min()) # выделяю отдельно чтобы видно было полностью число\n",
    "print(data['last_price'].max()) # выделяю отдельно чтобы видно было полностью число\n",
    "data.boxplot(column='last_price')\n",
    "plt.show()\n",
    "data.shape[0] # проверяем оставшееся"
   ]
  },
  {
   "cell_type": "code",
   "execution_count": 21,
   "metadata": {},
   "outputs": [
    {
     "data": {
      "image/png": "[encoded data removed]",
      "text/plain": [
       "<Figure size 432x288 with 1 Axes>"
      ]
     },
     "metadata": {
      "needs_background": "light"
     },
     "output_type": "display_data"
    },
    {
     "name": "stdout",
     "output_type": "stream",
     "text": [
      "count    23424.000000\n",
      "mean         2.047302\n",
      "std          1.026931\n",
      "min          0.000000\n",
      "25%          1.000000\n",
      "50%          2.000000\n",
      "75%          3.000000\n",
      "max          9.000000\n",
      "Name: rooms, dtype: float64\n"
     ]
    },
    {
     "data": {
      "image/png": "[encoded data removed]",
      "text/plain": [
       "<Figure size 432x288 with 1 Axes>"
      ]
     },
     "metadata": {
      "needs_background": "light"
     },
     "output_type": "display_data"
    },
    {
     "data": {
      "text/plain": [
       "23424"
      ]
     },
     "execution_count": 21,
     "metadata": {},
     "output_type": "execute_result"
    }
   ],
   "source": [
    "data.boxplot(column='rooms')\n",
    "plt.show()\n",
    "data = data.query('rooms < 10') # убираем аномалии\n",
    "print(data['rooms'].describe())\n",
    "data.boxplot(column='rooms')\n",
    "plt.show()\n",
    "data.shape[0] # проверяем оставшееся"
   ]
  },
  {
   "cell_type": "code",
   "execution_count": 22,
   "metadata": {},
   "outputs": [
    {
     "data": {
      "image/png": "[encoded data removed]",
      "text/plain": [
       "<Figure size 432x288 with 1 Axes>"
      ]
     },
     "metadata": {
      "needs_background": "light"
     },
     "output_type": "display_data"
    },
    {
     "name": "stdout",
     "output_type": "stream",
     "text": [
      "count    23369.000000\n",
      "mean        58.597012\n",
      "std         28.251297\n",
      "min         20.100000\n",
      "25%         40.000000\n",
      "50%         52.000000\n",
      "75%         69.000000\n",
      "max        297.500000\n",
      "Name: total_area, dtype: float64\n"
     ]
    },
    {
     "data": {
      "image/png": "[encoded data removed]",
      "text/plain": [
       "<Figure size 432x288 with 1 Axes>"
      ]
     },
     "metadata": {
      "needs_background": "light"
     },
     "output_type": "display_data"
    },
    {
     "data": {
      "text/plain": [
       "23369"
      ]
     },
     "execution_count": 22,
     "metadata": {},
     "output_type": "execute_result"
    }
   ],
   "source": [
    "data.boxplot(column='total_area')\n",
    "plt.show()\n",
    "data = data.query('20 < total_area < 300') # убираем аномалии\n",
    "print(data['total_area'].describe())\n",
    "data.boxplot(column='total_area')\n",
    "plt.show()\n",
    "data.shape[0] # проверяем оставшееся"
   ]
  },
  {
   "cell_type": "code",
   "execution_count": 23,
   "metadata": {},
   "outputs": [
    {
     "data": {
      "image/png": "[encoded data removed]",
      "text/plain": [
       "<Figure size 432x288 with 1 Axes>"
      ]
     },
     "metadata": {
      "needs_background": "light"
     },
     "output_type": "display_data"
    },
    {
     "name": "stdout",
     "output_type": "stream",
     "text": [
      "count    23264.000000\n",
      "mean        10.310885\n",
      "std          5.208009\n",
      "min          4.010000\n",
      "25%          7.000000\n",
      "50%          9.000000\n",
      "75%         11.900000\n",
      "max         65.000000\n",
      "Name: kitchen_area, dtype: float64\n"
     ]
    },
    {
     "data": {
      "image/png": "[encoded data removed]",
      "text/plain": [
       "<Figure size 432x288 with 1 Axes>"
      ]
     },
     "metadata": {
      "needs_background": "light"
     },
     "output_type": "display_data"
    },
    {
     "data": {
      "text/plain": [
       "23264"
      ]
     },
     "execution_count": 23,
     "metadata": {},
     "output_type": "execute_result"
    }
   ],
   "source": [
    "data.boxplot(column='kitchen_area')\n",
    "plt.show()\n",
    "data = data.query('4 < kitchen_area < 70') # убираем аномалии\n",
    "print(data['kitchen_area'].describe())\n",
    "data.boxplot(column='kitchen_area')\n",
    "plt.show()\n",
    "data.shape[0] # проверяем оставшееся"
   ]
  },
  {
   "cell_type": "code",
   "execution_count": 24,
   "metadata": {},
   "outputs": [
    {
     "data": {
      "image/png": "[encoded data removed]",
      "text/plain": [
       "<Figure size 432x288 with 1 Axes>"
      ]
     },
     "metadata": {
      "needs_background": "light"
     },
     "output_type": "display_data"
    },
    {
     "name": "stdout",
     "output_type": "stream",
     "text": [
      "count    21276.000000\n",
      "mean        35.407948\n",
      "std         18.214536\n",
      "min         16.020000\n",
      "25%         21.170000\n",
      "50%         31.000000\n",
      "75%         43.000000\n",
      "max        193.500000\n",
      "Name: living_area, dtype: float64\n"
     ]
    },
    {
     "data": {
      "image/png": "[encoded data removed]",
      "text/plain": [
       "<Figure size 432x288 with 1 Axes>"
      ]
     },
     "metadata": {
      "needs_background": "light"
     },
     "output_type": "display_data"
    },
    {
     "data": {
      "text/plain": [
       "21276"
      ]
     },
     "execution_count": 24,
     "metadata": {},
     "output_type": "execute_result"
    }
   ],
   "source": [
    "data.boxplot(column='living_area')\n",
    "plt.show()\n",
    "data = data.query('16 < living_area < 200') # убираем аномалии\n",
    "print(data['living_area'].describe())\n",
    "data.boxplot(column='living_area')\n",
    "plt.show()\n",
    "data.shape[0] # проверяем оставшееся"
   ]
  },
  {
   "cell_type": "code",
   "execution_count": 25,
   "metadata": {},
   "outputs": [
    {
     "name": "stdout",
     "output_type": "stream",
     "text": [
      "0.897759399130765\n"
     ]
    }
   ],
   "source": [
    "print(data.shape[0] / old_data.shape[0])"
   ]
  },
  {
   "cell_type": "markdown",
   "metadata": {},
   "source": [
    "### Посчитайте и добавьте в таблицу новые столбцы"
   ]
  },
  {
   "cell_type": "code",
   "execution_count": 26,
   "metadata": {},
   "outputs": [
    {
     "name": "stdout",
     "output_type": "stream",
     "text": [
      "100000.00    224\n",
      "83333.33      63\n",
      "75000.00      53\n",
      "80000.00      49\n",
      "125000.00     48\n",
      "            ... \n",
      "113452.19      1\n",
      "95046.95       1\n",
      "126829.27      1\n",
      "171818.18      1\n",
      "75279.46       1\n",
      "Name: price_one_m2, Length: 13516, dtype: int64\n"
     ]
    }
   ],
   "source": [
    "data['price_one_m2'] = (data['last_price'] / data['total_area']).round(2)\n",
    "print(data['price_one_m2'].value_counts())"
   ]
  },
  {
   "cell_type": "code",
   "execution_count": 27,
   "metadata": {},
   "outputs": [
    {
     "name": "stdout",
     "output_type": "stream",
     "text": [
      "3    3858\n",
      "1    3769\n",
      "4    3607\n",
      "2    3583\n",
      "0    3183\n",
      "5    1741\n",
      "6    1535\n",
      "Name: weekday_exposition, dtype: int64\n"
     ]
    }
   ],
   "source": [
    "data['weekday_exposition'] = data['first_day_exposition'].dt.weekday\n",
    "print(data['weekday_exposition'].value_counts())"
   ]
  },
  {
   "cell_type": "code",
   "execution_count": 28,
   "metadata": {},
   "outputs": [
    {
     "name": "stdout",
     "output_type": "stream",
     "text": [
      "2     2405\n",
      "3     2365\n",
      "11    2145\n",
      "4     2143\n",
      "10    1898\n",
      "9     1751\n",
      "8     1574\n",
      "6     1557\n",
      "7     1494\n",
      "12    1478\n",
      "1     1327\n",
      "5     1139\n",
      "Name: month_exposition, dtype: int64\n"
     ]
    }
   ],
   "source": [
    "data['month_exposition'] = data['first_day_exposition'].dt.month\n",
    "print(data['month_exposition'].value_counts())"
   ]
  },
  {
   "cell_type": "code",
   "execution_count": 29,
   "metadata": {},
   "outputs": [
    {
     "name": "stdout",
     "output_type": "stream",
     "text": [
      "2018    7651\n",
      "2017    7344\n",
      "2019    2623\n",
      "2016    2480\n",
      "2015    1051\n",
      "2014     127\n",
      "Name: year_exposition, dtype: int64\n"
     ]
    }
   ],
   "source": [
    "data['year_exposition'] = data['first_day_exposition'].dt.year\n",
    "print(data['year_exposition'].value_counts())"
   ]
  },
  {
   "cell_type": "code",
   "execution_count": 30,
   "metadata": {},
   "outputs": [
    {
     "name": "stdout",
     "output_type": "stream",
     "text": [
      "другой       15517\n",
      "последний     3083\n",
      "первый        2676\n",
      "Name: floor_type, dtype: int64\n"
     ]
    }
   ],
   "source": [
    "def floor_type(floor):\n",
    "    if floor['floor'] == 1:\n",
    "        return 'первый'\n",
    "    if floor['floor'] == floor['floors_total']:\n",
    "        return 'последний'\n",
    "    elif floor['floor']:\n",
    "        return 'другой'\n",
    "data['floor_type'] = data.apply(floor_type, axis=1)\n",
    "# создаем функцию для определения типа этажа\n",
    "print(data['floor_type'].value_counts()) # проверяем"
   ]
  },
  {
   "cell_type": "code",
   "execution_count": 31,
   "metadata": {},
   "outputs": [
    {
     "name": "stdout",
     "output_type": "stream",
     "text": [
      "12.0    1441\n",
      "15.0    1441\n",
      "13.0    1355\n",
      "14.0    1169\n",
      "16.0    1131\n",
      "        ... \n",
      "63.0       1\n",
      "61.0       1\n",
      "60.0       1\n",
      "45.0       1\n",
      "62.0       1\n",
      "Name: city_centers_nearest_km, Length: 61, dtype: int64\n"
     ]
    }
   ],
   "source": [
    "data['city_centers_nearest_km'] = (data['city_centers_nearest'] / 1000).round() # создаем новым столбец расстояние до центра\n",
    "# города с данными в км \n",
    "print(data['city_centers_nearest_km'].value_counts())"
   ]
  },
  {
   "cell_type": "code",
   "execution_count": 32,
   "metadata": {},
   "outputs": [
    {
     "name": "stdout",
     "output_type": "stream",
     "text": [
      "<class 'pandas.core.frame.DataFrame'>\n",
      "Int64Index: 21276 entries, 0 to 23697\n",
      "Data columns (total 28 columns):\n",
      " #   Column                   Non-Null Count  Dtype         \n",
      "---  ------                   --------------  -----         \n",
      " 0   total_images             21276 non-null  int64         \n",
      " 1   last_price               21276 non-null  float64       \n",
      " 2   total_area               21276 non-null  float64       \n",
      " 3   first_day_exposition     21276 non-null  datetime64[ns]\n",
      " 4   rooms                    21276 non-null  int64         \n",
      " 5   ceiling_height           21276 non-null  float64       \n",
      " 6   floors_total             21276 non-null  int64         \n",
      " 7   living_area              21276 non-null  float64       \n",
      " 8   floor                    21276 non-null  int64         \n",
      " 9   is_apartment             21276 non-null  bool          \n",
      " 10  studio                   21276 non-null  bool          \n",
      " 11  open_plan                21276 non-null  bool          \n",
      " 12  kitchen_area             21276 non-null  float64       \n",
      " 13  balcony                  21276 non-null  int64         \n",
      " 14  locality_name            21276 non-null  object        \n",
      " 15  airports_nearest         16413 non-null  float64       \n",
      " 16  city_centers_nearest     16433 non-null  float64       \n",
      " 17  parks_around_3000        16434 non-null  float64       \n",
      " 18  parks_nearest            7354 non-null   float64       \n",
      " 19  ponds_around_3000        16434 non-null  float64       \n",
      " 20  ponds_nearest            8203 non-null   float64       \n",
      " 21  days_exposition          18328 non-null  float64       \n",
      " 22  price_one_m2             21276 non-null  float64       \n",
      " 23  weekday_exposition       21276 non-null  int64         \n",
      " 24  month_exposition         21276 non-null  int64         \n",
      " 25  year_exposition          21276 non-null  int64         \n",
      " 26  floor_type               21276 non-null  object        \n",
      " 27  city_centers_nearest_km  16433 non-null  float64       \n",
      "dtypes: bool(3), datetime64[ns](1), float64(14), int64(8), object(2)\n",
      "memory usage: 4.3+ MB\n"
     ]
    }
   ],
   "source": [
    "data.info() # проверяем что у нас осталось"
   ]
  },
  {
   "cell_type": "markdown",
   "metadata": {},
   "source": [
    "### Проведите исследовательский анализ данных"
   ]
  },
  {
   "cell_type": "code",
   "execution_count": 33,
   "metadata": {},
   "outputs": [
    {
     "name": "stdout",
     "output_type": "stream",
     "text": [
      "count    21276.000000\n",
      "mean        60.912776\n",
      "std         28.291562\n",
      "min         23.060000\n",
      "25%         42.400000\n",
      "50%         54.500000\n",
      "75%         71.000000\n",
      "max        297.500000\n",
      "Name: total_area, dtype: float64\n"
     ]
    },
    {
     "data": {
      "text/plain": [
       "<AxesSubplot:>"
      ]
     },
     "execution_count": 33,
     "metadata": {},
     "output_type": "execute_result"
    },
    {
     "data": {
      "image/png": "[encoded data removed]",
      "text/plain": [
       "<Figure size 432x288 with 1 Axes>"
      ]
     },
     "metadata": {
      "needs_background": "light"
     },
     "output_type": "display_data"
    }
   ],
   "source": [
    "print(data['total_area'].describe())\n",
    "data['total_area'].hist(bins=100)"
   ]
  },
  {
   "cell_type": "code",
   "execution_count": 34,
   "metadata": {},
   "outputs": [
    {
     "data": {
      "text/html": [
       "<div>\n",
       "<style scoped>\n",
       "    .dataframe tbody tr th:only-of-type {\n",
       "        vertical-align: middle;\n",
       "    }\n",
       "\n",
       "    .dataframe tbody tr th {\n",
       "        vertical-align: top;\n",
       "    }\n",
       "\n",
       "    .dataframe thead tr th {\n",
       "        text-align: left;\n",
       "    }\n",
       "\n",
       "    .dataframe thead tr:last-of-type th {\n",
       "        text-align: right;\n",
       "    }\n",
       "</style>\n",
       "<table border=\"1\" class=\"dataframe\">\n",
       "  <thead>\n",
       "    <tr>\n",
       "      <th></th>\n",
       "      <th>mean</th>\n",
       "      <th>count</th>\n",
       "    </tr>\n",
       "    <tr>\n",
       "      <th></th>\n",
       "      <th>total_area</th>\n",
       "      <th>total_area</th>\n",
       "    </tr>\n",
       "    <tr>\n",
       "      <th>studio</th>\n",
       "      <th></th>\n",
       "      <th></th>\n",
       "    </tr>\n",
       "  </thead>\n",
       "  <tbody>\n",
       "    <tr>\n",
       "      <th>False</th>\n",
       "      <td>61.052602</td>\n",
       "      <td>21180</td>\n",
       "    </tr>\n",
       "    <tr>\n",
       "      <th>True</th>\n",
       "      <td>30.063750</td>\n",
       "      <td>96</td>\n",
       "    </tr>\n",
       "  </tbody>\n",
       "</table>\n",
       "</div>"
      ],
      "text/plain": [
       "             mean      count\n",
       "       total_area total_area\n",
       "studio                      \n",
       "False   61.052602      21180\n",
       "True    30.063750         96"
      ]
     },
     "execution_count": 34,
     "metadata": {},
     "output_type": "execute_result"
    }
   ],
   "source": [
    "data.pivot_table(index='studio', values='total_area', aggfunc=['mean','count'])"
   ]
  },
  {
   "cell_type": "markdown",
   "metadata": {},
   "source": [
    "Проверяем маленькие по площади недвижимость, видим что среднее по студии идем 30 квадратов, по остальным 63 квадрата, что в полне можно считать за нормальные показатели"
   ]
  },
  {
   "cell_type": "code",
   "execution_count": 35,
   "metadata": {},
   "outputs": [
    {
     "data": {
      "text/html": [
       "<div>\n",
       "<style scoped>\n",
       "    .dataframe tbody tr th:only-of-type {\n",
       "        vertical-align: middle;\n",
       "    }\n",
       "\n",
       "    .dataframe tbody tr th {\n",
       "        vertical-align: top;\n",
       "    }\n",
       "\n",
       "    .dataframe thead tr th {\n",
       "        text-align: left;\n",
       "    }\n",
       "\n",
       "    .dataframe thead tr:last-of-type th {\n",
       "        text-align: right;\n",
       "    }\n",
       "</style>\n",
       "<table border=\"1\" class=\"dataframe\">\n",
       "  <thead>\n",
       "    <tr>\n",
       "      <th></th>\n",
       "      <th>mean</th>\n",
       "      <th>count</th>\n",
       "    </tr>\n",
       "    <tr>\n",
       "      <th></th>\n",
       "      <th>total_area</th>\n",
       "      <th>total_area</th>\n",
       "    </tr>\n",
       "    <tr>\n",
       "      <th>rooms</th>\n",
       "      <th></th>\n",
       "      <th></th>\n",
       "    </tr>\n",
       "  </thead>\n",
       "  <tbody>\n",
       "    <tr>\n",
       "      <th>0</th>\n",
       "      <td>29.406615</td>\n",
       "      <td>130</td>\n",
       "    </tr>\n",
       "    <tr>\n",
       "      <th>1</th>\n",
       "      <td>38.686651</td>\n",
       "      <td>6016</td>\n",
       "    </tr>\n",
       "    <tr>\n",
       "      <th>2</th>\n",
       "      <td>55.792355</td>\n",
       "      <td>7861</td>\n",
       "    </tr>\n",
       "    <tr>\n",
       "      <th>3</th>\n",
       "      <td>76.884762</td>\n",
       "      <td>5731</td>\n",
       "    </tr>\n",
       "    <tr>\n",
       "      <th>4</th>\n",
       "      <td>103.113872</td>\n",
       "      <td>1126</td>\n",
       "    </tr>\n",
       "    <tr>\n",
       "      <th>5</th>\n",
       "      <td>143.475851</td>\n",
       "      <td>282</td>\n",
       "    </tr>\n",
       "    <tr>\n",
       "      <th>6</th>\n",
       "      <td>173.068293</td>\n",
       "      <td>82</td>\n",
       "    </tr>\n",
       "    <tr>\n",
       "      <th>7</th>\n",
       "      <td>189.957895</td>\n",
       "      <td>38</td>\n",
       "    </tr>\n",
       "    <tr>\n",
       "      <th>8</th>\n",
       "      <td>213.842857</td>\n",
       "      <td>7</td>\n",
       "    </tr>\n",
       "    <tr>\n",
       "      <th>9</th>\n",
       "      <td>244.966667</td>\n",
       "      <td>3</td>\n",
       "    </tr>\n",
       "  </tbody>\n",
       "</table>\n",
       "</div>"
      ],
      "text/plain": [
       "             mean      count\n",
       "       total_area total_area\n",
       "rooms                       \n",
       "0       29.406615        130\n",
       "1       38.686651       6016\n",
       "2       55.792355       7861\n",
       "3       76.884762       5731\n",
       "4      103.113872       1126\n",
       "5      143.475851        282\n",
       "6      173.068293         82\n",
       "7      189.957895         38\n",
       "8      213.842857          7\n",
       "9      244.966667          3"
      ]
     },
     "execution_count": 35,
     "metadata": {},
     "output_type": "execute_result"
    }
   ],
   "source": [
    "data.pivot_table(index='rooms', values='total_area', aggfunc=['mean','count'])"
   ]
  },
  {
   "cell_type": "code",
   "execution_count": 36,
   "metadata": {},
   "outputs": [
    {
     "data": {
      "text/html": [
       "<div>\n",
       "<style scoped>\n",
       "    .dataframe tbody tr th:only-of-type {\n",
       "        vertical-align: middle;\n",
       "    }\n",
       "\n",
       "    .dataframe tbody tr th {\n",
       "        vertical-align: top;\n",
       "    }\n",
       "\n",
       "    .dataframe thead tr th {\n",
       "        text-align: left;\n",
       "    }\n",
       "\n",
       "    .dataframe thead tr:last-of-type th {\n",
       "        text-align: right;\n",
       "    }\n",
       "</style>\n",
       "<table border=\"1\" class=\"dataframe\">\n",
       "  <thead>\n",
       "    <tr>\n",
       "      <th></th>\n",
       "      <th>mean</th>\n",
       "      <th>count</th>\n",
       "    </tr>\n",
       "    <tr>\n",
       "      <th></th>\n",
       "      <th>studio</th>\n",
       "      <th>studio</th>\n",
       "    </tr>\n",
       "    <tr>\n",
       "      <th>rooms</th>\n",
       "      <th></th>\n",
       "      <th></th>\n",
       "    </tr>\n",
       "  </thead>\n",
       "  <tbody>\n",
       "    <tr>\n",
       "      <th>0</th>\n",
       "      <td>0.684615</td>\n",
       "      <td>130</td>\n",
       "    </tr>\n",
       "  </tbody>\n",
       "</table>\n",
       "</div>"
      ],
      "text/plain": [
       "           mean  count\n",
       "         studio studio\n",
       "rooms                 \n",
       "0      0.684615    130"
      ]
     },
     "execution_count": 36,
     "metadata": {},
     "output_type": "execute_result"
    }
   ],
   "source": [
    "data.query('rooms == 0').pivot_table(index='rooms', values='studio', aggfunc=['mean','count'])"
   ]
  },
  {
   "cell_type": "markdown",
   "metadata": {},
   "source": [
    "Также смотрим расклад общей площади в зависимости от кол-ва комнат и видим что в подавляющем большинстве 1-3 комнат, что также можно считать в полне нормальными данными. Данные с 0 комнатами относятся к студиям."
   ]
  },
  {
   "cell_type": "code",
   "execution_count": 37,
   "metadata": {},
   "outputs": [
    {
     "data": {
      "text/plain": [
       "<AxesSubplot:>"
      ]
     },
     "execution_count": 37,
     "metadata": {},
     "output_type": "execute_result"
    },
    {
     "data": {
      "image/png": "[encoded data removed]",
      "text/plain": [
       "<Figure size 432x288 with 1 Axes>"
      ]
     },
     "metadata": {
      "needs_background": "light"
     },
     "output_type": "display_data"
    }
   ],
   "source": [
    "data['total_area'].hist(bins=100, range=(0,250)) "
   ]
  },
  {
   "cell_type": "markdown",
   "metadata": {},
   "source": [
    "Делаем гистограмму исключающую слишком большие значения и видим в полне стандартные данные."
   ]
  },
  {
   "cell_type": "code",
   "execution_count": 38,
   "metadata": {},
   "outputs": [
    {
     "name": "stdout",
     "output_type": "stream",
     "text": [
      "count    21276.000000\n",
      "mean        35.407948\n",
      "std         18.214536\n",
      "min         16.020000\n",
      "25%         21.170000\n",
      "50%         31.000000\n",
      "75%         43.000000\n",
      "max        193.500000\n",
      "Name: living_area, dtype: float64\n"
     ]
    },
    {
     "data": {
      "image/png": "[encoded data removed]",
      "text/plain": [
       "<Figure size 432x288 with 1 Axes>"
      ]
     },
     "metadata": {
      "needs_background": "light"
     },
     "output_type": "display_data"
    },
    {
     "data": {
      "text/plain": [
       "<AxesSubplot:>"
      ]
     },
     "execution_count": 38,
     "metadata": {},
     "output_type": "execute_result"
    },
    {
     "data": {
      "image/png": "[encoded data removed]",
      "text/plain": [
       "<Figure size 432x288 with 1 Axes>"
      ]
     },
     "metadata": {
      "needs_background": "light"
     },
     "output_type": "display_data"
    }
   ],
   "source": [
    "print(data['living_area'].describe())\n",
    "data['living_area'].hist(bins=50) \n",
    "plt.show()\n",
    "data['living_area'].hist(bins=40, range=(0,100))"
   ]
  },
  {
   "cell_type": "code",
   "execution_count": 39,
   "metadata": {},
   "outputs": [
    {
     "data": {
      "text/html": [
       "<div>\n",
       "<style scoped>\n",
       "    .dataframe tbody tr th:only-of-type {\n",
       "        vertical-align: middle;\n",
       "    }\n",
       "\n",
       "    .dataframe tbody tr th {\n",
       "        vertical-align: top;\n",
       "    }\n",
       "\n",
       "    .dataframe thead tr th {\n",
       "        text-align: left;\n",
       "    }\n",
       "\n",
       "    .dataframe thead tr:last-of-type th {\n",
       "        text-align: right;\n",
       "    }\n",
       "</style>\n",
       "<table border=\"1\" class=\"dataframe\">\n",
       "  <thead>\n",
       "    <tr>\n",
       "      <th></th>\n",
       "      <th>median</th>\n",
       "      <th>count</th>\n",
       "    </tr>\n",
       "    <tr>\n",
       "      <th></th>\n",
       "      <th>living_area</th>\n",
       "      <th>living_area</th>\n",
       "    </tr>\n",
       "    <tr>\n",
       "      <th>studio</th>\n",
       "      <th></th>\n",
       "      <th></th>\n",
       "    </tr>\n",
       "  </thead>\n",
       "  <tbody>\n",
       "    <tr>\n",
       "      <th>False</th>\n",
       "      <td>31.00</td>\n",
       "      <td>21180</td>\n",
       "    </tr>\n",
       "    <tr>\n",
       "      <th>True</th>\n",
       "      <td>18.95</td>\n",
       "      <td>96</td>\n",
       "    </tr>\n",
       "  </tbody>\n",
       "</table>\n",
       "</div>"
      ],
      "text/plain": [
       "            median       count\n",
       "       living_area living_area\n",
       "studio                        \n",
       "False        31.00       21180\n",
       "True         18.95          96"
      ]
     },
     "execution_count": 39,
     "metadata": {},
     "output_type": "execute_result"
    }
   ],
   "source": [
    "data.pivot_table(index='studio', values='living_area', aggfunc=['median','count'])"
   ]
  },
  {
   "cell_type": "markdown",
   "metadata": {},
   "source": [
    "Пики у нас 18-35 кв.м. Что в полне можно считать нормальным учитывая что у нас превалируют 1 и 2 комнатные квартиры."
   ]
  },
  {
   "cell_type": "code",
   "execution_count": 40,
   "metadata": {},
   "outputs": [
    {
     "name": "stdout",
     "output_type": "stream",
     "text": [
      "count    21276.000000\n",
      "mean        10.358069\n",
      "std          5.308454\n",
      "min          4.010000\n",
      "25%          7.000000\n",
      "50%          9.000000\n",
      "75%         12.000000\n",
      "max         65.000000\n",
      "Name: kitchen_area, dtype: float64\n"
     ]
    },
    {
     "data": {
      "text/plain": [
       "<AxesSubplot:>"
      ]
     },
     "execution_count": 40,
     "metadata": {},
     "output_type": "execute_result"
    },
    {
     "data": {
      "image/png": "[encoded data removed]",
      "text/plain": [
       "<Figure size 432x288 with 1 Axes>"
      ]
     },
     "metadata": {
      "needs_background": "light"
     },
     "output_type": "display_data"
    }
   ],
   "source": [
    "print(data['kitchen_area'].describe())\n",
    "data['kitchen_area'].hist(bins=30) "
   ]
  },
  {
   "cell_type": "markdown",
   "metadata": {},
   "source": [
    "Здесь у нас пики 7-12 кв.м. что вполне нормально."
   ]
  },
  {
   "cell_type": "code",
   "execution_count": 41,
   "metadata": {},
   "outputs": [
    {
     "name": "stdout",
     "output_type": "stream",
     "text": [
      "count    2.127600e+04\n",
      "mean     6.095678e+06\n",
      "std      4.613735e+06\n",
      "min      4.300000e+05\n",
      "25%      3.550000e+06\n",
      "50%      4.800000e+06\n",
      "75%      6.990000e+06\n",
      "max      3.999000e+07\n",
      "Name: last_price, dtype: float64\n"
     ]
    },
    {
     "data": {
      "image/png": "[encoded data removed]",
      "text/plain": [
       "<Figure size 432x288 with 1 Axes>"
      ]
     },
     "metadata": {
      "needs_background": "light"
     },
     "output_type": "display_data"
    },
    {
     "data": {
      "image/png": "[encoded data removed]",
      "text/plain": [
       "<Figure size 432x288 with 1 Axes>"
      ]
     },
     "metadata": {
      "needs_background": "light"
     },
     "output_type": "display_data"
    }
   ],
   "source": [
    "print(data['last_price'].describe())\n",
    "data['last_price'].hist(bins=100) \n",
    "plt.show()\n",
    "data['last_price'].hist(bins=250)\n",
    "plt.show()"
   ]
  },
  {
   "cell_type": "markdown",
   "metadata": {},
   "source": [
    "Видим что пики по цене у нас от 3 млн до 7 млн, что в полне нормально с учетом всей Ленинградской области"
   ]
  },
  {
   "cell_type": "code",
   "execution_count": 42,
   "metadata": {},
   "outputs": [
    {
     "name": "stdout",
     "output_type": "stream",
     "text": [
      "count    21276.000000\n",
      "mean         2.147302\n",
      "std          1.005469\n",
      "min          0.000000\n",
      "25%          1.000000\n",
      "50%          2.000000\n",
      "75%          3.000000\n",
      "max          9.000000\n",
      "Name: rooms, dtype: float64\n"
     ]
    },
    {
     "data": {
      "text/plain": [
       "<AxesSubplot:>"
      ]
     },
     "execution_count": 42,
     "metadata": {},
     "output_type": "execute_result"
    },
    {
     "data": {
      "image/png": "[encoded data removed]",
      "text/plain": [
       "<Figure size 432x288 with 1 Axes>"
      ]
     },
     "metadata": {
      "needs_background": "light"
     },
     "output_type": "display_data"
    }
   ],
   "source": [
    "print(data['rooms'].describe())\n",
    "data['rooms'].hist()"
   ]
  },
  {
   "cell_type": "markdown",
   "metadata": {},
   "source": [
    "1-3 комнатные превалируют. Что в принципе выяснили выше пока проверяли общую площадь"
   ]
  },
  {
   "cell_type": "code",
   "execution_count": 43,
   "metadata": {},
   "outputs": [
    {
     "name": "stdout",
     "output_type": "stream",
     "text": [
      "count    21276.000000\n",
      "mean         2.695883\n",
      "std          0.216246\n",
      "min          2.250000\n",
      "25%          2.600000\n",
      "50%          2.650000\n",
      "75%          2.700000\n",
      "max          5.800000\n",
      "Name: ceiling_height, dtype: float64\n"
     ]
    },
    {
     "data": {
      "text/plain": [
       "<AxesSubplot:>"
      ]
     },
     "execution_count": 43,
     "metadata": {},
     "output_type": "execute_result"
    },
    {
     "data": {
      "image/png": "[encoded data removed]",
      "text/plain": [
       "<Figure size 432x288 with 1 Axes>"
      ]
     },
     "metadata": {
      "needs_background": "light"
     },
     "output_type": "display_data"
    }
   ],
   "source": [
    "print(data['ceiling_height'].describe())\n",
    "data['ceiling_height'].hist()"
   ]
  },
  {
   "cell_type": "markdown",
   "metadata": {},
   "source": [
    "2,60 м - 2,70 м вполне стандартная высота потолков"
   ]
  },
  {
   "cell_type": "code",
   "execution_count": 44,
   "metadata": {},
   "outputs": [
    {
     "name": "stdout",
     "output_type": "stream",
     "text": [
      "count    21276.000000\n",
      "mean         5.714937\n",
      "std          4.727071\n",
      "min          1.000000\n",
      "25%          2.000000\n",
      "50%          4.000000\n",
      "75%          8.000000\n",
      "max         33.000000\n",
      "Name: floor, dtype: float64\n"
     ]
    },
    {
     "data": {
      "text/plain": [
       "<AxesSubplot:>"
      ]
     },
     "execution_count": 44,
     "metadata": {},
     "output_type": "execute_result"
    },
    {
     "data": {
      "image/png": "[encoded data removed]",
      "text/plain": [
       "<Figure size 432x288 with 1 Axes>"
      ]
     },
     "metadata": {
      "needs_background": "light"
     },
     "output_type": "display_data"
    }
   ],
   "source": [
    "print(data['floor'].describe())\n",
    "data['floor'].hist(bins=30)"
   ]
  },
  {
   "cell_type": "markdown",
   "metadata": {},
   "source": [
    "2-8 этажи превалируют считаю нормальным с учетом большого кол-ва старого жил. фонда"
   ]
  },
  {
   "cell_type": "code",
   "execution_count": 45,
   "metadata": {},
   "outputs": [
    {
     "name": "stdout",
     "output_type": "stream",
     "text": [
      "count      21276\n",
      "unique         3\n",
      "top       другой\n",
      "freq       15517\n",
      "Name: floor_type, dtype: object\n"
     ]
    },
    {
     "data": {
      "text/plain": [
       "<AxesSubplot:>"
      ]
     },
     "execution_count": 45,
     "metadata": {},
     "output_type": "execute_result"
    },
    {
     "data": {
      "image/png": "[encoded data removed]",
      "text/plain": [
       "<Figure size 432x288 with 1 Axes>"
      ]
     },
     "metadata": {
      "needs_background": "light"
     },
     "output_type": "display_data"
    }
   ],
   "source": [
    "print(data['floor_type'].describe())\n",
    "data['floor_type'].hist()"
   ]
  },
  {
   "cell_type": "markdown",
   "metadata": {},
   "source": [
    "Больше всего других этажей что в полне объяснимо что их в принципе больше"
   ]
  },
  {
   "cell_type": "code",
   "execution_count": 46,
   "metadata": {},
   "outputs": [
    {
     "name": "stdout",
     "output_type": "stream",
     "text": [
      "count    21276.000000\n",
      "mean        10.364730\n",
      "std          6.396987\n",
      "min          1.000000\n",
      "25%          5.000000\n",
      "50%          9.000000\n",
      "75%         15.000000\n",
      "max         60.000000\n",
      "Name: floors_total, dtype: float64\n"
     ]
    },
    {
     "data": {
      "text/plain": [
       "<AxesSubplot:>"
      ]
     },
     "execution_count": 46,
     "metadata": {},
     "output_type": "execute_result"
    },
    {
     "data": {
      "image/png": "[encoded data removed]",
      "text/plain": [
       "<Figure size 432x288 with 1 Axes>"
      ]
     },
     "metadata": {
      "needs_background": "light"
     },
     "output_type": "display_data"
    }
   ],
   "source": [
    "print(data['floors_total'].describe())\n",
    "data['floors_total'].hist(bins=30)"
   ]
  },
  {
   "cell_type": "markdown",
   "metadata": {},
   "source": [
    "пики 5 этажей, 9 этажей здания что объяснимо старым жил.фондом"
   ]
  },
  {
   "cell_type": "code",
   "execution_count": 47,
   "metadata": {},
   "outputs": [
    {
     "name": "stdout",
     "output_type": "stream",
     "text": [
      "count    16433.000000\n",
      "mean     14192.451652\n",
      "std       8668.881344\n",
      "min        181.000000\n",
      "25%       9234.000000\n",
      "50%      13056.000000\n",
      "75%      16219.000000\n",
      "max      65968.000000\n",
      "Name: city_centers_nearest, dtype: float64\n"
     ]
    },
    {
     "data": {
      "text/plain": [
       "<AxesSubplot:>"
      ]
     },
     "execution_count": 47,
     "metadata": {},
     "output_type": "execute_result"
    },
    {
     "data": {
      "image/png": "[encoded data removed]",
      "text/plain": [
       "<Figure size 432x288 with 1 Axes>"
      ]
     },
     "metadata": {
      "needs_background": "light"
     },
     "output_type": "display_data"
    }
   ],
   "source": [
    "print(data['city_centers_nearest'].describe())\n",
    "data['city_centers_nearest'].hist()"
   ]
  },
  {
   "cell_type": "markdown",
   "metadata": {},
   "source": [
    "В основном объявления близ центра города в пределах 10-20 км. Это вполне понятно т.к сам центр Санкт-Петербурга растянут."
   ]
  },
  {
   "cell_type": "code",
   "execution_count": 48,
   "metadata": {},
   "outputs": [
    {
     "name": "stdout",
     "output_type": "stream",
     "text": [
      "count    16413.000000\n",
      "mean     28737.750564\n",
      "std      12586.150457\n",
      "min          0.000000\n",
      "25%      18539.000000\n",
      "50%      26736.000000\n",
      "75%      37180.000000\n",
      "max      84869.000000\n",
      "Name: airports_nearest, dtype: float64\n"
     ]
    },
    {
     "data": {
      "text/plain": [
       "<AxesSubplot:>"
      ]
     },
     "execution_count": 48,
     "metadata": {},
     "output_type": "execute_result"
    },
    {
     "data": {
      "image/png": "[encoded data removed]",
      "text/plain": [
       "<Figure size 432x288 with 1 Axes>"
      ]
     },
     "metadata": {
      "needs_background": "light"
     },
     "output_type": "display_data"
    }
   ],
   "source": [
    "print(data['airports_nearest'].describe())\n",
    "data['airports_nearest'].hist(bins=100) # увеличиваем число корзин чтобы видеть начала гистограммы"
   ]
  },
  {
   "cell_type": "markdown",
   "metadata": {},
   "source": [
    "Больше всего объявлений в пределах 15-40 км от аэропорта."
   ]
  },
  {
   "cell_type": "code",
   "execution_count": 49,
   "metadata": {},
   "outputs": [
    {
     "name": "stdout",
     "output_type": "stream",
     "text": [
      "count    7354.000000\n",
      "mean      493.277944\n",
      "std       340.178558\n",
      "min         1.000000\n",
      "25%       292.250000\n",
      "50%       457.500000\n",
      "75%       613.000000\n",
      "max      3190.000000\n",
      "Name: parks_nearest, dtype: float64\n"
     ]
    },
    {
     "data": {
      "text/plain": [
       "<AxesSubplot:>"
      ]
     },
     "execution_count": 49,
     "metadata": {},
     "output_type": "execute_result"
    },
    {
     "data": {
      "image/png": "[encoded data removed]",
      "text/plain": [
       "<Figure size 432x288 with 1 Axes>"
      ]
     },
     "metadata": {
      "needs_background": "light"
     },
     "output_type": "display_data"
    }
   ],
   "source": [
    "print(data['parks_nearest'].describe())\n",
    "data['parks_nearest'].hist(bins=100)"
   ]
  },
  {
   "cell_type": "markdown",
   "metadata": {},
   "source": [
    "Больше всего объявлений с наличием парка в районе 300-600 метров."
   ]
  },
  {
   "cell_type": "code",
   "execution_count": 50,
   "metadata": {},
   "outputs": [
    {
     "name": "stdout",
     "output_type": "stream",
     "text": [
      "count    21276.000000\n",
      "mean         6.390346\n",
      "std          3.496913\n",
      "min          1.000000\n",
      "25%          3.000000\n",
      "50%          6.000000\n",
      "75%         10.000000\n",
      "max         12.000000\n",
      "Name: month_exposition, dtype: float64\n"
     ]
    },
    {
     "data": {
      "text/plain": [
       "<AxesSubplot:>"
      ]
     },
     "execution_count": 50,
     "metadata": {},
     "output_type": "execute_result"
    },
    {
     "data": {
      "image/png": "[encoded data removed]",
      "text/plain": [
       "<Figure size 432x288 with 1 Axes>"
      ]
     },
     "metadata": {
      "needs_background": "light"
     },
     "output_type": "display_data"
    }
   ],
   "source": [
    "print(data['month_exposition'].describe())\n",
    "data['month_exposition'].hist(bins=24)"
   ]
  },
  {
   "cell_type": "markdown",
   "metadata": {},
   "source": [
    "Видно что в феврале, марте, апреле и ноябре наиболее чаще выкладывают объявления"
   ]
  },
  {
   "cell_type": "code",
   "execution_count": 51,
   "metadata": {},
   "outputs": [
    {
     "name": "stdout",
     "output_type": "stream",
     "text": [
      "count    21276.000000\n",
      "mean         2.578116\n",
      "std          1.786556\n",
      "min          0.000000\n",
      "25%          1.000000\n",
      "50%          3.000000\n",
      "75%          4.000000\n",
      "max          6.000000\n",
      "Name: weekday_exposition, dtype: float64\n"
     ]
    },
    {
     "data": {
      "text/plain": [
       "<AxesSubplot:>"
      ]
     },
     "execution_count": 51,
     "metadata": {},
     "output_type": "execute_result"
    },
    {
     "data": {
      "image/png": "[encoded data removed]",
      "text/plain": [
       "<Figure size 432x288 with 1 Axes>"
      ]
     },
     "metadata": {
      "needs_background": "light"
     },
     "output_type": "display_data"
    }
   ],
   "source": [
    "print(data['weekday_exposition'].describe())\n",
    "data['weekday_exposition'].hist(bins=14)"
   ]
  },
  {
   "cell_type": "markdown",
   "metadata": {},
   "source": [
    "Видно что в **будние дни и вс** значительно **больше** выкладывают объявления чем пт, сб"
   ]
  },
  {
   "cell_type": "code",
   "execution_count": 52,
   "metadata": {},
   "outputs": [
    {
     "name": "stdout",
     "output_type": "stream",
     "text": [
      "count    18328.000000\n",
      "mean       181.340081\n",
      "std        220.304838\n",
      "min          1.000000\n",
      "25%         45.000000\n",
      "50%         96.000000\n",
      "75%        231.000000\n",
      "max       1580.000000\n",
      "Name: days_exposition, dtype: float64\n",
      "Среднее кол-во дней: 181.0 Медианное кол-во дней: 96.0\n"
     ]
    },
    {
     "data": {
      "image/png": "[encoded data removed]",
      "text/plain": [
       "<Figure size 432x288 with 1 Axes>"
      ]
     },
     "metadata": {
      "needs_background": "light"
     },
     "output_type": "display_data"
    }
   ],
   "source": [
    "print(data['days_exposition'].describe())\n",
    "data['days_exposition'].hist(bins=100)\n",
    "\n",
    "print('Среднее кол-во дней:', data['days_exposition'].mean().round(), 'Медианное кол-во дней:', data['days_exposition'].median())"
   ]
  },
  {
   "cell_type": "code",
   "execution_count": 53,
   "metadata": {},
   "outputs": [
    {
     "data": {
      "image/png": "[encoded data removed]",
      "text/plain": [
       "<Figure size 432x288 with 1 Axes>"
      ]
     },
     "metadata": {
      "needs_background": "light"
     },
     "output_type": "display_data"
    },
    {
     "data": {
      "image/png": "[encoded data removed]",
      "text/plain": [
       "<Figure size 432x288 with 1 Axes>"
      ]
     },
     "metadata": {
      "needs_background": "light"
     },
     "output_type": "display_data"
    },
    {
     "data": {
      "image/png": "[encoded data removed]",
      "text/plain": [
       "<Figure size 432x288 with 1 Axes>"
      ]
     },
     "metadata": {
      "needs_background": "light"
     },
     "output_type": "display_data"
    }
   ],
   "source": [
    "data['days_exposition'].hist(bins=100, range=(0,800))\n",
    "plt.show()\n",
    "data['days_exposition'].hist(bins=150, range=(0,100))\n",
    "plt.show()\n",
    "data['days_exposition'].hist(bins=150, range=(100,1700))\n",
    "plt.show()"
   ]
  },
  {
   "cell_type": "markdown",
   "metadata": {},
   "source": [
    "В среднем продажи от **45-231 дней** можно считать **обычными**. Продажи **меньше чем за 40 дней** можно считать **быстрыми**, а вот продажи **сверх 800 дней** можно считать **необычайно долгими**."
   ]
  },
  {
   "cell_type": "code",
   "execution_count": 1,
   "metadata": {},
   "outputs": [
    {
     "ename": "NameError",
     "evalue": "name 'data' is not defined",
     "output_type": "error",
     "traceback": [
      "\u001b[0;31m---------------------------------------------------------------------------\u001b[0m",
      "\u001b[0;31mNameError\u001b[0m                                 Traceback (most recent call last)",
      "\u001b[0;32m/tmp/ipykernel_109/2753957656.py\u001b[0m in \u001b[0;36m<module>\u001b[0;34m\u001b[0m\n\u001b[0;32m----> 1\u001b[0;31m \u001b[0marea_price\u001b[0m \u001b[0;34m=\u001b[0m \u001b[0mdata\u001b[0m\u001b[0;34m.\u001b[0m\u001b[0mpivot_table\u001b[0m\u001b[0;34m(\u001b[0m\u001b[0mindex\u001b[0m\u001b[0;34m=\u001b[0m\u001b[0;34m'last_price'\u001b[0m\u001b[0;34m,\u001b[0m \u001b[0mvalues\u001b[0m\u001b[0;34m=\u001b[0m\u001b[0;34m[\u001b[0m\u001b[0;34m'total_area'\u001b[0m\u001b[0;34m,\u001b[0m \u001b[0;34m'living_area'\u001b[0m\u001b[0;34m,\u001b[0m \u001b[0;34m'kitchen_area'\u001b[0m\u001b[0;34m]\u001b[0m\u001b[0;34m,\u001b[0m \u001b[0maggfunc\u001b[0m\u001b[0;34m=\u001b[0m\u001b[0;34m'median'\u001b[0m\u001b[0;34m)\u001b[0m\u001b[0;34m\u001b[0m\u001b[0;34m\u001b[0m\u001b[0m\n\u001b[0m\u001b[1;32m      2\u001b[0m \u001b[0mpd\u001b[0m\u001b[0;34m.\u001b[0m\u001b[0mplotting\u001b[0m\u001b[0;34m.\u001b[0m\u001b[0mscatter_matrix\u001b[0m\u001b[0;34m(\u001b[0m\u001b[0marea_price\u001b[0m\u001b[0;34m,\u001b[0m \u001b[0mfigsize\u001b[0m\u001b[0;34m=\u001b[0m\u001b[0;34m(\u001b[0m\u001b[0;36m9\u001b[0m\u001b[0;34m,\u001b[0m\u001b[0;36m9\u001b[0m\u001b[0;34m)\u001b[0m\u001b[0;34m)\u001b[0m\u001b[0;34m\u001b[0m\u001b[0;34m\u001b[0m\u001b[0m\n\u001b[1;32m      3\u001b[0m \u001b[0mplt\u001b[0m\u001b[0;34m.\u001b[0m\u001b[0mshow\u001b[0m\u001b[0;34m(\u001b[0m\u001b[0;34m)\u001b[0m\u001b[0;34m\u001b[0m\u001b[0;34m\u001b[0m\u001b[0m\n",
      "\u001b[0;31mNameError\u001b[0m: name 'data' is not defined"
     ]
    }
   ],
   "source": [
    "area_price = data.pivot_table(index='last_price', values=['total_area', 'living_area', 'kitchen_area'], aggfunc='median')\n",
    "pd.plotting.scatter_matrix(area_price, figsize=(9,9))\n",
    "plt.show()"
   ]
  },
  {
   "cell_type": "markdown",
   "metadata": {},
   "source": [
    "Видим что цена напрямую зависит от площади недвижимости"
   ]
  },
  {
   "cell_type": "code",
   "execution_count": 55,
   "metadata": {},
   "outputs": [
    {
     "name": "stdout",
     "output_type": "stream",
     "text": [
      "0.48776220746044835\n"
     ]
    },
    {
     "data": {
      "text/plain": [
       "<AxesSubplot:xlabel='rooms'>"
      ]
     },
     "execution_count": 55,
     "metadata": {},
     "output_type": "execute_result"
    },
    {
     "data": {
      "image/png": "[encoded data removed]",
      "text/plain": [
       "<Figure size 432x288 with 1 Axes>"
      ]
     },
     "metadata": {
      "needs_background": "light"
     },
     "output_type": "display_data"
    }
   ],
   "source": [
    "print(data['last_price'].corr(data['rooms']))\n",
    "rooms_price = data.query('rooms != 12 and rooms != 15').pivot_table(index='rooms', values='last_price', aggfunc='median')\n",
    "# срез делаем т.к этаж 12 и 15 сильно выбивались из данных\n",
    "rooms_price.columns = ['median']\n",
    "rooms_price.plot()"
   ]
  },
  {
   "cell_type": "markdown",
   "metadata": {},
   "source": [
    "Цена однозначно зависит от кол-ва комнат в недвижимости"
   ]
  },
  {
   "cell_type": "code",
   "execution_count": 56,
   "metadata": {},
   "outputs": [
    {
     "data": {
      "image/png": "[encoded data removed]",
      "text/plain": [
       "<Figure size 432x288 with 1 Axes>"
      ]
     },
     "metadata": {},
     "output_type": "display_data"
    }
   ],
   "source": [
    "floor_type_price = data.groupby(['floor_type']).sum().plot(kind='pie', y='last_price', autopct='%1.0f%%')"
   ]
  },
  {
   "cell_type": "markdown",
   "metadata": {},
   "source": [
    "Видим что первый и последний этажи не пользуются спросом оттого и цена на них ниже чем на другие этажи. также если сравнивать первый и последний этажи то видим что менее предпочитаемый это **первый этаж**."
   ]
  },
  {
   "cell_type": "code",
   "execution_count": 57,
   "metadata": {},
   "outputs": [
    {
     "data": {
      "text/plain": [
       "array([[<AxesSubplot:xlabel='month_exposition', ylabel='month_exposition'>,\n",
       "        <AxesSubplot:xlabel='weekday_exposition', ylabel='month_exposition'>,\n",
       "        <AxesSubplot:xlabel='year_exposition', ylabel='month_exposition'>],\n",
       "       [<AxesSubplot:xlabel='month_exposition', ylabel='weekday_exposition'>,\n",
       "        <AxesSubplot:xlabel='weekday_exposition', ylabel='weekday_exposition'>,\n",
       "        <AxesSubplot:xlabel='year_exposition', ylabel='weekday_exposition'>],\n",
       "       [<AxesSubplot:xlabel='month_exposition', ylabel='year_exposition'>,\n",
       "        <AxesSubplot:xlabel='weekday_exposition', ylabel='year_exposition'>,\n",
       "        <AxesSubplot:xlabel='year_exposition', ylabel='year_exposition'>]],\n",
       "      dtype=object)"
      ]
     },
     "execution_count": 57,
     "metadata": {},
     "output_type": "execute_result"
    },
    {
     "data": {
      "image/png": "[encoded data removed]",
      "text/plain": [
       "<Figure size 1080x1080 with 9 Axes>"
      ]
     },
     "metadata": {
      "needs_background": "light"
     },
     "output_type": "display_data"
    }
   ],
   "source": [
    "day_price = data.pivot_table(index='last_price', values=['weekday_exposition', 'month_exposition', 'year_exposition'], aggfunc='median')\n",
    "pd.plotting.scatter_matrix(day_price, figsize=(15,15))"
   ]
  },
  {
   "cell_type": "markdown",
   "metadata": {},
   "source": [
    "Видим что в в **первом полугодии** каждых из годов **цена** на недвижимость **выше** в несколько раз чем во втором полугодии.\n",
    "Также видим что в **2017 год резко возрасли цены**. До этого с 2014-2016 цены планомерно росли.  \n",
    "\n",
    "**Январь, декабрь и летние месяцы** выделяются самыми **высокими ценами**. \n",
    "\n",
    "**В пятницу и субботу менее** высокие цены на недвижимость. "
   ]
  },
  {
   "cell_type": "code",
   "execution_count": 58,
   "metadata": {},
   "outputs": [
    {
     "name": "stdout",
     "output_type": "stream",
     "text": [
      "                   count  price_one_m2\n",
      "locality_name                         \n",
      "Санкт-Петербург    14285      111076.0\n",
      "Пушкин               347      102879.0\n",
      "деревня Кудрово      221       91116.0\n",
      "посёлок Парголово    234       85922.0\n",
      "посёлок Мурино       368       82586.0\n",
      "посёлок Шушары       365       75895.0\n",
      "Колпино              314       74497.0\n",
      "Гатчина              299       68916.0\n",
      "Всеволожск           347       68572.0\n",
      "Выборг               226       57651.0\n",
      "Средняя цена за 1 кв.м. 81911.0\n"
     ]
    }
   ],
   "source": [
    "too_locality_name = (data.pivot_table(index='locality_name', values='price_one_m2', aggfunc='count')\n",
    "                     .sort_values(by='price_one_m2', ascending=False)[0:10])\n",
    "too_locality_name = too_locality_name.rename(columns={'price_one_m2': 'count'})\n",
    "\n",
    "mean_locality_name = (data.pivot_table(index='locality_name', values='price_one_m2', aggfunc='mean')\n",
    "                      .sort_values(by='price_one_m2', ascending=False).round())\n",
    "\n",
    "mean_price_locality_name = too_locality_name.join(mean_locality_name, on='locality_name')\n",
    "\n",
    "print(mean_price_locality_name.sort_values(by='price_one_m2', ascending=False))\n",
    "\n",
    "print('Средняя цена за 1 кв.м.', mean_price_locality_name['price_one_m2'].mean())"
   ]
  },
  {
   "cell_type": "markdown",
   "metadata": {},
   "source": [
    "**Из ТОП-10 по кол-ву объявлений:** средняя цена за 1 кв.м. 81 911 руб. Самые дорогая недвижимость в **Санкт-Петербурге** за 1 кв.м. 111 076 руб.. Самая дешевая в **Выборге** за 1 кв.м. 57 651 руб.\n"
   ]
  },
  {
   "cell_type": "code",
   "execution_count": 59,
   "metadata": {},
   "outputs": [
    {
     "data": {
      "image/png": "[encoded data removed]",
      "text/plain": [
       "<Figure size 432x288 with 1 Axes>"
      ]
     },
     "metadata": {
      "needs_background": "light"
     },
     "output_type": "display_data"
    }
   ],
   "source": [
    "spb_price_km = (data.query('locality_name == \"Санкт-Петербург\"').pivot_table\n",
    "                (index='city_centers_nearest_km', values='price_one_m2', aggfunc='mean').sort_values\n",
    "                (by='city_centers_nearest_km', ascending=False).round())\n",
    "spb_price_km.plot(grid=True)\n",
    "plt.show()"
   ]
  },
  {
   "cell_type": "markdown",
   "metadata": {},
   "source": [
    "Видим что чем ближе к центру тем дороже недвижимость, также видим всплеск в районе 26 км от центра что можем объяснить г.Пушкин который второй по дороговизне за 1 кв.м из ТОП-10"
   ]
  },
  {
   "cell_type": "markdown",
   "metadata": {},
   "source": [
    "### Общий вывод"
   ]
  },
  {
   "cell_type": "markdown",
   "metadata": {},
   "source": [
    "На рынке недвижимости **количество объявлений** в среднем варьируется по следующим параметрам:\n",
    "- общая площадь 42-71 кв.м.\n",
    "- жилая площадь 21-43 кв.м.\n",
    "- площадь кухни 7-12 кв.м.\n",
    "- с кол-вом 1-3 комнаты\n",
    "- с высотой потолков 2,60 - 2,70 м.\n",
    "- на этажах со 2 по 8\n",
    "- в домах с высотностью 5-15 этажностью\n",
    "- с дальностью от центра 10-20 км\n",
    "- с дальностью от парка 3-6 км\n",
    "- с дальностью от аэропорта 15-40 км\n",
    "\n",
    "**Период** с наибольшим количеством объявлений:\n",
    "- дни недели: вс, пн, вт, ср, чт\n",
    "- месяцы: февраль, март, апрель, ноябрь\n",
    "\n",
    "В **среднем** объявления висят от **45 до 231** дней. Меньше чем за **40** дней это **быстрые продажи**. Больше **800** дней **необычайно долгие** продажи.\n",
    "\n",
    "**Цена** зависит от:\n",
    "- площади недвижимости (общей, жилой и площади кухни)\n",
    "- кол-ва комнат \n",
    "- этажа (средние этажи дороже)\n",
    "- периода года (зимние и летние объявления дороже) и дней недели (вс, пн, вт, ср, чт дороже объявления)\n",
    "- населенного пункта (Санкт-Петербург дороже)\n",
    "- расстояния от центра Санкт-Петербурга (чем ближе к центру тем дороже объявление)\n",
    "\n",
    "*Также можно отметить значительный рост цен с 2017 года.*"
   ]
  }
 ],
 "metadata": {
  "ExecuteTimeLog": [
   {
    "duration": 469,
    "start_time": "2022-10-11T16:32:00.156Z"
   },
   {
    "duration": 129,
    "start_time": "2022-10-11T16:32:10.687Z"
   },
   {
    "duration": 87,
    "start_time": "2022-10-11T16:32:14.149Z"
   },
   {
    "duration": 81,
    "start_time": "2022-10-11T16:32:36.655Z"
   },
   {
    "duration": 118,
    "start_time": "2022-10-11T16:34:42.110Z"
   },
   {
    "duration": 283,
    "start_time": "2022-10-11T16:35:02.277Z"
   },
   {
    "duration": 418,
    "start_time": "2022-10-11T16:35:04.933Z"
   },
   {
    "duration": 1351,
    "start_time": "2022-10-11T16:35:26.457Z"
   },
   {
    "duration": 81,
    "start_time": "2022-10-11T16:35:56.870Z"
   },
   {
    "duration": 270,
    "start_time": "2022-10-11T16:36:16.375Z"
   },
   {
    "duration": 81,
    "start_time": "2022-10-11T16:36:22.971Z"
   },
   {
    "duration": 115,
    "start_time": "2022-10-11T16:36:31.886Z"
   },
   {
    "duration": 81,
    "start_time": "2022-10-11T16:37:55.005Z"
   },
   {
    "duration": 76,
    "start_time": "2022-10-11T16:38:04.860Z"
   },
   {
    "duration": 81,
    "start_time": "2022-10-11T16:38:35.431Z"
   },
   {
    "duration": 407,
    "start_time": "2022-10-11T16:38:59.158Z"
   },
   {
    "duration": 81,
    "start_time": "2022-10-11T16:39:15.117Z"
   },
   {
    "duration": 78,
    "start_time": "2022-10-11T16:39:20.751Z"
   },
   {
    "duration": 94,
    "start_time": "2022-10-11T16:40:24.072Z"
   },
   {
    "duration": 105,
    "start_time": "2022-10-11T16:40:38.831Z"
   },
   {
    "duration": 109,
    "start_time": "2022-10-11T16:40:44.630Z"
   },
   {
    "duration": 94,
    "start_time": "2022-10-11T16:41:19.571Z"
   },
   {
    "duration": 137,
    "start_time": "2022-10-11T16:42:21.651Z"
   },
   {
    "duration": 2215,
    "start_time": "2022-10-11T16:42:33.772Z"
   },
   {
    "duration": 5,
    "start_time": "2022-10-11T18:19:11.224Z"
   },
   {
    "duration": 20,
    "start_time": "2022-10-11T18:24:01.460Z"
   },
   {
    "duration": 6,
    "start_time": "2022-10-11T18:24:17.085Z"
   },
   {
    "duration": 8,
    "start_time": "2022-10-11T18:24:24.568Z"
   },
   {
    "duration": 7,
    "start_time": "2022-10-11T18:24:32.044Z"
   },
   {
    "duration": 8,
    "start_time": "2022-10-11T18:24:35.439Z"
   },
   {
    "duration": 10,
    "start_time": "2022-10-11T18:24:47.438Z"
   },
   {
    "duration": 2343,
    "start_time": "2022-10-11T18:24:54.544Z"
   },
   {
    "duration": 7,
    "start_time": "2022-10-11T18:24:56.889Z"
   },
   {
    "duration": 2408,
    "start_time": "2022-10-11T18:25:10.423Z"
   },
   {
    "duration": 8,
    "start_time": "2022-10-11T18:25:12.833Z"
   },
   {
    "duration": 15,
    "start_time": "2022-10-11T18:25:31.236Z"
   },
   {
    "duration": 25,
    "start_time": "2022-10-11T18:26:42.531Z"
   },
   {
    "duration": 22,
    "start_time": "2022-10-11T18:26:54.683Z"
   },
   {
    "duration": 2372,
    "start_time": "2022-10-11T18:27:01.011Z"
   },
   {
    "duration": 19,
    "start_time": "2022-10-11T18:27:03.385Z"
   },
   {
    "duration": 16,
    "start_time": "2022-10-11T18:27:41.956Z"
   },
   {
    "duration": 2420,
    "start_time": "2022-10-11T18:28:19.080Z"
   },
   {
    "duration": 9,
    "start_time": "2022-10-11T18:28:21.501Z"
   },
   {
    "duration": 2047,
    "start_time": "2022-10-11T18:31:06.648Z"
   },
   {
    "duration": 1873,
    "start_time": "2022-10-11T18:31:16.398Z"
   },
   {
    "duration": 2608,
    "start_time": "2022-10-11T18:31:29.960Z"
   },
   {
    "duration": 0,
    "start_time": "2022-10-11T18:31:32.569Z"
   },
   {
    "duration": 1797,
    "start_time": "2022-10-11T18:32:01.126Z"
   },
   {
    "duration": 1776,
    "start_time": "2022-10-11T18:33:10.850Z"
   },
   {
    "duration": 83,
    "start_time": "2022-10-11T18:33:29.712Z"
   },
   {
    "duration": 526,
    "start_time": "2022-10-11T18:33:38.082Z"
   },
   {
    "duration": 0,
    "start_time": "2022-10-11T18:33:38.609Z"
   },
   {
    "duration": 85,
    "start_time": "2022-10-11T18:33:53.855Z"
   },
   {
    "duration": 527,
    "start_time": "2022-10-11T18:33:58.975Z"
   },
   {
    "duration": 0,
    "start_time": "2022-10-11T18:33:59.503Z"
   },
   {
    "duration": 507,
    "start_time": "2022-10-11T18:34:15.488Z"
   },
   {
    "duration": 786,
    "start_time": "2022-10-11T18:34:25.821Z"
   },
   {
    "duration": 0,
    "start_time": "2022-10-11T18:34:26.608Z"
   },
   {
    "duration": 83,
    "start_time": "2022-10-11T18:35:21.724Z"
   },
   {
    "duration": 90,
    "start_time": "2022-10-11T18:36:34.908Z"
   },
   {
    "duration": 2092,
    "start_time": "2022-10-11T18:36:45.734Z"
   },
   {
    "duration": 1807,
    "start_time": "2022-10-11T18:38:14.792Z"
   },
   {
    "duration": 8,
    "start_time": "2022-10-11T18:38:45.278Z"
   },
   {
    "duration": 1795,
    "start_time": "2022-10-11T18:38:52.144Z"
   },
   {
    "duration": 1704,
    "start_time": "2022-10-11T18:40:00.834Z"
   },
   {
    "duration": 26,
    "start_time": "2022-10-11T18:42:28.459Z"
   },
   {
    "duration": 2400,
    "start_time": "2022-10-11T18:42:33.144Z"
   },
   {
    "duration": 31,
    "start_time": "2022-10-11T18:42:35.546Z"
   },
   {
    "duration": 9,
    "start_time": "2022-10-11T18:42:35.578Z"
   },
   {
    "duration": 739,
    "start_time": "2022-10-11T18:49:10.385Z"
   },
   {
    "duration": 0,
    "start_time": "2022-10-11T18:49:44.943Z"
   },
   {
    "duration": 2455,
    "start_time": "2022-10-11T18:49:50.756Z"
   },
   {
    "duration": 28,
    "start_time": "2022-10-11T18:49:53.214Z"
   },
   {
    "duration": 727,
    "start_time": "2022-10-11T18:49:53.244Z"
   },
   {
    "duration": 1,
    "start_time": "2022-10-11T18:49:53.972Z"
   },
   {
    "duration": 658,
    "start_time": "2022-10-11T18:50:17.053Z"
   },
   {
    "duration": 17,
    "start_time": "2022-10-11T18:50:41.948Z"
   },
   {
    "duration": 9,
    "start_time": "2022-10-11T18:54:32.933Z"
   },
   {
    "duration": 18,
    "start_time": "2022-10-11T19:18:47.440Z"
   },
   {
    "duration": 2391,
    "start_time": "2022-10-11T19:18:53.648Z"
   },
   {
    "duration": 29,
    "start_time": "2022-10-11T19:18:56.042Z"
   },
   {
    "duration": 17,
    "start_time": "2022-10-11T19:18:56.072Z"
   },
   {
    "duration": 69,
    "start_time": "2022-10-11T19:18:56.090Z"
   },
   {
    "duration": 0,
    "start_time": "2022-10-11T19:18:56.160Z"
   },
   {
    "duration": 26,
    "start_time": "2022-10-11T19:20:31.411Z"
   },
   {
    "duration": 12,
    "start_time": "2022-10-11T19:21:43.878Z"
   },
   {
    "duration": 5,
    "start_time": "2022-10-11T19:21:57.063Z"
   },
   {
    "duration": 11,
    "start_time": "2022-10-11T19:23:01.548Z"
   },
   {
    "duration": 9,
    "start_time": "2022-10-11T19:23:08.611Z"
   },
   {
    "duration": 8,
    "start_time": "2022-10-11T19:23:14.848Z"
   },
   {
    "duration": 11,
    "start_time": "2022-10-11T19:23:20.522Z"
   },
   {
    "duration": 2527,
    "start_time": "2022-10-11T19:23:27.733Z"
   },
   {
    "duration": 37,
    "start_time": "2022-10-11T19:23:30.262Z"
   },
   {
    "duration": 18,
    "start_time": "2022-10-11T19:23:30.301Z"
   },
   {
    "duration": 75,
    "start_time": "2022-10-11T19:23:30.320Z"
   },
   {
    "duration": 0,
    "start_time": "2022-10-11T19:23:30.397Z"
   },
   {
    "duration": 7,
    "start_time": "2022-10-11T19:23:50.069Z"
   },
   {
    "duration": 6,
    "start_time": "2022-10-11T19:23:55.563Z"
   },
   {
    "duration": 2460,
    "start_time": "2022-10-11T19:24:11.524Z"
   },
   {
    "duration": 29,
    "start_time": "2022-10-11T19:24:13.985Z"
   },
   {
    "duration": 17,
    "start_time": "2022-10-11T19:24:14.016Z"
   },
   {
    "duration": 14,
    "start_time": "2022-10-11T19:24:14.035Z"
   },
   {
    "duration": 47,
    "start_time": "2022-10-11T19:24:14.051Z"
   },
   {
    "duration": 6,
    "start_time": "2022-10-11T19:27:12.788Z"
   },
   {
    "duration": 2450,
    "start_time": "2022-10-11T19:27:26.633Z"
   },
   {
    "duration": 29,
    "start_time": "2022-10-11T19:27:29.085Z"
   },
   {
    "duration": 18,
    "start_time": "2022-10-11T19:27:29.115Z"
   },
   {
    "duration": 8,
    "start_time": "2022-10-11T19:27:29.135Z"
   },
   {
    "duration": 8,
    "start_time": "2022-10-11T19:27:29.144Z"
   },
   {
    "duration": 69,
    "start_time": "2022-10-11T19:27:38.266Z"
   },
   {
    "duration": 17,
    "start_time": "2022-10-11T19:27:41.631Z"
   },
   {
    "duration": 2457,
    "start_time": "2022-10-11T19:27:51.403Z"
   },
   {
    "duration": 30,
    "start_time": "2022-10-11T19:27:53.862Z"
   },
   {
    "duration": 19,
    "start_time": "2022-10-11T19:27:53.893Z"
   },
   {
    "duration": 72,
    "start_time": "2022-10-11T19:27:53.914Z"
   },
   {
    "duration": 0,
    "start_time": "2022-10-11T19:27:53.988Z"
   },
   {
    "duration": 396,
    "start_time": "2022-10-11T19:31:17.727Z"
   },
   {
    "duration": 312,
    "start_time": "2022-10-11T19:31:41.879Z"
   },
   {
    "duration": 340,
    "start_time": "2022-10-11T19:31:48.417Z"
   },
   {
    "duration": 2355,
    "start_time": "2022-10-11T19:31:55.140Z"
   },
   {
    "duration": 33,
    "start_time": "2022-10-11T19:31:57.497Z"
   },
   {
    "duration": 26,
    "start_time": "2022-10-11T19:31:57.532Z"
   },
   {
    "duration": 468,
    "start_time": "2022-10-11T19:31:57.561Z"
   },
   {
    "duration": 0,
    "start_time": "2022-10-11T19:31:58.031Z"
   },
   {
    "duration": 340,
    "start_time": "2022-10-11T19:32:48.548Z"
   },
   {
    "duration": 2400,
    "start_time": "2022-10-11T19:33:01.579Z"
   },
   {
    "duration": 29,
    "start_time": "2022-10-11T19:33:03.982Z"
   },
   {
    "duration": 17,
    "start_time": "2022-10-11T19:33:04.013Z"
   },
   {
    "duration": 130,
    "start_time": "2022-10-11T19:33:04.032Z"
   },
   {
    "duration": 0,
    "start_time": "2022-10-11T19:33:04.163Z"
   },
   {
    "duration": 6,
    "start_time": "2022-10-11T19:33:37.872Z"
   },
   {
    "duration": 2508,
    "start_time": "2022-10-11T19:34:26.959Z"
   },
   {
    "duration": 30,
    "start_time": "2022-10-11T19:34:29.470Z"
   },
   {
    "duration": 18,
    "start_time": "2022-10-11T19:34:29.502Z"
   },
   {
    "duration": 4,
    "start_time": "2022-10-11T19:34:29.522Z"
   },
   {
    "duration": 9,
    "start_time": "2022-10-11T19:34:29.529Z"
   },
   {
    "duration": 69,
    "start_time": "2022-10-11T19:34:39.779Z"
   },
   {
    "duration": 13,
    "start_time": "2022-10-11T19:34:48.442Z"
   },
   {
    "duration": 22,
    "start_time": "2022-10-11T19:35:56.257Z"
   },
   {
    "duration": 13,
    "start_time": "2022-10-11T19:37:12.904Z"
   },
   {
    "duration": 12,
    "start_time": "2022-10-11T19:37:35.904Z"
   },
   {
    "duration": 73,
    "start_time": "2022-10-11T19:37:45.533Z"
   },
   {
    "duration": 31,
    "start_time": "2022-10-11T19:37:50.108Z"
   },
   {
    "duration": 18,
    "start_time": "2022-10-11T19:38:07.271Z"
   },
   {
    "duration": 22,
    "start_time": "2022-10-11T19:38:16.096Z"
   },
   {
    "duration": 23,
    "start_time": "2022-10-11T19:38:23.118Z"
   },
   {
    "duration": 15,
    "start_time": "2022-10-11T19:39:05.265Z"
   },
   {
    "duration": 22,
    "start_time": "2022-10-11T19:39:11.167Z"
   },
   {
    "duration": 2571,
    "start_time": "2022-10-11T19:39:16.124Z"
   },
   {
    "duration": 29,
    "start_time": "2022-10-11T19:39:18.697Z"
   },
   {
    "duration": 17,
    "start_time": "2022-10-11T19:39:18.728Z"
   },
   {
    "duration": 87,
    "start_time": "2022-10-11T19:39:18.747Z"
   },
   {
    "duration": 0,
    "start_time": "2022-10-11T19:39:18.835Z"
   },
   {
    "duration": 4,
    "start_time": "2022-10-11T19:39:56.120Z"
   },
   {
    "duration": 4,
    "start_time": "2022-10-11T19:41:29.664Z"
   },
   {
    "duration": 9,
    "start_time": "2022-10-11T19:41:40.776Z"
   },
   {
    "duration": 7,
    "start_time": "2022-10-11T19:41:51.857Z"
   },
   {
    "duration": 6,
    "start_time": "2022-10-11T19:41:59.791Z"
   },
   {
    "duration": 7,
    "start_time": "2022-10-11T19:42:14.223Z"
   },
   {
    "duration": 7,
    "start_time": "2022-10-11T19:42:19.938Z"
   },
   {
    "duration": 7,
    "start_time": "2022-10-11T19:42:34.841Z"
   },
   {
    "duration": 9,
    "start_time": "2022-10-11T19:42:37.659Z"
   },
   {
    "duration": 6,
    "start_time": "2022-10-11T19:42:39.464Z"
   },
   {
    "duration": 2456,
    "start_time": "2022-10-11T19:42:43.887Z"
   },
   {
    "duration": 29,
    "start_time": "2022-10-11T19:42:46.345Z"
   },
   {
    "duration": 17,
    "start_time": "2022-10-11T19:42:46.375Z"
   },
   {
    "duration": 15,
    "start_time": "2022-10-11T19:42:46.394Z"
   },
   {
    "duration": 8,
    "start_time": "2022-10-11T19:42:46.410Z"
   },
   {
    "duration": 19,
    "start_time": "2022-10-11T19:43:00.898Z"
   },
   {
    "duration": 15,
    "start_time": "2022-10-11T19:43:32.643Z"
   },
   {
    "duration": 17,
    "start_time": "2022-10-11T19:45:23.127Z"
   },
   {
    "duration": 5,
    "start_time": "2022-10-11T19:46:11.615Z"
   },
   {
    "duration": 2993,
    "start_time": "2022-10-12T07:53:04.484Z"
   },
   {
    "duration": 2710,
    "start_time": "2022-10-12T07:53:15.099Z"
   },
   {
    "duration": 29,
    "start_time": "2022-10-12T07:53:17.811Z"
   },
   {
    "duration": 17,
    "start_time": "2022-10-12T07:53:17.841Z"
   },
   {
    "duration": 16,
    "start_time": "2022-10-12T07:53:17.860Z"
   },
   {
    "duration": 3,
    "start_time": "2022-10-12T07:53:17.878Z"
   },
   {
    "duration": 13,
    "start_time": "2022-10-12T07:53:17.883Z"
   },
   {
    "duration": 101,
    "start_time": "2022-10-12T07:53:34.677Z"
   },
   {
    "duration": 1914,
    "start_time": "2022-10-12T07:53:44.803Z"
   },
   {
    "duration": 10,
    "start_time": "2022-10-12T07:58:16.696Z"
   },
   {
    "duration": 5,
    "start_time": "2022-10-12T07:58:50.255Z"
   },
   {
    "duration": 16,
    "start_time": "2022-10-12T08:00:15.634Z"
   },
   {
    "duration": 6,
    "start_time": "2022-10-12T08:00:49.960Z"
   },
   {
    "duration": 6,
    "start_time": "2022-10-12T08:01:10.448Z"
   },
   {
    "duration": 4,
    "start_time": "2022-10-12T08:01:27.946Z"
   },
   {
    "duration": 470,
    "start_time": "2022-10-12T08:01:37.899Z"
   },
   {
    "duration": 2138,
    "start_time": "2022-10-12T08:01:38.371Z"
   },
   {
    "duration": 21,
    "start_time": "2022-10-12T08:01:40.511Z"
   },
   {
    "duration": 13,
    "start_time": "2022-10-12T08:01:40.534Z"
   },
   {
    "duration": 10,
    "start_time": "2022-10-12T08:01:40.549Z"
   },
   {
    "duration": 5,
    "start_time": "2022-10-12T08:01:40.561Z"
   },
   {
    "duration": 15,
    "start_time": "2022-10-12T08:01:40.568Z"
   },
   {
    "duration": 8,
    "start_time": "2022-10-12T08:03:23.021Z"
   },
   {
    "duration": 6,
    "start_time": "2022-10-12T08:04:11.780Z"
   },
   {
    "duration": 5,
    "start_time": "2022-10-12T08:08:05.014Z"
   },
   {
    "duration": 5,
    "start_time": "2022-10-12T08:08:18.766Z"
   },
   {
    "duration": 7,
    "start_time": "2022-10-12T08:09:07.204Z"
   },
   {
    "duration": 4,
    "start_time": "2022-10-12T08:09:12.285Z"
   },
   {
    "duration": 506,
    "start_time": "2022-10-12T08:09:19.507Z"
   },
   {
    "duration": 2232,
    "start_time": "2022-10-12T08:09:20.015Z"
   },
   {
    "duration": 20,
    "start_time": "2022-10-12T08:09:22.249Z"
   },
   {
    "duration": 8,
    "start_time": "2022-10-12T08:09:22.271Z"
   },
   {
    "duration": 9,
    "start_time": "2022-10-12T08:09:22.280Z"
   },
   {
    "duration": 6,
    "start_time": "2022-10-12T08:09:22.291Z"
   },
   {
    "duration": 4,
    "start_time": "2022-10-12T08:09:22.299Z"
   },
   {
    "duration": 39,
    "start_time": "2022-10-12T08:09:22.305Z"
   },
   {
    "duration": 9,
    "start_time": "2022-10-12T08:10:41.218Z"
   },
   {
    "duration": 9,
    "start_time": "2022-10-12T08:11:20.816Z"
   },
   {
    "duration": 4,
    "start_time": "2022-10-12T08:12:05.088Z"
   },
   {
    "duration": 513,
    "start_time": "2022-10-12T08:12:17.846Z"
   },
   {
    "duration": 2156,
    "start_time": "2022-10-12T08:12:18.361Z"
   },
   {
    "duration": 28,
    "start_time": "2022-10-12T08:12:20.519Z"
   },
   {
    "duration": 17,
    "start_time": "2022-10-12T08:12:20.549Z"
   },
   {
    "duration": 12,
    "start_time": "2022-10-12T08:12:20.568Z"
   },
   {
    "duration": 22,
    "start_time": "2022-10-12T08:12:20.582Z"
   },
   {
    "duration": 12,
    "start_time": "2022-10-12T08:12:20.605Z"
   },
   {
    "duration": 4,
    "start_time": "2022-10-12T08:12:20.618Z"
   },
   {
    "duration": 21,
    "start_time": "2022-10-12T08:12:20.624Z"
   },
   {
    "duration": 7,
    "start_time": "2022-10-12T08:14:14.840Z"
   },
   {
    "duration": 7,
    "start_time": "2022-10-12T08:14:24.985Z"
   },
   {
    "duration": 545,
    "start_time": "2022-10-12T08:14:31.316Z"
   },
   {
    "duration": 2227,
    "start_time": "2022-10-12T08:14:31.862Z"
   },
   {
    "duration": 19,
    "start_time": "2022-10-12T08:14:34.090Z"
   },
   {
    "duration": 46,
    "start_time": "2022-10-12T08:14:34.110Z"
   },
   {
    "duration": 27,
    "start_time": "2022-10-12T08:14:34.158Z"
   },
   {
    "duration": 31,
    "start_time": "2022-10-12T08:14:34.187Z"
   },
   {
    "duration": 77,
    "start_time": "2022-10-12T08:14:34.220Z"
   },
   {
    "duration": 4,
    "start_time": "2022-10-12T08:14:34.299Z"
   },
   {
    "duration": 27,
    "start_time": "2022-10-12T08:14:34.304Z"
   },
   {
    "duration": 4,
    "start_time": "2022-10-12T08:15:41.650Z"
   },
   {
    "duration": 6,
    "start_time": "2022-10-12T08:15:51.449Z"
   },
   {
    "duration": 5,
    "start_time": "2022-10-12T08:16:41.755Z"
   },
   {
    "duration": 7,
    "start_time": "2022-10-12T08:16:46.769Z"
   },
   {
    "duration": 548,
    "start_time": "2022-10-12T08:18:28.313Z"
   },
   {
    "duration": 2181,
    "start_time": "2022-10-12T08:18:28.864Z"
   },
   {
    "duration": 19,
    "start_time": "2022-10-12T08:18:31.047Z"
   },
   {
    "duration": 23,
    "start_time": "2022-10-12T08:18:31.069Z"
   },
   {
    "duration": 22,
    "start_time": "2022-10-12T08:18:31.094Z"
   },
   {
    "duration": 38,
    "start_time": "2022-10-12T08:18:31.118Z"
   },
   {
    "duration": 39,
    "start_time": "2022-10-12T08:18:31.158Z"
   },
   {
    "duration": 19,
    "start_time": "2022-10-12T08:18:31.198Z"
   },
   {
    "duration": 17,
    "start_time": "2022-10-12T08:18:31.218Z"
   },
   {
    "duration": 10,
    "start_time": "2022-10-12T08:18:54.749Z"
   },
   {
    "duration": 7,
    "start_time": "2022-10-12T08:20:37.937Z"
   },
   {
    "duration": 6,
    "start_time": "2022-10-12T12:53:14.231Z"
   },
   {
    "duration": 6,
    "start_time": "2022-10-12T12:54:13.722Z"
   },
   {
    "duration": 483,
    "start_time": "2022-10-12T12:54:20.094Z"
   },
   {
    "duration": 2090,
    "start_time": "2022-10-12T12:54:20.579Z"
   },
   {
    "duration": 19,
    "start_time": "2022-10-12T12:54:22.670Z"
   },
   {
    "duration": 7,
    "start_time": "2022-10-12T12:54:22.691Z"
   },
   {
    "duration": 12,
    "start_time": "2022-10-12T12:54:22.700Z"
   },
   {
    "duration": 10,
    "start_time": "2022-10-12T12:54:22.713Z"
   },
   {
    "duration": 13,
    "start_time": "2022-10-12T12:54:22.725Z"
   },
   {
    "duration": 11,
    "start_time": "2022-10-12T12:54:22.739Z"
   },
   {
    "duration": 11,
    "start_time": "2022-10-12T12:54:22.752Z"
   },
   {
    "duration": 6,
    "start_time": "2022-10-12T12:54:22.765Z"
   },
   {
    "duration": 8,
    "start_time": "2022-10-12T12:54:22.773Z"
   },
   {
    "duration": 7,
    "start_time": "2022-10-12T12:54:46.179Z"
   },
   {
    "duration": 9,
    "start_time": "2022-10-12T12:55:07.207Z"
   },
   {
    "duration": 499,
    "start_time": "2022-10-12T12:55:15.440Z"
   },
   {
    "duration": 2180,
    "start_time": "2022-10-12T12:55:15.941Z"
   },
   {
    "duration": 20,
    "start_time": "2022-10-12T12:55:18.123Z"
   },
   {
    "duration": 10,
    "start_time": "2022-10-12T12:55:18.144Z"
   },
   {
    "duration": 32,
    "start_time": "2022-10-12T12:55:18.156Z"
   },
   {
    "duration": 36,
    "start_time": "2022-10-12T12:55:18.190Z"
   },
   {
    "duration": 18,
    "start_time": "2022-10-12T12:55:18.228Z"
   },
   {
    "duration": 11,
    "start_time": "2022-10-12T12:55:18.247Z"
   },
   {
    "duration": 8,
    "start_time": "2022-10-12T12:55:18.259Z"
   },
   {
    "duration": 10,
    "start_time": "2022-10-12T12:55:18.270Z"
   },
   {
    "duration": 4,
    "start_time": "2022-10-12T12:55:35.152Z"
   },
   {
    "duration": 7,
    "start_time": "2022-10-12T12:56:30.973Z"
   },
   {
    "duration": 9,
    "start_time": "2022-10-12T12:56:33.864Z"
   },
   {
    "duration": 12,
    "start_time": "2022-10-12T12:58:56.855Z"
   },
   {
    "duration": 12,
    "start_time": "2022-10-12T12:59:03.695Z"
   },
   {
    "duration": 5,
    "start_time": "2022-10-12T12:59:39.412Z"
   },
   {
    "duration": 5,
    "start_time": "2022-10-12T13:00:23.509Z"
   },
   {
    "duration": 549,
    "start_time": "2022-10-12T13:04:11.305Z"
   },
   {
    "duration": 2153,
    "start_time": "2022-10-12T13:04:11.856Z"
   },
   {
    "duration": 19,
    "start_time": "2022-10-12T13:04:14.011Z"
   },
   {
    "duration": 7,
    "start_time": "2022-10-12T13:04:14.032Z"
   },
   {
    "duration": 10,
    "start_time": "2022-10-12T13:04:14.041Z"
   },
   {
    "duration": 16,
    "start_time": "2022-10-12T13:04:14.052Z"
   },
   {
    "duration": 11,
    "start_time": "2022-10-12T13:04:14.069Z"
   },
   {
    "duration": 7,
    "start_time": "2022-10-12T13:04:14.082Z"
   },
   {
    "duration": 8,
    "start_time": "2022-10-12T13:04:14.090Z"
   },
   {
    "duration": 11,
    "start_time": "2022-10-12T13:04:14.100Z"
   },
   {
    "duration": 31,
    "start_time": "2022-10-12T13:04:14.112Z"
   },
   {
    "duration": 14,
    "start_time": "2022-10-12T13:04:14.145Z"
   },
   {
    "duration": 70,
    "start_time": "2022-10-12T13:08:25.740Z"
   },
   {
    "duration": 5,
    "start_time": "2022-10-12T13:08:42.108Z"
   },
   {
    "duration": 7,
    "start_time": "2022-10-12T13:09:22.147Z"
   },
   {
    "duration": 7,
    "start_time": "2022-10-12T13:10:06.278Z"
   },
   {
    "duration": 7,
    "start_time": "2022-10-12T13:13:00.597Z"
   },
   {
    "duration": 484,
    "start_time": "2022-10-12T13:13:10.156Z"
   },
   {
    "duration": 2135,
    "start_time": "2022-10-12T13:13:10.642Z"
   },
   {
    "duration": 21,
    "start_time": "2022-10-12T13:13:12.778Z"
   },
   {
    "duration": 9,
    "start_time": "2022-10-12T13:13:12.801Z"
   },
   {
    "duration": 13,
    "start_time": "2022-10-12T13:13:12.812Z"
   },
   {
    "duration": 9,
    "start_time": "2022-10-12T13:13:12.826Z"
   },
   {
    "duration": 9,
    "start_time": "2022-10-12T13:13:12.836Z"
   },
   {
    "duration": 13,
    "start_time": "2022-10-12T13:13:12.846Z"
   },
   {
    "duration": 13,
    "start_time": "2022-10-12T13:13:12.860Z"
   },
   {
    "duration": 16,
    "start_time": "2022-10-12T13:13:12.875Z"
   },
   {
    "duration": 16,
    "start_time": "2022-10-12T13:13:12.892Z"
   },
   {
    "duration": 7,
    "start_time": "2022-10-12T13:13:12.910Z"
   },
   {
    "duration": 8,
    "start_time": "2022-10-12T13:13:53.366Z"
   },
   {
    "duration": 6,
    "start_time": "2022-10-12T13:14:00.947Z"
   },
   {
    "duration": 125,
    "start_time": "2022-10-12T13:14:39.185Z"
   },
   {
    "duration": 277,
    "start_time": "2022-10-12T13:15:42.190Z"
   },
   {
    "duration": 131,
    "start_time": "2022-10-12T13:16:43.196Z"
   },
   {
    "duration": 130,
    "start_time": "2022-10-12T13:16:47.622Z"
   },
   {
    "duration": 144,
    "start_time": "2022-10-12T13:16:54.521Z"
   },
   {
    "duration": 233,
    "start_time": "2022-10-12T13:17:48.928Z"
   },
   {
    "duration": 151,
    "start_time": "2022-10-12T13:17:59.547Z"
   },
   {
    "duration": 243,
    "start_time": "2022-10-12T13:18:04.367Z"
   },
   {
    "duration": 225,
    "start_time": "2022-10-12T13:18:14.626Z"
   },
   {
    "duration": 217,
    "start_time": "2022-10-12T13:22:36.668Z"
   },
   {
    "duration": 26,
    "start_time": "2022-10-12T13:41:18.292Z"
   },
   {
    "duration": 43,
    "start_time": "2022-10-12T13:41:30.109Z"
   },
   {
    "duration": 54,
    "start_time": "2022-10-12T13:42:36.961Z"
   },
   {
    "duration": 73,
    "start_time": "2022-10-12T13:42:56.804Z"
   },
   {
    "duration": 8,
    "start_time": "2022-10-12T13:43:07.630Z"
   },
   {
    "duration": 62,
    "start_time": "2022-10-12T13:43:21.002Z"
   },
   {
    "duration": 9,
    "start_time": "2022-10-12T13:44:12.182Z"
   },
   {
    "duration": 474,
    "start_time": "2022-10-12T13:44:18.146Z"
   },
   {
    "duration": 0,
    "start_time": "2022-10-12T13:44:18.622Z"
   },
   {
    "duration": 0,
    "start_time": "2022-10-12T13:44:18.623Z"
   },
   {
    "duration": 0,
    "start_time": "2022-10-12T13:44:18.624Z"
   },
   {
    "duration": 0,
    "start_time": "2022-10-12T13:44:18.625Z"
   },
   {
    "duration": 0,
    "start_time": "2022-10-12T13:44:18.626Z"
   },
   {
    "duration": 0,
    "start_time": "2022-10-12T13:44:18.628Z"
   },
   {
    "duration": 0,
    "start_time": "2022-10-12T13:44:18.628Z"
   },
   {
    "duration": 0,
    "start_time": "2022-10-12T13:44:18.629Z"
   },
   {
    "duration": 0,
    "start_time": "2022-10-12T13:44:18.630Z"
   },
   {
    "duration": 0,
    "start_time": "2022-10-12T13:44:18.633Z"
   },
   {
    "duration": 0,
    "start_time": "2022-10-12T13:44:18.634Z"
   },
   {
    "duration": 0,
    "start_time": "2022-10-12T13:44:18.635Z"
   },
   {
    "duration": 495,
    "start_time": "2022-10-12T13:44:30.999Z"
   },
   {
    "duration": 0,
    "start_time": "2022-10-12T13:44:31.497Z"
   },
   {
    "duration": 0,
    "start_time": "2022-10-12T13:44:31.498Z"
   },
   {
    "duration": 0,
    "start_time": "2022-10-12T13:44:31.500Z"
   },
   {
    "duration": 0,
    "start_time": "2022-10-12T13:44:31.501Z"
   },
   {
    "duration": 0,
    "start_time": "2022-10-12T13:44:31.502Z"
   },
   {
    "duration": 0,
    "start_time": "2022-10-12T13:44:31.503Z"
   },
   {
    "duration": 0,
    "start_time": "2022-10-12T13:44:31.504Z"
   },
   {
    "duration": 0,
    "start_time": "2022-10-12T13:44:31.505Z"
   },
   {
    "duration": 0,
    "start_time": "2022-10-12T13:44:31.507Z"
   },
   {
    "duration": 0,
    "start_time": "2022-10-12T13:44:31.508Z"
   },
   {
    "duration": 0,
    "start_time": "2022-10-12T13:44:31.509Z"
   },
   {
    "duration": 0,
    "start_time": "2022-10-12T13:44:31.510Z"
   },
   {
    "duration": 16,
    "start_time": "2022-10-12T13:44:37.218Z"
   },
   {
    "duration": 7,
    "start_time": "2022-10-12T13:45:21.293Z"
   },
   {
    "duration": 17,
    "start_time": "2022-10-12T13:45:26.160Z"
   },
   {
    "duration": 16,
    "start_time": "2022-10-12T13:46:36.825Z"
   },
   {
    "duration": 482,
    "start_time": "2022-10-12T13:46:59.441Z"
   },
   {
    "duration": 0,
    "start_time": "2022-10-12T13:46:59.925Z"
   },
   {
    "duration": 0,
    "start_time": "2022-10-12T13:46:59.927Z"
   },
   {
    "duration": 0,
    "start_time": "2022-10-12T13:46:59.928Z"
   },
   {
    "duration": 0,
    "start_time": "2022-10-12T13:46:59.933Z"
   },
   {
    "duration": 0,
    "start_time": "2022-10-12T13:46:59.934Z"
   },
   {
    "duration": 0,
    "start_time": "2022-10-12T13:46:59.935Z"
   },
   {
    "duration": 0,
    "start_time": "2022-10-12T13:46:59.936Z"
   },
   {
    "duration": 0,
    "start_time": "2022-10-12T13:46:59.936Z"
   },
   {
    "duration": 0,
    "start_time": "2022-10-12T13:46:59.937Z"
   },
   {
    "duration": 0,
    "start_time": "2022-10-12T13:46:59.939Z"
   },
   {
    "duration": 0,
    "start_time": "2022-10-12T13:46:59.939Z"
   },
   {
    "duration": 0,
    "start_time": "2022-10-12T13:46:59.940Z"
   },
   {
    "duration": 493,
    "start_time": "2022-10-12T16:45:50.859Z"
   },
   {
    "duration": 2238,
    "start_time": "2022-10-12T16:45:55.319Z"
   },
   {
    "duration": 512,
    "start_time": "2022-10-12T16:46:01.101Z"
   },
   {
    "duration": 2154,
    "start_time": "2022-10-12T16:46:01.615Z"
   },
   {
    "duration": 25,
    "start_time": "2022-10-12T16:46:03.771Z"
   },
   {
    "duration": 37,
    "start_time": "2022-10-12T16:46:03.798Z"
   },
   {
    "duration": 27,
    "start_time": "2022-10-12T16:46:03.836Z"
   },
   {
    "duration": 36,
    "start_time": "2022-10-12T16:46:03.864Z"
   },
   {
    "duration": 33,
    "start_time": "2022-10-12T16:46:03.902Z"
   },
   {
    "duration": 19,
    "start_time": "2022-10-12T16:46:03.937Z"
   },
   {
    "duration": 32,
    "start_time": "2022-10-12T16:46:03.957Z"
   },
   {
    "duration": 19,
    "start_time": "2022-10-12T16:46:03.991Z"
   },
   {
    "duration": 29,
    "start_time": "2022-10-12T16:46:04.012Z"
   },
   {
    "duration": 238,
    "start_time": "2022-10-12T16:46:04.042Z"
   },
   {
    "duration": 61,
    "start_time": "2022-10-12T16:46:04.281Z"
   },
   {
    "duration": 66,
    "start_time": "2022-10-12T17:52:36.931Z"
   },
   {
    "duration": 50,
    "start_time": "2022-10-12T17:52:40.708Z"
   },
   {
    "duration": 72,
    "start_time": "2022-10-12T17:52:56.231Z"
   },
   {
    "duration": 72,
    "start_time": "2022-10-12T17:53:11.196Z"
   },
   {
    "duration": 72,
    "start_time": "2022-10-12T17:53:15.544Z"
   },
   {
    "duration": 72,
    "start_time": "2022-10-12T17:53:22.961Z"
   },
   {
    "duration": 62,
    "start_time": "2022-10-12T17:53:27.933Z"
   },
   {
    "duration": 43,
    "start_time": "2022-10-12T18:01:09.017Z"
   },
   {
    "duration": 91,
    "start_time": "2022-10-12T18:01:35.474Z"
   },
   {
    "duration": 15,
    "start_time": "2022-10-12T18:01:38.815Z"
   },
   {
    "duration": 437,
    "start_time": "2022-10-12T18:02:54.875Z"
   },
   {
    "duration": 494,
    "start_time": "2022-10-12T18:03:01.149Z"
   },
   {
    "duration": 2219,
    "start_time": "2022-10-12T18:03:01.646Z"
   },
   {
    "duration": 30,
    "start_time": "2022-10-12T18:03:03.867Z"
   },
   {
    "duration": 17,
    "start_time": "2022-10-12T18:03:03.900Z"
   },
   {
    "duration": 27,
    "start_time": "2022-10-12T18:03:03.920Z"
   },
   {
    "duration": 13,
    "start_time": "2022-10-12T18:03:03.950Z"
   },
   {
    "duration": 14,
    "start_time": "2022-10-12T18:03:03.965Z"
   },
   {
    "duration": 5,
    "start_time": "2022-10-12T18:03:03.981Z"
   },
   {
    "duration": 29,
    "start_time": "2022-10-12T18:03:03.988Z"
   },
   {
    "duration": 9,
    "start_time": "2022-10-12T18:03:04.021Z"
   },
   {
    "duration": 24,
    "start_time": "2022-10-12T18:03:04.032Z"
   },
   {
    "duration": 287,
    "start_time": "2022-10-12T18:03:04.058Z"
   },
   {
    "duration": 9,
    "start_time": "2022-10-12T18:03:04.347Z"
   },
   {
    "duration": 387,
    "start_time": "2022-10-12T18:03:52.940Z"
   },
   {
    "duration": 549,
    "start_time": "2022-10-12T18:03:58.383Z"
   },
   {
    "duration": 2246,
    "start_time": "2022-10-12T18:03:58.935Z"
   },
   {
    "duration": 21,
    "start_time": "2022-10-12T18:04:01.183Z"
   },
   {
    "duration": 19,
    "start_time": "2022-10-12T18:04:01.206Z"
   },
   {
    "duration": 64,
    "start_time": "2022-10-12T18:04:01.227Z"
   },
   {
    "duration": 23,
    "start_time": "2022-10-12T18:04:01.293Z"
   },
   {
    "duration": 18,
    "start_time": "2022-10-12T18:04:01.318Z"
   },
   {
    "duration": 7,
    "start_time": "2022-10-12T18:04:01.338Z"
   },
   {
    "duration": 20,
    "start_time": "2022-10-12T18:04:01.347Z"
   },
   {
    "duration": 12,
    "start_time": "2022-10-12T18:04:01.369Z"
   },
   {
    "duration": 33,
    "start_time": "2022-10-12T18:04:01.382Z"
   },
   {
    "duration": 240,
    "start_time": "2022-10-12T18:04:01.417Z"
   },
   {
    "duration": 16,
    "start_time": "2022-10-12T18:04:01.659Z"
   },
   {
    "duration": 13,
    "start_time": "2022-10-12T18:04:35.699Z"
   },
   {
    "duration": 102,
    "start_time": "2022-10-12T18:05:45.751Z"
   },
   {
    "duration": 497,
    "start_time": "2022-10-12T18:05:54.522Z"
   },
   {
    "duration": 2092,
    "start_time": "2022-10-12T18:05:55.021Z"
   },
   {
    "duration": 19,
    "start_time": "2022-10-12T18:05:57.115Z"
   },
   {
    "duration": 10,
    "start_time": "2022-10-12T18:05:57.137Z"
   },
   {
    "duration": 14,
    "start_time": "2022-10-12T18:05:57.149Z"
   },
   {
    "duration": 14,
    "start_time": "2022-10-12T18:05:57.165Z"
   },
   {
    "duration": 36,
    "start_time": "2022-10-12T18:05:57.181Z"
   },
   {
    "duration": 5,
    "start_time": "2022-10-12T18:05:57.219Z"
   },
   {
    "duration": 14,
    "start_time": "2022-10-12T18:05:57.225Z"
   },
   {
    "duration": 8,
    "start_time": "2022-10-12T18:05:57.241Z"
   },
   {
    "duration": 19,
    "start_time": "2022-10-12T18:05:57.251Z"
   },
   {
    "duration": 285,
    "start_time": "2022-10-12T18:05:57.272Z"
   },
   {
    "duration": 14,
    "start_time": "2022-10-12T18:05:57.558Z"
   },
   {
    "duration": 11,
    "start_time": "2022-10-12T18:05:57.574Z"
   },
   {
    "duration": 5,
    "start_time": "2022-10-12T18:07:17.706Z"
   },
   {
    "duration": 23,
    "start_time": "2022-10-12T18:12:18.745Z"
   },
   {
    "duration": 85,
    "start_time": "2022-10-12T18:12:39.312Z"
   },
   {
    "duration": 556,
    "start_time": "2022-10-12T18:12:47.911Z"
   },
   {
    "duration": 2116,
    "start_time": "2022-10-12T18:12:48.469Z"
   },
   {
    "duration": 19,
    "start_time": "2022-10-12T18:12:50.587Z"
   },
   {
    "duration": 10,
    "start_time": "2022-10-12T18:12:50.608Z"
   },
   {
    "duration": 37,
    "start_time": "2022-10-12T18:12:50.621Z"
   },
   {
    "duration": 10,
    "start_time": "2022-10-12T18:12:50.661Z"
   },
   {
    "duration": 18,
    "start_time": "2022-10-12T18:12:50.672Z"
   },
   {
    "duration": 4,
    "start_time": "2022-10-12T18:12:50.692Z"
   },
   {
    "duration": 13,
    "start_time": "2022-10-12T18:12:50.698Z"
   },
   {
    "duration": 7,
    "start_time": "2022-10-12T18:12:50.712Z"
   },
   {
    "duration": 17,
    "start_time": "2022-10-12T18:12:50.720Z"
   },
   {
    "duration": 246,
    "start_time": "2022-10-12T18:12:50.739Z"
   },
   {
    "duration": 111,
    "start_time": "2022-10-12T18:12:50.986Z"
   },
   {
    "duration": 0,
    "start_time": "2022-10-12T18:12:51.099Z"
   },
   {
    "duration": 14,
    "start_time": "2022-10-12T18:13:11.402Z"
   },
   {
    "duration": 457,
    "start_time": "2022-10-12T18:13:20.160Z"
   },
   {
    "duration": 2122,
    "start_time": "2022-10-12T18:13:20.619Z"
   },
   {
    "duration": 27,
    "start_time": "2022-10-12T18:13:22.743Z"
   },
   {
    "duration": 12,
    "start_time": "2022-10-12T18:13:22.773Z"
   },
   {
    "duration": 10,
    "start_time": "2022-10-12T18:13:22.787Z"
   },
   {
    "duration": 11,
    "start_time": "2022-10-12T18:13:22.799Z"
   },
   {
    "duration": 7,
    "start_time": "2022-10-12T18:13:22.811Z"
   },
   {
    "duration": 5,
    "start_time": "2022-10-12T18:13:22.819Z"
   },
   {
    "duration": 13,
    "start_time": "2022-10-12T18:13:22.826Z"
   },
   {
    "duration": 7,
    "start_time": "2022-10-12T18:13:22.842Z"
   },
   {
    "duration": 15,
    "start_time": "2022-10-12T18:13:22.850Z"
   },
   {
    "duration": 259,
    "start_time": "2022-10-12T18:13:22.867Z"
   },
   {
    "duration": 114,
    "start_time": "2022-10-12T18:13:23.128Z"
   },
   {
    "duration": 0,
    "start_time": "2022-10-12T18:13:23.244Z"
   },
   {
    "duration": 519,
    "start_time": "2022-10-12T18:14:04.600Z"
   },
   {
    "duration": 2081,
    "start_time": "2022-10-12T18:14:05.120Z"
   },
   {
    "duration": 19,
    "start_time": "2022-10-12T18:14:07.203Z"
   },
   {
    "duration": 10,
    "start_time": "2022-10-12T18:14:07.224Z"
   },
   {
    "duration": 15,
    "start_time": "2022-10-12T18:14:07.236Z"
   },
   {
    "duration": 33,
    "start_time": "2022-10-12T18:14:07.253Z"
   },
   {
    "duration": 8,
    "start_time": "2022-10-12T18:14:07.288Z"
   },
   {
    "duration": 4,
    "start_time": "2022-10-12T18:14:07.297Z"
   },
   {
    "duration": 11,
    "start_time": "2022-10-12T18:14:07.308Z"
   },
   {
    "duration": 7,
    "start_time": "2022-10-12T18:14:07.321Z"
   },
   {
    "duration": 14,
    "start_time": "2022-10-12T18:14:07.329Z"
   },
   {
    "duration": 257,
    "start_time": "2022-10-12T18:14:07.344Z"
   },
   {
    "duration": 113,
    "start_time": "2022-10-12T18:14:07.602Z"
   },
   {
    "duration": 0,
    "start_time": "2022-10-12T18:14:07.716Z"
   },
   {
    "duration": 192,
    "start_time": "2022-10-12T18:14:34.338Z"
   },
   {
    "duration": 263,
    "start_time": "2022-10-12T18:14:50.542Z"
   },
   {
    "duration": 881,
    "start_time": "2022-10-12T18:15:39.836Z"
   },
   {
    "duration": 2561,
    "start_time": "2022-10-12T18:15:40.720Z"
   },
   {
    "duration": 21,
    "start_time": "2022-10-12T18:15:43.282Z"
   },
   {
    "duration": 9,
    "start_time": "2022-10-12T18:15:43.305Z"
   },
   {
    "duration": 10,
    "start_time": "2022-10-12T18:15:43.315Z"
   },
   {
    "duration": 9,
    "start_time": "2022-10-12T18:15:43.327Z"
   },
   {
    "duration": 10,
    "start_time": "2022-10-12T18:15:43.337Z"
   },
   {
    "duration": 4,
    "start_time": "2022-10-12T18:15:43.349Z"
   },
   {
    "duration": 13,
    "start_time": "2022-10-12T18:15:43.355Z"
   },
   {
    "duration": 40,
    "start_time": "2022-10-12T18:15:43.371Z"
   },
   {
    "duration": 15,
    "start_time": "2022-10-12T18:15:43.412Z"
   },
   {
    "duration": 233,
    "start_time": "2022-10-12T18:15:43.428Z"
   },
   {
    "duration": 105,
    "start_time": "2022-10-12T18:15:43.663Z"
   },
   {
    "duration": 0,
    "start_time": "2022-10-12T18:15:43.769Z"
   },
   {
    "duration": 601,
    "start_time": "2022-10-12T18:16:12.205Z"
   },
   {
    "duration": 2137,
    "start_time": "2022-10-12T18:16:12.808Z"
   },
   {
    "duration": 21,
    "start_time": "2022-10-12T18:16:14.947Z"
   },
   {
    "duration": 10,
    "start_time": "2022-10-12T18:16:14.971Z"
   },
   {
    "duration": 12,
    "start_time": "2022-10-12T18:16:14.983Z"
   },
   {
    "duration": 18,
    "start_time": "2022-10-12T18:16:14.997Z"
   },
   {
    "duration": 20,
    "start_time": "2022-10-12T18:16:15.017Z"
   },
   {
    "duration": 3,
    "start_time": "2022-10-12T18:16:15.039Z"
   },
   {
    "duration": 18,
    "start_time": "2022-10-12T18:16:15.044Z"
   },
   {
    "duration": 7,
    "start_time": "2022-10-12T18:16:15.064Z"
   },
   {
    "duration": 38,
    "start_time": "2022-10-12T18:16:15.072Z"
   },
   {
    "duration": 231,
    "start_time": "2022-10-12T18:16:15.112Z"
   },
   {
    "duration": 101,
    "start_time": "2022-10-12T18:16:15.344Z"
   },
   {
    "duration": 0,
    "start_time": "2022-10-12T18:16:15.447Z"
   },
   {
    "duration": 25,
    "start_time": "2022-10-12T18:41:56.378Z"
   },
   {
    "duration": 229,
    "start_time": "2022-10-12T18:42:16.776Z"
   },
   {
    "duration": 47,
    "start_time": "2022-10-12T18:42:28.480Z"
   },
   {
    "duration": 48,
    "start_time": "2022-10-12T18:43:09.987Z"
   },
   {
    "duration": 8,
    "start_time": "2022-10-12T18:45:10.865Z"
   },
   {
    "duration": 10,
    "start_time": "2022-10-12T18:45:34.279Z"
   },
   {
    "duration": 111,
    "start_time": "2022-10-12T18:46:39.420Z"
   },
   {
    "duration": 167,
    "start_time": "2022-10-12T18:47:08.046Z"
   },
   {
    "duration": 8,
    "start_time": "2022-10-12T18:48:07.673Z"
   },
   {
    "duration": 106,
    "start_time": "2022-10-12T18:49:03.499Z"
   },
   {
    "duration": 9,
    "start_time": "2022-10-12T18:49:18.480Z"
   },
   {
    "duration": 298,
    "start_time": "2022-10-12T18:50:08.964Z"
   },
   {
    "duration": 4,
    "start_time": "2022-10-12T19:46:30.045Z"
   },
   {
    "duration": 13,
    "start_time": "2022-10-12T19:46:37.021Z"
   },
   {
    "duration": 228,
    "start_time": "2022-10-12T19:46:58.777Z"
   },
   {
    "duration": 459,
    "start_time": "2022-10-12T19:47:10.260Z"
   },
   {
    "duration": 2144,
    "start_time": "2022-10-12T19:47:10.721Z"
   },
   {
    "duration": 19,
    "start_time": "2022-10-12T19:47:12.867Z"
   },
   {
    "duration": 10,
    "start_time": "2022-10-12T19:47:12.888Z"
   },
   {
    "duration": 10,
    "start_time": "2022-10-12T19:47:12.900Z"
   },
   {
    "duration": 9,
    "start_time": "2022-10-12T19:47:12.912Z"
   },
   {
    "duration": 7,
    "start_time": "2022-10-12T19:47:12.923Z"
   },
   {
    "duration": 8,
    "start_time": "2022-10-12T19:47:12.931Z"
   },
   {
    "duration": 11,
    "start_time": "2022-10-12T19:47:12.940Z"
   },
   {
    "duration": 6,
    "start_time": "2022-10-12T19:47:12.953Z"
   },
   {
    "duration": 15,
    "start_time": "2022-10-12T19:47:12.961Z"
   },
   {
    "duration": 249,
    "start_time": "2022-10-12T19:47:12.977Z"
   },
   {
    "duration": 293,
    "start_time": "2022-10-12T19:47:13.228Z"
   },
   {
    "duration": 0,
    "start_time": "2022-10-12T19:47:13.523Z"
   },
   {
    "duration": 0,
    "start_time": "2022-10-12T19:47:13.524Z"
   },
   {
    "duration": 13,
    "start_time": "2022-10-12T19:47:24.045Z"
   },
   {
    "duration": 204,
    "start_time": "2022-10-12T19:47:50.980Z"
   },
   {
    "duration": 13,
    "start_time": "2022-10-12T19:48:47.482Z"
   },
   {
    "duration": 200,
    "start_time": "2022-10-12T20:09:35.216Z"
   },
   {
    "duration": 17,
    "start_time": "2022-10-12T20:10:25.780Z"
   },
   {
    "duration": 14,
    "start_time": "2022-10-12T20:10:39.064Z"
   },
   {
    "duration": 556,
    "start_time": "2022-10-12T20:10:52.498Z"
   },
   {
    "duration": 2064,
    "start_time": "2022-10-12T20:10:53.057Z"
   },
   {
    "duration": 19,
    "start_time": "2022-10-12T20:10:55.123Z"
   },
   {
    "duration": 12,
    "start_time": "2022-10-12T20:10:55.144Z"
   },
   {
    "duration": 11,
    "start_time": "2022-10-12T20:10:55.157Z"
   },
   {
    "duration": 9,
    "start_time": "2022-10-12T20:10:55.170Z"
   },
   {
    "duration": 11,
    "start_time": "2022-10-12T20:10:55.181Z"
   },
   {
    "duration": 17,
    "start_time": "2022-10-12T20:10:55.193Z"
   },
   {
    "duration": 15,
    "start_time": "2022-10-12T20:10:55.211Z"
   },
   {
    "duration": 7,
    "start_time": "2022-10-12T20:10:55.228Z"
   },
   {
    "duration": 16,
    "start_time": "2022-10-12T20:10:55.236Z"
   },
   {
    "duration": 249,
    "start_time": "2022-10-12T20:10:55.253Z"
   },
   {
    "duration": 103,
    "start_time": "2022-10-12T20:10:55.508Z"
   },
   {
    "duration": 0,
    "start_time": "2022-10-12T20:10:55.612Z"
   },
   {
    "duration": 0,
    "start_time": "2022-10-12T20:10:55.613Z"
   },
   {
    "duration": 21,
    "start_time": "2022-10-12T20:11:24.757Z"
   },
   {
    "duration": 11,
    "start_time": "2022-10-12T20:13:23.130Z"
   },
   {
    "duration": 13,
    "start_time": "2022-10-12T20:14:08.609Z"
   },
   {
    "duration": 506,
    "start_time": "2022-10-12T20:14:15.010Z"
   },
   {
    "duration": 2175,
    "start_time": "2022-10-12T20:14:15.518Z"
   },
   {
    "duration": 20,
    "start_time": "2022-10-12T20:14:17.695Z"
   },
   {
    "duration": 11,
    "start_time": "2022-10-12T20:14:17.716Z"
   },
   {
    "duration": 19,
    "start_time": "2022-10-12T20:14:17.730Z"
   },
   {
    "duration": 11,
    "start_time": "2022-10-12T20:14:17.751Z"
   },
   {
    "duration": 11,
    "start_time": "2022-10-12T20:14:17.764Z"
   },
   {
    "duration": 5,
    "start_time": "2022-10-12T20:14:17.777Z"
   },
   {
    "duration": 31,
    "start_time": "2022-10-12T20:14:17.783Z"
   },
   {
    "duration": 7,
    "start_time": "2022-10-12T20:14:17.815Z"
   },
   {
    "duration": 14,
    "start_time": "2022-10-12T20:14:17.824Z"
   },
   {
    "duration": 242,
    "start_time": "2022-10-12T20:14:17.840Z"
   },
   {
    "duration": 97,
    "start_time": "2022-10-12T20:14:18.083Z"
   },
   {
    "duration": 0,
    "start_time": "2022-10-12T20:14:18.182Z"
   },
   {
    "duration": 0,
    "start_time": "2022-10-12T20:14:18.183Z"
   },
   {
    "duration": 13,
    "start_time": "2022-10-12T20:14:54.963Z"
   },
   {
    "duration": 498,
    "start_time": "2022-10-12T20:15:05.509Z"
   },
   {
    "duration": 2048,
    "start_time": "2022-10-12T20:15:06.009Z"
   },
   {
    "duration": 18,
    "start_time": "2022-10-12T20:15:08.059Z"
   },
   {
    "duration": 10,
    "start_time": "2022-10-12T20:15:08.079Z"
   },
   {
    "duration": 9,
    "start_time": "2022-10-12T20:15:08.090Z"
   },
   {
    "duration": 13,
    "start_time": "2022-10-12T20:15:08.101Z"
   },
   {
    "duration": 21,
    "start_time": "2022-10-12T20:15:08.115Z"
   },
   {
    "duration": 4,
    "start_time": "2022-10-12T20:15:08.138Z"
   },
   {
    "duration": 18,
    "start_time": "2022-10-12T20:15:08.144Z"
   },
   {
    "duration": 16,
    "start_time": "2022-10-12T20:15:08.164Z"
   },
   {
    "duration": 20,
    "start_time": "2022-10-12T20:15:08.181Z"
   },
   {
    "duration": 225,
    "start_time": "2022-10-12T20:15:08.202Z"
   },
   {
    "duration": 94,
    "start_time": "2022-10-12T20:15:08.429Z"
   },
   {
    "duration": 0,
    "start_time": "2022-10-12T20:15:08.525Z"
   },
   {
    "duration": 0,
    "start_time": "2022-10-12T20:15:08.526Z"
   },
   {
    "duration": 5,
    "start_time": "2022-10-12T20:16:17.458Z"
   },
   {
    "duration": 5,
    "start_time": "2022-10-12T20:16:20.569Z"
   },
   {
    "duration": 15,
    "start_time": "2022-10-12T20:16:41.154Z"
   },
   {
    "duration": 9,
    "start_time": "2022-10-12T20:16:51.589Z"
   },
   {
    "duration": 9,
    "start_time": "2022-10-12T20:17:03.672Z"
   },
   {
    "duration": 543,
    "start_time": "2022-10-12T20:17:12.313Z"
   },
   {
    "duration": 2083,
    "start_time": "2022-10-12T20:17:12.858Z"
   },
   {
    "duration": 19,
    "start_time": "2022-10-12T20:17:14.943Z"
   },
   {
    "duration": 10,
    "start_time": "2022-10-12T20:17:14.964Z"
   },
   {
    "duration": 19,
    "start_time": "2022-10-12T20:17:14.976Z"
   },
   {
    "duration": 31,
    "start_time": "2022-10-12T20:17:14.997Z"
   },
   {
    "duration": 18,
    "start_time": "2022-10-12T20:17:15.029Z"
   },
   {
    "duration": 9,
    "start_time": "2022-10-12T20:17:15.049Z"
   },
   {
    "duration": 19,
    "start_time": "2022-10-12T20:17:15.060Z"
   },
   {
    "duration": 6,
    "start_time": "2022-10-12T20:17:15.080Z"
   },
   {
    "duration": 15,
    "start_time": "2022-10-12T20:17:15.088Z"
   },
   {
    "duration": 221,
    "start_time": "2022-10-12T20:17:15.105Z"
   },
   {
    "duration": 8,
    "start_time": "2022-10-12T20:17:15.327Z"
   },
   {
    "duration": 95,
    "start_time": "2022-10-12T20:17:15.337Z"
   },
   {
    "duration": 0,
    "start_time": "2022-10-12T20:17:15.433Z"
   },
   {
    "duration": 7,
    "start_time": "2022-10-12T20:19:15.133Z"
   },
   {
    "duration": 7,
    "start_time": "2022-10-12T20:19:51.936Z"
   },
   {
    "duration": 7,
    "start_time": "2022-10-12T20:20:06.261Z"
   },
   {
    "duration": 9,
    "start_time": "2022-10-12T20:37:20.567Z"
   },
   {
    "duration": 7,
    "start_time": "2022-10-12T20:37:24.038Z"
   },
   {
    "duration": 11,
    "start_time": "2022-10-12T20:39:50.649Z"
   },
   {
    "duration": 9,
    "start_time": "2022-10-12T20:41:06.838Z"
   },
   {
    "duration": 19,
    "start_time": "2022-10-12T20:41:42.655Z"
   },
   {
    "duration": 14,
    "start_time": "2022-10-12T20:41:52.163Z"
   },
   {
    "duration": 518,
    "start_time": "2022-10-12T20:42:04.083Z"
   },
   {
    "duration": 2050,
    "start_time": "2022-10-12T20:42:04.603Z"
   },
   {
    "duration": 19,
    "start_time": "2022-10-12T20:42:06.655Z"
   },
   {
    "duration": 22,
    "start_time": "2022-10-12T20:42:06.677Z"
   },
   {
    "duration": 38,
    "start_time": "2022-10-12T20:42:06.701Z"
   },
   {
    "duration": 31,
    "start_time": "2022-10-12T20:42:06.741Z"
   },
   {
    "duration": 43,
    "start_time": "2022-10-12T20:42:06.775Z"
   },
   {
    "duration": 33,
    "start_time": "2022-10-12T20:42:06.820Z"
   },
   {
    "duration": 27,
    "start_time": "2022-10-12T20:42:06.854Z"
   },
   {
    "duration": 24,
    "start_time": "2022-10-12T20:42:06.883Z"
   },
   {
    "duration": 32,
    "start_time": "2022-10-12T20:42:06.909Z"
   },
   {
    "duration": 229,
    "start_time": "2022-10-12T20:42:06.943Z"
   },
   {
    "duration": 93,
    "start_time": "2022-10-12T20:42:07.173Z"
   },
   {
    "duration": 0,
    "start_time": "2022-10-12T20:42:07.267Z"
   },
   {
    "duration": 0,
    "start_time": "2022-10-12T20:42:07.268Z"
   },
   {
    "duration": 17,
    "start_time": "2022-10-12T20:44:22.605Z"
   },
   {
    "duration": 9,
    "start_time": "2022-10-12T20:44:42.310Z"
   },
   {
    "duration": 45,
    "start_time": "2022-10-13T06:31:40.358Z"
   },
   {
    "duration": 717,
    "start_time": "2022-10-13T06:31:48.421Z"
   },
   {
    "duration": 2285,
    "start_time": "2022-10-13T06:31:49.140Z"
   },
   {
    "duration": 21,
    "start_time": "2022-10-13T06:31:51.426Z"
   },
   {
    "duration": 10,
    "start_time": "2022-10-13T06:31:51.448Z"
   },
   {
    "duration": 15,
    "start_time": "2022-10-13T06:31:51.460Z"
   },
   {
    "duration": 8,
    "start_time": "2022-10-13T06:31:51.476Z"
   },
   {
    "duration": 13,
    "start_time": "2022-10-13T06:31:51.486Z"
   },
   {
    "duration": 3,
    "start_time": "2022-10-13T06:31:51.501Z"
   },
   {
    "duration": 13,
    "start_time": "2022-10-13T06:31:51.506Z"
   },
   {
    "duration": 7,
    "start_time": "2022-10-13T06:31:51.520Z"
   },
   {
    "duration": 19,
    "start_time": "2022-10-13T06:31:51.528Z"
   },
   {
    "duration": 265,
    "start_time": "2022-10-13T06:31:51.548Z"
   },
   {
    "duration": 11,
    "start_time": "2022-10-13T06:31:51.814Z"
   },
   {
    "duration": 377,
    "start_time": "2022-10-13T06:31:51.827Z"
   },
   {
    "duration": 0,
    "start_time": "2022-10-13T06:31:52.205Z"
   },
   {
    "duration": 16,
    "start_time": "2022-10-13T06:32:42.471Z"
   },
   {
    "duration": 504,
    "start_time": "2022-10-13T06:32:53.200Z"
   },
   {
    "duration": 2162,
    "start_time": "2022-10-13T06:32:53.706Z"
   },
   {
    "duration": 21,
    "start_time": "2022-10-13T06:32:55.870Z"
   },
   {
    "duration": 9,
    "start_time": "2022-10-13T06:32:55.893Z"
   },
   {
    "duration": 12,
    "start_time": "2022-10-13T06:32:55.904Z"
   },
   {
    "duration": 9,
    "start_time": "2022-10-13T06:32:55.917Z"
   },
   {
    "duration": 12,
    "start_time": "2022-10-13T06:32:55.927Z"
   },
   {
    "duration": 5,
    "start_time": "2022-10-13T06:32:55.941Z"
   },
   {
    "duration": 14,
    "start_time": "2022-10-13T06:32:55.947Z"
   },
   {
    "duration": 33,
    "start_time": "2022-10-13T06:32:55.964Z"
   },
   {
    "duration": 16,
    "start_time": "2022-10-13T06:32:55.999Z"
   },
   {
    "duration": 250,
    "start_time": "2022-10-13T06:32:56.016Z"
   },
   {
    "duration": 80,
    "start_time": "2022-10-13T06:32:56.267Z"
   },
   {
    "duration": 20,
    "start_time": "2022-10-13T06:33:45.344Z"
   },
   {
    "duration": 11,
    "start_time": "2022-10-13T06:34:03.102Z"
   },
   {
    "duration": 266,
    "start_time": "2022-10-13T06:34:26.961Z"
   },
   {
    "duration": 521,
    "start_time": "2022-10-13T06:35:00.988Z"
   },
   {
    "duration": 2175,
    "start_time": "2022-10-13T06:35:01.510Z"
   },
   {
    "duration": 20,
    "start_time": "2022-10-13T06:35:03.686Z"
   },
   {
    "duration": 11,
    "start_time": "2022-10-13T06:35:03.708Z"
   },
   {
    "duration": 11,
    "start_time": "2022-10-13T06:35:03.720Z"
   },
   {
    "duration": 9,
    "start_time": "2022-10-13T06:35:03.732Z"
   },
   {
    "duration": 8,
    "start_time": "2022-10-13T06:35:03.743Z"
   },
   {
    "duration": 4,
    "start_time": "2022-10-13T06:35:03.753Z"
   },
   {
    "duration": 46,
    "start_time": "2022-10-13T06:35:03.759Z"
   },
   {
    "duration": 7,
    "start_time": "2022-10-13T06:35:03.807Z"
   },
   {
    "duration": 15,
    "start_time": "2022-10-13T06:35:03.816Z"
   },
   {
    "duration": 275,
    "start_time": "2022-10-13T06:35:03.833Z"
   },
   {
    "duration": 1172,
    "start_time": "2022-10-13T06:35:04.109Z"
   },
   {
    "duration": 340,
    "start_time": "2022-10-13T06:46:47.800Z"
   },
   {
    "duration": 490,
    "start_time": "2022-10-13T06:47:03.329Z"
   },
   {
    "duration": 2140,
    "start_time": "2022-10-13T06:47:03.821Z"
   },
   {
    "duration": 19,
    "start_time": "2022-10-13T06:47:05.963Z"
   },
   {
    "duration": 13,
    "start_time": "2022-10-13T06:47:05.984Z"
   },
   {
    "duration": 31,
    "start_time": "2022-10-13T06:47:05.998Z"
   },
   {
    "duration": 33,
    "start_time": "2022-10-13T06:47:06.031Z"
   },
   {
    "duration": 24,
    "start_time": "2022-10-13T06:47:06.065Z"
   },
   {
    "duration": 17,
    "start_time": "2022-10-13T06:47:06.091Z"
   },
   {
    "duration": 21,
    "start_time": "2022-10-13T06:47:06.110Z"
   },
   {
    "duration": 36,
    "start_time": "2022-10-13T06:47:06.133Z"
   },
   {
    "duration": 42,
    "start_time": "2022-10-13T06:47:06.171Z"
   },
   {
    "duration": 237,
    "start_time": "2022-10-13T06:47:06.215Z"
   },
   {
    "duration": 236,
    "start_time": "2022-10-13T06:47:06.453Z"
   },
   {
    "duration": 256,
    "start_time": "2022-10-13T06:47:24.453Z"
   },
   {
    "duration": 328,
    "start_time": "2022-10-13T06:47:47.692Z"
   },
   {
    "duration": 228,
    "start_time": "2022-10-13T06:48:19.083Z"
   },
   {
    "duration": 73,
    "start_time": "2022-10-13T06:48:44.160Z"
   },
   {
    "duration": 15,
    "start_time": "2022-10-13T06:48:53.916Z"
   },
   {
    "duration": 240,
    "start_time": "2022-10-13T06:50:01.842Z"
   },
   {
    "duration": 246,
    "start_time": "2022-10-13T06:50:16.948Z"
   },
   {
    "duration": 261,
    "start_time": "2022-10-13T06:50:23.769Z"
   },
   {
    "duration": 14,
    "start_time": "2022-10-13T06:51:10.412Z"
   },
   {
    "duration": 14,
    "start_time": "2022-10-13T07:01:15.784Z"
   },
   {
    "duration": 1042,
    "start_time": "2022-10-13T07:01:44.230Z"
   },
   {
    "duration": 15,
    "start_time": "2022-10-13T07:02:17.891Z"
   },
   {
    "duration": 14,
    "start_time": "2022-10-13T07:02:37.887Z"
   },
   {
    "duration": 0,
    "start_time": "2022-10-13T07:02:50.222Z"
   },
   {
    "duration": 585,
    "start_time": "2022-10-13T07:03:03.071Z"
   },
   {
    "duration": 2183,
    "start_time": "2022-10-13T07:03:03.658Z"
   },
   {
    "duration": 21,
    "start_time": "2022-10-13T07:03:05.842Z"
   },
   {
    "duration": 10,
    "start_time": "2022-10-13T07:03:05.865Z"
   },
   {
    "duration": 22,
    "start_time": "2022-10-13T07:03:05.876Z"
   },
   {
    "duration": 20,
    "start_time": "2022-10-13T07:03:05.900Z"
   },
   {
    "duration": 20,
    "start_time": "2022-10-13T07:03:05.922Z"
   },
   {
    "duration": 21,
    "start_time": "2022-10-13T07:03:05.944Z"
   },
   {
    "duration": 21,
    "start_time": "2022-10-13T07:03:05.967Z"
   },
   {
    "duration": 18,
    "start_time": "2022-10-13T07:03:05.990Z"
   },
   {
    "duration": 33,
    "start_time": "2022-10-13T07:03:06.010Z"
   },
   {
    "duration": 252,
    "start_time": "2022-10-13T07:03:06.045Z"
   },
   {
    "duration": 9529,
    "start_time": "2022-10-13T07:03:06.299Z"
   },
   {
    "duration": 16,
    "start_time": "2022-10-13T07:03:23.940Z"
   },
   {
    "duration": 15,
    "start_time": "2022-10-13T07:03:40.554Z"
   },
   {
    "duration": 15,
    "start_time": "2022-10-13T07:04:00.941Z"
   },
   {
    "duration": 14,
    "start_time": "2022-10-13T07:04:12.898Z"
   },
   {
    "duration": 55,
    "start_time": "2022-10-13T11:37:47.406Z"
   },
   {
    "duration": 699,
    "start_time": "2022-10-13T11:37:54.804Z"
   },
   {
    "duration": 2135,
    "start_time": "2022-10-13T11:37:55.505Z"
   },
   {
    "duration": 19,
    "start_time": "2022-10-13T11:37:57.642Z"
   },
   {
    "duration": 9,
    "start_time": "2022-10-13T11:37:57.662Z"
   },
   {
    "duration": 9,
    "start_time": "2022-10-13T11:37:57.673Z"
   },
   {
    "duration": 23,
    "start_time": "2022-10-13T11:37:57.683Z"
   },
   {
    "duration": 6,
    "start_time": "2022-10-13T11:37:57.707Z"
   },
   {
    "duration": 6,
    "start_time": "2022-10-13T11:37:57.714Z"
   },
   {
    "duration": 12,
    "start_time": "2022-10-13T11:37:57.722Z"
   },
   {
    "duration": 5,
    "start_time": "2022-10-13T11:37:57.736Z"
   },
   {
    "duration": 11,
    "start_time": "2022-10-13T11:37:57.743Z"
   },
   {
    "duration": 251,
    "start_time": "2022-10-13T11:37:57.756Z"
   },
   {
    "duration": 27,
    "start_time": "2022-10-13T11:37:58.009Z"
   },
   {
    "duration": 27,
    "start_time": "2022-10-13T11:38:16.978Z"
   },
   {
    "duration": 68,
    "start_time": "2022-10-13T11:38:54.326Z"
   },
   {
    "duration": 434,
    "start_time": "2022-10-13T12:10:25.647Z"
   },
   {
    "duration": 1984,
    "start_time": "2022-10-13T12:10:26.083Z"
   },
   {
    "duration": 22,
    "start_time": "2022-10-13T12:10:28.069Z"
   },
   {
    "duration": 10,
    "start_time": "2022-10-13T12:10:28.093Z"
   },
   {
    "duration": 13,
    "start_time": "2022-10-13T12:10:28.105Z"
   },
   {
    "duration": 9,
    "start_time": "2022-10-13T12:10:28.119Z"
   },
   {
    "duration": 26,
    "start_time": "2022-10-13T12:10:28.129Z"
   },
   {
    "duration": 11,
    "start_time": "2022-10-13T12:10:28.157Z"
   },
   {
    "duration": 16,
    "start_time": "2022-10-13T12:10:28.170Z"
   },
   {
    "duration": 6,
    "start_time": "2022-10-13T12:10:28.188Z"
   },
   {
    "duration": 15,
    "start_time": "2022-10-13T12:10:28.195Z"
   },
   {
    "duration": 217,
    "start_time": "2022-10-13T12:10:28.211Z"
   },
   {
    "duration": 157,
    "start_time": "2022-10-13T12:10:28.430Z"
   },
   {
    "duration": 17,
    "start_time": "2022-10-13T12:11:00.745Z"
   },
   {
    "duration": 429,
    "start_time": "2022-10-13T12:11:13.953Z"
   },
   {
    "duration": 2024,
    "start_time": "2022-10-13T12:11:14.384Z"
   },
   {
    "duration": 19,
    "start_time": "2022-10-13T12:11:16.410Z"
   },
   {
    "duration": 64,
    "start_time": "2022-10-13T12:11:16.431Z"
   },
   {
    "duration": 9,
    "start_time": "2022-10-13T12:11:16.498Z"
   },
   {
    "duration": 23,
    "start_time": "2022-10-13T12:11:16.509Z"
   },
   {
    "duration": 19,
    "start_time": "2022-10-13T12:11:16.533Z"
   },
   {
    "duration": 24,
    "start_time": "2022-10-13T12:11:16.553Z"
   },
   {
    "duration": 34,
    "start_time": "2022-10-13T12:11:16.578Z"
   },
   {
    "duration": 22,
    "start_time": "2022-10-13T12:11:16.613Z"
   },
   {
    "duration": 16,
    "start_time": "2022-10-13T12:11:16.636Z"
   },
   {
    "duration": 215,
    "start_time": "2022-10-13T12:11:16.654Z"
   },
   {
    "duration": 17,
    "start_time": "2022-10-13T12:11:16.870Z"
   },
   {
    "duration": 12,
    "start_time": "2022-10-13T12:11:37.650Z"
   },
   {
    "duration": 12,
    "start_time": "2022-10-13T12:20:27.768Z"
   },
   {
    "duration": 9,
    "start_time": "2022-10-13T12:21:16.948Z"
   },
   {
    "duration": 7,
    "start_time": "2022-10-13T12:21:21.810Z"
   },
   {
    "duration": 517,
    "start_time": "2022-10-13T12:21:27.293Z"
   },
   {
    "duration": 1983,
    "start_time": "2022-10-13T12:21:27.812Z"
   },
   {
    "duration": 18,
    "start_time": "2022-10-13T12:21:29.797Z"
   },
   {
    "duration": 8,
    "start_time": "2022-10-13T12:21:29.816Z"
   },
   {
    "duration": 12,
    "start_time": "2022-10-13T12:21:29.826Z"
   },
   {
    "duration": 8,
    "start_time": "2022-10-13T12:21:29.839Z"
   },
   {
    "duration": 8,
    "start_time": "2022-10-13T12:21:29.848Z"
   },
   {
    "duration": 5,
    "start_time": "2022-10-13T12:21:29.857Z"
   },
   {
    "duration": 16,
    "start_time": "2022-10-13T12:21:29.863Z"
   },
   {
    "duration": 28,
    "start_time": "2022-10-13T12:21:29.881Z"
   },
   {
    "duration": 12,
    "start_time": "2022-10-13T12:21:29.911Z"
   },
   {
    "duration": 235,
    "start_time": "2022-10-13T12:21:29.924Z"
   },
   {
    "duration": 13,
    "start_time": "2022-10-13T12:21:30.160Z"
   },
   {
    "duration": 8,
    "start_time": "2022-10-13T12:21:48.854Z"
   },
   {
    "duration": 8,
    "start_time": "2022-10-13T12:21:53.230Z"
   },
   {
    "duration": 420,
    "start_time": "2022-10-13T12:22:01.554Z"
   },
   {
    "duration": 1971,
    "start_time": "2022-10-13T12:22:01.976Z"
   },
   {
    "duration": 21,
    "start_time": "2022-10-13T12:22:03.949Z"
   },
   {
    "duration": 10,
    "start_time": "2022-10-13T12:22:03.972Z"
   },
   {
    "duration": 13,
    "start_time": "2022-10-13T12:22:03.983Z"
   },
   {
    "duration": 11,
    "start_time": "2022-10-13T12:22:03.998Z"
   },
   {
    "duration": 13,
    "start_time": "2022-10-13T12:22:04.011Z"
   },
   {
    "duration": 4,
    "start_time": "2022-10-13T12:22:04.025Z"
   },
   {
    "duration": 14,
    "start_time": "2022-10-13T12:22:04.030Z"
   },
   {
    "duration": 6,
    "start_time": "2022-10-13T12:22:04.046Z"
   },
   {
    "duration": 16,
    "start_time": "2022-10-13T12:22:04.053Z"
   },
   {
    "duration": 239,
    "start_time": "2022-10-13T12:22:04.071Z"
   },
   {
    "duration": 12,
    "start_time": "2022-10-13T12:22:04.312Z"
   },
   {
    "duration": 63,
    "start_time": "2022-10-13T12:29:11.965Z"
   },
   {
    "duration": 8,
    "start_time": "2022-10-13T12:29:48.030Z"
   },
   {
    "duration": 417,
    "start_time": "2022-10-13T12:29:56.657Z"
   },
   {
    "duration": 2035,
    "start_time": "2022-10-13T12:29:57.076Z"
   },
   {
    "duration": 19,
    "start_time": "2022-10-13T12:29:59.113Z"
   },
   {
    "duration": 9,
    "start_time": "2022-10-13T12:29:59.133Z"
   },
   {
    "duration": 22,
    "start_time": "2022-10-13T12:29:59.144Z"
   },
   {
    "duration": 12,
    "start_time": "2022-10-13T12:29:59.167Z"
   },
   {
    "duration": 11,
    "start_time": "2022-10-13T12:29:59.181Z"
   },
   {
    "duration": 7,
    "start_time": "2022-10-13T12:29:59.194Z"
   },
   {
    "duration": 18,
    "start_time": "2022-10-13T12:29:59.202Z"
   },
   {
    "duration": 12,
    "start_time": "2022-10-13T12:29:59.223Z"
   },
   {
    "duration": 15,
    "start_time": "2022-10-13T12:29:59.237Z"
   },
   {
    "duration": 223,
    "start_time": "2022-10-13T12:29:59.253Z"
   },
   {
    "duration": 10,
    "start_time": "2022-10-13T12:29:59.478Z"
   },
   {
    "duration": 69,
    "start_time": "2022-10-13T12:31:31.117Z"
   },
   {
    "duration": 10,
    "start_time": "2022-10-13T12:32:07.229Z"
   },
   {
    "duration": 9,
    "start_time": "2022-10-13T12:32:35.066Z"
   },
   {
    "duration": 10,
    "start_time": "2022-10-13T12:33:14.520Z"
   },
   {
    "duration": 483,
    "start_time": "2022-10-13T12:33:22.280Z"
   },
   {
    "duration": 1999,
    "start_time": "2022-10-13T12:33:22.764Z"
   },
   {
    "duration": 18,
    "start_time": "2022-10-13T12:33:24.765Z"
   },
   {
    "duration": 9,
    "start_time": "2022-10-13T12:33:24.785Z"
   },
   {
    "duration": 7,
    "start_time": "2022-10-13T12:33:24.796Z"
   },
   {
    "duration": 9,
    "start_time": "2022-10-13T12:33:24.804Z"
   },
   {
    "duration": 7,
    "start_time": "2022-10-13T12:33:24.815Z"
   },
   {
    "duration": 5,
    "start_time": "2022-10-13T12:33:24.823Z"
   },
   {
    "duration": 18,
    "start_time": "2022-10-13T12:33:24.829Z"
   },
   {
    "duration": 6,
    "start_time": "2022-10-13T12:33:24.849Z"
   },
   {
    "duration": 20,
    "start_time": "2022-10-13T12:33:24.856Z"
   },
   {
    "duration": 230,
    "start_time": "2022-10-13T12:33:24.877Z"
   },
   {
    "duration": 70,
    "start_time": "2022-10-13T12:33:25.108Z"
   },
   {
    "duration": 11,
    "start_time": "2022-10-13T12:33:32.891Z"
   },
   {
    "duration": 14,
    "start_time": "2022-10-13T12:33:49.299Z"
   },
   {
    "duration": 11,
    "start_time": "2022-10-13T12:35:24.464Z"
   },
   {
    "duration": 14,
    "start_time": "2022-10-13T12:41:12.506Z"
   },
   {
    "duration": 9,
    "start_time": "2022-10-13T12:42:18.721Z"
   },
   {
    "duration": 490,
    "start_time": "2022-10-13T12:42:27.222Z"
   },
   {
    "duration": 1993,
    "start_time": "2022-10-13T12:42:27.714Z"
   },
   {
    "duration": 20,
    "start_time": "2022-10-13T12:42:29.709Z"
   },
   {
    "duration": 9,
    "start_time": "2022-10-13T12:42:29.731Z"
   },
   {
    "duration": 10,
    "start_time": "2022-10-13T12:42:29.741Z"
   },
   {
    "duration": 8,
    "start_time": "2022-10-13T12:42:29.752Z"
   },
   {
    "duration": 7,
    "start_time": "2022-10-13T12:42:29.762Z"
   },
   {
    "duration": 34,
    "start_time": "2022-10-13T12:42:29.771Z"
   },
   {
    "duration": 10,
    "start_time": "2022-10-13T12:42:29.807Z"
   },
   {
    "duration": 6,
    "start_time": "2022-10-13T12:42:29.819Z"
   },
   {
    "duration": 13,
    "start_time": "2022-10-13T12:42:29.827Z"
   },
   {
    "duration": 242,
    "start_time": "2022-10-13T12:42:29.842Z"
   },
   {
    "duration": 27,
    "start_time": "2022-10-13T12:42:30.086Z"
   },
   {
    "duration": 9,
    "start_time": "2022-10-13T12:42:42.001Z"
   },
   {
    "duration": 450,
    "start_time": "2022-10-13T12:42:49.120Z"
   },
   {
    "duration": 1936,
    "start_time": "2022-10-13T12:42:49.572Z"
   },
   {
    "duration": 18,
    "start_time": "2022-10-13T12:42:51.510Z"
   },
   {
    "duration": 8,
    "start_time": "2022-10-13T12:42:51.530Z"
   },
   {
    "duration": 8,
    "start_time": "2022-10-13T12:42:51.539Z"
   },
   {
    "duration": 8,
    "start_time": "2022-10-13T12:42:51.548Z"
   },
   {
    "duration": 7,
    "start_time": "2022-10-13T12:42:51.557Z"
   },
   {
    "duration": 4,
    "start_time": "2022-10-13T12:42:51.566Z"
   },
   {
    "duration": 38,
    "start_time": "2022-10-13T12:42:51.571Z"
   },
   {
    "duration": 6,
    "start_time": "2022-10-13T12:42:51.611Z"
   },
   {
    "duration": 13,
    "start_time": "2022-10-13T12:42:51.618Z"
   },
   {
    "duration": 235,
    "start_time": "2022-10-13T12:42:51.632Z"
   },
   {
    "duration": 19,
    "start_time": "2022-10-13T12:42:51.869Z"
   },
   {
    "duration": 20,
    "start_time": "2022-10-13T12:45:09.093Z"
   },
   {
    "duration": 427,
    "start_time": "2022-10-13T12:45:16.049Z"
   },
   {
    "duration": 2046,
    "start_time": "2022-10-13T12:45:16.478Z"
   },
   {
    "duration": 19,
    "start_time": "2022-10-13T12:45:18.525Z"
   },
   {
    "duration": 8,
    "start_time": "2022-10-13T12:45:18.546Z"
   },
   {
    "duration": 11,
    "start_time": "2022-10-13T12:45:18.556Z"
   },
   {
    "duration": 17,
    "start_time": "2022-10-13T12:45:18.569Z"
   },
   {
    "duration": 24,
    "start_time": "2022-10-13T12:45:18.588Z"
   },
   {
    "duration": 16,
    "start_time": "2022-10-13T12:45:18.613Z"
   },
   {
    "duration": 27,
    "start_time": "2022-10-13T12:45:18.630Z"
   },
   {
    "duration": 7,
    "start_time": "2022-10-13T12:45:18.660Z"
   },
   {
    "duration": 17,
    "start_time": "2022-10-13T12:45:18.668Z"
   },
   {
    "duration": 226,
    "start_time": "2022-10-13T12:45:18.687Z"
   },
   {
    "duration": 22,
    "start_time": "2022-10-13T12:45:18.914Z"
   },
   {
    "duration": 86,
    "start_time": "2022-10-13T12:47:09.787Z"
   },
   {
    "duration": 25,
    "start_time": "2022-10-13T12:48:35.231Z"
   },
   {
    "duration": 14,
    "start_time": "2022-10-13T12:48:40.600Z"
   },
   {
    "duration": 72,
    "start_time": "2022-10-13T12:50:25.031Z"
   },
   {
    "duration": 79,
    "start_time": "2022-10-13T12:50:28.923Z"
   },
   {
    "duration": 16,
    "start_time": "2022-10-13T12:50:32.059Z"
   },
   {
    "duration": 14,
    "start_time": "2022-10-13T12:51:01.267Z"
   },
   {
    "duration": 15,
    "start_time": "2022-10-13T12:51:05.478Z"
   },
   {
    "duration": 514,
    "start_time": "2022-10-13T12:51:14.696Z"
   },
   {
    "duration": 1915,
    "start_time": "2022-10-13T12:51:15.212Z"
   },
   {
    "duration": 18,
    "start_time": "2022-10-13T12:51:17.129Z"
   },
   {
    "duration": 8,
    "start_time": "2022-10-13T12:51:17.149Z"
   },
   {
    "duration": 15,
    "start_time": "2022-10-13T12:51:17.158Z"
   },
   {
    "duration": 16,
    "start_time": "2022-10-13T12:51:17.174Z"
   },
   {
    "duration": 7,
    "start_time": "2022-10-13T12:51:17.191Z"
   },
   {
    "duration": 3,
    "start_time": "2022-10-13T12:51:17.200Z"
   },
   {
    "duration": 15,
    "start_time": "2022-10-13T12:51:17.204Z"
   },
   {
    "duration": 5,
    "start_time": "2022-10-13T12:51:17.222Z"
   },
   {
    "duration": 15,
    "start_time": "2022-10-13T12:51:17.229Z"
   },
   {
    "duration": 278,
    "start_time": "2022-10-13T12:51:17.245Z"
   },
   {
    "duration": 26,
    "start_time": "2022-10-13T12:51:17.525Z"
   },
   {
    "duration": 20,
    "start_time": "2022-10-13T12:52:37.752Z"
   },
   {
    "duration": 17,
    "start_time": "2022-10-13T12:52:45.685Z"
   },
   {
    "duration": 18,
    "start_time": "2022-10-13T12:52:56.334Z"
   },
   {
    "duration": 449,
    "start_time": "2022-10-13T12:53:14.044Z"
   },
   {
    "duration": 1932,
    "start_time": "2022-10-13T12:53:14.495Z"
   },
   {
    "duration": 18,
    "start_time": "2022-10-13T12:53:16.429Z"
   },
   {
    "duration": 8,
    "start_time": "2022-10-13T12:53:16.449Z"
   },
   {
    "duration": 11,
    "start_time": "2022-10-13T12:53:16.458Z"
   },
   {
    "duration": 7,
    "start_time": "2022-10-13T12:53:16.470Z"
   },
   {
    "duration": 7,
    "start_time": "2022-10-13T12:53:16.478Z"
   },
   {
    "duration": 3,
    "start_time": "2022-10-13T12:53:16.486Z"
   },
   {
    "duration": 24,
    "start_time": "2022-10-13T12:53:16.491Z"
   },
   {
    "duration": 6,
    "start_time": "2022-10-13T12:53:16.517Z"
   },
   {
    "duration": 19,
    "start_time": "2022-10-13T12:53:16.525Z"
   },
   {
    "duration": 228,
    "start_time": "2022-10-13T12:53:16.546Z"
   },
   {
    "duration": 20,
    "start_time": "2022-10-13T12:53:16.776Z"
   },
   {
    "duration": 18,
    "start_time": "2022-10-13T12:53:38.705Z"
   },
   {
    "duration": 26,
    "start_time": "2022-10-13T12:53:57.048Z"
   },
   {
    "duration": 49,
    "start_time": "2022-10-14T13:10:28.269Z"
   },
   {
    "duration": 572,
    "start_time": "2022-10-14T13:10:37.561Z"
   },
   {
    "duration": 2665,
    "start_time": "2022-10-14T13:10:38.136Z"
   },
   {
    "duration": 22,
    "start_time": "2022-10-14T13:10:40.803Z"
   },
   {
    "duration": 53,
    "start_time": "2022-10-14T13:10:40.828Z"
   },
   {
    "duration": 74,
    "start_time": "2022-10-14T13:10:40.883Z"
   },
   {
    "duration": 58,
    "start_time": "2022-10-14T13:10:40.959Z"
   },
   {
    "duration": 31,
    "start_time": "2022-10-14T13:10:41.019Z"
   },
   {
    "duration": 75,
    "start_time": "2022-10-14T13:10:41.052Z"
   },
   {
    "duration": 32,
    "start_time": "2022-10-14T13:10:41.130Z"
   },
   {
    "duration": 43,
    "start_time": "2022-10-14T13:10:41.167Z"
   },
   {
    "duration": 29,
    "start_time": "2022-10-14T13:10:41.212Z"
   },
   {
    "duration": 363,
    "start_time": "2022-10-14T13:10:41.242Z"
   },
   {
    "duration": 25,
    "start_time": "2022-10-14T13:10:41.608Z"
   },
   {
    "duration": 259,
    "start_time": "2022-10-14T13:10:41.635Z"
   },
   {
    "duration": 184,
    "start_time": "2022-10-14T13:11:08.678Z"
   },
   {
    "duration": 379,
    "start_time": "2022-10-14T13:14:09.853Z"
   },
   {
    "duration": 47,
    "start_time": "2022-10-14T18:46:21.385Z"
   },
   {
    "duration": 552,
    "start_time": "2022-10-14T18:46:28.326Z"
   },
   {
    "duration": 2345,
    "start_time": "2022-10-14T18:46:28.880Z"
   },
   {
    "duration": 19,
    "start_time": "2022-10-14T18:46:31.227Z"
   },
   {
    "duration": 9,
    "start_time": "2022-10-14T18:46:31.248Z"
   },
   {
    "duration": 11,
    "start_time": "2022-10-14T18:46:31.259Z"
   },
   {
    "duration": 9,
    "start_time": "2022-10-14T18:46:31.272Z"
   },
   {
    "duration": 8,
    "start_time": "2022-10-14T18:46:31.283Z"
   },
   {
    "duration": 6,
    "start_time": "2022-10-14T18:46:31.292Z"
   },
   {
    "duration": 38,
    "start_time": "2022-10-14T18:46:31.299Z"
   },
   {
    "duration": 7,
    "start_time": "2022-10-14T18:46:31.339Z"
   },
   {
    "duration": 13,
    "start_time": "2022-10-14T18:46:31.348Z"
   },
   {
    "duration": 252,
    "start_time": "2022-10-14T18:46:31.363Z"
   },
   {
    "duration": 29,
    "start_time": "2022-10-14T18:46:31.617Z"
   },
   {
    "duration": 241,
    "start_time": "2022-10-14T18:46:31.647Z"
   },
   {
    "duration": 325,
    "start_time": "2022-10-14T18:46:56.747Z"
   },
   {
    "duration": 163,
    "start_time": "2022-10-14T18:47:26.436Z"
   },
   {
    "duration": 19,
    "start_time": "2022-10-14T18:49:28.945Z"
   },
   {
    "duration": 88,
    "start_time": "2022-10-14T18:49:38.237Z"
   },
   {
    "duration": 459,
    "start_time": "2022-10-14T18:49:45.882Z"
   },
   {
    "duration": 2150,
    "start_time": "2022-10-14T18:49:46.343Z"
   },
   {
    "duration": 20,
    "start_time": "2022-10-14T18:49:48.495Z"
   },
   {
    "duration": 9,
    "start_time": "2022-10-14T18:49:48.517Z"
   },
   {
    "duration": 8,
    "start_time": "2022-10-14T18:49:48.528Z"
   },
   {
    "duration": 9,
    "start_time": "2022-10-14T18:49:48.538Z"
   },
   {
    "duration": 8,
    "start_time": "2022-10-14T18:49:48.549Z"
   },
   {
    "duration": 4,
    "start_time": "2022-10-14T18:49:48.559Z"
   },
   {
    "duration": 13,
    "start_time": "2022-10-14T18:49:48.564Z"
   },
   {
    "duration": 6,
    "start_time": "2022-10-14T18:49:48.579Z"
   },
   {
    "duration": 47,
    "start_time": "2022-10-14T18:49:48.587Z"
   },
   {
    "duration": 247,
    "start_time": "2022-10-14T18:49:48.636Z"
   },
   {
    "duration": 24,
    "start_time": "2022-10-14T18:49:48.885Z"
   },
   {
    "duration": 212,
    "start_time": "2022-10-14T18:49:48.910Z"
   },
   {
    "duration": 196,
    "start_time": "2022-10-14T18:50:04.299Z"
   },
   {
    "duration": 203,
    "start_time": "2022-10-14T18:50:38.467Z"
   },
   {
    "duration": 479,
    "start_time": "2022-10-14T18:50:49.649Z"
   },
   {
    "duration": 2055,
    "start_time": "2022-10-14T18:50:50.130Z"
   },
   {
    "duration": 22,
    "start_time": "2022-10-14T18:50:52.189Z"
   },
   {
    "duration": 10,
    "start_time": "2022-10-14T18:50:52.212Z"
   },
   {
    "duration": 13,
    "start_time": "2022-10-14T18:50:52.224Z"
   },
   {
    "duration": 10,
    "start_time": "2022-10-14T18:50:52.238Z"
   },
   {
    "duration": 7,
    "start_time": "2022-10-14T18:50:52.250Z"
   },
   {
    "duration": 4,
    "start_time": "2022-10-14T18:50:52.259Z"
   },
   {
    "duration": 14,
    "start_time": "2022-10-14T18:50:52.265Z"
   },
   {
    "duration": 6,
    "start_time": "2022-10-14T18:50:52.280Z"
   },
   {
    "duration": 46,
    "start_time": "2022-10-14T18:50:52.288Z"
   },
   {
    "duration": 248,
    "start_time": "2022-10-14T18:50:52.336Z"
   },
   {
    "duration": 20,
    "start_time": "2022-10-14T18:50:52.586Z"
   },
   {
    "duration": 182,
    "start_time": "2022-10-14T18:50:52.608Z"
   },
   {
    "duration": 87,
    "start_time": "2022-10-14T18:51:19.485Z"
   },
   {
    "duration": 276,
    "start_time": "2022-10-14T19:09:59.238Z"
   },
   {
    "duration": 375,
    "start_time": "2022-10-14T19:10:05.015Z"
   },
   {
    "duration": 502,
    "start_time": "2022-10-14T19:10:13.201Z"
   },
   {
    "duration": 2188,
    "start_time": "2022-10-14T19:10:13.705Z"
   },
   {
    "duration": 20,
    "start_time": "2022-10-14T19:10:15.894Z"
   },
   {
    "duration": 10,
    "start_time": "2022-10-14T19:10:15.916Z"
   },
   {
    "duration": 13,
    "start_time": "2022-10-14T19:10:15.927Z"
   },
   {
    "duration": 9,
    "start_time": "2022-10-14T19:10:15.941Z"
   },
   {
    "duration": 8,
    "start_time": "2022-10-14T19:10:15.951Z"
   },
   {
    "duration": 3,
    "start_time": "2022-10-14T19:10:15.960Z"
   },
   {
    "duration": 14,
    "start_time": "2022-10-14T19:10:15.965Z"
   },
   {
    "duration": 8,
    "start_time": "2022-10-14T19:10:15.981Z"
   },
   {
    "duration": 43,
    "start_time": "2022-10-14T19:10:15.990Z"
   },
   {
    "duration": 285,
    "start_time": "2022-10-14T19:10:16.035Z"
   },
   {
    "duration": 436,
    "start_time": "2022-10-14T19:10:16.322Z"
   },
   {
    "duration": 0,
    "start_time": "2022-10-14T19:10:16.760Z"
   },
   {
    "duration": 21,
    "start_time": "2022-10-14T19:10:55.474Z"
   },
   {
    "duration": 15,
    "start_time": "2022-10-14T19:11:47.019Z"
   },
   {
    "duration": 491,
    "start_time": "2022-10-14T19:11:53.029Z"
   },
   {
    "duration": 2171,
    "start_time": "2022-10-14T19:11:53.522Z"
   },
   {
    "duration": 21,
    "start_time": "2022-10-14T19:11:55.695Z"
   },
   {
    "duration": 15,
    "start_time": "2022-10-14T19:11:55.718Z"
   },
   {
    "duration": 7,
    "start_time": "2022-10-14T19:11:55.735Z"
   },
   {
    "duration": 12,
    "start_time": "2022-10-14T19:11:55.744Z"
   },
   {
    "duration": 7,
    "start_time": "2022-10-14T19:11:55.758Z"
   },
   {
    "duration": 4,
    "start_time": "2022-10-14T19:11:55.767Z"
   },
   {
    "duration": 15,
    "start_time": "2022-10-14T19:11:55.772Z"
   },
   {
    "duration": 44,
    "start_time": "2022-10-14T19:11:55.790Z"
   },
   {
    "duration": 16,
    "start_time": "2022-10-14T19:11:55.836Z"
   },
   {
    "duration": 256,
    "start_time": "2022-10-14T19:11:55.854Z"
   },
   {
    "duration": 24,
    "start_time": "2022-10-14T19:11:56.112Z"
   },
   {
    "duration": 209,
    "start_time": "2022-10-14T19:11:56.137Z"
   },
   {
    "duration": 15,
    "start_time": "2022-10-14T19:13:01.383Z"
   },
   {
    "duration": 14,
    "start_time": "2022-10-14T19:13:53.107Z"
   },
   {
    "duration": 7,
    "start_time": "2022-10-14T19:14:31.670Z"
   },
   {
    "duration": 14,
    "start_time": "2022-10-14T19:14:41.613Z"
   },
   {
    "duration": 155,
    "start_time": "2022-10-14T19:26:41.070Z"
   },
   {
    "duration": 157,
    "start_time": "2022-10-14T19:30:04.749Z"
   },
   {
    "duration": 165,
    "start_time": "2022-10-14T19:30:19.745Z"
   },
   {
    "duration": 4,
    "start_time": "2022-10-14T19:30:35.227Z"
   },
   {
    "duration": 9,
    "start_time": "2022-10-14T19:31:34.763Z"
   },
   {
    "duration": 268,
    "start_time": "2022-10-14T19:31:49.600Z"
   },
   {
    "duration": 88,
    "start_time": "2022-10-14T19:35:40.910Z"
   },
   {
    "duration": 36,
    "start_time": "2022-10-14T19:37:06.306Z"
   },
   {
    "duration": 31,
    "start_time": "2022-10-14T19:37:10.601Z"
   },
   {
    "duration": 30,
    "start_time": "2022-10-14T19:37:20.388Z"
   },
   {
    "duration": 114,
    "start_time": "2022-10-14T19:40:47.479Z"
   },
   {
    "duration": 179,
    "start_time": "2022-10-14T19:41:06.849Z"
   },
   {
    "duration": 197,
    "start_time": "2022-10-14T19:41:26.355Z"
   },
   {
    "duration": 586,
    "start_time": "2022-10-15T08:36:02.687Z"
   },
   {
    "duration": 2234,
    "start_time": "2022-10-15T08:36:03.275Z"
   },
   {
    "duration": 18,
    "start_time": "2022-10-15T08:36:05.511Z"
   },
   {
    "duration": 10,
    "start_time": "2022-10-15T08:36:05.531Z"
   },
   {
    "duration": 7,
    "start_time": "2022-10-15T08:36:05.542Z"
   },
   {
    "duration": 8,
    "start_time": "2022-10-15T08:36:05.551Z"
   },
   {
    "duration": 7,
    "start_time": "2022-10-15T08:36:05.561Z"
   },
   {
    "duration": 39,
    "start_time": "2022-10-15T08:36:05.570Z"
   },
   {
    "duration": 11,
    "start_time": "2022-10-15T08:36:05.611Z"
   },
   {
    "duration": 6,
    "start_time": "2022-10-15T08:36:05.624Z"
   },
   {
    "duration": 25,
    "start_time": "2022-10-15T08:36:05.632Z"
   },
   {
    "duration": 229,
    "start_time": "2022-10-15T08:36:05.659Z"
   },
   {
    "duration": 23,
    "start_time": "2022-10-15T08:36:05.890Z"
   },
   {
    "duration": 174,
    "start_time": "2022-10-15T08:36:05.915Z"
   },
   {
    "duration": 6,
    "start_time": "2022-10-15T08:36:06.091Z"
   },
   {
    "duration": 195,
    "start_time": "2022-10-15T08:36:06.109Z"
   },
   {
    "duration": 14,
    "start_time": "2022-10-15T09:49:28.492Z"
   },
   {
    "duration": 16,
    "start_time": "2022-10-15T09:49:38.279Z"
   },
   {
    "duration": 46,
    "start_time": "2022-10-15T09:49:59.152Z"
   },
   {
    "duration": 44,
    "start_time": "2022-10-15T09:50:21.267Z"
   },
   {
    "duration": 50,
    "start_time": "2022-10-15T09:51:38.511Z"
   },
   {
    "duration": 20,
    "start_time": "2022-10-15T09:51:42.520Z"
   },
   {
    "duration": 776,
    "start_time": "2022-10-15T09:52:58.685Z"
   },
   {
    "duration": 732,
    "start_time": "2022-10-15T10:43:07.625Z"
   },
   {
    "duration": 10,
    "start_time": "2022-10-15T10:47:58.256Z"
   },
   {
    "duration": 679,
    "start_time": "2022-10-15T10:48:40.418Z"
   },
   {
    "duration": 464,
    "start_time": "2022-10-15T10:48:57.741Z"
   },
   {
    "duration": 2010,
    "start_time": "2022-10-15T10:48:58.207Z"
   },
   {
    "duration": 20,
    "start_time": "2022-10-15T10:49:00.219Z"
   },
   {
    "duration": 10,
    "start_time": "2022-10-15T10:49:00.241Z"
   },
   {
    "duration": 25,
    "start_time": "2022-10-15T10:49:00.252Z"
   },
   {
    "duration": 34,
    "start_time": "2022-10-15T10:49:00.280Z"
   },
   {
    "duration": 30,
    "start_time": "2022-10-15T10:49:00.316Z"
   },
   {
    "duration": 17,
    "start_time": "2022-10-15T10:49:00.348Z"
   },
   {
    "duration": 21,
    "start_time": "2022-10-15T10:49:00.367Z"
   },
   {
    "duration": 28,
    "start_time": "2022-10-15T10:49:00.391Z"
   },
   {
    "duration": 42,
    "start_time": "2022-10-15T10:49:00.421Z"
   },
   {
    "duration": 225,
    "start_time": "2022-10-15T10:49:00.465Z"
   },
   {
    "duration": 23,
    "start_time": "2022-10-15T10:49:00.691Z"
   },
   {
    "duration": 178,
    "start_time": "2022-10-15T10:49:00.716Z"
   },
   {
    "duration": 13,
    "start_time": "2022-10-15T10:49:00.896Z"
   },
   {
    "duration": 194,
    "start_time": "2022-10-15T10:49:00.911Z"
   },
   {
    "duration": 780,
    "start_time": "2022-10-15T10:49:01.107Z"
   },
   {
    "duration": 19,
    "start_time": "2022-10-15T10:49:47.793Z"
   },
   {
    "duration": 685,
    "start_time": "2022-10-15T10:50:46.751Z"
   },
   {
    "duration": 744,
    "start_time": "2022-10-15T10:51:02.211Z"
   },
   {
    "duration": 1100,
    "start_time": "2022-10-15T15:42:36.662Z"
   },
   {
    "duration": 2408,
    "start_time": "2022-10-15T15:42:37.764Z"
   },
   {
    "duration": 20,
    "start_time": "2022-10-15T15:42:40.176Z"
   },
   {
    "duration": 10,
    "start_time": "2022-10-15T15:42:40.197Z"
   },
   {
    "duration": 14,
    "start_time": "2022-10-15T15:42:40.209Z"
   },
   {
    "duration": 12,
    "start_time": "2022-10-15T15:42:40.225Z"
   },
   {
    "duration": 12,
    "start_time": "2022-10-15T15:42:40.239Z"
   },
   {
    "duration": 5,
    "start_time": "2022-10-15T15:42:40.253Z"
   },
   {
    "duration": 40,
    "start_time": "2022-10-15T15:42:40.260Z"
   },
   {
    "duration": 7,
    "start_time": "2022-10-15T15:42:40.301Z"
   },
   {
    "duration": 17,
    "start_time": "2022-10-15T15:42:40.311Z"
   },
   {
    "duration": 259,
    "start_time": "2022-10-15T15:42:40.330Z"
   },
   {
    "duration": 14,
    "start_time": "2022-10-15T15:42:40.595Z"
   },
   {
    "duration": 181,
    "start_time": "2022-10-15T15:42:40.611Z"
   },
   {
    "duration": 9,
    "start_time": "2022-10-15T15:42:40.795Z"
   },
   {
    "duration": 205,
    "start_time": "2022-10-15T15:42:40.806Z"
   },
   {
    "duration": 1201,
    "start_time": "2022-10-15T15:42:41.013Z"
   },
   {
    "duration": 1247,
    "start_time": "2022-10-15T15:43:37.630Z"
   },
   {
    "duration": 1263,
    "start_time": "2022-10-15T15:44:16.122Z"
   },
   {
    "duration": 251,
    "start_time": "2022-10-15T15:44:43.926Z"
   },
   {
    "duration": 10,
    "start_time": "2022-10-15T15:48:18.757Z"
   },
   {
    "duration": 33,
    "start_time": "2022-10-15T15:48:30.956Z"
   },
   {
    "duration": 15,
    "start_time": "2022-10-15T15:49:08.630Z"
   },
   {
    "duration": 500,
    "start_time": "2022-10-15T15:49:25.783Z"
   },
   {
    "duration": 2343,
    "start_time": "2022-10-15T15:49:26.285Z"
   },
   {
    "duration": 30,
    "start_time": "2022-10-15T15:49:28.631Z"
   },
   {
    "duration": 11,
    "start_time": "2022-10-15T15:49:28.664Z"
   },
   {
    "duration": 21,
    "start_time": "2022-10-15T15:49:28.676Z"
   },
   {
    "duration": 9,
    "start_time": "2022-10-15T15:49:28.699Z"
   },
   {
    "duration": 8,
    "start_time": "2022-10-15T15:49:28.709Z"
   },
   {
    "duration": 3,
    "start_time": "2022-10-15T15:49:28.719Z"
   },
   {
    "duration": 13,
    "start_time": "2022-10-15T15:49:28.724Z"
   },
   {
    "duration": 6,
    "start_time": "2022-10-15T15:49:28.740Z"
   },
   {
    "duration": 56,
    "start_time": "2022-10-15T15:49:28.748Z"
   },
   {
    "duration": 283,
    "start_time": "2022-10-15T15:49:28.806Z"
   },
   {
    "duration": 17,
    "start_time": "2022-10-15T15:49:29.090Z"
   },
   {
    "duration": 201,
    "start_time": "2022-10-15T15:49:29.109Z"
   },
   {
    "duration": 7,
    "start_time": "2022-10-15T15:49:29.312Z"
   },
   {
    "duration": 49,
    "start_time": "2022-10-15T15:49:29.321Z"
   },
   {
    "duration": 86,
    "start_time": "2022-10-15T15:49:29.394Z"
   },
   {
    "duration": 15,
    "start_time": "2022-10-15T15:49:59.632Z"
   },
   {
    "duration": 33,
    "start_time": "2022-10-15T16:03:57.483Z"
   },
   {
    "duration": 33,
    "start_time": "2022-10-15T16:04:11.122Z"
   },
   {
    "duration": 28,
    "start_time": "2022-10-15T16:04:56.122Z"
   },
   {
    "duration": 34,
    "start_time": "2022-10-15T16:07:14.891Z"
   },
   {
    "duration": 10,
    "start_time": "2022-10-15T16:48:25.243Z"
   },
   {
    "duration": 19,
    "start_time": "2022-10-15T17:00:11.474Z"
   },
   {
    "duration": 553,
    "start_time": "2022-10-15T17:00:22.373Z"
   },
   {
    "duration": 2372,
    "start_time": "2022-10-15T17:00:22.929Z"
   },
   {
    "duration": 25,
    "start_time": "2022-10-15T17:00:25.302Z"
   },
   {
    "duration": 9,
    "start_time": "2022-10-15T17:00:25.329Z"
   },
   {
    "duration": 16,
    "start_time": "2022-10-15T17:00:25.340Z"
   },
   {
    "duration": 11,
    "start_time": "2022-10-15T17:00:25.358Z"
   },
   {
    "duration": 33,
    "start_time": "2022-10-15T17:00:25.371Z"
   },
   {
    "duration": 15,
    "start_time": "2022-10-15T17:00:25.405Z"
   },
   {
    "duration": 18,
    "start_time": "2022-10-15T17:00:25.422Z"
   },
   {
    "duration": 16,
    "start_time": "2022-10-15T17:00:25.443Z"
   },
   {
    "duration": 7,
    "start_time": "2022-10-15T17:00:25.461Z"
   },
   {
    "duration": 35,
    "start_time": "2022-10-15T17:00:25.470Z"
   },
   {
    "duration": 8,
    "start_time": "2022-10-15T17:00:25.507Z"
   },
   {
    "duration": 110,
    "start_time": "2022-10-15T17:00:25.518Z"
   },
   {
    "duration": 1190,
    "start_time": "2022-10-15T17:51:18.680Z"
   },
   {
    "duration": 7,
    "start_time": "2022-10-15T17:51:57.545Z"
   },
   {
    "duration": 8,
    "start_time": "2022-10-15T17:52:13.541Z"
   },
   {
    "duration": 10,
    "start_time": "2022-10-15T17:52:18.661Z"
   },
   {
    "duration": 79,
    "start_time": "2022-10-15T18:12:53.625Z"
   },
   {
    "duration": 70,
    "start_time": "2022-10-15T18:13:03.097Z"
   },
   {
    "duration": 8,
    "start_time": "2022-10-15T18:13:10.355Z"
   },
   {
    "duration": 11,
    "start_time": "2022-10-15T18:14:31.845Z"
   },
   {
    "duration": 19,
    "start_time": "2022-10-15T18:16:29.352Z"
   },
   {
    "duration": 13,
    "start_time": "2022-10-15T18:16:51.751Z"
   },
   {
    "duration": 28,
    "start_time": "2022-10-15T18:37:34.165Z"
   },
   {
    "duration": 39,
    "start_time": "2022-10-15T18:38:16.913Z"
   },
   {
    "duration": 36,
    "start_time": "2022-10-15T18:39:15.126Z"
   },
   {
    "duration": 509,
    "start_time": "2022-10-15T18:39:22.078Z"
   },
   {
    "duration": 2151,
    "start_time": "2022-10-15T18:39:22.589Z"
   },
   {
    "duration": 21,
    "start_time": "2022-10-15T18:39:24.742Z"
   },
   {
    "duration": 10,
    "start_time": "2022-10-15T18:39:24.766Z"
   },
   {
    "duration": 21,
    "start_time": "2022-10-15T18:39:24.777Z"
   },
   {
    "duration": 9,
    "start_time": "2022-10-15T18:39:24.799Z"
   },
   {
    "duration": 14,
    "start_time": "2022-10-15T18:39:24.810Z"
   },
   {
    "duration": 9,
    "start_time": "2022-10-15T18:39:24.825Z"
   },
   {
    "duration": 25,
    "start_time": "2022-10-15T18:39:24.835Z"
   },
   {
    "duration": 16,
    "start_time": "2022-10-15T18:39:24.862Z"
   },
   {
    "duration": 15,
    "start_time": "2022-10-15T18:39:24.880Z"
   },
   {
    "duration": 14,
    "start_time": "2022-10-15T18:39:24.896Z"
   },
   {
    "duration": 7,
    "start_time": "2022-10-15T18:39:24.911Z"
   },
   {
    "duration": 13,
    "start_time": "2022-10-15T18:39:24.920Z"
   },
   {
    "duration": 116,
    "start_time": "2022-10-15T18:39:24.935Z"
   },
   {
    "duration": 2873,
    "start_time": "2022-10-15T18:40:31.303Z"
   },
   {
    "duration": 20,
    "start_time": "2022-10-15T18:41:35.585Z"
   },
   {
    "duration": 8,
    "start_time": "2022-10-15T18:43:41.532Z"
   },
   {
    "duration": 507,
    "start_time": "2022-10-15T18:43:58.282Z"
   },
   {
    "duration": 2181,
    "start_time": "2022-10-15T18:43:58.791Z"
   },
   {
    "duration": 21,
    "start_time": "2022-10-15T18:44:00.974Z"
   },
   {
    "duration": 10,
    "start_time": "2022-10-15T18:44:00.997Z"
   },
   {
    "duration": 15,
    "start_time": "2022-10-15T18:44:01.009Z"
   },
   {
    "duration": 20,
    "start_time": "2022-10-15T18:44:01.026Z"
   },
   {
    "duration": 15,
    "start_time": "2022-10-15T18:44:01.048Z"
   },
   {
    "duration": 4,
    "start_time": "2022-10-15T18:44:01.065Z"
   },
   {
    "duration": 27,
    "start_time": "2022-10-15T18:44:01.071Z"
   },
   {
    "duration": 15,
    "start_time": "2022-10-15T18:44:01.102Z"
   },
   {
    "duration": 8,
    "start_time": "2022-10-15T18:44:01.119Z"
   },
   {
    "duration": 40,
    "start_time": "2022-10-15T18:44:01.129Z"
   },
   {
    "duration": 7,
    "start_time": "2022-10-15T18:44:01.170Z"
   },
   {
    "duration": 31,
    "start_time": "2022-10-15T18:44:01.179Z"
   },
   {
    "duration": 8,
    "start_time": "2022-10-15T18:44:01.212Z"
   },
   {
    "duration": 1955,
    "start_time": "2022-10-15T18:48:26.972Z"
   },
   {
    "duration": 1759,
    "start_time": "2022-10-15T18:48:47.369Z"
   },
   {
    "duration": 3765,
    "start_time": "2022-10-15T18:49:32.403Z"
   },
   {
    "duration": 16,
    "start_time": "2022-10-15T18:51:39.214Z"
   },
   {
    "duration": 14,
    "start_time": "2022-10-15T18:51:51.624Z"
   },
   {
    "duration": 13,
    "start_time": "2022-10-15T18:52:03.866Z"
   },
   {
    "duration": 15,
    "start_time": "2022-10-15T18:52:09.511Z"
   },
   {
    "duration": 17,
    "start_time": "2022-10-15T18:52:44.713Z"
   },
   {
    "duration": 15,
    "start_time": "2022-10-15T18:52:53.093Z"
   },
   {
    "duration": 3363,
    "start_time": "2022-10-15T18:53:02.104Z"
   },
   {
    "duration": 3332,
    "start_time": "2022-10-15T18:58:52.355Z"
   },
   {
    "duration": 5,
    "start_time": "2022-10-15T18:59:50.547Z"
   },
   {
    "duration": 4,
    "start_time": "2022-10-15T19:00:04.648Z"
   },
   {
    "duration": 72,
    "start_time": "2022-10-15T19:02:15.389Z"
   },
   {
    "duration": 10,
    "start_time": "2022-10-15T19:02:18.946Z"
   },
   {
    "duration": 187,
    "start_time": "2022-10-15T19:07:15.108Z"
   },
   {
    "duration": 5,
    "start_time": "2022-10-15T19:08:11.663Z"
   },
   {
    "duration": 8,
    "start_time": "2022-10-15T19:08:23.740Z"
   },
   {
    "duration": 5,
    "start_time": "2022-10-15T19:09:29.150Z"
   },
   {
    "duration": 989,
    "start_time": "2022-10-15T19:09:39.973Z"
   },
   {
    "duration": 887,
    "start_time": "2022-10-15T19:09:43.074Z"
   },
   {
    "duration": 459,
    "start_time": "2022-10-15T19:09:55.560Z"
   },
   {
    "duration": 2142,
    "start_time": "2022-10-15T19:09:56.022Z"
   },
   {
    "duration": 19,
    "start_time": "2022-10-15T19:09:58.166Z"
   },
   {
    "duration": 9,
    "start_time": "2022-10-15T19:09:58.187Z"
   },
   {
    "duration": 8,
    "start_time": "2022-10-15T19:09:58.197Z"
   },
   {
    "duration": 10,
    "start_time": "2022-10-15T19:09:58.206Z"
   },
   {
    "duration": 6,
    "start_time": "2022-10-15T19:09:58.218Z"
   },
   {
    "duration": 6,
    "start_time": "2022-10-15T19:09:58.225Z"
   },
   {
    "duration": 9,
    "start_time": "2022-10-15T19:09:58.234Z"
   },
   {
    "duration": 13,
    "start_time": "2022-10-15T19:09:58.245Z"
   },
   {
    "duration": 38,
    "start_time": "2022-10-15T19:09:58.259Z"
   },
   {
    "duration": 13,
    "start_time": "2022-10-15T19:09:58.299Z"
   },
   {
    "duration": 6,
    "start_time": "2022-10-15T19:09:58.313Z"
   },
   {
    "duration": 12,
    "start_time": "2022-10-15T19:09:58.321Z"
   },
   {
    "duration": 3813,
    "start_time": "2022-10-15T19:09:58.335Z"
   },
   {
    "duration": 9,
    "start_time": "2022-10-15T19:10:02.149Z"
   },
   {
    "duration": 76,
    "start_time": "2022-10-15T19:10:58.096Z"
   },
   {
    "duration": 10,
    "start_time": "2022-10-15T19:11:13.909Z"
   },
   {
    "duration": 104,
    "start_time": "2022-10-15T19:22:59.769Z"
   },
   {
    "duration": 482,
    "start_time": "2022-10-15T19:23:14.929Z"
   },
   {
    "duration": 2400,
    "start_time": "2022-10-15T19:23:15.413Z"
   },
   {
    "duration": 24,
    "start_time": "2022-10-15T19:23:17.815Z"
   },
   {
    "duration": 10,
    "start_time": "2022-10-15T19:23:17.841Z"
   },
   {
    "duration": 10,
    "start_time": "2022-10-15T19:23:17.853Z"
   },
   {
    "duration": 9,
    "start_time": "2022-10-15T19:23:17.865Z"
   },
   {
    "duration": 23,
    "start_time": "2022-10-15T19:23:17.876Z"
   },
   {
    "duration": 6,
    "start_time": "2022-10-15T19:23:17.901Z"
   },
   {
    "duration": 23,
    "start_time": "2022-10-15T19:23:17.908Z"
   },
   {
    "duration": 19,
    "start_time": "2022-10-15T19:23:17.935Z"
   },
   {
    "duration": 8,
    "start_time": "2022-10-15T19:23:17.956Z"
   },
   {
    "duration": 46,
    "start_time": "2022-10-15T19:23:17.966Z"
   },
   {
    "duration": 27,
    "start_time": "2022-10-15T19:23:18.016Z"
   },
   {
    "duration": 18,
    "start_time": "2022-10-15T19:23:18.045Z"
   },
   {
    "duration": 88,
    "start_time": "2022-10-15T19:23:18.064Z"
   },
   {
    "duration": 0,
    "start_time": "2022-10-15T19:23:18.154Z"
   },
   {
    "duration": 3994,
    "start_time": "2022-10-15T19:23:35.853Z"
   },
   {
    "duration": 14,
    "start_time": "2022-10-15T19:29:43.218Z"
   },
   {
    "duration": 22,
    "start_time": "2022-10-15T19:30:05.390Z"
   },
   {
    "duration": 14,
    "start_time": "2022-10-15T19:30:15.907Z"
   },
   {
    "duration": 18,
    "start_time": "2022-10-15T19:30:23.794Z"
   },
   {
    "duration": 12,
    "start_time": "2022-10-15T19:31:08.690Z"
   },
   {
    "duration": 39,
    "start_time": "2022-10-15T19:37:03.207Z"
   },
   {
    "duration": 60,
    "start_time": "2022-10-15T19:45:41.621Z"
   },
   {
    "duration": 2960,
    "start_time": "2022-10-15T19:46:36.526Z"
   },
   {
    "duration": 41,
    "start_time": "2022-10-15T19:46:44.413Z"
   },
   {
    "duration": 7,
    "start_time": "2022-10-15T19:47:34.258Z"
   },
   {
    "duration": 38,
    "start_time": "2022-10-15T19:47:39.602Z"
   },
   {
    "duration": 78,
    "start_time": "2022-10-15T20:03:28.196Z"
   },
   {
    "duration": 13,
    "start_time": "2022-10-15T20:04:06.188Z"
   },
   {
    "duration": 514,
    "start_time": "2022-10-15T20:04:22.409Z"
   },
   {
    "duration": 2040,
    "start_time": "2022-10-15T20:04:22.925Z"
   },
   {
    "duration": 23,
    "start_time": "2022-10-15T20:04:24.966Z"
   },
   {
    "duration": 9,
    "start_time": "2022-10-15T20:04:24.991Z"
   },
   {
    "duration": 12,
    "start_time": "2022-10-15T20:04:25.002Z"
   },
   {
    "duration": 11,
    "start_time": "2022-10-15T20:04:25.015Z"
   },
   {
    "duration": 8,
    "start_time": "2022-10-15T20:04:25.028Z"
   },
   {
    "duration": 5,
    "start_time": "2022-10-15T20:04:25.038Z"
   },
   {
    "duration": 14,
    "start_time": "2022-10-15T20:04:25.045Z"
   },
   {
    "duration": 46,
    "start_time": "2022-10-15T20:04:25.062Z"
   },
   {
    "duration": 8,
    "start_time": "2022-10-15T20:04:25.109Z"
   },
   {
    "duration": 14,
    "start_time": "2022-10-15T20:04:25.119Z"
   },
   {
    "duration": 8,
    "start_time": "2022-10-15T20:04:25.135Z"
   },
   {
    "duration": 14,
    "start_time": "2022-10-15T20:04:25.146Z"
   },
   {
    "duration": 4175,
    "start_time": "2022-10-15T20:04:25.195Z"
   },
   {
    "duration": 13,
    "start_time": "2022-10-15T20:04:29.372Z"
   },
   {
    "duration": 44,
    "start_time": "2022-10-15T20:04:29.396Z"
   },
   {
    "duration": 2485,
    "start_time": "2022-10-15T20:09:46.722Z"
   },
   {
    "duration": 52,
    "start_time": "2022-10-16T18:34:50.284Z"
   },
   {
    "duration": 771,
    "start_time": "2022-10-16T18:34:57.163Z"
   },
   {
    "duration": 2715,
    "start_time": "2022-10-16T18:34:57.936Z"
   },
   {
    "duration": 21,
    "start_time": "2022-10-16T18:35:00.652Z"
   },
   {
    "duration": 14,
    "start_time": "2022-10-16T18:35:00.675Z"
   },
   {
    "duration": 36,
    "start_time": "2022-10-16T18:35:00.690Z"
   },
   {
    "duration": 29,
    "start_time": "2022-10-16T18:35:00.727Z"
   },
   {
    "duration": 9,
    "start_time": "2022-10-16T18:35:00.758Z"
   },
   {
    "duration": 22,
    "start_time": "2022-10-16T18:35:00.769Z"
   },
   {
    "duration": 34,
    "start_time": "2022-10-16T18:35:00.792Z"
   },
   {
    "duration": 27,
    "start_time": "2022-10-16T18:35:00.828Z"
   },
   {
    "duration": 15,
    "start_time": "2022-10-16T18:35:00.856Z"
   },
   {
    "duration": 32,
    "start_time": "2022-10-16T18:35:00.873Z"
   },
   {
    "duration": 37,
    "start_time": "2022-10-16T18:35:00.907Z"
   },
   {
    "duration": 28,
    "start_time": "2022-10-16T18:35:00.946Z"
   },
   {
    "duration": 4113,
    "start_time": "2022-10-16T18:35:00.975Z"
   },
   {
    "duration": 17,
    "start_time": "2022-10-16T18:35:05.094Z"
   },
   {
    "duration": 41,
    "start_time": "2022-10-16T18:35:05.113Z"
   },
   {
    "duration": 94,
    "start_time": "2022-10-16T18:35:05.156Z"
   },
   {
    "duration": 15,
    "start_time": "2022-10-16T18:35:48.423Z"
   },
   {
    "duration": 5,
    "start_time": "2022-10-16T18:35:57.842Z"
   },
   {
    "duration": 4,
    "start_time": "2022-10-16T18:35:59.656Z"
   },
   {
    "duration": 43,
    "start_time": "2022-10-16T18:36:13.037Z"
   },
   {
    "duration": 4,
    "start_time": "2022-10-16T18:36:30.288Z"
   },
   {
    "duration": 42,
    "start_time": "2022-10-16T18:36:33.357Z"
   },
   {
    "duration": 17,
    "start_time": "2022-10-16T18:44:13.237Z"
   },
   {
    "duration": 519,
    "start_time": "2022-10-16T18:44:25.389Z"
   },
   {
    "duration": 2472,
    "start_time": "2022-10-16T18:44:25.911Z"
   },
   {
    "duration": 26,
    "start_time": "2022-10-16T18:44:28.385Z"
   },
   {
    "duration": 10,
    "start_time": "2022-10-16T18:44:28.413Z"
   },
   {
    "duration": 10,
    "start_time": "2022-10-16T18:44:28.425Z"
   },
   {
    "duration": 12,
    "start_time": "2022-10-16T18:44:28.436Z"
   },
   {
    "duration": 7,
    "start_time": "2022-10-16T18:44:28.449Z"
   },
   {
    "duration": 4,
    "start_time": "2022-10-16T18:44:28.458Z"
   },
   {
    "duration": 16,
    "start_time": "2022-10-16T18:44:28.494Z"
   },
   {
    "duration": 21,
    "start_time": "2022-10-16T18:44:28.512Z"
   },
   {
    "duration": 9,
    "start_time": "2022-10-16T18:44:28.534Z"
   },
   {
    "duration": 21,
    "start_time": "2022-10-16T18:44:28.545Z"
   },
   {
    "duration": 35,
    "start_time": "2022-10-16T18:44:28.568Z"
   },
   {
    "duration": 18,
    "start_time": "2022-10-16T18:44:28.605Z"
   },
   {
    "duration": 4089,
    "start_time": "2022-10-16T18:44:28.625Z"
   },
   {
    "duration": 12,
    "start_time": "2022-10-16T18:44:32.715Z"
   },
   {
    "duration": 39,
    "start_time": "2022-10-16T18:44:32.729Z"
   },
   {
    "duration": 6,
    "start_time": "2022-10-16T18:48:49.574Z"
   },
   {
    "duration": 6,
    "start_time": "2022-10-16T18:49:15.008Z"
   },
   {
    "duration": 8,
    "start_time": "2022-10-16T18:51:54.839Z"
   },
   {
    "duration": 7,
    "start_time": "2022-10-16T18:52:10.438Z"
   },
   {
    "duration": 7,
    "start_time": "2022-10-16T18:53:54.923Z"
   },
   {
    "duration": 9,
    "start_time": "2022-10-16T18:54:32.233Z"
   },
   {
    "duration": 16,
    "start_time": "2022-10-16T18:58:04.881Z"
   },
   {
    "duration": 16,
    "start_time": "2022-10-16T19:41:42.707Z"
   },
   {
    "duration": 12,
    "start_time": "2022-10-16T19:41:47.018Z"
   },
   {
    "duration": 15,
    "start_time": "2022-10-16T19:42:00.857Z"
   },
   {
    "duration": 7,
    "start_time": "2022-10-16T19:52:33.340Z"
   },
   {
    "duration": 9,
    "start_time": "2022-10-16T19:52:46.046Z"
   },
   {
    "duration": 13,
    "start_time": "2022-10-16T19:53:04.418Z"
   },
   {
    "duration": 41,
    "start_time": "2022-10-16T19:53:19.609Z"
   },
   {
    "duration": 50,
    "start_time": "2022-10-17T16:26:46.211Z"
   },
   {
    "duration": 528,
    "start_time": "2022-10-17T16:26:51.382Z"
   },
   {
    "duration": 2500,
    "start_time": "2022-10-17T16:26:51.911Z"
   },
   {
    "duration": 22,
    "start_time": "2022-10-17T16:26:54.413Z"
   },
   {
    "duration": 10,
    "start_time": "2022-10-17T16:26:54.438Z"
   },
   {
    "duration": 11,
    "start_time": "2022-10-17T16:26:54.450Z"
   },
   {
    "duration": 12,
    "start_time": "2022-10-17T16:26:54.462Z"
   },
   {
    "duration": 7,
    "start_time": "2022-10-17T16:26:54.476Z"
   },
   {
    "duration": 35,
    "start_time": "2022-10-17T16:26:54.485Z"
   },
   {
    "duration": 11,
    "start_time": "2022-10-17T16:26:54.523Z"
   },
   {
    "duration": 26,
    "start_time": "2022-10-17T16:26:54.536Z"
   },
   {
    "duration": 7,
    "start_time": "2022-10-17T16:26:54.564Z"
   },
   {
    "duration": 15,
    "start_time": "2022-10-17T16:26:54.573Z"
   },
   {
    "duration": 7,
    "start_time": "2022-10-17T16:26:54.590Z"
   },
   {
    "duration": 33,
    "start_time": "2022-10-17T16:26:54.599Z"
   },
   {
    "duration": 4158,
    "start_time": "2022-10-17T16:26:54.633Z"
   },
   {
    "duration": 12,
    "start_time": "2022-10-17T16:26:58.793Z"
   },
   {
    "duration": 83,
    "start_time": "2022-10-17T16:26:58.806Z"
   },
   {
    "duration": 25,
    "start_time": "2022-10-17T16:26:58.892Z"
   },
   {
    "duration": 96,
    "start_time": "2022-10-17T16:26:58.920Z"
   },
   {
    "duration": 0,
    "start_time": "2022-10-17T16:26:59.018Z"
   },
   {
    "duration": 0,
    "start_time": "2022-10-17T16:26:59.020Z"
   },
   {
    "duration": 0,
    "start_time": "2022-10-17T16:26:59.021Z"
   },
   {
    "duration": 0,
    "start_time": "2022-10-17T16:26:59.022Z"
   },
   {
    "duration": 15,
    "start_time": "2022-10-17T16:33:47.580Z"
   },
   {
    "duration": 82,
    "start_time": "2022-10-17T16:34:50.137Z"
   },
   {
    "duration": 18,
    "start_time": "2022-10-17T16:35:18.949Z"
   },
   {
    "duration": 536,
    "start_time": "2022-10-17T16:35:31.617Z"
   },
   {
    "duration": 2227,
    "start_time": "2022-10-17T16:35:32.156Z"
   },
   {
    "duration": 21,
    "start_time": "2022-10-17T16:35:34.385Z"
   },
   {
    "duration": 25,
    "start_time": "2022-10-17T16:35:34.408Z"
   },
   {
    "duration": 45,
    "start_time": "2022-10-17T16:35:34.435Z"
   },
   {
    "duration": 43,
    "start_time": "2022-10-17T16:35:34.482Z"
   },
   {
    "duration": 51,
    "start_time": "2022-10-17T16:35:34.528Z"
   },
   {
    "duration": 31,
    "start_time": "2022-10-17T16:35:34.581Z"
   },
   {
    "duration": 36,
    "start_time": "2022-10-17T16:35:34.614Z"
   },
   {
    "duration": 29,
    "start_time": "2022-10-17T16:35:34.652Z"
   },
   {
    "duration": 24,
    "start_time": "2022-10-17T16:35:34.683Z"
   },
   {
    "duration": 17,
    "start_time": "2022-10-17T16:35:34.709Z"
   },
   {
    "duration": 34,
    "start_time": "2022-10-17T16:35:34.729Z"
   },
   {
    "duration": 21,
    "start_time": "2022-10-17T16:35:34.764Z"
   },
   {
    "duration": 4032,
    "start_time": "2022-10-17T16:35:34.787Z"
   },
   {
    "duration": 11,
    "start_time": "2022-10-17T16:35:38.821Z"
   },
   {
    "duration": 65,
    "start_time": "2022-10-17T16:35:38.834Z"
   },
   {
    "duration": 29,
    "start_time": "2022-10-17T16:35:38.901Z"
   },
   {
    "duration": 52,
    "start_time": "2022-10-17T16:35:38.932Z"
   },
   {
    "duration": 0,
    "start_time": "2022-10-17T16:35:38.986Z"
   },
   {
    "duration": 0,
    "start_time": "2022-10-17T16:35:38.987Z"
   },
   {
    "duration": 0,
    "start_time": "2022-10-17T16:35:38.989Z"
   },
   {
    "duration": 0,
    "start_time": "2022-10-17T16:35:38.990Z"
   },
   {
    "duration": 2322,
    "start_time": "2022-10-17T16:39:59.095Z"
   },
   {
    "duration": 45,
    "start_time": "2022-10-17T17:52:37.524Z"
   },
   {
    "duration": 176,
    "start_time": "2022-10-17T17:52:50.496Z"
   },
   {
    "duration": 499,
    "start_time": "2022-10-17T17:56:57.103Z"
   },
   {
    "duration": 2347,
    "start_time": "2022-10-17T17:56:57.604Z"
   },
   {
    "duration": 22,
    "start_time": "2022-10-17T17:56:59.953Z"
   },
   {
    "duration": 10,
    "start_time": "2022-10-17T17:56:59.978Z"
   },
   {
    "duration": 9,
    "start_time": "2022-10-17T17:56:59.990Z"
   },
   {
    "duration": 22,
    "start_time": "2022-10-17T17:57:00.000Z"
   },
   {
    "duration": 13,
    "start_time": "2022-10-17T17:57:00.024Z"
   },
   {
    "duration": 22,
    "start_time": "2022-10-17T17:57:00.038Z"
   },
   {
    "duration": 18,
    "start_time": "2022-10-17T17:57:00.062Z"
   },
   {
    "duration": 22,
    "start_time": "2022-10-17T17:57:00.083Z"
   },
   {
    "duration": 35,
    "start_time": "2022-10-17T17:57:00.107Z"
   },
   {
    "duration": 47,
    "start_time": "2022-10-17T17:57:00.144Z"
   },
   {
    "duration": 32,
    "start_time": "2022-10-17T17:57:00.192Z"
   },
   {
    "duration": 37,
    "start_time": "2022-10-17T17:57:00.226Z"
   },
   {
    "duration": 4074,
    "start_time": "2022-10-17T17:57:00.265Z"
   },
   {
    "duration": 12,
    "start_time": "2022-10-17T17:57:04.341Z"
   },
   {
    "duration": 197,
    "start_time": "2022-10-17T17:57:04.355Z"
   },
   {
    "duration": 8,
    "start_time": "2022-10-17T17:57:04.553Z"
   },
   {
    "duration": 17,
    "start_time": "2022-10-17T17:57:04.562Z"
   },
   {
    "duration": 7,
    "start_time": "2022-10-17T17:57:04.580Z"
   },
   {
    "duration": 7,
    "start_time": "2022-10-17T17:57:04.589Z"
   },
   {
    "duration": 16,
    "start_time": "2022-10-17T17:59:52.465Z"
   },
   {
    "duration": 19,
    "start_time": "2022-10-17T18:00:52.573Z"
   },
   {
    "duration": 14,
    "start_time": "2022-10-17T18:01:01.019Z"
   },
   {
    "duration": 492,
    "start_time": "2022-10-17T18:02:51.980Z"
   },
   {
    "duration": 2277,
    "start_time": "2022-10-17T18:02:52.474Z"
   },
   {
    "duration": 22,
    "start_time": "2022-10-17T18:02:54.752Z"
   },
   {
    "duration": 9,
    "start_time": "2022-10-17T18:02:54.776Z"
   },
   {
    "duration": 58,
    "start_time": "2022-10-17T18:02:54.787Z"
   },
   {
    "duration": 29,
    "start_time": "2022-10-17T18:02:54.847Z"
   },
   {
    "duration": 42,
    "start_time": "2022-10-17T18:02:54.879Z"
   },
   {
    "duration": 28,
    "start_time": "2022-10-17T18:02:54.923Z"
   },
   {
    "duration": 41,
    "start_time": "2022-10-17T18:02:54.953Z"
   },
   {
    "duration": 31,
    "start_time": "2022-10-17T18:02:54.996Z"
   },
   {
    "duration": 33,
    "start_time": "2022-10-17T18:02:55.029Z"
   },
   {
    "duration": 42,
    "start_time": "2022-10-17T18:02:55.064Z"
   },
   {
    "duration": 30,
    "start_time": "2022-10-17T18:02:55.107Z"
   },
   {
    "duration": 36,
    "start_time": "2022-10-17T18:02:55.140Z"
   },
   {
    "duration": 4089,
    "start_time": "2022-10-17T18:02:55.177Z"
   },
   {
    "duration": 11,
    "start_time": "2022-10-17T18:02:59.268Z"
   },
   {
    "duration": 193,
    "start_time": "2022-10-17T18:02:59.281Z"
   },
   {
    "duration": 7,
    "start_time": "2022-10-17T18:02:59.475Z"
   },
   {
    "duration": 28,
    "start_time": "2022-10-17T18:02:59.484Z"
   },
   {
    "duration": 24,
    "start_time": "2022-10-17T18:02:59.513Z"
   },
   {
    "duration": 14,
    "start_time": "2022-10-17T18:02:59.539Z"
   },
   {
    "duration": 1000,
    "start_time": "2022-10-17T18:47:19.165Z"
   },
   {
    "duration": 175,
    "start_time": "2022-10-17T18:47:40.967Z"
   },
   {
    "duration": 524,
    "start_time": "2022-10-17T18:48:38.390Z"
   },
   {
    "duration": 2335,
    "start_time": "2022-10-17T18:48:38.916Z"
   },
   {
    "duration": 20,
    "start_time": "2022-10-17T18:48:41.253Z"
   },
   {
    "duration": 10,
    "start_time": "2022-10-17T18:48:41.276Z"
   },
   {
    "duration": 13,
    "start_time": "2022-10-17T18:48:41.287Z"
   },
   {
    "duration": 22,
    "start_time": "2022-10-17T18:48:41.302Z"
   },
   {
    "duration": 8,
    "start_time": "2022-10-17T18:48:41.325Z"
   },
   {
    "duration": 5,
    "start_time": "2022-10-17T18:48:41.334Z"
   },
   {
    "duration": 12,
    "start_time": "2022-10-17T18:48:41.341Z"
   },
   {
    "duration": 14,
    "start_time": "2022-10-17T18:48:41.356Z"
   },
   {
    "duration": 7,
    "start_time": "2022-10-17T18:48:41.372Z"
   },
   {
    "duration": 56,
    "start_time": "2022-10-17T18:48:41.380Z"
   },
   {
    "duration": 7,
    "start_time": "2022-10-17T18:48:41.438Z"
   },
   {
    "duration": 13,
    "start_time": "2022-10-17T18:48:41.447Z"
   },
   {
    "duration": 4103,
    "start_time": "2022-10-17T18:48:41.462Z"
   },
   {
    "duration": 13,
    "start_time": "2022-10-17T18:48:45.567Z"
   },
   {
    "duration": 176,
    "start_time": "2022-10-17T18:48:45.581Z"
   },
   {
    "duration": 6,
    "start_time": "2022-10-17T18:48:45.759Z"
   },
   {
    "duration": 11,
    "start_time": "2022-10-17T18:48:45.767Z"
   },
   {
    "duration": 7,
    "start_time": "2022-10-17T18:48:45.780Z"
   },
   {
    "duration": 26,
    "start_time": "2022-10-17T18:48:45.788Z"
   },
   {
    "duration": 271,
    "start_time": "2022-10-17T18:48:45.821Z"
   },
   {
    "duration": 68,
    "start_time": "2022-10-17T18:57:06.658Z"
   },
   {
    "duration": 14,
    "start_time": "2022-10-17T18:58:19.541Z"
   },
   {
    "duration": 67,
    "start_time": "2022-10-17T19:04:52.466Z"
   },
   {
    "duration": 149,
    "start_time": "2022-10-17T19:08:23.510Z"
   },
   {
    "duration": 466,
    "start_time": "2022-10-17T19:08:33.552Z"
   },
   {
    "duration": 2187,
    "start_time": "2022-10-17T19:08:34.020Z"
   },
   {
    "duration": 21,
    "start_time": "2022-10-17T19:08:36.208Z"
   },
   {
    "duration": 10,
    "start_time": "2022-10-17T19:08:36.231Z"
   },
   {
    "duration": 17,
    "start_time": "2022-10-17T19:08:36.243Z"
   },
   {
    "duration": 11,
    "start_time": "2022-10-17T19:08:36.262Z"
   },
   {
    "duration": 9,
    "start_time": "2022-10-17T19:08:36.274Z"
   },
   {
    "duration": 4,
    "start_time": "2022-10-17T19:08:36.285Z"
   },
   {
    "duration": 30,
    "start_time": "2022-10-17T19:08:36.290Z"
   },
   {
    "duration": 14,
    "start_time": "2022-10-17T19:08:36.322Z"
   },
   {
    "duration": 7,
    "start_time": "2022-10-17T19:08:36.338Z"
   },
   {
    "duration": 16,
    "start_time": "2022-10-17T19:08:36.346Z"
   },
   {
    "duration": 7,
    "start_time": "2022-10-17T19:08:36.364Z"
   },
   {
    "duration": 13,
    "start_time": "2022-10-17T19:08:36.373Z"
   },
   {
    "duration": 3973,
    "start_time": "2022-10-17T19:08:36.420Z"
   },
   {
    "duration": 10,
    "start_time": "2022-10-17T19:08:40.395Z"
   },
   {
    "duration": 201,
    "start_time": "2022-10-17T19:08:40.407Z"
   },
   {
    "duration": 14,
    "start_time": "2022-10-17T19:08:40.610Z"
   },
   {
    "duration": 38,
    "start_time": "2022-10-17T19:08:40.625Z"
   },
   {
    "duration": 29,
    "start_time": "2022-10-17T19:08:40.665Z"
   },
   {
    "duration": 19,
    "start_time": "2022-10-17T19:08:40.696Z"
   },
   {
    "duration": 158,
    "start_time": "2022-10-17T19:08:40.717Z"
   },
   {
    "duration": 71,
    "start_time": "2022-10-17T19:09:37.191Z"
   },
   {
    "duration": 81,
    "start_time": "2022-10-17T19:10:30.058Z"
   },
   {
    "duration": 365,
    "start_time": "2022-10-17T19:10:43.513Z"
   },
   {
    "duration": 267,
    "start_time": "2022-10-17T19:10:56.483Z"
   },
   {
    "duration": 281,
    "start_time": "2022-10-17T19:11:17.963Z"
   },
   {
    "duration": 302,
    "start_time": "2022-10-17T19:12:29.046Z"
   },
   {
    "duration": 271,
    "start_time": "2022-10-17T19:12:52.820Z"
   },
   {
    "duration": 343,
    "start_time": "2022-10-17T19:14:55.123Z"
   },
   {
    "duration": 9,
    "start_time": "2022-10-17T19:15:13.588Z"
   },
   {
    "duration": 7,
    "start_time": "2022-10-17T19:15:20.613Z"
   },
   {
    "duration": 49,
    "start_time": "2022-10-17T19:15:35.603Z"
   },
   {
    "duration": 9,
    "start_time": "2022-10-17T19:15:38.638Z"
   },
   {
    "duration": 10,
    "start_time": "2022-10-17T19:16:00.747Z"
   },
   {
    "duration": 7,
    "start_time": "2022-10-17T19:16:08.713Z"
   },
   {
    "duration": 9,
    "start_time": "2022-10-17T19:16:28.863Z"
   },
   {
    "duration": 9,
    "start_time": "2022-10-17T19:16:35.531Z"
   },
   {
    "duration": 4,
    "start_time": "2022-10-17T19:37:27.941Z"
   },
   {
    "duration": 7,
    "start_time": "2022-10-17T19:37:48.826Z"
   },
   {
    "duration": 8,
    "start_time": "2022-10-17T19:38:08.009Z"
   },
   {
    "duration": 11,
    "start_time": "2022-10-17T19:38:27.574Z"
   },
   {
    "duration": 13,
    "start_time": "2022-10-17T19:38:37.260Z"
   },
   {
    "duration": 7,
    "start_time": "2022-10-17T19:39:43.655Z"
   },
   {
    "duration": 11,
    "start_time": "2022-10-17T19:40:59.290Z"
   },
   {
    "duration": 89,
    "start_time": "2022-10-17T19:42:04.276Z"
   },
   {
    "duration": 507,
    "start_time": "2022-10-17T19:42:10.194Z"
   },
   {
    "duration": 2348,
    "start_time": "2022-10-17T19:42:10.703Z"
   },
   {
    "duration": 21,
    "start_time": "2022-10-17T19:42:13.052Z"
   },
   {
    "duration": 9,
    "start_time": "2022-10-17T19:42:13.076Z"
   },
   {
    "duration": 9,
    "start_time": "2022-10-17T19:42:13.087Z"
   },
   {
    "duration": 23,
    "start_time": "2022-10-17T19:42:13.098Z"
   },
   {
    "duration": 8,
    "start_time": "2022-10-17T19:42:13.123Z"
   },
   {
    "duration": 21,
    "start_time": "2022-10-17T19:42:13.133Z"
   },
   {
    "duration": 13,
    "start_time": "2022-10-17T19:42:13.156Z"
   },
   {
    "duration": 14,
    "start_time": "2022-10-17T19:42:13.172Z"
   },
   {
    "duration": 7,
    "start_time": "2022-10-17T19:42:13.188Z"
   },
   {
    "duration": 36,
    "start_time": "2022-10-17T19:42:13.196Z"
   },
   {
    "duration": 6,
    "start_time": "2022-10-17T19:42:13.234Z"
   },
   {
    "duration": 11,
    "start_time": "2022-10-17T19:42:13.241Z"
   },
   {
    "duration": 3988,
    "start_time": "2022-10-17T19:42:13.254Z"
   },
   {
    "duration": 11,
    "start_time": "2022-10-17T19:42:17.244Z"
   },
   {
    "duration": 164,
    "start_time": "2022-10-17T19:42:17.257Z"
   },
   {
    "duration": 8,
    "start_time": "2022-10-17T19:42:17.423Z"
   },
   {
    "duration": 13,
    "start_time": "2022-10-17T19:42:17.432Z"
   },
   {
    "duration": 9,
    "start_time": "2022-10-17T19:42:17.447Z"
   },
   {
    "duration": 7,
    "start_time": "2022-10-17T19:42:17.458Z"
   },
   {
    "duration": 337,
    "start_time": "2022-10-17T19:42:17.466Z"
   },
   {
    "duration": 92,
    "start_time": "2022-10-17T19:42:17.805Z"
   },
   {
    "duration": 9,
    "start_time": "2022-10-17T19:43:01.063Z"
   },
   {
    "duration": 8,
    "start_time": "2022-10-17T19:44:33.982Z"
   },
   {
    "duration": 15,
    "start_time": "2022-10-17T19:44:59.359Z"
   },
   {
    "duration": 10,
    "start_time": "2022-10-17T19:46:26.597Z"
   },
   {
    "duration": 9,
    "start_time": "2022-10-17T19:46:42.472Z"
   },
   {
    "duration": 478,
    "start_time": "2022-10-17T19:46:50.241Z"
   },
   {
    "duration": 2221,
    "start_time": "2022-10-17T19:46:50.722Z"
   },
   {
    "duration": 22,
    "start_time": "2022-10-17T19:46:52.945Z"
   },
   {
    "duration": 9,
    "start_time": "2022-10-17T19:46:52.969Z"
   },
   {
    "duration": 19,
    "start_time": "2022-10-17T19:46:52.980Z"
   },
   {
    "duration": 19,
    "start_time": "2022-10-17T19:46:53.001Z"
   },
   {
    "duration": 10,
    "start_time": "2022-10-17T19:46:53.022Z"
   },
   {
    "duration": 4,
    "start_time": "2022-10-17T19:46:53.033Z"
   },
   {
    "duration": 15,
    "start_time": "2022-10-17T19:46:53.039Z"
   },
   {
    "duration": 17,
    "start_time": "2022-10-17T19:46:53.056Z"
   },
   {
    "duration": 8,
    "start_time": "2022-10-17T19:46:53.075Z"
   },
   {
    "duration": 36,
    "start_time": "2022-10-17T19:46:53.086Z"
   },
   {
    "duration": 7,
    "start_time": "2022-10-17T19:46:53.124Z"
   },
   {
    "duration": 17,
    "start_time": "2022-10-17T19:46:53.132Z"
   },
   {
    "duration": 3916,
    "start_time": "2022-10-17T19:46:53.151Z"
   },
   {
    "duration": 12,
    "start_time": "2022-10-17T19:46:57.068Z"
   },
   {
    "duration": 171,
    "start_time": "2022-10-17T19:46:57.081Z"
   },
   {
    "duration": 9,
    "start_time": "2022-10-17T19:46:57.253Z"
   },
   {
    "duration": 10,
    "start_time": "2022-10-17T19:46:57.264Z"
   },
   {
    "duration": 7,
    "start_time": "2022-10-17T19:46:57.275Z"
   },
   {
    "duration": 12,
    "start_time": "2022-10-17T19:46:57.283Z"
   },
   {
    "duration": 322,
    "start_time": "2022-10-17T19:46:57.297Z"
   },
   {
    "duration": 9,
    "start_time": "2022-10-17T19:46:57.620Z"
   },
   {
    "duration": 70,
    "start_time": "2022-10-17T19:59:04.542Z"
   },
   {
    "duration": 8,
    "start_time": "2022-10-17T19:59:10.877Z"
   },
   {
    "duration": 15,
    "start_time": "2022-10-17T19:59:21.081Z"
   },
   {
    "duration": 10,
    "start_time": "2022-10-17T20:01:21.251Z"
   },
   {
    "duration": 11,
    "start_time": "2022-10-17T20:01:54.133Z"
   },
   {
    "duration": 503,
    "start_time": "2022-10-17T20:02:00.968Z"
   },
   {
    "duration": 2282,
    "start_time": "2022-10-17T20:02:01.473Z"
   },
   {
    "duration": 24,
    "start_time": "2022-10-17T20:02:03.757Z"
   },
   {
    "duration": 10,
    "start_time": "2022-10-17T20:02:03.783Z"
   },
   {
    "duration": 18,
    "start_time": "2022-10-17T20:02:03.795Z"
   },
   {
    "duration": 55,
    "start_time": "2022-10-17T20:02:03.815Z"
   },
   {
    "duration": 37,
    "start_time": "2022-10-17T20:02:03.871Z"
   },
   {
    "duration": 15,
    "start_time": "2022-10-17T20:02:03.910Z"
   },
   {
    "duration": 19,
    "start_time": "2022-10-17T20:02:03.926Z"
   },
   {
    "duration": 23,
    "start_time": "2022-10-17T20:02:03.948Z"
   },
   {
    "duration": 17,
    "start_time": "2022-10-17T20:02:03.973Z"
   },
   {
    "duration": 24,
    "start_time": "2022-10-17T20:02:03.992Z"
   },
   {
    "duration": 11,
    "start_time": "2022-10-17T20:02:04.018Z"
   },
   {
    "duration": 14,
    "start_time": "2022-10-17T20:02:04.031Z"
   },
   {
    "duration": 3952,
    "start_time": "2022-10-17T20:02:04.047Z"
   },
   {
    "duration": 9,
    "start_time": "2022-10-17T20:02:08.001Z"
   },
   {
    "duration": 188,
    "start_time": "2022-10-17T20:02:08.021Z"
   },
   {
    "duration": 14,
    "start_time": "2022-10-17T20:02:08.211Z"
   },
   {
    "duration": 14,
    "start_time": "2022-10-17T20:02:08.227Z"
   },
   {
    "duration": 7,
    "start_time": "2022-10-17T20:02:08.243Z"
   },
   {
    "duration": 9,
    "start_time": "2022-10-17T20:02:08.252Z"
   },
   {
    "duration": 352,
    "start_time": "2022-10-17T20:02:08.262Z"
   },
   {
    "duration": 10,
    "start_time": "2022-10-17T20:02:08.616Z"
   },
   {
    "duration": 23,
    "start_time": "2022-10-17T20:02:08.628Z"
   },
   {
    "duration": 50,
    "start_time": "2022-10-18T08:41:27.657Z"
   },
   {
    "duration": 540,
    "start_time": "2022-10-18T08:41:34.331Z"
   },
   {
    "duration": 2482,
    "start_time": "2022-10-18T08:41:34.873Z"
   },
   {
    "duration": 20,
    "start_time": "2022-10-18T08:41:37.357Z"
   },
   {
    "duration": 10,
    "start_time": "2022-10-18T08:41:37.379Z"
   },
   {
    "duration": 13,
    "start_time": "2022-10-18T08:41:37.391Z"
   },
   {
    "duration": 25,
    "start_time": "2022-10-18T08:41:37.406Z"
   },
   {
    "duration": 11,
    "start_time": "2022-10-18T08:41:37.432Z"
   },
   {
    "duration": 5,
    "start_time": "2022-10-18T08:41:37.445Z"
   },
   {
    "duration": 14,
    "start_time": "2022-10-18T08:41:37.452Z"
   },
   {
    "duration": 14,
    "start_time": "2022-10-18T08:41:37.470Z"
   },
   {
    "duration": 35,
    "start_time": "2022-10-18T08:41:37.486Z"
   },
   {
    "duration": 16,
    "start_time": "2022-10-18T08:41:37.524Z"
   },
   {
    "duration": 9,
    "start_time": "2022-10-18T08:41:37.542Z"
   },
   {
    "duration": 12,
    "start_time": "2022-10-18T08:41:37.553Z"
   },
   {
    "duration": 3978,
    "start_time": "2022-10-18T08:41:37.567Z"
   },
   {
    "duration": 11,
    "start_time": "2022-10-18T08:41:41.547Z"
   },
   {
    "duration": 212,
    "start_time": "2022-10-18T08:41:41.560Z"
   },
   {
    "duration": 9,
    "start_time": "2022-10-18T08:41:41.774Z"
   },
   {
    "duration": 14,
    "start_time": "2022-10-18T08:41:41.785Z"
   },
   {
    "duration": 22,
    "start_time": "2022-10-18T08:41:41.802Z"
   },
   {
    "duration": 48,
    "start_time": "2022-10-18T08:41:41.827Z"
   },
   {
    "duration": 352,
    "start_time": "2022-10-18T08:41:41.876Z"
   },
   {
    "duration": 8,
    "start_time": "2022-10-18T08:41:42.230Z"
   },
   {
    "duration": 19,
    "start_time": "2022-10-18T08:41:42.240Z"
   },
   {
    "duration": 162,
    "start_time": "2022-10-18T08:41:42.261Z"
   },
   {
    "duration": 84,
    "start_time": "2022-10-18T08:42:16.603Z"
   },
   {
    "duration": 133,
    "start_time": "2022-10-18T08:42:31.267Z"
   },
   {
    "duration": 148,
    "start_time": "2022-10-18T08:42:43.324Z"
   },
   {
    "duration": 297,
    "start_time": "2022-10-18T08:46:33.201Z"
   },
   {
    "duration": 165,
    "start_time": "2022-10-18T08:46:43.933Z"
   },
   {
    "duration": 155,
    "start_time": "2022-10-18T08:47:54.614Z"
   },
   {
    "duration": 160,
    "start_time": "2022-10-18T08:48:54.742Z"
   },
   {
    "duration": 519,
    "start_time": "2022-10-18T08:50:17.915Z"
   },
   {
    "duration": 2291,
    "start_time": "2022-10-18T08:50:18.436Z"
   },
   {
    "duration": 21,
    "start_time": "2022-10-18T08:50:20.728Z"
   },
   {
    "duration": 10,
    "start_time": "2022-10-18T08:50:20.751Z"
   },
   {
    "duration": 30,
    "start_time": "2022-10-18T08:50:20.763Z"
   },
   {
    "duration": 14,
    "start_time": "2022-10-18T08:50:20.795Z"
   },
   {
    "duration": 12,
    "start_time": "2022-10-18T08:50:20.810Z"
   },
   {
    "duration": 7,
    "start_time": "2022-10-18T08:50:20.823Z"
   },
   {
    "duration": 14,
    "start_time": "2022-10-18T08:50:20.832Z"
   },
   {
    "duration": 16,
    "start_time": "2022-10-18T08:50:20.849Z"
   },
   {
    "duration": 6,
    "start_time": "2022-10-18T08:50:20.867Z"
   },
   {
    "duration": 26,
    "start_time": "2022-10-18T08:50:20.875Z"
   },
   {
    "duration": 26,
    "start_time": "2022-10-18T08:50:20.903Z"
   },
   {
    "duration": 13,
    "start_time": "2022-10-18T08:50:20.930Z"
   },
   {
    "duration": 3935,
    "start_time": "2022-10-18T08:50:20.944Z"
   },
   {
    "duration": 10,
    "start_time": "2022-10-18T08:50:24.880Z"
   },
   {
    "duration": 231,
    "start_time": "2022-10-18T08:50:24.892Z"
   },
   {
    "duration": 8,
    "start_time": "2022-10-18T08:50:25.124Z"
   },
   {
    "duration": 28,
    "start_time": "2022-10-18T08:50:25.133Z"
   },
   {
    "duration": 15,
    "start_time": "2022-10-18T08:50:25.163Z"
   },
   {
    "duration": 10,
    "start_time": "2022-10-18T08:50:25.180Z"
   },
   {
    "duration": 341,
    "start_time": "2022-10-18T08:50:25.192Z"
   },
   {
    "duration": 7,
    "start_time": "2022-10-18T08:50:25.535Z"
   },
   {
    "duration": 34,
    "start_time": "2022-10-18T08:50:25.544Z"
   },
   {
    "duration": 170,
    "start_time": "2022-10-18T08:50:25.580Z"
   },
   {
    "duration": 28,
    "start_time": "2022-10-18T08:51:05.720Z"
   },
   {
    "duration": 19,
    "start_time": "2022-10-18T08:51:22.036Z"
   },
   {
    "duration": 19,
    "start_time": "2022-10-18T08:51:26.060Z"
   },
   {
    "duration": 20,
    "start_time": "2022-10-18T08:52:31.587Z"
   },
   {
    "duration": 22,
    "start_time": "2022-10-18T08:58:32.506Z"
   },
   {
    "duration": 142,
    "start_time": "2022-10-18T08:59:22.372Z"
   },
   {
    "duration": 157,
    "start_time": "2022-10-18T08:59:48.932Z"
   },
   {
    "duration": 547,
    "start_time": "2022-10-18T16:27:20.597Z"
   },
   {
    "duration": 2566,
    "start_time": "2022-10-18T16:27:21.147Z"
   },
   {
    "duration": 24,
    "start_time": "2022-10-18T16:27:23.715Z"
   },
   {
    "duration": 11,
    "start_time": "2022-10-18T16:27:23.741Z"
   },
   {
    "duration": 12,
    "start_time": "2022-10-18T16:27:23.753Z"
   },
   {
    "duration": 13,
    "start_time": "2022-10-18T16:27:23.767Z"
   },
   {
    "duration": 12,
    "start_time": "2022-10-18T16:27:23.782Z"
   },
   {
    "duration": 7,
    "start_time": "2022-10-18T16:27:23.796Z"
   },
   {
    "duration": 17,
    "start_time": "2022-10-18T16:27:23.805Z"
   },
   {
    "duration": 31,
    "start_time": "2022-10-18T16:27:23.824Z"
   },
   {
    "duration": 7,
    "start_time": "2022-10-18T16:27:23.858Z"
   },
   {
    "duration": 25,
    "start_time": "2022-10-18T16:27:23.867Z"
   },
   {
    "duration": 7,
    "start_time": "2022-10-18T16:27:23.894Z"
   },
   {
    "duration": 25,
    "start_time": "2022-10-18T16:27:23.903Z"
   },
   {
    "duration": 4212,
    "start_time": "2022-10-18T16:27:23.931Z"
   },
   {
    "duration": 18,
    "start_time": "2022-10-18T16:27:28.146Z"
   },
   {
    "duration": 202,
    "start_time": "2022-10-18T16:27:28.166Z"
   },
   {
    "duration": 9,
    "start_time": "2022-10-18T16:27:28.369Z"
   },
   {
    "duration": 10,
    "start_time": "2022-10-18T16:27:28.380Z"
   },
   {
    "duration": 7,
    "start_time": "2022-10-18T16:27:28.392Z"
   },
   {
    "duration": 10,
    "start_time": "2022-10-18T16:27:28.400Z"
   },
   {
    "duration": 381,
    "start_time": "2022-10-18T16:27:28.413Z"
   },
   {
    "duration": 9,
    "start_time": "2022-10-18T16:27:28.796Z"
   },
   {
    "duration": 24,
    "start_time": "2022-10-18T16:27:28.807Z"
   },
   {
    "duration": 201,
    "start_time": "2022-10-18T16:27:28.853Z"
   },
   {
    "duration": 22,
    "start_time": "2022-10-18T16:27:29.056Z"
   },
   {
    "duration": 20,
    "start_time": "2022-10-18T16:27:29.080Z"
   },
   {
    "duration": 50,
    "start_time": "2022-10-18T16:27:29.104Z"
   },
   {
    "duration": 197,
    "start_time": "2022-10-18T16:27:29.156Z"
   },
   {
    "duration": 243,
    "start_time": "2022-10-18T16:28:40.883Z"
   },
   {
    "duration": 24,
    "start_time": "2022-10-18T16:30:58.326Z"
   },
   {
    "duration": 248,
    "start_time": "2022-10-18T16:31:55.526Z"
   },
   {
    "duration": 957,
    "start_time": "2022-10-18T16:39:33.810Z"
   },
   {
    "duration": 165,
    "start_time": "2022-10-18T17:00:29.229Z"
   },
   {
    "duration": 186,
    "start_time": "2022-10-18T17:09:54.842Z"
   },
   {
    "duration": 152,
    "start_time": "2022-10-18T17:10:18.008Z"
   },
   {
    "duration": 157,
    "start_time": "2022-10-18T17:10:45.298Z"
   },
   {
    "duration": 167,
    "start_time": "2022-10-18T17:12:04.828Z"
   },
   {
    "duration": 168,
    "start_time": "2022-10-18T17:12:47.778Z"
   },
   {
    "duration": 135,
    "start_time": "2022-10-18T17:14:06.927Z"
   },
   {
    "duration": 132,
    "start_time": "2022-10-18T17:15:00.442Z"
   },
   {
    "duration": 132,
    "start_time": "2022-10-18T17:15:59.412Z"
   },
   {
    "duration": 235,
    "start_time": "2022-10-18T17:17:21.886Z"
   },
   {
    "duration": 118,
    "start_time": "2022-10-18T17:18:32.998Z"
   },
   {
    "duration": 157,
    "start_time": "2022-10-18T17:19:17.177Z"
   },
   {
    "duration": 134,
    "start_time": "2022-10-18T17:20:58.895Z"
   },
   {
    "duration": 127,
    "start_time": "2022-10-18T17:21:16.803Z"
   },
   {
    "duration": 139,
    "start_time": "2022-10-18T17:21:22.873Z"
   },
   {
    "duration": 164,
    "start_time": "2022-10-18T17:21:47.612Z"
   },
   {
    "duration": 145,
    "start_time": "2022-10-18T17:21:55.166Z"
   },
   {
    "duration": 20,
    "start_time": "2022-10-18T17:22:00.369Z"
   },
   {
    "duration": 155,
    "start_time": "2022-10-18T17:22:06.682Z"
   },
   {
    "duration": 160,
    "start_time": "2022-10-18T17:23:28.684Z"
   },
   {
    "duration": 256,
    "start_time": "2022-10-18T17:24:04.297Z"
   },
   {
    "duration": 20,
    "start_time": "2022-10-18T17:29:17.628Z"
   },
   {
    "duration": 20,
    "start_time": "2022-10-18T17:29:40.577Z"
   },
   {
    "duration": 22,
    "start_time": "2022-10-18T17:30:20.510Z"
   },
   {
    "duration": 70,
    "start_time": "2022-10-18T17:35:29.830Z"
   },
   {
    "duration": 400,
    "start_time": "2022-10-18T17:35:35.405Z"
   },
   {
    "duration": 273,
    "start_time": "2022-10-18T17:36:18.849Z"
   },
   {
    "duration": 11,
    "start_time": "2022-10-18T17:37:03.208Z"
   },
   {
    "duration": 12,
    "start_time": "2022-10-18T17:37:26.040Z"
   },
   {
    "duration": 10,
    "start_time": "2022-10-18T17:37:40.913Z"
   },
   {
    "duration": 262,
    "start_time": "2022-10-18T17:37:59.409Z"
   },
   {
    "duration": 165,
    "start_time": "2022-10-18T17:38:53.610Z"
   },
   {
    "duration": 270,
    "start_time": "2022-10-18T17:39:08.067Z"
   },
   {
    "duration": 49,
    "start_time": "2022-10-18T17:39:31.777Z"
   },
   {
    "duration": 270,
    "start_time": "2022-10-18T17:39:52.579Z"
   },
   {
    "duration": 42,
    "start_time": "2022-10-18T17:40:50.376Z"
   },
   {
    "duration": 74,
    "start_time": "2022-10-18T17:40:54.924Z"
   },
   {
    "duration": 124,
    "start_time": "2022-10-18T17:41:00.022Z"
   },
   {
    "duration": 50,
    "start_time": "2022-10-18T17:41:08.402Z"
   },
   {
    "duration": 261,
    "start_time": "2022-10-18T17:41:14.483Z"
   },
   {
    "duration": 677,
    "start_time": "2022-10-18T17:43:32.894Z"
   },
   {
    "duration": 664,
    "start_time": "2022-10-18T17:44:15.476Z"
   },
   {
    "duration": 994,
    "start_time": "2022-10-18T17:45:15.953Z"
   },
   {
    "duration": 892,
    "start_time": "2022-10-18T17:45:36.775Z"
   },
   {
    "duration": 420,
    "start_time": "2022-10-18T19:20:04.338Z"
   },
   {
    "duration": 5,
    "start_time": "2022-10-18T19:21:25.519Z"
   },
   {
    "duration": 247,
    "start_time": "2022-10-18T19:22:07.872Z"
   },
   {
    "duration": 139,
    "start_time": "2022-10-18T19:34:16.066Z"
   },
   {
    "duration": 137,
    "start_time": "2022-10-18T19:34:25.020Z"
   },
   {
    "duration": 10,
    "start_time": "2022-10-18T19:37:34.566Z"
   },
   {
    "duration": 11,
    "start_time": "2022-10-18T19:38:07.629Z"
   },
   {
    "duration": 131,
    "start_time": "2022-10-18T19:38:24.407Z"
   },
   {
    "duration": 163,
    "start_time": "2022-10-18T19:39:11.297Z"
   },
   {
    "duration": 136,
    "start_time": "2022-10-18T19:39:58.011Z"
   },
   {
    "duration": 152,
    "start_time": "2022-10-18T19:40:27.184Z"
   },
   {
    "duration": 61,
    "start_time": "2022-10-18T19:45:22.977Z"
   },
   {
    "duration": 164,
    "start_time": "2022-10-18T19:45:26.120Z"
   },
   {
    "duration": 154,
    "start_time": "2022-10-18T19:45:48.541Z"
   },
   {
    "duration": 248,
    "start_time": "2022-10-18T19:47:28.123Z"
   },
   {
    "duration": 270,
    "start_time": "2022-10-18T19:48:25.205Z"
   },
   {
    "duration": 269,
    "start_time": "2022-10-18T19:57:28.214Z"
   },
   {
    "duration": 146,
    "start_time": "2022-10-18T19:57:45.223Z"
   },
   {
    "duration": 16,
    "start_time": "2022-10-18T19:59:43.141Z"
   },
   {
    "duration": 17,
    "start_time": "2022-10-18T19:59:48.981Z"
   },
   {
    "duration": 18,
    "start_time": "2022-10-18T20:00:27.703Z"
   },
   {
    "duration": 16,
    "start_time": "2022-10-18T20:00:32.753Z"
   },
   {
    "duration": 16,
    "start_time": "2022-10-18T20:00:37.499Z"
   },
   {
    "duration": 16,
    "start_time": "2022-10-18T20:01:16.190Z"
   },
   {
    "duration": 17,
    "start_time": "2022-10-18T20:03:44.850Z"
   },
   {
    "duration": 492,
    "start_time": "2022-10-18T20:03:52.317Z"
   },
   {
    "duration": 2351,
    "start_time": "2022-10-18T20:03:52.810Z"
   },
   {
    "duration": 23,
    "start_time": "2022-10-18T20:03:55.163Z"
   },
   {
    "duration": 11,
    "start_time": "2022-10-18T20:03:55.188Z"
   },
   {
    "duration": 13,
    "start_time": "2022-10-18T20:03:55.202Z"
   },
   {
    "duration": 10,
    "start_time": "2022-10-18T20:03:55.218Z"
   },
   {
    "duration": 36,
    "start_time": "2022-10-18T20:03:55.230Z"
   },
   {
    "duration": 9,
    "start_time": "2022-10-18T20:03:55.268Z"
   },
   {
    "duration": 17,
    "start_time": "2022-10-18T20:03:55.279Z"
   },
   {
    "duration": 16,
    "start_time": "2022-10-18T20:03:55.297Z"
   },
   {
    "duration": 9,
    "start_time": "2022-10-18T20:03:55.315Z"
   },
   {
    "duration": 39,
    "start_time": "2022-10-18T20:03:55.326Z"
   },
   {
    "duration": 7,
    "start_time": "2022-10-18T20:03:55.366Z"
   },
   {
    "duration": 13,
    "start_time": "2022-10-18T20:03:55.377Z"
   },
   {
    "duration": 4067,
    "start_time": "2022-10-18T20:03:55.392Z"
   },
   {
    "duration": 12,
    "start_time": "2022-10-18T20:03:59.461Z"
   },
   {
    "duration": 201,
    "start_time": "2022-10-18T20:03:59.475Z"
   },
   {
    "duration": 9,
    "start_time": "2022-10-18T20:03:59.678Z"
   },
   {
    "duration": 7,
    "start_time": "2022-10-18T20:03:59.689Z"
   },
   {
    "duration": 7,
    "start_time": "2022-10-18T20:03:59.698Z"
   },
   {
    "duration": 7,
    "start_time": "2022-10-18T20:03:59.707Z"
   },
   {
    "duration": 370,
    "start_time": "2022-10-18T20:03:59.715Z"
   },
   {
    "duration": 9,
    "start_time": "2022-10-18T20:04:00.086Z"
   },
   {
    "duration": 29,
    "start_time": "2022-10-18T20:04:00.097Z"
   },
   {
    "duration": 148,
    "start_time": "2022-10-18T20:04:00.128Z"
   },
   {
    "duration": 22,
    "start_time": "2022-10-18T20:04:00.278Z"
   },
   {
    "duration": 21,
    "start_time": "2022-10-18T20:04:00.302Z"
   },
   {
    "duration": 46,
    "start_time": "2022-10-18T20:04:00.325Z"
   },
   {
    "duration": 142,
    "start_time": "2022-10-18T20:04:00.373Z"
   },
   {
    "duration": 174,
    "start_time": "2022-10-18T20:04:00.516Z"
   },
   {
    "duration": 252,
    "start_time": "2022-10-18T20:04:00.692Z"
   },
   {
    "duration": 184,
    "start_time": "2022-10-18T20:04:00.946Z"
   },
   {
    "duration": 161,
    "start_time": "2022-10-18T20:04:01.131Z"
   },
   {
    "duration": 211,
    "start_time": "2022-10-18T20:04:01.294Z"
   },
   {
    "duration": 210,
    "start_time": "2022-10-18T20:04:01.508Z"
   },
   {
    "duration": 164,
    "start_time": "2022-10-18T20:04:01.722Z"
   },
   {
    "duration": 166,
    "start_time": "2022-10-18T20:04:01.888Z"
   },
   {
    "duration": 158,
    "start_time": "2022-10-18T20:04:02.056Z"
   },
   {
    "duration": 142,
    "start_time": "2022-10-18T20:04:02.216Z"
   },
   {
    "duration": 164,
    "start_time": "2022-10-18T20:04:02.360Z"
   },
   {
    "duration": 180,
    "start_time": "2022-10-18T20:04:02.528Z"
   },
   {
    "duration": 167,
    "start_time": "2022-10-18T20:04:02.709Z"
   },
   {
    "duration": 393,
    "start_time": "2022-10-18T20:04:02.878Z"
   },
   {
    "duration": 907,
    "start_time": "2022-10-18T20:04:03.273Z"
   },
   {
    "duration": 165,
    "start_time": "2022-10-18T20:04:04.182Z"
   },
   {
    "duration": 319,
    "start_time": "2022-10-18T20:04:04.348Z"
   },
   {
    "duration": 157,
    "start_time": "2022-10-18T20:04:04.669Z"
   },
   {
    "duration": 185,
    "start_time": "2022-10-18T20:04:04.828Z"
   },
   {
    "duration": 94,
    "start_time": "2022-10-18T20:04:05.015Z"
   },
   {
    "duration": 14,
    "start_time": "2022-10-18T20:04:25.094Z"
   },
   {
    "duration": 14,
    "start_time": "2022-10-18T20:06:01.071Z"
   },
   {
    "duration": 19,
    "start_time": "2022-10-18T20:06:03.784Z"
   },
   {
    "duration": 179,
    "start_time": "2022-10-18T20:07:18.308Z"
   },
   {
    "duration": 205,
    "start_time": "2022-10-18T20:08:45.465Z"
   },
   {
    "duration": 17,
    "start_time": "2022-10-18T20:09:40.858Z"
   },
   {
    "duration": 703,
    "start_time": "2022-10-18T20:09:52.507Z"
   },
   {
    "duration": 113,
    "start_time": "2022-10-18T20:10:11.602Z"
   },
   {
    "duration": 15,
    "start_time": "2022-10-18T20:10:14.656Z"
   },
   {
    "duration": 209,
    "start_time": "2022-10-18T20:22:10.338Z"
   },
   {
    "duration": 190,
    "start_time": "2022-10-18T20:22:42.144Z"
   },
   {
    "duration": 358,
    "start_time": "2022-10-18T20:22:48.733Z"
   },
   {
    "duration": 722,
    "start_time": "2022-10-18T20:23:41.469Z"
   },
   {
    "duration": 834,
    "start_time": "2022-10-18T20:23:49.875Z"
   },
   {
    "duration": 25007,
    "start_time": "2022-10-18T20:42:01.948Z"
   },
   {
    "duration": 200,
    "start_time": "2022-10-18T20:43:11.148Z"
   },
   {
    "duration": 174,
    "start_time": "2022-10-18T20:43:21.873Z"
   },
   {
    "duration": 178,
    "start_time": "2022-10-18T21:14:07.575Z"
   },
   {
    "duration": 671,
    "start_time": "2022-10-18T21:16:20.540Z"
   },
   {
    "duration": 490,
    "start_time": "2022-10-18T21:16:46.099Z"
   },
   {
    "duration": 2321,
    "start_time": "2022-10-18T21:16:46.591Z"
   },
   {
    "duration": 22,
    "start_time": "2022-10-18T21:16:48.914Z"
   },
   {
    "duration": 10,
    "start_time": "2022-10-18T21:16:48.938Z"
   },
   {
    "duration": 12,
    "start_time": "2022-10-18T21:16:48.949Z"
   },
   {
    "duration": 14,
    "start_time": "2022-10-18T21:16:48.963Z"
   },
   {
    "duration": 8,
    "start_time": "2022-10-18T21:16:48.979Z"
   },
   {
    "duration": 4,
    "start_time": "2022-10-18T21:16:48.989Z"
   },
   {
    "duration": 15,
    "start_time": "2022-10-18T21:16:48.994Z"
   },
   {
    "duration": 14,
    "start_time": "2022-10-18T21:16:49.012Z"
   },
   {
    "duration": 29,
    "start_time": "2022-10-18T21:16:49.028Z"
   },
   {
    "duration": 17,
    "start_time": "2022-10-18T21:16:49.059Z"
   },
   {
    "duration": 6,
    "start_time": "2022-10-18T21:16:49.078Z"
   },
   {
    "duration": 36,
    "start_time": "2022-10-18T21:16:49.086Z"
   },
   {
    "duration": 3833,
    "start_time": "2022-10-18T21:16:49.124Z"
   },
   {
    "duration": 8,
    "start_time": "2022-10-18T21:16:52.959Z"
   },
   {
    "duration": 193,
    "start_time": "2022-10-18T21:16:52.969Z"
   },
   {
    "duration": 8,
    "start_time": "2022-10-18T21:16:53.164Z"
   },
   {
    "duration": 9,
    "start_time": "2022-10-18T21:16:53.174Z"
   },
   {
    "duration": 6,
    "start_time": "2022-10-18T21:16:53.185Z"
   },
   {
    "duration": 7,
    "start_time": "2022-10-18T21:16:53.193Z"
   },
   {
    "duration": 353,
    "start_time": "2022-10-18T21:16:53.201Z"
   },
   {
    "duration": 8,
    "start_time": "2022-10-18T21:16:53.555Z"
   },
   {
    "duration": 17,
    "start_time": "2022-10-18T21:16:53.565Z"
   },
   {
    "duration": 154,
    "start_time": "2022-10-18T21:16:53.583Z"
   },
   {
    "duration": 32,
    "start_time": "2022-10-18T21:16:53.739Z"
   },
   {
    "duration": 19,
    "start_time": "2022-10-18T21:16:53.773Z"
   },
   {
    "duration": 21,
    "start_time": "2022-10-18T21:16:53.796Z"
   },
   {
    "duration": 148,
    "start_time": "2022-10-18T21:16:53.819Z"
   },
   {
    "duration": 176,
    "start_time": "2022-10-18T21:16:53.969Z"
   },
   {
    "duration": 236,
    "start_time": "2022-10-18T21:16:54.147Z"
   },
   {
    "duration": 179,
    "start_time": "2022-10-18T21:16:54.385Z"
   },
   {
    "duration": 158,
    "start_time": "2022-10-18T21:16:54.565Z"
   },
   {
    "duration": 164,
    "start_time": "2022-10-18T21:16:54.725Z"
   },
   {
    "duration": 147,
    "start_time": "2022-10-18T21:16:54.891Z"
   },
   {
    "duration": 141,
    "start_time": "2022-10-18T21:16:55.039Z"
   },
   {
    "duration": 158,
    "start_time": "2022-10-18T21:16:55.181Z"
   },
   {
    "duration": 156,
    "start_time": "2022-10-18T21:16:55.341Z"
   },
   {
    "duration": 145,
    "start_time": "2022-10-18T21:16:55.499Z"
   },
   {
    "duration": 166,
    "start_time": "2022-10-18T21:16:55.645Z"
   },
   {
    "duration": 156,
    "start_time": "2022-10-18T21:16:55.813Z"
   },
   {
    "duration": 180,
    "start_time": "2022-10-18T21:16:55.971Z"
   },
   {
    "duration": 406,
    "start_time": "2022-10-18T21:16:56.154Z"
   },
   {
    "duration": 871,
    "start_time": "2022-10-18T21:16:56.561Z"
   },
   {
    "duration": 797,
    "start_time": "2022-10-18T21:16:57.433Z"
   },
   {
    "duration": 180,
    "start_time": "2022-10-18T21:16:58.232Z"
   },
   {
    "duration": 183,
    "start_time": "2022-10-18T21:16:58.414Z"
   },
   {
    "duration": 650,
    "start_time": "2022-10-18T21:16:58.599Z"
   },
   {
    "duration": 790,
    "start_time": "2022-10-18T21:17:08.987Z"
   },
   {
    "duration": 10,
    "start_time": "2022-10-18T21:23:55.676Z"
   },
   {
    "duration": 15,
    "start_time": "2022-10-18T21:24:06.097Z"
   },
   {
    "duration": 77,
    "start_time": "2022-10-18T21:24:42.238Z"
   },
   {
    "duration": 16,
    "start_time": "2022-10-18T21:24:56.856Z"
   },
   {
    "duration": 21,
    "start_time": "2022-10-18T21:25:00.420Z"
   },
   {
    "duration": 14,
    "start_time": "2022-10-18T21:25:07.073Z"
   },
   {
    "duration": 13,
    "start_time": "2022-10-18T21:25:42.295Z"
   },
   {
    "duration": 14,
    "start_time": "2022-10-18T21:25:59.499Z"
   },
   {
    "duration": 14,
    "start_time": "2022-10-18T21:26:03.941Z"
   },
   {
    "duration": 18,
    "start_time": "2022-10-18T21:26:11.549Z"
   },
   {
    "duration": 14,
    "start_time": "2022-10-18T21:28:36.108Z"
   },
   {
    "duration": 28,
    "start_time": "2022-10-18T21:34:04.265Z"
   },
   {
    "duration": 26,
    "start_time": "2022-10-18T21:34:23.064Z"
   },
   {
    "duration": 31,
    "start_time": "2022-10-18T21:34:46.935Z"
   },
   {
    "duration": 30,
    "start_time": "2022-10-18T21:35:32.888Z"
   },
   {
    "duration": 27,
    "start_time": "2022-10-18T21:35:54.302Z"
   },
   {
    "duration": 24,
    "start_time": "2022-10-18T21:36:13.788Z"
   },
   {
    "duration": 451,
    "start_time": "2022-10-18T21:36:32.405Z"
   },
   {
    "duration": 2183,
    "start_time": "2022-10-18T21:36:32.858Z"
   },
   {
    "duration": 22,
    "start_time": "2022-10-18T21:36:35.042Z"
   },
   {
    "duration": 9,
    "start_time": "2022-10-18T21:36:35.065Z"
   },
   {
    "duration": 10,
    "start_time": "2022-10-18T21:36:35.076Z"
   },
   {
    "duration": 12,
    "start_time": "2022-10-18T21:36:35.088Z"
   },
   {
    "duration": 10,
    "start_time": "2022-10-18T21:36:35.102Z"
   },
   {
    "duration": 4,
    "start_time": "2022-10-18T21:36:35.114Z"
   },
   {
    "duration": 40,
    "start_time": "2022-10-18T21:36:35.120Z"
   },
   {
    "duration": 15,
    "start_time": "2022-10-18T21:36:35.162Z"
   },
   {
    "duration": 9,
    "start_time": "2022-10-18T21:36:35.180Z"
   },
   {
    "duration": 21,
    "start_time": "2022-10-18T21:36:35.190Z"
   },
   {
    "duration": 8,
    "start_time": "2022-10-18T21:36:35.212Z"
   },
   {
    "duration": 19,
    "start_time": "2022-10-18T21:36:35.257Z"
   },
   {
    "duration": 3937,
    "start_time": "2022-10-18T21:36:35.278Z"
   },
   {
    "duration": 10,
    "start_time": "2022-10-18T21:36:39.216Z"
   },
   {
    "duration": 199,
    "start_time": "2022-10-18T21:36:39.228Z"
   },
   {
    "duration": 8,
    "start_time": "2022-10-18T21:36:39.429Z"
   },
   {
    "duration": 18,
    "start_time": "2022-10-18T21:36:39.439Z"
   },
   {
    "duration": 7,
    "start_time": "2022-10-18T21:36:39.459Z"
   },
   {
    "duration": 7,
    "start_time": "2022-10-18T21:36:39.468Z"
   },
   {
    "duration": 379,
    "start_time": "2022-10-18T21:36:39.476Z"
   },
   {
    "duration": 7,
    "start_time": "2022-10-18T21:36:39.856Z"
   },
   {
    "duration": 22,
    "start_time": "2022-10-18T21:36:39.864Z"
   },
   {
    "duration": 131,
    "start_time": "2022-10-18T21:36:39.887Z"
   },
   {
    "duration": 51,
    "start_time": "2022-10-18T21:36:40.019Z"
   },
   {
    "duration": 19,
    "start_time": "2022-10-18T21:36:40.071Z"
   },
   {
    "duration": 78,
    "start_time": "2022-10-18T21:36:40.092Z"
   },
   {
    "duration": 203,
    "start_time": "2022-10-18T21:36:40.172Z"
   },
   {
    "duration": 172,
    "start_time": "2022-10-18T21:36:40.376Z"
   },
   {
    "duration": 219,
    "start_time": "2022-10-18T21:36:40.554Z"
   },
   {
    "duration": 178,
    "start_time": "2022-10-18T21:36:40.774Z"
   },
   {
    "duration": 151,
    "start_time": "2022-10-18T21:36:40.954Z"
   },
   {
    "duration": 164,
    "start_time": "2022-10-18T21:36:41.107Z"
   },
   {
    "duration": 170,
    "start_time": "2022-10-18T21:36:41.274Z"
   },
   {
    "duration": 193,
    "start_time": "2022-10-18T21:36:41.448Z"
   },
   {
    "duration": 176,
    "start_time": "2022-10-18T21:36:41.643Z"
   },
   {
    "duration": 147,
    "start_time": "2022-10-18T21:36:41.821Z"
   },
   {
    "duration": 151,
    "start_time": "2022-10-18T21:36:41.970Z"
   },
   {
    "duration": 141,
    "start_time": "2022-10-18T21:36:42.123Z"
   },
   {
    "duration": 152,
    "start_time": "2022-10-18T21:36:42.268Z"
   },
   {
    "duration": 153,
    "start_time": "2022-10-18T21:36:42.422Z"
   },
   {
    "duration": 365,
    "start_time": "2022-10-18T21:36:42.576Z"
   },
   {
    "duration": 833,
    "start_time": "2022-10-18T21:36:42.943Z"
   },
   {
    "duration": 766,
    "start_time": "2022-10-18T21:36:43.778Z"
   },
   {
    "duration": 163,
    "start_time": "2022-10-18T21:36:44.546Z"
   },
   {
    "duration": 178,
    "start_time": "2022-10-18T21:36:44.710Z"
   },
   {
    "duration": 651,
    "start_time": "2022-10-18T21:36:44.890Z"
   },
   {
    "duration": 112,
    "start_time": "2022-10-18T21:36:45.542Z"
   },
   {
    "duration": 20,
    "start_time": "2022-10-18T21:37:03.354Z"
   },
   {
    "duration": 15,
    "start_time": "2022-10-18T21:37:10.252Z"
   },
   {
    "duration": 17,
    "start_time": "2022-10-18T21:37:21.501Z"
   },
   {
    "duration": 25,
    "start_time": "2022-10-18T21:38:05.328Z"
   },
   {
    "duration": 548,
    "start_time": "2022-10-19T06:59:42.900Z"
   },
   {
    "duration": 2243,
    "start_time": "2022-10-19T06:59:43.450Z"
   },
   {
    "duration": 19,
    "start_time": "2022-10-19T06:59:45.695Z"
   },
   {
    "duration": 9,
    "start_time": "2022-10-19T06:59:45.716Z"
   },
   {
    "duration": 9,
    "start_time": "2022-10-19T06:59:45.727Z"
   },
   {
    "duration": 10,
    "start_time": "2022-10-19T06:59:45.737Z"
   },
   {
    "duration": 7,
    "start_time": "2022-10-19T06:59:45.749Z"
   },
   {
    "duration": 4,
    "start_time": "2022-10-19T06:59:45.757Z"
   },
   {
    "duration": 11,
    "start_time": "2022-10-19T06:59:45.762Z"
   },
   {
    "duration": 47,
    "start_time": "2022-10-19T06:59:45.774Z"
   },
   {
    "duration": 7,
    "start_time": "2022-10-19T06:59:45.822Z"
   },
   {
    "duration": 15,
    "start_time": "2022-10-19T06:59:45.830Z"
   },
   {
    "duration": 6,
    "start_time": "2022-10-19T06:59:45.846Z"
   },
   {
    "duration": 12,
    "start_time": "2022-10-19T06:59:45.854Z"
   },
   {
    "duration": 3083,
    "start_time": "2022-10-19T06:59:45.867Z"
   },
   {
    "duration": 8,
    "start_time": "2022-10-19T06:59:48.952Z"
   },
   {
    "duration": 192,
    "start_time": "2022-10-19T06:59:48.962Z"
   },
   {
    "duration": 9,
    "start_time": "2022-10-19T06:59:49.155Z"
   },
   {
    "duration": 12,
    "start_time": "2022-10-19T06:59:49.166Z"
   },
   {
    "duration": 13,
    "start_time": "2022-10-19T06:59:49.179Z"
   },
   {
    "duration": 16,
    "start_time": "2022-10-19T06:59:49.193Z"
   },
   {
    "duration": 342,
    "start_time": "2022-10-19T06:59:49.210Z"
   },
   {
    "duration": 7,
    "start_time": "2022-10-19T06:59:49.553Z"
   },
   {
    "duration": 20,
    "start_time": "2022-10-19T06:59:49.561Z"
   },
   {
    "duration": 137,
    "start_time": "2022-10-19T06:59:49.582Z"
   },
   {
    "duration": 19,
    "start_time": "2022-10-19T06:59:49.721Z"
   },
   {
    "duration": 18,
    "start_time": "2022-10-19T06:59:49.741Z"
   },
   {
    "duration": 20,
    "start_time": "2022-10-19T06:59:49.761Z"
   },
   {
    "duration": 142,
    "start_time": "2022-10-19T06:59:49.782Z"
   },
   {
    "duration": 206,
    "start_time": "2022-10-19T06:59:49.926Z"
   },
   {
    "duration": 135,
    "start_time": "2022-10-19T06:59:50.133Z"
   },
   {
    "duration": 153,
    "start_time": "2022-10-19T06:59:50.269Z"
   },
   {
    "duration": 139,
    "start_time": "2022-10-19T06:59:50.424Z"
   },
   {
    "duration": 145,
    "start_time": "2022-10-19T06:59:50.564Z"
   },
   {
    "duration": 132,
    "start_time": "2022-10-19T06:59:50.710Z"
   },
   {
    "duration": 142,
    "start_time": "2022-10-19T06:59:50.843Z"
   },
   {
    "duration": 140,
    "start_time": "2022-10-19T06:59:50.986Z"
   },
   {
    "duration": 127,
    "start_time": "2022-10-19T06:59:51.128Z"
   },
   {
    "duration": 126,
    "start_time": "2022-10-19T06:59:51.256Z"
   },
   {
    "duration": 146,
    "start_time": "2022-10-19T06:59:51.384Z"
   },
   {
    "duration": 143,
    "start_time": "2022-10-19T06:59:51.535Z"
   },
   {
    "duration": 216,
    "start_time": "2022-10-19T06:59:51.680Z"
   },
   {
    "duration": 236,
    "start_time": "2022-10-19T06:59:51.898Z"
   },
   {
    "duration": 783,
    "start_time": "2022-10-19T06:59:52.136Z"
   },
   {
    "duration": 706,
    "start_time": "2022-10-19T06:59:52.922Z"
   },
   {
    "duration": 157,
    "start_time": "2022-10-19T06:59:53.630Z"
   },
   {
    "duration": 175,
    "start_time": "2022-10-19T06:59:53.788Z"
   },
   {
    "duration": 633,
    "start_time": "2022-10-19T06:59:53.965Z"
   },
   {
    "duration": 93,
    "start_time": "2022-10-19T06:59:54.600Z"
   },
   {
    "duration": 12,
    "start_time": "2022-10-19T07:00:20.379Z"
   },
   {
    "duration": 17,
    "start_time": "2022-10-19T07:00:41.049Z"
   },
   {
    "duration": 32,
    "start_time": "2022-10-19T07:01:03.559Z"
   },
   {
    "duration": 24,
    "start_time": "2022-10-19T07:01:11.967Z"
   },
   {
    "duration": 21,
    "start_time": "2022-10-19T07:01:29.142Z"
   },
   {
    "duration": 258,
    "start_time": "2022-10-19T07:02:30.465Z"
   },
   {
    "duration": 245,
    "start_time": "2022-10-19T07:02:46.805Z"
   },
   {
    "duration": 22,
    "start_time": "2022-10-19T07:05:10.607Z"
   },
   {
    "duration": 21,
    "start_time": "2022-10-19T07:05:25.531Z"
   },
   {
    "duration": 23,
    "start_time": "2022-10-19T07:05:34.061Z"
   },
   {
    "duration": 35,
    "start_time": "2022-10-19T07:12:42.385Z"
   },
   {
    "duration": 21,
    "start_time": "2022-10-19T07:12:56.991Z"
   },
   {
    "duration": 43,
    "start_time": "2022-10-19T07:14:35.373Z"
   },
   {
    "duration": 42,
    "start_time": "2022-10-19T07:16:44.105Z"
   },
   {
    "duration": 24,
    "start_time": "2022-10-19T07:17:00.691Z"
   },
   {
    "duration": 26,
    "start_time": "2022-10-19T07:17:26.476Z"
   },
   {
    "duration": 25,
    "start_time": "2022-10-19T07:17:38.743Z"
   },
   {
    "duration": 25,
    "start_time": "2022-10-19T07:17:54.737Z"
   },
   {
    "duration": 20,
    "start_time": "2022-10-19T07:18:23.827Z"
   },
   {
    "duration": 27,
    "start_time": "2022-10-19T07:18:34.134Z"
   },
   {
    "duration": 26,
    "start_time": "2022-10-19T07:18:45.969Z"
   },
   {
    "duration": 26,
    "start_time": "2022-10-19T07:19:40.862Z"
   },
   {
    "duration": 26,
    "start_time": "2022-10-19T07:20:05.745Z"
   },
   {
    "duration": 70,
    "start_time": "2022-10-19T07:20:46.337Z"
   },
   {
    "duration": 37,
    "start_time": "2022-10-19T07:20:58.131Z"
   },
   {
    "duration": 30,
    "start_time": "2022-10-19T07:23:22.625Z"
   },
   {
    "duration": 27,
    "start_time": "2022-10-19T07:25:13.743Z"
   },
   {
    "duration": 32,
    "start_time": "2022-10-19T07:25:28.486Z"
   },
   {
    "duration": 27,
    "start_time": "2022-10-19T07:37:15.799Z"
   },
   {
    "duration": 31,
    "start_time": "2022-10-19T07:37:34.655Z"
   },
   {
    "duration": 67,
    "start_time": "2022-10-19T07:39:30.290Z"
   },
   {
    "duration": 64,
    "start_time": "2022-10-19T07:39:37.953Z"
   },
   {
    "duration": 33,
    "start_time": "2022-10-19T07:39:42.260Z"
   },
   {
    "duration": 5,
    "start_time": "2022-10-19T07:40:33.300Z"
   },
   {
    "duration": 33,
    "start_time": "2022-10-19T07:40:36.992Z"
   },
   {
    "duration": 33,
    "start_time": "2022-10-19T07:40:59.367Z"
   },
   {
    "duration": 34,
    "start_time": "2022-10-19T07:41:07.733Z"
   },
   {
    "duration": 34,
    "start_time": "2022-10-19T07:41:53.549Z"
   },
   {
    "duration": 40,
    "start_time": "2022-10-19T07:42:31.685Z"
   },
   {
    "duration": 45,
    "start_time": "2022-10-19T07:42:50.677Z"
   },
   {
    "duration": 34,
    "start_time": "2022-10-19T07:43:32.338Z"
   },
   {
    "duration": 34,
    "start_time": "2022-10-19T07:44:21.860Z"
   },
   {
    "duration": 36,
    "start_time": "2022-10-19T07:45:08.759Z"
   },
   {
    "duration": 34,
    "start_time": "2022-10-19T07:45:39.581Z"
   },
   {
    "duration": 45,
    "start_time": "2022-10-19T07:48:51.538Z"
   },
   {
    "duration": 18,
    "start_time": "2022-10-19T07:49:00.309Z"
   },
   {
    "duration": 15,
    "start_time": "2022-10-19T07:54:11.756Z"
   },
   {
    "duration": 18,
    "start_time": "2022-10-19T07:54:50.742Z"
   },
   {
    "duration": 19,
    "start_time": "2022-10-19T07:55:12.935Z"
   },
   {
    "duration": 20,
    "start_time": "2022-10-19T07:55:25.250Z"
   },
   {
    "duration": 152,
    "start_time": "2022-10-19T07:55:46.837Z"
   },
   {
    "duration": 33,
    "start_time": "2022-10-19T07:57:15.202Z"
   },
   {
    "duration": 8,
    "start_time": "2022-10-19T08:03:08.742Z"
   },
   {
    "duration": 10,
    "start_time": "2022-10-19T08:04:20.362Z"
   },
   {
    "duration": 7,
    "start_time": "2022-10-19T08:04:26.025Z"
   },
   {
    "duration": 11,
    "start_time": "2022-10-19T08:06:40.181Z"
   },
   {
    "duration": 2362,
    "start_time": "2022-10-19T08:07:04.452Z"
   },
   {
    "duration": 8,
    "start_time": "2022-10-19T08:07:17.642Z"
   },
   {
    "duration": 368,
    "start_time": "2022-10-19T08:11:03.505Z"
   },
   {
    "duration": 265,
    "start_time": "2022-10-19T08:11:11.901Z"
   },
   {
    "duration": 253,
    "start_time": "2022-10-19T08:11:22.961Z"
   },
   {
    "duration": 139,
    "start_time": "2022-10-19T08:12:14.606Z"
   },
   {
    "duration": 721,
    "start_time": "2022-10-19T08:19:49.837Z"
   },
   {
    "duration": 48,
    "start_time": "2022-10-19T11:18:42.318Z"
   },
   {
    "duration": 560,
    "start_time": "2022-10-19T11:18:49.693Z"
   },
   {
    "duration": 2512,
    "start_time": "2022-10-19T11:18:50.255Z"
   },
   {
    "duration": 21,
    "start_time": "2022-10-19T11:18:52.769Z"
   },
   {
    "duration": 16,
    "start_time": "2022-10-19T11:18:52.792Z"
   },
   {
    "duration": 31,
    "start_time": "2022-10-19T11:18:52.810Z"
   },
   {
    "duration": 43,
    "start_time": "2022-10-19T11:18:52.842Z"
   },
   {
    "duration": 36,
    "start_time": "2022-10-19T11:18:52.887Z"
   },
   {
    "duration": 17,
    "start_time": "2022-10-19T11:18:52.926Z"
   },
   {
    "duration": 26,
    "start_time": "2022-10-19T11:18:52.945Z"
   },
   {
    "duration": 22,
    "start_time": "2022-10-19T11:18:52.974Z"
   },
   {
    "duration": 14,
    "start_time": "2022-10-19T11:18:52.997Z"
   },
   {
    "duration": 44,
    "start_time": "2022-10-19T11:18:53.013Z"
   },
   {
    "duration": 20,
    "start_time": "2022-10-19T11:18:53.059Z"
   },
   {
    "duration": 41,
    "start_time": "2022-10-19T11:18:53.081Z"
   },
   {
    "duration": 3930,
    "start_time": "2022-10-19T11:18:53.124Z"
   },
   {
    "duration": 10,
    "start_time": "2022-10-19T11:18:57.056Z"
   },
   {
    "duration": 205,
    "start_time": "2022-10-19T11:18:57.068Z"
   },
   {
    "duration": 9,
    "start_time": "2022-10-19T11:18:57.275Z"
   },
   {
    "duration": 35,
    "start_time": "2022-10-19T11:18:57.286Z"
   },
   {
    "duration": 32,
    "start_time": "2022-10-19T11:18:57.322Z"
   },
   {
    "duration": 26,
    "start_time": "2022-10-19T11:18:57.356Z"
   },
   {
    "duration": 378,
    "start_time": "2022-10-19T11:18:57.384Z"
   },
   {
    "duration": 7,
    "start_time": "2022-10-19T11:18:57.764Z"
   },
   {
    "duration": 54,
    "start_time": "2022-10-19T11:18:57.773Z"
   },
   {
    "duration": 167,
    "start_time": "2022-10-19T11:18:57.830Z"
   },
   {
    "duration": 32,
    "start_time": "2022-10-19T11:18:57.999Z"
   },
   {
    "duration": 20,
    "start_time": "2022-10-19T11:18:58.034Z"
   },
   {
    "duration": 27,
    "start_time": "2022-10-19T11:18:58.058Z"
   },
   {
    "duration": 138,
    "start_time": "2022-10-19T11:18:58.086Z"
   },
   {
    "duration": 236,
    "start_time": "2022-10-19T11:18:58.226Z"
   },
   {
    "duration": 148,
    "start_time": "2022-10-19T11:18:58.464Z"
   },
   {
    "duration": 158,
    "start_time": "2022-10-19T11:18:58.613Z"
   },
   {
    "duration": 184,
    "start_time": "2022-10-19T11:18:58.772Z"
   },
   {
    "duration": 221,
    "start_time": "2022-10-19T11:18:58.960Z"
   },
   {
    "duration": 150,
    "start_time": "2022-10-19T11:18:59.184Z"
   },
   {
    "duration": 144,
    "start_time": "2022-10-19T11:18:59.335Z"
   },
   {
    "duration": 154,
    "start_time": "2022-10-19T11:18:59.480Z"
   },
   {
    "duration": 150,
    "start_time": "2022-10-19T11:18:59.635Z"
   },
   {
    "duration": 261,
    "start_time": "2022-10-19T11:18:59.787Z"
   },
   {
    "duration": 240,
    "start_time": "2022-10-19T11:19:00.050Z"
   },
   {
    "duration": 157,
    "start_time": "2022-10-19T11:19:00.292Z"
   },
   {
    "duration": 160,
    "start_time": "2022-10-19T11:19:00.451Z"
   },
   {
    "duration": 283,
    "start_time": "2022-10-19T11:19:00.613Z"
   },
   {
    "duration": 965,
    "start_time": "2022-10-19T11:19:00.898Z"
   },
   {
    "duration": 665,
    "start_time": "2022-10-19T11:19:01.865Z"
   },
   {
    "duration": 179,
    "start_time": "2022-10-19T11:19:02.532Z"
   },
   {
    "duration": 192,
    "start_time": "2022-10-19T11:19:02.714Z"
   },
   {
    "duration": 764,
    "start_time": "2022-10-19T11:19:02.907Z"
   },
   {
    "duration": 168,
    "start_time": "2022-10-19T11:19:03.672Z"
   },
   {
    "duration": 187,
    "start_time": "2022-10-19T11:19:03.842Z"
   },
   {
    "duration": 1729,
    "start_time": "2022-10-19T11:20:12.623Z"
   },
   {
    "duration": 322,
    "start_time": "2022-10-19T11:20:22.954Z"
   },
   {
    "duration": 267,
    "start_time": "2022-10-19T11:21:18.425Z"
   },
   {
    "duration": 284,
    "start_time": "2022-10-19T11:24:19.706Z"
   },
   {
    "duration": 293,
    "start_time": "2022-10-19T12:12:34.630Z"
   },
   {
    "duration": 201,
    "start_time": "2022-10-19T12:13:03.496Z"
   },
   {
    "duration": 376,
    "start_time": "2022-10-19T12:24:58.660Z"
   },
   {
    "duration": 181,
    "start_time": "2022-10-19T12:25:08.383Z"
   },
   {
    "duration": 191,
    "start_time": "2022-10-19T12:29:46.399Z"
   },
   {
    "duration": 172,
    "start_time": "2022-10-19T12:30:02.981Z"
   },
   {
    "duration": 179,
    "start_time": "2022-10-19T12:30:30.776Z"
   },
   {
    "duration": 171,
    "start_time": "2022-10-19T12:30:40.814Z"
   },
   {
    "duration": 151,
    "start_time": "2022-10-19T12:32:40.314Z"
   },
   {
    "duration": 207,
    "start_time": "2022-10-19T12:32:47.997Z"
   },
   {
    "duration": 234,
    "start_time": "2022-10-19T12:32:55.001Z"
   },
   {
    "duration": 205,
    "start_time": "2022-10-19T12:33:03.069Z"
   },
   {
    "duration": 205,
    "start_time": "2022-10-19T12:33:20.787Z"
   },
   {
    "duration": 214,
    "start_time": "2022-10-19T12:34:13.529Z"
   },
   {
    "duration": 227,
    "start_time": "2022-10-19T12:34:33.183Z"
   },
   {
    "duration": 204,
    "start_time": "2022-10-19T12:34:39.281Z"
   },
   {
    "duration": 214,
    "start_time": "2022-10-19T12:36:24.154Z"
   },
   {
    "duration": 212,
    "start_time": "2022-10-19T12:36:48.177Z"
   },
   {
    "duration": 228,
    "start_time": "2022-10-19T12:37:18.574Z"
   },
   {
    "duration": 214,
    "start_time": "2022-10-19T12:37:43.254Z"
   },
   {
    "duration": 204,
    "start_time": "2022-10-19T12:38:33.746Z"
   },
   {
    "duration": 207,
    "start_time": "2022-10-19T12:38:50.597Z"
   },
   {
    "duration": 117,
    "start_time": "2022-10-19T12:39:08.292Z"
   },
   {
    "duration": 55,
    "start_time": "2022-10-19T12:41:56.071Z"
   },
   {
    "duration": 123,
    "start_time": "2022-10-19T12:42:03.040Z"
   },
   {
    "duration": 49,
    "start_time": "2022-10-19T12:43:11.703Z"
   },
   {
    "duration": 217,
    "start_time": "2022-10-19T12:48:21.203Z"
   },
   {
    "duration": 167,
    "start_time": "2022-10-19T12:48:33.941Z"
   },
   {
    "duration": 186,
    "start_time": "2022-10-19T12:49:17.603Z"
   },
   {
    "duration": 170,
    "start_time": "2022-10-19T12:49:22.454Z"
   },
   {
    "duration": 51,
    "start_time": "2022-10-19T15:44:49.822Z"
   },
   {
    "duration": 518,
    "start_time": "2022-10-19T15:44:59.073Z"
   },
   {
    "duration": 2454,
    "start_time": "2022-10-19T15:44:59.593Z"
   },
   {
    "duration": 21,
    "start_time": "2022-10-19T15:45:02.049Z"
   },
   {
    "duration": 23,
    "start_time": "2022-10-19T15:45:02.072Z"
   },
   {
    "duration": 29,
    "start_time": "2022-10-19T15:45:02.097Z"
   },
   {
    "duration": 55,
    "start_time": "2022-10-19T15:45:02.128Z"
   },
   {
    "duration": 17,
    "start_time": "2022-10-19T15:45:02.185Z"
   },
   {
    "duration": 21,
    "start_time": "2022-10-19T15:45:02.204Z"
   },
   {
    "duration": 38,
    "start_time": "2022-10-19T15:45:02.227Z"
   },
   {
    "duration": 34,
    "start_time": "2022-10-19T15:45:02.268Z"
   },
   {
    "duration": 13,
    "start_time": "2022-10-19T15:45:02.304Z"
   },
   {
    "duration": 66,
    "start_time": "2022-10-19T15:45:02.319Z"
   },
   {
    "duration": 7,
    "start_time": "2022-10-19T15:45:02.387Z"
   },
   {
    "duration": 30,
    "start_time": "2022-10-19T15:45:02.395Z"
   },
   {
    "duration": 4017,
    "start_time": "2022-10-19T15:45:02.427Z"
   },
   {
    "duration": 10,
    "start_time": "2022-10-19T15:45:06.446Z"
   },
   {
    "duration": 201,
    "start_time": "2022-10-19T15:45:06.458Z"
   },
   {
    "duration": 9,
    "start_time": "2022-10-19T15:45:06.661Z"
   },
   {
    "duration": 10,
    "start_time": "2022-10-19T15:45:06.671Z"
   },
   {
    "duration": 7,
    "start_time": "2022-10-19T15:45:06.683Z"
   },
   {
    "duration": 35,
    "start_time": "2022-10-19T15:45:06.692Z"
   },
   {
    "duration": 342,
    "start_time": "2022-10-19T15:45:06.729Z"
   },
   {
    "duration": 8,
    "start_time": "2022-10-19T15:45:07.073Z"
   },
   {
    "duration": 39,
    "start_time": "2022-10-19T15:45:07.082Z"
   },
   {
    "duration": 144,
    "start_time": "2022-10-19T15:45:07.122Z"
   },
   {
    "duration": 21,
    "start_time": "2022-10-19T15:45:07.268Z"
   },
   {
    "duration": 35,
    "start_time": "2022-10-19T15:45:07.290Z"
   },
   {
    "duration": 23,
    "start_time": "2022-10-19T15:45:07.330Z"
   },
   {
    "duration": 143,
    "start_time": "2022-10-19T15:45:07.355Z"
   },
   {
    "duration": 266,
    "start_time": "2022-10-19T15:45:07.501Z"
   },
   {
    "duration": 161,
    "start_time": "2022-10-19T15:45:07.769Z"
   },
   {
    "duration": 171,
    "start_time": "2022-10-19T15:45:07.931Z"
   },
   {
    "duration": 159,
    "start_time": "2022-10-19T15:45:08.104Z"
   },
   {
    "duration": 163,
    "start_time": "2022-10-19T15:45:08.265Z"
   },
   {
    "duration": 150,
    "start_time": "2022-10-19T15:45:08.430Z"
   },
   {
    "duration": 146,
    "start_time": "2022-10-19T15:45:08.582Z"
   },
   {
    "duration": 182,
    "start_time": "2022-10-19T15:45:08.730Z"
   },
   {
    "duration": 201,
    "start_time": "2022-10-19T15:45:08.913Z"
   },
   {
    "duration": 280,
    "start_time": "2022-10-19T15:45:09.115Z"
   },
   {
    "duration": 371,
    "start_time": "2022-10-19T15:45:09.398Z"
   },
   {
    "duration": 163,
    "start_time": "2022-10-19T15:45:09.771Z"
   },
   {
    "duration": 168,
    "start_time": "2022-10-19T15:45:09.936Z"
   },
   {
    "duration": 274,
    "start_time": "2022-10-19T15:45:10.106Z"
   },
   {
    "duration": 982,
    "start_time": "2022-10-19T15:45:10.382Z"
   },
   {
    "duration": 729,
    "start_time": "2022-10-19T15:45:11.366Z"
   },
   {
    "duration": 175,
    "start_time": "2022-10-19T15:45:12.097Z"
   },
   {
    "duration": 201,
    "start_time": "2022-10-19T15:45:12.274Z"
   },
   {
    "duration": 783,
    "start_time": "2022-10-19T15:45:12.477Z"
   },
   {
    "duration": 333,
    "start_time": "2022-10-19T15:45:13.262Z"
   },
   {
    "duration": 191,
    "start_time": "2022-10-19T15:45:13.597Z"
   },
   {
    "duration": 193,
    "start_time": "2022-10-19T15:47:20.156Z"
   },
   {
    "duration": 355,
    "start_time": "2022-10-19T15:47:41.214Z"
   },
   {
    "duration": 312,
    "start_time": "2022-10-19T15:49:31.778Z"
   },
   {
    "duration": 309,
    "start_time": "2022-10-19T15:49:41.657Z"
   },
   {
    "duration": 209,
    "start_time": "2022-10-19T15:49:54.906Z"
   },
   {
    "duration": 123,
    "start_time": "2022-10-19T15:50:03.250Z"
   },
   {
    "duration": 53,
    "start_time": "2022-10-19T15:50:17.128Z"
   },
   {
    "duration": 51,
    "start_time": "2022-10-19T15:50:21.485Z"
   },
   {
    "duration": 74,
    "start_time": "2022-10-19T15:50:32.789Z"
   },
   {
    "duration": 505,
    "start_time": "2022-10-19T15:50:41.948Z"
   },
   {
    "duration": 2284,
    "start_time": "2022-10-19T15:50:42.455Z"
   },
   {
    "duration": 21,
    "start_time": "2022-10-19T15:50:44.740Z"
   },
   {
    "duration": 11,
    "start_time": "2022-10-19T15:50:44.764Z"
   },
   {
    "duration": 26,
    "start_time": "2022-10-19T15:50:44.776Z"
   },
   {
    "duration": 18,
    "start_time": "2022-10-19T15:50:44.804Z"
   },
   {
    "duration": 18,
    "start_time": "2022-10-19T15:50:44.823Z"
   },
   {
    "duration": 16,
    "start_time": "2022-10-19T15:50:44.843Z"
   },
   {
    "duration": 25,
    "start_time": "2022-10-19T15:50:44.861Z"
   },
   {
    "duration": 14,
    "start_time": "2022-10-19T15:50:44.889Z"
   },
   {
    "duration": 25,
    "start_time": "2022-10-19T15:50:44.905Z"
   },
   {
    "duration": 34,
    "start_time": "2022-10-19T15:50:44.932Z"
   },
   {
    "duration": 15,
    "start_time": "2022-10-19T15:50:44.968Z"
   },
   {
    "duration": 31,
    "start_time": "2022-10-19T15:50:44.985Z"
   },
   {
    "duration": 3905,
    "start_time": "2022-10-19T15:50:45.018Z"
   },
   {
    "duration": 10,
    "start_time": "2022-10-19T15:50:48.924Z"
   },
   {
    "duration": 249,
    "start_time": "2022-10-19T15:50:48.936Z"
   },
   {
    "duration": 9,
    "start_time": "2022-10-19T15:50:49.187Z"
   },
   {
    "duration": 22,
    "start_time": "2022-10-19T15:50:49.198Z"
   },
   {
    "duration": 7,
    "start_time": "2022-10-19T15:50:49.222Z"
   },
   {
    "duration": 7,
    "start_time": "2022-10-19T15:50:49.231Z"
   },
   {
    "duration": 339,
    "start_time": "2022-10-19T15:50:49.240Z"
   },
   {
    "duration": 8,
    "start_time": "2022-10-19T15:50:49.580Z"
   },
   {
    "duration": 31,
    "start_time": "2022-10-19T15:50:49.590Z"
   },
   {
    "duration": 140,
    "start_time": "2022-10-19T15:50:49.623Z"
   },
   {
    "duration": 20,
    "start_time": "2022-10-19T15:50:49.765Z"
   },
   {
    "duration": 38,
    "start_time": "2022-10-19T15:50:49.787Z"
   },
   {
    "duration": 23,
    "start_time": "2022-10-19T15:50:49.828Z"
   },
   {
    "duration": 139,
    "start_time": "2022-10-19T15:50:49.853Z"
   },
   {
    "duration": 438,
    "start_time": "2022-10-19T15:50:49.993Z"
   },
   {
    "duration": 151,
    "start_time": "2022-10-19T15:50:50.432Z"
   },
   {
    "duration": 50,
    "start_time": "2022-10-19T15:50:50.585Z"
   },
   {
    "duration": 0,
    "start_time": "2022-10-19T15:50:50.637Z"
   },
   {
    "duration": 0,
    "start_time": "2022-10-19T15:50:50.638Z"
   },
   {
    "duration": 0,
    "start_time": "2022-10-19T15:50:50.640Z"
   },
   {
    "duration": 0,
    "start_time": "2022-10-19T15:50:50.641Z"
   },
   {
    "duration": 0,
    "start_time": "2022-10-19T15:50:50.642Z"
   },
   {
    "duration": 0,
    "start_time": "2022-10-19T15:50:50.644Z"
   },
   {
    "duration": 0,
    "start_time": "2022-10-19T15:50:50.645Z"
   },
   {
    "duration": 0,
    "start_time": "2022-10-19T15:50:50.646Z"
   },
   {
    "duration": 0,
    "start_time": "2022-10-19T15:50:50.647Z"
   },
   {
    "duration": 0,
    "start_time": "2022-10-19T15:50:50.648Z"
   },
   {
    "duration": 0,
    "start_time": "2022-10-19T15:50:50.649Z"
   },
   {
    "duration": 0,
    "start_time": "2022-10-19T15:50:50.651Z"
   },
   {
    "duration": 0,
    "start_time": "2022-10-19T15:50:50.652Z"
   },
   {
    "duration": 0,
    "start_time": "2022-10-19T15:50:50.653Z"
   },
   {
    "duration": 0,
    "start_time": "2022-10-19T15:50:50.654Z"
   },
   {
    "duration": 0,
    "start_time": "2022-10-19T15:50:50.656Z"
   },
   {
    "duration": 0,
    "start_time": "2022-10-19T15:50:50.657Z"
   },
   {
    "duration": 0,
    "start_time": "2022-10-19T15:50:50.658Z"
   },
   {
    "duration": 401,
    "start_time": "2022-10-19T15:51:14.223Z"
   },
   {
    "duration": 398,
    "start_time": "2022-10-19T15:51:25.039Z"
   },
   {
    "duration": 291,
    "start_time": "2022-10-19T15:51:40.750Z"
   },
   {
    "duration": 377,
    "start_time": "2022-10-19T15:51:48.448Z"
   },
   {
    "duration": 307,
    "start_time": "2022-10-19T15:51:55.306Z"
   },
   {
    "duration": 524,
    "start_time": "2022-10-19T15:52:33.103Z"
   },
   {
    "duration": 2354,
    "start_time": "2022-10-19T15:52:33.629Z"
   },
   {
    "duration": 21,
    "start_time": "2022-10-19T15:52:35.984Z"
   },
   {
    "duration": 28,
    "start_time": "2022-10-19T15:52:36.007Z"
   },
   {
    "duration": 30,
    "start_time": "2022-10-19T15:52:36.037Z"
   },
   {
    "duration": 18,
    "start_time": "2022-10-19T15:52:36.068Z"
   },
   {
    "duration": 22,
    "start_time": "2022-10-19T15:52:36.088Z"
   },
   {
    "duration": 21,
    "start_time": "2022-10-19T15:52:36.112Z"
   },
   {
    "duration": 18,
    "start_time": "2022-10-19T15:52:36.135Z"
   },
   {
    "duration": 19,
    "start_time": "2022-10-19T15:52:36.156Z"
   },
   {
    "duration": 11,
    "start_time": "2022-10-19T15:52:36.177Z"
   },
   {
    "duration": 22,
    "start_time": "2022-10-19T15:52:36.190Z"
   },
   {
    "duration": 21,
    "start_time": "2022-10-19T15:52:36.214Z"
   },
   {
    "duration": 21,
    "start_time": "2022-10-19T15:52:36.237Z"
   },
   {
    "duration": 4227,
    "start_time": "2022-10-19T15:52:36.260Z"
   },
   {
    "duration": 10,
    "start_time": "2022-10-19T15:52:40.489Z"
   },
   {
    "duration": 186,
    "start_time": "2022-10-19T15:52:40.501Z"
   },
   {
    "duration": 8,
    "start_time": "2022-10-19T15:52:40.688Z"
   },
   {
    "duration": 10,
    "start_time": "2022-10-19T15:52:40.698Z"
   },
   {
    "duration": 7,
    "start_time": "2022-10-19T15:52:40.721Z"
   },
   {
    "duration": 8,
    "start_time": "2022-10-19T15:52:40.730Z"
   },
   {
    "duration": 329,
    "start_time": "2022-10-19T15:52:40.740Z"
   },
   {
    "duration": 8,
    "start_time": "2022-10-19T15:52:41.071Z"
   },
   {
    "duration": 40,
    "start_time": "2022-10-19T15:52:41.080Z"
   },
   {
    "duration": 149,
    "start_time": "2022-10-19T15:52:41.122Z"
   },
   {
    "duration": 20,
    "start_time": "2022-10-19T15:52:41.273Z"
   },
   {
    "duration": 36,
    "start_time": "2022-10-19T15:52:41.294Z"
   },
   {
    "duration": 32,
    "start_time": "2022-10-19T15:52:41.334Z"
   },
   {
    "duration": 134,
    "start_time": "2022-10-19T15:52:41.367Z"
   },
   {
    "duration": 476,
    "start_time": "2022-10-19T15:52:41.502Z"
   },
   {
    "duration": 152,
    "start_time": "2022-10-19T15:52:41.980Z"
   },
   {
    "duration": 313,
    "start_time": "2022-10-19T15:52:42.134Z"
   },
   {
    "duration": 160,
    "start_time": "2022-10-19T15:52:42.449Z"
   },
   {
    "duration": 180,
    "start_time": "2022-10-19T15:52:42.611Z"
   },
   {
    "duration": 162,
    "start_time": "2022-10-19T15:52:42.793Z"
   },
   {
    "duration": 154,
    "start_time": "2022-10-19T15:52:42.957Z"
   },
   {
    "duration": 160,
    "start_time": "2022-10-19T15:52:43.120Z"
   },
   {
    "duration": 156,
    "start_time": "2022-10-19T15:52:43.281Z"
   },
   {
    "duration": 348,
    "start_time": "2022-10-19T15:52:43.439Z"
   },
   {
    "duration": 302,
    "start_time": "2022-10-19T15:52:43.789Z"
   },
   {
    "duration": 194,
    "start_time": "2022-10-19T15:52:44.093Z"
   },
   {
    "duration": 189,
    "start_time": "2022-10-19T15:52:44.289Z"
   },
   {
    "duration": 330,
    "start_time": "2022-10-19T15:52:44.481Z"
   },
   {
    "duration": 1152,
    "start_time": "2022-10-19T15:52:44.813Z"
   },
   {
    "duration": 792,
    "start_time": "2022-10-19T15:52:45.967Z"
   },
   {
    "duration": 181,
    "start_time": "2022-10-19T15:52:46.761Z"
   },
   {
    "duration": 197,
    "start_time": "2022-10-19T15:52:46.944Z"
   },
   {
    "duration": 868,
    "start_time": "2022-10-19T15:52:47.143Z"
   },
   {
    "duration": 219,
    "start_time": "2022-10-19T15:52:48.013Z"
   },
   {
    "duration": 169,
    "start_time": "2022-10-19T15:52:48.234Z"
   },
   {
    "duration": 152,
    "start_time": "2022-10-19T15:54:24.107Z"
   },
   {
    "duration": 161,
    "start_time": "2022-10-19T15:54:39.577Z"
   },
   {
    "duration": 160,
    "start_time": "2022-10-19T15:56:34.351Z"
   },
   {
    "duration": 490,
    "start_time": "2022-10-19T18:54:57.793Z"
   },
   {
    "duration": 2001,
    "start_time": "2022-10-19T18:54:58.285Z"
   },
   {
    "duration": 20,
    "start_time": "2022-10-19T18:55:00.288Z"
   },
   {
    "duration": 9,
    "start_time": "2022-10-19T18:55:00.323Z"
   },
   {
    "duration": 26,
    "start_time": "2022-10-19T18:55:00.333Z"
   },
   {
    "duration": 23,
    "start_time": "2022-10-19T18:55:00.361Z"
   },
   {
    "duration": 18,
    "start_time": "2022-10-19T18:55:00.385Z"
   },
   {
    "duration": 12,
    "start_time": "2022-10-19T18:55:00.404Z"
   },
   {
    "duration": 20,
    "start_time": "2022-10-19T18:55:00.417Z"
   },
   {
    "duration": 23,
    "start_time": "2022-10-19T18:55:00.439Z"
   },
   {
    "duration": 6,
    "start_time": "2022-10-19T18:55:00.463Z"
   },
   {
    "duration": 30,
    "start_time": "2022-10-19T18:55:00.471Z"
   },
   {
    "duration": 6,
    "start_time": "2022-10-19T18:55:00.503Z"
   },
   {
    "duration": 22,
    "start_time": "2022-10-19T18:55:00.510Z"
   },
   {
    "duration": 3682,
    "start_time": "2022-10-19T18:55:00.534Z"
   },
   {
    "duration": 11,
    "start_time": "2022-10-19T18:55:04.218Z"
   },
   {
    "duration": 173,
    "start_time": "2022-10-19T18:55:04.231Z"
   },
   {
    "duration": 18,
    "start_time": "2022-10-19T18:55:04.406Z"
   },
   {
    "duration": 7,
    "start_time": "2022-10-19T18:55:04.425Z"
   },
   {
    "duration": 7,
    "start_time": "2022-10-19T18:55:04.433Z"
   },
   {
    "duration": 7,
    "start_time": "2022-10-19T18:55:04.442Z"
   },
   {
    "duration": 317,
    "start_time": "2022-10-19T18:55:04.450Z"
   },
   {
    "duration": 7,
    "start_time": "2022-10-19T18:55:04.768Z"
   },
   {
    "duration": 17,
    "start_time": "2022-10-19T18:55:04.777Z"
   },
   {
    "duration": 139,
    "start_time": "2022-10-19T18:55:04.796Z"
   },
   {
    "duration": 18,
    "start_time": "2022-10-19T18:55:04.936Z"
   },
   {
    "duration": 17,
    "start_time": "2022-10-19T18:55:04.956Z"
   },
   {
    "duration": 20,
    "start_time": "2022-10-19T18:55:04.977Z"
   },
   {
    "duration": 151,
    "start_time": "2022-10-19T18:55:04.998Z"
   },
   {
    "duration": 371,
    "start_time": "2022-10-19T18:55:05.151Z"
   },
   {
    "duration": 134,
    "start_time": "2022-10-19T18:55:05.523Z"
   },
   {
    "duration": 308,
    "start_time": "2022-10-19T18:55:05.659Z"
   },
   {
    "duration": 146,
    "start_time": "2022-10-19T18:55:05.969Z"
   },
   {
    "duration": 154,
    "start_time": "2022-10-19T18:55:06.121Z"
   },
   {
    "duration": 175,
    "start_time": "2022-10-19T18:55:06.277Z"
   },
   {
    "duration": 132,
    "start_time": "2022-10-19T18:55:06.454Z"
   },
   {
    "duration": 167,
    "start_time": "2022-10-19T18:55:06.588Z"
   },
   {
    "duration": 129,
    "start_time": "2022-10-19T18:55:06.756Z"
   },
   {
    "duration": 340,
    "start_time": "2022-10-19T18:55:06.887Z"
   },
   {
    "duration": 239,
    "start_time": "2022-10-19T18:55:07.229Z"
   },
   {
    "duration": 145,
    "start_time": "2022-10-19T18:55:07.471Z"
   },
   {
    "duration": 138,
    "start_time": "2022-10-19T18:55:07.621Z"
   },
   {
    "duration": 233,
    "start_time": "2022-10-19T18:55:07.761Z"
   },
   {
    "duration": 858,
    "start_time": "2022-10-19T18:55:07.995Z"
   },
   {
    "duration": 648,
    "start_time": "2022-10-19T18:55:08.855Z"
   },
   {
    "duration": 149,
    "start_time": "2022-10-19T18:55:09.505Z"
   },
   {
    "duration": 171,
    "start_time": "2022-10-19T18:55:09.655Z"
   },
   {
    "duration": 823,
    "start_time": "2022-10-19T18:55:09.828Z"
   },
   {
    "duration": 182,
    "start_time": "2022-10-19T18:55:10.653Z"
   },
   {
    "duration": 153,
    "start_time": "2022-10-19T18:55:10.836Z"
   },
   {
    "duration": 49,
    "start_time": "2022-10-19T18:57:11.492Z"
   },
   {
    "duration": 7,
    "start_time": "2022-10-19T18:57:13.907Z"
   },
   {
    "duration": 12,
    "start_time": "2022-10-19T18:57:54.327Z"
   },
   {
    "duration": 78,
    "start_time": "2022-10-19T18:57:59.097Z"
   },
   {
    "duration": 152,
    "start_time": "2022-10-19T19:00:32.087Z"
   },
   {
    "duration": 163,
    "start_time": "2022-10-19T19:01:07.577Z"
   },
   {
    "duration": 10,
    "start_time": "2022-10-19T19:01:38.317Z"
   },
   {
    "duration": 19,
    "start_time": "2022-10-19T19:01:42.331Z"
   },
   {
    "duration": 192,
    "start_time": "2022-10-19T19:02:05.257Z"
   },
   {
    "duration": 21,
    "start_time": "2022-10-19T19:03:58.397Z"
   },
   {
    "duration": 55,
    "start_time": "2022-10-20T17:10:05.957Z"
   },
   {
    "duration": 407,
    "start_time": "2022-10-20T17:10:12.711Z"
   },
   {
    "duration": 3,
    "start_time": "2022-10-20T17:10:13.120Z"
   },
   {
    "duration": 514,
    "start_time": "2022-10-20T17:10:13.125Z"
   },
   {
    "duration": 57,
    "start_time": "2022-10-20T17:10:13.641Z"
   },
   {
    "duration": 2381,
    "start_time": "2022-10-20T17:10:13.702Z"
   },
   {
    "duration": 30,
    "start_time": "2022-10-20T17:10:16.089Z"
   },
   {
    "duration": 28,
    "start_time": "2022-10-20T17:10:16.121Z"
   },
   {
    "duration": 18,
    "start_time": "2022-10-20T17:10:16.150Z"
   },
   {
    "duration": 50,
    "start_time": "2022-10-20T17:10:16.169Z"
   },
   {
    "duration": 57,
    "start_time": "2022-10-20T17:10:16.221Z"
   },
   {
    "duration": 4,
    "start_time": "2022-10-20T17:10:16.280Z"
   },
   {
    "duration": 35,
    "start_time": "2022-10-20T17:10:16.287Z"
   },
   {
    "duration": 13,
    "start_time": "2022-10-20T17:10:16.324Z"
   },
   {
    "duration": 6,
    "start_time": "2022-10-20T17:10:16.339Z"
   },
   {
    "duration": 14,
    "start_time": "2022-10-20T17:10:16.346Z"
   },
   {
    "duration": 6,
    "start_time": "2022-10-20T17:10:16.361Z"
   },
   {
    "duration": 24,
    "start_time": "2022-10-20T17:10:16.368Z"
   },
   {
    "duration": 3797,
    "start_time": "2022-10-20T17:10:16.399Z"
   },
   {
    "duration": 13,
    "start_time": "2022-10-20T17:10:20.203Z"
   },
   {
    "duration": 180,
    "start_time": "2022-10-20T17:10:20.217Z"
   },
   {
    "duration": 14,
    "start_time": "2022-10-20T17:10:20.398Z"
   },
   {
    "duration": 18,
    "start_time": "2022-10-20T17:10:20.414Z"
   },
   {
    "duration": 15,
    "start_time": "2022-10-20T17:10:20.434Z"
   },
   {
    "duration": 7,
    "start_time": "2022-10-20T17:10:20.451Z"
   },
   {
    "duration": 326,
    "start_time": "2022-10-20T17:10:20.459Z"
   },
   {
    "duration": 22,
    "start_time": "2022-10-20T17:10:20.787Z"
   },
   {
    "duration": 22,
    "start_time": "2022-10-20T17:10:20.810Z"
   },
   {
    "duration": 128,
    "start_time": "2022-10-20T17:10:20.834Z"
   },
   {
    "duration": 35,
    "start_time": "2022-10-20T17:10:20.964Z"
   },
   {
    "duration": 19,
    "start_time": "2022-10-20T17:10:21.000Z"
   },
   {
    "duration": 19,
    "start_time": "2022-10-20T17:10:21.020Z"
   },
   {
    "duration": 124,
    "start_time": "2022-10-20T17:10:21.040Z"
   },
   {
    "duration": 401,
    "start_time": "2022-10-20T17:10:21.166Z"
   },
   {
    "duration": 146,
    "start_time": "2022-10-20T17:10:21.568Z"
   },
   {
    "duration": 302,
    "start_time": "2022-10-20T17:10:21.716Z"
   },
   {
    "duration": 153,
    "start_time": "2022-10-20T17:10:22.019Z"
   },
   {
    "duration": 155,
    "start_time": "2022-10-20T17:10:22.173Z"
   },
   {
    "duration": 175,
    "start_time": "2022-10-20T17:10:22.329Z"
   },
   {
    "duration": 122,
    "start_time": "2022-10-20T17:10:22.513Z"
   },
   {
    "duration": 161,
    "start_time": "2022-10-20T17:10:22.636Z"
   },
   {
    "duration": 131,
    "start_time": "2022-10-20T17:10:22.803Z"
   },
   {
    "duration": 319,
    "start_time": "2022-10-20T17:10:22.936Z"
   },
   {
    "duration": 262,
    "start_time": "2022-10-20T17:10:23.256Z"
   },
   {
    "duration": 142,
    "start_time": "2022-10-20T17:10:23.519Z"
   },
   {
    "duration": 160,
    "start_time": "2022-10-20T17:10:23.663Z"
   },
   {
    "duration": 253,
    "start_time": "2022-10-20T17:10:23.824Z"
   },
   {
    "duration": 936,
    "start_time": "2022-10-20T17:10:24.085Z"
   },
   {
    "duration": 643,
    "start_time": "2022-10-20T17:10:25.023Z"
   },
   {
    "duration": 165,
    "start_time": "2022-10-20T17:10:25.668Z"
   },
   {
    "duration": 177,
    "start_time": "2022-10-20T17:10:25.834Z"
   },
   {
    "duration": 876,
    "start_time": "2022-10-20T17:10:26.013Z"
   },
   {
    "duration": 234,
    "start_time": "2022-10-20T17:10:26.900Z"
   },
   {
    "duration": 180,
    "start_time": "2022-10-20T17:10:27.136Z"
   },
   {
    "duration": 2728,
    "start_time": "2022-10-20T17:11:07.569Z"
   },
   {
    "duration": 2616,
    "start_time": "2022-10-20T17:11:10.962Z"
   },
   {
    "duration": 67,
    "start_time": "2022-10-20T17:12:10.475Z"
   },
   {
    "duration": 93,
    "start_time": "2022-10-20T17:58:58.986Z"
   },
   {
    "duration": 28,
    "start_time": "2022-10-20T17:59:06.210Z"
   },
   {
    "duration": 27,
    "start_time": "2022-10-20T18:26:03.800Z"
   },
   {
    "duration": 13,
    "start_time": "2022-10-20T18:26:27.637Z"
   },
   {
    "duration": 12,
    "start_time": "2022-10-20T18:27:12.661Z"
   },
   {
    "duration": 11,
    "start_time": "2022-10-20T18:27:18.101Z"
   },
   {
    "duration": 377,
    "start_time": "2022-10-20T18:27:25.812Z"
   },
   {
    "duration": 97,
    "start_time": "2022-10-20T18:27:26.191Z"
   },
   {
    "duration": 45,
    "start_time": "2022-10-20T18:27:26.290Z"
   },
   {
    "duration": 2102,
    "start_time": "2022-10-20T18:27:26.337Z"
   },
   {
    "duration": 18,
    "start_time": "2022-10-20T18:27:28.441Z"
   },
   {
    "duration": 11,
    "start_time": "2022-10-20T18:27:28.461Z"
   },
   {
    "duration": 9,
    "start_time": "2022-10-20T18:27:28.473Z"
   },
   {
    "duration": 10,
    "start_time": "2022-10-20T18:27:28.484Z"
   },
   {
    "duration": 8,
    "start_time": "2022-10-20T18:27:28.496Z"
   },
   {
    "duration": 4,
    "start_time": "2022-10-20T18:27:28.505Z"
   },
   {
    "duration": 31,
    "start_time": "2022-10-20T18:27:28.510Z"
   },
   {
    "duration": 11,
    "start_time": "2022-10-20T18:27:28.543Z"
   },
   {
    "duration": 29,
    "start_time": "2022-10-20T18:27:28.556Z"
   },
   {
    "duration": 14,
    "start_time": "2022-10-20T18:27:28.587Z"
   },
   {
    "duration": 6,
    "start_time": "2022-10-20T18:27:28.603Z"
   },
   {
    "duration": 13,
    "start_time": "2022-10-20T18:27:28.611Z"
   },
   {
    "duration": 3732,
    "start_time": "2022-10-20T18:27:28.626Z"
   },
   {
    "duration": 9,
    "start_time": "2022-10-20T18:27:32.359Z"
   },
   {
    "duration": 167,
    "start_time": "2022-10-20T18:27:32.369Z"
   },
   {
    "duration": 7,
    "start_time": "2022-10-20T18:27:32.537Z"
   },
   {
    "duration": 19,
    "start_time": "2022-10-20T18:27:32.546Z"
   },
   {
    "duration": 14,
    "start_time": "2022-10-20T18:27:32.566Z"
   },
   {
    "duration": 10,
    "start_time": "2022-10-20T18:27:32.582Z"
   },
   {
    "duration": 308,
    "start_time": "2022-10-20T18:27:32.593Z"
   },
   {
    "duration": 7,
    "start_time": "2022-10-20T18:27:32.902Z"
   },
   {
    "duration": 23,
    "start_time": "2022-10-20T18:27:32.911Z"
   },
   {
    "duration": 129,
    "start_time": "2022-10-20T18:27:32.936Z"
   },
   {
    "duration": 26,
    "start_time": "2022-10-20T18:27:33.067Z"
   },
   {
    "duration": 18,
    "start_time": "2022-10-20T18:27:33.095Z"
   },
   {
    "duration": 22,
    "start_time": "2022-10-20T18:27:33.114Z"
   },
   {
    "duration": 124,
    "start_time": "2022-10-20T18:27:33.138Z"
   },
   {
    "duration": 393,
    "start_time": "2022-10-20T18:27:33.263Z"
   },
   {
    "duration": 136,
    "start_time": "2022-10-20T18:27:33.658Z"
   },
   {
    "duration": 289,
    "start_time": "2022-10-20T18:27:33.796Z"
   },
   {
    "duration": 133,
    "start_time": "2022-10-20T18:27:34.086Z"
   },
   {
    "duration": 143,
    "start_time": "2022-10-20T18:27:34.220Z"
   },
   {
    "duration": 148,
    "start_time": "2022-10-20T18:27:34.365Z"
   },
   {
    "duration": 123,
    "start_time": "2022-10-20T18:27:34.514Z"
   },
   {
    "duration": 153,
    "start_time": "2022-10-20T18:27:34.638Z"
   },
   {
    "duration": 131,
    "start_time": "2022-10-20T18:27:34.793Z"
   },
   {
    "duration": 303,
    "start_time": "2022-10-20T18:27:34.927Z"
   },
   {
    "duration": 236,
    "start_time": "2022-10-20T18:27:35.231Z"
   },
   {
    "duration": 141,
    "start_time": "2022-10-20T18:27:35.468Z"
   },
   {
    "duration": 149,
    "start_time": "2022-10-20T18:27:35.610Z"
   },
   {
    "duration": 248,
    "start_time": "2022-10-20T18:27:35.760Z"
   },
   {
    "duration": 845,
    "start_time": "2022-10-20T18:27:36.010Z"
   },
   {
    "duration": 643,
    "start_time": "2022-10-20T18:27:36.857Z"
   },
   {
    "duration": 151,
    "start_time": "2022-10-20T18:27:37.502Z"
   },
   {
    "duration": 164,
    "start_time": "2022-10-20T18:27:37.654Z"
   },
   {
    "duration": 827,
    "start_time": "2022-10-20T18:27:37.820Z"
   },
   {
    "duration": 204,
    "start_time": "2022-10-20T18:27:38.648Z"
   },
   {
    "duration": 171,
    "start_time": "2022-10-20T18:27:38.853Z"
   },
   {
    "duration": 23,
    "start_time": "2022-10-20T18:34:35.692Z"
   },
   {
    "duration": 163,
    "start_time": "2022-10-20T18:36:31.207Z"
   },
   {
    "duration": 172,
    "start_time": "2022-10-20T18:38:53.593Z"
   },
   {
    "duration": 16,
    "start_time": "2022-10-20T18:38:57.878Z"
   },
   {
    "duration": 430,
    "start_time": "2022-10-20T18:39:12.756Z"
   },
   {
    "duration": 97,
    "start_time": "2022-10-20T18:39:13.188Z"
   },
   {
    "duration": 45,
    "start_time": "2022-10-20T18:39:13.286Z"
   },
   {
    "duration": 2060,
    "start_time": "2022-10-20T18:39:13.335Z"
   },
   {
    "duration": 19,
    "start_time": "2022-10-20T18:39:15.397Z"
   },
   {
    "duration": 9,
    "start_time": "2022-10-20T18:39:15.418Z"
   },
   {
    "duration": 10,
    "start_time": "2022-10-20T18:39:15.428Z"
   },
   {
    "duration": 12,
    "start_time": "2022-10-20T18:39:15.439Z"
   },
   {
    "duration": 8,
    "start_time": "2022-10-20T18:39:15.452Z"
   },
   {
    "duration": 3,
    "start_time": "2022-10-20T18:39:15.463Z"
   },
   {
    "duration": 33,
    "start_time": "2022-10-20T18:39:15.485Z"
   },
   {
    "duration": 12,
    "start_time": "2022-10-20T18:39:15.520Z"
   },
   {
    "duration": 6,
    "start_time": "2022-10-20T18:39:15.533Z"
   },
   {
    "duration": 44,
    "start_time": "2022-10-20T18:39:15.541Z"
   },
   {
    "duration": 7,
    "start_time": "2022-10-20T18:39:15.587Z"
   },
   {
    "duration": 13,
    "start_time": "2022-10-20T18:39:15.595Z"
   },
   {
    "duration": 3749,
    "start_time": "2022-10-20T18:39:15.609Z"
   },
   {
    "duration": 173,
    "start_time": "2022-10-20T18:39:19.359Z"
   },
   {
    "duration": 14,
    "start_time": "2022-10-20T18:39:19.534Z"
   },
   {
    "duration": 7,
    "start_time": "2022-10-20T18:39:19.550Z"
   },
   {
    "duration": 8,
    "start_time": "2022-10-20T18:39:19.559Z"
   },
   {
    "duration": 25,
    "start_time": "2022-10-20T18:39:19.568Z"
   },
   {
    "duration": 11,
    "start_time": "2022-10-20T18:39:19.594Z"
   },
   {
    "duration": 309,
    "start_time": "2022-10-20T18:39:19.607Z"
   },
   {
    "duration": 7,
    "start_time": "2022-10-20T18:39:19.918Z"
   },
   {
    "duration": 20,
    "start_time": "2022-10-20T18:39:19.926Z"
   },
   {
    "duration": 148,
    "start_time": "2022-10-20T18:39:19.948Z"
   },
   {
    "duration": 20,
    "start_time": "2022-10-20T18:39:20.099Z"
   },
   {
    "duration": 20,
    "start_time": "2022-10-20T18:39:20.121Z"
   },
   {
    "duration": 45,
    "start_time": "2022-10-20T18:39:20.143Z"
   },
   {
    "duration": 123,
    "start_time": "2022-10-20T18:39:20.189Z"
   },
   {
    "duration": 399,
    "start_time": "2022-10-20T18:39:20.314Z"
   },
   {
    "duration": 143,
    "start_time": "2022-10-20T18:39:20.715Z"
   },
   {
    "duration": 297,
    "start_time": "2022-10-20T18:39:20.859Z"
   },
   {
    "duration": 146,
    "start_time": "2022-10-20T18:39:21.158Z"
   },
   {
    "duration": 162,
    "start_time": "2022-10-20T18:39:21.306Z"
   },
   {
    "duration": 169,
    "start_time": "2022-10-20T18:39:21.470Z"
   },
   {
    "duration": 129,
    "start_time": "2022-10-20T18:39:21.641Z"
   },
   {
    "duration": 165,
    "start_time": "2022-10-20T18:39:21.771Z"
   },
   {
    "duration": 136,
    "start_time": "2022-10-20T18:39:21.938Z"
   },
   {
    "duration": 291,
    "start_time": "2022-10-20T18:39:22.076Z"
   },
   {
    "duration": 243,
    "start_time": "2022-10-20T18:39:22.369Z"
   },
   {
    "duration": 137,
    "start_time": "2022-10-20T18:39:22.613Z"
   },
   {
    "duration": 151,
    "start_time": "2022-10-20T18:39:22.751Z"
   },
   {
    "duration": 259,
    "start_time": "2022-10-20T18:39:22.904Z"
   },
   {
    "duration": 1050,
    "start_time": "2022-10-20T18:39:23.164Z"
   },
   {
    "duration": 606,
    "start_time": "2022-10-20T18:39:24.216Z"
   },
   {
    "duration": 154,
    "start_time": "2022-10-20T18:39:24.824Z"
   },
   {
    "duration": 171,
    "start_time": "2022-10-20T18:39:24.979Z"
   },
   {
    "duration": 769,
    "start_time": "2022-10-20T18:39:25.151Z"
   },
   {
    "duration": 188,
    "start_time": "2022-10-20T18:39:25.922Z"
   },
   {
    "duration": 167,
    "start_time": "2022-10-20T18:39:26.112Z"
   },
   {
    "duration": 166,
    "start_time": "2022-10-20T18:40:55.758Z"
   },
   {
    "duration": 168,
    "start_time": "2022-10-20T18:47:56.756Z"
   },
   {
    "duration": 14,
    "start_time": "2022-10-20T18:48:06.912Z"
   },
   {
    "duration": 287,
    "start_time": "2022-10-20T18:48:47.414Z"
   },
   {
    "duration": 16,
    "start_time": "2022-10-20T18:48:52.241Z"
   },
   {
    "duration": 68,
    "start_time": "2022-10-20T19:00:31.433Z"
   },
   {
    "duration": 75,
    "start_time": "2022-10-20T19:01:01.388Z"
   },
   {
    "duration": 164,
    "start_time": "2022-10-20T19:01:07.846Z"
   },
   {
    "duration": 14,
    "start_time": "2022-10-20T19:01:12.048Z"
   },
   {
    "duration": 72,
    "start_time": "2022-10-20T19:04:08.139Z"
   },
   {
    "duration": 76,
    "start_time": "2022-10-20T19:04:49.881Z"
   },
   {
    "duration": 421,
    "start_time": "2022-10-20T19:05:00.118Z"
   },
   {
    "duration": 107,
    "start_time": "2022-10-20T19:05:00.541Z"
   },
   {
    "duration": 61,
    "start_time": "2022-10-20T19:05:00.650Z"
   },
   {
    "duration": 2130,
    "start_time": "2022-10-20T19:05:00.713Z"
   },
   {
    "duration": 19,
    "start_time": "2022-10-20T19:05:02.845Z"
   },
   {
    "duration": 9,
    "start_time": "2022-10-20T19:05:02.866Z"
   },
   {
    "duration": 10,
    "start_time": "2022-10-20T19:05:02.876Z"
   },
   {
    "duration": 10,
    "start_time": "2022-10-20T19:05:02.888Z"
   },
   {
    "duration": 22,
    "start_time": "2022-10-20T19:05:02.900Z"
   },
   {
    "duration": 4,
    "start_time": "2022-10-20T19:05:02.925Z"
   },
   {
    "duration": 38,
    "start_time": "2022-10-20T19:05:02.931Z"
   },
   {
    "duration": 13,
    "start_time": "2022-10-20T19:05:02.985Z"
   },
   {
    "duration": 19,
    "start_time": "2022-10-20T19:05:03.000Z"
   },
   {
    "duration": 25,
    "start_time": "2022-10-20T19:05:03.021Z"
   },
   {
    "duration": 11,
    "start_time": "2022-10-20T19:05:03.047Z"
   },
   {
    "duration": 13,
    "start_time": "2022-10-20T19:05:03.059Z"
   },
   {
    "duration": 3820,
    "start_time": "2022-10-20T19:05:03.073Z"
   },
   {
    "duration": 95,
    "start_time": "2022-10-20T19:05:06.895Z"
   },
   {
    "duration": 0,
    "start_time": "2022-10-20T19:05:06.994Z"
   },
   {
    "duration": 0,
    "start_time": "2022-10-20T19:05:06.996Z"
   },
   {
    "duration": 0,
    "start_time": "2022-10-20T19:05:06.998Z"
   },
   {
    "duration": 0,
    "start_time": "2022-10-20T19:05:06.999Z"
   },
   {
    "duration": 0,
    "start_time": "2022-10-20T19:05:07.001Z"
   },
   {
    "duration": 0,
    "start_time": "2022-10-20T19:05:07.002Z"
   },
   {
    "duration": 0,
    "start_time": "2022-10-20T19:05:07.004Z"
   },
   {
    "duration": 0,
    "start_time": "2022-10-20T19:05:07.005Z"
   },
   {
    "duration": 0,
    "start_time": "2022-10-20T19:05:07.006Z"
   },
   {
    "duration": 0,
    "start_time": "2022-10-20T19:05:07.008Z"
   },
   {
    "duration": 0,
    "start_time": "2022-10-20T19:05:07.010Z"
   },
   {
    "duration": 0,
    "start_time": "2022-10-20T19:05:07.011Z"
   },
   {
    "duration": 0,
    "start_time": "2022-10-20T19:05:07.013Z"
   },
   {
    "duration": 0,
    "start_time": "2022-10-20T19:05:07.014Z"
   },
   {
    "duration": 0,
    "start_time": "2022-10-20T19:05:07.016Z"
   },
   {
    "duration": 0,
    "start_time": "2022-10-20T19:05:07.017Z"
   },
   {
    "duration": 0,
    "start_time": "2022-10-20T19:05:07.018Z"
   },
   {
    "duration": 0,
    "start_time": "2022-10-20T19:05:07.020Z"
   },
   {
    "duration": 0,
    "start_time": "2022-10-20T19:05:07.021Z"
   },
   {
    "duration": 0,
    "start_time": "2022-10-20T19:05:07.023Z"
   },
   {
    "duration": 0,
    "start_time": "2022-10-20T19:05:07.024Z"
   },
   {
    "duration": 0,
    "start_time": "2022-10-20T19:05:07.028Z"
   },
   {
    "duration": 0,
    "start_time": "2022-10-20T19:05:07.029Z"
   },
   {
    "duration": 0,
    "start_time": "2022-10-20T19:05:07.086Z"
   },
   {
    "duration": 0,
    "start_time": "2022-10-20T19:05:07.087Z"
   },
   {
    "duration": 0,
    "start_time": "2022-10-20T19:05:07.089Z"
   },
   {
    "duration": 0,
    "start_time": "2022-10-20T19:05:07.090Z"
   },
   {
    "duration": 0,
    "start_time": "2022-10-20T19:05:07.092Z"
   },
   {
    "duration": 0,
    "start_time": "2022-10-20T19:05:07.093Z"
   },
   {
    "duration": 0,
    "start_time": "2022-10-20T19:05:07.094Z"
   },
   {
    "duration": 0,
    "start_time": "2022-10-20T19:05:07.096Z"
   },
   {
    "duration": 0,
    "start_time": "2022-10-20T19:05:07.098Z"
   },
   {
    "duration": 0,
    "start_time": "2022-10-20T19:05:07.100Z"
   },
   {
    "duration": 0,
    "start_time": "2022-10-20T19:05:07.100Z"
   },
   {
    "duration": 9,
    "start_time": "2022-10-20T19:06:10.367Z"
   },
   {
    "duration": 9,
    "start_time": "2022-10-20T19:06:15.433Z"
   },
   {
    "duration": 14,
    "start_time": "2022-10-20T19:06:18.434Z"
   },
   {
    "duration": 9,
    "start_time": "2022-10-20T19:07:14.696Z"
   },
   {
    "duration": 10,
    "start_time": "2022-10-20T19:07:20.455Z"
   },
   {
    "duration": 393,
    "start_time": "2022-10-20T19:09:27.217Z"
   },
   {
    "duration": 100,
    "start_time": "2022-10-20T19:09:27.612Z"
   },
   {
    "duration": 47,
    "start_time": "2022-10-20T19:09:27.714Z"
   },
   {
    "duration": 2113,
    "start_time": "2022-10-20T19:09:27.762Z"
   },
   {
    "duration": 19,
    "start_time": "2022-10-20T19:09:29.877Z"
   },
   {
    "duration": 9,
    "start_time": "2022-10-20T19:09:29.898Z"
   },
   {
    "duration": 9,
    "start_time": "2022-10-20T19:09:29.909Z"
   },
   {
    "duration": 11,
    "start_time": "2022-10-20T19:09:29.920Z"
   },
   {
    "duration": 8,
    "start_time": "2022-10-20T19:09:29.932Z"
   },
   {
    "duration": 7,
    "start_time": "2022-10-20T19:09:29.943Z"
   },
   {
    "duration": 61,
    "start_time": "2022-10-20T19:09:29.952Z"
   },
   {
    "duration": 12,
    "start_time": "2022-10-20T19:09:30.014Z"
   },
   {
    "duration": 15,
    "start_time": "2022-10-20T19:09:30.027Z"
   },
   {
    "duration": 18,
    "start_time": "2022-10-20T19:09:30.043Z"
   },
   {
    "duration": 22,
    "start_time": "2022-10-20T19:09:30.063Z"
   },
   {
    "duration": 12,
    "start_time": "2022-10-20T19:09:30.086Z"
   },
   {
    "duration": 3590,
    "start_time": "2022-10-20T19:09:30.099Z"
   },
   {
    "duration": 9,
    "start_time": "2022-10-20T19:09:33.690Z"
   },
   {
    "duration": 17,
    "start_time": "2022-10-20T19:09:33.700Z"
   },
   {
    "duration": 7,
    "start_time": "2022-10-20T19:09:33.719Z"
   },
   {
    "duration": 11,
    "start_time": "2022-10-20T19:09:33.727Z"
   },
   {
    "duration": 7,
    "start_time": "2022-10-20T19:09:33.739Z"
   },
   {
    "duration": 6,
    "start_time": "2022-10-20T19:09:33.748Z"
   },
   {
    "duration": 324,
    "start_time": "2022-10-20T19:09:33.755Z"
   },
   {
    "duration": 8,
    "start_time": "2022-10-20T19:09:34.081Z"
   },
   {
    "duration": 26,
    "start_time": "2022-10-20T19:09:34.091Z"
   },
   {
    "duration": 138,
    "start_time": "2022-10-20T19:09:34.119Z"
   },
   {
    "duration": 29,
    "start_time": "2022-10-20T19:09:34.260Z"
   },
   {
    "duration": 24,
    "start_time": "2022-10-20T19:09:34.291Z"
   },
   {
    "duration": 21,
    "start_time": "2022-10-20T19:09:34.317Z"
   },
   {
    "duration": 155,
    "start_time": "2022-10-20T19:09:34.339Z"
   },
   {
    "duration": 407,
    "start_time": "2022-10-20T19:09:34.495Z"
   },
   {
    "duration": 149,
    "start_time": "2022-10-20T19:09:34.904Z"
   },
   {
    "duration": 320,
    "start_time": "2022-10-20T19:09:35.055Z"
   },
   {
    "duration": 145,
    "start_time": "2022-10-20T19:09:35.377Z"
   },
   {
    "duration": 150,
    "start_time": "2022-10-20T19:09:35.523Z"
   },
   {
    "duration": 162,
    "start_time": "2022-10-20T19:09:35.675Z"
   },
   {
    "duration": 133,
    "start_time": "2022-10-20T19:09:35.839Z"
   },
   {
    "duration": 155,
    "start_time": "2022-10-20T19:09:35.974Z"
   },
   {
    "duration": 142,
    "start_time": "2022-10-20T19:09:36.130Z"
   },
   {
    "duration": 314,
    "start_time": "2022-10-20T19:09:36.273Z"
   },
   {
    "duration": 242,
    "start_time": "2022-10-20T19:09:36.589Z"
   },
   {
    "duration": 161,
    "start_time": "2022-10-20T19:09:36.833Z"
   },
   {
    "duration": 194,
    "start_time": "2022-10-20T19:09:36.996Z"
   },
   {
    "duration": 268,
    "start_time": "2022-10-20T19:09:37.192Z"
   },
   {
    "duration": 905,
    "start_time": "2022-10-20T19:09:37.462Z"
   },
   {
    "duration": 710,
    "start_time": "2022-10-20T19:09:38.369Z"
   },
   {
    "duration": 177,
    "start_time": "2022-10-20T19:09:39.081Z"
   },
   {
    "duration": 188,
    "start_time": "2022-10-20T19:09:39.260Z"
   },
   {
    "duration": 813,
    "start_time": "2022-10-20T19:09:39.450Z"
   },
   {
    "duration": 196,
    "start_time": "2022-10-20T19:09:40.264Z"
   },
   {
    "duration": 150,
    "start_time": "2022-10-20T19:09:40.461Z"
   },
   {
    "duration": 62,
    "start_time": "2022-10-21T07:17:53.846Z"
   },
   {
    "duration": 422,
    "start_time": "2022-10-21T07:18:03.075Z"
   },
   {
    "duration": 351,
    "start_time": "2022-10-21T07:18:03.499Z"
   },
   {
    "duration": 59,
    "start_time": "2022-10-21T07:18:03.852Z"
   },
   {
    "duration": 2291,
    "start_time": "2022-10-21T07:18:03.913Z"
   },
   {
    "duration": 19,
    "start_time": "2022-10-21T07:18:06.206Z"
   },
   {
    "duration": 12,
    "start_time": "2022-10-21T07:18:06.226Z"
   },
   {
    "duration": 11,
    "start_time": "2022-10-21T07:18:06.240Z"
   },
   {
    "duration": 10,
    "start_time": "2022-10-21T07:18:06.253Z"
   },
   {
    "duration": 11,
    "start_time": "2022-10-21T07:18:06.265Z"
   },
   {
    "duration": 9,
    "start_time": "2022-10-21T07:18:06.285Z"
   },
   {
    "duration": 42,
    "start_time": "2022-10-21T07:18:06.300Z"
   },
   {
    "duration": 11,
    "start_time": "2022-10-21T07:18:06.344Z"
   },
   {
    "duration": 19,
    "start_time": "2022-10-21T07:18:06.357Z"
   },
   {
    "duration": 52,
    "start_time": "2022-10-21T07:18:06.378Z"
   },
   {
    "duration": 22,
    "start_time": "2022-10-21T07:18:06.432Z"
   },
   {
    "duration": 23,
    "start_time": "2022-10-21T07:18:06.456Z"
   },
   {
    "duration": 3892,
    "start_time": "2022-10-21T07:18:06.481Z"
   },
   {
    "duration": 176,
    "start_time": "2022-10-21T07:18:10.375Z"
   },
   {
    "duration": 13,
    "start_time": "2022-10-21T07:18:10.553Z"
   },
   {
    "duration": 55,
    "start_time": "2022-10-21T07:18:10.568Z"
   },
   {
    "duration": 49,
    "start_time": "2022-10-21T07:18:10.624Z"
   },
   {
    "duration": 28,
    "start_time": "2022-10-21T07:18:10.675Z"
   },
   {
    "duration": 30,
    "start_time": "2022-10-21T07:18:10.705Z"
   },
   {
    "duration": 316,
    "start_time": "2022-10-21T07:18:10.736Z"
   },
   {
    "duration": 8,
    "start_time": "2022-10-21T07:18:11.053Z"
   },
   {
    "duration": 38,
    "start_time": "2022-10-21T07:18:11.062Z"
   },
   {
    "duration": 132,
    "start_time": "2022-10-21T07:18:11.102Z"
   },
   {
    "duration": 20,
    "start_time": "2022-10-21T07:18:11.238Z"
   },
   {
    "duration": 44,
    "start_time": "2022-10-21T07:18:11.259Z"
   },
   {
    "duration": 34,
    "start_time": "2022-10-21T07:18:11.304Z"
   },
   {
    "duration": 128,
    "start_time": "2022-10-21T07:18:11.340Z"
   },
   {
    "duration": 406,
    "start_time": "2022-10-21T07:18:11.470Z"
   },
   {
    "duration": 138,
    "start_time": "2022-10-21T07:18:11.878Z"
   },
   {
    "duration": 291,
    "start_time": "2022-10-21T07:18:12.018Z"
   },
   {
    "duration": 139,
    "start_time": "2022-10-21T07:18:12.311Z"
   },
   {
    "duration": 160,
    "start_time": "2022-10-21T07:18:12.452Z"
   },
   {
    "duration": 158,
    "start_time": "2022-10-21T07:18:12.613Z"
   },
   {
    "duration": 135,
    "start_time": "2022-10-21T07:18:12.772Z"
   },
   {
    "duration": 158,
    "start_time": "2022-10-21T07:18:12.909Z"
   },
   {
    "duration": 142,
    "start_time": "2022-10-21T07:18:13.068Z"
   },
   {
    "duration": 295,
    "start_time": "2022-10-21T07:18:13.212Z"
   },
   {
    "duration": 242,
    "start_time": "2022-10-21T07:18:13.508Z"
   },
   {
    "duration": 157,
    "start_time": "2022-10-21T07:18:13.751Z"
   },
   {
    "duration": 153,
    "start_time": "2022-10-21T07:18:13.910Z"
   },
   {
    "duration": 293,
    "start_time": "2022-10-21T07:18:14.065Z"
   },
   {
    "duration": 886,
    "start_time": "2022-10-21T07:18:14.360Z"
   },
   {
    "duration": 633,
    "start_time": "2022-10-21T07:18:15.248Z"
   },
   {
    "duration": 156,
    "start_time": "2022-10-21T07:18:15.882Z"
   },
   {
    "duration": 176,
    "start_time": "2022-10-21T07:18:16.041Z"
   },
   {
    "duration": 794,
    "start_time": "2022-10-21T07:18:16.218Z"
   },
   {
    "duration": 189,
    "start_time": "2022-10-21T07:18:17.014Z"
   },
   {
    "duration": 186,
    "start_time": "2022-10-21T07:18:17.204Z"
   },
   {
    "duration": 88,
    "start_time": "2022-10-21T07:18:53.445Z"
   },
   {
    "duration": 204,
    "start_time": "2022-10-21T07:19:06.777Z"
   },
   {
    "duration": 198,
    "start_time": "2022-10-21T07:21:37.128Z"
   },
   {
    "duration": 14,
    "start_time": "2022-10-21T07:25:48.114Z"
   },
   {
    "duration": 24,
    "start_time": "2022-10-21T07:26:15.028Z"
   },
   {
    "duration": 18,
    "start_time": "2022-10-21T07:29:56.425Z"
   },
   {
    "duration": 23,
    "start_time": "2022-10-21T07:30:41.593Z"
   },
   {
    "duration": 105,
    "start_time": "2022-10-21T07:34:49.336Z"
   },
   {
    "duration": 299,
    "start_time": "2022-10-21T07:35:09.368Z"
   },
   {
    "duration": 271,
    "start_time": "2022-10-21T07:35:25.508Z"
   },
   {
    "duration": 243,
    "start_time": "2022-10-21T09:03:55.204Z"
   },
   {
    "duration": 189,
    "start_time": "2022-10-21T10:41:29.161Z"
   },
   {
    "duration": 247,
    "start_time": "2022-10-21T10:42:59.327Z"
   },
   {
    "duration": 217,
    "start_time": "2022-10-21T10:43:36.678Z"
   },
   {
    "duration": 208,
    "start_time": "2022-10-21T10:44:54.874Z"
   },
   {
    "duration": 290,
    "start_time": "2022-10-21T10:45:11.783Z"
   },
   {
    "duration": 297,
    "start_time": "2022-10-21T10:45:34.256Z"
   },
   {
    "duration": 515,
    "start_time": "2022-10-21T10:46:13.378Z"
   },
   {
    "duration": 161,
    "start_time": "2022-10-21T10:46:13.895Z"
   },
   {
    "duration": 70,
    "start_time": "2022-10-21T10:46:14.071Z"
   },
   {
    "duration": 3190,
    "start_time": "2022-10-21T10:46:14.144Z"
   },
   {
    "duration": 29,
    "start_time": "2022-10-21T10:46:17.337Z"
   },
   {
    "duration": 15,
    "start_time": "2022-10-21T10:46:17.369Z"
   },
   {
    "duration": 49,
    "start_time": "2022-10-21T10:46:17.395Z"
   },
   {
    "duration": 17,
    "start_time": "2022-10-21T10:46:17.447Z"
   },
   {
    "duration": 87,
    "start_time": "2022-10-21T10:46:17.466Z"
   },
   {
    "duration": 11,
    "start_time": "2022-10-21T10:46:17.568Z"
   },
   {
    "duration": 60,
    "start_time": "2022-10-21T10:46:17.581Z"
   },
   {
    "duration": 17,
    "start_time": "2022-10-21T10:46:17.642Z"
   },
   {
    "duration": 7,
    "start_time": "2022-10-21T10:46:17.661Z"
   },
   {
    "duration": 37,
    "start_time": "2022-10-21T10:46:17.670Z"
   },
   {
    "duration": 31,
    "start_time": "2022-10-21T10:46:17.709Z"
   },
   {
    "duration": 15,
    "start_time": "2022-10-21T10:46:17.742Z"
   },
   {
    "duration": 4375,
    "start_time": "2022-10-21T10:46:17.758Z"
   },
   {
    "duration": 220,
    "start_time": "2022-10-21T10:46:22.136Z"
   },
   {
    "duration": 9,
    "start_time": "2022-10-21T10:46:22.358Z"
   },
   {
    "duration": 57,
    "start_time": "2022-10-21T10:46:22.369Z"
   },
   {
    "duration": 8,
    "start_time": "2022-10-21T10:46:22.428Z"
   },
   {
    "duration": 27,
    "start_time": "2022-10-21T10:46:22.438Z"
   },
   {
    "duration": 429,
    "start_time": "2022-10-21T10:46:22.468Z"
   },
   {
    "duration": 9,
    "start_time": "2022-10-21T10:46:22.900Z"
   },
   {
    "duration": 17,
    "start_time": "2022-10-21T10:46:22.911Z"
   },
   {
    "duration": 189,
    "start_time": "2022-10-21T10:46:22.932Z"
   },
   {
    "duration": 30,
    "start_time": "2022-10-21T10:46:23.125Z"
   },
   {
    "duration": 35,
    "start_time": "2022-10-21T10:46:23.163Z"
   },
   {
    "duration": 33,
    "start_time": "2022-10-21T10:46:23.200Z"
   },
   {
    "duration": 162,
    "start_time": "2022-10-21T10:46:23.235Z"
   },
   {
    "duration": 494,
    "start_time": "2022-10-21T10:46:23.398Z"
   },
   {
    "duration": 185,
    "start_time": "2022-10-21T10:46:23.894Z"
   },
   {
    "duration": 435,
    "start_time": "2022-10-21T10:46:24.089Z"
   },
   {
    "duration": 177,
    "start_time": "2022-10-21T10:46:24.529Z"
   },
   {
    "duration": 167,
    "start_time": "2022-10-21T10:46:24.711Z"
   },
   {
    "duration": 267,
    "start_time": "2022-10-21T10:46:24.881Z"
   },
   {
    "duration": 216,
    "start_time": "2022-10-21T10:46:25.150Z"
   },
   {
    "duration": 257,
    "start_time": "2022-10-21T10:46:25.368Z"
   },
   {
    "duration": 213,
    "start_time": "2022-10-21T10:46:25.629Z"
   },
   {
    "duration": 484,
    "start_time": "2022-10-21T10:46:25.844Z"
   },
   {
    "duration": 394,
    "start_time": "2022-10-21T10:46:26.332Z"
   },
   {
    "duration": 206,
    "start_time": "2022-10-21T10:46:26.729Z"
   },
   {
    "duration": 215,
    "start_time": "2022-10-21T10:46:26.937Z"
   },
   {
    "duration": 439,
    "start_time": "2022-10-21T10:46:27.155Z"
   },
   {
    "duration": 1200,
    "start_time": "2022-10-21T10:46:27.599Z"
   },
   {
    "duration": 886,
    "start_time": "2022-10-21T10:46:28.804Z"
   },
   {
    "duration": 245,
    "start_time": "2022-10-21T10:46:29.696Z"
   },
   {
    "duration": 216,
    "start_time": "2022-10-21T10:46:29.952Z"
   },
   {
    "duration": 988,
    "start_time": "2022-10-21T10:46:30.170Z"
   },
   {
    "duration": 278,
    "start_time": "2022-10-21T10:46:31.160Z"
   },
   {
    "duration": 189,
    "start_time": "2022-10-21T10:46:31.441Z"
   },
   {
    "duration": 219,
    "start_time": "2022-10-21T12:26:35.016Z"
   },
   {
    "duration": 178,
    "start_time": "2022-10-21T12:27:06.033Z"
   },
   {
    "duration": 115,
    "start_time": "2022-10-21T12:27:15.742Z"
   },
   {
    "duration": 211,
    "start_time": "2022-10-21T12:27:18.754Z"
   },
   {
    "duration": 214,
    "start_time": "2022-10-21T12:27:56.368Z"
   },
   {
    "duration": 155,
    "start_time": "2022-10-21T12:28:15.944Z"
   },
   {
    "duration": 178,
    "start_time": "2022-10-21T12:29:05.118Z"
   },
   {
    "duration": 299,
    "start_time": "2022-10-21T12:29:51.158Z"
   },
   {
    "duration": 209,
    "start_time": "2022-10-21T12:31:37.577Z"
   },
   {
    "duration": 88,
    "start_time": "2022-10-21T12:33:05.055Z"
   },
   {
    "duration": 389,
    "start_time": "2022-10-21T12:33:40.587Z"
   },
   {
    "duration": 99,
    "start_time": "2022-10-21T12:33:40.984Z"
   },
   {
    "duration": 58,
    "start_time": "2022-10-21T12:33:41.084Z"
   },
   {
    "duration": 2163,
    "start_time": "2022-10-21T12:33:41.143Z"
   },
   {
    "duration": 25,
    "start_time": "2022-10-21T12:33:43.309Z"
   },
   {
    "duration": 11,
    "start_time": "2022-10-21T12:33:43.335Z"
   },
   {
    "duration": 15,
    "start_time": "2022-10-21T12:33:43.347Z"
   },
   {
    "duration": 13,
    "start_time": "2022-10-21T12:33:43.363Z"
   },
   {
    "duration": 36,
    "start_time": "2022-10-21T12:33:43.378Z"
   },
   {
    "duration": 39,
    "start_time": "2022-10-21T12:33:43.416Z"
   },
   {
    "duration": 88,
    "start_time": "2022-10-21T12:33:43.457Z"
   },
   {
    "duration": 17,
    "start_time": "2022-10-21T12:33:43.547Z"
   },
   {
    "duration": 56,
    "start_time": "2022-10-21T12:33:43.566Z"
   },
   {
    "duration": 39,
    "start_time": "2022-10-21T12:33:43.627Z"
   },
   {
    "duration": 36,
    "start_time": "2022-10-21T12:33:43.668Z"
   },
   {
    "duration": 40,
    "start_time": "2022-10-21T12:33:43.705Z"
   },
   {
    "duration": 4058,
    "start_time": "2022-10-21T12:33:43.747Z"
   },
   {
    "duration": 207,
    "start_time": "2022-10-21T12:33:47.807Z"
   },
   {
    "duration": 8,
    "start_time": "2022-10-21T12:33:48.016Z"
   },
   {
    "duration": 10,
    "start_time": "2022-10-21T12:33:48.026Z"
   },
   {
    "duration": 8,
    "start_time": "2022-10-21T12:33:48.038Z"
   },
   {
    "duration": 16,
    "start_time": "2022-10-21T12:33:48.048Z"
   },
   {
    "duration": 345,
    "start_time": "2022-10-21T12:33:48.085Z"
   },
   {
    "duration": 8,
    "start_time": "2022-10-21T12:33:48.431Z"
   },
   {
    "duration": 15,
    "start_time": "2022-10-21T12:33:48.441Z"
   },
   {
    "duration": 158,
    "start_time": "2022-10-21T12:33:48.458Z"
   },
   {
    "duration": 21,
    "start_time": "2022-10-21T12:33:48.618Z"
   },
   {
    "duration": 19,
    "start_time": "2022-10-21T12:33:48.641Z"
   },
   {
    "duration": 43,
    "start_time": "2022-10-21T12:33:48.662Z"
   },
   {
    "duration": 145,
    "start_time": "2022-10-21T12:33:48.707Z"
   },
   {
    "duration": 460,
    "start_time": "2022-10-21T12:33:48.854Z"
   },
   {
    "duration": 150,
    "start_time": "2022-10-21T12:33:49.315Z"
   },
   {
    "duration": 339,
    "start_time": "2022-10-21T12:33:49.466Z"
   },
   {
    "duration": 158,
    "start_time": "2022-10-21T12:33:49.807Z"
   },
   {
    "duration": 181,
    "start_time": "2022-10-21T12:33:49.967Z"
   },
   {
    "duration": 164,
    "start_time": "2022-10-21T12:33:50.149Z"
   },
   {
    "duration": 131,
    "start_time": "2022-10-21T12:33:50.315Z"
   },
   {
    "duration": 179,
    "start_time": "2022-10-21T12:33:50.448Z"
   },
   {
    "duration": 142,
    "start_time": "2022-10-21T12:33:50.628Z"
   },
   {
    "duration": 311,
    "start_time": "2022-10-21T12:33:50.772Z"
   },
   {
    "duration": 295,
    "start_time": "2022-10-21T12:33:51.087Z"
   },
   {
    "duration": 146,
    "start_time": "2022-10-21T12:33:51.384Z"
   },
   {
    "duration": 160,
    "start_time": "2022-10-21T12:33:51.532Z"
   },
   {
    "duration": 264,
    "start_time": "2022-10-21T12:33:51.694Z"
   },
   {
    "duration": 890,
    "start_time": "2022-10-21T12:33:51.959Z"
   },
   {
    "duration": 625,
    "start_time": "2022-10-21T12:33:52.851Z"
   },
   {
    "duration": 168,
    "start_time": "2022-10-21T12:33:53.478Z"
   },
   {
    "duration": 195,
    "start_time": "2022-10-21T12:33:53.648Z"
   },
   {
    "duration": 811,
    "start_time": "2022-10-21T12:33:53.845Z"
   },
   {
    "duration": 205,
    "start_time": "2022-10-21T12:33:54.658Z"
   },
   {
    "duration": 175,
    "start_time": "2022-10-21T12:33:54.865Z"
   },
   {
    "duration": 70,
    "start_time": "2022-10-21T12:36:01.378Z"
   },
   {
    "duration": 5,
    "start_time": "2022-10-21T12:36:09.562Z"
   },
   {
    "duration": 4,
    "start_time": "2022-10-21T12:43:24.026Z"
   },
   {
    "duration": 444,
    "start_time": "2022-10-21T12:43:40.523Z"
   },
   {
    "duration": 107,
    "start_time": "2022-10-21T12:43:40.969Z"
   },
   {
    "duration": 72,
    "start_time": "2022-10-21T12:43:41.078Z"
   },
   {
    "duration": 2538,
    "start_time": "2022-10-21T12:43:41.153Z"
   },
   {
    "duration": 22,
    "start_time": "2022-10-21T12:43:43.694Z"
   },
   {
    "duration": 12,
    "start_time": "2022-10-21T12:43:43.718Z"
   },
   {
    "duration": 12,
    "start_time": "2022-10-21T12:43:43.732Z"
   },
   {
    "duration": 16,
    "start_time": "2022-10-21T12:43:43.746Z"
   },
   {
    "duration": 29,
    "start_time": "2022-10-21T12:43:43.765Z"
   },
   {
    "duration": 23,
    "start_time": "2022-10-21T12:43:43.796Z"
   },
   {
    "duration": 50,
    "start_time": "2022-10-21T12:43:43.823Z"
   },
   {
    "duration": 15,
    "start_time": "2022-10-21T12:43:43.875Z"
   },
   {
    "duration": 14,
    "start_time": "2022-10-21T12:43:43.893Z"
   },
   {
    "duration": 22,
    "start_time": "2022-10-21T12:43:43.911Z"
   },
   {
    "duration": 32,
    "start_time": "2022-10-21T12:43:43.935Z"
   },
   {
    "duration": 9,
    "start_time": "2022-10-21T12:43:43.969Z"
   },
   {
    "duration": 21,
    "start_time": "2022-10-21T12:43:43.980Z"
   },
   {
    "duration": 4357,
    "start_time": "2022-10-21T12:43:44.003Z"
   },
   {
    "duration": 193,
    "start_time": "2022-10-21T12:43:48.362Z"
   },
   {
    "duration": 4,
    "start_time": "2022-10-21T12:43:48.557Z"
   },
   {
    "duration": 27,
    "start_time": "2022-10-21T12:43:48.562Z"
   },
   {
    "duration": 9,
    "start_time": "2022-10-21T12:43:48.591Z"
   },
   {
    "duration": 10,
    "start_time": "2022-10-21T12:43:48.606Z"
   },
   {
    "duration": 9,
    "start_time": "2022-10-21T12:43:48.618Z"
   },
   {
    "duration": 390,
    "start_time": "2022-10-21T12:43:48.629Z"
   },
   {
    "duration": 10,
    "start_time": "2022-10-21T12:43:49.020Z"
   },
   {
    "duration": 38,
    "start_time": "2022-10-21T12:43:49.032Z"
   },
   {
    "duration": 160,
    "start_time": "2022-10-21T12:43:49.072Z"
   },
   {
    "duration": 22,
    "start_time": "2022-10-21T12:43:49.234Z"
   },
   {
    "duration": 35,
    "start_time": "2022-10-21T12:43:49.258Z"
   },
   {
    "duration": 27,
    "start_time": "2022-10-21T12:43:49.297Z"
   },
   {
    "duration": 159,
    "start_time": "2022-10-21T12:43:49.326Z"
   },
   {
    "duration": 478,
    "start_time": "2022-10-21T12:43:49.487Z"
   },
   {
    "duration": 154,
    "start_time": "2022-10-21T12:43:49.967Z"
   },
   {
    "duration": 330,
    "start_time": "2022-10-21T12:43:50.123Z"
   },
   {
    "duration": 162,
    "start_time": "2022-10-21T12:43:50.455Z"
   },
   {
    "duration": 153,
    "start_time": "2022-10-21T12:43:50.620Z"
   },
   {
    "duration": 182,
    "start_time": "2022-10-21T12:43:50.774Z"
   },
   {
    "duration": 196,
    "start_time": "2022-10-21T12:43:50.957Z"
   },
   {
    "duration": 205,
    "start_time": "2022-10-21T12:43:51.155Z"
   },
   {
    "duration": 155,
    "start_time": "2022-10-21T12:43:51.363Z"
   },
   {
    "duration": 344,
    "start_time": "2022-10-21T12:43:51.523Z"
   },
   {
    "duration": 299,
    "start_time": "2022-10-21T12:43:51.869Z"
   },
   {
    "duration": 169,
    "start_time": "2022-10-21T12:43:52.170Z"
   },
   {
    "duration": 158,
    "start_time": "2022-10-21T12:43:52.340Z"
   },
   {
    "duration": 323,
    "start_time": "2022-10-21T12:43:52.500Z"
   },
   {
    "duration": 1046,
    "start_time": "2022-10-21T12:43:52.824Z"
   },
   {
    "duration": 770,
    "start_time": "2022-10-21T12:43:53.872Z"
   },
   {
    "duration": 165,
    "start_time": "2022-10-21T12:43:54.644Z"
   },
   {
    "duration": 197,
    "start_time": "2022-10-21T12:43:54.812Z"
   },
   {
    "duration": 941,
    "start_time": "2022-10-21T12:43:55.011Z"
   },
   {
    "duration": 237,
    "start_time": "2022-10-21T12:43:55.954Z"
   },
   {
    "duration": 191,
    "start_time": "2022-10-21T12:43:56.196Z"
   },
   {
    "duration": 4,
    "start_time": "2022-10-21T12:44:24.913Z"
   },
   {
    "duration": 5,
    "start_time": "2022-10-21T12:44:47.100Z"
   },
   {
    "duration": 16,
    "start_time": "2022-10-21T12:45:43.572Z"
   },
   {
    "duration": 4,
    "start_time": "2022-10-21T12:45:46.046Z"
   },
   {
    "duration": 14,
    "start_time": "2022-10-21T12:45:53.098Z"
   },
   {
    "duration": 355,
    "start_time": "2022-10-21T12:46:02.116Z"
   },
   {
    "duration": 102,
    "start_time": "2022-10-21T12:46:02.473Z"
   },
   {
    "duration": 50,
    "start_time": "2022-10-21T12:46:02.577Z"
   },
   {
    "duration": 2277,
    "start_time": "2022-10-21T12:46:02.630Z"
   },
   {
    "duration": 25,
    "start_time": "2022-10-21T12:46:04.909Z"
   },
   {
    "duration": 10,
    "start_time": "2022-10-21T12:46:04.936Z"
   },
   {
    "duration": 12,
    "start_time": "2022-10-21T12:46:04.947Z"
   },
   {
    "duration": 12,
    "start_time": "2022-10-21T12:46:04.960Z"
   },
   {
    "duration": 16,
    "start_time": "2022-10-21T12:46:04.973Z"
   },
   {
    "duration": 14,
    "start_time": "2022-10-21T12:46:04.993Z"
   },
   {
    "duration": 39,
    "start_time": "2022-10-21T12:46:05.008Z"
   },
   {
    "duration": 12,
    "start_time": "2022-10-21T12:46:05.049Z"
   },
   {
    "duration": 4,
    "start_time": "2022-10-21T12:46:05.062Z"
   },
   {
    "duration": 18,
    "start_time": "2022-10-21T12:46:05.068Z"
   },
   {
    "duration": 34,
    "start_time": "2022-10-21T12:46:05.088Z"
   },
   {
    "duration": 4,
    "start_time": "2022-10-21T12:46:05.123Z"
   },
   {
    "duration": 10,
    "start_time": "2022-10-21T12:46:05.128Z"
   },
   {
    "duration": 14,
    "start_time": "2022-10-21T12:46:05.140Z"
   },
   {
    "duration": 4052,
    "start_time": "2022-10-21T12:46:05.156Z"
   },
   {
    "duration": 180,
    "start_time": "2022-10-21T12:46:09.211Z"
   },
   {
    "duration": 4,
    "start_time": "2022-10-21T12:46:09.392Z"
   },
   {
    "duration": 16,
    "start_time": "2022-10-21T12:46:09.398Z"
   },
   {
    "duration": 12,
    "start_time": "2022-10-21T12:46:09.416Z"
   },
   {
    "duration": 8,
    "start_time": "2022-10-21T12:46:09.430Z"
   },
   {
    "duration": 8,
    "start_time": "2022-10-21T12:46:09.440Z"
   },
   {
    "duration": 348,
    "start_time": "2022-10-21T12:46:09.449Z"
   },
   {
    "duration": 8,
    "start_time": "2022-10-21T12:46:09.799Z"
   },
   {
    "duration": 27,
    "start_time": "2022-10-21T12:46:09.814Z"
   },
   {
    "duration": 172,
    "start_time": "2022-10-21T12:46:09.843Z"
   },
   {
    "duration": 25,
    "start_time": "2022-10-21T12:46:10.017Z"
   },
   {
    "duration": 19,
    "start_time": "2022-10-21T12:46:10.044Z"
   },
   {
    "duration": 40,
    "start_time": "2022-10-21T12:46:10.065Z"
   },
   {
    "duration": 151,
    "start_time": "2022-10-21T12:46:10.107Z"
   },
   {
    "duration": 465,
    "start_time": "2022-10-21T12:46:10.260Z"
   },
   {
    "duration": 158,
    "start_time": "2022-10-21T12:46:10.727Z"
   },
   {
    "duration": 306,
    "start_time": "2022-10-21T12:46:10.886Z"
   },
   {
    "duration": 151,
    "start_time": "2022-10-21T12:46:11.194Z"
   },
   {
    "duration": 161,
    "start_time": "2022-10-21T12:46:11.347Z"
   },
   {
    "duration": 238,
    "start_time": "2022-10-21T12:46:11.510Z"
   },
   {
    "duration": 147,
    "start_time": "2022-10-21T12:46:11.750Z"
   },
   {
    "duration": 188,
    "start_time": "2022-10-21T12:46:11.899Z"
   },
   {
    "duration": 146,
    "start_time": "2022-10-21T12:46:12.090Z"
   },
   {
    "duration": 314,
    "start_time": "2022-10-21T12:46:12.238Z"
   },
   {
    "duration": 285,
    "start_time": "2022-10-21T12:46:12.554Z"
   },
   {
    "duration": 155,
    "start_time": "2022-10-21T12:46:12.840Z"
   },
   {
    "duration": 161,
    "start_time": "2022-10-21T12:46:12.997Z"
   },
   {
    "duration": 267,
    "start_time": "2022-10-21T12:46:13.160Z"
   },
   {
    "duration": 948,
    "start_time": "2022-10-21T12:46:13.429Z"
   },
   {
    "duration": 679,
    "start_time": "2022-10-21T12:46:14.380Z"
   },
   {
    "duration": 162,
    "start_time": "2022-10-21T12:46:15.060Z"
   },
   {
    "duration": 172,
    "start_time": "2022-10-21T12:46:15.224Z"
   },
   {
    "duration": 844,
    "start_time": "2022-10-21T12:46:15.397Z"
   },
   {
    "duration": 199,
    "start_time": "2022-10-21T12:46:16.243Z"
   },
   {
    "duration": 176,
    "start_time": "2022-10-21T12:46:16.444Z"
   },
   {
    "duration": 16,
    "start_time": "2022-10-21T12:46:26.995Z"
   },
   {
    "duration": 5,
    "start_time": "2022-10-21T12:46:30.700Z"
   },
   {
    "duration": 3,
    "start_time": "2022-10-21T12:47:14.139Z"
   },
   {
    "duration": 20,
    "start_time": "2022-10-21T12:47:58.658Z"
   },
   {
    "duration": 4,
    "start_time": "2022-10-21T12:48:07.749Z"
   },
   {
    "duration": 390,
    "start_time": "2022-10-21T12:48:16.337Z"
   },
   {
    "duration": 107,
    "start_time": "2022-10-21T12:48:16.729Z"
   },
   {
    "duration": 59,
    "start_time": "2022-10-21T12:48:16.837Z"
   },
   {
    "duration": 2329,
    "start_time": "2022-10-21T12:48:16.898Z"
   },
   {
    "duration": 20,
    "start_time": "2022-10-21T12:48:19.228Z"
   },
   {
    "duration": 9,
    "start_time": "2022-10-21T12:48:19.250Z"
   },
   {
    "duration": 14,
    "start_time": "2022-10-21T12:48:19.261Z"
   },
   {
    "duration": 13,
    "start_time": "2022-10-21T12:48:19.276Z"
   },
   {
    "duration": 9,
    "start_time": "2022-10-21T12:48:19.290Z"
   },
   {
    "duration": 4,
    "start_time": "2022-10-21T12:48:19.301Z"
   },
   {
    "duration": 36,
    "start_time": "2022-10-21T12:48:19.306Z"
   },
   {
    "duration": 12,
    "start_time": "2022-10-21T12:48:19.344Z"
   },
   {
    "duration": 4,
    "start_time": "2022-10-21T12:48:19.385Z"
   },
   {
    "duration": 7,
    "start_time": "2022-10-21T12:48:19.391Z"
   },
   {
    "duration": 18,
    "start_time": "2022-10-21T12:48:19.400Z"
   },
   {
    "duration": 7,
    "start_time": "2022-10-21T12:48:19.420Z"
   },
   {
    "duration": 13,
    "start_time": "2022-10-21T12:48:19.428Z"
   },
   {
    "duration": 4223,
    "start_time": "2022-10-21T12:48:19.443Z"
   },
   {
    "duration": 249,
    "start_time": "2022-10-21T12:48:23.668Z"
   },
   {
    "duration": 4,
    "start_time": "2022-10-21T12:48:23.919Z"
   },
   {
    "duration": 26,
    "start_time": "2022-10-21T12:48:23.925Z"
   },
   {
    "duration": 18,
    "start_time": "2022-10-21T12:48:23.953Z"
   },
   {
    "duration": 14,
    "start_time": "2022-10-21T12:48:23.972Z"
   },
   {
    "duration": 8,
    "start_time": "2022-10-21T12:48:23.988Z"
   },
   {
    "duration": 395,
    "start_time": "2022-10-21T12:48:23.998Z"
   },
   {
    "duration": 7,
    "start_time": "2022-10-21T12:48:24.394Z"
   },
   {
    "duration": 17,
    "start_time": "2022-10-21T12:48:24.403Z"
   },
   {
    "duration": 143,
    "start_time": "2022-10-21T12:48:24.424Z"
   },
   {
    "duration": 32,
    "start_time": "2022-10-21T12:48:24.569Z"
   },
   {
    "duration": 20,
    "start_time": "2022-10-21T12:48:24.603Z"
   },
   {
    "duration": 20,
    "start_time": "2022-10-21T12:48:24.625Z"
   },
   {
    "duration": 169,
    "start_time": "2022-10-21T12:48:24.646Z"
   },
   {
    "duration": 498,
    "start_time": "2022-10-21T12:48:24.816Z"
   },
   {
    "duration": 141,
    "start_time": "2022-10-21T12:48:25.315Z"
   },
   {
    "duration": 269,
    "start_time": "2022-10-21T12:48:25.458Z"
   },
   {
    "duration": 157,
    "start_time": "2022-10-21T12:48:25.729Z"
   },
   {
    "duration": 159,
    "start_time": "2022-10-21T12:48:25.888Z"
   },
   {
    "duration": 180,
    "start_time": "2022-10-21T12:48:26.048Z"
   },
   {
    "duration": 170,
    "start_time": "2022-10-21T12:48:26.230Z"
   },
   {
    "duration": 186,
    "start_time": "2022-10-21T12:48:26.402Z"
   },
   {
    "duration": 149,
    "start_time": "2022-10-21T12:48:26.590Z"
   },
   {
    "duration": 374,
    "start_time": "2022-10-21T12:48:26.741Z"
   },
   {
    "duration": 279,
    "start_time": "2022-10-21T12:48:27.116Z"
   },
   {
    "duration": 196,
    "start_time": "2022-10-21T12:48:27.397Z"
   },
   {
    "duration": 165,
    "start_time": "2022-10-21T12:48:27.595Z"
   },
   {
    "duration": 257,
    "start_time": "2022-10-21T12:48:27.762Z"
   },
   {
    "duration": 938,
    "start_time": "2022-10-21T12:48:28.021Z"
   },
   {
    "duration": 719,
    "start_time": "2022-10-21T12:48:28.961Z"
   },
   {
    "duration": 165,
    "start_time": "2022-10-21T12:48:29.682Z"
   },
   {
    "duration": 186,
    "start_time": "2022-10-21T12:48:29.849Z"
   },
   {
    "duration": 867,
    "start_time": "2022-10-21T12:48:30.037Z"
   },
   {
    "duration": 213,
    "start_time": "2022-10-21T12:48:30.906Z"
   },
   {
    "duration": 176,
    "start_time": "2022-10-21T12:48:31.121Z"
   },
   {
    "duration": 17,
    "start_time": "2022-10-21T12:49:10.458Z"
   },
   {
    "duration": 412,
    "start_time": "2022-10-21T12:49:20.188Z"
   },
   {
    "duration": 103,
    "start_time": "2022-10-21T12:49:20.603Z"
   },
   {
    "duration": 79,
    "start_time": "2022-10-21T12:49:20.708Z"
   },
   {
    "duration": 2226,
    "start_time": "2022-10-21T12:49:20.789Z"
   },
   {
    "duration": 20,
    "start_time": "2022-10-21T12:49:23.016Z"
   },
   {
    "duration": 11,
    "start_time": "2022-10-21T12:49:23.038Z"
   },
   {
    "duration": 14,
    "start_time": "2022-10-21T12:49:23.051Z"
   },
   {
    "duration": 22,
    "start_time": "2022-10-21T12:49:23.084Z"
   },
   {
    "duration": 24,
    "start_time": "2022-10-21T12:49:23.108Z"
   },
   {
    "duration": 50,
    "start_time": "2022-10-21T12:49:23.135Z"
   },
   {
    "duration": 32,
    "start_time": "2022-10-21T12:49:23.188Z"
   },
   {
    "duration": 13,
    "start_time": "2022-10-21T12:49:23.222Z"
   },
   {
    "duration": 9,
    "start_time": "2022-10-21T12:49:23.236Z"
   },
   {
    "duration": 13,
    "start_time": "2022-10-21T12:49:23.246Z"
   },
   {
    "duration": 39,
    "start_time": "2022-10-21T12:49:23.261Z"
   },
   {
    "duration": 9,
    "start_time": "2022-10-21T12:49:23.302Z"
   },
   {
    "duration": 72,
    "start_time": "2022-10-21T12:49:23.313Z"
   },
   {
    "duration": 4284,
    "start_time": "2022-10-21T12:49:23.387Z"
   },
   {
    "duration": 236,
    "start_time": "2022-10-21T12:49:27.673Z"
   },
   {
    "duration": 8,
    "start_time": "2022-10-21T12:49:27.911Z"
   },
   {
    "duration": 14,
    "start_time": "2022-10-21T12:49:27.921Z"
   },
   {
    "duration": 8,
    "start_time": "2022-10-21T12:49:27.936Z"
   },
   {
    "duration": 15,
    "start_time": "2022-10-21T12:49:27.946Z"
   },
   {
    "duration": 383,
    "start_time": "2022-10-21T12:49:27.964Z"
   },
   {
    "duration": 7,
    "start_time": "2022-10-21T12:49:28.349Z"
   },
   {
    "duration": 28,
    "start_time": "2022-10-21T12:49:28.357Z"
   },
   {
    "duration": 139,
    "start_time": "2022-10-21T12:49:28.387Z"
   },
   {
    "duration": 28,
    "start_time": "2022-10-21T12:49:28.531Z"
   },
   {
    "duration": 43,
    "start_time": "2022-10-21T12:49:28.560Z"
   },
   {
    "duration": 30,
    "start_time": "2022-10-21T12:49:28.605Z"
   },
   {
    "duration": 152,
    "start_time": "2022-10-21T12:49:28.637Z"
   },
   {
    "duration": 471,
    "start_time": "2022-10-21T12:49:28.791Z"
   },
   {
    "duration": 173,
    "start_time": "2022-10-21T12:49:29.263Z"
   },
   {
    "duration": 300,
    "start_time": "2022-10-21T12:49:29.439Z"
   },
   {
    "duration": 184,
    "start_time": "2022-10-21T12:49:29.740Z"
   },
   {
    "duration": 171,
    "start_time": "2022-10-21T12:49:29.926Z"
   },
   {
    "duration": 167,
    "start_time": "2022-10-21T12:49:30.098Z"
   },
   {
    "duration": 137,
    "start_time": "2022-10-21T12:49:30.267Z"
   },
   {
    "duration": 181,
    "start_time": "2022-10-21T12:49:30.406Z"
   },
   {
    "duration": 156,
    "start_time": "2022-10-21T12:49:30.588Z"
   },
   {
    "duration": 336,
    "start_time": "2022-10-21T12:49:30.746Z"
   },
   {
    "duration": 258,
    "start_time": "2022-10-21T12:49:31.085Z"
   },
   {
    "duration": 163,
    "start_time": "2022-10-21T12:49:31.345Z"
   },
   {
    "duration": 165,
    "start_time": "2022-10-21T12:49:31.509Z"
   },
   {
    "duration": 283,
    "start_time": "2022-10-21T12:49:31.676Z"
   },
   {
    "duration": 927,
    "start_time": "2022-10-21T12:49:31.961Z"
   },
   {
    "duration": 662,
    "start_time": "2022-10-21T12:49:32.889Z"
   },
   {
    "duration": 178,
    "start_time": "2022-10-21T12:49:33.553Z"
   },
   {
    "duration": 196,
    "start_time": "2022-10-21T12:49:33.732Z"
   },
   {
    "duration": 868,
    "start_time": "2022-10-21T12:49:33.930Z"
   },
   {
    "duration": 223,
    "start_time": "2022-10-21T12:49:34.800Z"
   },
   {
    "duration": 166,
    "start_time": "2022-10-21T12:49:35.025Z"
   },
   {
    "duration": 4,
    "start_time": "2022-10-21T12:52:59.974Z"
   },
   {
    "duration": 7,
    "start_time": "2022-10-21T12:53:22.734Z"
   },
   {
    "duration": 7,
    "start_time": "2022-10-21T12:53:34.332Z"
   },
   {
    "duration": 127,
    "start_time": "2022-10-21T12:54:01.129Z"
   },
   {
    "duration": 79,
    "start_time": "2022-10-21T12:56:11.538Z"
   },
   {
    "duration": 132,
    "start_time": "2022-10-21T12:59:10.381Z"
   },
   {
    "duration": 306,
    "start_time": "2022-10-21T13:26:16.280Z"
   },
   {
    "duration": 330,
    "start_time": "2022-10-21T13:26:23.734Z"
   },
   {
    "duration": 109,
    "start_time": "2022-10-21T13:26:41.348Z"
   },
   {
    "duration": 255,
    "start_time": "2022-10-21T13:26:47.412Z"
   },
   {
    "duration": 280,
    "start_time": "2022-10-21T13:31:20.184Z"
   },
   {
    "duration": 46,
    "start_time": "2022-10-21T18:11:36.542Z"
   },
   {
    "duration": 397,
    "start_time": "2022-10-21T18:11:43.652Z"
   },
   {
    "duration": 341,
    "start_time": "2022-10-21T18:11:44.051Z"
   },
   {
    "duration": 46,
    "start_time": "2022-10-21T18:11:44.394Z"
   },
   {
    "duration": 2202,
    "start_time": "2022-10-21T18:11:44.442Z"
   },
   {
    "duration": 18,
    "start_time": "2022-10-21T18:11:46.646Z"
   },
   {
    "duration": 9,
    "start_time": "2022-10-21T18:11:46.665Z"
   },
   {
    "duration": 10,
    "start_time": "2022-10-21T18:11:46.675Z"
   },
   {
    "duration": 13,
    "start_time": "2022-10-21T18:11:46.687Z"
   },
   {
    "duration": 8,
    "start_time": "2022-10-21T18:11:46.701Z"
   },
   {
    "duration": 3,
    "start_time": "2022-10-21T18:11:46.712Z"
   },
   {
    "duration": 30,
    "start_time": "2022-10-21T18:11:46.721Z"
   },
   {
    "duration": 11,
    "start_time": "2022-10-21T18:11:46.753Z"
   },
   {
    "duration": 4,
    "start_time": "2022-10-21T18:11:46.766Z"
   },
   {
    "duration": 8,
    "start_time": "2022-10-21T18:11:46.771Z"
   },
   {
    "duration": 41,
    "start_time": "2022-10-21T18:11:46.781Z"
   },
   {
    "duration": 7,
    "start_time": "2022-10-21T18:11:46.823Z"
   },
   {
    "duration": 20,
    "start_time": "2022-10-21T18:11:46.831Z"
   },
   {
    "duration": 3749,
    "start_time": "2022-10-21T18:11:46.852Z"
   },
   {
    "duration": 197,
    "start_time": "2022-10-21T18:11:50.603Z"
   },
   {
    "duration": 128,
    "start_time": "2022-10-21T18:11:50.802Z"
   },
   {
    "duration": 7,
    "start_time": "2022-10-21T18:11:50.931Z"
   },
   {
    "duration": 8,
    "start_time": "2022-10-21T18:11:50.940Z"
   },
   {
    "duration": 6,
    "start_time": "2022-10-21T18:11:50.949Z"
   },
   {
    "duration": 6,
    "start_time": "2022-10-21T18:11:50.957Z"
   },
   {
    "duration": 380,
    "start_time": "2022-10-21T18:11:50.964Z"
   },
   {
    "duration": 7,
    "start_time": "2022-10-21T18:11:51.346Z"
   },
   {
    "duration": 19,
    "start_time": "2022-10-21T18:11:51.355Z"
   },
   {
    "duration": 129,
    "start_time": "2022-10-21T18:11:51.377Z"
   },
   {
    "duration": 29,
    "start_time": "2022-10-21T18:11:51.507Z"
   },
   {
    "duration": 16,
    "start_time": "2022-10-21T18:11:51.537Z"
   },
   {
    "duration": 100,
    "start_time": "2022-10-21T18:11:51.555Z"
   },
   {
    "duration": 120,
    "start_time": "2022-10-21T18:11:51.657Z"
   },
   {
    "duration": 316,
    "start_time": "2022-10-21T18:11:51.779Z"
   },
   {
    "duration": 142,
    "start_time": "2022-10-21T18:11:52.096Z"
   },
   {
    "duration": 253,
    "start_time": "2022-10-21T18:11:52.239Z"
   },
   {
    "duration": 141,
    "start_time": "2022-10-21T18:11:52.493Z"
   },
   {
    "duration": 133,
    "start_time": "2022-10-21T18:11:52.636Z"
   },
   {
    "duration": 153,
    "start_time": "2022-10-21T18:11:52.771Z"
   },
   {
    "duration": 119,
    "start_time": "2022-10-21T18:11:52.925Z"
   },
   {
    "duration": 161,
    "start_time": "2022-10-21T18:11:53.045Z"
   },
   {
    "duration": 198,
    "start_time": "2022-10-21T18:11:53.207Z"
   },
   {
    "duration": 221,
    "start_time": "2022-10-21T18:11:53.407Z"
   },
   {
    "duration": 231,
    "start_time": "2022-10-21T18:11:53.630Z"
   },
   {
    "duration": 142,
    "start_time": "2022-10-21T18:11:53.863Z"
   },
   {
    "duration": 146,
    "start_time": "2022-10-21T18:11:54.006Z"
   },
   {
    "duration": 226,
    "start_time": "2022-10-21T18:11:54.154Z"
   },
   {
    "duration": 856,
    "start_time": "2022-10-21T18:11:54.381Z"
   },
   {
    "duration": 654,
    "start_time": "2022-10-21T18:11:55.238Z"
   },
   {
    "duration": 173,
    "start_time": "2022-10-21T18:11:55.893Z"
   },
   {
    "duration": 236,
    "start_time": "2022-10-21T18:11:56.069Z"
   },
   {
    "duration": 743,
    "start_time": "2022-10-21T18:11:56.306Z"
   },
   {
    "duration": 198,
    "start_time": "2022-10-21T18:11:57.051Z"
   },
   {
    "duration": 160,
    "start_time": "2022-10-21T18:11:57.251Z"
   },
   {
    "duration": 128,
    "start_time": "2022-10-21T18:12:47.624Z"
   },
   {
    "duration": 118,
    "start_time": "2022-10-21T18:13:05.662Z"
   },
   {
    "duration": 151,
    "start_time": "2022-10-21T18:19:34.644Z"
   },
   {
    "duration": 127,
    "start_time": "2022-10-21T18:19:53.115Z"
   },
   {
    "duration": 115,
    "start_time": "2022-10-21T18:20:08.368Z"
   },
   {
    "duration": 127,
    "start_time": "2022-10-21T18:20:27.313Z"
   },
   {
    "duration": 119,
    "start_time": "2022-10-21T18:20:46.367Z"
   },
   {
    "duration": 230,
    "start_time": "2022-10-21T18:21:21.963Z"
   },
   {
    "duration": 109,
    "start_time": "2022-10-21T18:21:29.484Z"
   },
   {
    "duration": 106,
    "start_time": "2022-10-21T18:21:40.698Z"
   },
   {
    "duration": 110,
    "start_time": "2022-10-21T18:21:58.718Z"
   },
   {
    "duration": 430,
    "start_time": "2022-10-21T18:22:12.919Z"
   },
   {
    "duration": 96,
    "start_time": "2022-10-21T18:22:13.351Z"
   },
   {
    "duration": 48,
    "start_time": "2022-10-21T18:22:13.448Z"
   },
   {
    "duration": 2035,
    "start_time": "2022-10-21T18:22:13.497Z"
   },
   {
    "duration": 18,
    "start_time": "2022-10-21T18:22:15.535Z"
   },
   {
    "duration": 9,
    "start_time": "2022-10-21T18:22:15.556Z"
   },
   {
    "duration": 11,
    "start_time": "2022-10-21T18:22:15.567Z"
   },
   {
    "duration": 9,
    "start_time": "2022-10-21T18:22:15.580Z"
   },
   {
    "duration": 6,
    "start_time": "2022-10-21T18:22:15.591Z"
   },
   {
    "duration": 23,
    "start_time": "2022-10-21T18:22:15.599Z"
   },
   {
    "duration": 30,
    "start_time": "2022-10-21T18:22:15.624Z"
   },
   {
    "duration": 10,
    "start_time": "2022-10-21T18:22:15.656Z"
   },
   {
    "duration": 3,
    "start_time": "2022-10-21T18:22:15.668Z"
   },
   {
    "duration": 10,
    "start_time": "2022-10-21T18:22:15.672Z"
   },
   {
    "duration": 39,
    "start_time": "2022-10-21T18:22:15.683Z"
   },
   {
    "duration": 6,
    "start_time": "2022-10-21T18:22:15.723Z"
   },
   {
    "duration": 11,
    "start_time": "2022-10-21T18:22:15.731Z"
   },
   {
    "duration": 3856,
    "start_time": "2022-10-21T18:22:15.743Z"
   },
   {
    "duration": 222,
    "start_time": "2022-10-21T18:22:19.601Z"
   },
   {
    "duration": 141,
    "start_time": "2022-10-21T18:22:19.826Z"
   },
   {
    "duration": 7,
    "start_time": "2022-10-21T18:22:19.969Z"
   },
   {
    "duration": 8,
    "start_time": "2022-10-21T18:22:19.977Z"
   },
   {
    "duration": 7,
    "start_time": "2022-10-21T18:22:19.986Z"
   },
   {
    "duration": 28,
    "start_time": "2022-10-21T18:22:19.995Z"
   },
   {
    "duration": 417,
    "start_time": "2022-10-21T18:22:20.025Z"
   },
   {
    "duration": 9,
    "start_time": "2022-10-21T18:22:20.444Z"
   },
   {
    "duration": 28,
    "start_time": "2022-10-21T18:22:20.455Z"
   },
   {
    "duration": 169,
    "start_time": "2022-10-21T18:22:20.487Z"
   },
   {
    "duration": 18,
    "start_time": "2022-10-21T18:22:20.658Z"
   },
   {
    "duration": 16,
    "start_time": "2022-10-21T18:22:20.678Z"
   },
   {
    "duration": 116,
    "start_time": "2022-10-21T18:22:20.696Z"
   },
   {
    "duration": 121,
    "start_time": "2022-10-21T18:22:20.814Z"
   },
   {
    "duration": 352,
    "start_time": "2022-10-21T18:22:20.937Z"
   },
   {
    "duration": 159,
    "start_time": "2022-10-21T18:22:21.291Z"
   },
   {
    "duration": 301,
    "start_time": "2022-10-21T18:22:21.452Z"
   },
   {
    "duration": 159,
    "start_time": "2022-10-21T18:22:21.755Z"
   },
   {
    "duration": 174,
    "start_time": "2022-10-21T18:22:21.916Z"
   },
   {
    "duration": 177,
    "start_time": "2022-10-21T18:22:22.092Z"
   },
   {
    "duration": 155,
    "start_time": "2022-10-21T18:22:22.271Z"
   },
   {
    "duration": 177,
    "start_time": "2022-10-21T18:22:22.428Z"
   },
   {
    "duration": 215,
    "start_time": "2022-10-21T18:22:22.607Z"
   },
   {
    "duration": 272,
    "start_time": "2022-10-21T18:22:22.824Z"
   },
   {
    "duration": 249,
    "start_time": "2022-10-21T18:22:23.098Z"
   },
   {
    "duration": 170,
    "start_time": "2022-10-21T18:22:23.349Z"
   },
   {
    "duration": 165,
    "start_time": "2022-10-21T18:22:23.522Z"
   },
   {
    "duration": 266,
    "start_time": "2022-10-21T18:22:23.689Z"
   },
   {
    "duration": 981,
    "start_time": "2022-10-21T18:22:23.957Z"
   },
   {
    "duration": 637,
    "start_time": "2022-10-21T18:22:24.940Z"
   },
   {
    "duration": 151,
    "start_time": "2022-10-21T18:22:25.587Z"
   },
   {
    "duration": 158,
    "start_time": "2022-10-21T18:22:25.739Z"
   },
   {
    "duration": 928,
    "start_time": "2022-10-21T18:22:25.899Z"
   },
   {
    "duration": 208,
    "start_time": "2022-10-21T18:22:26.829Z"
   },
   {
    "duration": 153,
    "start_time": "2022-10-21T18:22:27.038Z"
   },
   {
    "duration": 117,
    "start_time": "2022-10-21T18:23:02.896Z"
   },
   {
    "duration": 451,
    "start_time": "2022-10-21T18:23:13.880Z"
   },
   {
    "duration": 111,
    "start_time": "2022-10-21T18:23:14.333Z"
   },
   {
    "duration": 111,
    "start_time": "2022-10-21T18:23:14.445Z"
   },
   {
    "duration": 2182,
    "start_time": "2022-10-21T18:23:14.558Z"
   },
   {
    "duration": 19,
    "start_time": "2022-10-21T18:23:16.743Z"
   },
   {
    "duration": 18,
    "start_time": "2022-10-21T18:23:16.764Z"
   },
   {
    "duration": 12,
    "start_time": "2022-10-21T18:23:16.783Z"
   },
   {
    "duration": 27,
    "start_time": "2022-10-21T18:23:16.797Z"
   },
   {
    "duration": 15,
    "start_time": "2022-10-21T18:23:16.826Z"
   },
   {
    "duration": 23,
    "start_time": "2022-10-21T18:23:16.842Z"
   },
   {
    "duration": 43,
    "start_time": "2022-10-21T18:23:16.866Z"
   },
   {
    "duration": 11,
    "start_time": "2022-10-21T18:23:16.911Z"
   },
   {
    "duration": 8,
    "start_time": "2022-10-21T18:23:16.924Z"
   },
   {
    "duration": 11,
    "start_time": "2022-10-21T18:23:16.934Z"
   },
   {
    "duration": 23,
    "start_time": "2022-10-21T18:23:16.947Z"
   },
   {
    "duration": 29,
    "start_time": "2022-10-21T18:23:16.972Z"
   },
   {
    "duration": 15,
    "start_time": "2022-10-21T18:23:17.003Z"
   },
   {
    "duration": 4317,
    "start_time": "2022-10-21T18:23:17.019Z"
   },
   {
    "duration": 248,
    "start_time": "2022-10-21T18:23:21.338Z"
   },
   {
    "duration": 146,
    "start_time": "2022-10-21T18:23:21.589Z"
   },
   {
    "duration": 9,
    "start_time": "2022-10-21T18:23:21.737Z"
   },
   {
    "duration": 11,
    "start_time": "2022-10-21T18:23:21.748Z"
   },
   {
    "duration": 7,
    "start_time": "2022-10-21T18:23:21.761Z"
   },
   {
    "duration": 9,
    "start_time": "2022-10-21T18:23:21.769Z"
   },
   {
    "duration": 450,
    "start_time": "2022-10-21T18:23:21.779Z"
   },
   {
    "duration": 7,
    "start_time": "2022-10-21T18:23:22.231Z"
   },
   {
    "duration": 16,
    "start_time": "2022-10-21T18:23:22.240Z"
   },
   {
    "duration": 143,
    "start_time": "2022-10-21T18:23:22.257Z"
   },
   {
    "duration": 32,
    "start_time": "2022-10-21T18:23:22.402Z"
   },
   {
    "duration": 21,
    "start_time": "2022-10-21T18:23:22.436Z"
   },
   {
    "duration": 133,
    "start_time": "2022-10-21T18:23:22.458Z"
   },
   {
    "duration": 159,
    "start_time": "2022-10-21T18:23:22.593Z"
   },
   {
    "duration": 389,
    "start_time": "2022-10-21T18:23:22.754Z"
   },
   {
    "duration": 148,
    "start_time": "2022-10-21T18:23:23.145Z"
   },
   {
    "duration": 256,
    "start_time": "2022-10-21T18:23:23.296Z"
   },
   {
    "duration": 154,
    "start_time": "2022-10-21T18:23:23.554Z"
   },
   {
    "duration": 156,
    "start_time": "2022-10-21T18:23:23.709Z"
   },
   {
    "duration": 175,
    "start_time": "2022-10-21T18:23:23.867Z"
   },
   {
    "duration": 145,
    "start_time": "2022-10-21T18:23:24.044Z"
   },
   {
    "duration": 178,
    "start_time": "2022-10-21T18:23:24.191Z"
   },
   {
    "duration": 226,
    "start_time": "2022-10-21T18:23:24.373Z"
   },
   {
    "duration": 265,
    "start_time": "2022-10-21T18:23:24.601Z"
   },
   {
    "duration": 277,
    "start_time": "2022-10-21T18:23:24.868Z"
   },
   {
    "duration": 164,
    "start_time": "2022-10-21T18:23:25.147Z"
   },
   {
    "duration": 169,
    "start_time": "2022-10-21T18:23:25.313Z"
   },
   {
    "duration": 252,
    "start_time": "2022-10-21T18:23:25.484Z"
   },
   {
    "duration": 1042,
    "start_time": "2022-10-21T18:23:25.737Z"
   },
   {
    "duration": 656,
    "start_time": "2022-10-21T18:23:26.781Z"
   },
   {
    "duration": 165,
    "start_time": "2022-10-21T18:23:27.439Z"
   },
   {
    "duration": 164,
    "start_time": "2022-10-21T18:23:27.606Z"
   },
   {
    "duration": 767,
    "start_time": "2022-10-21T18:23:27.772Z"
   },
   {
    "duration": 190,
    "start_time": "2022-10-21T18:23:28.541Z"
   },
   {
    "duration": 150,
    "start_time": "2022-10-21T18:23:28.733Z"
   },
   {
    "duration": 115,
    "start_time": "2022-10-21T18:23:38.956Z"
   },
   {
    "duration": 140,
    "start_time": "2022-10-21T18:25:53.277Z"
   },
   {
    "duration": 137,
    "start_time": "2022-10-21T18:26:22.818Z"
   },
   {
    "duration": 116,
    "start_time": "2022-10-21T18:26:33.570Z"
   },
   {
    "duration": 111,
    "start_time": "2022-10-21T18:26:44.271Z"
   },
   {
    "duration": 134,
    "start_time": "2022-10-21T18:29:56.131Z"
   },
   {
    "duration": 103,
    "start_time": "2022-10-21T18:30:07.870Z"
   },
   {
    "duration": 209,
    "start_time": "2022-10-21T18:30:53.389Z"
   },
   {
    "duration": 114,
    "start_time": "2022-10-21T18:31:04.597Z"
   },
   {
    "duration": 112,
    "start_time": "2022-10-21T18:31:59.905Z"
   },
   {
    "duration": 104,
    "start_time": "2022-10-21T18:32:16.889Z"
   },
   {
    "duration": 96,
    "start_time": "2022-10-21T18:33:14.202Z"
   },
   {
    "duration": 109,
    "start_time": "2022-10-21T18:33:37.235Z"
   },
   {
    "duration": 65,
    "start_time": "2022-10-21T18:37:04.120Z"
   },
   {
    "duration": 352,
    "start_time": "2022-10-21T18:37:12.970Z"
   },
   {
    "duration": 108,
    "start_time": "2022-10-21T18:37:13.324Z"
   },
   {
    "duration": 43,
    "start_time": "2022-10-21T18:37:13.434Z"
   },
   {
    "duration": 3269,
    "start_time": "2022-10-21T18:37:13.479Z"
   },
   {
    "duration": 18,
    "start_time": "2022-10-21T18:37:16.751Z"
   },
   {
    "duration": 10,
    "start_time": "2022-10-21T18:37:16.770Z"
   },
   {
    "duration": 7,
    "start_time": "2022-10-21T18:37:16.781Z"
   },
   {
    "duration": 10,
    "start_time": "2022-10-21T18:37:16.790Z"
   },
   {
    "duration": 8,
    "start_time": "2022-10-21T18:37:16.801Z"
   },
   {
    "duration": 3,
    "start_time": "2022-10-21T18:37:16.811Z"
   },
   {
    "duration": 33,
    "start_time": "2022-10-21T18:37:16.816Z"
   },
   {
    "duration": 12,
    "start_time": "2022-10-21T18:37:16.851Z"
   },
   {
    "duration": 4,
    "start_time": "2022-10-21T18:37:16.864Z"
   },
   {
    "duration": 6,
    "start_time": "2022-10-21T18:37:16.870Z"
   },
   {
    "duration": 46,
    "start_time": "2022-10-21T18:37:16.877Z"
   },
   {
    "duration": 7,
    "start_time": "2022-10-21T18:37:16.925Z"
   },
   {
    "duration": 12,
    "start_time": "2022-10-21T18:37:16.933Z"
   },
   {
    "duration": 3852,
    "start_time": "2022-10-21T18:37:16.946Z"
   },
   {
    "duration": 205,
    "start_time": "2022-10-21T18:37:20.799Z"
   },
   {
    "duration": 152,
    "start_time": "2022-10-21T18:37:21.006Z"
   },
   {
    "duration": 124,
    "start_time": "2022-10-21T18:37:21.159Z"
   },
   {
    "duration": 138,
    "start_time": "2022-10-21T18:37:21.284Z"
   },
   {
    "duration": 136,
    "start_time": "2022-10-21T18:37:21.424Z"
   },
   {
    "duration": 126,
    "start_time": "2022-10-21T18:37:21.562Z"
   },
   {
    "duration": 3,
    "start_time": "2022-10-21T18:37:21.689Z"
   },
   {
    "duration": 12,
    "start_time": "2022-10-21T18:37:21.694Z"
   },
   {
    "duration": 7,
    "start_time": "2022-10-21T18:37:21.722Z"
   },
   {
    "duration": 7,
    "start_time": "2022-10-21T18:37:21.732Z"
   },
   {
    "duration": 8,
    "start_time": "2022-10-21T18:37:21.740Z"
   },
   {
    "duration": 464,
    "start_time": "2022-10-21T18:37:21.750Z"
   },
   {
    "duration": 8,
    "start_time": "2022-10-21T18:37:22.215Z"
   },
   {
    "duration": 18,
    "start_time": "2022-10-21T18:37:22.225Z"
   },
   {
    "duration": 156,
    "start_time": "2022-10-21T18:37:22.245Z"
   },
   {
    "duration": 33,
    "start_time": "2022-10-21T18:37:22.403Z"
   },
   {
    "duration": 19,
    "start_time": "2022-10-21T18:37:22.438Z"
   },
   {
    "duration": 20,
    "start_time": "2022-10-21T18:37:22.459Z"
   },
   {
    "duration": 148,
    "start_time": "2022-10-21T18:37:22.480Z"
   },
   {
    "duration": 338,
    "start_time": "2022-10-21T18:37:22.629Z"
   },
   {
    "duration": 142,
    "start_time": "2022-10-21T18:37:22.969Z"
   },
   {
    "duration": 301,
    "start_time": "2022-10-21T18:37:23.113Z"
   },
   {
    "duration": 143,
    "start_time": "2022-10-21T18:37:23.421Z"
   },
   {
    "duration": 215,
    "start_time": "2022-10-21T18:37:23.565Z"
   },
   {
    "duration": 168,
    "start_time": "2022-10-21T18:37:23.782Z"
   },
   {
    "duration": 135,
    "start_time": "2022-10-21T18:37:23.952Z"
   },
   {
    "duration": 162,
    "start_time": "2022-10-21T18:37:24.088Z"
   },
   {
    "duration": 148,
    "start_time": "2022-10-21T18:37:24.252Z"
   },
   {
    "duration": 236,
    "start_time": "2022-10-21T18:37:24.402Z"
   },
   {
    "duration": 243,
    "start_time": "2022-10-21T18:37:24.639Z"
   },
   {
    "duration": 156,
    "start_time": "2022-10-21T18:37:24.884Z"
   },
   {
    "duration": 155,
    "start_time": "2022-10-21T18:37:25.042Z"
   },
   {
    "duration": 311,
    "start_time": "2022-10-21T18:37:25.198Z"
   },
   {
    "duration": 902,
    "start_time": "2022-10-21T18:37:25.511Z"
   },
   {
    "duration": 743,
    "start_time": "2022-10-21T18:37:26.415Z"
   },
   {
    "duration": 152,
    "start_time": "2022-10-21T18:37:27.160Z"
   },
   {
    "duration": 192,
    "start_time": "2022-10-21T18:37:27.314Z"
   },
   {
    "duration": 664,
    "start_time": "2022-10-21T18:37:27.508Z"
   },
   {
    "duration": 205,
    "start_time": "2022-10-21T18:37:28.174Z"
   },
   {
    "duration": 160,
    "start_time": "2022-10-21T18:37:28.380Z"
   },
   {
    "duration": 315,
    "start_time": "2022-10-21T18:38:57.016Z"
   },
   {
    "duration": 230,
    "start_time": "2022-10-21T18:39:57.596Z"
   },
   {
    "duration": 98,
    "start_time": "2022-10-21T18:40:02.488Z"
   },
   {
    "duration": 113,
    "start_time": "2022-10-21T18:40:09.603Z"
   },
   {
    "duration": 111,
    "start_time": "2022-10-21T18:40:18.260Z"
   },
   {
    "duration": 125,
    "start_time": "2022-10-21T18:40:22.477Z"
   },
   {
    "duration": 4,
    "start_time": "2022-10-21T18:40:26.128Z"
   },
   {
    "duration": 385,
    "start_time": "2022-10-21T18:42:36.355Z"
   },
   {
    "duration": 106,
    "start_time": "2022-10-21T18:42:36.742Z"
   },
   {
    "duration": 50,
    "start_time": "2022-10-21T18:42:36.849Z"
   },
   {
    "duration": 2111,
    "start_time": "2022-10-21T18:42:36.901Z"
   },
   {
    "duration": 18,
    "start_time": "2022-10-21T18:42:39.014Z"
   },
   {
    "duration": 9,
    "start_time": "2022-10-21T18:42:39.033Z"
   },
   {
    "duration": 11,
    "start_time": "2022-10-21T18:42:39.044Z"
   },
   {
    "duration": 27,
    "start_time": "2022-10-21T18:42:39.057Z"
   },
   {
    "duration": 18,
    "start_time": "2022-10-21T18:42:39.085Z"
   },
   {
    "duration": 16,
    "start_time": "2022-10-21T18:42:39.105Z"
   },
   {
    "duration": 33,
    "start_time": "2022-10-21T18:42:39.123Z"
   },
   {
    "duration": 12,
    "start_time": "2022-10-21T18:42:39.157Z"
   },
   {
    "duration": 15,
    "start_time": "2022-10-21T18:42:39.170Z"
   },
   {
    "duration": 16,
    "start_time": "2022-10-21T18:42:39.188Z"
   },
   {
    "duration": 25,
    "start_time": "2022-10-21T18:42:39.206Z"
   },
   {
    "duration": 5,
    "start_time": "2022-10-21T18:42:39.233Z"
   },
   {
    "duration": 21,
    "start_time": "2022-10-21T18:42:39.240Z"
   },
   {
    "duration": 3708,
    "start_time": "2022-10-21T18:42:39.262Z"
   },
   {
    "duration": 200,
    "start_time": "2022-10-21T18:42:42.971Z"
   },
   {
    "duration": 239,
    "start_time": "2022-10-21T18:42:43.173Z"
   },
   {
    "duration": 122,
    "start_time": "2022-10-21T18:42:43.414Z"
   },
   {
    "duration": 112,
    "start_time": "2022-10-21T18:42:43.537Z"
   },
   {
    "duration": 110,
    "start_time": "2022-10-21T18:42:43.650Z"
   },
   {
    "duration": 193,
    "start_time": "2022-10-21T18:42:43.761Z"
   },
   {
    "duration": 2,
    "start_time": "2022-10-21T18:42:43.956Z"
   },
   {
    "duration": 10,
    "start_time": "2022-10-21T18:42:43.960Z"
   },
   {
    "duration": 6,
    "start_time": "2022-10-21T18:42:43.973Z"
   },
   {
    "duration": 7,
    "start_time": "2022-10-21T18:42:43.980Z"
   },
   {
    "duration": 7,
    "start_time": "2022-10-21T18:42:43.988Z"
   },
   {
    "duration": 333,
    "start_time": "2022-10-21T18:42:44.023Z"
   },
   {
    "duration": 6,
    "start_time": "2022-10-21T18:42:44.358Z"
   },
   {
    "duration": 13,
    "start_time": "2022-10-21T18:42:44.366Z"
   },
   {
    "duration": 146,
    "start_time": "2022-10-21T18:42:44.380Z"
   },
   {
    "duration": 20,
    "start_time": "2022-10-21T18:42:44.527Z"
   },
   {
    "duration": 18,
    "start_time": "2022-10-21T18:42:44.548Z"
   },
   {
    "duration": 19,
    "start_time": "2022-10-21T18:42:44.567Z"
   },
   {
    "duration": 137,
    "start_time": "2022-10-21T18:42:44.587Z"
   },
   {
    "duration": 306,
    "start_time": "2022-10-21T18:42:44.726Z"
   },
   {
    "duration": 129,
    "start_time": "2022-10-21T18:42:45.034Z"
   },
   {
    "duration": 274,
    "start_time": "2022-10-21T18:42:45.165Z"
   },
   {
    "duration": 184,
    "start_time": "2022-10-21T18:42:45.442Z"
   },
   {
    "duration": 133,
    "start_time": "2022-10-21T18:42:45.627Z"
   },
   {
    "duration": 152,
    "start_time": "2022-10-21T18:42:45.761Z"
   },
   {
    "duration": 144,
    "start_time": "2022-10-21T18:42:45.915Z"
   },
   {
    "duration": 187,
    "start_time": "2022-10-21T18:42:46.062Z"
   },
   {
    "duration": 132,
    "start_time": "2022-10-21T18:42:46.250Z"
   },
   {
    "duration": 206,
    "start_time": "2022-10-21T18:42:46.383Z"
   },
   {
    "duration": 207,
    "start_time": "2022-10-21T18:42:46.591Z"
   },
   {
    "duration": 129,
    "start_time": "2022-10-21T18:42:46.800Z"
   },
   {
    "duration": 202,
    "start_time": "2022-10-21T18:42:46.930Z"
   },
   {
    "duration": 230,
    "start_time": "2022-10-21T18:42:47.134Z"
   },
   {
    "duration": 783,
    "start_time": "2022-10-21T18:42:47.366Z"
   },
   {
    "duration": 673,
    "start_time": "2022-10-21T18:42:48.151Z"
   },
   {
    "duration": 141,
    "start_time": "2022-10-21T18:42:48.826Z"
   },
   {
    "duration": 184,
    "start_time": "2022-10-21T18:42:48.968Z"
   },
   {
    "duration": 687,
    "start_time": "2022-10-21T18:42:49.154Z"
   },
   {
    "duration": 178,
    "start_time": "2022-10-21T18:42:49.844Z"
   },
   {
    "duration": 227,
    "start_time": "2022-10-21T18:42:50.024Z"
   },
   {
    "duration": 182,
    "start_time": "2022-10-21T18:43:33.957Z"
   },
   {
    "duration": 218,
    "start_time": "2022-10-21T18:44:00.224Z"
   },
   {
    "duration": 200,
    "start_time": "2022-10-21T18:45:31.843Z"
   },
   {
    "duration": 221,
    "start_time": "2022-10-21T18:46:34.249Z"
   },
   {
    "duration": 211,
    "start_time": "2022-10-21T18:57:33.637Z"
   },
   {
    "duration": 4,
    "start_time": "2022-10-21T18:57:42.579Z"
   },
   {
    "duration": 360,
    "start_time": "2022-10-21T18:58:28.240Z"
   },
   {
    "duration": 100,
    "start_time": "2022-10-21T18:58:28.602Z"
   },
   {
    "duration": 53,
    "start_time": "2022-10-21T18:58:28.704Z"
   },
   {
    "duration": 1888,
    "start_time": "2022-10-21T18:58:28.760Z"
   },
   {
    "duration": 18,
    "start_time": "2022-10-21T18:58:30.650Z"
   },
   {
    "duration": 16,
    "start_time": "2022-10-21T18:58:30.669Z"
   },
   {
    "duration": 54,
    "start_time": "2022-10-21T18:58:30.687Z"
   },
   {
    "duration": 42,
    "start_time": "2022-10-21T18:58:30.743Z"
   },
   {
    "duration": 54,
    "start_time": "2022-10-21T18:58:30.786Z"
   },
   {
    "duration": 33,
    "start_time": "2022-10-21T18:58:30.843Z"
   },
   {
    "duration": 56,
    "start_time": "2022-10-21T18:58:30.878Z"
   },
   {
    "duration": 12,
    "start_time": "2022-10-21T18:58:30.936Z"
   },
   {
    "duration": 15,
    "start_time": "2022-10-21T18:58:30.950Z"
   },
   {
    "duration": 10,
    "start_time": "2022-10-21T18:58:30.967Z"
   },
   {
    "duration": 23,
    "start_time": "2022-10-21T18:58:30.978Z"
   },
   {
    "duration": 19,
    "start_time": "2022-10-21T18:58:31.003Z"
   },
   {
    "duration": 21,
    "start_time": "2022-10-21T18:58:31.023Z"
   },
   {
    "duration": 3635,
    "start_time": "2022-10-21T18:58:31.046Z"
   },
   {
    "duration": 192,
    "start_time": "2022-10-21T18:58:34.682Z"
   },
   {
    "duration": 250,
    "start_time": "2022-10-21T18:58:34.875Z"
   },
   {
    "duration": 217,
    "start_time": "2022-10-21T18:58:35.127Z"
   },
   {
    "duration": 325,
    "start_time": "2022-10-21T18:58:35.346Z"
   },
   {
    "duration": 239,
    "start_time": "2022-10-21T18:58:35.673Z"
   },
   {
    "duration": 277,
    "start_time": "2022-10-21T18:58:35.913Z"
   },
   {
    "duration": 4,
    "start_time": "2022-10-21T18:58:36.192Z"
   },
   {
    "duration": 30,
    "start_time": "2022-10-21T18:58:36.198Z"
   },
   {
    "duration": 10,
    "start_time": "2022-10-21T18:58:36.230Z"
   },
   {
    "duration": 12,
    "start_time": "2022-10-21T18:58:36.245Z"
   },
   {
    "duration": 8,
    "start_time": "2022-10-21T18:58:36.259Z"
   },
   {
    "duration": 378,
    "start_time": "2022-10-21T18:58:36.268Z"
   },
   {
    "duration": 7,
    "start_time": "2022-10-21T18:58:36.648Z"
   },
   {
    "duration": 19,
    "start_time": "2022-10-21T18:58:36.656Z"
   },
   {
    "duration": 151,
    "start_time": "2022-10-21T18:58:36.677Z"
   },
   {
    "duration": 21,
    "start_time": "2022-10-21T18:58:36.830Z"
   },
   {
    "duration": 18,
    "start_time": "2022-10-21T18:58:36.853Z"
   },
   {
    "duration": 49,
    "start_time": "2022-10-21T18:58:36.873Z"
   },
   {
    "duration": 132,
    "start_time": "2022-10-21T18:58:36.924Z"
   },
   {
    "duration": 394,
    "start_time": "2022-10-21T18:58:37.058Z"
   },
   {
    "duration": 144,
    "start_time": "2022-10-21T18:58:37.456Z"
   },
   {
    "duration": 244,
    "start_time": "2022-10-21T18:58:37.602Z"
   },
   {
    "duration": 138,
    "start_time": "2022-10-21T18:58:37.847Z"
   },
   {
    "duration": 137,
    "start_time": "2022-10-21T18:58:37.986Z"
   },
   {
    "duration": 148,
    "start_time": "2022-10-21T18:58:38.124Z"
   },
   {
    "duration": 123,
    "start_time": "2022-10-21T18:58:38.274Z"
   },
   {
    "duration": 152,
    "start_time": "2022-10-21T18:58:38.399Z"
   },
   {
    "duration": 131,
    "start_time": "2022-10-21T18:58:38.553Z"
   },
   {
    "duration": 272,
    "start_time": "2022-10-21T18:58:38.686Z"
   },
   {
    "duration": 225,
    "start_time": "2022-10-21T18:58:38.960Z"
   },
   {
    "duration": 130,
    "start_time": "2022-10-21T18:58:39.187Z"
   },
   {
    "duration": 145,
    "start_time": "2022-10-21T18:58:39.318Z"
   },
   {
    "duration": 218,
    "start_time": "2022-10-21T18:58:39.464Z"
   },
   {
    "duration": 799,
    "start_time": "2022-10-21T18:58:39.683Z"
   },
   {
    "duration": 541,
    "start_time": "2022-10-21T18:58:40.484Z"
   },
   {
    "duration": 155,
    "start_time": "2022-10-21T18:58:41.027Z"
   },
   {
    "duration": 154,
    "start_time": "2022-10-21T18:58:41.184Z"
   },
   {
    "duration": 758,
    "start_time": "2022-10-21T18:58:41.339Z"
   },
   {
    "duration": 173,
    "start_time": "2022-10-21T18:58:42.098Z"
   },
   {
    "duration": 127,
    "start_time": "2022-10-21T18:58:42.272Z"
   },
   {
    "duration": 213,
    "start_time": "2022-10-21T19:01:19.177Z"
   },
   {
    "duration": 201,
    "start_time": "2022-10-21T19:02:13.971Z"
   },
   {
    "duration": 207,
    "start_time": "2022-10-21T19:02:28.901Z"
   },
   {
    "duration": 220,
    "start_time": "2022-10-21T19:04:11.384Z"
   },
   {
    "duration": 326,
    "start_time": "2022-10-21T19:04:38.079Z"
   },
   {
    "duration": 97,
    "start_time": "2022-10-21T19:04:38.407Z"
   },
   {
    "duration": 44,
    "start_time": "2022-10-21T19:04:38.506Z"
   },
   {
    "duration": 1912,
    "start_time": "2022-10-21T19:04:38.552Z"
   },
   {
    "duration": 22,
    "start_time": "2022-10-21T19:04:40.465Z"
   },
   {
    "duration": 9,
    "start_time": "2022-10-21T19:04:40.489Z"
   },
   {
    "duration": 11,
    "start_time": "2022-10-21T19:04:40.499Z"
   },
   {
    "duration": 16,
    "start_time": "2022-10-21T19:04:40.512Z"
   },
   {
    "duration": 47,
    "start_time": "2022-10-21T19:04:40.530Z"
   },
   {
    "duration": 7,
    "start_time": "2022-10-21T19:04:40.580Z"
   },
   {
    "duration": 50,
    "start_time": "2022-10-21T19:04:40.588Z"
   },
   {
    "duration": 11,
    "start_time": "2022-10-21T19:04:40.640Z"
   },
   {
    "duration": 7,
    "start_time": "2022-10-21T19:04:40.652Z"
   },
   {
    "duration": 11,
    "start_time": "2022-10-21T19:04:40.660Z"
   },
   {
    "duration": 16,
    "start_time": "2022-10-21T19:04:40.673Z"
   },
   {
    "duration": 45,
    "start_time": "2022-10-21T19:04:40.690Z"
   },
   {
    "duration": 37,
    "start_time": "2022-10-21T19:04:40.737Z"
   },
   {
    "duration": 3834,
    "start_time": "2022-10-21T19:04:40.775Z"
   },
   {
    "duration": 207,
    "start_time": "2022-10-21T19:04:44.611Z"
   },
   {
    "duration": 264,
    "start_time": "2022-10-21T19:04:44.822Z"
   },
   {
    "duration": 212,
    "start_time": "2022-10-21T19:04:45.087Z"
   },
   {
    "duration": 314,
    "start_time": "2022-10-21T19:04:45.301Z"
   },
   {
    "duration": 227,
    "start_time": "2022-10-21T19:04:45.622Z"
   },
   {
    "duration": 237,
    "start_time": "2022-10-21T19:04:45.850Z"
   },
   {
    "duration": 3,
    "start_time": "2022-10-21T19:04:46.089Z"
   },
   {
    "duration": 28,
    "start_time": "2022-10-21T19:04:46.094Z"
   },
   {
    "duration": 9,
    "start_time": "2022-10-21T19:04:46.125Z"
   },
   {
    "duration": 11,
    "start_time": "2022-10-21T19:04:46.138Z"
   },
   {
    "duration": 16,
    "start_time": "2022-10-21T19:04:46.151Z"
   },
   {
    "duration": 377,
    "start_time": "2022-10-21T19:04:46.169Z"
   },
   {
    "duration": 6,
    "start_time": "2022-10-21T19:04:46.548Z"
   },
   {
    "duration": 13,
    "start_time": "2022-10-21T19:04:46.555Z"
   },
   {
    "duration": 236,
    "start_time": "2022-10-21T19:04:46.570Z"
   },
   {
    "duration": 31,
    "start_time": "2022-10-21T19:04:46.808Z"
   },
   {
    "duration": 16,
    "start_time": "2022-10-21T19:04:46.840Z"
   },
   {
    "duration": 19,
    "start_time": "2022-10-21T19:04:46.857Z"
   },
   {
    "duration": 133,
    "start_time": "2022-10-21T19:04:46.877Z"
   },
   {
    "duration": 423,
    "start_time": "2022-10-21T19:04:47.011Z"
   },
   {
    "duration": 140,
    "start_time": "2022-10-21T19:04:47.444Z"
   },
   {
    "duration": 266,
    "start_time": "2022-10-21T19:04:47.585Z"
   },
   {
    "duration": 146,
    "start_time": "2022-10-21T19:04:47.853Z"
   },
   {
    "duration": 143,
    "start_time": "2022-10-21T19:04:48.000Z"
   },
   {
    "duration": 157,
    "start_time": "2022-10-21T19:04:48.145Z"
   },
   {
    "duration": 135,
    "start_time": "2022-10-21T19:04:48.303Z"
   },
   {
    "duration": 156,
    "start_time": "2022-10-21T19:04:48.440Z"
   },
   {
    "duration": 147,
    "start_time": "2022-10-21T19:04:48.597Z"
   },
   {
    "duration": 315,
    "start_time": "2022-10-21T19:04:48.745Z"
   },
   {
    "duration": 273,
    "start_time": "2022-10-21T19:04:49.062Z"
   },
   {
    "duration": 135,
    "start_time": "2022-10-21T19:04:49.338Z"
   },
   {
    "duration": 141,
    "start_time": "2022-10-21T19:04:49.475Z"
   },
   {
    "duration": 240,
    "start_time": "2022-10-21T19:04:49.622Z"
   },
   {
    "duration": 832,
    "start_time": "2022-10-21T19:04:49.863Z"
   },
   {
    "duration": 592,
    "start_time": "2022-10-21T19:04:50.697Z"
   },
   {
    "duration": 158,
    "start_time": "2022-10-21T19:04:51.291Z"
   },
   {
    "duration": 166,
    "start_time": "2022-10-21T19:04:51.451Z"
   },
   {
    "duration": 787,
    "start_time": "2022-10-21T19:04:51.621Z"
   },
   {
    "duration": 181,
    "start_time": "2022-10-21T19:04:52.409Z"
   },
   {
    "duration": 144,
    "start_time": "2022-10-21T19:04:52.592Z"
   },
   {
    "duration": 227,
    "start_time": "2022-10-21T19:05:18.617Z"
   },
   {
    "duration": 196,
    "start_time": "2022-10-21T19:05:37.970Z"
   },
   {
    "duration": 212,
    "start_time": "2022-10-21T19:06:02.432Z"
   },
   {
    "duration": 215,
    "start_time": "2022-10-21T19:06:31.388Z"
   },
   {
    "duration": 203,
    "start_time": "2022-10-21T19:06:46.972Z"
   },
   {
    "duration": 4,
    "start_time": "2022-10-21T19:06:56.851Z"
   },
   {
    "duration": 324,
    "start_time": "2022-10-21T19:09:20.894Z"
   },
   {
    "duration": 3,
    "start_time": "2022-10-21T19:09:25.955Z"
   },
   {
    "duration": 373,
    "start_time": "2022-10-21T19:09:40.763Z"
   },
   {
    "duration": 96,
    "start_time": "2022-10-21T19:09:41.138Z"
   },
   {
    "duration": 45,
    "start_time": "2022-10-21T19:09:41.236Z"
   },
   {
    "duration": 1949,
    "start_time": "2022-10-21T19:09:41.283Z"
   },
   {
    "duration": 17,
    "start_time": "2022-10-21T19:09:43.233Z"
   },
   {
    "duration": 9,
    "start_time": "2022-10-21T19:09:43.251Z"
   },
   {
    "duration": 20,
    "start_time": "2022-10-21T19:09:43.261Z"
   },
   {
    "duration": 16,
    "start_time": "2022-10-21T19:09:43.282Z"
   },
   {
    "duration": 8,
    "start_time": "2022-10-21T19:09:43.299Z"
   },
   {
    "duration": 19,
    "start_time": "2022-10-21T19:09:43.309Z"
   },
   {
    "duration": 36,
    "start_time": "2022-10-21T19:09:43.329Z"
   },
   {
    "duration": 12,
    "start_time": "2022-10-21T19:09:43.366Z"
   },
   {
    "duration": 4,
    "start_time": "2022-10-21T19:09:43.379Z"
   },
   {
    "duration": 12,
    "start_time": "2022-10-21T19:09:43.384Z"
   },
   {
    "duration": 33,
    "start_time": "2022-10-21T19:09:43.397Z"
   },
   {
    "duration": 5,
    "start_time": "2022-10-21T19:09:43.432Z"
   },
   {
    "duration": 11,
    "start_time": "2022-10-21T19:09:43.439Z"
   },
   {
    "duration": 3613,
    "start_time": "2022-10-21T19:09:43.451Z"
   },
   {
    "duration": 192,
    "start_time": "2022-10-21T19:09:47.066Z"
   },
   {
    "duration": 263,
    "start_time": "2022-10-21T19:09:47.260Z"
   },
   {
    "duration": 207,
    "start_time": "2022-10-21T19:09:47.525Z"
   },
   {
    "duration": 291,
    "start_time": "2022-10-21T19:09:47.734Z"
   },
   {
    "duration": 205,
    "start_time": "2022-10-21T19:09:48.027Z"
   },
   {
    "duration": 216,
    "start_time": "2022-10-21T19:09:48.233Z"
   },
   {
    "duration": 3,
    "start_time": "2022-10-21T19:09:48.451Z"
   },
   {
    "duration": 10,
    "start_time": "2022-10-21T19:09:48.455Z"
   },
   {
    "duration": 7,
    "start_time": "2022-10-21T19:09:48.466Z"
   },
   {
    "duration": 7,
    "start_time": "2022-10-21T19:09:48.476Z"
   },
   {
    "duration": 7,
    "start_time": "2022-10-21T19:09:48.484Z"
   },
   {
    "duration": 340,
    "start_time": "2022-10-21T19:09:48.492Z"
   },
   {
    "duration": 6,
    "start_time": "2022-10-21T19:09:48.833Z"
   },
   {
    "duration": 12,
    "start_time": "2022-10-21T19:09:48.841Z"
   },
   {
    "duration": 219,
    "start_time": "2022-10-21T19:09:48.855Z"
   },
   {
    "duration": 21,
    "start_time": "2022-10-21T19:09:49.075Z"
   },
   {
    "duration": 32,
    "start_time": "2022-10-21T19:09:49.097Z"
   },
   {
    "duration": 20,
    "start_time": "2022-10-21T19:09:49.131Z"
   },
   {
    "duration": 128,
    "start_time": "2022-10-21T19:09:49.153Z"
   },
   {
    "duration": 355,
    "start_time": "2022-10-21T19:09:49.282Z"
   },
   {
    "duration": 126,
    "start_time": "2022-10-21T19:09:49.639Z"
   },
   {
    "duration": 237,
    "start_time": "2022-10-21T19:09:49.767Z"
   },
   {
    "duration": 124,
    "start_time": "2022-10-21T19:09:50.006Z"
   },
   {
    "duration": 121,
    "start_time": "2022-10-21T19:09:50.131Z"
   },
   {
    "duration": 145,
    "start_time": "2022-10-21T19:09:50.254Z"
   },
   {
    "duration": 114,
    "start_time": "2022-10-21T19:09:50.401Z"
   },
   {
    "duration": 140,
    "start_time": "2022-10-21T19:09:50.521Z"
   },
   {
    "duration": 121,
    "start_time": "2022-10-21T19:09:50.662Z"
   },
   {
    "duration": 271,
    "start_time": "2022-10-21T19:09:50.785Z"
   },
   {
    "duration": 210,
    "start_time": "2022-10-21T19:09:51.058Z"
   },
   {
    "duration": 138,
    "start_time": "2022-10-21T19:09:51.269Z"
   },
   {
    "duration": 138,
    "start_time": "2022-10-21T19:09:51.408Z"
   },
   {
    "duration": 238,
    "start_time": "2022-10-21T19:09:51.547Z"
   },
   {
    "duration": 813,
    "start_time": "2022-10-21T19:09:51.786Z"
   },
   {
    "duration": 532,
    "start_time": "2022-10-21T19:09:52.600Z"
   },
   {
    "duration": 147,
    "start_time": "2022-10-21T19:09:53.133Z"
   },
   {
    "duration": 164,
    "start_time": "2022-10-21T19:09:53.281Z"
   },
   {
    "duration": 706,
    "start_time": "2022-10-21T19:09:53.446Z"
   },
   {
    "duration": 160,
    "start_time": "2022-10-21T19:09:54.154Z"
   },
   {
    "duration": 129,
    "start_time": "2022-10-21T19:09:54.315Z"
   },
   {
    "duration": 66,
    "start_time": "2022-10-21T19:10:13.163Z"
   },
   {
    "duration": 64,
    "start_time": "2022-10-21T19:10:18.931Z"
   },
   {
    "duration": 7,
    "start_time": "2022-10-21T19:10:34.357Z"
   },
   {
    "duration": 3,
    "start_time": "2022-10-21T19:10:51.623Z"
   },
   {
    "duration": 7,
    "start_time": "2022-10-21T19:10:53.957Z"
   },
   {
    "duration": 3,
    "start_time": "2022-10-21T19:11:01.754Z"
   },
   {
    "duration": 7,
    "start_time": "2022-10-21T19:11:42.282Z"
   },
   {
    "duration": 6,
    "start_time": "2022-10-21T19:11:44.926Z"
   },
   {
    "duration": 7,
    "start_time": "2022-10-21T19:11:47.090Z"
   },
   {
    "duration": 7,
    "start_time": "2022-10-21T19:11:49.895Z"
   },
   {
    "duration": 300,
    "start_time": "2022-10-21T19:11:54.832Z"
   },
   {
    "duration": 7,
    "start_time": "2022-10-21T19:11:58.819Z"
   },
   {
    "duration": 17,
    "start_time": "2022-10-21T19:12:42.257Z"
   },
   {
    "duration": 201,
    "start_time": "2022-10-21T19:13:29.069Z"
   },
   {
    "duration": 156,
    "start_time": "2022-10-21T19:14:31.640Z"
   },
   {
    "duration": 390,
    "start_time": "2022-10-21T19:14:43.362Z"
   },
   {
    "duration": 351,
    "start_time": "2022-10-21T19:14:53.344Z"
   },
   {
    "duration": 440,
    "start_time": "2022-10-21T19:15:20.993Z"
   },
   {
    "duration": 655,
    "start_time": "2022-10-21T19:15:29.677Z"
   },
   {
    "duration": 607,
    "start_time": "2022-10-21T19:16:52.027Z"
   },
   {
    "duration": 20,
    "start_time": "2022-10-21T19:20:23.662Z"
   },
   {
    "duration": 16,
    "start_time": "2022-10-21T19:21:35.393Z"
   },
   {
    "duration": 17,
    "start_time": "2022-10-21T19:21:42.649Z"
   },
   {
    "duration": 316,
    "start_time": "2022-10-21T19:22:43.261Z"
   },
   {
    "duration": 432,
    "start_time": "2022-10-21T19:22:59.985Z"
   },
   {
    "duration": 162,
    "start_time": "2022-10-21T19:23:19.038Z"
   },
   {
    "duration": 123,
    "start_time": "2022-10-21T19:23:27.103Z"
   },
   {
    "duration": 132,
    "start_time": "2022-10-21T19:23:32.849Z"
   },
   {
    "duration": 65,
    "start_time": "2022-10-21T19:46:54.538Z"
   },
   {
    "duration": 66,
    "start_time": "2022-10-21T19:56:21.548Z"
   },
   {
    "duration": 53,
    "start_time": "2022-10-22T06:13:39.484Z"
   },
   {
    "duration": 379,
    "start_time": "2022-10-22T06:13:49.248Z"
   },
   {
    "duration": 132,
    "start_time": "2022-10-22T06:13:49.628Z"
   },
   {
    "duration": 45,
    "start_time": "2022-10-22T06:13:49.761Z"
   },
   {
    "duration": 2111,
    "start_time": "2022-10-22T06:13:49.809Z"
   },
   {
    "duration": 19,
    "start_time": "2022-10-22T06:13:51.922Z"
   },
   {
    "duration": 10,
    "start_time": "2022-10-22T06:13:51.942Z"
   },
   {
    "duration": 15,
    "start_time": "2022-10-22T06:13:51.954Z"
   },
   {
    "duration": 15,
    "start_time": "2022-10-22T06:13:51.970Z"
   },
   {
    "duration": 13,
    "start_time": "2022-10-22T06:13:51.987Z"
   },
   {
    "duration": 6,
    "start_time": "2022-10-22T06:13:52.008Z"
   },
   {
    "duration": 34,
    "start_time": "2022-10-22T06:13:52.016Z"
   },
   {
    "duration": 12,
    "start_time": "2022-10-22T06:13:52.052Z"
   },
   {
    "duration": 3,
    "start_time": "2022-10-22T06:13:52.066Z"
   },
   {
    "duration": 38,
    "start_time": "2022-10-22T06:13:52.071Z"
   },
   {
    "duration": 15,
    "start_time": "2022-10-22T06:13:52.111Z"
   },
   {
    "duration": 7,
    "start_time": "2022-10-22T06:13:52.128Z"
   },
   {
    "duration": 22,
    "start_time": "2022-10-22T06:13:52.137Z"
   },
   {
    "duration": 3249,
    "start_time": "2022-10-22T06:13:52.160Z"
   },
   {
    "duration": 230,
    "start_time": "2022-10-22T06:13:55.411Z"
   },
   {
    "duration": 246,
    "start_time": "2022-10-22T06:13:55.643Z"
   },
   {
    "duration": 285,
    "start_time": "2022-10-22T06:13:55.891Z"
   },
   {
    "duration": 332,
    "start_time": "2022-10-22T06:13:56.179Z"
   },
   {
    "duration": 227,
    "start_time": "2022-10-22T06:13:56.513Z"
   },
   {
    "duration": 216,
    "start_time": "2022-10-22T06:13:56.742Z"
   },
   {
    "duration": 4,
    "start_time": "2022-10-22T06:13:56.960Z"
   },
   {
    "duration": 13,
    "start_time": "2022-10-22T06:13:56.965Z"
   },
   {
    "duration": 9,
    "start_time": "2022-10-22T06:13:56.980Z"
   },
   {
    "duration": 6,
    "start_time": "2022-10-22T06:13:57.012Z"
   },
   {
    "duration": 6,
    "start_time": "2022-10-22T06:13:57.020Z"
   },
   {
    "duration": 354,
    "start_time": "2022-10-22T06:13:57.028Z"
   },
   {
    "duration": 8,
    "start_time": "2022-10-22T06:13:57.384Z"
   },
   {
    "duration": 28,
    "start_time": "2022-10-22T06:13:57.394Z"
   },
   {
    "duration": 219,
    "start_time": "2022-10-22T06:13:57.424Z"
   },
   {
    "duration": 19,
    "start_time": "2022-10-22T06:13:57.644Z"
   },
   {
    "duration": 17,
    "start_time": "2022-10-22T06:13:57.665Z"
   },
   {
    "duration": 37,
    "start_time": "2022-10-22T06:13:57.683Z"
   },
   {
    "duration": 257,
    "start_time": "2022-10-22T06:13:57.722Z"
   },
   {
    "duration": 328,
    "start_time": "2022-10-22T06:13:57.981Z"
   },
   {
    "duration": 18,
    "start_time": "2022-10-22T06:13:58.310Z"
   },
   {
    "duration": 151,
    "start_time": "2022-10-22T06:13:58.330Z"
   },
   {
    "duration": 40,
    "start_time": "2022-10-22T06:13:58.482Z"
   },
   {
    "duration": 0,
    "start_time": "2022-10-22T06:13:58.524Z"
   },
   {
    "duration": 0,
    "start_time": "2022-10-22T06:13:58.526Z"
   },
   {
    "duration": 0,
    "start_time": "2022-10-22T06:13:58.528Z"
   },
   {
    "duration": 0,
    "start_time": "2022-10-22T06:13:58.529Z"
   },
   {
    "duration": 0,
    "start_time": "2022-10-22T06:13:58.530Z"
   },
   {
    "duration": 0,
    "start_time": "2022-10-22T06:13:58.531Z"
   },
   {
    "duration": 0,
    "start_time": "2022-10-22T06:13:58.533Z"
   },
   {
    "duration": 0,
    "start_time": "2022-10-22T06:13:58.533Z"
   },
   {
    "duration": 0,
    "start_time": "2022-10-22T06:13:58.534Z"
   },
   {
    "duration": 0,
    "start_time": "2022-10-22T06:13:58.535Z"
   },
   {
    "duration": 0,
    "start_time": "2022-10-22T06:13:58.536Z"
   },
   {
    "duration": 0,
    "start_time": "2022-10-22T06:13:58.538Z"
   },
   {
    "duration": 0,
    "start_time": "2022-10-22T06:13:58.539Z"
   },
   {
    "duration": 0,
    "start_time": "2022-10-22T06:13:58.540Z"
   },
   {
    "duration": 0,
    "start_time": "2022-10-22T06:13:58.541Z"
   },
   {
    "duration": 0,
    "start_time": "2022-10-22T06:13:58.542Z"
   },
   {
    "duration": 0,
    "start_time": "2022-10-22T06:13:58.543Z"
   },
   {
    "duration": 0,
    "start_time": "2022-10-22T06:13:58.545Z"
   },
   {
    "duration": 0,
    "start_time": "2022-10-22T06:13:58.546Z"
   },
   {
    "duration": 182,
    "start_time": "2022-10-22T06:15:57.207Z"
   },
   {
    "duration": 158,
    "start_time": "2022-10-22T06:16:20.980Z"
   },
   {
    "duration": 166,
    "start_time": "2022-10-22T06:16:51.890Z"
   },
   {
    "duration": 226,
    "start_time": "2022-10-22T06:18:41.470Z"
   },
   {
    "duration": 145,
    "start_time": "2022-10-22T06:19:16.055Z"
   },
   {
    "duration": 23,
    "start_time": "2022-10-22T06:20:02.397Z"
   },
   {
    "duration": 27,
    "start_time": "2022-10-22T06:20:32.210Z"
   },
   {
    "duration": 32,
    "start_time": "2022-10-22T06:21:14.565Z"
   },
   {
    "duration": 22,
    "start_time": "2022-10-22T06:21:19.046Z"
   },
   {
    "duration": 45,
    "start_time": "2022-10-22T06:21:26.674Z"
   },
   {
    "duration": 40,
    "start_time": "2022-10-22T06:21:35.157Z"
   },
   {
    "duration": 23,
    "start_time": "2022-10-22T06:21:41.013Z"
   },
   {
    "duration": 127,
    "start_time": "2022-10-22T06:23:24.102Z"
   },
   {
    "duration": 191,
    "start_time": "2022-10-22T06:35:01.461Z"
   },
   {
    "duration": 112,
    "start_time": "2022-10-22T06:35:25.041Z"
   },
   {
    "duration": 190,
    "start_time": "2022-10-22T06:36:05.329Z"
   },
   {
    "duration": 196,
    "start_time": "2022-10-22T06:36:53.369Z"
   },
   {
    "duration": 401,
    "start_time": "2022-10-22T18:12:46.644Z"
   },
   {
    "duration": 116,
    "start_time": "2022-10-22T18:12:47.047Z"
   },
   {
    "duration": 62,
    "start_time": "2022-10-22T18:12:47.164Z"
   },
   {
    "duration": 2109,
    "start_time": "2022-10-22T18:12:47.229Z"
   },
   {
    "duration": 17,
    "start_time": "2022-10-22T18:12:49.340Z"
   },
   {
    "duration": 9,
    "start_time": "2022-10-22T18:12:49.359Z"
   },
   {
    "duration": 25,
    "start_time": "2022-10-22T18:12:49.369Z"
   },
   {
    "duration": 18,
    "start_time": "2022-10-22T18:12:49.397Z"
   },
   {
    "duration": 8,
    "start_time": "2022-10-22T18:12:49.417Z"
   },
   {
    "duration": 5,
    "start_time": "2022-10-22T18:12:49.428Z"
   },
   {
    "duration": 57,
    "start_time": "2022-10-22T18:12:49.434Z"
   },
   {
    "duration": 13,
    "start_time": "2022-10-22T18:12:49.492Z"
   },
   {
    "duration": 5,
    "start_time": "2022-10-22T18:12:49.506Z"
   },
   {
    "duration": 8,
    "start_time": "2022-10-22T18:12:49.512Z"
   },
   {
    "duration": 17,
    "start_time": "2022-10-22T18:12:49.521Z"
   },
   {
    "duration": 7,
    "start_time": "2022-10-22T18:12:49.539Z"
   },
   {
    "duration": 44,
    "start_time": "2022-10-22T18:12:49.547Z"
   },
   {
    "duration": 3790,
    "start_time": "2022-10-22T18:12:49.593Z"
   },
   {
    "duration": 225,
    "start_time": "2022-10-22T18:12:53.387Z"
   },
   {
    "duration": 257,
    "start_time": "2022-10-22T18:12:53.613Z"
   },
   {
    "duration": 234,
    "start_time": "2022-10-22T18:12:53.872Z"
   },
   {
    "duration": 302,
    "start_time": "2022-10-22T18:12:54.107Z"
   },
   {
    "duration": 223,
    "start_time": "2022-10-22T18:12:54.411Z"
   },
   {
    "duration": 228,
    "start_time": "2022-10-22T18:12:54.636Z"
   },
   {
    "duration": 3,
    "start_time": "2022-10-22T18:12:54.866Z"
   },
   {
    "duration": 26,
    "start_time": "2022-10-22T18:12:54.870Z"
   },
   {
    "duration": 13,
    "start_time": "2022-10-22T18:12:54.897Z"
   },
   {
    "duration": 8,
    "start_time": "2022-10-22T18:12:54.915Z"
   },
   {
    "duration": 9,
    "start_time": "2022-10-22T18:12:54.925Z"
   },
   {
    "duration": 343,
    "start_time": "2022-10-22T18:12:54.935Z"
   },
   {
    "duration": 14,
    "start_time": "2022-10-22T18:12:55.280Z"
   },
   {
    "duration": 20,
    "start_time": "2022-10-22T18:12:55.296Z"
   },
   {
    "duration": 236,
    "start_time": "2022-10-22T18:12:55.318Z"
   },
   {
    "duration": 18,
    "start_time": "2022-10-22T18:12:55.556Z"
   },
   {
    "duration": 22,
    "start_time": "2022-10-22T18:12:55.587Z"
   },
   {
    "duration": 19,
    "start_time": "2022-10-22T18:12:55.611Z"
   },
   {
    "duration": 304,
    "start_time": "2022-10-22T18:12:55.631Z"
   },
   {
    "duration": 335,
    "start_time": "2022-10-22T18:12:55.937Z"
   },
   {
    "duration": 35,
    "start_time": "2022-10-22T18:12:56.274Z"
   },
   {
    "duration": 169,
    "start_time": "2022-10-22T18:12:56.316Z"
   },
   {
    "duration": 733,
    "start_time": "2022-10-22T18:12:56.490Z"
   },
   {
    "duration": 200,
    "start_time": "2022-10-22T18:12:57.224Z"
   },
   {
    "duration": 144,
    "start_time": "2022-10-22T18:12:57.425Z"
   },
   {
    "duration": 165,
    "start_time": "2022-10-22T18:12:57.571Z"
   },
   {
    "duration": 134,
    "start_time": "2022-10-22T18:12:57.737Z"
   },
   {
    "duration": 194,
    "start_time": "2022-10-22T18:12:57.872Z"
   },
   {
    "duration": 144,
    "start_time": "2022-10-22T18:12:58.067Z"
   },
   {
    "duration": 228,
    "start_time": "2022-10-22T18:12:58.214Z"
   },
   {
    "duration": 250,
    "start_time": "2022-10-22T18:12:58.444Z"
   },
   {
    "duration": 157,
    "start_time": "2022-10-22T18:12:58.698Z"
   },
   {
    "duration": 229,
    "start_time": "2022-10-22T18:12:58.857Z"
   },
   {
    "duration": 263,
    "start_time": "2022-10-22T18:12:59.096Z"
   },
   {
    "duration": 855,
    "start_time": "2022-10-22T18:12:59.360Z"
   },
   {
    "duration": 745,
    "start_time": "2022-10-22T18:13:00.216Z"
   },
   {
    "duration": 177,
    "start_time": "2022-10-22T18:13:00.963Z"
   },
   {
    "duration": 186,
    "start_time": "2022-10-22T18:13:01.141Z"
   },
   {
    "duration": 733,
    "start_time": "2022-10-22T18:13:01.328Z"
   },
   {
    "duration": 40,
    "start_time": "2022-10-22T18:13:02.062Z"
   },
   {
    "duration": 172,
    "start_time": "2022-10-22T18:13:02.106Z"
   },
   {
    "duration": 13,
    "start_time": "2022-10-22T18:17:03.732Z"
   },
   {
    "duration": 164,
    "start_time": "2022-10-22T18:17:07.930Z"
   },
   {
    "duration": 42,
    "start_time": "2022-12-26T22:20:41.165Z"
   }
  ],
  "kernelspec": {
   "display_name": "Python 3 (ipykernel)",
   "language": "python",
   "name": "python3"
  },
  "language_info": {
   "codemirror_mode": {
    "name": "ipython",
    "version": 3
   },
   "file_extension": ".py",
   "mimetype": "text/x-python",
   "name": "python",
   "nbconvert_exporter": "python",
   "pygments_lexer": "ipython3",
   "version": "3.9.16"
  },
  "toc": {
   "base_numbering": 1,
   "nav_menu": {},
   "number_sections": true,
   "sideBar": true,
   "skip_h1_title": true,
   "title_cell": "Table of Contents",
   "title_sidebar": "Contents",
   "toc_cell": false,
   "toc_position": {},
   "toc_section_display": true,
   "toc_window_display": false
  }
 },
 "nbformat": 4,
 "nbformat_minor": 2
}
