{
 "cells": [
  {
   "cell_type": "markdown",
   "id": "9528c2dd",
   "metadata": {
    "deletable": false,
    "editable": false,
    "id": "c81daeeb"
   },
   "source": [
    "# Исследование надежности заемщиков\n"
   ]
  },
  {
   "cell_type": "markdown",
   "id": "e8dd03f6",
   "metadata": {
    "deletable": false,
    "editable": false,
    "id": "827c20bf"
   },
   "source": [
    "Во второй части проекта вы выполните шаги 3 и 4. Их вручную проверит ревьюер.\n",
    "Чтобы вам не пришлось писать код заново для шагов 1 и 2, мы добавили авторские решения в ячейки с кодом. \n",
    "\n"
   ]
  },
  {
   "cell_type": "markdown",
   "id": "292da7f0",
   "metadata": {
    "deletable": false,
    "editable": false,
    "id": "744d7639"
   },
   "source": [
    "## Откройте таблицу и изучите общую информацию о данных"
   ]
  },
  {
   "cell_type": "markdown",
   "id": "27defe2f",
   "metadata": {
    "deletable": false,
    "editable": false,
    "id": "e7a14c31"
   },
   "source": [
    "**Задание 1. Импортируйте библиотеку pandas. Считайте данные из csv-файла в датафрейм и сохраните в переменную `data`. Путь к файлу:**\n",
    "\n",
    "`/datasets/data.csv`"
   ]
  },
  {
   "cell_type": "code",
   "execution_count": 1,
   "id": "2a736ebb",
   "metadata": {
    "deletable": false,
    "id": "7bcf75c9"
   },
   "outputs": [],
   "source": [
    "import pandas as pd\n",
    "\n",
    "try:\n",
    "    data = pd.read_csv('/datasets/data.csv')\n",
    "except:\n",
    "    data = pd.read_csv('https://code.s3.yandex.net/datasets/data.csv')"
   ]
  },
  {
   "cell_type": "markdown",
   "id": "710134d8",
   "metadata": {
    "deletable": false,
    "editable": false,
    "id": "b8038fe3"
   },
   "source": [
    "**Задание 2. Выведите первые 20 строчек датафрейма `data` на экран.**"
   ]
  },
  {
   "cell_type": "code",
   "execution_count": 2,
   "id": "d38af2db",
   "metadata": {
    "deletable": false,
    "id": "2a7cab99",
    "outputId": "1a8f3ef2-d323-4ec2-ddf7-89670b5944c4"
   },
   "outputs": [
    {
     "data": {
      "text/html": [
       "<div>\n",
       "<style scoped>\n",
       "    .dataframe tbody tr th:only-of-type {\n",
       "        vertical-align: middle;\n",
       "    }\n",
       "\n",
       "    .dataframe tbody tr th {\n",
       "        vertical-align: top;\n",
       "    }\n",
       "\n",
       "    .dataframe thead th {\n",
       "        text-align: right;\n",
       "    }\n",
       "</style>\n",
       "<table border=\"1\" class=\"dataframe\">\n",
       "  <thead>\n",
       "    <tr style=\"text-align: right;\">\n",
       "      <th></th>\n",
       "      <th>children</th>\n",
       "      <th>days_employed</th>\n",
       "      <th>dob_years</th>\n",
       "      <th>education</th>\n",
       "      <th>education_id</th>\n",
       "      <th>family_status</th>\n",
       "      <th>family_status_id</th>\n",
       "      <th>gender</th>\n",
       "      <th>income_type</th>\n",
       "      <th>debt</th>\n",
       "      <th>total_income</th>\n",
       "      <th>purpose</th>\n",
       "    </tr>\n",
       "  </thead>\n",
       "  <tbody>\n",
       "    <tr>\n",
       "      <th>0</th>\n",
       "      <td>1</td>\n",
       "      <td>-8437.673028</td>\n",
       "      <td>42</td>\n",
       "      <td>высшее</td>\n",
       "      <td>0</td>\n",
       "      <td>женат / замужем</td>\n",
       "      <td>0</td>\n",
       "      <td>F</td>\n",
       "      <td>сотрудник</td>\n",
       "      <td>0</td>\n",
       "      <td>253875.639453</td>\n",
       "      <td>покупка жилья</td>\n",
       "    </tr>\n",
       "    <tr>\n",
       "      <th>1</th>\n",
       "      <td>1</td>\n",
       "      <td>-4024.803754</td>\n",
       "      <td>36</td>\n",
       "      <td>среднее</td>\n",
       "      <td>1</td>\n",
       "      <td>женат / замужем</td>\n",
       "      <td>0</td>\n",
       "      <td>F</td>\n",
       "      <td>сотрудник</td>\n",
       "      <td>0</td>\n",
       "      <td>112080.014102</td>\n",
       "      <td>приобретение автомобиля</td>\n",
       "    </tr>\n",
       "    <tr>\n",
       "      <th>2</th>\n",
       "      <td>0</td>\n",
       "      <td>-5623.422610</td>\n",
       "      <td>33</td>\n",
       "      <td>Среднее</td>\n",
       "      <td>1</td>\n",
       "      <td>женат / замужем</td>\n",
       "      <td>0</td>\n",
       "      <td>M</td>\n",
       "      <td>сотрудник</td>\n",
       "      <td>0</td>\n",
       "      <td>145885.952297</td>\n",
       "      <td>покупка жилья</td>\n",
       "    </tr>\n",
       "    <tr>\n",
       "      <th>3</th>\n",
       "      <td>3</td>\n",
       "      <td>-4124.747207</td>\n",
       "      <td>32</td>\n",
       "      <td>среднее</td>\n",
       "      <td>1</td>\n",
       "      <td>женат / замужем</td>\n",
       "      <td>0</td>\n",
       "      <td>M</td>\n",
       "      <td>сотрудник</td>\n",
       "      <td>0</td>\n",
       "      <td>267628.550329</td>\n",
       "      <td>дополнительное образование</td>\n",
       "    </tr>\n",
       "    <tr>\n",
       "      <th>4</th>\n",
       "      <td>0</td>\n",
       "      <td>340266.072047</td>\n",
       "      <td>53</td>\n",
       "      <td>среднее</td>\n",
       "      <td>1</td>\n",
       "      <td>гражданский брак</td>\n",
       "      <td>1</td>\n",
       "      <td>F</td>\n",
       "      <td>пенсионер</td>\n",
       "      <td>0</td>\n",
       "      <td>158616.077870</td>\n",
       "      <td>сыграть свадьбу</td>\n",
       "    </tr>\n",
       "    <tr>\n",
       "      <th>5</th>\n",
       "      <td>0</td>\n",
       "      <td>-926.185831</td>\n",
       "      <td>27</td>\n",
       "      <td>высшее</td>\n",
       "      <td>0</td>\n",
       "      <td>гражданский брак</td>\n",
       "      <td>1</td>\n",
       "      <td>M</td>\n",
       "      <td>компаньон</td>\n",
       "      <td>0</td>\n",
       "      <td>255763.565419</td>\n",
       "      <td>покупка жилья</td>\n",
       "    </tr>\n",
       "    <tr>\n",
       "      <th>6</th>\n",
       "      <td>0</td>\n",
       "      <td>-2879.202052</td>\n",
       "      <td>43</td>\n",
       "      <td>высшее</td>\n",
       "      <td>0</td>\n",
       "      <td>женат / замужем</td>\n",
       "      <td>0</td>\n",
       "      <td>F</td>\n",
       "      <td>компаньон</td>\n",
       "      <td>0</td>\n",
       "      <td>240525.971920</td>\n",
       "      <td>операции с жильем</td>\n",
       "    </tr>\n",
       "    <tr>\n",
       "      <th>7</th>\n",
       "      <td>0</td>\n",
       "      <td>-152.779569</td>\n",
       "      <td>50</td>\n",
       "      <td>СРЕДНЕЕ</td>\n",
       "      <td>1</td>\n",
       "      <td>женат / замужем</td>\n",
       "      <td>0</td>\n",
       "      <td>M</td>\n",
       "      <td>сотрудник</td>\n",
       "      <td>0</td>\n",
       "      <td>135823.934197</td>\n",
       "      <td>образование</td>\n",
       "    </tr>\n",
       "    <tr>\n",
       "      <th>8</th>\n",
       "      <td>2</td>\n",
       "      <td>-6929.865299</td>\n",
       "      <td>35</td>\n",
       "      <td>ВЫСШЕЕ</td>\n",
       "      <td>0</td>\n",
       "      <td>гражданский брак</td>\n",
       "      <td>1</td>\n",
       "      <td>F</td>\n",
       "      <td>сотрудник</td>\n",
       "      <td>0</td>\n",
       "      <td>95856.832424</td>\n",
       "      <td>на проведение свадьбы</td>\n",
       "    </tr>\n",
       "    <tr>\n",
       "      <th>9</th>\n",
       "      <td>0</td>\n",
       "      <td>-2188.756445</td>\n",
       "      <td>41</td>\n",
       "      <td>среднее</td>\n",
       "      <td>1</td>\n",
       "      <td>женат / замужем</td>\n",
       "      <td>0</td>\n",
       "      <td>M</td>\n",
       "      <td>сотрудник</td>\n",
       "      <td>0</td>\n",
       "      <td>144425.938277</td>\n",
       "      <td>покупка жилья для семьи</td>\n",
       "    </tr>\n",
       "    <tr>\n",
       "      <th>10</th>\n",
       "      <td>2</td>\n",
       "      <td>-4171.483647</td>\n",
       "      <td>36</td>\n",
       "      <td>высшее</td>\n",
       "      <td>0</td>\n",
       "      <td>женат / замужем</td>\n",
       "      <td>0</td>\n",
       "      <td>M</td>\n",
       "      <td>компаньон</td>\n",
       "      <td>0</td>\n",
       "      <td>113943.491460</td>\n",
       "      <td>покупка недвижимости</td>\n",
       "    </tr>\n",
       "    <tr>\n",
       "      <th>11</th>\n",
       "      <td>0</td>\n",
       "      <td>-792.701887</td>\n",
       "      <td>40</td>\n",
       "      <td>среднее</td>\n",
       "      <td>1</td>\n",
       "      <td>женат / замужем</td>\n",
       "      <td>0</td>\n",
       "      <td>F</td>\n",
       "      <td>сотрудник</td>\n",
       "      <td>0</td>\n",
       "      <td>77069.234271</td>\n",
       "      <td>покупка коммерческой недвижимости</td>\n",
       "    </tr>\n",
       "    <tr>\n",
       "      <th>12</th>\n",
       "      <td>0</td>\n",
       "      <td>NaN</td>\n",
       "      <td>65</td>\n",
       "      <td>среднее</td>\n",
       "      <td>1</td>\n",
       "      <td>гражданский брак</td>\n",
       "      <td>1</td>\n",
       "      <td>M</td>\n",
       "      <td>пенсионер</td>\n",
       "      <td>0</td>\n",
       "      <td>NaN</td>\n",
       "      <td>сыграть свадьбу</td>\n",
       "    </tr>\n",
       "    <tr>\n",
       "      <th>13</th>\n",
       "      <td>0</td>\n",
       "      <td>-1846.641941</td>\n",
       "      <td>54</td>\n",
       "      <td>неоконченное высшее</td>\n",
       "      <td>2</td>\n",
       "      <td>женат / замужем</td>\n",
       "      <td>0</td>\n",
       "      <td>F</td>\n",
       "      <td>сотрудник</td>\n",
       "      <td>0</td>\n",
       "      <td>130458.228857</td>\n",
       "      <td>приобретение автомобиля</td>\n",
       "    </tr>\n",
       "    <tr>\n",
       "      <th>14</th>\n",
       "      <td>0</td>\n",
       "      <td>-1844.956182</td>\n",
       "      <td>56</td>\n",
       "      <td>высшее</td>\n",
       "      <td>0</td>\n",
       "      <td>гражданский брак</td>\n",
       "      <td>1</td>\n",
       "      <td>F</td>\n",
       "      <td>компаньон</td>\n",
       "      <td>1</td>\n",
       "      <td>165127.911772</td>\n",
       "      <td>покупка жилой недвижимости</td>\n",
       "    </tr>\n",
       "    <tr>\n",
       "      <th>15</th>\n",
       "      <td>1</td>\n",
       "      <td>-972.364419</td>\n",
       "      <td>26</td>\n",
       "      <td>среднее</td>\n",
       "      <td>1</td>\n",
       "      <td>женат / замужем</td>\n",
       "      <td>0</td>\n",
       "      <td>F</td>\n",
       "      <td>сотрудник</td>\n",
       "      <td>0</td>\n",
       "      <td>116820.904450</td>\n",
       "      <td>строительство собственной недвижимости</td>\n",
       "    </tr>\n",
       "    <tr>\n",
       "      <th>16</th>\n",
       "      <td>0</td>\n",
       "      <td>-1719.934226</td>\n",
       "      <td>35</td>\n",
       "      <td>среднее</td>\n",
       "      <td>1</td>\n",
       "      <td>женат / замужем</td>\n",
       "      <td>0</td>\n",
       "      <td>F</td>\n",
       "      <td>сотрудник</td>\n",
       "      <td>0</td>\n",
       "      <td>289202.704229</td>\n",
       "      <td>недвижимость</td>\n",
       "    </tr>\n",
       "    <tr>\n",
       "      <th>17</th>\n",
       "      <td>0</td>\n",
       "      <td>-2369.999720</td>\n",
       "      <td>33</td>\n",
       "      <td>высшее</td>\n",
       "      <td>0</td>\n",
       "      <td>гражданский брак</td>\n",
       "      <td>1</td>\n",
       "      <td>M</td>\n",
       "      <td>сотрудник</td>\n",
       "      <td>0</td>\n",
       "      <td>90410.586745</td>\n",
       "      <td>строительство недвижимости</td>\n",
       "    </tr>\n",
       "    <tr>\n",
       "      <th>18</th>\n",
       "      <td>0</td>\n",
       "      <td>400281.136913</td>\n",
       "      <td>53</td>\n",
       "      <td>среднее</td>\n",
       "      <td>1</td>\n",
       "      <td>вдовец / вдова</td>\n",
       "      <td>2</td>\n",
       "      <td>F</td>\n",
       "      <td>пенсионер</td>\n",
       "      <td>0</td>\n",
       "      <td>56823.777243</td>\n",
       "      <td>на покупку подержанного автомобиля</td>\n",
       "    </tr>\n",
       "    <tr>\n",
       "      <th>19</th>\n",
       "      <td>0</td>\n",
       "      <td>-10038.818549</td>\n",
       "      <td>48</td>\n",
       "      <td>СРЕДНЕЕ</td>\n",
       "      <td>1</td>\n",
       "      <td>в разводе</td>\n",
       "      <td>3</td>\n",
       "      <td>F</td>\n",
       "      <td>сотрудник</td>\n",
       "      <td>0</td>\n",
       "      <td>242831.107982</td>\n",
       "      <td>на покупку своего автомобиля</td>\n",
       "    </tr>\n",
       "  </tbody>\n",
       "</table>\n",
       "</div>"
      ],
      "text/plain": [
       "    children  days_employed  dob_years            education  education_id  \\\n",
       "0          1   -8437.673028         42               высшее             0   \n",
       "1          1   -4024.803754         36              среднее             1   \n",
       "2          0   -5623.422610         33              Среднее             1   \n",
       "3          3   -4124.747207         32              среднее             1   \n",
       "4          0  340266.072047         53              среднее             1   \n",
       "5          0    -926.185831         27               высшее             0   \n",
       "6          0   -2879.202052         43               высшее             0   \n",
       "7          0    -152.779569         50              СРЕДНЕЕ             1   \n",
       "8          2   -6929.865299         35               ВЫСШЕЕ             0   \n",
       "9          0   -2188.756445         41              среднее             1   \n",
       "10         2   -4171.483647         36               высшее             0   \n",
       "11         0    -792.701887         40              среднее             1   \n",
       "12         0            NaN         65              среднее             1   \n",
       "13         0   -1846.641941         54  неоконченное высшее             2   \n",
       "14         0   -1844.956182         56               высшее             0   \n",
       "15         1    -972.364419         26              среднее             1   \n",
       "16         0   -1719.934226         35              среднее             1   \n",
       "17         0   -2369.999720         33               высшее             0   \n",
       "18         0  400281.136913         53              среднее             1   \n",
       "19         0  -10038.818549         48              СРЕДНЕЕ             1   \n",
       "\n",
       "       family_status  family_status_id gender income_type  debt  \\\n",
       "0    женат / замужем                 0      F   сотрудник     0   \n",
       "1    женат / замужем                 0      F   сотрудник     0   \n",
       "2    женат / замужем                 0      M   сотрудник     0   \n",
       "3    женат / замужем                 0      M   сотрудник     0   \n",
       "4   гражданский брак                 1      F   пенсионер     0   \n",
       "5   гражданский брак                 1      M   компаньон     0   \n",
       "6    женат / замужем                 0      F   компаньон     0   \n",
       "7    женат / замужем                 0      M   сотрудник     0   \n",
       "8   гражданский брак                 1      F   сотрудник     0   \n",
       "9    женат / замужем                 0      M   сотрудник     0   \n",
       "10   женат / замужем                 0      M   компаньон     0   \n",
       "11   женат / замужем                 0      F   сотрудник     0   \n",
       "12  гражданский брак                 1      M   пенсионер     0   \n",
       "13   женат / замужем                 0      F   сотрудник     0   \n",
       "14  гражданский брак                 1      F   компаньон     1   \n",
       "15   женат / замужем                 0      F   сотрудник     0   \n",
       "16   женат / замужем                 0      F   сотрудник     0   \n",
       "17  гражданский брак                 1      M   сотрудник     0   \n",
       "18    вдовец / вдова                 2      F   пенсионер     0   \n",
       "19         в разводе                 3      F   сотрудник     0   \n",
       "\n",
       "     total_income                                 purpose  \n",
       "0   253875.639453                           покупка жилья  \n",
       "1   112080.014102                 приобретение автомобиля  \n",
       "2   145885.952297                           покупка жилья  \n",
       "3   267628.550329              дополнительное образование  \n",
       "4   158616.077870                         сыграть свадьбу  \n",
       "5   255763.565419                           покупка жилья  \n",
       "6   240525.971920                       операции с жильем  \n",
       "7   135823.934197                             образование  \n",
       "8    95856.832424                   на проведение свадьбы  \n",
       "9   144425.938277                 покупка жилья для семьи  \n",
       "10  113943.491460                    покупка недвижимости  \n",
       "11   77069.234271       покупка коммерческой недвижимости  \n",
       "12            NaN                         сыграть свадьбу  \n",
       "13  130458.228857                 приобретение автомобиля  \n",
       "14  165127.911772              покупка жилой недвижимости  \n",
       "15  116820.904450  строительство собственной недвижимости  \n",
       "16  289202.704229                            недвижимость  \n",
       "17   90410.586745              строительство недвижимости  \n",
       "18   56823.777243      на покупку подержанного автомобиля  \n",
       "19  242831.107982            на покупку своего автомобиля  "
      ]
     },
     "execution_count": 2,
     "metadata": {},
     "output_type": "execute_result"
    }
   ],
   "source": [
    "data.head(20)"
   ]
  },
  {
   "cell_type": "markdown",
   "id": "6da76762",
   "metadata": {
    "deletable": false,
    "editable": false,
    "id": "1c12e233"
   },
   "source": [
    "**Задание 3. Выведите основную информацию о датафрейме с помощью метода `info()`.**"
   ]
  },
  {
   "cell_type": "code",
   "execution_count": 3,
   "id": "39403df3",
   "metadata": {
    "deletable": false,
    "id": "2b757bca",
    "outputId": "15376089-8dad-46c9-b520-c05248d43158"
   },
   "outputs": [
    {
     "name": "stdout",
     "output_type": "stream",
     "text": [
      "<class 'pandas.core.frame.DataFrame'>\n",
      "RangeIndex: 21525 entries, 0 to 21524\n",
      "Data columns (total 12 columns):\n",
      " #   Column            Non-Null Count  Dtype  \n",
      "---  ------            --------------  -----  \n",
      " 0   children          21525 non-null  int64  \n",
      " 1   days_employed     19351 non-null  float64\n",
      " 2   dob_years         21525 non-null  int64  \n",
      " 3   education         21525 non-null  object \n",
      " 4   education_id      21525 non-null  int64  \n",
      " 5   family_status     21525 non-null  object \n",
      " 6   family_status_id  21525 non-null  int64  \n",
      " 7   gender            21525 non-null  object \n",
      " 8   income_type       21525 non-null  object \n",
      " 9   debt              21525 non-null  int64  \n",
      " 10  total_income      19351 non-null  float64\n",
      " 11  purpose           21525 non-null  object \n",
      "dtypes: float64(2), int64(5), object(5)\n",
      "memory usage: 2.0+ MB\n"
     ]
    }
   ],
   "source": [
    "data.info()"
   ]
  },
  {
   "cell_type": "markdown",
   "id": "af326290",
   "metadata": {
    "deletable": false,
    "editable": false,
    "id": "333ec665"
   },
   "source": [
    "## Предобработка данных"
   ]
  },
  {
   "cell_type": "markdown",
   "id": "33c80445",
   "metadata": {
    "deletable": false,
    "editable": false,
    "id": "02d92d53"
   },
   "source": [
    "### Удаление пропусков"
   ]
  },
  {
   "cell_type": "markdown",
   "id": "16a14d5f",
   "metadata": {
    "deletable": false,
    "editable": false,
    "id": "cd84967c"
   },
   "source": [
    "**Задание 4. Выведите количество пропущенных значений для каждого столбца. Используйте комбинацию двух методов.**"
   ]
  },
  {
   "cell_type": "code",
   "execution_count": 4,
   "id": "4e25f376",
   "metadata": {
    "deletable": false,
    "id": "7f9b2309",
    "outputId": "81f4d817-781c-465c-ed15-91ce4446810d",
    "scrolled": true
   },
   "outputs": [
    {
     "data": {
      "text/plain": [
       "children               0\n",
       "days_employed       2174\n",
       "dob_years              0\n",
       "education              0\n",
       "education_id           0\n",
       "family_status          0\n",
       "family_status_id       0\n",
       "gender                 0\n",
       "income_type            0\n",
       "debt                   0\n",
       "total_income        2174\n",
       "purpose                0\n",
       "dtype: int64"
      ]
     },
     "execution_count": 4,
     "metadata": {},
     "output_type": "execute_result"
    }
   ],
   "source": [
    "data.isna().sum()"
   ]
  },
  {
   "cell_type": "markdown",
   "id": "34d6b336",
   "metadata": {
    "deletable": false,
    "editable": false,
    "id": "db86e27b"
   },
   "source": [
    "**Задание 5. В двух столбцах есть пропущенные значения. Один из них — `days_employed`. Пропуски в этом столбце вы обработаете на следующем этапе. Другой столбец с пропущенными значениями — `total_income` — хранит данные о доходах. На сумму дохода сильнее всего влияет тип занятости, поэтому заполнить пропуски в этом столбце нужно медианным значением по каждому типу из столбца `income_type`. Например, у человека с типом занятости `сотрудник` пропуск в столбце `total_income` должен быть заполнен медианным доходом среди всех записей с тем же типом.**"
   ]
  },
  {
   "cell_type": "code",
   "execution_count": 5,
   "id": "9339eee8",
   "metadata": {
    "deletable": false,
    "id": "42006a93"
   },
   "outputs": [],
   "source": [
    "for t in data['income_type'].unique():\n",
    "    data.loc[(data['income_type'] == t) & (data['total_income'].isna()), 'total_income'] = \\\n",
    "    data.loc[(data['income_type'] == t), 'total_income'].median()"
   ]
  },
  {
   "cell_type": "markdown",
   "id": "0d5c5a35",
   "metadata": {
    "deletable": false,
    "editable": false,
    "id": "89da5ece"
   },
   "source": [
    "### Обработка аномальных значений"
   ]
  },
  {
   "cell_type": "markdown",
   "id": "f3e8e0ba",
   "metadata": {
    "deletable": false,
    "editable": false,
    "id": "57964554"
   },
   "source": [
    "**Задание 6. В данных могут встречаться артефакты (аномалии) — значения, которые не отражают действительность и появились по какой-то ошибке. таким артефактом будет отрицательное количество дней трудового стажа в столбце `days_employed`. Для реальных данных это нормально. Обработайте значения в этом столбце: замените все отрицательные значения положительными с помощью метода `abs()`.**"
   ]
  },
  {
   "cell_type": "code",
   "execution_count": 6,
   "id": "24201a97",
   "metadata": {
    "deletable": false,
    "id": "f6f055bf"
   },
   "outputs": [],
   "source": [
    "data['days_employed'] = data['days_employed'].abs()"
   ]
  },
  {
   "cell_type": "markdown",
   "id": "cb833d52",
   "metadata": {
    "deletable": false,
    "editable": false,
    "id": "6107dd2f"
   },
   "source": [
    "**Задание 7. Для каждого типа занятости выведите медианное значение трудового стажа `days_employed` в днях.**"
   ]
  },
  {
   "cell_type": "code",
   "execution_count": 7,
   "id": "60c11951",
   "metadata": {
    "deletable": false,
    "id": "85a5faf6",
    "outputId": "801ef80e-522b-4668-f34e-565af7432bcf"
   },
   "outputs": [
    {
     "data": {
      "text/plain": [
       "income_type\n",
       "безработный        366413.652744\n",
       "в декрете            3296.759962\n",
       "госслужащий          2689.368353\n",
       "компаньон            1547.382223\n",
       "пенсионер          365213.306266\n",
       "предприниматель       520.848083\n",
       "сотрудник            1574.202821\n",
       "студент               578.751554\n",
       "Name: days_employed, dtype: float64"
      ]
     },
     "execution_count": 7,
     "metadata": {},
     "output_type": "execute_result"
    }
   ],
   "source": [
    "data.groupby('income_type')['days_employed'].agg('median')"
   ]
  },
  {
   "cell_type": "markdown",
   "id": "bfd2caae",
   "metadata": {
    "deletable": false,
    "editable": false,
    "id": "38d1a030"
   },
   "source": [
    "У двух типов (безработные и пенсионеры) получатся аномально большие значения. Исправить такие значения сложно, поэтому оставьте их как есть. Тем более этот столбец не понадобится вам для исследования."
   ]
  },
  {
   "cell_type": "markdown",
   "id": "aeef6c14",
   "metadata": {
    "deletable": false,
    "editable": false,
    "id": "d8a9f147"
   },
   "source": [
    "**Задание 8. Выведите перечень уникальных значений столбца `children`.**"
   ]
  },
  {
   "cell_type": "code",
   "execution_count": 8,
   "id": "3a478687",
   "metadata": {
    "deletable": false,
    "id": "ef5056eb",
    "outputId": "6975b15c-7f95-4697-d16d-a0c79b657b03"
   },
   "outputs": [
    {
     "data": {
      "text/plain": [
       "array([ 1,  0,  3,  2, -1,  4, 20,  5])"
      ]
     },
     "execution_count": 8,
     "metadata": {},
     "output_type": "execute_result"
    }
   ],
   "source": [
    "data['children'].unique()"
   ]
  },
  {
   "cell_type": "markdown",
   "id": "cb289e83",
   "metadata": {
    "deletable": false,
    "editable": false,
    "id": "40b9ebf2"
   },
   "source": [
    "**Задание 9. В столбце `children` есть два аномальных значения. Удалите строки, в которых встречаются такие аномальные значения из датафрейма `data`.**"
   ]
  },
  {
   "cell_type": "code",
   "execution_count": 9,
   "id": "5136ca4f",
   "metadata": {
    "deletable": false,
    "id": "3ff9801d"
   },
   "outputs": [],
   "source": [
    "data = data[(data['children'] != -1) & (data['children'] != 20)]"
   ]
  },
  {
   "cell_type": "markdown",
   "id": "a084c8a0",
   "metadata": {
    "deletable": false,
    "editable": false,
    "id": "bbc4d0ce"
   },
   "source": [
    "**Задание 10. Ещё раз выведите перечень уникальных значений столбца `children`, чтобы убедиться, что артефакты удалены.**"
   ]
  },
  {
   "cell_type": "code",
   "execution_count": 10,
   "id": "8629c9ce",
   "metadata": {
    "deletable": false,
    "id": "ad4fa8b7",
    "outputId": "b2097101-d49d-44d9-901b-32a65c9463d1"
   },
   "outputs": [
    {
     "data": {
      "text/plain": [
       "array([1, 0, 3, 2, 4, 5])"
      ]
     },
     "execution_count": 10,
     "metadata": {},
     "output_type": "execute_result"
    }
   ],
   "source": [
    "data['children'].unique()"
   ]
  },
  {
   "cell_type": "markdown",
   "id": "ad146c55",
   "metadata": {
    "deletable": false,
    "editable": false,
    "id": "75440b63"
   },
   "source": [
    "### Удаление пропусков (продолжение)"
   ]
  },
  {
   "cell_type": "markdown",
   "id": "21415051",
   "metadata": {
    "deletable": false,
    "editable": false,
    "id": "f4ea573f"
   },
   "source": [
    "**Задание 11. Заполните пропуски в столбце `days_employed` медианными значениями по каждого типа занятости `income_type`.**"
   ]
  },
  {
   "cell_type": "code",
   "execution_count": 11,
   "id": "781bbff2",
   "metadata": {
    "deletable": false,
    "id": "af6b1a7e"
   },
   "outputs": [],
   "source": [
    "for t in data['income_type'].unique():\n",
    "    data.loc[(data['income_type'] == t) & (data['days_employed'].isna()), 'days_employed'] = \\\n",
    "    data.loc[(data['income_type'] == t), 'days_employed'].median()"
   ]
  },
  {
   "cell_type": "markdown",
   "id": "b108406c",
   "metadata": {
    "deletable": false,
    "editable": false,
    "id": "2753f40d"
   },
   "source": [
    "**Задание 12. Убедитесь, что все пропуски заполнены. Проверьте себя и ещё раз выведите количество пропущенных значений для каждого столбца с помощью двух методов.**"
   ]
  },
  {
   "cell_type": "code",
   "execution_count": 12,
   "id": "1d95491e",
   "metadata": {
    "deletable": false,
    "id": "55f78bc2",
    "outputId": "8da1e4e1-358e-4e87-98c9-f261bce0a7b2"
   },
   "outputs": [
    {
     "data": {
      "text/plain": [
       "children            0\n",
       "days_employed       0\n",
       "dob_years           0\n",
       "education           0\n",
       "education_id        0\n",
       "family_status       0\n",
       "family_status_id    0\n",
       "gender              0\n",
       "income_type         0\n",
       "debt                0\n",
       "total_income        0\n",
       "purpose             0\n",
       "dtype: int64"
      ]
     },
     "execution_count": 12,
     "metadata": {},
     "output_type": "execute_result"
    }
   ],
   "source": [
    "data.isna().sum()"
   ]
  },
  {
   "cell_type": "markdown",
   "id": "3b1eed3f",
   "metadata": {
    "deletable": false,
    "editable": false,
    "id": "ddc81e43"
   },
   "source": [
    "### Изменение типов данных"
   ]
  },
  {
   "cell_type": "markdown",
   "id": "7bf72a34",
   "metadata": {
    "deletable": false,
    "editable": false,
    "id": "42d19d24"
   },
   "source": [
    "**Задание 13. Замените вещественный тип данных в столбце `total_income` на целочисленный с помощью метода `astype()`.**"
   ]
  },
  {
   "cell_type": "code",
   "execution_count": 13,
   "id": "25ee15d0",
   "metadata": {
    "deletable": false,
    "id": "920b65ad"
   },
   "outputs": [],
   "source": [
    "data['total_income'] = data['total_income'].astype(int)"
   ]
  },
  {
   "cell_type": "markdown",
   "id": "a864e9c6",
   "metadata": {
    "deletable": false,
    "editable": false,
    "id": "80c420ba"
   },
   "source": [
    "### Обработка дубликатов"
   ]
  },
  {
   "cell_type": "markdown",
   "id": "d4b6aaea",
   "metadata": {
    "deletable": false,
    "editable": false
   },
   "source": [
    "**Задание 14. Обработайте неявные дубликаты в столбце `education`. В этом столбце есть одни и те же значения, но записанные по-разному: с использованием заглавных и строчных букв. Приведите их к нижнему регистру. Проверьте остальные столбцы.**"
   ]
  },
  {
   "cell_type": "code",
   "execution_count": 14,
   "id": "cc275599",
   "metadata": {
    "deletable": false
   },
   "outputs": [],
   "source": [
    "data['education'] = data['education'].str.lower()"
   ]
  },
  {
   "cell_type": "markdown",
   "id": "f5759afb",
   "metadata": {
    "deletable": false,
    "editable": false,
    "id": "dc587695"
   },
   "source": [
    "**Задание 15. Выведите на экран количество строк-дубликатов в данных. Если такие строки присутствуют, удалите их.**"
   ]
  },
  {
   "cell_type": "code",
   "execution_count": 15,
   "id": "893c9865",
   "metadata": {
    "deletable": false,
    "id": "3ee445e4",
    "outputId": "9684deba-1934-42d1-99e1-cda61740f822"
   },
   "outputs": [
    {
     "data": {
      "text/plain": [
       "71"
      ]
     },
     "execution_count": 15,
     "metadata": {},
     "output_type": "execute_result"
    }
   ],
   "source": [
    "data.duplicated().sum()"
   ]
  },
  {
   "cell_type": "code",
   "execution_count": 16,
   "id": "88e5ffff",
   "metadata": {
    "deletable": false,
    "id": "8575fe05"
   },
   "outputs": [],
   "source": [
    "data = data.drop_duplicates()"
   ]
  },
  {
   "cell_type": "markdown",
   "id": "c2f445e5",
   "metadata": {
    "deletable": false,
    "editable": false,
    "id": "9904cf55"
   },
   "source": [
    "### Категоризация данных"
   ]
  },
  {
   "cell_type": "markdown",
   "id": "7be701c6",
   "metadata": {
    "deletable": false,
    "editable": false,
    "id": "72fcc8a2"
   },
   "source": [
    "**Задание 16. На основании диапазонов, указанных ниже, создайте в датафрейме `data` столбец `total_income_category` с категориями:**\n",
    "\n",
    "- 0–30000 — `'E'`;\n",
    "- 30001–50000 — `'D'`;\n",
    "- 50001–200000 — `'C'`;\n",
    "- 200001–1000000 — `'B'`;\n",
    "- 1000001 и выше — `'A'`.\n",
    "\n",
    "\n",
    "**Например, кредитополучателю с доходом 25000 нужно назначить категорию `'E'`, а клиенту, получающему 235000, — `'B'`. Используйте собственную функцию с именем `categorize_income()` и метод `apply()`.**"
   ]
  },
  {
   "cell_type": "code",
   "execution_count": 17,
   "id": "5d5d4d93",
   "metadata": {
    "deletable": false,
    "id": "e1771346"
   },
   "outputs": [],
   "source": [
    "def categorize_income(income):\n",
    "    try:\n",
    "        if 0 <= income <= 30000:\n",
    "            return 'E'\n",
    "        elif 30001 <= income <= 50000:\n",
    "            return 'D'\n",
    "        elif 50001 <= income <= 200000:\n",
    "            return 'C'\n",
    "        elif 200001 <= income <= 1000000:\n",
    "            return 'B'\n",
    "        elif income >= 1000001:\n",
    "            return 'A'\n",
    "    except:\n",
    "        pass"
   ]
  },
  {
   "cell_type": "code",
   "execution_count": 18,
   "id": "defd05eb",
   "metadata": {
    "deletable": false,
    "id": "d5f3586d"
   },
   "outputs": [],
   "source": [
    "data['total_income_category'] = data['total_income'].apply(categorize_income)"
   ]
  },
  {
   "cell_type": "markdown",
   "id": "f6b2bc63",
   "metadata": {
    "deletable": false,
    "editable": false,
    "id": "dde49b5c"
   },
   "source": [
    "**Задание 17. Выведите на экран перечень уникальных целей взятия кредита из столбца `purpose`.**"
   ]
  },
  {
   "cell_type": "code",
   "execution_count": 19,
   "id": "482d722a",
   "metadata": {
    "deletable": false,
    "id": "f67ce9b3",
    "outputId": "673c12d9-7d7e-4ae0-9812-c622c89dd244"
   },
   "outputs": [
    {
     "data": {
      "text/plain": [
       "array(['покупка жилья', 'приобретение автомобиля',\n",
       "       'дополнительное образование', 'сыграть свадьбу',\n",
       "       'операции с жильем', 'образование', 'на проведение свадьбы',\n",
       "       'покупка жилья для семьи', 'покупка недвижимости',\n",
       "       'покупка коммерческой недвижимости', 'покупка жилой недвижимости',\n",
       "       'строительство собственной недвижимости', 'недвижимость',\n",
       "       'строительство недвижимости', 'на покупку подержанного автомобиля',\n",
       "       'на покупку своего автомобиля',\n",
       "       'операции с коммерческой недвижимостью',\n",
       "       'строительство жилой недвижимости', 'жилье',\n",
       "       'операции со своей недвижимостью', 'автомобили',\n",
       "       'заняться образованием', 'сделка с подержанным автомобилем',\n",
       "       'получение образования', 'автомобиль', 'свадьба',\n",
       "       'получение дополнительного образования', 'покупка своего жилья',\n",
       "       'операции с недвижимостью', 'получение высшего образования',\n",
       "       'свой автомобиль', 'сделка с автомобилем',\n",
       "       'профильное образование', 'высшее образование',\n",
       "       'покупка жилья для сдачи', 'на покупку автомобиля', 'ремонт жилью',\n",
       "       'заняться высшим образованием'], dtype=object)"
      ]
     },
     "execution_count": 19,
     "metadata": {},
     "output_type": "execute_result"
    }
   ],
   "source": [
    "data['purpose'].unique()"
   ]
  },
  {
   "cell_type": "markdown",
   "id": "8a7b28c5",
   "metadata": {
    "deletable": false,
    "editable": false,
    "id": "85d0aef0"
   },
   "source": [
    "**Задание 18. Создайте функцию, которая на основании данных из столбца `purpose` сформирует новый столбец `purpose_category`, в который войдут следующие категории:**\n",
    "\n",
    "- `'операции с автомобилем'`,\n",
    "- `'операции с недвижимостью'`,\n",
    "- `'проведение свадьбы'`,\n",
    "- `'получение образования'`.\n",
    "\n",
    "**Например, если в столбце `purpose` находится подстрока `'на покупку автомобиля'`, то в столбце `purpose_category` должна появиться строка `'операции с автомобилем'`.**\n",
    "\n",
    "**Используйте собственную функцию с именем `categorize_purpose()` и метод `apply()`. Изучите данные в столбце `purpose` и определите, какие подстроки помогут вам правильно определить категорию.**"
   ]
  },
  {
   "cell_type": "code",
   "execution_count": 20,
   "id": "43db7d7f",
   "metadata": {
    "deletable": false,
    "id": "e149fab4"
   },
   "outputs": [],
   "source": [
    "def categorize_purpose(row):\n",
    "    try:\n",
    "        if 'автом' in row:\n",
    "            return 'операции с автомобилем'\n",
    "        elif 'жил' in row or 'недвиж' in row:\n",
    "            return 'операции с недвижимостью'\n",
    "        elif 'свад' in row:\n",
    "            return 'проведение свадьбы'\n",
    "        elif 'образов' in row:\n",
    "            return 'получение образования'\n",
    "    except:\n",
    "        return 'нет категории'"
   ]
  },
  {
   "cell_type": "code",
   "execution_count": 21,
   "id": "cea3abf9",
   "metadata": {
    "deletable": false,
    "id": "bf36e69b"
   },
   "outputs": [],
   "source": [
    "data['purpose_category'] = data['purpose'].apply(categorize_purpose)"
   ]
  },
  {
   "cell_type": "markdown",
   "id": "443705b7",
   "metadata": {
    "deletable": false,
    "editable": false,
    "id": "09b242bf"
   },
   "source": [
    "### Шаг 3. Исследуйте данные и ответьте на вопросы"
   ]
  },
  {
   "cell_type": "markdown",
   "id": "3a12ed52",
   "metadata": {
    "deletable": false,
    "editable": false,
    "id": "c5d66278"
   },
   "source": [
    "#### 3.1 Есть ли зависимость между количеством детей и возвратом кредита в срок?"
   ]
  },
  {
   "cell_type": "code",
   "execution_count": 22,
   "id": "14d0733e",
   "metadata": {
    "deletable": false,
    "id": "2cacfc4a"
   },
   "outputs": [
    {
     "data": {
      "text/html": [
       "<div>\n",
       "<style scoped>\n",
       "    .dataframe tbody tr th:only-of-type {\n",
       "        vertical-align: middle;\n",
       "    }\n",
       "\n",
       "    .dataframe tbody tr th {\n",
       "        vertical-align: top;\n",
       "    }\n",
       "\n",
       "    .dataframe thead th {\n",
       "        text-align: right;\n",
       "    }\n",
       "</style>\n",
       "<table border=\"1\" class=\"dataframe\">\n",
       "  <thead>\n",
       "    <tr style=\"text-align: right;\">\n",
       "      <th></th>\n",
       "      <th>total</th>\n",
       "      <th>debtor</th>\n",
       "      <th>ratio, %</th>\n",
       "    </tr>\n",
       "    <tr>\n",
       "      <th>children</th>\n",
       "      <th></th>\n",
       "      <th></th>\n",
       "      <th></th>\n",
       "    </tr>\n",
       "  </thead>\n",
       "  <tbody>\n",
       "    <tr>\n",
       "      <th>0</th>\n",
       "      <td>14091</td>\n",
       "      <td>1063</td>\n",
       "      <td>7</td>\n",
       "    </tr>\n",
       "    <tr>\n",
       "      <th>1</th>\n",
       "      <td>4808</td>\n",
       "      <td>444</td>\n",
       "      <td>9</td>\n",
       "    </tr>\n",
       "    <tr>\n",
       "      <th>2</th>\n",
       "      <td>2052</td>\n",
       "      <td>194</td>\n",
       "      <td>9</td>\n",
       "    </tr>\n",
       "    <tr>\n",
       "      <th>3</th>\n",
       "      <td>330</td>\n",
       "      <td>27</td>\n",
       "      <td>8</td>\n",
       "    </tr>\n",
       "    <tr>\n",
       "      <th>4</th>\n",
       "      <td>41</td>\n",
       "      <td>4</td>\n",
       "      <td>9</td>\n",
       "    </tr>\n",
       "    <tr>\n",
       "      <th>5</th>\n",
       "      <td>9</td>\n",
       "      <td>0</td>\n",
       "      <td>0</td>\n",
       "    </tr>\n",
       "  </tbody>\n",
       "</table>\n",
       "</div>"
      ],
      "text/plain": [
       "          total  debtor  ratio, %\n",
       "children                         \n",
       "0         14091    1063         7\n",
       "1          4808     444         9\n",
       "2          2052     194         9\n",
       "3           330      27         8\n",
       "4            41       4         9\n",
       "5             9       0         0"
      ]
     },
     "execution_count": 22,
     "metadata": {},
     "output_type": "execute_result"
    }
   ],
   "source": [
    "data_children = data.pivot_table(index=['children'], values=['debt'], aggfunc=['count', 'sum']) #делаем сводную таблицу\n",
    "#где отображены категории целей кредита и в теле идет подсчет всего заемщиков и сколько дебиторов\n",
    "data_children.columns = ['total', 'debtor'] #переименовываем стобцы для удобства чтения таблицы\n",
    "data_children['ratio, %'] = data_children['debtor'] / data_children['total'] *100 #высчитываем долю дебеторов от общего кол-ва, в \n",
    "# в названии нового столбца указываем % чтобы понимать что цифры указаны в процентах\n",
    "data_children['ratio, %'] = data_children['ratio, %'].astype('int') #округляем доли до целого числа\n",
    "data_children"
   ]
  },
  {
   "cell_type": "markdown",
   "id": "15b3970a",
   "metadata": {
    "deletable": false,
    "id": "3a6b99ec"
   },
   "source": [
    "**Вывод:** Согласно полученным данным мы видим что возврат кредита в срок не зависит от количества детей у кредизаемщика. Доля не возвращенных кредитов на уровне 8-9%. Также полное отсутствие детей не значительно сказывается на возврате кредита в срок. Доля не возвращенных кредитов у клиентов без детей на уровне 7%. \n",
    "\n",
    "**Отвечая на вопрос**, есть зависимость между количеством детей и возвратом кредита в срок можно ответить так: Есть зависимость от наличия детей, т.е. если у кредитора нет детей то он чуть с большей вероятностью вернет кредит в срок.\n",
    "\n"
   ]
  },
  {
   "cell_type": "markdown",
   "id": "df67772c",
   "metadata": {},
   "source": [
    "<div class=\"alert alert-block alert-warning\">📝\n",
    "    \n",
    "\n",
    "__Комментарий от ревьюера №1__\n",
    "\n",
    "Здорово, что посчитала колличество заемщиков в каждой выборке, но тут стоит учесть неравнозначность выборок. \n",
    "    \n"
   ]
  },
  {
   "cell_type": "markdown",
   "id": "543dbcda",
   "metadata": {
    "deletable": false,
    "editable": false,
    "id": "97be82ca"
   },
   "source": [
    "#### 3.2 Есть ли зависимость между семейным положением и возвратом кредита в срок?"
   ]
  },
  {
   "cell_type": "code",
   "execution_count": 23,
   "id": "1516fe2a",
   "metadata": {
    "deletable": false,
    "id": "dc3f7ee8"
   },
   "outputs": [
    {
     "data": {
      "text/html": [
       "<div>\n",
       "<style scoped>\n",
       "    .dataframe tbody tr th:only-of-type {\n",
       "        vertical-align: middle;\n",
       "    }\n",
       "\n",
       "    .dataframe tbody tr th {\n",
       "        vertical-align: top;\n",
       "    }\n",
       "\n",
       "    .dataframe thead th {\n",
       "        text-align: right;\n",
       "    }\n",
       "</style>\n",
       "<table border=\"1\" class=\"dataframe\">\n",
       "  <thead>\n",
       "    <tr style=\"text-align: right;\">\n",
       "      <th></th>\n",
       "      <th>total</th>\n",
       "      <th>debtor</th>\n",
       "      <th>ratio, %</th>\n",
       "    </tr>\n",
       "    <tr>\n",
       "      <th>family_status</th>\n",
       "      <th></th>\n",
       "      <th></th>\n",
       "      <th></th>\n",
       "    </tr>\n",
       "  </thead>\n",
       "  <tbody>\n",
       "    <tr>\n",
       "      <th>Не женат / не замужем</th>\n",
       "      <td>2796</td>\n",
       "      <td>273</td>\n",
       "      <td>9</td>\n",
       "    </tr>\n",
       "    <tr>\n",
       "      <th>в разводе</th>\n",
       "      <td>1189</td>\n",
       "      <td>84</td>\n",
       "      <td>7</td>\n",
       "    </tr>\n",
       "    <tr>\n",
       "      <th>вдовец / вдова</th>\n",
       "      <td>951</td>\n",
       "      <td>63</td>\n",
       "      <td>6</td>\n",
       "    </tr>\n",
       "    <tr>\n",
       "      <th>гражданский брак</th>\n",
       "      <td>4134</td>\n",
       "      <td>385</td>\n",
       "      <td>9</td>\n",
       "    </tr>\n",
       "    <tr>\n",
       "      <th>женат / замужем</th>\n",
       "      <td>12261</td>\n",
       "      <td>927</td>\n",
       "      <td>7</td>\n",
       "    </tr>\n",
       "  </tbody>\n",
       "</table>\n",
       "</div>"
      ],
      "text/plain": [
       "                       total  debtor  ratio, %\n",
       "family_status                                 \n",
       "Не женат / не замужем   2796     273         9\n",
       "в разводе               1189      84         7\n",
       "вдовец / вдова           951      63         6\n",
       "гражданский брак        4134     385         9\n",
       "женат / замужем        12261     927         7"
      ]
     },
     "execution_count": 23,
     "metadata": {},
     "output_type": "execute_result"
    }
   ],
   "source": [
    "data_family_status = data.pivot_table(index=['family_status'], values=['debt'], aggfunc=['count', 'sum']) #делаем сводную таблицу\n",
    "#где отображены категории целей кредита и в теле идет подсчет всего заемщиков и сколько дебиторов\n",
    "data_family_status.columns = ['total', 'debtor'] #переименовываем стобцы для удобства чтения таблицы\n",
    "data_family_status['ratio, %'] = data_family_status['debtor'] / data_family_status['total'] *100 #высчитываем долю дебеторов от общего кол-ва, в \n",
    "# в названии нового столбца указываем % чтобы понимать что цифры указаны в процентах\n",
    "data_family_status['ratio, %'] = data_family_status['ratio, %'].astype('int') #округляем доли до целого числа\n",
    "data_family_status "
   ]
  },
  {
   "cell_type": "markdown",
   "id": "0436a7c0",
   "metadata": {
    "deletable": false,
    "id": "1cef7837"
   },
   "source": [
    "**Вывод:**  Люди, находящиеся в гражданском браке или не женатые находятся в зоне риска невозврата кредитных средств в срок."
   ]
  },
  {
   "cell_type": "markdown",
   "id": "56d0c4a3",
   "metadata": {
    "deletable": false,
    "editable": false,
    "id": "1e8b2fca"
   },
   "source": [
    "#### 3.3 Есть ли зависимость между уровнем дохода и возвратом кредита в срок?"
   ]
  },
  {
   "cell_type": "code",
   "execution_count": 24,
   "id": "58ea58b7",
   "metadata": {
    "deletable": false,
    "id": "cd7e3720"
   },
   "outputs": [
    {
     "data": {
      "text/html": [
       "<div>\n",
       "<style scoped>\n",
       "    .dataframe tbody tr th:only-of-type {\n",
       "        vertical-align: middle;\n",
       "    }\n",
       "\n",
       "    .dataframe tbody tr th {\n",
       "        vertical-align: top;\n",
       "    }\n",
       "\n",
       "    .dataframe thead th {\n",
       "        text-align: right;\n",
       "    }\n",
       "</style>\n",
       "<table border=\"1\" class=\"dataframe\">\n",
       "  <thead>\n",
       "    <tr style=\"text-align: right;\">\n",
       "      <th></th>\n",
       "      <th>total</th>\n",
       "      <th>debtor</th>\n",
       "      <th>ratio, %</th>\n",
       "    </tr>\n",
       "    <tr>\n",
       "      <th>total_income_category</th>\n",
       "      <th></th>\n",
       "      <th></th>\n",
       "      <th></th>\n",
       "    </tr>\n",
       "  </thead>\n",
       "  <tbody>\n",
       "    <tr>\n",
       "      <th>A</th>\n",
       "      <td>25</td>\n",
       "      <td>2</td>\n",
       "      <td>8</td>\n",
       "    </tr>\n",
       "    <tr>\n",
       "      <th>B</th>\n",
       "      <td>5014</td>\n",
       "      <td>354</td>\n",
       "      <td>7</td>\n",
       "    </tr>\n",
       "    <tr>\n",
       "      <th>C</th>\n",
       "      <td>15921</td>\n",
       "      <td>1353</td>\n",
       "      <td>8</td>\n",
       "    </tr>\n",
       "    <tr>\n",
       "      <th>D</th>\n",
       "      <td>349</td>\n",
       "      <td>21</td>\n",
       "      <td>6</td>\n",
       "    </tr>\n",
       "    <tr>\n",
       "      <th>E</th>\n",
       "      <td>22</td>\n",
       "      <td>2</td>\n",
       "      <td>9</td>\n",
       "    </tr>\n",
       "  </tbody>\n",
       "</table>\n",
       "</div>"
      ],
      "text/plain": [
       "                       total  debtor  ratio, %\n",
       "total_income_category                         \n",
       "A                         25       2         8\n",
       "B                       5014     354         7\n",
       "C                      15921    1353         8\n",
       "D                        349      21         6\n",
       "E                         22       2         9"
      ]
     },
     "execution_count": 24,
     "metadata": {},
     "output_type": "execute_result"
    }
   ],
   "source": [
    "data_income = data.pivot_table(index=['total_income_category'], values=['debt'], aggfunc=['count', 'sum']) #делаем сводную таблицу\n",
    "#где отображены категории целей кредита и в теле идет подсчет всего заемщиков и сколько дебиторов\n",
    "data_income.columns = ['total', 'debtor'] #переименовываем стобцы для удобства чтения таблицы\n",
    "data_income['ratio, %'] = data_income['debtor'] / data_income['total'] *100 #высчитываем долю дебеторов от общего кол-ва, в \n",
    "# в названии нового столбца указываем % чтобы понимать что цифры указаны в процентах\n",
    "data_income['ratio, %'] = data_income['ratio, %'].astype('int') #округляем доли до целого числа\n",
    "data_income"
   ]
  },
  {
   "cell_type": "markdown",
   "id": "ee656aca",
   "metadata": {
    "deletable": false,
    "id": "e8593def"
   },
   "source": [
    "**Вывод:** Люди с достатком в категории D (30 000 руб - 50 000 руб) более отвественно возвращают кредит. Однако стоит учитывать что категории A, D и E не показательны т.к. данных по ним сравнительно меньше других категорий."
   ]
  },
  {
   "cell_type": "markdown",
   "id": "078d01a8",
   "metadata": {
    "deletable": false,
    "editable": false,
    "id": "99ecbd1f"
   },
   "source": [
    "#### 3.4 Как разные цели кредита влияют на его возврат в срок?"
   ]
  },
  {
   "cell_type": "code",
   "execution_count": 25,
   "id": "975188c1",
   "metadata": {
    "deletable": false,
    "id": "2b687290"
   },
   "outputs": [
    {
     "data": {
      "text/html": [
       "<div>\n",
       "<style scoped>\n",
       "    .dataframe tbody tr th:only-of-type {\n",
       "        vertical-align: middle;\n",
       "    }\n",
       "\n",
       "    .dataframe tbody tr th {\n",
       "        vertical-align: top;\n",
       "    }\n",
       "\n",
       "    .dataframe thead th {\n",
       "        text-align: right;\n",
       "    }\n",
       "</style>\n",
       "<table border=\"1\" class=\"dataframe\">\n",
       "  <thead>\n",
       "    <tr style=\"text-align: right;\">\n",
       "      <th></th>\n",
       "      <th>total</th>\n",
       "      <th>debtor</th>\n",
       "      <th>ratio, %</th>\n",
       "    </tr>\n",
       "    <tr>\n",
       "      <th>purpose_category</th>\n",
       "      <th></th>\n",
       "      <th></th>\n",
       "      <th></th>\n",
       "    </tr>\n",
       "  </thead>\n",
       "  <tbody>\n",
       "    <tr>\n",
       "      <th>операции с автомобилем</th>\n",
       "      <td>4279</td>\n",
       "      <td>400</td>\n",
       "      <td>9</td>\n",
       "    </tr>\n",
       "    <tr>\n",
       "      <th>операции с недвижимостью</th>\n",
       "      <td>10751</td>\n",
       "      <td>780</td>\n",
       "      <td>7</td>\n",
       "    </tr>\n",
       "    <tr>\n",
       "      <th>получение образования</th>\n",
       "      <td>3988</td>\n",
       "      <td>369</td>\n",
       "      <td>9</td>\n",
       "    </tr>\n",
       "    <tr>\n",
       "      <th>проведение свадьбы</th>\n",
       "      <td>2313</td>\n",
       "      <td>183</td>\n",
       "      <td>7</td>\n",
       "    </tr>\n",
       "  </tbody>\n",
       "</table>\n",
       "</div>"
      ],
      "text/plain": [
       "                          total  debtor  ratio, %\n",
       "purpose_category                                 \n",
       "операции с автомобилем     4279     400         9\n",
       "операции с недвижимостью  10751     780         7\n",
       "получение образования      3988     369         9\n",
       "проведение свадьбы         2313     183         7"
      ]
     },
     "execution_count": 25,
     "metadata": {},
     "output_type": "execute_result"
    }
   ],
   "source": [
    "data_purpose = data.pivot_table(index=['purpose_category'], values=['debt'], aggfunc=['count', 'sum']) #делаем сводную таблицу\n",
    "#где отображены категории целей кредита и в теле идет подсчет всего заемщиков и сколько дебиторов\n",
    "data_purpose.columns = ['total', 'debtor'] #переименовываем стобцы для удобства чтения таблицы\n",
    "data_purpose['ratio, %'] = data_purpose['debtor'] / data_purpose['total'] *100 #высчитываем долю дебеторов от общего кол-ва, в \n",
    "# в названии нового столбца указываем % чтобы понимать что цифры указаны в процентах\n",
    "data_purpose['ratio, %'] = data_purpose['ratio, %'].astype('int') #округляем доли до целого числа\n",
    "data_purpose"
   ]
  },
  {
   "cell_type": "markdown",
   "id": "adb4f63e",
   "metadata": {
    "deletable": false,
    "id": "b4bb2ce6"
   },
   "source": [
    "**Вывод:** Операции с недвижимостью и проведение свадьбы являются более надежными целями для кредита которых возвращают в срок."
   ]
  },
  {
   "cell_type": "markdown",
   "id": "1cdbaeeb",
   "metadata": {
    "deletable": false,
    "editable": false,
    "id": "09c3ac4c"
   },
   "source": [
    "#### 3.5 Приведите возможные причины появления пропусков в исходных данных."
   ]
  },
  {
   "cell_type": "markdown",
   "id": "21ed732c",
   "metadata": {
    "deletable": false,
    "id": "9da2ceda"
   },
   "source": [
    "*Ответ:* \n",
    "\n",
    "Пропуски бывают **трех** типов:\n",
    "\n",
    "* Полностью случайные,\n",
    "\n",
    "* Случайные,\n",
    "\n",
    "* Неслучайные.\n",
    "\n",
    "В данном датафрейме думаю пропуски являются полностью *случайными*."
   ]
  },
  {
   "cell_type": "markdown",
   "id": "3f6fa6c9",
   "metadata": {
    "deletable": false,
    "editable": false,
    "id": "7b0487d6"
   },
   "source": [
    "#### 3.6 Объясните, почему заполнить пропуски медианным значением — лучшее решение для количественных переменных."
   ]
  },
  {
   "cell_type": "markdown",
   "id": "8ca1368a",
   "metadata": {
    "deletable": false,
    "id": "7ecf2b8e"
   },
   "source": [
    "*Ответ:* \n",
    "\n",
    "**Среднее арифметическое** значение не подходит когда есть слишком оторванные от основной массы значения. Поэтому в случае с количественными переменными правильнее всего будет использовать **медианные значения**."
   ]
  },
  {
   "cell_type": "markdown",
   "id": "e2f03517",
   "metadata": {
    "deletable": false,
    "editable": false,
    "id": "6db5255a"
   },
   "source": [
    "### Шаг 4: общий вывод."
   ]
  },
  {
   "cell_type": "markdown",
   "id": "cbed8a7b",
   "metadata": {
    "deletable": false,
    "id": "bad65432"
   },
   "source": [
    "По итогам анализа можно **точно** выделить категории которые находятся **в зоне риска** невозврата кредита в срок:\n",
    "\n",
    "* люди у которых есть дети от 1-го и более*,\n",
    "* люди не находящиеся и не находившиеся в *официальном* браке\n",
    "* люди с доходом от 50 000 - 200 000 руб *\n",
    "* люди которые берут кредит на *операции с автомобилем* и на *получение образования*\n",
    "\n",
    "Категории которые **более ответсвенно** возвращают кредит в срок:\n",
    "\n",
    "* люди не имеющие детей\n",
    "* люди находящиеся или находившиеся в *официальном браке*\n",
    "* люди с доходом от 200 000 - 1 000 000 руб *\n",
    "* люди которые берут кредит на *операции с недвижимостью* и на *проведение свадьбы*\n",
    "\n",
    "*Также прошу учесть что по нескольким категориям недостаточное количество данных для сравнительной аналитики такие как:\n",
    "* люди с детьми от 3-х и более\n",
    "* люди с доходом в категории A, D и E \n",
    "\n",
    "\n",
    "(А - 1 000 000 руб и более\n",
    "D - 30 000 - 50 000 руб\n",
    "E - 30 000 руб и менее)\n"
   ]
  }
 ],
 "metadata": {
  "ExecuteTimeLog": [
   {
    "duration": 477,
    "start_time": "2022-09-26T18:29:19.537Z"
   },
   {
    "duration": 45,
    "start_time": "2022-09-27T16:25:37.434Z"
   },
   {
    "duration": 694,
    "start_time": "2022-09-27T16:26:14.515Z"
   },
   {
    "duration": 23,
    "start_time": "2022-09-27T16:26:15.211Z"
   },
   {
    "duration": 17,
    "start_time": "2022-09-27T16:26:15.235Z"
   },
   {
    "duration": 18,
    "start_time": "2022-09-27T16:26:15.254Z"
   },
   {
    "duration": 34,
    "start_time": "2022-09-27T16:26:15.273Z"
   },
   {
    "duration": 4,
    "start_time": "2022-09-27T16:26:15.308Z"
   },
   {
    "duration": 21,
    "start_time": "2022-09-27T16:26:15.313Z"
   },
   {
    "duration": 4,
    "start_time": "2022-09-27T16:26:15.336Z"
   },
   {
    "duration": 14,
    "start_time": "2022-09-27T16:26:15.341Z"
   },
   {
    "duration": 5,
    "start_time": "2022-09-27T16:26:15.357Z"
   },
   {
    "duration": 36,
    "start_time": "2022-09-27T16:26:15.363Z"
   },
   {
    "duration": 33,
    "start_time": "2022-09-27T16:26:15.401Z"
   },
   {
    "duration": 3,
    "start_time": "2022-09-27T16:26:15.436Z"
   },
   {
    "duration": 14,
    "start_time": "2022-09-27T16:26:15.440Z"
   },
   {
    "duration": 22,
    "start_time": "2022-09-27T16:26:15.456Z"
   },
   {
    "duration": 18,
    "start_time": "2022-09-27T16:26:15.480Z"
   },
   {
    "duration": 3,
    "start_time": "2022-09-27T16:26:15.500Z"
   },
   {
    "duration": 37,
    "start_time": "2022-09-27T16:26:15.505Z"
   },
   {
    "duration": 9,
    "start_time": "2022-09-27T16:26:15.543Z"
   },
   {
    "duration": 4,
    "start_time": "2022-09-27T16:26:15.553Z"
   },
   {
    "duration": 16,
    "start_time": "2022-09-27T16:26:15.559Z"
   },
   {
    "duration": 77,
    "start_time": "2022-09-27T16:26:15.576Z"
   },
   {
    "duration": 0,
    "start_time": "2022-09-27T16:26:15.655Z"
   },
   {
    "duration": 0,
    "start_time": "2022-09-27T16:26:15.656Z"
   },
   {
    "duration": 0,
    "start_time": "2022-09-27T16:26:15.657Z"
   },
   {
    "duration": 10,
    "start_time": "2022-09-27T16:26:20.383Z"
   },
   {
    "duration": 5,
    "start_time": "2022-09-27T16:26:47.032Z"
   },
   {
    "duration": 6,
    "start_time": "2022-09-27T16:26:55.132Z"
   },
   {
    "duration": 6,
    "start_time": "2022-09-27T16:27:09.790Z"
   },
   {
    "duration": 6,
    "start_time": "2022-09-27T16:27:14.298Z"
   },
   {
    "duration": 189,
    "start_time": "2022-09-27T16:29:00.179Z"
   },
   {
    "duration": 185,
    "start_time": "2022-09-27T16:29:02.631Z"
   },
   {
    "duration": 208,
    "start_time": "2022-09-27T16:29:11.536Z"
   },
   {
    "duration": 228,
    "start_time": "2022-09-27T16:30:36.285Z"
   },
   {
    "duration": 198,
    "start_time": "2022-09-27T16:31:51.634Z"
   },
   {
    "duration": 177,
    "start_time": "2022-09-27T16:34:24.686Z"
   },
   {
    "duration": 66,
    "start_time": "2022-09-27T16:53:45.016Z"
   },
   {
    "duration": 191,
    "start_time": "2022-09-27T16:53:56.749Z"
   },
   {
    "duration": 469,
    "start_time": "2022-09-27T16:54:07.446Z"
   },
   {
    "duration": 23,
    "start_time": "2022-09-27T16:54:07.917Z"
   },
   {
    "duration": 17,
    "start_time": "2022-09-27T16:54:07.942Z"
   },
   {
    "duration": 11,
    "start_time": "2022-09-27T16:54:07.961Z"
   },
   {
    "duration": 33,
    "start_time": "2022-09-27T16:54:07.973Z"
   },
   {
    "duration": 3,
    "start_time": "2022-09-27T16:54:08.007Z"
   },
   {
    "duration": 8,
    "start_time": "2022-09-27T16:54:08.034Z"
   },
   {
    "duration": 5,
    "start_time": "2022-09-27T16:54:08.043Z"
   },
   {
    "duration": 11,
    "start_time": "2022-09-27T16:54:08.050Z"
   },
   {
    "duration": 4,
    "start_time": "2022-09-27T16:54:08.063Z"
   },
   {
    "duration": 35,
    "start_time": "2022-09-27T16:54:08.069Z"
   },
   {
    "duration": 31,
    "start_time": "2022-09-27T16:54:08.106Z"
   },
   {
    "duration": 5,
    "start_time": "2022-09-27T16:54:08.139Z"
   },
   {
    "duration": 18,
    "start_time": "2022-09-27T16:54:08.146Z"
   },
   {
    "duration": 25,
    "start_time": "2022-09-27T16:54:08.165Z"
   },
   {
    "duration": 18,
    "start_time": "2022-09-27T16:54:08.191Z"
   },
   {
    "duration": 24,
    "start_time": "2022-09-27T16:54:08.211Z"
   },
   {
    "duration": 11,
    "start_time": "2022-09-27T16:54:08.237Z"
   },
   {
    "duration": 10,
    "start_time": "2022-09-27T16:54:08.249Z"
   },
   {
    "duration": 6,
    "start_time": "2022-09-27T16:54:08.261Z"
   },
   {
    "duration": 10,
    "start_time": "2022-09-27T16:54:08.269Z"
   },
   {
    "duration": 245,
    "start_time": "2022-09-27T16:54:08.281Z"
   },
   {
    "duration": 0,
    "start_time": "2022-09-27T16:54:08.527Z"
   },
   {
    "duration": 0,
    "start_time": "2022-09-27T16:54:08.533Z"
   },
   {
    "duration": 0,
    "start_time": "2022-09-27T16:54:08.534Z"
   },
   {
    "duration": 186,
    "start_time": "2022-09-27T16:55:00.443Z"
   },
   {
    "duration": 186,
    "start_time": "2022-09-27T16:55:10.223Z"
   },
   {
    "duration": 179,
    "start_time": "2022-09-27T16:55:57.999Z"
   },
   {
    "duration": 175,
    "start_time": "2022-09-27T16:56:29.148Z"
   },
   {
    "duration": 189,
    "start_time": "2022-09-27T16:59:40.551Z"
   },
   {
    "duration": 210,
    "start_time": "2022-09-27T17:00:06.291Z"
   },
   {
    "duration": 175,
    "start_time": "2022-09-27T17:00:37.218Z"
   },
   {
    "duration": 192,
    "start_time": "2022-09-27T17:00:59.634Z"
   },
   {
    "duration": 177,
    "start_time": "2022-09-27T17:01:10.406Z"
   },
   {
    "duration": 171,
    "start_time": "2022-09-27T17:01:22.356Z"
   },
   {
    "duration": 180,
    "start_time": "2022-09-27T17:02:13.439Z"
   },
   {
    "duration": 183,
    "start_time": "2022-09-27T17:04:30.924Z"
   },
   {
    "duration": 55,
    "start_time": "2022-09-27T17:09:58.708Z"
   },
   {
    "duration": 108,
    "start_time": "2022-09-27T17:10:28.570Z"
   },
   {
    "duration": 50,
    "start_time": "2022-09-27T17:10:41.454Z"
   },
   {
    "duration": 489,
    "start_time": "2022-09-27T17:10:46.821Z"
   },
   {
    "duration": 21,
    "start_time": "2022-09-27T17:10:47.311Z"
   },
   {
    "duration": 13,
    "start_time": "2022-09-27T17:10:47.334Z"
   },
   {
    "duration": 10,
    "start_time": "2022-09-27T17:10:47.350Z"
   },
   {
    "duration": 36,
    "start_time": "2022-09-27T17:10:47.362Z"
   },
   {
    "duration": 4,
    "start_time": "2022-09-27T17:10:47.399Z"
   },
   {
    "duration": 33,
    "start_time": "2022-09-27T17:10:47.404Z"
   },
   {
    "duration": 4,
    "start_time": "2022-09-27T17:10:47.439Z"
   },
   {
    "duration": 11,
    "start_time": "2022-09-27T17:10:47.444Z"
   },
   {
    "duration": 4,
    "start_time": "2022-09-27T17:10:47.457Z"
   },
   {
    "duration": 34,
    "start_time": "2022-09-27T17:10:47.462Z"
   },
   {
    "duration": 9,
    "start_time": "2022-09-27T17:10:47.498Z"
   },
   {
    "duration": 4,
    "start_time": "2022-09-27T17:10:47.533Z"
   },
   {
    "duration": 14,
    "start_time": "2022-09-27T17:10:47.539Z"
   },
   {
    "duration": 22,
    "start_time": "2022-09-27T17:10:47.554Z"
   },
   {
    "duration": 16,
    "start_time": "2022-09-27T17:10:47.577Z"
   },
   {
    "duration": 3,
    "start_time": "2022-09-27T17:10:47.595Z"
   },
   {
    "duration": 33,
    "start_time": "2022-09-27T17:10:47.600Z"
   },
   {
    "duration": 5,
    "start_time": "2022-09-27T17:10:47.635Z"
   },
   {
    "duration": 5,
    "start_time": "2022-09-27T17:10:47.641Z"
   },
   {
    "duration": 11,
    "start_time": "2022-09-27T17:10:47.647Z"
   },
   {
    "duration": 90,
    "start_time": "2022-09-27T17:10:47.659Z"
   },
   {
    "duration": 0,
    "start_time": "2022-09-27T17:10:47.751Z"
   },
   {
    "duration": 0,
    "start_time": "2022-09-27T17:10:47.752Z"
   },
   {
    "duration": 0,
    "start_time": "2022-09-27T17:10:47.753Z"
   },
   {
    "duration": 62,
    "start_time": "2022-09-27T17:10:58.088Z"
   },
   {
    "duration": 52,
    "start_time": "2022-09-27T17:11:05.898Z"
   },
   {
    "duration": 54,
    "start_time": "2022-09-27T17:11:09.711Z"
   },
   {
    "duration": 198,
    "start_time": "2022-09-27T17:11:24.275Z"
   },
   {
    "duration": 187,
    "start_time": "2022-09-27T17:13:41.837Z"
   },
   {
    "duration": 197,
    "start_time": "2022-09-27T17:14:54.416Z"
   },
   {
    "duration": 176,
    "start_time": "2022-09-27T17:14:59.153Z"
   },
   {
    "duration": 186,
    "start_time": "2022-09-27T17:15:05.637Z"
   },
   {
    "duration": 248,
    "start_time": "2022-09-27T17:15:20.017Z"
   },
   {
    "duration": 193,
    "start_time": "2022-09-27T17:15:28.877Z"
   },
   {
    "duration": 469,
    "start_time": "2022-09-27T17:15:36.161Z"
   },
   {
    "duration": 22,
    "start_time": "2022-09-27T17:15:36.632Z"
   },
   {
    "duration": 13,
    "start_time": "2022-09-27T17:15:36.655Z"
   },
   {
    "duration": 9,
    "start_time": "2022-09-27T17:15:36.670Z"
   },
   {
    "duration": 53,
    "start_time": "2022-09-27T17:15:36.681Z"
   },
   {
    "duration": 3,
    "start_time": "2022-09-27T17:15:36.736Z"
   },
   {
    "duration": 12,
    "start_time": "2022-09-27T17:15:36.740Z"
   },
   {
    "duration": 4,
    "start_time": "2022-09-27T17:15:36.753Z"
   },
   {
    "duration": 11,
    "start_time": "2022-09-27T17:15:36.758Z"
   },
   {
    "duration": 5,
    "start_time": "2022-09-27T17:15:36.771Z"
   },
   {
    "duration": 57,
    "start_time": "2022-09-27T17:15:36.778Z"
   },
   {
    "duration": 10,
    "start_time": "2022-09-27T17:15:36.837Z"
   },
   {
    "duration": 3,
    "start_time": "2022-09-27T17:15:36.849Z"
   },
   {
    "duration": 12,
    "start_time": "2022-09-27T17:15:36.854Z"
   },
   {
    "duration": 18,
    "start_time": "2022-09-27T17:15:36.868Z"
   },
   {
    "duration": 46,
    "start_time": "2022-09-27T17:15:36.887Z"
   },
   {
    "duration": 4,
    "start_time": "2022-09-27T17:15:36.935Z"
   },
   {
    "duration": 16,
    "start_time": "2022-09-27T17:15:36.940Z"
   },
   {
    "duration": 11,
    "start_time": "2022-09-27T17:15:36.958Z"
   },
   {
    "duration": 4,
    "start_time": "2022-09-27T17:15:36.971Z"
   },
   {
    "duration": 14,
    "start_time": "2022-09-27T17:15:36.976Z"
   },
   {
    "duration": 211,
    "start_time": "2022-09-27T17:15:36.991Z"
   },
   {
    "duration": 2,
    "start_time": "2022-09-27T17:15:37.204Z"
   },
   {
    "duration": 5,
    "start_time": "2022-09-27T17:15:37.208Z"
   },
   {
    "duration": 4,
    "start_time": "2022-09-27T17:15:37.215Z"
   },
   {
    "duration": 864,
    "start_time": "2022-09-27T17:46:31.878Z"
   },
   {
    "duration": 801,
    "start_time": "2022-09-27T17:46:45.721Z"
   },
   {
    "duration": 432,
    "start_time": "2022-09-27T17:47:08.984Z"
   },
   {
    "duration": 21,
    "start_time": "2022-09-27T17:47:09.418Z"
   },
   {
    "duration": 15,
    "start_time": "2022-09-27T17:47:09.441Z"
   },
   {
    "duration": 10,
    "start_time": "2022-09-27T17:47:09.459Z"
   },
   {
    "duration": 32,
    "start_time": "2022-09-27T17:47:09.470Z"
   },
   {
    "duration": 29,
    "start_time": "2022-09-27T17:47:09.504Z"
   },
   {
    "duration": 8,
    "start_time": "2022-09-27T17:47:09.535Z"
   },
   {
    "duration": 6,
    "start_time": "2022-09-27T17:47:09.544Z"
   },
   {
    "duration": 8,
    "start_time": "2022-09-27T17:47:09.552Z"
   },
   {
    "duration": 9,
    "start_time": "2022-09-27T17:47:09.562Z"
   },
   {
    "duration": 34,
    "start_time": "2022-09-27T17:47:09.572Z"
   },
   {
    "duration": 25,
    "start_time": "2022-09-27T17:47:09.608Z"
   },
   {
    "duration": 3,
    "start_time": "2022-09-27T17:47:09.635Z"
   },
   {
    "duration": 14,
    "start_time": "2022-09-27T17:47:09.640Z"
   },
   {
    "duration": 20,
    "start_time": "2022-09-27T17:47:09.656Z"
   },
   {
    "duration": 16,
    "start_time": "2022-09-27T17:47:09.678Z"
   },
   {
    "duration": 7,
    "start_time": "2022-09-27T17:47:09.696Z"
   },
   {
    "duration": 19,
    "start_time": "2022-09-27T17:47:09.704Z"
   },
   {
    "duration": 7,
    "start_time": "2022-09-27T17:47:09.733Z"
   },
   {
    "duration": 9,
    "start_time": "2022-09-27T17:47:09.741Z"
   },
   {
    "duration": 28,
    "start_time": "2022-09-27T17:47:09.751Z"
   },
   {
    "duration": 196,
    "start_time": "2022-09-27T17:47:09.780Z"
   },
   {
    "duration": 1077,
    "start_time": "2022-09-27T17:47:09.978Z"
   },
   {
    "duration": 0,
    "start_time": "2022-09-27T17:47:11.057Z"
   },
   {
    "duration": 0,
    "start_time": "2022-09-27T17:47:11.058Z"
   },
   {
    "duration": 195,
    "start_time": "2022-09-27T17:47:53.843Z"
   },
   {
    "duration": 205,
    "start_time": "2022-09-27T17:48:39.638Z"
   },
   {
    "duration": 193,
    "start_time": "2022-09-27T17:50:00.869Z"
   },
   {
    "duration": 209,
    "start_time": "2022-09-27T17:50:11.626Z"
   },
   {
    "duration": 432,
    "start_time": "2022-09-27T17:50:17.496Z"
   },
   {
    "duration": 21,
    "start_time": "2022-09-27T17:50:17.929Z"
   },
   {
    "duration": 13,
    "start_time": "2022-09-27T17:50:17.951Z"
   },
   {
    "duration": 9,
    "start_time": "2022-09-27T17:50:17.966Z"
   },
   {
    "duration": 33,
    "start_time": "2022-09-27T17:50:17.976Z"
   },
   {
    "duration": 23,
    "start_time": "2022-09-27T17:50:18.011Z"
   },
   {
    "duration": 9,
    "start_time": "2022-09-27T17:50:18.036Z"
   },
   {
    "duration": 5,
    "start_time": "2022-09-27T17:50:18.047Z"
   },
   {
    "duration": 7,
    "start_time": "2022-09-27T17:50:18.054Z"
   },
   {
    "duration": 5,
    "start_time": "2022-09-27T17:50:18.064Z"
   },
   {
    "duration": 33,
    "start_time": "2022-09-27T17:50:18.071Z"
   },
   {
    "duration": 32,
    "start_time": "2022-09-27T17:50:18.105Z"
   },
   {
    "duration": 4,
    "start_time": "2022-09-27T17:50:18.139Z"
   },
   {
    "duration": 14,
    "start_time": "2022-09-27T17:50:18.145Z"
   },
   {
    "duration": 29,
    "start_time": "2022-09-27T17:50:18.161Z"
   },
   {
    "duration": 18,
    "start_time": "2022-09-27T17:50:18.192Z"
   },
   {
    "duration": 21,
    "start_time": "2022-09-27T17:50:18.212Z"
   },
   {
    "duration": 12,
    "start_time": "2022-09-27T17:50:18.235Z"
   },
   {
    "duration": 5,
    "start_time": "2022-09-27T17:50:18.249Z"
   },
   {
    "duration": 3,
    "start_time": "2022-09-27T17:50:18.255Z"
   },
   {
    "duration": 14,
    "start_time": "2022-09-27T17:50:18.259Z"
   },
   {
    "duration": 209,
    "start_time": "2022-09-27T17:50:18.275Z"
   },
   {
    "duration": 203,
    "start_time": "2022-09-27T17:50:18.486Z"
   },
   {
    "duration": 3,
    "start_time": "2022-09-27T17:50:18.690Z"
   },
   {
    "duration": 8,
    "start_time": "2022-09-27T17:50:18.694Z"
   },
   {
    "duration": 199,
    "start_time": "2022-09-27T17:50:28.899Z"
   },
   {
    "duration": 4,
    "start_time": "2022-09-27T17:50:46.444Z"
   },
   {
    "duration": 7,
    "start_time": "2022-09-27T17:50:55.830Z"
   },
   {
    "duration": 6,
    "start_time": "2022-09-27T17:51:03.224Z"
   },
   {
    "duration": 208,
    "start_time": "2022-09-27T17:51:19.190Z"
   },
   {
    "duration": 201,
    "start_time": "2022-09-27T17:52:26.652Z"
   },
   {
    "duration": 200,
    "start_time": "2022-09-27T17:53:22.618Z"
   },
   {
    "duration": 192,
    "start_time": "2022-09-27T17:53:48.928Z"
   },
   {
    "duration": 208,
    "start_time": "2022-09-27T17:54:03.183Z"
   },
   {
    "duration": 1163,
    "start_time": "2022-09-27T17:55:00.045Z"
   },
   {
    "duration": 1029,
    "start_time": "2022-09-27T17:55:11.103Z"
   },
   {
    "duration": 1227,
    "start_time": "2022-09-27T17:55:42.022Z"
   },
   {
    "duration": 872,
    "start_time": "2022-09-27T17:56:21.994Z"
   },
   {
    "duration": 1272,
    "start_time": "2022-09-27T18:03:22.030Z"
   },
   {
    "duration": 1212,
    "start_time": "2022-09-27T18:04:04.174Z"
   },
   {
    "duration": 991,
    "start_time": "2022-09-27T18:04:27.796Z"
   },
   {
    "duration": 1142,
    "start_time": "2022-09-27T18:11:29.973Z"
   },
   {
    "duration": 799,
    "start_time": "2022-09-27T18:15:31.865Z"
   },
   {
    "duration": 485,
    "start_time": "2022-09-27T18:15:37.214Z"
   },
   {
    "duration": 20,
    "start_time": "2022-09-27T18:15:37.701Z"
   },
   {
    "duration": 43,
    "start_time": "2022-09-27T18:15:37.723Z"
   },
   {
    "duration": 9,
    "start_time": "2022-09-27T18:15:37.768Z"
   },
   {
    "duration": 37,
    "start_time": "2022-09-27T18:15:37.778Z"
   },
   {
    "duration": 16,
    "start_time": "2022-09-27T18:15:37.817Z"
   },
   {
    "duration": 26,
    "start_time": "2022-09-27T18:15:37.834Z"
   },
   {
    "duration": 20,
    "start_time": "2022-09-27T18:15:37.862Z"
   },
   {
    "duration": 20,
    "start_time": "2022-09-27T18:15:37.883Z"
   },
   {
    "duration": 28,
    "start_time": "2022-09-27T18:15:37.905Z"
   },
   {
    "duration": 61,
    "start_time": "2022-09-27T18:15:37.934Z"
   },
   {
    "duration": 14,
    "start_time": "2022-09-27T18:15:37.997Z"
   },
   {
    "duration": 11,
    "start_time": "2022-09-27T18:15:38.012Z"
   },
   {
    "duration": 29,
    "start_time": "2022-09-27T18:15:38.024Z"
   },
   {
    "duration": 50,
    "start_time": "2022-09-27T18:15:38.054Z"
   },
   {
    "duration": 24,
    "start_time": "2022-09-27T18:15:38.105Z"
   },
   {
    "duration": 28,
    "start_time": "2022-09-27T18:15:38.131Z"
   },
   {
    "duration": 30,
    "start_time": "2022-09-27T18:15:38.161Z"
   },
   {
    "duration": 23,
    "start_time": "2022-09-27T18:15:38.193Z"
   },
   {
    "duration": 34,
    "start_time": "2022-09-27T18:15:38.217Z"
   },
   {
    "duration": 36,
    "start_time": "2022-09-27T18:15:38.252Z"
   },
   {
    "duration": 197,
    "start_time": "2022-09-27T18:15:38.289Z"
   },
   {
    "duration": 806,
    "start_time": "2022-09-27T18:15:38.488Z"
   },
   {
    "duration": 0,
    "start_time": "2022-09-27T18:15:39.296Z"
   },
   {
    "duration": 0,
    "start_time": "2022-09-27T18:15:39.297Z"
   },
   {
    "duration": 4,
    "start_time": "2022-09-27T18:16:59.296Z"
   },
   {
    "duration": 5,
    "start_time": "2022-09-27T18:17:34.911Z"
   },
   {
    "duration": 8,
    "start_time": "2022-09-27T18:17:46.256Z"
   },
   {
    "duration": 7,
    "start_time": "2022-09-27T18:19:22.461Z"
   },
   {
    "duration": 5,
    "start_time": "2022-09-27T18:19:32.952Z"
   },
   {
    "duration": 919,
    "start_time": "2022-09-27T18:19:41.805Z"
   },
   {
    "duration": 17,
    "start_time": "2022-09-27T18:24:18.228Z"
   },
   {
    "duration": 1016,
    "start_time": "2022-09-27T18:28:48.698Z"
   },
   {
    "duration": 470,
    "start_time": "2022-09-27T18:30:01.449Z"
   },
   {
    "duration": 22,
    "start_time": "2022-09-27T18:30:01.921Z"
   },
   {
    "duration": 29,
    "start_time": "2022-09-27T18:30:01.945Z"
   },
   {
    "duration": 22,
    "start_time": "2022-09-27T18:30:01.976Z"
   },
   {
    "duration": 52,
    "start_time": "2022-09-27T18:30:02.000Z"
   },
   {
    "duration": 4,
    "start_time": "2022-09-27T18:30:02.055Z"
   },
   {
    "duration": 10,
    "start_time": "2022-09-27T18:30:02.061Z"
   },
   {
    "duration": 6,
    "start_time": "2022-09-27T18:30:02.073Z"
   },
   {
    "duration": 36,
    "start_time": "2022-09-27T18:30:02.080Z"
   },
   {
    "duration": 39,
    "start_time": "2022-09-27T18:30:02.120Z"
   },
   {
    "duration": 66,
    "start_time": "2022-09-27T18:30:02.162Z"
   },
   {
    "duration": 15,
    "start_time": "2022-09-27T18:30:02.230Z"
   },
   {
    "duration": 39,
    "start_time": "2022-09-27T18:30:02.247Z"
   },
   {
    "duration": 25,
    "start_time": "2022-09-27T18:30:02.288Z"
   },
   {
    "duration": 24,
    "start_time": "2022-09-27T18:30:02.316Z"
   },
   {
    "duration": 17,
    "start_time": "2022-09-27T18:30:02.342Z"
   },
   {
    "duration": 4,
    "start_time": "2022-09-27T18:30:02.361Z"
   },
   {
    "duration": 14,
    "start_time": "2022-09-27T18:30:02.366Z"
   },
   {
    "duration": 16,
    "start_time": "2022-09-27T18:30:02.382Z"
   },
   {
    "duration": 4,
    "start_time": "2022-09-27T18:30:02.399Z"
   },
   {
    "duration": 13,
    "start_time": "2022-09-27T18:30:02.405Z"
   },
   {
    "duration": 214,
    "start_time": "2022-09-27T18:30:02.419Z"
   },
   {
    "duration": 2558,
    "start_time": "2022-09-27T18:30:02.635Z"
   },
   {
    "duration": 0,
    "start_time": "2022-09-27T18:30:05.195Z"
   },
   {
    "duration": 0,
    "start_time": "2022-09-27T18:30:05.196Z"
   },
   {
    "duration": 802,
    "start_time": "2022-09-27T18:51:11.715Z"
   },
   {
    "duration": 769,
    "start_time": "2022-09-27T18:52:28.901Z"
   },
   {
    "duration": 5,
    "start_time": "2022-09-27T18:52:35.001Z"
   },
   {
    "duration": 5,
    "start_time": "2022-09-27T18:52:51.397Z"
   },
   {
    "duration": 6,
    "start_time": "2022-09-27T18:52:55.212Z"
   },
   {
    "duration": 5,
    "start_time": "2022-09-27T18:53:00.584Z"
   },
   {
    "duration": 5,
    "start_time": "2022-09-27T18:53:04.979Z"
   },
   {
    "duration": 195,
    "start_time": "2022-09-27T18:53:49.668Z"
   },
   {
    "duration": 195,
    "start_time": "2022-09-27T18:54:04.701Z"
   },
   {
    "duration": 194,
    "start_time": "2022-09-27T18:54:45.880Z"
   },
   {
    "duration": 210,
    "start_time": "2022-09-27T18:54:58.973Z"
   },
   {
    "duration": 196,
    "start_time": "2022-09-27T18:56:18.764Z"
   },
   {
    "duration": 200,
    "start_time": "2022-09-27T18:56:33.333Z"
   },
   {
    "duration": 179,
    "start_time": "2022-09-27T18:56:47.521Z"
   },
   {
    "duration": 175,
    "start_time": "2022-09-27T18:58:55.643Z"
   },
   {
    "duration": 187,
    "start_time": "2022-09-27T18:59:04.721Z"
   },
   {
    "duration": 49,
    "start_time": "2022-09-28T10:50:51.087Z"
   },
   {
    "duration": 502,
    "start_time": "2022-09-28T10:50:58.793Z"
   },
   {
    "duration": 20,
    "start_time": "2022-09-28T10:50:59.297Z"
   },
   {
    "duration": 18,
    "start_time": "2022-09-28T10:50:59.318Z"
   },
   {
    "duration": 13,
    "start_time": "2022-09-28T10:50:59.338Z"
   },
   {
    "duration": 34,
    "start_time": "2022-09-28T10:50:59.352Z"
   },
   {
    "duration": 4,
    "start_time": "2022-09-28T10:50:59.388Z"
   },
   {
    "duration": 13,
    "start_time": "2022-09-28T10:50:59.393Z"
   },
   {
    "duration": 4,
    "start_time": "2022-09-28T10:50:59.408Z"
   },
   {
    "duration": 10,
    "start_time": "2022-09-28T10:50:59.426Z"
   },
   {
    "duration": 5,
    "start_time": "2022-09-28T10:50:59.439Z"
   },
   {
    "duration": 35,
    "start_time": "2022-09-28T10:50:59.446Z"
   },
   {
    "duration": 8,
    "start_time": "2022-09-28T10:50:59.482Z"
   },
   {
    "duration": 3,
    "start_time": "2022-09-28T10:50:59.492Z"
   },
   {
    "duration": 24,
    "start_time": "2022-09-28T10:50:59.497Z"
   },
   {
    "duration": 21,
    "start_time": "2022-09-28T10:50:59.527Z"
   },
   {
    "duration": 16,
    "start_time": "2022-09-28T10:50:59.549Z"
   },
   {
    "duration": 3,
    "start_time": "2022-09-28T10:50:59.567Z"
   },
   {
    "duration": 14,
    "start_time": "2022-09-28T10:50:59.571Z"
   },
   {
    "duration": 5,
    "start_time": "2022-09-28T10:50:59.586Z"
   },
   {
    "duration": 4,
    "start_time": "2022-09-28T10:50:59.592Z"
   },
   {
    "duration": 32,
    "start_time": "2022-09-28T10:50:59.598Z"
   },
   {
    "duration": 201,
    "start_time": "2022-09-28T10:50:59.632Z"
   },
   {
    "duration": 21,
    "start_time": "2022-09-28T10:50:59.835Z"
   },
   {
    "duration": 11,
    "start_time": "2022-09-28T10:50:59.858Z"
   },
   {
    "duration": 25,
    "start_time": "2022-09-28T10:50:59.870Z"
   },
   {
    "duration": 64,
    "start_time": "2022-09-28T10:52:14.239Z"
   },
   {
    "duration": 13,
    "start_time": "2022-09-28T10:55:17.501Z"
   },
   {
    "duration": 28,
    "start_time": "2022-09-28T10:55:45.591Z"
   },
   {
    "duration": 30,
    "start_time": "2022-09-28T10:56:21.439Z"
   },
   {
    "duration": 28,
    "start_time": "2022-09-28T10:56:54.787Z"
   },
   {
    "duration": 25,
    "start_time": "2022-09-28T10:57:14.320Z"
   },
   {
    "duration": 205,
    "start_time": "2022-09-28T10:58:44.780Z"
   },
   {
    "duration": 196,
    "start_time": "2022-09-28T10:59:02.415Z"
   },
   {
    "duration": 261,
    "start_time": "2022-09-28T10:59:10.875Z"
   },
   {
    "duration": 200,
    "start_time": "2022-09-28T10:59:46.556Z"
   },
   {
    "duration": 189,
    "start_time": "2022-09-28T11:08:04.992Z"
   },
   {
    "duration": 218,
    "start_time": "2022-09-28T11:08:40.516Z"
   },
   {
    "duration": 1545,
    "start_time": "2022-09-28T11:09:51.869Z"
   },
   {
    "duration": 1530,
    "start_time": "2022-09-28T11:12:31.106Z"
   },
   {
    "duration": 1475,
    "start_time": "2022-09-28T11:12:33.772Z"
   },
   {
    "duration": 195,
    "start_time": "2022-09-28T11:13:10.288Z"
   },
   {
    "duration": 202,
    "start_time": "2022-09-28T11:16:47.938Z"
   },
   {
    "duration": 94,
    "start_time": "2022-09-28T11:17:03.580Z"
   },
   {
    "duration": 203,
    "start_time": "2022-09-28T11:17:10.661Z"
   },
   {
    "duration": 232,
    "start_time": "2022-09-28T11:17:33.734Z"
   },
   {
    "duration": 230,
    "start_time": "2022-09-28T11:17:53.800Z"
   },
   {
    "duration": 200,
    "start_time": "2022-09-28T11:18:08.318Z"
   },
   {
    "duration": 26,
    "start_time": "2022-09-28T11:21:43.719Z"
   },
   {
    "duration": 24,
    "start_time": "2022-09-28T11:22:20.794Z"
   },
   {
    "duration": 18,
    "start_time": "2022-09-28T11:22:32.061Z"
   },
   {
    "duration": 22,
    "start_time": "2022-09-28T11:22:48.510Z"
   },
   {
    "duration": 12,
    "start_time": "2022-09-28T11:26:21.315Z"
   },
   {
    "duration": 79,
    "start_time": "2022-09-28T11:28:04.565Z"
   },
   {
    "duration": 13,
    "start_time": "2022-09-28T11:28:11.444Z"
   },
   {
    "duration": 14,
    "start_time": "2022-09-28T11:28:20.383Z"
   },
   {
    "duration": 44,
    "start_time": "2022-09-28T11:28:51.292Z"
   },
   {
    "duration": 22,
    "start_time": "2022-09-28T11:29:04.414Z"
   },
   {
    "duration": 91,
    "start_time": "2022-09-28T11:32:54.404Z"
   },
   {
    "duration": 25,
    "start_time": "2022-09-28T11:39:49.412Z"
   },
   {
    "duration": 428,
    "start_time": "2022-09-28T11:39:57.860Z"
   },
   {
    "duration": 20,
    "start_time": "2022-09-28T11:39:58.290Z"
   },
   {
    "duration": 21,
    "start_time": "2022-09-28T11:39:58.312Z"
   },
   {
    "duration": 8,
    "start_time": "2022-09-28T11:39:58.335Z"
   },
   {
    "duration": 28,
    "start_time": "2022-09-28T11:39:58.345Z"
   },
   {
    "duration": 3,
    "start_time": "2022-09-28T11:39:58.375Z"
   },
   {
    "duration": 12,
    "start_time": "2022-09-28T11:39:58.379Z"
   },
   {
    "duration": 4,
    "start_time": "2022-09-28T11:39:58.393Z"
   },
   {
    "duration": 8,
    "start_time": "2022-09-28T11:39:58.398Z"
   },
   {
    "duration": 17,
    "start_time": "2022-09-28T11:39:58.408Z"
   },
   {
    "duration": 41,
    "start_time": "2022-09-28T11:39:58.426Z"
   },
   {
    "duration": 9,
    "start_time": "2022-09-28T11:39:58.468Z"
   },
   {
    "duration": 5,
    "start_time": "2022-09-28T11:39:58.478Z"
   },
   {
    "duration": 13,
    "start_time": "2022-09-28T11:39:58.484Z"
   },
   {
    "duration": 31,
    "start_time": "2022-09-28T11:39:58.499Z"
   },
   {
    "duration": 16,
    "start_time": "2022-09-28T11:39:58.532Z"
   },
   {
    "duration": 3,
    "start_time": "2022-09-28T11:39:58.550Z"
   },
   {
    "duration": 15,
    "start_time": "2022-09-28T11:39:58.555Z"
   },
   {
    "duration": 16,
    "start_time": "2022-09-28T11:39:58.571Z"
   },
   {
    "duration": 4,
    "start_time": "2022-09-28T11:39:58.589Z"
   },
   {
    "duration": 11,
    "start_time": "2022-09-28T11:39:58.594Z"
   },
   {
    "duration": 86,
    "start_time": "2022-09-28T11:39:58.606Z"
   },
   {
    "duration": 0,
    "start_time": "2022-09-28T11:39:58.693Z"
   },
   {
    "duration": 0,
    "start_time": "2022-09-28T11:39:58.694Z"
   },
   {
    "duration": 0,
    "start_time": "2022-09-28T11:39:58.695Z"
   },
   {
    "duration": 26,
    "start_time": "2022-09-28T11:40:24.803Z"
   },
   {
    "duration": 27,
    "start_time": "2022-09-28T11:40:39.420Z"
   },
   {
    "duration": 127,
    "start_time": "2022-09-28T11:40:59.066Z"
   },
   {
    "duration": 151,
    "start_time": "2022-09-28T11:41:11.247Z"
   },
   {
    "duration": 121,
    "start_time": "2022-09-28T11:44:20.825Z"
   },
   {
    "duration": 87,
    "start_time": "2022-09-28T11:44:42.720Z"
   },
   {
    "duration": 18,
    "start_time": "2022-09-28T11:44:48.041Z"
   },
   {
    "duration": 22,
    "start_time": "2022-09-28T11:49:26.057Z"
   },
   {
    "duration": 20,
    "start_time": "2022-09-28T11:49:53.994Z"
   },
   {
    "duration": 20,
    "start_time": "2022-09-28T11:50:02.066Z"
   },
   {
    "duration": 28,
    "start_time": "2022-09-28T11:51:51.976Z"
   },
   {
    "duration": 38,
    "start_time": "2022-09-28T11:51:58.099Z"
   },
   {
    "duration": 109,
    "start_time": "2022-09-28T11:52:19.333Z"
   },
   {
    "duration": 20,
    "start_time": "2022-09-28T11:52:31.883Z"
   },
   {
    "duration": 24,
    "start_time": "2022-09-28T11:53:25.794Z"
   },
   {
    "duration": 21,
    "start_time": "2022-09-28T11:53:35.116Z"
   },
   {
    "duration": 22,
    "start_time": "2022-09-28T11:53:44.287Z"
   },
   {
    "duration": 20,
    "start_time": "2022-09-28T11:53:50.684Z"
   },
   {
    "duration": 47,
    "start_time": "2022-09-28T14:05:53.276Z"
   },
   {
    "duration": 701,
    "start_time": "2022-09-28T14:05:59.957Z"
   },
   {
    "duration": 22,
    "start_time": "2022-09-28T14:06:00.660Z"
   },
   {
    "duration": 60,
    "start_time": "2022-09-28T14:06:00.683Z"
   },
   {
    "duration": 37,
    "start_time": "2022-09-28T14:06:00.746Z"
   },
   {
    "duration": 88,
    "start_time": "2022-09-28T14:06:00.785Z"
   },
   {
    "duration": 3,
    "start_time": "2022-09-28T14:06:00.875Z"
   },
   {
    "duration": 46,
    "start_time": "2022-09-28T14:06:00.880Z"
   },
   {
    "duration": 39,
    "start_time": "2022-09-28T14:06:00.927Z"
   },
   {
    "duration": 71,
    "start_time": "2022-09-28T14:06:00.968Z"
   },
   {
    "duration": 40,
    "start_time": "2022-09-28T14:06:01.042Z"
   },
   {
    "duration": 57,
    "start_time": "2022-09-28T14:06:01.084Z"
   },
   {
    "duration": 10,
    "start_time": "2022-09-28T14:06:01.142Z"
   },
   {
    "duration": 49,
    "start_time": "2022-09-28T14:06:01.154Z"
   },
   {
    "duration": 61,
    "start_time": "2022-09-28T14:06:01.204Z"
   },
   {
    "duration": 45,
    "start_time": "2022-09-28T14:06:01.267Z"
   },
   {
    "duration": 28,
    "start_time": "2022-09-28T14:06:01.314Z"
   },
   {
    "duration": 30,
    "start_time": "2022-09-28T14:06:01.344Z"
   },
   {
    "duration": 36,
    "start_time": "2022-09-28T14:06:01.376Z"
   },
   {
    "duration": 45,
    "start_time": "2022-09-28T14:06:01.414Z"
   },
   {
    "duration": 24,
    "start_time": "2022-09-28T14:06:01.461Z"
   },
   {
    "duration": 33,
    "start_time": "2022-09-28T14:06:01.486Z"
   },
   {
    "duration": 42,
    "start_time": "2022-09-28T14:06:01.521Z"
   },
   {
    "duration": 25,
    "start_time": "2022-09-28T14:06:01.565Z"
   },
   {
    "duration": 3,
    "start_time": "2022-09-28T14:06:01.591Z"
   },
   {
    "duration": 68,
    "start_time": "2022-09-28T14:06:01.596Z"
   },
   {
    "duration": 22,
    "start_time": "2022-09-28T14:13:19.860Z"
   },
   {
    "duration": 30,
    "start_time": "2022-09-28T14:14:32.283Z"
   },
   {
    "duration": 24,
    "start_time": "2022-09-28T14:15:31.339Z"
   },
   {
    "duration": 22,
    "start_time": "2022-09-28T14:16:56.908Z"
   },
   {
    "duration": 23,
    "start_time": "2022-09-28T14:18:50.462Z"
   },
   {
    "duration": 22,
    "start_time": "2022-09-28T14:18:54.221Z"
   },
   {
    "duration": 23,
    "start_time": "2022-09-28T14:18:57.213Z"
   },
   {
    "duration": 24,
    "start_time": "2022-09-28T15:45:45.418Z"
   },
   {
    "duration": 21,
    "start_time": "2022-09-28T15:45:54.043Z"
   },
   {
    "duration": 23,
    "start_time": "2022-09-28T15:46:00.683Z"
   },
   {
    "duration": 21,
    "start_time": "2022-09-28T15:46:08.271Z"
   },
   {
    "duration": 7,
    "start_time": "2022-09-28T15:46:12.526Z"
   },
   {
    "duration": 24,
    "start_time": "2022-09-28T15:47:59.003Z"
   },
   {
    "duration": 31,
    "start_time": "2022-09-28T16:06:23.392Z"
   },
   {
    "duration": 21,
    "start_time": "2022-09-28T16:06:26.073Z"
   },
   {
    "duration": 60,
    "start_time": "2022-09-30T05:23:41.096Z"
   },
   {
    "duration": 76,
    "start_time": "2022-09-30T05:23:54.048Z"
   },
   {
    "duration": 839,
    "start_time": "2022-09-30T05:24:03.567Z"
   },
   {
    "duration": 22,
    "start_time": "2022-09-30T05:24:04.412Z"
   },
   {
    "duration": 14,
    "start_time": "2022-09-30T05:24:04.435Z"
   },
   {
    "duration": 11,
    "start_time": "2022-09-30T05:24:04.451Z"
   },
   {
    "duration": 52,
    "start_time": "2022-09-30T05:24:04.463Z"
   },
   {
    "duration": 4,
    "start_time": "2022-09-30T05:24:04.516Z"
   },
   {
    "duration": 11,
    "start_time": "2022-09-30T05:24:04.522Z"
   },
   {
    "duration": 4,
    "start_time": "2022-09-30T05:24:04.534Z"
   },
   {
    "duration": 9,
    "start_time": "2022-09-30T05:24:04.540Z"
   },
   {
    "duration": 3,
    "start_time": "2022-09-30T05:24:04.552Z"
   },
   {
    "duration": 69,
    "start_time": "2022-09-30T05:24:04.557Z"
   },
   {
    "duration": 9,
    "start_time": "2022-09-30T05:24:04.627Z"
   },
   {
    "duration": 4,
    "start_time": "2022-09-30T05:24:04.638Z"
   },
   {
    "duration": 13,
    "start_time": "2022-09-30T05:24:04.643Z"
   },
   {
    "duration": 42,
    "start_time": "2022-09-30T05:24:04.658Z"
   },
   {
    "duration": 22,
    "start_time": "2022-09-30T05:24:04.702Z"
   },
   {
    "duration": 3,
    "start_time": "2022-09-30T05:24:04.726Z"
   },
   {
    "duration": 12,
    "start_time": "2022-09-30T05:24:04.730Z"
   },
   {
    "duration": 6,
    "start_time": "2022-09-30T05:24:04.743Z"
   },
   {
    "duration": 7,
    "start_time": "2022-09-30T05:24:04.750Z"
   },
   {
    "duration": 41,
    "start_time": "2022-09-30T05:24:04.759Z"
   },
   {
    "duration": 29,
    "start_time": "2022-09-30T05:24:04.802Z"
   },
   {
    "duration": 23,
    "start_time": "2022-09-30T05:24:04.833Z"
   },
   {
    "duration": 48,
    "start_time": "2022-09-30T05:24:04.857Z"
   },
   {
    "duration": 26,
    "start_time": "2022-09-30T05:24:04.909Z"
   },
   {
    "duration": 49,
    "start_time": "2022-09-30T05:24:04.937Z"
   }
  ],
  "colab": {
   "name": "dpp_template_part2.ipynb",
   "provenance": []
  },
  "kernelspec": {
   "display_name": "Python 3 (ipykernel)",
   "language": "python",
   "name": "python3"
  },
  "language_info": {
   "codemirror_mode": {
    "name": "ipython",
    "version": 3
   },
   "file_extension": ".py",
   "mimetype": "text/x-python",
   "name": "python",
   "nbconvert_exporter": "python",
   "pygments_lexer": "ipython3",
   "version": "3.9.16"
  },
  "toc": {
   "base_numbering": 1,
   "nav_menu": {},
   "number_sections": true,
   "sideBar": true,
   "skip_h1_title": true,
   "title_cell": "Table of Contents",
   "title_sidebar": "Contents",
   "toc_cell": false,
   "toc_position": {
    "height": "calc(100% - 180px)",
    "left": "10px",
    "top": "150px",
    "width": "165px"
   },
   "toc_section_display": true,
   "toc_window_display": true
  }
 },
 "nbformat": 4,
 "nbformat_minor": 5
}
